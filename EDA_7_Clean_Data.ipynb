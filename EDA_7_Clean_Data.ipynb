{
 "metadata": {
  "language_info": {
   "codemirror_mode": {
    "name": "ipython",
    "version": 3
   },
   "file_extension": ".py",
   "mimetype": "text/x-python",
   "name": "python",
   "nbconvert_exporter": "python",
   "pygments_lexer": "ipython3",
   "version": "3.8.5"
  },
  "orig_nbformat": 2,
  "kernelspec": {
   "name": "python385jvsc74a57bd0b97710d494ffeb654d41d16f65990d28edf229515e751f1ea393dba413e87e78",
   "display_name": "Python 3.8.5 64-bit"
  },
  "metadata": {
   "interpreter": {
    "hash": "b97710d494ffeb654d41d16f65990d28edf229515e751f1ea393dba413e87e78"
   }
  }
 },
 "nbformat": 4,
 "nbformat_minor": 2,
 "cells": [
  {
   "source": [
    "### Clean the data\n",
    "\n",
    "So far we took the original data without cleaning it from outliners - like some very highly payed, white & male managers of the bank.\n",
    "\n",
    "This shall be done here. All the other EDA notebooks then may be run again to use their calculations on the new shrinked data."
   ],
   "cell_type": "markdown",
   "metadata": {}
  },
  {
   "cell_type": "code",
   "execution_count": 7,
   "metadata": {},
   "outputs": [],
   "source": [
    "import pandas as pd"
   ]
  },
  {
   "cell_type": "code",
   "execution_count": 8,
   "metadata": {},
   "outputs": [],
   "source": [
    "%store -r df"
   ]
  },
  {
   "cell_type": "code",
   "execution_count": null,
   "metadata": {},
   "outputs": [],
   "source": []
  },
  {
   "cell_type": "code",
   "execution_count": 9,
   "metadata": {},
   "outputs": [
    {
     "output_type": "execute_result",
     "data": {
      "text/plain": [
       "              SALARY        EDUC      SALBEGIN      GENDER    MINORITY  \\\n",
       "count     474.000000  474.000000    474.000000  474.000000  474.000000   \n",
       "mean    34419.567511   13.491561  17016.086498    0.544304    0.219409   \n",
       "std     17075.661465    2.884846   7870.638154    0.498559    0.414284   \n",
       "min     15750.000000    8.000000   9000.000000    0.000000    0.000000   \n",
       "25%     24000.000000   12.000000  12487.500000    0.000000    0.000000   \n",
       "50%     28875.000000   12.000000  15000.000000    1.000000    0.000000   \n",
       "75%     36937.500000   15.000000  17490.000000    1.000000    0.000000   \n",
       "max    135000.000000   21.000000  79980.000000    1.000000    1.000000   \n",
       "\n",
       "           JOBCAT  SOCIODEMOGRAPHY  \n",
       "count  474.000000       474.000000  \n",
       "mean     1.411392         0.983122  \n",
       "std      0.773201         0.998799  \n",
       "min      1.000000         0.000000  \n",
       "25%      1.000000         0.000000  \n",
       "50%      1.000000         1.000000  \n",
       "75%      1.000000         1.000000  \n",
       "max      3.000000         3.000000  "
      ],
      "text/html": "<div>\n<style scoped>\n    .dataframe tbody tr th:only-of-type {\n        vertical-align: middle;\n    }\n\n    .dataframe tbody tr th {\n        vertical-align: top;\n    }\n\n    .dataframe thead th {\n        text-align: right;\n    }\n</style>\n<table border=\"1\" class=\"dataframe\">\n  <thead>\n    <tr style=\"text-align: right;\">\n      <th></th>\n      <th>SALARY</th>\n      <th>EDUC</th>\n      <th>SALBEGIN</th>\n      <th>GENDER</th>\n      <th>MINORITY</th>\n      <th>JOBCAT</th>\n      <th>SOCIODEMOGRAPHY</th>\n    </tr>\n  </thead>\n  <tbody>\n    <tr>\n      <th>count</th>\n      <td>474.000000</td>\n      <td>474.000000</td>\n      <td>474.000000</td>\n      <td>474.000000</td>\n      <td>474.000000</td>\n      <td>474.000000</td>\n      <td>474.000000</td>\n    </tr>\n    <tr>\n      <th>mean</th>\n      <td>34419.567511</td>\n      <td>13.491561</td>\n      <td>17016.086498</td>\n      <td>0.544304</td>\n      <td>0.219409</td>\n      <td>1.411392</td>\n      <td>0.983122</td>\n    </tr>\n    <tr>\n      <th>std</th>\n      <td>17075.661465</td>\n      <td>2.884846</td>\n      <td>7870.638154</td>\n      <td>0.498559</td>\n      <td>0.414284</td>\n      <td>0.773201</td>\n      <td>0.998799</td>\n    </tr>\n    <tr>\n      <th>min</th>\n      <td>15750.000000</td>\n      <td>8.000000</td>\n      <td>9000.000000</td>\n      <td>0.000000</td>\n      <td>0.000000</td>\n      <td>1.000000</td>\n      <td>0.000000</td>\n    </tr>\n    <tr>\n      <th>25%</th>\n      <td>24000.000000</td>\n      <td>12.000000</td>\n      <td>12487.500000</td>\n      <td>0.000000</td>\n      <td>0.000000</td>\n      <td>1.000000</td>\n      <td>0.000000</td>\n    </tr>\n    <tr>\n      <th>50%</th>\n      <td>28875.000000</td>\n      <td>12.000000</td>\n      <td>15000.000000</td>\n      <td>1.000000</td>\n      <td>0.000000</td>\n      <td>1.000000</td>\n      <td>1.000000</td>\n    </tr>\n    <tr>\n      <th>75%</th>\n      <td>36937.500000</td>\n      <td>15.000000</td>\n      <td>17490.000000</td>\n      <td>1.000000</td>\n      <td>0.000000</td>\n      <td>1.000000</td>\n      <td>1.000000</td>\n    </tr>\n    <tr>\n      <th>max</th>\n      <td>135000.000000</td>\n      <td>21.000000</td>\n      <td>79980.000000</td>\n      <td>1.000000</td>\n      <td>1.000000</td>\n      <td>3.000000</td>\n      <td>3.000000</td>\n    </tr>\n  </tbody>\n</table>\n</div>"
     },
     "metadata": {},
     "execution_count": 9
    }
   ],
   "source": [
    "df.describe()"
   ]
  },
  {
   "source": [
    "To remove the data from outliners we use the InterQuartileRange.\n",
    "\n",
    "Therefore we calculated the 25% quartile and the 75% quartile.\n",
    "\n",
    "Then we use the difference of those two - the IQR.\n",
    "\n",
    "And in the end we remove all salaries which are out of the 1.5 range of the IQR below the 25% and above the 75% quartile."
   ],
   "cell_type": "markdown",
   "metadata": {}
  },
  {
   "cell_type": "code",
   "execution_count": 10,
   "metadata": {},
   "outputs": [],
   "source": [
    "q1 = df.describe().loc[\"75%\", \"SALARY\"]\n",
    "q3 = df.describe().loc[\"25%\", \"SALARY\"]\n",
    "\n",
    "iqr = q1 - q3\n",
    "\n",
    "mask = (q1 - 1.5*iqr) <= df[\"SALARY\"]\n",
    "mask &= df[\"SALARY\"] <= (q3 + 1.5*iqr)"
   ]
  },
  {
   "cell_type": "code",
   "execution_count": 11,
   "metadata": {},
   "outputs": [],
   "source": [
    "df = df[mask]"
   ]
  },
  {
   "cell_type": "code",
   "execution_count": 12,
   "metadata": {},
   "outputs": [
    {
     "output_type": "stream",
     "name": "stdout",
     "text": [
      "Stored 'df' (DataFrame)\n"
     ]
    }
   ],
   "source": [
    "%store df"
   ]
  },
  {
   "cell_type": "code",
   "execution_count": null,
   "metadata": {},
   "outputs": [],
   "source": []
  },
  {
   "cell_type": "code",
   "execution_count": null,
   "metadata": {},
   "outputs": [],
   "source": []
  }
 ]
}