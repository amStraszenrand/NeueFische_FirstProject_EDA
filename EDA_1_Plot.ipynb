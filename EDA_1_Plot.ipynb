{
 "metadata": {
  "language_info": {
   "codemirror_mode": {
    "name": "ipython",
    "version": 3
   },
   "file_extension": ".py",
   "mimetype": "text/x-python",
   "name": "python",
   "nbconvert_exporter": "python",
   "pygments_lexer": "ipython3",
   "version": "3.8.5"
  },
  "orig_nbformat": 2,
  "kernelspec": {
   "name": "python385jvsc74a57bd0b97710d494ffeb654d41d16f65990d28edf229515e751f1ea393dba413e87e78",
   "display_name": "Python 3.8.5 64-bit ('.venv')"
  },
  "metadata": {
   "interpreter": {
    "hash": "b97710d494ffeb654d41d16f65990d28edf229515e751f1ea393dba413e87e78"
   }
  }
 },
 "nbformat": 4,
 "nbformat_minor": 2,
 "cells": [
  {
   "source": [
    "### Have a first look at the data - plots of the data"
   ],
   "cell_type": "markdown",
   "metadata": {}
  },
  {
   "cell_type": "code",
   "execution_count": 1,
   "metadata": {},
   "outputs": [],
   "source": [
    "import seaborn as sns\n",
    "import matplotlib.pyplot as plt\n",
    "import plotly.express as plx\n",
    "from plotly.subplots import make_subplots\n",
    "import plotly.graph_objects as go\n",
    "import altair as alt"
   ]
  },
  {
   "source": [
    "Load the data from the memory store."
   ],
   "cell_type": "markdown",
   "metadata": {}
  },
  {
   "cell_type": "code",
   "execution_count": 2,
   "metadata": {},
   "outputs": [],
   "source": [
    "%store -r df"
   ]
  },
  {
   "source": [
    "First we may want to know which amounts of salary appear how often amongst the 474 observations."
   ],
   "cell_type": "markdown",
   "metadata": {}
  },
  {
   "cell_type": "code",
   "execution_count": 3,
   "metadata": {},
   "outputs": [
    {
     "output_type": "display_data",
     "data": {
      "application/vnd.plotly.v1+json": {
       "config": {
        "plotlyServerURL": "https://plot.ly"
       },
       "data": [
        {
         "alignmentgroup": "True",
         "bingroup": "x",
         "hovertemplate": "SALARY=%{x}<br>count=%{y}<extra></extra>",
         "legendgroup": "",
         "marker": {
          "color": "#636efa"
         },
         "name": "",
         "offsetgroup": "",
         "orientation": "v",
         "showlegend": false,
         "type": "histogram",
         "x": [
          57000,
          40200,
          21450,
          21900,
          45000,
          32100,
          36000,
          21900,
          27900,
          24000,
          30300,
          28350,
          27750,
          35100,
          27300,
          40800,
          46000,
          103750,
          42300,
          26250,
          38850,
          21750,
          24000,
          16950,
          21150,
          31050,
          60375,
          32550,
          135000,
          31200,
          36150,
          110625,
          42000,
          92000,
          81250,
          31350,
          29100,
          31350,
          36000,
          19200,
          23550,
          35100,
          23250,
          29250,
          30750,
          22350,
          30000,
          30750,
          34800,
          60000,
          35550,
          45150,
          73750,
          25050,
          27000,
          26850,
          33900,
          26400,
          28050,
          30900,
          22500,
          48000,
          55000,
          53125,
          21900,
          78125,
          46000,
          45250,
          56550,
          41100,
          82500,
          54000,
          26400,
          33900,
          24150,
          29250,
          27600,
          22950,
          34800,
          51000,
          24300,
          24750,
          22950,
          25050,
          25950,
          31650,
          24150,
          72500,
          68750,
          16200,
          20100,
          24000,
          25950,
          24600,
          28500,
          30750,
          40200,
          30000,
          22050,
          78250,
          60625,
          39900,
          97000,
          27450,
          31650,
          91250,
          25200,
          21000,
          30450,
          28350,
          30750,
          30750,
          54875,
          37800,
          33450,
          30300,
          31500,
          31650,
          25200,
          37800,
          18750,
          32550,
          33300,
          38550,
          27450,
          24300,
          30750,
          19650,
          68750,
          59375,
          31500,
          27300,
          27000,
          41550,
          26250,
          22200,
          65000,
          30900,
          20100,
          22350,
          35550,
          28500,
          24450,
          16650,
          26700,
          43950,
          23700,
          26550,
          27600,
          25800,
          42300,
          30750,
          26700,
          20850,
          35250,
          26700,
          26550,
          27750,
          25050,
          66000,
          52650,
          45625,
          30900,
          29400,
          33300,
          21900,
          18150,
          46875,
          25500,
          26550,
          26700,
          29850,
          69250,
          31950,
          26250,
          35700,
          28500,
          17100,
          25200,
          24000,
          27450,
          18450,
          39300,
          38850,
          30750,
          37500,
          58750,
          34500,
          36000,
          29100,
          16500,
          19650,
          24750,
          27150,
          26400,
          23100,
          54900,
          70875,
          51250,
          67500,
          29340,
          39600,
          29100,
          33150,
          66750,
          33750,
          27300,
          24000,
          19800,
          30600,
          28950,
          38400,
          30750,
          20400,
          19200,
          30150,
          34620,
          80000,
          25350,
          29850,
          24000,
          27750,
          22350,
          16200,
          21900,
          23250,
          33900,
          25650,
          17250,
          22500,
          40200,
          55500,
          26550,
          50550,
          75000,
          27450,
          22650,
          27300,
          27750,
          54375,
          17400,
          40800,
          23100,
          22500,
          26700,
          24900,
          19650,
          22050,
          25500,
          28200,
          23100,
          25500,
          17100,
          68125,
          30600,
          52125,
          61875,
          21300,
          19650,
          22350,
          23400,
          24300,
          28500,
          19950,
          23400,
          34500,
          18150,
          22350,
          40200,
          28650,
          27750,
          66875,
          30000,
          83750,
          33900,
          56500,
          43000,
          20850,
          24450,
          24750,
          34500,
          27900,
          68125,
          73500,
          30750,
          40050,
          40350,
          38700,
          65000,
          51450,
          35250,
          25950,
          25050,
          26700,
          24000,
          26850,
          23400,
          24600,
          32550,
          26550,
          31500,
          22350,
          35250,
          25800,
          30750,
          30750,
          50000,
          34500,
          26250,
          44875,
          22500,
          25650,
          21300,
          29850,
          34500,
          27750,
          27750,
          48750,
          43410,
          22050,
          22050,
          22500,
          25500,
          29160,
          16800,
          29550,
          26700,
          55000,
          62500,
          27300,
          24450,
          33000,
          37050,
          24450,
          31950,
          47250,
          26100,
          15900,
          23700,
          21750,
          59400,
          24450,
          103500,
          35700,
          22200,
          22950,
          23100,
          56750,
          29100,
          37650,
          27900,
          21150,
          31200,
          20550,
          25950,
          28350,
          17700,
          23550,
          19950,
          29400,
          28800,
          16950,
          35700,
          17400,
          21450,
          24750,
          16950,
          26100,
          28050,
          36600,
          58125,
          21300,
          22500,
          29400,
          27450,
          29850,
          25350,
          15750,
          19650,
          21000,
          27000,
          24000,
          78500,
          20850,
          30000,
          28500,
          65000,
          30150,
          66875,
          24150,
          24450,
          21600,
          27900,
          29100,
          22650,
          20850,
          22950,
          30600,
          20400,
          23850,
          22800,
          20700,
          21300,
          24300,
          19650,
          60000,
          30300,
          61250,
          36000,
          25200,
          16200,
          22800,
          43500,
          30300,
          31950,
          35250,
          37800,
          31200,
          29400,
          70000,
          33900,
          27150,
          22200,
          31350,
          20850,
          33300,
          26250,
          31950,
          30000,
          66250,
          86250,
          30750,
          33540,
          34950,
          40350,
          30270,
          26250,
          32400,
          20400,
          24150,
          23850,
          29700,
          21600,
          24450,
          28050,
          100000,
          49000,
          16350,
          70000,
          55000,
          28500,
          28800,
          24450,
          90625,
          43650,
          75000,
          31650,
          61875,
          21750,
          22500,
          21600,
          34410,
          20700,
          47550,
          33900,
          23400,
          32850,
          55750,
          25200,
          26250,
          26400,
          39150,
          21450,
          29400
         ],
         "xaxis": "x",
         "yaxis": "y"
        }
       ],
       "layout": {
        "barmode": "relative",
        "legend": {
         "tracegroupgap": 0
        },
        "template": {
         "data": {
          "bar": [
           {
            "error_x": {
             "color": "#2a3f5f"
            },
            "error_y": {
             "color": "#2a3f5f"
            },
            "marker": {
             "line": {
              "color": "#E5ECF6",
              "width": 0.5
             }
            },
            "type": "bar"
           }
          ],
          "barpolar": [
           {
            "marker": {
             "line": {
              "color": "#E5ECF6",
              "width": 0.5
             }
            },
            "type": "barpolar"
           }
          ],
          "carpet": [
           {
            "aaxis": {
             "endlinecolor": "#2a3f5f",
             "gridcolor": "white",
             "linecolor": "white",
             "minorgridcolor": "white",
             "startlinecolor": "#2a3f5f"
            },
            "baxis": {
             "endlinecolor": "#2a3f5f",
             "gridcolor": "white",
             "linecolor": "white",
             "minorgridcolor": "white",
             "startlinecolor": "#2a3f5f"
            },
            "type": "carpet"
           }
          ],
          "choropleth": [
           {
            "colorbar": {
             "outlinewidth": 0,
             "ticks": ""
            },
            "type": "choropleth"
           }
          ],
          "contour": [
           {
            "colorbar": {
             "outlinewidth": 0,
             "ticks": ""
            },
            "colorscale": [
             [
              0,
              "#0d0887"
             ],
             [
              0.1111111111111111,
              "#46039f"
             ],
             [
              0.2222222222222222,
              "#7201a8"
             ],
             [
              0.3333333333333333,
              "#9c179e"
             ],
             [
              0.4444444444444444,
              "#bd3786"
             ],
             [
              0.5555555555555556,
              "#d8576b"
             ],
             [
              0.6666666666666666,
              "#ed7953"
             ],
             [
              0.7777777777777778,
              "#fb9f3a"
             ],
             [
              0.8888888888888888,
              "#fdca26"
             ],
             [
              1,
              "#f0f921"
             ]
            ],
            "type": "contour"
           }
          ],
          "contourcarpet": [
           {
            "colorbar": {
             "outlinewidth": 0,
             "ticks": ""
            },
            "type": "contourcarpet"
           }
          ],
          "heatmap": [
           {
            "colorbar": {
             "outlinewidth": 0,
             "ticks": ""
            },
            "colorscale": [
             [
              0,
              "#0d0887"
             ],
             [
              0.1111111111111111,
              "#46039f"
             ],
             [
              0.2222222222222222,
              "#7201a8"
             ],
             [
              0.3333333333333333,
              "#9c179e"
             ],
             [
              0.4444444444444444,
              "#bd3786"
             ],
             [
              0.5555555555555556,
              "#d8576b"
             ],
             [
              0.6666666666666666,
              "#ed7953"
             ],
             [
              0.7777777777777778,
              "#fb9f3a"
             ],
             [
              0.8888888888888888,
              "#fdca26"
             ],
             [
              1,
              "#f0f921"
             ]
            ],
            "type": "heatmap"
           }
          ],
          "heatmapgl": [
           {
            "colorbar": {
             "outlinewidth": 0,
             "ticks": ""
            },
            "colorscale": [
             [
              0,
              "#0d0887"
             ],
             [
              0.1111111111111111,
              "#46039f"
             ],
             [
              0.2222222222222222,
              "#7201a8"
             ],
             [
              0.3333333333333333,
              "#9c179e"
             ],
             [
              0.4444444444444444,
              "#bd3786"
             ],
             [
              0.5555555555555556,
              "#d8576b"
             ],
             [
              0.6666666666666666,
              "#ed7953"
             ],
             [
              0.7777777777777778,
              "#fb9f3a"
             ],
             [
              0.8888888888888888,
              "#fdca26"
             ],
             [
              1,
              "#f0f921"
             ]
            ],
            "type": "heatmapgl"
           }
          ],
          "histogram": [
           {
            "marker": {
             "colorbar": {
              "outlinewidth": 0,
              "ticks": ""
             }
            },
            "type": "histogram"
           }
          ],
          "histogram2d": [
           {
            "colorbar": {
             "outlinewidth": 0,
             "ticks": ""
            },
            "colorscale": [
             [
              0,
              "#0d0887"
             ],
             [
              0.1111111111111111,
              "#46039f"
             ],
             [
              0.2222222222222222,
              "#7201a8"
             ],
             [
              0.3333333333333333,
              "#9c179e"
             ],
             [
              0.4444444444444444,
              "#bd3786"
             ],
             [
              0.5555555555555556,
              "#d8576b"
             ],
             [
              0.6666666666666666,
              "#ed7953"
             ],
             [
              0.7777777777777778,
              "#fb9f3a"
             ],
             [
              0.8888888888888888,
              "#fdca26"
             ],
             [
              1,
              "#f0f921"
             ]
            ],
            "type": "histogram2d"
           }
          ],
          "histogram2dcontour": [
           {
            "colorbar": {
             "outlinewidth": 0,
             "ticks": ""
            },
            "colorscale": [
             [
              0,
              "#0d0887"
             ],
             [
              0.1111111111111111,
              "#46039f"
             ],
             [
              0.2222222222222222,
              "#7201a8"
             ],
             [
              0.3333333333333333,
              "#9c179e"
             ],
             [
              0.4444444444444444,
              "#bd3786"
             ],
             [
              0.5555555555555556,
              "#d8576b"
             ],
             [
              0.6666666666666666,
              "#ed7953"
             ],
             [
              0.7777777777777778,
              "#fb9f3a"
             ],
             [
              0.8888888888888888,
              "#fdca26"
             ],
             [
              1,
              "#f0f921"
             ]
            ],
            "type": "histogram2dcontour"
           }
          ],
          "mesh3d": [
           {
            "colorbar": {
             "outlinewidth": 0,
             "ticks": ""
            },
            "type": "mesh3d"
           }
          ],
          "parcoords": [
           {
            "line": {
             "colorbar": {
              "outlinewidth": 0,
              "ticks": ""
             }
            },
            "type": "parcoords"
           }
          ],
          "pie": [
           {
            "automargin": true,
            "type": "pie"
           }
          ],
          "scatter": [
           {
            "marker": {
             "colorbar": {
              "outlinewidth": 0,
              "ticks": ""
             }
            },
            "type": "scatter"
           }
          ],
          "scatter3d": [
           {
            "line": {
             "colorbar": {
              "outlinewidth": 0,
              "ticks": ""
             }
            },
            "marker": {
             "colorbar": {
              "outlinewidth": 0,
              "ticks": ""
             }
            },
            "type": "scatter3d"
           }
          ],
          "scattercarpet": [
           {
            "marker": {
             "colorbar": {
              "outlinewidth": 0,
              "ticks": ""
             }
            },
            "type": "scattercarpet"
           }
          ],
          "scattergeo": [
           {
            "marker": {
             "colorbar": {
              "outlinewidth": 0,
              "ticks": ""
             }
            },
            "type": "scattergeo"
           }
          ],
          "scattergl": [
           {
            "marker": {
             "colorbar": {
              "outlinewidth": 0,
              "ticks": ""
             }
            },
            "type": "scattergl"
           }
          ],
          "scattermapbox": [
           {
            "marker": {
             "colorbar": {
              "outlinewidth": 0,
              "ticks": ""
             }
            },
            "type": "scattermapbox"
           }
          ],
          "scatterpolar": [
           {
            "marker": {
             "colorbar": {
              "outlinewidth": 0,
              "ticks": ""
             }
            },
            "type": "scatterpolar"
           }
          ],
          "scatterpolargl": [
           {
            "marker": {
             "colorbar": {
              "outlinewidth": 0,
              "ticks": ""
             }
            },
            "type": "scatterpolargl"
           }
          ],
          "scatterternary": [
           {
            "marker": {
             "colorbar": {
              "outlinewidth": 0,
              "ticks": ""
             }
            },
            "type": "scatterternary"
           }
          ],
          "surface": [
           {
            "colorbar": {
             "outlinewidth": 0,
             "ticks": ""
            },
            "colorscale": [
             [
              0,
              "#0d0887"
             ],
             [
              0.1111111111111111,
              "#46039f"
             ],
             [
              0.2222222222222222,
              "#7201a8"
             ],
             [
              0.3333333333333333,
              "#9c179e"
             ],
             [
              0.4444444444444444,
              "#bd3786"
             ],
             [
              0.5555555555555556,
              "#d8576b"
             ],
             [
              0.6666666666666666,
              "#ed7953"
             ],
             [
              0.7777777777777778,
              "#fb9f3a"
             ],
             [
              0.8888888888888888,
              "#fdca26"
             ],
             [
              1,
              "#f0f921"
             ]
            ],
            "type": "surface"
           }
          ],
          "table": [
           {
            "cells": {
             "fill": {
              "color": "#EBF0F8"
             },
             "line": {
              "color": "white"
             }
            },
            "header": {
             "fill": {
              "color": "#C8D4E3"
             },
             "line": {
              "color": "white"
             }
            },
            "type": "table"
           }
          ]
         },
         "layout": {
          "annotationdefaults": {
           "arrowcolor": "#2a3f5f",
           "arrowhead": 0,
           "arrowwidth": 1
          },
          "autotypenumbers": "strict",
          "coloraxis": {
           "colorbar": {
            "outlinewidth": 0,
            "ticks": ""
           }
          },
          "colorscale": {
           "diverging": [
            [
             0,
             "#8e0152"
            ],
            [
             0.1,
             "#c51b7d"
            ],
            [
             0.2,
             "#de77ae"
            ],
            [
             0.3,
             "#f1b6da"
            ],
            [
             0.4,
             "#fde0ef"
            ],
            [
             0.5,
             "#f7f7f7"
            ],
            [
             0.6,
             "#e6f5d0"
            ],
            [
             0.7,
             "#b8e186"
            ],
            [
             0.8,
             "#7fbc41"
            ],
            [
             0.9,
             "#4d9221"
            ],
            [
             1,
             "#276419"
            ]
           ],
           "sequential": [
            [
             0,
             "#0d0887"
            ],
            [
             0.1111111111111111,
             "#46039f"
            ],
            [
             0.2222222222222222,
             "#7201a8"
            ],
            [
             0.3333333333333333,
             "#9c179e"
            ],
            [
             0.4444444444444444,
             "#bd3786"
            ],
            [
             0.5555555555555556,
             "#d8576b"
            ],
            [
             0.6666666666666666,
             "#ed7953"
            ],
            [
             0.7777777777777778,
             "#fb9f3a"
            ],
            [
             0.8888888888888888,
             "#fdca26"
            ],
            [
             1,
             "#f0f921"
            ]
           ],
           "sequentialminus": [
            [
             0,
             "#0d0887"
            ],
            [
             0.1111111111111111,
             "#46039f"
            ],
            [
             0.2222222222222222,
             "#7201a8"
            ],
            [
             0.3333333333333333,
             "#9c179e"
            ],
            [
             0.4444444444444444,
             "#bd3786"
            ],
            [
             0.5555555555555556,
             "#d8576b"
            ],
            [
             0.6666666666666666,
             "#ed7953"
            ],
            [
             0.7777777777777778,
             "#fb9f3a"
            ],
            [
             0.8888888888888888,
             "#fdca26"
            ],
            [
             1,
             "#f0f921"
            ]
           ]
          },
          "colorway": [
           "#636efa",
           "#EF553B",
           "#00cc96",
           "#ab63fa",
           "#FFA15A",
           "#19d3f3",
           "#FF6692",
           "#B6E880",
           "#FF97FF",
           "#FECB52"
          ],
          "font": {
           "color": "#2a3f5f"
          },
          "geo": {
           "bgcolor": "white",
           "lakecolor": "white",
           "landcolor": "#E5ECF6",
           "showlakes": true,
           "showland": true,
           "subunitcolor": "white"
          },
          "hoverlabel": {
           "align": "left"
          },
          "hovermode": "closest",
          "mapbox": {
           "style": "light"
          },
          "paper_bgcolor": "white",
          "plot_bgcolor": "#E5ECF6",
          "polar": {
           "angularaxis": {
            "gridcolor": "white",
            "linecolor": "white",
            "ticks": ""
           },
           "bgcolor": "#E5ECF6",
           "radialaxis": {
            "gridcolor": "white",
            "linecolor": "white",
            "ticks": ""
           }
          },
          "scene": {
           "xaxis": {
            "backgroundcolor": "#E5ECF6",
            "gridcolor": "white",
            "gridwidth": 2,
            "linecolor": "white",
            "showbackground": true,
            "ticks": "",
            "zerolinecolor": "white"
           },
           "yaxis": {
            "backgroundcolor": "#E5ECF6",
            "gridcolor": "white",
            "gridwidth": 2,
            "linecolor": "white",
            "showbackground": true,
            "ticks": "",
            "zerolinecolor": "white"
           },
           "zaxis": {
            "backgroundcolor": "#E5ECF6",
            "gridcolor": "white",
            "gridwidth": 2,
            "linecolor": "white",
            "showbackground": true,
            "ticks": "",
            "zerolinecolor": "white"
           }
          },
          "shapedefaults": {
           "line": {
            "color": "#2a3f5f"
           }
          },
          "ternary": {
           "aaxis": {
            "gridcolor": "white",
            "linecolor": "white",
            "ticks": ""
           },
           "baxis": {
            "gridcolor": "white",
            "linecolor": "white",
            "ticks": ""
           },
           "bgcolor": "#E5ECF6",
           "caxis": {
            "gridcolor": "white",
            "linecolor": "white",
            "ticks": ""
           }
          },
          "title": {
           "x": 0.05
          },
          "xaxis": {
           "automargin": true,
           "gridcolor": "white",
           "linecolor": "white",
           "ticks": "",
           "title": {
            "standoff": 15
           },
           "zerolinecolor": "white",
           "zerolinewidth": 2
          },
          "yaxis": {
           "automargin": true,
           "gridcolor": "white",
           "linecolor": "white",
           "ticks": "",
           "title": {
            "standoff": 15
           },
           "zerolinecolor": "white",
           "zerolinewidth": 2
          }
         }
        },
        "title": {
         "text": "Distribution of salaries"
        },
        "xaxis": {
         "anchor": "y",
         "domain": [
          0,
          1
         ],
         "title": {
          "text": "SALARY"
         }
        },
        "yaxis": {
         "anchor": "x",
         "domain": [
          0,
          1
         ],
         "title": {
          "text": "count"
         }
        }
       }
      }
     },
     "metadata": {}
    }
   ],
   "source": [
    "fig = plx.histogram(df,\n",
    "    x = \"SALARY\",\n",
    "    title = \"Distribution of salaries\"\n",
    ")\n",
    "fig = go.Figure(fig)\n",
    "#fig.write_image(\"plots/distribution_of_salaries.png\")\n",
    "fig.show()"
   ]
  },
  {
   "cell_type": "code",
   "execution_count": 4,
   "metadata": {},
   "outputs": [
    {
     "output_type": "display_data",
     "data": {
      "application/vnd.plotly.v1+json": {
       "config": {
        "plotlyServerURL": "https://plot.ly"
       },
       "data": [
        {
         "alignmentgroup": "True",
         "box": {
          "visible": false
         },
         "hovertemplate": "SALARY=%{y}<extra></extra>",
         "legendgroup": "",
         "marker": {
          "color": "#636efa"
         },
         "name": "",
         "offsetgroup": "",
         "orientation": "v",
         "scalegroup": "True",
         "showlegend": false,
         "type": "violin",
         "x0": " ",
         "xaxis": "x",
         "y": [
          57000,
          40200,
          21450,
          21900,
          45000,
          32100,
          36000,
          21900,
          27900,
          24000,
          30300,
          28350,
          27750,
          35100,
          27300,
          40800,
          46000,
          103750,
          42300,
          26250,
          38850,
          21750,
          24000,
          16950,
          21150,
          31050,
          60375,
          32550,
          135000,
          31200,
          36150,
          110625,
          42000,
          92000,
          81250,
          31350,
          29100,
          31350,
          36000,
          19200,
          23550,
          35100,
          23250,
          29250,
          30750,
          22350,
          30000,
          30750,
          34800,
          60000,
          35550,
          45150,
          73750,
          25050,
          27000,
          26850,
          33900,
          26400,
          28050,
          30900,
          22500,
          48000,
          55000,
          53125,
          21900,
          78125,
          46000,
          45250,
          56550,
          41100,
          82500,
          54000,
          26400,
          33900,
          24150,
          29250,
          27600,
          22950,
          34800,
          51000,
          24300,
          24750,
          22950,
          25050,
          25950,
          31650,
          24150,
          72500,
          68750,
          16200,
          20100,
          24000,
          25950,
          24600,
          28500,
          30750,
          40200,
          30000,
          22050,
          78250,
          60625,
          39900,
          97000,
          27450,
          31650,
          91250,
          25200,
          21000,
          30450,
          28350,
          30750,
          30750,
          54875,
          37800,
          33450,
          30300,
          31500,
          31650,
          25200,
          37800,
          18750,
          32550,
          33300,
          38550,
          27450,
          24300,
          30750,
          19650,
          68750,
          59375,
          31500,
          27300,
          27000,
          41550,
          26250,
          22200,
          65000,
          30900,
          20100,
          22350,
          35550,
          28500,
          24450,
          16650,
          26700,
          43950,
          23700,
          26550,
          27600,
          25800,
          42300,
          30750,
          26700,
          20850,
          35250,
          26700,
          26550,
          27750,
          25050,
          66000,
          52650,
          45625,
          30900,
          29400,
          33300,
          21900,
          18150,
          46875,
          25500,
          26550,
          26700,
          29850,
          69250,
          31950,
          26250,
          35700,
          28500,
          17100,
          25200,
          24000,
          27450,
          18450,
          39300,
          38850,
          30750,
          37500,
          58750,
          34500,
          36000,
          29100,
          16500,
          19650,
          24750,
          27150,
          26400,
          23100,
          54900,
          70875,
          51250,
          67500,
          29340,
          39600,
          29100,
          33150,
          66750,
          33750,
          27300,
          24000,
          19800,
          30600,
          28950,
          38400,
          30750,
          20400,
          19200,
          30150,
          34620,
          80000,
          25350,
          29850,
          24000,
          27750,
          22350,
          16200,
          21900,
          23250,
          33900,
          25650,
          17250,
          22500,
          40200,
          55500,
          26550,
          50550,
          75000,
          27450,
          22650,
          27300,
          27750,
          54375,
          17400,
          40800,
          23100,
          22500,
          26700,
          24900,
          19650,
          22050,
          25500,
          28200,
          23100,
          25500,
          17100,
          68125,
          30600,
          52125,
          61875,
          21300,
          19650,
          22350,
          23400,
          24300,
          28500,
          19950,
          23400,
          34500,
          18150,
          22350,
          40200,
          28650,
          27750,
          66875,
          30000,
          83750,
          33900,
          56500,
          43000,
          20850,
          24450,
          24750,
          34500,
          27900,
          68125,
          73500,
          30750,
          40050,
          40350,
          38700,
          65000,
          51450,
          35250,
          25950,
          25050,
          26700,
          24000,
          26850,
          23400,
          24600,
          32550,
          26550,
          31500,
          22350,
          35250,
          25800,
          30750,
          30750,
          50000,
          34500,
          26250,
          44875,
          22500,
          25650,
          21300,
          29850,
          34500,
          27750,
          27750,
          48750,
          43410,
          22050,
          22050,
          22500,
          25500,
          29160,
          16800,
          29550,
          26700,
          55000,
          62500,
          27300,
          24450,
          33000,
          37050,
          24450,
          31950,
          47250,
          26100,
          15900,
          23700,
          21750,
          59400,
          24450,
          103500,
          35700,
          22200,
          22950,
          23100,
          56750,
          29100,
          37650,
          27900,
          21150,
          31200,
          20550,
          25950,
          28350,
          17700,
          23550,
          19950,
          29400,
          28800,
          16950,
          35700,
          17400,
          21450,
          24750,
          16950,
          26100,
          28050,
          36600,
          58125,
          21300,
          22500,
          29400,
          27450,
          29850,
          25350,
          15750,
          19650,
          21000,
          27000,
          24000,
          78500,
          20850,
          30000,
          28500,
          65000,
          30150,
          66875,
          24150,
          24450,
          21600,
          27900,
          29100,
          22650,
          20850,
          22950,
          30600,
          20400,
          23850,
          22800,
          20700,
          21300,
          24300,
          19650,
          60000,
          30300,
          61250,
          36000,
          25200,
          16200,
          22800,
          43500,
          30300,
          31950,
          35250,
          37800,
          31200,
          29400,
          70000,
          33900,
          27150,
          22200,
          31350,
          20850,
          33300,
          26250,
          31950,
          30000,
          66250,
          86250,
          30750,
          33540,
          34950,
          40350,
          30270,
          26250,
          32400,
          20400,
          24150,
          23850,
          29700,
          21600,
          24450,
          28050,
          100000,
          49000,
          16350,
          70000,
          55000,
          28500,
          28800,
          24450,
          90625,
          43650,
          75000,
          31650,
          61875,
          21750,
          22500,
          21600,
          34410,
          20700,
          47550,
          33900,
          23400,
          32850,
          55750,
          25200,
          26250,
          26400,
          39150,
          21450,
          29400
         ],
         "y0": " ",
         "yaxis": "y"
        }
       ],
       "layout": {
        "legend": {
         "tracegroupgap": 0
        },
        "margin": {
         "t": 60
        },
        "template": {
         "data": {
          "bar": [
           {
            "error_x": {
             "color": "#2a3f5f"
            },
            "error_y": {
             "color": "#2a3f5f"
            },
            "marker": {
             "line": {
              "color": "#E5ECF6",
              "width": 0.5
             }
            },
            "type": "bar"
           }
          ],
          "barpolar": [
           {
            "marker": {
             "line": {
              "color": "#E5ECF6",
              "width": 0.5
             }
            },
            "type": "barpolar"
           }
          ],
          "carpet": [
           {
            "aaxis": {
             "endlinecolor": "#2a3f5f",
             "gridcolor": "white",
             "linecolor": "white",
             "minorgridcolor": "white",
             "startlinecolor": "#2a3f5f"
            },
            "baxis": {
             "endlinecolor": "#2a3f5f",
             "gridcolor": "white",
             "linecolor": "white",
             "minorgridcolor": "white",
             "startlinecolor": "#2a3f5f"
            },
            "type": "carpet"
           }
          ],
          "choropleth": [
           {
            "colorbar": {
             "outlinewidth": 0,
             "ticks": ""
            },
            "type": "choropleth"
           }
          ],
          "contour": [
           {
            "colorbar": {
             "outlinewidth": 0,
             "ticks": ""
            },
            "colorscale": [
             [
              0,
              "#0d0887"
             ],
             [
              0.1111111111111111,
              "#46039f"
             ],
             [
              0.2222222222222222,
              "#7201a8"
             ],
             [
              0.3333333333333333,
              "#9c179e"
             ],
             [
              0.4444444444444444,
              "#bd3786"
             ],
             [
              0.5555555555555556,
              "#d8576b"
             ],
             [
              0.6666666666666666,
              "#ed7953"
             ],
             [
              0.7777777777777778,
              "#fb9f3a"
             ],
             [
              0.8888888888888888,
              "#fdca26"
             ],
             [
              1,
              "#f0f921"
             ]
            ],
            "type": "contour"
           }
          ],
          "contourcarpet": [
           {
            "colorbar": {
             "outlinewidth": 0,
             "ticks": ""
            },
            "type": "contourcarpet"
           }
          ],
          "heatmap": [
           {
            "colorbar": {
             "outlinewidth": 0,
             "ticks": ""
            },
            "colorscale": [
             [
              0,
              "#0d0887"
             ],
             [
              0.1111111111111111,
              "#46039f"
             ],
             [
              0.2222222222222222,
              "#7201a8"
             ],
             [
              0.3333333333333333,
              "#9c179e"
             ],
             [
              0.4444444444444444,
              "#bd3786"
             ],
             [
              0.5555555555555556,
              "#d8576b"
             ],
             [
              0.6666666666666666,
              "#ed7953"
             ],
             [
              0.7777777777777778,
              "#fb9f3a"
             ],
             [
              0.8888888888888888,
              "#fdca26"
             ],
             [
              1,
              "#f0f921"
             ]
            ],
            "type": "heatmap"
           }
          ],
          "heatmapgl": [
           {
            "colorbar": {
             "outlinewidth": 0,
             "ticks": ""
            },
            "colorscale": [
             [
              0,
              "#0d0887"
             ],
             [
              0.1111111111111111,
              "#46039f"
             ],
             [
              0.2222222222222222,
              "#7201a8"
             ],
             [
              0.3333333333333333,
              "#9c179e"
             ],
             [
              0.4444444444444444,
              "#bd3786"
             ],
             [
              0.5555555555555556,
              "#d8576b"
             ],
             [
              0.6666666666666666,
              "#ed7953"
             ],
             [
              0.7777777777777778,
              "#fb9f3a"
             ],
             [
              0.8888888888888888,
              "#fdca26"
             ],
             [
              1,
              "#f0f921"
             ]
            ],
            "type": "heatmapgl"
           }
          ],
          "histogram": [
           {
            "marker": {
             "colorbar": {
              "outlinewidth": 0,
              "ticks": ""
             }
            },
            "type": "histogram"
           }
          ],
          "histogram2d": [
           {
            "colorbar": {
             "outlinewidth": 0,
             "ticks": ""
            },
            "colorscale": [
             [
              0,
              "#0d0887"
             ],
             [
              0.1111111111111111,
              "#46039f"
             ],
             [
              0.2222222222222222,
              "#7201a8"
             ],
             [
              0.3333333333333333,
              "#9c179e"
             ],
             [
              0.4444444444444444,
              "#bd3786"
             ],
             [
              0.5555555555555556,
              "#d8576b"
             ],
             [
              0.6666666666666666,
              "#ed7953"
             ],
             [
              0.7777777777777778,
              "#fb9f3a"
             ],
             [
              0.8888888888888888,
              "#fdca26"
             ],
             [
              1,
              "#f0f921"
             ]
            ],
            "type": "histogram2d"
           }
          ],
          "histogram2dcontour": [
           {
            "colorbar": {
             "outlinewidth": 0,
             "ticks": ""
            },
            "colorscale": [
             [
              0,
              "#0d0887"
             ],
             [
              0.1111111111111111,
              "#46039f"
             ],
             [
              0.2222222222222222,
              "#7201a8"
             ],
             [
              0.3333333333333333,
              "#9c179e"
             ],
             [
              0.4444444444444444,
              "#bd3786"
             ],
             [
              0.5555555555555556,
              "#d8576b"
             ],
             [
              0.6666666666666666,
              "#ed7953"
             ],
             [
              0.7777777777777778,
              "#fb9f3a"
             ],
             [
              0.8888888888888888,
              "#fdca26"
             ],
             [
              1,
              "#f0f921"
             ]
            ],
            "type": "histogram2dcontour"
           }
          ],
          "mesh3d": [
           {
            "colorbar": {
             "outlinewidth": 0,
             "ticks": ""
            },
            "type": "mesh3d"
           }
          ],
          "parcoords": [
           {
            "line": {
             "colorbar": {
              "outlinewidth": 0,
              "ticks": ""
             }
            },
            "type": "parcoords"
           }
          ],
          "pie": [
           {
            "automargin": true,
            "type": "pie"
           }
          ],
          "scatter": [
           {
            "marker": {
             "colorbar": {
              "outlinewidth": 0,
              "ticks": ""
             }
            },
            "type": "scatter"
           }
          ],
          "scatter3d": [
           {
            "line": {
             "colorbar": {
              "outlinewidth": 0,
              "ticks": ""
             }
            },
            "marker": {
             "colorbar": {
              "outlinewidth": 0,
              "ticks": ""
             }
            },
            "type": "scatter3d"
           }
          ],
          "scattercarpet": [
           {
            "marker": {
             "colorbar": {
              "outlinewidth": 0,
              "ticks": ""
             }
            },
            "type": "scattercarpet"
           }
          ],
          "scattergeo": [
           {
            "marker": {
             "colorbar": {
              "outlinewidth": 0,
              "ticks": ""
             }
            },
            "type": "scattergeo"
           }
          ],
          "scattergl": [
           {
            "marker": {
             "colorbar": {
              "outlinewidth": 0,
              "ticks": ""
             }
            },
            "type": "scattergl"
           }
          ],
          "scattermapbox": [
           {
            "marker": {
             "colorbar": {
              "outlinewidth": 0,
              "ticks": ""
             }
            },
            "type": "scattermapbox"
           }
          ],
          "scatterpolar": [
           {
            "marker": {
             "colorbar": {
              "outlinewidth": 0,
              "ticks": ""
             }
            },
            "type": "scatterpolar"
           }
          ],
          "scatterpolargl": [
           {
            "marker": {
             "colorbar": {
              "outlinewidth": 0,
              "ticks": ""
             }
            },
            "type": "scatterpolargl"
           }
          ],
          "scatterternary": [
           {
            "marker": {
             "colorbar": {
              "outlinewidth": 0,
              "ticks": ""
             }
            },
            "type": "scatterternary"
           }
          ],
          "surface": [
           {
            "colorbar": {
             "outlinewidth": 0,
             "ticks": ""
            },
            "colorscale": [
             [
              0,
              "#0d0887"
             ],
             [
              0.1111111111111111,
              "#46039f"
             ],
             [
              0.2222222222222222,
              "#7201a8"
             ],
             [
              0.3333333333333333,
              "#9c179e"
             ],
             [
              0.4444444444444444,
              "#bd3786"
             ],
             [
              0.5555555555555556,
              "#d8576b"
             ],
             [
              0.6666666666666666,
              "#ed7953"
             ],
             [
              0.7777777777777778,
              "#fb9f3a"
             ],
             [
              0.8888888888888888,
              "#fdca26"
             ],
             [
              1,
              "#f0f921"
             ]
            ],
            "type": "surface"
           }
          ],
          "table": [
           {
            "cells": {
             "fill": {
              "color": "#EBF0F8"
             },
             "line": {
              "color": "white"
             }
            },
            "header": {
             "fill": {
              "color": "#C8D4E3"
             },
             "line": {
              "color": "white"
             }
            },
            "type": "table"
           }
          ]
         },
         "layout": {
          "annotationdefaults": {
           "arrowcolor": "#2a3f5f",
           "arrowhead": 0,
           "arrowwidth": 1
          },
          "autotypenumbers": "strict",
          "coloraxis": {
           "colorbar": {
            "outlinewidth": 0,
            "ticks": ""
           }
          },
          "colorscale": {
           "diverging": [
            [
             0,
             "#8e0152"
            ],
            [
             0.1,
             "#c51b7d"
            ],
            [
             0.2,
             "#de77ae"
            ],
            [
             0.3,
             "#f1b6da"
            ],
            [
             0.4,
             "#fde0ef"
            ],
            [
             0.5,
             "#f7f7f7"
            ],
            [
             0.6,
             "#e6f5d0"
            ],
            [
             0.7,
             "#b8e186"
            ],
            [
             0.8,
             "#7fbc41"
            ],
            [
             0.9,
             "#4d9221"
            ],
            [
             1,
             "#276419"
            ]
           ],
           "sequential": [
            [
             0,
             "#0d0887"
            ],
            [
             0.1111111111111111,
             "#46039f"
            ],
            [
             0.2222222222222222,
             "#7201a8"
            ],
            [
             0.3333333333333333,
             "#9c179e"
            ],
            [
             0.4444444444444444,
             "#bd3786"
            ],
            [
             0.5555555555555556,
             "#d8576b"
            ],
            [
             0.6666666666666666,
             "#ed7953"
            ],
            [
             0.7777777777777778,
             "#fb9f3a"
            ],
            [
             0.8888888888888888,
             "#fdca26"
            ],
            [
             1,
             "#f0f921"
            ]
           ],
           "sequentialminus": [
            [
             0,
             "#0d0887"
            ],
            [
             0.1111111111111111,
             "#46039f"
            ],
            [
             0.2222222222222222,
             "#7201a8"
            ],
            [
             0.3333333333333333,
             "#9c179e"
            ],
            [
             0.4444444444444444,
             "#bd3786"
            ],
            [
             0.5555555555555556,
             "#d8576b"
            ],
            [
             0.6666666666666666,
             "#ed7953"
            ],
            [
             0.7777777777777778,
             "#fb9f3a"
            ],
            [
             0.8888888888888888,
             "#fdca26"
            ],
            [
             1,
             "#f0f921"
            ]
           ]
          },
          "colorway": [
           "#636efa",
           "#EF553B",
           "#00cc96",
           "#ab63fa",
           "#FFA15A",
           "#19d3f3",
           "#FF6692",
           "#B6E880",
           "#FF97FF",
           "#FECB52"
          ],
          "font": {
           "color": "#2a3f5f"
          },
          "geo": {
           "bgcolor": "white",
           "lakecolor": "white",
           "landcolor": "#E5ECF6",
           "showlakes": true,
           "showland": true,
           "subunitcolor": "white"
          },
          "hoverlabel": {
           "align": "left"
          },
          "hovermode": "closest",
          "mapbox": {
           "style": "light"
          },
          "paper_bgcolor": "white",
          "plot_bgcolor": "#E5ECF6",
          "polar": {
           "angularaxis": {
            "gridcolor": "white",
            "linecolor": "white",
            "ticks": ""
           },
           "bgcolor": "#E5ECF6",
           "radialaxis": {
            "gridcolor": "white",
            "linecolor": "white",
            "ticks": ""
           }
          },
          "scene": {
           "xaxis": {
            "backgroundcolor": "#E5ECF6",
            "gridcolor": "white",
            "gridwidth": 2,
            "linecolor": "white",
            "showbackground": true,
            "ticks": "",
            "zerolinecolor": "white"
           },
           "yaxis": {
            "backgroundcolor": "#E5ECF6",
            "gridcolor": "white",
            "gridwidth": 2,
            "linecolor": "white",
            "showbackground": true,
            "ticks": "",
            "zerolinecolor": "white"
           },
           "zaxis": {
            "backgroundcolor": "#E5ECF6",
            "gridcolor": "white",
            "gridwidth": 2,
            "linecolor": "white",
            "showbackground": true,
            "ticks": "",
            "zerolinecolor": "white"
           }
          },
          "shapedefaults": {
           "line": {
            "color": "#2a3f5f"
           }
          },
          "ternary": {
           "aaxis": {
            "gridcolor": "white",
            "linecolor": "white",
            "ticks": ""
           },
           "baxis": {
            "gridcolor": "white",
            "linecolor": "white",
            "ticks": ""
           },
           "bgcolor": "#E5ECF6",
           "caxis": {
            "gridcolor": "white",
            "linecolor": "white",
            "ticks": ""
           }
          },
          "title": {
           "x": 0.05
          },
          "xaxis": {
           "automargin": true,
           "gridcolor": "white",
           "linecolor": "white",
           "ticks": "",
           "title": {
            "standoff": 15
           },
           "zerolinecolor": "white",
           "zerolinewidth": 2
          },
          "yaxis": {
           "automargin": true,
           "gridcolor": "white",
           "linecolor": "white",
           "ticks": "",
           "title": {
            "standoff": 15
           },
           "zerolinecolor": "white",
           "zerolinewidth": 2
          }
         }
        },
        "violinmode": "group",
        "xaxis": {
         "anchor": "y",
         "domain": [
          0,
          1
         ]
        },
        "yaxis": {
         "anchor": "x",
         "domain": [
          0,
          1
         ],
         "title": {
          "text": "SALARY"
         }
        }
       }
      }
     },
     "metadata": {}
    }
   ],
   "source": [
    "fig = plx.violin(df, y=\"SALARY\")\n",
    "fig.show()"
   ]
  },
  {
   "source": [
    "The salary is concentrated between 20.000,- and 40.000 (propbably $) with the median at 28.875,- and the 75% quartile of the observations having a salary less than 37.000,-.\n",
    "\n",
    "But there are some salaries which outline this by the factor 3-4 and grossing up to 135.000,-"
   ],
   "cell_type": "markdown",
   "metadata": {}
  },
  {
   "source": [
    "To have first overview on the categorial features (`gender`, `minority`, `job category`) and their relations to the target variable we can use the pairplot method of seaborn."
   ],
   "cell_type": "markdown",
   "metadata": {}
  },
  {
   "cell_type": "code",
   "execution_count": 5,
   "metadata": {},
   "outputs": [
    {
     "output_type": "execute_result",
     "data": {
      "text/plain": [
       "<seaborn.axisgrid.PairGrid at 0x13182d850>"
      ]
     },
     "metadata": {},
     "execution_count": 5
    },
    {
     "output_type": "display_data",
     "data": {
      "text/plain": "<Figure size 144x360 with 0 Axes>"
     },
     "metadata": {}
    },
    {
     "output_type": "display_data",
     "data": {
      "text/plain": "<Figure size 1296x432 with 3 Axes>",
      "image/svg+xml": "<?xml version=\"1.0\" encoding=\"utf-8\" standalone=\"no\"?>\n<!DOCTYPE svg PUBLIC \"-//W3C//DTD SVG 1.1//EN\"\n  \"http://www.w3.org/Graphics/SVG/1.1/DTD/svg11.dtd\">\n<svg height=\"426.090459pt\" version=\"1.1\" viewBox=\"0 0 1274.519007 426.090459\" width=\"1274.519007pt\" xmlns=\"http://www.w3.org/2000/svg\" xmlns:xlink=\"http://www.w3.org/1999/xlink\">\n <metadata>\n  <rdf:RDF xmlns:cc=\"http://creativecommons.org/ns#\" xmlns:dc=\"http://purl.org/dc/elements/1.1/\" xmlns:rdf=\"http://www.w3.org/1999/02/22-rdf-syntax-ns#\">\n   <cc:Work>\n    <dc:type rdf:resource=\"http://purl.org/dc/dcmitype/StillImage\"/>\n    <dc:date>2021-06-07T12:49:21.765974</dc:date>\n    <dc:format>image/svg+xml</dc:format>\n    <dc:creator>\n     <cc:Agent>\n      <dc:title>Matplotlib v3.4.2, https://matplotlib.org/</dc:title>\n     </cc:Agent>\n    </dc:creator>\n   </cc:Work>\n  </rdf:RDF>\n </metadata>\n <defs>\n  <style type=\"text/css\">*{stroke-linecap:butt;stroke-linejoin:round;}</style>\n </defs>\n <g id=\"figure_1\">\n  <g id=\"patch_1\">\n   <path d=\"M 0 426.090459 \nL 1274.519007 426.090459 \nL 1274.519007 0 \nL 0 0 \nz\n\" style=\"fill:none;\"/>\n  </g>\n  <g id=\"axes_1\">\n   <g id=\"patch_2\">\n    <path d=\"M 66.053125 388.432647 \nL 458.299754 388.432647 \nL 458.299754 8.20932 \nL 66.053125 8.20932 \nz\n\" style=\"fill:#ffffff;\"/>\n   </g>\n   <g id=\"PathCollection_1\">\n    <defs>\n     <path d=\"M 0 3 \nC 0.795609 3 1.55874 2.683901 2.12132 2.12132 \nC 2.683901 1.55874 3 0.795609 3 0 \nC 3 -0.795609 2.683901 -1.55874 2.12132 -2.12132 \nC 1.55874 -2.683901 0.795609 -3 0 -3 \nC -0.795609 -3 -1.55874 -2.683901 -2.12132 -2.12132 \nC -2.683901 -1.55874 -3 -0.795609 -3 0 \nC -3 0.795609 -2.683901 1.55874 -2.12132 2.12132 \nC -1.55874 2.683901 -0.795609 3 0 3 \nz\n\" id=\"m63ad077948\" style=\"stroke:#ffffff;stroke-width:0.48;\"/>\n    </defs>\n    <g clip-path=\"url(#p2b758ea994)\">\n     <use style=\"fill:#1f77b4;stroke:#ffffff;stroke-width:0.48;\" x=\"83.882517\" xlink:href=\"#m63ad077948\" y=\"251.582685\"/>\n     <use style=\"fill:#1f77b4;stroke:#ffffff;stroke-width:0.48;\" x=\"262.176439\" xlink:href=\"#m63ad077948\" y=\"300.279097\"/>\n     <use style=\"fill:#1f77b4;stroke:#ffffff;stroke-width:0.48;\" x=\"262.176439\" xlink:href=\"#m63ad077948\" y=\"354.627771\"/>\n     <use style=\"fill:#1f77b4;stroke:#ffffff;stroke-width:0.48;\" x=\"262.176439\" xlink:href=\"#m63ad077948\" y=\"353.323403\"/>\n     <use style=\"fill:#1f77b4;stroke:#ffffff;stroke-width:0.48;\" x=\"262.176439\" xlink:href=\"#m63ad077948\" y=\"286.365836\"/>\n     <use style=\"fill:#1f77b4;stroke:#ffffff;stroke-width:0.48;\" x=\"262.176439\" xlink:href=\"#m63ad077948\" y=\"323.757724\"/>\n     <use style=\"fill:#1f77b4;stroke:#ffffff;stroke-width:0.48;\" x=\"262.176439\" xlink:href=\"#m63ad077948\" y=\"312.4532\"/>\n     <use style=\"fill:#1f77b4;stroke:#ffffff;stroke-width:0.48;\" x=\"262.176439\" xlink:href=\"#m63ad077948\" y=\"353.323403\"/>\n     <use style=\"fill:#1f77b4;stroke:#ffffff;stroke-width:0.48;\" x=\"262.176439\" xlink:href=\"#m63ad077948\" y=\"335.931827\"/>\n     <use style=\"fill:#1f77b4;stroke:#ffffff;stroke-width:0.48;\" x=\"262.176439\" xlink:href=\"#m63ad077948\" y=\"347.236352\"/>\n     <use style=\"fill:#1f77b4;stroke:#ffffff;stroke-width:0.48;\" x=\"262.176439\" xlink:href=\"#m63ad077948\" y=\"328.975197\"/>\n     <use style=\"fill:#1f77b4;stroke:#ffffff;stroke-width:0.48;\" x=\"262.176439\" xlink:href=\"#m63ad077948\" y=\"334.627459\"/>\n     <use style=\"fill:#1f77b4;stroke:#ffffff;stroke-width:0.48;\" x=\"262.176439\" xlink:href=\"#m63ad077948\" y=\"336.366617\"/>\n     <use style=\"fill:#1f77b4;stroke:#ffffff;stroke-width:0.48;\" x=\"262.176439\" xlink:href=\"#m63ad077948\" y=\"315.061936\"/>\n     <use style=\"fill:#1f77b4;stroke:#ffffff;stroke-width:0.48;\" x=\"262.176439\" xlink:href=\"#m63ad077948\" y=\"337.670985\"/>\n     <use style=\"fill:#1f77b4;stroke:#ffffff;stroke-width:0.48;\" x=\"262.176439\" xlink:href=\"#m63ad077948\" y=\"298.539939\"/>\n     <use style=\"fill:#1f77b4;stroke:#ffffff;stroke-width:0.48;\" x=\"262.176439\" xlink:href=\"#m63ad077948\" y=\"283.46724\"/>\n     <use style=\"fill:#1f77b4;stroke:#ffffff;stroke-width:0.48;\" x=\"83.882517\" xlink:href=\"#m63ad077948\" y=\"116.073323\"/>\n     <use style=\"fill:#1f77b4;stroke:#ffffff;stroke-width:0.48;\" x=\"262.176439\" xlink:href=\"#m63ad077948\" y=\"294.192045\"/>\n     <use style=\"fill:#1f77b4;stroke:#ffffff;stroke-width:0.48;\" x=\"262.176439\" xlink:href=\"#m63ad077948\" y=\"340.714511\"/>\n     <use style=\"fill:#1f77b4;stroke:#ffffff;stroke-width:0.48;\" x=\"262.176439\" xlink:href=\"#m63ad077948\" y=\"304.192201\"/>\n     <use style=\"fill:#1f77b4;stroke:#ffffff;stroke-width:0.48;\" x=\"262.176439\" xlink:href=\"#m63ad077948\" y=\"353.758193\"/>\n     <use style=\"fill:#1f77b4;stroke:#ffffff;stroke-width:0.48;\" x=\"262.176439\" xlink:href=\"#m63ad077948\" y=\"347.236352\"/>\n     <use style=\"fill:#1f77b4;stroke:#ffffff;stroke-width:0.48;\" x=\"262.176439\" xlink:href=\"#m63ad077948\" y=\"367.671453\"/>\n     <use style=\"fill:#1f77b4;stroke:#ffffff;stroke-width:0.48;\" x=\"262.176439\" xlink:href=\"#m63ad077948\" y=\"355.49735\"/>\n     <use style=\"fill:#1f77b4;stroke:#ffffff;stroke-width:0.48;\" x=\"262.176439\" xlink:href=\"#m63ad077948\" y=\"326.80125\"/>\n     <use style=\"fill:#1f77b4;stroke:#ffffff;stroke-width:0.48;\" x=\"83.882517\" xlink:href=\"#m63ad077948\" y=\"241.799923\"/>\n     <use style=\"fill:#1f77b4;stroke:#ffffff;stroke-width:0.48;\" x=\"262.176439\" xlink:href=\"#m63ad077948\" y=\"322.453356\"/>\n     <use style=\"fill:#1f77b4;stroke:#ffffff;stroke-width:0.48;\" x=\"83.882517\" xlink:href=\"#m63ad077948\" y=\"25.492199\"/>\n     <use style=\"fill:#1f77b4;stroke:#ffffff;stroke-width:0.48;\" x=\"262.176439\" xlink:href=\"#m63ad077948\" y=\"326.366461\"/>\n     <use style=\"fill:#1f77b4;stroke:#ffffff;stroke-width:0.48;\" x=\"262.176439\" xlink:href=\"#m63ad077948\" y=\"312.018411\"/>\n     <use style=\"fill:#1f77b4;stroke:#ffffff;stroke-width:0.48;\" x=\"83.882517\" xlink:href=\"#m63ad077948\" y=\"96.145475\"/>\n     <use style=\"fill:#1f77b4;stroke:#ffffff;stroke-width:0.48;\" x=\"262.176439\" xlink:href=\"#m63ad077948\" y=\"295.061624\"/>\n     <use style=\"fill:#1f77b4;stroke:#ffffff;stroke-width:0.48;\" x=\"83.882517\" xlink:href=\"#m63ad077948\" y=\"150.131825\"/>\n     <use style=\"fill:#1f77b4;stroke:#ffffff;stroke-width:0.48;\" x=\"83.882517\" xlink:href=\"#m63ad077948\" y=\"181.291732\"/>\n     <use style=\"fill:#1f77b4;stroke:#ffffff;stroke-width:0.48;\" x=\"262.176439\" xlink:href=\"#m63ad077948\" y=\"325.931671\"/>\n     <use style=\"fill:#1f77b4;stroke:#ffffff;stroke-width:0.48;\" x=\"262.176439\" xlink:href=\"#m63ad077948\" y=\"332.453512\"/>\n     <use style=\"fill:#1f77b4;stroke:#ffffff;stroke-width:0.48;\" x=\"262.176439\" xlink:href=\"#m63ad077948\" y=\"325.931671\"/>\n     <use style=\"fill:#1f77b4;stroke:#ffffff;stroke-width:0.48;\" x=\"262.176439\" xlink:href=\"#m63ad077948\" y=\"312.4532\"/>\n     <use style=\"fill:#1f77b4;stroke:#ffffff;stroke-width:0.48;\" x=\"262.176439\" xlink:href=\"#m63ad077948\" y=\"361.149612\"/>\n     <use style=\"fill:#1f77b4;stroke:#ffffff;stroke-width:0.48;\" x=\"262.176439\" xlink:href=\"#m63ad077948\" y=\"348.54072\"/>\n     <use style=\"fill:#1f77b4;stroke:#ffffff;stroke-width:0.48;\" x=\"262.176439\" xlink:href=\"#m63ad077948\" y=\"315.061936\"/>\n     <use style=\"fill:#1f77b4;stroke:#ffffff;stroke-width:0.48;\" x=\"262.176439\" xlink:href=\"#m63ad077948\" y=\"349.410299\"/>\n     <use style=\"fill:#1f77b4;stroke:#ffffff;stroke-width:0.48;\" x=\"262.176439\" xlink:href=\"#m63ad077948\" y=\"332.018723\"/>\n     <use style=\"fill:#1f77b4;stroke:#ffffff;stroke-width:0.48;\" x=\"440.470362\" xlink:href=\"#m63ad077948\" y=\"327.670829\"/>\n     <use style=\"fill:#1f77b4;stroke:#ffffff;stroke-width:0.48;\" x=\"262.176439\" xlink:href=\"#m63ad077948\" y=\"352.019035\"/>\n     <use style=\"fill:#1f77b4;stroke:#ffffff;stroke-width:0.48;\" x=\"262.176439\" xlink:href=\"#m63ad077948\" y=\"329.844776\"/>\n     <use style=\"fill:#1f77b4;stroke:#ffffff;stroke-width:0.48;\" x=\"440.470362\" xlink:href=\"#m63ad077948\" y=\"327.670829\"/>\n     <use style=\"fill:#1f77b4;stroke:#ffffff;stroke-width:0.48;\" x=\"262.176439\" xlink:href=\"#m63ad077948\" y=\"315.931515\"/>\n     <use style=\"fill:#1f77b4;stroke:#ffffff;stroke-width:0.48;\" x=\"83.882517\" xlink:href=\"#m63ad077948\" y=\"242.886897\"/>\n     <use style=\"fill:#1f77b4;stroke:#ffffff;stroke-width:0.48;\" x=\"262.176439\" xlink:href=\"#m63ad077948\" y=\"313.757568\"/>\n     <use style=\"fill:#1f77b4;stroke:#ffffff;stroke-width:0.48;\" x=\"262.176439\" xlink:href=\"#m63ad077948\" y=\"285.931047\"/>\n     <use style=\"fill:#1f77b4;stroke:#ffffff;stroke-width:0.48;\" x=\"83.882517\" xlink:href=\"#m63ad077948\" y=\"203.031202\"/>\n     <use style=\"fill:#1f77b4;stroke:#ffffff;stroke-width:0.48;\" x=\"262.176439\" xlink:href=\"#m63ad077948\" y=\"344.192826\"/>\n     <use style=\"fill:#1f77b4;stroke:#ffffff;stroke-width:0.48;\" x=\"262.176439\" xlink:href=\"#m63ad077948\" y=\"338.540564\"/>\n     <use style=\"fill:#1f77b4;stroke:#ffffff;stroke-width:0.48;\" x=\"262.176439\" xlink:href=\"#m63ad077948\" y=\"338.975353\"/>\n     <use style=\"fill:#1f77b4;stroke:#ffffff;stroke-width:0.48;\" x=\"262.176439\" xlink:href=\"#m63ad077948\" y=\"318.540252\"/>\n     <use style=\"fill:#1f77b4;stroke:#ffffff;stroke-width:0.48;\" x=\"262.176439\" xlink:href=\"#m63ad077948\" y=\"340.279721\"/>\n     <use style=\"fill:#1f77b4;stroke:#ffffff;stroke-width:0.48;\" x=\"262.176439\" xlink:href=\"#m63ad077948\" y=\"335.497038\"/>\n     <use style=\"fill:#1f77b4;stroke:#ffffff;stroke-width:0.48;\" x=\"262.176439\" xlink:href=\"#m63ad077948\" y=\"327.236039\"/>\n     <use style=\"fill:#1f77b4;stroke:#ffffff;stroke-width:0.48;\" x=\"262.176439\" xlink:href=\"#m63ad077948\" y=\"351.584246\"/>\n     <use style=\"fill:#1f77b4;stroke:#ffffff;stroke-width:0.48;\" x=\"83.882517\" xlink:href=\"#m63ad077948\" y=\"277.670048\"/>\n     <use style=\"fill:#1f77b4;stroke:#ffffff;stroke-width:0.48;\" x=\"83.882517\" xlink:href=\"#m63ad077948\" y=\"257.379876\"/>\n     <use style=\"fill:#1f77b4;stroke:#ffffff;stroke-width:0.48;\" x=\"83.882517\" xlink:href=\"#m63ad077948\" y=\"262.814744\"/>\n     <use style=\"fill:#1f77b4;stroke:#ffffff;stroke-width:0.48;\" x=\"262.176439\" xlink:href=\"#m63ad077948\" y=\"353.323403\"/>\n     <use style=\"fill:#1f77b4;stroke:#ffffff;stroke-width:0.48;\" x=\"83.882517\" xlink:href=\"#m63ad077948\" y=\"190.349845\"/>\n     <use style=\"fill:#1f77b4;stroke:#ffffff;stroke-width:0.48;\" x=\"83.882517\" xlink:href=\"#m63ad077948\" y=\"283.46724\"/>\n     <use style=\"fill:#1f77b4;stroke:#ffffff;stroke-width:0.48;\" x=\"83.882517\" xlink:href=\"#m63ad077948\" y=\"285.641187\"/>\n     <use style=\"fill:#1f77b4;stroke:#ffffff;stroke-width:0.48;\" x=\"83.882517\" xlink:href=\"#m63ad077948\" y=\"252.887053\"/>\n     <use style=\"fill:#1f77b4;stroke:#ffffff;stroke-width:0.48;\" x=\"262.176439\" xlink:href=\"#m63ad077948\" y=\"297.67036\"/>\n     <use style=\"fill:#1f77b4;stroke:#ffffff;stroke-width:0.48;\" x=\"83.882517\" xlink:href=\"#m63ad077948\" y=\"177.668487\"/>\n     <use style=\"fill:#1f77b4;stroke:#ffffff;stroke-width:0.48;\" x=\"262.176439\" xlink:href=\"#m63ad077948\" y=\"260.278472\"/>\n     <use style=\"fill:#1f77b4;stroke:#ffffff;stroke-width:0.48;\" x=\"262.176439\" xlink:href=\"#m63ad077948\" y=\"340.279721\"/>\n     <use style=\"fill:#1f77b4;stroke:#ffffff;stroke-width:0.48;\" x=\"262.176439\" xlink:href=\"#m63ad077948\" y=\"318.540252\"/>\n     <use style=\"fill:#1f77b4;stroke:#ffffff;stroke-width:0.48;\" x=\"262.176439\" xlink:href=\"#m63ad077948\" y=\"346.801562\"/>\n     <use style=\"fill:#1f77b4;stroke:#ffffff;stroke-width:0.48;\" x=\"262.176439\" xlink:href=\"#m63ad077948\" y=\"332.018723\"/>\n     <use style=\"fill:#1f77b4;stroke:#ffffff;stroke-width:0.48;\" x=\"262.176439\" xlink:href=\"#m63ad077948\" y=\"336.801406\"/>\n     <use style=\"fill:#1f77b4;stroke:#ffffff;stroke-width:0.48;\" x=\"262.176439\" xlink:href=\"#m63ad077948\" y=\"350.279877\"/>\n     <use style=\"fill:#1f77b4;stroke:#ffffff;stroke-width:0.48;\" x=\"262.176439\" xlink:href=\"#m63ad077948\" y=\"315.931515\"/>\n     <use style=\"fill:#1f77b4;stroke:#ffffff;stroke-width:0.48;\" x=\"262.176439\" xlink:href=\"#m63ad077948\" y=\"268.97426\"/>\n     <use style=\"fill:#1f77b4;stroke:#ffffff;stroke-width:0.48;\" x=\"262.176439\" xlink:href=\"#m63ad077948\" y=\"346.366773\"/>\n     <use style=\"fill:#1f77b4;stroke:#ffffff;stroke-width:0.48;\" x=\"262.176439\" xlink:href=\"#m63ad077948\" y=\"345.062405\"/>\n     <use style=\"fill:#1f77b4;stroke:#ffffff;stroke-width:0.48;\" x=\"262.176439\" xlink:href=\"#m63ad077948\" y=\"350.279877\"/>\n     <use style=\"fill:#1f77b4;stroke:#ffffff;stroke-width:0.48;\" x=\"262.176439\" xlink:href=\"#m63ad077948\" y=\"344.192826\"/>\n     <use style=\"fill:#1f77b4;stroke:#ffffff;stroke-width:0.48;\" x=\"262.176439\" xlink:href=\"#m63ad077948\" y=\"341.584089\"/>\n     <use style=\"fill:#1f77b4;stroke:#ffffff;stroke-width:0.48;\" x=\"262.176439\" xlink:href=\"#m63ad077948\" y=\"325.062092\"/>\n     <use style=\"fill:#1f77b4;stroke:#ffffff;stroke-width:0.48;\" x=\"262.176439\" xlink:href=\"#m63ad077948\" y=\"346.801562\"/>\n     <use style=\"fill:#1f77b4;stroke:#ffffff;stroke-width:0.48;\" x=\"83.882517\" xlink:href=\"#m63ad077948\" y=\"206.654447\"/>\n     <use style=\"fill:#1f77b4;stroke:#ffffff;stroke-width:0.48;\" x=\"83.882517\" xlink:href=\"#m63ad077948\" y=\"217.524182\"/>\n     <use style=\"fill:#1f77b4;stroke:#ffffff;stroke-width:0.48;\" x=\"262.176439\" xlink:href=\"#m63ad077948\" y=\"369.8454\"/>\n     <use style=\"fill:#1f77b4;stroke:#ffffff;stroke-width:0.48;\" x=\"262.176439\" xlink:href=\"#m63ad077948\" y=\"358.540876\"/>\n     <use style=\"fill:#1f77b4;stroke:#ffffff;stroke-width:0.48;\" x=\"262.176439\" xlink:href=\"#m63ad077948\" y=\"347.236352\"/>\n     <use style=\"fill:#1f77b4;stroke:#ffffff;stroke-width:0.48;\" x=\"262.176439\" xlink:href=\"#m63ad077948\" y=\"341.584089\"/>\n     <use style=\"fill:#1f77b4;stroke:#ffffff;stroke-width:0.48;\" x=\"262.176439\" xlink:href=\"#m63ad077948\" y=\"345.497194\"/>\n     <use style=\"fill:#1f77b4;stroke:#ffffff;stroke-width:0.48;\" x=\"262.176439\" xlink:href=\"#m63ad077948\" y=\"334.19267\"/>\n     <use style=\"fill:#1f77b4;stroke:#ffffff;stroke-width:0.48;\" x=\"440.470362\" xlink:href=\"#m63ad077948\" y=\"327.670829\"/>\n     <use style=\"fill:#1f77b4;stroke:#ffffff;stroke-width:0.48;\" x=\"262.176439\" xlink:href=\"#m63ad077948\" y=\"300.279097\"/>\n     <use style=\"fill:#1f77b4;stroke:#ffffff;stroke-width:0.48;\" x=\"440.470362\" xlink:href=\"#m63ad077948\" y=\"329.844776\"/>\n     <use style=\"fill:#1f77b4;stroke:#ffffff;stroke-width:0.48;\" x=\"262.176439\" xlink:href=\"#m63ad077948\" y=\"352.888614\"/>\n     <use style=\"fill:#1f77b4;stroke:#ffffff;stroke-width:0.48;\" x=\"83.882517\" xlink:href=\"#m63ad077948\" y=\"189.98752\"/>\n     <use style=\"fill:#1f77b4;stroke:#ffffff;stroke-width:0.48;\" x=\"83.882517\" xlink:href=\"#m63ad077948\" y=\"241.075274\"/>\n     <use style=\"fill:#1f77b4;stroke:#ffffff;stroke-width:0.48;\" x=\"262.176439\" xlink:href=\"#m63ad077948\" y=\"301.148676\"/>\n     <use style=\"fill:#1f77b4;stroke:#ffffff;stroke-width:0.48;\" x=\"83.882517\" xlink:href=\"#m63ad077948\" y=\"135.638846\"/>\n     <use style=\"fill:#1f77b4;stroke:#ffffff;stroke-width:0.48;\" x=\"262.176439\" xlink:href=\"#m63ad077948\" y=\"337.236196\"/>\n     <use style=\"fill:#1f77b4;stroke:#ffffff;stroke-width:0.48;\" x=\"262.176439\" xlink:href=\"#m63ad077948\" y=\"325.062092\"/>\n     <use style=\"fill:#1f77b4;stroke:#ffffff;stroke-width:0.48;\" x=\"83.882517\" xlink:href=\"#m63ad077948\" y=\"152.305772\"/>\n     <use style=\"fill:#1f77b4;stroke:#ffffff;stroke-width:0.48;\" x=\"262.176439\" xlink:href=\"#m63ad077948\" y=\"343.758036\"/>\n     <use style=\"fill:#1f77b4;stroke:#ffffff;stroke-width:0.48;\" x=\"262.176439\" xlink:href=\"#m63ad077948\" y=\"355.93214\"/>\n     <use style=\"fill:#1f77b4;stroke:#ffffff;stroke-width:0.48;\" x=\"262.176439\" xlink:href=\"#m63ad077948\" y=\"328.540408\"/>\n     <use style=\"fill:#1f77b4;stroke:#ffffff;stroke-width:0.48;\" x=\"262.176439\" xlink:href=\"#m63ad077948\" y=\"334.627459\"/>\n     <use style=\"fill:#1f77b4;stroke:#ffffff;stroke-width:0.48;\" x=\"440.470362\" xlink:href=\"#m63ad077948\" y=\"327.670829\"/>\n     <use style=\"fill:#1f77b4;stroke:#ffffff;stroke-width:0.48;\" x=\"440.470362\" xlink:href=\"#m63ad077948\" y=\"327.670829\"/>\n     <use style=\"fill:#1f77b4;stroke:#ffffff;stroke-width:0.48;\" x=\"83.882517\" xlink:href=\"#m63ad077948\" y=\"257.742201\"/>\n     <use style=\"fill:#1f77b4;stroke:#ffffff;stroke-width:0.48;\" x=\"262.176439\" xlink:href=\"#m63ad077948\" y=\"307.235727\"/>\n     <use style=\"fill:#1f77b4;stroke:#ffffff;stroke-width:0.48;\" x=\"262.176439\" xlink:href=\"#m63ad077948\" y=\"319.84462\"/>\n     <use style=\"fill:#1f77b4;stroke:#ffffff;stroke-width:0.48;\" x=\"262.176439\" xlink:href=\"#m63ad077948\" y=\"328.975197\"/>\n     <use style=\"fill:#1f77b4;stroke:#ffffff;stroke-width:0.48;\" x=\"262.176439\" xlink:href=\"#m63ad077948\" y=\"325.496882\"/>\n     <use style=\"fill:#1f77b4;stroke:#ffffff;stroke-width:0.48;\" x=\"262.176439\" xlink:href=\"#m63ad077948\" y=\"325.062092\"/>\n     <use style=\"fill:#1f77b4;stroke:#ffffff;stroke-width:0.48;\" x=\"262.176439\" xlink:href=\"#m63ad077948\" y=\"343.758036\"/>\n     <use style=\"fill:#1f77b4;stroke:#ffffff;stroke-width:0.48;\" x=\"83.882517\" xlink:href=\"#m63ad077948\" y=\"307.235727\"/>\n     <use style=\"fill:#1f77b4;stroke:#ffffff;stroke-width:0.48;\" x=\"262.176439\" xlink:href=\"#m63ad077948\" y=\"362.45398\"/>\n     <use style=\"fill:#1f77b4;stroke:#ffffff;stroke-width:0.48;\" x=\"262.176439\" xlink:href=\"#m63ad077948\" y=\"322.453356\"/>\n     <use style=\"fill:#1f77b4;stroke:#ffffff;stroke-width:0.48;\" x=\"262.176439\" xlink:href=\"#m63ad077948\" y=\"320.279409\"/>\n     <use style=\"fill:#1f77b4;stroke:#ffffff;stroke-width:0.48;\" x=\"262.176439\" xlink:href=\"#m63ad077948\" y=\"305.06178\"/>\n     <use style=\"fill:#1f77b4;stroke:#ffffff;stroke-width:0.48;\" x=\"262.176439\" xlink:href=\"#m63ad077948\" y=\"337.236196\"/>\n     <use style=\"fill:#1f77b4;stroke:#ffffff;stroke-width:0.48;\" x=\"440.470362\" xlink:href=\"#m63ad077948\" y=\"346.366773\"/>\n     <use style=\"fill:#1f77b4;stroke:#ffffff;stroke-width:0.48;\" x=\"440.470362\" xlink:href=\"#m63ad077948\" y=\"327.670829\"/>\n     <use style=\"fill:#1f77b4;stroke:#ffffff;stroke-width:0.48;\" x=\"262.176439\" xlink:href=\"#m63ad077948\" y=\"359.845244\"/>\n     <use style=\"fill:#1f77b4;stroke:#ffffff;stroke-width:0.48;\" x=\"83.882517\" xlink:href=\"#m63ad077948\" y=\"217.524182\"/>\n     <use style=\"fill:#1f77b4;stroke:#ffffff;stroke-width:0.48;\" x=\"83.882517\" xlink:href=\"#m63ad077948\" y=\"244.698519\"/>\n     <use style=\"fill:#1f77b4;stroke:#ffffff;stroke-width:0.48;\" x=\"262.176439\" xlink:href=\"#m63ad077948\" y=\"325.496882\"/>\n     <use style=\"fill:#1f77b4;stroke:#ffffff;stroke-width:0.48;\" x=\"262.176439\" xlink:href=\"#m63ad077948\" y=\"337.670985\"/>\n     <use style=\"fill:#1f77b4;stroke:#ffffff;stroke-width:0.48;\" x=\"262.176439\" xlink:href=\"#m63ad077948\" y=\"338.540564\"/>\n     <use style=\"fill:#1f77b4;stroke:#ffffff;stroke-width:0.48;\" x=\"83.882517\" xlink:href=\"#m63ad077948\" y=\"296.365992\"/>\n     <use style=\"fill:#1f77b4;stroke:#ffffff;stroke-width:0.48;\" x=\"262.176439\" xlink:href=\"#m63ad077948\" y=\"340.714511\"/>\n     <use style=\"fill:#1f77b4;stroke:#ffffff;stroke-width:0.48;\" x=\"262.176439\" xlink:href=\"#m63ad077948\" y=\"352.453824\"/>\n     <use style=\"fill:#1f77b4;stroke:#ffffff;stroke-width:0.48;\" x=\"83.882517\" xlink:href=\"#m63ad077948\" y=\"228.393917\"/>\n     <use style=\"fill:#1f77b4;stroke:#ffffff;stroke-width:0.48;\" x=\"262.176439\" xlink:href=\"#m63ad077948\" y=\"327.236039\"/>\n     <use style=\"fill:#1f77b4;stroke:#ffffff;stroke-width:0.48;\" x=\"262.176439\" xlink:href=\"#m63ad077948\" y=\"358.540876\"/>\n     <use style=\"fill:#1f77b4;stroke:#ffffff;stroke-width:0.48;\" x=\"262.176439\" xlink:href=\"#m63ad077948\" y=\"352.019035\"/>\n     <use style=\"fill:#1f77b4;stroke:#ffffff;stroke-width:0.48;\" x=\"262.176439\" xlink:href=\"#m63ad077948\" y=\"313.757568\"/>\n     <use style=\"fill:#1f77b4;stroke:#ffffff;stroke-width:0.48;\" x=\"262.176439\" xlink:href=\"#m63ad077948\" y=\"334.19267\"/>\n     <use style=\"fill:#1f77b4;stroke:#ffffff;stroke-width:0.48;\" x=\"262.176439\" xlink:href=\"#m63ad077948\" y=\"345.931983\"/>\n     <use style=\"fill:#1f77b4;stroke:#ffffff;stroke-width:0.48;\" x=\"262.176439\" xlink:href=\"#m63ad077948\" y=\"368.541032\"/>\n     <use style=\"fill:#1f77b4;stroke:#ffffff;stroke-width:0.48;\" x=\"262.176439\" xlink:href=\"#m63ad077948\" y=\"339.410143\"/>\n     <use style=\"fill:#1f77b4;stroke:#ffffff;stroke-width:0.48;\" x=\"262.176439\" xlink:href=\"#m63ad077948\" y=\"289.409362\"/>\n     <use style=\"fill:#1f77b4;stroke:#ffffff;stroke-width:0.48;\" x=\"262.176439\" xlink:href=\"#m63ad077948\" y=\"348.10593\"/>\n     <use style=\"fill:#1f77b4;stroke:#ffffff;stroke-width:0.48;\" x=\"262.176439\" xlink:href=\"#m63ad077948\" y=\"339.844932\"/>\n     <use style=\"fill:#1f77b4;stroke:#ffffff;stroke-width:0.48;\" x=\"262.176439\" xlink:href=\"#m63ad077948\" y=\"336.801406\"/>\n     <use style=\"fill:#1f77b4;stroke:#ffffff;stroke-width:0.48;\" x=\"262.176439\" xlink:href=\"#m63ad077948\" y=\"342.018879\"/>\n     <use style=\"fill:#1f77b4;stroke:#ffffff;stroke-width:0.48;\" x=\"83.882517\" xlink:href=\"#m63ad077948\" y=\"294.192045\"/>\n     <use style=\"fill:#1f77b4;stroke:#ffffff;stroke-width:0.48;\" x=\"440.470362\" xlink:href=\"#m63ad077948\" y=\"327.670829\"/>\n     <use style=\"fill:#1f77b4;stroke:#ffffff;stroke-width:0.48;\" x=\"262.176439\" xlink:href=\"#m63ad077948\" y=\"339.410143\"/>\n     <use style=\"fill:#1f77b4;stroke:#ffffff;stroke-width:0.48;\" x=\"262.176439\" xlink:href=\"#m63ad077948\" y=\"356.366929\"/>\n     <use style=\"fill:#1f77b4;stroke:#ffffff;stroke-width:0.48;\" x=\"262.176439\" xlink:href=\"#m63ad077948\" y=\"314.627147\"/>\n     <use style=\"fill:#1f77b4;stroke:#ffffff;stroke-width:0.48;\" x=\"262.176439\" xlink:href=\"#m63ad077948\" y=\"339.410143\"/>\n     <use style=\"fill:#1f77b4;stroke:#ffffff;stroke-width:0.48;\" x=\"262.176439\" xlink:href=\"#m63ad077948\" y=\"339.844932\"/>\n     <use style=\"fill:#1f77b4;stroke:#ffffff;stroke-width:0.48;\" x=\"262.176439\" xlink:href=\"#m63ad077948\" y=\"336.366617\"/>\n     <use style=\"fill:#1f77b4;stroke:#ffffff;stroke-width:0.48;\" x=\"262.176439\" xlink:href=\"#m63ad077948\" y=\"344.192826\"/>\n     <use style=\"fill:#1f77b4;stroke:#ffffff;stroke-width:0.48;\" x=\"83.882517\" xlink:href=\"#m63ad077948\" y=\"225.495321\"/>\n     <use style=\"fill:#1f77b4;stroke:#ffffff;stroke-width:0.48;\" x=\"262.176439\" xlink:href=\"#m63ad077948\" y=\"264.191577\"/>\n     <use style=\"fill:#1f77b4;stroke:#ffffff;stroke-width:0.48;\" x=\"83.882517\" xlink:href=\"#m63ad077948\" y=\"284.554214\"/>\n     <use style=\"fill:#1f77b4;stroke:#ffffff;stroke-width:0.48;\" x=\"262.176439\" xlink:href=\"#m63ad077948\" y=\"327.236039\"/>\n     <use style=\"fill:#1f77b4;stroke:#ffffff;stroke-width:0.48;\" x=\"262.176439\" xlink:href=\"#m63ad077948\" y=\"331.583933\"/>\n     <use style=\"fill:#1f77b4;stroke:#ffffff;stroke-width:0.48;\" x=\"262.176439\" xlink:href=\"#m63ad077948\" y=\"320.279409\"/>\n     <use style=\"fill:#1f77b4;stroke:#ffffff;stroke-width:0.48;\" x=\"262.176439\" xlink:href=\"#m63ad077948\" y=\"353.323403\"/>\n     <use style=\"fill:#1f77b4;stroke:#ffffff;stroke-width:0.48;\" x=\"262.176439\" xlink:href=\"#m63ad077948\" y=\"364.193138\"/>\n     <use style=\"fill:#1f77b4;stroke:#ffffff;stroke-width:0.48;\" x=\"83.882517\" xlink:href=\"#m63ad077948\" y=\"280.930969\"/>\n     <use style=\"fill:#1f77b4;stroke:#ffffff;stroke-width:0.48;\" x=\"262.176439\" xlink:href=\"#m63ad077948\" y=\"342.888458\"/>\n     <use style=\"fill:#1f77b4;stroke:#ffffff;stroke-width:0.48;\" x=\"262.176439\" xlink:href=\"#m63ad077948\" y=\"339.844932\"/>\n     <use style=\"fill:#1f77b4;stroke:#ffffff;stroke-width:0.48;\" x=\"262.176439\" xlink:href=\"#m63ad077948\" y=\"339.410143\"/>\n     <use style=\"fill:#1f77b4;stroke:#ffffff;stroke-width:0.48;\" x=\"262.176439\" xlink:href=\"#m63ad077948\" y=\"330.279565\"/>\n     <use style=\"fill:#1f77b4;stroke:#ffffff;stroke-width:0.48;\" x=\"83.882517\" xlink:href=\"#m63ad077948\" y=\"216.074884\"/>\n     <use style=\"fill:#1f77b4;stroke:#ffffff;stroke-width:0.48;\" x=\"440.470362\" xlink:href=\"#m63ad077948\" y=\"324.192514\"/>\n     <use style=\"fill:#1f77b4;stroke:#ffffff;stroke-width:0.48;\" x=\"262.176439\" xlink:href=\"#m63ad077948\" y=\"340.714511\"/>\n     <use style=\"fill:#1f77b4;stroke:#ffffff;stroke-width:0.48;\" x=\"262.176439\" xlink:href=\"#m63ad077948\" y=\"313.322779\"/>\n     <use style=\"fill:#1f77b4;stroke:#ffffff;stroke-width:0.48;\" x=\"262.176439\" xlink:href=\"#m63ad077948\" y=\"334.19267\"/>\n     <use style=\"fill:#1f77b4;stroke:#ffffff;stroke-width:0.48;\" x=\"262.176439\" xlink:href=\"#m63ad077948\" y=\"367.236664\"/>\n     <use style=\"fill:#1f77b4;stroke:#ffffff;stroke-width:0.48;\" x=\"262.176439\" xlink:href=\"#m63ad077948\" y=\"343.758036\"/>\n     <use style=\"fill:#1f77b4;stroke:#ffffff;stroke-width:0.48;\" x=\"262.176439\" xlink:href=\"#m63ad077948\" y=\"347.236352\"/>\n     <use style=\"fill:#1f77b4;stroke:#ffffff;stroke-width:0.48;\" x=\"262.176439\" xlink:href=\"#m63ad077948\" y=\"337.236196\"/>\n     <use style=\"fill:#1f77b4;stroke:#ffffff;stroke-width:0.48;\" x=\"262.176439\" xlink:href=\"#m63ad077948\" y=\"363.323559\"/>\n     <use style=\"fill:#1f77b4;stroke:#ffffff;stroke-width:0.48;\" x=\"262.176439\" xlink:href=\"#m63ad077948\" y=\"302.887833\"/>\n     <use style=\"fill:#1f77b4;stroke:#ffffff;stroke-width:0.48;\" x=\"262.176439\" xlink:href=\"#m63ad077948\" y=\"304.192201\"/>\n     <use style=\"fill:#1f77b4;stroke:#ffffff;stroke-width:0.48;\" x=\"440.470362\" xlink:href=\"#m63ad077948\" y=\"327.670829\"/>\n     <use style=\"fill:#1f77b4;stroke:#ffffff;stroke-width:0.48;\" x=\"262.176439\" xlink:href=\"#m63ad077948\" y=\"308.105306\"/>\n     <use style=\"fill:#1f77b4;stroke:#ffffff;stroke-width:0.48;\" x=\"83.882517\" xlink:href=\"#m63ad077948\" y=\"246.510142\"/>\n     <use style=\"fill:#1f77b4;stroke:#ffffff;stroke-width:0.48;\" x=\"262.176439\" xlink:href=\"#m63ad077948\" y=\"316.801094\"/>\n     <use style=\"fill:#1f77b4;stroke:#ffffff;stroke-width:0.48;\" x=\"262.176439\" xlink:href=\"#m63ad077948\" y=\"312.4532\"/>\n     <use style=\"fill:#1f77b4;stroke:#ffffff;stroke-width:0.48;\" x=\"262.176439\" xlink:href=\"#m63ad077948\" y=\"332.453512\"/>\n     <use style=\"fill:#1f77b4;stroke:#ffffff;stroke-width:0.48;\" x=\"262.176439\" xlink:href=\"#m63ad077948\" y=\"368.975821\"/>\n     <use style=\"fill:#1f77b4;stroke:#ffffff;stroke-width:0.48;\" x=\"262.176439\" xlink:href=\"#m63ad077948\" y=\"359.845244\"/>\n     <use style=\"fill:#1f77b4;stroke:#ffffff;stroke-width:0.48;\" x=\"262.176439\" xlink:href=\"#m63ad077948\" y=\"345.062405\"/>\n     <use style=\"fill:#1f77b4;stroke:#ffffff;stroke-width:0.48;\" x=\"262.176439\" xlink:href=\"#m63ad077948\" y=\"338.105774\"/>\n     <use style=\"fill:#1f77b4;stroke:#ffffff;stroke-width:0.48;\" x=\"262.176439\" xlink:href=\"#m63ad077948\" y=\"340.279721\"/>\n     <use style=\"fill:#1f77b4;stroke:#ffffff;stroke-width:0.48;\" x=\"262.176439\" xlink:href=\"#m63ad077948\" y=\"349.845088\"/>\n     <use style=\"fill:#1f77b4;stroke:#ffffff;stroke-width:0.48;\" x=\"83.882517\" xlink:href=\"#m63ad077948\" y=\"257.669736\"/>\n     <use style=\"fill:#1f77b4;stroke:#ffffff;stroke-width:0.48;\" x=\"83.882517\" xlink:href=\"#m63ad077948\" y=\"211.364665\"/>\n     <use style=\"fill:#1f77b4;stroke:#ffffff;stroke-width:0.48;\" x=\"83.882517\" xlink:href=\"#m63ad077948\" y=\"268.249611\"/>\n     <use style=\"fill:#1f77b4;stroke:#ffffff;stroke-width:0.48;\" x=\"83.882517\" xlink:href=\"#m63ad077948\" y=\"221.147427\"/>\n     <use style=\"fill:#1f77b4;stroke:#ffffff;stroke-width:0.48;\" x=\"262.176439\" xlink:href=\"#m63ad077948\" y=\"331.757849\"/>\n     <use style=\"fill:#1f77b4;stroke:#ffffff;stroke-width:0.48;\" x=\"262.176439\" xlink:href=\"#m63ad077948\" y=\"302.018254\"/>\n     <use style=\"fill:#1f77b4;stroke:#ffffff;stroke-width:0.48;\" x=\"262.176439\" xlink:href=\"#m63ad077948\" y=\"332.453512\"/>\n     <use style=\"fill:#1f77b4;stroke:#ffffff;stroke-width:0.48;\" x=\"262.176439\" xlink:href=\"#m63ad077948\" y=\"320.714198\"/>\n     <use style=\"fill:#1f77b4;stroke:#ffffff;stroke-width:0.48;\" x=\"83.882517\" xlink:href=\"#m63ad077948\" y=\"223.321374\"/>\n     <use style=\"fill:#1f77b4;stroke:#ffffff;stroke-width:0.48;\" x=\"440.470362\" xlink:href=\"#m63ad077948\" y=\"318.975041\"/>\n     <use style=\"fill:#1f77b4;stroke:#ffffff;stroke-width:0.48;\" x=\"262.176439\" xlink:href=\"#m63ad077948\" y=\"337.670985\"/>\n     <use style=\"fill:#1f77b4;stroke:#ffffff;stroke-width:0.48;\" x=\"262.176439\" xlink:href=\"#m63ad077948\" y=\"347.236352\"/>\n     <use style=\"fill:#1f77b4;stroke:#ffffff;stroke-width:0.48;\" x=\"262.176439\" xlink:href=\"#m63ad077948\" y=\"359.410455\"/>\n     <use style=\"fill:#1f77b4;stroke:#ffffff;stroke-width:0.48;\" x=\"262.176439\" xlink:href=\"#m63ad077948\" y=\"328.105618\"/>\n     <use style=\"fill:#1f77b4;stroke:#ffffff;stroke-width:0.48;\" x=\"262.176439\" xlink:href=\"#m63ad077948\" y=\"332.888302\"/>\n     <use style=\"fill:#1f77b4;stroke:#ffffff;stroke-width:0.48;\" x=\"262.176439\" xlink:href=\"#m63ad077948\" y=\"305.49657\"/>\n     <use style=\"fill:#1f77b4;stroke:#ffffff;stroke-width:0.48;\" x=\"440.470362\" xlink:href=\"#m63ad077948\" y=\"327.670829\"/>\n     <use style=\"fill:#1f77b4;stroke:#ffffff;stroke-width:0.48;\" x=\"262.176439\" xlink:href=\"#m63ad077948\" y=\"357.671297\"/>\n     <use style=\"fill:#1f77b4;stroke:#ffffff;stroke-width:0.48;\" x=\"262.176439\" xlink:href=\"#m63ad077948\" y=\"361.149612\"/>\n     <use style=\"fill:#1f77b4;stroke:#ffffff;stroke-width:0.48;\" x=\"262.176439\" xlink:href=\"#m63ad077948\" y=\"329.409986\"/>\n     <use style=\"fill:#1f77b4;stroke:#ffffff;stroke-width:0.48;\" x=\"262.176439\" xlink:href=\"#m63ad077948\" y=\"316.453262\"/>\n     <use style=\"fill:#1f77b4;stroke:#ffffff;stroke-width:0.48;\" x=\"262.176439\" xlink:href=\"#m63ad077948\" y=\"184.914977\"/>\n     <use style=\"fill:#1f77b4;stroke:#ffffff;stroke-width:0.48;\" x=\"262.176439\" xlink:href=\"#m63ad077948\" y=\"343.323247\"/>\n     <use style=\"fill:#1f77b4;stroke:#ffffff;stroke-width:0.48;\" x=\"262.176439\" xlink:href=\"#m63ad077948\" y=\"330.279565\"/>\n     <use style=\"fill:#1f77b4;stroke:#ffffff;stroke-width:0.48;\" x=\"262.176439\" xlink:href=\"#m63ad077948\" y=\"347.236352\"/>\n     <use style=\"fill:#1f77b4;stroke:#ffffff;stroke-width:0.48;\" x=\"262.176439\" xlink:href=\"#m63ad077948\" y=\"336.366617\"/>\n     <use style=\"fill:#1f77b4;stroke:#ffffff;stroke-width:0.48;\" x=\"262.176439\" xlink:href=\"#m63ad077948\" y=\"352.019035\"/>\n     <use style=\"fill:#1f77b4;stroke:#ffffff;stroke-width:0.48;\" x=\"262.176439\" xlink:href=\"#m63ad077948\" y=\"369.8454\"/>\n     <use style=\"fill:#1f77b4;stroke:#ffffff;stroke-width:0.48;\" x=\"262.176439\" xlink:href=\"#m63ad077948\" y=\"353.323403\"/>\n     <use style=\"fill:#1f77b4;stroke:#ffffff;stroke-width:0.48;\" x=\"262.176439\" xlink:href=\"#m63ad077948\" y=\"349.410299\"/>\n     <use style=\"fill:#1f77b4;stroke:#ffffff;stroke-width:0.48;\" x=\"262.176439\" xlink:href=\"#m63ad077948\" y=\"318.540252\"/>\n     <use style=\"fill:#1f77b4;stroke:#ffffff;stroke-width:0.48;\" x=\"262.176439\" xlink:href=\"#m63ad077948\" y=\"342.453668\"/>\n     <use style=\"fill:#1f77b4;stroke:#ffffff;stroke-width:0.48;\" x=\"262.176439\" xlink:href=\"#m63ad077948\" y=\"366.801874\"/>\n     <use style=\"fill:#1f77b4;stroke:#ffffff;stroke-width:0.48;\" x=\"262.176439\" xlink:href=\"#m63ad077948\" y=\"351.584246\"/>\n     <use style=\"fill:#1f77b4;stroke:#ffffff;stroke-width:0.48;\" x=\"83.882517\" xlink:href=\"#m63ad077948\" y=\"300.279097\"/>\n     <use style=\"fill:#1f77b4;stroke:#ffffff;stroke-width:0.48;\" x=\"83.882517\" xlink:href=\"#m63ad077948\" y=\"255.930578\"/>\n     <use style=\"fill:#1f77b4;stroke:#ffffff;stroke-width:0.48;\" x=\"262.176439\" xlink:href=\"#m63ad077948\" y=\"339.844932\"/>\n     <use style=\"fill:#1f77b4;stroke:#ffffff;stroke-width:0.48;\" x=\"262.176439\" xlink:href=\"#m63ad077948\" y=\"270.278629\"/>\n     <use style=\"fill:#1f77b4;stroke:#ffffff;stroke-width:0.48;\" x=\"83.882517\" xlink:href=\"#m63ad077948\" y=\"199.407957\"/>\n     <use style=\"fill:#1f77b4;stroke:#ffffff;stroke-width:0.48;\" x=\"262.176439\" xlink:href=\"#m63ad077948\" y=\"337.236196\"/>\n     <use style=\"fill:#1f77b4;stroke:#ffffff;stroke-width:0.48;\" x=\"262.176439\" xlink:href=\"#m63ad077948\" y=\"351.149456\"/>\n     <use style=\"fill:#1f77b4;stroke:#ffffff;stroke-width:0.48;\" x=\"262.176439\" xlink:href=\"#m63ad077948\" y=\"337.670985\"/>\n     <use style=\"fill:#1f77b4;stroke:#ffffff;stroke-width:0.48;\" x=\"262.176439\" xlink:href=\"#m63ad077948\" y=\"336.366617\"/>\n     <use style=\"fill:#1f77b4;stroke:#ffffff;stroke-width:0.48;\" x=\"83.882517\" xlink:href=\"#m63ad077948\" y=\"259.191499\"/>\n     <use style=\"fill:#1f77b4;stroke:#ffffff;stroke-width:0.48;\" x=\"262.176439\" xlink:href=\"#m63ad077948\" y=\"366.367085\"/>\n     <use style=\"fill:#1f77b4;stroke:#ffffff;stroke-width:0.48;\" x=\"262.176439\" xlink:href=\"#m63ad077948\" y=\"298.539939\"/>\n     <use style=\"fill:#1f77b4;stroke:#ffffff;stroke-width:0.48;\" x=\"262.176439\" xlink:href=\"#m63ad077948\" y=\"349.845088\"/>\n     <use style=\"fill:#1f77b4;stroke:#ffffff;stroke-width:0.48;\" x=\"262.176439\" xlink:href=\"#m63ad077948\" y=\"351.584246\"/>\n     <use style=\"fill:#1f77b4;stroke:#ffffff;stroke-width:0.48;\" x=\"262.176439\" xlink:href=\"#m63ad077948\" y=\"339.410143\"/>\n     <use style=\"fill:#1f77b4;stroke:#ffffff;stroke-width:0.48;\" x=\"262.176439\" xlink:href=\"#m63ad077948\" y=\"344.627615\"/>\n     <use style=\"fill:#1f77b4;stroke:#ffffff;stroke-width:0.48;\" x=\"262.176439\" xlink:href=\"#m63ad077948\" y=\"359.845244\"/>\n     <use style=\"fill:#1f77b4;stroke:#ffffff;stroke-width:0.48;\" x=\"262.176439\" xlink:href=\"#m63ad077948\" y=\"352.888614\"/>\n     <use style=\"fill:#1f77b4;stroke:#ffffff;stroke-width:0.48;\" x=\"262.176439\" xlink:href=\"#m63ad077948\" y=\"342.888458\"/>\n     <use style=\"fill:#1f77b4;stroke:#ffffff;stroke-width:0.48;\" x=\"262.176439\" xlink:href=\"#m63ad077948\" y=\"335.062249\"/>\n     <use style=\"fill:#1f77b4;stroke:#ffffff;stroke-width:0.48;\" x=\"262.176439\" xlink:href=\"#m63ad077948\" y=\"349.845088\"/>\n     <use style=\"fill:#1f77b4;stroke:#ffffff;stroke-width:0.48;\" x=\"262.176439\" xlink:href=\"#m63ad077948\" y=\"342.888458\"/>\n     <use style=\"fill:#1f77b4;stroke:#ffffff;stroke-width:0.48;\" x=\"262.176439\" xlink:href=\"#m63ad077948\" y=\"367.236664\"/>\n     <use style=\"fill:#1f77b4;stroke:#ffffff;stroke-width:0.48;\" x=\"83.882517\" xlink:href=\"#m63ad077948\" y=\"219.335804\"/>\n     <use style=\"fill:#1f77b4;stroke:#ffffff;stroke-width:0.48;\" x=\"440.470362\" xlink:href=\"#m63ad077948\" y=\"328.105618\"/>\n     <use style=\"fill:#1f77b4;stroke:#ffffff;stroke-width:0.48;\" x=\"83.882517\" xlink:href=\"#m63ad077948\" y=\"265.71334\"/>\n     <use style=\"fill:#1f77b4;stroke:#ffffff;stroke-width:0.48;\" x=\"83.882517\" xlink:href=\"#m63ad077948\" y=\"237.452029\"/>\n     <use style=\"fill:#1f77b4;stroke:#ffffff;stroke-width:0.48;\" x=\"262.176439\" xlink:href=\"#m63ad077948\" y=\"355.062561\"/>\n     <use style=\"fill:#1f77b4;stroke:#ffffff;stroke-width:0.48;\" x=\"262.176439\" xlink:href=\"#m63ad077948\" y=\"359.845244\"/>\n     <use style=\"fill:#1f77b4;stroke:#ffffff;stroke-width:0.48;\" x=\"262.176439\" xlink:href=\"#m63ad077948\" y=\"352.019035\"/>\n     <use style=\"fill:#1f77b4;stroke:#ffffff;stroke-width:0.48;\" x=\"262.176439\" xlink:href=\"#m63ad077948\" y=\"348.975509\"/>\n     <use style=\"fill:#1f77b4;stroke:#ffffff;stroke-width:0.48;\" x=\"262.176439\" xlink:href=\"#m63ad077948\" y=\"346.366773\"/>\n     <use style=\"fill:#1f77b4;stroke:#ffffff;stroke-width:0.48;\" x=\"262.176439\" xlink:href=\"#m63ad077948\" y=\"334.19267\"/>\n     <use style=\"fill:#1f77b4;stroke:#ffffff;stroke-width:0.48;\" x=\"262.176439\" xlink:href=\"#m63ad077948\" y=\"358.975665\"/>\n     <use style=\"fill:#1f77b4;stroke:#ffffff;stroke-width:0.48;\" x=\"262.176439\" xlink:href=\"#m63ad077948\" y=\"348.975509\"/>\n     <use style=\"fill:#1f77b4;stroke:#ffffff;stroke-width:0.48;\" x=\"262.176439\" xlink:href=\"#m63ad077948\" y=\"316.801094\"/>\n     <use style=\"fill:#1f77b4;stroke:#ffffff;stroke-width:0.48;\" x=\"262.176439\" xlink:href=\"#m63ad077948\" y=\"364.193138\"/>\n     <use style=\"fill:#1f77b4;stroke:#ffffff;stroke-width:0.48;\" x=\"262.176439\" xlink:href=\"#m63ad077948\" y=\"352.019035\"/>\n     <use style=\"fill:#1f77b4;stroke:#ffffff;stroke-width:0.48;\" x=\"262.176439\" xlink:href=\"#m63ad077948\" y=\"300.279097\"/>\n     <use style=\"fill:#1f77b4;stroke:#ffffff;stroke-width:0.48;\" x=\"262.176439\" xlink:href=\"#m63ad077948\" y=\"333.75788\"/>\n     <use style=\"fill:#1f77b4;stroke:#ffffff;stroke-width:0.48;\" x=\"262.176439\" xlink:href=\"#m63ad077948\" y=\"336.366617\"/>\n     <use style=\"fill:#1f77b4;stroke:#ffffff;stroke-width:0.48;\" x=\"262.176439\" xlink:href=\"#m63ad077948\" y=\"222.959049\"/>\n     <use style=\"fill:#1f77b4;stroke:#ffffff;stroke-width:0.48;\" x=\"440.470362\" xlink:href=\"#m63ad077948\" y=\"329.844776\"/>\n     <use style=\"fill:#1f77b4;stroke:#ffffff;stroke-width:0.48;\" x=\"83.882517\" xlink:href=\"#m63ad077948\" y=\"174.045242\"/>\n     <use style=\"fill:#1f77b4;stroke:#ffffff;stroke-width:0.48;\" x=\"262.176439\" xlink:href=\"#m63ad077948\" y=\"318.540252\"/>\n     <use style=\"fill:#1f77b4;stroke:#ffffff;stroke-width:0.48;\" x=\"83.882517\" xlink:href=\"#m63ad077948\" y=\"253.031983\"/>\n     <use style=\"fill:#1f77b4;stroke:#ffffff;stroke-width:0.48;\" x=\"83.882517\" xlink:href=\"#m63ad077948\" y=\"292.163028\"/>\n     <use style=\"fill:#1f77b4;stroke:#ffffff;stroke-width:0.48;\" x=\"262.176439\" xlink:href=\"#m63ad077948\" y=\"356.366929\"/>\n     <use style=\"fill:#1f77b4;stroke:#ffffff;stroke-width:0.48;\" x=\"262.176439\" xlink:href=\"#m63ad077948\" y=\"345.931983\"/>\n     <use style=\"fill:#1f77b4;stroke:#ffffff;stroke-width:0.48;\" x=\"262.176439\" xlink:href=\"#m63ad077948\" y=\"345.062405\"/>\n     <use style=\"fill:#1f77b4;stroke:#ffffff;stroke-width:0.48;\" x=\"440.470362\" xlink:href=\"#m63ad077948\" y=\"316.801094\"/>\n     <use style=\"fill:#1f77b4;stroke:#ffffff;stroke-width:0.48;\" x=\"262.176439\" xlink:href=\"#m63ad077948\" y=\"335.931827\"/>\n     <use style=\"fill:#1f77b4;stroke:#ffffff;stroke-width:0.48;\" x=\"83.882517\" xlink:href=\"#m63ad077948\" y=\"219.335804\"/>\n     <use style=\"fill:#1f77b4;stroke:#ffffff;stroke-width:0.48;\" x=\"83.882517\" xlink:href=\"#m63ad077948\" y=\"203.755851\"/>\n     <use style=\"fill:#1f77b4;stroke:#ffffff;stroke-width:0.48;\" x=\"440.470362\" xlink:href=\"#m63ad077948\" y=\"327.670829\"/>\n     <use style=\"fill:#1f77b4;stroke:#ffffff;stroke-width:0.48;\" x=\"83.882517\" xlink:href=\"#m63ad077948\" y=\"300.713886\"/>\n     <use style=\"fill:#1f77b4;stroke:#ffffff;stroke-width:0.48;\" x=\"262.176439\" xlink:href=\"#m63ad077948\" y=\"299.844307\"/>\n     <use style=\"fill:#1f77b4;stroke:#ffffff;stroke-width:0.48;\" x=\"83.882517\" xlink:href=\"#m63ad077948\" y=\"304.626991\"/>\n     <use style=\"fill:#1f77b4;stroke:#ffffff;stroke-width:0.48;\" x=\"83.882517\" xlink:href=\"#m63ad077948\" y=\"228.393917\"/>\n     <use style=\"fill:#1f77b4;stroke:#ffffff;stroke-width:0.48;\" x=\"83.882517\" xlink:href=\"#m63ad077948\" y=\"267.669892\"/>\n     <use style=\"fill:#1f77b4;stroke:#ffffff;stroke-width:0.48;\" x=\"440.470362\" xlink:href=\"#m63ad077948\" y=\"314.627147\"/>\n     <use style=\"fill:#1f77b4;stroke:#ffffff;stroke-width:0.48;\" x=\"262.176439\" xlink:href=\"#m63ad077948\" y=\"341.584089\"/>\n     <use style=\"fill:#1f77b4;stroke:#ffffff;stroke-width:0.48;\" x=\"262.176439\" xlink:href=\"#m63ad077948\" y=\"344.192826\"/>\n     <use style=\"fill:#1f77b4;stroke:#ffffff;stroke-width:0.48;\" x=\"262.176439\" xlink:href=\"#m63ad077948\" y=\"339.410143\"/>\n     <use style=\"fill:#1f77b4;stroke:#ffffff;stroke-width:0.48;\" x=\"262.176439\" xlink:href=\"#m63ad077948\" y=\"347.236352\"/>\n     <use style=\"fill:#1f77b4;stroke:#ffffff;stroke-width:0.48;\" x=\"262.176439\" xlink:href=\"#m63ad077948\" y=\"338.975353\"/>\n     <use style=\"fill:#1f77b4;stroke:#ffffff;stroke-width:0.48;\" x=\"262.176439\" xlink:href=\"#m63ad077948\" y=\"348.975509\"/>\n     <use style=\"fill:#1f77b4;stroke:#ffffff;stroke-width:0.48;\" x=\"262.176439\" xlink:href=\"#m63ad077948\" y=\"345.497194\"/>\n     <use style=\"fill:#1f77b4;stroke:#ffffff;stroke-width:0.48;\" x=\"262.176439\" xlink:href=\"#m63ad077948\" y=\"322.453356\"/>\n     <use style=\"fill:#1f77b4;stroke:#ffffff;stroke-width:0.48;\" x=\"262.176439\" xlink:href=\"#m63ad077948\" y=\"339.844932\"/>\n     <use style=\"fill:#1f77b4;stroke:#ffffff;stroke-width:0.48;\" x=\"262.176439\" xlink:href=\"#m63ad077948\" y=\"325.496882\"/>\n     <use style=\"fill:#1f77b4;stroke:#ffffff;stroke-width:0.48;\" x=\"262.176439\" xlink:href=\"#m63ad077948\" y=\"352.019035\"/>\n     <use style=\"fill:#1f77b4;stroke:#ffffff;stroke-width:0.48;\" x=\"440.470362\" xlink:href=\"#m63ad077948\" y=\"314.627147\"/>\n     <use style=\"fill:#1f77b4;stroke:#ffffff;stroke-width:0.48;\" x=\"262.176439\" xlink:href=\"#m63ad077948\" y=\"342.018879\"/>\n     <use style=\"fill:#1f77b4;stroke:#ffffff;stroke-width:0.48;\" x=\"440.470362\" xlink:href=\"#m63ad077948\" y=\"327.670829\"/>\n     <use style=\"fill:#1f77b4;stroke:#ffffff;stroke-width:0.48;\" x=\"262.176439\" xlink:href=\"#m63ad077948\" y=\"327.670829\"/>\n     <use style=\"fill:#1f77b4;stroke:#ffffff;stroke-width:0.48;\" x=\"83.882517\" xlink:href=\"#m63ad077948\" y=\"271.872856\"/>\n     <use style=\"fill:#1f77b4;stroke:#ffffff;stroke-width:0.48;\" x=\"262.176439\" xlink:href=\"#m63ad077948\" y=\"316.801094\"/>\n     <use style=\"fill:#1f77b4;stroke:#ffffff;stroke-width:0.48;\" x=\"262.176439\" xlink:href=\"#m63ad077948\" y=\"340.714511\"/>\n     <use style=\"fill:#1f77b4;stroke:#ffffff;stroke-width:0.48;\" x=\"262.176439\" xlink:href=\"#m63ad077948\" y=\"286.728161\"/>\n     <use style=\"fill:#1f77b4;stroke:#ffffff;stroke-width:0.48;\" x=\"262.176439\" xlink:href=\"#m63ad077948\" y=\"351.584246\"/>\n     <use style=\"fill:#1f77b4;stroke:#ffffff;stroke-width:0.48;\" x=\"262.176439\" xlink:href=\"#m63ad077948\" y=\"342.453668\"/>\n     <use style=\"fill:#1f77b4;stroke:#ffffff;stroke-width:0.48;\" x=\"262.176439\" xlink:href=\"#m63ad077948\" y=\"355.062561\"/>\n     <use style=\"fill:#1f77b4;stroke:#ffffff;stroke-width:0.48;\" x=\"262.176439\" xlink:href=\"#m63ad077948\" y=\"330.279565\"/>\n     <use style=\"fill:#1f77b4;stroke:#ffffff;stroke-width:0.48;\" x=\"262.176439\" xlink:href=\"#m63ad077948\" y=\"316.801094\"/>\n     <use style=\"fill:#1f77b4;stroke:#ffffff;stroke-width:0.48;\" x=\"262.176439\" xlink:href=\"#m63ad077948\" y=\"336.366617\"/>\n     <use style=\"fill:#1f77b4;stroke:#ffffff;stroke-width:0.48;\" x=\"262.176439\" xlink:href=\"#m63ad077948\" y=\"336.366617\"/>\n     <use style=\"fill:#1f77b4;stroke:#ffffff;stroke-width:0.48;\" x=\"83.882517\" xlink:href=\"#m63ad077948\" y=\"275.496101\"/>\n     <use style=\"fill:#1f77b4;stroke:#ffffff;stroke-width:0.48;\" x=\"262.176439\" xlink:href=\"#m63ad077948\" y=\"290.974604\"/>\n     <use style=\"fill:#1f77b4;stroke:#ffffff;stroke-width:0.48;\" x=\"262.176439\" xlink:href=\"#m63ad077948\" y=\"352.888614\"/>\n     <use style=\"fill:#1f77b4;stroke:#ffffff;stroke-width:0.48;\" x=\"262.176439\" xlink:href=\"#m63ad077948\" y=\"352.888614\"/>\n     <use style=\"fill:#1f77b4;stroke:#ffffff;stroke-width:0.48;\" x=\"262.176439\" xlink:href=\"#m63ad077948\" y=\"351.584246\"/>\n     <use style=\"fill:#1f77b4;stroke:#ffffff;stroke-width:0.48;\" x=\"262.176439\" xlink:href=\"#m63ad077948\" y=\"342.888458\"/>\n     <use style=\"fill:#1f77b4;stroke:#ffffff;stroke-width:0.48;\" x=\"262.176439\" xlink:href=\"#m63ad077948\" y=\"332.279596\"/>\n     <use style=\"fill:#1f77b4;stroke:#ffffff;stroke-width:0.48;\" x=\"262.176439\" xlink:href=\"#m63ad077948\" y=\"368.106243\"/>\n     <use style=\"fill:#1f77b4;stroke:#ffffff;stroke-width:0.48;\" x=\"440.470362\" xlink:href=\"#m63ad077948\" y=\"331.149144\"/>\n     <use style=\"fill:#1f77b4;stroke:#ffffff;stroke-width:0.48;\" x=\"262.176439\" xlink:href=\"#m63ad077948\" y=\"339.410143\"/>\n     <use style=\"fill:#1f77b4;stroke:#ffffff;stroke-width:0.48;\" x=\"83.882517\" xlink:href=\"#m63ad077948\" y=\"257.379876\"/>\n     <use style=\"fill:#1f77b4;stroke:#ffffff;stroke-width:0.48;\" x=\"83.882517\" xlink:href=\"#m63ad077948\" y=\"235.640407\"/>\n     <use style=\"fill:#1f77b4;stroke:#ffffff;stroke-width:0.48;\" x=\"262.176439\" xlink:href=\"#m63ad077948\" y=\"337.670985\"/>\n     <use style=\"fill:#1f77b4;stroke:#ffffff;stroke-width:0.48;\" x=\"262.176439\" xlink:href=\"#m63ad077948\" y=\"345.931983\"/>\n     <use style=\"fill:#1f77b4;stroke:#ffffff;stroke-width:0.48;\" x=\"262.176439\" xlink:href=\"#m63ad077948\" y=\"321.148988\"/>\n     <use style=\"fill:#1f77b4;stroke:#ffffff;stroke-width:0.48;\" x=\"262.176439\" xlink:href=\"#m63ad077948\" y=\"309.409674\"/>\n     <use style=\"fill:#1f77b4;stroke:#ffffff;stroke-width:0.48;\" x=\"262.176439\" xlink:href=\"#m63ad077948\" y=\"345.931983\"/>\n     <use style=\"fill:#1f77b4;stroke:#ffffff;stroke-width:0.48;\" x=\"440.470362\" xlink:href=\"#m63ad077948\" y=\"324.192514\"/>\n     <use style=\"fill:#1f77b4;stroke:#ffffff;stroke-width:0.48;\" x=\"83.882517\" xlink:href=\"#m63ad077948\" y=\"279.843995\"/>\n     <use style=\"fill:#1f77b4;stroke:#ffffff;stroke-width:0.48;\" x=\"262.176439\" xlink:href=\"#m63ad077948\" y=\"341.1493\"/>\n     <use style=\"fill:#1f77b4;stroke:#ffffff;stroke-width:0.48;\" x=\"262.176439\" xlink:href=\"#m63ad077948\" y=\"370.714979\"/>\n     <use style=\"fill:#1f77b4;stroke:#ffffff;stroke-width:0.48;\" x=\"262.176439\" xlink:href=\"#m63ad077948\" y=\"348.10593\"/>\n     <use style=\"fill:#1f77b4;stroke:#ffffff;stroke-width:0.48;\" x=\"262.176439\" xlink:href=\"#m63ad077948\" y=\"353.758193\"/>\n     <use style=\"fill:#1f77b4;stroke:#ffffff;stroke-width:0.48;\" x=\"83.882517\" xlink:href=\"#m63ad077948\" y=\"244.626054\"/>\n     <use style=\"fill:#1f77b4;stroke:#ffffff;stroke-width:0.48;\" x=\"262.176439\" xlink:href=\"#m63ad077948\" y=\"345.931983\"/>\n     <use style=\"fill:#1f77b4;stroke:#ffffff;stroke-width:0.48;\" x=\"83.882517\" xlink:href=\"#m63ad077948\" y=\"116.797972\"/>\n     <use style=\"fill:#1f77b4;stroke:#ffffff;stroke-width:0.48;\" x=\"262.176439\" xlink:href=\"#m63ad077948\" y=\"313.322779\"/>\n     <use style=\"fill:#1f77b4;stroke:#ffffff;stroke-width:0.48;\" x=\"262.176439\" xlink:href=\"#m63ad077948\" y=\"352.453824\"/>\n     <use style=\"fill:#1f77b4;stroke:#ffffff;stroke-width:0.48;\" x=\"262.176439\" xlink:href=\"#m63ad077948\" y=\"350.279877\"/>\n     <use style=\"fill:#1f77b4;stroke:#ffffff;stroke-width:0.48;\" x=\"262.176439\" xlink:href=\"#m63ad077948\" y=\"349.845088\"/>\n     <use style=\"fill:#1f77b4;stroke:#ffffff;stroke-width:0.48;\" x=\"83.882517\" xlink:href=\"#m63ad077948\" y=\"252.307334\"/>\n     <use style=\"fill:#1f77b4;stroke:#ffffff;stroke-width:0.48;\" x=\"262.176439\" xlink:href=\"#m63ad077948\" y=\"332.453512\"/>\n     <use style=\"fill:#1f77b4;stroke:#ffffff;stroke-width:0.48;\" x=\"262.176439\" xlink:href=\"#m63ad077948\" y=\"307.670517\"/>\n     <use style=\"fill:#1f77b4;stroke:#ffffff;stroke-width:0.48;\" x=\"262.176439\" xlink:href=\"#m63ad077948\" y=\"335.931827\"/>\n     <use style=\"fill:#1f77b4;stroke:#ffffff;stroke-width:0.48;\" x=\"262.176439\" xlink:href=\"#m63ad077948\" y=\"355.49735\"/>\n     <use style=\"fill:#1f77b4;stroke:#ffffff;stroke-width:0.48;\" x=\"440.470362\" xlink:href=\"#m63ad077948\" y=\"326.366461\"/>\n     <use style=\"fill:#1f77b4;stroke:#ffffff;stroke-width:0.48;\" x=\"262.176439\" xlink:href=\"#m63ad077948\" y=\"357.236508\"/>\n     <use style=\"fill:#1f77b4;stroke:#ffffff;stroke-width:0.48;\" x=\"262.176439\" xlink:href=\"#m63ad077948\" y=\"341.584089\"/>\n     <use style=\"fill:#1f77b4;stroke:#ffffff;stroke-width:0.48;\" x=\"262.176439\" xlink:href=\"#m63ad077948\" y=\"334.627459\"/>\n     <use style=\"fill:#1f77b4;stroke:#ffffff;stroke-width:0.48;\" x=\"262.176439\" xlink:href=\"#m63ad077948\" y=\"365.497506\"/>\n     <use style=\"fill:#1f77b4;stroke:#ffffff;stroke-width:0.48;\" x=\"262.176439\" xlink:href=\"#m63ad077948\" y=\"348.54072\"/>\n     <use style=\"fill:#1f77b4;stroke:#ffffff;stroke-width:0.48;\" x=\"262.176439\" xlink:href=\"#m63ad077948\" y=\"358.975665\"/>\n     <use style=\"fill:#1f77b4;stroke:#ffffff;stroke-width:0.48;\" x=\"262.176439\" xlink:href=\"#m63ad077948\" y=\"331.583933\"/>\n     <use style=\"fill:#1f77b4;stroke:#ffffff;stroke-width:0.48;\" x=\"262.176439\" xlink:href=\"#m63ad077948\" y=\"333.323091\"/>\n     <use style=\"fill:#1f77b4;stroke:#ffffff;stroke-width:0.48;\" x=\"262.176439\" xlink:href=\"#m63ad077948\" y=\"367.671453\"/>\n     <use style=\"fill:#1f77b4;stroke:#ffffff;stroke-width:0.48;\" x=\"262.176439\" xlink:href=\"#m63ad077948\" y=\"313.322779\"/>\n     <use style=\"fill:#1f77b4;stroke:#ffffff;stroke-width:0.48;\" x=\"262.176439\" xlink:href=\"#m63ad077948\" y=\"366.367085\"/>\n     <use style=\"fill:#1f77b4;stroke:#ffffff;stroke-width:0.48;\" x=\"262.176439\" xlink:href=\"#m63ad077948\" y=\"354.627771\"/>\n     <use style=\"fill:#1f77b4;stroke:#ffffff;stroke-width:0.48;\" x=\"262.176439\" xlink:href=\"#m63ad077948\" y=\"345.062405\"/>\n     <use style=\"fill:#1f77b4;stroke:#ffffff;stroke-width:0.48;\" x=\"262.176439\" xlink:href=\"#m63ad077948\" y=\"367.671453\"/>\n     <use style=\"fill:#1f77b4;stroke:#ffffff;stroke-width:0.48;\" x=\"262.176439\" xlink:href=\"#m63ad077948\" y=\"341.1493\"/>\n     <use style=\"fill:#1f77b4;stroke:#ffffff;stroke-width:0.48;\" x=\"262.176439\" xlink:href=\"#m63ad077948\" y=\"335.497038\"/>\n     <use style=\"fill:#1f77b4;stroke:#ffffff;stroke-width:0.48;\" x=\"262.176439\" xlink:href=\"#m63ad077948\" y=\"310.714042\"/>\n     <use style=\"fill:#1f77b4;stroke:#ffffff;stroke-width:0.48;\" x=\"83.882517\" xlink:href=\"#m63ad077948\" y=\"248.321764\"/>\n     <use style=\"fill:#1f77b4;stroke:#ffffff;stroke-width:0.48;\" x=\"262.176439\" xlink:href=\"#m63ad077948\" y=\"355.062561\"/>\n     <use style=\"fill:#1f77b4;stroke:#ffffff;stroke-width:0.48;\" x=\"262.176439\" xlink:href=\"#m63ad077948\" y=\"351.584246\"/>\n     <use style=\"fill:#1f77b4;stroke:#ffffff;stroke-width:0.48;\" x=\"262.176439\" xlink:href=\"#m63ad077948\" y=\"331.583933\"/>\n     <use style=\"fill:#1f77b4;stroke:#ffffff;stroke-width:0.48;\" x=\"262.176439\" xlink:href=\"#m63ad077948\" y=\"337.236196\"/>\n     <use style=\"fill:#1f77b4;stroke:#ffffff;stroke-width:0.48;\" x=\"262.176439\" xlink:href=\"#m63ad077948\" y=\"330.279565\"/>\n     <use style=\"fill:#1f77b4;stroke:#ffffff;stroke-width:0.48;\" x=\"262.176439\" xlink:href=\"#m63ad077948\" y=\"343.323247\"/>\n     <use style=\"fill:#1f77b4;stroke:#ffffff;stroke-width:0.48;\" x=\"262.176439\" xlink:href=\"#m63ad077948\" y=\"371.149768\"/>\n     <use style=\"fill:#1f77b4;stroke:#ffffff;stroke-width:0.48;\" x=\"262.176439\" xlink:href=\"#m63ad077948\" y=\"359.845244\"/>\n     <use style=\"fill:#1f77b4;stroke:#ffffff;stroke-width:0.48;\" x=\"262.176439\" xlink:href=\"#m63ad077948\" y=\"355.93214\"/>\n     <use style=\"fill:#1f77b4;stroke:#ffffff;stroke-width:0.48;\" x=\"262.176439\" xlink:href=\"#m63ad077948\" y=\"338.540564\"/>\n     <use style=\"fill:#1f77b4;stroke:#ffffff;stroke-width:0.48;\" x=\"262.176439\" xlink:href=\"#m63ad077948\" y=\"347.236352\"/>\n     <use style=\"fill:#1f77b4;stroke:#ffffff;stroke-width:0.48;\" x=\"83.882517\" xlink:href=\"#m63ad077948\" y=\"189.262871\"/>\n     <use style=\"fill:#1f77b4;stroke:#ffffff;stroke-width:0.48;\" x=\"262.176439\" xlink:href=\"#m63ad077948\" y=\"356.366929\"/>\n     <use style=\"fill:#1f77b4;stroke:#ffffff;stroke-width:0.48;\" x=\"440.470362\" xlink:href=\"#m63ad077948\" y=\"329.844776\"/>\n     <use style=\"fill:#1f77b4;stroke:#ffffff;stroke-width:0.48;\" x=\"440.470362\" xlink:href=\"#m63ad077948\" y=\"334.19267\"/>\n     <use style=\"fill:#1f77b4;stroke:#ffffff;stroke-width:0.48;\" x=\"83.882517\" xlink:href=\"#m63ad077948\" y=\"228.393917\"/>\n     <use style=\"fill:#1f77b4;stroke:#ffffff;stroke-width:0.48;\" x=\"262.176439\" xlink:href=\"#m63ad077948\" y=\"329.409986\"/>\n     <use style=\"fill:#1f77b4;stroke:#ffffff;stroke-width:0.48;\" x=\"83.882517\" xlink:href=\"#m63ad077948\" y=\"222.959049\"/>\n     <use style=\"fill:#1f77b4;stroke:#ffffff;stroke-width:0.48;\" x=\"262.176439\" xlink:href=\"#m63ad077948\" y=\"346.801562\"/>\n     <use style=\"fill:#1f77b4;stroke:#ffffff;stroke-width:0.48;\" x=\"262.176439\" xlink:href=\"#m63ad077948\" y=\"345.931983\"/>\n     <use style=\"fill:#1f77b4;stroke:#ffffff;stroke-width:0.48;\" x=\"262.176439\" xlink:href=\"#m63ad077948\" y=\"354.192982\"/>\n     <use style=\"fill:#1f77b4;stroke:#ffffff;stroke-width:0.48;\" x=\"262.176439\" xlink:href=\"#m63ad077948\" y=\"335.931827\"/>\n     <use style=\"fill:#1f77b4;stroke:#ffffff;stroke-width:0.48;\" x=\"262.176439\" xlink:href=\"#m63ad077948\" y=\"332.453512\"/>\n     <use style=\"fill:#1f77b4;stroke:#ffffff;stroke-width:0.48;\" x=\"262.176439\" xlink:href=\"#m63ad077948\" y=\"351.149456\"/>\n     <use style=\"fill:#1f77b4;stroke:#ffffff;stroke-width:0.48;\" x=\"262.176439\" xlink:href=\"#m63ad077948\" y=\"356.366929\"/>\n     <use style=\"fill:#1f77b4;stroke:#ffffff;stroke-width:0.48;\" x=\"262.176439\" xlink:href=\"#m63ad077948\" y=\"350.279877\"/>\n     <use style=\"fill:#1f77b4;stroke:#ffffff;stroke-width:0.48;\" x=\"262.176439\" xlink:href=\"#m63ad077948\" y=\"328.105618\"/>\n     <use style=\"fill:#1f77b4;stroke:#ffffff;stroke-width:0.48;\" x=\"262.176439\" xlink:href=\"#m63ad077948\" y=\"357.671297\"/>\n     <use style=\"fill:#1f77b4;stroke:#ffffff;stroke-width:0.48;\" x=\"262.176439\" xlink:href=\"#m63ad077948\" y=\"347.671141\"/>\n     <use style=\"fill:#1f77b4;stroke:#ffffff;stroke-width:0.48;\" x=\"262.176439\" xlink:href=\"#m63ad077948\" y=\"350.714667\"/>\n     <use style=\"fill:#1f77b4;stroke:#ffffff;stroke-width:0.48;\" x=\"262.176439\" xlink:href=\"#m63ad077948\" y=\"356.801718\"/>\n     <use style=\"fill:#1f77b4;stroke:#ffffff;stroke-width:0.48;\" x=\"262.176439\" xlink:href=\"#m63ad077948\" y=\"355.062561\"/>\n     <use style=\"fill:#1f77b4;stroke:#ffffff;stroke-width:0.48;\" x=\"262.176439\" xlink:href=\"#m63ad077948\" y=\"346.366773\"/>\n     <use style=\"fill:#1f77b4;stroke:#ffffff;stroke-width:0.48;\" x=\"262.176439\" xlink:href=\"#m63ad077948\" y=\"359.845244\"/>\n     <use style=\"fill:#1f77b4;stroke:#ffffff;stroke-width:0.48;\" x=\"83.882517\" xlink:href=\"#m63ad077948\" y=\"242.886897\"/>\n     <use style=\"fill:#1f77b4;stroke:#ffffff;stroke-width:0.48;\" x=\"262.176439\" xlink:href=\"#m63ad077948\" y=\"328.975197\"/>\n     <use style=\"fill:#1f77b4;stroke:#ffffff;stroke-width:0.48;\" x=\"83.882517\" xlink:href=\"#m63ad077948\" y=\"239.263652\"/>\n     <use style=\"fill:#1f77b4;stroke:#ffffff;stroke-width:0.48;\" x=\"262.176439\" xlink:href=\"#m63ad077948\" y=\"312.4532\"/>\n     <use style=\"fill:#1f77b4;stroke:#ffffff;stroke-width:0.48;\" x=\"262.176439\" xlink:href=\"#m63ad077948\" y=\"343.758036\"/>\n     <use style=\"fill:#1f77b4;stroke:#ffffff;stroke-width:0.48;\" x=\"262.176439\" xlink:href=\"#m63ad077948\" y=\"369.8454\"/>\n     <use style=\"fill:#1f77b4;stroke:#ffffff;stroke-width:0.48;\" x=\"262.176439\" xlink:href=\"#m63ad077948\" y=\"350.714667\"/>\n     <use style=\"fill:#1f77b4;stroke:#ffffff;stroke-width:0.48;\" x=\"83.882517\" xlink:href=\"#m63ad077948\" y=\"290.71373\"/>\n     <use style=\"fill:#1f77b4;stroke:#ffffff;stroke-width:0.48;\" x=\"440.470362\" xlink:href=\"#m63ad077948\" y=\"328.975197\"/>\n     <use style=\"fill:#1f77b4;stroke:#ffffff;stroke-width:0.48;\" x=\"262.176439\" xlink:href=\"#m63ad077948\" y=\"324.192514\"/>\n     <use style=\"fill:#1f77b4;stroke:#ffffff;stroke-width:0.48;\" x=\"262.176439\" xlink:href=\"#m63ad077948\" y=\"314.627147\"/>\n     <use style=\"fill:#1f77b4;stroke:#ffffff;stroke-width:0.48;\" x=\"262.176439\" xlink:href=\"#m63ad077948\" y=\"307.235727\"/>\n     <use style=\"fill:#1f77b4;stroke:#ffffff;stroke-width:0.48;\" x=\"262.176439\" xlink:href=\"#m63ad077948\" y=\"326.366461\"/>\n     <use style=\"fill:#1f77b4;stroke:#ffffff;stroke-width:0.48;\" x=\"262.176439\" xlink:href=\"#m63ad077948\" y=\"331.583933\"/>\n     <use style=\"fill:#1f77b4;stroke:#ffffff;stroke-width:0.48;\" x=\"83.882517\" xlink:href=\"#m63ad077948\" y=\"213.900937\"/>\n     <use style=\"fill:#1f77b4;stroke:#ffffff;stroke-width:0.48;\" x=\"262.176439\" xlink:href=\"#m63ad077948\" y=\"318.540252\"/>\n     <use style=\"fill:#1f77b4;stroke:#ffffff;stroke-width:0.48;\" x=\"262.176439\" xlink:href=\"#m63ad077948\" y=\"338.105774\"/>\n     <use style=\"fill:#1f77b4;stroke:#ffffff;stroke-width:0.48;\" x=\"262.176439\" xlink:href=\"#m63ad077948\" y=\"352.453824\"/>\n     <use style=\"fill:#1f77b4;stroke:#ffffff;stroke-width:0.48;\" x=\"262.176439\" xlink:href=\"#m63ad077948\" y=\"325.931671\"/>\n     <use style=\"fill:#1f77b4;stroke:#ffffff;stroke-width:0.48;\" x=\"262.176439\" xlink:href=\"#m63ad077948\" y=\"356.366929\"/>\n     <use style=\"fill:#1f77b4;stroke:#ffffff;stroke-width:0.48;\" x=\"262.176439\" xlink:href=\"#m63ad077948\" y=\"320.279409\"/>\n     <use style=\"fill:#1f77b4;stroke:#ffffff;stroke-width:0.48;\" x=\"262.176439\" xlink:href=\"#m63ad077948\" y=\"340.714511\"/>\n     <use style=\"fill:#1f77b4;stroke:#ffffff;stroke-width:0.48;\" x=\"262.176439\" xlink:href=\"#m63ad077948\" y=\"324.192514\"/>\n     <use style=\"fill:#1f77b4;stroke:#ffffff;stroke-width:0.48;\" x=\"440.470362\" xlink:href=\"#m63ad077948\" y=\"329.844776\"/>\n     <use style=\"fill:#1f77b4;stroke:#ffffff;stroke-width:0.48;\" x=\"83.882517\" xlink:href=\"#m63ad077948\" y=\"224.770672\"/>\n     <use style=\"fill:#1f77b4;stroke:#ffffff;stroke-width:0.48;\" x=\"83.882517\" xlink:href=\"#m63ad077948\" y=\"166.798752\"/>\n     <use style=\"fill:#1f77b4;stroke:#ffffff;stroke-width:0.48;\" x=\"262.176439\" xlink:href=\"#m63ad077948\" y=\"327.670829\"/>\n     <use style=\"fill:#1f77b4;stroke:#ffffff;stroke-width:0.48;\" x=\"262.176439\" xlink:href=\"#m63ad077948\" y=\"319.583746\"/>\n     <use style=\"fill:#1f77b4;stroke:#ffffff;stroke-width:0.48;\" x=\"262.176439\" xlink:href=\"#m63ad077948\" y=\"315.496726\"/>\n     <use style=\"fill:#1f77b4;stroke:#ffffff;stroke-width:0.48;\" x=\"262.176439\" xlink:href=\"#m63ad077948\" y=\"299.844307\"/>\n     <use style=\"fill:#1f77b4;stroke:#ffffff;stroke-width:0.48;\" x=\"262.176439\" xlink:href=\"#m63ad077948\" y=\"329.062155\"/>\n     <use style=\"fill:#1f77b4;stroke:#ffffff;stroke-width:0.48;\" x=\"262.176439\" xlink:href=\"#m63ad077948\" y=\"340.714511\"/>\n     <use style=\"fill:#1f77b4;stroke:#ffffff;stroke-width:0.48;\" x=\"262.176439\" xlink:href=\"#m63ad077948\" y=\"322.888145\"/>\n     <use style=\"fill:#1f77b4;stroke:#ffffff;stroke-width:0.48;\" x=\"262.176439\" xlink:href=\"#m63ad077948\" y=\"357.671297\"/>\n     <use style=\"fill:#1f77b4;stroke:#ffffff;stroke-width:0.48;\" x=\"262.176439\" xlink:href=\"#m63ad077948\" y=\"346.801562\"/>\n     <use style=\"fill:#1f77b4;stroke:#ffffff;stroke-width:0.48;\" x=\"262.176439\" xlink:href=\"#m63ad077948\" y=\"347.671141\"/>\n     <use style=\"fill:#1f77b4;stroke:#ffffff;stroke-width:0.48;\" x=\"262.176439\" xlink:href=\"#m63ad077948\" y=\"330.714355\"/>\n     <use style=\"fill:#1f77b4;stroke:#ffffff;stroke-width:0.48;\" x=\"262.176439\" xlink:href=\"#m63ad077948\" y=\"354.192982\"/>\n     <use style=\"fill:#1f77b4;stroke:#ffffff;stroke-width:0.48;\" x=\"262.176439\" xlink:href=\"#m63ad077948\" y=\"345.931983\"/>\n     <use style=\"fill:#1f77b4;stroke:#ffffff;stroke-width:0.48;\" x=\"262.176439\" xlink:href=\"#m63ad077948\" y=\"335.497038\"/>\n     <use style=\"fill:#1f77b4;stroke:#ffffff;stroke-width:0.48;\" x=\"83.882517\" xlink:href=\"#m63ad077948\" y=\"126.943058\"/>\n     <use style=\"fill:#1f77b4;stroke:#ffffff;stroke-width:0.48;\" x=\"262.176439\" xlink:href=\"#m63ad077948\" y=\"274.771452\"/>\n     <use style=\"fill:#1f77b4;stroke:#ffffff;stroke-width:0.48;\" x=\"262.176439\" xlink:href=\"#m63ad077948\" y=\"369.410611\"/>\n     <use style=\"fill:#1f77b4;stroke:#ffffff;stroke-width:0.48;\" x=\"83.882517\" xlink:href=\"#m63ad077948\" y=\"213.900937\"/>\n     <use style=\"fill:#1f77b4;stroke:#ffffff;stroke-width:0.48;\" x=\"83.882517\" xlink:href=\"#m63ad077948\" y=\"257.379876\"/>\n     <use style=\"fill:#1f77b4;stroke:#ffffff;stroke-width:0.48;\" x=\"262.176439\" xlink:href=\"#m63ad077948\" y=\"334.19267\"/>\n     <use style=\"fill:#1f77b4;stroke:#ffffff;stroke-width:0.48;\" x=\"262.176439\" xlink:href=\"#m63ad077948\" y=\"333.323091\"/>\n     <use style=\"fill:#1f77b4;stroke:#ffffff;stroke-width:0.48;\" x=\"262.176439\" xlink:href=\"#m63ad077948\" y=\"345.931983\"/>\n     <use style=\"fill:#1f77b4;stroke:#ffffff;stroke-width:0.48;\" x=\"83.882517\" xlink:href=\"#m63ad077948\" y=\"154.117395\"/>\n     <use style=\"fill:#1f77b4;stroke:#ffffff;stroke-width:0.48;\" x=\"83.882517\" xlink:href=\"#m63ad077948\" y=\"290.278941\"/>\n     <use style=\"fill:#1f77b4;stroke:#ffffff;stroke-width:0.48;\" x=\"83.882517\" xlink:href=\"#m63ad077948\" y=\"199.407957\"/>\n     <use style=\"fill:#1f77b4;stroke:#ffffff;stroke-width:0.48;\" x=\"262.176439\" xlink:href=\"#m63ad077948\" y=\"325.062092\"/>\n     <use style=\"fill:#1f77b4;stroke:#ffffff;stroke-width:0.48;\" x=\"83.882517\" xlink:href=\"#m63ad077948\" y=\"237.452029\"/>\n     <use style=\"fill:#1f77b4;stroke:#ffffff;stroke-width:0.48;\" x=\"262.176439\" xlink:href=\"#m63ad077948\" y=\"353.758193\"/>\n     <use style=\"fill:#1f77b4;stroke:#ffffff;stroke-width:0.48;\" x=\"262.176439\" xlink:href=\"#m63ad077948\" y=\"351.584246\"/>\n     <use style=\"fill:#1f77b4;stroke:#ffffff;stroke-width:0.48;\" x=\"262.176439\" xlink:href=\"#m63ad077948\" y=\"354.192982\"/>\n     <use style=\"fill:#1f77b4;stroke:#ffffff;stroke-width:0.48;\" x=\"83.882517\" xlink:href=\"#m63ad077948\" y=\"317.061968\"/>\n     <use style=\"fill:#1f77b4;stroke:#ffffff;stroke-width:0.48;\" x=\"262.176439\" xlink:href=\"#m63ad077948\" y=\"356.801718\"/>\n     <use style=\"fill:#1f77b4;stroke:#ffffff;stroke-width:0.48;\" x=\"83.882517\" xlink:href=\"#m63ad077948\" y=\"278.974416\"/>\n     <use style=\"fill:#1f77b4;stroke:#ffffff;stroke-width:0.48;\" x=\"262.176439\" xlink:href=\"#m63ad077948\" y=\"318.540252\"/>\n     <use style=\"fill:#1f77b4;stroke:#ffffff;stroke-width:0.48;\" x=\"262.176439\" xlink:href=\"#m63ad077948\" y=\"348.975509\"/>\n     <use style=\"fill:#1f77b4;stroke:#ffffff;stroke-width:0.48;\" x=\"262.176439\" xlink:href=\"#m63ad077948\" y=\"321.583777\"/>\n     <use style=\"fill:#1f77b4;stroke:#ffffff;stroke-width:0.48;\" x=\"83.882517\" xlink:href=\"#m63ad077948\" y=\"255.205929\"/>\n     <use style=\"fill:#1f77b4;stroke:#ffffff;stroke-width:0.48;\" x=\"262.176439\" xlink:href=\"#m63ad077948\" y=\"343.758036\"/>\n     <use style=\"fill:#1f77b4;stroke:#ffffff;stroke-width:0.48;\" x=\"262.176439\" xlink:href=\"#m63ad077948\" y=\"340.714511\"/>\n     <use style=\"fill:#1f77b4;stroke:#ffffff;stroke-width:0.48;\" x=\"262.176439\" xlink:href=\"#m63ad077948\" y=\"340.279721\"/>\n     <use style=\"fill:#1f77b4;stroke:#ffffff;stroke-width:0.48;\" x=\"262.176439\" xlink:href=\"#m63ad077948\" y=\"303.322623\"/>\n     <use style=\"fill:#1f77b4;stroke:#ffffff;stroke-width:0.48;\" x=\"262.176439\" xlink:href=\"#m63ad077948\" y=\"354.627771\"/>\n     <use style=\"fill:#1f77b4;stroke:#ffffff;stroke-width:0.48;\" x=\"262.176439\" xlink:href=\"#m63ad077948\" y=\"331.583933\"/>\n    </g>\n   </g>\n   <g id=\"matplotlib.axis_1\">\n    <g id=\"xtick_1\">\n     <g id=\"line2d_1\">\n      <defs>\n       <path d=\"M 0 0 \nL 0 3.5 \n\" id=\"m4180e9b912\" style=\"stroke:#000000;stroke-width:0.8;\"/>\n      </defs>\n      <g>\n       <use style=\"stroke:#000000;stroke-width:0.8;\" x=\"83.882517\" xlink:href=\"#m4180e9b912\" y=\"388.432647\"/>\n      </g>\n     </g>\n     <g id=\"text_1\">\n      <!-- Management -->\n      <g transform=\"translate(50.945017 403.031084)scale(0.1 -0.1)\">\n       <defs>\n        <path d=\"M 628 4666 \nL 1569 4666 \nL 2759 1491 \nL 3956 4666 \nL 4897 4666 \nL 4897 0 \nL 4281 0 \nL 4281 4097 \nL 3078 897 \nL 2444 897 \nL 1241 4097 \nL 1241 0 \nL 628 0 \nL 628 4666 \nz\n\" id=\"DejaVuSans-4d\" transform=\"scale(0.015625)\"/>\n        <path d=\"M 2194 1759 \nQ 1497 1759 1228 1600 \nQ 959 1441 959 1056 \nQ 959 750 1161 570 \nQ 1363 391 1709 391 \nQ 2188 391 2477 730 \nQ 2766 1069 2766 1631 \nL 2766 1759 \nL 2194 1759 \nz\nM 3341 1997 \nL 3341 0 \nL 2766 0 \nL 2766 531 \nQ 2569 213 2275 61 \nQ 1981 -91 1556 -91 \nQ 1019 -91 701 211 \nQ 384 513 384 1019 \nQ 384 1609 779 1909 \nQ 1175 2209 1959 2209 \nL 2766 2209 \nL 2766 2266 \nQ 2766 2663 2505 2880 \nQ 2244 3097 1772 3097 \nQ 1472 3097 1187 3025 \nQ 903 2953 641 2809 \nL 641 3341 \nQ 956 3463 1253 3523 \nQ 1550 3584 1831 3584 \nQ 2591 3584 2966 3190 \nQ 3341 2797 3341 1997 \nz\n\" id=\"DejaVuSans-61\" transform=\"scale(0.015625)\"/>\n        <path d=\"M 3513 2113 \nL 3513 0 \nL 2938 0 \nL 2938 2094 \nQ 2938 2591 2744 2837 \nQ 2550 3084 2163 3084 \nQ 1697 3084 1428 2787 \nQ 1159 2491 1159 1978 \nL 1159 0 \nL 581 0 \nL 581 3500 \nL 1159 3500 \nL 1159 2956 \nQ 1366 3272 1645 3428 \nQ 1925 3584 2291 3584 \nQ 2894 3584 3203 3211 \nQ 3513 2838 3513 2113 \nz\n\" id=\"DejaVuSans-6e\" transform=\"scale(0.015625)\"/>\n        <path d=\"M 2906 1791 \nQ 2906 2416 2648 2759 \nQ 2391 3103 1925 3103 \nQ 1463 3103 1205 2759 \nQ 947 2416 947 1791 \nQ 947 1169 1205 825 \nQ 1463 481 1925 481 \nQ 2391 481 2648 825 \nQ 2906 1169 2906 1791 \nz\nM 3481 434 \nQ 3481 -459 3084 -895 \nQ 2688 -1331 1869 -1331 \nQ 1566 -1331 1297 -1286 \nQ 1028 -1241 775 -1147 \nL 775 -588 \nQ 1028 -725 1275 -790 \nQ 1522 -856 1778 -856 \nQ 2344 -856 2625 -561 \nQ 2906 -266 2906 331 \nL 2906 616 \nQ 2728 306 2450 153 \nQ 2172 0 1784 0 \nQ 1141 0 747 490 \nQ 353 981 353 1791 \nQ 353 2603 747 3093 \nQ 1141 3584 1784 3584 \nQ 2172 3584 2450 3431 \nQ 2728 3278 2906 2969 \nL 2906 3500 \nL 3481 3500 \nL 3481 434 \nz\n\" id=\"DejaVuSans-67\" transform=\"scale(0.015625)\"/>\n        <path d=\"M 3597 1894 \nL 3597 1613 \nL 953 1613 \nQ 991 1019 1311 708 \nQ 1631 397 2203 397 \nQ 2534 397 2845 478 \nQ 3156 559 3463 722 \nL 3463 178 \nQ 3153 47 2828 -22 \nQ 2503 -91 2169 -91 \nQ 1331 -91 842 396 \nQ 353 884 353 1716 \nQ 353 2575 817 3079 \nQ 1281 3584 2069 3584 \nQ 2775 3584 3186 3129 \nQ 3597 2675 3597 1894 \nz\nM 3022 2063 \nQ 3016 2534 2758 2815 \nQ 2500 3097 2075 3097 \nQ 1594 3097 1305 2825 \nQ 1016 2553 972 2059 \nL 3022 2063 \nz\n\" id=\"DejaVuSans-65\" transform=\"scale(0.015625)\"/>\n        <path d=\"M 3328 2828 \nQ 3544 3216 3844 3400 \nQ 4144 3584 4550 3584 \nQ 5097 3584 5394 3201 \nQ 5691 2819 5691 2113 \nL 5691 0 \nL 5113 0 \nL 5113 2094 \nQ 5113 2597 4934 2840 \nQ 4756 3084 4391 3084 \nQ 3944 3084 3684 2787 \nQ 3425 2491 3425 1978 \nL 3425 0 \nL 2847 0 \nL 2847 2094 \nQ 2847 2600 2669 2842 \nQ 2491 3084 2119 3084 \nQ 1678 3084 1418 2786 \nQ 1159 2488 1159 1978 \nL 1159 0 \nL 581 0 \nL 581 3500 \nL 1159 3500 \nL 1159 2956 \nQ 1356 3278 1631 3431 \nQ 1906 3584 2284 3584 \nQ 2666 3584 2933 3390 \nQ 3200 3197 3328 2828 \nz\n\" id=\"DejaVuSans-6d\" transform=\"scale(0.015625)\"/>\n        <path d=\"M 1172 4494 \nL 1172 3500 \nL 2356 3500 \nL 2356 3053 \nL 1172 3053 \nL 1172 1153 \nQ 1172 725 1289 603 \nQ 1406 481 1766 481 \nL 2356 481 \nL 2356 0 \nL 1766 0 \nQ 1100 0 847 248 \nQ 594 497 594 1153 \nL 594 3053 \nL 172 3053 \nL 172 3500 \nL 594 3500 \nL 594 4494 \nL 1172 4494 \nz\n\" id=\"DejaVuSans-74\" transform=\"scale(0.015625)\"/>\n       </defs>\n       <use xlink:href=\"#DejaVuSans-4d\"/>\n       <use x=\"86.279297\" xlink:href=\"#DejaVuSans-61\"/>\n       <use x=\"147.558594\" xlink:href=\"#DejaVuSans-6e\"/>\n       <use x=\"210.9375\" xlink:href=\"#DejaVuSans-61\"/>\n       <use x=\"272.216797\" xlink:href=\"#DejaVuSans-67\"/>\n       <use x=\"335.693359\" xlink:href=\"#DejaVuSans-65\"/>\n       <use x=\"397.216797\" xlink:href=\"#DejaVuSans-6d\"/>\n       <use x=\"494.628906\" xlink:href=\"#DejaVuSans-65\"/>\n       <use x=\"556.152344\" xlink:href=\"#DejaVuSans-6e\"/>\n       <use x=\"619.53125\" xlink:href=\"#DejaVuSans-74\"/>\n      </g>\n     </g>\n    </g>\n    <g id=\"xtick_2\">\n     <g id=\"line2d_2\">\n      <g>\n       <use style=\"stroke:#000000;stroke-width:0.8;\" x=\"262.176439\" xlink:href=\"#m4180e9b912\" y=\"388.432647\"/>\n      </g>\n     </g>\n     <g id=\"text_2\">\n      <!-- Administration -->\n      <g transform=\"translate(225.590502 403.031084)scale(0.1 -0.1)\">\n       <defs>\n        <path d=\"M 2188 4044 \nL 1331 1722 \nL 3047 1722 \nL 2188 4044 \nz\nM 1831 4666 \nL 2547 4666 \nL 4325 0 \nL 3669 0 \nL 3244 1197 \nL 1141 1197 \nL 716 0 \nL 50 0 \nL 1831 4666 \nz\n\" id=\"DejaVuSans-41\" transform=\"scale(0.015625)\"/>\n        <path d=\"M 2906 2969 \nL 2906 4863 \nL 3481 4863 \nL 3481 0 \nL 2906 0 \nL 2906 525 \nQ 2725 213 2448 61 \nQ 2172 -91 1784 -91 \nQ 1150 -91 751 415 \nQ 353 922 353 1747 \nQ 353 2572 751 3078 \nQ 1150 3584 1784 3584 \nQ 2172 3584 2448 3432 \nQ 2725 3281 2906 2969 \nz\nM 947 1747 \nQ 947 1113 1208 752 \nQ 1469 391 1925 391 \nQ 2381 391 2643 752 \nQ 2906 1113 2906 1747 \nQ 2906 2381 2643 2742 \nQ 2381 3103 1925 3103 \nQ 1469 3103 1208 2742 \nQ 947 2381 947 1747 \nz\n\" id=\"DejaVuSans-64\" transform=\"scale(0.015625)\"/>\n        <path d=\"M 603 3500 \nL 1178 3500 \nL 1178 0 \nL 603 0 \nL 603 3500 \nz\nM 603 4863 \nL 1178 4863 \nL 1178 4134 \nL 603 4134 \nL 603 4863 \nz\n\" id=\"DejaVuSans-69\" transform=\"scale(0.015625)\"/>\n        <path d=\"M 2834 3397 \nL 2834 2853 \nQ 2591 2978 2328 3040 \nQ 2066 3103 1784 3103 \nQ 1356 3103 1142 2972 \nQ 928 2841 928 2578 \nQ 928 2378 1081 2264 \nQ 1234 2150 1697 2047 \nL 1894 2003 \nQ 2506 1872 2764 1633 \nQ 3022 1394 3022 966 \nQ 3022 478 2636 193 \nQ 2250 -91 1575 -91 \nQ 1294 -91 989 -36 \nQ 684 19 347 128 \nL 347 722 \nQ 666 556 975 473 \nQ 1284 391 1588 391 \nQ 1994 391 2212 530 \nQ 2431 669 2431 922 \nQ 2431 1156 2273 1281 \nQ 2116 1406 1581 1522 \nL 1381 1569 \nQ 847 1681 609 1914 \nQ 372 2147 372 2553 \nQ 372 3047 722 3315 \nQ 1072 3584 1716 3584 \nQ 2034 3584 2315 3537 \nQ 2597 3491 2834 3397 \nz\n\" id=\"DejaVuSans-73\" transform=\"scale(0.015625)\"/>\n        <path d=\"M 2631 2963 \nQ 2534 3019 2420 3045 \nQ 2306 3072 2169 3072 \nQ 1681 3072 1420 2755 \nQ 1159 2438 1159 1844 \nL 1159 0 \nL 581 0 \nL 581 3500 \nL 1159 3500 \nL 1159 2956 \nQ 1341 3275 1631 3429 \nQ 1922 3584 2338 3584 \nQ 2397 3584 2469 3576 \nQ 2541 3569 2628 3553 \nL 2631 2963 \nz\n\" id=\"DejaVuSans-72\" transform=\"scale(0.015625)\"/>\n        <path d=\"M 1959 3097 \nQ 1497 3097 1228 2736 \nQ 959 2375 959 1747 \nQ 959 1119 1226 758 \nQ 1494 397 1959 397 \nQ 2419 397 2687 759 \nQ 2956 1122 2956 1747 \nQ 2956 2369 2687 2733 \nQ 2419 3097 1959 3097 \nz\nM 1959 3584 \nQ 2709 3584 3137 3096 \nQ 3566 2609 3566 1747 \nQ 3566 888 3137 398 \nQ 2709 -91 1959 -91 \nQ 1206 -91 779 398 \nQ 353 888 353 1747 \nQ 353 2609 779 3096 \nQ 1206 3584 1959 3584 \nz\n\" id=\"DejaVuSans-6f\" transform=\"scale(0.015625)\"/>\n       </defs>\n       <use xlink:href=\"#DejaVuSans-41\"/>\n       <use x=\"66.658203\" xlink:href=\"#DejaVuSans-64\"/>\n       <use x=\"130.134766\" xlink:href=\"#DejaVuSans-6d\"/>\n       <use x=\"227.546875\" xlink:href=\"#DejaVuSans-69\"/>\n       <use x=\"255.330078\" xlink:href=\"#DejaVuSans-6e\"/>\n       <use x=\"318.708984\" xlink:href=\"#DejaVuSans-69\"/>\n       <use x=\"346.492188\" xlink:href=\"#DejaVuSans-73\"/>\n       <use x=\"398.591797\" xlink:href=\"#DejaVuSans-74\"/>\n       <use x=\"437.800781\" xlink:href=\"#DejaVuSans-72\"/>\n       <use x=\"478.914062\" xlink:href=\"#DejaVuSans-61\"/>\n       <use x=\"540.193359\" xlink:href=\"#DejaVuSans-74\"/>\n       <use x=\"579.402344\" xlink:href=\"#DejaVuSans-69\"/>\n       <use x=\"607.185547\" xlink:href=\"#DejaVuSans-6f\"/>\n       <use x=\"668.367188\" xlink:href=\"#DejaVuSans-6e\"/>\n      </g>\n     </g>\n    </g>\n    <g id=\"xtick_3\">\n     <g id=\"line2d_3\">\n      <g>\n       <use style=\"stroke:#000000;stroke-width:0.8;\" x=\"440.470362\" xlink:href=\"#m4180e9b912\" y=\"388.432647\"/>\n      </g>\n     </g>\n     <g id=\"text_3\">\n      <!-- Custody -->\n      <g transform=\"translate(420.052393 403.031084)scale(0.1 -0.1)\">\n       <defs>\n        <path d=\"M 4122 4306 \nL 4122 3641 \nQ 3803 3938 3442 4084 \nQ 3081 4231 2675 4231 \nQ 1875 4231 1450 3742 \nQ 1025 3253 1025 2328 \nQ 1025 1406 1450 917 \nQ 1875 428 2675 428 \nQ 3081 428 3442 575 \nQ 3803 722 4122 1019 \nL 4122 359 \nQ 3791 134 3420 21 \nQ 3050 -91 2638 -91 \nQ 1578 -91 968 557 \nQ 359 1206 359 2328 \nQ 359 3453 968 4101 \nQ 1578 4750 2638 4750 \nQ 3056 4750 3426 4639 \nQ 3797 4528 4122 4306 \nz\n\" id=\"DejaVuSans-43\" transform=\"scale(0.015625)\"/>\n        <path d=\"M 544 1381 \nL 544 3500 \nL 1119 3500 \nL 1119 1403 \nQ 1119 906 1312 657 \nQ 1506 409 1894 409 \nQ 2359 409 2629 706 \nQ 2900 1003 2900 1516 \nL 2900 3500 \nL 3475 3500 \nL 3475 0 \nL 2900 0 \nL 2900 538 \nQ 2691 219 2414 64 \nQ 2138 -91 1772 -91 \nQ 1169 -91 856 284 \nQ 544 659 544 1381 \nz\nM 1991 3584 \nL 1991 3584 \nz\n\" id=\"DejaVuSans-75\" transform=\"scale(0.015625)\"/>\n        <path d=\"M 2059 -325 \nQ 1816 -950 1584 -1140 \nQ 1353 -1331 966 -1331 \nL 506 -1331 \nL 506 -850 \nL 844 -850 \nQ 1081 -850 1212 -737 \nQ 1344 -625 1503 -206 \nL 1606 56 \nL 191 3500 \nL 800 3500 \nL 1894 763 \nL 2988 3500 \nL 3597 3500 \nL 2059 -325 \nz\n\" id=\"DejaVuSans-79\" transform=\"scale(0.015625)\"/>\n       </defs>\n       <use xlink:href=\"#DejaVuSans-43\"/>\n       <use x=\"69.824219\" xlink:href=\"#DejaVuSans-75\"/>\n       <use x=\"133.203125\" xlink:href=\"#DejaVuSans-73\"/>\n       <use x=\"185.302734\" xlink:href=\"#DejaVuSans-74\"/>\n       <use x=\"224.511719\" xlink:href=\"#DejaVuSans-6f\"/>\n       <use x=\"285.693359\" xlink:href=\"#DejaVuSans-64\"/>\n       <use x=\"349.169922\" xlink:href=\"#DejaVuSans-79\"/>\n      </g>\n     </g>\n    </g>\n    <g id=\"text_4\">\n     <!-- JOBCAT_DENOTING -->\n     <g transform=\"translate(214.514721 416.532647)scale(0.1 -0.1)\">\n      <defs>\n       <path d=\"M 628 4666 \nL 1259 4666 \nL 1259 325 \nQ 1259 -519 939 -900 \nQ 619 -1281 -91 -1281 \nL -331 -1281 \nL -331 -750 \nL -134 -750 \nQ 284 -750 456 -515 \nQ 628 -281 628 325 \nL 628 4666 \nz\n\" id=\"DejaVuSans-4a\" transform=\"scale(0.015625)\"/>\n       <path d=\"M 2522 4238 \nQ 1834 4238 1429 3725 \nQ 1025 3213 1025 2328 \nQ 1025 1447 1429 934 \nQ 1834 422 2522 422 \nQ 3209 422 3611 934 \nQ 4013 1447 4013 2328 \nQ 4013 3213 3611 3725 \nQ 3209 4238 2522 4238 \nz\nM 2522 4750 \nQ 3503 4750 4090 4092 \nQ 4678 3434 4678 2328 \nQ 4678 1225 4090 567 \nQ 3503 -91 2522 -91 \nQ 1538 -91 948 565 \nQ 359 1222 359 2328 \nQ 359 3434 948 4092 \nQ 1538 4750 2522 4750 \nz\n\" id=\"DejaVuSans-4f\" transform=\"scale(0.015625)\"/>\n       <path d=\"M 1259 2228 \nL 1259 519 \nL 2272 519 \nQ 2781 519 3026 730 \nQ 3272 941 3272 1375 \nQ 3272 1813 3026 2020 \nQ 2781 2228 2272 2228 \nL 1259 2228 \nz\nM 1259 4147 \nL 1259 2741 \nL 2194 2741 \nQ 2656 2741 2882 2914 \nQ 3109 3088 3109 3444 \nQ 3109 3797 2882 3972 \nQ 2656 4147 2194 4147 \nL 1259 4147 \nz\nM 628 4666 \nL 2241 4666 \nQ 2963 4666 3353 4366 \nQ 3744 4066 3744 3513 \nQ 3744 3084 3544 2831 \nQ 3344 2578 2956 2516 \nQ 3422 2416 3680 2098 \nQ 3938 1781 3938 1306 \nQ 3938 681 3513 340 \nQ 3088 0 2303 0 \nL 628 0 \nL 628 4666 \nz\n\" id=\"DejaVuSans-42\" transform=\"scale(0.015625)\"/>\n       <path d=\"M -19 4666 \nL 3928 4666 \nL 3928 4134 \nL 2272 4134 \nL 2272 0 \nL 1638 0 \nL 1638 4134 \nL -19 4134 \nL -19 4666 \nz\n\" id=\"DejaVuSans-54\" transform=\"scale(0.015625)\"/>\n       <path d=\"M 3263 -1063 \nL 3263 -1509 \nL -63 -1509 \nL -63 -1063 \nL 3263 -1063 \nz\n\" id=\"DejaVuSans-5f\" transform=\"scale(0.015625)\"/>\n       <path d=\"M 1259 4147 \nL 1259 519 \nL 2022 519 \nQ 2988 519 3436 956 \nQ 3884 1394 3884 2338 \nQ 3884 3275 3436 3711 \nQ 2988 4147 2022 4147 \nL 1259 4147 \nz\nM 628 4666 \nL 1925 4666 \nQ 3281 4666 3915 4102 \nQ 4550 3538 4550 2338 \nQ 4550 1131 3912 565 \nQ 3275 0 1925 0 \nL 628 0 \nL 628 4666 \nz\n\" id=\"DejaVuSans-44\" transform=\"scale(0.015625)\"/>\n       <path d=\"M 628 4666 \nL 3578 4666 \nL 3578 4134 \nL 1259 4134 \nL 1259 2753 \nL 3481 2753 \nL 3481 2222 \nL 1259 2222 \nL 1259 531 \nL 3634 531 \nL 3634 0 \nL 628 0 \nL 628 4666 \nz\n\" id=\"DejaVuSans-45\" transform=\"scale(0.015625)\"/>\n       <path d=\"M 628 4666 \nL 1478 4666 \nL 3547 763 \nL 3547 4666 \nL 4159 4666 \nL 4159 0 \nL 3309 0 \nL 1241 3903 \nL 1241 0 \nL 628 0 \nL 628 4666 \nz\n\" id=\"DejaVuSans-4e\" transform=\"scale(0.015625)\"/>\n       <path d=\"M 628 4666 \nL 1259 4666 \nL 1259 0 \nL 628 0 \nL 628 4666 \nz\n\" id=\"DejaVuSans-49\" transform=\"scale(0.015625)\"/>\n       <path d=\"M 3809 666 \nL 3809 1919 \nL 2778 1919 \nL 2778 2438 \nL 4434 2438 \nL 4434 434 \nQ 4069 175 3628 42 \nQ 3188 -91 2688 -91 \nQ 1594 -91 976 548 \nQ 359 1188 359 2328 \nQ 359 3472 976 4111 \nQ 1594 4750 2688 4750 \nQ 3144 4750 3555 4637 \nQ 3966 4525 4313 4306 \nL 4313 3634 \nQ 3963 3931 3569 4081 \nQ 3175 4231 2741 4231 \nQ 1884 4231 1454 3753 \nQ 1025 3275 1025 2328 \nQ 1025 1384 1454 906 \nQ 1884 428 2741 428 \nQ 3075 428 3337 486 \nQ 3600 544 3809 666 \nz\n\" id=\"DejaVuSans-47\" transform=\"scale(0.015625)\"/>\n      </defs>\n      <use xlink:href=\"#DejaVuSans-4a\"/>\n      <use x=\"29.492188\" xlink:href=\"#DejaVuSans-4f\"/>\n      <use x=\"108.203125\" xlink:href=\"#DejaVuSans-42\"/>\n      <use x=\"175.056641\" xlink:href=\"#DejaVuSans-43\"/>\n      <use x=\"244.880859\" xlink:href=\"#DejaVuSans-41\"/>\n      <use x=\"305.539062\" xlink:href=\"#DejaVuSans-54\"/>\n      <use x=\"366.623047\" xlink:href=\"#DejaVuSans-5f\"/>\n      <use x=\"416.623047\" xlink:href=\"#DejaVuSans-44\"/>\n      <use x=\"493.625\" xlink:href=\"#DejaVuSans-45\"/>\n      <use x=\"556.808594\" xlink:href=\"#DejaVuSans-4e\"/>\n      <use x=\"631.613281\" xlink:href=\"#DejaVuSans-4f\"/>\n      <use x=\"710.324219\" xlink:href=\"#DejaVuSans-54\"/>\n      <use x=\"771.408203\" xlink:href=\"#DejaVuSans-49\"/>\n      <use x=\"800.900391\" xlink:href=\"#DejaVuSans-4e\"/>\n      <use x=\"875.705078\" xlink:href=\"#DejaVuSans-47\"/>\n     </g>\n    </g>\n   </g>\n   <g id=\"matplotlib.axis_2\">\n    <g id=\"ytick_1\">\n     <g id=\"line2d_4\">\n      <defs>\n       <path d=\"M 0 0 \nL -3.5 0 \n\" id=\"m6df473cac6\" style=\"stroke:#000000;stroke-width:0.8;\"/>\n      </defs>\n      <g>\n       <use style=\"stroke:#000000;stroke-width:0.8;\" x=\"66.053125\" xlink:href=\"#m6df473cac6\" y=\"358.830736\"/>\n      </g>\n     </g>\n     <g id=\"text_5\">\n      <!-- 20000 -->\n      <g transform=\"translate(27.240625 362.629954)scale(0.1 -0.1)\">\n       <defs>\n        <path d=\"M 1228 531 \nL 3431 531 \nL 3431 0 \nL 469 0 \nL 469 531 \nQ 828 903 1448 1529 \nQ 2069 2156 2228 2338 \nQ 2531 2678 2651 2914 \nQ 2772 3150 2772 3378 \nQ 2772 3750 2511 3984 \nQ 2250 4219 1831 4219 \nQ 1534 4219 1204 4116 \nQ 875 4013 500 3803 \nL 500 4441 \nQ 881 4594 1212 4672 \nQ 1544 4750 1819 4750 \nQ 2544 4750 2975 4387 \nQ 3406 4025 3406 3419 \nQ 3406 3131 3298 2873 \nQ 3191 2616 2906 2266 \nQ 2828 2175 2409 1742 \nQ 1991 1309 1228 531 \nz\n\" id=\"DejaVuSans-32\" transform=\"scale(0.015625)\"/>\n        <path d=\"M 2034 4250 \nQ 1547 4250 1301 3770 \nQ 1056 3291 1056 2328 \nQ 1056 1369 1301 889 \nQ 1547 409 2034 409 \nQ 2525 409 2770 889 \nQ 3016 1369 3016 2328 \nQ 3016 3291 2770 3770 \nQ 2525 4250 2034 4250 \nz\nM 2034 4750 \nQ 2819 4750 3233 4129 \nQ 3647 3509 3647 2328 \nQ 3647 1150 3233 529 \nQ 2819 -91 2034 -91 \nQ 1250 -91 836 529 \nQ 422 1150 422 2328 \nQ 422 3509 836 4129 \nQ 1250 4750 2034 4750 \nz\n\" id=\"DejaVuSans-30\" transform=\"scale(0.015625)\"/>\n       </defs>\n       <use xlink:href=\"#DejaVuSans-32\"/>\n       <use x=\"63.623047\" xlink:href=\"#DejaVuSans-30\"/>\n       <use x=\"127.246094\" xlink:href=\"#DejaVuSans-30\"/>\n       <use x=\"190.869141\" xlink:href=\"#DejaVuSans-30\"/>\n       <use x=\"254.492188\" xlink:href=\"#DejaVuSans-30\"/>\n      </g>\n     </g>\n    </g>\n    <g id=\"ytick_2\">\n     <g id=\"line2d_5\">\n      <g>\n       <use style=\"stroke:#000000;stroke-width:0.8;\" x=\"66.053125\" xlink:href=\"#m6df473cac6\" y=\"300.858816\"/>\n      </g>\n     </g>\n     <g id=\"text_6\">\n      <!-- 40000 -->\n      <g transform=\"translate(27.240625 304.658035)scale(0.1 -0.1)\">\n       <defs>\n        <path d=\"M 2419 4116 \nL 825 1625 \nL 2419 1625 \nL 2419 4116 \nz\nM 2253 4666 \nL 3047 4666 \nL 3047 1625 \nL 3713 1625 \nL 3713 1100 \nL 3047 1100 \nL 3047 0 \nL 2419 0 \nL 2419 1100 \nL 313 1100 \nL 313 1709 \nL 2253 4666 \nz\n\" id=\"DejaVuSans-34\" transform=\"scale(0.015625)\"/>\n       </defs>\n       <use xlink:href=\"#DejaVuSans-34\"/>\n       <use x=\"63.623047\" xlink:href=\"#DejaVuSans-30\"/>\n       <use x=\"127.246094\" xlink:href=\"#DejaVuSans-30\"/>\n       <use x=\"190.869141\" xlink:href=\"#DejaVuSans-30\"/>\n       <use x=\"254.492188\" xlink:href=\"#DejaVuSans-30\"/>\n      </g>\n     </g>\n    </g>\n    <g id=\"ytick_3\">\n     <g id=\"line2d_6\">\n      <g>\n       <use style=\"stroke:#000000;stroke-width:0.8;\" x=\"66.053125\" xlink:href=\"#m6df473cac6\" y=\"242.886897\"/>\n      </g>\n     </g>\n     <g id=\"text_7\">\n      <!-- 60000 -->\n      <g transform=\"translate(27.240625 246.686115)scale(0.1 -0.1)\">\n       <defs>\n        <path d=\"M 2113 2584 \nQ 1688 2584 1439 2293 \nQ 1191 2003 1191 1497 \nQ 1191 994 1439 701 \nQ 1688 409 2113 409 \nQ 2538 409 2786 701 \nQ 3034 994 3034 1497 \nQ 3034 2003 2786 2293 \nQ 2538 2584 2113 2584 \nz\nM 3366 4563 \nL 3366 3988 \nQ 3128 4100 2886 4159 \nQ 2644 4219 2406 4219 \nQ 1781 4219 1451 3797 \nQ 1122 3375 1075 2522 \nQ 1259 2794 1537 2939 \nQ 1816 3084 2150 3084 \nQ 2853 3084 3261 2657 \nQ 3669 2231 3669 1497 \nQ 3669 778 3244 343 \nQ 2819 -91 2113 -91 \nQ 1303 -91 875 529 \nQ 447 1150 447 2328 \nQ 447 3434 972 4092 \nQ 1497 4750 2381 4750 \nQ 2619 4750 2861 4703 \nQ 3103 4656 3366 4563 \nz\n\" id=\"DejaVuSans-36\" transform=\"scale(0.015625)\"/>\n       </defs>\n       <use xlink:href=\"#DejaVuSans-36\"/>\n       <use x=\"63.623047\" xlink:href=\"#DejaVuSans-30\"/>\n       <use x=\"127.246094\" xlink:href=\"#DejaVuSans-30\"/>\n       <use x=\"190.869141\" xlink:href=\"#DejaVuSans-30\"/>\n       <use x=\"254.492188\" xlink:href=\"#DejaVuSans-30\"/>\n      </g>\n     </g>\n    </g>\n    <g id=\"ytick_4\">\n     <g id=\"line2d_7\">\n      <g>\n       <use style=\"stroke:#000000;stroke-width:0.8;\" x=\"66.053125\" xlink:href=\"#m6df473cac6\" y=\"184.914977\"/>\n      </g>\n     </g>\n     <g id=\"text_8\">\n      <!-- 80000 -->\n      <g transform=\"translate(27.240625 188.714196)scale(0.1 -0.1)\">\n       <defs>\n        <path d=\"M 2034 2216 \nQ 1584 2216 1326 1975 \nQ 1069 1734 1069 1313 \nQ 1069 891 1326 650 \nQ 1584 409 2034 409 \nQ 2484 409 2743 651 \nQ 3003 894 3003 1313 \nQ 3003 1734 2745 1975 \nQ 2488 2216 2034 2216 \nz\nM 1403 2484 \nQ 997 2584 770 2862 \nQ 544 3141 544 3541 \nQ 544 4100 942 4425 \nQ 1341 4750 2034 4750 \nQ 2731 4750 3128 4425 \nQ 3525 4100 3525 3541 \nQ 3525 3141 3298 2862 \nQ 3072 2584 2669 2484 \nQ 3125 2378 3379 2068 \nQ 3634 1759 3634 1313 \nQ 3634 634 3220 271 \nQ 2806 -91 2034 -91 \nQ 1263 -91 848 271 \nQ 434 634 434 1313 \nQ 434 1759 690 2068 \nQ 947 2378 1403 2484 \nz\nM 1172 3481 \nQ 1172 3119 1398 2916 \nQ 1625 2713 2034 2713 \nQ 2441 2713 2670 2916 \nQ 2900 3119 2900 3481 \nQ 2900 3844 2670 4047 \nQ 2441 4250 2034 4250 \nQ 1625 4250 1398 4047 \nQ 1172 3844 1172 3481 \nz\n\" id=\"DejaVuSans-38\" transform=\"scale(0.015625)\"/>\n       </defs>\n       <use xlink:href=\"#DejaVuSans-38\"/>\n       <use x=\"63.623047\" xlink:href=\"#DejaVuSans-30\"/>\n       <use x=\"127.246094\" xlink:href=\"#DejaVuSans-30\"/>\n       <use x=\"190.869141\" xlink:href=\"#DejaVuSans-30\"/>\n       <use x=\"254.492188\" xlink:href=\"#DejaVuSans-30\"/>\n      </g>\n     </g>\n    </g>\n    <g id=\"ytick_5\">\n     <g id=\"line2d_8\">\n      <g>\n       <use style=\"stroke:#000000;stroke-width:0.8;\" x=\"66.053125\" xlink:href=\"#m6df473cac6\" y=\"126.943058\"/>\n      </g>\n     </g>\n     <g id=\"text_9\">\n      <!-- 100000 -->\n      <g transform=\"translate(20.878125 130.742276)scale(0.1 -0.1)\">\n       <defs>\n        <path d=\"M 794 531 \nL 1825 531 \nL 1825 4091 \nL 703 3866 \nL 703 4441 \nL 1819 4666 \nL 2450 4666 \nL 2450 531 \nL 3481 531 \nL 3481 0 \nL 794 0 \nL 794 531 \nz\n\" id=\"DejaVuSans-31\" transform=\"scale(0.015625)\"/>\n       </defs>\n       <use xlink:href=\"#DejaVuSans-31\"/>\n       <use x=\"63.623047\" xlink:href=\"#DejaVuSans-30\"/>\n       <use x=\"127.246094\" xlink:href=\"#DejaVuSans-30\"/>\n       <use x=\"190.869141\" xlink:href=\"#DejaVuSans-30\"/>\n       <use x=\"254.492188\" xlink:href=\"#DejaVuSans-30\"/>\n       <use x=\"318.115234\" xlink:href=\"#DejaVuSans-30\"/>\n      </g>\n     </g>\n    </g>\n    <g id=\"ytick_6\">\n     <g id=\"line2d_9\">\n      <g>\n       <use style=\"stroke:#000000;stroke-width:0.8;\" x=\"66.053125\" xlink:href=\"#m6df473cac6\" y=\"68.971138\"/>\n      </g>\n     </g>\n     <g id=\"text_10\">\n      <!-- 120000 -->\n      <g transform=\"translate(20.878125 72.770357)scale(0.1 -0.1)\">\n       <use xlink:href=\"#DejaVuSans-31\"/>\n       <use x=\"63.623047\" xlink:href=\"#DejaVuSans-32\"/>\n       <use x=\"127.246094\" xlink:href=\"#DejaVuSans-30\"/>\n       <use x=\"190.869141\" xlink:href=\"#DejaVuSans-30\"/>\n       <use x=\"254.492188\" xlink:href=\"#DejaVuSans-30\"/>\n       <use x=\"318.115234\" xlink:href=\"#DejaVuSans-30\"/>\n      </g>\n     </g>\n    </g>\n    <g id=\"ytick_7\">\n     <g id=\"line2d_10\">\n      <g>\n       <use style=\"stroke:#000000;stroke-width:0.8;\" x=\"66.053125\" xlink:href=\"#m6df473cac6\" y=\"10.999219\"/>\n      </g>\n     </g>\n     <g id=\"text_11\">\n      <!-- 140000 -->\n      <g transform=\"translate(20.878125 14.798437)scale(0.1 -0.1)\">\n       <use xlink:href=\"#DejaVuSans-31\"/>\n       <use x=\"63.623047\" xlink:href=\"#DejaVuSans-34\"/>\n       <use x=\"127.246094\" xlink:href=\"#DejaVuSans-30\"/>\n       <use x=\"190.869141\" xlink:href=\"#DejaVuSans-30\"/>\n       <use x=\"254.492188\" xlink:href=\"#DejaVuSans-30\"/>\n       <use x=\"318.115234\" xlink:href=\"#DejaVuSans-30\"/>\n      </g>\n     </g>\n    </g>\n    <g id=\"text_12\">\n     <!-- SALARY -->\n     <g transform=\"translate(14.798438 217.53739)rotate(-90)scale(0.1 -0.1)\">\n      <defs>\n       <path d=\"M 3425 4513 \nL 3425 3897 \nQ 3066 4069 2747 4153 \nQ 2428 4238 2131 4238 \nQ 1616 4238 1336 4038 \nQ 1056 3838 1056 3469 \nQ 1056 3159 1242 3001 \nQ 1428 2844 1947 2747 \nL 2328 2669 \nQ 3034 2534 3370 2195 \nQ 3706 1856 3706 1288 \nQ 3706 609 3251 259 \nQ 2797 -91 1919 -91 \nQ 1588 -91 1214 -16 \nQ 841 59 441 206 \nL 441 856 \nQ 825 641 1194 531 \nQ 1563 422 1919 422 \nQ 2459 422 2753 634 \nQ 3047 847 3047 1241 \nQ 3047 1584 2836 1778 \nQ 2625 1972 2144 2069 \nL 1759 2144 \nQ 1053 2284 737 2584 \nQ 422 2884 422 3419 \nQ 422 4038 858 4394 \nQ 1294 4750 2059 4750 \nQ 2388 4750 2728 4690 \nQ 3069 4631 3425 4513 \nz\n\" id=\"DejaVuSans-53\" transform=\"scale(0.015625)\"/>\n       <path d=\"M 628 4666 \nL 1259 4666 \nL 1259 531 \nL 3531 531 \nL 3531 0 \nL 628 0 \nL 628 4666 \nz\n\" id=\"DejaVuSans-4c\" transform=\"scale(0.015625)\"/>\n       <path d=\"M 2841 2188 \nQ 3044 2119 3236 1894 \nQ 3428 1669 3622 1275 \nL 4263 0 \nL 3584 0 \nL 2988 1197 \nQ 2756 1666 2539 1819 \nQ 2322 1972 1947 1972 \nL 1259 1972 \nL 1259 0 \nL 628 0 \nL 628 4666 \nL 2053 4666 \nQ 2853 4666 3247 4331 \nQ 3641 3997 3641 3322 \nQ 3641 2881 3436 2590 \nQ 3231 2300 2841 2188 \nz\nM 1259 4147 \nL 1259 2491 \nL 2053 2491 \nQ 2509 2491 2742 2702 \nQ 2975 2913 2975 3322 \nQ 2975 3731 2742 3939 \nQ 2509 4147 2053 4147 \nL 1259 4147 \nz\n\" id=\"DejaVuSans-52\" transform=\"scale(0.015625)\"/>\n       <path d=\"M -13 4666 \nL 666 4666 \nL 1959 2747 \nL 3244 4666 \nL 3922 4666 \nL 2272 2222 \nL 2272 0 \nL 1638 0 \nL 1638 2222 \nL -13 4666 \nz\n\" id=\"DejaVuSans-59\" transform=\"scale(0.015625)\"/>\n      </defs>\n      <use xlink:href=\"#DejaVuSans-53\"/>\n      <use x=\"65.351562\" xlink:href=\"#DejaVuSans-41\"/>\n      <use x=\"133.759766\" xlink:href=\"#DejaVuSans-4c\"/>\n      <use x=\"191.722656\" xlink:href=\"#DejaVuSans-41\"/>\n      <use x=\"260.130859\" xlink:href=\"#DejaVuSans-52\"/>\n      <use x=\"323.238281\" xlink:href=\"#DejaVuSans-59\"/>\n     </g>\n    </g>\n   </g>\n   <g id=\"patch_3\">\n    <path d=\"M 66.053125 388.432647 \nL 66.053125 8.20932 \n\" style=\"fill:none;stroke:#000000;stroke-linecap:square;stroke-linejoin:miter;stroke-width:0.8;\"/>\n   </g>\n   <g id=\"patch_4\">\n    <path d=\"M 66.053125 388.432647 \nL 458.299754 388.432647 \n\" style=\"fill:none;stroke:#000000;stroke-linecap:square;stroke-linejoin:miter;stroke-width:0.8;\"/>\n   </g>\n  </g>\n  <g id=\"axes_2\">\n   <g id=\"patch_5\">\n    <path d=\"M 469.329792 388.432647 \nL 861.57642 388.432647 \nL 861.57642 8.20932 \nL 469.329792 8.20932 \nz\n\" style=\"fill:#ffffff;\"/>\n   </g>\n   <g id=\"PathCollection_2\">\n    <g clip-path=\"url(#p4ce3eea735)\">\n     <use style=\"fill:#1f77b4;stroke:#ffffff;stroke-width:0.48;\" x=\"487.159184\" xlink:href=\"#m63ad077948\" y=\"251.582685\"/>\n     <use style=\"fill:#1f77b4;stroke:#ffffff;stroke-width:0.48;\" x=\"487.159184\" xlink:href=\"#m63ad077948\" y=\"300.279097\"/>\n     <use style=\"fill:#1f77b4;stroke:#ffffff;stroke-width:0.48;\" x=\"843.747028\" xlink:href=\"#m63ad077948\" y=\"354.627771\"/>\n     <use style=\"fill:#1f77b4;stroke:#ffffff;stroke-width:0.48;\" x=\"843.747028\" xlink:href=\"#m63ad077948\" y=\"353.323403\"/>\n     <use style=\"fill:#1f77b4;stroke:#ffffff;stroke-width:0.48;\" x=\"487.159184\" xlink:href=\"#m63ad077948\" y=\"286.365836\"/>\n     <use style=\"fill:#1f77b4;stroke:#ffffff;stroke-width:0.48;\" x=\"487.159184\" xlink:href=\"#m63ad077948\" y=\"323.757724\"/>\n     <use style=\"fill:#1f77b4;stroke:#ffffff;stroke-width:0.48;\" x=\"487.159184\" xlink:href=\"#m63ad077948\" y=\"312.4532\"/>\n     <use style=\"fill:#1f77b4;stroke:#ffffff;stroke-width:0.48;\" x=\"843.747028\" xlink:href=\"#m63ad077948\" y=\"353.323403\"/>\n     <use style=\"fill:#1f77b4;stroke:#ffffff;stroke-width:0.48;\" x=\"843.747028\" xlink:href=\"#m63ad077948\" y=\"335.931827\"/>\n     <use style=\"fill:#1f77b4;stroke:#ffffff;stroke-width:0.48;\" x=\"843.747028\" xlink:href=\"#m63ad077948\" y=\"347.236352\"/>\n     <use style=\"fill:#1f77b4;stroke:#ffffff;stroke-width:0.48;\" x=\"843.747028\" xlink:href=\"#m63ad077948\" y=\"328.975197\"/>\n     <use style=\"fill:#1f77b4;stroke:#ffffff;stroke-width:0.48;\" x=\"487.159184\" xlink:href=\"#m63ad077948\" y=\"334.627459\"/>\n     <use style=\"fill:#1f77b4;stroke:#ffffff;stroke-width:0.48;\" x=\"487.159184\" xlink:href=\"#m63ad077948\" y=\"336.366617\"/>\n     <use style=\"fill:#1f77b4;stroke:#ffffff;stroke-width:0.48;\" x=\"843.747028\" xlink:href=\"#m63ad077948\" y=\"315.061936\"/>\n     <use style=\"fill:#1f77b4;stroke:#ffffff;stroke-width:0.48;\" x=\"487.159184\" xlink:href=\"#m63ad077948\" y=\"337.670985\"/>\n     <use style=\"fill:#1f77b4;stroke:#ffffff;stroke-width:0.48;\" x=\"487.159184\" xlink:href=\"#m63ad077948\" y=\"298.539939\"/>\n     <use style=\"fill:#1f77b4;stroke:#ffffff;stroke-width:0.48;\" x=\"487.159184\" xlink:href=\"#m63ad077948\" y=\"283.46724\"/>\n     <use style=\"fill:#1f77b4;stroke:#ffffff;stroke-width:0.48;\" x=\"487.159184\" xlink:href=\"#m63ad077948\" y=\"116.073323\"/>\n     <use style=\"fill:#1f77b4;stroke:#ffffff;stroke-width:0.48;\" x=\"487.159184\" xlink:href=\"#m63ad077948\" y=\"294.192045\"/>\n     <use style=\"fill:#1f77b4;stroke:#ffffff;stroke-width:0.48;\" x=\"843.747028\" xlink:href=\"#m63ad077948\" y=\"340.714511\"/>\n     <use style=\"fill:#1f77b4;stroke:#ffffff;stroke-width:0.48;\" x=\"843.747028\" xlink:href=\"#m63ad077948\" y=\"304.192201\"/>\n     <use style=\"fill:#1f77b4;stroke:#ffffff;stroke-width:0.48;\" x=\"487.159184\" xlink:href=\"#m63ad077948\" y=\"353.758193\"/>\n     <use style=\"fill:#1f77b4;stroke:#ffffff;stroke-width:0.48;\" x=\"843.747028\" xlink:href=\"#m63ad077948\" y=\"347.236352\"/>\n     <use style=\"fill:#1f77b4;stroke:#ffffff;stroke-width:0.48;\" x=\"843.747028\" xlink:href=\"#m63ad077948\" y=\"367.671453\"/>\n     <use style=\"fill:#1f77b4;stroke:#ffffff;stroke-width:0.48;\" x=\"843.747028\" xlink:href=\"#m63ad077948\" y=\"355.49735\"/>\n     <use style=\"fill:#1f77b4;stroke:#ffffff;stroke-width:0.48;\" x=\"487.159184\" xlink:href=\"#m63ad077948\" y=\"326.80125\"/>\n     <use style=\"fill:#1f77b4;stroke:#ffffff;stroke-width:0.48;\" x=\"487.159184\" xlink:href=\"#m63ad077948\" y=\"241.799923\"/>\n     <use style=\"fill:#1f77b4;stroke:#ffffff;stroke-width:0.48;\" x=\"487.159184\" xlink:href=\"#m63ad077948\" y=\"322.453356\"/>\n     <use style=\"fill:#1f77b4;stroke:#ffffff;stroke-width:0.48;\" x=\"487.159184\" xlink:href=\"#m63ad077948\" y=\"25.492199\"/>\n     <use style=\"fill:#1f77b4;stroke:#ffffff;stroke-width:0.48;\" x=\"487.159184\" xlink:href=\"#m63ad077948\" y=\"326.366461\"/>\n     <use style=\"fill:#1f77b4;stroke:#ffffff;stroke-width:0.48;\" x=\"487.159184\" xlink:href=\"#m63ad077948\" y=\"312.018411\"/>\n     <use style=\"fill:#1f77b4;stroke:#ffffff;stroke-width:0.48;\" x=\"487.159184\" xlink:href=\"#m63ad077948\" y=\"96.145475\"/>\n     <use style=\"fill:#1f77b4;stroke:#ffffff;stroke-width:0.48;\" x=\"487.159184\" xlink:href=\"#m63ad077948\" y=\"295.061624\"/>\n     <use style=\"fill:#1f77b4;stroke:#ffffff;stroke-width:0.48;\" x=\"487.159184\" xlink:href=\"#m63ad077948\" y=\"150.131825\"/>\n     <use style=\"fill:#1f77b4;stroke:#ffffff;stroke-width:0.48;\" x=\"487.159184\" xlink:href=\"#m63ad077948\" y=\"181.291732\"/>\n     <use style=\"fill:#1f77b4;stroke:#ffffff;stroke-width:0.48;\" x=\"843.747028\" xlink:href=\"#m63ad077948\" y=\"325.931671\"/>\n     <use style=\"fill:#1f77b4;stroke:#ffffff;stroke-width:0.48;\" x=\"487.159184\" xlink:href=\"#m63ad077948\" y=\"332.453512\"/>\n     <use style=\"fill:#1f77b4;stroke:#ffffff;stroke-width:0.48;\" x=\"487.159184\" xlink:href=\"#m63ad077948\" y=\"325.931671\"/>\n     <use style=\"fill:#1f77b4;stroke:#ffffff;stroke-width:0.48;\" x=\"487.159184\" xlink:href=\"#m63ad077948\" y=\"312.4532\"/>\n     <use style=\"fill:#1f77b4;stroke:#ffffff;stroke-width:0.48;\" x=\"843.747028\" xlink:href=\"#m63ad077948\" y=\"361.149612\"/>\n     <use style=\"fill:#1f77b4;stroke:#ffffff;stroke-width:0.48;\" x=\"843.747028\" xlink:href=\"#m63ad077948\" y=\"348.54072\"/>\n     <use style=\"fill:#1f77b4;stroke:#ffffff;stroke-width:0.48;\" x=\"487.159184\" xlink:href=\"#m63ad077948\" y=\"315.061936\"/>\n     <use style=\"fill:#1f77b4;stroke:#ffffff;stroke-width:0.48;\" x=\"487.159184\" xlink:href=\"#m63ad077948\" y=\"349.410299\"/>\n     <use style=\"fill:#1f77b4;stroke:#ffffff;stroke-width:0.48;\" x=\"487.159184\" xlink:href=\"#m63ad077948\" y=\"332.018723\"/>\n     <use style=\"fill:#1f77b4;stroke:#ffffff;stroke-width:0.48;\" x=\"487.159184\" xlink:href=\"#m63ad077948\" y=\"327.670829\"/>\n     <use style=\"fill:#1f77b4;stroke:#ffffff;stroke-width:0.48;\" x=\"843.747028\" xlink:href=\"#m63ad077948\" y=\"352.019035\"/>\n     <use style=\"fill:#1f77b4;stroke:#ffffff;stroke-width:0.48;\" x=\"843.747028\" xlink:href=\"#m63ad077948\" y=\"329.844776\"/>\n     <use style=\"fill:#1f77b4;stroke:#ffffff;stroke-width:0.48;\" x=\"487.159184\" xlink:href=\"#m63ad077948\" y=\"327.670829\"/>\n     <use style=\"fill:#1f77b4;stroke:#ffffff;stroke-width:0.48;\" x=\"487.159184\" xlink:href=\"#m63ad077948\" y=\"315.931515\"/>\n     <use style=\"fill:#1f77b4;stroke:#ffffff;stroke-width:0.48;\" x=\"487.159184\" xlink:href=\"#m63ad077948\" y=\"242.886897\"/>\n     <use style=\"fill:#1f77b4;stroke:#ffffff;stroke-width:0.48;\" x=\"487.159184\" xlink:href=\"#m63ad077948\" y=\"313.757568\"/>\n     <use style=\"fill:#1f77b4;stroke:#ffffff;stroke-width:0.48;\" x=\"487.159184\" xlink:href=\"#m63ad077948\" y=\"285.931047\"/>\n     <use style=\"fill:#1f77b4;stroke:#ffffff;stroke-width:0.48;\" x=\"487.159184\" xlink:href=\"#m63ad077948\" y=\"203.031202\"/>\n     <use style=\"fill:#1f77b4;stroke:#ffffff;stroke-width:0.48;\" x=\"487.159184\" xlink:href=\"#m63ad077948\" y=\"344.192826\"/>\n     <use style=\"fill:#1f77b4;stroke:#ffffff;stroke-width:0.48;\" x=\"487.159184\" xlink:href=\"#m63ad077948\" y=\"338.540564\"/>\n     <use style=\"fill:#1f77b4;stroke:#ffffff;stroke-width:0.48;\" x=\"487.159184\" xlink:href=\"#m63ad077948\" y=\"338.975353\"/>\n     <use style=\"fill:#1f77b4;stroke:#ffffff;stroke-width:0.48;\" x=\"487.159184\" xlink:href=\"#m63ad077948\" y=\"318.540252\"/>\n     <use style=\"fill:#1f77b4;stroke:#ffffff;stroke-width:0.48;\" x=\"843.747028\" xlink:href=\"#m63ad077948\" y=\"340.279721\"/>\n     <use style=\"fill:#1f77b4;stroke:#ffffff;stroke-width:0.48;\" x=\"487.159184\" xlink:href=\"#m63ad077948\" y=\"335.497038\"/>\n     <use style=\"fill:#1f77b4;stroke:#ffffff;stroke-width:0.48;\" x=\"487.159184\" xlink:href=\"#m63ad077948\" y=\"327.236039\"/>\n     <use style=\"fill:#1f77b4;stroke:#ffffff;stroke-width:0.48;\" x=\"487.159184\" xlink:href=\"#m63ad077948\" y=\"351.584246\"/>\n     <use style=\"fill:#1f77b4;stroke:#ffffff;stroke-width:0.48;\" x=\"487.159184\" xlink:href=\"#m63ad077948\" y=\"277.670048\"/>\n     <use style=\"fill:#1f77b4;stroke:#ffffff;stroke-width:0.48;\" x=\"487.159184\" xlink:href=\"#m63ad077948\" y=\"257.379876\"/>\n     <use style=\"fill:#1f77b4;stroke:#ffffff;stroke-width:0.48;\" x=\"487.159184\" xlink:href=\"#m63ad077948\" y=\"262.814744\"/>\n     <use style=\"fill:#1f77b4;stroke:#ffffff;stroke-width:0.48;\" x=\"487.159184\" xlink:href=\"#m63ad077948\" y=\"353.323403\"/>\n     <use style=\"fill:#1f77b4;stroke:#ffffff;stroke-width:0.48;\" x=\"487.159184\" xlink:href=\"#m63ad077948\" y=\"190.349845\"/>\n     <use style=\"fill:#1f77b4;stroke:#ffffff;stroke-width:0.48;\" x=\"487.159184\" xlink:href=\"#m63ad077948\" y=\"283.46724\"/>\n     <use style=\"fill:#1f77b4;stroke:#ffffff;stroke-width:0.48;\" x=\"487.159184\" xlink:href=\"#m63ad077948\" y=\"285.641187\"/>\n     <use style=\"fill:#1f77b4;stroke:#ffffff;stroke-width:0.48;\" x=\"487.159184\" xlink:href=\"#m63ad077948\" y=\"252.887053\"/>\n     <use style=\"fill:#1f77b4;stroke:#ffffff;stroke-width:0.48;\" x=\"487.159184\" xlink:href=\"#m63ad077948\" y=\"297.67036\"/>\n     <use style=\"fill:#1f77b4;stroke:#ffffff;stroke-width:0.48;\" x=\"487.159184\" xlink:href=\"#m63ad077948\" y=\"177.668487\"/>\n     <use style=\"fill:#1f77b4;stroke:#ffffff;stroke-width:0.48;\" x=\"843.747028\" xlink:href=\"#m63ad077948\" y=\"260.278472\"/>\n     <use style=\"fill:#1f77b4;stroke:#ffffff;stroke-width:0.48;\" x=\"843.747028\" xlink:href=\"#m63ad077948\" y=\"340.279721\"/>\n     <use style=\"fill:#1f77b4;stroke:#ffffff;stroke-width:0.48;\" x=\"843.747028\" xlink:href=\"#m63ad077948\" y=\"318.540252\"/>\n     <use style=\"fill:#1f77b4;stroke:#ffffff;stroke-width:0.48;\" x=\"843.747028\" xlink:href=\"#m63ad077948\" y=\"346.801562\"/>\n     <use style=\"fill:#1f77b4;stroke:#ffffff;stroke-width:0.48;\" x=\"843.747028\" xlink:href=\"#m63ad077948\" y=\"332.018723\"/>\n     <use style=\"fill:#1f77b4;stroke:#ffffff;stroke-width:0.48;\" x=\"843.747028\" xlink:href=\"#m63ad077948\" y=\"336.801406\"/>\n     <use style=\"fill:#1f77b4;stroke:#ffffff;stroke-width:0.48;\" x=\"843.747028\" xlink:href=\"#m63ad077948\" y=\"350.279877\"/>\n     <use style=\"fill:#1f77b4;stroke:#ffffff;stroke-width:0.48;\" x=\"843.747028\" xlink:href=\"#m63ad077948\" y=\"315.931515\"/>\n     <use style=\"fill:#1f77b4;stroke:#ffffff;stroke-width:0.48;\" x=\"843.747028\" xlink:href=\"#m63ad077948\" y=\"268.97426\"/>\n     <use style=\"fill:#1f77b4;stroke:#ffffff;stroke-width:0.48;\" x=\"843.747028\" xlink:href=\"#m63ad077948\" y=\"346.366773\"/>\n     <use style=\"fill:#1f77b4;stroke:#ffffff;stroke-width:0.48;\" x=\"843.747028\" xlink:href=\"#m63ad077948\" y=\"345.062405\"/>\n     <use style=\"fill:#1f77b4;stroke:#ffffff;stroke-width:0.48;\" x=\"843.747028\" xlink:href=\"#m63ad077948\" y=\"350.279877\"/>\n     <use style=\"fill:#1f77b4;stroke:#ffffff;stroke-width:0.48;\" x=\"843.747028\" xlink:href=\"#m63ad077948\" y=\"344.192826\"/>\n     <use style=\"fill:#1f77b4;stroke:#ffffff;stroke-width:0.48;\" x=\"487.159184\" xlink:href=\"#m63ad077948\" y=\"341.584089\"/>\n     <use style=\"fill:#1f77b4;stroke:#ffffff;stroke-width:0.48;\" x=\"487.159184\" xlink:href=\"#m63ad077948\" y=\"325.062092\"/>\n     <use style=\"fill:#1f77b4;stroke:#ffffff;stroke-width:0.48;\" x=\"487.159184\" xlink:href=\"#m63ad077948\" y=\"346.801562\"/>\n     <use style=\"fill:#1f77b4;stroke:#ffffff;stroke-width:0.48;\" x=\"487.159184\" xlink:href=\"#m63ad077948\" y=\"206.654447\"/>\n     <use style=\"fill:#1f77b4;stroke:#ffffff;stroke-width:0.48;\" x=\"487.159184\" xlink:href=\"#m63ad077948\" y=\"217.524182\"/>\n     <use style=\"fill:#1f77b4;stroke:#ffffff;stroke-width:0.48;\" x=\"843.747028\" xlink:href=\"#m63ad077948\" y=\"369.8454\"/>\n     <use style=\"fill:#1f77b4;stroke:#ffffff;stroke-width:0.48;\" x=\"843.747028\" xlink:href=\"#m63ad077948\" y=\"358.540876\"/>\n     <use style=\"fill:#1f77b4;stroke:#ffffff;stroke-width:0.48;\" x=\"843.747028\" xlink:href=\"#m63ad077948\" y=\"347.236352\"/>\n     <use style=\"fill:#1f77b4;stroke:#ffffff;stroke-width:0.48;\" x=\"843.747028\" xlink:href=\"#m63ad077948\" y=\"341.584089\"/>\n     <use style=\"fill:#1f77b4;stroke:#ffffff;stroke-width:0.48;\" x=\"843.747028\" xlink:href=\"#m63ad077948\" y=\"345.497194\"/>\n     <use style=\"fill:#1f77b4;stroke:#ffffff;stroke-width:0.48;\" x=\"843.747028\" xlink:href=\"#m63ad077948\" y=\"334.19267\"/>\n     <use style=\"fill:#1f77b4;stroke:#ffffff;stroke-width:0.48;\" x=\"487.159184\" xlink:href=\"#m63ad077948\" y=\"327.670829\"/>\n     <use style=\"fill:#1f77b4;stroke:#ffffff;stroke-width:0.48;\" x=\"487.159184\" xlink:href=\"#m63ad077948\" y=\"300.279097\"/>\n     <use style=\"fill:#1f77b4;stroke:#ffffff;stroke-width:0.48;\" x=\"487.159184\" xlink:href=\"#m63ad077948\" y=\"329.844776\"/>\n     <use style=\"fill:#1f77b4;stroke:#ffffff;stroke-width:0.48;\" x=\"843.747028\" xlink:href=\"#m63ad077948\" y=\"352.888614\"/>\n     <use style=\"fill:#1f77b4;stroke:#ffffff;stroke-width:0.48;\" x=\"487.159184\" xlink:href=\"#m63ad077948\" y=\"189.98752\"/>\n     <use style=\"fill:#1f77b4;stroke:#ffffff;stroke-width:0.48;\" x=\"487.159184\" xlink:href=\"#m63ad077948\" y=\"241.075274\"/>\n     <use style=\"fill:#1f77b4;stroke:#ffffff;stroke-width:0.48;\" x=\"487.159184\" xlink:href=\"#m63ad077948\" y=\"301.148676\"/>\n     <use style=\"fill:#1f77b4;stroke:#ffffff;stroke-width:0.48;\" x=\"487.159184\" xlink:href=\"#m63ad077948\" y=\"135.638846\"/>\n     <use style=\"fill:#1f77b4;stroke:#ffffff;stroke-width:0.48;\" x=\"487.159184\" xlink:href=\"#m63ad077948\" y=\"337.236196\"/>\n     <use style=\"fill:#1f77b4;stroke:#ffffff;stroke-width:0.48;\" x=\"487.159184\" xlink:href=\"#m63ad077948\" y=\"325.062092\"/>\n     <use style=\"fill:#1f77b4;stroke:#ffffff;stroke-width:0.48;\" x=\"487.159184\" xlink:href=\"#m63ad077948\" y=\"152.305772\"/>\n     <use style=\"fill:#1f77b4;stroke:#ffffff;stroke-width:0.48;\" x=\"843.747028\" xlink:href=\"#m63ad077948\" y=\"343.758036\"/>\n     <use style=\"fill:#1f77b4;stroke:#ffffff;stroke-width:0.48;\" x=\"843.747028\" xlink:href=\"#m63ad077948\" y=\"355.93214\"/>\n     <use style=\"fill:#1f77b4;stroke:#ffffff;stroke-width:0.48;\" x=\"487.159184\" xlink:href=\"#m63ad077948\" y=\"328.540408\"/>\n     <use style=\"fill:#1f77b4;stroke:#ffffff;stroke-width:0.48;\" x=\"487.159184\" xlink:href=\"#m63ad077948\" y=\"334.627459\"/>\n     <use style=\"fill:#1f77b4;stroke:#ffffff;stroke-width:0.48;\" x=\"487.159184\" xlink:href=\"#m63ad077948\" y=\"327.670829\"/>\n     <use style=\"fill:#1f77b4;stroke:#ffffff;stroke-width:0.48;\" x=\"487.159184\" xlink:href=\"#m63ad077948\" y=\"327.670829\"/>\n     <use style=\"fill:#1f77b4;stroke:#ffffff;stroke-width:0.48;\" x=\"487.159184\" xlink:href=\"#m63ad077948\" y=\"257.742201\"/>\n     <use style=\"fill:#1f77b4;stroke:#ffffff;stroke-width:0.48;\" x=\"487.159184\" xlink:href=\"#m63ad077948\" y=\"307.235727\"/>\n     <use style=\"fill:#1f77b4;stroke:#ffffff;stroke-width:0.48;\" x=\"487.159184\" xlink:href=\"#m63ad077948\" y=\"319.84462\"/>\n     <use style=\"fill:#1f77b4;stroke:#ffffff;stroke-width:0.48;\" x=\"487.159184\" xlink:href=\"#m63ad077948\" y=\"328.975197\"/>\n     <use style=\"fill:#1f77b4;stroke:#ffffff;stroke-width:0.48;\" x=\"843.747028\" xlink:href=\"#m63ad077948\" y=\"325.496882\"/>\n     <use style=\"fill:#1f77b4;stroke:#ffffff;stroke-width:0.48;\" x=\"843.747028\" xlink:href=\"#m63ad077948\" y=\"325.062092\"/>\n     <use style=\"fill:#1f77b4;stroke:#ffffff;stroke-width:0.48;\" x=\"843.747028\" xlink:href=\"#m63ad077948\" y=\"343.758036\"/>\n     <use style=\"fill:#1f77b4;stroke:#ffffff;stroke-width:0.48;\" x=\"843.747028\" xlink:href=\"#m63ad077948\" y=\"307.235727\"/>\n     <use style=\"fill:#1f77b4;stroke:#ffffff;stroke-width:0.48;\" x=\"843.747028\" xlink:href=\"#m63ad077948\" y=\"362.45398\"/>\n     <use style=\"fill:#1f77b4;stroke:#ffffff;stroke-width:0.48;\" x=\"843.747028\" xlink:href=\"#m63ad077948\" y=\"322.453356\"/>\n     <use style=\"fill:#1f77b4;stroke:#ffffff;stroke-width:0.48;\" x=\"843.747028\" xlink:href=\"#m63ad077948\" y=\"320.279409\"/>\n     <use style=\"fill:#1f77b4;stroke:#ffffff;stroke-width:0.48;\" x=\"843.747028\" xlink:href=\"#m63ad077948\" y=\"305.06178\"/>\n     <use style=\"fill:#1f77b4;stroke:#ffffff;stroke-width:0.48;\" x=\"487.159184\" xlink:href=\"#m63ad077948\" y=\"337.236196\"/>\n     <use style=\"fill:#1f77b4;stroke:#ffffff;stroke-width:0.48;\" x=\"487.159184\" xlink:href=\"#m63ad077948\" y=\"346.366773\"/>\n     <use style=\"fill:#1f77b4;stroke:#ffffff;stroke-width:0.48;\" x=\"487.159184\" xlink:href=\"#m63ad077948\" y=\"327.670829\"/>\n     <use style=\"fill:#1f77b4;stroke:#ffffff;stroke-width:0.48;\" x=\"843.747028\" xlink:href=\"#m63ad077948\" y=\"359.845244\"/>\n     <use style=\"fill:#1f77b4;stroke:#ffffff;stroke-width:0.48;\" x=\"487.159184\" xlink:href=\"#m63ad077948\" y=\"217.524182\"/>\n     <use style=\"fill:#1f77b4;stroke:#ffffff;stroke-width:0.48;\" x=\"487.159184\" xlink:href=\"#m63ad077948\" y=\"244.698519\"/>\n     <use style=\"fill:#1f77b4;stroke:#ffffff;stroke-width:0.48;\" x=\"487.159184\" xlink:href=\"#m63ad077948\" y=\"325.496882\"/>\n     <use style=\"fill:#1f77b4;stroke:#ffffff;stroke-width:0.48;\" x=\"487.159184\" xlink:href=\"#m63ad077948\" y=\"337.670985\"/>\n     <use style=\"fill:#1f77b4;stroke:#ffffff;stroke-width:0.48;\" x=\"487.159184\" xlink:href=\"#m63ad077948\" y=\"338.540564\"/>\n     <use style=\"fill:#1f77b4;stroke:#ffffff;stroke-width:0.48;\" x=\"843.747028\" xlink:href=\"#m63ad077948\" y=\"296.365992\"/>\n     <use style=\"fill:#1f77b4;stroke:#ffffff;stroke-width:0.48;\" x=\"843.747028\" xlink:href=\"#m63ad077948\" y=\"340.714511\"/>\n     <use style=\"fill:#1f77b4;stroke:#ffffff;stroke-width:0.48;\" x=\"487.159184\" xlink:href=\"#m63ad077948\" y=\"352.453824\"/>\n     <use style=\"fill:#1f77b4;stroke:#ffffff;stroke-width:0.48;\" x=\"487.159184\" xlink:href=\"#m63ad077948\" y=\"228.393917\"/>\n     <use style=\"fill:#1f77b4;stroke:#ffffff;stroke-width:0.48;\" x=\"487.159184\" xlink:href=\"#m63ad077948\" y=\"327.236039\"/>\n     <use style=\"fill:#1f77b4;stroke:#ffffff;stroke-width:0.48;\" x=\"843.747028\" xlink:href=\"#m63ad077948\" y=\"358.540876\"/>\n     <use style=\"fill:#1f77b4;stroke:#ffffff;stroke-width:0.48;\" x=\"843.747028\" xlink:href=\"#m63ad077948\" y=\"352.019035\"/>\n     <use style=\"fill:#1f77b4;stroke:#ffffff;stroke-width:0.48;\" x=\"843.747028\" xlink:href=\"#m63ad077948\" y=\"313.757568\"/>\n     <use style=\"fill:#1f77b4;stroke:#ffffff;stroke-width:0.48;\" x=\"843.747028\" xlink:href=\"#m63ad077948\" y=\"334.19267\"/>\n     <use style=\"fill:#1f77b4;stroke:#ffffff;stroke-width:0.48;\" x=\"843.747028\" xlink:href=\"#m63ad077948\" y=\"345.931983\"/>\n     <use style=\"fill:#1f77b4;stroke:#ffffff;stroke-width:0.48;\" x=\"843.747028\" xlink:href=\"#m63ad077948\" y=\"368.541032\"/>\n     <use style=\"fill:#1f77b4;stroke:#ffffff;stroke-width:0.48;\" x=\"487.159184\" xlink:href=\"#m63ad077948\" y=\"339.410143\"/>\n     <use style=\"fill:#1f77b4;stroke:#ffffff;stroke-width:0.48;\" x=\"487.159184\" xlink:href=\"#m63ad077948\" y=\"289.409362\"/>\n     <use style=\"fill:#1f77b4;stroke:#ffffff;stroke-width:0.48;\" x=\"487.159184\" xlink:href=\"#m63ad077948\" y=\"348.10593\"/>\n     <use style=\"fill:#1f77b4;stroke:#ffffff;stroke-width:0.48;\" x=\"843.747028\" xlink:href=\"#m63ad077948\" y=\"339.844932\"/>\n     <use style=\"fill:#1f77b4;stroke:#ffffff;stroke-width:0.48;\" x=\"487.159184\" xlink:href=\"#m63ad077948\" y=\"336.801406\"/>\n     <use style=\"fill:#1f77b4;stroke:#ffffff;stroke-width:0.48;\" x=\"487.159184\" xlink:href=\"#m63ad077948\" y=\"342.018879\"/>\n     <use style=\"fill:#1f77b4;stroke:#ffffff;stroke-width:0.48;\" x=\"487.159184\" xlink:href=\"#m63ad077948\" y=\"294.192045\"/>\n     <use style=\"fill:#1f77b4;stroke:#ffffff;stroke-width:0.48;\" x=\"487.159184\" xlink:href=\"#m63ad077948\" y=\"327.670829\"/>\n     <use style=\"fill:#1f77b4;stroke:#ffffff;stroke-width:0.48;\" x=\"843.747028\" xlink:href=\"#m63ad077948\" y=\"339.410143\"/>\n     <use style=\"fill:#1f77b4;stroke:#ffffff;stroke-width:0.48;\" x=\"843.747028\" xlink:href=\"#m63ad077948\" y=\"356.366929\"/>\n     <use style=\"fill:#1f77b4;stroke:#ffffff;stroke-width:0.48;\" x=\"487.159184\" xlink:href=\"#m63ad077948\" y=\"314.627147\"/>\n     <use style=\"fill:#1f77b4;stroke:#ffffff;stroke-width:0.48;\" x=\"487.159184\" xlink:href=\"#m63ad077948\" y=\"339.410143\"/>\n     <use style=\"fill:#1f77b4;stroke:#ffffff;stroke-width:0.48;\" x=\"843.747028\" xlink:href=\"#m63ad077948\" y=\"339.844932\"/>\n     <use style=\"fill:#1f77b4;stroke:#ffffff;stroke-width:0.48;\" x=\"843.747028\" xlink:href=\"#m63ad077948\" y=\"336.366617\"/>\n     <use style=\"fill:#1f77b4;stroke:#ffffff;stroke-width:0.48;\" x=\"843.747028\" xlink:href=\"#m63ad077948\" y=\"344.192826\"/>\n     <use style=\"fill:#1f77b4;stroke:#ffffff;stroke-width:0.48;\" x=\"487.159184\" xlink:href=\"#m63ad077948\" y=\"225.495321\"/>\n     <use style=\"fill:#1f77b4;stroke:#ffffff;stroke-width:0.48;\" x=\"487.159184\" xlink:href=\"#m63ad077948\" y=\"264.191577\"/>\n     <use style=\"fill:#1f77b4;stroke:#ffffff;stroke-width:0.48;\" x=\"487.159184\" xlink:href=\"#m63ad077948\" y=\"284.554214\"/>\n     <use style=\"fill:#1f77b4;stroke:#ffffff;stroke-width:0.48;\" x=\"487.159184\" xlink:href=\"#m63ad077948\" y=\"327.236039\"/>\n     <use style=\"fill:#1f77b4;stroke:#ffffff;stroke-width:0.48;\" x=\"843.747028\" xlink:href=\"#m63ad077948\" y=\"331.583933\"/>\n     <use style=\"fill:#1f77b4;stroke:#ffffff;stroke-width:0.48;\" x=\"843.747028\" xlink:href=\"#m63ad077948\" y=\"320.279409\"/>\n     <use style=\"fill:#1f77b4;stroke:#ffffff;stroke-width:0.48;\" x=\"843.747028\" xlink:href=\"#m63ad077948\" y=\"353.323403\"/>\n     <use style=\"fill:#1f77b4;stroke:#ffffff;stroke-width:0.48;\" x=\"843.747028\" xlink:href=\"#m63ad077948\" y=\"364.193138\"/>\n     <use style=\"fill:#1f77b4;stroke:#ffffff;stroke-width:0.48;\" x=\"843.747028\" xlink:href=\"#m63ad077948\" y=\"280.930969\"/>\n     <use style=\"fill:#1f77b4;stroke:#ffffff;stroke-width:0.48;\" x=\"487.159184\" xlink:href=\"#m63ad077948\" y=\"342.888458\"/>\n     <use style=\"fill:#1f77b4;stroke:#ffffff;stroke-width:0.48;\" x=\"487.159184\" xlink:href=\"#m63ad077948\" y=\"339.844932\"/>\n     <use style=\"fill:#1f77b4;stroke:#ffffff;stroke-width:0.48;\" x=\"487.159184\" xlink:href=\"#m63ad077948\" y=\"339.410143\"/>\n     <use style=\"fill:#1f77b4;stroke:#ffffff;stroke-width:0.48;\" x=\"843.747028\" xlink:href=\"#m63ad077948\" y=\"330.279565\"/>\n     <use style=\"fill:#1f77b4;stroke:#ffffff;stroke-width:0.48;\" x=\"487.159184\" xlink:href=\"#m63ad077948\" y=\"216.074884\"/>\n     <use style=\"fill:#1f77b4;stroke:#ffffff;stroke-width:0.48;\" x=\"487.159184\" xlink:href=\"#m63ad077948\" y=\"324.192514\"/>\n     <use style=\"fill:#1f77b4;stroke:#ffffff;stroke-width:0.48;\" x=\"487.159184\" xlink:href=\"#m63ad077948\" y=\"340.714511\"/>\n     <use style=\"fill:#1f77b4;stroke:#ffffff;stroke-width:0.48;\" x=\"843.747028\" xlink:href=\"#m63ad077948\" y=\"313.322779\"/>\n     <use style=\"fill:#1f77b4;stroke:#ffffff;stroke-width:0.48;\" x=\"843.747028\" xlink:href=\"#m63ad077948\" y=\"334.19267\"/>\n     <use style=\"fill:#1f77b4;stroke:#ffffff;stroke-width:0.48;\" x=\"843.747028\" xlink:href=\"#m63ad077948\" y=\"367.236664\"/>\n     <use style=\"fill:#1f77b4;stroke:#ffffff;stroke-width:0.48;\" x=\"487.159184\" xlink:href=\"#m63ad077948\" y=\"343.758036\"/>\n     <use style=\"fill:#1f77b4;stroke:#ffffff;stroke-width:0.48;\" x=\"843.747028\" xlink:href=\"#m63ad077948\" y=\"347.236352\"/>\n     <use style=\"fill:#1f77b4;stroke:#ffffff;stroke-width:0.48;\" x=\"843.747028\" xlink:href=\"#m63ad077948\" y=\"337.236196\"/>\n     <use style=\"fill:#1f77b4;stroke:#ffffff;stroke-width:0.48;\" x=\"843.747028\" xlink:href=\"#m63ad077948\" y=\"363.323559\"/>\n     <use style=\"fill:#1f77b4;stroke:#ffffff;stroke-width:0.48;\" x=\"487.159184\" xlink:href=\"#m63ad077948\" y=\"302.887833\"/>\n     <use style=\"fill:#1f77b4;stroke:#ffffff;stroke-width:0.48;\" x=\"487.159184\" xlink:href=\"#m63ad077948\" y=\"304.192201\"/>\n     <use style=\"fill:#1f77b4;stroke:#ffffff;stroke-width:0.48;\" x=\"487.159184\" xlink:href=\"#m63ad077948\" y=\"327.670829\"/>\n     <use style=\"fill:#1f77b4;stroke:#ffffff;stroke-width:0.48;\" x=\"487.159184\" xlink:href=\"#m63ad077948\" y=\"308.105306\"/>\n     <use style=\"fill:#1f77b4;stroke:#ffffff;stroke-width:0.48;\" x=\"487.159184\" xlink:href=\"#m63ad077948\" y=\"246.510142\"/>\n     <use style=\"fill:#1f77b4;stroke:#ffffff;stroke-width:0.48;\" x=\"843.747028\" xlink:href=\"#m63ad077948\" y=\"316.801094\"/>\n     <use style=\"fill:#1f77b4;stroke:#ffffff;stroke-width:0.48;\" x=\"843.747028\" xlink:href=\"#m63ad077948\" y=\"312.4532\"/>\n     <use style=\"fill:#1f77b4;stroke:#ffffff;stroke-width:0.48;\" x=\"843.747028\" xlink:href=\"#m63ad077948\" y=\"332.453512\"/>\n     <use style=\"fill:#1f77b4;stroke:#ffffff;stroke-width:0.48;\" x=\"843.747028\" xlink:href=\"#m63ad077948\" y=\"368.975821\"/>\n     <use style=\"fill:#1f77b4;stroke:#ffffff;stroke-width:0.48;\" x=\"487.159184\" xlink:href=\"#m63ad077948\" y=\"359.845244\"/>\n     <use style=\"fill:#1f77b4;stroke:#ffffff;stroke-width:0.48;\" x=\"843.747028\" xlink:href=\"#m63ad077948\" y=\"345.062405\"/>\n     <use style=\"fill:#1f77b4;stroke:#ffffff;stroke-width:0.48;\" x=\"843.747028\" xlink:href=\"#m63ad077948\" y=\"338.105774\"/>\n     <use style=\"fill:#1f77b4;stroke:#ffffff;stroke-width:0.48;\" x=\"843.747028\" xlink:href=\"#m63ad077948\" y=\"340.279721\"/>\n     <use style=\"fill:#1f77b4;stroke:#ffffff;stroke-width:0.48;\" x=\"843.747028\" xlink:href=\"#m63ad077948\" y=\"349.845088\"/>\n     <use style=\"fill:#1f77b4;stroke:#ffffff;stroke-width:0.48;\" x=\"487.159184\" xlink:href=\"#m63ad077948\" y=\"257.669736\"/>\n     <use style=\"fill:#1f77b4;stroke:#ffffff;stroke-width:0.48;\" x=\"487.159184\" xlink:href=\"#m63ad077948\" y=\"211.364665\"/>\n     <use style=\"fill:#1f77b4;stroke:#ffffff;stroke-width:0.48;\" x=\"487.159184\" xlink:href=\"#m63ad077948\" y=\"268.249611\"/>\n     <use style=\"fill:#1f77b4;stroke:#ffffff;stroke-width:0.48;\" x=\"487.159184\" xlink:href=\"#m63ad077948\" y=\"221.147427\"/>\n     <use style=\"fill:#1f77b4;stroke:#ffffff;stroke-width:0.48;\" x=\"487.159184\" xlink:href=\"#m63ad077948\" y=\"331.757849\"/>\n     <use style=\"fill:#1f77b4;stroke:#ffffff;stroke-width:0.48;\" x=\"487.159184\" xlink:href=\"#m63ad077948\" y=\"302.018254\"/>\n     <use style=\"fill:#1f77b4;stroke:#ffffff;stroke-width:0.48;\" x=\"487.159184\" xlink:href=\"#m63ad077948\" y=\"332.453512\"/>\n     <use style=\"fill:#1f77b4;stroke:#ffffff;stroke-width:0.48;\" x=\"487.159184\" xlink:href=\"#m63ad077948\" y=\"320.714198\"/>\n     <use style=\"fill:#1f77b4;stroke:#ffffff;stroke-width:0.48;\" x=\"487.159184\" xlink:href=\"#m63ad077948\" y=\"223.321374\"/>\n     <use style=\"fill:#1f77b4;stroke:#ffffff;stroke-width:0.48;\" x=\"487.159184\" xlink:href=\"#m63ad077948\" y=\"318.975041\"/>\n     <use style=\"fill:#1f77b4;stroke:#ffffff;stroke-width:0.48;\" x=\"487.159184\" xlink:href=\"#m63ad077948\" y=\"337.670985\"/>\n     <use style=\"fill:#1f77b4;stroke:#ffffff;stroke-width:0.48;\" x=\"843.747028\" xlink:href=\"#m63ad077948\" y=\"347.236352\"/>\n     <use style=\"fill:#1f77b4;stroke:#ffffff;stroke-width:0.48;\" x=\"843.747028\" xlink:href=\"#m63ad077948\" y=\"359.410455\"/>\n     <use style=\"fill:#1f77b4;stroke:#ffffff;stroke-width:0.48;\" x=\"487.159184\" xlink:href=\"#m63ad077948\" y=\"328.105618\"/>\n     <use style=\"fill:#1f77b4;stroke:#ffffff;stroke-width:0.48;\" x=\"487.159184\" xlink:href=\"#m63ad077948\" y=\"332.888302\"/>\n     <use style=\"fill:#1f77b4;stroke:#ffffff;stroke-width:0.48;\" x=\"487.159184\" xlink:href=\"#m63ad077948\" y=\"305.49657\"/>\n     <use style=\"fill:#1f77b4;stroke:#ffffff;stroke-width:0.48;\" x=\"487.159184\" xlink:href=\"#m63ad077948\" y=\"327.670829\"/>\n     <use style=\"fill:#1f77b4;stroke:#ffffff;stroke-width:0.48;\" x=\"843.747028\" xlink:href=\"#m63ad077948\" y=\"357.671297\"/>\n     <use style=\"fill:#1f77b4;stroke:#ffffff;stroke-width:0.48;\" x=\"843.747028\" xlink:href=\"#m63ad077948\" y=\"361.149612\"/>\n     <use style=\"fill:#1f77b4;stroke:#ffffff;stroke-width:0.48;\" x=\"487.159184\" xlink:href=\"#m63ad077948\" y=\"329.409986\"/>\n     <use style=\"fill:#1f77b4;stroke:#ffffff;stroke-width:0.48;\" x=\"487.159184\" xlink:href=\"#m63ad077948\" y=\"316.453262\"/>\n     <use style=\"fill:#1f77b4;stroke:#ffffff;stroke-width:0.48;\" x=\"487.159184\" xlink:href=\"#m63ad077948\" y=\"184.914977\"/>\n     <use style=\"fill:#1f77b4;stroke:#ffffff;stroke-width:0.48;\" x=\"487.159184\" xlink:href=\"#m63ad077948\" y=\"343.323247\"/>\n     <use style=\"fill:#1f77b4;stroke:#ffffff;stroke-width:0.48;\" x=\"487.159184\" xlink:href=\"#m63ad077948\" y=\"330.279565\"/>\n     <use style=\"fill:#1f77b4;stroke:#ffffff;stroke-width:0.48;\" x=\"843.747028\" xlink:href=\"#m63ad077948\" y=\"347.236352\"/>\n     <use style=\"fill:#1f77b4;stroke:#ffffff;stroke-width:0.48;\" x=\"843.747028\" xlink:href=\"#m63ad077948\" y=\"336.366617\"/>\n     <use style=\"fill:#1f77b4;stroke:#ffffff;stroke-width:0.48;\" x=\"843.747028\" xlink:href=\"#m63ad077948\" y=\"352.019035\"/>\n     <use style=\"fill:#1f77b4;stroke:#ffffff;stroke-width:0.48;\" x=\"843.747028\" xlink:href=\"#m63ad077948\" y=\"369.8454\"/>\n     <use style=\"fill:#1f77b4;stroke:#ffffff;stroke-width:0.48;\" x=\"843.747028\" xlink:href=\"#m63ad077948\" y=\"353.323403\"/>\n     <use style=\"fill:#1f77b4;stroke:#ffffff;stroke-width:0.48;\" x=\"843.747028\" xlink:href=\"#m63ad077948\" y=\"349.410299\"/>\n     <use style=\"fill:#1f77b4;stroke:#ffffff;stroke-width:0.48;\" x=\"843.747028\" xlink:href=\"#m63ad077948\" y=\"318.540252\"/>\n     <use style=\"fill:#1f77b4;stroke:#ffffff;stroke-width:0.48;\" x=\"843.747028\" xlink:href=\"#m63ad077948\" y=\"342.453668\"/>\n     <use style=\"fill:#1f77b4;stroke:#ffffff;stroke-width:0.48;\" x=\"843.747028\" xlink:href=\"#m63ad077948\" y=\"366.801874\"/>\n     <use style=\"fill:#1f77b4;stroke:#ffffff;stroke-width:0.48;\" x=\"487.159184\" xlink:href=\"#m63ad077948\" y=\"351.584246\"/>\n     <use style=\"fill:#1f77b4;stroke:#ffffff;stroke-width:0.48;\" x=\"487.159184\" xlink:href=\"#m63ad077948\" y=\"300.279097\"/>\n     <use style=\"fill:#1f77b4;stroke:#ffffff;stroke-width:0.48;\" x=\"487.159184\" xlink:href=\"#m63ad077948\" y=\"255.930578\"/>\n     <use style=\"fill:#1f77b4;stroke:#ffffff;stroke-width:0.48;\" x=\"487.159184\" xlink:href=\"#m63ad077948\" y=\"339.844932\"/>\n     <use style=\"fill:#1f77b4;stroke:#ffffff;stroke-width:0.48;\" x=\"487.159184\" xlink:href=\"#m63ad077948\" y=\"270.278629\"/>\n     <use style=\"fill:#1f77b4;stroke:#ffffff;stroke-width:0.48;\" x=\"487.159184\" xlink:href=\"#m63ad077948\" y=\"199.407957\"/>\n     <use style=\"fill:#1f77b4;stroke:#ffffff;stroke-width:0.48;\" x=\"843.747028\" xlink:href=\"#m63ad077948\" y=\"337.236196\"/>\n     <use style=\"fill:#1f77b4;stroke:#ffffff;stroke-width:0.48;\" x=\"843.747028\" xlink:href=\"#m63ad077948\" y=\"351.149456\"/>\n     <use style=\"fill:#1f77b4;stroke:#ffffff;stroke-width:0.48;\" x=\"843.747028\" xlink:href=\"#m63ad077948\" y=\"337.670985\"/>\n     <use style=\"fill:#1f77b4;stroke:#ffffff;stroke-width:0.48;\" x=\"843.747028\" xlink:href=\"#m63ad077948\" y=\"336.366617\"/>\n     <use style=\"fill:#1f77b4;stroke:#ffffff;stroke-width:0.48;\" x=\"843.747028\" xlink:href=\"#m63ad077948\" y=\"259.191499\"/>\n     <use style=\"fill:#1f77b4;stroke:#ffffff;stroke-width:0.48;\" x=\"843.747028\" xlink:href=\"#m63ad077948\" y=\"366.367085\"/>\n     <use style=\"fill:#1f77b4;stroke:#ffffff;stroke-width:0.48;\" x=\"843.747028\" xlink:href=\"#m63ad077948\" y=\"298.539939\"/>\n     <use style=\"fill:#1f77b4;stroke:#ffffff;stroke-width:0.48;\" x=\"843.747028\" xlink:href=\"#m63ad077948\" y=\"349.845088\"/>\n     <use style=\"fill:#1f77b4;stroke:#ffffff;stroke-width:0.48;\" x=\"843.747028\" xlink:href=\"#m63ad077948\" y=\"351.584246\"/>\n     <use style=\"fill:#1f77b4;stroke:#ffffff;stroke-width:0.48;\" x=\"843.747028\" xlink:href=\"#m63ad077948\" y=\"339.410143\"/>\n     <use style=\"fill:#1f77b4;stroke:#ffffff;stroke-width:0.48;\" x=\"843.747028\" xlink:href=\"#m63ad077948\" y=\"344.627615\"/>\n     <use style=\"fill:#1f77b4;stroke:#ffffff;stroke-width:0.48;\" x=\"843.747028\" xlink:href=\"#m63ad077948\" y=\"359.845244\"/>\n     <use style=\"fill:#1f77b4;stroke:#ffffff;stroke-width:0.48;\" x=\"843.747028\" xlink:href=\"#m63ad077948\" y=\"352.888614\"/>\n     <use style=\"fill:#1f77b4;stroke:#ffffff;stroke-width:0.48;\" x=\"843.747028\" xlink:href=\"#m63ad077948\" y=\"342.888458\"/>\n     <use style=\"fill:#1f77b4;stroke:#ffffff;stroke-width:0.48;\" x=\"843.747028\" xlink:href=\"#m63ad077948\" y=\"335.062249\"/>\n     <use style=\"fill:#1f77b4;stroke:#ffffff;stroke-width:0.48;\" x=\"843.747028\" xlink:href=\"#m63ad077948\" y=\"349.845088\"/>\n     <use style=\"fill:#1f77b4;stroke:#ffffff;stroke-width:0.48;\" x=\"487.159184\" xlink:href=\"#m63ad077948\" y=\"342.888458\"/>\n     <use style=\"fill:#1f77b4;stroke:#ffffff;stroke-width:0.48;\" x=\"843.747028\" xlink:href=\"#m63ad077948\" y=\"367.236664\"/>\n     <use style=\"fill:#1f77b4;stroke:#ffffff;stroke-width:0.48;\" x=\"487.159184\" xlink:href=\"#m63ad077948\" y=\"219.335804\"/>\n     <use style=\"fill:#1f77b4;stroke:#ffffff;stroke-width:0.48;\" x=\"487.159184\" xlink:href=\"#m63ad077948\" y=\"328.105618\"/>\n     <use style=\"fill:#1f77b4;stroke:#ffffff;stroke-width:0.48;\" x=\"487.159184\" xlink:href=\"#m63ad077948\" y=\"265.71334\"/>\n     <use style=\"fill:#1f77b4;stroke:#ffffff;stroke-width:0.48;\" x=\"487.159184\" xlink:href=\"#m63ad077948\" y=\"237.452029\"/>\n     <use style=\"fill:#1f77b4;stroke:#ffffff;stroke-width:0.48;\" x=\"487.159184\" xlink:href=\"#m63ad077948\" y=\"355.062561\"/>\n     <use style=\"fill:#1f77b4;stroke:#ffffff;stroke-width:0.48;\" x=\"843.747028\" xlink:href=\"#m63ad077948\" y=\"359.845244\"/>\n     <use style=\"fill:#1f77b4;stroke:#ffffff;stroke-width:0.48;\" x=\"843.747028\" xlink:href=\"#m63ad077948\" y=\"352.019035\"/>\n     <use style=\"fill:#1f77b4;stroke:#ffffff;stroke-width:0.48;\" x=\"843.747028\" xlink:href=\"#m63ad077948\" y=\"348.975509\"/>\n     <use style=\"fill:#1f77b4;stroke:#ffffff;stroke-width:0.48;\" x=\"843.747028\" xlink:href=\"#m63ad077948\" y=\"346.366773\"/>\n     <use style=\"fill:#1f77b4;stroke:#ffffff;stroke-width:0.48;\" x=\"843.747028\" xlink:href=\"#m63ad077948\" y=\"334.19267\"/>\n     <use style=\"fill:#1f77b4;stroke:#ffffff;stroke-width:0.48;\" x=\"843.747028\" xlink:href=\"#m63ad077948\" y=\"358.975665\"/>\n     <use style=\"fill:#1f77b4;stroke:#ffffff;stroke-width:0.48;\" x=\"843.747028\" xlink:href=\"#m63ad077948\" y=\"348.975509\"/>\n     <use style=\"fill:#1f77b4;stroke:#ffffff;stroke-width:0.48;\" x=\"843.747028\" xlink:href=\"#m63ad077948\" y=\"316.801094\"/>\n     <use style=\"fill:#1f77b4;stroke:#ffffff;stroke-width:0.48;\" x=\"843.747028\" xlink:href=\"#m63ad077948\" y=\"364.193138\"/>\n     <use style=\"fill:#1f77b4;stroke:#ffffff;stroke-width:0.48;\" x=\"487.159184\" xlink:href=\"#m63ad077948\" y=\"352.019035\"/>\n     <use style=\"fill:#1f77b4;stroke:#ffffff;stroke-width:0.48;\" x=\"487.159184\" xlink:href=\"#m63ad077948\" y=\"300.279097\"/>\n     <use style=\"fill:#1f77b4;stroke:#ffffff;stroke-width:0.48;\" x=\"487.159184\" xlink:href=\"#m63ad077948\" y=\"333.75788\"/>\n     <use style=\"fill:#1f77b4;stroke:#ffffff;stroke-width:0.48;\" x=\"487.159184\" xlink:href=\"#m63ad077948\" y=\"336.366617\"/>\n     <use style=\"fill:#1f77b4;stroke:#ffffff;stroke-width:0.48;\" x=\"487.159184\" xlink:href=\"#m63ad077948\" y=\"222.959049\"/>\n     <use style=\"fill:#1f77b4;stroke:#ffffff;stroke-width:0.48;\" x=\"487.159184\" xlink:href=\"#m63ad077948\" y=\"329.844776\"/>\n     <use style=\"fill:#1f77b4;stroke:#ffffff;stroke-width:0.48;\" x=\"487.159184\" xlink:href=\"#m63ad077948\" y=\"174.045242\"/>\n     <use style=\"fill:#1f77b4;stroke:#ffffff;stroke-width:0.48;\" x=\"487.159184\" xlink:href=\"#m63ad077948\" y=\"318.540252\"/>\n     <use style=\"fill:#1f77b4;stroke:#ffffff;stroke-width:0.48;\" x=\"487.159184\" xlink:href=\"#m63ad077948\" y=\"253.031983\"/>\n     <use style=\"fill:#1f77b4;stroke:#ffffff;stroke-width:0.48;\" x=\"843.747028\" xlink:href=\"#m63ad077948\" y=\"292.163028\"/>\n     <use style=\"fill:#1f77b4;stroke:#ffffff;stroke-width:0.48;\" x=\"843.747028\" xlink:href=\"#m63ad077948\" y=\"356.366929\"/>\n     <use style=\"fill:#1f77b4;stroke:#ffffff;stroke-width:0.48;\" x=\"843.747028\" xlink:href=\"#m63ad077948\" y=\"345.931983\"/>\n     <use style=\"fill:#1f77b4;stroke:#ffffff;stroke-width:0.48;\" x=\"843.747028\" xlink:href=\"#m63ad077948\" y=\"345.062405\"/>\n     <use style=\"fill:#1f77b4;stroke:#ffffff;stroke-width:0.48;\" x=\"487.159184\" xlink:href=\"#m63ad077948\" y=\"316.801094\"/>\n     <use style=\"fill:#1f77b4;stroke:#ffffff;stroke-width:0.48;\" x=\"487.159184\" xlink:href=\"#m63ad077948\" y=\"335.931827\"/>\n     <use style=\"fill:#1f77b4;stroke:#ffffff;stroke-width:0.48;\" x=\"487.159184\" xlink:href=\"#m63ad077948\" y=\"219.335804\"/>\n     <use style=\"fill:#1f77b4;stroke:#ffffff;stroke-width:0.48;\" x=\"487.159184\" xlink:href=\"#m63ad077948\" y=\"203.755851\"/>\n     <use style=\"fill:#1f77b4;stroke:#ffffff;stroke-width:0.48;\" x=\"487.159184\" xlink:href=\"#m63ad077948\" y=\"327.670829\"/>\n     <use style=\"fill:#1f77b4;stroke:#ffffff;stroke-width:0.48;\" x=\"487.159184\" xlink:href=\"#m63ad077948\" y=\"300.713886\"/>\n     <use style=\"fill:#1f77b4;stroke:#ffffff;stroke-width:0.48;\" x=\"487.159184\" xlink:href=\"#m63ad077948\" y=\"299.844307\"/>\n     <use style=\"fill:#1f77b4;stroke:#ffffff;stroke-width:0.48;\" x=\"487.159184\" xlink:href=\"#m63ad077948\" y=\"304.626991\"/>\n     <use style=\"fill:#1f77b4;stroke:#ffffff;stroke-width:0.48;\" x=\"487.159184\" xlink:href=\"#m63ad077948\" y=\"228.393917\"/>\n     <use style=\"fill:#1f77b4;stroke:#ffffff;stroke-width:0.48;\" x=\"487.159184\" xlink:href=\"#m63ad077948\" y=\"267.669892\"/>\n     <use style=\"fill:#1f77b4;stroke:#ffffff;stroke-width:0.48;\" x=\"487.159184\" xlink:href=\"#m63ad077948\" y=\"314.627147\"/>\n     <use style=\"fill:#1f77b4;stroke:#ffffff;stroke-width:0.48;\" x=\"487.159184\" xlink:href=\"#m63ad077948\" y=\"341.584089\"/>\n     <use style=\"fill:#1f77b4;stroke:#ffffff;stroke-width:0.48;\" x=\"487.159184\" xlink:href=\"#m63ad077948\" y=\"344.192826\"/>\n     <use style=\"fill:#1f77b4;stroke:#ffffff;stroke-width:0.48;\" x=\"487.159184\" xlink:href=\"#m63ad077948\" y=\"339.410143\"/>\n     <use style=\"fill:#1f77b4;stroke:#ffffff;stroke-width:0.48;\" x=\"487.159184\" xlink:href=\"#m63ad077948\" y=\"347.236352\"/>\n     <use style=\"fill:#1f77b4;stroke:#ffffff;stroke-width:0.48;\" x=\"487.159184\" xlink:href=\"#m63ad077948\" y=\"338.975353\"/>\n     <use style=\"fill:#1f77b4;stroke:#ffffff;stroke-width:0.48;\" x=\"843.747028\" xlink:href=\"#m63ad077948\" y=\"348.975509\"/>\n     <use style=\"fill:#1f77b4;stroke:#ffffff;stroke-width:0.48;\" x=\"843.747028\" xlink:href=\"#m63ad077948\" y=\"345.497194\"/>\n     <use style=\"fill:#1f77b4;stroke:#ffffff;stroke-width:0.48;\" x=\"843.747028\" xlink:href=\"#m63ad077948\" y=\"322.453356\"/>\n     <use style=\"fill:#1f77b4;stroke:#ffffff;stroke-width:0.48;\" x=\"487.159184\" xlink:href=\"#m63ad077948\" y=\"339.844932\"/>\n     <use style=\"fill:#1f77b4;stroke:#ffffff;stroke-width:0.48;\" x=\"487.159184\" xlink:href=\"#m63ad077948\" y=\"325.496882\"/>\n     <use style=\"fill:#1f77b4;stroke:#ffffff;stroke-width:0.48;\" x=\"487.159184\" xlink:href=\"#m63ad077948\" y=\"352.019035\"/>\n     <use style=\"fill:#1f77b4;stroke:#ffffff;stroke-width:0.48;\" x=\"487.159184\" xlink:href=\"#m63ad077948\" y=\"314.627147\"/>\n     <use style=\"fill:#1f77b4;stroke:#ffffff;stroke-width:0.48;\" x=\"843.747028\" xlink:href=\"#m63ad077948\" y=\"342.018879\"/>\n     <use style=\"fill:#1f77b4;stroke:#ffffff;stroke-width:0.48;\" x=\"487.159184\" xlink:href=\"#m63ad077948\" y=\"327.670829\"/>\n     <use style=\"fill:#1f77b4;stroke:#ffffff;stroke-width:0.48;\" x=\"487.159184\" xlink:href=\"#m63ad077948\" y=\"327.670829\"/>\n     <use style=\"fill:#1f77b4;stroke:#ffffff;stroke-width:0.48;\" x=\"487.159184\" xlink:href=\"#m63ad077948\" y=\"271.872856\"/>\n     <use style=\"fill:#1f77b4;stroke:#ffffff;stroke-width:0.48;\" x=\"487.159184\" xlink:href=\"#m63ad077948\" y=\"316.801094\"/>\n     <use style=\"fill:#1f77b4;stroke:#ffffff;stroke-width:0.48;\" x=\"487.159184\" xlink:href=\"#m63ad077948\" y=\"340.714511\"/>\n     <use style=\"fill:#1f77b4;stroke:#ffffff;stroke-width:0.48;\" x=\"487.159184\" xlink:href=\"#m63ad077948\" y=\"286.728161\"/>\n     <use style=\"fill:#1f77b4;stroke:#ffffff;stroke-width:0.48;\" x=\"843.747028\" xlink:href=\"#m63ad077948\" y=\"351.584246\"/>\n     <use style=\"fill:#1f77b4;stroke:#ffffff;stroke-width:0.48;\" x=\"843.747028\" xlink:href=\"#m63ad077948\" y=\"342.453668\"/>\n     <use style=\"fill:#1f77b4;stroke:#ffffff;stroke-width:0.48;\" x=\"843.747028\" xlink:href=\"#m63ad077948\" y=\"355.062561\"/>\n     <use style=\"fill:#1f77b4;stroke:#ffffff;stroke-width:0.48;\" x=\"843.747028\" xlink:href=\"#m63ad077948\" y=\"330.279565\"/>\n     <use style=\"fill:#1f77b4;stroke:#ffffff;stroke-width:0.48;\" x=\"843.747028\" xlink:href=\"#m63ad077948\" y=\"316.801094\"/>\n     <use style=\"fill:#1f77b4;stroke:#ffffff;stroke-width:0.48;\" x=\"487.159184\" xlink:href=\"#m63ad077948\" y=\"336.366617\"/>\n     <use style=\"fill:#1f77b4;stroke:#ffffff;stroke-width:0.48;\" x=\"487.159184\" xlink:href=\"#m63ad077948\" y=\"336.366617\"/>\n     <use style=\"fill:#1f77b4;stroke:#ffffff;stroke-width:0.48;\" x=\"487.159184\" xlink:href=\"#m63ad077948\" y=\"275.496101\"/>\n     <use style=\"fill:#1f77b4;stroke:#ffffff;stroke-width:0.48;\" x=\"487.159184\" xlink:href=\"#m63ad077948\" y=\"290.974604\"/>\n     <use style=\"fill:#1f77b4;stroke:#ffffff;stroke-width:0.48;\" x=\"487.159184\" xlink:href=\"#m63ad077948\" y=\"352.888614\"/>\n     <use style=\"fill:#1f77b4;stroke:#ffffff;stroke-width:0.48;\" x=\"843.747028\" xlink:href=\"#m63ad077948\" y=\"352.888614\"/>\n     <use style=\"fill:#1f77b4;stroke:#ffffff;stroke-width:0.48;\" x=\"843.747028\" xlink:href=\"#m63ad077948\" y=\"351.584246\"/>\n     <use style=\"fill:#1f77b4;stroke:#ffffff;stroke-width:0.48;\" x=\"843.747028\" xlink:href=\"#m63ad077948\" y=\"342.888458\"/>\n     <use style=\"fill:#1f77b4;stroke:#ffffff;stroke-width:0.48;\" x=\"843.747028\" xlink:href=\"#m63ad077948\" y=\"332.279596\"/>\n     <use style=\"fill:#1f77b4;stroke:#ffffff;stroke-width:0.48;\" x=\"843.747028\" xlink:href=\"#m63ad077948\" y=\"368.106243\"/>\n     <use style=\"fill:#1f77b4;stroke:#ffffff;stroke-width:0.48;\" x=\"487.159184\" xlink:href=\"#m63ad077948\" y=\"331.149144\"/>\n     <use style=\"fill:#1f77b4;stroke:#ffffff;stroke-width:0.48;\" x=\"487.159184\" xlink:href=\"#m63ad077948\" y=\"339.410143\"/>\n     <use style=\"fill:#1f77b4;stroke:#ffffff;stroke-width:0.48;\" x=\"487.159184\" xlink:href=\"#m63ad077948\" y=\"257.379876\"/>\n     <use style=\"fill:#1f77b4;stroke:#ffffff;stroke-width:0.48;\" x=\"487.159184\" xlink:href=\"#m63ad077948\" y=\"235.640407\"/>\n     <use style=\"fill:#1f77b4;stroke:#ffffff;stroke-width:0.48;\" x=\"487.159184\" xlink:href=\"#m63ad077948\" y=\"337.670985\"/>\n     <use style=\"fill:#1f77b4;stroke:#ffffff;stroke-width:0.48;\" x=\"843.747028\" xlink:href=\"#m63ad077948\" y=\"345.931983\"/>\n     <use style=\"fill:#1f77b4;stroke:#ffffff;stroke-width:0.48;\" x=\"843.747028\" xlink:href=\"#m63ad077948\" y=\"321.148988\"/>\n     <use style=\"fill:#1f77b4;stroke:#ffffff;stroke-width:0.48;\" x=\"843.747028\" xlink:href=\"#m63ad077948\" y=\"309.409674\"/>\n     <use style=\"fill:#1f77b4;stroke:#ffffff;stroke-width:0.48;\" x=\"843.747028\" xlink:href=\"#m63ad077948\" y=\"345.931983\"/>\n     <use style=\"fill:#1f77b4;stroke:#ffffff;stroke-width:0.48;\" x=\"487.159184\" xlink:href=\"#m63ad077948\" y=\"324.192514\"/>\n     <use style=\"fill:#1f77b4;stroke:#ffffff;stroke-width:0.48;\" x=\"487.159184\" xlink:href=\"#m63ad077948\" y=\"279.843995\"/>\n     <use style=\"fill:#1f77b4;stroke:#ffffff;stroke-width:0.48;\" x=\"843.747028\" xlink:href=\"#m63ad077948\" y=\"341.1493\"/>\n     <use style=\"fill:#1f77b4;stroke:#ffffff;stroke-width:0.48;\" x=\"843.747028\" xlink:href=\"#m63ad077948\" y=\"370.714979\"/>\n     <use style=\"fill:#1f77b4;stroke:#ffffff;stroke-width:0.48;\" x=\"843.747028\" xlink:href=\"#m63ad077948\" y=\"348.10593\"/>\n     <use style=\"fill:#1f77b4;stroke:#ffffff;stroke-width:0.48;\" x=\"843.747028\" xlink:href=\"#m63ad077948\" y=\"353.758193\"/>\n     <use style=\"fill:#1f77b4;stroke:#ffffff;stroke-width:0.48;\" x=\"487.159184\" xlink:href=\"#m63ad077948\" y=\"244.626054\"/>\n     <use style=\"fill:#1f77b4;stroke:#ffffff;stroke-width:0.48;\" x=\"843.747028\" xlink:href=\"#m63ad077948\" y=\"345.931983\"/>\n     <use style=\"fill:#1f77b4;stroke:#ffffff;stroke-width:0.48;\" x=\"487.159184\" xlink:href=\"#m63ad077948\" y=\"116.797972\"/>\n     <use style=\"fill:#1f77b4;stroke:#ffffff;stroke-width:0.48;\" x=\"487.159184\" xlink:href=\"#m63ad077948\" y=\"313.322779\"/>\n     <use style=\"fill:#1f77b4;stroke:#ffffff;stroke-width:0.48;\" x=\"843.747028\" xlink:href=\"#m63ad077948\" y=\"352.453824\"/>\n     <use style=\"fill:#1f77b4;stroke:#ffffff;stroke-width:0.48;\" x=\"843.747028\" xlink:href=\"#m63ad077948\" y=\"350.279877\"/>\n     <use style=\"fill:#1f77b4;stroke:#ffffff;stroke-width:0.48;\" x=\"843.747028\" xlink:href=\"#m63ad077948\" y=\"349.845088\"/>\n     <use style=\"fill:#1f77b4;stroke:#ffffff;stroke-width:0.48;\" x=\"843.747028\" xlink:href=\"#m63ad077948\" y=\"252.307334\"/>\n     <use style=\"fill:#1f77b4;stroke:#ffffff;stroke-width:0.48;\" x=\"843.747028\" xlink:href=\"#m63ad077948\" y=\"332.453512\"/>\n     <use style=\"fill:#1f77b4;stroke:#ffffff;stroke-width:0.48;\" x=\"843.747028\" xlink:href=\"#m63ad077948\" y=\"307.670517\"/>\n     <use style=\"fill:#1f77b4;stroke:#ffffff;stroke-width:0.48;\" x=\"843.747028\" xlink:href=\"#m63ad077948\" y=\"335.931827\"/>\n     <use style=\"fill:#1f77b4;stroke:#ffffff;stroke-width:0.48;\" x=\"843.747028\" xlink:href=\"#m63ad077948\" y=\"355.49735\"/>\n     <use style=\"fill:#1f77b4;stroke:#ffffff;stroke-width:0.48;\" x=\"487.159184\" xlink:href=\"#m63ad077948\" y=\"326.366461\"/>\n     <use style=\"fill:#1f77b4;stroke:#ffffff;stroke-width:0.48;\" x=\"843.747028\" xlink:href=\"#m63ad077948\" y=\"357.236508\"/>\n     <use style=\"fill:#1f77b4;stroke:#ffffff;stroke-width:0.48;\" x=\"487.159184\" xlink:href=\"#m63ad077948\" y=\"341.584089\"/>\n     <use style=\"fill:#1f77b4;stroke:#ffffff;stroke-width:0.48;\" x=\"487.159184\" xlink:href=\"#m63ad077948\" y=\"334.627459\"/>\n     <use style=\"fill:#1f77b4;stroke:#ffffff;stroke-width:0.48;\" x=\"843.747028\" xlink:href=\"#m63ad077948\" y=\"365.497506\"/>\n     <use style=\"fill:#1f77b4;stroke:#ffffff;stroke-width:0.48;\" x=\"843.747028\" xlink:href=\"#m63ad077948\" y=\"348.54072\"/>\n     <use style=\"fill:#1f77b4;stroke:#ffffff;stroke-width:0.48;\" x=\"843.747028\" xlink:href=\"#m63ad077948\" y=\"358.975665\"/>\n     <use style=\"fill:#1f77b4;stroke:#ffffff;stroke-width:0.48;\" x=\"843.747028\" xlink:href=\"#m63ad077948\" y=\"331.583933\"/>\n     <use style=\"fill:#1f77b4;stroke:#ffffff;stroke-width:0.48;\" x=\"843.747028\" xlink:href=\"#m63ad077948\" y=\"333.323091\"/>\n     <use style=\"fill:#1f77b4;stroke:#ffffff;stroke-width:0.48;\" x=\"843.747028\" xlink:href=\"#m63ad077948\" y=\"367.671453\"/>\n     <use style=\"fill:#1f77b4;stroke:#ffffff;stroke-width:0.48;\" x=\"487.159184\" xlink:href=\"#m63ad077948\" y=\"313.322779\"/>\n     <use style=\"fill:#1f77b4;stroke:#ffffff;stroke-width:0.48;\" x=\"843.747028\" xlink:href=\"#m63ad077948\" y=\"366.367085\"/>\n     <use style=\"fill:#1f77b4;stroke:#ffffff;stroke-width:0.48;\" x=\"843.747028\" xlink:href=\"#m63ad077948\" y=\"354.627771\"/>\n     <use style=\"fill:#1f77b4;stroke:#ffffff;stroke-width:0.48;\" x=\"843.747028\" xlink:href=\"#m63ad077948\" y=\"345.062405\"/>\n     <use style=\"fill:#1f77b4;stroke:#ffffff;stroke-width:0.48;\" x=\"843.747028\" xlink:href=\"#m63ad077948\" y=\"367.671453\"/>\n     <use style=\"fill:#1f77b4;stroke:#ffffff;stroke-width:0.48;\" x=\"843.747028\" xlink:href=\"#m63ad077948\" y=\"341.1493\"/>\n     <use style=\"fill:#1f77b4;stroke:#ffffff;stroke-width:0.48;\" x=\"487.159184\" xlink:href=\"#m63ad077948\" y=\"335.497038\"/>\n     <use style=\"fill:#1f77b4;stroke:#ffffff;stroke-width:0.48;\" x=\"843.747028\" xlink:href=\"#m63ad077948\" y=\"310.714042\"/>\n     <use style=\"fill:#1f77b4;stroke:#ffffff;stroke-width:0.48;\" x=\"843.747028\" xlink:href=\"#m63ad077948\" y=\"248.321764\"/>\n     <use style=\"fill:#1f77b4;stroke:#ffffff;stroke-width:0.48;\" x=\"487.159184\" xlink:href=\"#m63ad077948\" y=\"355.062561\"/>\n     <use style=\"fill:#1f77b4;stroke:#ffffff;stroke-width:0.48;\" x=\"487.159184\" xlink:href=\"#m63ad077948\" y=\"351.584246\"/>\n     <use style=\"fill:#1f77b4;stroke:#ffffff;stroke-width:0.48;\" x=\"487.159184\" xlink:href=\"#m63ad077948\" y=\"331.583933\"/>\n     <use style=\"fill:#1f77b4;stroke:#ffffff;stroke-width:0.48;\" x=\"487.159184\" xlink:href=\"#m63ad077948\" y=\"337.236196\"/>\n     <use style=\"fill:#1f77b4;stroke:#ffffff;stroke-width:0.48;\" x=\"487.159184\" xlink:href=\"#m63ad077948\" y=\"330.279565\"/>\n     <use style=\"fill:#1f77b4;stroke:#ffffff;stroke-width:0.48;\" x=\"487.159184\" xlink:href=\"#m63ad077948\" y=\"343.323247\"/>\n     <use style=\"fill:#1f77b4;stroke:#ffffff;stroke-width:0.48;\" x=\"843.747028\" xlink:href=\"#m63ad077948\" y=\"371.149768\"/>\n     <use style=\"fill:#1f77b4;stroke:#ffffff;stroke-width:0.48;\" x=\"843.747028\" xlink:href=\"#m63ad077948\" y=\"359.845244\"/>\n     <use style=\"fill:#1f77b4;stroke:#ffffff;stroke-width:0.48;\" x=\"843.747028\" xlink:href=\"#m63ad077948\" y=\"355.93214\"/>\n     <use style=\"fill:#1f77b4;stroke:#ffffff;stroke-width:0.48;\" x=\"487.159184\" xlink:href=\"#m63ad077948\" y=\"338.540564\"/>\n     <use style=\"fill:#1f77b4;stroke:#ffffff;stroke-width:0.48;\" x=\"487.159184\" xlink:href=\"#m63ad077948\" y=\"347.236352\"/>\n     <use style=\"fill:#1f77b4;stroke:#ffffff;stroke-width:0.48;\" x=\"487.159184\" xlink:href=\"#m63ad077948\" y=\"189.262871\"/>\n     <use style=\"fill:#1f77b4;stroke:#ffffff;stroke-width:0.48;\" x=\"843.747028\" xlink:href=\"#m63ad077948\" y=\"356.366929\"/>\n     <use style=\"fill:#1f77b4;stroke:#ffffff;stroke-width:0.48;\" x=\"487.159184\" xlink:href=\"#m63ad077948\" y=\"329.844776\"/>\n     <use style=\"fill:#1f77b4;stroke:#ffffff;stroke-width:0.48;\" x=\"487.159184\" xlink:href=\"#m63ad077948\" y=\"334.19267\"/>\n     <use style=\"fill:#1f77b4;stroke:#ffffff;stroke-width:0.48;\" x=\"487.159184\" xlink:href=\"#m63ad077948\" y=\"228.393917\"/>\n     <use style=\"fill:#1f77b4;stroke:#ffffff;stroke-width:0.48;\" x=\"487.159184\" xlink:href=\"#m63ad077948\" y=\"329.409986\"/>\n     <use style=\"fill:#1f77b4;stroke:#ffffff;stroke-width:0.48;\" x=\"487.159184\" xlink:href=\"#m63ad077948\" y=\"222.959049\"/>\n     <use style=\"fill:#1f77b4;stroke:#ffffff;stroke-width:0.48;\" x=\"843.747028\" xlink:href=\"#m63ad077948\" y=\"346.801562\"/>\n     <use style=\"fill:#1f77b4;stroke:#ffffff;stroke-width:0.48;\" x=\"843.747028\" xlink:href=\"#m63ad077948\" y=\"345.931983\"/>\n     <use style=\"fill:#1f77b4;stroke:#ffffff;stroke-width:0.48;\" x=\"843.747028\" xlink:href=\"#m63ad077948\" y=\"354.192982\"/>\n     <use style=\"fill:#1f77b4;stroke:#ffffff;stroke-width:0.48;\" x=\"843.747028\" xlink:href=\"#m63ad077948\" y=\"335.931827\"/>\n     <use style=\"fill:#1f77b4;stroke:#ffffff;stroke-width:0.48;\" x=\"843.747028\" xlink:href=\"#m63ad077948\" y=\"332.453512\"/>\n     <use style=\"fill:#1f77b4;stroke:#ffffff;stroke-width:0.48;\" x=\"843.747028\" xlink:href=\"#m63ad077948\" y=\"351.149456\"/>\n     <use style=\"fill:#1f77b4;stroke:#ffffff;stroke-width:0.48;\" x=\"843.747028\" xlink:href=\"#m63ad077948\" y=\"356.366929\"/>\n     <use style=\"fill:#1f77b4;stroke:#ffffff;stroke-width:0.48;\" x=\"843.747028\" xlink:href=\"#m63ad077948\" y=\"350.279877\"/>\n     <use style=\"fill:#1f77b4;stroke:#ffffff;stroke-width:0.48;\" x=\"843.747028\" xlink:href=\"#m63ad077948\" y=\"328.105618\"/>\n     <use style=\"fill:#1f77b4;stroke:#ffffff;stroke-width:0.48;\" x=\"843.747028\" xlink:href=\"#m63ad077948\" y=\"357.671297\"/>\n     <use style=\"fill:#1f77b4;stroke:#ffffff;stroke-width:0.48;\" x=\"843.747028\" xlink:href=\"#m63ad077948\" y=\"347.671141\"/>\n     <use style=\"fill:#1f77b4;stroke:#ffffff;stroke-width:0.48;\" x=\"843.747028\" xlink:href=\"#m63ad077948\" y=\"350.714667\"/>\n     <use style=\"fill:#1f77b4;stroke:#ffffff;stroke-width:0.48;\" x=\"843.747028\" xlink:href=\"#m63ad077948\" y=\"356.801718\"/>\n     <use style=\"fill:#1f77b4;stroke:#ffffff;stroke-width:0.48;\" x=\"843.747028\" xlink:href=\"#m63ad077948\" y=\"355.062561\"/>\n     <use style=\"fill:#1f77b4;stroke:#ffffff;stroke-width:0.48;\" x=\"843.747028\" xlink:href=\"#m63ad077948\" y=\"346.366773\"/>\n     <use style=\"fill:#1f77b4;stroke:#ffffff;stroke-width:0.48;\" x=\"843.747028\" xlink:href=\"#m63ad077948\" y=\"359.845244\"/>\n     <use style=\"fill:#1f77b4;stroke:#ffffff;stroke-width:0.48;\" x=\"487.159184\" xlink:href=\"#m63ad077948\" y=\"242.886897\"/>\n     <use style=\"fill:#1f77b4;stroke:#ffffff;stroke-width:0.48;\" x=\"487.159184\" xlink:href=\"#m63ad077948\" y=\"328.975197\"/>\n     <use style=\"fill:#1f77b4;stroke:#ffffff;stroke-width:0.48;\" x=\"487.159184\" xlink:href=\"#m63ad077948\" y=\"239.263652\"/>\n     <use style=\"fill:#1f77b4;stroke:#ffffff;stroke-width:0.48;\" x=\"487.159184\" xlink:href=\"#m63ad077948\" y=\"312.4532\"/>\n     <use style=\"fill:#1f77b4;stroke:#ffffff;stroke-width:0.48;\" x=\"843.747028\" xlink:href=\"#m63ad077948\" y=\"343.758036\"/>\n     <use style=\"fill:#1f77b4;stroke:#ffffff;stroke-width:0.48;\" x=\"843.747028\" xlink:href=\"#m63ad077948\" y=\"369.8454\"/>\n     <use style=\"fill:#1f77b4;stroke:#ffffff;stroke-width:0.48;\" x=\"843.747028\" xlink:href=\"#m63ad077948\" y=\"350.714667\"/>\n     <use style=\"fill:#1f77b4;stroke:#ffffff;stroke-width:0.48;\" x=\"843.747028\" xlink:href=\"#m63ad077948\" y=\"290.71373\"/>\n     <use style=\"fill:#1f77b4;stroke:#ffffff;stroke-width:0.48;\" x=\"487.159184\" xlink:href=\"#m63ad077948\" y=\"328.975197\"/>\n     <use style=\"fill:#1f77b4;stroke:#ffffff;stroke-width:0.48;\" x=\"487.159184\" xlink:href=\"#m63ad077948\" y=\"324.192514\"/>\n     <use style=\"fill:#1f77b4;stroke:#ffffff;stroke-width:0.48;\" x=\"487.159184\" xlink:href=\"#m63ad077948\" y=\"314.627147\"/>\n     <use style=\"fill:#1f77b4;stroke:#ffffff;stroke-width:0.48;\" x=\"487.159184\" xlink:href=\"#m63ad077948\" y=\"307.235727\"/>\n     <use style=\"fill:#1f77b4;stroke:#ffffff;stroke-width:0.48;\" x=\"487.159184\" xlink:href=\"#m63ad077948\" y=\"326.366461\"/>\n     <use style=\"fill:#1f77b4;stroke:#ffffff;stroke-width:0.48;\" x=\"487.159184\" xlink:href=\"#m63ad077948\" y=\"331.583933\"/>\n     <use style=\"fill:#1f77b4;stroke:#ffffff;stroke-width:0.48;\" x=\"487.159184\" xlink:href=\"#m63ad077948\" y=\"213.900937\"/>\n     <use style=\"fill:#1f77b4;stroke:#ffffff;stroke-width:0.48;\" x=\"487.159184\" xlink:href=\"#m63ad077948\" y=\"318.540252\"/>\n     <use style=\"fill:#1f77b4;stroke:#ffffff;stroke-width:0.48;\" x=\"487.159184\" xlink:href=\"#m63ad077948\" y=\"338.105774\"/>\n     <use style=\"fill:#1f77b4;stroke:#ffffff;stroke-width:0.48;\" x=\"843.747028\" xlink:href=\"#m63ad077948\" y=\"352.453824\"/>\n     <use style=\"fill:#1f77b4;stroke:#ffffff;stroke-width:0.48;\" x=\"843.747028\" xlink:href=\"#m63ad077948\" y=\"325.931671\"/>\n     <use style=\"fill:#1f77b4;stroke:#ffffff;stroke-width:0.48;\" x=\"843.747028\" xlink:href=\"#m63ad077948\" y=\"356.366929\"/>\n     <use style=\"fill:#1f77b4;stroke:#ffffff;stroke-width:0.48;\" x=\"487.159184\" xlink:href=\"#m63ad077948\" y=\"320.279409\"/>\n     <use style=\"fill:#1f77b4;stroke:#ffffff;stroke-width:0.48;\" x=\"487.159184\" xlink:href=\"#m63ad077948\" y=\"340.714511\"/>\n     <use style=\"fill:#1f77b4;stroke:#ffffff;stroke-width:0.48;\" x=\"487.159184\" xlink:href=\"#m63ad077948\" y=\"324.192514\"/>\n     <use style=\"fill:#1f77b4;stroke:#ffffff;stroke-width:0.48;\" x=\"487.159184\" xlink:href=\"#m63ad077948\" y=\"329.844776\"/>\n     <use style=\"fill:#1f77b4;stroke:#ffffff;stroke-width:0.48;\" x=\"487.159184\" xlink:href=\"#m63ad077948\" y=\"224.770672\"/>\n     <use style=\"fill:#1f77b4;stroke:#ffffff;stroke-width:0.48;\" x=\"487.159184\" xlink:href=\"#m63ad077948\" y=\"166.798752\"/>\n     <use style=\"fill:#1f77b4;stroke:#ffffff;stroke-width:0.48;\" x=\"487.159184\" xlink:href=\"#m63ad077948\" y=\"327.670829\"/>\n     <use style=\"fill:#1f77b4;stroke:#ffffff;stroke-width:0.48;\" x=\"487.159184\" xlink:href=\"#m63ad077948\" y=\"319.583746\"/>\n     <use style=\"fill:#1f77b4;stroke:#ffffff;stroke-width:0.48;\" x=\"487.159184\" xlink:href=\"#m63ad077948\" y=\"315.496726\"/>\n     <use style=\"fill:#1f77b4;stroke:#ffffff;stroke-width:0.48;\" x=\"487.159184\" xlink:href=\"#m63ad077948\" y=\"299.844307\"/>\n     <use style=\"fill:#1f77b4;stroke:#ffffff;stroke-width:0.48;\" x=\"487.159184\" xlink:href=\"#m63ad077948\" y=\"329.062155\"/>\n     <use style=\"fill:#1f77b4;stroke:#ffffff;stroke-width:0.48;\" x=\"487.159184\" xlink:href=\"#m63ad077948\" y=\"340.714511\"/>\n     <use style=\"fill:#1f77b4;stroke:#ffffff;stroke-width:0.48;\" x=\"487.159184\" xlink:href=\"#m63ad077948\" y=\"322.888145\"/>\n     <use style=\"fill:#1f77b4;stroke:#ffffff;stroke-width:0.48;\" x=\"843.747028\" xlink:href=\"#m63ad077948\" y=\"357.671297\"/>\n     <use style=\"fill:#1f77b4;stroke:#ffffff;stroke-width:0.48;\" x=\"843.747028\" xlink:href=\"#m63ad077948\" y=\"346.801562\"/>\n     <use style=\"fill:#1f77b4;stroke:#ffffff;stroke-width:0.48;\" x=\"843.747028\" xlink:href=\"#m63ad077948\" y=\"347.671141\"/>\n     <use style=\"fill:#1f77b4;stroke:#ffffff;stroke-width:0.48;\" x=\"843.747028\" xlink:href=\"#m63ad077948\" y=\"330.714355\"/>\n     <use style=\"fill:#1f77b4;stroke:#ffffff;stroke-width:0.48;\" x=\"843.747028\" xlink:href=\"#m63ad077948\" y=\"354.192982\"/>\n     <use style=\"fill:#1f77b4;stroke:#ffffff;stroke-width:0.48;\" x=\"843.747028\" xlink:href=\"#m63ad077948\" y=\"345.931983\"/>\n     <use style=\"fill:#1f77b4;stroke:#ffffff;stroke-width:0.48;\" x=\"487.159184\" xlink:href=\"#m63ad077948\" y=\"335.497038\"/>\n     <use style=\"fill:#1f77b4;stroke:#ffffff;stroke-width:0.48;\" x=\"487.159184\" xlink:href=\"#m63ad077948\" y=\"126.943058\"/>\n     <use style=\"fill:#1f77b4;stroke:#ffffff;stroke-width:0.48;\" x=\"487.159184\" xlink:href=\"#m63ad077948\" y=\"274.771452\"/>\n     <use style=\"fill:#1f77b4;stroke:#ffffff;stroke-width:0.48;\" x=\"843.747028\" xlink:href=\"#m63ad077948\" y=\"369.410611\"/>\n     <use style=\"fill:#1f77b4;stroke:#ffffff;stroke-width:0.48;\" x=\"487.159184\" xlink:href=\"#m63ad077948\" y=\"213.900937\"/>\n     <use style=\"fill:#1f77b4;stroke:#ffffff;stroke-width:0.48;\" x=\"487.159184\" xlink:href=\"#m63ad077948\" y=\"257.379876\"/>\n     <use style=\"fill:#1f77b4;stroke:#ffffff;stroke-width:0.48;\" x=\"487.159184\" xlink:href=\"#m63ad077948\" y=\"334.19267\"/>\n     <use style=\"fill:#1f77b4;stroke:#ffffff;stroke-width:0.48;\" x=\"487.159184\" xlink:href=\"#m63ad077948\" y=\"333.323091\"/>\n     <use style=\"fill:#1f77b4;stroke:#ffffff;stroke-width:0.48;\" x=\"487.159184\" xlink:href=\"#m63ad077948\" y=\"345.931983\"/>\n     <use style=\"fill:#1f77b4;stroke:#ffffff;stroke-width:0.48;\" x=\"487.159184\" xlink:href=\"#m63ad077948\" y=\"154.117395\"/>\n     <use style=\"fill:#1f77b4;stroke:#ffffff;stroke-width:0.48;\" x=\"487.159184\" xlink:href=\"#m63ad077948\" y=\"290.278941\"/>\n     <use style=\"fill:#1f77b4;stroke:#ffffff;stroke-width:0.48;\" x=\"487.159184\" xlink:href=\"#m63ad077948\" y=\"199.407957\"/>\n     <use style=\"fill:#1f77b4;stroke:#ffffff;stroke-width:0.48;\" x=\"487.159184\" xlink:href=\"#m63ad077948\" y=\"325.062092\"/>\n     <use style=\"fill:#1f77b4;stroke:#ffffff;stroke-width:0.48;\" x=\"487.159184\" xlink:href=\"#m63ad077948\" y=\"237.452029\"/>\n     <use style=\"fill:#1f77b4;stroke:#ffffff;stroke-width:0.48;\" x=\"843.747028\" xlink:href=\"#m63ad077948\" y=\"353.758193\"/>\n     <use style=\"fill:#1f77b4;stroke:#ffffff;stroke-width:0.48;\" x=\"843.747028\" xlink:href=\"#m63ad077948\" y=\"351.584246\"/>\n     <use style=\"fill:#1f77b4;stroke:#ffffff;stroke-width:0.48;\" x=\"843.747028\" xlink:href=\"#m63ad077948\" y=\"354.192982\"/>\n     <use style=\"fill:#1f77b4;stroke:#ffffff;stroke-width:0.48;\" x=\"843.747028\" xlink:href=\"#m63ad077948\" y=\"317.061968\"/>\n     <use style=\"fill:#1f77b4;stroke:#ffffff;stroke-width:0.48;\" x=\"843.747028\" xlink:href=\"#m63ad077948\" y=\"356.801718\"/>\n     <use style=\"fill:#1f77b4;stroke:#ffffff;stroke-width:0.48;\" x=\"487.159184\" xlink:href=\"#m63ad077948\" y=\"278.974416\"/>\n     <use style=\"fill:#1f77b4;stroke:#ffffff;stroke-width:0.48;\" x=\"487.159184\" xlink:href=\"#m63ad077948\" y=\"318.540252\"/>\n     <use style=\"fill:#1f77b4;stroke:#ffffff;stroke-width:0.48;\" x=\"843.747028\" xlink:href=\"#m63ad077948\" y=\"348.975509\"/>\n     <use style=\"fill:#1f77b4;stroke:#ffffff;stroke-width:0.48;\" x=\"843.747028\" xlink:href=\"#m63ad077948\" y=\"321.583777\"/>\n     <use style=\"fill:#1f77b4;stroke:#ffffff;stroke-width:0.48;\" x=\"843.747028\" xlink:href=\"#m63ad077948\" y=\"255.205929\"/>\n     <use style=\"fill:#1f77b4;stroke:#ffffff;stroke-width:0.48;\" x=\"843.747028\" xlink:href=\"#m63ad077948\" y=\"343.758036\"/>\n     <use style=\"fill:#1f77b4;stroke:#ffffff;stroke-width:0.48;\" x=\"487.159184\" xlink:href=\"#m63ad077948\" y=\"340.714511\"/>\n     <use style=\"fill:#1f77b4;stroke:#ffffff;stroke-width:0.48;\" x=\"487.159184\" xlink:href=\"#m63ad077948\" y=\"340.279721\"/>\n     <use style=\"fill:#1f77b4;stroke:#ffffff;stroke-width:0.48;\" x=\"487.159184\" xlink:href=\"#m63ad077948\" y=\"303.322623\"/>\n     <use style=\"fill:#1f77b4;stroke:#ffffff;stroke-width:0.48;\" x=\"843.747028\" xlink:href=\"#m63ad077948\" y=\"354.627771\"/>\n     <use style=\"fill:#1f77b4;stroke:#ffffff;stroke-width:0.48;\" x=\"843.747028\" xlink:href=\"#m63ad077948\" y=\"331.583933\"/>\n    </g>\n   </g>\n   <g id=\"matplotlib.axis_3\">\n    <g id=\"xtick_4\">\n     <g id=\"line2d_11\">\n      <g>\n       <use style=\"stroke:#000000;stroke-width:0.8;\" x=\"487.159184\" xlink:href=\"#m4180e9b912\" y=\"388.432647\"/>\n      </g>\n     </g>\n     <g id=\"text_13\">\n      <!-- Male -->\n      <g transform=\"translate(475.315434 403.031084)scale(0.1 -0.1)\">\n       <defs>\n        <path d=\"M 603 4863 \nL 1178 4863 \nL 1178 0 \nL 603 0 \nL 603 4863 \nz\n\" id=\"DejaVuSans-6c\" transform=\"scale(0.015625)\"/>\n       </defs>\n       <use xlink:href=\"#DejaVuSans-4d\"/>\n       <use x=\"86.279297\" xlink:href=\"#DejaVuSans-61\"/>\n       <use x=\"147.558594\" xlink:href=\"#DejaVuSans-6c\"/>\n       <use x=\"175.341797\" xlink:href=\"#DejaVuSans-65\"/>\n      </g>\n     </g>\n    </g>\n    <g id=\"xtick_5\">\n     <g id=\"line2d_12\">\n      <g>\n       <use style=\"stroke:#000000;stroke-width:0.8;\" x=\"843.747028\" xlink:href=\"#m4180e9b912\" y=\"388.432647\"/>\n      </g>\n     </g>\n     <g id=\"text_14\">\n      <!-- Female -->\n      <g transform=\"translate(825.669684 403.031084)scale(0.1 -0.1)\">\n       <defs>\n        <path d=\"M 628 4666 \nL 3309 4666 \nL 3309 4134 \nL 1259 4134 \nL 1259 2759 \nL 3109 2759 \nL 3109 2228 \nL 1259 2228 \nL 1259 0 \nL 628 0 \nL 628 4666 \nz\n\" id=\"DejaVuSans-46\" transform=\"scale(0.015625)\"/>\n       </defs>\n       <use xlink:href=\"#DejaVuSans-46\"/>\n       <use x=\"52.019531\" xlink:href=\"#DejaVuSans-65\"/>\n       <use x=\"113.542969\" xlink:href=\"#DejaVuSans-6d\"/>\n       <use x=\"210.955078\" xlink:href=\"#DejaVuSans-61\"/>\n       <use x=\"272.234375\" xlink:href=\"#DejaVuSans-6c\"/>\n       <use x=\"300.017578\" xlink:href=\"#DejaVuSans-65\"/>\n      </g>\n     </g>\n    </g>\n    <g id=\"text_15\">\n     <!-- GENDER_DENOTING -->\n     <g transform=\"translate(614.865606 416.532647)scale(0.1 -0.1)\">\n      <use xlink:href=\"#DejaVuSans-47\"/>\n      <use x=\"77.490234\" xlink:href=\"#DejaVuSans-45\"/>\n      <use x=\"140.673828\" xlink:href=\"#DejaVuSans-4e\"/>\n      <use x=\"215.478516\" xlink:href=\"#DejaVuSans-44\"/>\n      <use x=\"292.480469\" xlink:href=\"#DejaVuSans-45\"/>\n      <use x=\"355.664062\" xlink:href=\"#DejaVuSans-52\"/>\n      <use x=\"425.146484\" xlink:href=\"#DejaVuSans-5f\"/>\n      <use x=\"475.146484\" xlink:href=\"#DejaVuSans-44\"/>\n      <use x=\"552.148438\" xlink:href=\"#DejaVuSans-45\"/>\n      <use x=\"615.332031\" xlink:href=\"#DejaVuSans-4e\"/>\n      <use x=\"690.136719\" xlink:href=\"#DejaVuSans-4f\"/>\n      <use x=\"768.847656\" xlink:href=\"#DejaVuSans-54\"/>\n      <use x=\"829.931641\" xlink:href=\"#DejaVuSans-49\"/>\n      <use x=\"859.423828\" xlink:href=\"#DejaVuSans-4e\"/>\n      <use x=\"934.228516\" xlink:href=\"#DejaVuSans-47\"/>\n     </g>\n    </g>\n   </g>\n   <g id=\"matplotlib.axis_4\">\n    <g id=\"ytick_8\">\n     <g id=\"line2d_13\">\n      <g>\n       <use style=\"stroke:#000000;stroke-width:0.8;\" x=\"469.329792\" xlink:href=\"#m6df473cac6\" y=\"358.830736\"/>\n      </g>\n     </g>\n    </g>\n    <g id=\"ytick_9\">\n     <g id=\"line2d_14\">\n      <g>\n       <use style=\"stroke:#000000;stroke-width:0.8;\" x=\"469.329792\" xlink:href=\"#m6df473cac6\" y=\"300.858816\"/>\n      </g>\n     </g>\n    </g>\n    <g id=\"ytick_10\">\n     <g id=\"line2d_15\">\n      <g>\n       <use style=\"stroke:#000000;stroke-width:0.8;\" x=\"469.329792\" xlink:href=\"#m6df473cac6\" y=\"242.886897\"/>\n      </g>\n     </g>\n    </g>\n    <g id=\"ytick_11\">\n     <g id=\"line2d_16\">\n      <g>\n       <use style=\"stroke:#000000;stroke-width:0.8;\" x=\"469.329792\" xlink:href=\"#m6df473cac6\" y=\"184.914977\"/>\n      </g>\n     </g>\n    </g>\n    <g id=\"ytick_12\">\n     <g id=\"line2d_17\">\n      <g>\n       <use style=\"stroke:#000000;stroke-width:0.8;\" x=\"469.329792\" xlink:href=\"#m6df473cac6\" y=\"126.943058\"/>\n      </g>\n     </g>\n    </g>\n    <g id=\"ytick_13\">\n     <g id=\"line2d_18\">\n      <g>\n       <use style=\"stroke:#000000;stroke-width:0.8;\" x=\"469.329792\" xlink:href=\"#m6df473cac6\" y=\"68.971138\"/>\n      </g>\n     </g>\n    </g>\n    <g id=\"ytick_14\">\n     <g id=\"line2d_19\">\n      <g>\n       <use style=\"stroke:#000000;stroke-width:0.8;\" x=\"469.329792\" xlink:href=\"#m6df473cac6\" y=\"10.999219\"/>\n      </g>\n     </g>\n    </g>\n   </g>\n   <g id=\"patch_6\">\n    <path d=\"M 469.329792 388.432647 \nL 469.329792 8.20932 \n\" style=\"fill:none;stroke:#000000;stroke-linecap:square;stroke-linejoin:miter;stroke-width:0.8;\"/>\n   </g>\n   <g id=\"patch_7\">\n    <path d=\"M 469.329792 388.432647 \nL 861.57642 388.432647 \n\" style=\"fill:none;stroke:#000000;stroke-linecap:square;stroke-linejoin:miter;stroke-width:0.8;\"/>\n   </g>\n  </g>\n  <g id=\"axes_3\">\n   <g id=\"patch_8\">\n    <path d=\"M 872.606458 388.432647 \nL 1264.853087 388.432647 \nL 1264.853087 8.20932 \nL 872.606458 8.20932 \nz\n\" style=\"fill:#ffffff;\"/>\n   </g>\n   <g id=\"PathCollection_3\">\n    <g clip-path=\"url(#p61721c4efe)\">\n     <use style=\"fill:#1f77b4;stroke:#ffffff;stroke-width:0.48;\" x=\"890.435851\" xlink:href=\"#m63ad077948\" y=\"251.582685\"/>\n     <use style=\"fill:#1f77b4;stroke:#ffffff;stroke-width:0.48;\" x=\"890.435851\" xlink:href=\"#m63ad077948\" y=\"300.279097\"/>\n     <use style=\"fill:#1f77b4;stroke:#ffffff;stroke-width:0.48;\" x=\"890.435851\" xlink:href=\"#m63ad077948\" y=\"354.627771\"/>\n     <use style=\"fill:#1f77b4;stroke:#ffffff;stroke-width:0.48;\" x=\"890.435851\" xlink:href=\"#m63ad077948\" y=\"353.323403\"/>\n     <use style=\"fill:#1f77b4;stroke:#ffffff;stroke-width:0.48;\" x=\"890.435851\" xlink:href=\"#m63ad077948\" y=\"286.365836\"/>\n     <use style=\"fill:#1f77b4;stroke:#ffffff;stroke-width:0.48;\" x=\"890.435851\" xlink:href=\"#m63ad077948\" y=\"323.757724\"/>\n     <use style=\"fill:#1f77b4;stroke:#ffffff;stroke-width:0.48;\" x=\"890.435851\" xlink:href=\"#m63ad077948\" y=\"312.4532\"/>\n     <use style=\"fill:#1f77b4;stroke:#ffffff;stroke-width:0.48;\" x=\"890.435851\" xlink:href=\"#m63ad077948\" y=\"353.323403\"/>\n     <use style=\"fill:#1f77b4;stroke:#ffffff;stroke-width:0.48;\" x=\"890.435851\" xlink:href=\"#m63ad077948\" y=\"335.931827\"/>\n     <use style=\"fill:#1f77b4;stroke:#ffffff;stroke-width:0.48;\" x=\"890.435851\" xlink:href=\"#m63ad077948\" y=\"347.236352\"/>\n     <use style=\"fill:#1f77b4;stroke:#ffffff;stroke-width:0.48;\" x=\"890.435851\" xlink:href=\"#m63ad077948\" y=\"328.975197\"/>\n     <use style=\"fill:#1f77b4;stroke:#ffffff;stroke-width:0.48;\" x=\"1247.023695\" xlink:href=\"#m63ad077948\" y=\"334.627459\"/>\n     <use style=\"fill:#1f77b4;stroke:#ffffff;stroke-width:0.48;\" x=\"1247.023695\" xlink:href=\"#m63ad077948\" y=\"336.366617\"/>\n     <use style=\"fill:#1f77b4;stroke:#ffffff;stroke-width:0.48;\" x=\"1247.023695\" xlink:href=\"#m63ad077948\" y=\"315.061936\"/>\n     <use style=\"fill:#1f77b4;stroke:#ffffff;stroke-width:0.48;\" x=\"890.435851\" xlink:href=\"#m63ad077948\" y=\"337.670985\"/>\n     <use style=\"fill:#1f77b4;stroke:#ffffff;stroke-width:0.48;\" x=\"890.435851\" xlink:href=\"#m63ad077948\" y=\"298.539939\"/>\n     <use style=\"fill:#1f77b4;stroke:#ffffff;stroke-width:0.48;\" x=\"890.435851\" xlink:href=\"#m63ad077948\" y=\"283.46724\"/>\n     <use style=\"fill:#1f77b4;stroke:#ffffff;stroke-width:0.48;\" x=\"890.435851\" xlink:href=\"#m63ad077948\" y=\"116.073323\"/>\n     <use style=\"fill:#1f77b4;stroke:#ffffff;stroke-width:0.48;\" x=\"890.435851\" xlink:href=\"#m63ad077948\" y=\"294.192045\"/>\n     <use style=\"fill:#1f77b4;stroke:#ffffff;stroke-width:0.48;\" x=\"890.435851\" xlink:href=\"#m63ad077948\" y=\"340.714511\"/>\n     <use style=\"fill:#1f77b4;stroke:#ffffff;stroke-width:0.48;\" x=\"890.435851\" xlink:href=\"#m63ad077948\" y=\"304.192201\"/>\n     <use style=\"fill:#1f77b4;stroke:#ffffff;stroke-width:0.48;\" x=\"1247.023695\" xlink:href=\"#m63ad077948\" y=\"353.758193\"/>\n     <use style=\"fill:#1f77b4;stroke:#ffffff;stroke-width:0.48;\" x=\"1247.023695\" xlink:href=\"#m63ad077948\" y=\"347.236352\"/>\n     <use style=\"fill:#1f77b4;stroke:#ffffff;stroke-width:0.48;\" x=\"1247.023695\" xlink:href=\"#m63ad077948\" y=\"367.671453\"/>\n     <use style=\"fill:#1f77b4;stroke:#ffffff;stroke-width:0.48;\" x=\"1247.023695\" xlink:href=\"#m63ad077948\" y=\"355.49735\"/>\n     <use style=\"fill:#1f77b4;stroke:#ffffff;stroke-width:0.48;\" x=\"890.435851\" xlink:href=\"#m63ad077948\" y=\"326.80125\"/>\n     <use style=\"fill:#1f77b4;stroke:#ffffff;stroke-width:0.48;\" x=\"890.435851\" xlink:href=\"#m63ad077948\" y=\"241.799923\"/>\n     <use style=\"fill:#1f77b4;stroke:#ffffff;stroke-width:0.48;\" x=\"890.435851\" xlink:href=\"#m63ad077948\" y=\"322.453356\"/>\n     <use style=\"fill:#1f77b4;stroke:#ffffff;stroke-width:0.48;\" x=\"890.435851\" xlink:href=\"#m63ad077948\" y=\"25.492199\"/>\n     <use style=\"fill:#1f77b4;stroke:#ffffff;stroke-width:0.48;\" x=\"890.435851\" xlink:href=\"#m63ad077948\" y=\"326.366461\"/>\n     <use style=\"fill:#1f77b4;stroke:#ffffff;stroke-width:0.48;\" x=\"890.435851\" xlink:href=\"#m63ad077948\" y=\"312.018411\"/>\n     <use style=\"fill:#1f77b4;stroke:#ffffff;stroke-width:0.48;\" x=\"890.435851\" xlink:href=\"#m63ad077948\" y=\"96.145475\"/>\n     <use style=\"fill:#1f77b4;stroke:#ffffff;stroke-width:0.48;\" x=\"890.435851\" xlink:href=\"#m63ad077948\" y=\"295.061624\"/>\n     <use style=\"fill:#1f77b4;stroke:#ffffff;stroke-width:0.48;\" x=\"890.435851\" xlink:href=\"#m63ad077948\" y=\"150.131825\"/>\n     <use style=\"fill:#1f77b4;stroke:#ffffff;stroke-width:0.48;\" x=\"890.435851\" xlink:href=\"#m63ad077948\" y=\"181.291732\"/>\n     <use style=\"fill:#1f77b4;stroke:#ffffff;stroke-width:0.48;\" x=\"890.435851\" xlink:href=\"#m63ad077948\" y=\"325.931671\"/>\n     <use style=\"fill:#1f77b4;stroke:#ffffff;stroke-width:0.48;\" x=\"1247.023695\" xlink:href=\"#m63ad077948\" y=\"332.453512\"/>\n     <use style=\"fill:#1f77b4;stroke:#ffffff;stroke-width:0.48;\" x=\"1247.023695\" xlink:href=\"#m63ad077948\" y=\"325.931671\"/>\n     <use style=\"fill:#1f77b4;stroke:#ffffff;stroke-width:0.48;\" x=\"1247.023695\" xlink:href=\"#m63ad077948\" y=\"312.4532\"/>\n     <use style=\"fill:#1f77b4;stroke:#ffffff;stroke-width:0.48;\" x=\"1247.023695\" xlink:href=\"#m63ad077948\" y=\"361.149612\"/>\n     <use style=\"fill:#1f77b4;stroke:#ffffff;stroke-width:0.48;\" x=\"1247.023695\" xlink:href=\"#m63ad077948\" y=\"348.54072\"/>\n     <use style=\"fill:#1f77b4;stroke:#ffffff;stroke-width:0.48;\" x=\"890.435851\" xlink:href=\"#m63ad077948\" y=\"315.061936\"/>\n     <use style=\"fill:#1f77b4;stroke:#ffffff;stroke-width:0.48;\" x=\"890.435851\" xlink:href=\"#m63ad077948\" y=\"349.410299\"/>\n     <use style=\"fill:#1f77b4;stroke:#ffffff;stroke-width:0.48;\" x=\"890.435851\" xlink:href=\"#m63ad077948\" y=\"332.018723\"/>\n     <use style=\"fill:#1f77b4;stroke:#ffffff;stroke-width:0.48;\" x=\"890.435851\" xlink:href=\"#m63ad077948\" y=\"327.670829\"/>\n     <use style=\"fill:#1f77b4;stroke:#ffffff;stroke-width:0.48;\" x=\"890.435851\" xlink:href=\"#m63ad077948\" y=\"352.019035\"/>\n     <use style=\"fill:#1f77b4;stroke:#ffffff;stroke-width:0.48;\" x=\"890.435851\" xlink:href=\"#m63ad077948\" y=\"329.844776\"/>\n     <use style=\"fill:#1f77b4;stroke:#ffffff;stroke-width:0.48;\" x=\"890.435851\" xlink:href=\"#m63ad077948\" y=\"327.670829\"/>\n     <use style=\"fill:#1f77b4;stroke:#ffffff;stroke-width:0.48;\" x=\"890.435851\" xlink:href=\"#m63ad077948\" y=\"315.931515\"/>\n     <use style=\"fill:#1f77b4;stroke:#ffffff;stroke-width:0.48;\" x=\"890.435851\" xlink:href=\"#m63ad077948\" y=\"242.886897\"/>\n     <use style=\"fill:#1f77b4;stroke:#ffffff;stroke-width:0.48;\" x=\"890.435851\" xlink:href=\"#m63ad077948\" y=\"313.757568\"/>\n     <use style=\"fill:#1f77b4;stroke:#ffffff;stroke-width:0.48;\" x=\"890.435851\" xlink:href=\"#m63ad077948\" y=\"285.931047\"/>\n     <use style=\"fill:#1f77b4;stroke:#ffffff;stroke-width:0.48;\" x=\"890.435851\" xlink:href=\"#m63ad077948\" y=\"203.031202\"/>\n     <use style=\"fill:#1f77b4;stroke:#ffffff;stroke-width:0.48;\" x=\"890.435851\" xlink:href=\"#m63ad077948\" y=\"344.192826\"/>\n     <use style=\"fill:#1f77b4;stroke:#ffffff;stroke-width:0.48;\" x=\"890.435851\" xlink:href=\"#m63ad077948\" y=\"338.540564\"/>\n     <use style=\"fill:#1f77b4;stroke:#ffffff;stroke-width:0.48;\" x=\"890.435851\" xlink:href=\"#m63ad077948\" y=\"338.975353\"/>\n     <use style=\"fill:#1f77b4;stroke:#ffffff;stroke-width:0.48;\" x=\"890.435851\" xlink:href=\"#m63ad077948\" y=\"318.540252\"/>\n     <use style=\"fill:#1f77b4;stroke:#ffffff;stroke-width:0.48;\" x=\"890.435851\" xlink:href=\"#m63ad077948\" y=\"340.279721\"/>\n     <use style=\"fill:#1f77b4;stroke:#ffffff;stroke-width:0.48;\" x=\"1247.023695\" xlink:href=\"#m63ad077948\" y=\"335.497038\"/>\n     <use style=\"fill:#1f77b4;stroke:#ffffff;stroke-width:0.48;\" x=\"1247.023695\" xlink:href=\"#m63ad077948\" y=\"327.236039\"/>\n     <use style=\"fill:#1f77b4;stroke:#ffffff;stroke-width:0.48;\" x=\"1247.023695\" xlink:href=\"#m63ad077948\" y=\"351.584246\"/>\n     <use style=\"fill:#1f77b4;stroke:#ffffff;stroke-width:0.48;\" x=\"890.435851\" xlink:href=\"#m63ad077948\" y=\"277.670048\"/>\n     <use style=\"fill:#1f77b4;stroke:#ffffff;stroke-width:0.48;\" x=\"890.435851\" xlink:href=\"#m63ad077948\" y=\"257.379876\"/>\n     <use style=\"fill:#1f77b4;stroke:#ffffff;stroke-width:0.48;\" x=\"890.435851\" xlink:href=\"#m63ad077948\" y=\"262.814744\"/>\n     <use style=\"fill:#1f77b4;stroke:#ffffff;stroke-width:0.48;\" x=\"890.435851\" xlink:href=\"#m63ad077948\" y=\"353.323403\"/>\n     <use style=\"fill:#1f77b4;stroke:#ffffff;stroke-width:0.48;\" x=\"890.435851\" xlink:href=\"#m63ad077948\" y=\"190.349845\"/>\n     <use style=\"fill:#1f77b4;stroke:#ffffff;stroke-width:0.48;\" x=\"890.435851\" xlink:href=\"#m63ad077948\" y=\"283.46724\"/>\n     <use style=\"fill:#1f77b4;stroke:#ffffff;stroke-width:0.48;\" x=\"890.435851\" xlink:href=\"#m63ad077948\" y=\"285.641187\"/>\n     <use style=\"fill:#1f77b4;stroke:#ffffff;stroke-width:0.48;\" x=\"890.435851\" xlink:href=\"#m63ad077948\" y=\"252.887053\"/>\n     <use style=\"fill:#1f77b4;stroke:#ffffff;stroke-width:0.48;\" x=\"890.435851\" xlink:href=\"#m63ad077948\" y=\"297.67036\"/>\n     <use style=\"fill:#1f77b4;stroke:#ffffff;stroke-width:0.48;\" x=\"890.435851\" xlink:href=\"#m63ad077948\" y=\"177.668487\"/>\n     <use style=\"fill:#1f77b4;stroke:#ffffff;stroke-width:0.48;\" x=\"890.435851\" xlink:href=\"#m63ad077948\" y=\"260.278472\"/>\n     <use style=\"fill:#1f77b4;stroke:#ffffff;stroke-width:0.48;\" x=\"890.435851\" xlink:href=\"#m63ad077948\" y=\"340.279721\"/>\n     <use style=\"fill:#1f77b4;stroke:#ffffff;stroke-width:0.48;\" x=\"890.435851\" xlink:href=\"#m63ad077948\" y=\"318.540252\"/>\n     <use style=\"fill:#1f77b4;stroke:#ffffff;stroke-width:0.48;\" x=\"890.435851\" xlink:href=\"#m63ad077948\" y=\"346.801562\"/>\n     <use style=\"fill:#1f77b4;stroke:#ffffff;stroke-width:0.48;\" x=\"890.435851\" xlink:href=\"#m63ad077948\" y=\"332.018723\"/>\n     <use style=\"fill:#1f77b4;stroke:#ffffff;stroke-width:0.48;\" x=\"890.435851\" xlink:href=\"#m63ad077948\" y=\"336.801406\"/>\n     <use style=\"fill:#1f77b4;stroke:#ffffff;stroke-width:0.48;\" x=\"890.435851\" xlink:href=\"#m63ad077948\" y=\"350.279877\"/>\n     <use style=\"fill:#1f77b4;stroke:#ffffff;stroke-width:0.48;\" x=\"890.435851\" xlink:href=\"#m63ad077948\" y=\"315.931515\"/>\n     <use style=\"fill:#1f77b4;stroke:#ffffff;stroke-width:0.48;\" x=\"890.435851\" xlink:href=\"#m63ad077948\" y=\"268.97426\"/>\n     <use style=\"fill:#1f77b4;stroke:#ffffff;stroke-width:0.48;\" x=\"890.435851\" xlink:href=\"#m63ad077948\" y=\"346.366773\"/>\n     <use style=\"fill:#1f77b4;stroke:#ffffff;stroke-width:0.48;\" x=\"1247.023695\" xlink:href=\"#m63ad077948\" y=\"345.062405\"/>\n     <use style=\"fill:#1f77b4;stroke:#ffffff;stroke-width:0.48;\" x=\"1247.023695\" xlink:href=\"#m63ad077948\" y=\"350.279877\"/>\n     <use style=\"fill:#1f77b4;stroke:#ffffff;stroke-width:0.48;\" x=\"1247.023695\" xlink:href=\"#m63ad077948\" y=\"344.192826\"/>\n     <use style=\"fill:#1f77b4;stroke:#ffffff;stroke-width:0.48;\" x=\"890.435851\" xlink:href=\"#m63ad077948\" y=\"341.584089\"/>\n     <use style=\"fill:#1f77b4;stroke:#ffffff;stroke-width:0.48;\" x=\"890.435851\" xlink:href=\"#m63ad077948\" y=\"325.062092\"/>\n     <use style=\"fill:#1f77b4;stroke:#ffffff;stroke-width:0.48;\" x=\"890.435851\" xlink:href=\"#m63ad077948\" y=\"346.801562\"/>\n     <use style=\"fill:#1f77b4;stroke:#ffffff;stroke-width:0.48;\" x=\"890.435851\" xlink:href=\"#m63ad077948\" y=\"206.654447\"/>\n     <use style=\"fill:#1f77b4;stroke:#ffffff;stroke-width:0.48;\" x=\"890.435851\" xlink:href=\"#m63ad077948\" y=\"217.524182\"/>\n     <use style=\"fill:#1f77b4;stroke:#ffffff;stroke-width:0.48;\" x=\"890.435851\" xlink:href=\"#m63ad077948\" y=\"369.8454\"/>\n     <use style=\"fill:#1f77b4;stroke:#ffffff;stroke-width:0.48;\" x=\"890.435851\" xlink:href=\"#m63ad077948\" y=\"358.540876\"/>\n     <use style=\"fill:#1f77b4;stroke:#ffffff;stroke-width:0.48;\" x=\"890.435851\" xlink:href=\"#m63ad077948\" y=\"347.236352\"/>\n     <use style=\"fill:#1f77b4;stroke:#ffffff;stroke-width:0.48;\" x=\"890.435851\" xlink:href=\"#m63ad077948\" y=\"341.584089\"/>\n     <use style=\"fill:#1f77b4;stroke:#ffffff;stroke-width:0.48;\" x=\"890.435851\" xlink:href=\"#m63ad077948\" y=\"345.497194\"/>\n     <use style=\"fill:#1f77b4;stroke:#ffffff;stroke-width:0.48;\" x=\"890.435851\" xlink:href=\"#m63ad077948\" y=\"334.19267\"/>\n     <use style=\"fill:#1f77b4;stroke:#ffffff;stroke-width:0.48;\" x=\"1247.023695\" xlink:href=\"#m63ad077948\" y=\"327.670829\"/>\n     <use style=\"fill:#1f77b4;stroke:#ffffff;stroke-width:0.48;\" x=\"1247.023695\" xlink:href=\"#m63ad077948\" y=\"300.279097\"/>\n     <use style=\"fill:#1f77b4;stroke:#ffffff;stroke-width:0.48;\" x=\"1247.023695\" xlink:href=\"#m63ad077948\" y=\"329.844776\"/>\n     <use style=\"fill:#1f77b4;stroke:#ffffff;stroke-width:0.48;\" x=\"1247.023695\" xlink:href=\"#m63ad077948\" y=\"352.888614\"/>\n     <use style=\"fill:#1f77b4;stroke:#ffffff;stroke-width:0.48;\" x=\"890.435851\" xlink:href=\"#m63ad077948\" y=\"189.98752\"/>\n     <use style=\"fill:#1f77b4;stroke:#ffffff;stroke-width:0.48;\" x=\"890.435851\" xlink:href=\"#m63ad077948\" y=\"241.075274\"/>\n     <use style=\"fill:#1f77b4;stroke:#ffffff;stroke-width:0.48;\" x=\"890.435851\" xlink:href=\"#m63ad077948\" y=\"301.148676\"/>\n     <use style=\"fill:#1f77b4;stroke:#ffffff;stroke-width:0.48;\" x=\"890.435851\" xlink:href=\"#m63ad077948\" y=\"135.638846\"/>\n     <use style=\"fill:#1f77b4;stroke:#ffffff;stroke-width:0.48;\" x=\"890.435851\" xlink:href=\"#m63ad077948\" y=\"337.236196\"/>\n     <use style=\"fill:#1f77b4;stroke:#ffffff;stroke-width:0.48;\" x=\"890.435851\" xlink:href=\"#m63ad077948\" y=\"325.062092\"/>\n     <use style=\"fill:#1f77b4;stroke:#ffffff;stroke-width:0.48;\" x=\"890.435851\" xlink:href=\"#m63ad077948\" y=\"152.305772\"/>\n     <use style=\"fill:#1f77b4;stroke:#ffffff;stroke-width:0.48;\" x=\"890.435851\" xlink:href=\"#m63ad077948\" y=\"343.758036\"/>\n     <use style=\"fill:#1f77b4;stroke:#ffffff;stroke-width:0.48;\" x=\"890.435851\" xlink:href=\"#m63ad077948\" y=\"355.93214\"/>\n     <use style=\"fill:#1f77b4;stroke:#ffffff;stroke-width:0.48;\" x=\"1247.023695\" xlink:href=\"#m63ad077948\" y=\"328.540408\"/>\n     <use style=\"fill:#1f77b4;stroke:#ffffff;stroke-width:0.48;\" x=\"1247.023695\" xlink:href=\"#m63ad077948\" y=\"334.627459\"/>\n     <use style=\"fill:#1f77b4;stroke:#ffffff;stroke-width:0.48;\" x=\"1247.023695\" xlink:href=\"#m63ad077948\" y=\"327.670829\"/>\n     <use style=\"fill:#1f77b4;stroke:#ffffff;stroke-width:0.48;\" x=\"1247.023695\" xlink:href=\"#m63ad077948\" y=\"327.670829\"/>\n     <use style=\"fill:#1f77b4;stroke:#ffffff;stroke-width:0.48;\" x=\"890.435851\" xlink:href=\"#m63ad077948\" y=\"257.742201\"/>\n     <use style=\"fill:#1f77b4;stroke:#ffffff;stroke-width:0.48;\" x=\"890.435851\" xlink:href=\"#m63ad077948\" y=\"307.235727\"/>\n     <use style=\"fill:#1f77b4;stroke:#ffffff;stroke-width:0.48;\" x=\"890.435851\" xlink:href=\"#m63ad077948\" y=\"319.84462\"/>\n     <use style=\"fill:#1f77b4;stroke:#ffffff;stroke-width:0.48;\" x=\"890.435851\" xlink:href=\"#m63ad077948\" y=\"328.975197\"/>\n     <use style=\"fill:#1f77b4;stroke:#ffffff;stroke-width:0.48;\" x=\"890.435851\" xlink:href=\"#m63ad077948\" y=\"325.496882\"/>\n     <use style=\"fill:#1f77b4;stroke:#ffffff;stroke-width:0.48;\" x=\"890.435851\" xlink:href=\"#m63ad077948\" y=\"325.062092\"/>\n     <use style=\"fill:#1f77b4;stroke:#ffffff;stroke-width:0.48;\" x=\"890.435851\" xlink:href=\"#m63ad077948\" y=\"343.758036\"/>\n     <use style=\"fill:#1f77b4;stroke:#ffffff;stroke-width:0.48;\" x=\"890.435851\" xlink:href=\"#m63ad077948\" y=\"307.235727\"/>\n     <use style=\"fill:#1f77b4;stroke:#ffffff;stroke-width:0.48;\" x=\"890.435851\" xlink:href=\"#m63ad077948\" y=\"362.45398\"/>\n     <use style=\"fill:#1f77b4;stroke:#ffffff;stroke-width:0.48;\" x=\"890.435851\" xlink:href=\"#m63ad077948\" y=\"322.453356\"/>\n     <use style=\"fill:#1f77b4;stroke:#ffffff;stroke-width:0.48;\" x=\"890.435851\" xlink:href=\"#m63ad077948\" y=\"320.279409\"/>\n     <use style=\"fill:#1f77b4;stroke:#ffffff;stroke-width:0.48;\" x=\"890.435851\" xlink:href=\"#m63ad077948\" y=\"305.06178\"/>\n     <use style=\"fill:#1f77b4;stroke:#ffffff;stroke-width:0.48;\" x=\"1247.023695\" xlink:href=\"#m63ad077948\" y=\"337.236196\"/>\n     <use style=\"fill:#1f77b4;stroke:#ffffff;stroke-width:0.48;\" x=\"1247.023695\" xlink:href=\"#m63ad077948\" y=\"346.366773\"/>\n     <use style=\"fill:#1f77b4;stroke:#ffffff;stroke-width:0.48;\" x=\"1247.023695\" xlink:href=\"#m63ad077948\" y=\"327.670829\"/>\n     <use style=\"fill:#1f77b4;stroke:#ffffff;stroke-width:0.48;\" x=\"1247.023695\" xlink:href=\"#m63ad077948\" y=\"359.845244\"/>\n     <use style=\"fill:#1f77b4;stroke:#ffffff;stroke-width:0.48;\" x=\"890.435851\" xlink:href=\"#m63ad077948\" y=\"217.524182\"/>\n     <use style=\"fill:#1f77b4;stroke:#ffffff;stroke-width:0.48;\" x=\"890.435851\" xlink:href=\"#m63ad077948\" y=\"244.698519\"/>\n     <use style=\"fill:#1f77b4;stroke:#ffffff;stroke-width:0.48;\" x=\"890.435851\" xlink:href=\"#m63ad077948\" y=\"325.496882\"/>\n     <use style=\"fill:#1f77b4;stroke:#ffffff;stroke-width:0.48;\" x=\"890.435851\" xlink:href=\"#m63ad077948\" y=\"337.670985\"/>\n     <use style=\"fill:#1f77b4;stroke:#ffffff;stroke-width:0.48;\" x=\"890.435851\" xlink:href=\"#m63ad077948\" y=\"338.540564\"/>\n     <use style=\"fill:#1f77b4;stroke:#ffffff;stroke-width:0.48;\" x=\"890.435851\" xlink:href=\"#m63ad077948\" y=\"296.365992\"/>\n     <use style=\"fill:#1f77b4;stroke:#ffffff;stroke-width:0.48;\" x=\"890.435851\" xlink:href=\"#m63ad077948\" y=\"340.714511\"/>\n     <use style=\"fill:#1f77b4;stroke:#ffffff;stroke-width:0.48;\" x=\"890.435851\" xlink:href=\"#m63ad077948\" y=\"352.453824\"/>\n     <use style=\"fill:#1f77b4;stroke:#ffffff;stroke-width:0.48;\" x=\"890.435851\" xlink:href=\"#m63ad077948\" y=\"228.393917\"/>\n     <use style=\"fill:#1f77b4;stroke:#ffffff;stroke-width:0.48;\" x=\"890.435851\" xlink:href=\"#m63ad077948\" y=\"327.236039\"/>\n     <use style=\"fill:#1f77b4;stroke:#ffffff;stroke-width:0.48;\" x=\"890.435851\" xlink:href=\"#m63ad077948\" y=\"358.540876\"/>\n     <use style=\"fill:#1f77b4;stroke:#ffffff;stroke-width:0.48;\" x=\"890.435851\" xlink:href=\"#m63ad077948\" y=\"352.019035\"/>\n     <use style=\"fill:#1f77b4;stroke:#ffffff;stroke-width:0.48;\" x=\"890.435851\" xlink:href=\"#m63ad077948\" y=\"313.757568\"/>\n     <use style=\"fill:#1f77b4;stroke:#ffffff;stroke-width:0.48;\" x=\"890.435851\" xlink:href=\"#m63ad077948\" y=\"334.19267\"/>\n     <use style=\"fill:#1f77b4;stroke:#ffffff;stroke-width:0.48;\" x=\"890.435851\" xlink:href=\"#m63ad077948\" y=\"345.931983\"/>\n     <use style=\"fill:#1f77b4;stroke:#ffffff;stroke-width:0.48;\" x=\"890.435851\" xlink:href=\"#m63ad077948\" y=\"368.541032\"/>\n     <use style=\"fill:#1f77b4;stroke:#ffffff;stroke-width:0.48;\" x=\"1247.023695\" xlink:href=\"#m63ad077948\" y=\"339.410143\"/>\n     <use style=\"fill:#1f77b4;stroke:#ffffff;stroke-width:0.48;\" x=\"1247.023695\" xlink:href=\"#m63ad077948\" y=\"289.409362\"/>\n     <use style=\"fill:#1f77b4;stroke:#ffffff;stroke-width:0.48;\" x=\"1247.023695\" xlink:href=\"#m63ad077948\" y=\"348.10593\"/>\n     <use style=\"fill:#1f77b4;stroke:#ffffff;stroke-width:0.48;\" x=\"1247.023695\" xlink:href=\"#m63ad077948\" y=\"339.844932\"/>\n     <use style=\"fill:#1f77b4;stroke:#ffffff;stroke-width:0.48;\" x=\"890.435851\" xlink:href=\"#m63ad077948\" y=\"336.801406\"/>\n     <use style=\"fill:#1f77b4;stroke:#ffffff;stroke-width:0.48;\" x=\"890.435851\" xlink:href=\"#m63ad077948\" y=\"342.018879\"/>\n     <use style=\"fill:#1f77b4;stroke:#ffffff;stroke-width:0.48;\" x=\"890.435851\" xlink:href=\"#m63ad077948\" y=\"294.192045\"/>\n     <use style=\"fill:#1f77b4;stroke:#ffffff;stroke-width:0.48;\" x=\"890.435851\" xlink:href=\"#m63ad077948\" y=\"327.670829\"/>\n     <use style=\"fill:#1f77b4;stroke:#ffffff;stroke-width:0.48;\" x=\"890.435851\" xlink:href=\"#m63ad077948\" y=\"339.410143\"/>\n     <use style=\"fill:#1f77b4;stroke:#ffffff;stroke-width:0.48;\" x=\"890.435851\" xlink:href=\"#m63ad077948\" y=\"356.366929\"/>\n     <use style=\"fill:#1f77b4;stroke:#ffffff;stroke-width:0.48;\" x=\"1247.023695\" xlink:href=\"#m63ad077948\" y=\"314.627147\"/>\n     <use style=\"fill:#1f77b4;stroke:#ffffff;stroke-width:0.48;\" x=\"1247.023695\" xlink:href=\"#m63ad077948\" y=\"339.410143\"/>\n     <use style=\"fill:#1f77b4;stroke:#ffffff;stroke-width:0.48;\" x=\"1247.023695\" xlink:href=\"#m63ad077948\" y=\"339.844932\"/>\n     <use style=\"fill:#1f77b4;stroke:#ffffff;stroke-width:0.48;\" x=\"1247.023695\" xlink:href=\"#m63ad077948\" y=\"336.366617\"/>\n     <use style=\"fill:#1f77b4;stroke:#ffffff;stroke-width:0.48;\" x=\"1247.023695\" xlink:href=\"#m63ad077948\" y=\"344.192826\"/>\n     <use style=\"fill:#1f77b4;stroke:#ffffff;stroke-width:0.48;\" x=\"890.435851\" xlink:href=\"#m63ad077948\" y=\"225.495321\"/>\n     <use style=\"fill:#1f77b4;stroke:#ffffff;stroke-width:0.48;\" x=\"890.435851\" xlink:href=\"#m63ad077948\" y=\"264.191577\"/>\n     <use style=\"fill:#1f77b4;stroke:#ffffff;stroke-width:0.48;\" x=\"890.435851\" xlink:href=\"#m63ad077948\" y=\"284.554214\"/>\n     <use style=\"fill:#1f77b4;stroke:#ffffff;stroke-width:0.48;\" x=\"890.435851\" xlink:href=\"#m63ad077948\" y=\"327.236039\"/>\n     <use style=\"fill:#1f77b4;stroke:#ffffff;stroke-width:0.48;\" x=\"890.435851\" xlink:href=\"#m63ad077948\" y=\"331.583933\"/>\n     <use style=\"fill:#1f77b4;stroke:#ffffff;stroke-width:0.48;\" x=\"890.435851\" xlink:href=\"#m63ad077948\" y=\"320.279409\"/>\n     <use style=\"fill:#1f77b4;stroke:#ffffff;stroke-width:0.48;\" x=\"890.435851\" xlink:href=\"#m63ad077948\" y=\"353.323403\"/>\n     <use style=\"fill:#1f77b4;stroke:#ffffff;stroke-width:0.48;\" x=\"890.435851\" xlink:href=\"#m63ad077948\" y=\"364.193138\"/>\n     <use style=\"fill:#1f77b4;stroke:#ffffff;stroke-width:0.48;\" x=\"890.435851\" xlink:href=\"#m63ad077948\" y=\"280.930969\"/>\n     <use style=\"fill:#1f77b4;stroke:#ffffff;stroke-width:0.48;\" x=\"1247.023695\" xlink:href=\"#m63ad077948\" y=\"342.888458\"/>\n     <use style=\"fill:#1f77b4;stroke:#ffffff;stroke-width:0.48;\" x=\"1247.023695\" xlink:href=\"#m63ad077948\" y=\"339.844932\"/>\n     <use style=\"fill:#1f77b4;stroke:#ffffff;stroke-width:0.48;\" x=\"1247.023695\" xlink:href=\"#m63ad077948\" y=\"339.410143\"/>\n     <use style=\"fill:#1f77b4;stroke:#ffffff;stroke-width:0.48;\" x=\"1247.023695\" xlink:href=\"#m63ad077948\" y=\"330.279565\"/>\n     <use style=\"fill:#1f77b4;stroke:#ffffff;stroke-width:0.48;\" x=\"890.435851\" xlink:href=\"#m63ad077948\" y=\"216.074884\"/>\n     <use style=\"fill:#1f77b4;stroke:#ffffff;stroke-width:0.48;\" x=\"890.435851\" xlink:href=\"#m63ad077948\" y=\"324.192514\"/>\n     <use style=\"fill:#1f77b4;stroke:#ffffff;stroke-width:0.48;\" x=\"890.435851\" xlink:href=\"#m63ad077948\" y=\"340.714511\"/>\n     <use style=\"fill:#1f77b4;stroke:#ffffff;stroke-width:0.48;\" x=\"890.435851\" xlink:href=\"#m63ad077948\" y=\"313.322779\"/>\n     <use style=\"fill:#1f77b4;stroke:#ffffff;stroke-width:0.48;\" x=\"890.435851\" xlink:href=\"#m63ad077948\" y=\"334.19267\"/>\n     <use style=\"fill:#1f77b4;stroke:#ffffff;stroke-width:0.48;\" x=\"890.435851\" xlink:href=\"#m63ad077948\" y=\"367.236664\"/>\n     <use style=\"fill:#1f77b4;stroke:#ffffff;stroke-width:0.48;\" x=\"1247.023695\" xlink:href=\"#m63ad077948\" y=\"343.758036\"/>\n     <use style=\"fill:#1f77b4;stroke:#ffffff;stroke-width:0.48;\" x=\"1247.023695\" xlink:href=\"#m63ad077948\" y=\"347.236352\"/>\n     <use style=\"fill:#1f77b4;stroke:#ffffff;stroke-width:0.48;\" x=\"1247.023695\" xlink:href=\"#m63ad077948\" y=\"337.236196\"/>\n     <use style=\"fill:#1f77b4;stroke:#ffffff;stroke-width:0.48;\" x=\"1247.023695\" xlink:href=\"#m63ad077948\" y=\"363.323559\"/>\n     <use style=\"fill:#1f77b4;stroke:#ffffff;stroke-width:0.48;\" x=\"890.435851\" xlink:href=\"#m63ad077948\" y=\"302.887833\"/>\n     <use style=\"fill:#1f77b4;stroke:#ffffff;stroke-width:0.48;\" x=\"890.435851\" xlink:href=\"#m63ad077948\" y=\"304.192201\"/>\n     <use style=\"fill:#1f77b4;stroke:#ffffff;stroke-width:0.48;\" x=\"890.435851\" xlink:href=\"#m63ad077948\" y=\"327.670829\"/>\n     <use style=\"fill:#1f77b4;stroke:#ffffff;stroke-width:0.48;\" x=\"890.435851\" xlink:href=\"#m63ad077948\" y=\"308.105306\"/>\n     <use style=\"fill:#1f77b4;stroke:#ffffff;stroke-width:0.48;\" x=\"890.435851\" xlink:href=\"#m63ad077948\" y=\"246.510142\"/>\n     <use style=\"fill:#1f77b4;stroke:#ffffff;stroke-width:0.48;\" x=\"890.435851\" xlink:href=\"#m63ad077948\" y=\"316.801094\"/>\n     <use style=\"fill:#1f77b4;stroke:#ffffff;stroke-width:0.48;\" x=\"890.435851\" xlink:href=\"#m63ad077948\" y=\"312.4532\"/>\n     <use style=\"fill:#1f77b4;stroke:#ffffff;stroke-width:0.48;\" x=\"890.435851\" xlink:href=\"#m63ad077948\" y=\"332.453512\"/>\n     <use style=\"fill:#1f77b4;stroke:#ffffff;stroke-width:0.48;\" x=\"890.435851\" xlink:href=\"#m63ad077948\" y=\"368.975821\"/>\n     <use style=\"fill:#1f77b4;stroke:#ffffff;stroke-width:0.48;\" x=\"1247.023695\" xlink:href=\"#m63ad077948\" y=\"359.845244\"/>\n     <use style=\"fill:#1f77b4;stroke:#ffffff;stroke-width:0.48;\" x=\"1247.023695\" xlink:href=\"#m63ad077948\" y=\"345.062405\"/>\n     <use style=\"fill:#1f77b4;stroke:#ffffff;stroke-width:0.48;\" x=\"1247.023695\" xlink:href=\"#m63ad077948\" y=\"338.105774\"/>\n     <use style=\"fill:#1f77b4;stroke:#ffffff;stroke-width:0.48;\" x=\"1247.023695\" xlink:href=\"#m63ad077948\" y=\"340.279721\"/>\n     <use style=\"fill:#1f77b4;stroke:#ffffff;stroke-width:0.48;\" x=\"1247.023695\" xlink:href=\"#m63ad077948\" y=\"349.845088\"/>\n     <use style=\"fill:#1f77b4;stroke:#ffffff;stroke-width:0.48;\" x=\"890.435851\" xlink:href=\"#m63ad077948\" y=\"257.669736\"/>\n     <use style=\"fill:#1f77b4;stroke:#ffffff;stroke-width:0.48;\" x=\"890.435851\" xlink:href=\"#m63ad077948\" y=\"211.364665\"/>\n     <use style=\"fill:#1f77b4;stroke:#ffffff;stroke-width:0.48;\" x=\"890.435851\" xlink:href=\"#m63ad077948\" y=\"268.249611\"/>\n     <use style=\"fill:#1f77b4;stroke:#ffffff;stroke-width:0.48;\" x=\"890.435851\" xlink:href=\"#m63ad077948\" y=\"221.147427\"/>\n     <use style=\"fill:#1f77b4;stroke:#ffffff;stroke-width:0.48;\" x=\"890.435851\" xlink:href=\"#m63ad077948\" y=\"331.757849\"/>\n     <use style=\"fill:#1f77b4;stroke:#ffffff;stroke-width:0.48;\" x=\"890.435851\" xlink:href=\"#m63ad077948\" y=\"302.018254\"/>\n     <use style=\"fill:#1f77b4;stroke:#ffffff;stroke-width:0.48;\" x=\"890.435851\" xlink:href=\"#m63ad077948\" y=\"332.453512\"/>\n     <use style=\"fill:#1f77b4;stroke:#ffffff;stroke-width:0.48;\" x=\"890.435851\" xlink:href=\"#m63ad077948\" y=\"320.714198\"/>\n     <use style=\"fill:#1f77b4;stroke:#ffffff;stroke-width:0.48;\" x=\"890.435851\" xlink:href=\"#m63ad077948\" y=\"223.321374\"/>\n     <use style=\"fill:#1f77b4;stroke:#ffffff;stroke-width:0.48;\" x=\"890.435851\" xlink:href=\"#m63ad077948\" y=\"318.975041\"/>\n     <use style=\"fill:#1f77b4;stroke:#ffffff;stroke-width:0.48;\" x=\"890.435851\" xlink:href=\"#m63ad077948\" y=\"337.670985\"/>\n     <use style=\"fill:#1f77b4;stroke:#ffffff;stroke-width:0.48;\" x=\"890.435851\" xlink:href=\"#m63ad077948\" y=\"347.236352\"/>\n     <use style=\"fill:#1f77b4;stroke:#ffffff;stroke-width:0.48;\" x=\"890.435851\" xlink:href=\"#m63ad077948\" y=\"359.410455\"/>\n     <use style=\"fill:#1f77b4;stroke:#ffffff;stroke-width:0.48;\" x=\"1247.023695\" xlink:href=\"#m63ad077948\" y=\"328.105618\"/>\n     <use style=\"fill:#1f77b4;stroke:#ffffff;stroke-width:0.48;\" x=\"1247.023695\" xlink:href=\"#m63ad077948\" y=\"332.888302\"/>\n     <use style=\"fill:#1f77b4;stroke:#ffffff;stroke-width:0.48;\" x=\"1247.023695\" xlink:href=\"#m63ad077948\" y=\"305.49657\"/>\n     <use style=\"fill:#1f77b4;stroke:#ffffff;stroke-width:0.48;\" x=\"1247.023695\" xlink:href=\"#m63ad077948\" y=\"327.670829\"/>\n     <use style=\"fill:#1f77b4;stroke:#ffffff;stroke-width:0.48;\" x=\"1247.023695\" xlink:href=\"#m63ad077948\" y=\"357.671297\"/>\n     <use style=\"fill:#1f77b4;stroke:#ffffff;stroke-width:0.48;\" x=\"1247.023695\" xlink:href=\"#m63ad077948\" y=\"361.149612\"/>\n     <use style=\"fill:#1f77b4;stroke:#ffffff;stroke-width:0.48;\" x=\"890.435851\" xlink:href=\"#m63ad077948\" y=\"329.409986\"/>\n     <use style=\"fill:#1f77b4;stroke:#ffffff;stroke-width:0.48;\" x=\"890.435851\" xlink:href=\"#m63ad077948\" y=\"316.453262\"/>\n     <use style=\"fill:#1f77b4;stroke:#ffffff;stroke-width:0.48;\" x=\"890.435851\" xlink:href=\"#m63ad077948\" y=\"184.914977\"/>\n     <use style=\"fill:#1f77b4;stroke:#ffffff;stroke-width:0.48;\" x=\"890.435851\" xlink:href=\"#m63ad077948\" y=\"343.323247\"/>\n     <use style=\"fill:#1f77b4;stroke:#ffffff;stroke-width:0.48;\" x=\"890.435851\" xlink:href=\"#m63ad077948\" y=\"330.279565\"/>\n     <use style=\"fill:#1f77b4;stroke:#ffffff;stroke-width:0.48;\" x=\"890.435851\" xlink:href=\"#m63ad077948\" y=\"347.236352\"/>\n     <use style=\"fill:#1f77b4;stroke:#ffffff;stroke-width:0.48;\" x=\"890.435851\" xlink:href=\"#m63ad077948\" y=\"336.366617\"/>\n     <use style=\"fill:#1f77b4;stroke:#ffffff;stroke-width:0.48;\" x=\"890.435851\" xlink:href=\"#m63ad077948\" y=\"352.019035\"/>\n     <use style=\"fill:#1f77b4;stroke:#ffffff;stroke-width:0.48;\" x=\"890.435851\" xlink:href=\"#m63ad077948\" y=\"369.8454\"/>\n     <use style=\"fill:#1f77b4;stroke:#ffffff;stroke-width:0.48;\" x=\"890.435851\" xlink:href=\"#m63ad077948\" y=\"353.323403\"/>\n     <use style=\"fill:#1f77b4;stroke:#ffffff;stroke-width:0.48;\" x=\"890.435851\" xlink:href=\"#m63ad077948\" y=\"349.410299\"/>\n     <use style=\"fill:#1f77b4;stroke:#ffffff;stroke-width:0.48;\" x=\"890.435851\" xlink:href=\"#m63ad077948\" y=\"318.540252\"/>\n     <use style=\"fill:#1f77b4;stroke:#ffffff;stroke-width:0.48;\" x=\"890.435851\" xlink:href=\"#m63ad077948\" y=\"342.453668\"/>\n     <use style=\"fill:#1f77b4;stroke:#ffffff;stroke-width:0.48;\" x=\"890.435851\" xlink:href=\"#m63ad077948\" y=\"366.801874\"/>\n     <use style=\"fill:#1f77b4;stroke:#ffffff;stroke-width:0.48;\" x=\"1247.023695\" xlink:href=\"#m63ad077948\" y=\"351.584246\"/>\n     <use style=\"fill:#1f77b4;stroke:#ffffff;stroke-width:0.48;\" x=\"890.435851\" xlink:href=\"#m63ad077948\" y=\"300.279097\"/>\n     <use style=\"fill:#1f77b4;stroke:#ffffff;stroke-width:0.48;\" x=\"890.435851\" xlink:href=\"#m63ad077948\" y=\"255.930578\"/>\n     <use style=\"fill:#1f77b4;stroke:#ffffff;stroke-width:0.48;\" x=\"890.435851\" xlink:href=\"#m63ad077948\" y=\"339.844932\"/>\n     <use style=\"fill:#1f77b4;stroke:#ffffff;stroke-width:0.48;\" x=\"890.435851\" xlink:href=\"#m63ad077948\" y=\"270.278629\"/>\n     <use style=\"fill:#1f77b4;stroke:#ffffff;stroke-width:0.48;\" x=\"890.435851\" xlink:href=\"#m63ad077948\" y=\"199.407957\"/>\n     <use style=\"fill:#1f77b4;stroke:#ffffff;stroke-width:0.48;\" x=\"890.435851\" xlink:href=\"#m63ad077948\" y=\"337.236196\"/>\n     <use style=\"fill:#1f77b4;stroke:#ffffff;stroke-width:0.48;\" x=\"890.435851\" xlink:href=\"#m63ad077948\" y=\"351.149456\"/>\n     <use style=\"fill:#1f77b4;stroke:#ffffff;stroke-width:0.48;\" x=\"890.435851\" xlink:href=\"#m63ad077948\" y=\"337.670985\"/>\n     <use style=\"fill:#1f77b4;stroke:#ffffff;stroke-width:0.48;\" x=\"890.435851\" xlink:href=\"#m63ad077948\" y=\"336.366617\"/>\n     <use style=\"fill:#1f77b4;stroke:#ffffff;stroke-width:0.48;\" x=\"890.435851\" xlink:href=\"#m63ad077948\" y=\"259.191499\"/>\n     <use style=\"fill:#1f77b4;stroke:#ffffff;stroke-width:0.48;\" x=\"890.435851\" xlink:href=\"#m63ad077948\" y=\"366.367085\"/>\n     <use style=\"fill:#1f77b4;stroke:#ffffff;stroke-width:0.48;\" x=\"890.435851\" xlink:href=\"#m63ad077948\" y=\"298.539939\"/>\n     <use style=\"fill:#1f77b4;stroke:#ffffff;stroke-width:0.48;\" x=\"890.435851\" xlink:href=\"#m63ad077948\" y=\"349.845088\"/>\n     <use style=\"fill:#1f77b4;stroke:#ffffff;stroke-width:0.48;\" x=\"890.435851\" xlink:href=\"#m63ad077948\" y=\"351.584246\"/>\n     <use style=\"fill:#1f77b4;stroke:#ffffff;stroke-width:0.48;\" x=\"890.435851\" xlink:href=\"#m63ad077948\" y=\"339.410143\"/>\n     <use style=\"fill:#1f77b4;stroke:#ffffff;stroke-width:0.48;\" x=\"890.435851\" xlink:href=\"#m63ad077948\" y=\"344.627615\"/>\n     <use style=\"fill:#1f77b4;stroke:#ffffff;stroke-width:0.48;\" x=\"890.435851\" xlink:href=\"#m63ad077948\" y=\"359.845244\"/>\n     <use style=\"fill:#1f77b4;stroke:#ffffff;stroke-width:0.48;\" x=\"890.435851\" xlink:href=\"#m63ad077948\" y=\"352.888614\"/>\n     <use style=\"fill:#1f77b4;stroke:#ffffff;stroke-width:0.48;\" x=\"890.435851\" xlink:href=\"#m63ad077948\" y=\"342.888458\"/>\n     <use style=\"fill:#1f77b4;stroke:#ffffff;stroke-width:0.48;\" x=\"890.435851\" xlink:href=\"#m63ad077948\" y=\"335.062249\"/>\n     <use style=\"fill:#1f77b4;stroke:#ffffff;stroke-width:0.48;\" x=\"890.435851\" xlink:href=\"#m63ad077948\" y=\"349.845088\"/>\n     <use style=\"fill:#1f77b4;stroke:#ffffff;stroke-width:0.48;\" x=\"1247.023695\" xlink:href=\"#m63ad077948\" y=\"342.888458\"/>\n     <use style=\"fill:#1f77b4;stroke:#ffffff;stroke-width:0.48;\" x=\"1247.023695\" xlink:href=\"#m63ad077948\" y=\"367.236664\"/>\n     <use style=\"fill:#1f77b4;stroke:#ffffff;stroke-width:0.48;\" x=\"890.435851\" xlink:href=\"#m63ad077948\" y=\"219.335804\"/>\n     <use style=\"fill:#1f77b4;stroke:#ffffff;stroke-width:0.48;\" x=\"890.435851\" xlink:href=\"#m63ad077948\" y=\"328.105618\"/>\n     <use style=\"fill:#1f77b4;stroke:#ffffff;stroke-width:0.48;\" x=\"890.435851\" xlink:href=\"#m63ad077948\" y=\"265.71334\"/>\n     <use style=\"fill:#1f77b4;stroke:#ffffff;stroke-width:0.48;\" x=\"890.435851\" xlink:href=\"#m63ad077948\" y=\"237.452029\"/>\n     <use style=\"fill:#1f77b4;stroke:#ffffff;stroke-width:0.48;\" x=\"890.435851\" xlink:href=\"#m63ad077948\" y=\"355.062561\"/>\n     <use style=\"fill:#1f77b4;stroke:#ffffff;stroke-width:0.48;\" x=\"890.435851\" xlink:href=\"#m63ad077948\" y=\"359.845244\"/>\n     <use style=\"fill:#1f77b4;stroke:#ffffff;stroke-width:0.48;\" x=\"890.435851\" xlink:href=\"#m63ad077948\" y=\"352.019035\"/>\n     <use style=\"fill:#1f77b4;stroke:#ffffff;stroke-width:0.48;\" x=\"890.435851\" xlink:href=\"#m63ad077948\" y=\"348.975509\"/>\n     <use style=\"fill:#1f77b4;stroke:#ffffff;stroke-width:0.48;\" x=\"890.435851\" xlink:href=\"#m63ad077948\" y=\"346.366773\"/>\n     <use style=\"fill:#1f77b4;stroke:#ffffff;stroke-width:0.48;\" x=\"890.435851\" xlink:href=\"#m63ad077948\" y=\"334.19267\"/>\n     <use style=\"fill:#1f77b4;stroke:#ffffff;stroke-width:0.48;\" x=\"890.435851\" xlink:href=\"#m63ad077948\" y=\"358.975665\"/>\n     <use style=\"fill:#1f77b4;stroke:#ffffff;stroke-width:0.48;\" x=\"890.435851\" xlink:href=\"#m63ad077948\" y=\"348.975509\"/>\n     <use style=\"fill:#1f77b4;stroke:#ffffff;stroke-width:0.48;\" x=\"890.435851\" xlink:href=\"#m63ad077948\" y=\"316.801094\"/>\n     <use style=\"fill:#1f77b4;stroke:#ffffff;stroke-width:0.48;\" x=\"890.435851\" xlink:href=\"#m63ad077948\" y=\"364.193138\"/>\n     <use style=\"fill:#1f77b4;stroke:#ffffff;stroke-width:0.48;\" x=\"1247.023695\" xlink:href=\"#m63ad077948\" y=\"352.019035\"/>\n     <use style=\"fill:#1f77b4;stroke:#ffffff;stroke-width:0.48;\" x=\"890.435851\" xlink:href=\"#m63ad077948\" y=\"300.279097\"/>\n     <use style=\"fill:#1f77b4;stroke:#ffffff;stroke-width:0.48;\" x=\"890.435851\" xlink:href=\"#m63ad077948\" y=\"333.75788\"/>\n     <use style=\"fill:#1f77b4;stroke:#ffffff;stroke-width:0.48;\" x=\"890.435851\" xlink:href=\"#m63ad077948\" y=\"336.366617\"/>\n     <use style=\"fill:#1f77b4;stroke:#ffffff;stroke-width:0.48;\" x=\"890.435851\" xlink:href=\"#m63ad077948\" y=\"222.959049\"/>\n     <use style=\"fill:#1f77b4;stroke:#ffffff;stroke-width:0.48;\" x=\"890.435851\" xlink:href=\"#m63ad077948\" y=\"329.844776\"/>\n     <use style=\"fill:#1f77b4;stroke:#ffffff;stroke-width:0.48;\" x=\"890.435851\" xlink:href=\"#m63ad077948\" y=\"174.045242\"/>\n     <use style=\"fill:#1f77b4;stroke:#ffffff;stroke-width:0.48;\" x=\"890.435851\" xlink:href=\"#m63ad077948\" y=\"318.540252\"/>\n     <use style=\"fill:#1f77b4;stroke:#ffffff;stroke-width:0.48;\" x=\"890.435851\" xlink:href=\"#m63ad077948\" y=\"253.031983\"/>\n     <use style=\"fill:#1f77b4;stroke:#ffffff;stroke-width:0.48;\" x=\"890.435851\" xlink:href=\"#m63ad077948\" y=\"292.163028\"/>\n     <use style=\"fill:#1f77b4;stroke:#ffffff;stroke-width:0.48;\" x=\"890.435851\" xlink:href=\"#m63ad077948\" y=\"356.366929\"/>\n     <use style=\"fill:#1f77b4;stroke:#ffffff;stroke-width:0.48;\" x=\"890.435851\" xlink:href=\"#m63ad077948\" y=\"345.931983\"/>\n     <use style=\"fill:#1f77b4;stroke:#ffffff;stroke-width:0.48;\" x=\"890.435851\" xlink:href=\"#m63ad077948\" y=\"345.062405\"/>\n     <use style=\"fill:#1f77b4;stroke:#ffffff;stroke-width:0.48;\" x=\"1247.023695\" xlink:href=\"#m63ad077948\" y=\"316.801094\"/>\n     <use style=\"fill:#1f77b4;stroke:#ffffff;stroke-width:0.48;\" x=\"1247.023695\" xlink:href=\"#m63ad077948\" y=\"335.931827\"/>\n     <use style=\"fill:#1f77b4;stroke:#ffffff;stroke-width:0.48;\" x=\"890.435851\" xlink:href=\"#m63ad077948\" y=\"219.335804\"/>\n     <use style=\"fill:#1f77b4;stroke:#ffffff;stroke-width:0.48;\" x=\"890.435851\" xlink:href=\"#m63ad077948\" y=\"203.755851\"/>\n     <use style=\"fill:#1f77b4;stroke:#ffffff;stroke-width:0.48;\" x=\"890.435851\" xlink:href=\"#m63ad077948\" y=\"327.670829\"/>\n     <use style=\"fill:#1f77b4;stroke:#ffffff;stroke-width:0.48;\" x=\"890.435851\" xlink:href=\"#m63ad077948\" y=\"300.713886\"/>\n     <use style=\"fill:#1f77b4;stroke:#ffffff;stroke-width:0.48;\" x=\"890.435851\" xlink:href=\"#m63ad077948\" y=\"299.844307\"/>\n     <use style=\"fill:#1f77b4;stroke:#ffffff;stroke-width:0.48;\" x=\"890.435851\" xlink:href=\"#m63ad077948\" y=\"304.626991\"/>\n     <use style=\"fill:#1f77b4;stroke:#ffffff;stroke-width:0.48;\" x=\"890.435851\" xlink:href=\"#m63ad077948\" y=\"228.393917\"/>\n     <use style=\"fill:#1f77b4;stroke:#ffffff;stroke-width:0.48;\" x=\"890.435851\" xlink:href=\"#m63ad077948\" y=\"267.669892\"/>\n     <use style=\"fill:#1f77b4;stroke:#ffffff;stroke-width:0.48;\" x=\"890.435851\" xlink:href=\"#m63ad077948\" y=\"314.627147\"/>\n     <use style=\"fill:#1f77b4;stroke:#ffffff;stroke-width:0.48;\" x=\"890.435851\" xlink:href=\"#m63ad077948\" y=\"341.584089\"/>\n     <use style=\"fill:#1f77b4;stroke:#ffffff;stroke-width:0.48;\" x=\"890.435851\" xlink:href=\"#m63ad077948\" y=\"344.192826\"/>\n     <use style=\"fill:#1f77b4;stroke:#ffffff;stroke-width:0.48;\" x=\"890.435851\" xlink:href=\"#m63ad077948\" y=\"339.410143\"/>\n     <use style=\"fill:#1f77b4;stroke:#ffffff;stroke-width:0.48;\" x=\"890.435851\" xlink:href=\"#m63ad077948\" y=\"347.236352\"/>\n     <use style=\"fill:#1f77b4;stroke:#ffffff;stroke-width:0.48;\" x=\"890.435851\" xlink:href=\"#m63ad077948\" y=\"338.975353\"/>\n     <use style=\"fill:#1f77b4;stroke:#ffffff;stroke-width:0.48;\" x=\"890.435851\" xlink:href=\"#m63ad077948\" y=\"348.975509\"/>\n     <use style=\"fill:#1f77b4;stroke:#ffffff;stroke-width:0.48;\" x=\"890.435851\" xlink:href=\"#m63ad077948\" y=\"345.497194\"/>\n     <use style=\"fill:#1f77b4;stroke:#ffffff;stroke-width:0.48;\" x=\"890.435851\" xlink:href=\"#m63ad077948\" y=\"322.453356\"/>\n     <use style=\"fill:#1f77b4;stroke:#ffffff;stroke-width:0.48;\" x=\"1247.023695\" xlink:href=\"#m63ad077948\" y=\"339.844932\"/>\n     <use style=\"fill:#1f77b4;stroke:#ffffff;stroke-width:0.48;\" x=\"1247.023695\" xlink:href=\"#m63ad077948\" y=\"325.496882\"/>\n     <use style=\"fill:#1f77b4;stroke:#ffffff;stroke-width:0.48;\" x=\"1247.023695\" xlink:href=\"#m63ad077948\" y=\"352.019035\"/>\n     <use style=\"fill:#1f77b4;stroke:#ffffff;stroke-width:0.48;\" x=\"1247.023695\" xlink:href=\"#m63ad077948\" y=\"314.627147\"/>\n     <use style=\"fill:#1f77b4;stroke:#ffffff;stroke-width:0.48;\" x=\"1247.023695\" xlink:href=\"#m63ad077948\" y=\"342.018879\"/>\n     <use style=\"fill:#1f77b4;stroke:#ffffff;stroke-width:0.48;\" x=\"890.435851\" xlink:href=\"#m63ad077948\" y=\"327.670829\"/>\n     <use style=\"fill:#1f77b4;stroke:#ffffff;stroke-width:0.48;\" x=\"890.435851\" xlink:href=\"#m63ad077948\" y=\"327.670829\"/>\n     <use style=\"fill:#1f77b4;stroke:#ffffff;stroke-width:0.48;\" x=\"890.435851\" xlink:href=\"#m63ad077948\" y=\"271.872856\"/>\n     <use style=\"fill:#1f77b4;stroke:#ffffff;stroke-width:0.48;\" x=\"890.435851\" xlink:href=\"#m63ad077948\" y=\"316.801094\"/>\n     <use style=\"fill:#1f77b4;stroke:#ffffff;stroke-width:0.48;\" x=\"890.435851\" xlink:href=\"#m63ad077948\" y=\"340.714511\"/>\n     <use style=\"fill:#1f77b4;stroke:#ffffff;stroke-width:0.48;\" x=\"890.435851\" xlink:href=\"#m63ad077948\" y=\"286.728161\"/>\n     <use style=\"fill:#1f77b4;stroke:#ffffff;stroke-width:0.48;\" x=\"890.435851\" xlink:href=\"#m63ad077948\" y=\"351.584246\"/>\n     <use style=\"fill:#1f77b4;stroke:#ffffff;stroke-width:0.48;\" x=\"890.435851\" xlink:href=\"#m63ad077948\" y=\"342.453668\"/>\n     <use style=\"fill:#1f77b4;stroke:#ffffff;stroke-width:0.48;\" x=\"890.435851\" xlink:href=\"#m63ad077948\" y=\"355.062561\"/>\n     <use style=\"fill:#1f77b4;stroke:#ffffff;stroke-width:0.48;\" x=\"890.435851\" xlink:href=\"#m63ad077948\" y=\"330.279565\"/>\n     <use style=\"fill:#1f77b4;stroke:#ffffff;stroke-width:0.48;\" x=\"890.435851\" xlink:href=\"#m63ad077948\" y=\"316.801094\"/>\n     <use style=\"fill:#1f77b4;stroke:#ffffff;stroke-width:0.48;\" x=\"1247.023695\" xlink:href=\"#m63ad077948\" y=\"336.366617\"/>\n     <use style=\"fill:#1f77b4;stroke:#ffffff;stroke-width:0.48;\" x=\"1247.023695\" xlink:href=\"#m63ad077948\" y=\"336.366617\"/>\n     <use style=\"fill:#1f77b4;stroke:#ffffff;stroke-width:0.48;\" x=\"890.435851\" xlink:href=\"#m63ad077948\" y=\"275.496101\"/>\n     <use style=\"fill:#1f77b4;stroke:#ffffff;stroke-width:0.48;\" x=\"890.435851\" xlink:href=\"#m63ad077948\" y=\"290.974604\"/>\n     <use style=\"fill:#1f77b4;stroke:#ffffff;stroke-width:0.48;\" x=\"890.435851\" xlink:href=\"#m63ad077948\" y=\"352.888614\"/>\n     <use style=\"fill:#1f77b4;stroke:#ffffff;stroke-width:0.48;\" x=\"890.435851\" xlink:href=\"#m63ad077948\" y=\"352.888614\"/>\n     <use style=\"fill:#1f77b4;stroke:#ffffff;stroke-width:0.48;\" x=\"890.435851\" xlink:href=\"#m63ad077948\" y=\"351.584246\"/>\n     <use style=\"fill:#1f77b4;stroke:#ffffff;stroke-width:0.48;\" x=\"890.435851\" xlink:href=\"#m63ad077948\" y=\"342.888458\"/>\n     <use style=\"fill:#1f77b4;stroke:#ffffff;stroke-width:0.48;\" x=\"890.435851\" xlink:href=\"#m63ad077948\" y=\"332.279596\"/>\n     <use style=\"fill:#1f77b4;stroke:#ffffff;stroke-width:0.48;\" x=\"890.435851\" xlink:href=\"#m63ad077948\" y=\"368.106243\"/>\n     <use style=\"fill:#1f77b4;stroke:#ffffff;stroke-width:0.48;\" x=\"1247.023695\" xlink:href=\"#m63ad077948\" y=\"331.149144\"/>\n     <use style=\"fill:#1f77b4;stroke:#ffffff;stroke-width:0.48;\" x=\"1247.023695\" xlink:href=\"#m63ad077948\" y=\"339.410143\"/>\n     <use style=\"fill:#1f77b4;stroke:#ffffff;stroke-width:0.48;\" x=\"890.435851\" xlink:href=\"#m63ad077948\" y=\"257.379876\"/>\n     <use style=\"fill:#1f77b4;stroke:#ffffff;stroke-width:0.48;\" x=\"890.435851\" xlink:href=\"#m63ad077948\" y=\"235.640407\"/>\n     <use style=\"fill:#1f77b4;stroke:#ffffff;stroke-width:0.48;\" x=\"890.435851\" xlink:href=\"#m63ad077948\" y=\"337.670985\"/>\n     <use style=\"fill:#1f77b4;stroke:#ffffff;stroke-width:0.48;\" x=\"890.435851\" xlink:href=\"#m63ad077948\" y=\"345.931983\"/>\n     <use style=\"fill:#1f77b4;stroke:#ffffff;stroke-width:0.48;\" x=\"890.435851\" xlink:href=\"#m63ad077948\" y=\"321.148988\"/>\n     <use style=\"fill:#1f77b4;stroke:#ffffff;stroke-width:0.48;\" x=\"890.435851\" xlink:href=\"#m63ad077948\" y=\"309.409674\"/>\n     <use style=\"fill:#1f77b4;stroke:#ffffff;stroke-width:0.48;\" x=\"1247.023695\" xlink:href=\"#m63ad077948\" y=\"345.931983\"/>\n     <use style=\"fill:#1f77b4;stroke:#ffffff;stroke-width:0.48;\" x=\"890.435851\" xlink:href=\"#m63ad077948\" y=\"324.192514\"/>\n     <use style=\"fill:#1f77b4;stroke:#ffffff;stroke-width:0.48;\" x=\"890.435851\" xlink:href=\"#m63ad077948\" y=\"279.843995\"/>\n     <use style=\"fill:#1f77b4;stroke:#ffffff;stroke-width:0.48;\" x=\"890.435851\" xlink:href=\"#m63ad077948\" y=\"341.1493\"/>\n     <use style=\"fill:#1f77b4;stroke:#ffffff;stroke-width:0.48;\" x=\"890.435851\" xlink:href=\"#m63ad077948\" y=\"370.714979\"/>\n     <use style=\"fill:#1f77b4;stroke:#ffffff;stroke-width:0.48;\" x=\"890.435851\" xlink:href=\"#m63ad077948\" y=\"348.10593\"/>\n     <use style=\"fill:#1f77b4;stroke:#ffffff;stroke-width:0.48;\" x=\"890.435851\" xlink:href=\"#m63ad077948\" y=\"353.758193\"/>\n     <use style=\"fill:#1f77b4;stroke:#ffffff;stroke-width:0.48;\" x=\"1247.023695\" xlink:href=\"#m63ad077948\" y=\"244.626054\"/>\n     <use style=\"fill:#1f77b4;stroke:#ffffff;stroke-width:0.48;\" x=\"1247.023695\" xlink:href=\"#m63ad077948\" y=\"345.931983\"/>\n     <use style=\"fill:#1f77b4;stroke:#ffffff;stroke-width:0.48;\" x=\"890.435851\" xlink:href=\"#m63ad077948\" y=\"116.797972\"/>\n     <use style=\"fill:#1f77b4;stroke:#ffffff;stroke-width:0.48;\" x=\"890.435851\" xlink:href=\"#m63ad077948\" y=\"313.322779\"/>\n     <use style=\"fill:#1f77b4;stroke:#ffffff;stroke-width:0.48;\" x=\"890.435851\" xlink:href=\"#m63ad077948\" y=\"352.453824\"/>\n     <use style=\"fill:#1f77b4;stroke:#ffffff;stroke-width:0.48;\" x=\"890.435851\" xlink:href=\"#m63ad077948\" y=\"350.279877\"/>\n     <use style=\"fill:#1f77b4;stroke:#ffffff;stroke-width:0.48;\" x=\"890.435851\" xlink:href=\"#m63ad077948\" y=\"349.845088\"/>\n     <use style=\"fill:#1f77b4;stroke:#ffffff;stroke-width:0.48;\" x=\"890.435851\" xlink:href=\"#m63ad077948\" y=\"252.307334\"/>\n     <use style=\"fill:#1f77b4;stroke:#ffffff;stroke-width:0.48;\" x=\"890.435851\" xlink:href=\"#m63ad077948\" y=\"332.453512\"/>\n     <use style=\"fill:#1f77b4;stroke:#ffffff;stroke-width:0.48;\" x=\"890.435851\" xlink:href=\"#m63ad077948\" y=\"307.670517\"/>\n     <use style=\"fill:#1f77b4;stroke:#ffffff;stroke-width:0.48;\" x=\"890.435851\" xlink:href=\"#m63ad077948\" y=\"335.931827\"/>\n     <use style=\"fill:#1f77b4;stroke:#ffffff;stroke-width:0.48;\" x=\"890.435851\" xlink:href=\"#m63ad077948\" y=\"355.49735\"/>\n     <use style=\"fill:#1f77b4;stroke:#ffffff;stroke-width:0.48;\" x=\"1247.023695\" xlink:href=\"#m63ad077948\" y=\"326.366461\"/>\n     <use style=\"fill:#1f77b4;stroke:#ffffff;stroke-width:0.48;\" x=\"1247.023695\" xlink:href=\"#m63ad077948\" y=\"357.236508\"/>\n     <use style=\"fill:#1f77b4;stroke:#ffffff;stroke-width:0.48;\" x=\"890.435851\" xlink:href=\"#m63ad077948\" y=\"341.584089\"/>\n     <use style=\"fill:#1f77b4;stroke:#ffffff;stroke-width:0.48;\" x=\"890.435851\" xlink:href=\"#m63ad077948\" y=\"334.627459\"/>\n     <use style=\"fill:#1f77b4;stroke:#ffffff;stroke-width:0.48;\" x=\"890.435851\" xlink:href=\"#m63ad077948\" y=\"365.497506\"/>\n     <use style=\"fill:#1f77b4;stroke:#ffffff;stroke-width:0.48;\" x=\"890.435851\" xlink:href=\"#m63ad077948\" y=\"348.54072\"/>\n     <use style=\"fill:#1f77b4;stroke:#ffffff;stroke-width:0.48;\" x=\"890.435851\" xlink:href=\"#m63ad077948\" y=\"358.975665\"/>\n     <use style=\"fill:#1f77b4;stroke:#ffffff;stroke-width:0.48;\" x=\"890.435851\" xlink:href=\"#m63ad077948\" y=\"331.583933\"/>\n     <use style=\"fill:#1f77b4;stroke:#ffffff;stroke-width:0.48;\" x=\"890.435851\" xlink:href=\"#m63ad077948\" y=\"333.323091\"/>\n     <use style=\"fill:#1f77b4;stroke:#ffffff;stroke-width:0.48;\" x=\"890.435851\" xlink:href=\"#m63ad077948\" y=\"367.671453\"/>\n     <use style=\"fill:#1f77b4;stroke:#ffffff;stroke-width:0.48;\" x=\"1247.023695\" xlink:href=\"#m63ad077948\" y=\"313.322779\"/>\n     <use style=\"fill:#1f77b4;stroke:#ffffff;stroke-width:0.48;\" x=\"1247.023695\" xlink:href=\"#m63ad077948\" y=\"366.367085\"/>\n     <use style=\"fill:#1f77b4;stroke:#ffffff;stroke-width:0.48;\" x=\"1247.023695\" xlink:href=\"#m63ad077948\" y=\"354.627771\"/>\n     <use style=\"fill:#1f77b4;stroke:#ffffff;stroke-width:0.48;\" x=\"1247.023695\" xlink:href=\"#m63ad077948\" y=\"345.062405\"/>\n     <use style=\"fill:#1f77b4;stroke:#ffffff;stroke-width:0.48;\" x=\"1247.023695\" xlink:href=\"#m63ad077948\" y=\"367.671453\"/>\n     <use style=\"fill:#1f77b4;stroke:#ffffff;stroke-width:0.48;\" x=\"1247.023695\" xlink:href=\"#m63ad077948\" y=\"341.1493\"/>\n     <use style=\"fill:#1f77b4;stroke:#ffffff;stroke-width:0.48;\" x=\"890.435851\" xlink:href=\"#m63ad077948\" y=\"335.497038\"/>\n     <use style=\"fill:#1f77b4;stroke:#ffffff;stroke-width:0.48;\" x=\"890.435851\" xlink:href=\"#m63ad077948\" y=\"310.714042\"/>\n     <use style=\"fill:#1f77b4;stroke:#ffffff;stroke-width:0.48;\" x=\"890.435851\" xlink:href=\"#m63ad077948\" y=\"248.321764\"/>\n     <use style=\"fill:#1f77b4;stroke:#ffffff;stroke-width:0.48;\" x=\"890.435851\" xlink:href=\"#m63ad077948\" y=\"355.062561\"/>\n     <use style=\"fill:#1f77b4;stroke:#ffffff;stroke-width:0.48;\" x=\"890.435851\" xlink:href=\"#m63ad077948\" y=\"351.584246\"/>\n     <use style=\"fill:#1f77b4;stroke:#ffffff;stroke-width:0.48;\" x=\"890.435851\" xlink:href=\"#m63ad077948\" y=\"331.583933\"/>\n     <use style=\"fill:#1f77b4;stroke:#ffffff;stroke-width:0.48;\" x=\"890.435851\" xlink:href=\"#m63ad077948\" y=\"337.236196\"/>\n     <use style=\"fill:#1f77b4;stroke:#ffffff;stroke-width:0.48;\" x=\"890.435851\" xlink:href=\"#m63ad077948\" y=\"330.279565\"/>\n     <use style=\"fill:#1f77b4;stroke:#ffffff;stroke-width:0.48;\" x=\"890.435851\" xlink:href=\"#m63ad077948\" y=\"343.323247\"/>\n     <use style=\"fill:#1f77b4;stroke:#ffffff;stroke-width:0.48;\" x=\"890.435851\" xlink:href=\"#m63ad077948\" y=\"371.149768\"/>\n     <use style=\"fill:#1f77b4;stroke:#ffffff;stroke-width:0.48;\" x=\"890.435851\" xlink:href=\"#m63ad077948\" y=\"359.845244\"/>\n     <use style=\"fill:#1f77b4;stroke:#ffffff;stroke-width:0.48;\" x=\"890.435851\" xlink:href=\"#m63ad077948\" y=\"355.93214\"/>\n     <use style=\"fill:#1f77b4;stroke:#ffffff;stroke-width:0.48;\" x=\"1247.023695\" xlink:href=\"#m63ad077948\" y=\"338.540564\"/>\n     <use style=\"fill:#1f77b4;stroke:#ffffff;stroke-width:0.48;\" x=\"1247.023695\" xlink:href=\"#m63ad077948\" y=\"347.236352\"/>\n     <use style=\"fill:#1f77b4;stroke:#ffffff;stroke-width:0.48;\" x=\"1247.023695\" xlink:href=\"#m63ad077948\" y=\"189.262871\"/>\n     <use style=\"fill:#1f77b4;stroke:#ffffff;stroke-width:0.48;\" x=\"1247.023695\" xlink:href=\"#m63ad077948\" y=\"356.366929\"/>\n     <use style=\"fill:#1f77b4;stroke:#ffffff;stroke-width:0.48;\" x=\"890.435851\" xlink:href=\"#m63ad077948\" y=\"329.844776\"/>\n     <use style=\"fill:#1f77b4;stroke:#ffffff;stroke-width:0.48;\" x=\"890.435851\" xlink:href=\"#m63ad077948\" y=\"334.19267\"/>\n     <use style=\"fill:#1f77b4;stroke:#ffffff;stroke-width:0.48;\" x=\"890.435851\" xlink:href=\"#m63ad077948\" y=\"228.393917\"/>\n     <use style=\"fill:#1f77b4;stroke:#ffffff;stroke-width:0.48;\" x=\"890.435851\" xlink:href=\"#m63ad077948\" y=\"329.409986\"/>\n     <use style=\"fill:#1f77b4;stroke:#ffffff;stroke-width:0.48;\" x=\"890.435851\" xlink:href=\"#m63ad077948\" y=\"222.959049\"/>\n     <use style=\"fill:#1f77b4;stroke:#ffffff;stroke-width:0.48;\" x=\"890.435851\" xlink:href=\"#m63ad077948\" y=\"346.801562\"/>\n     <use style=\"fill:#1f77b4;stroke:#ffffff;stroke-width:0.48;\" x=\"890.435851\" xlink:href=\"#m63ad077948\" y=\"345.931983\"/>\n     <use style=\"fill:#1f77b4;stroke:#ffffff;stroke-width:0.48;\" x=\"890.435851\" xlink:href=\"#m63ad077948\" y=\"354.192982\"/>\n     <use style=\"fill:#1f77b4;stroke:#ffffff;stroke-width:0.48;\" x=\"890.435851\" xlink:href=\"#m63ad077948\" y=\"335.931827\"/>\n     <use style=\"fill:#1f77b4;stroke:#ffffff;stroke-width:0.48;\" x=\"890.435851\" xlink:href=\"#m63ad077948\" y=\"332.453512\"/>\n     <use style=\"fill:#1f77b4;stroke:#ffffff;stroke-width:0.48;\" x=\"890.435851\" xlink:href=\"#m63ad077948\" y=\"351.149456\"/>\n     <use style=\"fill:#1f77b4;stroke:#ffffff;stroke-width:0.48;\" x=\"890.435851\" xlink:href=\"#m63ad077948\" y=\"356.366929\"/>\n     <use style=\"fill:#1f77b4;stroke:#ffffff;stroke-width:0.48;\" x=\"890.435851\" xlink:href=\"#m63ad077948\" y=\"350.279877\"/>\n     <use style=\"fill:#1f77b4;stroke:#ffffff;stroke-width:0.48;\" x=\"890.435851\" xlink:href=\"#m63ad077948\" y=\"328.105618\"/>\n     <use style=\"fill:#1f77b4;stroke:#ffffff;stroke-width:0.48;\" x=\"890.435851\" xlink:href=\"#m63ad077948\" y=\"357.671297\"/>\n     <use style=\"fill:#1f77b4;stroke:#ffffff;stroke-width:0.48;\" x=\"890.435851\" xlink:href=\"#m63ad077948\" y=\"347.671141\"/>\n     <use style=\"fill:#1f77b4;stroke:#ffffff;stroke-width:0.48;\" x=\"890.435851\" xlink:href=\"#m63ad077948\" y=\"350.714667\"/>\n     <use style=\"fill:#1f77b4;stroke:#ffffff;stroke-width:0.48;\" x=\"890.435851\" xlink:href=\"#m63ad077948\" y=\"356.801718\"/>\n     <use style=\"fill:#1f77b4;stroke:#ffffff;stroke-width:0.48;\" x=\"1247.023695\" xlink:href=\"#m63ad077948\" y=\"355.062561\"/>\n     <use style=\"fill:#1f77b4;stroke:#ffffff;stroke-width:0.48;\" x=\"1247.023695\" xlink:href=\"#m63ad077948\" y=\"346.366773\"/>\n     <use style=\"fill:#1f77b4;stroke:#ffffff;stroke-width:0.48;\" x=\"1247.023695\" xlink:href=\"#m63ad077948\" y=\"359.845244\"/>\n     <use style=\"fill:#1f77b4;stroke:#ffffff;stroke-width:0.48;\" x=\"890.435851\" xlink:href=\"#m63ad077948\" y=\"242.886897\"/>\n     <use style=\"fill:#1f77b4;stroke:#ffffff;stroke-width:0.48;\" x=\"890.435851\" xlink:href=\"#m63ad077948\" y=\"328.975197\"/>\n     <use style=\"fill:#1f77b4;stroke:#ffffff;stroke-width:0.48;\" x=\"890.435851\" xlink:href=\"#m63ad077948\" y=\"239.263652\"/>\n     <use style=\"fill:#1f77b4;stroke:#ffffff;stroke-width:0.48;\" x=\"890.435851\" xlink:href=\"#m63ad077948\" y=\"312.4532\"/>\n     <use style=\"fill:#1f77b4;stroke:#ffffff;stroke-width:0.48;\" x=\"890.435851\" xlink:href=\"#m63ad077948\" y=\"343.758036\"/>\n     <use style=\"fill:#1f77b4;stroke:#ffffff;stroke-width:0.48;\" x=\"890.435851\" xlink:href=\"#m63ad077948\" y=\"369.8454\"/>\n     <use style=\"fill:#1f77b4;stroke:#ffffff;stroke-width:0.48;\" x=\"890.435851\" xlink:href=\"#m63ad077948\" y=\"350.714667\"/>\n     <use style=\"fill:#1f77b4;stroke:#ffffff;stroke-width:0.48;\" x=\"890.435851\" xlink:href=\"#m63ad077948\" y=\"290.71373\"/>\n     <use style=\"fill:#1f77b4;stroke:#ffffff;stroke-width:0.48;\" x=\"1247.023695\" xlink:href=\"#m63ad077948\" y=\"328.975197\"/>\n     <use style=\"fill:#1f77b4;stroke:#ffffff;stroke-width:0.48;\" x=\"1247.023695\" xlink:href=\"#m63ad077948\" y=\"324.192514\"/>\n     <use style=\"fill:#1f77b4;stroke:#ffffff;stroke-width:0.48;\" x=\"890.435851\" xlink:href=\"#m63ad077948\" y=\"314.627147\"/>\n     <use style=\"fill:#1f77b4;stroke:#ffffff;stroke-width:0.48;\" x=\"890.435851\" xlink:href=\"#m63ad077948\" y=\"307.235727\"/>\n     <use style=\"fill:#1f77b4;stroke:#ffffff;stroke-width:0.48;\" x=\"890.435851\" xlink:href=\"#m63ad077948\" y=\"326.366461\"/>\n     <use style=\"fill:#1f77b4;stroke:#ffffff;stroke-width:0.48;\" x=\"890.435851\" xlink:href=\"#m63ad077948\" y=\"331.583933\"/>\n     <use style=\"fill:#1f77b4;stroke:#ffffff;stroke-width:0.48;\" x=\"890.435851\" xlink:href=\"#m63ad077948\" y=\"213.900937\"/>\n     <use style=\"fill:#1f77b4;stroke:#ffffff;stroke-width:0.48;\" x=\"890.435851\" xlink:href=\"#m63ad077948\" y=\"318.540252\"/>\n     <use style=\"fill:#1f77b4;stroke:#ffffff;stroke-width:0.48;\" x=\"890.435851\" xlink:href=\"#m63ad077948\" y=\"338.105774\"/>\n     <use style=\"fill:#1f77b4;stroke:#ffffff;stroke-width:0.48;\" x=\"890.435851\" xlink:href=\"#m63ad077948\" y=\"352.453824\"/>\n     <use style=\"fill:#1f77b4;stroke:#ffffff;stroke-width:0.48;\" x=\"890.435851\" xlink:href=\"#m63ad077948\" y=\"325.931671\"/>\n     <use style=\"fill:#1f77b4;stroke:#ffffff;stroke-width:0.48;\" x=\"890.435851\" xlink:href=\"#m63ad077948\" y=\"356.366929\"/>\n     <use style=\"fill:#1f77b4;stroke:#ffffff;stroke-width:0.48;\" x=\"1247.023695\" xlink:href=\"#m63ad077948\" y=\"320.279409\"/>\n     <use style=\"fill:#1f77b4;stroke:#ffffff;stroke-width:0.48;\" x=\"1247.023695\" xlink:href=\"#m63ad077948\" y=\"340.714511\"/>\n     <use style=\"fill:#1f77b4;stroke:#ffffff;stroke-width:0.48;\" x=\"1247.023695\" xlink:href=\"#m63ad077948\" y=\"324.192514\"/>\n     <use style=\"fill:#1f77b4;stroke:#ffffff;stroke-width:0.48;\" x=\"1247.023695\" xlink:href=\"#m63ad077948\" y=\"329.844776\"/>\n     <use style=\"fill:#1f77b4;stroke:#ffffff;stroke-width:0.48;\" x=\"1247.023695\" xlink:href=\"#m63ad077948\" y=\"224.770672\"/>\n     <use style=\"fill:#1f77b4;stroke:#ffffff;stroke-width:0.48;\" x=\"890.435851\" xlink:href=\"#m63ad077948\" y=\"166.798752\"/>\n     <use style=\"fill:#1f77b4;stroke:#ffffff;stroke-width:0.48;\" x=\"890.435851\" xlink:href=\"#m63ad077948\" y=\"327.670829\"/>\n     <use style=\"fill:#1f77b4;stroke:#ffffff;stroke-width:0.48;\" x=\"890.435851\" xlink:href=\"#m63ad077948\" y=\"319.583746\"/>\n     <use style=\"fill:#1f77b4;stroke:#ffffff;stroke-width:0.48;\" x=\"890.435851\" xlink:href=\"#m63ad077948\" y=\"315.496726\"/>\n     <use style=\"fill:#1f77b4;stroke:#ffffff;stroke-width:0.48;\" x=\"890.435851\" xlink:href=\"#m63ad077948\" y=\"299.844307\"/>\n     <use style=\"fill:#1f77b4;stroke:#ffffff;stroke-width:0.48;\" x=\"890.435851\" xlink:href=\"#m63ad077948\" y=\"329.062155\"/>\n     <use style=\"fill:#1f77b4;stroke:#ffffff;stroke-width:0.48;\" x=\"890.435851\" xlink:href=\"#m63ad077948\" y=\"340.714511\"/>\n     <use style=\"fill:#1f77b4;stroke:#ffffff;stroke-width:0.48;\" x=\"890.435851\" xlink:href=\"#m63ad077948\" y=\"322.888145\"/>\n     <use style=\"fill:#1f77b4;stroke:#ffffff;stroke-width:0.48;\" x=\"890.435851\" xlink:href=\"#m63ad077948\" y=\"357.671297\"/>\n     <use style=\"fill:#1f77b4;stroke:#ffffff;stroke-width:0.48;\" x=\"890.435851\" xlink:href=\"#m63ad077948\" y=\"346.801562\"/>\n     <use style=\"fill:#1f77b4;stroke:#ffffff;stroke-width:0.48;\" x=\"890.435851\" xlink:href=\"#m63ad077948\" y=\"347.671141\"/>\n     <use style=\"fill:#1f77b4;stroke:#ffffff;stroke-width:0.48;\" x=\"890.435851\" xlink:href=\"#m63ad077948\" y=\"330.714355\"/>\n     <use style=\"fill:#1f77b4;stroke:#ffffff;stroke-width:0.48;\" x=\"890.435851\" xlink:href=\"#m63ad077948\" y=\"354.192982\"/>\n     <use style=\"fill:#1f77b4;stroke:#ffffff;stroke-width:0.48;\" x=\"890.435851\" xlink:href=\"#m63ad077948\" y=\"345.931983\"/>\n     <use style=\"fill:#1f77b4;stroke:#ffffff;stroke-width:0.48;\" x=\"1247.023695\" xlink:href=\"#m63ad077948\" y=\"335.497038\"/>\n     <use style=\"fill:#1f77b4;stroke:#ffffff;stroke-width:0.48;\" x=\"1247.023695\" xlink:href=\"#m63ad077948\" y=\"126.943058\"/>\n     <use style=\"fill:#1f77b4;stroke:#ffffff;stroke-width:0.48;\" x=\"1247.023695\" xlink:href=\"#m63ad077948\" y=\"274.771452\"/>\n     <use style=\"fill:#1f77b4;stroke:#ffffff;stroke-width:0.48;\" x=\"1247.023695\" xlink:href=\"#m63ad077948\" y=\"369.410611\"/>\n     <use style=\"fill:#1f77b4;stroke:#ffffff;stroke-width:0.48;\" x=\"890.435851\" xlink:href=\"#m63ad077948\" y=\"213.900937\"/>\n     <use style=\"fill:#1f77b4;stroke:#ffffff;stroke-width:0.48;\" x=\"890.435851\" xlink:href=\"#m63ad077948\" y=\"257.379876\"/>\n     <use style=\"fill:#1f77b4;stroke:#ffffff;stroke-width:0.48;\" x=\"890.435851\" xlink:href=\"#m63ad077948\" y=\"334.19267\"/>\n     <use style=\"fill:#1f77b4;stroke:#ffffff;stroke-width:0.48;\" x=\"890.435851\" xlink:href=\"#m63ad077948\" y=\"333.323091\"/>\n     <use style=\"fill:#1f77b4;stroke:#ffffff;stroke-width:0.48;\" x=\"890.435851\" xlink:href=\"#m63ad077948\" y=\"345.931983\"/>\n     <use style=\"fill:#1f77b4;stroke:#ffffff;stroke-width:0.48;\" x=\"890.435851\" xlink:href=\"#m63ad077948\" y=\"154.117395\"/>\n     <use style=\"fill:#1f77b4;stroke:#ffffff;stroke-width:0.48;\" x=\"890.435851\" xlink:href=\"#m63ad077948\" y=\"290.278941\"/>\n     <use style=\"fill:#1f77b4;stroke:#ffffff;stroke-width:0.48;\" x=\"890.435851\" xlink:href=\"#m63ad077948\" y=\"199.407957\"/>\n     <use style=\"fill:#1f77b4;stroke:#ffffff;stroke-width:0.48;\" x=\"890.435851\" xlink:href=\"#m63ad077948\" y=\"325.062092\"/>\n     <use style=\"fill:#1f77b4;stroke:#ffffff;stroke-width:0.48;\" x=\"890.435851\" xlink:href=\"#m63ad077948\" y=\"237.452029\"/>\n     <use style=\"fill:#1f77b4;stroke:#ffffff;stroke-width:0.48;\" x=\"890.435851\" xlink:href=\"#m63ad077948\" y=\"353.758193\"/>\n     <use style=\"fill:#1f77b4;stroke:#ffffff;stroke-width:0.48;\" x=\"890.435851\" xlink:href=\"#m63ad077948\" y=\"351.584246\"/>\n     <use style=\"fill:#1f77b4;stroke:#ffffff;stroke-width:0.48;\" x=\"890.435851\" xlink:href=\"#m63ad077948\" y=\"354.192982\"/>\n     <use style=\"fill:#1f77b4;stroke:#ffffff;stroke-width:0.48;\" x=\"890.435851\" xlink:href=\"#m63ad077948\" y=\"317.061968\"/>\n     <use style=\"fill:#1f77b4;stroke:#ffffff;stroke-width:0.48;\" x=\"890.435851\" xlink:href=\"#m63ad077948\" y=\"356.801718\"/>\n     <use style=\"fill:#1f77b4;stroke:#ffffff;stroke-width:0.48;\" x=\"890.435851\" xlink:href=\"#m63ad077948\" y=\"278.974416\"/>\n     <use style=\"fill:#1f77b4;stroke:#ffffff;stroke-width:0.48;\" x=\"890.435851\" xlink:href=\"#m63ad077948\" y=\"318.540252\"/>\n     <use style=\"fill:#1f77b4;stroke:#ffffff;stroke-width:0.48;\" x=\"890.435851\" xlink:href=\"#m63ad077948\" y=\"348.975509\"/>\n     <use style=\"fill:#1f77b4;stroke:#ffffff;stroke-width:0.48;\" x=\"890.435851\" xlink:href=\"#m63ad077948\" y=\"321.583777\"/>\n     <use style=\"fill:#1f77b4;stroke:#ffffff;stroke-width:0.48;\" x=\"890.435851\" xlink:href=\"#m63ad077948\" y=\"255.205929\"/>\n     <use style=\"fill:#1f77b4;stroke:#ffffff;stroke-width:0.48;\" x=\"890.435851\" xlink:href=\"#m63ad077948\" y=\"343.758036\"/>\n     <use style=\"fill:#1f77b4;stroke:#ffffff;stroke-width:0.48;\" x=\"1247.023695\" xlink:href=\"#m63ad077948\" y=\"340.714511\"/>\n     <use style=\"fill:#1f77b4;stroke:#ffffff;stroke-width:0.48;\" x=\"1247.023695\" xlink:href=\"#m63ad077948\" y=\"340.279721\"/>\n     <use style=\"fill:#1f77b4;stroke:#ffffff;stroke-width:0.48;\" x=\"890.435851\" xlink:href=\"#m63ad077948\" y=\"303.322623\"/>\n     <use style=\"fill:#1f77b4;stroke:#ffffff;stroke-width:0.48;\" x=\"890.435851\" xlink:href=\"#m63ad077948\" y=\"354.627771\"/>\n     <use style=\"fill:#1f77b4;stroke:#ffffff;stroke-width:0.48;\" x=\"890.435851\" xlink:href=\"#m63ad077948\" y=\"331.583933\"/>\n    </g>\n   </g>\n   <g id=\"matplotlib.axis_5\">\n    <g id=\"xtick_6\">\n     <g id=\"line2d_20\">\n      <g>\n       <use style=\"stroke:#000000;stroke-width:0.8;\" x=\"890.435851\" xlink:href=\"#m4180e9b912\" y=\"388.432647\"/>\n      </g>\n     </g>\n     <g id=\"text_16\">\n      <!-- White -->\n      <g transform=\"translate(875.897569 403.031084)scale(0.1 -0.1)\">\n       <defs>\n        <path d=\"M 213 4666 \nL 850 4666 \nL 1831 722 \nL 2809 4666 \nL 3519 4666 \nL 4500 722 \nL 5478 4666 \nL 6119 4666 \nL 4947 0 \nL 4153 0 \nL 3169 4050 \nL 2175 0 \nL 1381 0 \nL 213 4666 \nz\n\" id=\"DejaVuSans-57\" transform=\"scale(0.015625)\"/>\n        <path d=\"M 3513 2113 \nL 3513 0 \nL 2938 0 \nL 2938 2094 \nQ 2938 2591 2744 2837 \nQ 2550 3084 2163 3084 \nQ 1697 3084 1428 2787 \nQ 1159 2491 1159 1978 \nL 1159 0 \nL 581 0 \nL 581 4863 \nL 1159 4863 \nL 1159 2956 \nQ 1366 3272 1645 3428 \nQ 1925 3584 2291 3584 \nQ 2894 3584 3203 3211 \nQ 3513 2838 3513 2113 \nz\n\" id=\"DejaVuSans-68\" transform=\"scale(0.015625)\"/>\n       </defs>\n       <use xlink:href=\"#DejaVuSans-57\"/>\n       <use x=\"98.876953\" xlink:href=\"#DejaVuSans-68\"/>\n       <use x=\"162.255859\" xlink:href=\"#DejaVuSans-69\"/>\n       <use x=\"190.039062\" xlink:href=\"#DejaVuSans-74\"/>\n       <use x=\"229.248047\" xlink:href=\"#DejaVuSans-65\"/>\n      </g>\n     </g>\n    </g>\n    <g id=\"xtick_7\">\n     <g id=\"line2d_21\">\n      <g>\n       <use style=\"stroke:#000000;stroke-width:0.8;\" x=\"1247.023695\" xlink:href=\"#m4180e9b912\" y=\"388.432647\"/>\n      </g>\n     </g>\n     <g id=\"text_17\">\n      <!-- Minority -->\n      <g transform=\"translate(1226.728382 403.031084)scale(0.1 -0.1)\">\n       <use xlink:href=\"#DejaVuSans-4d\"/>\n       <use x=\"86.279297\" xlink:href=\"#DejaVuSans-69\"/>\n       <use x=\"114.0625\" xlink:href=\"#DejaVuSans-6e\"/>\n       <use x=\"177.441406\" xlink:href=\"#DejaVuSans-6f\"/>\n       <use x=\"238.623047\" xlink:href=\"#DejaVuSans-72\"/>\n       <use x=\"279.736328\" xlink:href=\"#DejaVuSans-69\"/>\n       <use x=\"307.519531\" xlink:href=\"#DejaVuSans-74\"/>\n       <use x=\"346.728516\" xlink:href=\"#DejaVuSans-79\"/>\n      </g>\n     </g>\n    </g>\n    <g id=\"text_18\">\n     <!-- MINORITY_DENOTING -->\n     <g transform=\"translate(1014.877429 416.532647)scale(0.1 -0.1)\">\n      <use xlink:href=\"#DejaVuSans-4d\"/>\n      <use x=\"86.279297\" xlink:href=\"#DejaVuSans-49\"/>\n      <use x=\"115.771484\" xlink:href=\"#DejaVuSans-4e\"/>\n      <use x=\"190.576172\" xlink:href=\"#DejaVuSans-4f\"/>\n      <use x=\"269.287109\" xlink:href=\"#DejaVuSans-52\"/>\n      <use x=\"338.769531\" xlink:href=\"#DejaVuSans-49\"/>\n      <use x=\"368.261719\" xlink:href=\"#DejaVuSans-54\"/>\n      <use x=\"429.345703\" xlink:href=\"#DejaVuSans-59\"/>\n      <use x=\"490.429688\" xlink:href=\"#DejaVuSans-5f\"/>\n      <use x=\"540.429688\" xlink:href=\"#DejaVuSans-44\"/>\n      <use x=\"617.431641\" xlink:href=\"#DejaVuSans-45\"/>\n      <use x=\"680.615234\" xlink:href=\"#DejaVuSans-4e\"/>\n      <use x=\"755.419922\" xlink:href=\"#DejaVuSans-4f\"/>\n      <use x=\"834.130859\" xlink:href=\"#DejaVuSans-54\"/>\n      <use x=\"895.214844\" xlink:href=\"#DejaVuSans-49\"/>\n      <use x=\"924.707031\" xlink:href=\"#DejaVuSans-4e\"/>\n      <use x=\"999.511719\" xlink:href=\"#DejaVuSans-47\"/>\n     </g>\n    </g>\n   </g>\n   <g id=\"matplotlib.axis_6\">\n    <g id=\"ytick_15\">\n     <g id=\"line2d_22\">\n      <g>\n       <use style=\"stroke:#000000;stroke-width:0.8;\" x=\"872.606458\" xlink:href=\"#m6df473cac6\" y=\"358.830736\"/>\n      </g>\n     </g>\n    </g>\n    <g id=\"ytick_16\">\n     <g id=\"line2d_23\">\n      <g>\n       <use style=\"stroke:#000000;stroke-width:0.8;\" x=\"872.606458\" xlink:href=\"#m6df473cac6\" y=\"300.858816\"/>\n      </g>\n     </g>\n    </g>\n    <g id=\"ytick_17\">\n     <g id=\"line2d_24\">\n      <g>\n       <use style=\"stroke:#000000;stroke-width:0.8;\" x=\"872.606458\" xlink:href=\"#m6df473cac6\" y=\"242.886897\"/>\n      </g>\n     </g>\n    </g>\n    <g id=\"ytick_18\">\n     <g id=\"line2d_25\">\n      <g>\n       <use style=\"stroke:#000000;stroke-width:0.8;\" x=\"872.606458\" xlink:href=\"#m6df473cac6\" y=\"184.914977\"/>\n      </g>\n     </g>\n    </g>\n    <g id=\"ytick_19\">\n     <g id=\"line2d_26\">\n      <g>\n       <use style=\"stroke:#000000;stroke-width:0.8;\" x=\"872.606458\" xlink:href=\"#m6df473cac6\" y=\"126.943058\"/>\n      </g>\n     </g>\n    </g>\n    <g id=\"ytick_20\">\n     <g id=\"line2d_27\">\n      <g>\n       <use style=\"stroke:#000000;stroke-width:0.8;\" x=\"872.606458\" xlink:href=\"#m6df473cac6\" y=\"68.971138\"/>\n      </g>\n     </g>\n    </g>\n    <g id=\"ytick_21\">\n     <g id=\"line2d_28\">\n      <g>\n       <use style=\"stroke:#000000;stroke-width:0.8;\" x=\"872.606458\" xlink:href=\"#m6df473cac6\" y=\"10.999219\"/>\n      </g>\n     </g>\n    </g>\n   </g>\n   <g id=\"patch_9\">\n    <path d=\"M 872.606458 388.432647 \nL 872.606458 8.20932 \n\" style=\"fill:none;stroke:#000000;stroke-linecap:square;stroke-linejoin:miter;stroke-width:0.8;\"/>\n   </g>\n   <g id=\"patch_10\">\n    <path d=\"M 872.606458 388.432647 \nL 1264.853087 388.432647 \n\" style=\"fill:none;stroke:#000000;stroke-linecap:square;stroke-linejoin:miter;stroke-width:0.8;\"/>\n   </g>\n  </g>\n </g>\n <defs>\n  <clipPath id=\"p2b758ea994\">\n   <rect height=\"380.223327\" width=\"392.246629\" x=\"66.053125\" y=\"8.20932\"/>\n  </clipPath>\n  <clipPath id=\"p4ce3eea735\">\n   <rect height=\"380.223327\" width=\"392.246629\" x=\"469.329792\" y=\"8.20932\"/>\n  </clipPath>\n  <clipPath id=\"p61721c4efe\">\n   <rect height=\"380.223327\" width=\"392.246629\" x=\"872.606458\" y=\"8.20932\"/>\n  </clipPath>\n </defs>\n</svg>\n",
      "image/png": "[encoded data removed]"
     },
     "metadata": {
      "needs_background": "light"
     }
    }
   ],
   "source": [
    "plt.figure(figsize=(2,5))\n",
    "\n",
    "sns.pairplot(\n",
    "    df,\n",
    "    x_vars = [\"JOBCAT_DENOTING\", \"GENDER_DENOTING\", \"MINORITY_DENOTING\"], \n",
    "    y_vars = \"SALARY\",\n",
    "    height=6\n",
    ")"
   ]
  },
  {
   "source": [
    "This hints a decisive difference in the salary depending \n",
    "\n",
    "a) on the `job category` one has (the management has a broader range an gets more than the administarion and the custody, while the custody has a very sharp range of salaries), and\n",
    "\n",
    "b) on the `gender` which looks as if it implicates ones again: if you are classified of beeing female, well you probably going to be less paid than a male, and\n",
    "\n",
    "b) for the `gender` category quite the same: getting classified of beeing not white you also probably going to be less paid than a white person."
   ],
   "cell_type": "markdown",
   "metadata": {}
  },
  {
   "source": [
    "Next we may take a look at the numeric features we have, the `education degree` and the `entry wage`:"
   ],
   "cell_type": "markdown",
   "metadata": {}
  },
  {
   "cell_type": "code",
   "execution_count": 6,
   "metadata": {},
   "outputs": [
    {
     "output_type": "display_data",
     "data": {
      "application/vnd.plotly.v1+json": {
       "config": {
        "plotlyServerURL": "https://plot.ly"
       },
       "data": [
        {
         "hovertemplate": "EDUC=%{x}<br>SALARY=%{y}<br>SALBEGIN=%{marker.color}<extra></extra>",
         "legendgroup": "",
         "marker": {
          "color": [
           27000,
           18750,
           12000,
           13200,
           21000,
           13500,
           18750,
           9750,
           12750,
           13500,
           16500,
           12000,
           14250,
           16800,
           13500,
           15000,
           14250,
           27510,
           14250,
           11550,
           15000,
           12750,
           11100,
           9000,
           9000,
           12600,
           27480,
           14250,
           79980,
           14250,
           14250,
           45000,
           15000,
           39990,
           30000,
           11250,
           13500,
           15000,
           15000,
           9000,
           11550,
           16500,
           14250,
           14250,
           13500,
           12750,
           16500,
           14100,
           16500,
           23730,
           15000,
           15000,
           26250,
           13500,
           15000,
           13500,
           15750,
           13500,
           14250,
           15000,
           9750,
           21750,
           26250,
           21000,
           14550,
           30000,
           21240,
           21480,
           25000,
           20250,
           34980,
           18000,
           10500,
           19500,
           11550,
           11550,
           11400,
           10500,
           14550,
           18000,
           10950,
           14250,
           11250,
           10950,
           17100,
           15750,
           14100,
           28740,
           27480,
           9750,
           11250,
           10950,
           10950,
           10050,
           10500,
           15000,
           19500,
           15000,
           10950,
           27480,
           22500,
           15750,
           35010,
           15750,
           13500,
           29490,
           14400,
           11550,
           15000,
           18000,
           9000,
           15000,
           27480,
           16500,
           14100,
           16500,
           18750,
           14250,
           14100,
           15750,
           10500,
           13500,
           15000,
           16500,
           15000,
           15000,
           15000,
           9750,
           27510,
           30000,
           15750,
           17250,
           15750,
           24990,
           10950,
           15000,
           37500,
           15000,
           13200,
           13500,
           13350,
           13950,
           13200,
           9750,
           13500,
           23250,
           13500,
           14250,
           15000,
           15000,
           26250,
           15000,
           12900,
           12000,
           15000,
           15000,
           13050,
           12000,
           12750,
           47490,
           19500,
           23250,
           15000,
           16500,
           13500,
           9750,
           9750,
           17250,
           14400,
           15000,
           13500,
           15000,
           42480,
           15000,
           15600,
           17250,
           16500,
           10200,
           13050,
           12750,
           10200,
           10200,
           15750,
           15000,
           15000,
           20400,
           21750,
           18750,
           19980,
           16500,
           10200,
           12750,
           12000,
           15750,
           12750,
           12000,
           25500,
           43500,
           27480,
           34980,
           19500,
           16500,
           15000,
           16500,
           52500,
           15000,
           17250,
           11250,
           10200,
           16500,
           15000,
           16500,
           15000,
           10950,
           11100,
           15750,
           27750,
           15750,
           15000,
           15750,
           13800,
           19500,
           10200,
           10200,
           12750,
           15750,
           12000,
           14250,
           10200,
           15000,
           21000,
           33750,
           15000,
           19500,
           31500,
           12000,
           11250,
           11250,
           11225,
           18750,
           10200,
           18000,
           10950,
           10950,
           11550,
           11250,
           10950,
           10950,
           12000,
           12750,
           11250,
           11400,
           10200,
           32490,
           15750,
           27480,
           36750,
           11550,
           11250,
           11250,
           11250,
           10950,
           11250,
           11250,
           11250,
           17250,
           10950,
           15000,
           17250,
           18000,
           16500,
           31980,
           15750,
           21750,
           16500,
           21000,
           17490,
           12000,
           12000,
           10950,
           15750,
           15000,
           32010,
           33000,
           15750,
           25500,
           19500,
           23730,
           30750,
           36240,
           15750,
           15000,
           14250,
           12750,
           15750,
           15000,
           15300,
           13500,
           18000,
           15000,
           13500,
           15000,
           15750,
           13500,
           15750,
           16500,
           32490,
           18000,
           15750,
           21240,
           12000,
           14250,
           11250,
           13500,
           12150,
           15000,
           11550,
           21990,
           15750,
           15000,
           12000,
           14250,
           12000,
           15000,
           10200,
           15750,
           15750,
           32490,
           34980,
           17250,
           12000,
           18000,
           18000,
           10950,
           15750,
           21240,
           11550,
           10200,
           10650,
           12450,
           33750,
           14250,
           60000,
           16500,
           16500,
           13950,
           12000,
           30000,
           12750,
           15750,
           13500,
           12000,
           15750,
           11250,
           17250,
           15000,
           10200,
           13500,
           10200,
           15300,
           13950,
           10200,
           18000,
           10200,
           10200,
           12000,
           10200,
           13500,
           15000,
           18000,
           18000,
           15750,
           16500,
           15750,
           14700,
           15750,
           15750,
           10200,
           13050,
           13500,
           18000,
           15750,
           28740,
           13050,
           15750,
           15750,
           31980,
           16500,
           32490,
           13500,
           12450,
           12000,
           12450,
           12450,
           11250,
           11250,
           12300,
           12450,
           11250,
           12750,
           11250,
           11250,
           11250,
           15000,
           13950,
           32490,
           15750,
           33000,
           19500,
           18750,
           10200,
           11250,
           19500,
           15750,
           15750,
           13500,
           15000,
           15750,
           16500,
           35040,
           15750,
           16500,
           13800,
           11100,
           13500,
           17490,
           16050,
           15750,
           15750,
           34980,
           45000,
           15000,
           15750,
           20250,
           16500,
           15750,
           16050,
           15000,
           11250,
           12750,
           13500,
           13500,
           13500,
           15750,
           16500,
           44100,
           20550,
           10200,
           21750,
           34980,
           14250,
           18000,
           15750,
           31250,
           19500,
           42510,
           14250,
           28740,
           11250,
           12750,
           13500,
           19500,
           14250,
           33000,
           16500,
           13500,
           19500,
           19980,
           13950,
           15750,
           15750,
           15750,
           12750,
           14250
          ],
          "coloraxis": "coloraxis",
          "size": 10,
          "symbol": "circle"
         },
         "mode": "markers",
         "name": "",
         "orientation": "v",
         "showlegend": false,
         "type": "scatter",
         "x": [
          15,
          16,
          12,
          8,
          15,
          15,
          15,
          12,
          15,
          12,
          16,
          8,
          15,
          15,
          12,
          12,
          15,
          16,
          12,
          12,
          16,
          12,
          15,
          12,
          15,
          15,
          19,
          15,
          19,
          15,
          12,
          19,
          15,
          19,
          17,
          8,
          12,
          15,
          16,
          15,
          12,
          15,
          12,
          8,
          12,
          15,
          12,
          12,
          15,
          16,
          12,
          15,
          18,
          12,
          12,
          15,
          15,
          15,
          15,
          12,
          8,
          16,
          17,
          16,
          8,
          19,
          16,
          16,
          16,
          15,
          17,
          16,
          12,
          15,
          15,
          15,
          12,
          12,
          16,
          16,
          12,
          12,
          12,
          8,
          15,
          15,
          12,
          19,
          19,
          8,
          12,
          8,
          12,
          12,
          12,
          8,
          17,
          8,
          12,
          18,
          16,
          14,
          19,
          15,
          15,
          19,
          12,
          12,
          12,
          15,
          12,
          12,
          16,
          14,
          15,
          15,
          12,
          12,
          12,
          16,
          15,
          15,
          12,
          16,
          12,
          15,
          12,
          12,
          17,
          20,
          15,
          12,
          15,
          16,
          12,
          12,
          21,
          12,
          8,
          12,
          15,
          12,
          12,
          8,
          12,
          18,
          15,
          15,
          12,
          12,
          16,
          8,
          12,
          12,
          15,
          15,
          12,
          12,
          16,
          16,
          16,
          16,
          15,
          15,
          15,
          12,
          12,
          16,
          12,
          12,
          12,
          15,
          20,
          8,
          8,
          16,
          12,
          12,
          12,
          12,
          12,
          12,
          15,
          15,
          8,
          15,
          16,
          12,
          12,
          8,
          12,
          12,
          12,
          15,
          12,
          16,
          15,
          19,
          16,
          17,
          12,
          15,
          12,
          15,
          16,
          12,
          15,
          12,
          8,
          15,
          15,
          15,
          8,
          12,
          12,
          15,
          16,
          15,
          12,
          12,
          12,
          15,
          8,
          12,
          15,
          16,
          12,
          15,
          12,
          15,
          16,
          19,
          15,
          15,
          19,
          8,
          12,
          12,
          12,
          16,
          8,
          12,
          12,
          8,
          12,
          12,
          12,
          12,
          12,
          15,
          12,
          12,
          8,
          18,
          12,
          19,
          19,
          8,
          12,
          12,
          12,
          12,
          12,
          12,
          12,
          16,
          12,
          12,
          15,
          15,
          15,
          18,
          12,
          16,
          12,
          16,
          16,
          8,
          12,
          12,
          8,
          14,
          19,
          19,
          8,
          15,
          16,
          15,
          17,
          18,
          12,
          14,
          15,
          12,
          8,
          12,
          12,
          12,
          15,
          16,
          12,
          8,
          12,
          15,
          12,
          15,
          16,
          15,
          15,
          16,
          12,
          12,
          12,
          12,
          12,
          15,
          12,
          16,
          15,
          12,
          12,
          12,
          15,
          12,
          8,
          8,
          12,
          18,
          18,
          15,
          12,
          16,
          15,
          12,
          8,
          16,
          12,
          8,
          8,
          8,
          12,
          12,
          16,
          12,
          12,
          15,
          12,
          16,
          17,
          12,
          12,
          8,
          12,
          12,
          15,
          15,
          8,
          15,
          12,
          12,
          12,
          8,
          16,
          12,
          8,
          12,
          12,
          12,
          14,
          16,
          16,
          15,
          12,
          15,
          12,
          15,
          15,
          8,
          8,
          12,
          17,
          12,
          17,
          12,
          12,
          8,
          19,
          14,
          19,
          15,
          12,
          12,
          12,
          8,
          12,
          12,
          12,
          12,
          12,
          12,
          12,
          12,
          12,
          12,
          12,
          17,
          15,
          19,
          19,
          8,
          12,
          12,
          16,
          8,
          15,
          15,
          15,
          15,
          15,
          19,
          15,
          15,
          12,
          15,
          12,
          16,
          8,
          15,
          8,
          19,
          18,
          12,
          12,
          16,
          15,
          12,
          8,
          15,
          12,
          8,
          15,
          12,
          8,
          12,
          15,
          16,
          15,
          12,
          16,
          19,
          15,
          12,
          15,
          19,
          16,
          19,
          15,
          19,
          12,
          12,
          8,
          16,
          15,
          19,
          12,
          12,
          16,
          16,
          15,
          12,
          15,
          15,
          12,
          12
         ],
         "xaxis": "x",
         "y": [
          57000,
          40200,
          21450,
          21900,
          45000,
          32100,
          36000,
          21900,
          27900,
          24000,
          30300,
          28350,
          27750,
          35100,
          27300,
          40800,
          46000,
          103750,
          42300,
          26250,
          38850,
          21750,
          24000,
          16950,
          21150,
          31050,
          60375,
          32550,
          135000,
          31200,
          36150,
          110625,
          42000,
          92000,
          81250,
          31350,
          29100,
          31350,
          36000,
          19200,
          23550,
          35100,
          23250,
          29250,
          30750,
          22350,
          30000,
          30750,
          34800,
          60000,
          35550,
          45150,
          73750,
          25050,
          27000,
          26850,
          33900,
          26400,
          28050,
          30900,
          22500,
          48000,
          55000,
          53125,
          21900,
          78125,
          46000,
          45250,
          56550,
          41100,
          82500,
          54000,
          26400,
          33900,
          24150,
          29250,
          27600,
          22950,
          34800,
          51000,
          24300,
          24750,
          22950,
          25050,
          25950,
          31650,
          24150,
          72500,
          68750,
          16200,
          20100,
          24000,
          25950,
          24600,
          28500,
          30750,
          40200,
          30000,
          22050,
          78250,
          60625,
          39900,
          97000,
          27450,
          31650,
          91250,
          25200,
          21000,
          30450,
          28350,
          30750,
          30750,
          54875,
          37800,
          33450,
          30300,
          31500,
          31650,
          25200,
          37800,
          18750,
          32550,
          33300,
          38550,
          27450,
          24300,
          30750,
          19650,
          68750,
          59375,
          31500,
          27300,
          27000,
          41550,
          26250,
          22200,
          65000,
          30900,
          20100,
          22350,
          35550,
          28500,
          24450,
          16650,
          26700,
          43950,
          23700,
          26550,
          27600,
          25800,
          42300,
          30750,
          26700,
          20850,
          35250,
          26700,
          26550,
          27750,
          25050,
          66000,
          52650,
          45625,
          30900,
          29400,
          33300,
          21900,
          18150,
          46875,
          25500,
          26550,
          26700,
          29850,
          69250,
          31950,
          26250,
          35700,
          28500,
          17100,
          25200,
          24000,
          27450,
          18450,
          39300,
          38850,
          30750,
          37500,
          58750,
          34500,
          36000,
          29100,
          16500,
          19650,
          24750,
          27150,
          26400,
          23100,
          54900,
          70875,
          51250,
          67500,
          29340,
          39600,
          29100,
          33150,
          66750,
          33750,
          27300,
          24000,
          19800,
          30600,
          28950,
          38400,
          30750,
          20400,
          19200,
          30150,
          34620,
          80000,
          25350,
          29850,
          24000,
          27750,
          22350,
          16200,
          21900,
          23250,
          33900,
          25650,
          17250,
          22500,
          40200,
          55500,
          26550,
          50550,
          75000,
          27450,
          22650,
          27300,
          27750,
          54375,
          17400,
          40800,
          23100,
          22500,
          26700,
          24900,
          19650,
          22050,
          25500,
          28200,
          23100,
          25500,
          17100,
          68125,
          30600,
          52125,
          61875,
          21300,
          19650,
          22350,
          23400,
          24300,
          28500,
          19950,
          23400,
          34500,
          18150,
          22350,
          40200,
          28650,
          27750,
          66875,
          30000,
          83750,
          33900,
          56500,
          43000,
          20850,
          24450,
          24750,
          34500,
          27900,
          68125,
          73500,
          30750,
          40050,
          40350,
          38700,
          65000,
          51450,
          35250,
          25950,
          25050,
          26700,
          24000,
          26850,
          23400,
          24600,
          32550,
          26550,
          31500,
          22350,
          35250,
          25800,
          30750,
          30750,
          50000,
          34500,
          26250,
          44875,
          22500,
          25650,
          21300,
          29850,
          34500,
          27750,
          27750,
          48750,
          43410,
          22050,
          22050,
          22500,
          25500,
          29160,
          16800,
          29550,
          26700,
          55000,
          62500,
          27300,
          24450,
          33000,
          37050,
          24450,
          31950,
          47250,
          26100,
          15900,
          23700,
          21750,
          59400,
          24450,
          103500,
          35700,
          22200,
          22950,
          23100,
          56750,
          29100,
          37650,
          27900,
          21150,
          31200,
          20550,
          25950,
          28350,
          17700,
          23550,
          19950,
          29400,
          28800,
          16950,
          35700,
          17400,
          21450,
          24750,
          16950,
          26100,
          28050,
          36600,
          58125,
          21300,
          22500,
          29400,
          27450,
          29850,
          25350,
          15750,
          19650,
          21000,
          27000,
          24000,
          78500,
          20850,
          30000,
          28500,
          65000,
          30150,
          66875,
          24150,
          24450,
          21600,
          27900,
          29100,
          22650,
          20850,
          22950,
          30600,
          20400,
          23850,
          22800,
          20700,
          21300,
          24300,
          19650,
          60000,
          30300,
          61250,
          36000,
          25200,
          16200,
          22800,
          43500,
          30300,
          31950,
          35250,
          37800,
          31200,
          29400,
          70000,
          33900,
          27150,
          22200,
          31350,
          20850,
          33300,
          26250,
          31950,
          30000,
          66250,
          86250,
          30750,
          33540,
          34950,
          40350,
          30270,
          26250,
          32400,
          20400,
          24150,
          23850,
          29700,
          21600,
          24450,
          28050,
          100000,
          49000,
          16350,
          70000,
          55000,
          28500,
          28800,
          24450,
          90625,
          43650,
          75000,
          31650,
          61875,
          21750,
          22500,
          21600,
          34410,
          20700,
          47550,
          33900,
          23400,
          32850,
          55750,
          25200,
          26250,
          26400,
          39150,
          21450,
          29400
         ],
         "yaxis": "y"
        }
       ],
       "layout": {
        "coloraxis": {
         "colorbar": {
          "title": {
           "text": "SALBEGIN"
          }
         },
         "colorscale": [
          [
           0,
           "#0d0887"
          ],
          [
           0.1111111111111111,
           "#46039f"
          ],
          [
           0.2222222222222222,
           "#7201a8"
          ],
          [
           0.3333333333333333,
           "#9c179e"
          ],
          [
           0.4444444444444444,
           "#bd3786"
          ],
          [
           0.5555555555555556,
           "#d8576b"
          ],
          [
           0.6666666666666666,
           "#ed7953"
          ],
          [
           0.7777777777777778,
           "#fb9f3a"
          ],
          [
           0.8888888888888888,
           "#fdca26"
          ],
          [
           1,
           "#f0f921"
          ]
         ]
        },
        "legend": {
         "tracegroupgap": 0
        },
        "template": {
         "data": {
          "bar": [
           {
            "error_x": {
             "color": "#2a3f5f"
            },
            "error_y": {
             "color": "#2a3f5f"
            },
            "marker": {
             "line": {
              "color": "#E5ECF6",
              "width": 0.5
             }
            },
            "type": "bar"
           }
          ],
          "barpolar": [
           {
            "marker": {
             "line": {
              "color": "#E5ECF6",
              "width": 0.5
             }
            },
            "type": "barpolar"
           }
          ],
          "carpet": [
           {
            "aaxis": {
             "endlinecolor": "#2a3f5f",
             "gridcolor": "white",
             "linecolor": "white",
             "minorgridcolor": "white",
             "startlinecolor": "#2a3f5f"
            },
            "baxis": {
             "endlinecolor": "#2a3f5f",
             "gridcolor": "white",
             "linecolor": "white",
             "minorgridcolor": "white",
             "startlinecolor": "#2a3f5f"
            },
            "type": "carpet"
           }
          ],
          "choropleth": [
           {
            "colorbar": {
             "outlinewidth": 0,
             "ticks": ""
            },
            "type": "choropleth"
           }
          ],
          "contour": [
           {
            "colorbar": {
             "outlinewidth": 0,
             "ticks": ""
            },
            "colorscale": [
             [
              0,
              "#0d0887"
             ],
             [
              0.1111111111111111,
              "#46039f"
             ],
             [
              0.2222222222222222,
              "#7201a8"
             ],
             [
              0.3333333333333333,
              "#9c179e"
             ],
             [
              0.4444444444444444,
              "#bd3786"
             ],
             [
              0.5555555555555556,
              "#d8576b"
             ],
             [
              0.6666666666666666,
              "#ed7953"
             ],
             [
              0.7777777777777778,
              "#fb9f3a"
             ],
             [
              0.8888888888888888,
              "#fdca26"
             ],
             [
              1,
              "#f0f921"
             ]
            ],
            "type": "contour"
           }
          ],
          "contourcarpet": [
           {
            "colorbar": {
             "outlinewidth": 0,
             "ticks": ""
            },
            "type": "contourcarpet"
           }
          ],
          "heatmap": [
           {
            "colorbar": {
             "outlinewidth": 0,
             "ticks": ""
            },
            "colorscale": [
             [
              0,
              "#0d0887"
             ],
             [
              0.1111111111111111,
              "#46039f"
             ],
             [
              0.2222222222222222,
              "#7201a8"
             ],
             [
              0.3333333333333333,
              "#9c179e"
             ],
             [
              0.4444444444444444,
              "#bd3786"
             ],
             [
              0.5555555555555556,
              "#d8576b"
             ],
             [
              0.6666666666666666,
              "#ed7953"
             ],
             [
              0.7777777777777778,
              "#fb9f3a"
             ],
             [
              0.8888888888888888,
              "#fdca26"
             ],
             [
              1,
              "#f0f921"
             ]
            ],
            "type": "heatmap"
           }
          ],
          "heatmapgl": [
           {
            "colorbar": {
             "outlinewidth": 0,
             "ticks": ""
            },
            "colorscale": [
             [
              0,
              "#0d0887"
             ],
             [
              0.1111111111111111,
              "#46039f"
             ],
             [
              0.2222222222222222,
              "#7201a8"
             ],
             [
              0.3333333333333333,
              "#9c179e"
             ],
             [
              0.4444444444444444,
              "#bd3786"
             ],
             [
              0.5555555555555556,
              "#d8576b"
             ],
             [
              0.6666666666666666,
              "#ed7953"
             ],
             [
              0.7777777777777778,
              "#fb9f3a"
             ],
             [
              0.8888888888888888,
              "#fdca26"
             ],
             [
              1,
              "#f0f921"
             ]
            ],
            "type": "heatmapgl"
           }
          ],
          "histogram": [
           {
            "marker": {
             "colorbar": {
              "outlinewidth": 0,
              "ticks": ""
             }
            },
            "type": "histogram"
           }
          ],
          "histogram2d": [
           {
            "colorbar": {
             "outlinewidth": 0,
             "ticks": ""
            },
            "colorscale": [
             [
              0,
              "#0d0887"
             ],
             [
              0.1111111111111111,
              "#46039f"
             ],
             [
              0.2222222222222222,
              "#7201a8"
             ],
             [
              0.3333333333333333,
              "#9c179e"
             ],
             [
              0.4444444444444444,
              "#bd3786"
             ],
             [
              0.5555555555555556,
              "#d8576b"
             ],
             [
              0.6666666666666666,
              "#ed7953"
             ],
             [
              0.7777777777777778,
              "#fb9f3a"
             ],
             [
              0.8888888888888888,
              "#fdca26"
             ],
             [
              1,
              "#f0f921"
             ]
            ],
            "type": "histogram2d"
           }
          ],
          "histogram2dcontour": [
           {
            "colorbar": {
             "outlinewidth": 0,
             "ticks": ""
            },
            "colorscale": [
             [
              0,
              "#0d0887"
             ],
             [
              0.1111111111111111,
              "#46039f"
             ],
             [
              0.2222222222222222,
              "#7201a8"
             ],
             [
              0.3333333333333333,
              "#9c179e"
             ],
             [
              0.4444444444444444,
              "#bd3786"
             ],
             [
              0.5555555555555556,
              "#d8576b"
             ],
             [
              0.6666666666666666,
              "#ed7953"
             ],
             [
              0.7777777777777778,
              "#fb9f3a"
             ],
             [
              0.8888888888888888,
              "#fdca26"
             ],
             [
              1,
              "#f0f921"
             ]
            ],
            "type": "histogram2dcontour"
           }
          ],
          "mesh3d": [
           {
            "colorbar": {
             "outlinewidth": 0,
             "ticks": ""
            },
            "type": "mesh3d"
           }
          ],
          "parcoords": [
           {
            "line": {
             "colorbar": {
              "outlinewidth": 0,
              "ticks": ""
             }
            },
            "type": "parcoords"
           }
          ],
          "pie": [
           {
            "automargin": true,
            "type": "pie"
           }
          ],
          "scatter": [
           {
            "marker": {
             "colorbar": {
              "outlinewidth": 0,
              "ticks": ""
             }
            },
            "type": "scatter"
           }
          ],
          "scatter3d": [
           {
            "line": {
             "colorbar": {
              "outlinewidth": 0,
              "ticks": ""
             }
            },
            "marker": {
             "colorbar": {
              "outlinewidth": 0,
              "ticks": ""
             }
            },
            "type": "scatter3d"
           }
          ],
          "scattercarpet": [
           {
            "marker": {
             "colorbar": {
              "outlinewidth": 0,
              "ticks": ""
             }
            },
            "type": "scattercarpet"
           }
          ],
          "scattergeo": [
           {
            "marker": {
             "colorbar": {
              "outlinewidth": 0,
              "ticks": ""
             }
            },
            "type": "scattergeo"
           }
          ],
          "scattergl": [
           {
            "marker": {
             "colorbar": {
              "outlinewidth": 0,
              "ticks": ""
             }
            },
            "type": "scattergl"
           }
          ],
          "scattermapbox": [
           {
            "marker": {
             "colorbar": {
              "outlinewidth": 0,
              "ticks": ""
             }
            },
            "type": "scattermapbox"
           }
          ],
          "scatterpolar": [
           {
            "marker": {
             "colorbar": {
              "outlinewidth": 0,
              "ticks": ""
             }
            },
            "type": "scatterpolar"
           }
          ],
          "scatterpolargl": [
           {
            "marker": {
             "colorbar": {
              "outlinewidth": 0,
              "ticks": ""
             }
            },
            "type": "scatterpolargl"
           }
          ],
          "scatterternary": [
           {
            "marker": {
             "colorbar": {
              "outlinewidth": 0,
              "ticks": ""
             }
            },
            "type": "scatterternary"
           }
          ],
          "surface": [
           {
            "colorbar": {
             "outlinewidth": 0,
             "ticks": ""
            },
            "colorscale": [
             [
              0,
              "#0d0887"
             ],
             [
              0.1111111111111111,
              "#46039f"
             ],
             [
              0.2222222222222222,
              "#7201a8"
             ],
             [
              0.3333333333333333,
              "#9c179e"
             ],
             [
              0.4444444444444444,
              "#bd3786"
             ],
             [
              0.5555555555555556,
              "#d8576b"
             ],
             [
              0.6666666666666666,
              "#ed7953"
             ],
             [
              0.7777777777777778,
              "#fb9f3a"
             ],
             [
              0.8888888888888888,
              "#fdca26"
             ],
             [
              1,
              "#f0f921"
             ]
            ],
            "type": "surface"
           }
          ],
          "table": [
           {
            "cells": {
             "fill": {
              "color": "#EBF0F8"
             },
             "line": {
              "color": "white"
             }
            },
            "header": {
             "fill": {
              "color": "#C8D4E3"
             },
             "line": {
              "color": "white"
             }
            },
            "type": "table"
           }
          ]
         },
         "layout": {
          "annotationdefaults": {
           "arrowcolor": "#2a3f5f",
           "arrowhead": 0,
           "arrowwidth": 1
          },
          "autotypenumbers": "strict",
          "coloraxis": {
           "colorbar": {
            "outlinewidth": 0,
            "ticks": ""
           }
          },
          "colorscale": {
           "diverging": [
            [
             0,
             "#8e0152"
            ],
            [
             0.1,
             "#c51b7d"
            ],
            [
             0.2,
             "#de77ae"
            ],
            [
             0.3,
             "#f1b6da"
            ],
            [
             0.4,
             "#fde0ef"
            ],
            [
             0.5,
             "#f7f7f7"
            ],
            [
             0.6,
             "#e6f5d0"
            ],
            [
             0.7,
             "#b8e186"
            ],
            [
             0.8,
             "#7fbc41"
            ],
            [
             0.9,
             "#4d9221"
            ],
            [
             1,
             "#276419"
            ]
           ],
           "sequential": [
            [
             0,
             "#0d0887"
            ],
            [
             0.1111111111111111,
             "#46039f"
            ],
            [
             0.2222222222222222,
             "#7201a8"
            ],
            [
             0.3333333333333333,
             "#9c179e"
            ],
            [
             0.4444444444444444,
             "#bd3786"
            ],
            [
             0.5555555555555556,
             "#d8576b"
            ],
            [
             0.6666666666666666,
             "#ed7953"
            ],
            [
             0.7777777777777778,
             "#fb9f3a"
            ],
            [
             0.8888888888888888,
             "#fdca26"
            ],
            [
             1,
             "#f0f921"
            ]
           ],
           "sequentialminus": [
            [
             0,
             "#0d0887"
            ],
            [
             0.1111111111111111,
             "#46039f"
            ],
            [
             0.2222222222222222,
             "#7201a8"
            ],
            [
             0.3333333333333333,
             "#9c179e"
            ],
            [
             0.4444444444444444,
             "#bd3786"
            ],
            [
             0.5555555555555556,
             "#d8576b"
            ],
            [
             0.6666666666666666,
             "#ed7953"
            ],
            [
             0.7777777777777778,
             "#fb9f3a"
            ],
            [
             0.8888888888888888,
             "#fdca26"
            ],
            [
             1,
             "#f0f921"
            ]
           ]
          },
          "colorway": [
           "#636efa",
           "#EF553B",
           "#00cc96",
           "#ab63fa",
           "#FFA15A",
           "#19d3f3",
           "#FF6692",
           "#B6E880",
           "#FF97FF",
           "#FECB52"
          ],
          "font": {
           "color": "#2a3f5f"
          },
          "geo": {
           "bgcolor": "white",
           "lakecolor": "white",
           "landcolor": "#E5ECF6",
           "showlakes": true,
           "showland": true,
           "subunitcolor": "white"
          },
          "hoverlabel": {
           "align": "left"
          },
          "hovermode": "closest",
          "mapbox": {
           "style": "light"
          },
          "paper_bgcolor": "white",
          "plot_bgcolor": "#E5ECF6",
          "polar": {
           "angularaxis": {
            "gridcolor": "white",
            "linecolor": "white",
            "ticks": ""
           },
           "bgcolor": "#E5ECF6",
           "radialaxis": {
            "gridcolor": "white",
            "linecolor": "white",
            "ticks": ""
           }
          },
          "scene": {
           "xaxis": {
            "backgroundcolor": "#E5ECF6",
            "gridcolor": "white",
            "gridwidth": 2,
            "linecolor": "white",
            "showbackground": true,
            "ticks": "",
            "zerolinecolor": "white"
           },
           "yaxis": {
            "backgroundcolor": "#E5ECF6",
            "gridcolor": "white",
            "gridwidth": 2,
            "linecolor": "white",
            "showbackground": true,
            "ticks": "",
            "zerolinecolor": "white"
           },
           "zaxis": {
            "backgroundcolor": "#E5ECF6",
            "gridcolor": "white",
            "gridwidth": 2,
            "linecolor": "white",
            "showbackground": true,
            "ticks": "",
            "zerolinecolor": "white"
           }
          },
          "shapedefaults": {
           "line": {
            "color": "#2a3f5f"
           }
          },
          "ternary": {
           "aaxis": {
            "gridcolor": "white",
            "linecolor": "white",
            "ticks": ""
           },
           "baxis": {
            "gridcolor": "white",
            "linecolor": "white",
            "ticks": ""
           },
           "bgcolor": "#E5ECF6",
           "caxis": {
            "gridcolor": "white",
            "linecolor": "white",
            "ticks": ""
           }
          },
          "title": {
           "x": 0.05
          },
          "xaxis": {
           "automargin": true,
           "gridcolor": "white",
           "linecolor": "white",
           "ticks": "",
           "title": {
            "standoff": 15
           },
           "zerolinecolor": "white",
           "zerolinewidth": 2
          },
          "yaxis": {
           "automargin": true,
           "gridcolor": "white",
           "linecolor": "white",
           "ticks": "",
           "title": {
            "standoff": 15
           },
           "zerolinecolor": "white",
           "zerolinewidth": 2
          }
         }
        },
        "title": {
         "text": "Impact of Education and Entry Wage on Salary"
        },
        "xaxis": {
         "anchor": "y",
         "domain": [
          0,
          1
         ],
         "title": {
          "text": "EDUC"
         }
        },
        "yaxis": {
         "anchor": "x",
         "domain": [
          0,
          1
         ],
         "title": {
          "text": "SALARY"
         }
        }
       }
      }
     },
     "metadata": {}
    }
   ],
   "source": [
    "fig = plx.scatter(df,\n",
    "    x = \"EDUC\", \n",
    "    y = \"SALARY\", \n",
    "    color = \"SALBEGIN\",\n",
    "    title = \"Impact of Education and Entry Wage on Salary\"\n",
    ")\n",
    "fig.update_traces(marker_size=10)\n",
    "fig.show()"
   ]
  },
  {
   "source": [
    "This plot hints that having a lesser number of years in education your salary is goint to be very narrowed in a rather sharp range.\n",
    "\n",
    "And on the other hand: If you start already with an higher entry wage you probably going to have an even higher raise in absolute numbers than someone who starts with a lower salary at the beginning."
   ],
   "cell_type": "markdown",
   "metadata": {}
  },
  {
   "source": [
    "In the end we may take a look at the `sociodemographic` features."
   ],
   "cell_type": "markdown",
   "metadata": {}
  },
  {
   "cell_type": "code",
   "execution_count": 7,
   "metadata": {},
   "outputs": [
    {
     "output_type": "execute_result",
     "data": {
      "text/html": "\n<div id=\"altair-viz-c7eeec88f3044f60826f98dec50ea205\"></div>\n<script type=\"text/javascript\">\n  (function(spec, embedOpt){\n    let outputDiv = document.currentScript.previousElementSibling;\n    if (outputDiv.id !== \"altair-viz-c7eeec88f3044f60826f98dec50ea205\") {\n      outputDiv = document.getElementById(\"altair-viz-c7eeec88f3044f60826f98dec50ea205\");\n    }\n    const paths = {\n      \"vega\": \"https://cdn.jsdelivr.net/npm//vega@5?noext\",\n      \"vega-lib\": \"https://cdn.jsdelivr.net/npm//vega-lib?noext\",\n      \"vega-lite\": \"https://cdn.jsdelivr.net/npm//vega-lite@4.8.1?noext\",\n      \"vega-embed\": \"https://cdn.jsdelivr.net/npm//vega-embed@6?noext\",\n    };\n\n    function loadScript(lib) {\n      return new Promise(function(resolve, reject) {\n        var s = document.createElement('script');\n        s.src = paths[lib];\n        s.async = true;\n        s.onload = () => resolve(paths[lib]);\n        s.onerror = () => reject(`Error loading script: ${paths[lib]}`);\n        document.getElementsByTagName(\"head\")[0].appendChild(s);\n      });\n    }\n\n    function showError(err) {\n      outputDiv.innerHTML = `<div class=\"error\" style=\"color:red;\">${err}</div>`;\n      throw err;\n    }\n\n    function displayChart(vegaEmbed) {\n      vegaEmbed(outputDiv, spec, embedOpt)\n        .catch(err => showError(`Javascript Error: ${err.message}<br>This usually means there's a typo in your chart specification. See the javascript console for the full traceback.`));\n    }\n\n    if(typeof define === \"function\" && define.amd) {\n      requirejs.config({paths});\n      require([\"vega-embed\"], displayChart, err => showError(`Error loading script: ${err.message}`));\n    } else if (typeof vegaEmbed === \"function\") {\n      displayChart(vegaEmbed);\n    } else {\n      loadScript(\"vega\")\n        .then(() => loadScript(\"vega-lite\"))\n        .then(() => loadScript(\"vega-embed\"))\n        .catch(showError)\n        .then(() => displayChart(vegaEmbed));\n    }\n  })({\"config\": {\"view\": {\"continuousWidth\": 400, \"continuousHeight\": 300}}, \"data\": {\"name\": \"data-4d51f11cb28082326eec7abb4097b9a4\"}, \"mark\": {\"type\": \"point\", \"size\": 60}, \"encoding\": {\"color\": {\"type\": \"nominal\", \"field\": \"GENDER_DENOTING\"}, \"column\": {\"type\": \"nominal\", \"field\": \"JOBCAT_DENOTING\"}, \"x\": {\"type\": \"nominal\", \"axis\": {\"labelAngle\": 0}, \"field\": \"MINORITY_DENOTING\"}, \"y\": {\"type\": \"quantitative\", \"field\": \"SALARY\"}}, \"title\": \"Impact of Sociodemography on Salary\", \"width\": 200, \"$schema\": \"https://vega.github.io/schema/vega-lite/v4.8.1.json\", \"datasets\": {\"data-4d51f11cb28082326eec7abb4097b9a4\": [{\"SALARY\": 57000, \"EDUC\": 15, \"SALBEGIN\": 27000, \"GENDER\": 1, \"MINORITY\": 0, \"JOBCAT\": 3, \"GENDER_DENOTING\": \"Male\", \"MINORITY_DENOTING\": \"White\", \"JOBCAT_DENOTING\": \"Management\", \"SOCIODEMOGRAPHY\": 1, \"SOCIODEMOGRAPHY_DENOTING\": \"White_Male\"}, {\"SALARY\": 40200, \"EDUC\": 16, \"SALBEGIN\": 18750, \"GENDER\": 1, \"MINORITY\": 0, \"JOBCAT\": 1, \"GENDER_DENOTING\": \"Male\", \"MINORITY_DENOTING\": \"White\", \"JOBCAT_DENOTING\": \"Administration\", \"SOCIODEMOGRAPHY\": 1, \"SOCIODEMOGRAPHY_DENOTING\": \"White_Male\"}, {\"SALARY\": 21450, \"EDUC\": 12, \"SALBEGIN\": 12000, \"GENDER\": 0, \"MINORITY\": 0, \"JOBCAT\": 1, \"GENDER_DENOTING\": \"Female\", \"MINORITY_DENOTING\": \"White\", \"JOBCAT_DENOTING\": \"Administration\", \"SOCIODEMOGRAPHY\": 0, \"SOCIODEMOGRAPHY_DENOTING\": \"White_Female\"}, {\"SALARY\": 21900, \"EDUC\": 8, \"SALBEGIN\": 13200, \"GENDER\": 0, \"MINORITY\": 0, \"JOBCAT\": 1, \"GENDER_DENOTING\": \"Female\", \"MINORITY_DENOTING\": \"White\", \"JOBCAT_DENOTING\": \"Administration\", \"SOCIODEMOGRAPHY\": 0, \"SOCIODEMOGRAPHY_DENOTING\": \"White_Female\"}, {\"SALARY\": 45000, \"EDUC\": 15, \"SALBEGIN\": 21000, \"GENDER\": 1, \"MINORITY\": 0, \"JOBCAT\": 1, \"GENDER_DENOTING\": \"Male\", \"MINORITY_DENOTING\": \"White\", \"JOBCAT_DENOTING\": \"Administration\", \"SOCIODEMOGRAPHY\": 1, \"SOCIODEMOGRAPHY_DENOTING\": \"White_Male\"}, {\"SALARY\": 32100, \"EDUC\": 15, \"SALBEGIN\": 13500, \"GENDER\": 1, \"MINORITY\": 0, \"JOBCAT\": 1, \"GENDER_DENOTING\": \"Male\", \"MINORITY_DENOTING\": \"White\", \"JOBCAT_DENOTING\": \"Administration\", \"SOCIODEMOGRAPHY\": 1, \"SOCIODEMOGRAPHY_DENOTING\": \"White_Male\"}, {\"SALARY\": 36000, \"EDUC\": 15, \"SALBEGIN\": 18750, \"GENDER\": 1, \"MINORITY\": 0, \"JOBCAT\": 1, \"GENDER_DENOTING\": \"Male\", \"MINORITY_DENOTING\": \"White\", \"JOBCAT_DENOTING\": \"Administration\", \"SOCIODEMOGRAPHY\": 1, \"SOCIODEMOGRAPHY_DENOTING\": \"White_Male\"}, {\"SALARY\": 21900, \"EDUC\": 12, \"SALBEGIN\": 9750, \"GENDER\": 0, \"MINORITY\": 0, \"JOBCAT\": 1, \"GENDER_DENOTING\": \"Female\", \"MINORITY_DENOTING\": \"White\", \"JOBCAT_DENOTING\": \"Administration\", \"SOCIODEMOGRAPHY\": 0, \"SOCIODEMOGRAPHY_DENOTING\": \"White_Female\"}, {\"SALARY\": 27900, \"EDUC\": 15, \"SALBEGIN\": 12750, \"GENDER\": 0, \"MINORITY\": 0, \"JOBCAT\": 1, \"GENDER_DENOTING\": \"Female\", \"MINORITY_DENOTING\": \"White\", \"JOBCAT_DENOTING\": \"Administration\", \"SOCIODEMOGRAPHY\": 0, \"SOCIODEMOGRAPHY_DENOTING\": \"White_Female\"}, {\"SALARY\": 24000, \"EDUC\": 12, \"SALBEGIN\": 13500, \"GENDER\": 0, \"MINORITY\": 0, \"JOBCAT\": 1, \"GENDER_DENOTING\": \"Female\", \"MINORITY_DENOTING\": \"White\", \"JOBCAT_DENOTING\": \"Administration\", \"SOCIODEMOGRAPHY\": 0, \"SOCIODEMOGRAPHY_DENOTING\": \"White_Female\"}, {\"SALARY\": 30300, \"EDUC\": 16, \"SALBEGIN\": 16500, \"GENDER\": 0, \"MINORITY\": 0, \"JOBCAT\": 1, \"GENDER_DENOTING\": \"Female\", \"MINORITY_DENOTING\": \"White\", \"JOBCAT_DENOTING\": \"Administration\", \"SOCIODEMOGRAPHY\": 0, \"SOCIODEMOGRAPHY_DENOTING\": \"White_Female\"}, {\"SALARY\": 28350, \"EDUC\": 8, \"SALBEGIN\": 12000, \"GENDER\": 1, \"MINORITY\": 1, \"JOBCAT\": 1, \"GENDER_DENOTING\": \"Male\", \"MINORITY_DENOTING\": \"Minority\", \"JOBCAT_DENOTING\": \"Administration\", \"SOCIODEMOGRAPHY\": 3, \"SOCIODEMOGRAPHY_DENOTING\": \"Minority_Male\"}, {\"SALARY\": 27750, \"EDUC\": 15, \"SALBEGIN\": 14250, \"GENDER\": 1, \"MINORITY\": 1, \"JOBCAT\": 1, \"GENDER_DENOTING\": \"Male\", \"MINORITY_DENOTING\": \"Minority\", \"JOBCAT_DENOTING\": \"Administration\", \"SOCIODEMOGRAPHY\": 3, \"SOCIODEMOGRAPHY_DENOTING\": \"Minority_Male\"}, {\"SALARY\": 35100, \"EDUC\": 15, \"SALBEGIN\": 16800, \"GENDER\": 0, \"MINORITY\": 1, \"JOBCAT\": 1, \"GENDER_DENOTING\": \"Female\", \"MINORITY_DENOTING\": \"Minority\", \"JOBCAT_DENOTING\": \"Administration\", \"SOCIODEMOGRAPHY\": 2, \"SOCIODEMOGRAPHY_DENOTING\": \"Minority_Female\"}, {\"SALARY\": 27300, \"EDUC\": 12, \"SALBEGIN\": 13500, \"GENDER\": 1, \"MINORITY\": 0, \"JOBCAT\": 1, \"GENDER_DENOTING\": \"Male\", \"MINORITY_DENOTING\": \"White\", \"JOBCAT_DENOTING\": \"Administration\", \"SOCIODEMOGRAPHY\": 1, \"SOCIODEMOGRAPHY_DENOTING\": \"White_Male\"}, {\"SALARY\": 40800, \"EDUC\": 12, \"SALBEGIN\": 15000, \"GENDER\": 1, \"MINORITY\": 0, \"JOBCAT\": 1, \"GENDER_DENOTING\": \"Male\", \"MINORITY_DENOTING\": \"White\", \"JOBCAT_DENOTING\": \"Administration\", \"SOCIODEMOGRAPHY\": 1, \"SOCIODEMOGRAPHY_DENOTING\": \"White_Male\"}, {\"SALARY\": 46000, \"EDUC\": 15, \"SALBEGIN\": 14250, \"GENDER\": 1, \"MINORITY\": 0, \"JOBCAT\": 1, \"GENDER_DENOTING\": \"Male\", \"MINORITY_DENOTING\": \"White\", \"JOBCAT_DENOTING\": \"Administration\", \"SOCIODEMOGRAPHY\": 1, \"SOCIODEMOGRAPHY_DENOTING\": \"White_Male\"}, {\"SALARY\": 103750, \"EDUC\": 16, \"SALBEGIN\": 27510, \"GENDER\": 1, \"MINORITY\": 0, \"JOBCAT\": 3, \"GENDER_DENOTING\": \"Male\", \"MINORITY_DENOTING\": \"White\", \"JOBCAT_DENOTING\": \"Management\", \"SOCIODEMOGRAPHY\": 1, \"SOCIODEMOGRAPHY_DENOTING\": \"White_Male\"}, {\"SALARY\": 42300, \"EDUC\": 12, \"SALBEGIN\": 14250, \"GENDER\": 1, \"MINORITY\": 0, \"JOBCAT\": 1, \"GENDER_DENOTING\": \"Male\", \"MINORITY_DENOTING\": \"White\", \"JOBCAT_DENOTING\": \"Administration\", \"SOCIODEMOGRAPHY\": 1, \"SOCIODEMOGRAPHY_DENOTING\": \"White_Male\"}, {\"SALARY\": 26250, \"EDUC\": 12, \"SALBEGIN\": 11550, \"GENDER\": 0, \"MINORITY\": 0, \"JOBCAT\": 1, \"GENDER_DENOTING\": \"Female\", \"MINORITY_DENOTING\": \"White\", \"JOBCAT_DENOTING\": \"Administration\", \"SOCIODEMOGRAPHY\": 0, \"SOCIODEMOGRAPHY_DENOTING\": \"White_Female\"}, {\"SALARY\": 38850, \"EDUC\": 16, \"SALBEGIN\": 15000, \"GENDER\": 0, \"MINORITY\": 0, \"JOBCAT\": 1, \"GENDER_DENOTING\": \"Female\", \"MINORITY_DENOTING\": \"White\", \"JOBCAT_DENOTING\": \"Administration\", \"SOCIODEMOGRAPHY\": 0, \"SOCIODEMOGRAPHY_DENOTING\": \"White_Female\"}, {\"SALARY\": 21750, \"EDUC\": 12, \"SALBEGIN\": 12750, \"GENDER\": 1, \"MINORITY\": 1, \"JOBCAT\": 1, \"GENDER_DENOTING\": \"Male\", \"MINORITY_DENOTING\": \"Minority\", \"JOBCAT_DENOTING\": \"Administration\", \"SOCIODEMOGRAPHY\": 3, \"SOCIODEMOGRAPHY_DENOTING\": \"Minority_Male\"}, {\"SALARY\": 24000, \"EDUC\": 15, \"SALBEGIN\": 11100, \"GENDER\": 0, \"MINORITY\": 1, \"JOBCAT\": 1, \"GENDER_DENOTING\": \"Female\", \"MINORITY_DENOTING\": \"Minority\", \"JOBCAT_DENOTING\": \"Administration\", \"SOCIODEMOGRAPHY\": 2, \"SOCIODEMOGRAPHY_DENOTING\": \"Minority_Female\"}, {\"SALARY\": 16950, \"EDUC\": 12, \"SALBEGIN\": 9000, \"GENDER\": 0, \"MINORITY\": 1, \"JOBCAT\": 1, \"GENDER_DENOTING\": \"Female\", \"MINORITY_DENOTING\": \"Minority\", \"JOBCAT_DENOTING\": \"Administration\", \"SOCIODEMOGRAPHY\": 2, \"SOCIODEMOGRAPHY_DENOTING\": \"Minority_Female\"}, {\"SALARY\": 21150, \"EDUC\": 15, \"SALBEGIN\": 9000, \"GENDER\": 0, \"MINORITY\": 1, \"JOBCAT\": 1, \"GENDER_DENOTING\": \"Female\", \"MINORITY_DENOTING\": \"Minority\", \"JOBCAT_DENOTING\": \"Administration\", \"SOCIODEMOGRAPHY\": 2, \"SOCIODEMOGRAPHY_DENOTING\": \"Minority_Female\"}, {\"SALARY\": 31050, \"EDUC\": 15, \"SALBEGIN\": 12600, \"GENDER\": 1, \"MINORITY\": 0, \"JOBCAT\": 1, \"GENDER_DENOTING\": \"Male\", \"MINORITY_DENOTING\": \"White\", \"JOBCAT_DENOTING\": \"Administration\", \"SOCIODEMOGRAPHY\": 1, \"SOCIODEMOGRAPHY_DENOTING\": \"White_Male\"}, {\"SALARY\": 60375, \"EDUC\": 19, \"SALBEGIN\": 27480, \"GENDER\": 1, \"MINORITY\": 0, \"JOBCAT\": 3, \"GENDER_DENOTING\": \"Male\", \"MINORITY_DENOTING\": \"White\", \"JOBCAT_DENOTING\": \"Management\", \"SOCIODEMOGRAPHY\": 1, \"SOCIODEMOGRAPHY_DENOTING\": \"White_Male\"}, {\"SALARY\": 32550, \"EDUC\": 15, \"SALBEGIN\": 14250, \"GENDER\": 1, \"MINORITY\": 0, \"JOBCAT\": 1, \"GENDER_DENOTING\": \"Male\", \"MINORITY_DENOTING\": \"White\", \"JOBCAT_DENOTING\": \"Administration\", \"SOCIODEMOGRAPHY\": 1, \"SOCIODEMOGRAPHY_DENOTING\": \"White_Male\"}, {\"SALARY\": 135000, \"EDUC\": 19, \"SALBEGIN\": 79980, \"GENDER\": 1, \"MINORITY\": 0, \"JOBCAT\": 3, \"GENDER_DENOTING\": \"Male\", \"MINORITY_DENOTING\": \"White\", \"JOBCAT_DENOTING\": \"Management\", \"SOCIODEMOGRAPHY\": 1, \"SOCIODEMOGRAPHY_DENOTING\": \"White_Male\"}, {\"SALARY\": 31200, \"EDUC\": 15, \"SALBEGIN\": 14250, \"GENDER\": 1, \"MINORITY\": 0, \"JOBCAT\": 1, \"GENDER_DENOTING\": \"Male\", \"MINORITY_DENOTING\": \"White\", \"JOBCAT_DENOTING\": \"Administration\", \"SOCIODEMOGRAPHY\": 1, \"SOCIODEMOGRAPHY_DENOTING\": \"White_Male\"}, {\"SALARY\": 36150, \"EDUC\": 12, \"SALBEGIN\": 14250, \"GENDER\": 1, \"MINORITY\": 0, \"JOBCAT\": 1, \"GENDER_DENOTING\": \"Male\", \"MINORITY_DENOTING\": \"White\", \"JOBCAT_DENOTING\": \"Administration\", \"SOCIODEMOGRAPHY\": 1, \"SOCIODEMOGRAPHY_DENOTING\": \"White_Male\"}, {\"SALARY\": 110625, \"EDUC\": 19, \"SALBEGIN\": 45000, \"GENDER\": 1, \"MINORITY\": 0, \"JOBCAT\": 3, \"GENDER_DENOTING\": \"Male\", \"MINORITY_DENOTING\": \"White\", \"JOBCAT_DENOTING\": \"Management\", \"SOCIODEMOGRAPHY\": 1, \"SOCIODEMOGRAPHY_DENOTING\": \"White_Male\"}, {\"SALARY\": 42000, \"EDUC\": 15, \"SALBEGIN\": 15000, \"GENDER\": 1, \"MINORITY\": 0, \"JOBCAT\": 1, \"GENDER_DENOTING\": \"Male\", \"MINORITY_DENOTING\": \"White\", \"JOBCAT_DENOTING\": \"Administration\", \"SOCIODEMOGRAPHY\": 1, \"SOCIODEMOGRAPHY_DENOTING\": \"White_Male\"}, {\"SALARY\": 92000, \"EDUC\": 19, \"SALBEGIN\": 39990, \"GENDER\": 1, \"MINORITY\": 0, \"JOBCAT\": 3, \"GENDER_DENOTING\": \"Male\", \"MINORITY_DENOTING\": \"White\", \"JOBCAT_DENOTING\": \"Management\", \"SOCIODEMOGRAPHY\": 1, \"SOCIODEMOGRAPHY_DENOTING\": \"White_Male\"}, {\"SALARY\": 81250, \"EDUC\": 17, \"SALBEGIN\": 30000, \"GENDER\": 1, \"MINORITY\": 0, \"JOBCAT\": 3, \"GENDER_DENOTING\": \"Male\", \"MINORITY_DENOTING\": \"White\", \"JOBCAT_DENOTING\": \"Management\", \"SOCIODEMOGRAPHY\": 1, \"SOCIODEMOGRAPHY_DENOTING\": \"White_Male\"}, {\"SALARY\": 31350, \"EDUC\": 8, \"SALBEGIN\": 11250, \"GENDER\": 0, \"MINORITY\": 0, \"JOBCAT\": 1, \"GENDER_DENOTING\": \"Female\", \"MINORITY_DENOTING\": \"White\", \"JOBCAT_DENOTING\": \"Administration\", \"SOCIODEMOGRAPHY\": 0, \"SOCIODEMOGRAPHY_DENOTING\": \"White_Female\"}, {\"SALARY\": 29100, \"EDUC\": 12, \"SALBEGIN\": 13500, \"GENDER\": 1, \"MINORITY\": 1, \"JOBCAT\": 1, \"GENDER_DENOTING\": \"Male\", \"MINORITY_DENOTING\": \"Minority\", \"JOBCAT_DENOTING\": \"Administration\", \"SOCIODEMOGRAPHY\": 3, \"SOCIODEMOGRAPHY_DENOTING\": \"Minority_Male\"}, {\"SALARY\": 31350, \"EDUC\": 15, \"SALBEGIN\": 15000, \"GENDER\": 1, \"MINORITY\": 1, \"JOBCAT\": 1, \"GENDER_DENOTING\": \"Male\", \"MINORITY_DENOTING\": \"Minority\", \"JOBCAT_DENOTING\": \"Administration\", \"SOCIODEMOGRAPHY\": 3, \"SOCIODEMOGRAPHY_DENOTING\": \"Minority_Male\"}, {\"SALARY\": 36000, \"EDUC\": 16, \"SALBEGIN\": 15000, \"GENDER\": 1, \"MINORITY\": 1, \"JOBCAT\": 1, \"GENDER_DENOTING\": \"Male\", \"MINORITY_DENOTING\": \"Minority\", \"JOBCAT_DENOTING\": \"Administration\", \"SOCIODEMOGRAPHY\": 3, \"SOCIODEMOGRAPHY_DENOTING\": \"Minority_Male\"}, {\"SALARY\": 19200, \"EDUC\": 15, \"SALBEGIN\": 9000, \"GENDER\": 0, \"MINORITY\": 1, \"JOBCAT\": 1, \"GENDER_DENOTING\": \"Female\", \"MINORITY_DENOTING\": \"Minority\", \"JOBCAT_DENOTING\": \"Administration\", \"SOCIODEMOGRAPHY\": 2, \"SOCIODEMOGRAPHY_DENOTING\": \"Minority_Female\"}, {\"SALARY\": 23550, \"EDUC\": 12, \"SALBEGIN\": 11550, \"GENDER\": 0, \"MINORITY\": 1, \"JOBCAT\": 1, \"GENDER_DENOTING\": \"Female\", \"MINORITY_DENOTING\": \"Minority\", \"JOBCAT_DENOTING\": \"Administration\", \"SOCIODEMOGRAPHY\": 2, \"SOCIODEMOGRAPHY_DENOTING\": \"Minority_Female\"}, {\"SALARY\": 35100, \"EDUC\": 15, \"SALBEGIN\": 16500, \"GENDER\": 1, \"MINORITY\": 0, \"JOBCAT\": 1, \"GENDER_DENOTING\": \"Male\", \"MINORITY_DENOTING\": \"White\", \"JOBCAT_DENOTING\": \"Administration\", \"SOCIODEMOGRAPHY\": 1, \"SOCIODEMOGRAPHY_DENOTING\": \"White_Male\"}, {\"SALARY\": 23250, \"EDUC\": 12, \"SALBEGIN\": 14250, \"GENDER\": 1, \"MINORITY\": 0, \"JOBCAT\": 1, \"GENDER_DENOTING\": \"Male\", \"MINORITY_DENOTING\": \"White\", \"JOBCAT_DENOTING\": \"Administration\", \"SOCIODEMOGRAPHY\": 1, \"SOCIODEMOGRAPHY_DENOTING\": \"White_Male\"}, {\"SALARY\": 29250, \"EDUC\": 8, \"SALBEGIN\": 14250, \"GENDER\": 1, \"MINORITY\": 0, \"JOBCAT\": 1, \"GENDER_DENOTING\": \"Male\", \"MINORITY_DENOTING\": \"White\", \"JOBCAT_DENOTING\": \"Administration\", \"SOCIODEMOGRAPHY\": 1, \"SOCIODEMOGRAPHY_DENOTING\": \"White_Male\"}, {\"SALARY\": 30750, \"EDUC\": 12, \"SALBEGIN\": 13500, \"GENDER\": 1, \"MINORITY\": 0, \"JOBCAT\": 2, \"GENDER_DENOTING\": \"Male\", \"MINORITY_DENOTING\": \"White\", \"JOBCAT_DENOTING\": \"Custody\", \"SOCIODEMOGRAPHY\": 1, \"SOCIODEMOGRAPHY_DENOTING\": \"White_Male\"}, {\"SALARY\": 22350, \"EDUC\": 15, \"SALBEGIN\": 12750, \"GENDER\": 0, \"MINORITY\": 0, \"JOBCAT\": 1, \"GENDER_DENOTING\": \"Female\", \"MINORITY_DENOTING\": \"White\", \"JOBCAT_DENOTING\": \"Administration\", \"SOCIODEMOGRAPHY\": 0, \"SOCIODEMOGRAPHY_DENOTING\": \"White_Female\"}, {\"SALARY\": 30000, \"EDUC\": 12, \"SALBEGIN\": 16500, \"GENDER\": 0, \"MINORITY\": 0, \"JOBCAT\": 1, \"GENDER_DENOTING\": \"Female\", \"MINORITY_DENOTING\": \"White\", \"JOBCAT_DENOTING\": \"Administration\", \"SOCIODEMOGRAPHY\": 0, \"SOCIODEMOGRAPHY_DENOTING\": \"White_Female\"}, {\"SALARY\": 30750, \"EDUC\": 12, \"SALBEGIN\": 14100, \"GENDER\": 1, \"MINORITY\": 0, \"JOBCAT\": 2, \"GENDER_DENOTING\": \"Male\", \"MINORITY_DENOTING\": \"White\", \"JOBCAT_DENOTING\": \"Custody\", \"SOCIODEMOGRAPHY\": 1, \"SOCIODEMOGRAPHY_DENOTING\": \"White_Male\"}, {\"SALARY\": 34800, \"EDUC\": 15, \"SALBEGIN\": 16500, \"GENDER\": 1, \"MINORITY\": 0, \"JOBCAT\": 1, \"GENDER_DENOTING\": \"Male\", \"MINORITY_DENOTING\": \"White\", \"JOBCAT_DENOTING\": \"Administration\", \"SOCIODEMOGRAPHY\": 1, \"SOCIODEMOGRAPHY_DENOTING\": \"White_Male\"}, {\"SALARY\": 60000, \"EDUC\": 16, \"SALBEGIN\": 23730, \"GENDER\": 1, \"MINORITY\": 0, \"JOBCAT\": 3, \"GENDER_DENOTING\": \"Male\", \"MINORITY_DENOTING\": \"White\", \"JOBCAT_DENOTING\": \"Management\", \"SOCIODEMOGRAPHY\": 1, \"SOCIODEMOGRAPHY_DENOTING\": \"White_Male\"}, {\"SALARY\": 35550, \"EDUC\": 12, \"SALBEGIN\": 15000, \"GENDER\": 1, \"MINORITY\": 0, \"JOBCAT\": 1, \"GENDER_DENOTING\": \"Male\", \"MINORITY_DENOTING\": \"White\", \"JOBCAT_DENOTING\": \"Administration\", \"SOCIODEMOGRAPHY\": 1, \"SOCIODEMOGRAPHY_DENOTING\": \"White_Male\"}, {\"SALARY\": 45150, \"EDUC\": 15, \"SALBEGIN\": 15000, \"GENDER\": 1, \"MINORITY\": 0, \"JOBCAT\": 1, \"GENDER_DENOTING\": \"Male\", \"MINORITY_DENOTING\": \"White\", \"JOBCAT_DENOTING\": \"Administration\", \"SOCIODEMOGRAPHY\": 1, \"SOCIODEMOGRAPHY_DENOTING\": \"White_Male\"}, {\"SALARY\": 73750, \"EDUC\": 18, \"SALBEGIN\": 26250, \"GENDER\": 1, \"MINORITY\": 0, \"JOBCAT\": 3, \"GENDER_DENOTING\": \"Male\", \"MINORITY_DENOTING\": \"White\", \"JOBCAT_DENOTING\": \"Management\", \"SOCIODEMOGRAPHY\": 1, \"SOCIODEMOGRAPHY_DENOTING\": \"White_Male\"}, {\"SALARY\": 25050, \"EDUC\": 12, \"SALBEGIN\": 13500, \"GENDER\": 1, \"MINORITY\": 0, \"JOBCAT\": 1, \"GENDER_DENOTING\": \"Male\", \"MINORITY_DENOTING\": \"White\", \"JOBCAT_DENOTING\": \"Administration\", \"SOCIODEMOGRAPHY\": 1, \"SOCIODEMOGRAPHY_DENOTING\": \"White_Male\"}, {\"SALARY\": 27000, \"EDUC\": 12, \"SALBEGIN\": 15000, \"GENDER\": 1, \"MINORITY\": 0, \"JOBCAT\": 1, \"GENDER_DENOTING\": \"Male\", \"MINORITY_DENOTING\": \"White\", \"JOBCAT_DENOTING\": \"Administration\", \"SOCIODEMOGRAPHY\": 1, \"SOCIODEMOGRAPHY_DENOTING\": \"White_Male\"}, {\"SALARY\": 26850, \"EDUC\": 15, \"SALBEGIN\": 13500, \"GENDER\": 1, \"MINORITY\": 0, \"JOBCAT\": 1, \"GENDER_DENOTING\": \"Male\", \"MINORITY_DENOTING\": \"White\", \"JOBCAT_DENOTING\": \"Administration\", \"SOCIODEMOGRAPHY\": 1, \"SOCIODEMOGRAPHY_DENOTING\": \"White_Male\"}, {\"SALARY\": 33900, \"EDUC\": 15, \"SALBEGIN\": 15750, \"GENDER\": 1, \"MINORITY\": 0, \"JOBCAT\": 1, \"GENDER_DENOTING\": \"Male\", \"MINORITY_DENOTING\": \"White\", \"JOBCAT_DENOTING\": \"Administration\", \"SOCIODEMOGRAPHY\": 1, \"SOCIODEMOGRAPHY_DENOTING\": \"White_Male\"}, {\"SALARY\": 26400, \"EDUC\": 15, \"SALBEGIN\": 13500, \"GENDER\": 0, \"MINORITY\": 0, \"JOBCAT\": 1, \"GENDER_DENOTING\": \"Female\", \"MINORITY_DENOTING\": \"White\", \"JOBCAT_DENOTING\": \"Administration\", \"SOCIODEMOGRAPHY\": 0, \"SOCIODEMOGRAPHY_DENOTING\": \"White_Female\"}, {\"SALARY\": 28050, \"EDUC\": 15, \"SALBEGIN\": 14250, \"GENDER\": 1, \"MINORITY\": 1, \"JOBCAT\": 1, \"GENDER_DENOTING\": \"Male\", \"MINORITY_DENOTING\": \"Minority\", \"JOBCAT_DENOTING\": \"Administration\", \"SOCIODEMOGRAPHY\": 3, \"SOCIODEMOGRAPHY_DENOTING\": \"Minority_Male\"}, {\"SALARY\": 30900, \"EDUC\": 12, \"SALBEGIN\": 15000, \"GENDER\": 1, \"MINORITY\": 1, \"JOBCAT\": 1, \"GENDER_DENOTING\": \"Male\", \"MINORITY_DENOTING\": \"Minority\", \"JOBCAT_DENOTING\": \"Administration\", \"SOCIODEMOGRAPHY\": 3, \"SOCIODEMOGRAPHY_DENOTING\": \"Minority_Male\"}, {\"SALARY\": 22500, \"EDUC\": 8, \"SALBEGIN\": 9750, \"GENDER\": 1, \"MINORITY\": 1, \"JOBCAT\": 1, \"GENDER_DENOTING\": \"Male\", \"MINORITY_DENOTING\": \"Minority\", \"JOBCAT_DENOTING\": \"Administration\", \"SOCIODEMOGRAPHY\": 3, \"SOCIODEMOGRAPHY_DENOTING\": \"Minority_Male\"}, {\"SALARY\": 48000, \"EDUC\": 16, \"SALBEGIN\": 21750, \"GENDER\": 1, \"MINORITY\": 0, \"JOBCAT\": 3, \"GENDER_DENOTING\": \"Male\", \"MINORITY_DENOTING\": \"White\", \"JOBCAT_DENOTING\": \"Management\", \"SOCIODEMOGRAPHY\": 1, \"SOCIODEMOGRAPHY_DENOTING\": \"White_Male\"}, {\"SALARY\": 55000, \"EDUC\": 17, \"SALBEGIN\": 26250, \"GENDER\": 1, \"MINORITY\": 0, \"JOBCAT\": 3, \"GENDER_DENOTING\": \"Male\", \"MINORITY_DENOTING\": \"White\", \"JOBCAT_DENOTING\": \"Management\", \"SOCIODEMOGRAPHY\": 1, \"SOCIODEMOGRAPHY_DENOTING\": \"White_Male\"}, {\"SALARY\": 53125, \"EDUC\": 16, \"SALBEGIN\": 21000, \"GENDER\": 1, \"MINORITY\": 0, \"JOBCAT\": 3, \"GENDER_DENOTING\": \"Male\", \"MINORITY_DENOTING\": \"White\", \"JOBCAT_DENOTING\": \"Management\", \"SOCIODEMOGRAPHY\": 1, \"SOCIODEMOGRAPHY_DENOTING\": \"White_Male\"}, {\"SALARY\": 21900, \"EDUC\": 8, \"SALBEGIN\": 14550, \"GENDER\": 1, \"MINORITY\": 0, \"JOBCAT\": 1, \"GENDER_DENOTING\": \"Male\", \"MINORITY_DENOTING\": \"White\", \"JOBCAT_DENOTING\": \"Administration\", \"SOCIODEMOGRAPHY\": 1, \"SOCIODEMOGRAPHY_DENOTING\": \"White_Male\"}, {\"SALARY\": 78125, \"EDUC\": 19, \"SALBEGIN\": 30000, \"GENDER\": 1, \"MINORITY\": 0, \"JOBCAT\": 3, \"GENDER_DENOTING\": \"Male\", \"MINORITY_DENOTING\": \"White\", \"JOBCAT_DENOTING\": \"Management\", \"SOCIODEMOGRAPHY\": 1, \"SOCIODEMOGRAPHY_DENOTING\": \"White_Male\"}, {\"SALARY\": 46000, \"EDUC\": 16, \"SALBEGIN\": 21240, \"GENDER\": 1, \"MINORITY\": 0, \"JOBCAT\": 3, \"GENDER_DENOTING\": \"Male\", \"MINORITY_DENOTING\": \"White\", \"JOBCAT_DENOTING\": \"Management\", \"SOCIODEMOGRAPHY\": 1, \"SOCIODEMOGRAPHY_DENOTING\": \"White_Male\"}, {\"SALARY\": 45250, \"EDUC\": 16, \"SALBEGIN\": 21480, \"GENDER\": 1, \"MINORITY\": 0, \"JOBCAT\": 3, \"GENDER_DENOTING\": \"Male\", \"MINORITY_DENOTING\": \"White\", \"JOBCAT_DENOTING\": \"Management\", \"SOCIODEMOGRAPHY\": 1, \"SOCIODEMOGRAPHY_DENOTING\": \"White_Male\"}, {\"SALARY\": 56550, \"EDUC\": 16, \"SALBEGIN\": 25000, \"GENDER\": 1, \"MINORITY\": 0, \"JOBCAT\": 3, \"GENDER_DENOTING\": \"Male\", \"MINORITY_DENOTING\": \"White\", \"JOBCAT_DENOTING\": \"Management\", \"SOCIODEMOGRAPHY\": 1, \"SOCIODEMOGRAPHY_DENOTING\": \"White_Male\"}, {\"SALARY\": 41100, \"EDUC\": 15, \"SALBEGIN\": 20250, \"GENDER\": 1, \"MINORITY\": 0, \"JOBCAT\": 1, \"GENDER_DENOTING\": \"Male\", \"MINORITY_DENOTING\": \"White\", \"JOBCAT_DENOTING\": \"Administration\", \"SOCIODEMOGRAPHY\": 1, \"SOCIODEMOGRAPHY_DENOTING\": \"White_Male\"}, {\"SALARY\": 82500, \"EDUC\": 17, \"SALBEGIN\": 34980, \"GENDER\": 1, \"MINORITY\": 0, \"JOBCAT\": 3, \"GENDER_DENOTING\": \"Male\", \"MINORITY_DENOTING\": \"White\", \"JOBCAT_DENOTING\": \"Management\", \"SOCIODEMOGRAPHY\": 1, \"SOCIODEMOGRAPHY_DENOTING\": \"White_Male\"}, {\"SALARY\": 54000, \"EDUC\": 16, \"SALBEGIN\": 18000, \"GENDER\": 0, \"MINORITY\": 0, \"JOBCAT\": 1, \"GENDER_DENOTING\": \"Female\", \"MINORITY_DENOTING\": \"White\", \"JOBCAT_DENOTING\": \"Administration\", \"SOCIODEMOGRAPHY\": 0, \"SOCIODEMOGRAPHY_DENOTING\": \"White_Female\"}, {\"SALARY\": 26400, \"EDUC\": 12, \"SALBEGIN\": 10500, \"GENDER\": 0, \"MINORITY\": 0, \"JOBCAT\": 1, \"GENDER_DENOTING\": \"Female\", \"MINORITY_DENOTING\": \"White\", \"JOBCAT_DENOTING\": \"Administration\", \"SOCIODEMOGRAPHY\": 0, \"SOCIODEMOGRAPHY_DENOTING\": \"White_Female\"}, {\"SALARY\": 33900, \"EDUC\": 15, \"SALBEGIN\": 19500, \"GENDER\": 0, \"MINORITY\": 0, \"JOBCAT\": 1, \"GENDER_DENOTING\": \"Female\", \"MINORITY_DENOTING\": \"White\", \"JOBCAT_DENOTING\": \"Administration\", \"SOCIODEMOGRAPHY\": 0, \"SOCIODEMOGRAPHY_DENOTING\": \"White_Female\"}, {\"SALARY\": 24150, \"EDUC\": 15, \"SALBEGIN\": 11550, \"GENDER\": 0, \"MINORITY\": 0, \"JOBCAT\": 1, \"GENDER_DENOTING\": \"Female\", \"MINORITY_DENOTING\": \"White\", \"JOBCAT_DENOTING\": \"Administration\", \"SOCIODEMOGRAPHY\": 0, \"SOCIODEMOGRAPHY_DENOTING\": \"White_Female\"}, {\"SALARY\": 29250, \"EDUC\": 15, \"SALBEGIN\": 11550, \"GENDER\": 0, \"MINORITY\": 0, \"JOBCAT\": 1, \"GENDER_DENOTING\": \"Female\", \"MINORITY_DENOTING\": \"White\", \"JOBCAT_DENOTING\": \"Administration\", \"SOCIODEMOGRAPHY\": 0, \"SOCIODEMOGRAPHY_DENOTING\": \"White_Female\"}, {\"SALARY\": 27600, \"EDUC\": 12, \"SALBEGIN\": 11400, \"GENDER\": 0, \"MINORITY\": 0, \"JOBCAT\": 1, \"GENDER_DENOTING\": \"Female\", \"MINORITY_DENOTING\": \"White\", \"JOBCAT_DENOTING\": \"Administration\", \"SOCIODEMOGRAPHY\": 0, \"SOCIODEMOGRAPHY_DENOTING\": \"White_Female\"}, {\"SALARY\": 22950, \"EDUC\": 12, \"SALBEGIN\": 10500, \"GENDER\": 0, \"MINORITY\": 0, \"JOBCAT\": 1, \"GENDER_DENOTING\": \"Female\", \"MINORITY_DENOTING\": \"White\", \"JOBCAT_DENOTING\": \"Administration\", \"SOCIODEMOGRAPHY\": 0, \"SOCIODEMOGRAPHY_DENOTING\": \"White_Female\"}, {\"SALARY\": 34800, \"EDUC\": 16, \"SALBEGIN\": 14550, \"GENDER\": 0, \"MINORITY\": 0, \"JOBCAT\": 1, \"GENDER_DENOTING\": \"Female\", \"MINORITY_DENOTING\": \"White\", \"JOBCAT_DENOTING\": \"Administration\", \"SOCIODEMOGRAPHY\": 0, \"SOCIODEMOGRAPHY_DENOTING\": \"White_Female\"}, {\"SALARY\": 51000, \"EDUC\": 16, \"SALBEGIN\": 18000, \"GENDER\": 0, \"MINORITY\": 0, \"JOBCAT\": 1, \"GENDER_DENOTING\": \"Female\", \"MINORITY_DENOTING\": \"White\", \"JOBCAT_DENOTING\": \"Administration\", \"SOCIODEMOGRAPHY\": 0, \"SOCIODEMOGRAPHY_DENOTING\": \"White_Female\"}, {\"SALARY\": 24300, \"EDUC\": 12, \"SALBEGIN\": 10950, \"GENDER\": 0, \"MINORITY\": 0, \"JOBCAT\": 1, \"GENDER_DENOTING\": \"Female\", \"MINORITY_DENOTING\": \"White\", \"JOBCAT_DENOTING\": \"Administration\", \"SOCIODEMOGRAPHY\": 0, \"SOCIODEMOGRAPHY_DENOTING\": \"White_Female\"}, {\"SALARY\": 24750, \"EDUC\": 12, \"SALBEGIN\": 14250, \"GENDER\": 0, \"MINORITY\": 1, \"JOBCAT\": 1, \"GENDER_DENOTING\": \"Female\", \"MINORITY_DENOTING\": \"Minority\", \"JOBCAT_DENOTING\": \"Administration\", \"SOCIODEMOGRAPHY\": 2, \"SOCIODEMOGRAPHY_DENOTING\": \"Minority_Female\"}, {\"SALARY\": 22950, \"EDUC\": 12, \"SALBEGIN\": 11250, \"GENDER\": 0, \"MINORITY\": 1, \"JOBCAT\": 1, \"GENDER_DENOTING\": \"Female\", \"MINORITY_DENOTING\": \"Minority\", \"JOBCAT_DENOTING\": \"Administration\", \"SOCIODEMOGRAPHY\": 2, \"SOCIODEMOGRAPHY_DENOTING\": \"Minority_Female\"}, {\"SALARY\": 25050, \"EDUC\": 8, \"SALBEGIN\": 10950, \"GENDER\": 0, \"MINORITY\": 1, \"JOBCAT\": 1, \"GENDER_DENOTING\": \"Female\", \"MINORITY_DENOTING\": \"Minority\", \"JOBCAT_DENOTING\": \"Administration\", \"SOCIODEMOGRAPHY\": 2, \"SOCIODEMOGRAPHY_DENOTING\": \"Minority_Female\"}, {\"SALARY\": 25950, \"EDUC\": 15, \"SALBEGIN\": 17100, \"GENDER\": 1, \"MINORITY\": 0, \"JOBCAT\": 1, \"GENDER_DENOTING\": \"Male\", \"MINORITY_DENOTING\": \"White\", \"JOBCAT_DENOTING\": \"Administration\", \"SOCIODEMOGRAPHY\": 1, \"SOCIODEMOGRAPHY_DENOTING\": \"White_Male\"}, {\"SALARY\": 31650, \"EDUC\": 15, \"SALBEGIN\": 15750, \"GENDER\": 1, \"MINORITY\": 0, \"JOBCAT\": 1, \"GENDER_DENOTING\": \"Male\", \"MINORITY_DENOTING\": \"White\", \"JOBCAT_DENOTING\": \"Administration\", \"SOCIODEMOGRAPHY\": 1, \"SOCIODEMOGRAPHY_DENOTING\": \"White_Male\"}, {\"SALARY\": 24150, \"EDUC\": 12, \"SALBEGIN\": 14100, \"GENDER\": 1, \"MINORITY\": 0, \"JOBCAT\": 1, \"GENDER_DENOTING\": \"Male\", \"MINORITY_DENOTING\": \"White\", \"JOBCAT_DENOTING\": \"Administration\", \"SOCIODEMOGRAPHY\": 1, \"SOCIODEMOGRAPHY_DENOTING\": \"White_Male\"}, {\"SALARY\": 72500, \"EDUC\": 19, \"SALBEGIN\": 28740, \"GENDER\": 1, \"MINORITY\": 0, \"JOBCAT\": 3, \"GENDER_DENOTING\": \"Male\", \"MINORITY_DENOTING\": \"White\", \"JOBCAT_DENOTING\": \"Management\", \"SOCIODEMOGRAPHY\": 1, \"SOCIODEMOGRAPHY_DENOTING\": \"White_Male\"}, {\"SALARY\": 68750, \"EDUC\": 19, \"SALBEGIN\": 27480, \"GENDER\": 1, \"MINORITY\": 0, \"JOBCAT\": 3, \"GENDER_DENOTING\": \"Male\", \"MINORITY_DENOTING\": \"White\", \"JOBCAT_DENOTING\": \"Management\", \"SOCIODEMOGRAPHY\": 1, \"SOCIODEMOGRAPHY_DENOTING\": \"White_Male\"}, {\"SALARY\": 16200, \"EDUC\": 8, \"SALBEGIN\": 9750, \"GENDER\": 0, \"MINORITY\": 0, \"JOBCAT\": 1, \"GENDER_DENOTING\": \"Female\", \"MINORITY_DENOTING\": \"White\", \"JOBCAT_DENOTING\": \"Administration\", \"SOCIODEMOGRAPHY\": 0, \"SOCIODEMOGRAPHY_DENOTING\": \"White_Female\"}, {\"SALARY\": 20100, \"EDUC\": 12, \"SALBEGIN\": 11250, \"GENDER\": 0, \"MINORITY\": 0, \"JOBCAT\": 1, \"GENDER_DENOTING\": \"Female\", \"MINORITY_DENOTING\": \"White\", \"JOBCAT_DENOTING\": \"Administration\", \"SOCIODEMOGRAPHY\": 0, \"SOCIODEMOGRAPHY_DENOTING\": \"White_Female\"}, {\"SALARY\": 24000, \"EDUC\": 8, \"SALBEGIN\": 10950, \"GENDER\": 0, \"MINORITY\": 0, \"JOBCAT\": 1, \"GENDER_DENOTING\": \"Female\", \"MINORITY_DENOTING\": \"White\", \"JOBCAT_DENOTING\": \"Administration\", \"SOCIODEMOGRAPHY\": 0, \"SOCIODEMOGRAPHY_DENOTING\": \"White_Female\"}, {\"SALARY\": 25950, \"EDUC\": 12, \"SALBEGIN\": 10950, \"GENDER\": 0, \"MINORITY\": 0, \"JOBCAT\": 1, \"GENDER_DENOTING\": \"Female\", \"MINORITY_DENOTING\": \"White\", \"JOBCAT_DENOTING\": \"Administration\", \"SOCIODEMOGRAPHY\": 0, \"SOCIODEMOGRAPHY_DENOTING\": \"White_Female\"}, {\"SALARY\": 24600, \"EDUC\": 12, \"SALBEGIN\": 10050, \"GENDER\": 0, \"MINORITY\": 0, \"JOBCAT\": 1, \"GENDER_DENOTING\": \"Female\", \"MINORITY_DENOTING\": \"White\", \"JOBCAT_DENOTING\": \"Administration\", \"SOCIODEMOGRAPHY\": 0, \"SOCIODEMOGRAPHY_DENOTING\": \"White_Female\"}, {\"SALARY\": 28500, \"EDUC\": 12, \"SALBEGIN\": 10500, \"GENDER\": 0, \"MINORITY\": 0, \"JOBCAT\": 1, \"GENDER_DENOTING\": \"Female\", \"MINORITY_DENOTING\": \"White\", \"JOBCAT_DENOTING\": \"Administration\", \"SOCIODEMOGRAPHY\": 0, \"SOCIODEMOGRAPHY_DENOTING\": \"White_Female\"}, {\"SALARY\": 30750, \"EDUC\": 8, \"SALBEGIN\": 15000, \"GENDER\": 1, \"MINORITY\": 1, \"JOBCAT\": 2, \"GENDER_DENOTING\": \"Male\", \"MINORITY_DENOTING\": \"Minority\", \"JOBCAT_DENOTING\": \"Custody\", \"SOCIODEMOGRAPHY\": 3, \"SOCIODEMOGRAPHY_DENOTING\": \"Minority_Male\"}, {\"SALARY\": 40200, \"EDUC\": 17, \"SALBEGIN\": 19500, \"GENDER\": 1, \"MINORITY\": 1, \"JOBCAT\": 1, \"GENDER_DENOTING\": \"Male\", \"MINORITY_DENOTING\": \"Minority\", \"JOBCAT_DENOTING\": \"Administration\", \"SOCIODEMOGRAPHY\": 3, \"SOCIODEMOGRAPHY_DENOTING\": \"Minority_Male\"}, {\"SALARY\": 30000, \"EDUC\": 8, \"SALBEGIN\": 15000, \"GENDER\": 1, \"MINORITY\": 1, \"JOBCAT\": 2, \"GENDER_DENOTING\": \"Male\", \"MINORITY_DENOTING\": \"Minority\", \"JOBCAT_DENOTING\": \"Custody\", \"SOCIODEMOGRAPHY\": 3, \"SOCIODEMOGRAPHY_DENOTING\": \"Minority_Male\"}, {\"SALARY\": 22050, \"EDUC\": 12, \"SALBEGIN\": 10950, \"GENDER\": 0, \"MINORITY\": 1, \"JOBCAT\": 1, \"GENDER_DENOTING\": \"Female\", \"MINORITY_DENOTING\": \"Minority\", \"JOBCAT_DENOTING\": \"Administration\", \"SOCIODEMOGRAPHY\": 2, \"SOCIODEMOGRAPHY_DENOTING\": \"Minority_Female\"}, {\"SALARY\": 78250, \"EDUC\": 18, \"SALBEGIN\": 27480, \"GENDER\": 1, \"MINORITY\": 0, \"JOBCAT\": 3, \"GENDER_DENOTING\": \"Male\", \"MINORITY_DENOTING\": \"White\", \"JOBCAT_DENOTING\": \"Management\", \"SOCIODEMOGRAPHY\": 1, \"SOCIODEMOGRAPHY_DENOTING\": \"White_Male\"}, {\"SALARY\": 60625, \"EDUC\": 16, \"SALBEGIN\": 22500, \"GENDER\": 1, \"MINORITY\": 0, \"JOBCAT\": 3, \"GENDER_DENOTING\": \"Male\", \"MINORITY_DENOTING\": \"White\", \"JOBCAT_DENOTING\": \"Management\", \"SOCIODEMOGRAPHY\": 1, \"SOCIODEMOGRAPHY_DENOTING\": \"White_Male\"}, {\"SALARY\": 39900, \"EDUC\": 14, \"SALBEGIN\": 15750, \"GENDER\": 1, \"MINORITY\": 0, \"JOBCAT\": 1, \"GENDER_DENOTING\": \"Male\", \"MINORITY_DENOTING\": \"White\", \"JOBCAT_DENOTING\": \"Administration\", \"SOCIODEMOGRAPHY\": 1, \"SOCIODEMOGRAPHY_DENOTING\": \"White_Male\"}, {\"SALARY\": 97000, \"EDUC\": 19, \"SALBEGIN\": 35010, \"GENDER\": 1, \"MINORITY\": 0, \"JOBCAT\": 3, \"GENDER_DENOTING\": \"Male\", \"MINORITY_DENOTING\": \"White\", \"JOBCAT_DENOTING\": \"Management\", \"SOCIODEMOGRAPHY\": 1, \"SOCIODEMOGRAPHY_DENOTING\": \"White_Male\"}, {\"SALARY\": 27450, \"EDUC\": 15, \"SALBEGIN\": 15750, \"GENDER\": 1, \"MINORITY\": 0, \"JOBCAT\": 1, \"GENDER_DENOTING\": \"Male\", \"MINORITY_DENOTING\": \"White\", \"JOBCAT_DENOTING\": \"Administration\", \"SOCIODEMOGRAPHY\": 1, \"SOCIODEMOGRAPHY_DENOTING\": \"White_Male\"}, {\"SALARY\": 31650, \"EDUC\": 15, \"SALBEGIN\": 13500, \"GENDER\": 1, \"MINORITY\": 0, \"JOBCAT\": 1, \"GENDER_DENOTING\": \"Male\", \"MINORITY_DENOTING\": \"White\", \"JOBCAT_DENOTING\": \"Administration\", \"SOCIODEMOGRAPHY\": 1, \"SOCIODEMOGRAPHY_DENOTING\": \"White_Male\"}, {\"SALARY\": 91250, \"EDUC\": 19, \"SALBEGIN\": 29490, \"GENDER\": 1, \"MINORITY\": 0, \"JOBCAT\": 3, \"GENDER_DENOTING\": \"Male\", \"MINORITY_DENOTING\": \"White\", \"JOBCAT_DENOTING\": \"Management\", \"SOCIODEMOGRAPHY\": 1, \"SOCIODEMOGRAPHY_DENOTING\": \"White_Male\"}, {\"SALARY\": 25200, \"EDUC\": 12, \"SALBEGIN\": 14400, \"GENDER\": 0, \"MINORITY\": 0, \"JOBCAT\": 1, \"GENDER_DENOTING\": \"Female\", \"MINORITY_DENOTING\": \"White\", \"JOBCAT_DENOTING\": \"Administration\", \"SOCIODEMOGRAPHY\": 0, \"SOCIODEMOGRAPHY_DENOTING\": \"White_Female\"}, {\"SALARY\": 21000, \"EDUC\": 12, \"SALBEGIN\": 11550, \"GENDER\": 0, \"MINORITY\": 0, \"JOBCAT\": 1, \"GENDER_DENOTING\": \"Female\", \"MINORITY_DENOTING\": \"White\", \"JOBCAT_DENOTING\": \"Administration\", \"SOCIODEMOGRAPHY\": 0, \"SOCIODEMOGRAPHY_DENOTING\": \"White_Female\"}, {\"SALARY\": 30450, \"EDUC\": 12, \"SALBEGIN\": 15000, \"GENDER\": 1, \"MINORITY\": 1, \"JOBCAT\": 1, \"GENDER_DENOTING\": \"Male\", \"MINORITY_DENOTING\": \"Minority\", \"JOBCAT_DENOTING\": \"Administration\", \"SOCIODEMOGRAPHY\": 3, \"SOCIODEMOGRAPHY_DENOTING\": \"Minority_Male\"}, {\"SALARY\": 28350, \"EDUC\": 15, \"SALBEGIN\": 18000, \"GENDER\": 1, \"MINORITY\": 1, \"JOBCAT\": 1, \"GENDER_DENOTING\": \"Male\", \"MINORITY_DENOTING\": \"Minority\", \"JOBCAT_DENOTING\": \"Administration\", \"SOCIODEMOGRAPHY\": 3, \"SOCIODEMOGRAPHY_DENOTING\": \"Minority_Male\"}, {\"SALARY\": 30750, \"EDUC\": 12, \"SALBEGIN\": 9000, \"GENDER\": 1, \"MINORITY\": 1, \"JOBCAT\": 2, \"GENDER_DENOTING\": \"Male\", \"MINORITY_DENOTING\": \"Minority\", \"JOBCAT_DENOTING\": \"Custody\", \"SOCIODEMOGRAPHY\": 3, \"SOCIODEMOGRAPHY_DENOTING\": \"Minority_Male\"}, {\"SALARY\": 30750, \"EDUC\": 12, \"SALBEGIN\": 15000, \"GENDER\": 1, \"MINORITY\": 1, \"JOBCAT\": 2, \"GENDER_DENOTING\": \"Male\", \"MINORITY_DENOTING\": \"Minority\", \"JOBCAT_DENOTING\": \"Custody\", \"SOCIODEMOGRAPHY\": 3, \"SOCIODEMOGRAPHY_DENOTING\": \"Minority_Male\"}, {\"SALARY\": 54875, \"EDUC\": 16, \"SALBEGIN\": 27480, \"GENDER\": 1, \"MINORITY\": 0, \"JOBCAT\": 3, \"GENDER_DENOTING\": \"Male\", \"MINORITY_DENOTING\": \"White\", \"JOBCAT_DENOTING\": \"Management\", \"SOCIODEMOGRAPHY\": 1, \"SOCIODEMOGRAPHY_DENOTING\": \"White_Male\"}, {\"SALARY\": 37800, \"EDUC\": 14, \"SALBEGIN\": 16500, \"GENDER\": 1, \"MINORITY\": 0, \"JOBCAT\": 1, \"GENDER_DENOTING\": \"Male\", \"MINORITY_DENOTING\": \"White\", \"JOBCAT_DENOTING\": \"Administration\", \"SOCIODEMOGRAPHY\": 1, \"SOCIODEMOGRAPHY_DENOTING\": \"White_Male\"}, {\"SALARY\": 33450, \"EDUC\": 15, \"SALBEGIN\": 14100, \"GENDER\": 1, \"MINORITY\": 0, \"JOBCAT\": 1, \"GENDER_DENOTING\": \"Male\", \"MINORITY_DENOTING\": \"White\", \"JOBCAT_DENOTING\": \"Administration\", \"SOCIODEMOGRAPHY\": 1, \"SOCIODEMOGRAPHY_DENOTING\": \"White_Male\"}, {\"SALARY\": 30300, \"EDUC\": 15, \"SALBEGIN\": 16500, \"GENDER\": 1, \"MINORITY\": 0, \"JOBCAT\": 1, \"GENDER_DENOTING\": \"Male\", \"MINORITY_DENOTING\": \"White\", \"JOBCAT_DENOTING\": \"Administration\", \"SOCIODEMOGRAPHY\": 1, \"SOCIODEMOGRAPHY_DENOTING\": \"White_Male\"}, {\"SALARY\": 31500, \"EDUC\": 12, \"SALBEGIN\": 18750, \"GENDER\": 0, \"MINORITY\": 0, \"JOBCAT\": 1, \"GENDER_DENOTING\": \"Female\", \"MINORITY_DENOTING\": \"White\", \"JOBCAT_DENOTING\": \"Administration\", \"SOCIODEMOGRAPHY\": 0, \"SOCIODEMOGRAPHY_DENOTING\": \"White_Female\"}, {\"SALARY\": 31650, \"EDUC\": 12, \"SALBEGIN\": 14250, \"GENDER\": 0, \"MINORITY\": 0, \"JOBCAT\": 1, \"GENDER_DENOTING\": \"Female\", \"MINORITY_DENOTING\": \"White\", \"JOBCAT_DENOTING\": \"Administration\", \"SOCIODEMOGRAPHY\": 0, \"SOCIODEMOGRAPHY_DENOTING\": \"White_Female\"}, {\"SALARY\": 25200, \"EDUC\": 12, \"SALBEGIN\": 14100, \"GENDER\": 0, \"MINORITY\": 0, \"JOBCAT\": 1, \"GENDER_DENOTING\": \"Female\", \"MINORITY_DENOTING\": \"White\", \"JOBCAT_DENOTING\": \"Administration\", \"SOCIODEMOGRAPHY\": 0, \"SOCIODEMOGRAPHY_DENOTING\": \"White_Female\"}, {\"SALARY\": 37800, \"EDUC\": 16, \"SALBEGIN\": 15750, \"GENDER\": 0, \"MINORITY\": 0, \"JOBCAT\": 3, \"GENDER_DENOTING\": \"Female\", \"MINORITY_DENOTING\": \"White\", \"JOBCAT_DENOTING\": \"Management\", \"SOCIODEMOGRAPHY\": 0, \"SOCIODEMOGRAPHY_DENOTING\": \"White_Female\"}, {\"SALARY\": 18750, \"EDUC\": 15, \"SALBEGIN\": 10500, \"GENDER\": 0, \"MINORITY\": 0, \"JOBCAT\": 1, \"GENDER_DENOTING\": \"Female\", \"MINORITY_DENOTING\": \"White\", \"JOBCAT_DENOTING\": \"Administration\", \"SOCIODEMOGRAPHY\": 0, \"SOCIODEMOGRAPHY_DENOTING\": \"White_Female\"}, {\"SALARY\": 32550, \"EDUC\": 15, \"SALBEGIN\": 13500, \"GENDER\": 0, \"MINORITY\": 0, \"JOBCAT\": 1, \"GENDER_DENOTING\": \"Female\", \"MINORITY_DENOTING\": \"White\", \"JOBCAT_DENOTING\": \"Administration\", \"SOCIODEMOGRAPHY\": 0, \"SOCIODEMOGRAPHY_DENOTING\": \"White_Female\"}, {\"SALARY\": 33300, \"EDUC\": 12, \"SALBEGIN\": 15000, \"GENDER\": 0, \"MINORITY\": 0, \"JOBCAT\": 1, \"GENDER_DENOTING\": \"Female\", \"MINORITY_DENOTING\": \"White\", \"JOBCAT_DENOTING\": \"Administration\", \"SOCIODEMOGRAPHY\": 0, \"SOCIODEMOGRAPHY_DENOTING\": \"White_Female\"}, {\"SALARY\": 38550, \"EDUC\": 16, \"SALBEGIN\": 16500, \"GENDER\": 0, \"MINORITY\": 0, \"JOBCAT\": 1, \"GENDER_DENOTING\": \"Female\", \"MINORITY_DENOTING\": \"White\", \"JOBCAT_DENOTING\": \"Administration\", \"SOCIODEMOGRAPHY\": 0, \"SOCIODEMOGRAPHY_DENOTING\": \"White_Female\"}, {\"SALARY\": 27450, \"EDUC\": 12, \"SALBEGIN\": 15000, \"GENDER\": 1, \"MINORITY\": 1, \"JOBCAT\": 1, \"GENDER_DENOTING\": \"Male\", \"MINORITY_DENOTING\": \"Minority\", \"JOBCAT_DENOTING\": \"Administration\", \"SOCIODEMOGRAPHY\": 3, \"SOCIODEMOGRAPHY_DENOTING\": \"Minority_Male\"}, {\"SALARY\": 24300, \"EDUC\": 15, \"SALBEGIN\": 15000, \"GENDER\": 1, \"MINORITY\": 1, \"JOBCAT\": 2, \"GENDER_DENOTING\": \"Male\", \"MINORITY_DENOTING\": \"Minority\", \"JOBCAT_DENOTING\": \"Custody\", \"SOCIODEMOGRAPHY\": 3, \"SOCIODEMOGRAPHY_DENOTING\": \"Minority_Male\"}, {\"SALARY\": 30750, \"EDUC\": 12, \"SALBEGIN\": 15000, \"GENDER\": 1, \"MINORITY\": 1, \"JOBCAT\": 2, \"GENDER_DENOTING\": \"Male\", \"MINORITY_DENOTING\": \"Minority\", \"JOBCAT_DENOTING\": \"Custody\", \"SOCIODEMOGRAPHY\": 3, \"SOCIODEMOGRAPHY_DENOTING\": \"Minority_Male\"}, {\"SALARY\": 19650, \"EDUC\": 12, \"SALBEGIN\": 9750, \"GENDER\": 0, \"MINORITY\": 1, \"JOBCAT\": 1, \"GENDER_DENOTING\": \"Female\", \"MINORITY_DENOTING\": \"Minority\", \"JOBCAT_DENOTING\": \"Administration\", \"SOCIODEMOGRAPHY\": 2, \"SOCIODEMOGRAPHY_DENOTING\": \"Minority_Female\"}, {\"SALARY\": 68750, \"EDUC\": 17, \"SALBEGIN\": 27510, \"GENDER\": 1, \"MINORITY\": 0, \"JOBCAT\": 3, \"GENDER_DENOTING\": \"Male\", \"MINORITY_DENOTING\": \"White\", \"JOBCAT_DENOTING\": \"Management\", \"SOCIODEMOGRAPHY\": 1, \"SOCIODEMOGRAPHY_DENOTING\": \"White_Male\"}, {\"SALARY\": 59375, \"EDUC\": 20, \"SALBEGIN\": 30000, \"GENDER\": 1, \"MINORITY\": 0, \"JOBCAT\": 3, \"GENDER_DENOTING\": \"Male\", \"MINORITY_DENOTING\": \"White\", \"JOBCAT_DENOTING\": \"Management\", \"SOCIODEMOGRAPHY\": 1, \"SOCIODEMOGRAPHY_DENOTING\": \"White_Male\"}, {\"SALARY\": 31500, \"EDUC\": 15, \"SALBEGIN\": 15750, \"GENDER\": 1, \"MINORITY\": 0, \"JOBCAT\": 1, \"GENDER_DENOTING\": \"Male\", \"MINORITY_DENOTING\": \"White\", \"JOBCAT_DENOTING\": \"Administration\", \"SOCIODEMOGRAPHY\": 1, \"SOCIODEMOGRAPHY_DENOTING\": \"White_Male\"}, {\"SALARY\": 27300, \"EDUC\": 12, \"SALBEGIN\": 17250, \"GENDER\": 1, \"MINORITY\": 0, \"JOBCAT\": 1, \"GENDER_DENOTING\": \"Male\", \"MINORITY_DENOTING\": \"White\", \"JOBCAT_DENOTING\": \"Administration\", \"SOCIODEMOGRAPHY\": 1, \"SOCIODEMOGRAPHY_DENOTING\": \"White_Male\"}, {\"SALARY\": 27000, \"EDUC\": 15, \"SALBEGIN\": 15750, \"GENDER\": 1, \"MINORITY\": 0, \"JOBCAT\": 1, \"GENDER_DENOTING\": \"Male\", \"MINORITY_DENOTING\": \"White\", \"JOBCAT_DENOTING\": \"Administration\", \"SOCIODEMOGRAPHY\": 1, \"SOCIODEMOGRAPHY_DENOTING\": \"White_Male\"}, {\"SALARY\": 41550, \"EDUC\": 16, \"SALBEGIN\": 24990, \"GENDER\": 0, \"MINORITY\": 0, \"JOBCAT\": 3, \"GENDER_DENOTING\": \"Female\", \"MINORITY_DENOTING\": \"White\", \"JOBCAT_DENOTING\": \"Management\", \"SOCIODEMOGRAPHY\": 0, \"SOCIODEMOGRAPHY_DENOTING\": \"White_Female\"}, {\"SALARY\": 26250, \"EDUC\": 12, \"SALBEGIN\": 10950, \"GENDER\": 0, \"MINORITY\": 0, \"JOBCAT\": 1, \"GENDER_DENOTING\": \"Female\", \"MINORITY_DENOTING\": \"White\", \"JOBCAT_DENOTING\": \"Administration\", \"SOCIODEMOGRAPHY\": 0, \"SOCIODEMOGRAPHY_DENOTING\": \"White_Female\"}, {\"SALARY\": 22200, \"EDUC\": 12, \"SALBEGIN\": 15000, \"GENDER\": 1, \"MINORITY\": 0, \"JOBCAT\": 1, \"GENDER_DENOTING\": \"Male\", \"MINORITY_DENOTING\": \"White\", \"JOBCAT_DENOTING\": \"Administration\", \"SOCIODEMOGRAPHY\": 1, \"SOCIODEMOGRAPHY_DENOTING\": \"White_Male\"}, {\"SALARY\": 65000, \"EDUC\": 21, \"SALBEGIN\": 37500, \"GENDER\": 1, \"MINORITY\": 0, \"JOBCAT\": 3, \"GENDER_DENOTING\": \"Male\", \"MINORITY_DENOTING\": \"White\", \"JOBCAT_DENOTING\": \"Management\", \"SOCIODEMOGRAPHY\": 1, \"SOCIODEMOGRAPHY_DENOTING\": \"White_Male\"}, {\"SALARY\": 30900, \"EDUC\": 12, \"SALBEGIN\": 15000, \"GENDER\": 1, \"MINORITY\": 0, \"JOBCAT\": 1, \"GENDER_DENOTING\": \"Male\", \"MINORITY_DENOTING\": \"White\", \"JOBCAT_DENOTING\": \"Administration\", \"SOCIODEMOGRAPHY\": 1, \"SOCIODEMOGRAPHY_DENOTING\": \"White_Male\"}, {\"SALARY\": 20100, \"EDUC\": 8, \"SALBEGIN\": 13200, \"GENDER\": 0, \"MINORITY\": 0, \"JOBCAT\": 1, \"GENDER_DENOTING\": \"Female\", \"MINORITY_DENOTING\": \"White\", \"JOBCAT_DENOTING\": \"Administration\", \"SOCIODEMOGRAPHY\": 0, \"SOCIODEMOGRAPHY_DENOTING\": \"White_Female\"}, {\"SALARY\": 22350, \"EDUC\": 12, \"SALBEGIN\": 13500, \"GENDER\": 0, \"MINORITY\": 0, \"JOBCAT\": 1, \"GENDER_DENOTING\": \"Female\", \"MINORITY_DENOTING\": \"White\", \"JOBCAT_DENOTING\": \"Administration\", \"SOCIODEMOGRAPHY\": 0, \"SOCIODEMOGRAPHY_DENOTING\": \"White_Female\"}, {\"SALARY\": 35550, \"EDUC\": 15, \"SALBEGIN\": 13350, \"GENDER\": 0, \"MINORITY\": 0, \"JOBCAT\": 1, \"GENDER_DENOTING\": \"Female\", \"MINORITY_DENOTING\": \"White\", \"JOBCAT_DENOTING\": \"Administration\", \"SOCIODEMOGRAPHY\": 0, \"SOCIODEMOGRAPHY_DENOTING\": \"White_Female\"}, {\"SALARY\": 28500, \"EDUC\": 12, \"SALBEGIN\": 13950, \"GENDER\": 0, \"MINORITY\": 0, \"JOBCAT\": 1, \"GENDER_DENOTING\": \"Female\", \"MINORITY_DENOTING\": \"White\", \"JOBCAT_DENOTING\": \"Administration\", \"SOCIODEMOGRAPHY\": 0, \"SOCIODEMOGRAPHY_DENOTING\": \"White_Female\"}, {\"SALARY\": 24450, \"EDUC\": 12, \"SALBEGIN\": 13200, \"GENDER\": 0, \"MINORITY\": 0, \"JOBCAT\": 1, \"GENDER_DENOTING\": \"Female\", \"MINORITY_DENOTING\": \"White\", \"JOBCAT_DENOTING\": \"Administration\", \"SOCIODEMOGRAPHY\": 0, \"SOCIODEMOGRAPHY_DENOTING\": \"White_Female\"}, {\"SALARY\": 16650, \"EDUC\": 8, \"SALBEGIN\": 9750, \"GENDER\": 0, \"MINORITY\": 0, \"JOBCAT\": 1, \"GENDER_DENOTING\": \"Female\", \"MINORITY_DENOTING\": \"White\", \"JOBCAT_DENOTING\": \"Administration\", \"SOCIODEMOGRAPHY\": 0, \"SOCIODEMOGRAPHY_DENOTING\": \"White_Female\"}, {\"SALARY\": 26700, \"EDUC\": 12, \"SALBEGIN\": 13500, \"GENDER\": 1, \"MINORITY\": 1, \"JOBCAT\": 1, \"GENDER_DENOTING\": \"Male\", \"MINORITY_DENOTING\": \"Minority\", \"JOBCAT_DENOTING\": \"Administration\", \"SOCIODEMOGRAPHY\": 3, \"SOCIODEMOGRAPHY_DENOTING\": \"Minority_Male\"}, {\"SALARY\": 43950, \"EDUC\": 18, \"SALBEGIN\": 23250, \"GENDER\": 1, \"MINORITY\": 1, \"JOBCAT\": 1, \"GENDER_DENOTING\": \"Male\", \"MINORITY_DENOTING\": \"Minority\", \"JOBCAT_DENOTING\": \"Administration\", \"SOCIODEMOGRAPHY\": 3, \"SOCIODEMOGRAPHY_DENOTING\": \"Minority_Male\"}, {\"SALARY\": 23700, \"EDUC\": 15, \"SALBEGIN\": 13500, \"GENDER\": 1, \"MINORITY\": 1, \"JOBCAT\": 1, \"GENDER_DENOTING\": \"Male\", \"MINORITY_DENOTING\": \"Minority\", \"JOBCAT_DENOTING\": \"Administration\", \"SOCIODEMOGRAPHY\": 3, \"SOCIODEMOGRAPHY_DENOTING\": \"Minority_Male\"}, {\"SALARY\": 26550, \"EDUC\": 15, \"SALBEGIN\": 14250, \"GENDER\": 0, \"MINORITY\": 1, \"JOBCAT\": 1, \"GENDER_DENOTING\": \"Female\", \"MINORITY_DENOTING\": \"Minority\", \"JOBCAT_DENOTING\": \"Administration\", \"SOCIODEMOGRAPHY\": 2, \"SOCIODEMOGRAPHY_DENOTING\": \"Minority_Female\"}, {\"SALARY\": 27600, \"EDUC\": 12, \"SALBEGIN\": 15000, \"GENDER\": 1, \"MINORITY\": 0, \"JOBCAT\": 1, \"GENDER_DENOTING\": \"Male\", \"MINORITY_DENOTING\": \"White\", \"JOBCAT_DENOTING\": \"Administration\", \"SOCIODEMOGRAPHY\": 1, \"SOCIODEMOGRAPHY_DENOTING\": \"White_Male\"}, {\"SALARY\": 25800, \"EDUC\": 12, \"SALBEGIN\": 15000, \"GENDER\": 1, \"MINORITY\": 0, \"JOBCAT\": 1, \"GENDER_DENOTING\": \"Male\", \"MINORITY_DENOTING\": \"White\", \"JOBCAT_DENOTING\": \"Administration\", \"SOCIODEMOGRAPHY\": 1, \"SOCIODEMOGRAPHY_DENOTING\": \"White_Male\"}, {\"SALARY\": 42300, \"EDUC\": 16, \"SALBEGIN\": 26250, \"GENDER\": 1, \"MINORITY\": 0, \"JOBCAT\": 3, \"GENDER_DENOTING\": \"Male\", \"MINORITY_DENOTING\": \"White\", \"JOBCAT_DENOTING\": \"Management\", \"SOCIODEMOGRAPHY\": 1, \"SOCIODEMOGRAPHY_DENOTING\": \"White_Male\"}, {\"SALARY\": 30750, \"EDUC\": 8, \"SALBEGIN\": 15000, \"GENDER\": 1, \"MINORITY\": 0, \"JOBCAT\": 2, \"GENDER_DENOTING\": \"Male\", \"MINORITY_DENOTING\": \"White\", \"JOBCAT_DENOTING\": \"Custody\", \"SOCIODEMOGRAPHY\": 1, \"SOCIODEMOGRAPHY_DENOTING\": \"White_Male\"}, {\"SALARY\": 26700, \"EDUC\": 12, \"SALBEGIN\": 12900, \"GENDER\": 0, \"MINORITY\": 0, \"JOBCAT\": 1, \"GENDER_DENOTING\": \"Female\", \"MINORITY_DENOTING\": \"White\", \"JOBCAT_DENOTING\": \"Administration\", \"SOCIODEMOGRAPHY\": 0, \"SOCIODEMOGRAPHY_DENOTING\": \"White_Female\"}, {\"SALARY\": 20850, \"EDUC\": 12, \"SALBEGIN\": 12000, \"GENDER\": 0, \"MINORITY\": 0, \"JOBCAT\": 1, \"GENDER_DENOTING\": \"Female\", \"MINORITY_DENOTING\": \"White\", \"JOBCAT_DENOTING\": \"Administration\", \"SOCIODEMOGRAPHY\": 0, \"SOCIODEMOGRAPHY_DENOTING\": \"White_Female\"}, {\"SALARY\": 35250, \"EDUC\": 15, \"SALBEGIN\": 15000, \"GENDER\": 1, \"MINORITY\": 1, \"JOBCAT\": 1, \"GENDER_DENOTING\": \"Male\", \"MINORITY_DENOTING\": \"Minority\", \"JOBCAT_DENOTING\": \"Administration\", \"SOCIODEMOGRAPHY\": 3, \"SOCIODEMOGRAPHY_DENOTING\": \"Minority_Male\"}, {\"SALARY\": 26700, \"EDUC\": 15, \"SALBEGIN\": 15000, \"GENDER\": 1, \"MINORITY\": 1, \"JOBCAT\": 1, \"GENDER_DENOTING\": \"Male\", \"MINORITY_DENOTING\": \"Minority\", \"JOBCAT_DENOTING\": \"Administration\", \"SOCIODEMOGRAPHY\": 3, \"SOCIODEMOGRAPHY_DENOTING\": \"Minority_Male\"}, {\"SALARY\": 26550, \"EDUC\": 12, \"SALBEGIN\": 13050, \"GENDER\": 0, \"MINORITY\": 1, \"JOBCAT\": 1, \"GENDER_DENOTING\": \"Female\", \"MINORITY_DENOTING\": \"Minority\", \"JOBCAT_DENOTING\": \"Administration\", \"SOCIODEMOGRAPHY\": 2, \"SOCIODEMOGRAPHY_DENOTING\": \"Minority_Female\"}, {\"SALARY\": 27750, \"EDUC\": 12, \"SALBEGIN\": 12000, \"GENDER\": 0, \"MINORITY\": 1, \"JOBCAT\": 1, \"GENDER_DENOTING\": \"Female\", \"MINORITY_DENOTING\": \"Minority\", \"JOBCAT_DENOTING\": \"Administration\", \"SOCIODEMOGRAPHY\": 2, \"SOCIODEMOGRAPHY_DENOTING\": \"Minority_Female\"}, {\"SALARY\": 25050, \"EDUC\": 16, \"SALBEGIN\": 12750, \"GENDER\": 0, \"MINORITY\": 1, \"JOBCAT\": 1, \"GENDER_DENOTING\": \"Female\", \"MINORITY_DENOTING\": \"Minority\", \"JOBCAT_DENOTING\": \"Administration\", \"SOCIODEMOGRAPHY\": 2, \"SOCIODEMOGRAPHY_DENOTING\": \"Minority_Female\"}, {\"SALARY\": 66000, \"EDUC\": 16, \"SALBEGIN\": 47490, \"GENDER\": 1, \"MINORITY\": 0, \"JOBCAT\": 3, \"GENDER_DENOTING\": \"Male\", \"MINORITY_DENOTING\": \"White\", \"JOBCAT_DENOTING\": \"Management\", \"SOCIODEMOGRAPHY\": 1, \"SOCIODEMOGRAPHY_DENOTING\": \"White_Male\"}, {\"SALARY\": 52650, \"EDUC\": 16, \"SALBEGIN\": 19500, \"GENDER\": 1, \"MINORITY\": 0, \"JOBCAT\": 1, \"GENDER_DENOTING\": \"Male\", \"MINORITY_DENOTING\": \"White\", \"JOBCAT_DENOTING\": \"Administration\", \"SOCIODEMOGRAPHY\": 1, \"SOCIODEMOGRAPHY_DENOTING\": \"White_Male\"}, {\"SALARY\": 45625, \"EDUC\": 16, \"SALBEGIN\": 23250, \"GENDER\": 1, \"MINORITY\": 0, \"JOBCAT\": 3, \"GENDER_DENOTING\": \"Male\", \"MINORITY_DENOTING\": \"White\", \"JOBCAT_DENOTING\": \"Management\", \"SOCIODEMOGRAPHY\": 1, \"SOCIODEMOGRAPHY_DENOTING\": \"White_Male\"}, {\"SALARY\": 30900, \"EDUC\": 15, \"SALBEGIN\": 15000, \"GENDER\": 1, \"MINORITY\": 0, \"JOBCAT\": 1, \"GENDER_DENOTING\": \"Male\", \"MINORITY_DENOTING\": \"White\", \"JOBCAT_DENOTING\": \"Administration\", \"SOCIODEMOGRAPHY\": 1, \"SOCIODEMOGRAPHY_DENOTING\": \"White_Male\"}, {\"SALARY\": 29400, \"EDUC\": 15, \"SALBEGIN\": 16500, \"GENDER\": 0, \"MINORITY\": 0, \"JOBCAT\": 1, \"GENDER_DENOTING\": \"Female\", \"MINORITY_DENOTING\": \"White\", \"JOBCAT_DENOTING\": \"Administration\", \"SOCIODEMOGRAPHY\": 0, \"SOCIODEMOGRAPHY_DENOTING\": \"White_Female\"}, {\"SALARY\": 33300, \"EDUC\": 15, \"SALBEGIN\": 13500, \"GENDER\": 0, \"MINORITY\": 0, \"JOBCAT\": 1, \"GENDER_DENOTING\": \"Female\", \"MINORITY_DENOTING\": \"White\", \"JOBCAT_DENOTING\": \"Administration\", \"SOCIODEMOGRAPHY\": 0, \"SOCIODEMOGRAPHY_DENOTING\": \"White_Female\"}, {\"SALARY\": 21900, \"EDUC\": 12, \"SALBEGIN\": 9750, \"GENDER\": 0, \"MINORITY\": 0, \"JOBCAT\": 1, \"GENDER_DENOTING\": \"Female\", \"MINORITY_DENOTING\": \"White\", \"JOBCAT_DENOTING\": \"Administration\", \"SOCIODEMOGRAPHY\": 0, \"SOCIODEMOGRAPHY_DENOTING\": \"White_Female\"}, {\"SALARY\": 18150, \"EDUC\": 12, \"SALBEGIN\": 9750, \"GENDER\": 0, \"MINORITY\": 0, \"JOBCAT\": 1, \"GENDER_DENOTING\": \"Female\", \"MINORITY_DENOTING\": \"White\", \"JOBCAT_DENOTING\": \"Administration\", \"SOCIODEMOGRAPHY\": 0, \"SOCIODEMOGRAPHY_DENOTING\": \"White_Female\"}, {\"SALARY\": 46875, \"EDUC\": 16, \"SALBEGIN\": 17250, \"GENDER\": 0, \"MINORITY\": 0, \"JOBCAT\": 3, \"GENDER_DENOTING\": \"Female\", \"MINORITY_DENOTING\": \"White\", \"JOBCAT_DENOTING\": \"Management\", \"SOCIODEMOGRAPHY\": 0, \"SOCIODEMOGRAPHY_DENOTING\": \"White_Female\"}, {\"SALARY\": 25500, \"EDUC\": 12, \"SALBEGIN\": 14400, \"GENDER\": 1, \"MINORITY\": 1, \"JOBCAT\": 1, \"GENDER_DENOTING\": \"Male\", \"MINORITY_DENOTING\": \"Minority\", \"JOBCAT_DENOTING\": \"Administration\", \"SOCIODEMOGRAPHY\": 3, \"SOCIODEMOGRAPHY_DENOTING\": \"Minority_Male\"}, {\"SALARY\": 26550, \"EDUC\": 12, \"SALBEGIN\": 15000, \"GENDER\": 1, \"MINORITY\": 1, \"JOBCAT\": 1, \"GENDER_DENOTING\": \"Male\", \"MINORITY_DENOTING\": \"Minority\", \"JOBCAT_DENOTING\": \"Administration\", \"SOCIODEMOGRAPHY\": 3, \"SOCIODEMOGRAPHY_DENOTING\": \"Minority_Male\"}, {\"SALARY\": 26700, \"EDUC\": 12, \"SALBEGIN\": 13500, \"GENDER\": 1, \"MINORITY\": 1, \"JOBCAT\": 1, \"GENDER_DENOTING\": \"Male\", \"MINORITY_DENOTING\": \"Minority\", \"JOBCAT_DENOTING\": \"Administration\", \"SOCIODEMOGRAPHY\": 3, \"SOCIODEMOGRAPHY_DENOTING\": \"Minority_Male\"}, {\"SALARY\": 29850, \"EDUC\": 15, \"SALBEGIN\": 15000, \"GENDER\": 0, \"MINORITY\": 1, \"JOBCAT\": 1, \"GENDER_DENOTING\": \"Female\", \"MINORITY_DENOTING\": \"Minority\", \"JOBCAT_DENOTING\": \"Administration\", \"SOCIODEMOGRAPHY\": 2, \"SOCIODEMOGRAPHY_DENOTING\": \"Minority_Female\"}, {\"SALARY\": 69250, \"EDUC\": 20, \"SALBEGIN\": 42480, \"GENDER\": 1, \"MINORITY\": 0, \"JOBCAT\": 3, \"GENDER_DENOTING\": \"Male\", \"MINORITY_DENOTING\": \"White\", \"JOBCAT_DENOTING\": \"Management\", \"SOCIODEMOGRAPHY\": 1, \"SOCIODEMOGRAPHY_DENOTING\": \"White_Male\"}, {\"SALARY\": 31950, \"EDUC\": 8, \"SALBEGIN\": 15000, \"GENDER\": 1, \"MINORITY\": 0, \"JOBCAT\": 2, \"GENDER_DENOTING\": \"Male\", \"MINORITY_DENOTING\": \"White\", \"JOBCAT_DENOTING\": \"Custody\", \"SOCIODEMOGRAPHY\": 1, \"SOCIODEMOGRAPHY_DENOTING\": \"White_Male\"}, {\"SALARY\": 26250, \"EDUC\": 8, \"SALBEGIN\": 15600, \"GENDER\": 1, \"MINORITY\": 0, \"JOBCAT\": 1, \"GENDER_DENOTING\": \"Male\", \"MINORITY_DENOTING\": \"White\", \"JOBCAT_DENOTING\": \"Administration\", \"SOCIODEMOGRAPHY\": 1, \"SOCIODEMOGRAPHY_DENOTING\": \"White_Male\"}, {\"SALARY\": 35700, \"EDUC\": 16, \"SALBEGIN\": 17250, \"GENDER\": 0, \"MINORITY\": 0, \"JOBCAT\": 1, \"GENDER_DENOTING\": \"Female\", \"MINORITY_DENOTING\": \"White\", \"JOBCAT_DENOTING\": \"Administration\", \"SOCIODEMOGRAPHY\": 0, \"SOCIODEMOGRAPHY_DENOTING\": \"White_Female\"}, {\"SALARY\": 28500, \"EDUC\": 12, \"SALBEGIN\": 16500, \"GENDER\": 0, \"MINORITY\": 0, \"JOBCAT\": 1, \"GENDER_DENOTING\": \"Female\", \"MINORITY_DENOTING\": \"White\", \"JOBCAT_DENOTING\": \"Administration\", \"SOCIODEMOGRAPHY\": 0, \"SOCIODEMOGRAPHY_DENOTING\": \"White_Female\"}, {\"SALARY\": 17100, \"EDUC\": 12, \"SALBEGIN\": 10200, \"GENDER\": 0, \"MINORITY\": 0, \"JOBCAT\": 1, \"GENDER_DENOTING\": \"Female\", \"MINORITY_DENOTING\": \"White\", \"JOBCAT_DENOTING\": \"Administration\", \"SOCIODEMOGRAPHY\": 0, \"SOCIODEMOGRAPHY_DENOTING\": \"White_Female\"}, {\"SALARY\": 25200, \"EDUC\": 12, \"SALBEGIN\": 13050, \"GENDER\": 1, \"MINORITY\": 1, \"JOBCAT\": 1, \"GENDER_DENOTING\": \"Male\", \"MINORITY_DENOTING\": \"Minority\", \"JOBCAT_DENOTING\": \"Administration\", \"SOCIODEMOGRAPHY\": 3, \"SOCIODEMOGRAPHY_DENOTING\": \"Minority_Male\"}, {\"SALARY\": 24000, \"EDUC\": 12, \"SALBEGIN\": 12750, \"GENDER\": 0, \"MINORITY\": 1, \"JOBCAT\": 1, \"GENDER_DENOTING\": \"Female\", \"MINORITY_DENOTING\": \"Minority\", \"JOBCAT_DENOTING\": \"Administration\", \"SOCIODEMOGRAPHY\": 2, \"SOCIODEMOGRAPHY_DENOTING\": \"Minority_Female\"}, {\"SALARY\": 27450, \"EDUC\": 12, \"SALBEGIN\": 10200, \"GENDER\": 0, \"MINORITY\": 1, \"JOBCAT\": 1, \"GENDER_DENOTING\": \"Female\", \"MINORITY_DENOTING\": \"Minority\", \"JOBCAT_DENOTING\": \"Administration\", \"SOCIODEMOGRAPHY\": 2, \"SOCIODEMOGRAPHY_DENOTING\": \"Minority_Female\"}, {\"SALARY\": 18450, \"EDUC\": 12, \"SALBEGIN\": 10200, \"GENDER\": 0, \"MINORITY\": 1, \"JOBCAT\": 1, \"GENDER_DENOTING\": \"Female\", \"MINORITY_DENOTING\": \"Minority\", \"JOBCAT_DENOTING\": \"Administration\", \"SOCIODEMOGRAPHY\": 2, \"SOCIODEMOGRAPHY_DENOTING\": \"Minority_Female\"}, {\"SALARY\": 39300, \"EDUC\": 15, \"SALBEGIN\": 15750, \"GENDER\": 1, \"MINORITY\": 0, \"JOBCAT\": 1, \"GENDER_DENOTING\": \"Male\", \"MINORITY_DENOTING\": \"White\", \"JOBCAT_DENOTING\": \"Administration\", \"SOCIODEMOGRAPHY\": 1, \"SOCIODEMOGRAPHY_DENOTING\": \"White_Male\"}, {\"SALARY\": 38850, \"EDUC\": 15, \"SALBEGIN\": 15000, \"GENDER\": 1, \"MINORITY\": 0, \"JOBCAT\": 1, \"GENDER_DENOTING\": \"Male\", \"MINORITY_DENOTING\": \"White\", \"JOBCAT_DENOTING\": \"Administration\", \"SOCIODEMOGRAPHY\": 1, \"SOCIODEMOGRAPHY_DENOTING\": \"White_Male\"}, {\"SALARY\": 30750, \"EDUC\": 8, \"SALBEGIN\": 15000, \"GENDER\": 1, \"MINORITY\": 0, \"JOBCAT\": 2, \"GENDER_DENOTING\": \"Male\", \"MINORITY_DENOTING\": \"White\", \"JOBCAT_DENOTING\": \"Custody\", \"SOCIODEMOGRAPHY\": 1, \"SOCIODEMOGRAPHY_DENOTING\": \"White_Male\"}, {\"SALARY\": 37500, \"EDUC\": 15, \"SALBEGIN\": 20400, \"GENDER\": 1, \"MINORITY\": 0, \"JOBCAT\": 1, \"GENDER_DENOTING\": \"Male\", \"MINORITY_DENOTING\": \"White\", \"JOBCAT_DENOTING\": \"Administration\", \"SOCIODEMOGRAPHY\": 1, \"SOCIODEMOGRAPHY_DENOTING\": \"White_Male\"}, {\"SALARY\": 58750, \"EDUC\": 16, \"SALBEGIN\": 21750, \"GENDER\": 1, \"MINORITY\": 0, \"JOBCAT\": 3, \"GENDER_DENOTING\": \"Male\", \"MINORITY_DENOTING\": \"White\", \"JOBCAT_DENOTING\": \"Management\", \"SOCIODEMOGRAPHY\": 1, \"SOCIODEMOGRAPHY_DENOTING\": \"White_Male\"}, {\"SALARY\": 34500, \"EDUC\": 12, \"SALBEGIN\": 18750, \"GENDER\": 0, \"MINORITY\": 0, \"JOBCAT\": 1, \"GENDER_DENOTING\": \"Female\", \"MINORITY_DENOTING\": \"White\", \"JOBCAT_DENOTING\": \"Administration\", \"SOCIODEMOGRAPHY\": 0, \"SOCIODEMOGRAPHY_DENOTING\": \"White_Female\"}, {\"SALARY\": 36000, \"EDUC\": 12, \"SALBEGIN\": 19980, \"GENDER\": 0, \"MINORITY\": 0, \"JOBCAT\": 1, \"GENDER_DENOTING\": \"Female\", \"MINORITY_DENOTING\": \"White\", \"JOBCAT_DENOTING\": \"Administration\", \"SOCIODEMOGRAPHY\": 0, \"SOCIODEMOGRAPHY_DENOTING\": \"White_Female\"}, {\"SALARY\": 29100, \"EDUC\": 8, \"SALBEGIN\": 16500, \"GENDER\": 0, \"MINORITY\": 0, \"JOBCAT\": 1, \"GENDER_DENOTING\": \"Female\", \"MINORITY_DENOTING\": \"White\", \"JOBCAT_DENOTING\": \"Administration\", \"SOCIODEMOGRAPHY\": 0, \"SOCIODEMOGRAPHY_DENOTING\": \"White_Female\"}, {\"SALARY\": 16500, \"EDUC\": 12, \"SALBEGIN\": 10200, \"GENDER\": 0, \"MINORITY\": 0, \"JOBCAT\": 1, \"GENDER_DENOTING\": \"Female\", \"MINORITY_DENOTING\": \"White\", \"JOBCAT_DENOTING\": \"Administration\", \"SOCIODEMOGRAPHY\": 0, \"SOCIODEMOGRAPHY_DENOTING\": \"White_Female\"}, {\"SALARY\": 19650, \"EDUC\": 12, \"SALBEGIN\": 12750, \"GENDER\": 1, \"MINORITY\": 1, \"JOBCAT\": 1, \"GENDER_DENOTING\": \"Male\", \"MINORITY_DENOTING\": \"Minority\", \"JOBCAT_DENOTING\": \"Administration\", \"SOCIODEMOGRAPHY\": 3, \"SOCIODEMOGRAPHY_DENOTING\": \"Minority_Male\"}, {\"SALARY\": 24750, \"EDUC\": 12, \"SALBEGIN\": 12000, \"GENDER\": 0, \"MINORITY\": 1, \"JOBCAT\": 1, \"GENDER_DENOTING\": \"Female\", \"MINORITY_DENOTING\": \"Minority\", \"JOBCAT_DENOTING\": \"Administration\", \"SOCIODEMOGRAPHY\": 2, \"SOCIODEMOGRAPHY_DENOTING\": \"Minority_Female\"}, {\"SALARY\": 27150, \"EDUC\": 15, \"SALBEGIN\": 15750, \"GENDER\": 0, \"MINORITY\": 1, \"JOBCAT\": 1, \"GENDER_DENOTING\": \"Female\", \"MINORITY_DENOTING\": \"Minority\", \"JOBCAT_DENOTING\": \"Administration\", \"SOCIODEMOGRAPHY\": 2, \"SOCIODEMOGRAPHY_DENOTING\": \"Minority_Female\"}, {\"SALARY\": 26400, \"EDUC\": 12, \"SALBEGIN\": 12750, \"GENDER\": 0, \"MINORITY\": 1, \"JOBCAT\": 1, \"GENDER_DENOTING\": \"Female\", \"MINORITY_DENOTING\": \"Minority\", \"JOBCAT_DENOTING\": \"Administration\", \"SOCIODEMOGRAPHY\": 2, \"SOCIODEMOGRAPHY_DENOTING\": \"Minority_Female\"}, {\"SALARY\": 23100, \"EDUC\": 16, \"SALBEGIN\": 12000, \"GENDER\": 0, \"MINORITY\": 1, \"JOBCAT\": 1, \"GENDER_DENOTING\": \"Female\", \"MINORITY_DENOTING\": \"Minority\", \"JOBCAT_DENOTING\": \"Administration\", \"SOCIODEMOGRAPHY\": 2, \"SOCIODEMOGRAPHY_DENOTING\": \"Minority_Female\"}, {\"SALARY\": 54900, \"EDUC\": 15, \"SALBEGIN\": 25500, \"GENDER\": 1, \"MINORITY\": 0, \"JOBCAT\": 3, \"GENDER_DENOTING\": \"Male\", \"MINORITY_DENOTING\": \"White\", \"JOBCAT_DENOTING\": \"Management\", \"SOCIODEMOGRAPHY\": 1, \"SOCIODEMOGRAPHY_DENOTING\": \"White_Male\"}, {\"SALARY\": 70875, \"EDUC\": 19, \"SALBEGIN\": 43500, \"GENDER\": 1, \"MINORITY\": 0, \"JOBCAT\": 3, \"GENDER_DENOTING\": \"Male\", \"MINORITY_DENOTING\": \"White\", \"JOBCAT_DENOTING\": \"Management\", \"SOCIODEMOGRAPHY\": 1, \"SOCIODEMOGRAPHY_DENOTING\": \"White_Male\"}, {\"SALARY\": 51250, \"EDUC\": 16, \"SALBEGIN\": 27480, \"GENDER\": 1, \"MINORITY\": 0, \"JOBCAT\": 3, \"GENDER_DENOTING\": \"Male\", \"MINORITY_DENOTING\": \"White\", \"JOBCAT_DENOTING\": \"Management\", \"SOCIODEMOGRAPHY\": 1, \"SOCIODEMOGRAPHY_DENOTING\": \"White_Male\"}, {\"SALARY\": 67500, \"EDUC\": 17, \"SALBEGIN\": 34980, \"GENDER\": 1, \"MINORITY\": 0, \"JOBCAT\": 3, \"GENDER_DENOTING\": \"Male\", \"MINORITY_DENOTING\": \"White\", \"JOBCAT_DENOTING\": \"Management\", \"SOCIODEMOGRAPHY\": 1, \"SOCIODEMOGRAPHY_DENOTING\": \"White_Male\"}, {\"SALARY\": 29340, \"EDUC\": 12, \"SALBEGIN\": 19500, \"GENDER\": 1, \"MINORITY\": 0, \"JOBCAT\": 1, \"GENDER_DENOTING\": \"Male\", \"MINORITY_DENOTING\": \"White\", \"JOBCAT_DENOTING\": \"Administration\", \"SOCIODEMOGRAPHY\": 1, \"SOCIODEMOGRAPHY_DENOTING\": \"White_Male\"}, {\"SALARY\": 39600, \"EDUC\": 15, \"SALBEGIN\": 16500, \"GENDER\": 1, \"MINORITY\": 0, \"JOBCAT\": 1, \"GENDER_DENOTING\": \"Male\", \"MINORITY_DENOTING\": \"White\", \"JOBCAT_DENOTING\": \"Administration\", \"SOCIODEMOGRAPHY\": 1, \"SOCIODEMOGRAPHY_DENOTING\": \"White_Male\"}, {\"SALARY\": 29100, \"EDUC\": 12, \"SALBEGIN\": 15000, \"GENDER\": 1, \"MINORITY\": 0, \"JOBCAT\": 1, \"GENDER_DENOTING\": \"Male\", \"MINORITY_DENOTING\": \"White\", \"JOBCAT_DENOTING\": \"Administration\", \"SOCIODEMOGRAPHY\": 1, \"SOCIODEMOGRAPHY_DENOTING\": \"White_Male\"}, {\"SALARY\": 33150, \"EDUC\": 15, \"SALBEGIN\": 16500, \"GENDER\": 1, \"MINORITY\": 0, \"JOBCAT\": 1, \"GENDER_DENOTING\": \"Male\", \"MINORITY_DENOTING\": \"White\", \"JOBCAT_DENOTING\": \"Administration\", \"SOCIODEMOGRAPHY\": 1, \"SOCIODEMOGRAPHY_DENOTING\": \"White_Male\"}, {\"SALARY\": 66750, \"EDUC\": 16, \"SALBEGIN\": 52500, \"GENDER\": 1, \"MINORITY\": 0, \"JOBCAT\": 3, \"GENDER_DENOTING\": \"Male\", \"MINORITY_DENOTING\": \"White\", \"JOBCAT_DENOTING\": \"Management\", \"SOCIODEMOGRAPHY\": 1, \"SOCIODEMOGRAPHY_DENOTING\": \"White_Male\"}, {\"SALARY\": 33750, \"EDUC\": 12, \"SALBEGIN\": 15000, \"GENDER\": 1, \"MINORITY\": 0, \"JOBCAT\": 2, \"GENDER_DENOTING\": \"Male\", \"MINORITY_DENOTING\": \"White\", \"JOBCAT_DENOTING\": \"Custody\", \"SOCIODEMOGRAPHY\": 1, \"SOCIODEMOGRAPHY_DENOTING\": \"White_Male\"}, {\"SALARY\": 27300, \"EDUC\": 15, \"SALBEGIN\": 17250, \"GENDER\": 1, \"MINORITY\": 0, \"JOBCAT\": 1, \"GENDER_DENOTING\": \"Male\", \"MINORITY_DENOTING\": \"White\", \"JOBCAT_DENOTING\": \"Administration\", \"SOCIODEMOGRAPHY\": 1, \"SOCIODEMOGRAPHY_DENOTING\": \"White_Male\"}, {\"SALARY\": 24000, \"EDUC\": 12, \"SALBEGIN\": 11250, \"GENDER\": 0, \"MINORITY\": 0, \"JOBCAT\": 1, \"GENDER_DENOTING\": \"Female\", \"MINORITY_DENOTING\": \"White\", \"JOBCAT_DENOTING\": \"Administration\", \"SOCIODEMOGRAPHY\": 0, \"SOCIODEMOGRAPHY_DENOTING\": \"White_Female\"}, {\"SALARY\": 19800, \"EDUC\": 8, \"SALBEGIN\": 10200, \"GENDER\": 0, \"MINORITY\": 0, \"JOBCAT\": 1, \"GENDER_DENOTING\": \"Female\", \"MINORITY_DENOTING\": \"White\", \"JOBCAT_DENOTING\": \"Administration\", \"SOCIODEMOGRAPHY\": 0, \"SOCIODEMOGRAPHY_DENOTING\": \"White_Female\"}, {\"SALARY\": 30600, \"EDUC\": 15, \"SALBEGIN\": 16500, \"GENDER\": 1, \"MINORITY\": 1, \"JOBCAT\": 1, \"GENDER_DENOTING\": \"Male\", \"MINORITY_DENOTING\": \"Minority\", \"JOBCAT_DENOTING\": \"Administration\", \"SOCIODEMOGRAPHY\": 3, \"SOCIODEMOGRAPHY_DENOTING\": \"Minority_Male\"}, {\"SALARY\": 28950, \"EDUC\": 15, \"SALBEGIN\": 15000, \"GENDER\": 1, \"MINORITY\": 1, \"JOBCAT\": 1, \"GENDER_DENOTING\": \"Male\", \"MINORITY_DENOTING\": \"Minority\", \"JOBCAT_DENOTING\": \"Administration\", \"SOCIODEMOGRAPHY\": 3, \"SOCIODEMOGRAPHY_DENOTING\": \"Minority_Male\"}, {\"SALARY\": 38400, \"EDUC\": 15, \"SALBEGIN\": 16500, \"GENDER\": 1, \"MINORITY\": 1, \"JOBCAT\": 1, \"GENDER_DENOTING\": \"Male\", \"MINORITY_DENOTING\": \"Minority\", \"JOBCAT_DENOTING\": \"Administration\", \"SOCIODEMOGRAPHY\": 3, \"SOCIODEMOGRAPHY_DENOTING\": \"Minority_Male\"}, {\"SALARY\": 30750, \"EDUC\": 8, \"SALBEGIN\": 15000, \"GENDER\": 1, \"MINORITY\": 1, \"JOBCAT\": 2, \"GENDER_DENOTING\": \"Male\", \"MINORITY_DENOTING\": \"Minority\", \"JOBCAT_DENOTING\": \"Custody\", \"SOCIODEMOGRAPHY\": 3, \"SOCIODEMOGRAPHY_DENOTING\": \"Minority_Male\"}, {\"SALARY\": 20400, \"EDUC\": 12, \"SALBEGIN\": 10950, \"GENDER\": 0, \"MINORITY\": 1, \"JOBCAT\": 1, \"GENDER_DENOTING\": \"Female\", \"MINORITY_DENOTING\": \"Minority\", \"JOBCAT_DENOTING\": \"Administration\", \"SOCIODEMOGRAPHY\": 2, \"SOCIODEMOGRAPHY_DENOTING\": \"Minority_Female\"}, {\"SALARY\": 19200, \"EDUC\": 12, \"SALBEGIN\": 11100, \"GENDER\": 0, \"MINORITY\": 1, \"JOBCAT\": 1, \"GENDER_DENOTING\": \"Female\", \"MINORITY_DENOTING\": \"Minority\", \"JOBCAT_DENOTING\": \"Administration\", \"SOCIODEMOGRAPHY\": 2, \"SOCIODEMOGRAPHY_DENOTING\": \"Minority_Female\"}, {\"SALARY\": 30150, \"EDUC\": 15, \"SALBEGIN\": 15750, \"GENDER\": 1, \"MINORITY\": 0, \"JOBCAT\": 1, \"GENDER_DENOTING\": \"Male\", \"MINORITY_DENOTING\": \"White\", \"JOBCAT_DENOTING\": \"Administration\", \"SOCIODEMOGRAPHY\": 1, \"SOCIODEMOGRAPHY_DENOTING\": \"White_Male\"}, {\"SALARY\": 34620, \"EDUC\": 16, \"SALBEGIN\": 27750, \"GENDER\": 1, \"MINORITY\": 0, \"JOBCAT\": 1, \"GENDER_DENOTING\": \"Male\", \"MINORITY_DENOTING\": \"White\", \"JOBCAT_DENOTING\": \"Administration\", \"SOCIODEMOGRAPHY\": 1, \"SOCIODEMOGRAPHY_DENOTING\": \"White_Male\"}, {\"SALARY\": 80000, \"EDUC\": 15, \"SALBEGIN\": 15750, \"GENDER\": 1, \"MINORITY\": 0, \"JOBCAT\": 1, \"GENDER_DENOTING\": \"Male\", \"MINORITY_DENOTING\": \"White\", \"JOBCAT_DENOTING\": \"Administration\", \"SOCIODEMOGRAPHY\": 1, \"SOCIODEMOGRAPHY_DENOTING\": \"White_Male\"}, {\"SALARY\": 25350, \"EDUC\": 12, \"SALBEGIN\": 15000, \"GENDER\": 1, \"MINORITY\": 0, \"JOBCAT\": 1, \"GENDER_DENOTING\": \"Male\", \"MINORITY_DENOTING\": \"White\", \"JOBCAT_DENOTING\": \"Administration\", \"SOCIODEMOGRAPHY\": 1, \"SOCIODEMOGRAPHY_DENOTING\": \"White_Male\"}, {\"SALARY\": 29850, \"EDUC\": 12, \"SALBEGIN\": 15750, \"GENDER\": 1, \"MINORITY\": 0, \"JOBCAT\": 1, \"GENDER_DENOTING\": \"Male\", \"MINORITY_DENOTING\": \"White\", \"JOBCAT_DENOTING\": \"Administration\", \"SOCIODEMOGRAPHY\": 1, \"SOCIODEMOGRAPHY_DENOTING\": \"White_Male\"}, {\"SALARY\": 24000, \"EDUC\": 12, \"SALBEGIN\": 13800, \"GENDER\": 0, \"MINORITY\": 0, \"JOBCAT\": 1, \"GENDER_DENOTING\": \"Female\", \"MINORITY_DENOTING\": \"White\", \"JOBCAT_DENOTING\": \"Administration\", \"SOCIODEMOGRAPHY\": 0, \"SOCIODEMOGRAPHY_DENOTING\": \"White_Female\"}, {\"SALARY\": 27750, \"EDUC\": 15, \"SALBEGIN\": 19500, \"GENDER\": 0, \"MINORITY\": 0, \"JOBCAT\": 1, \"GENDER_DENOTING\": \"Female\", \"MINORITY_DENOTING\": \"White\", \"JOBCAT_DENOTING\": \"Administration\", \"SOCIODEMOGRAPHY\": 0, \"SOCIODEMOGRAPHY_DENOTING\": \"White_Female\"}, {\"SALARY\": 22350, \"EDUC\": 8, \"SALBEGIN\": 10200, \"GENDER\": 0, \"MINORITY\": 0, \"JOBCAT\": 1, \"GENDER_DENOTING\": \"Female\", \"MINORITY_DENOTING\": \"White\", \"JOBCAT_DENOTING\": \"Administration\", \"SOCIODEMOGRAPHY\": 0, \"SOCIODEMOGRAPHY_DENOTING\": \"White_Female\"}, {\"SALARY\": 16200, \"EDUC\": 12, \"SALBEGIN\": 10200, \"GENDER\": 0, \"MINORITY\": 0, \"JOBCAT\": 1, \"GENDER_DENOTING\": \"Female\", \"MINORITY_DENOTING\": \"White\", \"JOBCAT_DENOTING\": \"Administration\", \"SOCIODEMOGRAPHY\": 0, \"SOCIODEMOGRAPHY_DENOTING\": \"White_Female\"}, {\"SALARY\": 21900, \"EDUC\": 15, \"SALBEGIN\": 12750, \"GENDER\": 0, \"MINORITY\": 0, \"JOBCAT\": 1, \"GENDER_DENOTING\": \"Female\", \"MINORITY_DENOTING\": \"White\", \"JOBCAT_DENOTING\": \"Administration\", \"SOCIODEMOGRAPHY\": 0, \"SOCIODEMOGRAPHY_DENOTING\": \"White_Female\"}, {\"SALARY\": 23250, \"EDUC\": 16, \"SALBEGIN\": 15750, \"GENDER\": 0, \"MINORITY\": 0, \"JOBCAT\": 1, \"GENDER_DENOTING\": \"Female\", \"MINORITY_DENOTING\": \"White\", \"JOBCAT_DENOTING\": \"Administration\", \"SOCIODEMOGRAPHY\": 0, \"SOCIODEMOGRAPHY_DENOTING\": \"White_Female\"}, {\"SALARY\": 33900, \"EDUC\": 12, \"SALBEGIN\": 12000, \"GENDER\": 0, \"MINORITY\": 0, \"JOBCAT\": 1, \"GENDER_DENOTING\": \"Female\", \"MINORITY_DENOTING\": \"White\", \"JOBCAT_DENOTING\": \"Administration\", \"SOCIODEMOGRAPHY\": 0, \"SOCIODEMOGRAPHY_DENOTING\": \"White_Female\"}, {\"SALARY\": 25650, \"EDUC\": 15, \"SALBEGIN\": 14250, \"GENDER\": 0, \"MINORITY\": 0, \"JOBCAT\": 1, \"GENDER_DENOTING\": \"Female\", \"MINORITY_DENOTING\": \"White\", \"JOBCAT_DENOTING\": \"Administration\", \"SOCIODEMOGRAPHY\": 0, \"SOCIODEMOGRAPHY_DENOTING\": \"White_Female\"}, {\"SALARY\": 17250, \"EDUC\": 12, \"SALBEGIN\": 10200, \"GENDER\": 0, \"MINORITY\": 0, \"JOBCAT\": 1, \"GENDER_DENOTING\": \"Female\", \"MINORITY_DENOTING\": \"White\", \"JOBCAT_DENOTING\": \"Administration\", \"SOCIODEMOGRAPHY\": 0, \"SOCIODEMOGRAPHY_DENOTING\": \"White_Female\"}, {\"SALARY\": 22500, \"EDUC\": 15, \"SALBEGIN\": 15000, \"GENDER\": 1, \"MINORITY\": 1, \"JOBCAT\": 1, \"GENDER_DENOTING\": \"Male\", \"MINORITY_DENOTING\": \"Minority\", \"JOBCAT_DENOTING\": \"Administration\", \"SOCIODEMOGRAPHY\": 3, \"SOCIODEMOGRAPHY_DENOTING\": \"Minority_Male\"}, {\"SALARY\": 40200, \"EDUC\": 16, \"SALBEGIN\": 21000, \"GENDER\": 1, \"MINORITY\": 0, \"JOBCAT\": 3, \"GENDER_DENOTING\": \"Male\", \"MINORITY_DENOTING\": \"White\", \"JOBCAT_DENOTING\": \"Management\", \"SOCIODEMOGRAPHY\": 1, \"SOCIODEMOGRAPHY_DENOTING\": \"White_Male\"}, {\"SALARY\": 55500, \"EDUC\": 19, \"SALBEGIN\": 33750, \"GENDER\": 1, \"MINORITY\": 0, \"JOBCAT\": 3, \"GENDER_DENOTING\": \"Male\", \"MINORITY_DENOTING\": \"White\", \"JOBCAT_DENOTING\": \"Management\", \"SOCIODEMOGRAPHY\": 1, \"SOCIODEMOGRAPHY_DENOTING\": \"White_Male\"}, {\"SALARY\": 26550, \"EDUC\": 15, \"SALBEGIN\": 15000, \"GENDER\": 1, \"MINORITY\": 0, \"JOBCAT\": 1, \"GENDER_DENOTING\": \"Male\", \"MINORITY_DENOTING\": \"White\", \"JOBCAT_DENOTING\": \"Administration\", \"SOCIODEMOGRAPHY\": 1, \"SOCIODEMOGRAPHY_DENOTING\": \"White_Male\"}, {\"SALARY\": 50550, \"EDUC\": 15, \"SALBEGIN\": 19500, \"GENDER\": 1, \"MINORITY\": 0, \"JOBCAT\": 1, \"GENDER_DENOTING\": \"Male\", \"MINORITY_DENOTING\": \"White\", \"JOBCAT_DENOTING\": \"Administration\", \"SOCIODEMOGRAPHY\": 1, \"SOCIODEMOGRAPHY_DENOTING\": \"White_Male\"}, {\"SALARY\": 75000, \"EDUC\": 19, \"SALBEGIN\": 31500, \"GENDER\": 1, \"MINORITY\": 0, \"JOBCAT\": 3, \"GENDER_DENOTING\": \"Male\", \"MINORITY_DENOTING\": \"White\", \"JOBCAT_DENOTING\": \"Management\", \"SOCIODEMOGRAPHY\": 1, \"SOCIODEMOGRAPHY_DENOTING\": \"White_Male\"}, {\"SALARY\": 27450, \"EDUC\": 8, \"SALBEGIN\": 12000, \"GENDER\": 0, \"MINORITY\": 0, \"JOBCAT\": 1, \"GENDER_DENOTING\": \"Female\", \"MINORITY_DENOTING\": \"White\", \"JOBCAT_DENOTING\": \"Administration\", \"SOCIODEMOGRAPHY\": 0, \"SOCIODEMOGRAPHY_DENOTING\": \"White_Female\"}, {\"SALARY\": 22650, \"EDUC\": 12, \"SALBEGIN\": 11250, \"GENDER\": 0, \"MINORITY\": 0, \"JOBCAT\": 1, \"GENDER_DENOTING\": \"Female\", \"MINORITY_DENOTING\": \"White\", \"JOBCAT_DENOTING\": \"Administration\", \"SOCIODEMOGRAPHY\": 0, \"SOCIODEMOGRAPHY_DENOTING\": \"White_Female\"}, {\"SALARY\": 27300, \"EDUC\": 12, \"SALBEGIN\": 11250, \"GENDER\": 0, \"MINORITY\": 0, \"JOBCAT\": 1, \"GENDER_DENOTING\": \"Female\", \"MINORITY_DENOTING\": \"White\", \"JOBCAT_DENOTING\": \"Administration\", \"SOCIODEMOGRAPHY\": 0, \"SOCIODEMOGRAPHY_DENOTING\": \"White_Female\"}, {\"SALARY\": 27750, \"EDUC\": 12, \"SALBEGIN\": 11225, \"GENDER\": 0, \"MINORITY\": 0, \"JOBCAT\": 1, \"GENDER_DENOTING\": \"Female\", \"MINORITY_DENOTING\": \"White\", \"JOBCAT_DENOTING\": \"Administration\", \"SOCIODEMOGRAPHY\": 0, \"SOCIODEMOGRAPHY_DENOTING\": \"White_Female\"}, {\"SALARY\": 54375, \"EDUC\": 16, \"SALBEGIN\": 18750, \"GENDER\": 0, \"MINORITY\": 0, \"JOBCAT\": 3, \"GENDER_DENOTING\": \"Female\", \"MINORITY_DENOTING\": \"White\", \"JOBCAT_DENOTING\": \"Management\", \"SOCIODEMOGRAPHY\": 0, \"SOCIODEMOGRAPHY_DENOTING\": \"White_Female\"}, {\"SALARY\": 17400, \"EDUC\": 8, \"SALBEGIN\": 10200, \"GENDER\": 0, \"MINORITY\": 0, \"JOBCAT\": 1, \"GENDER_DENOTING\": \"Female\", \"MINORITY_DENOTING\": \"White\", \"JOBCAT_DENOTING\": \"Administration\", \"SOCIODEMOGRAPHY\": 0, \"SOCIODEMOGRAPHY_DENOTING\": \"White_Female\"}, {\"SALARY\": 40800, \"EDUC\": 12, \"SALBEGIN\": 18000, \"GENDER\": 0, \"MINORITY\": 0, \"JOBCAT\": 1, \"GENDER_DENOTING\": \"Female\", \"MINORITY_DENOTING\": \"White\", \"JOBCAT_DENOTING\": \"Administration\", \"SOCIODEMOGRAPHY\": 0, \"SOCIODEMOGRAPHY_DENOTING\": \"White_Female\"}, {\"SALARY\": 23100, \"EDUC\": 12, \"SALBEGIN\": 10950, \"GENDER\": 0, \"MINORITY\": 0, \"JOBCAT\": 1, \"GENDER_DENOTING\": \"Female\", \"MINORITY_DENOTING\": \"White\", \"JOBCAT_DENOTING\": \"Administration\", \"SOCIODEMOGRAPHY\": 0, \"SOCIODEMOGRAPHY_DENOTING\": \"White_Female\"}, {\"SALARY\": 22500, \"EDUC\": 8, \"SALBEGIN\": 10950, \"GENDER\": 0, \"MINORITY\": 0, \"JOBCAT\": 1, \"GENDER_DENOTING\": \"Female\", \"MINORITY_DENOTING\": \"White\", \"JOBCAT_DENOTING\": \"Administration\", \"SOCIODEMOGRAPHY\": 0, \"SOCIODEMOGRAPHY_DENOTING\": \"White_Female\"}, {\"SALARY\": 26700, \"EDUC\": 12, \"SALBEGIN\": 11550, \"GENDER\": 0, \"MINORITY\": 0, \"JOBCAT\": 1, \"GENDER_DENOTING\": \"Female\", \"MINORITY_DENOTING\": \"White\", \"JOBCAT_DENOTING\": \"Administration\", \"SOCIODEMOGRAPHY\": 0, \"SOCIODEMOGRAPHY_DENOTING\": \"White_Female\"}, {\"SALARY\": 24900, \"EDUC\": 12, \"SALBEGIN\": 11250, \"GENDER\": 0, \"MINORITY\": 0, \"JOBCAT\": 1, \"GENDER_DENOTING\": \"Female\", \"MINORITY_DENOTING\": \"White\", \"JOBCAT_DENOTING\": \"Administration\", \"SOCIODEMOGRAPHY\": 0, \"SOCIODEMOGRAPHY_DENOTING\": \"White_Female\"}, {\"SALARY\": 19650, \"EDUC\": 12, \"SALBEGIN\": 10950, \"GENDER\": 0, \"MINORITY\": 0, \"JOBCAT\": 1, \"GENDER_DENOTING\": \"Female\", \"MINORITY_DENOTING\": \"White\", \"JOBCAT_DENOTING\": \"Administration\", \"SOCIODEMOGRAPHY\": 0, \"SOCIODEMOGRAPHY_DENOTING\": \"White_Female\"}, {\"SALARY\": 22050, \"EDUC\": 12, \"SALBEGIN\": 10950, \"GENDER\": 0, \"MINORITY\": 0, \"JOBCAT\": 1, \"GENDER_DENOTING\": \"Female\", \"MINORITY_DENOTING\": \"White\", \"JOBCAT_DENOTING\": \"Administration\", \"SOCIODEMOGRAPHY\": 0, \"SOCIODEMOGRAPHY_DENOTING\": \"White_Female\"}, {\"SALARY\": 25500, \"EDUC\": 12, \"SALBEGIN\": 12000, \"GENDER\": 0, \"MINORITY\": 0, \"JOBCAT\": 1, \"GENDER_DENOTING\": \"Female\", \"MINORITY_DENOTING\": \"White\", \"JOBCAT_DENOTING\": \"Administration\", \"SOCIODEMOGRAPHY\": 0, \"SOCIODEMOGRAPHY_DENOTING\": \"White_Female\"}, {\"SALARY\": 28200, \"EDUC\": 15, \"SALBEGIN\": 12750, \"GENDER\": 0, \"MINORITY\": 0, \"JOBCAT\": 1, \"GENDER_DENOTING\": \"Female\", \"MINORITY_DENOTING\": \"White\", \"JOBCAT_DENOTING\": \"Administration\", \"SOCIODEMOGRAPHY\": 0, \"SOCIODEMOGRAPHY_DENOTING\": \"White_Female\"}, {\"SALARY\": 23100, \"EDUC\": 12, \"SALBEGIN\": 11250, \"GENDER\": 0, \"MINORITY\": 0, \"JOBCAT\": 1, \"GENDER_DENOTING\": \"Female\", \"MINORITY_DENOTING\": \"White\", \"JOBCAT_DENOTING\": \"Administration\", \"SOCIODEMOGRAPHY\": 0, \"SOCIODEMOGRAPHY_DENOTING\": \"White_Female\"}, {\"SALARY\": 25500, \"EDUC\": 12, \"SALBEGIN\": 11400, \"GENDER\": 1, \"MINORITY\": 1, \"JOBCAT\": 1, \"GENDER_DENOTING\": \"Male\", \"MINORITY_DENOTING\": \"Minority\", \"JOBCAT_DENOTING\": \"Administration\", \"SOCIODEMOGRAPHY\": 3, \"SOCIODEMOGRAPHY_DENOTING\": \"Minority_Male\"}, {\"SALARY\": 17100, \"EDUC\": 8, \"SALBEGIN\": 10200, \"GENDER\": 0, \"MINORITY\": 1, \"JOBCAT\": 1, \"GENDER_DENOTING\": \"Female\", \"MINORITY_DENOTING\": \"Minority\", \"JOBCAT_DENOTING\": \"Administration\", \"SOCIODEMOGRAPHY\": 2, \"SOCIODEMOGRAPHY_DENOTING\": \"Minority_Female\"}, {\"SALARY\": 68125, \"EDUC\": 18, \"SALBEGIN\": 32490, \"GENDER\": 1, \"MINORITY\": 0, \"JOBCAT\": 3, \"GENDER_DENOTING\": \"Male\", \"MINORITY_DENOTING\": \"White\", \"JOBCAT_DENOTING\": \"Management\", \"SOCIODEMOGRAPHY\": 1, \"SOCIODEMOGRAPHY_DENOTING\": \"White_Male\"}, {\"SALARY\": 30600, \"EDUC\": 12, \"SALBEGIN\": 15750, \"GENDER\": 1, \"MINORITY\": 0, \"JOBCAT\": 2, \"GENDER_DENOTING\": \"Male\", \"MINORITY_DENOTING\": \"White\", \"JOBCAT_DENOTING\": \"Custody\", \"SOCIODEMOGRAPHY\": 1, \"SOCIODEMOGRAPHY_DENOTING\": \"White_Male\"}, {\"SALARY\": 52125, \"EDUC\": 19, \"SALBEGIN\": 27480, \"GENDER\": 1, \"MINORITY\": 0, \"JOBCAT\": 3, \"GENDER_DENOTING\": \"Male\", \"MINORITY_DENOTING\": \"White\", \"JOBCAT_DENOTING\": \"Management\", \"SOCIODEMOGRAPHY\": 1, \"SOCIODEMOGRAPHY_DENOTING\": \"White_Male\"}, {\"SALARY\": 61875, \"EDUC\": 19, \"SALBEGIN\": 36750, \"GENDER\": 1, \"MINORITY\": 0, \"JOBCAT\": 3, \"GENDER_DENOTING\": \"Male\", \"MINORITY_DENOTING\": \"White\", \"JOBCAT_DENOTING\": \"Management\", \"SOCIODEMOGRAPHY\": 1, \"SOCIODEMOGRAPHY_DENOTING\": \"White_Male\"}, {\"SALARY\": 21300, \"EDUC\": 8, \"SALBEGIN\": 11550, \"GENDER\": 1, \"MINORITY\": 0, \"JOBCAT\": 1, \"GENDER_DENOTING\": \"Male\", \"MINORITY_DENOTING\": \"White\", \"JOBCAT_DENOTING\": \"Administration\", \"SOCIODEMOGRAPHY\": 1, \"SOCIODEMOGRAPHY_DENOTING\": \"White_Male\"}, {\"SALARY\": 19650, \"EDUC\": 12, \"SALBEGIN\": 11250, \"GENDER\": 0, \"MINORITY\": 0, \"JOBCAT\": 1, \"GENDER_DENOTING\": \"Female\", \"MINORITY_DENOTING\": \"White\", \"JOBCAT_DENOTING\": \"Administration\", \"SOCIODEMOGRAPHY\": 0, \"SOCIODEMOGRAPHY_DENOTING\": \"White_Female\"}, {\"SALARY\": 22350, \"EDUC\": 12, \"SALBEGIN\": 11250, \"GENDER\": 0, \"MINORITY\": 0, \"JOBCAT\": 1, \"GENDER_DENOTING\": \"Female\", \"MINORITY_DENOTING\": \"White\", \"JOBCAT_DENOTING\": \"Administration\", \"SOCIODEMOGRAPHY\": 0, \"SOCIODEMOGRAPHY_DENOTING\": \"White_Female\"}, {\"SALARY\": 23400, \"EDUC\": 12, \"SALBEGIN\": 11250, \"GENDER\": 0, \"MINORITY\": 0, \"JOBCAT\": 1, \"GENDER_DENOTING\": \"Female\", \"MINORITY_DENOTING\": \"White\", \"JOBCAT_DENOTING\": \"Administration\", \"SOCIODEMOGRAPHY\": 0, \"SOCIODEMOGRAPHY_DENOTING\": \"White_Female\"}, {\"SALARY\": 24300, \"EDUC\": 12, \"SALBEGIN\": 10950, \"GENDER\": 0, \"MINORITY\": 0, \"JOBCAT\": 1, \"GENDER_DENOTING\": \"Female\", \"MINORITY_DENOTING\": \"White\", \"JOBCAT_DENOTING\": \"Administration\", \"SOCIODEMOGRAPHY\": 0, \"SOCIODEMOGRAPHY_DENOTING\": \"White_Female\"}, {\"SALARY\": 28500, \"EDUC\": 12, \"SALBEGIN\": 11250, \"GENDER\": 0, \"MINORITY\": 0, \"JOBCAT\": 1, \"GENDER_DENOTING\": \"Female\", \"MINORITY_DENOTING\": \"White\", \"JOBCAT_DENOTING\": \"Administration\", \"SOCIODEMOGRAPHY\": 0, \"SOCIODEMOGRAPHY_DENOTING\": \"White_Female\"}, {\"SALARY\": 19950, \"EDUC\": 12, \"SALBEGIN\": 11250, \"GENDER\": 0, \"MINORITY\": 0, \"JOBCAT\": 1, \"GENDER_DENOTING\": \"Female\", \"MINORITY_DENOTING\": \"White\", \"JOBCAT_DENOTING\": \"Administration\", \"SOCIODEMOGRAPHY\": 0, \"SOCIODEMOGRAPHY_DENOTING\": \"White_Female\"}, {\"SALARY\": 23400, \"EDUC\": 12, \"SALBEGIN\": 11250, \"GENDER\": 0, \"MINORITY\": 0, \"JOBCAT\": 1, \"GENDER_DENOTING\": \"Female\", \"MINORITY_DENOTING\": \"White\", \"JOBCAT_DENOTING\": \"Administration\", \"SOCIODEMOGRAPHY\": 0, \"SOCIODEMOGRAPHY_DENOTING\": \"White_Female\"}, {\"SALARY\": 34500, \"EDUC\": 16, \"SALBEGIN\": 17250, \"GENDER\": 0, \"MINORITY\": 0, \"JOBCAT\": 1, \"GENDER_DENOTING\": \"Female\", \"MINORITY_DENOTING\": \"White\", \"JOBCAT_DENOTING\": \"Administration\", \"SOCIODEMOGRAPHY\": 0, \"SOCIODEMOGRAPHY_DENOTING\": \"White_Female\"}, {\"SALARY\": 18150, \"EDUC\": 12, \"SALBEGIN\": 10950, \"GENDER\": 0, \"MINORITY\": 0, \"JOBCAT\": 1, \"GENDER_DENOTING\": \"Female\", \"MINORITY_DENOTING\": \"White\", \"JOBCAT_DENOTING\": \"Administration\", \"SOCIODEMOGRAPHY\": 0, \"SOCIODEMOGRAPHY_DENOTING\": \"White_Female\"}, {\"SALARY\": 22350, \"EDUC\": 12, \"SALBEGIN\": 15000, \"GENDER\": 1, \"MINORITY\": 1, \"JOBCAT\": 1, \"GENDER_DENOTING\": \"Male\", \"MINORITY_DENOTING\": \"Minority\", \"JOBCAT_DENOTING\": \"Administration\", \"SOCIODEMOGRAPHY\": 3, \"SOCIODEMOGRAPHY_DENOTING\": \"Minority_Male\"}, {\"SALARY\": 40200, \"EDUC\": 15, \"SALBEGIN\": 17250, \"GENDER\": 1, \"MINORITY\": 0, \"JOBCAT\": 1, \"GENDER_DENOTING\": \"Male\", \"MINORITY_DENOTING\": \"White\", \"JOBCAT_DENOTING\": \"Administration\", \"SOCIODEMOGRAPHY\": 1, \"SOCIODEMOGRAPHY_DENOTING\": \"White_Male\"}, {\"SALARY\": 28650, \"EDUC\": 15, \"SALBEGIN\": 18000, \"GENDER\": 1, \"MINORITY\": 0, \"JOBCAT\": 1, \"GENDER_DENOTING\": \"Male\", \"MINORITY_DENOTING\": \"White\", \"JOBCAT_DENOTING\": \"Administration\", \"SOCIODEMOGRAPHY\": 1, \"SOCIODEMOGRAPHY_DENOTING\": \"White_Male\"}, {\"SALARY\": 27750, \"EDUC\": 15, \"SALBEGIN\": 16500, \"GENDER\": 1, \"MINORITY\": 0, \"JOBCAT\": 1, \"GENDER_DENOTING\": \"Male\", \"MINORITY_DENOTING\": \"White\", \"JOBCAT_DENOTING\": \"Administration\", \"SOCIODEMOGRAPHY\": 1, \"SOCIODEMOGRAPHY_DENOTING\": \"White_Male\"}, {\"SALARY\": 66875, \"EDUC\": 18, \"SALBEGIN\": 31980, \"GENDER\": 1, \"MINORITY\": 0, \"JOBCAT\": 1, \"GENDER_DENOTING\": \"Male\", \"MINORITY_DENOTING\": \"White\", \"JOBCAT_DENOTING\": \"Administration\", \"SOCIODEMOGRAPHY\": 1, \"SOCIODEMOGRAPHY_DENOTING\": \"White_Male\"}, {\"SALARY\": 30000, \"EDUC\": 12, \"SALBEGIN\": 15750, \"GENDER\": 1, \"MINORITY\": 0, \"JOBCAT\": 2, \"GENDER_DENOTING\": \"Male\", \"MINORITY_DENOTING\": \"White\", \"JOBCAT_DENOTING\": \"Custody\", \"SOCIODEMOGRAPHY\": 1, \"SOCIODEMOGRAPHY_DENOTING\": \"White_Male\"}, {\"SALARY\": 83750, \"EDUC\": 16, \"SALBEGIN\": 21750, \"GENDER\": 1, \"MINORITY\": 0, \"JOBCAT\": 3, \"GENDER_DENOTING\": \"Male\", \"MINORITY_DENOTING\": \"White\", \"JOBCAT_DENOTING\": \"Management\", \"SOCIODEMOGRAPHY\": 1, \"SOCIODEMOGRAPHY_DENOTING\": \"White_Male\"}, {\"SALARY\": 33900, \"EDUC\": 12, \"SALBEGIN\": 16500, \"GENDER\": 1, \"MINORITY\": 0, \"JOBCAT\": 1, \"GENDER_DENOTING\": \"Male\", \"MINORITY_DENOTING\": \"White\", \"JOBCAT_DENOTING\": \"Administration\", \"SOCIODEMOGRAPHY\": 1, \"SOCIODEMOGRAPHY_DENOTING\": \"White_Male\"}, {\"SALARY\": 56500, \"EDUC\": 16, \"SALBEGIN\": 21000, \"GENDER\": 1, \"MINORITY\": 0, \"JOBCAT\": 3, \"GENDER_DENOTING\": \"Male\", \"MINORITY_DENOTING\": \"White\", \"JOBCAT_DENOTING\": \"Management\", \"SOCIODEMOGRAPHY\": 1, \"SOCIODEMOGRAPHY_DENOTING\": \"White_Male\"}, {\"SALARY\": 43000, \"EDUC\": 16, \"SALBEGIN\": 17490, \"GENDER\": 0, \"MINORITY\": 0, \"JOBCAT\": 3, \"GENDER_DENOTING\": \"Female\", \"MINORITY_DENOTING\": \"White\", \"JOBCAT_DENOTING\": \"Management\", \"SOCIODEMOGRAPHY\": 0, \"SOCIODEMOGRAPHY_DENOTING\": \"White_Female\"}, {\"SALARY\": 20850, \"EDUC\": 8, \"SALBEGIN\": 12000, \"GENDER\": 0, \"MINORITY\": 0, \"JOBCAT\": 1, \"GENDER_DENOTING\": \"Female\", \"MINORITY_DENOTING\": \"White\", \"JOBCAT_DENOTING\": \"Administration\", \"SOCIODEMOGRAPHY\": 0, \"SOCIODEMOGRAPHY_DENOTING\": \"White_Female\"}, {\"SALARY\": 24450, \"EDUC\": 12, \"SALBEGIN\": 12000, \"GENDER\": 0, \"MINORITY\": 0, \"JOBCAT\": 1, \"GENDER_DENOTING\": \"Female\", \"MINORITY_DENOTING\": \"White\", \"JOBCAT_DENOTING\": \"Administration\", \"SOCIODEMOGRAPHY\": 0, \"SOCIODEMOGRAPHY_DENOTING\": \"White_Female\"}, {\"SALARY\": 24750, \"EDUC\": 12, \"SALBEGIN\": 10950, \"GENDER\": 0, \"MINORITY\": 0, \"JOBCAT\": 1, \"GENDER_DENOTING\": \"Female\", \"MINORITY_DENOTING\": \"White\", \"JOBCAT_DENOTING\": \"Administration\", \"SOCIODEMOGRAPHY\": 0, \"SOCIODEMOGRAPHY_DENOTING\": \"White_Female\"}, {\"SALARY\": 34500, \"EDUC\": 8, \"SALBEGIN\": 15750, \"GENDER\": 1, \"MINORITY\": 1, \"JOBCAT\": 2, \"GENDER_DENOTING\": \"Male\", \"MINORITY_DENOTING\": \"Minority\", \"JOBCAT_DENOTING\": \"Custody\", \"SOCIODEMOGRAPHY\": 3, \"SOCIODEMOGRAPHY_DENOTING\": \"Minority_Male\"}, {\"SALARY\": 27900, \"EDUC\": 14, \"SALBEGIN\": 15000, \"GENDER\": 1, \"MINORITY\": 1, \"JOBCAT\": 1, \"GENDER_DENOTING\": \"Male\", \"MINORITY_DENOTING\": \"Minority\", \"JOBCAT_DENOTING\": \"Administration\", \"SOCIODEMOGRAPHY\": 3, \"SOCIODEMOGRAPHY_DENOTING\": \"Minority_Male\"}, {\"SALARY\": 68125, \"EDUC\": 19, \"SALBEGIN\": 32010, \"GENDER\": 1, \"MINORITY\": 0, \"JOBCAT\": 3, \"GENDER_DENOTING\": \"Male\", \"MINORITY_DENOTING\": \"White\", \"JOBCAT_DENOTING\": \"Management\", \"SOCIODEMOGRAPHY\": 1, \"SOCIODEMOGRAPHY_DENOTING\": \"White_Male\"}, {\"SALARY\": 73500, \"EDUC\": 19, \"SALBEGIN\": 33000, \"GENDER\": 1, \"MINORITY\": 0, \"JOBCAT\": 3, \"GENDER_DENOTING\": \"Male\", \"MINORITY_DENOTING\": \"White\", \"JOBCAT_DENOTING\": \"Management\", \"SOCIODEMOGRAPHY\": 1, \"SOCIODEMOGRAPHY_DENOTING\": \"White_Male\"}, {\"SALARY\": 30750, \"EDUC\": 8, \"SALBEGIN\": 15750, \"GENDER\": 1, \"MINORITY\": 0, \"JOBCAT\": 2, \"GENDER_DENOTING\": \"Male\", \"MINORITY_DENOTING\": \"White\", \"JOBCAT_DENOTING\": \"Custody\", \"SOCIODEMOGRAPHY\": 1, \"SOCIODEMOGRAPHY_DENOTING\": \"White_Male\"}, {\"SALARY\": 40050, \"EDUC\": 15, \"SALBEGIN\": 25500, \"GENDER\": 1, \"MINORITY\": 0, \"JOBCAT\": 3, \"GENDER_DENOTING\": \"Male\", \"MINORITY_DENOTING\": \"White\", \"JOBCAT_DENOTING\": \"Management\", \"SOCIODEMOGRAPHY\": 1, \"SOCIODEMOGRAPHY_DENOTING\": \"White_Male\"}, {\"SALARY\": 40350, \"EDUC\": 16, \"SALBEGIN\": 19500, \"GENDER\": 1, \"MINORITY\": 0, \"JOBCAT\": 1, \"GENDER_DENOTING\": \"Male\", \"MINORITY_DENOTING\": \"White\", \"JOBCAT_DENOTING\": \"Administration\", \"SOCIODEMOGRAPHY\": 1, \"SOCIODEMOGRAPHY_DENOTING\": \"White_Male\"}, {\"SALARY\": 38700, \"EDUC\": 15, \"SALBEGIN\": 23730, \"GENDER\": 1, \"MINORITY\": 0, \"JOBCAT\": 3, \"GENDER_DENOTING\": \"Male\", \"MINORITY_DENOTING\": \"White\", \"JOBCAT_DENOTING\": \"Management\", \"SOCIODEMOGRAPHY\": 1, \"SOCIODEMOGRAPHY_DENOTING\": \"White_Male\"}, {\"SALARY\": 65000, \"EDUC\": 17, \"SALBEGIN\": 30750, \"GENDER\": 1, \"MINORITY\": 0, \"JOBCAT\": 3, \"GENDER_DENOTING\": \"Male\", \"MINORITY_DENOTING\": \"White\", \"JOBCAT_DENOTING\": \"Management\", \"SOCIODEMOGRAPHY\": 1, \"SOCIODEMOGRAPHY_DENOTING\": \"White_Male\"}, {\"SALARY\": 51450, \"EDUC\": 18, \"SALBEGIN\": 36240, \"GENDER\": 1, \"MINORITY\": 0, \"JOBCAT\": 3, \"GENDER_DENOTING\": \"Male\", \"MINORITY_DENOTING\": \"White\", \"JOBCAT_DENOTING\": \"Management\", \"SOCIODEMOGRAPHY\": 1, \"SOCIODEMOGRAPHY_DENOTING\": \"White_Male\"}, {\"SALARY\": 35250, \"EDUC\": 12, \"SALBEGIN\": 15750, \"GENDER\": 1, \"MINORITY\": 0, \"JOBCAT\": 2, \"GENDER_DENOTING\": \"Male\", \"MINORITY_DENOTING\": \"White\", \"JOBCAT_DENOTING\": \"Custody\", \"SOCIODEMOGRAPHY\": 1, \"SOCIODEMOGRAPHY_DENOTING\": \"White_Male\"}, {\"SALARY\": 25950, \"EDUC\": 14, \"SALBEGIN\": 15000, \"GENDER\": 1, \"MINORITY\": 0, \"JOBCAT\": 1, \"GENDER_DENOTING\": \"Male\", \"MINORITY_DENOTING\": \"White\", \"JOBCAT_DENOTING\": \"Administration\", \"SOCIODEMOGRAPHY\": 1, \"SOCIODEMOGRAPHY_DENOTING\": \"White_Male\"}, {\"SALARY\": 25050, \"EDUC\": 15, \"SALBEGIN\": 14250, \"GENDER\": 1, \"MINORITY\": 0, \"JOBCAT\": 1, \"GENDER_DENOTING\": \"Male\", \"MINORITY_DENOTING\": \"White\", \"JOBCAT_DENOTING\": \"Administration\", \"SOCIODEMOGRAPHY\": 1, \"SOCIODEMOGRAPHY_DENOTING\": \"White_Male\"}, {\"SALARY\": 26700, \"EDUC\": 12, \"SALBEGIN\": 12750, \"GENDER\": 1, \"MINORITY\": 0, \"JOBCAT\": 1, \"GENDER_DENOTING\": \"Male\", \"MINORITY_DENOTING\": \"White\", \"JOBCAT_DENOTING\": \"Administration\", \"SOCIODEMOGRAPHY\": 1, \"SOCIODEMOGRAPHY_DENOTING\": \"White_Male\"}, {\"SALARY\": 24000, \"EDUC\": 8, \"SALBEGIN\": 15750, \"GENDER\": 1, \"MINORITY\": 0, \"JOBCAT\": 1, \"GENDER_DENOTING\": \"Male\", \"MINORITY_DENOTING\": \"White\", \"JOBCAT_DENOTING\": \"Administration\", \"SOCIODEMOGRAPHY\": 1, \"SOCIODEMOGRAPHY_DENOTING\": \"White_Male\"}, {\"SALARY\": 26850, \"EDUC\": 12, \"SALBEGIN\": 15000, \"GENDER\": 1, \"MINORITY\": 0, \"JOBCAT\": 1, \"GENDER_DENOTING\": \"Male\", \"MINORITY_DENOTING\": \"White\", \"JOBCAT_DENOTING\": \"Administration\", \"SOCIODEMOGRAPHY\": 1, \"SOCIODEMOGRAPHY_DENOTING\": \"White_Male\"}, {\"SALARY\": 23400, \"EDUC\": 12, \"SALBEGIN\": 15300, \"GENDER\": 0, \"MINORITY\": 0, \"JOBCAT\": 1, \"GENDER_DENOTING\": \"Female\", \"MINORITY_DENOTING\": \"White\", \"JOBCAT_DENOTING\": \"Administration\", \"SOCIODEMOGRAPHY\": 0, \"SOCIODEMOGRAPHY_DENOTING\": \"White_Female\"}, {\"SALARY\": 24600, \"EDUC\": 12, \"SALBEGIN\": 13500, \"GENDER\": 0, \"MINORITY\": 0, \"JOBCAT\": 1, \"GENDER_DENOTING\": \"Female\", \"MINORITY_DENOTING\": \"White\", \"JOBCAT_DENOTING\": \"Administration\", \"SOCIODEMOGRAPHY\": 0, \"SOCIODEMOGRAPHY_DENOTING\": \"White_Female\"}, {\"SALARY\": 32550, \"EDUC\": 15, \"SALBEGIN\": 18000, \"GENDER\": 0, \"MINORITY\": 0, \"JOBCAT\": 1, \"GENDER_DENOTING\": \"Female\", \"MINORITY_DENOTING\": \"White\", \"JOBCAT_DENOTING\": \"Administration\", \"SOCIODEMOGRAPHY\": 0, \"SOCIODEMOGRAPHY_DENOTING\": \"White_Female\"}, {\"SALARY\": 26550, \"EDUC\": 16, \"SALBEGIN\": 15000, \"GENDER\": 1, \"MINORITY\": 1, \"JOBCAT\": 1, \"GENDER_DENOTING\": \"Male\", \"MINORITY_DENOTING\": \"Minority\", \"JOBCAT_DENOTING\": \"Administration\", \"SOCIODEMOGRAPHY\": 3, \"SOCIODEMOGRAPHY_DENOTING\": \"Minority_Male\"}, {\"SALARY\": 31500, \"EDUC\": 12, \"SALBEGIN\": 13500, \"GENDER\": 1, \"MINORITY\": 1, \"JOBCAT\": 1, \"GENDER_DENOTING\": \"Male\", \"MINORITY_DENOTING\": \"Minority\", \"JOBCAT_DENOTING\": \"Administration\", \"SOCIODEMOGRAPHY\": 3, \"SOCIODEMOGRAPHY_DENOTING\": \"Minority_Male\"}, {\"SALARY\": 22350, \"EDUC\": 8, \"SALBEGIN\": 15000, \"GENDER\": 1, \"MINORITY\": 1, \"JOBCAT\": 1, \"GENDER_DENOTING\": \"Male\", \"MINORITY_DENOTING\": \"Minority\", \"JOBCAT_DENOTING\": \"Administration\", \"SOCIODEMOGRAPHY\": 3, \"SOCIODEMOGRAPHY_DENOTING\": \"Minority_Male\"}, {\"SALARY\": 35250, \"EDUC\": 12, \"SALBEGIN\": 15750, \"GENDER\": 1, \"MINORITY\": 1, \"JOBCAT\": 2, \"GENDER_DENOTING\": \"Male\", \"MINORITY_DENOTING\": \"Minority\", \"JOBCAT_DENOTING\": \"Custody\", \"SOCIODEMOGRAPHY\": 3, \"SOCIODEMOGRAPHY_DENOTING\": \"Minority_Male\"}, {\"SALARY\": 25800, \"EDUC\": 15, \"SALBEGIN\": 13500, \"GENDER\": 0, \"MINORITY\": 1, \"JOBCAT\": 1, \"GENDER_DENOTING\": \"Female\", \"MINORITY_DENOTING\": \"Minority\", \"JOBCAT_DENOTING\": \"Administration\", \"SOCIODEMOGRAPHY\": 2, \"SOCIODEMOGRAPHY_DENOTING\": \"Minority_Female\"}, {\"SALARY\": 30750, \"EDUC\": 12, \"SALBEGIN\": 15750, \"GENDER\": 1, \"MINORITY\": 0, \"JOBCAT\": 2, \"GENDER_DENOTING\": \"Male\", \"MINORITY_DENOTING\": \"White\", \"JOBCAT_DENOTING\": \"Custody\", \"SOCIODEMOGRAPHY\": 1, \"SOCIODEMOGRAPHY_DENOTING\": \"White_Male\"}, {\"SALARY\": 30750, \"EDUC\": 15, \"SALBEGIN\": 16500, \"GENDER\": 1, \"MINORITY\": 0, \"JOBCAT\": 1, \"GENDER_DENOTING\": \"Male\", \"MINORITY_DENOTING\": \"White\", \"JOBCAT_DENOTING\": \"Administration\", \"SOCIODEMOGRAPHY\": 1, \"SOCIODEMOGRAPHY_DENOTING\": \"White_Male\"}, {\"SALARY\": 50000, \"EDUC\": 16, \"SALBEGIN\": 32490, \"GENDER\": 1, \"MINORITY\": 0, \"JOBCAT\": 3, \"GENDER_DENOTING\": \"Male\", \"MINORITY_DENOTING\": \"White\", \"JOBCAT_DENOTING\": \"Management\", \"SOCIODEMOGRAPHY\": 1, \"SOCIODEMOGRAPHY_DENOTING\": \"White_Male\"}, {\"SALARY\": 34500, \"EDUC\": 15, \"SALBEGIN\": 18000, \"GENDER\": 1, \"MINORITY\": 0, \"JOBCAT\": 1, \"GENDER_DENOTING\": \"Male\", \"MINORITY_DENOTING\": \"White\", \"JOBCAT_DENOTING\": \"Administration\", \"SOCIODEMOGRAPHY\": 1, \"SOCIODEMOGRAPHY_DENOTING\": \"White_Male\"}, {\"SALARY\": 26250, \"EDUC\": 15, \"SALBEGIN\": 15750, \"GENDER\": 1, \"MINORITY\": 0, \"JOBCAT\": 1, \"GENDER_DENOTING\": \"Male\", \"MINORITY_DENOTING\": \"White\", \"JOBCAT_DENOTING\": \"Administration\", \"SOCIODEMOGRAPHY\": 1, \"SOCIODEMOGRAPHY_DENOTING\": \"White_Male\"}, {\"SALARY\": 44875, \"EDUC\": 16, \"SALBEGIN\": 21240, \"GENDER\": 1, \"MINORITY\": 0, \"JOBCAT\": 1, \"GENDER_DENOTING\": \"Male\", \"MINORITY_DENOTING\": \"White\", \"JOBCAT_DENOTING\": \"Administration\", \"SOCIODEMOGRAPHY\": 1, \"SOCIODEMOGRAPHY_DENOTING\": \"White_Male\"}, {\"SALARY\": 22500, \"EDUC\": 12, \"SALBEGIN\": 12000, \"GENDER\": 0, \"MINORITY\": 0, \"JOBCAT\": 1, \"GENDER_DENOTING\": \"Female\", \"MINORITY_DENOTING\": \"White\", \"JOBCAT_DENOTING\": \"Administration\", \"SOCIODEMOGRAPHY\": 0, \"SOCIODEMOGRAPHY_DENOTING\": \"White_Female\"}, {\"SALARY\": 25650, \"EDUC\": 12, \"SALBEGIN\": 14250, \"GENDER\": 0, \"MINORITY\": 0, \"JOBCAT\": 1, \"GENDER_DENOTING\": \"Female\", \"MINORITY_DENOTING\": \"White\", \"JOBCAT_DENOTING\": \"Administration\", \"SOCIODEMOGRAPHY\": 0, \"SOCIODEMOGRAPHY_DENOTING\": \"White_Female\"}, {\"SALARY\": 21300, \"EDUC\": 12, \"SALBEGIN\": 11250, \"GENDER\": 0, \"MINORITY\": 0, \"JOBCAT\": 1, \"GENDER_DENOTING\": \"Female\", \"MINORITY_DENOTING\": \"White\", \"JOBCAT_DENOTING\": \"Administration\", \"SOCIODEMOGRAPHY\": 0, \"SOCIODEMOGRAPHY_DENOTING\": \"White_Female\"}, {\"SALARY\": 29850, \"EDUC\": 12, \"SALBEGIN\": 13500, \"GENDER\": 0, \"MINORITY\": 0, \"JOBCAT\": 1, \"GENDER_DENOTING\": \"Female\", \"MINORITY_DENOTING\": \"White\", \"JOBCAT_DENOTING\": \"Administration\", \"SOCIODEMOGRAPHY\": 0, \"SOCIODEMOGRAPHY_DENOTING\": \"White_Female\"}, {\"SALARY\": 34500, \"EDUC\": 12, \"SALBEGIN\": 12150, \"GENDER\": 0, \"MINORITY\": 0, \"JOBCAT\": 1, \"GENDER_DENOTING\": \"Female\", \"MINORITY_DENOTING\": \"White\", \"JOBCAT_DENOTING\": \"Administration\", \"SOCIODEMOGRAPHY\": 0, \"SOCIODEMOGRAPHY_DENOTING\": \"White_Female\"}, {\"SALARY\": 27750, \"EDUC\": 15, \"SALBEGIN\": 15000, \"GENDER\": 1, \"MINORITY\": 1, \"JOBCAT\": 1, \"GENDER_DENOTING\": \"Male\", \"MINORITY_DENOTING\": \"Minority\", \"JOBCAT_DENOTING\": \"Administration\", \"SOCIODEMOGRAPHY\": 3, \"SOCIODEMOGRAPHY_DENOTING\": \"Minority_Male\"}, {\"SALARY\": 27750, \"EDUC\": 12, \"SALBEGIN\": 11550, \"GENDER\": 1, \"MINORITY\": 1, \"JOBCAT\": 1, \"GENDER_DENOTING\": \"Male\", \"MINORITY_DENOTING\": \"Minority\", \"JOBCAT_DENOTING\": \"Administration\", \"SOCIODEMOGRAPHY\": 3, \"SOCIODEMOGRAPHY_DENOTING\": \"Minority_Male\"}, {\"SALARY\": 48750, \"EDUC\": 16, \"SALBEGIN\": 21990, \"GENDER\": 1, \"MINORITY\": 0, \"JOBCAT\": 3, \"GENDER_DENOTING\": \"Male\", \"MINORITY_DENOTING\": \"White\", \"JOBCAT_DENOTING\": \"Management\", \"SOCIODEMOGRAPHY\": 1, \"SOCIODEMOGRAPHY_DENOTING\": \"White_Male\"}, {\"SALARY\": 43410, \"EDUC\": 15, \"SALBEGIN\": 15750, \"GENDER\": 1, \"MINORITY\": 0, \"JOBCAT\": 1, \"GENDER_DENOTING\": \"Male\", \"MINORITY_DENOTING\": \"White\", \"JOBCAT_DENOTING\": \"Administration\", \"SOCIODEMOGRAPHY\": 1, \"SOCIODEMOGRAPHY_DENOTING\": \"White_Male\"}, {\"SALARY\": 22050, \"EDUC\": 12, \"SALBEGIN\": 15000, \"GENDER\": 1, \"MINORITY\": 0, \"JOBCAT\": 1, \"GENDER_DENOTING\": \"Male\", \"MINORITY_DENOTING\": \"White\", \"JOBCAT_DENOTING\": \"Administration\", \"SOCIODEMOGRAPHY\": 1, \"SOCIODEMOGRAPHY_DENOTING\": \"White_Male\"}, {\"SALARY\": 22050, \"EDUC\": 12, \"SALBEGIN\": 12000, \"GENDER\": 0, \"MINORITY\": 0, \"JOBCAT\": 1, \"GENDER_DENOTING\": \"Female\", \"MINORITY_DENOTING\": \"White\", \"JOBCAT_DENOTING\": \"Administration\", \"SOCIODEMOGRAPHY\": 0, \"SOCIODEMOGRAPHY_DENOTING\": \"White_Female\"}, {\"SALARY\": 22500, \"EDUC\": 12, \"SALBEGIN\": 14250, \"GENDER\": 0, \"MINORITY\": 0, \"JOBCAT\": 1, \"GENDER_DENOTING\": \"Female\", \"MINORITY_DENOTING\": \"White\", \"JOBCAT_DENOTING\": \"Administration\", \"SOCIODEMOGRAPHY\": 0, \"SOCIODEMOGRAPHY_DENOTING\": \"White_Female\"}, {\"SALARY\": 25500, \"EDUC\": 15, \"SALBEGIN\": 12000, \"GENDER\": 0, \"MINORITY\": 0, \"JOBCAT\": 1, \"GENDER_DENOTING\": \"Female\", \"MINORITY_DENOTING\": \"White\", \"JOBCAT_DENOTING\": \"Administration\", \"SOCIODEMOGRAPHY\": 0, \"SOCIODEMOGRAPHY_DENOTING\": \"White_Female\"}, {\"SALARY\": 29160, \"EDUC\": 12, \"SALBEGIN\": 15000, \"GENDER\": 0, \"MINORITY\": 0, \"JOBCAT\": 1, \"GENDER_DENOTING\": \"Female\", \"MINORITY_DENOTING\": \"White\", \"JOBCAT_DENOTING\": \"Administration\", \"SOCIODEMOGRAPHY\": 0, \"SOCIODEMOGRAPHY_DENOTING\": \"White_Female\"}, {\"SALARY\": 16800, \"EDUC\": 8, \"SALBEGIN\": 10200, \"GENDER\": 0, \"MINORITY\": 0, \"JOBCAT\": 1, \"GENDER_DENOTING\": \"Female\", \"MINORITY_DENOTING\": \"White\", \"JOBCAT_DENOTING\": \"Administration\", \"SOCIODEMOGRAPHY\": 0, \"SOCIODEMOGRAPHY_DENOTING\": \"White_Female\"}, {\"SALARY\": 29550, \"EDUC\": 8, \"SALBEGIN\": 15750, \"GENDER\": 1, \"MINORITY\": 1, \"JOBCAT\": 2, \"GENDER_DENOTING\": \"Male\", \"MINORITY_DENOTING\": \"Minority\", \"JOBCAT_DENOTING\": \"Custody\", \"SOCIODEMOGRAPHY\": 3, \"SOCIODEMOGRAPHY_DENOTING\": \"Minority_Male\"}, {\"SALARY\": 26700, \"EDUC\": 12, \"SALBEGIN\": 15750, \"GENDER\": 1, \"MINORITY\": 1, \"JOBCAT\": 1, \"GENDER_DENOTING\": \"Male\", \"MINORITY_DENOTING\": \"Minority\", \"JOBCAT_DENOTING\": \"Administration\", \"SOCIODEMOGRAPHY\": 3, \"SOCIODEMOGRAPHY_DENOTING\": \"Minority_Male\"}, {\"SALARY\": 55000, \"EDUC\": 18, \"SALBEGIN\": 32490, \"GENDER\": 1, \"MINORITY\": 0, \"JOBCAT\": 3, \"GENDER_DENOTING\": \"Male\", \"MINORITY_DENOTING\": \"White\", \"JOBCAT_DENOTING\": \"Management\", \"SOCIODEMOGRAPHY\": 1, \"SOCIODEMOGRAPHY_DENOTING\": \"White_Male\"}, {\"SALARY\": 62500, \"EDUC\": 18, \"SALBEGIN\": 34980, \"GENDER\": 1, \"MINORITY\": 0, \"JOBCAT\": 3, \"GENDER_DENOTING\": \"Male\", \"MINORITY_DENOTING\": \"White\", \"JOBCAT_DENOTING\": \"Management\", \"SOCIODEMOGRAPHY\": 1, \"SOCIODEMOGRAPHY_DENOTING\": \"White_Male\"}, {\"SALARY\": 27300, \"EDUC\": 15, \"SALBEGIN\": 17250, \"GENDER\": 1, \"MINORITY\": 0, \"JOBCAT\": 1, \"GENDER_DENOTING\": \"Male\", \"MINORITY_DENOTING\": \"White\", \"JOBCAT_DENOTING\": \"Administration\", \"SOCIODEMOGRAPHY\": 1, \"SOCIODEMOGRAPHY_DENOTING\": \"White_Male\"}, {\"SALARY\": 24450, \"EDUC\": 12, \"SALBEGIN\": 12000, \"GENDER\": 0, \"MINORITY\": 0, \"JOBCAT\": 1, \"GENDER_DENOTING\": \"Female\", \"MINORITY_DENOTING\": \"White\", \"JOBCAT_DENOTING\": \"Administration\", \"SOCIODEMOGRAPHY\": 0, \"SOCIODEMOGRAPHY_DENOTING\": \"White_Female\"}, {\"SALARY\": 33000, \"EDUC\": 16, \"SALBEGIN\": 18000, \"GENDER\": 0, \"MINORITY\": 0, \"JOBCAT\": 1, \"GENDER_DENOTING\": \"Female\", \"MINORITY_DENOTING\": \"White\", \"JOBCAT_DENOTING\": \"Administration\", \"SOCIODEMOGRAPHY\": 0, \"SOCIODEMOGRAPHY_DENOTING\": \"White_Female\"}, {\"SALARY\": 37050, \"EDUC\": 15, \"SALBEGIN\": 18000, \"GENDER\": 0, \"MINORITY\": 0, \"JOBCAT\": 1, \"GENDER_DENOTING\": \"Female\", \"MINORITY_DENOTING\": \"White\", \"JOBCAT_DENOTING\": \"Administration\", \"SOCIODEMOGRAPHY\": 0, \"SOCIODEMOGRAPHY_DENOTING\": \"White_Female\"}, {\"SALARY\": 24450, \"EDUC\": 12, \"SALBEGIN\": 10950, \"GENDER\": 0, \"MINORITY\": 1, \"JOBCAT\": 1, \"GENDER_DENOTING\": \"Female\", \"MINORITY_DENOTING\": \"Minority\", \"JOBCAT_DENOTING\": \"Administration\", \"SOCIODEMOGRAPHY\": 2, \"SOCIODEMOGRAPHY_DENOTING\": \"Minority_Female\"}, {\"SALARY\": 31950, \"EDUC\": 8, \"SALBEGIN\": 15750, \"GENDER\": 1, \"MINORITY\": 0, \"JOBCAT\": 2, \"GENDER_DENOTING\": \"Male\", \"MINORITY_DENOTING\": \"White\", \"JOBCAT_DENOTING\": \"Custody\", \"SOCIODEMOGRAPHY\": 1, \"SOCIODEMOGRAPHY_DENOTING\": \"White_Male\"}, {\"SALARY\": 47250, \"EDUC\": 16, \"SALBEGIN\": 21240, \"GENDER\": 1, \"MINORITY\": 0, \"JOBCAT\": 3, \"GENDER_DENOTING\": \"Male\", \"MINORITY_DENOTING\": \"White\", \"JOBCAT_DENOTING\": \"Management\", \"SOCIODEMOGRAPHY\": 1, \"SOCIODEMOGRAPHY_DENOTING\": \"White_Male\"}, {\"SALARY\": 26100, \"EDUC\": 12, \"SALBEGIN\": 11550, \"GENDER\": 0, \"MINORITY\": 0, \"JOBCAT\": 1, \"GENDER_DENOTING\": \"Female\", \"MINORITY_DENOTING\": \"White\", \"JOBCAT_DENOTING\": \"Administration\", \"SOCIODEMOGRAPHY\": 0, \"SOCIODEMOGRAPHY_DENOTING\": \"White_Female\"}, {\"SALARY\": 15900, \"EDUC\": 8, \"SALBEGIN\": 10200, \"GENDER\": 0, \"MINORITY\": 0, \"JOBCAT\": 1, \"GENDER_DENOTING\": \"Female\", \"MINORITY_DENOTING\": \"White\", \"JOBCAT_DENOTING\": \"Administration\", \"SOCIODEMOGRAPHY\": 0, \"SOCIODEMOGRAPHY_DENOTING\": \"White_Female\"}, {\"SALARY\": 23700, \"EDUC\": 8, \"SALBEGIN\": 10650, \"GENDER\": 0, \"MINORITY\": 0, \"JOBCAT\": 1, \"GENDER_DENOTING\": \"Female\", \"MINORITY_DENOTING\": \"White\", \"JOBCAT_DENOTING\": \"Administration\", \"SOCIODEMOGRAPHY\": 0, \"SOCIODEMOGRAPHY_DENOTING\": \"White_Female\"}, {\"SALARY\": 21750, \"EDUC\": 8, \"SALBEGIN\": 12450, \"GENDER\": 0, \"MINORITY\": 0, \"JOBCAT\": 1, \"GENDER_DENOTING\": \"Female\", \"MINORITY_DENOTING\": \"White\", \"JOBCAT_DENOTING\": \"Administration\", \"SOCIODEMOGRAPHY\": 0, \"SOCIODEMOGRAPHY_DENOTING\": \"White_Female\"}, {\"SALARY\": 59400, \"EDUC\": 12, \"SALBEGIN\": 33750, \"GENDER\": 1, \"MINORITY\": 1, \"JOBCAT\": 3, \"GENDER_DENOTING\": \"Male\", \"MINORITY_DENOTING\": \"Minority\", \"JOBCAT_DENOTING\": \"Management\", \"SOCIODEMOGRAPHY\": 3, \"SOCIODEMOGRAPHY_DENOTING\": \"Minority_Male\"}, {\"SALARY\": 24450, \"EDUC\": 12, \"SALBEGIN\": 14250, \"GENDER\": 0, \"MINORITY\": 1, \"JOBCAT\": 1, \"GENDER_DENOTING\": \"Female\", \"MINORITY_DENOTING\": \"Minority\", \"JOBCAT_DENOTING\": \"Administration\", \"SOCIODEMOGRAPHY\": 2, \"SOCIODEMOGRAPHY_DENOTING\": \"Minority_Female\"}, {\"SALARY\": 103500, \"EDUC\": 16, \"SALBEGIN\": 60000, \"GENDER\": 1, \"MINORITY\": 0, \"JOBCAT\": 3, \"GENDER_DENOTING\": \"Male\", \"MINORITY_DENOTING\": \"White\", \"JOBCAT_DENOTING\": \"Management\", \"SOCIODEMOGRAPHY\": 1, \"SOCIODEMOGRAPHY_DENOTING\": \"White_Male\"}, {\"SALARY\": 35700, \"EDUC\": 12, \"SALBEGIN\": 16500, \"GENDER\": 1, \"MINORITY\": 0, \"JOBCAT\": 1, \"GENDER_DENOTING\": \"Male\", \"MINORITY_DENOTING\": \"White\", \"JOBCAT_DENOTING\": \"Administration\", \"SOCIODEMOGRAPHY\": 1, \"SOCIODEMOGRAPHY_DENOTING\": \"White_Male\"}, {\"SALARY\": 22200, \"EDUC\": 12, \"SALBEGIN\": 16500, \"GENDER\": 0, \"MINORITY\": 0, \"JOBCAT\": 1, \"GENDER_DENOTING\": \"Female\", \"MINORITY_DENOTING\": \"White\", \"JOBCAT_DENOTING\": \"Administration\", \"SOCIODEMOGRAPHY\": 0, \"SOCIODEMOGRAPHY_DENOTING\": \"White_Female\"}, {\"SALARY\": 22950, \"EDUC\": 15, \"SALBEGIN\": 13950, \"GENDER\": 0, \"MINORITY\": 0, \"JOBCAT\": 1, \"GENDER_DENOTING\": \"Female\", \"MINORITY_DENOTING\": \"White\", \"JOBCAT_DENOTING\": \"Administration\", \"SOCIODEMOGRAPHY\": 0, \"SOCIODEMOGRAPHY_DENOTING\": \"White_Female\"}, {\"SALARY\": 23100, \"EDUC\": 12, \"SALBEGIN\": 12000, \"GENDER\": 0, \"MINORITY\": 0, \"JOBCAT\": 1, \"GENDER_DENOTING\": \"Female\", \"MINORITY_DENOTING\": \"White\", \"JOBCAT_DENOTING\": \"Administration\", \"SOCIODEMOGRAPHY\": 0, \"SOCIODEMOGRAPHY_DENOTING\": \"White_Female\"}, {\"SALARY\": 56750, \"EDUC\": 16, \"SALBEGIN\": 30000, \"GENDER\": 0, \"MINORITY\": 0, \"JOBCAT\": 3, \"GENDER_DENOTING\": \"Female\", \"MINORITY_DENOTING\": \"White\", \"JOBCAT_DENOTING\": \"Management\", \"SOCIODEMOGRAPHY\": 0, \"SOCIODEMOGRAPHY_DENOTING\": \"White_Female\"}, {\"SALARY\": 29100, \"EDUC\": 17, \"SALBEGIN\": 12750, \"GENDER\": 0, \"MINORITY\": 0, \"JOBCAT\": 1, \"GENDER_DENOTING\": \"Female\", \"MINORITY_DENOTING\": \"White\", \"JOBCAT_DENOTING\": \"Administration\", \"SOCIODEMOGRAPHY\": 0, \"SOCIODEMOGRAPHY_DENOTING\": \"White_Female\"}, {\"SALARY\": 37650, \"EDUC\": 12, \"SALBEGIN\": 15750, \"GENDER\": 0, \"MINORITY\": 0, \"JOBCAT\": 1, \"GENDER_DENOTING\": \"Female\", \"MINORITY_DENOTING\": \"White\", \"JOBCAT_DENOTING\": \"Administration\", \"SOCIODEMOGRAPHY\": 0, \"SOCIODEMOGRAPHY_DENOTING\": \"White_Female\"}, {\"SALARY\": 27900, \"EDUC\": 12, \"SALBEGIN\": 13500, \"GENDER\": 0, \"MINORITY\": 0, \"JOBCAT\": 1, \"GENDER_DENOTING\": \"Female\", \"MINORITY_DENOTING\": \"White\", \"JOBCAT_DENOTING\": \"Administration\", \"SOCIODEMOGRAPHY\": 0, \"SOCIODEMOGRAPHY_DENOTING\": \"White_Female\"}, {\"SALARY\": 21150, \"EDUC\": 8, \"SALBEGIN\": 12000, \"GENDER\": 0, \"MINORITY\": 0, \"JOBCAT\": 1, \"GENDER_DENOTING\": \"Female\", \"MINORITY_DENOTING\": \"White\", \"JOBCAT_DENOTING\": \"Administration\", \"SOCIODEMOGRAPHY\": 0, \"SOCIODEMOGRAPHY_DENOTING\": \"White_Female\"}, {\"SALARY\": 31200, \"EDUC\": 12, \"SALBEGIN\": 15750, \"GENDER\": 1, \"MINORITY\": 1, \"JOBCAT\": 2, \"GENDER_DENOTING\": \"Male\", \"MINORITY_DENOTING\": \"Minority\", \"JOBCAT_DENOTING\": \"Custody\", \"SOCIODEMOGRAPHY\": 3, \"SOCIODEMOGRAPHY_DENOTING\": \"Minority_Male\"}, {\"SALARY\": 20550, \"EDUC\": 12, \"SALBEGIN\": 11250, \"GENDER\": 0, \"MINORITY\": 1, \"JOBCAT\": 1, \"GENDER_DENOTING\": \"Female\", \"MINORITY_DENOTING\": \"Minority\", \"JOBCAT_DENOTING\": \"Administration\", \"SOCIODEMOGRAPHY\": 2, \"SOCIODEMOGRAPHY_DENOTING\": \"Minority_Female\"}, {\"SALARY\": 25950, \"EDUC\": 15, \"SALBEGIN\": 17250, \"GENDER\": 1, \"MINORITY\": 0, \"JOBCAT\": 1, \"GENDER_DENOTING\": \"Male\", \"MINORITY_DENOTING\": \"White\", \"JOBCAT_DENOTING\": \"Administration\", \"SOCIODEMOGRAPHY\": 1, \"SOCIODEMOGRAPHY_DENOTING\": \"White_Male\"}, {\"SALARY\": 28350, \"EDUC\": 15, \"SALBEGIN\": 15000, \"GENDER\": 1, \"MINORITY\": 0, \"JOBCAT\": 1, \"GENDER_DENOTING\": \"Male\", \"MINORITY_DENOTING\": \"White\", \"JOBCAT_DENOTING\": \"Administration\", \"SOCIODEMOGRAPHY\": 1, \"SOCIODEMOGRAPHY_DENOTING\": \"White_Male\"}, {\"SALARY\": 17700, \"EDUC\": 8, \"SALBEGIN\": 10200, \"GENDER\": 0, \"MINORITY\": 0, \"JOBCAT\": 1, \"GENDER_DENOTING\": \"Female\", \"MINORITY_DENOTING\": \"White\", \"JOBCAT_DENOTING\": \"Administration\", \"SOCIODEMOGRAPHY\": 0, \"SOCIODEMOGRAPHY_DENOTING\": \"White_Female\"}, {\"SALARY\": 23550, \"EDUC\": 15, \"SALBEGIN\": 13500, \"GENDER\": 0, \"MINORITY\": 0, \"JOBCAT\": 1, \"GENDER_DENOTING\": \"Female\", \"MINORITY_DENOTING\": \"White\", \"JOBCAT_DENOTING\": \"Administration\", \"SOCIODEMOGRAPHY\": 0, \"SOCIODEMOGRAPHY_DENOTING\": \"White_Female\"}, {\"SALARY\": 19950, \"EDUC\": 12, \"SALBEGIN\": 10200, \"GENDER\": 0, \"MINORITY\": 0, \"JOBCAT\": 1, \"GENDER_DENOTING\": \"Female\", \"MINORITY_DENOTING\": \"White\", \"JOBCAT_DENOTING\": \"Administration\", \"SOCIODEMOGRAPHY\": 0, \"SOCIODEMOGRAPHY_DENOTING\": \"White_Female\"}, {\"SALARY\": 29400, \"EDUC\": 12, \"SALBEGIN\": 15300, \"GENDER\": 0, \"MINORITY\": 0, \"JOBCAT\": 1, \"GENDER_DENOTING\": \"Female\", \"MINORITY_DENOTING\": \"White\", \"JOBCAT_DENOTING\": \"Administration\", \"SOCIODEMOGRAPHY\": 0, \"SOCIODEMOGRAPHY_DENOTING\": \"White_Female\"}, {\"SALARY\": 28800, \"EDUC\": 12, \"SALBEGIN\": 13950, \"GENDER\": 0, \"MINORITY\": 0, \"JOBCAT\": 1, \"GENDER_DENOTING\": \"Female\", \"MINORITY_DENOTING\": \"White\", \"JOBCAT_DENOTING\": \"Administration\", \"SOCIODEMOGRAPHY\": 0, \"SOCIODEMOGRAPHY_DENOTING\": \"White_Female\"}, {\"SALARY\": 16950, \"EDUC\": 8, \"SALBEGIN\": 10200, \"GENDER\": 0, \"MINORITY\": 0, \"JOBCAT\": 1, \"GENDER_DENOTING\": \"Female\", \"MINORITY_DENOTING\": \"White\", \"JOBCAT_DENOTING\": \"Administration\", \"SOCIODEMOGRAPHY\": 0, \"SOCIODEMOGRAPHY_DENOTING\": \"White_Female\"}, {\"SALARY\": 35700, \"EDUC\": 16, \"SALBEGIN\": 18000, \"GENDER\": 1, \"MINORITY\": 1, \"JOBCAT\": 1, \"GENDER_DENOTING\": \"Male\", \"MINORITY_DENOTING\": \"Minority\", \"JOBCAT_DENOTING\": \"Administration\", \"SOCIODEMOGRAPHY\": 3, \"SOCIODEMOGRAPHY_DENOTING\": \"Minority_Male\"}, {\"SALARY\": 17400, \"EDUC\": 12, \"SALBEGIN\": 10200, \"GENDER\": 0, \"MINORITY\": 1, \"JOBCAT\": 1, \"GENDER_DENOTING\": \"Female\", \"MINORITY_DENOTING\": \"Minority\", \"JOBCAT_DENOTING\": \"Administration\", \"SOCIODEMOGRAPHY\": 2, \"SOCIODEMOGRAPHY_DENOTING\": \"Minority_Female\"}, {\"SALARY\": 21450, \"EDUC\": 8, \"SALBEGIN\": 10200, \"GENDER\": 0, \"MINORITY\": 1, \"JOBCAT\": 1, \"GENDER_DENOTING\": \"Female\", \"MINORITY_DENOTING\": \"Minority\", \"JOBCAT_DENOTING\": \"Administration\", \"SOCIODEMOGRAPHY\": 2, \"SOCIODEMOGRAPHY_DENOTING\": \"Minority_Female\"}, {\"SALARY\": 24750, \"EDUC\": 12, \"SALBEGIN\": 12000, \"GENDER\": 0, \"MINORITY\": 1, \"JOBCAT\": 1, \"GENDER_DENOTING\": \"Female\", \"MINORITY_DENOTING\": \"Minority\", \"JOBCAT_DENOTING\": \"Administration\", \"SOCIODEMOGRAPHY\": 2, \"SOCIODEMOGRAPHY_DENOTING\": \"Minority_Female\"}, {\"SALARY\": 16950, \"EDUC\": 12, \"SALBEGIN\": 10200, \"GENDER\": 0, \"MINORITY\": 1, \"JOBCAT\": 1, \"GENDER_DENOTING\": \"Female\", \"MINORITY_DENOTING\": \"Minority\", \"JOBCAT_DENOTING\": \"Administration\", \"SOCIODEMOGRAPHY\": 2, \"SOCIODEMOGRAPHY_DENOTING\": \"Minority_Female\"}, {\"SALARY\": 26100, \"EDUC\": 12, \"SALBEGIN\": 13500, \"GENDER\": 0, \"MINORITY\": 1, \"JOBCAT\": 1, \"GENDER_DENOTING\": \"Female\", \"MINORITY_DENOTING\": \"Minority\", \"JOBCAT_DENOTING\": \"Administration\", \"SOCIODEMOGRAPHY\": 2, \"SOCIODEMOGRAPHY_DENOTING\": \"Minority_Female\"}, {\"SALARY\": 28050, \"EDUC\": 14, \"SALBEGIN\": 15000, \"GENDER\": 1, \"MINORITY\": 0, \"JOBCAT\": 1, \"GENDER_DENOTING\": \"Male\", \"MINORITY_DENOTING\": \"White\", \"JOBCAT_DENOTING\": \"Administration\", \"SOCIODEMOGRAPHY\": 1, \"SOCIODEMOGRAPHY_DENOTING\": \"White_Male\"}, {\"SALARY\": 36600, \"EDUC\": 16, \"SALBEGIN\": 18000, \"GENDER\": 0, \"MINORITY\": 0, \"JOBCAT\": 1, \"GENDER_DENOTING\": \"Female\", \"MINORITY_DENOTING\": \"White\", \"JOBCAT_DENOTING\": \"Administration\", \"SOCIODEMOGRAPHY\": 0, \"SOCIODEMOGRAPHY_DENOTING\": \"White_Female\"}, {\"SALARY\": 58125, \"EDUC\": 16, \"SALBEGIN\": 18000, \"GENDER\": 0, \"MINORITY\": 0, \"JOBCAT\": 3, \"GENDER_DENOTING\": \"Female\", \"MINORITY_DENOTING\": \"White\", \"JOBCAT_DENOTING\": \"Management\", \"SOCIODEMOGRAPHY\": 0, \"SOCIODEMOGRAPHY_DENOTING\": \"White_Female\"}, {\"SALARY\": 21300, \"EDUC\": 15, \"SALBEGIN\": 15750, \"GENDER\": 1, \"MINORITY\": 0, \"JOBCAT\": 1, \"GENDER_DENOTING\": \"Male\", \"MINORITY_DENOTING\": \"White\", \"JOBCAT_DENOTING\": \"Administration\", \"SOCIODEMOGRAPHY\": 1, \"SOCIODEMOGRAPHY_DENOTING\": \"White_Male\"}, {\"SALARY\": 22500, \"EDUC\": 12, \"SALBEGIN\": 16500, \"GENDER\": 1, \"MINORITY\": 0, \"JOBCAT\": 1, \"GENDER_DENOTING\": \"Male\", \"MINORITY_DENOTING\": \"White\", \"JOBCAT_DENOTING\": \"Administration\", \"SOCIODEMOGRAPHY\": 1, \"SOCIODEMOGRAPHY_DENOTING\": \"White_Male\"}, {\"SALARY\": 29400, \"EDUC\": 15, \"SALBEGIN\": 15750, \"GENDER\": 1, \"MINORITY\": 0, \"JOBCAT\": 1, \"GENDER_DENOTING\": \"Male\", \"MINORITY_DENOTING\": \"White\", \"JOBCAT_DENOTING\": \"Administration\", \"SOCIODEMOGRAPHY\": 1, \"SOCIODEMOGRAPHY_DENOTING\": \"White_Male\"}, {\"SALARY\": 27450, \"EDUC\": 12, \"SALBEGIN\": 14700, \"GENDER\": 1, \"MINORITY\": 0, \"JOBCAT\": 1, \"GENDER_DENOTING\": \"Male\", \"MINORITY_DENOTING\": \"White\", \"JOBCAT_DENOTING\": \"Administration\", \"SOCIODEMOGRAPHY\": 1, \"SOCIODEMOGRAPHY_DENOTING\": \"White_Male\"}, {\"SALARY\": 29850, \"EDUC\": 15, \"SALBEGIN\": 15750, \"GENDER\": 1, \"MINORITY\": 0, \"JOBCAT\": 1, \"GENDER_DENOTING\": \"Male\", \"MINORITY_DENOTING\": \"White\", \"JOBCAT_DENOTING\": \"Administration\", \"SOCIODEMOGRAPHY\": 1, \"SOCIODEMOGRAPHY_DENOTING\": \"White_Male\"}, {\"SALARY\": 25350, \"EDUC\": 15, \"SALBEGIN\": 15750, \"GENDER\": 1, \"MINORITY\": 0, \"JOBCAT\": 1, \"GENDER_DENOTING\": \"Male\", \"MINORITY_DENOTING\": \"White\", \"JOBCAT_DENOTING\": \"Administration\", \"SOCIODEMOGRAPHY\": 1, \"SOCIODEMOGRAPHY_DENOTING\": \"White_Male\"}, {\"SALARY\": 15750, \"EDUC\": 8, \"SALBEGIN\": 10200, \"GENDER\": 0, \"MINORITY\": 0, \"JOBCAT\": 1, \"GENDER_DENOTING\": \"Female\", \"MINORITY_DENOTING\": \"White\", \"JOBCAT_DENOTING\": \"Administration\", \"SOCIODEMOGRAPHY\": 0, \"SOCIODEMOGRAPHY_DENOTING\": \"White_Female\"}, {\"SALARY\": 19650, \"EDUC\": 8, \"SALBEGIN\": 13050, \"GENDER\": 0, \"MINORITY\": 0, \"JOBCAT\": 1, \"GENDER_DENOTING\": \"Female\", \"MINORITY_DENOTING\": \"White\", \"JOBCAT_DENOTING\": \"Administration\", \"SOCIODEMOGRAPHY\": 0, \"SOCIODEMOGRAPHY_DENOTING\": \"White_Female\"}, {\"SALARY\": 21000, \"EDUC\": 12, \"SALBEGIN\": 13500, \"GENDER\": 0, \"MINORITY\": 0, \"JOBCAT\": 1, \"GENDER_DENOTING\": \"Female\", \"MINORITY_DENOTING\": \"White\", \"JOBCAT_DENOTING\": \"Administration\", \"SOCIODEMOGRAPHY\": 0, \"SOCIODEMOGRAPHY_DENOTING\": \"White_Female\"}, {\"SALARY\": 27000, \"EDUC\": 17, \"SALBEGIN\": 18000, \"GENDER\": 1, \"MINORITY\": 1, \"JOBCAT\": 1, \"GENDER_DENOTING\": \"Male\", \"MINORITY_DENOTING\": \"Minority\", \"JOBCAT_DENOTING\": \"Administration\", \"SOCIODEMOGRAPHY\": 3, \"SOCIODEMOGRAPHY_DENOTING\": \"Minority_Male\"}, {\"SALARY\": 24000, \"EDUC\": 12, \"SALBEGIN\": 15750, \"GENDER\": 1, \"MINORITY\": 1, \"JOBCAT\": 1, \"GENDER_DENOTING\": \"Male\", \"MINORITY_DENOTING\": \"Minority\", \"JOBCAT_DENOTING\": \"Administration\", \"SOCIODEMOGRAPHY\": 3, \"SOCIODEMOGRAPHY_DENOTING\": \"Minority_Male\"}, {\"SALARY\": 78500, \"EDUC\": 17, \"SALBEGIN\": 28740, \"GENDER\": 1, \"MINORITY\": 1, \"JOBCAT\": 3, \"GENDER_DENOTING\": \"Male\", \"MINORITY_DENOTING\": \"Minority\", \"JOBCAT_DENOTING\": \"Management\", \"SOCIODEMOGRAPHY\": 3, \"SOCIODEMOGRAPHY_DENOTING\": \"Minority_Male\"}, {\"SALARY\": 20850, \"EDUC\": 12, \"SALBEGIN\": 13050, \"GENDER\": 0, \"MINORITY\": 1, \"JOBCAT\": 1, \"GENDER_DENOTING\": \"Female\", \"MINORITY_DENOTING\": \"Minority\", \"JOBCAT_DENOTING\": \"Administration\", \"SOCIODEMOGRAPHY\": 2, \"SOCIODEMOGRAPHY_DENOTING\": \"Minority_Female\"}, {\"SALARY\": 30000, \"EDUC\": 12, \"SALBEGIN\": 15750, \"GENDER\": 1, \"MINORITY\": 0, \"JOBCAT\": 2, \"GENDER_DENOTING\": \"Male\", \"MINORITY_DENOTING\": \"White\", \"JOBCAT_DENOTING\": \"Custody\", \"SOCIODEMOGRAPHY\": 1, \"SOCIODEMOGRAPHY_DENOTING\": \"White_Male\"}, {\"SALARY\": 28500, \"EDUC\": 8, \"SALBEGIN\": 15750, \"GENDER\": 1, \"MINORITY\": 0, \"JOBCAT\": 2, \"GENDER_DENOTING\": \"Male\", \"MINORITY_DENOTING\": \"White\", \"JOBCAT_DENOTING\": \"Custody\", \"SOCIODEMOGRAPHY\": 1, \"SOCIODEMOGRAPHY_DENOTING\": \"White_Male\"}, {\"SALARY\": 65000, \"EDUC\": 19, \"SALBEGIN\": 31980, \"GENDER\": 1, \"MINORITY\": 0, \"JOBCAT\": 3, \"GENDER_DENOTING\": \"Male\", \"MINORITY_DENOTING\": \"White\", \"JOBCAT_DENOTING\": \"Management\", \"SOCIODEMOGRAPHY\": 1, \"SOCIODEMOGRAPHY_DENOTING\": \"White_Male\"}, {\"SALARY\": 30150, \"EDUC\": 14, \"SALBEGIN\": 16500, \"GENDER\": 1, \"MINORITY\": 0, \"JOBCAT\": 1, \"GENDER_DENOTING\": \"Male\", \"MINORITY_DENOTING\": \"White\", \"JOBCAT_DENOTING\": \"Administration\", \"SOCIODEMOGRAPHY\": 1, \"SOCIODEMOGRAPHY_DENOTING\": \"White_Male\"}, {\"SALARY\": 66875, \"EDUC\": 19, \"SALBEGIN\": 32490, \"GENDER\": 1, \"MINORITY\": 0, \"JOBCAT\": 3, \"GENDER_DENOTING\": \"Male\", \"MINORITY_DENOTING\": \"White\", \"JOBCAT_DENOTING\": \"Management\", \"SOCIODEMOGRAPHY\": 1, \"SOCIODEMOGRAPHY_DENOTING\": \"White_Male\"}, {\"SALARY\": 24150, \"EDUC\": 15, \"SALBEGIN\": 13500, \"GENDER\": 0, \"MINORITY\": 0, \"JOBCAT\": 1, \"GENDER_DENOTING\": \"Female\", \"MINORITY_DENOTING\": \"White\", \"JOBCAT_DENOTING\": \"Administration\", \"SOCIODEMOGRAPHY\": 0, \"SOCIODEMOGRAPHY_DENOTING\": \"White_Female\"}, {\"SALARY\": 24450, \"EDUC\": 12, \"SALBEGIN\": 12450, \"GENDER\": 0, \"MINORITY\": 0, \"JOBCAT\": 1, \"GENDER_DENOTING\": \"Female\", \"MINORITY_DENOTING\": \"White\", \"JOBCAT_DENOTING\": \"Administration\", \"SOCIODEMOGRAPHY\": 0, \"SOCIODEMOGRAPHY_DENOTING\": \"White_Female\"}, {\"SALARY\": 21600, \"EDUC\": 12, \"SALBEGIN\": 12000, \"GENDER\": 0, \"MINORITY\": 0, \"JOBCAT\": 1, \"GENDER_DENOTING\": \"Female\", \"MINORITY_DENOTING\": \"White\", \"JOBCAT_DENOTING\": \"Administration\", \"SOCIODEMOGRAPHY\": 0, \"SOCIODEMOGRAPHY_DENOTING\": \"White_Female\"}, {\"SALARY\": 27900, \"EDUC\": 12, \"SALBEGIN\": 12450, \"GENDER\": 0, \"MINORITY\": 0, \"JOBCAT\": 1, \"GENDER_DENOTING\": \"Female\", \"MINORITY_DENOTING\": \"White\", \"JOBCAT_DENOTING\": \"Administration\", \"SOCIODEMOGRAPHY\": 0, \"SOCIODEMOGRAPHY_DENOTING\": \"White_Female\"}, {\"SALARY\": 29100, \"EDUC\": 8, \"SALBEGIN\": 12450, \"GENDER\": 0, \"MINORITY\": 0, \"JOBCAT\": 1, \"GENDER_DENOTING\": \"Female\", \"MINORITY_DENOTING\": \"White\", \"JOBCAT_DENOTING\": \"Administration\", \"SOCIODEMOGRAPHY\": 0, \"SOCIODEMOGRAPHY_DENOTING\": \"White_Female\"}, {\"SALARY\": 22650, \"EDUC\": 12, \"SALBEGIN\": 11250, \"GENDER\": 0, \"MINORITY\": 0, \"JOBCAT\": 1, \"GENDER_DENOTING\": \"Female\", \"MINORITY_DENOTING\": \"White\", \"JOBCAT_DENOTING\": \"Administration\", \"SOCIODEMOGRAPHY\": 0, \"SOCIODEMOGRAPHY_DENOTING\": \"White_Female\"}, {\"SALARY\": 20850, \"EDUC\": 12, \"SALBEGIN\": 11250, \"GENDER\": 0, \"MINORITY\": 0, \"JOBCAT\": 1, \"GENDER_DENOTING\": \"Female\", \"MINORITY_DENOTING\": \"White\", \"JOBCAT_DENOTING\": \"Administration\", \"SOCIODEMOGRAPHY\": 0, \"SOCIODEMOGRAPHY_DENOTING\": \"White_Female\"}, {\"SALARY\": 22950, \"EDUC\": 12, \"SALBEGIN\": 12300, \"GENDER\": 0, \"MINORITY\": 0, \"JOBCAT\": 1, \"GENDER_DENOTING\": \"Female\", \"MINORITY_DENOTING\": \"White\", \"JOBCAT_DENOTING\": \"Administration\", \"SOCIODEMOGRAPHY\": 0, \"SOCIODEMOGRAPHY_DENOTING\": \"White_Female\"}, {\"SALARY\": 30600, \"EDUC\": 12, \"SALBEGIN\": 12450, \"GENDER\": 0, \"MINORITY\": 0, \"JOBCAT\": 1, \"GENDER_DENOTING\": \"Female\", \"MINORITY_DENOTING\": \"White\", \"JOBCAT_DENOTING\": \"Administration\", \"SOCIODEMOGRAPHY\": 0, \"SOCIODEMOGRAPHY_DENOTING\": \"White_Female\"}, {\"SALARY\": 20400, \"EDUC\": 12, \"SALBEGIN\": 11250, \"GENDER\": 0, \"MINORITY\": 0, \"JOBCAT\": 1, \"GENDER_DENOTING\": \"Female\", \"MINORITY_DENOTING\": \"White\", \"JOBCAT_DENOTING\": \"Administration\", \"SOCIODEMOGRAPHY\": 0, \"SOCIODEMOGRAPHY_DENOTING\": \"White_Female\"}, {\"SALARY\": 23850, \"EDUC\": 12, \"SALBEGIN\": 12750, \"GENDER\": 0, \"MINORITY\": 0, \"JOBCAT\": 1, \"GENDER_DENOTING\": \"Female\", \"MINORITY_DENOTING\": \"White\", \"JOBCAT_DENOTING\": \"Administration\", \"SOCIODEMOGRAPHY\": 0, \"SOCIODEMOGRAPHY_DENOTING\": \"White_Female\"}, {\"SALARY\": 22800, \"EDUC\": 12, \"SALBEGIN\": 11250, \"GENDER\": 0, \"MINORITY\": 0, \"JOBCAT\": 1, \"GENDER_DENOTING\": \"Female\", \"MINORITY_DENOTING\": \"White\", \"JOBCAT_DENOTING\": \"Administration\", \"SOCIODEMOGRAPHY\": 0, \"SOCIODEMOGRAPHY_DENOTING\": \"White_Female\"}, {\"SALARY\": 20700, \"EDUC\": 12, \"SALBEGIN\": 11250, \"GENDER\": 0, \"MINORITY\": 0, \"JOBCAT\": 1, \"GENDER_DENOTING\": \"Female\", \"MINORITY_DENOTING\": \"White\", \"JOBCAT_DENOTING\": \"Administration\", \"SOCIODEMOGRAPHY\": 0, \"SOCIODEMOGRAPHY_DENOTING\": \"White_Female\"}, {\"SALARY\": 21300, \"EDUC\": 12, \"SALBEGIN\": 11250, \"GENDER\": 0, \"MINORITY\": 1, \"JOBCAT\": 1, \"GENDER_DENOTING\": \"Female\", \"MINORITY_DENOTING\": \"Minority\", \"JOBCAT_DENOTING\": \"Administration\", \"SOCIODEMOGRAPHY\": 2, \"SOCIODEMOGRAPHY_DENOTING\": \"Minority_Female\"}, {\"SALARY\": 24300, \"EDUC\": 12, \"SALBEGIN\": 15000, \"GENDER\": 0, \"MINORITY\": 1, \"JOBCAT\": 1, \"GENDER_DENOTING\": \"Female\", \"MINORITY_DENOTING\": \"Minority\", \"JOBCAT_DENOTING\": \"Administration\", \"SOCIODEMOGRAPHY\": 2, \"SOCIODEMOGRAPHY_DENOTING\": \"Minority_Female\"}, {\"SALARY\": 19650, \"EDUC\": 12, \"SALBEGIN\": 13950, \"GENDER\": 0, \"MINORITY\": 1, \"JOBCAT\": 1, \"GENDER_DENOTING\": \"Female\", \"MINORITY_DENOTING\": \"Minority\", \"JOBCAT_DENOTING\": \"Administration\", \"SOCIODEMOGRAPHY\": 2, \"SOCIODEMOGRAPHY_DENOTING\": \"Minority_Female\"}, {\"SALARY\": 60000, \"EDUC\": 17, \"SALBEGIN\": 32490, \"GENDER\": 1, \"MINORITY\": 0, \"JOBCAT\": 3, \"GENDER_DENOTING\": \"Male\", \"MINORITY_DENOTING\": \"White\", \"JOBCAT_DENOTING\": \"Management\", \"SOCIODEMOGRAPHY\": 1, \"SOCIODEMOGRAPHY_DENOTING\": \"White_Male\"}, {\"SALARY\": 30300, \"EDUC\": 15, \"SALBEGIN\": 15750, \"GENDER\": 1, \"MINORITY\": 0, \"JOBCAT\": 1, \"GENDER_DENOTING\": \"Male\", \"MINORITY_DENOTING\": \"White\", \"JOBCAT_DENOTING\": \"Administration\", \"SOCIODEMOGRAPHY\": 1, \"SOCIODEMOGRAPHY_DENOTING\": \"White_Male\"}, {\"SALARY\": 61250, \"EDUC\": 19, \"SALBEGIN\": 33000, \"GENDER\": 1, \"MINORITY\": 0, \"JOBCAT\": 3, \"GENDER_DENOTING\": \"Male\", \"MINORITY_DENOTING\": \"White\", \"JOBCAT_DENOTING\": \"Management\", \"SOCIODEMOGRAPHY\": 1, \"SOCIODEMOGRAPHY_DENOTING\": \"White_Male\"}, {\"SALARY\": 36000, \"EDUC\": 19, \"SALBEGIN\": 19500, \"GENDER\": 1, \"MINORITY\": 0, \"JOBCAT\": 1, \"GENDER_DENOTING\": \"Male\", \"MINORITY_DENOTING\": \"White\", \"JOBCAT_DENOTING\": \"Administration\", \"SOCIODEMOGRAPHY\": 1, \"SOCIODEMOGRAPHY_DENOTING\": \"White_Male\"}, {\"SALARY\": 25200, \"EDUC\": 8, \"SALBEGIN\": 18750, \"GENDER\": 0, \"MINORITY\": 0, \"JOBCAT\": 1, \"GENDER_DENOTING\": \"Female\", \"MINORITY_DENOTING\": \"White\", \"JOBCAT_DENOTING\": \"Administration\", \"SOCIODEMOGRAPHY\": 0, \"SOCIODEMOGRAPHY_DENOTING\": \"White_Female\"}, {\"SALARY\": 16200, \"EDUC\": 12, \"SALBEGIN\": 10200, \"GENDER\": 0, \"MINORITY\": 0, \"JOBCAT\": 1, \"GENDER_DENOTING\": \"Female\", \"MINORITY_DENOTING\": \"White\", \"JOBCAT_DENOTING\": \"Administration\", \"SOCIODEMOGRAPHY\": 0, \"SOCIODEMOGRAPHY_DENOTING\": \"White_Female\"}, {\"SALARY\": 22800, \"EDUC\": 12, \"SALBEGIN\": 11250, \"GENDER\": 0, \"MINORITY\": 0, \"JOBCAT\": 1, \"GENDER_DENOTING\": \"Female\", \"MINORITY_DENOTING\": \"White\", \"JOBCAT_DENOTING\": \"Administration\", \"SOCIODEMOGRAPHY\": 0, \"SOCIODEMOGRAPHY_DENOTING\": \"White_Female\"}, {\"SALARY\": 43500, \"EDUC\": 16, \"SALBEGIN\": 19500, \"GENDER\": 0, \"MINORITY\": 0, \"JOBCAT\": 3, \"GENDER_DENOTING\": \"Female\", \"MINORITY_DENOTING\": \"White\", \"JOBCAT_DENOTING\": \"Management\", \"SOCIODEMOGRAPHY\": 0, \"SOCIODEMOGRAPHY_DENOTING\": \"White_Female\"}, {\"SALARY\": 30300, \"EDUC\": 8, \"SALBEGIN\": 15750, \"GENDER\": 1, \"MINORITY\": 1, \"JOBCAT\": 2, \"GENDER_DENOTING\": \"Male\", \"MINORITY_DENOTING\": \"Minority\", \"JOBCAT_DENOTING\": \"Custody\", \"SOCIODEMOGRAPHY\": 3, \"SOCIODEMOGRAPHY_DENOTING\": \"Minority_Male\"}, {\"SALARY\": 31950, \"EDUC\": 15, \"SALBEGIN\": 15750, \"GENDER\": 1, \"MINORITY\": 1, \"JOBCAT\": 1, \"GENDER_DENOTING\": \"Male\", \"MINORITY_DENOTING\": \"Minority\", \"JOBCAT_DENOTING\": \"Administration\", \"SOCIODEMOGRAPHY\": 3, \"SOCIODEMOGRAPHY_DENOTING\": \"Minority_Male\"}, {\"SALARY\": 35250, \"EDUC\": 15, \"SALBEGIN\": 13500, \"GENDER\": 1, \"MINORITY\": 0, \"JOBCAT\": 1, \"GENDER_DENOTING\": \"Male\", \"MINORITY_DENOTING\": \"White\", \"JOBCAT_DENOTING\": \"Administration\", \"SOCIODEMOGRAPHY\": 1, \"SOCIODEMOGRAPHY_DENOTING\": \"White_Male\"}, {\"SALARY\": 37800, \"EDUC\": 15, \"SALBEGIN\": 15000, \"GENDER\": 1, \"MINORITY\": 0, \"JOBCAT\": 1, \"GENDER_DENOTING\": \"Male\", \"MINORITY_DENOTING\": \"White\", \"JOBCAT_DENOTING\": \"Administration\", \"SOCIODEMOGRAPHY\": 1, \"SOCIODEMOGRAPHY_DENOTING\": \"White_Male\"}, {\"SALARY\": 31200, \"EDUC\": 15, \"SALBEGIN\": 15750, \"GENDER\": 1, \"MINORITY\": 0, \"JOBCAT\": 1, \"GENDER_DENOTING\": \"Male\", \"MINORITY_DENOTING\": \"White\", \"JOBCAT_DENOTING\": \"Administration\", \"SOCIODEMOGRAPHY\": 1, \"SOCIODEMOGRAPHY_DENOTING\": \"White_Male\"}, {\"SALARY\": 29400, \"EDUC\": 15, \"SALBEGIN\": 16500, \"GENDER\": 1, \"MINORITY\": 0, \"JOBCAT\": 1, \"GENDER_DENOTING\": \"Male\", \"MINORITY_DENOTING\": \"White\", \"JOBCAT_DENOTING\": \"Administration\", \"SOCIODEMOGRAPHY\": 1, \"SOCIODEMOGRAPHY_DENOTING\": \"White_Male\"}, {\"SALARY\": 70000, \"EDUC\": 19, \"SALBEGIN\": 35040, \"GENDER\": 1, \"MINORITY\": 0, \"JOBCAT\": 3, \"GENDER_DENOTING\": \"Male\", \"MINORITY_DENOTING\": \"White\", \"JOBCAT_DENOTING\": \"Management\", \"SOCIODEMOGRAPHY\": 1, \"SOCIODEMOGRAPHY_DENOTING\": \"White_Male\"}, {\"SALARY\": 33900, \"EDUC\": 15, \"SALBEGIN\": 15750, \"GENDER\": 1, \"MINORITY\": 0, \"JOBCAT\": 1, \"GENDER_DENOTING\": \"Male\", \"MINORITY_DENOTING\": \"White\", \"JOBCAT_DENOTING\": \"Administration\", \"SOCIODEMOGRAPHY\": 1, \"SOCIODEMOGRAPHY_DENOTING\": \"White_Male\"}, {\"SALARY\": 27150, \"EDUC\": 15, \"SALBEGIN\": 16500, \"GENDER\": 1, \"MINORITY\": 0, \"JOBCAT\": 1, \"GENDER_DENOTING\": \"Male\", \"MINORITY_DENOTING\": \"White\", \"JOBCAT_DENOTING\": \"Administration\", \"SOCIODEMOGRAPHY\": 1, \"SOCIODEMOGRAPHY_DENOTING\": \"White_Male\"}, {\"SALARY\": 22200, \"EDUC\": 12, \"SALBEGIN\": 13800, \"GENDER\": 0, \"MINORITY\": 0, \"JOBCAT\": 1, \"GENDER_DENOTING\": \"Female\", \"MINORITY_DENOTING\": \"White\", \"JOBCAT_DENOTING\": \"Administration\", \"SOCIODEMOGRAPHY\": 0, \"SOCIODEMOGRAPHY_DENOTING\": \"White_Female\"}, {\"SALARY\": 31350, \"EDUC\": 15, \"SALBEGIN\": 11100, \"GENDER\": 0, \"MINORITY\": 0, \"JOBCAT\": 1, \"GENDER_DENOTING\": \"Female\", \"MINORITY_DENOTING\": \"White\", \"JOBCAT_DENOTING\": \"Administration\", \"SOCIODEMOGRAPHY\": 0, \"SOCIODEMOGRAPHY_DENOTING\": \"White_Female\"}, {\"SALARY\": 20850, \"EDUC\": 12, \"SALBEGIN\": 13500, \"GENDER\": 0, \"MINORITY\": 0, \"JOBCAT\": 1, \"GENDER_DENOTING\": \"Female\", \"MINORITY_DENOTING\": \"White\", \"JOBCAT_DENOTING\": \"Administration\", \"SOCIODEMOGRAPHY\": 0, \"SOCIODEMOGRAPHY_DENOTING\": \"White_Female\"}, {\"SALARY\": 33300, \"EDUC\": 16, \"SALBEGIN\": 17490, \"GENDER\": 1, \"MINORITY\": 1, \"JOBCAT\": 1, \"GENDER_DENOTING\": \"Male\", \"MINORITY_DENOTING\": \"Minority\", \"JOBCAT_DENOTING\": \"Administration\", \"SOCIODEMOGRAPHY\": 3, \"SOCIODEMOGRAPHY_DENOTING\": \"Minority_Male\"}, {\"SALARY\": 26250, \"EDUC\": 8, \"SALBEGIN\": 16050, \"GENDER\": 1, \"MINORITY\": 1, \"JOBCAT\": 1, \"GENDER_DENOTING\": \"Male\", \"MINORITY_DENOTING\": \"Minority\", \"JOBCAT_DENOTING\": \"Administration\", \"SOCIODEMOGRAPHY\": 3, \"SOCIODEMOGRAPHY_DENOTING\": \"Minority_Male\"}, {\"SALARY\": 31950, \"EDUC\": 15, \"SALBEGIN\": 15750, \"GENDER\": 1, \"MINORITY\": 1, \"JOBCAT\": 1, \"GENDER_DENOTING\": \"Male\", \"MINORITY_DENOTING\": \"Minority\", \"JOBCAT_DENOTING\": \"Administration\", \"SOCIODEMOGRAPHY\": 3, \"SOCIODEMOGRAPHY_DENOTING\": \"Minority_Male\"}, {\"SALARY\": 30000, \"EDUC\": 8, \"SALBEGIN\": 15750, \"GENDER\": 1, \"MINORITY\": 1, \"JOBCAT\": 2, \"GENDER_DENOTING\": \"Male\", \"MINORITY_DENOTING\": \"Minority\", \"JOBCAT_DENOTING\": \"Custody\", \"SOCIODEMOGRAPHY\": 3, \"SOCIODEMOGRAPHY_DENOTING\": \"Minority_Male\"}, {\"SALARY\": 66250, \"EDUC\": 19, \"SALBEGIN\": 34980, \"GENDER\": 1, \"MINORITY\": 1, \"JOBCAT\": 3, \"GENDER_DENOTING\": \"Male\", \"MINORITY_DENOTING\": \"Minority\", \"JOBCAT_DENOTING\": \"Management\", \"SOCIODEMOGRAPHY\": 3, \"SOCIODEMOGRAPHY_DENOTING\": \"Minority_Male\"}, {\"SALARY\": 86250, \"EDUC\": 18, \"SALBEGIN\": 45000, \"GENDER\": 1, \"MINORITY\": 0, \"JOBCAT\": 3, \"GENDER_DENOTING\": \"Male\", \"MINORITY_DENOTING\": \"White\", \"JOBCAT_DENOTING\": \"Management\", \"SOCIODEMOGRAPHY\": 1, \"SOCIODEMOGRAPHY_DENOTING\": \"White_Male\"}, {\"SALARY\": 30750, \"EDUC\": 12, \"SALBEGIN\": 15000, \"GENDER\": 1, \"MINORITY\": 0, \"JOBCAT\": 1, \"GENDER_DENOTING\": \"Male\", \"MINORITY_DENOTING\": \"White\", \"JOBCAT_DENOTING\": \"Administration\", \"SOCIODEMOGRAPHY\": 1, \"SOCIODEMOGRAPHY_DENOTING\": \"White_Male\"}, {\"SALARY\": 33540, \"EDUC\": 12, \"SALBEGIN\": 15750, \"GENDER\": 1, \"MINORITY\": 0, \"JOBCAT\": 1, \"GENDER_DENOTING\": \"Male\", \"MINORITY_DENOTING\": \"White\", \"JOBCAT_DENOTING\": \"Administration\", \"SOCIODEMOGRAPHY\": 1, \"SOCIODEMOGRAPHY_DENOTING\": \"White_Male\"}, {\"SALARY\": 34950, \"EDUC\": 16, \"SALBEGIN\": 20250, \"GENDER\": 1, \"MINORITY\": 0, \"JOBCAT\": 1, \"GENDER_DENOTING\": \"Male\", \"MINORITY_DENOTING\": \"White\", \"JOBCAT_DENOTING\": \"Administration\", \"SOCIODEMOGRAPHY\": 1, \"SOCIODEMOGRAPHY_DENOTING\": \"White_Male\"}, {\"SALARY\": 40350, \"EDUC\": 15, \"SALBEGIN\": 16500, \"GENDER\": 1, \"MINORITY\": 0, \"JOBCAT\": 1, \"GENDER_DENOTING\": \"Male\", \"MINORITY_DENOTING\": \"White\", \"JOBCAT_DENOTING\": \"Administration\", \"SOCIODEMOGRAPHY\": 1, \"SOCIODEMOGRAPHY_DENOTING\": \"White_Male\"}, {\"SALARY\": 30270, \"EDUC\": 12, \"SALBEGIN\": 15750, \"GENDER\": 1, \"MINORITY\": 0, \"JOBCAT\": 1, \"GENDER_DENOTING\": \"Male\", \"MINORITY_DENOTING\": \"White\", \"JOBCAT_DENOTING\": \"Administration\", \"SOCIODEMOGRAPHY\": 1, \"SOCIODEMOGRAPHY_DENOTING\": \"White_Male\"}, {\"SALARY\": 26250, \"EDUC\": 8, \"SALBEGIN\": 16050, \"GENDER\": 1, \"MINORITY\": 0, \"JOBCAT\": 1, \"GENDER_DENOTING\": \"Male\", \"MINORITY_DENOTING\": \"White\", \"JOBCAT_DENOTING\": \"Administration\", \"SOCIODEMOGRAPHY\": 1, \"SOCIODEMOGRAPHY_DENOTING\": \"White_Male\"}, {\"SALARY\": 32400, \"EDUC\": 15, \"SALBEGIN\": 15000, \"GENDER\": 1, \"MINORITY\": 0, \"JOBCAT\": 1, \"GENDER_DENOTING\": \"Male\", \"MINORITY_DENOTING\": \"White\", \"JOBCAT_DENOTING\": \"Administration\", \"SOCIODEMOGRAPHY\": 1, \"SOCIODEMOGRAPHY_DENOTING\": \"White_Male\"}, {\"SALARY\": 20400, \"EDUC\": 12, \"SALBEGIN\": 11250, \"GENDER\": 0, \"MINORITY\": 0, \"JOBCAT\": 1, \"GENDER_DENOTING\": \"Female\", \"MINORITY_DENOTING\": \"White\", \"JOBCAT_DENOTING\": \"Administration\", \"SOCIODEMOGRAPHY\": 0, \"SOCIODEMOGRAPHY_DENOTING\": \"White_Female\"}, {\"SALARY\": 24150, \"EDUC\": 8, \"SALBEGIN\": 12750, \"GENDER\": 0, \"MINORITY\": 0, \"JOBCAT\": 1, \"GENDER_DENOTING\": \"Female\", \"MINORITY_DENOTING\": \"White\", \"JOBCAT_DENOTING\": \"Administration\", \"SOCIODEMOGRAPHY\": 0, \"SOCIODEMOGRAPHY_DENOTING\": \"White_Female\"}, {\"SALARY\": 23850, \"EDUC\": 15, \"SALBEGIN\": 13500, \"GENDER\": 0, \"MINORITY\": 0, \"JOBCAT\": 1, \"GENDER_DENOTING\": \"Female\", \"MINORITY_DENOTING\": \"White\", \"JOBCAT_DENOTING\": \"Administration\", \"SOCIODEMOGRAPHY\": 0, \"SOCIODEMOGRAPHY_DENOTING\": \"White_Female\"}, {\"SALARY\": 29700, \"EDUC\": 12, \"SALBEGIN\": 13500, \"GENDER\": 0, \"MINORITY\": 0, \"JOBCAT\": 1, \"GENDER_DENOTING\": \"Female\", \"MINORITY_DENOTING\": \"White\", \"JOBCAT_DENOTING\": \"Administration\", \"SOCIODEMOGRAPHY\": 0, \"SOCIODEMOGRAPHY_DENOTING\": \"White_Female\"}, {\"SALARY\": 21600, \"EDUC\": 8, \"SALBEGIN\": 13500, \"GENDER\": 0, \"MINORITY\": 0, \"JOBCAT\": 1, \"GENDER_DENOTING\": \"Female\", \"MINORITY_DENOTING\": \"White\", \"JOBCAT_DENOTING\": \"Administration\", \"SOCIODEMOGRAPHY\": 0, \"SOCIODEMOGRAPHY_DENOTING\": \"White_Female\"}, {\"SALARY\": 24450, \"EDUC\": 12, \"SALBEGIN\": 15750, \"GENDER\": 0, \"MINORITY\": 0, \"JOBCAT\": 1, \"GENDER_DENOTING\": \"Female\", \"MINORITY_DENOTING\": \"White\", \"JOBCAT_DENOTING\": \"Administration\", \"SOCIODEMOGRAPHY\": 0, \"SOCIODEMOGRAPHY_DENOTING\": \"White_Female\"}, {\"SALARY\": 28050, \"EDUC\": 15, \"SALBEGIN\": 16500, \"GENDER\": 1, \"MINORITY\": 1, \"JOBCAT\": 1, \"GENDER_DENOTING\": \"Male\", \"MINORITY_DENOTING\": \"Minority\", \"JOBCAT_DENOTING\": \"Administration\", \"SOCIODEMOGRAPHY\": 3, \"SOCIODEMOGRAPHY_DENOTING\": \"Minority_Male\"}, {\"SALARY\": 100000, \"EDUC\": 16, \"SALBEGIN\": 44100, \"GENDER\": 1, \"MINORITY\": 1, \"JOBCAT\": 3, \"GENDER_DENOTING\": \"Male\", \"MINORITY_DENOTING\": \"Minority\", \"JOBCAT_DENOTING\": \"Management\", \"SOCIODEMOGRAPHY\": 3, \"SOCIODEMOGRAPHY_DENOTING\": \"Minority_Male\"}, {\"SALARY\": 49000, \"EDUC\": 15, \"SALBEGIN\": 20550, \"GENDER\": 1, \"MINORITY\": 1, \"JOBCAT\": 1, \"GENDER_DENOTING\": \"Male\", \"MINORITY_DENOTING\": \"Minority\", \"JOBCAT_DENOTING\": \"Administration\", \"SOCIODEMOGRAPHY\": 3, \"SOCIODEMOGRAPHY_DENOTING\": \"Minority_Male\"}, {\"SALARY\": 16350, \"EDUC\": 12, \"SALBEGIN\": 10200, \"GENDER\": 0, \"MINORITY\": 1, \"JOBCAT\": 1, \"GENDER_DENOTING\": \"Female\", \"MINORITY_DENOTING\": \"Minority\", \"JOBCAT_DENOTING\": \"Administration\", \"SOCIODEMOGRAPHY\": 2, \"SOCIODEMOGRAPHY_DENOTING\": \"Minority_Female\"}, {\"SALARY\": 70000, \"EDUC\": 16, \"SALBEGIN\": 21750, \"GENDER\": 1, \"MINORITY\": 0, \"JOBCAT\": 3, \"GENDER_DENOTING\": \"Male\", \"MINORITY_DENOTING\": \"White\", \"JOBCAT_DENOTING\": \"Management\", \"SOCIODEMOGRAPHY\": 1, \"SOCIODEMOGRAPHY_DENOTING\": \"White_Male\"}, {\"SALARY\": 55000, \"EDUC\": 19, \"SALBEGIN\": 34980, \"GENDER\": 1, \"MINORITY\": 0, \"JOBCAT\": 3, \"GENDER_DENOTING\": \"Male\", \"MINORITY_DENOTING\": \"White\", \"JOBCAT_DENOTING\": \"Management\", \"SOCIODEMOGRAPHY\": 1, \"SOCIODEMOGRAPHY_DENOTING\": \"White_Male\"}, {\"SALARY\": 28500, \"EDUC\": 15, \"SALBEGIN\": 14250, \"GENDER\": 1, \"MINORITY\": 0, \"JOBCAT\": 1, \"GENDER_DENOTING\": \"Male\", \"MINORITY_DENOTING\": \"White\", \"JOBCAT_DENOTING\": \"Administration\", \"SOCIODEMOGRAPHY\": 1, \"SOCIODEMOGRAPHY_DENOTING\": \"White_Male\"}, {\"SALARY\": 28800, \"EDUC\": 12, \"SALBEGIN\": 18000, \"GENDER\": 1, \"MINORITY\": 0, \"JOBCAT\": 1, \"GENDER_DENOTING\": \"Male\", \"MINORITY_DENOTING\": \"White\", \"JOBCAT_DENOTING\": \"Administration\", \"SOCIODEMOGRAPHY\": 1, \"SOCIODEMOGRAPHY_DENOTING\": \"White_Male\"}, {\"SALARY\": 24450, \"EDUC\": 15, \"SALBEGIN\": 15750, \"GENDER\": 1, \"MINORITY\": 0, \"JOBCAT\": 1, \"GENDER_DENOTING\": \"Male\", \"MINORITY_DENOTING\": \"White\", \"JOBCAT_DENOTING\": \"Administration\", \"SOCIODEMOGRAPHY\": 1, \"SOCIODEMOGRAPHY_DENOTING\": \"White_Male\"}, {\"SALARY\": 90625, \"EDUC\": 19, \"SALBEGIN\": 31250, \"GENDER\": 1, \"MINORITY\": 0, \"JOBCAT\": 3, \"GENDER_DENOTING\": \"Male\", \"MINORITY_DENOTING\": \"White\", \"JOBCAT_DENOTING\": \"Management\", \"SOCIODEMOGRAPHY\": 1, \"SOCIODEMOGRAPHY_DENOTING\": \"White_Male\"}, {\"SALARY\": 43650, \"EDUC\": 16, \"SALBEGIN\": 19500, \"GENDER\": 1, \"MINORITY\": 0, \"JOBCAT\": 3, \"GENDER_DENOTING\": \"Male\", \"MINORITY_DENOTING\": \"White\", \"JOBCAT_DENOTING\": \"Management\", \"SOCIODEMOGRAPHY\": 1, \"SOCIODEMOGRAPHY_DENOTING\": \"White_Male\"}, {\"SALARY\": 75000, \"EDUC\": 19, \"SALBEGIN\": 42510, \"GENDER\": 1, \"MINORITY\": 0, \"JOBCAT\": 3, \"GENDER_DENOTING\": \"Male\", \"MINORITY_DENOTING\": \"White\", \"JOBCAT_DENOTING\": \"Management\", \"SOCIODEMOGRAPHY\": 1, \"SOCIODEMOGRAPHY_DENOTING\": \"White_Male\"}, {\"SALARY\": 31650, \"EDUC\": 15, \"SALBEGIN\": 14250, \"GENDER\": 1, \"MINORITY\": 0, \"JOBCAT\": 1, \"GENDER_DENOTING\": \"Male\", \"MINORITY_DENOTING\": \"White\", \"JOBCAT_DENOTING\": \"Administration\", \"SOCIODEMOGRAPHY\": 1, \"SOCIODEMOGRAPHY_DENOTING\": \"White_Male\"}, {\"SALARY\": 61875, \"EDUC\": 19, \"SALBEGIN\": 28740, \"GENDER\": 1, \"MINORITY\": 0, \"JOBCAT\": 3, \"GENDER_DENOTING\": \"Male\", \"MINORITY_DENOTING\": \"White\", \"JOBCAT_DENOTING\": \"Management\", \"SOCIODEMOGRAPHY\": 1, \"SOCIODEMOGRAPHY_DENOTING\": \"White_Male\"}, {\"SALARY\": 21750, \"EDUC\": 12, \"SALBEGIN\": 11250, \"GENDER\": 0, \"MINORITY\": 0, \"JOBCAT\": 1, \"GENDER_DENOTING\": \"Female\", \"MINORITY_DENOTING\": \"White\", \"JOBCAT_DENOTING\": \"Administration\", \"SOCIODEMOGRAPHY\": 0, \"SOCIODEMOGRAPHY_DENOTING\": \"White_Female\"}, {\"SALARY\": 22500, \"EDUC\": 12, \"SALBEGIN\": 12750, \"GENDER\": 0, \"MINORITY\": 0, \"JOBCAT\": 1, \"GENDER_DENOTING\": \"Female\", \"MINORITY_DENOTING\": \"White\", \"JOBCAT_DENOTING\": \"Administration\", \"SOCIODEMOGRAPHY\": 0, \"SOCIODEMOGRAPHY_DENOTING\": \"White_Female\"}, {\"SALARY\": 21600, \"EDUC\": 8, \"SALBEGIN\": 13500, \"GENDER\": 0, \"MINORITY\": 0, \"JOBCAT\": 1, \"GENDER_DENOTING\": \"Female\", \"MINORITY_DENOTING\": \"White\", \"JOBCAT_DENOTING\": \"Administration\", \"SOCIODEMOGRAPHY\": 0, \"SOCIODEMOGRAPHY_DENOTING\": \"White_Female\"}, {\"SALARY\": 34410, \"EDUC\": 16, \"SALBEGIN\": 19500, \"GENDER\": 0, \"MINORITY\": 0, \"JOBCAT\": 3, \"GENDER_DENOTING\": \"Female\", \"MINORITY_DENOTING\": \"White\", \"JOBCAT_DENOTING\": \"Management\", \"SOCIODEMOGRAPHY\": 0, \"SOCIODEMOGRAPHY_DENOTING\": \"White_Female\"}, {\"SALARY\": 20700, \"EDUC\": 15, \"SALBEGIN\": 14250, \"GENDER\": 0, \"MINORITY\": 0, \"JOBCAT\": 1, \"GENDER_DENOTING\": \"Female\", \"MINORITY_DENOTING\": \"White\", \"JOBCAT_DENOTING\": \"Administration\", \"SOCIODEMOGRAPHY\": 0, \"SOCIODEMOGRAPHY_DENOTING\": \"White_Female\"}, {\"SALARY\": 47550, \"EDUC\": 19, \"SALBEGIN\": 33000, \"GENDER\": 1, \"MINORITY\": 0, \"JOBCAT\": 3, \"GENDER_DENOTING\": \"Male\", \"MINORITY_DENOTING\": \"White\", \"JOBCAT_DENOTING\": \"Management\", \"SOCIODEMOGRAPHY\": 1, \"SOCIODEMOGRAPHY_DENOTING\": \"White_Male\"}, {\"SALARY\": 33900, \"EDUC\": 12, \"SALBEGIN\": 16500, \"GENDER\": 1, \"MINORITY\": 0, \"JOBCAT\": 1, \"GENDER_DENOTING\": \"Male\", \"MINORITY_DENOTING\": \"White\", \"JOBCAT_DENOTING\": \"Administration\", \"SOCIODEMOGRAPHY\": 1, \"SOCIODEMOGRAPHY_DENOTING\": \"White_Male\"}, {\"SALARY\": 23400, \"EDUC\": 12, \"SALBEGIN\": 13500, \"GENDER\": 0, \"MINORITY\": 0, \"JOBCAT\": 1, \"GENDER_DENOTING\": \"Female\", \"MINORITY_DENOTING\": \"White\", \"JOBCAT_DENOTING\": \"Administration\", \"SOCIODEMOGRAPHY\": 0, \"SOCIODEMOGRAPHY_DENOTING\": \"White_Female\"}, {\"SALARY\": 32850, \"EDUC\": 16, \"SALBEGIN\": 19500, \"GENDER\": 0, \"MINORITY\": 0, \"JOBCAT\": 1, \"GENDER_DENOTING\": \"Female\", \"MINORITY_DENOTING\": \"White\", \"JOBCAT_DENOTING\": \"Administration\", \"SOCIODEMOGRAPHY\": 0, \"SOCIODEMOGRAPHY_DENOTING\": \"White_Female\"}, {\"SALARY\": 55750, \"EDUC\": 16, \"SALBEGIN\": 19980, \"GENDER\": 0, \"MINORITY\": 0, \"JOBCAT\": 3, \"GENDER_DENOTING\": \"Female\", \"MINORITY_DENOTING\": \"White\", \"JOBCAT_DENOTING\": \"Management\", \"SOCIODEMOGRAPHY\": 0, \"SOCIODEMOGRAPHY_DENOTING\": \"White_Female\"}, {\"SALARY\": 25200, \"EDUC\": 15, \"SALBEGIN\": 13950, \"GENDER\": 0, \"MINORITY\": 0, \"JOBCAT\": 1, \"GENDER_DENOTING\": \"Female\", \"MINORITY_DENOTING\": \"White\", \"JOBCAT_DENOTING\": \"Administration\", \"SOCIODEMOGRAPHY\": 0, \"SOCIODEMOGRAPHY_DENOTING\": \"White_Female\"}, {\"SALARY\": 26250, \"EDUC\": 12, \"SALBEGIN\": 15750, \"GENDER\": 1, \"MINORITY\": 1, \"JOBCAT\": 1, \"GENDER_DENOTING\": \"Male\", \"MINORITY_DENOTING\": \"Minority\", \"JOBCAT_DENOTING\": \"Administration\", \"SOCIODEMOGRAPHY\": 3, \"SOCIODEMOGRAPHY_DENOTING\": \"Minority_Male\"}, {\"SALARY\": 26400, \"EDUC\": 15, \"SALBEGIN\": 15750, \"GENDER\": 1, \"MINORITY\": 1, \"JOBCAT\": 1, \"GENDER_DENOTING\": \"Male\", \"MINORITY_DENOTING\": \"Minority\", \"JOBCAT_DENOTING\": \"Administration\", \"SOCIODEMOGRAPHY\": 3, \"SOCIODEMOGRAPHY_DENOTING\": \"Minority_Male\"}, {\"SALARY\": 39150, \"EDUC\": 15, \"SALBEGIN\": 15750, \"GENDER\": 1, \"MINORITY\": 0, \"JOBCAT\": 1, \"GENDER_DENOTING\": \"Male\", \"MINORITY_DENOTING\": \"White\", \"JOBCAT_DENOTING\": \"Administration\", \"SOCIODEMOGRAPHY\": 1, \"SOCIODEMOGRAPHY_DENOTING\": \"White_Male\"}, {\"SALARY\": 21450, \"EDUC\": 12, \"SALBEGIN\": 12750, \"GENDER\": 0, \"MINORITY\": 0, \"JOBCAT\": 1, \"GENDER_DENOTING\": \"Female\", \"MINORITY_DENOTING\": \"White\", \"JOBCAT_DENOTING\": \"Administration\", \"SOCIODEMOGRAPHY\": 0, \"SOCIODEMOGRAPHY_DENOTING\": \"White_Female\"}, {\"SALARY\": 29400, \"EDUC\": 12, \"SALBEGIN\": 14250, \"GENDER\": 0, \"MINORITY\": 0, \"JOBCAT\": 1, \"GENDER_DENOTING\": \"Female\", \"MINORITY_DENOTING\": \"White\", \"JOBCAT_DENOTING\": \"Administration\", \"SOCIODEMOGRAPHY\": 0, \"SOCIODEMOGRAPHY_DENOTING\": \"White_Female\"}]}}, {\"mode\": \"vega-lite\"});\n</script>",
      "text/plain": [
       "alt.Chart(...)"
      ]
     },
     "metadata": {},
     "execution_count": 7
    }
   ],
   "source": [
    "alt.Chart(df).mark_point(size=60).encode(\n",
    "    x=alt.X(\"MINORITY_DENOTING\", axis = alt.Axis(labelAngle=0)),\n",
    "    y = alt.Y(\"SALARY\"),\n",
    "    color = \"GENDER_DENOTING\",\n",
    "    column = \"JOBCAT_DENOTING\"\n",
    ").properties(\n",
    "    title = \"Impact of Sociodemography on Salary\",\n",
    "    width = 200\n",
    "    )"
   ]
  },
  {
   "source": [
    "Here you can see:\n",
    "\n",
    "- The administration is quite diverse in its `sociodemographic` background but it looks like as if persons who are classified as beeing male get a higher salary.\n",
    "- The custody unit has for all its employees a nearly consistent salary.  \n",
    "- To be part of the management (the bank unit with the highest salaries) means you most likely should be categorized as white and male."
   ],
   "cell_type": "markdown",
   "metadata": {}
  },
  {
   "cell_type": "code",
   "execution_count": null,
   "metadata": {},
   "outputs": [],
   "source": []
  }
 ]
}