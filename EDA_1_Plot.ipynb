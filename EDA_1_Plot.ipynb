{
 "metadata": {
  "language_info": {
   "codemirror_mode": {
    "name": "ipython",
    "version": 3
   },
   "file_extension": ".py",
   "mimetype": "text/x-python",
   "name": "python",
   "nbconvert_exporter": "python",
   "pygments_lexer": "ipython3",
   "version": "3.8.5"
  },
  "orig_nbformat": 2,
  "kernelspec": {
   "name": "python385jvsc74a57bd0b97710d494ffeb654d41d16f65990d28edf229515e751f1ea393dba413e87e78",
   "display_name": "Python 3.8.5 64-bit"
  },
  "metadata": {
   "interpreter": {
    "hash": "b97710d494ffeb654d41d16f65990d28edf229515e751f1ea393dba413e87e78"
   }
  }
 },
 "nbformat": 4,
 "nbformat_minor": 2,
 "cells": [
  {
   "source": [
    "### Have a first look at the data - plots of the data"
   ],
   "cell_type": "markdown",
   "metadata": {}
  },
  {
   "cell_type": "code",
   "execution_count": 1,
   "metadata": {},
   "outputs": [],
   "source": [
    "import seaborn as sns\n",
    "import matplotlib.pyplot as plt\n",
    "import plotly.express as plx\n",
    "from plotly.subplots import make_subplots\n",
    "import plotly.graph_objects as go\n",
    "import altair as alt"
   ]
  },
  {
   "source": [
    "Load the data from the memory store."
   ],
   "cell_type": "markdown",
   "metadata": {}
  },
  {
   "cell_type": "code",
   "execution_count": 2,
   "metadata": {},
   "outputs": [],
   "source": [
    "%store -r df"
   ]
  },
  {
   "source": [
    "First we may want to know which amounts of salary appear how often amongst the 474 observations."
   ],
   "cell_type": "markdown",
   "metadata": {}
  },
  {
   "cell_type": "code",
   "execution_count": 4,
   "metadata": {},
   "outputs": [
    {
     "output_type": "display_data",
     "data": {
      "application/vnd.plotly.v1+json": {
       "config": {
        "plotlyServerURL": "https://plot.ly"
       },
       "data": [
        {
         "alignmentgroup": "True",
         "bingroup": "x",
         "hovertemplate": "SALARY=%{x}<br>count=%{y}<extra></extra>",
         "legendgroup": "",
         "marker": {
          "color": "#636efa"
         },
         "name": "",
         "offsetgroup": "",
         "orientation": "v",
         "showlegend": false,
         "type": "histogram",
         "x": [
          40200,
          21450,
          21900,
          32100,
          36000,
          21900,
          27900,
          24000,
          30300,
          28350,
          27750,
          35100,
          27300,
          40800,
          42300,
          26250,
          38850,
          21750,
          24000,
          21150,
          31050,
          32550,
          31200,
          36150,
          42000,
          31350,
          29100,
          31350,
          36000,
          19200,
          23550,
          35100,
          23250,
          29250,
          30750,
          22350,
          30000,
          30750,
          34800,
          35550,
          25050,
          27000,
          26850,
          33900,
          26400,
          28050,
          30900,
          22500,
          21900,
          41100,
          26400,
          33900,
          24150,
          29250,
          27600,
          22950,
          34800,
          24300,
          24750,
          22950,
          25050,
          25950,
          31650,
          24150,
          20100,
          24000,
          25950,
          24600,
          28500,
          30750,
          40200,
          30000,
          22050,
          39900,
          27450,
          31650,
          25200,
          21000,
          30450,
          28350,
          30750,
          30750,
          37800,
          33450,
          30300,
          31500,
          31650,
          25200,
          37800,
          18750,
          32550,
          33300,
          38550,
          27450,
          24300,
          30750,
          19650,
          31500,
          27300,
          27000,
          41550,
          26250,
          22200,
          30900,
          20100,
          22350,
          35550,
          28500,
          24450,
          26700,
          23700,
          26550,
          27600,
          25800,
          42300,
          30750,
          26700,
          20850,
          35250,
          26700,
          26550,
          27750,
          25050,
          30900,
          29400,
          33300,
          21900,
          18150,
          25500,
          26550,
          26700,
          29850,
          31950,
          26250,
          35700,
          28500,
          25200,
          24000,
          27450,
          18450,
          39300,
          38850,
          30750,
          37500,
          34500,
          36000,
          29100,
          19650,
          24750,
          27150,
          26400,
          23100,
          29340,
          39600,
          29100,
          33150,
          33750,
          27300,
          24000,
          19800,
          30600,
          28950,
          38400,
          30750,
          20400,
          19200,
          30150,
          34620,
          25350,
          29850,
          24000,
          27750,
          22350,
          21900,
          23250,
          33900,
          25650,
          22500,
          40200,
          26550,
          27450,
          22650,
          27300,
          27750,
          40800,
          23100,
          22500,
          26700,
          24900,
          19650,
          22050,
          25500,
          28200,
          23100,
          25500,
          30600,
          21300,
          19650,
          22350,
          23400,
          24300,
          28500,
          19950,
          23400,
          34500,
          18150,
          22350,
          40200,
          28650,
          27750,
          30000,
          33900,
          43000,
          20850,
          24450,
          24750,
          34500,
          27900,
          30750,
          40050,
          40350,
          38700,
          35250,
          25950,
          25050,
          26700,
          24000,
          26850,
          23400,
          24600,
          32550,
          26550,
          31500,
          22350,
          35250,
          25800,
          30750,
          30750,
          34500,
          26250,
          22500,
          25650,
          21300,
          29850,
          34500,
          27750,
          27750,
          22050,
          22050,
          22500,
          25500,
          29160,
          29550,
          26700,
          27300,
          24450,
          33000,
          37050,
          24450,
          31950,
          26100,
          23700,
          21750,
          24450,
          35700,
          22200,
          22950,
          23100,
          29100,
          37650,
          27900,
          21150,
          31200,
          20550,
          25950,
          28350,
          17700,
          23550,
          19950,
          29400,
          28800,
          35700,
          21450,
          24750,
          26100,
          28050,
          36600,
          21300,
          22500,
          29400,
          27450,
          29850,
          25350,
          19650,
          21000,
          27000,
          24000,
          20850,
          30000,
          28500,
          30150,
          24150,
          24450,
          21600,
          27900,
          29100,
          22650,
          20850,
          22950,
          30600,
          20400,
          23850,
          22800,
          20700,
          21300,
          24300,
          19650,
          30300,
          36000,
          25200,
          22800,
          30300,
          31950,
          35250,
          37800,
          31200,
          29400,
          33900,
          27150,
          22200,
          31350,
          20850,
          33300,
          26250,
          31950,
          30000,
          30750,
          33540,
          34950,
          40350,
          30270,
          26250,
          32400,
          20400,
          24150,
          23850,
          29700,
          21600,
          24450,
          28050,
          28500,
          28800,
          24450,
          31650,
          21750,
          22500,
          21600,
          34410,
          20700,
          33900,
          23400,
          32850,
          25200,
          26250,
          26400,
          39150,
          21450,
          29400
         ],
         "xaxis": "x",
         "yaxis": "y"
        }
       ],
       "layout": {
        "barmode": "relative",
        "legend": {
         "tracegroupgap": 0
        },
        "template": {
         "data": {
          "bar": [
           {
            "error_x": {
             "color": "#2a3f5f"
            },
            "error_y": {
             "color": "#2a3f5f"
            },
            "marker": {
             "line": {
              "color": "#E5ECF6",
              "width": 0.5
             }
            },
            "type": "bar"
           }
          ],
          "barpolar": [
           {
            "marker": {
             "line": {
              "color": "#E5ECF6",
              "width": 0.5
             }
            },
            "type": "barpolar"
           }
          ],
          "carpet": [
           {
            "aaxis": {
             "endlinecolor": "#2a3f5f",
             "gridcolor": "white",
             "linecolor": "white",
             "minorgridcolor": "white",
             "startlinecolor": "#2a3f5f"
            },
            "baxis": {
             "endlinecolor": "#2a3f5f",
             "gridcolor": "white",
             "linecolor": "white",
             "minorgridcolor": "white",
             "startlinecolor": "#2a3f5f"
            },
            "type": "carpet"
           }
          ],
          "choropleth": [
           {
            "colorbar": {
             "outlinewidth": 0,
             "ticks": ""
            },
            "type": "choropleth"
           }
          ],
          "contour": [
           {
            "colorbar": {
             "outlinewidth": 0,
             "ticks": ""
            },
            "colorscale": [
             [
              0,
              "#0d0887"
             ],
             [
              0.1111111111111111,
              "#46039f"
             ],
             [
              0.2222222222222222,
              "#7201a8"
             ],
             [
              0.3333333333333333,
              "#9c179e"
             ],
             [
              0.4444444444444444,
              "#bd3786"
             ],
             [
              0.5555555555555556,
              "#d8576b"
             ],
             [
              0.6666666666666666,
              "#ed7953"
             ],
             [
              0.7777777777777778,
              "#fb9f3a"
             ],
             [
              0.8888888888888888,
              "#fdca26"
             ],
             [
              1,
              "#f0f921"
             ]
            ],
            "type": "contour"
           }
          ],
          "contourcarpet": [
           {
            "colorbar": {
             "outlinewidth": 0,
             "ticks": ""
            },
            "type": "contourcarpet"
           }
          ],
          "heatmap": [
           {
            "colorbar": {
             "outlinewidth": 0,
             "ticks": ""
            },
            "colorscale": [
             [
              0,
              "#0d0887"
             ],
             [
              0.1111111111111111,
              "#46039f"
             ],
             [
              0.2222222222222222,
              "#7201a8"
             ],
             [
              0.3333333333333333,
              "#9c179e"
             ],
             [
              0.4444444444444444,
              "#bd3786"
             ],
             [
              0.5555555555555556,
              "#d8576b"
             ],
             [
              0.6666666666666666,
              "#ed7953"
             ],
             [
              0.7777777777777778,
              "#fb9f3a"
             ],
             [
              0.8888888888888888,
              "#fdca26"
             ],
             [
              1,
              "#f0f921"
             ]
            ],
            "type": "heatmap"
           }
          ],
          "heatmapgl": [
           {
            "colorbar": {
             "outlinewidth": 0,
             "ticks": ""
            },
            "colorscale": [
             [
              0,
              "#0d0887"
             ],
             [
              0.1111111111111111,
              "#46039f"
             ],
             [
              0.2222222222222222,
              "#7201a8"
             ],
             [
              0.3333333333333333,
              "#9c179e"
             ],
             [
              0.4444444444444444,
              "#bd3786"
             ],
             [
              0.5555555555555556,
              "#d8576b"
             ],
             [
              0.6666666666666666,
              "#ed7953"
             ],
             [
              0.7777777777777778,
              "#fb9f3a"
             ],
             [
              0.8888888888888888,
              "#fdca26"
             ],
             [
              1,
              "#f0f921"
             ]
            ],
            "type": "heatmapgl"
           }
          ],
          "histogram": [
           {
            "marker": {
             "colorbar": {
              "outlinewidth": 0,
              "ticks": ""
             }
            },
            "type": "histogram"
           }
          ],
          "histogram2d": [
           {
            "colorbar": {
             "outlinewidth": 0,
             "ticks": ""
            },
            "colorscale": [
             [
              0,
              "#0d0887"
             ],
             [
              0.1111111111111111,
              "#46039f"
             ],
             [
              0.2222222222222222,
              "#7201a8"
             ],
             [
              0.3333333333333333,
              "#9c179e"
             ],
             [
              0.4444444444444444,
              "#bd3786"
             ],
             [
              0.5555555555555556,
              "#d8576b"
             ],
             [
              0.6666666666666666,
              "#ed7953"
             ],
             [
              0.7777777777777778,
              "#fb9f3a"
             ],
             [
              0.8888888888888888,
              "#fdca26"
             ],
             [
              1,
              "#f0f921"
             ]
            ],
            "type": "histogram2d"
           }
          ],
          "histogram2dcontour": [
           {
            "colorbar": {
             "outlinewidth": 0,
             "ticks": ""
            },
            "colorscale": [
             [
              0,
              "#0d0887"
             ],
             [
              0.1111111111111111,
              "#46039f"
             ],
             [
              0.2222222222222222,
              "#7201a8"
             ],
             [
              0.3333333333333333,
              "#9c179e"
             ],
             [
              0.4444444444444444,
              "#bd3786"
             ],
             [
              0.5555555555555556,
              "#d8576b"
             ],
             [
              0.6666666666666666,
              "#ed7953"
             ],
             [
              0.7777777777777778,
              "#fb9f3a"
             ],
             [
              0.8888888888888888,
              "#fdca26"
             ],
             [
              1,
              "#f0f921"
             ]
            ],
            "type": "histogram2dcontour"
           }
          ],
          "mesh3d": [
           {
            "colorbar": {
             "outlinewidth": 0,
             "ticks": ""
            },
            "type": "mesh3d"
           }
          ],
          "parcoords": [
           {
            "line": {
             "colorbar": {
              "outlinewidth": 0,
              "ticks": ""
             }
            },
            "type": "parcoords"
           }
          ],
          "pie": [
           {
            "automargin": true,
            "type": "pie"
           }
          ],
          "scatter": [
           {
            "marker": {
             "colorbar": {
              "outlinewidth": 0,
              "ticks": ""
             }
            },
            "type": "scatter"
           }
          ],
          "scatter3d": [
           {
            "line": {
             "colorbar": {
              "outlinewidth": 0,
              "ticks": ""
             }
            },
            "marker": {
             "colorbar": {
              "outlinewidth": 0,
              "ticks": ""
             }
            },
            "type": "scatter3d"
           }
          ],
          "scattercarpet": [
           {
            "marker": {
             "colorbar": {
              "outlinewidth": 0,
              "ticks": ""
             }
            },
            "type": "scattercarpet"
           }
          ],
          "scattergeo": [
           {
            "marker": {
             "colorbar": {
              "outlinewidth": 0,
              "ticks": ""
             }
            },
            "type": "scattergeo"
           }
          ],
          "scattergl": [
           {
            "marker": {
             "colorbar": {
              "outlinewidth": 0,
              "ticks": ""
             }
            },
            "type": "scattergl"
           }
          ],
          "scattermapbox": [
           {
            "marker": {
             "colorbar": {
              "outlinewidth": 0,
              "ticks": ""
             }
            },
            "type": "scattermapbox"
           }
          ],
          "scatterpolar": [
           {
            "marker": {
             "colorbar": {
              "outlinewidth": 0,
              "ticks": ""
             }
            },
            "type": "scatterpolar"
           }
          ],
          "scatterpolargl": [
           {
            "marker": {
             "colorbar": {
              "outlinewidth": 0,
              "ticks": ""
             }
            },
            "type": "scatterpolargl"
           }
          ],
          "scatterternary": [
           {
            "marker": {
             "colorbar": {
              "outlinewidth": 0,
              "ticks": ""
             }
            },
            "type": "scatterternary"
           }
          ],
          "surface": [
           {
            "colorbar": {
             "outlinewidth": 0,
             "ticks": ""
            },
            "colorscale": [
             [
              0,
              "#0d0887"
             ],
             [
              0.1111111111111111,
              "#46039f"
             ],
             [
              0.2222222222222222,
              "#7201a8"
             ],
             [
              0.3333333333333333,
              "#9c179e"
             ],
             [
              0.4444444444444444,
              "#bd3786"
             ],
             [
              0.5555555555555556,
              "#d8576b"
             ],
             [
              0.6666666666666666,
              "#ed7953"
             ],
             [
              0.7777777777777778,
              "#fb9f3a"
             ],
             [
              0.8888888888888888,
              "#fdca26"
             ],
             [
              1,
              "#f0f921"
             ]
            ],
            "type": "surface"
           }
          ],
          "table": [
           {
            "cells": {
             "fill": {
              "color": "#EBF0F8"
             },
             "line": {
              "color": "white"
             }
            },
            "header": {
             "fill": {
              "color": "#C8D4E3"
             },
             "line": {
              "color": "white"
             }
            },
            "type": "table"
           }
          ]
         },
         "layout": {
          "annotationdefaults": {
           "arrowcolor": "#2a3f5f",
           "arrowhead": 0,
           "arrowwidth": 1
          },
          "autotypenumbers": "strict",
          "coloraxis": {
           "colorbar": {
            "outlinewidth": 0,
            "ticks": ""
           }
          },
          "colorscale": {
           "diverging": [
            [
             0,
             "#8e0152"
            ],
            [
             0.1,
             "#c51b7d"
            ],
            [
             0.2,
             "#de77ae"
            ],
            [
             0.3,
             "#f1b6da"
            ],
            [
             0.4,
             "#fde0ef"
            ],
            [
             0.5,
             "#f7f7f7"
            ],
            [
             0.6,
             "#e6f5d0"
            ],
            [
             0.7,
             "#b8e186"
            ],
            [
             0.8,
             "#7fbc41"
            ],
            [
             0.9,
             "#4d9221"
            ],
            [
             1,
             "#276419"
            ]
           ],
           "sequential": [
            [
             0,
             "#0d0887"
            ],
            [
             0.1111111111111111,
             "#46039f"
            ],
            [
             0.2222222222222222,
             "#7201a8"
            ],
            [
             0.3333333333333333,
             "#9c179e"
            ],
            [
             0.4444444444444444,
             "#bd3786"
            ],
            [
             0.5555555555555556,
             "#d8576b"
            ],
            [
             0.6666666666666666,
             "#ed7953"
            ],
            [
             0.7777777777777778,
             "#fb9f3a"
            ],
            [
             0.8888888888888888,
             "#fdca26"
            ],
            [
             1,
             "#f0f921"
            ]
           ],
           "sequentialminus": [
            [
             0,
             "#0d0887"
            ],
            [
             0.1111111111111111,
             "#46039f"
            ],
            [
             0.2222222222222222,
             "#7201a8"
            ],
            [
             0.3333333333333333,
             "#9c179e"
            ],
            [
             0.4444444444444444,
             "#bd3786"
            ],
            [
             0.5555555555555556,
             "#d8576b"
            ],
            [
             0.6666666666666666,
             "#ed7953"
            ],
            [
             0.7777777777777778,
             "#fb9f3a"
            ],
            [
             0.8888888888888888,
             "#fdca26"
            ],
            [
             1,
             "#f0f921"
            ]
           ]
          },
          "colorway": [
           "#636efa",
           "#EF553B",
           "#00cc96",
           "#ab63fa",
           "#FFA15A",
           "#19d3f3",
           "#FF6692",
           "#B6E880",
           "#FF97FF",
           "#FECB52"
          ],
          "font": {
           "color": "#2a3f5f"
          },
          "geo": {
           "bgcolor": "white",
           "lakecolor": "white",
           "landcolor": "#E5ECF6",
           "showlakes": true,
           "showland": true,
           "subunitcolor": "white"
          },
          "hoverlabel": {
           "align": "left"
          },
          "hovermode": "closest",
          "mapbox": {
           "style": "light"
          },
          "paper_bgcolor": "white",
          "plot_bgcolor": "#E5ECF6",
          "polar": {
           "angularaxis": {
            "gridcolor": "white",
            "linecolor": "white",
            "ticks": ""
           },
           "bgcolor": "#E5ECF6",
           "radialaxis": {
            "gridcolor": "white",
            "linecolor": "white",
            "ticks": ""
           }
          },
          "scene": {
           "xaxis": {
            "backgroundcolor": "#E5ECF6",
            "gridcolor": "white",
            "gridwidth": 2,
            "linecolor": "white",
            "showbackground": true,
            "ticks": "",
            "zerolinecolor": "white"
           },
           "yaxis": {
            "backgroundcolor": "#E5ECF6",
            "gridcolor": "white",
            "gridwidth": 2,
            "linecolor": "white",
            "showbackground": true,
            "ticks": "",
            "zerolinecolor": "white"
           },
           "zaxis": {
            "backgroundcolor": "#E5ECF6",
            "gridcolor": "white",
            "gridwidth": 2,
            "linecolor": "white",
            "showbackground": true,
            "ticks": "",
            "zerolinecolor": "white"
           }
          },
          "shapedefaults": {
           "line": {
            "color": "#2a3f5f"
           }
          },
          "ternary": {
           "aaxis": {
            "gridcolor": "white",
            "linecolor": "white",
            "ticks": ""
           },
           "baxis": {
            "gridcolor": "white",
            "linecolor": "white",
            "ticks": ""
           },
           "bgcolor": "#E5ECF6",
           "caxis": {
            "gridcolor": "white",
            "linecolor": "white",
            "ticks": ""
           }
          },
          "title": {
           "x": 0.05
          },
          "xaxis": {
           "automargin": true,
           "gridcolor": "white",
           "linecolor": "white",
           "ticks": "",
           "title": {
            "standoff": 15
           },
           "zerolinecolor": "white",
           "zerolinewidth": 2
          },
          "yaxis": {
           "automargin": true,
           "gridcolor": "white",
           "linecolor": "white",
           "ticks": "",
           "title": {
            "standoff": 15
           },
           "zerolinecolor": "white",
           "zerolinewidth": 2
          }
         }
        },
        "title": {
         "text": "Distribution of salaries"
        },
        "xaxis": {
         "anchor": "y",
         "domain": [
          0,
          1
         ],
         "title": {
          "text": "SALARY"
         }
        },
        "yaxis": {
         "anchor": "x",
         "domain": [
          0,
          1
         ],
         "title": {
          "text": "count"
         }
        }
       }
      }
     },
     "metadata": {}
    }
   ],
   "source": [
    "fig = plx.histogram(df,\n",
    "    x = \"SALARY\",\n",
    "    title = \"Distribution of salaries\"\n",
    ")\n",
    "fig = go.Figure(fig)\n",
    "#fig.write_image(\"plots/distribution_of_salaries.png\")\n",
    "fig.show()"
   ]
  },
  {
   "cell_type": "code",
   "execution_count": 65,
   "metadata": {},
   "outputs": [
    {
     "output_type": "display_data",
     "data": {
      "application/vnd.plotly.v1+json": {
       "config": {
        "plotlyServerURL": "https://plot.ly"
       },
       "data": [
        {
         "alignmentgroup": "True",
         "box": {
          "visible": false
         },
         "hovertemplate": "SALARY=%{y}<extra></extra>",
         "legendgroup": "",
         "marker": {
          "color": "#636efa"
         },
         "name": "",
         "offsetgroup": "",
         "orientation": "v",
         "scalegroup": "True",
         "showlegend": false,
         "type": "violin",
         "x0": " ",
         "xaxis": "x",
         "y": [
          57000,
          40200,
          21450,
          21900,
          45000,
          32100,
          36000,
          21900,
          27900,
          24000,
          30300,
          28350,
          27750,
          35100,
          27300,
          40800,
          46000,
          103750,
          42300,
          26250,
          38850,
          21750,
          24000,
          16950,
          21150,
          31050,
          60375,
          32550,
          135000,
          31200,
          36150,
          110625,
          42000,
          92000,
          81250,
          31350,
          29100,
          31350,
          36000,
          19200,
          23550,
          35100,
          23250,
          29250,
          30750,
          22350,
          30000,
          30750,
          34800,
          60000,
          35550,
          45150,
          73750,
          25050,
          27000,
          26850,
          33900,
          26400,
          28050,
          30900,
          22500,
          48000,
          55000,
          53125,
          21900,
          78125,
          46000,
          45250,
          56550,
          41100,
          82500,
          54000,
          26400,
          33900,
          24150,
          29250,
          27600,
          22950,
          34800,
          51000,
          24300,
          24750,
          22950,
          25050,
          25950,
          31650,
          24150,
          72500,
          68750,
          16200,
          20100,
          24000,
          25950,
          24600,
          28500,
          30750,
          40200,
          30000,
          22050,
          78250,
          60625,
          39900,
          97000,
          27450,
          31650,
          91250,
          25200,
          21000,
          30450,
          28350,
          30750,
          30750,
          54875,
          37800,
          33450,
          30300,
          31500,
          31650,
          25200,
          37800,
          18750,
          32550,
          33300,
          38550,
          27450,
          24300,
          30750,
          19650,
          68750,
          59375,
          31500,
          27300,
          27000,
          41550,
          26250,
          22200,
          65000,
          30900,
          20100,
          22350,
          35550,
          28500,
          24450,
          16650,
          26700,
          43950,
          23700,
          26550,
          27600,
          25800,
          42300,
          30750,
          26700,
          20850,
          35250,
          26700,
          26550,
          27750,
          25050,
          66000,
          52650,
          45625,
          30900,
          29400,
          33300,
          21900,
          18150,
          46875,
          25500,
          26550,
          26700,
          29850,
          69250,
          31950,
          26250,
          35700,
          28500,
          17100,
          25200,
          24000,
          27450,
          18450,
          39300,
          38850,
          30750,
          37500,
          58750,
          34500,
          36000,
          29100,
          16500,
          19650,
          24750,
          27150,
          26400,
          23100,
          54900,
          70875,
          51250,
          67500,
          29340,
          39600,
          29100,
          33150,
          66750,
          33750,
          27300,
          24000,
          19800,
          30600,
          28950,
          38400,
          30750,
          20400,
          19200,
          30150,
          34620,
          80000,
          25350,
          29850,
          24000,
          27750,
          22350,
          16200,
          21900,
          23250,
          33900,
          25650,
          17250,
          22500,
          40200,
          55500,
          26550,
          50550,
          75000,
          27450,
          22650,
          27300,
          27750,
          54375,
          17400,
          40800,
          23100,
          22500,
          26700,
          24900,
          19650,
          22050,
          25500,
          28200,
          23100,
          25500,
          17100,
          68125,
          30600,
          52125,
          61875,
          21300,
          19650,
          22350,
          23400,
          24300,
          28500,
          19950,
          23400,
          34500,
          18150,
          22350,
          40200,
          28650,
          27750,
          66875,
          30000,
          83750,
          33900,
          56500,
          43000,
          20850,
          24450,
          24750,
          34500,
          27900,
          68125,
          73500,
          30750,
          40050,
          40350,
          38700,
          65000,
          51450,
          35250,
          25950,
          25050,
          26700,
          24000,
          26850,
          23400,
          24600,
          32550,
          26550,
          31500,
          22350,
          35250,
          25800,
          30750,
          30750,
          50000,
          34500,
          26250,
          44875,
          22500,
          25650,
          21300,
          29850,
          34500,
          27750,
          27750,
          48750,
          43410,
          22050,
          22050,
          22500,
          25500,
          29160,
          16800,
          29550,
          26700,
          55000,
          62500,
          27300,
          24450,
          33000,
          37050,
          24450,
          31950,
          47250,
          26100,
          15900,
          23700,
          21750,
          59400,
          24450,
          103500,
          35700,
          22200,
          22950,
          23100,
          56750,
          29100,
          37650,
          27900,
          21150,
          31200,
          20550,
          25950,
          28350,
          17700,
          23550,
          19950,
          29400,
          28800,
          16950,
          35700,
          17400,
          21450,
          24750,
          16950,
          26100,
          28050,
          36600,
          58125,
          21300,
          22500,
          29400,
          27450,
          29850,
          25350,
          15750,
          19650,
          21000,
          27000,
          24000,
          78500,
          20850,
          30000,
          28500,
          65000,
          30150,
          66875,
          24150,
          24450,
          21600,
          27900,
          29100,
          22650,
          20850,
          22950,
          30600,
          20400,
          23850,
          22800,
          20700,
          21300,
          24300,
          19650,
          60000,
          30300,
          61250,
          36000,
          25200,
          16200,
          22800,
          43500,
          30300,
          31950,
          35250,
          37800,
          31200,
          29400,
          70000,
          33900,
          27150,
          22200,
          31350,
          20850,
          33300,
          26250,
          31950,
          30000,
          66250,
          86250,
          30750,
          33540,
          34950,
          40350,
          30270,
          26250,
          32400,
          20400,
          24150,
          23850,
          29700,
          21600,
          24450,
          28050,
          100000,
          49000,
          16350,
          70000,
          55000,
          28500,
          28800,
          24450,
          90625,
          43650,
          75000,
          31650,
          61875,
          21750,
          22500,
          21600,
          34410,
          20700,
          47550,
          33900,
          23400,
          32850,
          55750,
          25200,
          26250,
          26400,
          39150,
          21450,
          29400
         ],
         "y0": " ",
         "yaxis": "y"
        }
       ],
       "layout": {
        "legend": {
         "tracegroupgap": 0
        },
        "margin": {
         "t": 60
        },
        "template": {
         "data": {
          "bar": [
           {
            "error_x": {
             "color": "#2a3f5f"
            },
            "error_y": {
             "color": "#2a3f5f"
            },
            "marker": {
             "line": {
              "color": "#E5ECF6",
              "width": 0.5
             }
            },
            "type": "bar"
           }
          ],
          "barpolar": [
           {
            "marker": {
             "line": {
              "color": "#E5ECF6",
              "width": 0.5
             }
            },
            "type": "barpolar"
           }
          ],
          "carpet": [
           {
            "aaxis": {
             "endlinecolor": "#2a3f5f",
             "gridcolor": "white",
             "linecolor": "white",
             "minorgridcolor": "white",
             "startlinecolor": "#2a3f5f"
            },
            "baxis": {
             "endlinecolor": "#2a3f5f",
             "gridcolor": "white",
             "linecolor": "white",
             "minorgridcolor": "white",
             "startlinecolor": "#2a3f5f"
            },
            "type": "carpet"
           }
          ],
          "choropleth": [
           {
            "colorbar": {
             "outlinewidth": 0,
             "ticks": ""
            },
            "type": "choropleth"
           }
          ],
          "contour": [
           {
            "colorbar": {
             "outlinewidth": 0,
             "ticks": ""
            },
            "colorscale": [
             [
              0,
              "#0d0887"
             ],
             [
              0.1111111111111111,
              "#46039f"
             ],
             [
              0.2222222222222222,
              "#7201a8"
             ],
             [
              0.3333333333333333,
              "#9c179e"
             ],
             [
              0.4444444444444444,
              "#bd3786"
             ],
             [
              0.5555555555555556,
              "#d8576b"
             ],
             [
              0.6666666666666666,
              "#ed7953"
             ],
             [
              0.7777777777777778,
              "#fb9f3a"
             ],
             [
              0.8888888888888888,
              "#fdca26"
             ],
             [
              1,
              "#f0f921"
             ]
            ],
            "type": "contour"
           }
          ],
          "contourcarpet": [
           {
            "colorbar": {
             "outlinewidth": 0,
             "ticks": ""
            },
            "type": "contourcarpet"
           }
          ],
          "heatmap": [
           {
            "colorbar": {
             "outlinewidth": 0,
             "ticks": ""
            },
            "colorscale": [
             [
              0,
              "#0d0887"
             ],
             [
              0.1111111111111111,
              "#46039f"
             ],
             [
              0.2222222222222222,
              "#7201a8"
             ],
             [
              0.3333333333333333,
              "#9c179e"
             ],
             [
              0.4444444444444444,
              "#bd3786"
             ],
             [
              0.5555555555555556,
              "#d8576b"
             ],
             [
              0.6666666666666666,
              "#ed7953"
             ],
             [
              0.7777777777777778,
              "#fb9f3a"
             ],
             [
              0.8888888888888888,
              "#fdca26"
             ],
             [
              1,
              "#f0f921"
             ]
            ],
            "type": "heatmap"
           }
          ],
          "heatmapgl": [
           {
            "colorbar": {
             "outlinewidth": 0,
             "ticks": ""
            },
            "colorscale": [
             [
              0,
              "#0d0887"
             ],
             [
              0.1111111111111111,
              "#46039f"
             ],
             [
              0.2222222222222222,
              "#7201a8"
             ],
             [
              0.3333333333333333,
              "#9c179e"
             ],
             [
              0.4444444444444444,
              "#bd3786"
             ],
             [
              0.5555555555555556,
              "#d8576b"
             ],
             [
              0.6666666666666666,
              "#ed7953"
             ],
             [
              0.7777777777777778,
              "#fb9f3a"
             ],
             [
              0.8888888888888888,
              "#fdca26"
             ],
             [
              1,
              "#f0f921"
             ]
            ],
            "type": "heatmapgl"
           }
          ],
          "histogram": [
           {
            "marker": {
             "colorbar": {
              "outlinewidth": 0,
              "ticks": ""
             }
            },
            "type": "histogram"
           }
          ],
          "histogram2d": [
           {
            "colorbar": {
             "outlinewidth": 0,
             "ticks": ""
            },
            "colorscale": [
             [
              0,
              "#0d0887"
             ],
             [
              0.1111111111111111,
              "#46039f"
             ],
             [
              0.2222222222222222,
              "#7201a8"
             ],
             [
              0.3333333333333333,
              "#9c179e"
             ],
             [
              0.4444444444444444,
              "#bd3786"
             ],
             [
              0.5555555555555556,
              "#d8576b"
             ],
             [
              0.6666666666666666,
              "#ed7953"
             ],
             [
              0.7777777777777778,
              "#fb9f3a"
             ],
             [
              0.8888888888888888,
              "#fdca26"
             ],
             [
              1,
              "#f0f921"
             ]
            ],
            "type": "histogram2d"
           }
          ],
          "histogram2dcontour": [
           {
            "colorbar": {
             "outlinewidth": 0,
             "ticks": ""
            },
            "colorscale": [
             [
              0,
              "#0d0887"
             ],
             [
              0.1111111111111111,
              "#46039f"
             ],
             [
              0.2222222222222222,
              "#7201a8"
             ],
             [
              0.3333333333333333,
              "#9c179e"
             ],
             [
              0.4444444444444444,
              "#bd3786"
             ],
             [
              0.5555555555555556,
              "#d8576b"
             ],
             [
              0.6666666666666666,
              "#ed7953"
             ],
             [
              0.7777777777777778,
              "#fb9f3a"
             ],
             [
              0.8888888888888888,
              "#fdca26"
             ],
             [
              1,
              "#f0f921"
             ]
            ],
            "type": "histogram2dcontour"
           }
          ],
          "mesh3d": [
           {
            "colorbar": {
             "outlinewidth": 0,
             "ticks": ""
            },
            "type": "mesh3d"
           }
          ],
          "parcoords": [
           {
            "line": {
             "colorbar": {
              "outlinewidth": 0,
              "ticks": ""
             }
            },
            "type": "parcoords"
           }
          ],
          "pie": [
           {
            "automargin": true,
            "type": "pie"
           }
          ],
          "scatter": [
           {
            "marker": {
             "colorbar": {
              "outlinewidth": 0,
              "ticks": ""
             }
            },
            "type": "scatter"
           }
          ],
          "scatter3d": [
           {
            "line": {
             "colorbar": {
              "outlinewidth": 0,
              "ticks": ""
             }
            },
            "marker": {
             "colorbar": {
              "outlinewidth": 0,
              "ticks": ""
             }
            },
            "type": "scatter3d"
           }
          ],
          "scattercarpet": [
           {
            "marker": {
             "colorbar": {
              "outlinewidth": 0,
              "ticks": ""
             }
            },
            "type": "scattercarpet"
           }
          ],
          "scattergeo": [
           {
            "marker": {
             "colorbar": {
              "outlinewidth": 0,
              "ticks": ""
             }
            },
            "type": "scattergeo"
           }
          ],
          "scattergl": [
           {
            "marker": {
             "colorbar": {
              "outlinewidth": 0,
              "ticks": ""
             }
            },
            "type": "scattergl"
           }
          ],
          "scattermapbox": [
           {
            "marker": {
             "colorbar": {
              "outlinewidth": 0,
              "ticks": ""
             }
            },
            "type": "scattermapbox"
           }
          ],
          "scatterpolar": [
           {
            "marker": {
             "colorbar": {
              "outlinewidth": 0,
              "ticks": ""
             }
            },
            "type": "scatterpolar"
           }
          ],
          "scatterpolargl": [
           {
            "marker": {
             "colorbar": {
              "outlinewidth": 0,
              "ticks": ""
             }
            },
            "type": "scatterpolargl"
           }
          ],
          "scatterternary": [
           {
            "marker": {
             "colorbar": {
              "outlinewidth": 0,
              "ticks": ""
             }
            },
            "type": "scatterternary"
           }
          ],
          "surface": [
           {
            "colorbar": {
             "outlinewidth": 0,
             "ticks": ""
            },
            "colorscale": [
             [
              0,
              "#0d0887"
             ],
             [
              0.1111111111111111,
              "#46039f"
             ],
             [
              0.2222222222222222,
              "#7201a8"
             ],
             [
              0.3333333333333333,
              "#9c179e"
             ],
             [
              0.4444444444444444,
              "#bd3786"
             ],
             [
              0.5555555555555556,
              "#d8576b"
             ],
             [
              0.6666666666666666,
              "#ed7953"
             ],
             [
              0.7777777777777778,
              "#fb9f3a"
             ],
             [
              0.8888888888888888,
              "#fdca26"
             ],
             [
              1,
              "#f0f921"
             ]
            ],
            "type": "surface"
           }
          ],
          "table": [
           {
            "cells": {
             "fill": {
              "color": "#EBF0F8"
             },
             "line": {
              "color": "white"
             }
            },
            "header": {
             "fill": {
              "color": "#C8D4E3"
             },
             "line": {
              "color": "white"
             }
            },
            "type": "table"
           }
          ]
         },
         "layout": {
          "annotationdefaults": {
           "arrowcolor": "#2a3f5f",
           "arrowhead": 0,
           "arrowwidth": 1
          },
          "autotypenumbers": "strict",
          "coloraxis": {
           "colorbar": {
            "outlinewidth": 0,
            "ticks": ""
           }
          },
          "colorscale": {
           "diverging": [
            [
             0,
             "#8e0152"
            ],
            [
             0.1,
             "#c51b7d"
            ],
            [
             0.2,
             "#de77ae"
            ],
            [
             0.3,
             "#f1b6da"
            ],
            [
             0.4,
             "#fde0ef"
            ],
            [
             0.5,
             "#f7f7f7"
            ],
            [
             0.6,
             "#e6f5d0"
            ],
            [
             0.7,
             "#b8e186"
            ],
            [
             0.8,
             "#7fbc41"
            ],
            [
             0.9,
             "#4d9221"
            ],
            [
             1,
             "#276419"
            ]
           ],
           "sequential": [
            [
             0,
             "#0d0887"
            ],
            [
             0.1111111111111111,
             "#46039f"
            ],
            [
             0.2222222222222222,
             "#7201a8"
            ],
            [
             0.3333333333333333,
             "#9c179e"
            ],
            [
             0.4444444444444444,
             "#bd3786"
            ],
            [
             0.5555555555555556,
             "#d8576b"
            ],
            [
             0.6666666666666666,
             "#ed7953"
            ],
            [
             0.7777777777777778,
             "#fb9f3a"
            ],
            [
             0.8888888888888888,
             "#fdca26"
            ],
            [
             1,
             "#f0f921"
            ]
           ],
           "sequentialminus": [
            [
             0,
             "#0d0887"
            ],
            [
             0.1111111111111111,
             "#46039f"
            ],
            [
             0.2222222222222222,
             "#7201a8"
            ],
            [
             0.3333333333333333,
             "#9c179e"
            ],
            [
             0.4444444444444444,
             "#bd3786"
            ],
            [
             0.5555555555555556,
             "#d8576b"
            ],
            [
             0.6666666666666666,
             "#ed7953"
            ],
            [
             0.7777777777777778,
             "#fb9f3a"
            ],
            [
             0.8888888888888888,
             "#fdca26"
            ],
            [
             1,
             "#f0f921"
            ]
           ]
          },
          "colorway": [
           "#636efa",
           "#EF553B",
           "#00cc96",
           "#ab63fa",
           "#FFA15A",
           "#19d3f3",
           "#FF6692",
           "#B6E880",
           "#FF97FF",
           "#FECB52"
          ],
          "font": {
           "color": "#2a3f5f"
          },
          "geo": {
           "bgcolor": "white",
           "lakecolor": "white",
           "landcolor": "#E5ECF6",
           "showlakes": true,
           "showland": true,
           "subunitcolor": "white"
          },
          "hoverlabel": {
           "align": "left"
          },
          "hovermode": "closest",
          "mapbox": {
           "style": "light"
          },
          "paper_bgcolor": "white",
          "plot_bgcolor": "#E5ECF6",
          "polar": {
           "angularaxis": {
            "gridcolor": "white",
            "linecolor": "white",
            "ticks": ""
           },
           "bgcolor": "#E5ECF6",
           "radialaxis": {
            "gridcolor": "white",
            "linecolor": "white",
            "ticks": ""
           }
          },
          "scene": {
           "xaxis": {
            "backgroundcolor": "#E5ECF6",
            "gridcolor": "white",
            "gridwidth": 2,
            "linecolor": "white",
            "showbackground": true,
            "ticks": "",
            "zerolinecolor": "white"
           },
           "yaxis": {
            "backgroundcolor": "#E5ECF6",
            "gridcolor": "white",
            "gridwidth": 2,
            "linecolor": "white",
            "showbackground": true,
            "ticks": "",
            "zerolinecolor": "white"
           },
           "zaxis": {
            "backgroundcolor": "#E5ECF6",
            "gridcolor": "white",
            "gridwidth": 2,
            "linecolor": "white",
            "showbackground": true,
            "ticks": "",
            "zerolinecolor": "white"
           }
          },
          "shapedefaults": {
           "line": {
            "color": "#2a3f5f"
           }
          },
          "ternary": {
           "aaxis": {
            "gridcolor": "white",
            "linecolor": "white",
            "ticks": ""
           },
           "baxis": {
            "gridcolor": "white",
            "linecolor": "white",
            "ticks": ""
           },
           "bgcolor": "#E5ECF6",
           "caxis": {
            "gridcolor": "white",
            "linecolor": "white",
            "ticks": ""
           }
          },
          "title": {
           "x": 0.05
          },
          "xaxis": {
           "automargin": true,
           "gridcolor": "white",
           "linecolor": "white",
           "ticks": "",
           "title": {
            "standoff": 15
           },
           "zerolinecolor": "white",
           "zerolinewidth": 2
          },
          "yaxis": {
           "automargin": true,
           "gridcolor": "white",
           "linecolor": "white",
           "ticks": "",
           "title": {
            "standoff": 15
           },
           "zerolinecolor": "white",
           "zerolinewidth": 2
          }
         }
        },
        "violinmode": "group",
        "xaxis": {
         "anchor": "y",
         "domain": [
          0,
          1
         ]
        },
        "yaxis": {
         "anchor": "x",
         "domain": [
          0,
          1
         ],
         "title": {
          "text": "SALARY"
         }
        }
       }
      }
     },
     "metadata": {}
    }
   ],
   "source": [
    "fig = plx.violin(df, y=\"SALARY\")\n",
    "fig.show()"
   ]
  },
  {
   "source": [
    "The salary is concentrated between 20.000,- and 40.000 (propbably $) with the median at 28.875,- and the 75% quartile of the observations having a salary less than 37.000,-.\n",
    "\n",
    "But there are some salaries which outline this by the factor 3-4 and grossing up to 135.000,-"
   ],
   "cell_type": "markdown",
   "metadata": {}
  },
  {
   "source": [
    "To have first overview on the categorial features (`gender`, `minority`, `job category`) and their relations to the target variable we can use the pairplot method of seaborn."
   ],
   "cell_type": "markdown",
   "metadata": {}
  },
  {
   "cell_type": "code",
   "execution_count": 40,
   "metadata": {},
   "outputs": [
    {
     "output_type": "execute_result",
     "data": {
      "text/plain": [
       "<seaborn.axisgrid.PairGrid at 0x13522d970>"
      ]
     },
     "metadata": {},
     "execution_count": 40
    },
    {
     "output_type": "display_data",
     "data": {
      "text/plain": "<Figure size 144x360 with 0 Axes>"
     },
     "metadata": {}
    },
    {
     "output_type": "display_data",
     "data": {
      "text/plain": "<Figure size 1296x432 with 3 Axes>",
      "image/svg+xml": "<?xml version=\"1.0\" encoding=\"utf-8\" standalone=\"no\"?>\n<!DOCTYPE svg PUBLIC \"-//W3C//DTD SVG 1.1//EN\"\n  \"http://www.w3.org/Graphics/SVG/1.1/DTD/svg11.dtd\">\n<svg height=\"427.081075pt\" version=\"1.1\" viewBox=\"0 0 1272.938658 427.081075\" width=\"1272.938658pt\" xmlns=\"http://www.w3.org/2000/svg\" xmlns:xlink=\"http://www.w3.org/1999/xlink\">\n <metadata>\n  <rdf:RDF xmlns:cc=\"http://creativecommons.org/ns#\" xmlns:dc=\"http://purl.org/dc/elements/1.1/\" xmlns:rdf=\"http://www.w3.org/1999/02/22-rdf-syntax-ns#\">\n   <cc:Work>\n    <dc:type rdf:resource=\"http://purl.org/dc/dcmitype/StillImage\"/>\n    <dc:date>2021-06-04T09:08:21.115186</dc:date>\n    <dc:format>image/svg+xml</dc:format>\n    <dc:creator>\n     <cc:Agent>\n      <dc:title>Matplotlib v3.4.2, https://matplotlib.org/</dc:title>\n     </cc:Agent>\n    </dc:creator>\n   </cc:Work>\n  </rdf:RDF>\n </metadata>\n <defs>\n  <style type=\"text/css\">*{stroke-linecap:butt;stroke-linejoin:round;}</style>\n </defs>\n <g id=\"figure_1\">\n  <g id=\"patch_1\">\n   <path d=\"M 0 427.081075 \nL 1272.938658 427.081075 \nL 1272.938658 0 \nL 0 0 \nz\n\" style=\"fill:#ffffff;\"/>\n  </g>\n  <g id=\"axes_1\">\n   <g id=\"patch_2\">\n    <path d=\"M 68.376563 384.930137 \nL 461.380767 384.930137 \nL 461.380767 8.373805 \nL 68.376563 8.373805 \nz\n\" style=\"fill:#eaeaf2;\"/>\n   </g>\n   <g id=\"matplotlib.axis_1\">\n    <g id=\"xtick_1\">\n     <g id=\"line2d_1\">\n      <path clip-path=\"url(#p689d1934ef)\" d=\"M 86.24039 384.930137 \nL 86.24039 8.373805 \n\" style=\"fill:none;stroke:#ffffff;stroke-linecap:round;\"/>\n     </g>\n     <g id=\"text_1\">\n      <!-- Management -->\n      <g style=\"fill:#262626;\" transform=\"translate(54.140156 402.303731)scale(0.11 -0.11)\">\n       <defs>\n        <path d=\"M 475 0 \nL 475 4581 \nL 1388 4581 \nL 2472 1338 \nQ 2622 884 2691 659 \nQ 2769 909 2934 1394 \nL 4031 4581 \nL 4847 4581 \nL 4847 0 \nL 4263 0 \nL 4263 3834 \nL 2931 0 \nL 2384 0 \nL 1059 3900 \nL 1059 0 \nL 475 0 \nz\n\" id=\"ArialMT-4d\" transform=\"scale(0.015625)\"/>\n        <path d=\"M 2588 409 \nQ 2275 144 1986 34 \nQ 1697 -75 1366 -75 \nQ 819 -75 525 192 \nQ 231 459 231 875 \nQ 231 1119 342 1320 \nQ 453 1522 633 1644 \nQ 813 1766 1038 1828 \nQ 1203 1872 1538 1913 \nQ 2219 1994 2541 2106 \nQ 2544 2222 2544 2253 \nQ 2544 2597 2384 2738 \nQ 2169 2928 1744 2928 \nQ 1347 2928 1158 2789 \nQ 969 2650 878 2297 \nL 328 2372 \nQ 403 2725 575 2942 \nQ 747 3159 1072 3276 \nQ 1397 3394 1825 3394 \nQ 2250 3394 2515 3294 \nQ 2781 3194 2906 3042 \nQ 3031 2891 3081 2659 \nQ 3109 2516 3109 2141 \nL 3109 1391 \nQ 3109 606 3145 398 \nQ 3181 191 3288 0 \nL 2700 0 \nQ 2613 175 2588 409 \nz\nM 2541 1666 \nQ 2234 1541 1622 1453 \nQ 1275 1403 1131 1340 \nQ 988 1278 909 1158 \nQ 831 1038 831 891 \nQ 831 666 1001 516 \nQ 1172 366 1500 366 \nQ 1825 366 2078 508 \nQ 2331 650 2450 897 \nQ 2541 1088 2541 1459 \nL 2541 1666 \nz\n\" id=\"ArialMT-61\" transform=\"scale(0.015625)\"/>\n        <path d=\"M 422 0 \nL 422 3319 \nL 928 3319 \nL 928 2847 \nQ 1294 3394 1984 3394 \nQ 2284 3394 2536 3286 \nQ 2788 3178 2913 3003 \nQ 3038 2828 3088 2588 \nQ 3119 2431 3119 2041 \nL 3119 0 \nL 2556 0 \nL 2556 2019 \nQ 2556 2363 2490 2533 \nQ 2425 2703 2258 2804 \nQ 2091 2906 1866 2906 \nQ 1506 2906 1245 2678 \nQ 984 2450 984 1813 \nL 984 0 \nL 422 0 \nz\n\" id=\"ArialMT-6e\" transform=\"scale(0.015625)\"/>\n        <path d=\"M 319 -275 \nL 866 -356 \nQ 900 -609 1056 -725 \nQ 1266 -881 1628 -881 \nQ 2019 -881 2231 -725 \nQ 2444 -569 2519 -288 \nQ 2563 -116 2559 434 \nQ 2191 0 1641 0 \nQ 956 0 581 494 \nQ 206 988 206 1678 \nQ 206 2153 378 2554 \nQ 550 2956 876 3175 \nQ 1203 3394 1644 3394 \nQ 2231 3394 2613 2919 \nL 2613 3319 \nL 3131 3319 \nL 3131 450 \nQ 3131 -325 2973 -648 \nQ 2816 -972 2473 -1159 \nQ 2131 -1347 1631 -1347 \nQ 1038 -1347 672 -1080 \nQ 306 -813 319 -275 \nz\nM 784 1719 \nQ 784 1066 1043 766 \nQ 1303 466 1694 466 \nQ 2081 466 2343 764 \nQ 2606 1063 2606 1700 \nQ 2606 2309 2336 2618 \nQ 2066 2928 1684 2928 \nQ 1309 2928 1046 2623 \nQ 784 2319 784 1719 \nz\n\" id=\"ArialMT-67\" transform=\"scale(0.015625)\"/>\n        <path d=\"M 2694 1069 \nL 3275 997 \nQ 3138 488 2766 206 \nQ 2394 -75 1816 -75 \nQ 1088 -75 661 373 \nQ 234 822 234 1631 \nQ 234 2469 665 2931 \nQ 1097 3394 1784 3394 \nQ 2450 3394 2872 2941 \nQ 3294 2488 3294 1666 \nQ 3294 1616 3291 1516 \nL 816 1516 \nQ 847 969 1125 678 \nQ 1403 388 1819 388 \nQ 2128 388 2347 550 \nQ 2566 713 2694 1069 \nz\nM 847 1978 \nL 2700 1978 \nQ 2663 2397 2488 2606 \nQ 2219 2931 1791 2931 \nQ 1403 2931 1139 2672 \nQ 875 2413 847 1978 \nz\n\" id=\"ArialMT-65\" transform=\"scale(0.015625)\"/>\n        <path d=\"M 422 0 \nL 422 3319 \nL 925 3319 \nL 925 2853 \nQ 1081 3097 1340 3245 \nQ 1600 3394 1931 3394 \nQ 2300 3394 2536 3241 \nQ 2772 3088 2869 2813 \nQ 3263 3394 3894 3394 \nQ 4388 3394 4653 3120 \nQ 4919 2847 4919 2278 \nL 4919 0 \nL 4359 0 \nL 4359 2091 \nQ 4359 2428 4304 2576 \nQ 4250 2725 4106 2815 \nQ 3963 2906 3769 2906 \nQ 3419 2906 3187 2673 \nQ 2956 2441 2956 1928 \nL 2956 0 \nL 2394 0 \nL 2394 2156 \nQ 2394 2531 2256 2718 \nQ 2119 2906 1806 2906 \nQ 1569 2906 1367 2781 \nQ 1166 2656 1075 2415 \nQ 984 2175 984 1722 \nL 984 0 \nL 422 0 \nz\n\" id=\"ArialMT-6d\" transform=\"scale(0.015625)\"/>\n        <path d=\"M 1650 503 \nL 1731 6 \nQ 1494 -44 1306 -44 \nQ 1000 -44 831 53 \nQ 663 150 594 308 \nQ 525 466 525 972 \nL 525 2881 \nL 113 2881 \nL 113 3319 \nL 525 3319 \nL 525 4141 \nL 1084 4478 \nL 1084 3319 \nL 1650 3319 \nL 1650 2881 \nL 1084 2881 \nL 1084 941 \nQ 1084 700 1114 631 \nQ 1144 563 1211 522 \nQ 1278 481 1403 481 \nQ 1497 481 1650 503 \nz\n\" id=\"ArialMT-74\" transform=\"scale(0.015625)\"/>\n       </defs>\n       <use xlink:href=\"#ArialMT-4d\"/>\n       <use x=\"83.300781\" xlink:href=\"#ArialMT-61\"/>\n       <use x=\"138.916016\" xlink:href=\"#ArialMT-6e\"/>\n       <use x=\"194.53125\" xlink:href=\"#ArialMT-61\"/>\n       <use x=\"250.146484\" xlink:href=\"#ArialMT-67\"/>\n       <use x=\"305.761719\" xlink:href=\"#ArialMT-65\"/>\n       <use x=\"361.376953\" xlink:href=\"#ArialMT-6d\"/>\n       <use x=\"444.677734\" xlink:href=\"#ArialMT-65\"/>\n       <use x=\"500.292969\" xlink:href=\"#ArialMT-6e\"/>\n       <use x=\"555.908203\" xlink:href=\"#ArialMT-74\"/>\n      </g>\n     </g>\n    </g>\n    <g id=\"xtick_2\">\n     <g id=\"line2d_2\">\n      <path clip-path=\"url(#p689d1934ef)\" d=\"M 264.878665 384.930137 \nL 264.878665 8.373805 \n\" style=\"fill:none;stroke:#ffffff;stroke-linecap:round;\"/>\n     </g>\n     <g id=\"text_2\">\n      <!-- Administration -->\n      <g style=\"fill:#262626;\" transform=\"translate(230.032727 402.303731)scale(0.11 -0.11)\">\n       <defs>\n        <path d=\"M -9 0 \nL 1750 4581 \nL 2403 4581 \nL 4278 0 \nL 3588 0 \nL 3053 1388 \nL 1138 1388 \nL 634 0 \nL -9 0 \nz\nM 1313 1881 \nL 2866 1881 \nL 2388 3150 \nQ 2169 3728 2063 4100 \nQ 1975 3659 1816 3225 \nL 1313 1881 \nz\n\" id=\"ArialMT-41\" transform=\"scale(0.015625)\"/>\n        <path d=\"M 2575 0 \nL 2575 419 \nQ 2259 -75 1647 -75 \nQ 1250 -75 917 144 \nQ 584 363 401 755 \nQ 219 1147 219 1656 \nQ 219 2153 384 2558 \nQ 550 2963 881 3178 \nQ 1213 3394 1622 3394 \nQ 1922 3394 2156 3267 \nQ 2391 3141 2538 2938 \nL 2538 4581 \nL 3097 4581 \nL 3097 0 \nL 2575 0 \nz\nM 797 1656 \nQ 797 1019 1065 703 \nQ 1334 388 1700 388 \nQ 2069 388 2326 689 \nQ 2584 991 2584 1609 \nQ 2584 2291 2321 2609 \nQ 2059 2928 1675 2928 \nQ 1300 2928 1048 2622 \nQ 797 2316 797 1656 \nz\n\" id=\"ArialMT-64\" transform=\"scale(0.015625)\"/>\n        <path d=\"M 425 3934 \nL 425 4581 \nL 988 4581 \nL 988 3934 \nL 425 3934 \nz\nM 425 0 \nL 425 3319 \nL 988 3319 \nL 988 0 \nL 425 0 \nz\n\" id=\"ArialMT-69\" transform=\"scale(0.015625)\"/>\n        <path d=\"M 197 991 \nL 753 1078 \nQ 800 744 1014 566 \nQ 1228 388 1613 388 \nQ 2000 388 2187 545 \nQ 2375 703 2375 916 \nQ 2375 1106 2209 1216 \nQ 2094 1291 1634 1406 \nQ 1016 1563 777 1677 \nQ 538 1791 414 1992 \nQ 291 2194 291 2438 \nQ 291 2659 392 2848 \nQ 494 3038 669 3163 \nQ 800 3259 1026 3326 \nQ 1253 3394 1513 3394 \nQ 1903 3394 2198 3281 \nQ 2494 3169 2634 2976 \nQ 2775 2784 2828 2463 \nL 2278 2388 \nQ 2241 2644 2061 2787 \nQ 1881 2931 1553 2931 \nQ 1166 2931 1000 2803 \nQ 834 2675 834 2503 \nQ 834 2394 903 2306 \nQ 972 2216 1119 2156 \nQ 1203 2125 1616 2013 \nQ 2213 1853 2448 1751 \nQ 2684 1650 2818 1456 \nQ 2953 1263 2953 975 \nQ 2953 694 2789 445 \nQ 2625 197 2315 61 \nQ 2006 -75 1616 -75 \nQ 969 -75 630 194 \nQ 291 463 197 991 \nz\n\" id=\"ArialMT-73\" transform=\"scale(0.015625)\"/>\n        <path d=\"M 416 0 \nL 416 3319 \nL 922 3319 \nL 922 2816 \nQ 1116 3169 1280 3281 \nQ 1444 3394 1641 3394 \nQ 1925 3394 2219 3213 \nL 2025 2691 \nQ 1819 2813 1613 2813 \nQ 1428 2813 1281 2702 \nQ 1134 2591 1072 2394 \nQ 978 2094 978 1738 \nL 978 0 \nL 416 0 \nz\n\" id=\"ArialMT-72\" transform=\"scale(0.015625)\"/>\n        <path d=\"M 213 1659 \nQ 213 2581 725 3025 \nQ 1153 3394 1769 3394 \nQ 2453 3394 2887 2945 \nQ 3322 2497 3322 1706 \nQ 3322 1066 3130 698 \nQ 2938 331 2570 128 \nQ 2203 -75 1769 -75 \nQ 1072 -75 642 372 \nQ 213 819 213 1659 \nz\nM 791 1659 \nQ 791 1022 1069 705 \nQ 1347 388 1769 388 \nQ 2188 388 2466 706 \nQ 2744 1025 2744 1678 \nQ 2744 2294 2464 2611 \nQ 2184 2928 1769 2928 \nQ 1347 2928 1069 2612 \nQ 791 2297 791 1659 \nz\n\" id=\"ArialMT-6f\" transform=\"scale(0.015625)\"/>\n       </defs>\n       <use xlink:href=\"#ArialMT-41\"/>\n       <use x=\"66.699219\" xlink:href=\"#ArialMT-64\"/>\n       <use x=\"122.314453\" xlink:href=\"#ArialMT-6d\"/>\n       <use x=\"205.615234\" xlink:href=\"#ArialMT-69\"/>\n       <use x=\"227.832031\" xlink:href=\"#ArialMT-6e\"/>\n       <use x=\"283.447266\" xlink:href=\"#ArialMT-69\"/>\n       <use x=\"305.664062\" xlink:href=\"#ArialMT-73\"/>\n       <use x=\"355.664062\" xlink:href=\"#ArialMT-74\"/>\n       <use x=\"383.447266\" xlink:href=\"#ArialMT-72\"/>\n       <use x=\"416.748047\" xlink:href=\"#ArialMT-61\"/>\n       <use x=\"472.363281\" xlink:href=\"#ArialMT-74\"/>\n       <use x=\"500.146484\" xlink:href=\"#ArialMT-69\"/>\n       <use x=\"522.363281\" xlink:href=\"#ArialMT-6f\"/>\n       <use x=\"577.978516\" xlink:href=\"#ArialMT-6e\"/>\n      </g>\n     </g>\n    </g>\n    <g id=\"xtick_3\">\n     <g id=\"line2d_3\">\n      <path clip-path=\"url(#p689d1934ef)\" d=\"M 443.51694 384.930137 \nL 443.51694 8.373805 \n\" style=\"fill:none;stroke:#ffffff;stroke-linecap:round;\"/>\n     </g>\n     <g id=\"text_3\">\n      <!-- Custody -->\n      <g style=\"fill:#262626;\" transform=\"translate(423.341393 402.437794)scale(0.11 -0.11)\">\n       <defs>\n        <path d=\"M 3763 1606 \nL 4369 1453 \nQ 4178 706 3683 314 \nQ 3188 -78 2472 -78 \nQ 1731 -78 1267 223 \nQ 803 525 561 1097 \nQ 319 1669 319 2325 \nQ 319 3041 592 3573 \nQ 866 4106 1370 4382 \nQ 1875 4659 2481 4659 \nQ 3169 4659 3637 4309 \nQ 4106 3959 4291 3325 \nL 3694 3184 \nQ 3534 3684 3231 3912 \nQ 2928 4141 2469 4141 \nQ 1941 4141 1586 3887 \nQ 1231 3634 1087 3207 \nQ 944 2781 944 2328 \nQ 944 1744 1114 1308 \nQ 1284 872 1643 656 \nQ 2003 441 2422 441 \nQ 2931 441 3284 734 \nQ 3638 1028 3763 1606 \nz\n\" id=\"ArialMT-43\" transform=\"scale(0.015625)\"/>\n        <path d=\"M 2597 0 \nL 2597 488 \nQ 2209 -75 1544 -75 \nQ 1250 -75 995 37 \nQ 741 150 617 320 \nQ 494 491 444 738 \nQ 409 903 409 1263 \nL 409 3319 \nL 972 3319 \nL 972 1478 \nQ 972 1038 1006 884 \nQ 1059 663 1231 536 \nQ 1403 409 1656 409 \nQ 1909 409 2131 539 \nQ 2353 669 2445 892 \nQ 2538 1116 2538 1541 \nL 2538 3319 \nL 3100 3319 \nL 3100 0 \nL 2597 0 \nz\n\" id=\"ArialMT-75\" transform=\"scale(0.015625)\"/>\n        <path d=\"M 397 -1278 \nL 334 -750 \nQ 519 -800 656 -800 \nQ 844 -800 956 -737 \nQ 1069 -675 1141 -563 \nQ 1194 -478 1313 -144 \nQ 1328 -97 1363 -6 \nL 103 3319 \nL 709 3319 \nL 1400 1397 \nQ 1534 1031 1641 628 \nQ 1738 1016 1872 1384 \nL 2581 3319 \nL 3144 3319 \nL 1881 -56 \nQ 1678 -603 1566 -809 \nQ 1416 -1088 1222 -1217 \nQ 1028 -1347 759 -1347 \nQ 597 -1347 397 -1278 \nz\n\" id=\"ArialMT-79\" transform=\"scale(0.015625)\"/>\n       </defs>\n       <use xlink:href=\"#ArialMT-43\"/>\n       <use x=\"72.216797\" xlink:href=\"#ArialMT-75\"/>\n       <use x=\"127.832031\" xlink:href=\"#ArialMT-73\"/>\n       <use x=\"177.832031\" xlink:href=\"#ArialMT-74\"/>\n       <use x=\"205.615234\" xlink:href=\"#ArialMT-6f\"/>\n       <use x=\"261.230469\" xlink:href=\"#ArialMT-64\"/>\n       <use x=\"316.845703\" xlink:href=\"#ArialMT-79\"/>\n      </g>\n     </g>\n    </g>\n    <g id=\"text_4\">\n     <!-- JOBCAT_DENOTING -->\n     <g style=\"fill:#262626;\" transform=\"translate(206.648665 417.496075)scale(0.12 -0.12)\">\n      <defs>\n       <path d=\"M 184 1300 \nL 731 1375 \nQ 753 850 928 656 \nQ 1103 463 1413 463 \nQ 1641 463 1806 567 \nQ 1972 672 2034 851 \nQ 2097 1031 2097 1425 \nL 2097 4581 \nL 2703 4581 \nL 2703 1459 \nQ 2703 884 2564 568 \nQ 2425 253 2123 87 \nQ 1822 -78 1416 -78 \nQ 813 -78 492 269 \nQ 172 616 184 1300 \nz\n\" id=\"ArialMT-4a\" transform=\"scale(0.015625)\"/>\n       <path d=\"M 309 2231 \nQ 309 3372 921 4017 \nQ 1534 4663 2503 4663 \nQ 3138 4663 3647 4359 \nQ 4156 4056 4423 3514 \nQ 4691 2972 4691 2284 \nQ 4691 1588 4409 1038 \nQ 4128 488 3612 205 \nQ 3097 -78 2500 -78 \nQ 1853 -78 1343 234 \nQ 834 547 571 1087 \nQ 309 1628 309 2231 \nz\nM 934 2222 \nQ 934 1394 1379 917 \nQ 1825 441 2497 441 \nQ 3181 441 3623 922 \nQ 4066 1403 4066 2288 \nQ 4066 2847 3877 3264 \nQ 3688 3681 3323 3911 \nQ 2959 4141 2506 4141 \nQ 1863 4141 1398 3698 \nQ 934 3256 934 2222 \nz\n\" id=\"ArialMT-4f\" transform=\"scale(0.015625)\"/>\n       <path d=\"M 469 0 \nL 469 4581 \nL 2188 4581 \nQ 2713 4581 3030 4442 \nQ 3347 4303 3526 4014 \nQ 3706 3725 3706 3409 \nQ 3706 3116 3547 2856 \nQ 3388 2597 3066 2438 \nQ 3481 2316 3704 2022 \nQ 3928 1728 3928 1328 \nQ 3928 1006 3792 729 \nQ 3656 453 3456 303 \nQ 3256 153 2954 76 \nQ 2653 0 2216 0 \nL 469 0 \nz\nM 1075 2656 \nL 2066 2656 \nQ 2469 2656 2644 2709 \nQ 2875 2778 2992 2937 \nQ 3109 3097 3109 3338 \nQ 3109 3566 3000 3739 \nQ 2891 3913 2687 3977 \nQ 2484 4041 1991 4041 \nL 1075 4041 \nL 1075 2656 \nz\nM 1075 541 \nL 2216 541 \nQ 2509 541 2628 563 \nQ 2838 600 2978 687 \nQ 3119 775 3209 942 \nQ 3300 1109 3300 1328 \nQ 3300 1584 3169 1773 \nQ 3038 1963 2805 2039 \nQ 2572 2116 2134 2116 \nL 1075 2116 \nL 1075 541 \nz\n\" id=\"ArialMT-42\" transform=\"scale(0.015625)\"/>\n       <path d=\"M 1659 0 \nL 1659 4041 \nL 150 4041 \nL 150 4581 \nL 3781 4581 \nL 3781 4041 \nL 2266 4041 \nL 2266 0 \nL 1659 0 \nz\n\" id=\"ArialMT-54\" transform=\"scale(0.015625)\"/>\n       <path d=\"M -97 -1272 \nL -97 -866 \nL 3631 -866 \nL 3631 -1272 \nL -97 -1272 \nz\n\" id=\"ArialMT-5f\" transform=\"scale(0.015625)\"/>\n       <path d=\"M 494 0 \nL 494 4581 \nL 2072 4581 \nQ 2606 4581 2888 4516 \nQ 3281 4425 3559 4188 \nQ 3922 3881 4101 3404 \nQ 4281 2928 4281 2316 \nQ 4281 1794 4159 1391 \nQ 4038 988 3847 723 \nQ 3656 459 3429 307 \nQ 3203 156 2883 78 \nQ 2563 0 2147 0 \nL 494 0 \nz\nM 1100 541 \nL 2078 541 \nQ 2531 541 2789 625 \nQ 3047 709 3200 863 \nQ 3416 1078 3536 1442 \nQ 3656 1806 3656 2325 \nQ 3656 3044 3420 3430 \nQ 3184 3816 2847 3947 \nQ 2603 4041 2063 4041 \nL 1100 4041 \nL 1100 541 \nz\n\" id=\"ArialMT-44\" transform=\"scale(0.015625)\"/>\n       <path d=\"M 506 0 \nL 506 4581 \nL 3819 4581 \nL 3819 4041 \nL 1113 4041 \nL 1113 2638 \nL 3647 2638 \nL 3647 2100 \nL 1113 2100 \nL 1113 541 \nL 3925 541 \nL 3925 0 \nL 506 0 \nz\n\" id=\"ArialMT-45\" transform=\"scale(0.015625)\"/>\n       <path d=\"M 488 0 \nL 488 4581 \nL 1109 4581 \nL 3516 984 \nL 3516 4581 \nL 4097 4581 \nL 4097 0 \nL 3475 0 \nL 1069 3600 \nL 1069 0 \nL 488 0 \nz\n\" id=\"ArialMT-4e\" transform=\"scale(0.015625)\"/>\n       <path d=\"M 597 0 \nL 597 4581 \nL 1203 4581 \nL 1203 0 \nL 597 0 \nz\n\" id=\"ArialMT-49\" transform=\"scale(0.015625)\"/>\n       <path d=\"M 2638 1797 \nL 2638 2334 \nL 4578 2338 \nL 4578 638 \nQ 4131 281 3656 101 \nQ 3181 -78 2681 -78 \nQ 2006 -78 1454 211 \nQ 903 500 622 1047 \nQ 341 1594 341 2269 \nQ 341 2938 620 3517 \nQ 900 4097 1425 4378 \nQ 1950 4659 2634 4659 \nQ 3131 4659 3532 4498 \nQ 3934 4338 4162 4050 \nQ 4391 3763 4509 3300 \nL 3963 3150 \nQ 3859 3500 3706 3700 \nQ 3553 3900 3268 4020 \nQ 2984 4141 2638 4141 \nQ 2222 4141 1919 4014 \nQ 1616 3888 1430 3681 \nQ 1244 3475 1141 3228 \nQ 966 2803 966 2306 \nQ 966 1694 1177 1281 \nQ 1388 869 1791 669 \nQ 2194 469 2647 469 \nQ 3041 469 3416 620 \nQ 3791 772 3984 944 \nL 3984 1797 \nL 2638 1797 \nz\n\" id=\"ArialMT-47\" transform=\"scale(0.015625)\"/>\n      </defs>\n      <use xlink:href=\"#ArialMT-4a\"/>\n      <use x=\"50\" xlink:href=\"#ArialMT-4f\"/>\n      <use x=\"127.783203\" xlink:href=\"#ArialMT-42\"/>\n      <use x=\"194.482422\" xlink:href=\"#ArialMT-43\"/>\n      <use x=\"266.699219\" xlink:href=\"#ArialMT-41\"/>\n      <use x=\"326.023438\" xlink:href=\"#ArialMT-54\"/>\n      <use x=\"387.107422\" xlink:href=\"#ArialMT-5f\"/>\n      <use x=\"442.722656\" xlink:href=\"#ArialMT-44\"/>\n      <use x=\"514.939453\" xlink:href=\"#ArialMT-45\"/>\n      <use x=\"581.638672\" xlink:href=\"#ArialMT-4e\"/>\n      <use x=\"653.855469\" xlink:href=\"#ArialMT-4f\"/>\n      <use x=\"731.638672\" xlink:href=\"#ArialMT-54\"/>\n      <use x=\"792.722656\" xlink:href=\"#ArialMT-49\"/>\n      <use x=\"820.505859\" xlink:href=\"#ArialMT-4e\"/>\n      <use x=\"892.722656\" xlink:href=\"#ArialMT-47\"/>\n     </g>\n    </g>\n   </g>\n   <g id=\"matplotlib.axis_2\">\n    <g id=\"ytick_1\">\n     <g id=\"line2d_4\">\n      <path clip-path=\"url(#p689d1934ef)\" d=\"M 68.376563 355.613716 \nL 461.380767 355.613716 \n\" style=\"fill:none;stroke:#ffffff;stroke-linecap:round;\"/>\n     </g>\n     <g id=\"text_5\">\n      <!-- 20000 -->\n      <g style=\"fill:#262626;\" transform=\"translate(28.291406 359.550513)scale(0.11 -0.11)\">\n       <defs>\n        <path d=\"M 3222 541 \nL 3222 0 \nL 194 0 \nQ 188 203 259 391 \nQ 375 700 629 1000 \nQ 884 1300 1366 1694 \nQ 2113 2306 2375 2664 \nQ 2638 3022 2638 3341 \nQ 2638 3675 2398 3904 \nQ 2159 4134 1775 4134 \nQ 1369 4134 1125 3890 \nQ 881 3647 878 3216 \nL 300 3275 \nQ 359 3922 746 4261 \nQ 1134 4600 1788 4600 \nQ 2447 4600 2831 4234 \nQ 3216 3869 3216 3328 \nQ 3216 3053 3103 2787 \nQ 2991 2522 2730 2228 \nQ 2469 1934 1863 1422 \nQ 1356 997 1212 845 \nQ 1069 694 975 541 \nL 3222 541 \nz\n\" id=\"ArialMT-32\" transform=\"scale(0.015625)\"/>\n        <path d=\"M 266 2259 \nQ 266 3072 433 3567 \nQ 600 4063 929 4331 \nQ 1259 4600 1759 4600 \nQ 2128 4600 2406 4451 \nQ 2684 4303 2865 4023 \nQ 3047 3744 3150 3342 \nQ 3253 2941 3253 2259 \nQ 3253 1453 3087 958 \nQ 2922 463 2592 192 \nQ 2263 -78 1759 -78 \nQ 1097 -78 719 397 \nQ 266 969 266 2259 \nz\nM 844 2259 \nQ 844 1131 1108 757 \nQ 1372 384 1759 384 \nQ 2147 384 2411 759 \nQ 2675 1134 2675 2259 \nQ 2675 3391 2411 3762 \nQ 2147 4134 1753 4134 \nQ 1366 4134 1134 3806 \nQ 844 3388 844 2259 \nz\n\" id=\"ArialMT-30\" transform=\"scale(0.015625)\"/>\n       </defs>\n       <use xlink:href=\"#ArialMT-32\"/>\n       <use x=\"55.615234\" xlink:href=\"#ArialMT-30\"/>\n       <use x=\"111.230469\" xlink:href=\"#ArialMT-30\"/>\n       <use x=\"166.845703\" xlink:href=\"#ArialMT-30\"/>\n       <use x=\"222.460938\" xlink:href=\"#ArialMT-30\"/>\n      </g>\n     </g>\n    </g>\n    <g id=\"ytick_2\">\n     <g id=\"line2d_5\">\n      <path clip-path=\"url(#p689d1934ef)\" d=\"M 68.376563 298.200896 \nL 461.380767 298.200896 \n\" style=\"fill:none;stroke:#ffffff;stroke-linecap:round;\"/>\n     </g>\n     <g id=\"text_6\">\n      <!-- 40000 -->\n      <g style=\"fill:#262626;\" transform=\"translate(28.291406 302.137693)scale(0.11 -0.11)\">\n       <defs>\n        <path d=\"M 2069 0 \nL 2069 1097 \nL 81 1097 \nL 81 1613 \nL 2172 4581 \nL 2631 4581 \nL 2631 1613 \nL 3250 1613 \nL 3250 1097 \nL 2631 1097 \nL 2631 0 \nL 2069 0 \nz\nM 2069 1613 \nL 2069 3678 \nL 634 1613 \nL 2069 1613 \nz\n\" id=\"ArialMT-34\" transform=\"scale(0.015625)\"/>\n       </defs>\n       <use xlink:href=\"#ArialMT-34\"/>\n       <use x=\"55.615234\" xlink:href=\"#ArialMT-30\"/>\n       <use x=\"111.230469\" xlink:href=\"#ArialMT-30\"/>\n       <use x=\"166.845703\" xlink:href=\"#ArialMT-30\"/>\n       <use x=\"222.460938\" xlink:href=\"#ArialMT-30\"/>\n      </g>\n     </g>\n    </g>\n    <g id=\"ytick_3\">\n     <g id=\"line2d_6\">\n      <path clip-path=\"url(#p689d1934ef)\" d=\"M 68.376563 240.788076 \nL 461.380767 240.788076 \n\" style=\"fill:none;stroke:#ffffff;stroke-linecap:round;\"/>\n     </g>\n     <g id=\"text_7\">\n      <!-- 60000 -->\n      <g style=\"fill:#262626;\" transform=\"translate(28.291406 244.724873)scale(0.11 -0.11)\">\n       <defs>\n        <path d=\"M 3184 3459 \nL 2625 3416 \nQ 2550 3747 2413 3897 \nQ 2184 4138 1850 4138 \nQ 1581 4138 1378 3988 \nQ 1113 3794 959 3422 \nQ 806 3050 800 2363 \nQ 1003 2672 1297 2822 \nQ 1591 2972 1913 2972 \nQ 2475 2972 2870 2558 \nQ 3266 2144 3266 1488 \nQ 3266 1056 3080 686 \nQ 2894 316 2569 119 \nQ 2244 -78 1831 -78 \nQ 1128 -78 684 439 \nQ 241 956 241 2144 \nQ 241 3472 731 4075 \nQ 1159 4600 1884 4600 \nQ 2425 4600 2770 4297 \nQ 3116 3994 3184 3459 \nz\nM 888 1484 \nQ 888 1194 1011 928 \nQ 1134 663 1356 523 \nQ 1578 384 1822 384 \nQ 2178 384 2434 671 \nQ 2691 959 2691 1453 \nQ 2691 1928 2437 2201 \nQ 2184 2475 1800 2475 \nQ 1419 2475 1153 2201 \nQ 888 1928 888 1484 \nz\n\" id=\"ArialMT-36\" transform=\"scale(0.015625)\"/>\n       </defs>\n       <use xlink:href=\"#ArialMT-36\"/>\n       <use x=\"55.615234\" xlink:href=\"#ArialMT-30\"/>\n       <use x=\"111.230469\" xlink:href=\"#ArialMT-30\"/>\n       <use x=\"166.845703\" xlink:href=\"#ArialMT-30\"/>\n       <use x=\"222.460938\" xlink:href=\"#ArialMT-30\"/>\n      </g>\n     </g>\n    </g>\n    <g id=\"ytick_4\">\n     <g id=\"line2d_7\">\n      <path clip-path=\"url(#p689d1934ef)\" d=\"M 68.376563 183.375257 \nL 461.380767 183.375257 \n\" style=\"fill:none;stroke:#ffffff;stroke-linecap:round;\"/>\n     </g>\n     <g id=\"text_8\">\n      <!-- 80000 -->\n      <g style=\"fill:#262626;\" transform=\"translate(28.291406 187.312053)scale(0.11 -0.11)\">\n       <defs>\n        <path d=\"M 1131 2484 \nQ 781 2613 612 2850 \nQ 444 3088 444 3419 \nQ 444 3919 803 4259 \nQ 1163 4600 1759 4600 \nQ 2359 4600 2725 4251 \nQ 3091 3903 3091 3403 \nQ 3091 3084 2923 2848 \nQ 2756 2613 2416 2484 \nQ 2838 2347 3058 2040 \nQ 3278 1734 3278 1309 \nQ 3278 722 2862 322 \nQ 2447 -78 1769 -78 \nQ 1091 -78 675 323 \nQ 259 725 259 1325 \nQ 259 1772 486 2073 \nQ 713 2375 1131 2484 \nz\nM 1019 3438 \nQ 1019 3113 1228 2906 \nQ 1438 2700 1772 2700 \nQ 2097 2700 2305 2904 \nQ 2513 3109 2513 3406 \nQ 2513 3716 2298 3927 \nQ 2084 4138 1766 4138 \nQ 1444 4138 1231 3931 \nQ 1019 3725 1019 3438 \nz\nM 838 1322 \nQ 838 1081 952 856 \nQ 1066 631 1291 507 \nQ 1516 384 1775 384 \nQ 2178 384 2440 643 \nQ 2703 903 2703 1303 \nQ 2703 1709 2433 1975 \nQ 2163 2241 1756 2241 \nQ 1359 2241 1098 1978 \nQ 838 1716 838 1322 \nz\n\" id=\"ArialMT-38\" transform=\"scale(0.015625)\"/>\n       </defs>\n       <use xlink:href=\"#ArialMT-38\"/>\n       <use x=\"55.615234\" xlink:href=\"#ArialMT-30\"/>\n       <use x=\"111.230469\" xlink:href=\"#ArialMT-30\"/>\n       <use x=\"166.845703\" xlink:href=\"#ArialMT-30\"/>\n       <use x=\"222.460938\" xlink:href=\"#ArialMT-30\"/>\n      </g>\n     </g>\n    </g>\n    <g id=\"ytick_5\">\n     <g id=\"line2d_8\">\n      <path clip-path=\"url(#p689d1934ef)\" d=\"M 68.376563 125.962437 \nL 461.380767 125.962437 \n\" style=\"fill:none;stroke:#ffffff;stroke-linecap:round;\"/>\n     </g>\n     <g id=\"text_9\">\n      <!-- 100000 -->\n      <g style=\"fill:#262626;\" transform=\"translate(22.174375 129.899234)scale(0.11 -0.11)\">\n       <defs>\n        <path d=\"M 2384 0 \nL 1822 0 \nL 1822 3584 \nQ 1619 3391 1289 3197 \nQ 959 3003 697 2906 \nL 697 3450 \nQ 1169 3672 1522 3987 \nQ 1875 4303 2022 4600 \nL 2384 4600 \nL 2384 0 \nz\n\" id=\"ArialMT-31\" transform=\"scale(0.015625)\"/>\n       </defs>\n       <use xlink:href=\"#ArialMT-31\"/>\n       <use x=\"55.615234\" xlink:href=\"#ArialMT-30\"/>\n       <use x=\"111.230469\" xlink:href=\"#ArialMT-30\"/>\n       <use x=\"166.845703\" xlink:href=\"#ArialMT-30\"/>\n       <use x=\"222.460938\" xlink:href=\"#ArialMT-30\"/>\n       <use x=\"278.076172\" xlink:href=\"#ArialMT-30\"/>\n      </g>\n     </g>\n    </g>\n    <g id=\"ytick_6\">\n     <g id=\"line2d_9\">\n      <path clip-path=\"url(#p689d1934ef)\" d=\"M 68.376563 68.549617 \nL 461.380767 68.549617 \n\" style=\"fill:none;stroke:#ffffff;stroke-linecap:round;\"/>\n     </g>\n     <g id=\"text_10\">\n      <!-- 120000 -->\n      <g style=\"fill:#262626;\" transform=\"translate(22.174375 72.486414)scale(0.11 -0.11)\">\n       <use xlink:href=\"#ArialMT-31\"/>\n       <use x=\"55.615234\" xlink:href=\"#ArialMT-32\"/>\n       <use x=\"111.230469\" xlink:href=\"#ArialMT-30\"/>\n       <use x=\"166.845703\" xlink:href=\"#ArialMT-30\"/>\n       <use x=\"222.460938\" xlink:href=\"#ArialMT-30\"/>\n       <use x=\"278.076172\" xlink:href=\"#ArialMT-30\"/>\n      </g>\n     </g>\n    </g>\n    <g id=\"ytick_7\">\n     <g id=\"line2d_10\">\n      <path clip-path=\"url(#p689d1934ef)\" d=\"M 68.376563 11.136797 \nL 461.380767 11.136797 \n\" style=\"fill:none;stroke:#ffffff;stroke-linecap:round;\"/>\n     </g>\n     <g id=\"text_11\">\n      <!-- 140000 -->\n      <g style=\"fill:#262626;\" transform=\"translate(22.174375 15.073594)scale(0.11 -0.11)\">\n       <use xlink:href=\"#ArialMT-31\"/>\n       <use x=\"55.615234\" xlink:href=\"#ArialMT-34\"/>\n       <use x=\"111.230469\" xlink:href=\"#ArialMT-30\"/>\n       <use x=\"166.845703\" xlink:href=\"#ArialMT-30\"/>\n       <use x=\"222.460938\" xlink:href=\"#ArialMT-30\"/>\n       <use x=\"278.076172\" xlink:href=\"#ArialMT-30\"/>\n      </g>\n     </g>\n    </g>\n    <g id=\"text_12\">\n     <!-- SALARY -->\n     <g style=\"fill:#262626;\" transform=\"translate(15.789375 220.225409)rotate(-90)scale(0.12 -0.12)\">\n      <defs>\n       <path d=\"M 288 1472 \nL 859 1522 \nQ 900 1178 1048 958 \nQ 1197 738 1509 602 \nQ 1822 466 2213 466 \nQ 2559 466 2825 569 \nQ 3091 672 3220 851 \nQ 3350 1031 3350 1244 \nQ 3350 1459 3225 1620 \nQ 3100 1781 2813 1891 \nQ 2628 1963 1997 2114 \nQ 1366 2266 1113 2400 \nQ 784 2572 623 2826 \nQ 463 3081 463 3397 \nQ 463 3744 659 4045 \nQ 856 4347 1234 4503 \nQ 1613 4659 2075 4659 \nQ 2584 4659 2973 4495 \nQ 3363 4331 3572 4012 \nQ 3781 3694 3797 3291 \nL 3216 3247 \nQ 3169 3681 2898 3903 \nQ 2628 4125 2100 4125 \nQ 1550 4125 1298 3923 \nQ 1047 3722 1047 3438 \nQ 1047 3191 1225 3031 \nQ 1400 2872 2139 2705 \nQ 2878 2538 3153 2413 \nQ 3553 2228 3743 1945 \nQ 3934 1663 3934 1294 \nQ 3934 928 3725 604 \nQ 3516 281 3123 101 \nQ 2731 -78 2241 -78 \nQ 1619 -78 1198 103 \nQ 778 284 539 648 \nQ 300 1013 288 1472 \nz\n\" id=\"ArialMT-53\" transform=\"scale(0.015625)\"/>\n       <path d=\"M 469 0 \nL 469 4581 \nL 1075 4581 \nL 1075 541 \nL 3331 541 \nL 3331 0 \nL 469 0 \nz\n\" id=\"ArialMT-4c\" transform=\"scale(0.015625)\"/>\n       <path d=\"M 503 0 \nL 503 4581 \nL 2534 4581 \nQ 3147 4581 3465 4457 \nQ 3784 4334 3975 4021 \nQ 4166 3709 4166 3331 \nQ 4166 2844 3850 2509 \nQ 3534 2175 2875 2084 \nQ 3116 1969 3241 1856 \nQ 3506 1613 3744 1247 \nL 4541 0 \nL 3778 0 \nL 3172 953 \nQ 2906 1366 2734 1584 \nQ 2563 1803 2427 1890 \nQ 2291 1978 2150 2013 \nQ 2047 2034 1813 2034 \nL 1109 2034 \nL 1109 0 \nL 503 0 \nz\nM 1109 2559 \nL 2413 2559 \nQ 2828 2559 3062 2645 \nQ 3297 2731 3419 2920 \nQ 3541 3109 3541 3331 \nQ 3541 3656 3305 3865 \nQ 3069 4075 2559 4075 \nL 1109 4075 \nL 1109 2559 \nz\n\" id=\"ArialMT-52\" transform=\"scale(0.015625)\"/>\n       <path d=\"M 1784 0 \nL 1784 1941 \nL 19 4581 \nL 756 4581 \nL 1659 3200 \nQ 1909 2813 2125 2425 \nQ 2331 2784 2625 3234 \nL 3513 4581 \nL 4219 4581 \nL 2391 1941 \nL 2391 0 \nL 1784 0 \nz\n\" id=\"ArialMT-59\" transform=\"scale(0.015625)\"/>\n      </defs>\n      <use xlink:href=\"#ArialMT-53\"/>\n      <use x=\"66.699219\" xlink:href=\"#ArialMT-41\"/>\n      <use x=\"133.398438\" xlink:href=\"#ArialMT-4c\"/>\n      <use x=\"189.013672\" xlink:href=\"#ArialMT-41\"/>\n      <use x=\"255.712891\" xlink:href=\"#ArialMT-52\"/>\n      <use x=\"326.179688\" xlink:href=\"#ArialMT-59\"/>\n     </g>\n    </g>\n   </g>\n   <g id=\"PathCollection_1\">\n    <defs>\n     <path d=\"M 0 3 \nC 0.795609 3 1.55874 2.683901 2.12132 2.12132 \nC 2.683901 1.55874 3 0.795609 3 0 \nC 3 -0.795609 2.683901 -1.55874 2.12132 -2.12132 \nC 1.55874 -2.683901 0.795609 -3 0 -3 \nC -0.795609 -3 -1.55874 -2.683901 -2.12132 -2.12132 \nC -2.683901 -1.55874 -3 -0.795609 -3 0 \nC -3 0.795609 -2.683901 1.55874 -2.12132 2.12132 \nC -1.55874 2.683901 -0.795609 3 0 3 \nz\n\" id=\"m6b11374e2d\" style=\"stroke:#ffffff;stroke-width:0.48;\"/>\n    </defs>\n    <g clip-path=\"url(#p689d1934ef)\">\n     <use style=\"fill:#4c72b0;stroke:#ffffff;stroke-width:0.48;\" x=\"86.24039\" xlink:href=\"#m6b11374e2d\" y=\"249.399999\"/>\n     <use style=\"fill:#4c72b0;stroke:#ffffff;stroke-width:0.48;\" x=\"264.878665\" xlink:href=\"#m6b11374e2d\" y=\"297.626768\"/>\n     <use style=\"fill:#4c72b0;stroke:#ffffff;stroke-width:0.48;\" x=\"264.878665\" xlink:href=\"#m6b11374e2d\" y=\"351.451287\"/>\n     <use style=\"fill:#4c72b0;stroke:#ffffff;stroke-width:0.48;\" x=\"264.878665\" xlink:href=\"#m6b11374e2d\" y=\"350.159498\"/>\n     <use style=\"fill:#4c72b0;stroke:#ffffff;stroke-width:0.48;\" x=\"264.878665\" xlink:href=\"#m6b11374e2d\" y=\"283.847691\"/>\n     <use style=\"fill:#4c72b0;stroke:#ffffff;stroke-width:0.48;\" x=\"264.878665\" xlink:href=\"#m6b11374e2d\" y=\"320.87896\"/>\n     <use style=\"fill:#4c72b0;stroke:#ffffff;stroke-width:0.48;\" x=\"264.878665\" xlink:href=\"#m6b11374e2d\" y=\"309.68346\"/>\n     <use style=\"fill:#4c72b0;stroke:#ffffff;stroke-width:0.48;\" x=\"264.878665\" xlink:href=\"#m6b11374e2d\" y=\"350.159498\"/>\n     <use style=\"fill:#4c72b0;stroke:#ffffff;stroke-width:0.48;\" x=\"264.878665\" xlink:href=\"#m6b11374e2d\" y=\"332.935652\"/>\n     <use style=\"fill:#4c72b0;stroke:#ffffff;stroke-width:0.48;\" x=\"264.878665\" xlink:href=\"#m6b11374e2d\" y=\"344.131152\"/>\n     <use style=\"fill:#4c72b0;stroke:#ffffff;stroke-width:0.48;\" x=\"264.878665\" xlink:href=\"#m6b11374e2d\" y=\"326.046114\"/>\n     <use style=\"fill:#4c72b0;stroke:#ffffff;stroke-width:0.48;\" x=\"264.878665\" xlink:href=\"#m6b11374e2d\" y=\"331.643864\"/>\n     <use style=\"fill:#4c72b0;stroke:#ffffff;stroke-width:0.48;\" x=\"264.878665\" xlink:href=\"#m6b11374e2d\" y=\"333.366249\"/>\n     <use style=\"fill:#4c72b0;stroke:#ffffff;stroke-width:0.48;\" x=\"264.878665\" xlink:href=\"#m6b11374e2d\" y=\"312.267037\"/>\n     <use style=\"fill:#4c72b0;stroke:#ffffff;stroke-width:0.48;\" x=\"264.878665\" xlink:href=\"#m6b11374e2d\" y=\"334.658037\"/>\n     <use style=\"fill:#4c72b0;stroke:#ffffff;stroke-width:0.48;\" x=\"264.878665\" xlink:href=\"#m6b11374e2d\" y=\"295.904384\"/>\n     <use style=\"fill:#4c72b0;stroke:#ffffff;stroke-width:0.48;\" x=\"264.878665\" xlink:href=\"#m6b11374e2d\" y=\"280.97705\"/>\n     <use style=\"fill:#4c72b0;stroke:#ffffff;stroke-width:0.48;\" x=\"86.24039\" xlink:href=\"#m6b11374e2d\" y=\"115.197533\"/>\n     <use style=\"fill:#4c72b0;stroke:#ffffff;stroke-width:0.48;\" x=\"264.878665\" xlink:href=\"#m6b11374e2d\" y=\"291.598422\"/>\n     <use style=\"fill:#4c72b0;stroke:#ffffff;stroke-width:0.48;\" x=\"264.878665\" xlink:href=\"#m6b11374e2d\" y=\"337.67221\"/>\n     <use style=\"fill:#4c72b0;stroke:#ffffff;stroke-width:0.48;\" x=\"264.878665\" xlink:href=\"#m6b11374e2d\" y=\"301.502134\"/>\n     <use style=\"fill:#4c72b0;stroke:#ffffff;stroke-width:0.48;\" x=\"264.878665\" xlink:href=\"#m6b11374e2d\" y=\"350.590095\"/>\n     <use style=\"fill:#4c72b0;stroke:#ffffff;stroke-width:0.48;\" x=\"264.878665\" xlink:href=\"#m6b11374e2d\" y=\"344.131152\"/>\n     <use style=\"fill:#4c72b0;stroke:#ffffff;stroke-width:0.48;\" x=\"264.878665\" xlink:href=\"#m6b11374e2d\" y=\"364.369171\"/>\n     <use style=\"fill:#4c72b0;stroke:#ffffff;stroke-width:0.48;\" x=\"264.878665\" xlink:href=\"#m6b11374e2d\" y=\"352.312479\"/>\n     <use style=\"fill:#4c72b0;stroke:#ffffff;stroke-width:0.48;\" x=\"264.878665\" xlink:href=\"#m6b11374e2d\" y=\"323.893133\"/>\n     <use style=\"fill:#4c72b0;stroke:#ffffff;stroke-width:0.48;\" x=\"86.24039\" xlink:href=\"#m6b11374e2d\" y=\"239.711586\"/>\n     <use style=\"fill:#4c72b0;stroke:#ffffff;stroke-width:0.48;\" x=\"264.878665\" xlink:href=\"#m6b11374e2d\" y=\"319.587172\"/>\n     <use style=\"fill:#4c72b0;stroke:#ffffff;stroke-width:0.48;\" x=\"86.24039\" xlink:href=\"#m6b11374e2d\" y=\"25.490002\"/>\n     <use style=\"fill:#4c72b0;stroke:#ffffff;stroke-width:0.48;\" x=\"264.878665\" xlink:href=\"#m6b11374e2d\" y=\"323.462537\"/>\n     <use style=\"fill:#4c72b0;stroke:#ffffff;stroke-width:0.48;\" x=\"264.878665\" xlink:href=\"#m6b11374e2d\" y=\"309.252864\"/>\n     <use style=\"fill:#4c72b0;stroke:#ffffff;stroke-width:0.48;\" x=\"86.24039\" xlink:href=\"#m6b11374e2d\" y=\"95.461876\"/>\n     <use style=\"fill:#4c72b0;stroke:#ffffff;stroke-width:0.48;\" x=\"264.878665\" xlink:href=\"#m6b11374e2d\" y=\"292.459614\"/>\n     <use style=\"fill:#4c72b0;stroke:#ffffff;stroke-width:0.48;\" x=\"86.24039\" xlink:href=\"#m6b11374e2d\" y=\"148.927565\"/>\n     <use style=\"fill:#4c72b0;stroke:#ffffff;stroke-width:0.48;\" x=\"86.24039\" xlink:href=\"#m6b11374e2d\" y=\"179.786955\"/>\n     <use style=\"fill:#4c72b0;stroke:#ffffff;stroke-width:0.48;\" x=\"264.878665\" xlink:href=\"#m6b11374e2d\" y=\"323.031941\"/>\n     <use style=\"fill:#4c72b0;stroke:#ffffff;stroke-width:0.48;\" x=\"264.878665\" xlink:href=\"#m6b11374e2d\" y=\"329.490883\"/>\n     <use style=\"fill:#4c72b0;stroke:#ffffff;stroke-width:0.48;\" x=\"264.878665\" xlink:href=\"#m6b11374e2d\" y=\"323.031941\"/>\n     <use style=\"fill:#4c72b0;stroke:#ffffff;stroke-width:0.48;\" x=\"264.878665\" xlink:href=\"#m6b11374e2d\" y=\"309.68346\"/>\n     <use style=\"fill:#4c72b0;stroke:#ffffff;stroke-width:0.48;\" x=\"264.878665\" xlink:href=\"#m6b11374e2d\" y=\"357.910229\"/>\n     <use style=\"fill:#4c72b0;stroke:#ffffff;stroke-width:0.48;\" x=\"264.878665\" xlink:href=\"#m6b11374e2d\" y=\"345.422941\"/>\n     <use style=\"fill:#4c72b0;stroke:#ffffff;stroke-width:0.48;\" x=\"264.878665\" xlink:href=\"#m6b11374e2d\" y=\"312.267037\"/>\n     <use style=\"fill:#4c72b0;stroke:#ffffff;stroke-width:0.48;\" x=\"264.878665\" xlink:href=\"#m6b11374e2d\" y=\"346.284133\"/>\n     <use style=\"fill:#4c72b0;stroke:#ffffff;stroke-width:0.48;\" x=\"264.878665\" xlink:href=\"#m6b11374e2d\" y=\"329.060287\"/>\n     <use style=\"fill:#4c72b0;stroke:#ffffff;stroke-width:0.48;\" x=\"443.51694\" xlink:href=\"#m6b11374e2d\" y=\"324.754326\"/>\n     <use style=\"fill:#4c72b0;stroke:#ffffff;stroke-width:0.48;\" x=\"264.878665\" xlink:href=\"#m6b11374e2d\" y=\"348.86771\"/>\n     <use style=\"fill:#4c72b0;stroke:#ffffff;stroke-width:0.48;\" x=\"264.878665\" xlink:href=\"#m6b11374e2d\" y=\"326.907306\"/>\n     <use style=\"fill:#4c72b0;stroke:#ffffff;stroke-width:0.48;\" x=\"443.51694\" xlink:href=\"#m6b11374e2d\" y=\"324.754326\"/>\n     <use style=\"fill:#4c72b0;stroke:#ffffff;stroke-width:0.48;\" x=\"264.878665\" xlink:href=\"#m6b11374e2d\" y=\"313.12823\"/>\n     <use style=\"fill:#4c72b0;stroke:#ffffff;stroke-width:0.48;\" x=\"86.24039\" xlink:href=\"#m6b11374e2d\" y=\"240.788076\"/>\n     <use style=\"fill:#4c72b0;stroke:#ffffff;stroke-width:0.48;\" x=\"264.878665\" xlink:href=\"#m6b11374e2d\" y=\"310.975249\"/>\n     <use style=\"fill:#4c72b0;stroke:#ffffff;stroke-width:0.48;\" x=\"264.878665\" xlink:href=\"#m6b11374e2d\" y=\"283.417095\"/>\n     <use style=\"fill:#4c72b0;stroke:#ffffff;stroke-width:0.48;\" x=\"86.24039\" xlink:href=\"#m6b11374e2d\" y=\"201.316763\"/>\n     <use style=\"fill:#4c72b0;stroke:#ffffff;stroke-width:0.48;\" x=\"264.878665\" xlink:href=\"#m6b11374e2d\" y=\"341.116979\"/>\n     <use style=\"fill:#4c72b0;stroke:#ffffff;stroke-width:0.48;\" x=\"264.878665\" xlink:href=\"#m6b11374e2d\" y=\"335.519229\"/>\n     <use style=\"fill:#4c72b0;stroke:#ffffff;stroke-width:0.48;\" x=\"264.878665\" xlink:href=\"#m6b11374e2d\" y=\"335.949825\"/>\n     <use style=\"fill:#4c72b0;stroke:#ffffff;stroke-width:0.48;\" x=\"264.878665\" xlink:href=\"#m6b11374e2d\" y=\"315.711806\"/>\n     <use style=\"fill:#4c72b0;stroke:#ffffff;stroke-width:0.48;\" x=\"264.878665\" xlink:href=\"#m6b11374e2d\" y=\"337.241614\"/>\n     <use style=\"fill:#4c72b0;stroke:#ffffff;stroke-width:0.48;\" x=\"264.878665\" xlink:href=\"#m6b11374e2d\" y=\"332.505056\"/>\n     <use style=\"fill:#4c72b0;stroke:#ffffff;stroke-width:0.48;\" x=\"264.878665\" xlink:href=\"#m6b11374e2d\" y=\"324.323729\"/>\n     <use style=\"fill:#4c72b0;stroke:#ffffff;stroke-width:0.48;\" x=\"264.878665\" xlink:href=\"#m6b11374e2d\" y=\"348.437114\"/>\n     <use style=\"fill:#4c72b0;stroke:#ffffff;stroke-width:0.48;\" x=\"86.24039\" xlink:href=\"#m6b11374e2d\" y=\"275.235768\"/>\n     <use style=\"fill:#4c72b0;stroke:#ffffff;stroke-width:0.48;\" x=\"86.24039\" xlink:href=\"#m6b11374e2d\" y=\"255.141281\"/>\n     <use style=\"fill:#4c72b0;stroke:#ffffff;stroke-width:0.48;\" x=\"86.24039\" xlink:href=\"#m6b11374e2d\" y=\"260.523733\"/>\n     <use style=\"fill:#4c72b0;stroke:#ffffff;stroke-width:0.48;\" x=\"264.878665\" xlink:href=\"#m6b11374e2d\" y=\"350.159498\"/>\n     <use style=\"fill:#4c72b0;stroke:#ffffff;stroke-width:0.48;\" x=\"86.24039\" xlink:href=\"#m6b11374e2d\" y=\"188.757708\"/>\n     <use style=\"fill:#4c72b0;stroke:#ffffff;stroke-width:0.48;\" x=\"86.24039\" xlink:href=\"#m6b11374e2d\" y=\"280.97705\"/>\n     <use style=\"fill:#4c72b0;stroke:#ffffff;stroke-width:0.48;\" x=\"86.24039\" xlink:href=\"#m6b11374e2d\" y=\"283.130031\"/>\n     <use style=\"fill:#4c72b0;stroke:#ffffff;stroke-width:0.48;\" x=\"86.24039\" xlink:href=\"#m6b11374e2d\" y=\"250.691788\"/>\n     <use style=\"fill:#4c72b0;stroke:#ffffff;stroke-width:0.48;\" x=\"264.878665\" xlink:href=\"#m6b11374e2d\" y=\"295.043191\"/>\n     <use style=\"fill:#4c72b0;stroke:#ffffff;stroke-width:0.48;\" x=\"86.24039\" xlink:href=\"#m6b11374e2d\" y=\"176.198654\"/>\n     <use style=\"fill:#4c72b0;stroke:#ffffff;stroke-width:0.48;\" x=\"264.878665\" xlink:href=\"#m6b11374e2d\" y=\"258.011922\"/>\n     <use style=\"fill:#4c72b0;stroke:#ffffff;stroke-width:0.48;\" x=\"264.878665\" xlink:href=\"#m6b11374e2d\" y=\"337.241614\"/>\n     <use style=\"fill:#4c72b0;stroke:#ffffff;stroke-width:0.48;\" x=\"264.878665\" xlink:href=\"#m6b11374e2d\" y=\"315.711806\"/>\n     <use style=\"fill:#4c72b0;stroke:#ffffff;stroke-width:0.48;\" x=\"264.878665\" xlink:href=\"#m6b11374e2d\" y=\"343.700556\"/>\n     <use style=\"fill:#4c72b0;stroke:#ffffff;stroke-width:0.48;\" x=\"264.878665\" xlink:href=\"#m6b11374e2d\" y=\"329.060287\"/>\n     <use style=\"fill:#4c72b0;stroke:#ffffff;stroke-width:0.48;\" x=\"264.878665\" xlink:href=\"#m6b11374e2d\" y=\"333.796845\"/>\n     <use style=\"fill:#4c72b0;stroke:#ffffff;stroke-width:0.48;\" x=\"264.878665\" xlink:href=\"#m6b11374e2d\" y=\"347.145325\"/>\n     <use style=\"fill:#4c72b0;stroke:#ffffff;stroke-width:0.48;\" x=\"264.878665\" xlink:href=\"#m6b11374e2d\" y=\"313.12823\"/>\n     <use style=\"fill:#4c72b0;stroke:#ffffff;stroke-width:0.48;\" x=\"264.878665\" xlink:href=\"#m6b11374e2d\" y=\"266.623845\"/>\n     <use style=\"fill:#4c72b0;stroke:#ffffff;stroke-width:0.48;\" x=\"264.878665\" xlink:href=\"#m6b11374e2d\" y=\"343.26996\"/>\n     <use style=\"fill:#4c72b0;stroke:#ffffff;stroke-width:0.48;\" x=\"264.878665\" xlink:href=\"#m6b11374e2d\" y=\"341.978172\"/>\n     <use style=\"fill:#4c72b0;stroke:#ffffff;stroke-width:0.48;\" x=\"264.878665\" xlink:href=\"#m6b11374e2d\" y=\"347.145325\"/>\n     <use style=\"fill:#4c72b0;stroke:#ffffff;stroke-width:0.48;\" x=\"264.878665\" xlink:href=\"#m6b11374e2d\" y=\"341.116979\"/>\n     <use style=\"fill:#4c72b0;stroke:#ffffff;stroke-width:0.48;\" x=\"264.878665\" xlink:href=\"#m6b11374e2d\" y=\"338.533402\"/>\n     <use style=\"fill:#4c72b0;stroke:#ffffff;stroke-width:0.48;\" x=\"264.878665\" xlink:href=\"#m6b11374e2d\" y=\"322.170749\"/>\n     <use style=\"fill:#4c72b0;stroke:#ffffff;stroke-width:0.48;\" x=\"264.878665\" xlink:href=\"#m6b11374e2d\" y=\"343.700556\"/>\n     <use style=\"fill:#4c72b0;stroke:#ffffff;stroke-width:0.48;\" x=\"86.24039\" xlink:href=\"#m6b11374e2d\" y=\"204.905064\"/>\n     <use style=\"fill:#4c72b0;stroke:#ffffff;stroke-width:0.48;\" x=\"86.24039\" xlink:href=\"#m6b11374e2d\" y=\"215.669968\"/>\n     <use style=\"fill:#4c72b0;stroke:#ffffff;stroke-width:0.48;\" x=\"264.878665\" xlink:href=\"#m6b11374e2d\" y=\"366.522152\"/>\n     <use style=\"fill:#4c72b0;stroke:#ffffff;stroke-width:0.48;\" x=\"264.878665\" xlink:href=\"#m6b11374e2d\" y=\"355.326652\"/>\n     <use style=\"fill:#4c72b0;stroke:#ffffff;stroke-width:0.48;\" x=\"264.878665\" xlink:href=\"#m6b11374e2d\" y=\"344.131152\"/>\n     <use style=\"fill:#4c72b0;stroke:#ffffff;stroke-width:0.48;\" x=\"264.878665\" xlink:href=\"#m6b11374e2d\" y=\"338.533402\"/>\n     <use style=\"fill:#4c72b0;stroke:#ffffff;stroke-width:0.48;\" x=\"264.878665\" xlink:href=\"#m6b11374e2d\" y=\"342.408768\"/>\n     <use style=\"fill:#4c72b0;stroke:#ffffff;stroke-width:0.48;\" x=\"264.878665\" xlink:href=\"#m6b11374e2d\" y=\"331.213268\"/>\n     <use style=\"fill:#4c72b0;stroke:#ffffff;stroke-width:0.48;\" x=\"443.51694\" xlink:href=\"#m6b11374e2d\" y=\"324.754326\"/>\n     <use style=\"fill:#4c72b0;stroke:#ffffff;stroke-width:0.48;\" x=\"264.878665\" xlink:href=\"#m6b11374e2d\" y=\"297.626768\"/>\n     <use style=\"fill:#4c72b0;stroke:#ffffff;stroke-width:0.48;\" x=\"443.51694\" xlink:href=\"#m6b11374e2d\" y=\"326.907306\"/>\n     <use style=\"fill:#4c72b0;stroke:#ffffff;stroke-width:0.48;\" x=\"264.878665\" xlink:href=\"#m6b11374e2d\" y=\"349.728902\"/>\n     <use style=\"fill:#4c72b0;stroke:#ffffff;stroke-width:0.48;\" x=\"86.24039\" xlink:href=\"#m6b11374e2d\" y=\"188.398878\"/>\n     <use style=\"fill:#4c72b0;stroke:#ffffff;stroke-width:0.48;\" x=\"86.24039\" xlink:href=\"#m6b11374e2d\" y=\"238.993926\"/>\n     <use style=\"fill:#4c72b0;stroke:#ffffff;stroke-width:0.48;\" x=\"264.878665\" xlink:href=\"#m6b11374e2d\" y=\"298.48796\"/>\n     <use style=\"fill:#4c72b0;stroke:#ffffff;stroke-width:0.48;\" x=\"86.24039\" xlink:href=\"#m6b11374e2d\" y=\"134.57436\"/>\n     <use style=\"fill:#4c72b0;stroke:#ffffff;stroke-width:0.48;\" x=\"264.878665\" xlink:href=\"#m6b11374e2d\" y=\"334.227441\"/>\n     <use style=\"fill:#4c72b0;stroke:#ffffff;stroke-width:0.48;\" x=\"264.878665\" xlink:href=\"#m6b11374e2d\" y=\"322.170749\"/>\n     <use style=\"fill:#4c72b0;stroke:#ffffff;stroke-width:0.48;\" x=\"86.24039\" xlink:href=\"#m6b11374e2d\" y=\"151.080545\"/>\n     <use style=\"fill:#4c72b0;stroke:#ffffff;stroke-width:0.48;\" x=\"264.878665\" xlink:href=\"#m6b11374e2d\" y=\"340.686383\"/>\n     <use style=\"fill:#4c72b0;stroke:#ffffff;stroke-width:0.48;\" x=\"264.878665\" xlink:href=\"#m6b11374e2d\" y=\"352.743075\"/>\n     <use style=\"fill:#4c72b0;stroke:#ffffff;stroke-width:0.48;\" x=\"264.878665\" xlink:href=\"#m6b11374e2d\" y=\"325.615518\"/>\n     <use style=\"fill:#4c72b0;stroke:#ffffff;stroke-width:0.48;\" x=\"264.878665\" xlink:href=\"#m6b11374e2d\" y=\"331.643864\"/>\n     <use style=\"fill:#4c72b0;stroke:#ffffff;stroke-width:0.48;\" x=\"443.51694\" xlink:href=\"#m6b11374e2d\" y=\"324.754326\"/>\n     <use style=\"fill:#4c72b0;stroke:#ffffff;stroke-width:0.48;\" x=\"443.51694\" xlink:href=\"#m6b11374e2d\" y=\"324.754326\"/>\n     <use style=\"fill:#4c72b0;stroke:#ffffff;stroke-width:0.48;\" x=\"86.24039\" xlink:href=\"#m6b11374e2d\" y=\"255.500112\"/>\n     <use style=\"fill:#4c72b0;stroke:#ffffff;stroke-width:0.48;\" x=\"264.878665\" xlink:href=\"#m6b11374e2d\" y=\"304.516307\"/>\n     <use style=\"fill:#4c72b0;stroke:#ffffff;stroke-width:0.48;\" x=\"264.878665\" xlink:href=\"#m6b11374e2d\" y=\"317.003595\"/>\n     <use style=\"fill:#4c72b0;stroke:#ffffff;stroke-width:0.48;\" x=\"264.878665\" xlink:href=\"#m6b11374e2d\" y=\"326.046114\"/>\n     <use style=\"fill:#4c72b0;stroke:#ffffff;stroke-width:0.48;\" x=\"264.878665\" xlink:href=\"#m6b11374e2d\" y=\"322.601345\"/>\n     <use style=\"fill:#4c72b0;stroke:#ffffff;stroke-width:0.48;\" x=\"264.878665\" xlink:href=\"#m6b11374e2d\" y=\"322.170749\"/>\n     <use style=\"fill:#4c72b0;stroke:#ffffff;stroke-width:0.48;\" x=\"264.878665\" xlink:href=\"#m6b11374e2d\" y=\"340.686383\"/>\n     <use style=\"fill:#4c72b0;stroke:#ffffff;stroke-width:0.48;\" x=\"86.24039\" xlink:href=\"#m6b11374e2d\" y=\"304.516307\"/>\n     <use style=\"fill:#4c72b0;stroke:#ffffff;stroke-width:0.48;\" x=\"264.878665\" xlink:href=\"#m6b11374e2d\" y=\"359.202018\"/>\n     <use style=\"fill:#4c72b0;stroke:#ffffff;stroke-width:0.48;\" x=\"264.878665\" xlink:href=\"#m6b11374e2d\" y=\"319.587172\"/>\n     <use style=\"fill:#4c72b0;stroke:#ffffff;stroke-width:0.48;\" x=\"264.878665\" xlink:href=\"#m6b11374e2d\" y=\"317.434191\"/>\n     <use style=\"fill:#4c72b0;stroke:#ffffff;stroke-width:0.48;\" x=\"264.878665\" xlink:href=\"#m6b11374e2d\" y=\"302.363326\"/>\n     <use style=\"fill:#4c72b0;stroke:#ffffff;stroke-width:0.48;\" x=\"264.878665\" xlink:href=\"#m6b11374e2d\" y=\"334.227441\"/>\n     <use style=\"fill:#4c72b0;stroke:#ffffff;stroke-width:0.48;\" x=\"443.51694\" xlink:href=\"#m6b11374e2d\" y=\"343.26996\"/>\n     <use style=\"fill:#4c72b0;stroke:#ffffff;stroke-width:0.48;\" x=\"443.51694\" xlink:href=\"#m6b11374e2d\" y=\"324.754326\"/>\n     <use style=\"fill:#4c72b0;stroke:#ffffff;stroke-width:0.48;\" x=\"264.878665\" xlink:href=\"#m6b11374e2d\" y=\"356.618441\"/>\n     <use style=\"fill:#4c72b0;stroke:#ffffff;stroke-width:0.48;\" x=\"86.24039\" xlink:href=\"#m6b11374e2d\" y=\"215.669968\"/>\n     <use style=\"fill:#4c72b0;stroke:#ffffff;stroke-width:0.48;\" x=\"86.24039\" xlink:href=\"#m6b11374e2d\" y=\"242.582227\"/>\n     <use style=\"fill:#4c72b0;stroke:#ffffff;stroke-width:0.48;\" x=\"264.878665\" xlink:href=\"#m6b11374e2d\" y=\"322.601345\"/>\n     <use style=\"fill:#4c72b0;stroke:#ffffff;stroke-width:0.48;\" x=\"264.878665\" xlink:href=\"#m6b11374e2d\" y=\"334.658037\"/>\n     <use style=\"fill:#4c72b0;stroke:#ffffff;stroke-width:0.48;\" x=\"264.878665\" xlink:href=\"#m6b11374e2d\" y=\"335.519229\"/>\n     <use style=\"fill:#4c72b0;stroke:#ffffff;stroke-width:0.48;\" x=\"86.24039\" xlink:href=\"#m6b11374e2d\" y=\"293.751403\"/>\n     <use style=\"fill:#4c72b0;stroke:#ffffff;stroke-width:0.48;\" x=\"264.878665\" xlink:href=\"#m6b11374e2d\" y=\"337.67221\"/>\n     <use style=\"fill:#4c72b0;stroke:#ffffff;stroke-width:0.48;\" x=\"264.878665\" xlink:href=\"#m6b11374e2d\" y=\"349.298306\"/>\n     <use style=\"fill:#4c72b0;stroke:#ffffff;stroke-width:0.48;\" x=\"86.24039\" xlink:href=\"#m6b11374e2d\" y=\"226.434872\"/>\n     <use style=\"fill:#4c72b0;stroke:#ffffff;stroke-width:0.48;\" x=\"264.878665\" xlink:href=\"#m6b11374e2d\" y=\"324.323729\"/>\n     <use style=\"fill:#4c72b0;stroke:#ffffff;stroke-width:0.48;\" x=\"264.878665\" xlink:href=\"#m6b11374e2d\" y=\"355.326652\"/>\n     <use style=\"fill:#4c72b0;stroke:#ffffff;stroke-width:0.48;\" x=\"264.878665\" xlink:href=\"#m6b11374e2d\" y=\"348.86771\"/>\n     <use style=\"fill:#4c72b0;stroke:#ffffff;stroke-width:0.48;\" x=\"264.878665\" xlink:href=\"#m6b11374e2d\" y=\"310.975249\"/>\n     <use style=\"fill:#4c72b0;stroke:#ffffff;stroke-width:0.48;\" x=\"264.878665\" xlink:href=\"#m6b11374e2d\" y=\"331.213268\"/>\n     <use style=\"fill:#4c72b0;stroke:#ffffff;stroke-width:0.48;\" x=\"264.878665\" xlink:href=\"#m6b11374e2d\" y=\"342.839364\"/>\n     <use style=\"fill:#4c72b0;stroke:#ffffff;stroke-width:0.48;\" x=\"264.878665\" xlink:href=\"#m6b11374e2d\" y=\"365.230364\"/>\n     <use style=\"fill:#4c72b0;stroke:#ffffff;stroke-width:0.48;\" x=\"264.878665\" xlink:href=\"#m6b11374e2d\" y=\"336.380422\"/>\n     <use style=\"fill:#4c72b0;stroke:#ffffff;stroke-width:0.48;\" x=\"264.878665\" xlink:href=\"#m6b11374e2d\" y=\"286.861864\"/>\n     <use style=\"fill:#4c72b0;stroke:#ffffff;stroke-width:0.48;\" x=\"264.878665\" xlink:href=\"#m6b11374e2d\" y=\"344.992345\"/>\n     <use style=\"fill:#4c72b0;stroke:#ffffff;stroke-width:0.48;\" x=\"264.878665\" xlink:href=\"#m6b11374e2d\" y=\"336.811018\"/>\n     <use style=\"fill:#4c72b0;stroke:#ffffff;stroke-width:0.48;\" x=\"264.878665\" xlink:href=\"#m6b11374e2d\" y=\"333.796845\"/>\n     <use style=\"fill:#4c72b0;stroke:#ffffff;stroke-width:0.48;\" x=\"264.878665\" xlink:href=\"#m6b11374e2d\" y=\"338.963999\"/>\n     <use style=\"fill:#4c72b0;stroke:#ffffff;stroke-width:0.48;\" x=\"86.24039\" xlink:href=\"#m6b11374e2d\" y=\"291.598422\"/>\n     <use style=\"fill:#4c72b0;stroke:#ffffff;stroke-width:0.48;\" x=\"443.51694\" xlink:href=\"#m6b11374e2d\" y=\"324.754326\"/>\n     <use style=\"fill:#4c72b0;stroke:#ffffff;stroke-width:0.48;\" x=\"264.878665\" xlink:href=\"#m6b11374e2d\" y=\"336.380422\"/>\n     <use style=\"fill:#4c72b0;stroke:#ffffff;stroke-width:0.48;\" x=\"264.878665\" xlink:href=\"#m6b11374e2d\" y=\"353.173671\"/>\n     <use style=\"fill:#4c72b0;stroke:#ffffff;stroke-width:0.48;\" x=\"264.878665\" xlink:href=\"#m6b11374e2d\" y=\"311.836441\"/>\n     <use style=\"fill:#4c72b0;stroke:#ffffff;stroke-width:0.48;\" x=\"264.878665\" xlink:href=\"#m6b11374e2d\" y=\"336.380422\"/>\n     <use style=\"fill:#4c72b0;stroke:#ffffff;stroke-width:0.48;\" x=\"264.878665\" xlink:href=\"#m6b11374e2d\" y=\"336.811018\"/>\n     <use style=\"fill:#4c72b0;stroke:#ffffff;stroke-width:0.48;\" x=\"264.878665\" xlink:href=\"#m6b11374e2d\" y=\"333.366249\"/>\n     <use style=\"fill:#4c72b0;stroke:#ffffff;stroke-width:0.48;\" x=\"264.878665\" xlink:href=\"#m6b11374e2d\" y=\"341.116979\"/>\n     <use style=\"fill:#4c72b0;stroke:#ffffff;stroke-width:0.48;\" x=\"86.24039\" xlink:href=\"#m6b11374e2d\" y=\"223.564231\"/>\n     <use style=\"fill:#4c72b0;stroke:#ffffff;stroke-width:0.48;\" x=\"264.878665\" xlink:href=\"#m6b11374e2d\" y=\"261.887288\"/>\n     <use style=\"fill:#4c72b0;stroke:#ffffff;stroke-width:0.48;\" x=\"86.24039\" xlink:href=\"#m6b11374e2d\" y=\"282.053541\"/>\n     <use style=\"fill:#4c72b0;stroke:#ffffff;stroke-width:0.48;\" x=\"264.878665\" xlink:href=\"#m6b11374e2d\" y=\"324.323729\"/>\n     <use style=\"fill:#4c72b0;stroke:#ffffff;stroke-width:0.48;\" x=\"264.878665\" xlink:href=\"#m6b11374e2d\" y=\"328.629691\"/>\n     <use style=\"fill:#4c72b0;stroke:#ffffff;stroke-width:0.48;\" x=\"264.878665\" xlink:href=\"#m6b11374e2d\" y=\"317.434191\"/>\n     <use style=\"fill:#4c72b0;stroke:#ffffff;stroke-width:0.48;\" x=\"264.878665\" xlink:href=\"#m6b11374e2d\" y=\"350.159498\"/>\n     <use style=\"fill:#4c72b0;stroke:#ffffff;stroke-width:0.48;\" x=\"264.878665\" xlink:href=\"#m6b11374e2d\" y=\"360.924402\"/>\n     <use style=\"fill:#4c72b0;stroke:#ffffff;stroke-width:0.48;\" x=\"86.24039\" xlink:href=\"#m6b11374e2d\" y=\"278.46524\"/>\n     <use style=\"fill:#4c72b0;stroke:#ffffff;stroke-width:0.48;\" x=\"264.878665\" xlink:href=\"#m6b11374e2d\" y=\"339.825191\"/>\n     <use style=\"fill:#4c72b0;stroke:#ffffff;stroke-width:0.48;\" x=\"264.878665\" xlink:href=\"#m6b11374e2d\" y=\"336.811018\"/>\n     <use style=\"fill:#4c72b0;stroke:#ffffff;stroke-width:0.48;\" x=\"264.878665\" xlink:href=\"#m6b11374e2d\" y=\"336.380422\"/>\n     <use style=\"fill:#4c72b0;stroke:#ffffff;stroke-width:0.48;\" x=\"264.878665\" xlink:href=\"#m6b11374e2d\" y=\"327.337902\"/>\n     <use style=\"fill:#4c72b0;stroke:#ffffff;stroke-width:0.48;\" x=\"86.24039\" xlink:href=\"#m6b11374e2d\" y=\"214.234647\"/>\n     <use style=\"fill:#4c72b0;stroke:#ffffff;stroke-width:0.48;\" x=\"443.51694\" xlink:href=\"#m6b11374e2d\" y=\"321.309556\"/>\n     <use style=\"fill:#4c72b0;stroke:#ffffff;stroke-width:0.48;\" x=\"264.878665\" xlink:href=\"#m6b11374e2d\" y=\"337.67221\"/>\n     <use style=\"fill:#4c72b0;stroke:#ffffff;stroke-width:0.48;\" x=\"264.878665\" xlink:href=\"#m6b11374e2d\" y=\"310.544653\"/>\n     <use style=\"fill:#4c72b0;stroke:#ffffff;stroke-width:0.48;\" x=\"264.878665\" xlink:href=\"#m6b11374e2d\" y=\"331.213268\"/>\n     <use style=\"fill:#4c72b0;stroke:#ffffff;stroke-width:0.48;\" x=\"264.878665\" xlink:href=\"#m6b11374e2d\" y=\"363.938575\"/>\n     <use style=\"fill:#4c72b0;stroke:#ffffff;stroke-width:0.48;\" x=\"264.878665\" xlink:href=\"#m6b11374e2d\" y=\"340.686383\"/>\n     <use style=\"fill:#4c72b0;stroke:#ffffff;stroke-width:0.48;\" x=\"264.878665\" xlink:href=\"#m6b11374e2d\" y=\"344.131152\"/>\n     <use style=\"fill:#4c72b0;stroke:#ffffff;stroke-width:0.48;\" x=\"264.878665\" xlink:href=\"#m6b11374e2d\" y=\"334.227441\"/>\n     <use style=\"fill:#4c72b0;stroke:#ffffff;stroke-width:0.48;\" x=\"264.878665\" xlink:href=\"#m6b11374e2d\" y=\"360.06321\"/>\n     <use style=\"fill:#4c72b0;stroke:#ffffff;stroke-width:0.48;\" x=\"264.878665\" xlink:href=\"#m6b11374e2d\" y=\"300.210345\"/>\n     <use style=\"fill:#4c72b0;stroke:#ffffff;stroke-width:0.48;\" x=\"264.878665\" xlink:href=\"#m6b11374e2d\" y=\"301.502134\"/>\n     <use style=\"fill:#4c72b0;stroke:#ffffff;stroke-width:0.48;\" x=\"443.51694\" xlink:href=\"#m6b11374e2d\" y=\"324.754326\"/>\n     <use style=\"fill:#4c72b0;stroke:#ffffff;stroke-width:0.48;\" x=\"264.878665\" xlink:href=\"#m6b11374e2d\" y=\"305.377499\"/>\n     <use style=\"fill:#4c72b0;stroke:#ffffff;stroke-width:0.48;\" x=\"86.24039\" xlink:href=\"#m6b11374e2d\" y=\"244.376378\"/>\n     <use style=\"fill:#4c72b0;stroke:#ffffff;stroke-width:0.48;\" x=\"264.878665\" xlink:href=\"#m6b11374e2d\" y=\"313.989422\"/>\n     <use style=\"fill:#4c72b0;stroke:#ffffff;stroke-width:0.48;\" x=\"264.878665\" xlink:href=\"#m6b11374e2d\" y=\"309.68346\"/>\n     <use style=\"fill:#4c72b0;stroke:#ffffff;stroke-width:0.48;\" x=\"264.878665\" xlink:href=\"#m6b11374e2d\" y=\"329.490883\"/>\n     <use style=\"fill:#4c72b0;stroke:#ffffff;stroke-width:0.48;\" x=\"264.878665\" xlink:href=\"#m6b11374e2d\" y=\"365.66096\"/>\n     <use style=\"fill:#4c72b0;stroke:#ffffff;stroke-width:0.48;\" x=\"264.878665\" xlink:href=\"#m6b11374e2d\" y=\"356.618441\"/>\n     <use style=\"fill:#4c72b0;stroke:#ffffff;stroke-width:0.48;\" x=\"264.878665\" xlink:href=\"#m6b11374e2d\" y=\"341.978172\"/>\n     <use style=\"fill:#4c72b0;stroke:#ffffff;stroke-width:0.48;\" x=\"264.878665\" xlink:href=\"#m6b11374e2d\" y=\"335.088633\"/>\n     <use style=\"fill:#4c72b0;stroke:#ffffff;stroke-width:0.48;\" x=\"264.878665\" xlink:href=\"#m6b11374e2d\" y=\"337.241614\"/>\n     <use style=\"fill:#4c72b0;stroke:#ffffff;stroke-width:0.48;\" x=\"264.878665\" xlink:href=\"#m6b11374e2d\" y=\"346.714729\"/>\n     <use style=\"fill:#4c72b0;stroke:#ffffff;stroke-width:0.48;\" x=\"86.24039\" xlink:href=\"#m6b11374e2d\" y=\"255.428346\"/>\n     <use style=\"fill:#4c72b0;stroke:#ffffff;stroke-width:0.48;\" x=\"86.24039\" xlink:href=\"#m6b11374e2d\" y=\"209.569856\"/>\n     <use style=\"fill:#4c72b0;stroke:#ffffff;stroke-width:0.48;\" x=\"86.24039\" xlink:href=\"#m6b11374e2d\" y=\"265.906185\"/>\n     <use style=\"fill:#4c72b0;stroke:#ffffff;stroke-width:0.48;\" x=\"86.24039\" xlink:href=\"#m6b11374e2d\" y=\"219.258269\"/>\n     <use style=\"fill:#4c72b0;stroke:#ffffff;stroke-width:0.48;\" x=\"264.878665\" xlink:href=\"#m6b11374e2d\" y=\"328.801929\"/>\n     <use style=\"fill:#4c72b0;stroke:#ffffff;stroke-width:0.48;\" x=\"264.878665\" xlink:href=\"#m6b11374e2d\" y=\"299.349153\"/>\n     <use style=\"fill:#4c72b0;stroke:#ffffff;stroke-width:0.48;\" x=\"264.878665\" xlink:href=\"#m6b11374e2d\" y=\"329.490883\"/>\n     <use style=\"fill:#4c72b0;stroke:#ffffff;stroke-width:0.48;\" x=\"264.878665\" xlink:href=\"#m6b11374e2d\" y=\"317.864787\"/>\n     <use style=\"fill:#4c72b0;stroke:#ffffff;stroke-width:0.48;\" x=\"86.24039\" xlink:href=\"#m6b11374e2d\" y=\"221.41125\"/>\n     <use style=\"fill:#4c72b0;stroke:#ffffff;stroke-width:0.48;\" x=\"443.51694\" xlink:href=\"#m6b11374e2d\" y=\"316.142403\"/>\n     <use style=\"fill:#4c72b0;stroke:#ffffff;stroke-width:0.48;\" x=\"264.878665\" xlink:href=\"#m6b11374e2d\" y=\"334.658037\"/>\n     <use style=\"fill:#4c72b0;stroke:#ffffff;stroke-width:0.48;\" x=\"264.878665\" xlink:href=\"#m6b11374e2d\" y=\"344.131152\"/>\n     <use style=\"fill:#4c72b0;stroke:#ffffff;stroke-width:0.48;\" x=\"264.878665\" xlink:href=\"#m6b11374e2d\" y=\"356.187844\"/>\n     <use style=\"fill:#4c72b0;stroke:#ffffff;stroke-width:0.48;\" x=\"264.878665\" xlink:href=\"#m6b11374e2d\" y=\"325.184922\"/>\n     <use style=\"fill:#4c72b0;stroke:#ffffff;stroke-width:0.48;\" x=\"264.878665\" xlink:href=\"#m6b11374e2d\" y=\"329.921479\"/>\n     <use style=\"fill:#4c72b0;stroke:#ffffff;stroke-width:0.48;\" x=\"264.878665\" xlink:href=\"#m6b11374e2d\" y=\"302.793922\"/>\n     <use style=\"fill:#4c72b0;stroke:#ffffff;stroke-width:0.48;\" x=\"443.51694\" xlink:href=\"#m6b11374e2d\" y=\"324.754326\"/>\n     <use style=\"fill:#4c72b0;stroke:#ffffff;stroke-width:0.48;\" x=\"264.878665\" xlink:href=\"#m6b11374e2d\" y=\"354.46546\"/>\n     <use style=\"fill:#4c72b0;stroke:#ffffff;stroke-width:0.48;\" x=\"264.878665\" xlink:href=\"#m6b11374e2d\" y=\"357.910229\"/>\n     <use style=\"fill:#4c72b0;stroke:#ffffff;stroke-width:0.48;\" x=\"264.878665\" xlink:href=\"#m6b11374e2d\" y=\"326.47671\"/>\n     <use style=\"fill:#4c72b0;stroke:#ffffff;stroke-width:0.48;\" x=\"264.878665\" xlink:href=\"#m6b11374e2d\" y=\"313.644945\"/>\n     <use style=\"fill:#4c72b0;stroke:#ffffff;stroke-width:0.48;\" x=\"264.878665\" xlink:href=\"#m6b11374e2d\" y=\"183.375257\"/>\n     <use style=\"fill:#4c72b0;stroke:#ffffff;stroke-width:0.48;\" x=\"264.878665\" xlink:href=\"#m6b11374e2d\" y=\"340.255787\"/>\n     <use style=\"fill:#4c72b0;stroke:#ffffff;stroke-width:0.48;\" x=\"264.878665\" xlink:href=\"#m6b11374e2d\" y=\"327.337902\"/>\n     <use style=\"fill:#4c72b0;stroke:#ffffff;stroke-width:0.48;\" x=\"264.878665\" xlink:href=\"#m6b11374e2d\" y=\"344.131152\"/>\n     <use style=\"fill:#4c72b0;stroke:#ffffff;stroke-width:0.48;\" x=\"264.878665\" xlink:href=\"#m6b11374e2d\" y=\"333.366249\"/>\n     <use style=\"fill:#4c72b0;stroke:#ffffff;stroke-width:0.48;\" x=\"264.878665\" xlink:href=\"#m6b11374e2d\" y=\"348.86771\"/>\n     <use style=\"fill:#4c72b0;stroke:#ffffff;stroke-width:0.48;\" x=\"264.878665\" xlink:href=\"#m6b11374e2d\" y=\"366.522152\"/>\n     <use style=\"fill:#4c72b0;stroke:#ffffff;stroke-width:0.48;\" x=\"264.878665\" xlink:href=\"#m6b11374e2d\" y=\"350.159498\"/>\n     <use style=\"fill:#4c72b0;stroke:#ffffff;stroke-width:0.48;\" x=\"264.878665\" xlink:href=\"#m6b11374e2d\" y=\"346.284133\"/>\n     <use style=\"fill:#4c72b0;stroke:#ffffff;stroke-width:0.48;\" x=\"264.878665\" xlink:href=\"#m6b11374e2d\" y=\"315.711806\"/>\n     <use style=\"fill:#4c72b0;stroke:#ffffff;stroke-width:0.48;\" x=\"264.878665\" xlink:href=\"#m6b11374e2d\" y=\"339.394595\"/>\n     <use style=\"fill:#4c72b0;stroke:#ffffff;stroke-width:0.48;\" x=\"264.878665\" xlink:href=\"#m6b11374e2d\" y=\"363.507979\"/>\n     <use style=\"fill:#4c72b0;stroke:#ffffff;stroke-width:0.48;\" x=\"264.878665\" xlink:href=\"#m6b11374e2d\" y=\"348.437114\"/>\n     <use style=\"fill:#4c72b0;stroke:#ffffff;stroke-width:0.48;\" x=\"86.24039\" xlink:href=\"#m6b11374e2d\" y=\"297.626768\"/>\n     <use style=\"fill:#4c72b0;stroke:#ffffff;stroke-width:0.48;\" x=\"86.24039\" xlink:href=\"#m6b11374e2d\" y=\"253.705961\"/>\n     <use style=\"fill:#4c72b0;stroke:#ffffff;stroke-width:0.48;\" x=\"264.878665\" xlink:href=\"#m6b11374e2d\" y=\"336.811018\"/>\n     <use style=\"fill:#4c72b0;stroke:#ffffff;stroke-width:0.48;\" x=\"264.878665\" xlink:href=\"#m6b11374e2d\" y=\"267.915634\"/>\n     <use style=\"fill:#4c72b0;stroke:#ffffff;stroke-width:0.48;\" x=\"86.24039\" xlink:href=\"#m6b11374e2d\" y=\"197.728462\"/>\n     <use style=\"fill:#4c72b0;stroke:#ffffff;stroke-width:0.48;\" x=\"264.878665\" xlink:href=\"#m6b11374e2d\" y=\"334.227441\"/>\n     <use style=\"fill:#4c72b0;stroke:#ffffff;stroke-width:0.48;\" x=\"264.878665\" xlink:href=\"#m6b11374e2d\" y=\"348.006518\"/>\n     <use style=\"fill:#4c72b0;stroke:#ffffff;stroke-width:0.48;\" x=\"264.878665\" xlink:href=\"#m6b11374e2d\" y=\"334.658037\"/>\n     <use style=\"fill:#4c72b0;stroke:#ffffff;stroke-width:0.48;\" x=\"264.878665\" xlink:href=\"#m6b11374e2d\" y=\"333.366249\"/>\n     <use style=\"fill:#4c72b0;stroke:#ffffff;stroke-width:0.48;\" x=\"86.24039\" xlink:href=\"#m6b11374e2d\" y=\"256.935432\"/>\n     <use style=\"fill:#4c72b0;stroke:#ffffff;stroke-width:0.48;\" x=\"264.878665\" xlink:href=\"#m6b11374e2d\" y=\"363.077383\"/>\n     <use style=\"fill:#4c72b0;stroke:#ffffff;stroke-width:0.48;\" x=\"264.878665\" xlink:href=\"#m6b11374e2d\" y=\"295.904384\"/>\n     <use style=\"fill:#4c72b0;stroke:#ffffff;stroke-width:0.48;\" x=\"264.878665\" xlink:href=\"#m6b11374e2d\" y=\"346.714729\"/>\n     <use style=\"fill:#4c72b0;stroke:#ffffff;stroke-width:0.48;\" x=\"264.878665\" xlink:href=\"#m6b11374e2d\" y=\"348.437114\"/>\n     <use style=\"fill:#4c72b0;stroke:#ffffff;stroke-width:0.48;\" x=\"264.878665\" xlink:href=\"#m6b11374e2d\" y=\"336.380422\"/>\n     <use style=\"fill:#4c72b0;stroke:#ffffff;stroke-width:0.48;\" x=\"264.878665\" xlink:href=\"#m6b11374e2d\" y=\"341.547575\"/>\n     <use style=\"fill:#4c72b0;stroke:#ffffff;stroke-width:0.48;\" x=\"264.878665\" xlink:href=\"#m6b11374e2d\" y=\"356.618441\"/>\n     <use style=\"fill:#4c72b0;stroke:#ffffff;stroke-width:0.48;\" x=\"264.878665\" xlink:href=\"#m6b11374e2d\" y=\"349.728902\"/>\n     <use style=\"fill:#4c72b0;stroke:#ffffff;stroke-width:0.48;\" x=\"264.878665\" xlink:href=\"#m6b11374e2d\" y=\"339.825191\"/>\n     <use style=\"fill:#4c72b0;stroke:#ffffff;stroke-width:0.48;\" x=\"264.878665\" xlink:href=\"#m6b11374e2d\" y=\"332.07446\"/>\n     <use style=\"fill:#4c72b0;stroke:#ffffff;stroke-width:0.48;\" x=\"264.878665\" xlink:href=\"#m6b11374e2d\" y=\"346.714729\"/>\n     <use style=\"fill:#4c72b0;stroke:#ffffff;stroke-width:0.48;\" x=\"264.878665\" xlink:href=\"#m6b11374e2d\" y=\"339.825191\"/>\n     <use style=\"fill:#4c72b0;stroke:#ffffff;stroke-width:0.48;\" x=\"264.878665\" xlink:href=\"#m6b11374e2d\" y=\"363.938575\"/>\n     <use style=\"fill:#4c72b0;stroke:#ffffff;stroke-width:0.48;\" x=\"86.24039\" xlink:href=\"#m6b11374e2d\" y=\"217.464118\"/>\n     <use style=\"fill:#4c72b0;stroke:#ffffff;stroke-width:0.48;\" x=\"443.51694\" xlink:href=\"#m6b11374e2d\" y=\"325.184922\"/>\n     <use style=\"fill:#4c72b0;stroke:#ffffff;stroke-width:0.48;\" x=\"86.24039\" xlink:href=\"#m6b11374e2d\" y=\"263.394374\"/>\n     <use style=\"fill:#4c72b0;stroke:#ffffff;stroke-width:0.48;\" x=\"86.24039\" xlink:href=\"#m6b11374e2d\" y=\"235.405625\"/>\n     <use style=\"fill:#4c72b0;stroke:#ffffff;stroke-width:0.48;\" x=\"264.878665\" xlink:href=\"#m6b11374e2d\" y=\"351.881883\"/>\n     <use style=\"fill:#4c72b0;stroke:#ffffff;stroke-width:0.48;\" x=\"264.878665\" xlink:href=\"#m6b11374e2d\" y=\"356.618441\"/>\n     <use style=\"fill:#4c72b0;stroke:#ffffff;stroke-width:0.48;\" x=\"264.878665\" xlink:href=\"#m6b11374e2d\" y=\"348.86771\"/>\n     <use style=\"fill:#4c72b0;stroke:#ffffff;stroke-width:0.48;\" x=\"264.878665\" xlink:href=\"#m6b11374e2d\" y=\"345.853537\"/>\n     <use style=\"fill:#4c72b0;stroke:#ffffff;stroke-width:0.48;\" x=\"264.878665\" xlink:href=\"#m6b11374e2d\" y=\"343.26996\"/>\n     <use style=\"fill:#4c72b0;stroke:#ffffff;stroke-width:0.48;\" x=\"264.878665\" xlink:href=\"#m6b11374e2d\" y=\"331.213268\"/>\n     <use style=\"fill:#4c72b0;stroke:#ffffff;stroke-width:0.48;\" x=\"264.878665\" xlink:href=\"#m6b11374e2d\" y=\"355.757248\"/>\n     <use style=\"fill:#4c72b0;stroke:#ffffff;stroke-width:0.48;\" x=\"264.878665\" xlink:href=\"#m6b11374e2d\" y=\"345.853537\"/>\n     <use style=\"fill:#4c72b0;stroke:#ffffff;stroke-width:0.48;\" x=\"264.878665\" xlink:href=\"#m6b11374e2d\" y=\"313.989422\"/>\n     <use style=\"fill:#4c72b0;stroke:#ffffff;stroke-width:0.48;\" x=\"264.878665\" xlink:href=\"#m6b11374e2d\" y=\"360.924402\"/>\n     <use style=\"fill:#4c72b0;stroke:#ffffff;stroke-width:0.48;\" x=\"264.878665\" xlink:href=\"#m6b11374e2d\" y=\"348.86771\"/>\n     <use style=\"fill:#4c72b0;stroke:#ffffff;stroke-width:0.48;\" x=\"264.878665\" xlink:href=\"#m6b11374e2d\" y=\"297.626768\"/>\n     <use style=\"fill:#4c72b0;stroke:#ffffff;stroke-width:0.48;\" x=\"264.878665\" xlink:href=\"#m6b11374e2d\" y=\"330.782672\"/>\n     <use style=\"fill:#4c72b0;stroke:#ffffff;stroke-width:0.48;\" x=\"264.878665\" xlink:href=\"#m6b11374e2d\" y=\"333.366249\"/>\n     <use style=\"fill:#4c72b0;stroke:#ffffff;stroke-width:0.48;\" x=\"264.878665\" xlink:href=\"#m6b11374e2d\" y=\"221.05242\"/>\n     <use style=\"fill:#4c72b0;stroke:#ffffff;stroke-width:0.48;\" x=\"443.51694\" xlink:href=\"#m6b11374e2d\" y=\"326.907306\"/>\n     <use style=\"fill:#4c72b0;stroke:#ffffff;stroke-width:0.48;\" x=\"86.24039\" xlink:href=\"#m6b11374e2d\" y=\"172.610353\"/>\n     <use style=\"fill:#4c72b0;stroke:#ffffff;stroke-width:0.48;\" x=\"264.878665\" xlink:href=\"#m6b11374e2d\" y=\"315.711806\"/>\n     <use style=\"fill:#4c72b0;stroke:#ffffff;stroke-width:0.48;\" x=\"86.24039\" xlink:href=\"#m6b11374e2d\" y=\"250.83532\"/>\n     <use style=\"fill:#4c72b0;stroke:#ffffff;stroke-width:0.48;\" x=\"86.24039\" xlink:href=\"#m6b11374e2d\" y=\"289.588973\"/>\n     <use style=\"fill:#4c72b0;stroke:#ffffff;stroke-width:0.48;\" x=\"264.878665\" xlink:href=\"#m6b11374e2d\" y=\"353.173671\"/>\n     <use style=\"fill:#4c72b0;stroke:#ffffff;stroke-width:0.48;\" x=\"264.878665\" xlink:href=\"#m6b11374e2d\" y=\"342.839364\"/>\n     <use style=\"fill:#4c72b0;stroke:#ffffff;stroke-width:0.48;\" x=\"264.878665\" xlink:href=\"#m6b11374e2d\" y=\"341.978172\"/>\n     <use style=\"fill:#4c72b0;stroke:#ffffff;stroke-width:0.48;\" x=\"443.51694\" xlink:href=\"#m6b11374e2d\" y=\"313.989422\"/>\n     <use style=\"fill:#4c72b0;stroke:#ffffff;stroke-width:0.48;\" x=\"264.878665\" xlink:href=\"#m6b11374e2d\" y=\"332.935652\"/>\n     <use style=\"fill:#4c72b0;stroke:#ffffff;stroke-width:0.48;\" x=\"86.24039\" xlink:href=\"#m6b11374e2d\" y=\"217.464118\"/>\n     <use style=\"fill:#4c72b0;stroke:#ffffff;stroke-width:0.48;\" x=\"86.24039\" xlink:href=\"#m6b11374e2d\" y=\"202.034423\"/>\n     <use style=\"fill:#4c72b0;stroke:#ffffff;stroke-width:0.48;\" x=\"443.51694\" xlink:href=\"#m6b11374e2d\" y=\"324.754326\"/>\n     <use style=\"fill:#4c72b0;stroke:#ffffff;stroke-width:0.48;\" x=\"86.24039\" xlink:href=\"#m6b11374e2d\" y=\"298.057364\"/>\n     <use style=\"fill:#4c72b0;stroke:#ffffff;stroke-width:0.48;\" x=\"264.878665\" xlink:href=\"#m6b11374e2d\" y=\"297.196172\"/>\n     <use style=\"fill:#4c72b0;stroke:#ffffff;stroke-width:0.48;\" x=\"86.24039\" xlink:href=\"#m6b11374e2d\" y=\"301.93273\"/>\n     <use style=\"fill:#4c72b0;stroke:#ffffff;stroke-width:0.48;\" x=\"86.24039\" xlink:href=\"#m6b11374e2d\" y=\"226.434872\"/>\n     <use style=\"fill:#4c72b0;stroke:#ffffff;stroke-width:0.48;\" x=\"86.24039\" xlink:href=\"#m6b11374e2d\" y=\"265.332057\"/>\n     <use style=\"fill:#4c72b0;stroke:#ffffff;stroke-width:0.48;\" x=\"443.51694\" xlink:href=\"#m6b11374e2d\" y=\"311.836441\"/>\n     <use style=\"fill:#4c72b0;stroke:#ffffff;stroke-width:0.48;\" x=\"264.878665\" xlink:href=\"#m6b11374e2d\" y=\"338.533402\"/>\n     <use style=\"fill:#4c72b0;stroke:#ffffff;stroke-width:0.48;\" x=\"264.878665\" xlink:href=\"#m6b11374e2d\" y=\"341.116979\"/>\n     <use style=\"fill:#4c72b0;stroke:#ffffff;stroke-width:0.48;\" x=\"264.878665\" xlink:href=\"#m6b11374e2d\" y=\"336.380422\"/>\n     <use style=\"fill:#4c72b0;stroke:#ffffff;stroke-width:0.48;\" x=\"264.878665\" xlink:href=\"#m6b11374e2d\" y=\"344.131152\"/>\n     <use style=\"fill:#4c72b0;stroke:#ffffff;stroke-width:0.48;\" x=\"264.878665\" xlink:href=\"#m6b11374e2d\" y=\"335.949825\"/>\n     <use style=\"fill:#4c72b0;stroke:#ffffff;stroke-width:0.48;\" x=\"264.878665\" xlink:href=\"#m6b11374e2d\" y=\"345.853537\"/>\n     <use style=\"fill:#4c72b0;stroke:#ffffff;stroke-width:0.48;\" x=\"264.878665\" xlink:href=\"#m6b11374e2d\" y=\"342.408768\"/>\n     <use style=\"fill:#4c72b0;stroke:#ffffff;stroke-width:0.48;\" x=\"264.878665\" xlink:href=\"#m6b11374e2d\" y=\"319.587172\"/>\n     <use style=\"fill:#4c72b0;stroke:#ffffff;stroke-width:0.48;\" x=\"264.878665\" xlink:href=\"#m6b11374e2d\" y=\"336.811018\"/>\n     <use style=\"fill:#4c72b0;stroke:#ffffff;stroke-width:0.48;\" x=\"264.878665\" xlink:href=\"#m6b11374e2d\" y=\"322.601345\"/>\n     <use style=\"fill:#4c72b0;stroke:#ffffff;stroke-width:0.48;\" x=\"264.878665\" xlink:href=\"#m6b11374e2d\" y=\"348.86771\"/>\n     <use style=\"fill:#4c72b0;stroke:#ffffff;stroke-width:0.48;\" x=\"443.51694\" xlink:href=\"#m6b11374e2d\" y=\"311.836441\"/>\n     <use style=\"fill:#4c72b0;stroke:#ffffff;stroke-width:0.48;\" x=\"264.878665\" xlink:href=\"#m6b11374e2d\" y=\"338.963999\"/>\n     <use style=\"fill:#4c72b0;stroke:#ffffff;stroke-width:0.48;\" x=\"443.51694\" xlink:href=\"#m6b11374e2d\" y=\"324.754326\"/>\n     <use style=\"fill:#4c72b0;stroke:#ffffff;stroke-width:0.48;\" x=\"264.878665\" xlink:href=\"#m6b11374e2d\" y=\"324.754326\"/>\n     <use style=\"fill:#4c72b0;stroke:#ffffff;stroke-width:0.48;\" x=\"86.24039\" xlink:href=\"#m6b11374e2d\" y=\"269.494486\"/>\n     <use style=\"fill:#4c72b0;stroke:#ffffff;stroke-width:0.48;\" x=\"264.878665\" xlink:href=\"#m6b11374e2d\" y=\"313.989422\"/>\n     <use style=\"fill:#4c72b0;stroke:#ffffff;stroke-width:0.48;\" x=\"264.878665\" xlink:href=\"#m6b11374e2d\" y=\"337.67221\"/>\n     <use style=\"fill:#4c72b0;stroke:#ffffff;stroke-width:0.48;\" x=\"264.878665\" xlink:href=\"#m6b11374e2d\" y=\"284.206522\"/>\n     <use style=\"fill:#4c72b0;stroke:#ffffff;stroke-width:0.48;\" x=\"264.878665\" xlink:href=\"#m6b11374e2d\" y=\"348.437114\"/>\n     <use style=\"fill:#4c72b0;stroke:#ffffff;stroke-width:0.48;\" x=\"264.878665\" xlink:href=\"#m6b11374e2d\" y=\"339.394595\"/>\n     <use style=\"fill:#4c72b0;stroke:#ffffff;stroke-width:0.48;\" x=\"264.878665\" xlink:href=\"#m6b11374e2d\" y=\"351.881883\"/>\n     <use style=\"fill:#4c72b0;stroke:#ffffff;stroke-width:0.48;\" x=\"264.878665\" xlink:href=\"#m6b11374e2d\" y=\"327.337902\"/>\n     <use style=\"fill:#4c72b0;stroke:#ffffff;stroke-width:0.48;\" x=\"264.878665\" xlink:href=\"#m6b11374e2d\" y=\"313.989422\"/>\n     <use style=\"fill:#4c72b0;stroke:#ffffff;stroke-width:0.48;\" x=\"264.878665\" xlink:href=\"#m6b11374e2d\" y=\"333.366249\"/>\n     <use style=\"fill:#4c72b0;stroke:#ffffff;stroke-width:0.48;\" x=\"264.878665\" xlink:href=\"#m6b11374e2d\" y=\"333.366249\"/>\n     <use style=\"fill:#4c72b0;stroke:#ffffff;stroke-width:0.48;\" x=\"86.24039\" xlink:href=\"#m6b11374e2d\" y=\"273.082788\"/>\n     <use style=\"fill:#4c72b0;stroke:#ffffff;stroke-width:0.48;\" x=\"264.878665\" xlink:href=\"#m6b11374e2d\" y=\"288.412011\"/>\n     <use style=\"fill:#4c72b0;stroke:#ffffff;stroke-width:0.48;\" x=\"264.878665\" xlink:href=\"#m6b11374e2d\" y=\"349.728902\"/>\n     <use style=\"fill:#4c72b0;stroke:#ffffff;stroke-width:0.48;\" x=\"264.878665\" xlink:href=\"#m6b11374e2d\" y=\"349.728902\"/>\n     <use style=\"fill:#4c72b0;stroke:#ffffff;stroke-width:0.48;\" x=\"264.878665\" xlink:href=\"#m6b11374e2d\" y=\"348.437114\"/>\n     <use style=\"fill:#4c72b0;stroke:#ffffff;stroke-width:0.48;\" x=\"264.878665\" xlink:href=\"#m6b11374e2d\" y=\"339.825191\"/>\n     <use style=\"fill:#4c72b0;stroke:#ffffff;stroke-width:0.48;\" x=\"264.878665\" xlink:href=\"#m6b11374e2d\" y=\"329.318645\"/>\n     <use style=\"fill:#4c72b0;stroke:#ffffff;stroke-width:0.48;\" x=\"264.878665\" xlink:href=\"#m6b11374e2d\" y=\"364.799767\"/>\n     <use style=\"fill:#4c72b0;stroke:#ffffff;stroke-width:0.48;\" x=\"443.51694\" xlink:href=\"#m6b11374e2d\" y=\"328.199095\"/>\n     <use style=\"fill:#4c72b0;stroke:#ffffff;stroke-width:0.48;\" x=\"264.878665\" xlink:href=\"#m6b11374e2d\" y=\"336.380422\"/>\n     <use style=\"fill:#4c72b0;stroke:#ffffff;stroke-width:0.48;\" x=\"86.24039\" xlink:href=\"#m6b11374e2d\" y=\"255.141281\"/>\n     <use style=\"fill:#4c72b0;stroke:#ffffff;stroke-width:0.48;\" x=\"86.24039\" xlink:href=\"#m6b11374e2d\" y=\"233.611474\"/>\n     <use style=\"fill:#4c72b0;stroke:#ffffff;stroke-width:0.48;\" x=\"264.878665\" xlink:href=\"#m6b11374e2d\" y=\"334.658037\"/>\n     <use style=\"fill:#4c72b0;stroke:#ffffff;stroke-width:0.48;\" x=\"264.878665\" xlink:href=\"#m6b11374e2d\" y=\"342.839364\"/>\n     <use style=\"fill:#4c72b0;stroke:#ffffff;stroke-width:0.48;\" x=\"264.878665\" xlink:href=\"#m6b11374e2d\" y=\"318.295383\"/>\n     <use style=\"fill:#4c72b0;stroke:#ffffff;stroke-width:0.48;\" x=\"264.878665\" xlink:href=\"#m6b11374e2d\" y=\"306.669287\"/>\n     <use style=\"fill:#4c72b0;stroke:#ffffff;stroke-width:0.48;\" x=\"264.878665\" xlink:href=\"#m6b11374e2d\" y=\"342.839364\"/>\n     <use style=\"fill:#4c72b0;stroke:#ffffff;stroke-width:0.48;\" x=\"443.51694\" xlink:href=\"#m6b11374e2d\" y=\"321.309556\"/>\n     <use style=\"fill:#4c72b0;stroke:#ffffff;stroke-width:0.48;\" x=\"86.24039\" xlink:href=\"#m6b11374e2d\" y=\"277.388749\"/>\n     <use style=\"fill:#4c72b0;stroke:#ffffff;stroke-width:0.48;\" x=\"264.878665\" xlink:href=\"#m6b11374e2d\" y=\"338.102806\"/>\n     <use style=\"fill:#4c72b0;stroke:#ffffff;stroke-width:0.48;\" x=\"264.878665\" xlink:href=\"#m6b11374e2d\" y=\"367.383344\"/>\n     <use style=\"fill:#4c72b0;stroke:#ffffff;stroke-width:0.48;\" x=\"264.878665\" xlink:href=\"#m6b11374e2d\" y=\"344.992345\"/>\n     <use style=\"fill:#4c72b0;stroke:#ffffff;stroke-width:0.48;\" x=\"264.878665\" xlink:href=\"#m6b11374e2d\" y=\"350.590095\"/>\n     <use style=\"fill:#4c72b0;stroke:#ffffff;stroke-width:0.48;\" x=\"86.24039\" xlink:href=\"#m6b11374e2d\" y=\"242.510461\"/>\n     <use style=\"fill:#4c72b0;stroke:#ffffff;stroke-width:0.48;\" x=\"264.878665\" xlink:href=\"#m6b11374e2d\" y=\"342.839364\"/>\n     <use style=\"fill:#4c72b0;stroke:#ffffff;stroke-width:0.48;\" x=\"86.24039\" xlink:href=\"#m6b11374e2d\" y=\"115.915193\"/>\n     <use style=\"fill:#4c72b0;stroke:#ffffff;stroke-width:0.48;\" x=\"264.878665\" xlink:href=\"#m6b11374e2d\" y=\"310.544653\"/>\n     <use style=\"fill:#4c72b0;stroke:#ffffff;stroke-width:0.48;\" x=\"264.878665\" xlink:href=\"#m6b11374e2d\" y=\"349.298306\"/>\n     <use style=\"fill:#4c72b0;stroke:#ffffff;stroke-width:0.48;\" x=\"264.878665\" xlink:href=\"#m6b11374e2d\" y=\"347.145325\"/>\n     <use style=\"fill:#4c72b0;stroke:#ffffff;stroke-width:0.48;\" x=\"264.878665\" xlink:href=\"#m6b11374e2d\" y=\"346.714729\"/>\n     <use style=\"fill:#4c72b0;stroke:#ffffff;stroke-width:0.48;\" x=\"86.24039\" xlink:href=\"#m6b11374e2d\" y=\"250.11766\"/>\n     <use style=\"fill:#4c72b0;stroke:#ffffff;stroke-width:0.48;\" x=\"264.878665\" xlink:href=\"#m6b11374e2d\" y=\"329.490883\"/>\n     <use style=\"fill:#4c72b0;stroke:#ffffff;stroke-width:0.48;\" x=\"264.878665\" xlink:href=\"#m6b11374e2d\" y=\"304.946903\"/>\n     <use style=\"fill:#4c72b0;stroke:#ffffff;stroke-width:0.48;\" x=\"264.878665\" xlink:href=\"#m6b11374e2d\" y=\"332.935652\"/>\n     <use style=\"fill:#4c72b0;stroke:#ffffff;stroke-width:0.48;\" x=\"264.878665\" xlink:href=\"#m6b11374e2d\" y=\"352.312479\"/>\n     <use style=\"fill:#4c72b0;stroke:#ffffff;stroke-width:0.48;\" x=\"443.51694\" xlink:href=\"#m6b11374e2d\" y=\"323.462537\"/>\n     <use style=\"fill:#4c72b0;stroke:#ffffff;stroke-width:0.48;\" x=\"264.878665\" xlink:href=\"#m6b11374e2d\" y=\"354.034864\"/>\n     <use style=\"fill:#4c72b0;stroke:#ffffff;stroke-width:0.48;\" x=\"264.878665\" xlink:href=\"#m6b11374e2d\" y=\"338.533402\"/>\n     <use style=\"fill:#4c72b0;stroke:#ffffff;stroke-width:0.48;\" x=\"264.878665\" xlink:href=\"#m6b11374e2d\" y=\"331.643864\"/>\n     <use style=\"fill:#4c72b0;stroke:#ffffff;stroke-width:0.48;\" x=\"264.878665\" xlink:href=\"#m6b11374e2d\" y=\"362.216191\"/>\n     <use style=\"fill:#4c72b0;stroke:#ffffff;stroke-width:0.48;\" x=\"264.878665\" xlink:href=\"#m6b11374e2d\" y=\"345.422941\"/>\n     <use style=\"fill:#4c72b0;stroke:#ffffff;stroke-width:0.48;\" x=\"264.878665\" xlink:href=\"#m6b11374e2d\" y=\"355.757248\"/>\n     <use style=\"fill:#4c72b0;stroke:#ffffff;stroke-width:0.48;\" x=\"264.878665\" xlink:href=\"#m6b11374e2d\" y=\"328.629691\"/>\n     <use style=\"fill:#4c72b0;stroke:#ffffff;stroke-width:0.48;\" x=\"264.878665\" xlink:href=\"#m6b11374e2d\" y=\"330.352076\"/>\n     <use style=\"fill:#4c72b0;stroke:#ffffff;stroke-width:0.48;\" x=\"264.878665\" xlink:href=\"#m6b11374e2d\" y=\"364.369171\"/>\n     <use style=\"fill:#4c72b0;stroke:#ffffff;stroke-width:0.48;\" x=\"264.878665\" xlink:href=\"#m6b11374e2d\" y=\"310.544653\"/>\n     <use style=\"fill:#4c72b0;stroke:#ffffff;stroke-width:0.48;\" x=\"264.878665\" xlink:href=\"#m6b11374e2d\" y=\"363.077383\"/>\n     <use style=\"fill:#4c72b0;stroke:#ffffff;stroke-width:0.48;\" x=\"264.878665\" xlink:href=\"#m6b11374e2d\" y=\"351.451287\"/>\n     <use style=\"fill:#4c72b0;stroke:#ffffff;stroke-width:0.48;\" x=\"264.878665\" xlink:href=\"#m6b11374e2d\" y=\"341.978172\"/>\n     <use style=\"fill:#4c72b0;stroke:#ffffff;stroke-width:0.48;\" x=\"264.878665\" xlink:href=\"#m6b11374e2d\" y=\"364.369171\"/>\n     <use style=\"fill:#4c72b0;stroke:#ffffff;stroke-width:0.48;\" x=\"264.878665\" xlink:href=\"#m6b11374e2d\" y=\"338.102806\"/>\n     <use style=\"fill:#4c72b0;stroke:#ffffff;stroke-width:0.48;\" x=\"264.878665\" xlink:href=\"#m6b11374e2d\" y=\"332.505056\"/>\n     <use style=\"fill:#4c72b0;stroke:#ffffff;stroke-width:0.48;\" x=\"264.878665\" xlink:href=\"#m6b11374e2d\" y=\"307.961076\"/>\n     <use style=\"fill:#4c72b0;stroke:#ffffff;stroke-width:0.48;\" x=\"86.24039\" xlink:href=\"#m6b11374e2d\" y=\"246.170528\"/>\n     <use style=\"fill:#4c72b0;stroke:#ffffff;stroke-width:0.48;\" x=\"264.878665\" xlink:href=\"#m6b11374e2d\" y=\"351.881883\"/>\n     <use style=\"fill:#4c72b0;stroke:#ffffff;stroke-width:0.48;\" x=\"264.878665\" xlink:href=\"#m6b11374e2d\" y=\"348.437114\"/>\n     <use style=\"fill:#4c72b0;stroke:#ffffff;stroke-width:0.48;\" x=\"264.878665\" xlink:href=\"#m6b11374e2d\" y=\"328.629691\"/>\n     <use style=\"fill:#4c72b0;stroke:#ffffff;stroke-width:0.48;\" x=\"264.878665\" xlink:href=\"#m6b11374e2d\" y=\"334.227441\"/>\n     <use style=\"fill:#4c72b0;stroke:#ffffff;stroke-width:0.48;\" x=\"264.878665\" xlink:href=\"#m6b11374e2d\" y=\"327.337902\"/>\n     <use style=\"fill:#4c72b0;stroke:#ffffff;stroke-width:0.48;\" x=\"264.878665\" xlink:href=\"#m6b11374e2d\" y=\"340.255787\"/>\n     <use style=\"fill:#4c72b0;stroke:#ffffff;stroke-width:0.48;\" x=\"264.878665\" xlink:href=\"#m6b11374e2d\" y=\"367.813941\"/>\n     <use style=\"fill:#4c72b0;stroke:#ffffff;stroke-width:0.48;\" x=\"264.878665\" xlink:href=\"#m6b11374e2d\" y=\"356.618441\"/>\n     <use style=\"fill:#4c72b0;stroke:#ffffff;stroke-width:0.48;\" x=\"264.878665\" xlink:href=\"#m6b11374e2d\" y=\"352.743075\"/>\n     <use style=\"fill:#4c72b0;stroke:#ffffff;stroke-width:0.48;\" x=\"264.878665\" xlink:href=\"#m6b11374e2d\" y=\"335.519229\"/>\n     <use style=\"fill:#4c72b0;stroke:#ffffff;stroke-width:0.48;\" x=\"264.878665\" xlink:href=\"#m6b11374e2d\" y=\"344.131152\"/>\n     <use style=\"fill:#4c72b0;stroke:#ffffff;stroke-width:0.48;\" x=\"86.24039\" xlink:href=\"#m6b11374e2d\" y=\"187.681218\"/>\n     <use style=\"fill:#4c72b0;stroke:#ffffff;stroke-width:0.48;\" x=\"264.878665\" xlink:href=\"#m6b11374e2d\" y=\"353.173671\"/>\n     <use style=\"fill:#4c72b0;stroke:#ffffff;stroke-width:0.48;\" x=\"443.51694\" xlink:href=\"#m6b11374e2d\" y=\"326.907306\"/>\n     <use style=\"fill:#4c72b0;stroke:#ffffff;stroke-width:0.48;\" x=\"443.51694\" xlink:href=\"#m6b11374e2d\" y=\"331.213268\"/>\n     <use style=\"fill:#4c72b0;stroke:#ffffff;stroke-width:0.48;\" x=\"86.24039\" xlink:href=\"#m6b11374e2d\" y=\"226.434872\"/>\n     <use style=\"fill:#4c72b0;stroke:#ffffff;stroke-width:0.48;\" x=\"264.878665\" xlink:href=\"#m6b11374e2d\" y=\"326.47671\"/>\n     <use style=\"fill:#4c72b0;stroke:#ffffff;stroke-width:0.48;\" x=\"86.24039\" xlink:href=\"#m6b11374e2d\" y=\"221.05242\"/>\n     <use style=\"fill:#4c72b0;stroke:#ffffff;stroke-width:0.48;\" x=\"264.878665\" xlink:href=\"#m6b11374e2d\" y=\"343.700556\"/>\n     <use style=\"fill:#4c72b0;stroke:#ffffff;stroke-width:0.48;\" x=\"264.878665\" xlink:href=\"#m6b11374e2d\" y=\"342.839364\"/>\n     <use style=\"fill:#4c72b0;stroke:#ffffff;stroke-width:0.48;\" x=\"264.878665\" xlink:href=\"#m6b11374e2d\" y=\"351.020691\"/>\n     <use style=\"fill:#4c72b0;stroke:#ffffff;stroke-width:0.48;\" x=\"264.878665\" xlink:href=\"#m6b11374e2d\" y=\"332.935652\"/>\n     <use style=\"fill:#4c72b0;stroke:#ffffff;stroke-width:0.48;\" x=\"264.878665\" xlink:href=\"#m6b11374e2d\" y=\"329.490883\"/>\n     <use style=\"fill:#4c72b0;stroke:#ffffff;stroke-width:0.48;\" x=\"264.878665\" xlink:href=\"#m6b11374e2d\" y=\"348.006518\"/>\n     <use style=\"fill:#4c72b0;stroke:#ffffff;stroke-width:0.48;\" x=\"264.878665\" xlink:href=\"#m6b11374e2d\" y=\"353.173671\"/>\n     <use style=\"fill:#4c72b0;stroke:#ffffff;stroke-width:0.48;\" x=\"264.878665\" xlink:href=\"#m6b11374e2d\" y=\"347.145325\"/>\n     <use style=\"fill:#4c72b0;stroke:#ffffff;stroke-width:0.48;\" x=\"264.878665\" xlink:href=\"#m6b11374e2d\" y=\"325.184922\"/>\n     <use style=\"fill:#4c72b0;stroke:#ffffff;stroke-width:0.48;\" x=\"264.878665\" xlink:href=\"#m6b11374e2d\" y=\"354.46546\"/>\n     <use style=\"fill:#4c72b0;stroke:#ffffff;stroke-width:0.48;\" x=\"264.878665\" xlink:href=\"#m6b11374e2d\" y=\"344.561748\"/>\n     <use style=\"fill:#4c72b0;stroke:#ffffff;stroke-width:0.48;\" x=\"264.878665\" xlink:href=\"#m6b11374e2d\" y=\"347.575922\"/>\n     <use style=\"fill:#4c72b0;stroke:#ffffff;stroke-width:0.48;\" x=\"264.878665\" xlink:href=\"#m6b11374e2d\" y=\"353.604268\"/>\n     <use style=\"fill:#4c72b0;stroke:#ffffff;stroke-width:0.48;\" x=\"264.878665\" xlink:href=\"#m6b11374e2d\" y=\"351.881883\"/>\n     <use style=\"fill:#4c72b0;stroke:#ffffff;stroke-width:0.48;\" x=\"264.878665\" xlink:href=\"#m6b11374e2d\" y=\"343.26996\"/>\n     <use style=\"fill:#4c72b0;stroke:#ffffff;stroke-width:0.48;\" x=\"264.878665\" xlink:href=\"#m6b11374e2d\" y=\"356.618441\"/>\n     <use style=\"fill:#4c72b0;stroke:#ffffff;stroke-width:0.48;\" x=\"86.24039\" xlink:href=\"#m6b11374e2d\" y=\"240.788076\"/>\n     <use style=\"fill:#4c72b0;stroke:#ffffff;stroke-width:0.48;\" x=\"264.878665\" xlink:href=\"#m6b11374e2d\" y=\"326.046114\"/>\n     <use style=\"fill:#4c72b0;stroke:#ffffff;stroke-width:0.48;\" x=\"86.24039\" xlink:href=\"#m6b11374e2d\" y=\"237.199775\"/>\n     <use style=\"fill:#4c72b0;stroke:#ffffff;stroke-width:0.48;\" x=\"264.878665\" xlink:href=\"#m6b11374e2d\" y=\"309.68346\"/>\n     <use style=\"fill:#4c72b0;stroke:#ffffff;stroke-width:0.48;\" x=\"264.878665\" xlink:href=\"#m6b11374e2d\" y=\"340.686383\"/>\n     <use style=\"fill:#4c72b0;stroke:#ffffff;stroke-width:0.48;\" x=\"264.878665\" xlink:href=\"#m6b11374e2d\" y=\"366.522152\"/>\n     <use style=\"fill:#4c72b0;stroke:#ffffff;stroke-width:0.48;\" x=\"264.878665\" xlink:href=\"#m6b11374e2d\" y=\"347.575922\"/>\n     <use style=\"fill:#4c72b0;stroke:#ffffff;stroke-width:0.48;\" x=\"86.24039\" xlink:href=\"#m6b11374e2d\" y=\"288.153653\"/>\n     <use style=\"fill:#4c72b0;stroke:#ffffff;stroke-width:0.48;\" x=\"443.51694\" xlink:href=\"#m6b11374e2d\" y=\"326.046114\"/>\n     <use style=\"fill:#4c72b0;stroke:#ffffff;stroke-width:0.48;\" x=\"264.878665\" xlink:href=\"#m6b11374e2d\" y=\"321.309556\"/>\n     <use style=\"fill:#4c72b0;stroke:#ffffff;stroke-width:0.48;\" x=\"264.878665\" xlink:href=\"#m6b11374e2d\" y=\"311.836441\"/>\n     <use style=\"fill:#4c72b0;stroke:#ffffff;stroke-width:0.48;\" x=\"264.878665\" xlink:href=\"#m6b11374e2d\" y=\"304.516307\"/>\n     <use style=\"fill:#4c72b0;stroke:#ffffff;stroke-width:0.48;\" x=\"264.878665\" xlink:href=\"#m6b11374e2d\" y=\"323.462537\"/>\n     <use style=\"fill:#4c72b0;stroke:#ffffff;stroke-width:0.48;\" x=\"264.878665\" xlink:href=\"#m6b11374e2d\" y=\"328.629691\"/>\n     <use style=\"fill:#4c72b0;stroke:#ffffff;stroke-width:0.48;\" x=\"86.24039\" xlink:href=\"#m6b11374e2d\" y=\"212.081667\"/>\n     <use style=\"fill:#4c72b0;stroke:#ffffff;stroke-width:0.48;\" x=\"264.878665\" xlink:href=\"#m6b11374e2d\" y=\"315.711806\"/>\n     <use style=\"fill:#4c72b0;stroke:#ffffff;stroke-width:0.48;\" x=\"264.878665\" xlink:href=\"#m6b11374e2d\" y=\"335.088633\"/>\n     <use style=\"fill:#4c72b0;stroke:#ffffff;stroke-width:0.48;\" x=\"264.878665\" xlink:href=\"#m6b11374e2d\" y=\"349.298306\"/>\n     <use style=\"fill:#4c72b0;stroke:#ffffff;stroke-width:0.48;\" x=\"264.878665\" xlink:href=\"#m6b11374e2d\" y=\"323.031941\"/>\n     <use style=\"fill:#4c72b0;stroke:#ffffff;stroke-width:0.48;\" x=\"264.878665\" xlink:href=\"#m6b11374e2d\" y=\"353.173671\"/>\n     <use style=\"fill:#4c72b0;stroke:#ffffff;stroke-width:0.48;\" x=\"264.878665\" xlink:href=\"#m6b11374e2d\" y=\"317.434191\"/>\n     <use style=\"fill:#4c72b0;stroke:#ffffff;stroke-width:0.48;\" x=\"264.878665\" xlink:href=\"#m6b11374e2d\" y=\"337.67221\"/>\n     <use style=\"fill:#4c72b0;stroke:#ffffff;stroke-width:0.48;\" x=\"264.878665\" xlink:href=\"#m6b11374e2d\" y=\"321.309556\"/>\n     <use style=\"fill:#4c72b0;stroke:#ffffff;stroke-width:0.48;\" x=\"443.51694\" xlink:href=\"#m6b11374e2d\" y=\"326.907306\"/>\n     <use style=\"fill:#4c72b0;stroke:#ffffff;stroke-width:0.48;\" x=\"86.24039\" xlink:href=\"#m6b11374e2d\" y=\"222.84657\"/>\n     <use style=\"fill:#4c72b0;stroke:#ffffff;stroke-width:0.48;\" x=\"86.24039\" xlink:href=\"#m6b11374e2d\" y=\"165.43375\"/>\n     <use style=\"fill:#4c72b0;stroke:#ffffff;stroke-width:0.48;\" x=\"264.878665\" xlink:href=\"#m6b11374e2d\" y=\"324.754326\"/>\n     <use style=\"fill:#4c72b0;stroke:#ffffff;stroke-width:0.48;\" x=\"264.878665\" xlink:href=\"#m6b11374e2d\" y=\"316.745237\"/>\n     <use style=\"fill:#4c72b0;stroke:#ffffff;stroke-width:0.48;\" x=\"264.878665\" xlink:href=\"#m6b11374e2d\" y=\"312.697633\"/>\n     <use style=\"fill:#4c72b0;stroke:#ffffff;stroke-width:0.48;\" x=\"264.878665\" xlink:href=\"#m6b11374e2d\" y=\"297.196172\"/>\n     <use style=\"fill:#4c72b0;stroke:#ffffff;stroke-width:0.48;\" x=\"264.878665\" xlink:href=\"#m6b11374e2d\" y=\"326.132233\"/>\n     <use style=\"fill:#4c72b0;stroke:#ffffff;stroke-width:0.48;\" x=\"264.878665\" xlink:href=\"#m6b11374e2d\" y=\"337.67221\"/>\n     <use style=\"fill:#4c72b0;stroke:#ffffff;stroke-width:0.48;\" x=\"264.878665\" xlink:href=\"#m6b11374e2d\" y=\"320.017768\"/>\n     <use style=\"fill:#4c72b0;stroke:#ffffff;stroke-width:0.48;\" x=\"264.878665\" xlink:href=\"#m6b11374e2d\" y=\"354.46546\"/>\n     <use style=\"fill:#4c72b0;stroke:#ffffff;stroke-width:0.48;\" x=\"264.878665\" xlink:href=\"#m6b11374e2d\" y=\"343.700556\"/>\n     <use style=\"fill:#4c72b0;stroke:#ffffff;stroke-width:0.48;\" x=\"264.878665\" xlink:href=\"#m6b11374e2d\" y=\"344.561748\"/>\n     <use style=\"fill:#4c72b0;stroke:#ffffff;stroke-width:0.48;\" x=\"264.878665\" xlink:href=\"#m6b11374e2d\" y=\"327.768499\"/>\n     <use style=\"fill:#4c72b0;stroke:#ffffff;stroke-width:0.48;\" x=\"264.878665\" xlink:href=\"#m6b11374e2d\" y=\"351.020691\"/>\n     <use style=\"fill:#4c72b0;stroke:#ffffff;stroke-width:0.48;\" x=\"264.878665\" xlink:href=\"#m6b11374e2d\" y=\"342.839364\"/>\n     <use style=\"fill:#4c72b0;stroke:#ffffff;stroke-width:0.48;\" x=\"264.878665\" xlink:href=\"#m6b11374e2d\" y=\"332.505056\"/>\n     <use style=\"fill:#4c72b0;stroke:#ffffff;stroke-width:0.48;\" x=\"86.24039\" xlink:href=\"#m6b11374e2d\" y=\"125.962437\"/>\n     <use style=\"fill:#4c72b0;stroke:#ffffff;stroke-width:0.48;\" x=\"264.878665\" xlink:href=\"#m6b11374e2d\" y=\"272.365127\"/>\n     <use style=\"fill:#4c72b0;stroke:#ffffff;stroke-width:0.48;\" x=\"264.878665\" xlink:href=\"#m6b11374e2d\" y=\"366.091556\"/>\n     <use style=\"fill:#4c72b0;stroke:#ffffff;stroke-width:0.48;\" x=\"86.24039\" xlink:href=\"#m6b11374e2d\" y=\"212.081667\"/>\n     <use style=\"fill:#4c72b0;stroke:#ffffff;stroke-width:0.48;\" x=\"86.24039\" xlink:href=\"#m6b11374e2d\" y=\"255.141281\"/>\n     <use style=\"fill:#4c72b0;stroke:#ffffff;stroke-width:0.48;\" x=\"264.878665\" xlink:href=\"#m6b11374e2d\" y=\"331.213268\"/>\n     <use style=\"fill:#4c72b0;stroke:#ffffff;stroke-width:0.48;\" x=\"264.878665\" xlink:href=\"#m6b11374e2d\" y=\"330.352076\"/>\n     <use style=\"fill:#4c72b0;stroke:#ffffff;stroke-width:0.48;\" x=\"264.878665\" xlink:href=\"#m6b11374e2d\" y=\"342.839364\"/>\n     <use style=\"fill:#4c72b0;stroke:#ffffff;stroke-width:0.48;\" x=\"86.24039\" xlink:href=\"#m6b11374e2d\" y=\"152.874696\"/>\n     <use style=\"fill:#4c72b0;stroke:#ffffff;stroke-width:0.48;\" x=\"86.24039\" xlink:href=\"#m6b11374e2d\" y=\"287.723057\"/>\n     <use style=\"fill:#4c72b0;stroke:#ffffff;stroke-width:0.48;\" x=\"86.24039\" xlink:href=\"#m6b11374e2d\" y=\"197.728462\"/>\n     <use style=\"fill:#4c72b0;stroke:#ffffff;stroke-width:0.48;\" x=\"264.878665\" xlink:href=\"#m6b11374e2d\" y=\"322.170749\"/>\n     <use style=\"fill:#4c72b0;stroke:#ffffff;stroke-width:0.48;\" x=\"86.24039\" xlink:href=\"#m6b11374e2d\" y=\"235.405625\"/>\n     <use style=\"fill:#4c72b0;stroke:#ffffff;stroke-width:0.48;\" x=\"264.878665\" xlink:href=\"#m6b11374e2d\" y=\"350.590095\"/>\n     <use style=\"fill:#4c72b0;stroke:#ffffff;stroke-width:0.48;\" x=\"264.878665\" xlink:href=\"#m6b11374e2d\" y=\"348.437114\"/>\n     <use style=\"fill:#4c72b0;stroke:#ffffff;stroke-width:0.48;\" x=\"264.878665\" xlink:href=\"#m6b11374e2d\" y=\"351.020691\"/>\n     <use style=\"fill:#4c72b0;stroke:#ffffff;stroke-width:0.48;\" x=\"86.24039\" xlink:href=\"#m6b11374e2d\" y=\"314.24778\"/>\n     <use style=\"fill:#4c72b0;stroke:#ffffff;stroke-width:0.48;\" x=\"264.878665\" xlink:href=\"#m6b11374e2d\" y=\"353.604268\"/>\n     <use style=\"fill:#4c72b0;stroke:#ffffff;stroke-width:0.48;\" x=\"86.24039\" xlink:href=\"#m6b11374e2d\" y=\"276.527557\"/>\n     <use style=\"fill:#4c72b0;stroke:#ffffff;stroke-width:0.48;\" x=\"264.878665\" xlink:href=\"#m6b11374e2d\" y=\"315.711806\"/>\n     <use style=\"fill:#4c72b0;stroke:#ffffff;stroke-width:0.48;\" x=\"264.878665\" xlink:href=\"#m6b11374e2d\" y=\"345.853537\"/>\n     <use style=\"fill:#4c72b0;stroke:#ffffff;stroke-width:0.48;\" x=\"264.878665\" xlink:href=\"#m6b11374e2d\" y=\"318.72598\"/>\n     <use style=\"fill:#4c72b0;stroke:#ffffff;stroke-width:0.48;\" x=\"86.24039\" xlink:href=\"#m6b11374e2d\" y=\"252.988301\"/>\n     <use style=\"fill:#4c72b0;stroke:#ffffff;stroke-width:0.48;\" x=\"264.878665\" xlink:href=\"#m6b11374e2d\" y=\"340.686383\"/>\n     <use style=\"fill:#4c72b0;stroke:#ffffff;stroke-width:0.48;\" x=\"264.878665\" xlink:href=\"#m6b11374e2d\" y=\"337.67221\"/>\n     <use style=\"fill:#4c72b0;stroke:#ffffff;stroke-width:0.48;\" x=\"264.878665\" xlink:href=\"#m6b11374e2d\" y=\"337.241614\"/>\n     <use style=\"fill:#4c72b0;stroke:#ffffff;stroke-width:0.48;\" x=\"264.878665\" xlink:href=\"#m6b11374e2d\" y=\"300.640941\"/>\n     <use style=\"fill:#4c72b0;stroke:#ffffff;stroke-width:0.48;\" x=\"264.878665\" xlink:href=\"#m6b11374e2d\" y=\"351.451287\"/>\n     <use style=\"fill:#4c72b0;stroke:#ffffff;stroke-width:0.48;\" x=\"264.878665\" xlink:href=\"#m6b11374e2d\" y=\"328.629691\"/>\n    </g>\n   </g>\n   <g id=\"patch_3\">\n    <path d=\"M 68.376563 384.930137 \nL 68.376563 8.373805 \n\" style=\"fill:none;stroke:#ffffff;stroke-linecap:square;stroke-linejoin:miter;stroke-width:1.25;\"/>\n   </g>\n   <g id=\"patch_4\">\n    <path d=\"M 68.376563 384.930137 \nL 461.380767 384.930137 \n\" style=\"fill:none;stroke:#ffffff;stroke-linecap:square;stroke-linejoin:miter;stroke-width:1.25;\"/>\n   </g>\n  </g>\n  <g id=\"axes_2\">\n   <g id=\"patch_5\">\n    <path d=\"M 469.861563 384.930137 \nL 862.865767 384.930137 \nL 862.865767 8.373805 \nL 469.861563 8.373805 \nz\n\" style=\"fill:#eaeaf2;\"/>\n   </g>\n   <g id=\"matplotlib.axis_3\">\n    <g id=\"xtick_4\">\n     <g id=\"line2d_11\">\n      <path clip-path=\"url(#p6dde74f412)\" d=\"M 487.72539 384.930137 \nL 487.72539 8.373805 \n\" style=\"fill:none;stroke:#ffffff;stroke-linecap:round;\"/>\n     </g>\n     <g id=\"text_13\">\n      <!-- Male -->\n      <g style=\"fill:#262626;\" transform=\"translate(475.804999 402.303731)scale(0.11 -0.11)\">\n       <defs>\n        <path d=\"M 409 0 \nL 409 4581 \nL 972 4581 \nL 972 0 \nL 409 0 \nz\n\" id=\"ArialMT-6c\" transform=\"scale(0.015625)\"/>\n       </defs>\n       <use xlink:href=\"#ArialMT-4d\"/>\n       <use x=\"83.300781\" xlink:href=\"#ArialMT-61\"/>\n       <use x=\"138.916016\" xlink:href=\"#ArialMT-6c\"/>\n       <use x=\"161.132812\" xlink:href=\"#ArialMT-65\"/>\n      </g>\n     </g>\n    </g>\n    <g id=\"xtick_5\">\n     <g id=\"line2d_12\">\n      <path clip-path=\"url(#p6dde74f412)\" d=\"M 845.00194 384.930137 \nL 845.00194 8.373805 \n\" style=\"fill:none;stroke:#ffffff;stroke-linecap:round;\"/>\n     </g>\n     <g id=\"text_14\">\n      <!-- Female -->\n      <g style=\"fill:#262626;\" transform=\"translate(826.663736 402.303731)scale(0.11 -0.11)\">\n       <defs>\n        <path d=\"M 525 0 \nL 525 4581 \nL 3616 4581 \nL 3616 4041 \nL 1131 4041 \nL 1131 2622 \nL 3281 2622 \nL 3281 2081 \nL 1131 2081 \nL 1131 0 \nL 525 0 \nz\n\" id=\"ArialMT-46\" transform=\"scale(0.015625)\"/>\n       </defs>\n       <use xlink:href=\"#ArialMT-46\"/>\n       <use x=\"61.083984\" xlink:href=\"#ArialMT-65\"/>\n       <use x=\"116.699219\" xlink:href=\"#ArialMT-6d\"/>\n       <use x=\"200\" xlink:href=\"#ArialMT-61\"/>\n       <use x=\"255.615234\" xlink:href=\"#ArialMT-6c\"/>\n       <use x=\"277.832031\" xlink:href=\"#ArialMT-65\"/>\n      </g>\n     </g>\n    </g>\n    <g id=\"text_15\">\n     <!-- GENDER_DENOTING -->\n     <g style=\"fill:#262626;\" transform=\"translate(605.689602 417.233106)scale(0.12 -0.12)\">\n      <use xlink:href=\"#ArialMT-47\"/>\n      <use x=\"77.783203\" xlink:href=\"#ArialMT-45\"/>\n      <use x=\"144.482422\" xlink:href=\"#ArialMT-4e\"/>\n      <use x=\"216.699219\" xlink:href=\"#ArialMT-44\"/>\n      <use x=\"288.916016\" xlink:href=\"#ArialMT-45\"/>\n      <use x=\"355.615234\" xlink:href=\"#ArialMT-52\"/>\n      <use x=\"427.832031\" xlink:href=\"#ArialMT-5f\"/>\n      <use x=\"483.447266\" xlink:href=\"#ArialMT-44\"/>\n      <use x=\"555.664062\" xlink:href=\"#ArialMT-45\"/>\n      <use x=\"622.363281\" xlink:href=\"#ArialMT-4e\"/>\n      <use x=\"694.580078\" xlink:href=\"#ArialMT-4f\"/>\n      <use x=\"772.363281\" xlink:href=\"#ArialMT-54\"/>\n      <use x=\"833.447266\" xlink:href=\"#ArialMT-49\"/>\n      <use x=\"861.230469\" xlink:href=\"#ArialMT-4e\"/>\n      <use x=\"933.447266\" xlink:href=\"#ArialMT-47\"/>\n     </g>\n    </g>\n   </g>\n   <g id=\"matplotlib.axis_4\">\n    <g id=\"ytick_8\">\n     <g id=\"line2d_13\">\n      <path clip-path=\"url(#p6dde74f412)\" d=\"M 469.861563 355.613716 \nL 862.865767 355.613716 \n\" style=\"fill:none;stroke:#ffffff;stroke-linecap:round;\"/>\n     </g>\n    </g>\n    <g id=\"ytick_9\">\n     <g id=\"line2d_14\">\n      <path clip-path=\"url(#p6dde74f412)\" d=\"M 469.861563 298.200896 \nL 862.865767 298.200896 \n\" style=\"fill:none;stroke:#ffffff;stroke-linecap:round;\"/>\n     </g>\n    </g>\n    <g id=\"ytick_10\">\n     <g id=\"line2d_15\">\n      <path clip-path=\"url(#p6dde74f412)\" d=\"M 469.861563 240.788076 \nL 862.865767 240.788076 \n\" style=\"fill:none;stroke:#ffffff;stroke-linecap:round;\"/>\n     </g>\n    </g>\n    <g id=\"ytick_11\">\n     <g id=\"line2d_16\">\n      <path clip-path=\"url(#p6dde74f412)\" d=\"M 469.861563 183.375257 \nL 862.865767 183.375257 \n\" style=\"fill:none;stroke:#ffffff;stroke-linecap:round;\"/>\n     </g>\n    </g>\n    <g id=\"ytick_12\">\n     <g id=\"line2d_17\">\n      <path clip-path=\"url(#p6dde74f412)\" d=\"M 469.861563 125.962437 \nL 862.865767 125.962437 \n\" style=\"fill:none;stroke:#ffffff;stroke-linecap:round;\"/>\n     </g>\n    </g>\n    <g id=\"ytick_13\">\n     <g id=\"line2d_18\">\n      <path clip-path=\"url(#p6dde74f412)\" d=\"M 469.861563 68.549617 \nL 862.865767 68.549617 \n\" style=\"fill:none;stroke:#ffffff;stroke-linecap:round;\"/>\n     </g>\n    </g>\n    <g id=\"ytick_14\">\n     <g id=\"line2d_19\">\n      <path clip-path=\"url(#p6dde74f412)\" d=\"M 469.861563 11.136797 \nL 862.865767 11.136797 \n\" style=\"fill:none;stroke:#ffffff;stroke-linecap:round;\"/>\n     </g>\n    </g>\n   </g>\n   <g id=\"PathCollection_2\">\n    <g clip-path=\"url(#p6dde74f412)\">\n     <use style=\"fill:#4c72b0;stroke:#ffffff;stroke-width:0.48;\" x=\"487.72539\" xlink:href=\"#m6b11374e2d\" y=\"249.399999\"/>\n     <use style=\"fill:#4c72b0;stroke:#ffffff;stroke-width:0.48;\" x=\"487.72539\" xlink:href=\"#m6b11374e2d\" y=\"297.626768\"/>\n     <use style=\"fill:#4c72b0;stroke:#ffffff;stroke-width:0.48;\" x=\"845.00194\" xlink:href=\"#m6b11374e2d\" y=\"351.451287\"/>\n     <use style=\"fill:#4c72b0;stroke:#ffffff;stroke-width:0.48;\" x=\"845.00194\" xlink:href=\"#m6b11374e2d\" y=\"350.159498\"/>\n     <use style=\"fill:#4c72b0;stroke:#ffffff;stroke-width:0.48;\" x=\"487.72539\" xlink:href=\"#m6b11374e2d\" y=\"283.847691\"/>\n     <use style=\"fill:#4c72b0;stroke:#ffffff;stroke-width:0.48;\" x=\"487.72539\" xlink:href=\"#m6b11374e2d\" y=\"320.87896\"/>\n     <use style=\"fill:#4c72b0;stroke:#ffffff;stroke-width:0.48;\" x=\"487.72539\" xlink:href=\"#m6b11374e2d\" y=\"309.68346\"/>\n     <use style=\"fill:#4c72b0;stroke:#ffffff;stroke-width:0.48;\" x=\"845.00194\" xlink:href=\"#m6b11374e2d\" y=\"350.159498\"/>\n     <use style=\"fill:#4c72b0;stroke:#ffffff;stroke-width:0.48;\" x=\"845.00194\" xlink:href=\"#m6b11374e2d\" y=\"332.935652\"/>\n     <use style=\"fill:#4c72b0;stroke:#ffffff;stroke-width:0.48;\" x=\"845.00194\" xlink:href=\"#m6b11374e2d\" y=\"344.131152\"/>\n     <use style=\"fill:#4c72b0;stroke:#ffffff;stroke-width:0.48;\" x=\"845.00194\" xlink:href=\"#m6b11374e2d\" y=\"326.046114\"/>\n     <use style=\"fill:#4c72b0;stroke:#ffffff;stroke-width:0.48;\" x=\"487.72539\" xlink:href=\"#m6b11374e2d\" y=\"331.643864\"/>\n     <use style=\"fill:#4c72b0;stroke:#ffffff;stroke-width:0.48;\" x=\"487.72539\" xlink:href=\"#m6b11374e2d\" y=\"333.366249\"/>\n     <use style=\"fill:#4c72b0;stroke:#ffffff;stroke-width:0.48;\" x=\"845.00194\" xlink:href=\"#m6b11374e2d\" y=\"312.267037\"/>\n     <use style=\"fill:#4c72b0;stroke:#ffffff;stroke-width:0.48;\" x=\"487.72539\" xlink:href=\"#m6b11374e2d\" y=\"334.658037\"/>\n     <use style=\"fill:#4c72b0;stroke:#ffffff;stroke-width:0.48;\" x=\"487.72539\" xlink:href=\"#m6b11374e2d\" y=\"295.904384\"/>\n     <use style=\"fill:#4c72b0;stroke:#ffffff;stroke-width:0.48;\" x=\"487.72539\" xlink:href=\"#m6b11374e2d\" y=\"280.97705\"/>\n     <use style=\"fill:#4c72b0;stroke:#ffffff;stroke-width:0.48;\" x=\"487.72539\" xlink:href=\"#m6b11374e2d\" y=\"115.197533\"/>\n     <use style=\"fill:#4c72b0;stroke:#ffffff;stroke-width:0.48;\" x=\"487.72539\" xlink:href=\"#m6b11374e2d\" y=\"291.598422\"/>\n     <use style=\"fill:#4c72b0;stroke:#ffffff;stroke-width:0.48;\" x=\"845.00194\" xlink:href=\"#m6b11374e2d\" y=\"337.67221\"/>\n     <use style=\"fill:#4c72b0;stroke:#ffffff;stroke-width:0.48;\" x=\"845.00194\" xlink:href=\"#m6b11374e2d\" y=\"301.502134\"/>\n     <use style=\"fill:#4c72b0;stroke:#ffffff;stroke-width:0.48;\" x=\"487.72539\" xlink:href=\"#m6b11374e2d\" y=\"350.590095\"/>\n     <use style=\"fill:#4c72b0;stroke:#ffffff;stroke-width:0.48;\" x=\"845.00194\" xlink:href=\"#m6b11374e2d\" y=\"344.131152\"/>\n     <use style=\"fill:#4c72b0;stroke:#ffffff;stroke-width:0.48;\" x=\"845.00194\" xlink:href=\"#m6b11374e2d\" y=\"364.369171\"/>\n     <use style=\"fill:#4c72b0;stroke:#ffffff;stroke-width:0.48;\" x=\"845.00194\" xlink:href=\"#m6b11374e2d\" y=\"352.312479\"/>\n     <use style=\"fill:#4c72b0;stroke:#ffffff;stroke-width:0.48;\" x=\"487.72539\" xlink:href=\"#m6b11374e2d\" y=\"323.893133\"/>\n     <use style=\"fill:#4c72b0;stroke:#ffffff;stroke-width:0.48;\" x=\"487.72539\" xlink:href=\"#m6b11374e2d\" y=\"239.711586\"/>\n     <use style=\"fill:#4c72b0;stroke:#ffffff;stroke-width:0.48;\" x=\"487.72539\" xlink:href=\"#m6b11374e2d\" y=\"319.587172\"/>\n     <use style=\"fill:#4c72b0;stroke:#ffffff;stroke-width:0.48;\" x=\"487.72539\" xlink:href=\"#m6b11374e2d\" y=\"25.490002\"/>\n     <use style=\"fill:#4c72b0;stroke:#ffffff;stroke-width:0.48;\" x=\"487.72539\" xlink:href=\"#m6b11374e2d\" y=\"323.462537\"/>\n     <use style=\"fill:#4c72b0;stroke:#ffffff;stroke-width:0.48;\" x=\"487.72539\" xlink:href=\"#m6b11374e2d\" y=\"309.252864\"/>\n     <use style=\"fill:#4c72b0;stroke:#ffffff;stroke-width:0.48;\" x=\"487.72539\" xlink:href=\"#m6b11374e2d\" y=\"95.461876\"/>\n     <use style=\"fill:#4c72b0;stroke:#ffffff;stroke-width:0.48;\" x=\"487.72539\" xlink:href=\"#m6b11374e2d\" y=\"292.459614\"/>\n     <use style=\"fill:#4c72b0;stroke:#ffffff;stroke-width:0.48;\" x=\"487.72539\" xlink:href=\"#m6b11374e2d\" y=\"148.927565\"/>\n     <use style=\"fill:#4c72b0;stroke:#ffffff;stroke-width:0.48;\" x=\"487.72539\" xlink:href=\"#m6b11374e2d\" y=\"179.786955\"/>\n     <use style=\"fill:#4c72b0;stroke:#ffffff;stroke-width:0.48;\" x=\"845.00194\" xlink:href=\"#m6b11374e2d\" y=\"323.031941\"/>\n     <use style=\"fill:#4c72b0;stroke:#ffffff;stroke-width:0.48;\" x=\"487.72539\" xlink:href=\"#m6b11374e2d\" y=\"329.490883\"/>\n     <use style=\"fill:#4c72b0;stroke:#ffffff;stroke-width:0.48;\" x=\"487.72539\" xlink:href=\"#m6b11374e2d\" y=\"323.031941\"/>\n     <use style=\"fill:#4c72b0;stroke:#ffffff;stroke-width:0.48;\" x=\"487.72539\" xlink:href=\"#m6b11374e2d\" y=\"309.68346\"/>\n     <use style=\"fill:#4c72b0;stroke:#ffffff;stroke-width:0.48;\" x=\"845.00194\" xlink:href=\"#m6b11374e2d\" y=\"357.910229\"/>\n     <use style=\"fill:#4c72b0;stroke:#ffffff;stroke-width:0.48;\" x=\"845.00194\" xlink:href=\"#m6b11374e2d\" y=\"345.422941\"/>\n     <use style=\"fill:#4c72b0;stroke:#ffffff;stroke-width:0.48;\" x=\"487.72539\" xlink:href=\"#m6b11374e2d\" y=\"312.267037\"/>\n     <use style=\"fill:#4c72b0;stroke:#ffffff;stroke-width:0.48;\" x=\"487.72539\" xlink:href=\"#m6b11374e2d\" y=\"346.284133\"/>\n     <use style=\"fill:#4c72b0;stroke:#ffffff;stroke-width:0.48;\" x=\"487.72539\" xlink:href=\"#m6b11374e2d\" y=\"329.060287\"/>\n     <use style=\"fill:#4c72b0;stroke:#ffffff;stroke-width:0.48;\" x=\"487.72539\" xlink:href=\"#m6b11374e2d\" y=\"324.754326\"/>\n     <use style=\"fill:#4c72b0;stroke:#ffffff;stroke-width:0.48;\" x=\"845.00194\" xlink:href=\"#m6b11374e2d\" y=\"348.86771\"/>\n     <use style=\"fill:#4c72b0;stroke:#ffffff;stroke-width:0.48;\" x=\"845.00194\" xlink:href=\"#m6b11374e2d\" y=\"326.907306\"/>\n     <use style=\"fill:#4c72b0;stroke:#ffffff;stroke-width:0.48;\" x=\"487.72539\" xlink:href=\"#m6b11374e2d\" y=\"324.754326\"/>\n     <use style=\"fill:#4c72b0;stroke:#ffffff;stroke-width:0.48;\" x=\"487.72539\" xlink:href=\"#m6b11374e2d\" y=\"313.12823\"/>\n     <use style=\"fill:#4c72b0;stroke:#ffffff;stroke-width:0.48;\" x=\"487.72539\" xlink:href=\"#m6b11374e2d\" y=\"240.788076\"/>\n     <use style=\"fill:#4c72b0;stroke:#ffffff;stroke-width:0.48;\" x=\"487.72539\" xlink:href=\"#m6b11374e2d\" y=\"310.975249\"/>\n     <use style=\"fill:#4c72b0;stroke:#ffffff;stroke-width:0.48;\" x=\"487.72539\" xlink:href=\"#m6b11374e2d\" y=\"283.417095\"/>\n     <use style=\"fill:#4c72b0;stroke:#ffffff;stroke-width:0.48;\" x=\"487.72539\" xlink:href=\"#m6b11374e2d\" y=\"201.316763\"/>\n     <use style=\"fill:#4c72b0;stroke:#ffffff;stroke-width:0.48;\" x=\"487.72539\" xlink:href=\"#m6b11374e2d\" y=\"341.116979\"/>\n     <use style=\"fill:#4c72b0;stroke:#ffffff;stroke-width:0.48;\" x=\"487.72539\" xlink:href=\"#m6b11374e2d\" y=\"335.519229\"/>\n     <use style=\"fill:#4c72b0;stroke:#ffffff;stroke-width:0.48;\" x=\"487.72539\" xlink:href=\"#m6b11374e2d\" y=\"335.949825\"/>\n     <use style=\"fill:#4c72b0;stroke:#ffffff;stroke-width:0.48;\" x=\"487.72539\" xlink:href=\"#m6b11374e2d\" y=\"315.711806\"/>\n     <use style=\"fill:#4c72b0;stroke:#ffffff;stroke-width:0.48;\" x=\"845.00194\" xlink:href=\"#m6b11374e2d\" y=\"337.241614\"/>\n     <use style=\"fill:#4c72b0;stroke:#ffffff;stroke-width:0.48;\" x=\"487.72539\" xlink:href=\"#m6b11374e2d\" y=\"332.505056\"/>\n     <use style=\"fill:#4c72b0;stroke:#ffffff;stroke-width:0.48;\" x=\"487.72539\" xlink:href=\"#m6b11374e2d\" y=\"324.323729\"/>\n     <use style=\"fill:#4c72b0;stroke:#ffffff;stroke-width:0.48;\" x=\"487.72539\" xlink:href=\"#m6b11374e2d\" y=\"348.437114\"/>\n     <use style=\"fill:#4c72b0;stroke:#ffffff;stroke-width:0.48;\" x=\"487.72539\" xlink:href=\"#m6b11374e2d\" y=\"275.235768\"/>\n     <use style=\"fill:#4c72b0;stroke:#ffffff;stroke-width:0.48;\" x=\"487.72539\" xlink:href=\"#m6b11374e2d\" y=\"255.141281\"/>\n     <use style=\"fill:#4c72b0;stroke:#ffffff;stroke-width:0.48;\" x=\"487.72539\" xlink:href=\"#m6b11374e2d\" y=\"260.523733\"/>\n     <use style=\"fill:#4c72b0;stroke:#ffffff;stroke-width:0.48;\" x=\"487.72539\" xlink:href=\"#m6b11374e2d\" y=\"350.159498\"/>\n     <use style=\"fill:#4c72b0;stroke:#ffffff;stroke-width:0.48;\" x=\"487.72539\" xlink:href=\"#m6b11374e2d\" y=\"188.757708\"/>\n     <use style=\"fill:#4c72b0;stroke:#ffffff;stroke-width:0.48;\" x=\"487.72539\" xlink:href=\"#m6b11374e2d\" y=\"280.97705\"/>\n     <use style=\"fill:#4c72b0;stroke:#ffffff;stroke-width:0.48;\" x=\"487.72539\" xlink:href=\"#m6b11374e2d\" y=\"283.130031\"/>\n     <use style=\"fill:#4c72b0;stroke:#ffffff;stroke-width:0.48;\" x=\"487.72539\" xlink:href=\"#m6b11374e2d\" y=\"250.691788\"/>\n     <use style=\"fill:#4c72b0;stroke:#ffffff;stroke-width:0.48;\" x=\"487.72539\" xlink:href=\"#m6b11374e2d\" y=\"295.043191\"/>\n     <use style=\"fill:#4c72b0;stroke:#ffffff;stroke-width:0.48;\" x=\"487.72539\" xlink:href=\"#m6b11374e2d\" y=\"176.198654\"/>\n     <use style=\"fill:#4c72b0;stroke:#ffffff;stroke-width:0.48;\" x=\"845.00194\" xlink:href=\"#m6b11374e2d\" y=\"258.011922\"/>\n     <use style=\"fill:#4c72b0;stroke:#ffffff;stroke-width:0.48;\" x=\"845.00194\" xlink:href=\"#m6b11374e2d\" y=\"337.241614\"/>\n     <use style=\"fill:#4c72b0;stroke:#ffffff;stroke-width:0.48;\" x=\"845.00194\" xlink:href=\"#m6b11374e2d\" y=\"315.711806\"/>\n     <use style=\"fill:#4c72b0;stroke:#ffffff;stroke-width:0.48;\" x=\"845.00194\" xlink:href=\"#m6b11374e2d\" y=\"343.700556\"/>\n     <use style=\"fill:#4c72b0;stroke:#ffffff;stroke-width:0.48;\" x=\"845.00194\" xlink:href=\"#m6b11374e2d\" y=\"329.060287\"/>\n     <use style=\"fill:#4c72b0;stroke:#ffffff;stroke-width:0.48;\" x=\"845.00194\" xlink:href=\"#m6b11374e2d\" y=\"333.796845\"/>\n     <use style=\"fill:#4c72b0;stroke:#ffffff;stroke-width:0.48;\" x=\"845.00194\" xlink:href=\"#m6b11374e2d\" y=\"347.145325\"/>\n     <use style=\"fill:#4c72b0;stroke:#ffffff;stroke-width:0.48;\" x=\"845.00194\" xlink:href=\"#m6b11374e2d\" y=\"313.12823\"/>\n     <use style=\"fill:#4c72b0;stroke:#ffffff;stroke-width:0.48;\" x=\"845.00194\" xlink:href=\"#m6b11374e2d\" y=\"266.623845\"/>\n     <use style=\"fill:#4c72b0;stroke:#ffffff;stroke-width:0.48;\" x=\"845.00194\" xlink:href=\"#m6b11374e2d\" y=\"343.26996\"/>\n     <use style=\"fill:#4c72b0;stroke:#ffffff;stroke-width:0.48;\" x=\"845.00194\" xlink:href=\"#m6b11374e2d\" y=\"341.978172\"/>\n     <use style=\"fill:#4c72b0;stroke:#ffffff;stroke-width:0.48;\" x=\"845.00194\" xlink:href=\"#m6b11374e2d\" y=\"347.145325\"/>\n     <use style=\"fill:#4c72b0;stroke:#ffffff;stroke-width:0.48;\" x=\"845.00194\" xlink:href=\"#m6b11374e2d\" y=\"341.116979\"/>\n     <use style=\"fill:#4c72b0;stroke:#ffffff;stroke-width:0.48;\" x=\"487.72539\" xlink:href=\"#m6b11374e2d\" y=\"338.533402\"/>\n     <use style=\"fill:#4c72b0;stroke:#ffffff;stroke-width:0.48;\" x=\"487.72539\" xlink:href=\"#m6b11374e2d\" y=\"322.170749\"/>\n     <use style=\"fill:#4c72b0;stroke:#ffffff;stroke-width:0.48;\" x=\"487.72539\" xlink:href=\"#m6b11374e2d\" y=\"343.700556\"/>\n     <use style=\"fill:#4c72b0;stroke:#ffffff;stroke-width:0.48;\" x=\"487.72539\" xlink:href=\"#m6b11374e2d\" y=\"204.905064\"/>\n     <use style=\"fill:#4c72b0;stroke:#ffffff;stroke-width:0.48;\" x=\"487.72539\" xlink:href=\"#m6b11374e2d\" y=\"215.669968\"/>\n     <use style=\"fill:#4c72b0;stroke:#ffffff;stroke-width:0.48;\" x=\"845.00194\" xlink:href=\"#m6b11374e2d\" y=\"366.522152\"/>\n     <use style=\"fill:#4c72b0;stroke:#ffffff;stroke-width:0.48;\" x=\"845.00194\" xlink:href=\"#m6b11374e2d\" y=\"355.326652\"/>\n     <use style=\"fill:#4c72b0;stroke:#ffffff;stroke-width:0.48;\" x=\"845.00194\" xlink:href=\"#m6b11374e2d\" y=\"344.131152\"/>\n     <use style=\"fill:#4c72b0;stroke:#ffffff;stroke-width:0.48;\" x=\"845.00194\" xlink:href=\"#m6b11374e2d\" y=\"338.533402\"/>\n     <use style=\"fill:#4c72b0;stroke:#ffffff;stroke-width:0.48;\" x=\"845.00194\" xlink:href=\"#m6b11374e2d\" y=\"342.408768\"/>\n     <use style=\"fill:#4c72b0;stroke:#ffffff;stroke-width:0.48;\" x=\"845.00194\" xlink:href=\"#m6b11374e2d\" y=\"331.213268\"/>\n     <use style=\"fill:#4c72b0;stroke:#ffffff;stroke-width:0.48;\" x=\"487.72539\" xlink:href=\"#m6b11374e2d\" y=\"324.754326\"/>\n     <use style=\"fill:#4c72b0;stroke:#ffffff;stroke-width:0.48;\" x=\"487.72539\" xlink:href=\"#m6b11374e2d\" y=\"297.626768\"/>\n     <use style=\"fill:#4c72b0;stroke:#ffffff;stroke-width:0.48;\" x=\"487.72539\" xlink:href=\"#m6b11374e2d\" y=\"326.907306\"/>\n     <use style=\"fill:#4c72b0;stroke:#ffffff;stroke-width:0.48;\" x=\"845.00194\" xlink:href=\"#m6b11374e2d\" y=\"349.728902\"/>\n     <use style=\"fill:#4c72b0;stroke:#ffffff;stroke-width:0.48;\" x=\"487.72539\" xlink:href=\"#m6b11374e2d\" y=\"188.398878\"/>\n     <use style=\"fill:#4c72b0;stroke:#ffffff;stroke-width:0.48;\" x=\"487.72539\" xlink:href=\"#m6b11374e2d\" y=\"238.993926\"/>\n     <use style=\"fill:#4c72b0;stroke:#ffffff;stroke-width:0.48;\" x=\"487.72539\" xlink:href=\"#m6b11374e2d\" y=\"298.48796\"/>\n     <use style=\"fill:#4c72b0;stroke:#ffffff;stroke-width:0.48;\" x=\"487.72539\" xlink:href=\"#m6b11374e2d\" y=\"134.57436\"/>\n     <use style=\"fill:#4c72b0;stroke:#ffffff;stroke-width:0.48;\" x=\"487.72539\" xlink:href=\"#m6b11374e2d\" y=\"334.227441\"/>\n     <use style=\"fill:#4c72b0;stroke:#ffffff;stroke-width:0.48;\" x=\"487.72539\" xlink:href=\"#m6b11374e2d\" y=\"322.170749\"/>\n     <use style=\"fill:#4c72b0;stroke:#ffffff;stroke-width:0.48;\" x=\"487.72539\" xlink:href=\"#m6b11374e2d\" y=\"151.080545\"/>\n     <use style=\"fill:#4c72b0;stroke:#ffffff;stroke-width:0.48;\" x=\"845.00194\" xlink:href=\"#m6b11374e2d\" y=\"340.686383\"/>\n     <use style=\"fill:#4c72b0;stroke:#ffffff;stroke-width:0.48;\" x=\"845.00194\" xlink:href=\"#m6b11374e2d\" y=\"352.743075\"/>\n     <use style=\"fill:#4c72b0;stroke:#ffffff;stroke-width:0.48;\" x=\"487.72539\" xlink:href=\"#m6b11374e2d\" y=\"325.615518\"/>\n     <use style=\"fill:#4c72b0;stroke:#ffffff;stroke-width:0.48;\" x=\"487.72539\" xlink:href=\"#m6b11374e2d\" y=\"331.643864\"/>\n     <use style=\"fill:#4c72b0;stroke:#ffffff;stroke-width:0.48;\" x=\"487.72539\" xlink:href=\"#m6b11374e2d\" y=\"324.754326\"/>\n     <use style=\"fill:#4c72b0;stroke:#ffffff;stroke-width:0.48;\" x=\"487.72539\" xlink:href=\"#m6b11374e2d\" y=\"324.754326\"/>\n     <use style=\"fill:#4c72b0;stroke:#ffffff;stroke-width:0.48;\" x=\"487.72539\" xlink:href=\"#m6b11374e2d\" y=\"255.500112\"/>\n     <use style=\"fill:#4c72b0;stroke:#ffffff;stroke-width:0.48;\" x=\"487.72539\" xlink:href=\"#m6b11374e2d\" y=\"304.516307\"/>\n     <use style=\"fill:#4c72b0;stroke:#ffffff;stroke-width:0.48;\" x=\"487.72539\" xlink:href=\"#m6b11374e2d\" y=\"317.003595\"/>\n     <use style=\"fill:#4c72b0;stroke:#ffffff;stroke-width:0.48;\" x=\"487.72539\" xlink:href=\"#m6b11374e2d\" y=\"326.046114\"/>\n     <use style=\"fill:#4c72b0;stroke:#ffffff;stroke-width:0.48;\" x=\"845.00194\" xlink:href=\"#m6b11374e2d\" y=\"322.601345\"/>\n     <use style=\"fill:#4c72b0;stroke:#ffffff;stroke-width:0.48;\" x=\"845.00194\" xlink:href=\"#m6b11374e2d\" y=\"322.170749\"/>\n     <use style=\"fill:#4c72b0;stroke:#ffffff;stroke-width:0.48;\" x=\"845.00194\" xlink:href=\"#m6b11374e2d\" y=\"340.686383\"/>\n     <use style=\"fill:#4c72b0;stroke:#ffffff;stroke-width:0.48;\" x=\"845.00194\" xlink:href=\"#m6b11374e2d\" y=\"304.516307\"/>\n     <use style=\"fill:#4c72b0;stroke:#ffffff;stroke-width:0.48;\" x=\"845.00194\" xlink:href=\"#m6b11374e2d\" y=\"359.202018\"/>\n     <use style=\"fill:#4c72b0;stroke:#ffffff;stroke-width:0.48;\" x=\"845.00194\" xlink:href=\"#m6b11374e2d\" y=\"319.587172\"/>\n     <use style=\"fill:#4c72b0;stroke:#ffffff;stroke-width:0.48;\" x=\"845.00194\" xlink:href=\"#m6b11374e2d\" y=\"317.434191\"/>\n     <use style=\"fill:#4c72b0;stroke:#ffffff;stroke-width:0.48;\" x=\"845.00194\" xlink:href=\"#m6b11374e2d\" y=\"302.363326\"/>\n     <use style=\"fill:#4c72b0;stroke:#ffffff;stroke-width:0.48;\" x=\"487.72539\" xlink:href=\"#m6b11374e2d\" y=\"334.227441\"/>\n     <use style=\"fill:#4c72b0;stroke:#ffffff;stroke-width:0.48;\" x=\"487.72539\" xlink:href=\"#m6b11374e2d\" y=\"343.26996\"/>\n     <use style=\"fill:#4c72b0;stroke:#ffffff;stroke-width:0.48;\" x=\"487.72539\" xlink:href=\"#m6b11374e2d\" y=\"324.754326\"/>\n     <use style=\"fill:#4c72b0;stroke:#ffffff;stroke-width:0.48;\" x=\"845.00194\" xlink:href=\"#m6b11374e2d\" y=\"356.618441\"/>\n     <use style=\"fill:#4c72b0;stroke:#ffffff;stroke-width:0.48;\" x=\"487.72539\" xlink:href=\"#m6b11374e2d\" y=\"215.669968\"/>\n     <use style=\"fill:#4c72b0;stroke:#ffffff;stroke-width:0.48;\" x=\"487.72539\" xlink:href=\"#m6b11374e2d\" y=\"242.582227\"/>\n     <use style=\"fill:#4c72b0;stroke:#ffffff;stroke-width:0.48;\" x=\"487.72539\" xlink:href=\"#m6b11374e2d\" y=\"322.601345\"/>\n     <use style=\"fill:#4c72b0;stroke:#ffffff;stroke-width:0.48;\" x=\"487.72539\" xlink:href=\"#m6b11374e2d\" y=\"334.658037\"/>\n     <use style=\"fill:#4c72b0;stroke:#ffffff;stroke-width:0.48;\" x=\"487.72539\" xlink:href=\"#m6b11374e2d\" y=\"335.519229\"/>\n     <use style=\"fill:#4c72b0;stroke:#ffffff;stroke-width:0.48;\" x=\"845.00194\" xlink:href=\"#m6b11374e2d\" y=\"293.751403\"/>\n     <use style=\"fill:#4c72b0;stroke:#ffffff;stroke-width:0.48;\" x=\"845.00194\" xlink:href=\"#m6b11374e2d\" y=\"337.67221\"/>\n     <use style=\"fill:#4c72b0;stroke:#ffffff;stroke-width:0.48;\" x=\"487.72539\" xlink:href=\"#m6b11374e2d\" y=\"349.298306\"/>\n     <use style=\"fill:#4c72b0;stroke:#ffffff;stroke-width:0.48;\" x=\"487.72539\" xlink:href=\"#m6b11374e2d\" y=\"226.434872\"/>\n     <use style=\"fill:#4c72b0;stroke:#ffffff;stroke-width:0.48;\" x=\"487.72539\" xlink:href=\"#m6b11374e2d\" y=\"324.323729\"/>\n     <use style=\"fill:#4c72b0;stroke:#ffffff;stroke-width:0.48;\" x=\"845.00194\" xlink:href=\"#m6b11374e2d\" y=\"355.326652\"/>\n     <use style=\"fill:#4c72b0;stroke:#ffffff;stroke-width:0.48;\" x=\"845.00194\" xlink:href=\"#m6b11374e2d\" y=\"348.86771\"/>\n     <use style=\"fill:#4c72b0;stroke:#ffffff;stroke-width:0.48;\" x=\"845.00194\" xlink:href=\"#m6b11374e2d\" y=\"310.975249\"/>\n     <use style=\"fill:#4c72b0;stroke:#ffffff;stroke-width:0.48;\" x=\"845.00194\" xlink:href=\"#m6b11374e2d\" y=\"331.213268\"/>\n     <use style=\"fill:#4c72b0;stroke:#ffffff;stroke-width:0.48;\" x=\"845.00194\" xlink:href=\"#m6b11374e2d\" y=\"342.839364\"/>\n     <use style=\"fill:#4c72b0;stroke:#ffffff;stroke-width:0.48;\" x=\"845.00194\" xlink:href=\"#m6b11374e2d\" y=\"365.230364\"/>\n     <use style=\"fill:#4c72b0;stroke:#ffffff;stroke-width:0.48;\" x=\"487.72539\" xlink:href=\"#m6b11374e2d\" y=\"336.380422\"/>\n     <use style=\"fill:#4c72b0;stroke:#ffffff;stroke-width:0.48;\" x=\"487.72539\" xlink:href=\"#m6b11374e2d\" y=\"286.861864\"/>\n     <use style=\"fill:#4c72b0;stroke:#ffffff;stroke-width:0.48;\" x=\"487.72539\" xlink:href=\"#m6b11374e2d\" y=\"344.992345\"/>\n     <use style=\"fill:#4c72b0;stroke:#ffffff;stroke-width:0.48;\" x=\"845.00194\" xlink:href=\"#m6b11374e2d\" y=\"336.811018\"/>\n     <use style=\"fill:#4c72b0;stroke:#ffffff;stroke-width:0.48;\" x=\"487.72539\" xlink:href=\"#m6b11374e2d\" y=\"333.796845\"/>\n     <use style=\"fill:#4c72b0;stroke:#ffffff;stroke-width:0.48;\" x=\"487.72539\" xlink:href=\"#m6b11374e2d\" y=\"338.963999\"/>\n     <use style=\"fill:#4c72b0;stroke:#ffffff;stroke-width:0.48;\" x=\"487.72539\" xlink:href=\"#m6b11374e2d\" y=\"291.598422\"/>\n     <use style=\"fill:#4c72b0;stroke:#ffffff;stroke-width:0.48;\" x=\"487.72539\" xlink:href=\"#m6b11374e2d\" y=\"324.754326\"/>\n     <use style=\"fill:#4c72b0;stroke:#ffffff;stroke-width:0.48;\" x=\"845.00194\" xlink:href=\"#m6b11374e2d\" y=\"336.380422\"/>\n     <use style=\"fill:#4c72b0;stroke:#ffffff;stroke-width:0.48;\" x=\"845.00194\" xlink:href=\"#m6b11374e2d\" y=\"353.173671\"/>\n     <use style=\"fill:#4c72b0;stroke:#ffffff;stroke-width:0.48;\" x=\"487.72539\" xlink:href=\"#m6b11374e2d\" y=\"311.836441\"/>\n     <use style=\"fill:#4c72b0;stroke:#ffffff;stroke-width:0.48;\" x=\"487.72539\" xlink:href=\"#m6b11374e2d\" y=\"336.380422\"/>\n     <use style=\"fill:#4c72b0;stroke:#ffffff;stroke-width:0.48;\" x=\"845.00194\" xlink:href=\"#m6b11374e2d\" y=\"336.811018\"/>\n     <use style=\"fill:#4c72b0;stroke:#ffffff;stroke-width:0.48;\" x=\"845.00194\" xlink:href=\"#m6b11374e2d\" y=\"333.366249\"/>\n     <use style=\"fill:#4c72b0;stroke:#ffffff;stroke-width:0.48;\" x=\"845.00194\" xlink:href=\"#m6b11374e2d\" y=\"341.116979\"/>\n     <use style=\"fill:#4c72b0;stroke:#ffffff;stroke-width:0.48;\" x=\"487.72539\" xlink:href=\"#m6b11374e2d\" y=\"223.564231\"/>\n     <use style=\"fill:#4c72b0;stroke:#ffffff;stroke-width:0.48;\" x=\"487.72539\" xlink:href=\"#m6b11374e2d\" y=\"261.887288\"/>\n     <use style=\"fill:#4c72b0;stroke:#ffffff;stroke-width:0.48;\" x=\"487.72539\" xlink:href=\"#m6b11374e2d\" y=\"282.053541\"/>\n     <use style=\"fill:#4c72b0;stroke:#ffffff;stroke-width:0.48;\" x=\"487.72539\" xlink:href=\"#m6b11374e2d\" y=\"324.323729\"/>\n     <use style=\"fill:#4c72b0;stroke:#ffffff;stroke-width:0.48;\" x=\"845.00194\" xlink:href=\"#m6b11374e2d\" y=\"328.629691\"/>\n     <use style=\"fill:#4c72b0;stroke:#ffffff;stroke-width:0.48;\" x=\"845.00194\" xlink:href=\"#m6b11374e2d\" y=\"317.434191\"/>\n     <use style=\"fill:#4c72b0;stroke:#ffffff;stroke-width:0.48;\" x=\"845.00194\" xlink:href=\"#m6b11374e2d\" y=\"350.159498\"/>\n     <use style=\"fill:#4c72b0;stroke:#ffffff;stroke-width:0.48;\" x=\"845.00194\" xlink:href=\"#m6b11374e2d\" y=\"360.924402\"/>\n     <use style=\"fill:#4c72b0;stroke:#ffffff;stroke-width:0.48;\" x=\"845.00194\" xlink:href=\"#m6b11374e2d\" y=\"278.46524\"/>\n     <use style=\"fill:#4c72b0;stroke:#ffffff;stroke-width:0.48;\" x=\"487.72539\" xlink:href=\"#m6b11374e2d\" y=\"339.825191\"/>\n     <use style=\"fill:#4c72b0;stroke:#ffffff;stroke-width:0.48;\" x=\"487.72539\" xlink:href=\"#m6b11374e2d\" y=\"336.811018\"/>\n     <use style=\"fill:#4c72b0;stroke:#ffffff;stroke-width:0.48;\" x=\"487.72539\" xlink:href=\"#m6b11374e2d\" y=\"336.380422\"/>\n     <use style=\"fill:#4c72b0;stroke:#ffffff;stroke-width:0.48;\" x=\"845.00194\" xlink:href=\"#m6b11374e2d\" y=\"327.337902\"/>\n     <use style=\"fill:#4c72b0;stroke:#ffffff;stroke-width:0.48;\" x=\"487.72539\" xlink:href=\"#m6b11374e2d\" y=\"214.234647\"/>\n     <use style=\"fill:#4c72b0;stroke:#ffffff;stroke-width:0.48;\" x=\"487.72539\" xlink:href=\"#m6b11374e2d\" y=\"321.309556\"/>\n     <use style=\"fill:#4c72b0;stroke:#ffffff;stroke-width:0.48;\" x=\"487.72539\" xlink:href=\"#m6b11374e2d\" y=\"337.67221\"/>\n     <use style=\"fill:#4c72b0;stroke:#ffffff;stroke-width:0.48;\" x=\"845.00194\" xlink:href=\"#m6b11374e2d\" y=\"310.544653\"/>\n     <use style=\"fill:#4c72b0;stroke:#ffffff;stroke-width:0.48;\" x=\"845.00194\" xlink:href=\"#m6b11374e2d\" y=\"331.213268\"/>\n     <use style=\"fill:#4c72b0;stroke:#ffffff;stroke-width:0.48;\" x=\"845.00194\" xlink:href=\"#m6b11374e2d\" y=\"363.938575\"/>\n     <use style=\"fill:#4c72b0;stroke:#ffffff;stroke-width:0.48;\" x=\"487.72539\" xlink:href=\"#m6b11374e2d\" y=\"340.686383\"/>\n     <use style=\"fill:#4c72b0;stroke:#ffffff;stroke-width:0.48;\" x=\"845.00194\" xlink:href=\"#m6b11374e2d\" y=\"344.131152\"/>\n     <use style=\"fill:#4c72b0;stroke:#ffffff;stroke-width:0.48;\" x=\"845.00194\" xlink:href=\"#m6b11374e2d\" y=\"334.227441\"/>\n     <use style=\"fill:#4c72b0;stroke:#ffffff;stroke-width:0.48;\" x=\"845.00194\" xlink:href=\"#m6b11374e2d\" y=\"360.06321\"/>\n     <use style=\"fill:#4c72b0;stroke:#ffffff;stroke-width:0.48;\" x=\"487.72539\" xlink:href=\"#m6b11374e2d\" y=\"300.210345\"/>\n     <use style=\"fill:#4c72b0;stroke:#ffffff;stroke-width:0.48;\" x=\"487.72539\" xlink:href=\"#m6b11374e2d\" y=\"301.502134\"/>\n     <use style=\"fill:#4c72b0;stroke:#ffffff;stroke-width:0.48;\" x=\"487.72539\" xlink:href=\"#m6b11374e2d\" y=\"324.754326\"/>\n     <use style=\"fill:#4c72b0;stroke:#ffffff;stroke-width:0.48;\" x=\"487.72539\" xlink:href=\"#m6b11374e2d\" y=\"305.377499\"/>\n     <use style=\"fill:#4c72b0;stroke:#ffffff;stroke-width:0.48;\" x=\"487.72539\" xlink:href=\"#m6b11374e2d\" y=\"244.376378\"/>\n     <use style=\"fill:#4c72b0;stroke:#ffffff;stroke-width:0.48;\" x=\"845.00194\" xlink:href=\"#m6b11374e2d\" y=\"313.989422\"/>\n     <use style=\"fill:#4c72b0;stroke:#ffffff;stroke-width:0.48;\" x=\"845.00194\" xlink:href=\"#m6b11374e2d\" y=\"309.68346\"/>\n     <use style=\"fill:#4c72b0;stroke:#ffffff;stroke-width:0.48;\" x=\"845.00194\" xlink:href=\"#m6b11374e2d\" y=\"329.490883\"/>\n     <use style=\"fill:#4c72b0;stroke:#ffffff;stroke-width:0.48;\" x=\"845.00194\" xlink:href=\"#m6b11374e2d\" y=\"365.66096\"/>\n     <use style=\"fill:#4c72b0;stroke:#ffffff;stroke-width:0.48;\" x=\"487.72539\" xlink:href=\"#m6b11374e2d\" y=\"356.618441\"/>\n     <use style=\"fill:#4c72b0;stroke:#ffffff;stroke-width:0.48;\" x=\"845.00194\" xlink:href=\"#m6b11374e2d\" y=\"341.978172\"/>\n     <use style=\"fill:#4c72b0;stroke:#ffffff;stroke-width:0.48;\" x=\"845.00194\" xlink:href=\"#m6b11374e2d\" y=\"335.088633\"/>\n     <use style=\"fill:#4c72b0;stroke:#ffffff;stroke-width:0.48;\" x=\"845.00194\" xlink:href=\"#m6b11374e2d\" y=\"337.241614\"/>\n     <use style=\"fill:#4c72b0;stroke:#ffffff;stroke-width:0.48;\" x=\"845.00194\" xlink:href=\"#m6b11374e2d\" y=\"346.714729\"/>\n     <use style=\"fill:#4c72b0;stroke:#ffffff;stroke-width:0.48;\" x=\"487.72539\" xlink:href=\"#m6b11374e2d\" y=\"255.428346\"/>\n     <use style=\"fill:#4c72b0;stroke:#ffffff;stroke-width:0.48;\" x=\"487.72539\" xlink:href=\"#m6b11374e2d\" y=\"209.569856\"/>\n     <use style=\"fill:#4c72b0;stroke:#ffffff;stroke-width:0.48;\" x=\"487.72539\" xlink:href=\"#m6b11374e2d\" y=\"265.906185\"/>\n     <use style=\"fill:#4c72b0;stroke:#ffffff;stroke-width:0.48;\" x=\"487.72539\" xlink:href=\"#m6b11374e2d\" y=\"219.258269\"/>\n     <use style=\"fill:#4c72b0;stroke:#ffffff;stroke-width:0.48;\" x=\"487.72539\" xlink:href=\"#m6b11374e2d\" y=\"328.801929\"/>\n     <use style=\"fill:#4c72b0;stroke:#ffffff;stroke-width:0.48;\" x=\"487.72539\" xlink:href=\"#m6b11374e2d\" y=\"299.349153\"/>\n     <use style=\"fill:#4c72b0;stroke:#ffffff;stroke-width:0.48;\" x=\"487.72539\" xlink:href=\"#m6b11374e2d\" y=\"329.490883\"/>\n     <use style=\"fill:#4c72b0;stroke:#ffffff;stroke-width:0.48;\" x=\"487.72539\" xlink:href=\"#m6b11374e2d\" y=\"317.864787\"/>\n     <use style=\"fill:#4c72b0;stroke:#ffffff;stroke-width:0.48;\" x=\"487.72539\" xlink:href=\"#m6b11374e2d\" y=\"221.41125\"/>\n     <use style=\"fill:#4c72b0;stroke:#ffffff;stroke-width:0.48;\" x=\"487.72539\" xlink:href=\"#m6b11374e2d\" y=\"316.142403\"/>\n     <use style=\"fill:#4c72b0;stroke:#ffffff;stroke-width:0.48;\" x=\"487.72539\" xlink:href=\"#m6b11374e2d\" y=\"334.658037\"/>\n     <use style=\"fill:#4c72b0;stroke:#ffffff;stroke-width:0.48;\" x=\"845.00194\" xlink:href=\"#m6b11374e2d\" y=\"344.131152\"/>\n     <use style=\"fill:#4c72b0;stroke:#ffffff;stroke-width:0.48;\" x=\"845.00194\" xlink:href=\"#m6b11374e2d\" y=\"356.187844\"/>\n     <use style=\"fill:#4c72b0;stroke:#ffffff;stroke-width:0.48;\" x=\"487.72539\" xlink:href=\"#m6b11374e2d\" y=\"325.184922\"/>\n     <use style=\"fill:#4c72b0;stroke:#ffffff;stroke-width:0.48;\" x=\"487.72539\" xlink:href=\"#m6b11374e2d\" y=\"329.921479\"/>\n     <use style=\"fill:#4c72b0;stroke:#ffffff;stroke-width:0.48;\" x=\"487.72539\" xlink:href=\"#m6b11374e2d\" y=\"302.793922\"/>\n     <use style=\"fill:#4c72b0;stroke:#ffffff;stroke-width:0.48;\" x=\"487.72539\" xlink:href=\"#m6b11374e2d\" y=\"324.754326\"/>\n     <use style=\"fill:#4c72b0;stroke:#ffffff;stroke-width:0.48;\" x=\"845.00194\" xlink:href=\"#m6b11374e2d\" y=\"354.46546\"/>\n     <use style=\"fill:#4c72b0;stroke:#ffffff;stroke-width:0.48;\" x=\"845.00194\" xlink:href=\"#m6b11374e2d\" y=\"357.910229\"/>\n     <use style=\"fill:#4c72b0;stroke:#ffffff;stroke-width:0.48;\" x=\"487.72539\" xlink:href=\"#m6b11374e2d\" y=\"326.47671\"/>\n     <use style=\"fill:#4c72b0;stroke:#ffffff;stroke-width:0.48;\" x=\"487.72539\" xlink:href=\"#m6b11374e2d\" y=\"313.644945\"/>\n     <use style=\"fill:#4c72b0;stroke:#ffffff;stroke-width:0.48;\" x=\"487.72539\" xlink:href=\"#m6b11374e2d\" y=\"183.375257\"/>\n     <use style=\"fill:#4c72b0;stroke:#ffffff;stroke-width:0.48;\" x=\"487.72539\" xlink:href=\"#m6b11374e2d\" y=\"340.255787\"/>\n     <use style=\"fill:#4c72b0;stroke:#ffffff;stroke-width:0.48;\" x=\"487.72539\" xlink:href=\"#m6b11374e2d\" y=\"327.337902\"/>\n     <use style=\"fill:#4c72b0;stroke:#ffffff;stroke-width:0.48;\" x=\"845.00194\" xlink:href=\"#m6b11374e2d\" y=\"344.131152\"/>\n     <use style=\"fill:#4c72b0;stroke:#ffffff;stroke-width:0.48;\" x=\"845.00194\" xlink:href=\"#m6b11374e2d\" y=\"333.366249\"/>\n     <use style=\"fill:#4c72b0;stroke:#ffffff;stroke-width:0.48;\" x=\"845.00194\" xlink:href=\"#m6b11374e2d\" y=\"348.86771\"/>\n     <use style=\"fill:#4c72b0;stroke:#ffffff;stroke-width:0.48;\" x=\"845.00194\" xlink:href=\"#m6b11374e2d\" y=\"366.522152\"/>\n     <use style=\"fill:#4c72b0;stroke:#ffffff;stroke-width:0.48;\" x=\"845.00194\" xlink:href=\"#m6b11374e2d\" y=\"350.159498\"/>\n     <use style=\"fill:#4c72b0;stroke:#ffffff;stroke-width:0.48;\" x=\"845.00194\" xlink:href=\"#m6b11374e2d\" y=\"346.284133\"/>\n     <use style=\"fill:#4c72b0;stroke:#ffffff;stroke-width:0.48;\" x=\"845.00194\" xlink:href=\"#m6b11374e2d\" y=\"315.711806\"/>\n     <use style=\"fill:#4c72b0;stroke:#ffffff;stroke-width:0.48;\" x=\"845.00194\" xlink:href=\"#m6b11374e2d\" y=\"339.394595\"/>\n     <use style=\"fill:#4c72b0;stroke:#ffffff;stroke-width:0.48;\" x=\"845.00194\" xlink:href=\"#m6b11374e2d\" y=\"363.507979\"/>\n     <use style=\"fill:#4c72b0;stroke:#ffffff;stroke-width:0.48;\" x=\"487.72539\" xlink:href=\"#m6b11374e2d\" y=\"348.437114\"/>\n     <use style=\"fill:#4c72b0;stroke:#ffffff;stroke-width:0.48;\" x=\"487.72539\" xlink:href=\"#m6b11374e2d\" y=\"297.626768\"/>\n     <use style=\"fill:#4c72b0;stroke:#ffffff;stroke-width:0.48;\" x=\"487.72539\" xlink:href=\"#m6b11374e2d\" y=\"253.705961\"/>\n     <use style=\"fill:#4c72b0;stroke:#ffffff;stroke-width:0.48;\" x=\"487.72539\" xlink:href=\"#m6b11374e2d\" y=\"336.811018\"/>\n     <use style=\"fill:#4c72b0;stroke:#ffffff;stroke-width:0.48;\" x=\"487.72539\" xlink:href=\"#m6b11374e2d\" y=\"267.915634\"/>\n     <use style=\"fill:#4c72b0;stroke:#ffffff;stroke-width:0.48;\" x=\"487.72539\" xlink:href=\"#m6b11374e2d\" y=\"197.728462\"/>\n     <use style=\"fill:#4c72b0;stroke:#ffffff;stroke-width:0.48;\" x=\"845.00194\" xlink:href=\"#m6b11374e2d\" y=\"334.227441\"/>\n     <use style=\"fill:#4c72b0;stroke:#ffffff;stroke-width:0.48;\" x=\"845.00194\" xlink:href=\"#m6b11374e2d\" y=\"348.006518\"/>\n     <use style=\"fill:#4c72b0;stroke:#ffffff;stroke-width:0.48;\" x=\"845.00194\" xlink:href=\"#m6b11374e2d\" y=\"334.658037\"/>\n     <use style=\"fill:#4c72b0;stroke:#ffffff;stroke-width:0.48;\" x=\"845.00194\" xlink:href=\"#m6b11374e2d\" y=\"333.366249\"/>\n     <use style=\"fill:#4c72b0;stroke:#ffffff;stroke-width:0.48;\" x=\"845.00194\" xlink:href=\"#m6b11374e2d\" y=\"256.935432\"/>\n     <use style=\"fill:#4c72b0;stroke:#ffffff;stroke-width:0.48;\" x=\"845.00194\" xlink:href=\"#m6b11374e2d\" y=\"363.077383\"/>\n     <use style=\"fill:#4c72b0;stroke:#ffffff;stroke-width:0.48;\" x=\"845.00194\" xlink:href=\"#m6b11374e2d\" y=\"295.904384\"/>\n     <use style=\"fill:#4c72b0;stroke:#ffffff;stroke-width:0.48;\" x=\"845.00194\" xlink:href=\"#m6b11374e2d\" y=\"346.714729\"/>\n     <use style=\"fill:#4c72b0;stroke:#ffffff;stroke-width:0.48;\" x=\"845.00194\" xlink:href=\"#m6b11374e2d\" y=\"348.437114\"/>\n     <use style=\"fill:#4c72b0;stroke:#ffffff;stroke-width:0.48;\" x=\"845.00194\" xlink:href=\"#m6b11374e2d\" y=\"336.380422\"/>\n     <use style=\"fill:#4c72b0;stroke:#ffffff;stroke-width:0.48;\" x=\"845.00194\" xlink:href=\"#m6b11374e2d\" y=\"341.547575\"/>\n     <use style=\"fill:#4c72b0;stroke:#ffffff;stroke-width:0.48;\" x=\"845.00194\" xlink:href=\"#m6b11374e2d\" y=\"356.618441\"/>\n     <use style=\"fill:#4c72b0;stroke:#ffffff;stroke-width:0.48;\" x=\"845.00194\" xlink:href=\"#m6b11374e2d\" y=\"349.728902\"/>\n     <use style=\"fill:#4c72b0;stroke:#ffffff;stroke-width:0.48;\" x=\"845.00194\" xlink:href=\"#m6b11374e2d\" y=\"339.825191\"/>\n     <use style=\"fill:#4c72b0;stroke:#ffffff;stroke-width:0.48;\" x=\"845.00194\" xlink:href=\"#m6b11374e2d\" y=\"332.07446\"/>\n     <use style=\"fill:#4c72b0;stroke:#ffffff;stroke-width:0.48;\" x=\"845.00194\" xlink:href=\"#m6b11374e2d\" y=\"346.714729\"/>\n     <use style=\"fill:#4c72b0;stroke:#ffffff;stroke-width:0.48;\" x=\"487.72539\" xlink:href=\"#m6b11374e2d\" y=\"339.825191\"/>\n     <use style=\"fill:#4c72b0;stroke:#ffffff;stroke-width:0.48;\" x=\"845.00194\" xlink:href=\"#m6b11374e2d\" y=\"363.938575\"/>\n     <use style=\"fill:#4c72b0;stroke:#ffffff;stroke-width:0.48;\" x=\"487.72539\" xlink:href=\"#m6b11374e2d\" y=\"217.464118\"/>\n     <use style=\"fill:#4c72b0;stroke:#ffffff;stroke-width:0.48;\" x=\"487.72539\" xlink:href=\"#m6b11374e2d\" y=\"325.184922\"/>\n     <use style=\"fill:#4c72b0;stroke:#ffffff;stroke-width:0.48;\" x=\"487.72539\" xlink:href=\"#m6b11374e2d\" y=\"263.394374\"/>\n     <use style=\"fill:#4c72b0;stroke:#ffffff;stroke-width:0.48;\" x=\"487.72539\" xlink:href=\"#m6b11374e2d\" y=\"235.405625\"/>\n     <use style=\"fill:#4c72b0;stroke:#ffffff;stroke-width:0.48;\" x=\"487.72539\" xlink:href=\"#m6b11374e2d\" y=\"351.881883\"/>\n     <use style=\"fill:#4c72b0;stroke:#ffffff;stroke-width:0.48;\" x=\"845.00194\" xlink:href=\"#m6b11374e2d\" y=\"356.618441\"/>\n     <use style=\"fill:#4c72b0;stroke:#ffffff;stroke-width:0.48;\" x=\"845.00194\" xlink:href=\"#m6b11374e2d\" y=\"348.86771\"/>\n     <use style=\"fill:#4c72b0;stroke:#ffffff;stroke-width:0.48;\" x=\"845.00194\" xlink:href=\"#m6b11374e2d\" y=\"345.853537\"/>\n     <use style=\"fill:#4c72b0;stroke:#ffffff;stroke-width:0.48;\" x=\"845.00194\" xlink:href=\"#m6b11374e2d\" y=\"343.26996\"/>\n     <use style=\"fill:#4c72b0;stroke:#ffffff;stroke-width:0.48;\" x=\"845.00194\" xlink:href=\"#m6b11374e2d\" y=\"331.213268\"/>\n     <use style=\"fill:#4c72b0;stroke:#ffffff;stroke-width:0.48;\" x=\"845.00194\" xlink:href=\"#m6b11374e2d\" y=\"355.757248\"/>\n     <use style=\"fill:#4c72b0;stroke:#ffffff;stroke-width:0.48;\" x=\"845.00194\" xlink:href=\"#m6b11374e2d\" y=\"345.853537\"/>\n     <use style=\"fill:#4c72b0;stroke:#ffffff;stroke-width:0.48;\" x=\"845.00194\" xlink:href=\"#m6b11374e2d\" y=\"313.989422\"/>\n     <use style=\"fill:#4c72b0;stroke:#ffffff;stroke-width:0.48;\" x=\"845.00194\" xlink:href=\"#m6b11374e2d\" y=\"360.924402\"/>\n     <use style=\"fill:#4c72b0;stroke:#ffffff;stroke-width:0.48;\" x=\"487.72539\" xlink:href=\"#m6b11374e2d\" y=\"348.86771\"/>\n     <use style=\"fill:#4c72b0;stroke:#ffffff;stroke-width:0.48;\" x=\"487.72539\" xlink:href=\"#m6b11374e2d\" y=\"297.626768\"/>\n     <use style=\"fill:#4c72b0;stroke:#ffffff;stroke-width:0.48;\" x=\"487.72539\" xlink:href=\"#m6b11374e2d\" y=\"330.782672\"/>\n     <use style=\"fill:#4c72b0;stroke:#ffffff;stroke-width:0.48;\" x=\"487.72539\" xlink:href=\"#m6b11374e2d\" y=\"333.366249\"/>\n     <use style=\"fill:#4c72b0;stroke:#ffffff;stroke-width:0.48;\" x=\"487.72539\" xlink:href=\"#m6b11374e2d\" y=\"221.05242\"/>\n     <use style=\"fill:#4c72b0;stroke:#ffffff;stroke-width:0.48;\" x=\"487.72539\" xlink:href=\"#m6b11374e2d\" y=\"326.907306\"/>\n     <use style=\"fill:#4c72b0;stroke:#ffffff;stroke-width:0.48;\" x=\"487.72539\" xlink:href=\"#m6b11374e2d\" y=\"172.610353\"/>\n     <use style=\"fill:#4c72b0;stroke:#ffffff;stroke-width:0.48;\" x=\"487.72539\" xlink:href=\"#m6b11374e2d\" y=\"315.711806\"/>\n     <use style=\"fill:#4c72b0;stroke:#ffffff;stroke-width:0.48;\" x=\"487.72539\" xlink:href=\"#m6b11374e2d\" y=\"250.83532\"/>\n     <use style=\"fill:#4c72b0;stroke:#ffffff;stroke-width:0.48;\" x=\"845.00194\" xlink:href=\"#m6b11374e2d\" y=\"289.588973\"/>\n     <use style=\"fill:#4c72b0;stroke:#ffffff;stroke-width:0.48;\" x=\"845.00194\" xlink:href=\"#m6b11374e2d\" y=\"353.173671\"/>\n     <use style=\"fill:#4c72b0;stroke:#ffffff;stroke-width:0.48;\" x=\"845.00194\" xlink:href=\"#m6b11374e2d\" y=\"342.839364\"/>\n     <use style=\"fill:#4c72b0;stroke:#ffffff;stroke-width:0.48;\" x=\"845.00194\" xlink:href=\"#m6b11374e2d\" y=\"341.978172\"/>\n     <use style=\"fill:#4c72b0;stroke:#ffffff;stroke-width:0.48;\" x=\"487.72539\" xlink:href=\"#m6b11374e2d\" y=\"313.989422\"/>\n     <use style=\"fill:#4c72b0;stroke:#ffffff;stroke-width:0.48;\" x=\"487.72539\" xlink:href=\"#m6b11374e2d\" y=\"332.935652\"/>\n     <use style=\"fill:#4c72b0;stroke:#ffffff;stroke-width:0.48;\" x=\"487.72539\" xlink:href=\"#m6b11374e2d\" y=\"217.464118\"/>\n     <use style=\"fill:#4c72b0;stroke:#ffffff;stroke-width:0.48;\" x=\"487.72539\" xlink:href=\"#m6b11374e2d\" y=\"202.034423\"/>\n     <use style=\"fill:#4c72b0;stroke:#ffffff;stroke-width:0.48;\" x=\"487.72539\" xlink:href=\"#m6b11374e2d\" y=\"324.754326\"/>\n     <use style=\"fill:#4c72b0;stroke:#ffffff;stroke-width:0.48;\" x=\"487.72539\" xlink:href=\"#m6b11374e2d\" y=\"298.057364\"/>\n     <use style=\"fill:#4c72b0;stroke:#ffffff;stroke-width:0.48;\" x=\"487.72539\" xlink:href=\"#m6b11374e2d\" y=\"297.196172\"/>\n     <use style=\"fill:#4c72b0;stroke:#ffffff;stroke-width:0.48;\" x=\"487.72539\" xlink:href=\"#m6b11374e2d\" y=\"301.93273\"/>\n     <use style=\"fill:#4c72b0;stroke:#ffffff;stroke-width:0.48;\" x=\"487.72539\" xlink:href=\"#m6b11374e2d\" y=\"226.434872\"/>\n     <use style=\"fill:#4c72b0;stroke:#ffffff;stroke-width:0.48;\" x=\"487.72539\" xlink:href=\"#m6b11374e2d\" y=\"265.332057\"/>\n     <use style=\"fill:#4c72b0;stroke:#ffffff;stroke-width:0.48;\" x=\"487.72539\" xlink:href=\"#m6b11374e2d\" y=\"311.836441\"/>\n     <use style=\"fill:#4c72b0;stroke:#ffffff;stroke-width:0.48;\" x=\"487.72539\" xlink:href=\"#m6b11374e2d\" y=\"338.533402\"/>\n     <use style=\"fill:#4c72b0;stroke:#ffffff;stroke-width:0.48;\" x=\"487.72539\" xlink:href=\"#m6b11374e2d\" y=\"341.116979\"/>\n     <use style=\"fill:#4c72b0;stroke:#ffffff;stroke-width:0.48;\" x=\"487.72539\" xlink:href=\"#m6b11374e2d\" y=\"336.380422\"/>\n     <use style=\"fill:#4c72b0;stroke:#ffffff;stroke-width:0.48;\" x=\"487.72539\" xlink:href=\"#m6b11374e2d\" y=\"344.131152\"/>\n     <use style=\"fill:#4c72b0;stroke:#ffffff;stroke-width:0.48;\" x=\"487.72539\" xlink:href=\"#m6b11374e2d\" y=\"335.949825\"/>\n     <use style=\"fill:#4c72b0;stroke:#ffffff;stroke-width:0.48;\" x=\"845.00194\" xlink:href=\"#m6b11374e2d\" y=\"345.853537\"/>\n     <use style=\"fill:#4c72b0;stroke:#ffffff;stroke-width:0.48;\" x=\"845.00194\" xlink:href=\"#m6b11374e2d\" y=\"342.408768\"/>\n     <use style=\"fill:#4c72b0;stroke:#ffffff;stroke-width:0.48;\" x=\"845.00194\" xlink:href=\"#m6b11374e2d\" y=\"319.587172\"/>\n     <use style=\"fill:#4c72b0;stroke:#ffffff;stroke-width:0.48;\" x=\"487.72539\" xlink:href=\"#m6b11374e2d\" y=\"336.811018\"/>\n     <use style=\"fill:#4c72b0;stroke:#ffffff;stroke-width:0.48;\" x=\"487.72539\" xlink:href=\"#m6b11374e2d\" y=\"322.601345\"/>\n     <use style=\"fill:#4c72b0;stroke:#ffffff;stroke-width:0.48;\" x=\"487.72539\" xlink:href=\"#m6b11374e2d\" y=\"348.86771\"/>\n     <use style=\"fill:#4c72b0;stroke:#ffffff;stroke-width:0.48;\" x=\"487.72539\" xlink:href=\"#m6b11374e2d\" y=\"311.836441\"/>\n     <use style=\"fill:#4c72b0;stroke:#ffffff;stroke-width:0.48;\" x=\"845.00194\" xlink:href=\"#m6b11374e2d\" y=\"338.963999\"/>\n     <use style=\"fill:#4c72b0;stroke:#ffffff;stroke-width:0.48;\" x=\"487.72539\" xlink:href=\"#m6b11374e2d\" y=\"324.754326\"/>\n     <use style=\"fill:#4c72b0;stroke:#ffffff;stroke-width:0.48;\" x=\"487.72539\" xlink:href=\"#m6b11374e2d\" y=\"324.754326\"/>\n     <use style=\"fill:#4c72b0;stroke:#ffffff;stroke-width:0.48;\" x=\"487.72539\" xlink:href=\"#m6b11374e2d\" y=\"269.494486\"/>\n     <use style=\"fill:#4c72b0;stroke:#ffffff;stroke-width:0.48;\" x=\"487.72539\" xlink:href=\"#m6b11374e2d\" y=\"313.989422\"/>\n     <use style=\"fill:#4c72b0;stroke:#ffffff;stroke-width:0.48;\" x=\"487.72539\" xlink:href=\"#m6b11374e2d\" y=\"337.67221\"/>\n     <use style=\"fill:#4c72b0;stroke:#ffffff;stroke-width:0.48;\" x=\"487.72539\" xlink:href=\"#m6b11374e2d\" y=\"284.206522\"/>\n     <use style=\"fill:#4c72b0;stroke:#ffffff;stroke-width:0.48;\" x=\"845.00194\" xlink:href=\"#m6b11374e2d\" y=\"348.437114\"/>\n     <use style=\"fill:#4c72b0;stroke:#ffffff;stroke-width:0.48;\" x=\"845.00194\" xlink:href=\"#m6b11374e2d\" y=\"339.394595\"/>\n     <use style=\"fill:#4c72b0;stroke:#ffffff;stroke-width:0.48;\" x=\"845.00194\" xlink:href=\"#m6b11374e2d\" y=\"351.881883\"/>\n     <use style=\"fill:#4c72b0;stroke:#ffffff;stroke-width:0.48;\" x=\"845.00194\" xlink:href=\"#m6b11374e2d\" y=\"327.337902\"/>\n     <use style=\"fill:#4c72b0;stroke:#ffffff;stroke-width:0.48;\" x=\"845.00194\" xlink:href=\"#m6b11374e2d\" y=\"313.989422\"/>\n     <use style=\"fill:#4c72b0;stroke:#ffffff;stroke-width:0.48;\" x=\"487.72539\" xlink:href=\"#m6b11374e2d\" y=\"333.366249\"/>\n     <use style=\"fill:#4c72b0;stroke:#ffffff;stroke-width:0.48;\" x=\"487.72539\" xlink:href=\"#m6b11374e2d\" y=\"333.366249\"/>\n     <use style=\"fill:#4c72b0;stroke:#ffffff;stroke-width:0.48;\" x=\"487.72539\" xlink:href=\"#m6b11374e2d\" y=\"273.082788\"/>\n     <use style=\"fill:#4c72b0;stroke:#ffffff;stroke-width:0.48;\" x=\"487.72539\" xlink:href=\"#m6b11374e2d\" y=\"288.412011\"/>\n     <use style=\"fill:#4c72b0;stroke:#ffffff;stroke-width:0.48;\" x=\"487.72539\" xlink:href=\"#m6b11374e2d\" y=\"349.728902\"/>\n     <use style=\"fill:#4c72b0;stroke:#ffffff;stroke-width:0.48;\" x=\"845.00194\" xlink:href=\"#m6b11374e2d\" y=\"349.728902\"/>\n     <use style=\"fill:#4c72b0;stroke:#ffffff;stroke-width:0.48;\" x=\"845.00194\" xlink:href=\"#m6b11374e2d\" y=\"348.437114\"/>\n     <use style=\"fill:#4c72b0;stroke:#ffffff;stroke-width:0.48;\" x=\"845.00194\" xlink:href=\"#m6b11374e2d\" y=\"339.825191\"/>\n     <use style=\"fill:#4c72b0;stroke:#ffffff;stroke-width:0.48;\" x=\"845.00194\" xlink:href=\"#m6b11374e2d\" y=\"329.318645\"/>\n     <use style=\"fill:#4c72b0;stroke:#ffffff;stroke-width:0.48;\" x=\"845.00194\" xlink:href=\"#m6b11374e2d\" y=\"364.799767\"/>\n     <use style=\"fill:#4c72b0;stroke:#ffffff;stroke-width:0.48;\" x=\"487.72539\" xlink:href=\"#m6b11374e2d\" y=\"328.199095\"/>\n     <use style=\"fill:#4c72b0;stroke:#ffffff;stroke-width:0.48;\" x=\"487.72539\" xlink:href=\"#m6b11374e2d\" y=\"336.380422\"/>\n     <use style=\"fill:#4c72b0;stroke:#ffffff;stroke-width:0.48;\" x=\"487.72539\" xlink:href=\"#m6b11374e2d\" y=\"255.141281\"/>\n     <use style=\"fill:#4c72b0;stroke:#ffffff;stroke-width:0.48;\" x=\"487.72539\" xlink:href=\"#m6b11374e2d\" y=\"233.611474\"/>\n     <use style=\"fill:#4c72b0;stroke:#ffffff;stroke-width:0.48;\" x=\"487.72539\" xlink:href=\"#m6b11374e2d\" y=\"334.658037\"/>\n     <use style=\"fill:#4c72b0;stroke:#ffffff;stroke-width:0.48;\" x=\"845.00194\" xlink:href=\"#m6b11374e2d\" y=\"342.839364\"/>\n     <use style=\"fill:#4c72b0;stroke:#ffffff;stroke-width:0.48;\" x=\"845.00194\" xlink:href=\"#m6b11374e2d\" y=\"318.295383\"/>\n     <use style=\"fill:#4c72b0;stroke:#ffffff;stroke-width:0.48;\" x=\"845.00194\" xlink:href=\"#m6b11374e2d\" y=\"306.669287\"/>\n     <use style=\"fill:#4c72b0;stroke:#ffffff;stroke-width:0.48;\" x=\"845.00194\" xlink:href=\"#m6b11374e2d\" y=\"342.839364\"/>\n     <use style=\"fill:#4c72b0;stroke:#ffffff;stroke-width:0.48;\" x=\"487.72539\" xlink:href=\"#m6b11374e2d\" y=\"321.309556\"/>\n     <use style=\"fill:#4c72b0;stroke:#ffffff;stroke-width:0.48;\" x=\"487.72539\" xlink:href=\"#m6b11374e2d\" y=\"277.388749\"/>\n     <use style=\"fill:#4c72b0;stroke:#ffffff;stroke-width:0.48;\" x=\"845.00194\" xlink:href=\"#m6b11374e2d\" y=\"338.102806\"/>\n     <use style=\"fill:#4c72b0;stroke:#ffffff;stroke-width:0.48;\" x=\"845.00194\" xlink:href=\"#m6b11374e2d\" y=\"367.383344\"/>\n     <use style=\"fill:#4c72b0;stroke:#ffffff;stroke-width:0.48;\" x=\"845.00194\" xlink:href=\"#m6b11374e2d\" y=\"344.992345\"/>\n     <use style=\"fill:#4c72b0;stroke:#ffffff;stroke-width:0.48;\" x=\"845.00194\" xlink:href=\"#m6b11374e2d\" y=\"350.590095\"/>\n     <use style=\"fill:#4c72b0;stroke:#ffffff;stroke-width:0.48;\" x=\"487.72539\" xlink:href=\"#m6b11374e2d\" y=\"242.510461\"/>\n     <use style=\"fill:#4c72b0;stroke:#ffffff;stroke-width:0.48;\" x=\"845.00194\" xlink:href=\"#m6b11374e2d\" y=\"342.839364\"/>\n     <use style=\"fill:#4c72b0;stroke:#ffffff;stroke-width:0.48;\" x=\"487.72539\" xlink:href=\"#m6b11374e2d\" y=\"115.915193\"/>\n     <use style=\"fill:#4c72b0;stroke:#ffffff;stroke-width:0.48;\" x=\"487.72539\" xlink:href=\"#m6b11374e2d\" y=\"310.544653\"/>\n     <use style=\"fill:#4c72b0;stroke:#ffffff;stroke-width:0.48;\" x=\"845.00194\" xlink:href=\"#m6b11374e2d\" y=\"349.298306\"/>\n     <use style=\"fill:#4c72b0;stroke:#ffffff;stroke-width:0.48;\" x=\"845.00194\" xlink:href=\"#m6b11374e2d\" y=\"347.145325\"/>\n     <use style=\"fill:#4c72b0;stroke:#ffffff;stroke-width:0.48;\" x=\"845.00194\" xlink:href=\"#m6b11374e2d\" y=\"346.714729\"/>\n     <use style=\"fill:#4c72b0;stroke:#ffffff;stroke-width:0.48;\" x=\"845.00194\" xlink:href=\"#m6b11374e2d\" y=\"250.11766\"/>\n     <use style=\"fill:#4c72b0;stroke:#ffffff;stroke-width:0.48;\" x=\"845.00194\" xlink:href=\"#m6b11374e2d\" y=\"329.490883\"/>\n     <use style=\"fill:#4c72b0;stroke:#ffffff;stroke-width:0.48;\" x=\"845.00194\" xlink:href=\"#m6b11374e2d\" y=\"304.946903\"/>\n     <use style=\"fill:#4c72b0;stroke:#ffffff;stroke-width:0.48;\" x=\"845.00194\" xlink:href=\"#m6b11374e2d\" y=\"332.935652\"/>\n     <use style=\"fill:#4c72b0;stroke:#ffffff;stroke-width:0.48;\" x=\"845.00194\" xlink:href=\"#m6b11374e2d\" y=\"352.312479\"/>\n     <use style=\"fill:#4c72b0;stroke:#ffffff;stroke-width:0.48;\" x=\"487.72539\" xlink:href=\"#m6b11374e2d\" y=\"323.462537\"/>\n     <use style=\"fill:#4c72b0;stroke:#ffffff;stroke-width:0.48;\" x=\"845.00194\" xlink:href=\"#m6b11374e2d\" y=\"354.034864\"/>\n     <use style=\"fill:#4c72b0;stroke:#ffffff;stroke-width:0.48;\" x=\"487.72539\" xlink:href=\"#m6b11374e2d\" y=\"338.533402\"/>\n     <use style=\"fill:#4c72b0;stroke:#ffffff;stroke-width:0.48;\" x=\"487.72539\" xlink:href=\"#m6b11374e2d\" y=\"331.643864\"/>\n     <use style=\"fill:#4c72b0;stroke:#ffffff;stroke-width:0.48;\" x=\"845.00194\" xlink:href=\"#m6b11374e2d\" y=\"362.216191\"/>\n     <use style=\"fill:#4c72b0;stroke:#ffffff;stroke-width:0.48;\" x=\"845.00194\" xlink:href=\"#m6b11374e2d\" y=\"345.422941\"/>\n     <use style=\"fill:#4c72b0;stroke:#ffffff;stroke-width:0.48;\" x=\"845.00194\" xlink:href=\"#m6b11374e2d\" y=\"355.757248\"/>\n     <use style=\"fill:#4c72b0;stroke:#ffffff;stroke-width:0.48;\" x=\"845.00194\" xlink:href=\"#m6b11374e2d\" y=\"328.629691\"/>\n     <use style=\"fill:#4c72b0;stroke:#ffffff;stroke-width:0.48;\" x=\"845.00194\" xlink:href=\"#m6b11374e2d\" y=\"330.352076\"/>\n     <use style=\"fill:#4c72b0;stroke:#ffffff;stroke-width:0.48;\" x=\"845.00194\" xlink:href=\"#m6b11374e2d\" y=\"364.369171\"/>\n     <use style=\"fill:#4c72b0;stroke:#ffffff;stroke-width:0.48;\" x=\"487.72539\" xlink:href=\"#m6b11374e2d\" y=\"310.544653\"/>\n     <use style=\"fill:#4c72b0;stroke:#ffffff;stroke-width:0.48;\" x=\"845.00194\" xlink:href=\"#m6b11374e2d\" y=\"363.077383\"/>\n     <use style=\"fill:#4c72b0;stroke:#ffffff;stroke-width:0.48;\" x=\"845.00194\" xlink:href=\"#m6b11374e2d\" y=\"351.451287\"/>\n     <use style=\"fill:#4c72b0;stroke:#ffffff;stroke-width:0.48;\" x=\"845.00194\" xlink:href=\"#m6b11374e2d\" y=\"341.978172\"/>\n     <use style=\"fill:#4c72b0;stroke:#ffffff;stroke-width:0.48;\" x=\"845.00194\" xlink:href=\"#m6b11374e2d\" y=\"364.369171\"/>\n     <use style=\"fill:#4c72b0;stroke:#ffffff;stroke-width:0.48;\" x=\"845.00194\" xlink:href=\"#m6b11374e2d\" y=\"338.102806\"/>\n     <use style=\"fill:#4c72b0;stroke:#ffffff;stroke-width:0.48;\" x=\"487.72539\" xlink:href=\"#m6b11374e2d\" y=\"332.505056\"/>\n     <use style=\"fill:#4c72b0;stroke:#ffffff;stroke-width:0.48;\" x=\"845.00194\" xlink:href=\"#m6b11374e2d\" y=\"307.961076\"/>\n     <use style=\"fill:#4c72b0;stroke:#ffffff;stroke-width:0.48;\" x=\"845.00194\" xlink:href=\"#m6b11374e2d\" y=\"246.170528\"/>\n     <use style=\"fill:#4c72b0;stroke:#ffffff;stroke-width:0.48;\" x=\"487.72539\" xlink:href=\"#m6b11374e2d\" y=\"351.881883\"/>\n     <use style=\"fill:#4c72b0;stroke:#ffffff;stroke-width:0.48;\" x=\"487.72539\" xlink:href=\"#m6b11374e2d\" y=\"348.437114\"/>\n     <use style=\"fill:#4c72b0;stroke:#ffffff;stroke-width:0.48;\" x=\"487.72539\" xlink:href=\"#m6b11374e2d\" y=\"328.629691\"/>\n     <use style=\"fill:#4c72b0;stroke:#ffffff;stroke-width:0.48;\" x=\"487.72539\" xlink:href=\"#m6b11374e2d\" y=\"334.227441\"/>\n     <use style=\"fill:#4c72b0;stroke:#ffffff;stroke-width:0.48;\" x=\"487.72539\" xlink:href=\"#m6b11374e2d\" y=\"327.337902\"/>\n     <use style=\"fill:#4c72b0;stroke:#ffffff;stroke-width:0.48;\" x=\"487.72539\" xlink:href=\"#m6b11374e2d\" y=\"340.255787\"/>\n     <use style=\"fill:#4c72b0;stroke:#ffffff;stroke-width:0.48;\" x=\"845.00194\" xlink:href=\"#m6b11374e2d\" y=\"367.813941\"/>\n     <use style=\"fill:#4c72b0;stroke:#ffffff;stroke-width:0.48;\" x=\"845.00194\" xlink:href=\"#m6b11374e2d\" y=\"356.618441\"/>\n     <use style=\"fill:#4c72b0;stroke:#ffffff;stroke-width:0.48;\" x=\"845.00194\" xlink:href=\"#m6b11374e2d\" y=\"352.743075\"/>\n     <use style=\"fill:#4c72b0;stroke:#ffffff;stroke-width:0.48;\" x=\"487.72539\" xlink:href=\"#m6b11374e2d\" y=\"335.519229\"/>\n     <use style=\"fill:#4c72b0;stroke:#ffffff;stroke-width:0.48;\" x=\"487.72539\" xlink:href=\"#m6b11374e2d\" y=\"344.131152\"/>\n     <use style=\"fill:#4c72b0;stroke:#ffffff;stroke-width:0.48;\" x=\"487.72539\" xlink:href=\"#m6b11374e2d\" y=\"187.681218\"/>\n     <use style=\"fill:#4c72b0;stroke:#ffffff;stroke-width:0.48;\" x=\"845.00194\" xlink:href=\"#m6b11374e2d\" y=\"353.173671\"/>\n     <use style=\"fill:#4c72b0;stroke:#ffffff;stroke-width:0.48;\" x=\"487.72539\" xlink:href=\"#m6b11374e2d\" y=\"326.907306\"/>\n     <use style=\"fill:#4c72b0;stroke:#ffffff;stroke-width:0.48;\" x=\"487.72539\" xlink:href=\"#m6b11374e2d\" y=\"331.213268\"/>\n     <use style=\"fill:#4c72b0;stroke:#ffffff;stroke-width:0.48;\" x=\"487.72539\" xlink:href=\"#m6b11374e2d\" y=\"226.434872\"/>\n     <use style=\"fill:#4c72b0;stroke:#ffffff;stroke-width:0.48;\" x=\"487.72539\" xlink:href=\"#m6b11374e2d\" y=\"326.47671\"/>\n     <use style=\"fill:#4c72b0;stroke:#ffffff;stroke-width:0.48;\" x=\"487.72539\" xlink:href=\"#m6b11374e2d\" y=\"221.05242\"/>\n     <use style=\"fill:#4c72b0;stroke:#ffffff;stroke-width:0.48;\" x=\"845.00194\" xlink:href=\"#m6b11374e2d\" y=\"343.700556\"/>\n     <use style=\"fill:#4c72b0;stroke:#ffffff;stroke-width:0.48;\" x=\"845.00194\" xlink:href=\"#m6b11374e2d\" y=\"342.839364\"/>\n     <use style=\"fill:#4c72b0;stroke:#ffffff;stroke-width:0.48;\" x=\"845.00194\" xlink:href=\"#m6b11374e2d\" y=\"351.020691\"/>\n     <use style=\"fill:#4c72b0;stroke:#ffffff;stroke-width:0.48;\" x=\"845.00194\" xlink:href=\"#m6b11374e2d\" y=\"332.935652\"/>\n     <use style=\"fill:#4c72b0;stroke:#ffffff;stroke-width:0.48;\" x=\"845.00194\" xlink:href=\"#m6b11374e2d\" y=\"329.490883\"/>\n     <use style=\"fill:#4c72b0;stroke:#ffffff;stroke-width:0.48;\" x=\"845.00194\" xlink:href=\"#m6b11374e2d\" y=\"348.006518\"/>\n     <use style=\"fill:#4c72b0;stroke:#ffffff;stroke-width:0.48;\" x=\"845.00194\" xlink:href=\"#m6b11374e2d\" y=\"353.173671\"/>\n     <use style=\"fill:#4c72b0;stroke:#ffffff;stroke-width:0.48;\" x=\"845.00194\" xlink:href=\"#m6b11374e2d\" y=\"347.145325\"/>\n     <use style=\"fill:#4c72b0;stroke:#ffffff;stroke-width:0.48;\" x=\"845.00194\" xlink:href=\"#m6b11374e2d\" y=\"325.184922\"/>\n     <use style=\"fill:#4c72b0;stroke:#ffffff;stroke-width:0.48;\" x=\"845.00194\" xlink:href=\"#m6b11374e2d\" y=\"354.46546\"/>\n     <use style=\"fill:#4c72b0;stroke:#ffffff;stroke-width:0.48;\" x=\"845.00194\" xlink:href=\"#m6b11374e2d\" y=\"344.561748\"/>\n     <use style=\"fill:#4c72b0;stroke:#ffffff;stroke-width:0.48;\" x=\"845.00194\" xlink:href=\"#m6b11374e2d\" y=\"347.575922\"/>\n     <use style=\"fill:#4c72b0;stroke:#ffffff;stroke-width:0.48;\" x=\"845.00194\" xlink:href=\"#m6b11374e2d\" y=\"353.604268\"/>\n     <use style=\"fill:#4c72b0;stroke:#ffffff;stroke-width:0.48;\" x=\"845.00194\" xlink:href=\"#m6b11374e2d\" y=\"351.881883\"/>\n     <use style=\"fill:#4c72b0;stroke:#ffffff;stroke-width:0.48;\" x=\"845.00194\" xlink:href=\"#m6b11374e2d\" y=\"343.26996\"/>\n     <use style=\"fill:#4c72b0;stroke:#ffffff;stroke-width:0.48;\" x=\"845.00194\" xlink:href=\"#m6b11374e2d\" y=\"356.618441\"/>\n     <use style=\"fill:#4c72b0;stroke:#ffffff;stroke-width:0.48;\" x=\"487.72539\" xlink:href=\"#m6b11374e2d\" y=\"240.788076\"/>\n     <use style=\"fill:#4c72b0;stroke:#ffffff;stroke-width:0.48;\" x=\"487.72539\" xlink:href=\"#m6b11374e2d\" y=\"326.046114\"/>\n     <use style=\"fill:#4c72b0;stroke:#ffffff;stroke-width:0.48;\" x=\"487.72539\" xlink:href=\"#m6b11374e2d\" y=\"237.199775\"/>\n     <use style=\"fill:#4c72b0;stroke:#ffffff;stroke-width:0.48;\" x=\"487.72539\" xlink:href=\"#m6b11374e2d\" y=\"309.68346\"/>\n     <use style=\"fill:#4c72b0;stroke:#ffffff;stroke-width:0.48;\" x=\"845.00194\" xlink:href=\"#m6b11374e2d\" y=\"340.686383\"/>\n     <use style=\"fill:#4c72b0;stroke:#ffffff;stroke-width:0.48;\" x=\"845.00194\" xlink:href=\"#m6b11374e2d\" y=\"366.522152\"/>\n     <use style=\"fill:#4c72b0;stroke:#ffffff;stroke-width:0.48;\" x=\"845.00194\" xlink:href=\"#m6b11374e2d\" y=\"347.575922\"/>\n     <use style=\"fill:#4c72b0;stroke:#ffffff;stroke-width:0.48;\" x=\"845.00194\" xlink:href=\"#m6b11374e2d\" y=\"288.153653\"/>\n     <use style=\"fill:#4c72b0;stroke:#ffffff;stroke-width:0.48;\" x=\"487.72539\" xlink:href=\"#m6b11374e2d\" y=\"326.046114\"/>\n     <use style=\"fill:#4c72b0;stroke:#ffffff;stroke-width:0.48;\" x=\"487.72539\" xlink:href=\"#m6b11374e2d\" y=\"321.309556\"/>\n     <use style=\"fill:#4c72b0;stroke:#ffffff;stroke-width:0.48;\" x=\"487.72539\" xlink:href=\"#m6b11374e2d\" y=\"311.836441\"/>\n     <use style=\"fill:#4c72b0;stroke:#ffffff;stroke-width:0.48;\" x=\"487.72539\" xlink:href=\"#m6b11374e2d\" y=\"304.516307\"/>\n     <use style=\"fill:#4c72b0;stroke:#ffffff;stroke-width:0.48;\" x=\"487.72539\" xlink:href=\"#m6b11374e2d\" y=\"323.462537\"/>\n     <use style=\"fill:#4c72b0;stroke:#ffffff;stroke-width:0.48;\" x=\"487.72539\" xlink:href=\"#m6b11374e2d\" y=\"328.629691\"/>\n     <use style=\"fill:#4c72b0;stroke:#ffffff;stroke-width:0.48;\" x=\"487.72539\" xlink:href=\"#m6b11374e2d\" y=\"212.081667\"/>\n     <use style=\"fill:#4c72b0;stroke:#ffffff;stroke-width:0.48;\" x=\"487.72539\" xlink:href=\"#m6b11374e2d\" y=\"315.711806\"/>\n     <use style=\"fill:#4c72b0;stroke:#ffffff;stroke-width:0.48;\" x=\"487.72539\" xlink:href=\"#m6b11374e2d\" y=\"335.088633\"/>\n     <use style=\"fill:#4c72b0;stroke:#ffffff;stroke-width:0.48;\" x=\"845.00194\" xlink:href=\"#m6b11374e2d\" y=\"349.298306\"/>\n     <use style=\"fill:#4c72b0;stroke:#ffffff;stroke-width:0.48;\" x=\"845.00194\" xlink:href=\"#m6b11374e2d\" y=\"323.031941\"/>\n     <use style=\"fill:#4c72b0;stroke:#ffffff;stroke-width:0.48;\" x=\"845.00194\" xlink:href=\"#m6b11374e2d\" y=\"353.173671\"/>\n     <use style=\"fill:#4c72b0;stroke:#ffffff;stroke-width:0.48;\" x=\"487.72539\" xlink:href=\"#m6b11374e2d\" y=\"317.434191\"/>\n     <use style=\"fill:#4c72b0;stroke:#ffffff;stroke-width:0.48;\" x=\"487.72539\" xlink:href=\"#m6b11374e2d\" y=\"337.67221\"/>\n     <use style=\"fill:#4c72b0;stroke:#ffffff;stroke-width:0.48;\" x=\"487.72539\" xlink:href=\"#m6b11374e2d\" y=\"321.309556\"/>\n     <use style=\"fill:#4c72b0;stroke:#ffffff;stroke-width:0.48;\" x=\"487.72539\" xlink:href=\"#m6b11374e2d\" y=\"326.907306\"/>\n     <use style=\"fill:#4c72b0;stroke:#ffffff;stroke-width:0.48;\" x=\"487.72539\" xlink:href=\"#m6b11374e2d\" y=\"222.84657\"/>\n     <use style=\"fill:#4c72b0;stroke:#ffffff;stroke-width:0.48;\" x=\"487.72539\" xlink:href=\"#m6b11374e2d\" y=\"165.43375\"/>\n     <use style=\"fill:#4c72b0;stroke:#ffffff;stroke-width:0.48;\" x=\"487.72539\" xlink:href=\"#m6b11374e2d\" y=\"324.754326\"/>\n     <use style=\"fill:#4c72b0;stroke:#ffffff;stroke-width:0.48;\" x=\"487.72539\" xlink:href=\"#m6b11374e2d\" y=\"316.745237\"/>\n     <use style=\"fill:#4c72b0;stroke:#ffffff;stroke-width:0.48;\" x=\"487.72539\" xlink:href=\"#m6b11374e2d\" y=\"312.697633\"/>\n     <use style=\"fill:#4c72b0;stroke:#ffffff;stroke-width:0.48;\" x=\"487.72539\" xlink:href=\"#m6b11374e2d\" y=\"297.196172\"/>\n     <use style=\"fill:#4c72b0;stroke:#ffffff;stroke-width:0.48;\" x=\"487.72539\" xlink:href=\"#m6b11374e2d\" y=\"326.132233\"/>\n     <use style=\"fill:#4c72b0;stroke:#ffffff;stroke-width:0.48;\" x=\"487.72539\" xlink:href=\"#m6b11374e2d\" y=\"337.67221\"/>\n     <use style=\"fill:#4c72b0;stroke:#ffffff;stroke-width:0.48;\" x=\"487.72539\" xlink:href=\"#m6b11374e2d\" y=\"320.017768\"/>\n     <use style=\"fill:#4c72b0;stroke:#ffffff;stroke-width:0.48;\" x=\"845.00194\" xlink:href=\"#m6b11374e2d\" y=\"354.46546\"/>\n     <use style=\"fill:#4c72b0;stroke:#ffffff;stroke-width:0.48;\" x=\"845.00194\" xlink:href=\"#m6b11374e2d\" y=\"343.700556\"/>\n     <use style=\"fill:#4c72b0;stroke:#ffffff;stroke-width:0.48;\" x=\"845.00194\" xlink:href=\"#m6b11374e2d\" y=\"344.561748\"/>\n     <use style=\"fill:#4c72b0;stroke:#ffffff;stroke-width:0.48;\" x=\"845.00194\" xlink:href=\"#m6b11374e2d\" y=\"327.768499\"/>\n     <use style=\"fill:#4c72b0;stroke:#ffffff;stroke-width:0.48;\" x=\"845.00194\" xlink:href=\"#m6b11374e2d\" y=\"351.020691\"/>\n     <use style=\"fill:#4c72b0;stroke:#ffffff;stroke-width:0.48;\" x=\"845.00194\" xlink:href=\"#m6b11374e2d\" y=\"342.839364\"/>\n     <use style=\"fill:#4c72b0;stroke:#ffffff;stroke-width:0.48;\" x=\"487.72539\" xlink:href=\"#m6b11374e2d\" y=\"332.505056\"/>\n     <use style=\"fill:#4c72b0;stroke:#ffffff;stroke-width:0.48;\" x=\"487.72539\" xlink:href=\"#m6b11374e2d\" y=\"125.962437\"/>\n     <use style=\"fill:#4c72b0;stroke:#ffffff;stroke-width:0.48;\" x=\"487.72539\" xlink:href=\"#m6b11374e2d\" y=\"272.365127\"/>\n     <use style=\"fill:#4c72b0;stroke:#ffffff;stroke-width:0.48;\" x=\"845.00194\" xlink:href=\"#m6b11374e2d\" y=\"366.091556\"/>\n     <use style=\"fill:#4c72b0;stroke:#ffffff;stroke-width:0.48;\" x=\"487.72539\" xlink:href=\"#m6b11374e2d\" y=\"212.081667\"/>\n     <use style=\"fill:#4c72b0;stroke:#ffffff;stroke-width:0.48;\" x=\"487.72539\" xlink:href=\"#m6b11374e2d\" y=\"255.141281\"/>\n     <use style=\"fill:#4c72b0;stroke:#ffffff;stroke-width:0.48;\" x=\"487.72539\" xlink:href=\"#m6b11374e2d\" y=\"331.213268\"/>\n     <use style=\"fill:#4c72b0;stroke:#ffffff;stroke-width:0.48;\" x=\"487.72539\" xlink:href=\"#m6b11374e2d\" y=\"330.352076\"/>\n     <use style=\"fill:#4c72b0;stroke:#ffffff;stroke-width:0.48;\" x=\"487.72539\" xlink:href=\"#m6b11374e2d\" y=\"342.839364\"/>\n     <use style=\"fill:#4c72b0;stroke:#ffffff;stroke-width:0.48;\" x=\"487.72539\" xlink:href=\"#m6b11374e2d\" y=\"152.874696\"/>\n     <use style=\"fill:#4c72b0;stroke:#ffffff;stroke-width:0.48;\" x=\"487.72539\" xlink:href=\"#m6b11374e2d\" y=\"287.723057\"/>\n     <use style=\"fill:#4c72b0;stroke:#ffffff;stroke-width:0.48;\" x=\"487.72539\" xlink:href=\"#m6b11374e2d\" y=\"197.728462\"/>\n     <use style=\"fill:#4c72b0;stroke:#ffffff;stroke-width:0.48;\" x=\"487.72539\" xlink:href=\"#m6b11374e2d\" y=\"322.170749\"/>\n     <use style=\"fill:#4c72b0;stroke:#ffffff;stroke-width:0.48;\" x=\"487.72539\" xlink:href=\"#m6b11374e2d\" y=\"235.405625\"/>\n     <use style=\"fill:#4c72b0;stroke:#ffffff;stroke-width:0.48;\" x=\"845.00194\" xlink:href=\"#m6b11374e2d\" y=\"350.590095\"/>\n     <use style=\"fill:#4c72b0;stroke:#ffffff;stroke-width:0.48;\" x=\"845.00194\" xlink:href=\"#m6b11374e2d\" y=\"348.437114\"/>\n     <use style=\"fill:#4c72b0;stroke:#ffffff;stroke-width:0.48;\" x=\"845.00194\" xlink:href=\"#m6b11374e2d\" y=\"351.020691\"/>\n     <use style=\"fill:#4c72b0;stroke:#ffffff;stroke-width:0.48;\" x=\"845.00194\" xlink:href=\"#m6b11374e2d\" y=\"314.24778\"/>\n     <use style=\"fill:#4c72b0;stroke:#ffffff;stroke-width:0.48;\" x=\"845.00194\" xlink:href=\"#m6b11374e2d\" y=\"353.604268\"/>\n     <use style=\"fill:#4c72b0;stroke:#ffffff;stroke-width:0.48;\" x=\"487.72539\" xlink:href=\"#m6b11374e2d\" y=\"276.527557\"/>\n     <use style=\"fill:#4c72b0;stroke:#ffffff;stroke-width:0.48;\" x=\"487.72539\" xlink:href=\"#m6b11374e2d\" y=\"315.711806\"/>\n     <use style=\"fill:#4c72b0;stroke:#ffffff;stroke-width:0.48;\" x=\"845.00194\" xlink:href=\"#m6b11374e2d\" y=\"345.853537\"/>\n     <use style=\"fill:#4c72b0;stroke:#ffffff;stroke-width:0.48;\" x=\"845.00194\" xlink:href=\"#m6b11374e2d\" y=\"318.72598\"/>\n     <use style=\"fill:#4c72b0;stroke:#ffffff;stroke-width:0.48;\" x=\"845.00194\" xlink:href=\"#m6b11374e2d\" y=\"252.988301\"/>\n     <use style=\"fill:#4c72b0;stroke:#ffffff;stroke-width:0.48;\" x=\"845.00194\" xlink:href=\"#m6b11374e2d\" y=\"340.686383\"/>\n     <use style=\"fill:#4c72b0;stroke:#ffffff;stroke-width:0.48;\" x=\"487.72539\" xlink:href=\"#m6b11374e2d\" y=\"337.67221\"/>\n     <use style=\"fill:#4c72b0;stroke:#ffffff;stroke-width:0.48;\" x=\"487.72539\" xlink:href=\"#m6b11374e2d\" y=\"337.241614\"/>\n     <use style=\"fill:#4c72b0;stroke:#ffffff;stroke-width:0.48;\" x=\"487.72539\" xlink:href=\"#m6b11374e2d\" y=\"300.640941\"/>\n     <use style=\"fill:#4c72b0;stroke:#ffffff;stroke-width:0.48;\" x=\"845.00194\" xlink:href=\"#m6b11374e2d\" y=\"351.451287\"/>\n     <use style=\"fill:#4c72b0;stroke:#ffffff;stroke-width:0.48;\" x=\"845.00194\" xlink:href=\"#m6b11374e2d\" y=\"328.629691\"/>\n    </g>\n   </g>\n   <g id=\"patch_6\">\n    <path d=\"M 469.861563 384.930137 \nL 469.861563 8.373805 \n\" style=\"fill:none;stroke:#ffffff;stroke-linecap:square;stroke-linejoin:miter;stroke-width:1.25;\"/>\n   </g>\n   <g id=\"patch_7\">\n    <path d=\"M 469.861563 384.930137 \nL 862.865767 384.930137 \n\" style=\"fill:none;stroke:#ffffff;stroke-linecap:square;stroke-linejoin:miter;stroke-width:1.25;\"/>\n   </g>\n  </g>\n  <g id=\"axes_3\">\n   <g id=\"patch_8\">\n    <path d=\"M 871.346563 384.930137 \nL 1264.350767 384.930137 \nL 1264.350767 8.373805 \nL 871.346563 8.373805 \nz\n\" style=\"fill:#eaeaf2;\"/>\n   </g>\n   <g id=\"matplotlib.axis_5\">\n    <g id=\"xtick_6\">\n     <g id=\"line2d_20\">\n      <path clip-path=\"url(#pa7110db9d7)\" d=\"M 889.21039 384.930137 \nL 889.21039 8.373805 \n\" style=\"fill:none;stroke:#ffffff;stroke-linecap:round;\"/>\n     </g>\n     <g id=\"text_16\">\n      <!-- White -->\n      <g style=\"fill:#262626;\" transform=\"translate(875.151874 402.303731)scale(0.11 -0.11)\">\n       <defs>\n        <path d=\"M 1294 0 \nL 78 4581 \nL 700 4581 \nL 1397 1578 \nQ 1509 1106 1591 641 \nQ 1766 1375 1797 1488 \nL 2669 4581 \nL 3400 4581 \nL 4056 2263 \nQ 4303 1400 4413 641 \nQ 4500 1075 4641 1638 \nL 5359 4581 \nL 5969 4581 \nL 4713 0 \nL 4128 0 \nL 3163 3491 \nQ 3041 3928 3019 4028 \nQ 2947 3713 2884 3491 \nL 1913 0 \nL 1294 0 \nz\n\" id=\"ArialMT-57\" transform=\"scale(0.015625)\"/>\n        <path d=\"M 422 0 \nL 422 4581 \nL 984 4581 \nL 984 2938 \nQ 1378 3394 1978 3394 \nQ 2347 3394 2619 3248 \nQ 2891 3103 3008 2847 \nQ 3125 2591 3125 2103 \nL 3125 0 \nL 2563 0 \nL 2563 2103 \nQ 2563 2525 2380 2717 \nQ 2197 2909 1863 2909 \nQ 1613 2909 1392 2779 \nQ 1172 2650 1078 2428 \nQ 984 2206 984 1816 \nL 984 0 \nL 422 0 \nz\n\" id=\"ArialMT-68\" transform=\"scale(0.015625)\"/>\n       </defs>\n       <use xlink:href=\"#ArialMT-57\"/>\n       <use x=\"94.384766\" xlink:href=\"#ArialMT-68\"/>\n       <use x=\"150\" xlink:href=\"#ArialMT-69\"/>\n       <use x=\"172.216797\" xlink:href=\"#ArialMT-74\"/>\n       <use x=\"200\" xlink:href=\"#ArialMT-65\"/>\n      </g>\n     </g>\n    </g>\n    <g id=\"xtick_7\">\n     <g id=\"line2d_21\">\n      <path clip-path=\"url(#pa7110db9d7)\" d=\"M 1246.48694 384.930137 \nL 1246.48694 8.373805 \n\" style=\"fill:none;stroke:#ffffff;stroke-linecap:round;\"/>\n     </g>\n     <g id=\"text_17\">\n      <!-- Minority -->\n      <g style=\"fill:#262626;\" transform=\"translate(1227.235221 402.303731)scale(0.11 -0.11)\">\n       <use xlink:href=\"#ArialMT-4d\"/>\n       <use x=\"83.300781\" xlink:href=\"#ArialMT-69\"/>\n       <use x=\"105.517578\" xlink:href=\"#ArialMT-6e\"/>\n       <use x=\"161.132812\" xlink:href=\"#ArialMT-6f\"/>\n       <use x=\"216.748047\" xlink:href=\"#ArialMT-72\"/>\n       <use x=\"250.048828\" xlink:href=\"#ArialMT-69\"/>\n       <use x=\"272.265625\" xlink:href=\"#ArialMT-74\"/>\n       <use x=\"300.048828\" xlink:href=\"#ArialMT-79\"/>\n      </g>\n     </g>\n    </g>\n    <g id=\"text_18\">\n     <!-- MINORITY_DENOTING -->\n     <g style=\"fill:#262626;\" transform=\"translate(1003.513665 417.362012)scale(0.12 -0.12)\">\n      <use xlink:href=\"#ArialMT-4d\"/>\n      <use x=\"83.300781\" xlink:href=\"#ArialMT-49\"/>\n      <use x=\"111.083984\" xlink:href=\"#ArialMT-4e\"/>\n      <use x=\"183.300781\" xlink:href=\"#ArialMT-4f\"/>\n      <use x=\"261.083984\" xlink:href=\"#ArialMT-52\"/>\n      <use x=\"333.300781\" xlink:href=\"#ArialMT-49\"/>\n      <use x=\"361.083984\" xlink:href=\"#ArialMT-54\"/>\n      <use x=\"422.167969\" xlink:href=\"#ArialMT-59\"/>\n      <use x=\"488.867188\" xlink:href=\"#ArialMT-5f\"/>\n      <use x=\"544.482422\" xlink:href=\"#ArialMT-44\"/>\n      <use x=\"616.699219\" xlink:href=\"#ArialMT-45\"/>\n      <use x=\"683.398438\" xlink:href=\"#ArialMT-4e\"/>\n      <use x=\"755.615234\" xlink:href=\"#ArialMT-4f\"/>\n      <use x=\"833.398438\" xlink:href=\"#ArialMT-54\"/>\n      <use x=\"894.482422\" xlink:href=\"#ArialMT-49\"/>\n      <use x=\"922.265625\" xlink:href=\"#ArialMT-4e\"/>\n      <use x=\"994.482422\" xlink:href=\"#ArialMT-47\"/>\n     </g>\n    </g>\n   </g>\n   <g id=\"matplotlib.axis_6\">\n    <g id=\"ytick_15\">\n     <g id=\"line2d_22\">\n      <path clip-path=\"url(#pa7110db9d7)\" d=\"M 871.346563 355.613716 \nL 1264.350767 355.613716 \n\" style=\"fill:none;stroke:#ffffff;stroke-linecap:round;\"/>\n     </g>\n    </g>\n    <g id=\"ytick_16\">\n     <g id=\"line2d_23\">\n      <path clip-path=\"url(#pa7110db9d7)\" d=\"M 871.346563 298.200896 \nL 1264.350767 298.200896 \n\" style=\"fill:none;stroke:#ffffff;stroke-linecap:round;\"/>\n     </g>\n    </g>\n    <g id=\"ytick_17\">\n     <g id=\"line2d_24\">\n      <path clip-path=\"url(#pa7110db9d7)\" d=\"M 871.346563 240.788076 \nL 1264.350767 240.788076 \n\" style=\"fill:none;stroke:#ffffff;stroke-linecap:round;\"/>\n     </g>\n    </g>\n    <g id=\"ytick_18\">\n     <g id=\"line2d_25\">\n      <path clip-path=\"url(#pa7110db9d7)\" d=\"M 871.346563 183.375257 \nL 1264.350767 183.375257 \n\" style=\"fill:none;stroke:#ffffff;stroke-linecap:round;\"/>\n     </g>\n    </g>\n    <g id=\"ytick_19\">\n     <g id=\"line2d_26\">\n      <path clip-path=\"url(#pa7110db9d7)\" d=\"M 871.346563 125.962437 \nL 1264.350767 125.962437 \n\" style=\"fill:none;stroke:#ffffff;stroke-linecap:round;\"/>\n     </g>\n    </g>\n    <g id=\"ytick_20\">\n     <g id=\"line2d_27\">\n      <path clip-path=\"url(#pa7110db9d7)\" d=\"M 871.346563 68.549617 \nL 1264.350767 68.549617 \n\" style=\"fill:none;stroke:#ffffff;stroke-linecap:round;\"/>\n     </g>\n    </g>\n    <g id=\"ytick_21\">\n     <g id=\"line2d_28\">\n      <path clip-path=\"url(#pa7110db9d7)\" d=\"M 871.346563 11.136797 \nL 1264.350767 11.136797 \n\" style=\"fill:none;stroke:#ffffff;stroke-linecap:round;\"/>\n     </g>\n    </g>\n   </g>\n   <g id=\"PathCollection_3\">\n    <g clip-path=\"url(#pa7110db9d7)\">\n     <use style=\"fill:#4c72b0;stroke:#ffffff;stroke-width:0.48;\" x=\"889.21039\" xlink:href=\"#m6b11374e2d\" y=\"249.399999\"/>\n     <use style=\"fill:#4c72b0;stroke:#ffffff;stroke-width:0.48;\" x=\"889.21039\" xlink:href=\"#m6b11374e2d\" y=\"297.626768\"/>\n     <use style=\"fill:#4c72b0;stroke:#ffffff;stroke-width:0.48;\" x=\"889.21039\" xlink:href=\"#m6b11374e2d\" y=\"351.451287\"/>\n     <use style=\"fill:#4c72b0;stroke:#ffffff;stroke-width:0.48;\" x=\"889.21039\" xlink:href=\"#m6b11374e2d\" y=\"350.159498\"/>\n     <use style=\"fill:#4c72b0;stroke:#ffffff;stroke-width:0.48;\" x=\"889.21039\" xlink:href=\"#m6b11374e2d\" y=\"283.847691\"/>\n     <use style=\"fill:#4c72b0;stroke:#ffffff;stroke-width:0.48;\" x=\"889.21039\" xlink:href=\"#m6b11374e2d\" y=\"320.87896\"/>\n     <use style=\"fill:#4c72b0;stroke:#ffffff;stroke-width:0.48;\" x=\"889.21039\" xlink:href=\"#m6b11374e2d\" y=\"309.68346\"/>\n     <use style=\"fill:#4c72b0;stroke:#ffffff;stroke-width:0.48;\" x=\"889.21039\" xlink:href=\"#m6b11374e2d\" y=\"350.159498\"/>\n     <use style=\"fill:#4c72b0;stroke:#ffffff;stroke-width:0.48;\" x=\"889.21039\" xlink:href=\"#m6b11374e2d\" y=\"332.935652\"/>\n     <use style=\"fill:#4c72b0;stroke:#ffffff;stroke-width:0.48;\" x=\"889.21039\" xlink:href=\"#m6b11374e2d\" y=\"344.131152\"/>\n     <use style=\"fill:#4c72b0;stroke:#ffffff;stroke-width:0.48;\" x=\"889.21039\" xlink:href=\"#m6b11374e2d\" y=\"326.046114\"/>\n     <use style=\"fill:#4c72b0;stroke:#ffffff;stroke-width:0.48;\" x=\"1246.48694\" xlink:href=\"#m6b11374e2d\" y=\"331.643864\"/>\n     <use style=\"fill:#4c72b0;stroke:#ffffff;stroke-width:0.48;\" x=\"1246.48694\" xlink:href=\"#m6b11374e2d\" y=\"333.366249\"/>\n     <use style=\"fill:#4c72b0;stroke:#ffffff;stroke-width:0.48;\" x=\"1246.48694\" xlink:href=\"#m6b11374e2d\" y=\"312.267037\"/>\n     <use style=\"fill:#4c72b0;stroke:#ffffff;stroke-width:0.48;\" x=\"889.21039\" xlink:href=\"#m6b11374e2d\" y=\"334.658037\"/>\n     <use style=\"fill:#4c72b0;stroke:#ffffff;stroke-width:0.48;\" x=\"889.21039\" xlink:href=\"#m6b11374e2d\" y=\"295.904384\"/>\n     <use style=\"fill:#4c72b0;stroke:#ffffff;stroke-width:0.48;\" x=\"889.21039\" xlink:href=\"#m6b11374e2d\" y=\"280.97705\"/>\n     <use style=\"fill:#4c72b0;stroke:#ffffff;stroke-width:0.48;\" x=\"889.21039\" xlink:href=\"#m6b11374e2d\" y=\"115.197533\"/>\n     <use style=\"fill:#4c72b0;stroke:#ffffff;stroke-width:0.48;\" x=\"889.21039\" xlink:href=\"#m6b11374e2d\" y=\"291.598422\"/>\n     <use style=\"fill:#4c72b0;stroke:#ffffff;stroke-width:0.48;\" x=\"889.21039\" xlink:href=\"#m6b11374e2d\" y=\"337.67221\"/>\n     <use style=\"fill:#4c72b0;stroke:#ffffff;stroke-width:0.48;\" x=\"889.21039\" xlink:href=\"#m6b11374e2d\" y=\"301.502134\"/>\n     <use style=\"fill:#4c72b0;stroke:#ffffff;stroke-width:0.48;\" x=\"1246.48694\" xlink:href=\"#m6b11374e2d\" y=\"350.590095\"/>\n     <use style=\"fill:#4c72b0;stroke:#ffffff;stroke-width:0.48;\" x=\"1246.48694\" xlink:href=\"#m6b11374e2d\" y=\"344.131152\"/>\n     <use style=\"fill:#4c72b0;stroke:#ffffff;stroke-width:0.48;\" x=\"1246.48694\" xlink:href=\"#m6b11374e2d\" y=\"364.369171\"/>\n     <use style=\"fill:#4c72b0;stroke:#ffffff;stroke-width:0.48;\" x=\"1246.48694\" xlink:href=\"#m6b11374e2d\" y=\"352.312479\"/>\n     <use style=\"fill:#4c72b0;stroke:#ffffff;stroke-width:0.48;\" x=\"889.21039\" xlink:href=\"#m6b11374e2d\" y=\"323.893133\"/>\n     <use style=\"fill:#4c72b0;stroke:#ffffff;stroke-width:0.48;\" x=\"889.21039\" xlink:href=\"#m6b11374e2d\" y=\"239.711586\"/>\n     <use style=\"fill:#4c72b0;stroke:#ffffff;stroke-width:0.48;\" x=\"889.21039\" xlink:href=\"#m6b11374e2d\" y=\"319.587172\"/>\n     <use style=\"fill:#4c72b0;stroke:#ffffff;stroke-width:0.48;\" x=\"889.21039\" xlink:href=\"#m6b11374e2d\" y=\"25.490002\"/>\n     <use style=\"fill:#4c72b0;stroke:#ffffff;stroke-width:0.48;\" x=\"889.21039\" xlink:href=\"#m6b11374e2d\" y=\"323.462537\"/>\n     <use style=\"fill:#4c72b0;stroke:#ffffff;stroke-width:0.48;\" x=\"889.21039\" xlink:href=\"#m6b11374e2d\" y=\"309.252864\"/>\n     <use style=\"fill:#4c72b0;stroke:#ffffff;stroke-width:0.48;\" x=\"889.21039\" xlink:href=\"#m6b11374e2d\" y=\"95.461876\"/>\n     <use style=\"fill:#4c72b0;stroke:#ffffff;stroke-width:0.48;\" x=\"889.21039\" xlink:href=\"#m6b11374e2d\" y=\"292.459614\"/>\n     <use style=\"fill:#4c72b0;stroke:#ffffff;stroke-width:0.48;\" x=\"889.21039\" xlink:href=\"#m6b11374e2d\" y=\"148.927565\"/>\n     <use style=\"fill:#4c72b0;stroke:#ffffff;stroke-width:0.48;\" x=\"889.21039\" xlink:href=\"#m6b11374e2d\" y=\"179.786955\"/>\n     <use style=\"fill:#4c72b0;stroke:#ffffff;stroke-width:0.48;\" x=\"889.21039\" xlink:href=\"#m6b11374e2d\" y=\"323.031941\"/>\n     <use style=\"fill:#4c72b0;stroke:#ffffff;stroke-width:0.48;\" x=\"1246.48694\" xlink:href=\"#m6b11374e2d\" y=\"329.490883\"/>\n     <use style=\"fill:#4c72b0;stroke:#ffffff;stroke-width:0.48;\" x=\"1246.48694\" xlink:href=\"#m6b11374e2d\" y=\"323.031941\"/>\n     <use style=\"fill:#4c72b0;stroke:#ffffff;stroke-width:0.48;\" x=\"1246.48694\" xlink:href=\"#m6b11374e2d\" y=\"309.68346\"/>\n     <use style=\"fill:#4c72b0;stroke:#ffffff;stroke-width:0.48;\" x=\"1246.48694\" xlink:href=\"#m6b11374e2d\" y=\"357.910229\"/>\n     <use style=\"fill:#4c72b0;stroke:#ffffff;stroke-width:0.48;\" x=\"1246.48694\" xlink:href=\"#m6b11374e2d\" y=\"345.422941\"/>\n     <use style=\"fill:#4c72b0;stroke:#ffffff;stroke-width:0.48;\" x=\"889.21039\" xlink:href=\"#m6b11374e2d\" y=\"312.267037\"/>\n     <use style=\"fill:#4c72b0;stroke:#ffffff;stroke-width:0.48;\" x=\"889.21039\" xlink:href=\"#m6b11374e2d\" y=\"346.284133\"/>\n     <use style=\"fill:#4c72b0;stroke:#ffffff;stroke-width:0.48;\" x=\"889.21039\" xlink:href=\"#m6b11374e2d\" y=\"329.060287\"/>\n     <use style=\"fill:#4c72b0;stroke:#ffffff;stroke-width:0.48;\" x=\"889.21039\" xlink:href=\"#m6b11374e2d\" y=\"324.754326\"/>\n     <use style=\"fill:#4c72b0;stroke:#ffffff;stroke-width:0.48;\" x=\"889.21039\" xlink:href=\"#m6b11374e2d\" y=\"348.86771\"/>\n     <use style=\"fill:#4c72b0;stroke:#ffffff;stroke-width:0.48;\" x=\"889.21039\" xlink:href=\"#m6b11374e2d\" y=\"326.907306\"/>\n     <use style=\"fill:#4c72b0;stroke:#ffffff;stroke-width:0.48;\" x=\"889.21039\" xlink:href=\"#m6b11374e2d\" y=\"324.754326\"/>\n     <use style=\"fill:#4c72b0;stroke:#ffffff;stroke-width:0.48;\" x=\"889.21039\" xlink:href=\"#m6b11374e2d\" y=\"313.12823\"/>\n     <use style=\"fill:#4c72b0;stroke:#ffffff;stroke-width:0.48;\" x=\"889.21039\" xlink:href=\"#m6b11374e2d\" y=\"240.788076\"/>\n     <use style=\"fill:#4c72b0;stroke:#ffffff;stroke-width:0.48;\" x=\"889.21039\" xlink:href=\"#m6b11374e2d\" y=\"310.975249\"/>\n     <use style=\"fill:#4c72b0;stroke:#ffffff;stroke-width:0.48;\" x=\"889.21039\" xlink:href=\"#m6b11374e2d\" y=\"283.417095\"/>\n     <use style=\"fill:#4c72b0;stroke:#ffffff;stroke-width:0.48;\" x=\"889.21039\" xlink:href=\"#m6b11374e2d\" y=\"201.316763\"/>\n     <use style=\"fill:#4c72b0;stroke:#ffffff;stroke-width:0.48;\" x=\"889.21039\" xlink:href=\"#m6b11374e2d\" y=\"341.116979\"/>\n     <use style=\"fill:#4c72b0;stroke:#ffffff;stroke-width:0.48;\" x=\"889.21039\" xlink:href=\"#m6b11374e2d\" y=\"335.519229\"/>\n     <use style=\"fill:#4c72b0;stroke:#ffffff;stroke-width:0.48;\" x=\"889.21039\" xlink:href=\"#m6b11374e2d\" y=\"335.949825\"/>\n     <use style=\"fill:#4c72b0;stroke:#ffffff;stroke-width:0.48;\" x=\"889.21039\" xlink:href=\"#m6b11374e2d\" y=\"315.711806\"/>\n     <use style=\"fill:#4c72b0;stroke:#ffffff;stroke-width:0.48;\" x=\"889.21039\" xlink:href=\"#m6b11374e2d\" y=\"337.241614\"/>\n     <use style=\"fill:#4c72b0;stroke:#ffffff;stroke-width:0.48;\" x=\"1246.48694\" xlink:href=\"#m6b11374e2d\" y=\"332.505056\"/>\n     <use style=\"fill:#4c72b0;stroke:#ffffff;stroke-width:0.48;\" x=\"1246.48694\" xlink:href=\"#m6b11374e2d\" y=\"324.323729\"/>\n     <use style=\"fill:#4c72b0;stroke:#ffffff;stroke-width:0.48;\" x=\"1246.48694\" xlink:href=\"#m6b11374e2d\" y=\"348.437114\"/>\n     <use style=\"fill:#4c72b0;stroke:#ffffff;stroke-width:0.48;\" x=\"889.21039\" xlink:href=\"#m6b11374e2d\" y=\"275.235768\"/>\n     <use style=\"fill:#4c72b0;stroke:#ffffff;stroke-width:0.48;\" x=\"889.21039\" xlink:href=\"#m6b11374e2d\" y=\"255.141281\"/>\n     <use style=\"fill:#4c72b0;stroke:#ffffff;stroke-width:0.48;\" x=\"889.21039\" xlink:href=\"#m6b11374e2d\" y=\"260.523733\"/>\n     <use style=\"fill:#4c72b0;stroke:#ffffff;stroke-width:0.48;\" x=\"889.21039\" xlink:href=\"#m6b11374e2d\" y=\"350.159498\"/>\n     <use style=\"fill:#4c72b0;stroke:#ffffff;stroke-width:0.48;\" x=\"889.21039\" xlink:href=\"#m6b11374e2d\" y=\"188.757708\"/>\n     <use style=\"fill:#4c72b0;stroke:#ffffff;stroke-width:0.48;\" x=\"889.21039\" xlink:href=\"#m6b11374e2d\" y=\"280.97705\"/>\n     <use style=\"fill:#4c72b0;stroke:#ffffff;stroke-width:0.48;\" x=\"889.21039\" xlink:href=\"#m6b11374e2d\" y=\"283.130031\"/>\n     <use style=\"fill:#4c72b0;stroke:#ffffff;stroke-width:0.48;\" x=\"889.21039\" xlink:href=\"#m6b11374e2d\" y=\"250.691788\"/>\n     <use style=\"fill:#4c72b0;stroke:#ffffff;stroke-width:0.48;\" x=\"889.21039\" xlink:href=\"#m6b11374e2d\" y=\"295.043191\"/>\n     <use style=\"fill:#4c72b0;stroke:#ffffff;stroke-width:0.48;\" x=\"889.21039\" xlink:href=\"#m6b11374e2d\" y=\"176.198654\"/>\n     <use style=\"fill:#4c72b0;stroke:#ffffff;stroke-width:0.48;\" x=\"889.21039\" xlink:href=\"#m6b11374e2d\" y=\"258.011922\"/>\n     <use style=\"fill:#4c72b0;stroke:#ffffff;stroke-width:0.48;\" x=\"889.21039\" xlink:href=\"#m6b11374e2d\" y=\"337.241614\"/>\n     <use style=\"fill:#4c72b0;stroke:#ffffff;stroke-width:0.48;\" x=\"889.21039\" xlink:href=\"#m6b11374e2d\" y=\"315.711806\"/>\n     <use style=\"fill:#4c72b0;stroke:#ffffff;stroke-width:0.48;\" x=\"889.21039\" xlink:href=\"#m6b11374e2d\" y=\"343.700556\"/>\n     <use style=\"fill:#4c72b0;stroke:#ffffff;stroke-width:0.48;\" x=\"889.21039\" xlink:href=\"#m6b11374e2d\" y=\"329.060287\"/>\n     <use style=\"fill:#4c72b0;stroke:#ffffff;stroke-width:0.48;\" x=\"889.21039\" xlink:href=\"#m6b11374e2d\" y=\"333.796845\"/>\n     <use style=\"fill:#4c72b0;stroke:#ffffff;stroke-width:0.48;\" x=\"889.21039\" xlink:href=\"#m6b11374e2d\" y=\"347.145325\"/>\n     <use style=\"fill:#4c72b0;stroke:#ffffff;stroke-width:0.48;\" x=\"889.21039\" xlink:href=\"#m6b11374e2d\" y=\"313.12823\"/>\n     <use style=\"fill:#4c72b0;stroke:#ffffff;stroke-width:0.48;\" x=\"889.21039\" xlink:href=\"#m6b11374e2d\" y=\"266.623845\"/>\n     <use style=\"fill:#4c72b0;stroke:#ffffff;stroke-width:0.48;\" x=\"889.21039\" xlink:href=\"#m6b11374e2d\" y=\"343.26996\"/>\n     <use style=\"fill:#4c72b0;stroke:#ffffff;stroke-width:0.48;\" x=\"1246.48694\" xlink:href=\"#m6b11374e2d\" y=\"341.978172\"/>\n     <use style=\"fill:#4c72b0;stroke:#ffffff;stroke-width:0.48;\" x=\"1246.48694\" xlink:href=\"#m6b11374e2d\" y=\"347.145325\"/>\n     <use style=\"fill:#4c72b0;stroke:#ffffff;stroke-width:0.48;\" x=\"1246.48694\" xlink:href=\"#m6b11374e2d\" y=\"341.116979\"/>\n     <use style=\"fill:#4c72b0;stroke:#ffffff;stroke-width:0.48;\" x=\"889.21039\" xlink:href=\"#m6b11374e2d\" y=\"338.533402\"/>\n     <use style=\"fill:#4c72b0;stroke:#ffffff;stroke-width:0.48;\" x=\"889.21039\" xlink:href=\"#m6b11374e2d\" y=\"322.170749\"/>\n     <use style=\"fill:#4c72b0;stroke:#ffffff;stroke-width:0.48;\" x=\"889.21039\" xlink:href=\"#m6b11374e2d\" y=\"343.700556\"/>\n     <use style=\"fill:#4c72b0;stroke:#ffffff;stroke-width:0.48;\" x=\"889.21039\" xlink:href=\"#m6b11374e2d\" y=\"204.905064\"/>\n     <use style=\"fill:#4c72b0;stroke:#ffffff;stroke-width:0.48;\" x=\"889.21039\" xlink:href=\"#m6b11374e2d\" y=\"215.669968\"/>\n     <use style=\"fill:#4c72b0;stroke:#ffffff;stroke-width:0.48;\" x=\"889.21039\" xlink:href=\"#m6b11374e2d\" y=\"366.522152\"/>\n     <use style=\"fill:#4c72b0;stroke:#ffffff;stroke-width:0.48;\" x=\"889.21039\" xlink:href=\"#m6b11374e2d\" y=\"355.326652\"/>\n     <use style=\"fill:#4c72b0;stroke:#ffffff;stroke-width:0.48;\" x=\"889.21039\" xlink:href=\"#m6b11374e2d\" y=\"344.131152\"/>\n     <use style=\"fill:#4c72b0;stroke:#ffffff;stroke-width:0.48;\" x=\"889.21039\" xlink:href=\"#m6b11374e2d\" y=\"338.533402\"/>\n     <use style=\"fill:#4c72b0;stroke:#ffffff;stroke-width:0.48;\" x=\"889.21039\" xlink:href=\"#m6b11374e2d\" y=\"342.408768\"/>\n     <use style=\"fill:#4c72b0;stroke:#ffffff;stroke-width:0.48;\" x=\"889.21039\" xlink:href=\"#m6b11374e2d\" y=\"331.213268\"/>\n     <use style=\"fill:#4c72b0;stroke:#ffffff;stroke-width:0.48;\" x=\"1246.48694\" xlink:href=\"#m6b11374e2d\" y=\"324.754326\"/>\n     <use style=\"fill:#4c72b0;stroke:#ffffff;stroke-width:0.48;\" x=\"1246.48694\" xlink:href=\"#m6b11374e2d\" y=\"297.626768\"/>\n     <use style=\"fill:#4c72b0;stroke:#ffffff;stroke-width:0.48;\" x=\"1246.48694\" xlink:href=\"#m6b11374e2d\" y=\"326.907306\"/>\n     <use style=\"fill:#4c72b0;stroke:#ffffff;stroke-width:0.48;\" x=\"1246.48694\" xlink:href=\"#m6b11374e2d\" y=\"349.728902\"/>\n     <use style=\"fill:#4c72b0;stroke:#ffffff;stroke-width:0.48;\" x=\"889.21039\" xlink:href=\"#m6b11374e2d\" y=\"188.398878\"/>\n     <use style=\"fill:#4c72b0;stroke:#ffffff;stroke-width:0.48;\" x=\"889.21039\" xlink:href=\"#m6b11374e2d\" y=\"238.993926\"/>\n     <use style=\"fill:#4c72b0;stroke:#ffffff;stroke-width:0.48;\" x=\"889.21039\" xlink:href=\"#m6b11374e2d\" y=\"298.48796\"/>\n     <use style=\"fill:#4c72b0;stroke:#ffffff;stroke-width:0.48;\" x=\"889.21039\" xlink:href=\"#m6b11374e2d\" y=\"134.57436\"/>\n     <use style=\"fill:#4c72b0;stroke:#ffffff;stroke-width:0.48;\" x=\"889.21039\" xlink:href=\"#m6b11374e2d\" y=\"334.227441\"/>\n     <use style=\"fill:#4c72b0;stroke:#ffffff;stroke-width:0.48;\" x=\"889.21039\" xlink:href=\"#m6b11374e2d\" y=\"322.170749\"/>\n     <use style=\"fill:#4c72b0;stroke:#ffffff;stroke-width:0.48;\" x=\"889.21039\" xlink:href=\"#m6b11374e2d\" y=\"151.080545\"/>\n     <use style=\"fill:#4c72b0;stroke:#ffffff;stroke-width:0.48;\" x=\"889.21039\" xlink:href=\"#m6b11374e2d\" y=\"340.686383\"/>\n     <use style=\"fill:#4c72b0;stroke:#ffffff;stroke-width:0.48;\" x=\"889.21039\" xlink:href=\"#m6b11374e2d\" y=\"352.743075\"/>\n     <use style=\"fill:#4c72b0;stroke:#ffffff;stroke-width:0.48;\" x=\"1246.48694\" xlink:href=\"#m6b11374e2d\" y=\"325.615518\"/>\n     <use style=\"fill:#4c72b0;stroke:#ffffff;stroke-width:0.48;\" x=\"1246.48694\" xlink:href=\"#m6b11374e2d\" y=\"331.643864\"/>\n     <use style=\"fill:#4c72b0;stroke:#ffffff;stroke-width:0.48;\" x=\"1246.48694\" xlink:href=\"#m6b11374e2d\" y=\"324.754326\"/>\n     <use style=\"fill:#4c72b0;stroke:#ffffff;stroke-width:0.48;\" x=\"1246.48694\" xlink:href=\"#m6b11374e2d\" y=\"324.754326\"/>\n     <use style=\"fill:#4c72b0;stroke:#ffffff;stroke-width:0.48;\" x=\"889.21039\" xlink:href=\"#m6b11374e2d\" y=\"255.500112\"/>\n     <use style=\"fill:#4c72b0;stroke:#ffffff;stroke-width:0.48;\" x=\"889.21039\" xlink:href=\"#m6b11374e2d\" y=\"304.516307\"/>\n     <use style=\"fill:#4c72b0;stroke:#ffffff;stroke-width:0.48;\" x=\"889.21039\" xlink:href=\"#m6b11374e2d\" y=\"317.003595\"/>\n     <use style=\"fill:#4c72b0;stroke:#ffffff;stroke-width:0.48;\" x=\"889.21039\" xlink:href=\"#m6b11374e2d\" y=\"326.046114\"/>\n     <use style=\"fill:#4c72b0;stroke:#ffffff;stroke-width:0.48;\" x=\"889.21039\" xlink:href=\"#m6b11374e2d\" y=\"322.601345\"/>\n     <use style=\"fill:#4c72b0;stroke:#ffffff;stroke-width:0.48;\" x=\"889.21039\" xlink:href=\"#m6b11374e2d\" y=\"322.170749\"/>\n     <use style=\"fill:#4c72b0;stroke:#ffffff;stroke-width:0.48;\" x=\"889.21039\" xlink:href=\"#m6b11374e2d\" y=\"340.686383\"/>\n     <use style=\"fill:#4c72b0;stroke:#ffffff;stroke-width:0.48;\" x=\"889.21039\" xlink:href=\"#m6b11374e2d\" y=\"304.516307\"/>\n     <use style=\"fill:#4c72b0;stroke:#ffffff;stroke-width:0.48;\" x=\"889.21039\" xlink:href=\"#m6b11374e2d\" y=\"359.202018\"/>\n     <use style=\"fill:#4c72b0;stroke:#ffffff;stroke-width:0.48;\" x=\"889.21039\" xlink:href=\"#m6b11374e2d\" y=\"319.587172\"/>\n     <use style=\"fill:#4c72b0;stroke:#ffffff;stroke-width:0.48;\" x=\"889.21039\" xlink:href=\"#m6b11374e2d\" y=\"317.434191\"/>\n     <use style=\"fill:#4c72b0;stroke:#ffffff;stroke-width:0.48;\" x=\"889.21039\" xlink:href=\"#m6b11374e2d\" y=\"302.363326\"/>\n     <use style=\"fill:#4c72b0;stroke:#ffffff;stroke-width:0.48;\" x=\"1246.48694\" xlink:href=\"#m6b11374e2d\" y=\"334.227441\"/>\n     <use style=\"fill:#4c72b0;stroke:#ffffff;stroke-width:0.48;\" x=\"1246.48694\" xlink:href=\"#m6b11374e2d\" y=\"343.26996\"/>\n     <use style=\"fill:#4c72b0;stroke:#ffffff;stroke-width:0.48;\" x=\"1246.48694\" xlink:href=\"#m6b11374e2d\" y=\"324.754326\"/>\n     <use style=\"fill:#4c72b0;stroke:#ffffff;stroke-width:0.48;\" x=\"1246.48694\" xlink:href=\"#m6b11374e2d\" y=\"356.618441\"/>\n     <use style=\"fill:#4c72b0;stroke:#ffffff;stroke-width:0.48;\" x=\"889.21039\" xlink:href=\"#m6b11374e2d\" y=\"215.669968\"/>\n     <use style=\"fill:#4c72b0;stroke:#ffffff;stroke-width:0.48;\" x=\"889.21039\" xlink:href=\"#m6b11374e2d\" y=\"242.582227\"/>\n     <use style=\"fill:#4c72b0;stroke:#ffffff;stroke-width:0.48;\" x=\"889.21039\" xlink:href=\"#m6b11374e2d\" y=\"322.601345\"/>\n     <use style=\"fill:#4c72b0;stroke:#ffffff;stroke-width:0.48;\" x=\"889.21039\" xlink:href=\"#m6b11374e2d\" y=\"334.658037\"/>\n     <use style=\"fill:#4c72b0;stroke:#ffffff;stroke-width:0.48;\" x=\"889.21039\" xlink:href=\"#m6b11374e2d\" y=\"335.519229\"/>\n     <use style=\"fill:#4c72b0;stroke:#ffffff;stroke-width:0.48;\" x=\"889.21039\" xlink:href=\"#m6b11374e2d\" y=\"293.751403\"/>\n     <use style=\"fill:#4c72b0;stroke:#ffffff;stroke-width:0.48;\" x=\"889.21039\" xlink:href=\"#m6b11374e2d\" y=\"337.67221\"/>\n     <use style=\"fill:#4c72b0;stroke:#ffffff;stroke-width:0.48;\" x=\"889.21039\" xlink:href=\"#m6b11374e2d\" y=\"349.298306\"/>\n     <use style=\"fill:#4c72b0;stroke:#ffffff;stroke-width:0.48;\" x=\"889.21039\" xlink:href=\"#m6b11374e2d\" y=\"226.434872\"/>\n     <use style=\"fill:#4c72b0;stroke:#ffffff;stroke-width:0.48;\" x=\"889.21039\" xlink:href=\"#m6b11374e2d\" y=\"324.323729\"/>\n     <use style=\"fill:#4c72b0;stroke:#ffffff;stroke-width:0.48;\" x=\"889.21039\" xlink:href=\"#m6b11374e2d\" y=\"355.326652\"/>\n     <use style=\"fill:#4c72b0;stroke:#ffffff;stroke-width:0.48;\" x=\"889.21039\" xlink:href=\"#m6b11374e2d\" y=\"348.86771\"/>\n     <use style=\"fill:#4c72b0;stroke:#ffffff;stroke-width:0.48;\" x=\"889.21039\" xlink:href=\"#m6b11374e2d\" y=\"310.975249\"/>\n     <use style=\"fill:#4c72b0;stroke:#ffffff;stroke-width:0.48;\" x=\"889.21039\" xlink:href=\"#m6b11374e2d\" y=\"331.213268\"/>\n     <use style=\"fill:#4c72b0;stroke:#ffffff;stroke-width:0.48;\" x=\"889.21039\" xlink:href=\"#m6b11374e2d\" y=\"342.839364\"/>\n     <use style=\"fill:#4c72b0;stroke:#ffffff;stroke-width:0.48;\" x=\"889.21039\" xlink:href=\"#m6b11374e2d\" y=\"365.230364\"/>\n     <use style=\"fill:#4c72b0;stroke:#ffffff;stroke-width:0.48;\" x=\"1246.48694\" xlink:href=\"#m6b11374e2d\" y=\"336.380422\"/>\n     <use style=\"fill:#4c72b0;stroke:#ffffff;stroke-width:0.48;\" x=\"1246.48694\" xlink:href=\"#m6b11374e2d\" y=\"286.861864\"/>\n     <use style=\"fill:#4c72b0;stroke:#ffffff;stroke-width:0.48;\" x=\"1246.48694\" xlink:href=\"#m6b11374e2d\" y=\"344.992345\"/>\n     <use style=\"fill:#4c72b0;stroke:#ffffff;stroke-width:0.48;\" x=\"1246.48694\" xlink:href=\"#m6b11374e2d\" y=\"336.811018\"/>\n     <use style=\"fill:#4c72b0;stroke:#ffffff;stroke-width:0.48;\" x=\"889.21039\" xlink:href=\"#m6b11374e2d\" y=\"333.796845\"/>\n     <use style=\"fill:#4c72b0;stroke:#ffffff;stroke-width:0.48;\" x=\"889.21039\" xlink:href=\"#m6b11374e2d\" y=\"338.963999\"/>\n     <use style=\"fill:#4c72b0;stroke:#ffffff;stroke-width:0.48;\" x=\"889.21039\" xlink:href=\"#m6b11374e2d\" y=\"291.598422\"/>\n     <use style=\"fill:#4c72b0;stroke:#ffffff;stroke-width:0.48;\" x=\"889.21039\" xlink:href=\"#m6b11374e2d\" y=\"324.754326\"/>\n     <use style=\"fill:#4c72b0;stroke:#ffffff;stroke-width:0.48;\" x=\"889.21039\" xlink:href=\"#m6b11374e2d\" y=\"336.380422\"/>\n     <use style=\"fill:#4c72b0;stroke:#ffffff;stroke-width:0.48;\" x=\"889.21039\" xlink:href=\"#m6b11374e2d\" y=\"353.173671\"/>\n     <use style=\"fill:#4c72b0;stroke:#ffffff;stroke-width:0.48;\" x=\"1246.48694\" xlink:href=\"#m6b11374e2d\" y=\"311.836441\"/>\n     <use style=\"fill:#4c72b0;stroke:#ffffff;stroke-width:0.48;\" x=\"1246.48694\" xlink:href=\"#m6b11374e2d\" y=\"336.380422\"/>\n     <use style=\"fill:#4c72b0;stroke:#ffffff;stroke-width:0.48;\" x=\"1246.48694\" xlink:href=\"#m6b11374e2d\" y=\"336.811018\"/>\n     <use style=\"fill:#4c72b0;stroke:#ffffff;stroke-width:0.48;\" x=\"1246.48694\" xlink:href=\"#m6b11374e2d\" y=\"333.366249\"/>\n     <use style=\"fill:#4c72b0;stroke:#ffffff;stroke-width:0.48;\" x=\"1246.48694\" xlink:href=\"#m6b11374e2d\" y=\"341.116979\"/>\n     <use style=\"fill:#4c72b0;stroke:#ffffff;stroke-width:0.48;\" x=\"889.21039\" xlink:href=\"#m6b11374e2d\" y=\"223.564231\"/>\n     <use style=\"fill:#4c72b0;stroke:#ffffff;stroke-width:0.48;\" x=\"889.21039\" xlink:href=\"#m6b11374e2d\" y=\"261.887288\"/>\n     <use style=\"fill:#4c72b0;stroke:#ffffff;stroke-width:0.48;\" x=\"889.21039\" xlink:href=\"#m6b11374e2d\" y=\"282.053541\"/>\n     <use style=\"fill:#4c72b0;stroke:#ffffff;stroke-width:0.48;\" x=\"889.21039\" xlink:href=\"#m6b11374e2d\" y=\"324.323729\"/>\n     <use style=\"fill:#4c72b0;stroke:#ffffff;stroke-width:0.48;\" x=\"889.21039\" xlink:href=\"#m6b11374e2d\" y=\"328.629691\"/>\n     <use style=\"fill:#4c72b0;stroke:#ffffff;stroke-width:0.48;\" x=\"889.21039\" xlink:href=\"#m6b11374e2d\" y=\"317.434191\"/>\n     <use style=\"fill:#4c72b0;stroke:#ffffff;stroke-width:0.48;\" x=\"889.21039\" xlink:href=\"#m6b11374e2d\" y=\"350.159498\"/>\n     <use style=\"fill:#4c72b0;stroke:#ffffff;stroke-width:0.48;\" x=\"889.21039\" xlink:href=\"#m6b11374e2d\" y=\"360.924402\"/>\n     <use style=\"fill:#4c72b0;stroke:#ffffff;stroke-width:0.48;\" x=\"889.21039\" xlink:href=\"#m6b11374e2d\" y=\"278.46524\"/>\n     <use style=\"fill:#4c72b0;stroke:#ffffff;stroke-width:0.48;\" x=\"1246.48694\" xlink:href=\"#m6b11374e2d\" y=\"339.825191\"/>\n     <use style=\"fill:#4c72b0;stroke:#ffffff;stroke-width:0.48;\" x=\"1246.48694\" xlink:href=\"#m6b11374e2d\" y=\"336.811018\"/>\n     <use style=\"fill:#4c72b0;stroke:#ffffff;stroke-width:0.48;\" x=\"1246.48694\" xlink:href=\"#m6b11374e2d\" y=\"336.380422\"/>\n     <use style=\"fill:#4c72b0;stroke:#ffffff;stroke-width:0.48;\" x=\"1246.48694\" xlink:href=\"#m6b11374e2d\" y=\"327.337902\"/>\n     <use style=\"fill:#4c72b0;stroke:#ffffff;stroke-width:0.48;\" x=\"889.21039\" xlink:href=\"#m6b11374e2d\" y=\"214.234647\"/>\n     <use style=\"fill:#4c72b0;stroke:#ffffff;stroke-width:0.48;\" x=\"889.21039\" xlink:href=\"#m6b11374e2d\" y=\"321.309556\"/>\n     <use style=\"fill:#4c72b0;stroke:#ffffff;stroke-width:0.48;\" x=\"889.21039\" xlink:href=\"#m6b11374e2d\" y=\"337.67221\"/>\n     <use style=\"fill:#4c72b0;stroke:#ffffff;stroke-width:0.48;\" x=\"889.21039\" xlink:href=\"#m6b11374e2d\" y=\"310.544653\"/>\n     <use style=\"fill:#4c72b0;stroke:#ffffff;stroke-width:0.48;\" x=\"889.21039\" xlink:href=\"#m6b11374e2d\" y=\"331.213268\"/>\n     <use style=\"fill:#4c72b0;stroke:#ffffff;stroke-width:0.48;\" x=\"889.21039\" xlink:href=\"#m6b11374e2d\" y=\"363.938575\"/>\n     <use style=\"fill:#4c72b0;stroke:#ffffff;stroke-width:0.48;\" x=\"1246.48694\" xlink:href=\"#m6b11374e2d\" y=\"340.686383\"/>\n     <use style=\"fill:#4c72b0;stroke:#ffffff;stroke-width:0.48;\" x=\"1246.48694\" xlink:href=\"#m6b11374e2d\" y=\"344.131152\"/>\n     <use style=\"fill:#4c72b0;stroke:#ffffff;stroke-width:0.48;\" x=\"1246.48694\" xlink:href=\"#m6b11374e2d\" y=\"334.227441\"/>\n     <use style=\"fill:#4c72b0;stroke:#ffffff;stroke-width:0.48;\" x=\"1246.48694\" xlink:href=\"#m6b11374e2d\" y=\"360.06321\"/>\n     <use style=\"fill:#4c72b0;stroke:#ffffff;stroke-width:0.48;\" x=\"889.21039\" xlink:href=\"#m6b11374e2d\" y=\"300.210345\"/>\n     <use style=\"fill:#4c72b0;stroke:#ffffff;stroke-width:0.48;\" x=\"889.21039\" xlink:href=\"#m6b11374e2d\" y=\"301.502134\"/>\n     <use style=\"fill:#4c72b0;stroke:#ffffff;stroke-width:0.48;\" x=\"889.21039\" xlink:href=\"#m6b11374e2d\" y=\"324.754326\"/>\n     <use style=\"fill:#4c72b0;stroke:#ffffff;stroke-width:0.48;\" x=\"889.21039\" xlink:href=\"#m6b11374e2d\" y=\"305.377499\"/>\n     <use style=\"fill:#4c72b0;stroke:#ffffff;stroke-width:0.48;\" x=\"889.21039\" xlink:href=\"#m6b11374e2d\" y=\"244.376378\"/>\n     <use style=\"fill:#4c72b0;stroke:#ffffff;stroke-width:0.48;\" x=\"889.21039\" xlink:href=\"#m6b11374e2d\" y=\"313.989422\"/>\n     <use style=\"fill:#4c72b0;stroke:#ffffff;stroke-width:0.48;\" x=\"889.21039\" xlink:href=\"#m6b11374e2d\" y=\"309.68346\"/>\n     <use style=\"fill:#4c72b0;stroke:#ffffff;stroke-width:0.48;\" x=\"889.21039\" xlink:href=\"#m6b11374e2d\" y=\"329.490883\"/>\n     <use style=\"fill:#4c72b0;stroke:#ffffff;stroke-width:0.48;\" x=\"889.21039\" xlink:href=\"#m6b11374e2d\" y=\"365.66096\"/>\n     <use style=\"fill:#4c72b0;stroke:#ffffff;stroke-width:0.48;\" x=\"1246.48694\" xlink:href=\"#m6b11374e2d\" y=\"356.618441\"/>\n     <use style=\"fill:#4c72b0;stroke:#ffffff;stroke-width:0.48;\" x=\"1246.48694\" xlink:href=\"#m6b11374e2d\" y=\"341.978172\"/>\n     <use style=\"fill:#4c72b0;stroke:#ffffff;stroke-width:0.48;\" x=\"1246.48694\" xlink:href=\"#m6b11374e2d\" y=\"335.088633\"/>\n     <use style=\"fill:#4c72b0;stroke:#ffffff;stroke-width:0.48;\" x=\"1246.48694\" xlink:href=\"#m6b11374e2d\" y=\"337.241614\"/>\n     <use style=\"fill:#4c72b0;stroke:#ffffff;stroke-width:0.48;\" x=\"1246.48694\" xlink:href=\"#m6b11374e2d\" y=\"346.714729\"/>\n     <use style=\"fill:#4c72b0;stroke:#ffffff;stroke-width:0.48;\" x=\"889.21039\" xlink:href=\"#m6b11374e2d\" y=\"255.428346\"/>\n     <use style=\"fill:#4c72b0;stroke:#ffffff;stroke-width:0.48;\" x=\"889.21039\" xlink:href=\"#m6b11374e2d\" y=\"209.569856\"/>\n     <use style=\"fill:#4c72b0;stroke:#ffffff;stroke-width:0.48;\" x=\"889.21039\" xlink:href=\"#m6b11374e2d\" y=\"265.906185\"/>\n     <use style=\"fill:#4c72b0;stroke:#ffffff;stroke-width:0.48;\" x=\"889.21039\" xlink:href=\"#m6b11374e2d\" y=\"219.258269\"/>\n     <use style=\"fill:#4c72b0;stroke:#ffffff;stroke-width:0.48;\" x=\"889.21039\" xlink:href=\"#m6b11374e2d\" y=\"328.801929\"/>\n     <use style=\"fill:#4c72b0;stroke:#ffffff;stroke-width:0.48;\" x=\"889.21039\" xlink:href=\"#m6b11374e2d\" y=\"299.349153\"/>\n     <use style=\"fill:#4c72b0;stroke:#ffffff;stroke-width:0.48;\" x=\"889.21039\" xlink:href=\"#m6b11374e2d\" y=\"329.490883\"/>\n     <use style=\"fill:#4c72b0;stroke:#ffffff;stroke-width:0.48;\" x=\"889.21039\" xlink:href=\"#m6b11374e2d\" y=\"317.864787\"/>\n     <use style=\"fill:#4c72b0;stroke:#ffffff;stroke-width:0.48;\" x=\"889.21039\" xlink:href=\"#m6b11374e2d\" y=\"221.41125\"/>\n     <use style=\"fill:#4c72b0;stroke:#ffffff;stroke-width:0.48;\" x=\"889.21039\" xlink:href=\"#m6b11374e2d\" y=\"316.142403\"/>\n     <use style=\"fill:#4c72b0;stroke:#ffffff;stroke-width:0.48;\" x=\"889.21039\" xlink:href=\"#m6b11374e2d\" y=\"334.658037\"/>\n     <use style=\"fill:#4c72b0;stroke:#ffffff;stroke-width:0.48;\" x=\"889.21039\" xlink:href=\"#m6b11374e2d\" y=\"344.131152\"/>\n     <use style=\"fill:#4c72b0;stroke:#ffffff;stroke-width:0.48;\" x=\"889.21039\" xlink:href=\"#m6b11374e2d\" y=\"356.187844\"/>\n     <use style=\"fill:#4c72b0;stroke:#ffffff;stroke-width:0.48;\" x=\"1246.48694\" xlink:href=\"#m6b11374e2d\" y=\"325.184922\"/>\n     <use style=\"fill:#4c72b0;stroke:#ffffff;stroke-width:0.48;\" x=\"1246.48694\" xlink:href=\"#m6b11374e2d\" y=\"329.921479\"/>\n     <use style=\"fill:#4c72b0;stroke:#ffffff;stroke-width:0.48;\" x=\"1246.48694\" xlink:href=\"#m6b11374e2d\" y=\"302.793922\"/>\n     <use style=\"fill:#4c72b0;stroke:#ffffff;stroke-width:0.48;\" x=\"1246.48694\" xlink:href=\"#m6b11374e2d\" y=\"324.754326\"/>\n     <use style=\"fill:#4c72b0;stroke:#ffffff;stroke-width:0.48;\" x=\"1246.48694\" xlink:href=\"#m6b11374e2d\" y=\"354.46546\"/>\n     <use style=\"fill:#4c72b0;stroke:#ffffff;stroke-width:0.48;\" x=\"1246.48694\" xlink:href=\"#m6b11374e2d\" y=\"357.910229\"/>\n     <use style=\"fill:#4c72b0;stroke:#ffffff;stroke-width:0.48;\" x=\"889.21039\" xlink:href=\"#m6b11374e2d\" y=\"326.47671\"/>\n     <use style=\"fill:#4c72b0;stroke:#ffffff;stroke-width:0.48;\" x=\"889.21039\" xlink:href=\"#m6b11374e2d\" y=\"313.644945\"/>\n     <use style=\"fill:#4c72b0;stroke:#ffffff;stroke-width:0.48;\" x=\"889.21039\" xlink:href=\"#m6b11374e2d\" y=\"183.375257\"/>\n     <use style=\"fill:#4c72b0;stroke:#ffffff;stroke-width:0.48;\" x=\"889.21039\" xlink:href=\"#m6b11374e2d\" y=\"340.255787\"/>\n     <use style=\"fill:#4c72b0;stroke:#ffffff;stroke-width:0.48;\" x=\"889.21039\" xlink:href=\"#m6b11374e2d\" y=\"327.337902\"/>\n     <use style=\"fill:#4c72b0;stroke:#ffffff;stroke-width:0.48;\" x=\"889.21039\" xlink:href=\"#m6b11374e2d\" y=\"344.131152\"/>\n     <use style=\"fill:#4c72b0;stroke:#ffffff;stroke-width:0.48;\" x=\"889.21039\" xlink:href=\"#m6b11374e2d\" y=\"333.366249\"/>\n     <use style=\"fill:#4c72b0;stroke:#ffffff;stroke-width:0.48;\" x=\"889.21039\" xlink:href=\"#m6b11374e2d\" y=\"348.86771\"/>\n     <use style=\"fill:#4c72b0;stroke:#ffffff;stroke-width:0.48;\" x=\"889.21039\" xlink:href=\"#m6b11374e2d\" y=\"366.522152\"/>\n     <use style=\"fill:#4c72b0;stroke:#ffffff;stroke-width:0.48;\" x=\"889.21039\" xlink:href=\"#m6b11374e2d\" y=\"350.159498\"/>\n     <use style=\"fill:#4c72b0;stroke:#ffffff;stroke-width:0.48;\" x=\"889.21039\" xlink:href=\"#m6b11374e2d\" y=\"346.284133\"/>\n     <use style=\"fill:#4c72b0;stroke:#ffffff;stroke-width:0.48;\" x=\"889.21039\" xlink:href=\"#m6b11374e2d\" y=\"315.711806\"/>\n     <use style=\"fill:#4c72b0;stroke:#ffffff;stroke-width:0.48;\" x=\"889.21039\" xlink:href=\"#m6b11374e2d\" y=\"339.394595\"/>\n     <use style=\"fill:#4c72b0;stroke:#ffffff;stroke-width:0.48;\" x=\"889.21039\" xlink:href=\"#m6b11374e2d\" y=\"363.507979\"/>\n     <use style=\"fill:#4c72b0;stroke:#ffffff;stroke-width:0.48;\" x=\"1246.48694\" xlink:href=\"#m6b11374e2d\" y=\"348.437114\"/>\n     <use style=\"fill:#4c72b0;stroke:#ffffff;stroke-width:0.48;\" x=\"889.21039\" xlink:href=\"#m6b11374e2d\" y=\"297.626768\"/>\n     <use style=\"fill:#4c72b0;stroke:#ffffff;stroke-width:0.48;\" x=\"889.21039\" xlink:href=\"#m6b11374e2d\" y=\"253.705961\"/>\n     <use style=\"fill:#4c72b0;stroke:#ffffff;stroke-width:0.48;\" x=\"889.21039\" xlink:href=\"#m6b11374e2d\" y=\"336.811018\"/>\n     <use style=\"fill:#4c72b0;stroke:#ffffff;stroke-width:0.48;\" x=\"889.21039\" xlink:href=\"#m6b11374e2d\" y=\"267.915634\"/>\n     <use style=\"fill:#4c72b0;stroke:#ffffff;stroke-width:0.48;\" x=\"889.21039\" xlink:href=\"#m6b11374e2d\" y=\"197.728462\"/>\n     <use style=\"fill:#4c72b0;stroke:#ffffff;stroke-width:0.48;\" x=\"889.21039\" xlink:href=\"#m6b11374e2d\" y=\"334.227441\"/>\n     <use style=\"fill:#4c72b0;stroke:#ffffff;stroke-width:0.48;\" x=\"889.21039\" xlink:href=\"#m6b11374e2d\" y=\"348.006518\"/>\n     <use style=\"fill:#4c72b0;stroke:#ffffff;stroke-width:0.48;\" x=\"889.21039\" xlink:href=\"#m6b11374e2d\" y=\"334.658037\"/>\n     <use style=\"fill:#4c72b0;stroke:#ffffff;stroke-width:0.48;\" x=\"889.21039\" xlink:href=\"#m6b11374e2d\" y=\"333.366249\"/>\n     <use style=\"fill:#4c72b0;stroke:#ffffff;stroke-width:0.48;\" x=\"889.21039\" xlink:href=\"#m6b11374e2d\" y=\"256.935432\"/>\n     <use style=\"fill:#4c72b0;stroke:#ffffff;stroke-width:0.48;\" x=\"889.21039\" xlink:href=\"#m6b11374e2d\" y=\"363.077383\"/>\n     <use style=\"fill:#4c72b0;stroke:#ffffff;stroke-width:0.48;\" x=\"889.21039\" xlink:href=\"#m6b11374e2d\" y=\"295.904384\"/>\n     <use style=\"fill:#4c72b0;stroke:#ffffff;stroke-width:0.48;\" x=\"889.21039\" xlink:href=\"#m6b11374e2d\" y=\"346.714729\"/>\n     <use style=\"fill:#4c72b0;stroke:#ffffff;stroke-width:0.48;\" x=\"889.21039\" xlink:href=\"#m6b11374e2d\" y=\"348.437114\"/>\n     <use style=\"fill:#4c72b0;stroke:#ffffff;stroke-width:0.48;\" x=\"889.21039\" xlink:href=\"#m6b11374e2d\" y=\"336.380422\"/>\n     <use style=\"fill:#4c72b0;stroke:#ffffff;stroke-width:0.48;\" x=\"889.21039\" xlink:href=\"#m6b11374e2d\" y=\"341.547575\"/>\n     <use style=\"fill:#4c72b0;stroke:#ffffff;stroke-width:0.48;\" x=\"889.21039\" xlink:href=\"#m6b11374e2d\" y=\"356.618441\"/>\n     <use style=\"fill:#4c72b0;stroke:#ffffff;stroke-width:0.48;\" x=\"889.21039\" xlink:href=\"#m6b11374e2d\" y=\"349.728902\"/>\n     <use style=\"fill:#4c72b0;stroke:#ffffff;stroke-width:0.48;\" x=\"889.21039\" xlink:href=\"#m6b11374e2d\" y=\"339.825191\"/>\n     <use style=\"fill:#4c72b0;stroke:#ffffff;stroke-width:0.48;\" x=\"889.21039\" xlink:href=\"#m6b11374e2d\" y=\"332.07446\"/>\n     <use style=\"fill:#4c72b0;stroke:#ffffff;stroke-width:0.48;\" x=\"889.21039\" xlink:href=\"#m6b11374e2d\" y=\"346.714729\"/>\n     <use style=\"fill:#4c72b0;stroke:#ffffff;stroke-width:0.48;\" x=\"1246.48694\" xlink:href=\"#m6b11374e2d\" y=\"339.825191\"/>\n     <use style=\"fill:#4c72b0;stroke:#ffffff;stroke-width:0.48;\" x=\"1246.48694\" xlink:href=\"#m6b11374e2d\" y=\"363.938575\"/>\n     <use style=\"fill:#4c72b0;stroke:#ffffff;stroke-width:0.48;\" x=\"889.21039\" xlink:href=\"#m6b11374e2d\" y=\"217.464118\"/>\n     <use style=\"fill:#4c72b0;stroke:#ffffff;stroke-width:0.48;\" x=\"889.21039\" xlink:href=\"#m6b11374e2d\" y=\"325.184922\"/>\n     <use style=\"fill:#4c72b0;stroke:#ffffff;stroke-width:0.48;\" x=\"889.21039\" xlink:href=\"#m6b11374e2d\" y=\"263.394374\"/>\n     <use style=\"fill:#4c72b0;stroke:#ffffff;stroke-width:0.48;\" x=\"889.21039\" xlink:href=\"#m6b11374e2d\" y=\"235.405625\"/>\n     <use style=\"fill:#4c72b0;stroke:#ffffff;stroke-width:0.48;\" x=\"889.21039\" xlink:href=\"#m6b11374e2d\" y=\"351.881883\"/>\n     <use style=\"fill:#4c72b0;stroke:#ffffff;stroke-width:0.48;\" x=\"889.21039\" xlink:href=\"#m6b11374e2d\" y=\"356.618441\"/>\n     <use style=\"fill:#4c72b0;stroke:#ffffff;stroke-width:0.48;\" x=\"889.21039\" xlink:href=\"#m6b11374e2d\" y=\"348.86771\"/>\n     <use style=\"fill:#4c72b0;stroke:#ffffff;stroke-width:0.48;\" x=\"889.21039\" xlink:href=\"#m6b11374e2d\" y=\"345.853537\"/>\n     <use style=\"fill:#4c72b0;stroke:#ffffff;stroke-width:0.48;\" x=\"889.21039\" xlink:href=\"#m6b11374e2d\" y=\"343.26996\"/>\n     <use style=\"fill:#4c72b0;stroke:#ffffff;stroke-width:0.48;\" x=\"889.21039\" xlink:href=\"#m6b11374e2d\" y=\"331.213268\"/>\n     <use style=\"fill:#4c72b0;stroke:#ffffff;stroke-width:0.48;\" x=\"889.21039\" xlink:href=\"#m6b11374e2d\" y=\"355.757248\"/>\n     <use style=\"fill:#4c72b0;stroke:#ffffff;stroke-width:0.48;\" x=\"889.21039\" xlink:href=\"#m6b11374e2d\" y=\"345.853537\"/>\n     <use style=\"fill:#4c72b0;stroke:#ffffff;stroke-width:0.48;\" x=\"889.21039\" xlink:href=\"#m6b11374e2d\" y=\"313.989422\"/>\n     <use style=\"fill:#4c72b0;stroke:#ffffff;stroke-width:0.48;\" x=\"889.21039\" xlink:href=\"#m6b11374e2d\" y=\"360.924402\"/>\n     <use style=\"fill:#4c72b0;stroke:#ffffff;stroke-width:0.48;\" x=\"1246.48694\" xlink:href=\"#m6b11374e2d\" y=\"348.86771\"/>\n     <use style=\"fill:#4c72b0;stroke:#ffffff;stroke-width:0.48;\" x=\"889.21039\" xlink:href=\"#m6b11374e2d\" y=\"297.626768\"/>\n     <use style=\"fill:#4c72b0;stroke:#ffffff;stroke-width:0.48;\" x=\"889.21039\" xlink:href=\"#m6b11374e2d\" y=\"330.782672\"/>\n     <use style=\"fill:#4c72b0;stroke:#ffffff;stroke-width:0.48;\" x=\"889.21039\" xlink:href=\"#m6b11374e2d\" y=\"333.366249\"/>\n     <use style=\"fill:#4c72b0;stroke:#ffffff;stroke-width:0.48;\" x=\"889.21039\" xlink:href=\"#m6b11374e2d\" y=\"221.05242\"/>\n     <use style=\"fill:#4c72b0;stroke:#ffffff;stroke-width:0.48;\" x=\"889.21039\" xlink:href=\"#m6b11374e2d\" y=\"326.907306\"/>\n     <use style=\"fill:#4c72b0;stroke:#ffffff;stroke-width:0.48;\" x=\"889.21039\" xlink:href=\"#m6b11374e2d\" y=\"172.610353\"/>\n     <use style=\"fill:#4c72b0;stroke:#ffffff;stroke-width:0.48;\" x=\"889.21039\" xlink:href=\"#m6b11374e2d\" y=\"315.711806\"/>\n     <use style=\"fill:#4c72b0;stroke:#ffffff;stroke-width:0.48;\" x=\"889.21039\" xlink:href=\"#m6b11374e2d\" y=\"250.83532\"/>\n     <use style=\"fill:#4c72b0;stroke:#ffffff;stroke-width:0.48;\" x=\"889.21039\" xlink:href=\"#m6b11374e2d\" y=\"289.588973\"/>\n     <use style=\"fill:#4c72b0;stroke:#ffffff;stroke-width:0.48;\" x=\"889.21039\" xlink:href=\"#m6b11374e2d\" y=\"353.173671\"/>\n     <use style=\"fill:#4c72b0;stroke:#ffffff;stroke-width:0.48;\" x=\"889.21039\" xlink:href=\"#m6b11374e2d\" y=\"342.839364\"/>\n     <use style=\"fill:#4c72b0;stroke:#ffffff;stroke-width:0.48;\" x=\"889.21039\" xlink:href=\"#m6b11374e2d\" y=\"341.978172\"/>\n     <use style=\"fill:#4c72b0;stroke:#ffffff;stroke-width:0.48;\" x=\"1246.48694\" xlink:href=\"#m6b11374e2d\" y=\"313.989422\"/>\n     <use style=\"fill:#4c72b0;stroke:#ffffff;stroke-width:0.48;\" x=\"1246.48694\" xlink:href=\"#m6b11374e2d\" y=\"332.935652\"/>\n     <use style=\"fill:#4c72b0;stroke:#ffffff;stroke-width:0.48;\" x=\"889.21039\" xlink:href=\"#m6b11374e2d\" y=\"217.464118\"/>\n     <use style=\"fill:#4c72b0;stroke:#ffffff;stroke-width:0.48;\" x=\"889.21039\" xlink:href=\"#m6b11374e2d\" y=\"202.034423\"/>\n     <use style=\"fill:#4c72b0;stroke:#ffffff;stroke-width:0.48;\" x=\"889.21039\" xlink:href=\"#m6b11374e2d\" y=\"324.754326\"/>\n     <use style=\"fill:#4c72b0;stroke:#ffffff;stroke-width:0.48;\" x=\"889.21039\" xlink:href=\"#m6b11374e2d\" y=\"298.057364\"/>\n     <use style=\"fill:#4c72b0;stroke:#ffffff;stroke-width:0.48;\" x=\"889.21039\" xlink:href=\"#m6b11374e2d\" y=\"297.196172\"/>\n     <use style=\"fill:#4c72b0;stroke:#ffffff;stroke-width:0.48;\" x=\"889.21039\" xlink:href=\"#m6b11374e2d\" y=\"301.93273\"/>\n     <use style=\"fill:#4c72b0;stroke:#ffffff;stroke-width:0.48;\" x=\"889.21039\" xlink:href=\"#m6b11374e2d\" y=\"226.434872\"/>\n     <use style=\"fill:#4c72b0;stroke:#ffffff;stroke-width:0.48;\" x=\"889.21039\" xlink:href=\"#m6b11374e2d\" y=\"265.332057\"/>\n     <use style=\"fill:#4c72b0;stroke:#ffffff;stroke-width:0.48;\" x=\"889.21039\" xlink:href=\"#m6b11374e2d\" y=\"311.836441\"/>\n     <use style=\"fill:#4c72b0;stroke:#ffffff;stroke-width:0.48;\" x=\"889.21039\" xlink:href=\"#m6b11374e2d\" y=\"338.533402\"/>\n     <use style=\"fill:#4c72b0;stroke:#ffffff;stroke-width:0.48;\" x=\"889.21039\" xlink:href=\"#m6b11374e2d\" y=\"341.116979\"/>\n     <use style=\"fill:#4c72b0;stroke:#ffffff;stroke-width:0.48;\" x=\"889.21039\" xlink:href=\"#m6b11374e2d\" y=\"336.380422\"/>\n     <use style=\"fill:#4c72b0;stroke:#ffffff;stroke-width:0.48;\" x=\"889.21039\" xlink:href=\"#m6b11374e2d\" y=\"344.131152\"/>\n     <use style=\"fill:#4c72b0;stroke:#ffffff;stroke-width:0.48;\" x=\"889.21039\" xlink:href=\"#m6b11374e2d\" y=\"335.949825\"/>\n     <use style=\"fill:#4c72b0;stroke:#ffffff;stroke-width:0.48;\" x=\"889.21039\" xlink:href=\"#m6b11374e2d\" y=\"345.853537\"/>\n     <use style=\"fill:#4c72b0;stroke:#ffffff;stroke-width:0.48;\" x=\"889.21039\" xlink:href=\"#m6b11374e2d\" y=\"342.408768\"/>\n     <use style=\"fill:#4c72b0;stroke:#ffffff;stroke-width:0.48;\" x=\"889.21039\" xlink:href=\"#m6b11374e2d\" y=\"319.587172\"/>\n     <use style=\"fill:#4c72b0;stroke:#ffffff;stroke-width:0.48;\" x=\"1246.48694\" xlink:href=\"#m6b11374e2d\" y=\"336.811018\"/>\n     <use style=\"fill:#4c72b0;stroke:#ffffff;stroke-width:0.48;\" x=\"1246.48694\" xlink:href=\"#m6b11374e2d\" y=\"322.601345\"/>\n     <use style=\"fill:#4c72b0;stroke:#ffffff;stroke-width:0.48;\" x=\"1246.48694\" xlink:href=\"#m6b11374e2d\" y=\"348.86771\"/>\n     <use style=\"fill:#4c72b0;stroke:#ffffff;stroke-width:0.48;\" x=\"1246.48694\" xlink:href=\"#m6b11374e2d\" y=\"311.836441\"/>\n     <use style=\"fill:#4c72b0;stroke:#ffffff;stroke-width:0.48;\" x=\"1246.48694\" xlink:href=\"#m6b11374e2d\" y=\"338.963999\"/>\n     <use style=\"fill:#4c72b0;stroke:#ffffff;stroke-width:0.48;\" x=\"889.21039\" xlink:href=\"#m6b11374e2d\" y=\"324.754326\"/>\n     <use style=\"fill:#4c72b0;stroke:#ffffff;stroke-width:0.48;\" x=\"889.21039\" xlink:href=\"#m6b11374e2d\" y=\"324.754326\"/>\n     <use style=\"fill:#4c72b0;stroke:#ffffff;stroke-width:0.48;\" x=\"889.21039\" xlink:href=\"#m6b11374e2d\" y=\"269.494486\"/>\n     <use style=\"fill:#4c72b0;stroke:#ffffff;stroke-width:0.48;\" x=\"889.21039\" xlink:href=\"#m6b11374e2d\" y=\"313.989422\"/>\n     <use style=\"fill:#4c72b0;stroke:#ffffff;stroke-width:0.48;\" x=\"889.21039\" xlink:href=\"#m6b11374e2d\" y=\"337.67221\"/>\n     <use style=\"fill:#4c72b0;stroke:#ffffff;stroke-width:0.48;\" x=\"889.21039\" xlink:href=\"#m6b11374e2d\" y=\"284.206522\"/>\n     <use style=\"fill:#4c72b0;stroke:#ffffff;stroke-width:0.48;\" x=\"889.21039\" xlink:href=\"#m6b11374e2d\" y=\"348.437114\"/>\n     <use style=\"fill:#4c72b0;stroke:#ffffff;stroke-width:0.48;\" x=\"889.21039\" xlink:href=\"#m6b11374e2d\" y=\"339.394595\"/>\n     <use style=\"fill:#4c72b0;stroke:#ffffff;stroke-width:0.48;\" x=\"889.21039\" xlink:href=\"#m6b11374e2d\" y=\"351.881883\"/>\n     <use style=\"fill:#4c72b0;stroke:#ffffff;stroke-width:0.48;\" x=\"889.21039\" xlink:href=\"#m6b11374e2d\" y=\"327.337902\"/>\n     <use style=\"fill:#4c72b0;stroke:#ffffff;stroke-width:0.48;\" x=\"889.21039\" xlink:href=\"#m6b11374e2d\" y=\"313.989422\"/>\n     <use style=\"fill:#4c72b0;stroke:#ffffff;stroke-width:0.48;\" x=\"1246.48694\" xlink:href=\"#m6b11374e2d\" y=\"333.366249\"/>\n     <use style=\"fill:#4c72b0;stroke:#ffffff;stroke-width:0.48;\" x=\"1246.48694\" xlink:href=\"#m6b11374e2d\" y=\"333.366249\"/>\n     <use style=\"fill:#4c72b0;stroke:#ffffff;stroke-width:0.48;\" x=\"889.21039\" xlink:href=\"#m6b11374e2d\" y=\"273.082788\"/>\n     <use style=\"fill:#4c72b0;stroke:#ffffff;stroke-width:0.48;\" x=\"889.21039\" xlink:href=\"#m6b11374e2d\" y=\"288.412011\"/>\n     <use style=\"fill:#4c72b0;stroke:#ffffff;stroke-width:0.48;\" x=\"889.21039\" xlink:href=\"#m6b11374e2d\" y=\"349.728902\"/>\n     <use style=\"fill:#4c72b0;stroke:#ffffff;stroke-width:0.48;\" x=\"889.21039\" xlink:href=\"#m6b11374e2d\" y=\"349.728902\"/>\n     <use style=\"fill:#4c72b0;stroke:#ffffff;stroke-width:0.48;\" x=\"889.21039\" xlink:href=\"#m6b11374e2d\" y=\"348.437114\"/>\n     <use style=\"fill:#4c72b0;stroke:#ffffff;stroke-width:0.48;\" x=\"889.21039\" xlink:href=\"#m6b11374e2d\" y=\"339.825191\"/>\n     <use style=\"fill:#4c72b0;stroke:#ffffff;stroke-width:0.48;\" x=\"889.21039\" xlink:href=\"#m6b11374e2d\" y=\"329.318645\"/>\n     <use style=\"fill:#4c72b0;stroke:#ffffff;stroke-width:0.48;\" x=\"889.21039\" xlink:href=\"#m6b11374e2d\" y=\"364.799767\"/>\n     <use style=\"fill:#4c72b0;stroke:#ffffff;stroke-width:0.48;\" x=\"1246.48694\" xlink:href=\"#m6b11374e2d\" y=\"328.199095\"/>\n     <use style=\"fill:#4c72b0;stroke:#ffffff;stroke-width:0.48;\" x=\"1246.48694\" xlink:href=\"#m6b11374e2d\" y=\"336.380422\"/>\n     <use style=\"fill:#4c72b0;stroke:#ffffff;stroke-width:0.48;\" x=\"889.21039\" xlink:href=\"#m6b11374e2d\" y=\"255.141281\"/>\n     <use style=\"fill:#4c72b0;stroke:#ffffff;stroke-width:0.48;\" x=\"889.21039\" xlink:href=\"#m6b11374e2d\" y=\"233.611474\"/>\n     <use style=\"fill:#4c72b0;stroke:#ffffff;stroke-width:0.48;\" x=\"889.21039\" xlink:href=\"#m6b11374e2d\" y=\"334.658037\"/>\n     <use style=\"fill:#4c72b0;stroke:#ffffff;stroke-width:0.48;\" x=\"889.21039\" xlink:href=\"#m6b11374e2d\" y=\"342.839364\"/>\n     <use style=\"fill:#4c72b0;stroke:#ffffff;stroke-width:0.48;\" x=\"889.21039\" xlink:href=\"#m6b11374e2d\" y=\"318.295383\"/>\n     <use style=\"fill:#4c72b0;stroke:#ffffff;stroke-width:0.48;\" x=\"889.21039\" xlink:href=\"#m6b11374e2d\" y=\"306.669287\"/>\n     <use style=\"fill:#4c72b0;stroke:#ffffff;stroke-width:0.48;\" x=\"1246.48694\" xlink:href=\"#m6b11374e2d\" y=\"342.839364\"/>\n     <use style=\"fill:#4c72b0;stroke:#ffffff;stroke-width:0.48;\" x=\"889.21039\" xlink:href=\"#m6b11374e2d\" y=\"321.309556\"/>\n     <use style=\"fill:#4c72b0;stroke:#ffffff;stroke-width:0.48;\" x=\"889.21039\" xlink:href=\"#m6b11374e2d\" y=\"277.388749\"/>\n     <use style=\"fill:#4c72b0;stroke:#ffffff;stroke-width:0.48;\" x=\"889.21039\" xlink:href=\"#m6b11374e2d\" y=\"338.102806\"/>\n     <use style=\"fill:#4c72b0;stroke:#ffffff;stroke-width:0.48;\" x=\"889.21039\" xlink:href=\"#m6b11374e2d\" y=\"367.383344\"/>\n     <use style=\"fill:#4c72b0;stroke:#ffffff;stroke-width:0.48;\" x=\"889.21039\" xlink:href=\"#m6b11374e2d\" y=\"344.992345\"/>\n     <use style=\"fill:#4c72b0;stroke:#ffffff;stroke-width:0.48;\" x=\"889.21039\" xlink:href=\"#m6b11374e2d\" y=\"350.590095\"/>\n     <use style=\"fill:#4c72b0;stroke:#ffffff;stroke-width:0.48;\" x=\"1246.48694\" xlink:href=\"#m6b11374e2d\" y=\"242.510461\"/>\n     <use style=\"fill:#4c72b0;stroke:#ffffff;stroke-width:0.48;\" x=\"1246.48694\" xlink:href=\"#m6b11374e2d\" y=\"342.839364\"/>\n     <use style=\"fill:#4c72b0;stroke:#ffffff;stroke-width:0.48;\" x=\"889.21039\" xlink:href=\"#m6b11374e2d\" y=\"115.915193\"/>\n     <use style=\"fill:#4c72b0;stroke:#ffffff;stroke-width:0.48;\" x=\"889.21039\" xlink:href=\"#m6b11374e2d\" y=\"310.544653\"/>\n     <use style=\"fill:#4c72b0;stroke:#ffffff;stroke-width:0.48;\" x=\"889.21039\" xlink:href=\"#m6b11374e2d\" y=\"349.298306\"/>\n     <use style=\"fill:#4c72b0;stroke:#ffffff;stroke-width:0.48;\" x=\"889.21039\" xlink:href=\"#m6b11374e2d\" y=\"347.145325\"/>\n     <use style=\"fill:#4c72b0;stroke:#ffffff;stroke-width:0.48;\" x=\"889.21039\" xlink:href=\"#m6b11374e2d\" y=\"346.714729\"/>\n     <use style=\"fill:#4c72b0;stroke:#ffffff;stroke-width:0.48;\" x=\"889.21039\" xlink:href=\"#m6b11374e2d\" y=\"250.11766\"/>\n     <use style=\"fill:#4c72b0;stroke:#ffffff;stroke-width:0.48;\" x=\"889.21039\" xlink:href=\"#m6b11374e2d\" y=\"329.490883\"/>\n     <use style=\"fill:#4c72b0;stroke:#ffffff;stroke-width:0.48;\" x=\"889.21039\" xlink:href=\"#m6b11374e2d\" y=\"304.946903\"/>\n     <use style=\"fill:#4c72b0;stroke:#ffffff;stroke-width:0.48;\" x=\"889.21039\" xlink:href=\"#m6b11374e2d\" y=\"332.935652\"/>\n     <use style=\"fill:#4c72b0;stroke:#ffffff;stroke-width:0.48;\" x=\"889.21039\" xlink:href=\"#m6b11374e2d\" y=\"352.312479\"/>\n     <use style=\"fill:#4c72b0;stroke:#ffffff;stroke-width:0.48;\" x=\"1246.48694\" xlink:href=\"#m6b11374e2d\" y=\"323.462537\"/>\n     <use style=\"fill:#4c72b0;stroke:#ffffff;stroke-width:0.48;\" x=\"1246.48694\" xlink:href=\"#m6b11374e2d\" y=\"354.034864\"/>\n     <use style=\"fill:#4c72b0;stroke:#ffffff;stroke-width:0.48;\" x=\"889.21039\" xlink:href=\"#m6b11374e2d\" y=\"338.533402\"/>\n     <use style=\"fill:#4c72b0;stroke:#ffffff;stroke-width:0.48;\" x=\"889.21039\" xlink:href=\"#m6b11374e2d\" y=\"331.643864\"/>\n     <use style=\"fill:#4c72b0;stroke:#ffffff;stroke-width:0.48;\" x=\"889.21039\" xlink:href=\"#m6b11374e2d\" y=\"362.216191\"/>\n     <use style=\"fill:#4c72b0;stroke:#ffffff;stroke-width:0.48;\" x=\"889.21039\" xlink:href=\"#m6b11374e2d\" y=\"345.422941\"/>\n     <use style=\"fill:#4c72b0;stroke:#ffffff;stroke-width:0.48;\" x=\"889.21039\" xlink:href=\"#m6b11374e2d\" y=\"355.757248\"/>\n     <use style=\"fill:#4c72b0;stroke:#ffffff;stroke-width:0.48;\" x=\"889.21039\" xlink:href=\"#m6b11374e2d\" y=\"328.629691\"/>\n     <use style=\"fill:#4c72b0;stroke:#ffffff;stroke-width:0.48;\" x=\"889.21039\" xlink:href=\"#m6b11374e2d\" y=\"330.352076\"/>\n     <use style=\"fill:#4c72b0;stroke:#ffffff;stroke-width:0.48;\" x=\"889.21039\" xlink:href=\"#m6b11374e2d\" y=\"364.369171\"/>\n     <use style=\"fill:#4c72b0;stroke:#ffffff;stroke-width:0.48;\" x=\"1246.48694\" xlink:href=\"#m6b11374e2d\" y=\"310.544653\"/>\n     <use style=\"fill:#4c72b0;stroke:#ffffff;stroke-width:0.48;\" x=\"1246.48694\" xlink:href=\"#m6b11374e2d\" y=\"363.077383\"/>\n     <use style=\"fill:#4c72b0;stroke:#ffffff;stroke-width:0.48;\" x=\"1246.48694\" xlink:href=\"#m6b11374e2d\" y=\"351.451287\"/>\n     <use style=\"fill:#4c72b0;stroke:#ffffff;stroke-width:0.48;\" x=\"1246.48694\" xlink:href=\"#m6b11374e2d\" y=\"341.978172\"/>\n     <use style=\"fill:#4c72b0;stroke:#ffffff;stroke-width:0.48;\" x=\"1246.48694\" xlink:href=\"#m6b11374e2d\" y=\"364.369171\"/>\n     <use style=\"fill:#4c72b0;stroke:#ffffff;stroke-width:0.48;\" x=\"1246.48694\" xlink:href=\"#m6b11374e2d\" y=\"338.102806\"/>\n     <use style=\"fill:#4c72b0;stroke:#ffffff;stroke-width:0.48;\" x=\"889.21039\" xlink:href=\"#m6b11374e2d\" y=\"332.505056\"/>\n     <use style=\"fill:#4c72b0;stroke:#ffffff;stroke-width:0.48;\" x=\"889.21039\" xlink:href=\"#m6b11374e2d\" y=\"307.961076\"/>\n     <use style=\"fill:#4c72b0;stroke:#ffffff;stroke-width:0.48;\" x=\"889.21039\" xlink:href=\"#m6b11374e2d\" y=\"246.170528\"/>\n     <use style=\"fill:#4c72b0;stroke:#ffffff;stroke-width:0.48;\" x=\"889.21039\" xlink:href=\"#m6b11374e2d\" y=\"351.881883\"/>\n     <use style=\"fill:#4c72b0;stroke:#ffffff;stroke-width:0.48;\" x=\"889.21039\" xlink:href=\"#m6b11374e2d\" y=\"348.437114\"/>\n     <use style=\"fill:#4c72b0;stroke:#ffffff;stroke-width:0.48;\" x=\"889.21039\" xlink:href=\"#m6b11374e2d\" y=\"328.629691\"/>\n     <use style=\"fill:#4c72b0;stroke:#ffffff;stroke-width:0.48;\" x=\"889.21039\" xlink:href=\"#m6b11374e2d\" y=\"334.227441\"/>\n     <use style=\"fill:#4c72b0;stroke:#ffffff;stroke-width:0.48;\" x=\"889.21039\" xlink:href=\"#m6b11374e2d\" y=\"327.337902\"/>\n     <use style=\"fill:#4c72b0;stroke:#ffffff;stroke-width:0.48;\" x=\"889.21039\" xlink:href=\"#m6b11374e2d\" y=\"340.255787\"/>\n     <use style=\"fill:#4c72b0;stroke:#ffffff;stroke-width:0.48;\" x=\"889.21039\" xlink:href=\"#m6b11374e2d\" y=\"367.813941\"/>\n     <use style=\"fill:#4c72b0;stroke:#ffffff;stroke-width:0.48;\" x=\"889.21039\" xlink:href=\"#m6b11374e2d\" y=\"356.618441\"/>\n     <use style=\"fill:#4c72b0;stroke:#ffffff;stroke-width:0.48;\" x=\"889.21039\" xlink:href=\"#m6b11374e2d\" y=\"352.743075\"/>\n     <use style=\"fill:#4c72b0;stroke:#ffffff;stroke-width:0.48;\" x=\"1246.48694\" xlink:href=\"#m6b11374e2d\" y=\"335.519229\"/>\n     <use style=\"fill:#4c72b0;stroke:#ffffff;stroke-width:0.48;\" x=\"1246.48694\" xlink:href=\"#m6b11374e2d\" y=\"344.131152\"/>\n     <use style=\"fill:#4c72b0;stroke:#ffffff;stroke-width:0.48;\" x=\"1246.48694\" xlink:href=\"#m6b11374e2d\" y=\"187.681218\"/>\n     <use style=\"fill:#4c72b0;stroke:#ffffff;stroke-width:0.48;\" x=\"1246.48694\" xlink:href=\"#m6b11374e2d\" y=\"353.173671\"/>\n     <use style=\"fill:#4c72b0;stroke:#ffffff;stroke-width:0.48;\" x=\"889.21039\" xlink:href=\"#m6b11374e2d\" y=\"326.907306\"/>\n     <use style=\"fill:#4c72b0;stroke:#ffffff;stroke-width:0.48;\" x=\"889.21039\" xlink:href=\"#m6b11374e2d\" y=\"331.213268\"/>\n     <use style=\"fill:#4c72b0;stroke:#ffffff;stroke-width:0.48;\" x=\"889.21039\" xlink:href=\"#m6b11374e2d\" y=\"226.434872\"/>\n     <use style=\"fill:#4c72b0;stroke:#ffffff;stroke-width:0.48;\" x=\"889.21039\" xlink:href=\"#m6b11374e2d\" y=\"326.47671\"/>\n     <use style=\"fill:#4c72b0;stroke:#ffffff;stroke-width:0.48;\" x=\"889.21039\" xlink:href=\"#m6b11374e2d\" y=\"221.05242\"/>\n     <use style=\"fill:#4c72b0;stroke:#ffffff;stroke-width:0.48;\" x=\"889.21039\" xlink:href=\"#m6b11374e2d\" y=\"343.700556\"/>\n     <use style=\"fill:#4c72b0;stroke:#ffffff;stroke-width:0.48;\" x=\"889.21039\" xlink:href=\"#m6b11374e2d\" y=\"342.839364\"/>\n     <use style=\"fill:#4c72b0;stroke:#ffffff;stroke-width:0.48;\" x=\"889.21039\" xlink:href=\"#m6b11374e2d\" y=\"351.020691\"/>\n     <use style=\"fill:#4c72b0;stroke:#ffffff;stroke-width:0.48;\" x=\"889.21039\" xlink:href=\"#m6b11374e2d\" y=\"332.935652\"/>\n     <use style=\"fill:#4c72b0;stroke:#ffffff;stroke-width:0.48;\" x=\"889.21039\" xlink:href=\"#m6b11374e2d\" y=\"329.490883\"/>\n     <use style=\"fill:#4c72b0;stroke:#ffffff;stroke-width:0.48;\" x=\"889.21039\" xlink:href=\"#m6b11374e2d\" y=\"348.006518\"/>\n     <use style=\"fill:#4c72b0;stroke:#ffffff;stroke-width:0.48;\" x=\"889.21039\" xlink:href=\"#m6b11374e2d\" y=\"353.173671\"/>\n     <use style=\"fill:#4c72b0;stroke:#ffffff;stroke-width:0.48;\" x=\"889.21039\" xlink:href=\"#m6b11374e2d\" y=\"347.145325\"/>\n     <use style=\"fill:#4c72b0;stroke:#ffffff;stroke-width:0.48;\" x=\"889.21039\" xlink:href=\"#m6b11374e2d\" y=\"325.184922\"/>\n     <use style=\"fill:#4c72b0;stroke:#ffffff;stroke-width:0.48;\" x=\"889.21039\" xlink:href=\"#m6b11374e2d\" y=\"354.46546\"/>\n     <use style=\"fill:#4c72b0;stroke:#ffffff;stroke-width:0.48;\" x=\"889.21039\" xlink:href=\"#m6b11374e2d\" y=\"344.561748\"/>\n     <use style=\"fill:#4c72b0;stroke:#ffffff;stroke-width:0.48;\" x=\"889.21039\" xlink:href=\"#m6b11374e2d\" y=\"347.575922\"/>\n     <use style=\"fill:#4c72b0;stroke:#ffffff;stroke-width:0.48;\" x=\"889.21039\" xlink:href=\"#m6b11374e2d\" y=\"353.604268\"/>\n     <use style=\"fill:#4c72b0;stroke:#ffffff;stroke-width:0.48;\" x=\"1246.48694\" xlink:href=\"#m6b11374e2d\" y=\"351.881883\"/>\n     <use style=\"fill:#4c72b0;stroke:#ffffff;stroke-width:0.48;\" x=\"1246.48694\" xlink:href=\"#m6b11374e2d\" y=\"343.26996\"/>\n     <use style=\"fill:#4c72b0;stroke:#ffffff;stroke-width:0.48;\" x=\"1246.48694\" xlink:href=\"#m6b11374e2d\" y=\"356.618441\"/>\n     <use style=\"fill:#4c72b0;stroke:#ffffff;stroke-width:0.48;\" x=\"889.21039\" xlink:href=\"#m6b11374e2d\" y=\"240.788076\"/>\n     <use style=\"fill:#4c72b0;stroke:#ffffff;stroke-width:0.48;\" x=\"889.21039\" xlink:href=\"#m6b11374e2d\" y=\"326.046114\"/>\n     <use style=\"fill:#4c72b0;stroke:#ffffff;stroke-width:0.48;\" x=\"889.21039\" xlink:href=\"#m6b11374e2d\" y=\"237.199775\"/>\n     <use style=\"fill:#4c72b0;stroke:#ffffff;stroke-width:0.48;\" x=\"889.21039\" xlink:href=\"#m6b11374e2d\" y=\"309.68346\"/>\n     <use style=\"fill:#4c72b0;stroke:#ffffff;stroke-width:0.48;\" x=\"889.21039\" xlink:href=\"#m6b11374e2d\" y=\"340.686383\"/>\n     <use style=\"fill:#4c72b0;stroke:#ffffff;stroke-width:0.48;\" x=\"889.21039\" xlink:href=\"#m6b11374e2d\" y=\"366.522152\"/>\n     <use style=\"fill:#4c72b0;stroke:#ffffff;stroke-width:0.48;\" x=\"889.21039\" xlink:href=\"#m6b11374e2d\" y=\"347.575922\"/>\n     <use style=\"fill:#4c72b0;stroke:#ffffff;stroke-width:0.48;\" x=\"889.21039\" xlink:href=\"#m6b11374e2d\" y=\"288.153653\"/>\n     <use style=\"fill:#4c72b0;stroke:#ffffff;stroke-width:0.48;\" x=\"1246.48694\" xlink:href=\"#m6b11374e2d\" y=\"326.046114\"/>\n     <use style=\"fill:#4c72b0;stroke:#ffffff;stroke-width:0.48;\" x=\"1246.48694\" xlink:href=\"#m6b11374e2d\" y=\"321.309556\"/>\n     <use style=\"fill:#4c72b0;stroke:#ffffff;stroke-width:0.48;\" x=\"889.21039\" xlink:href=\"#m6b11374e2d\" y=\"311.836441\"/>\n     <use style=\"fill:#4c72b0;stroke:#ffffff;stroke-width:0.48;\" x=\"889.21039\" xlink:href=\"#m6b11374e2d\" y=\"304.516307\"/>\n     <use style=\"fill:#4c72b0;stroke:#ffffff;stroke-width:0.48;\" x=\"889.21039\" xlink:href=\"#m6b11374e2d\" y=\"323.462537\"/>\n     <use style=\"fill:#4c72b0;stroke:#ffffff;stroke-width:0.48;\" x=\"889.21039\" xlink:href=\"#m6b11374e2d\" y=\"328.629691\"/>\n     <use style=\"fill:#4c72b0;stroke:#ffffff;stroke-width:0.48;\" x=\"889.21039\" xlink:href=\"#m6b11374e2d\" y=\"212.081667\"/>\n     <use style=\"fill:#4c72b0;stroke:#ffffff;stroke-width:0.48;\" x=\"889.21039\" xlink:href=\"#m6b11374e2d\" y=\"315.711806\"/>\n     <use style=\"fill:#4c72b0;stroke:#ffffff;stroke-width:0.48;\" x=\"889.21039\" xlink:href=\"#m6b11374e2d\" y=\"335.088633\"/>\n     <use style=\"fill:#4c72b0;stroke:#ffffff;stroke-width:0.48;\" x=\"889.21039\" xlink:href=\"#m6b11374e2d\" y=\"349.298306\"/>\n     <use style=\"fill:#4c72b0;stroke:#ffffff;stroke-width:0.48;\" x=\"889.21039\" xlink:href=\"#m6b11374e2d\" y=\"323.031941\"/>\n     <use style=\"fill:#4c72b0;stroke:#ffffff;stroke-width:0.48;\" x=\"889.21039\" xlink:href=\"#m6b11374e2d\" y=\"353.173671\"/>\n     <use style=\"fill:#4c72b0;stroke:#ffffff;stroke-width:0.48;\" x=\"1246.48694\" xlink:href=\"#m6b11374e2d\" y=\"317.434191\"/>\n     <use style=\"fill:#4c72b0;stroke:#ffffff;stroke-width:0.48;\" x=\"1246.48694\" xlink:href=\"#m6b11374e2d\" y=\"337.67221\"/>\n     <use style=\"fill:#4c72b0;stroke:#ffffff;stroke-width:0.48;\" x=\"1246.48694\" xlink:href=\"#m6b11374e2d\" y=\"321.309556\"/>\n     <use style=\"fill:#4c72b0;stroke:#ffffff;stroke-width:0.48;\" x=\"1246.48694\" xlink:href=\"#m6b11374e2d\" y=\"326.907306\"/>\n     <use style=\"fill:#4c72b0;stroke:#ffffff;stroke-width:0.48;\" x=\"1246.48694\" xlink:href=\"#m6b11374e2d\" y=\"222.84657\"/>\n     <use style=\"fill:#4c72b0;stroke:#ffffff;stroke-width:0.48;\" x=\"889.21039\" xlink:href=\"#m6b11374e2d\" y=\"165.43375\"/>\n     <use style=\"fill:#4c72b0;stroke:#ffffff;stroke-width:0.48;\" x=\"889.21039\" xlink:href=\"#m6b11374e2d\" y=\"324.754326\"/>\n     <use style=\"fill:#4c72b0;stroke:#ffffff;stroke-width:0.48;\" x=\"889.21039\" xlink:href=\"#m6b11374e2d\" y=\"316.745237\"/>\n     <use style=\"fill:#4c72b0;stroke:#ffffff;stroke-width:0.48;\" x=\"889.21039\" xlink:href=\"#m6b11374e2d\" y=\"312.697633\"/>\n     <use style=\"fill:#4c72b0;stroke:#ffffff;stroke-width:0.48;\" x=\"889.21039\" xlink:href=\"#m6b11374e2d\" y=\"297.196172\"/>\n     <use style=\"fill:#4c72b0;stroke:#ffffff;stroke-width:0.48;\" x=\"889.21039\" xlink:href=\"#m6b11374e2d\" y=\"326.132233\"/>\n     <use style=\"fill:#4c72b0;stroke:#ffffff;stroke-width:0.48;\" x=\"889.21039\" xlink:href=\"#m6b11374e2d\" y=\"337.67221\"/>\n     <use style=\"fill:#4c72b0;stroke:#ffffff;stroke-width:0.48;\" x=\"889.21039\" xlink:href=\"#m6b11374e2d\" y=\"320.017768\"/>\n     <use style=\"fill:#4c72b0;stroke:#ffffff;stroke-width:0.48;\" x=\"889.21039\" xlink:href=\"#m6b11374e2d\" y=\"354.46546\"/>\n     <use style=\"fill:#4c72b0;stroke:#ffffff;stroke-width:0.48;\" x=\"889.21039\" xlink:href=\"#m6b11374e2d\" y=\"343.700556\"/>\n     <use style=\"fill:#4c72b0;stroke:#ffffff;stroke-width:0.48;\" x=\"889.21039\" xlink:href=\"#m6b11374e2d\" y=\"344.561748\"/>\n     <use style=\"fill:#4c72b0;stroke:#ffffff;stroke-width:0.48;\" x=\"889.21039\" xlink:href=\"#m6b11374e2d\" y=\"327.768499\"/>\n     <use style=\"fill:#4c72b0;stroke:#ffffff;stroke-width:0.48;\" x=\"889.21039\" xlink:href=\"#m6b11374e2d\" y=\"351.020691\"/>\n     <use style=\"fill:#4c72b0;stroke:#ffffff;stroke-width:0.48;\" x=\"889.21039\" xlink:href=\"#m6b11374e2d\" y=\"342.839364\"/>\n     <use style=\"fill:#4c72b0;stroke:#ffffff;stroke-width:0.48;\" x=\"1246.48694\" xlink:href=\"#m6b11374e2d\" y=\"332.505056\"/>\n     <use style=\"fill:#4c72b0;stroke:#ffffff;stroke-width:0.48;\" x=\"1246.48694\" xlink:href=\"#m6b11374e2d\" y=\"125.962437\"/>\n     <use style=\"fill:#4c72b0;stroke:#ffffff;stroke-width:0.48;\" x=\"1246.48694\" xlink:href=\"#m6b11374e2d\" y=\"272.365127\"/>\n     <use style=\"fill:#4c72b0;stroke:#ffffff;stroke-width:0.48;\" x=\"1246.48694\" xlink:href=\"#m6b11374e2d\" y=\"366.091556\"/>\n     <use style=\"fill:#4c72b0;stroke:#ffffff;stroke-width:0.48;\" x=\"889.21039\" xlink:href=\"#m6b11374e2d\" y=\"212.081667\"/>\n     <use style=\"fill:#4c72b0;stroke:#ffffff;stroke-width:0.48;\" x=\"889.21039\" xlink:href=\"#m6b11374e2d\" y=\"255.141281\"/>\n     <use style=\"fill:#4c72b0;stroke:#ffffff;stroke-width:0.48;\" x=\"889.21039\" xlink:href=\"#m6b11374e2d\" y=\"331.213268\"/>\n     <use style=\"fill:#4c72b0;stroke:#ffffff;stroke-width:0.48;\" x=\"889.21039\" xlink:href=\"#m6b11374e2d\" y=\"330.352076\"/>\n     <use style=\"fill:#4c72b0;stroke:#ffffff;stroke-width:0.48;\" x=\"889.21039\" xlink:href=\"#m6b11374e2d\" y=\"342.839364\"/>\n     <use style=\"fill:#4c72b0;stroke:#ffffff;stroke-width:0.48;\" x=\"889.21039\" xlink:href=\"#m6b11374e2d\" y=\"152.874696\"/>\n     <use style=\"fill:#4c72b0;stroke:#ffffff;stroke-width:0.48;\" x=\"889.21039\" xlink:href=\"#m6b11374e2d\" y=\"287.723057\"/>\n     <use style=\"fill:#4c72b0;stroke:#ffffff;stroke-width:0.48;\" x=\"889.21039\" xlink:href=\"#m6b11374e2d\" y=\"197.728462\"/>\n     <use style=\"fill:#4c72b0;stroke:#ffffff;stroke-width:0.48;\" x=\"889.21039\" xlink:href=\"#m6b11374e2d\" y=\"322.170749\"/>\n     <use style=\"fill:#4c72b0;stroke:#ffffff;stroke-width:0.48;\" x=\"889.21039\" xlink:href=\"#m6b11374e2d\" y=\"235.405625\"/>\n     <use style=\"fill:#4c72b0;stroke:#ffffff;stroke-width:0.48;\" x=\"889.21039\" xlink:href=\"#m6b11374e2d\" y=\"350.590095\"/>\n     <use style=\"fill:#4c72b0;stroke:#ffffff;stroke-width:0.48;\" x=\"889.21039\" xlink:href=\"#m6b11374e2d\" y=\"348.437114\"/>\n     <use style=\"fill:#4c72b0;stroke:#ffffff;stroke-width:0.48;\" x=\"889.21039\" xlink:href=\"#m6b11374e2d\" y=\"351.020691\"/>\n     <use style=\"fill:#4c72b0;stroke:#ffffff;stroke-width:0.48;\" x=\"889.21039\" xlink:href=\"#m6b11374e2d\" y=\"314.24778\"/>\n     <use style=\"fill:#4c72b0;stroke:#ffffff;stroke-width:0.48;\" x=\"889.21039\" xlink:href=\"#m6b11374e2d\" y=\"353.604268\"/>\n     <use style=\"fill:#4c72b0;stroke:#ffffff;stroke-width:0.48;\" x=\"889.21039\" xlink:href=\"#m6b11374e2d\" y=\"276.527557\"/>\n     <use style=\"fill:#4c72b0;stroke:#ffffff;stroke-width:0.48;\" x=\"889.21039\" xlink:href=\"#m6b11374e2d\" y=\"315.711806\"/>\n     <use style=\"fill:#4c72b0;stroke:#ffffff;stroke-width:0.48;\" x=\"889.21039\" xlink:href=\"#m6b11374e2d\" y=\"345.853537\"/>\n     <use style=\"fill:#4c72b0;stroke:#ffffff;stroke-width:0.48;\" x=\"889.21039\" xlink:href=\"#m6b11374e2d\" y=\"318.72598\"/>\n     <use style=\"fill:#4c72b0;stroke:#ffffff;stroke-width:0.48;\" x=\"889.21039\" xlink:href=\"#m6b11374e2d\" y=\"252.988301\"/>\n     <use style=\"fill:#4c72b0;stroke:#ffffff;stroke-width:0.48;\" x=\"889.21039\" xlink:href=\"#m6b11374e2d\" y=\"340.686383\"/>\n     <use style=\"fill:#4c72b0;stroke:#ffffff;stroke-width:0.48;\" x=\"1246.48694\" xlink:href=\"#m6b11374e2d\" y=\"337.67221\"/>\n     <use style=\"fill:#4c72b0;stroke:#ffffff;stroke-width:0.48;\" x=\"1246.48694\" xlink:href=\"#m6b11374e2d\" y=\"337.241614\"/>\n     <use style=\"fill:#4c72b0;stroke:#ffffff;stroke-width:0.48;\" x=\"889.21039\" xlink:href=\"#m6b11374e2d\" y=\"300.640941\"/>\n     <use style=\"fill:#4c72b0;stroke:#ffffff;stroke-width:0.48;\" x=\"889.21039\" xlink:href=\"#m6b11374e2d\" y=\"351.451287\"/>\n     <use style=\"fill:#4c72b0;stroke:#ffffff;stroke-width:0.48;\" x=\"889.21039\" xlink:href=\"#m6b11374e2d\" y=\"328.629691\"/>\n    </g>\n   </g>\n   <g id=\"patch_9\">\n    <path d=\"M 871.346563 384.930137 \nL 871.346563 8.373805 \n\" style=\"fill:none;stroke:#ffffff;stroke-linecap:square;stroke-linejoin:miter;stroke-width:1.25;\"/>\n   </g>\n   <g id=\"patch_10\">\n    <path d=\"M 871.346563 384.930137 \nL 1264.350767 384.930137 \n\" style=\"fill:none;stroke:#ffffff;stroke-linecap:square;stroke-linejoin:miter;stroke-width:1.25;\"/>\n   </g>\n  </g>\n </g>\n <defs>\n  <clipPath id=\"p689d1934ef\">\n   <rect height=\"376.556333\" width=\"393.004205\" x=\"68.376563\" y=\"8.373805\"/>\n  </clipPath>\n  <clipPath id=\"p6dde74f412\">\n   <rect height=\"376.556333\" width=\"393.004205\" x=\"469.861563\" y=\"8.373805\"/>\n  </clipPath>\n  <clipPath id=\"pa7110db9d7\">\n   <rect height=\"376.556333\" width=\"393.004205\" x=\"871.346563\" y=\"8.373805\"/>\n  </clipPath>\n </defs>\n</svg>\n",
      "image/png": "[encoded data removed]"
     },
     "metadata": {}
    }
   ],
   "source": [
    "plt.figure(figsize=(2,5))\n",
    "\n",
    "sns.pairplot(\n",
    "    df,\n",
    "    x_vars = [\"JOBCAT_DENOTING\", \"GENDER_DENOTING\", \"MINORITY_DENOTING\"], \n",
    "    y_vars = \"SALARY\",\n",
    "    height=6\n",
    ")"
   ]
  },
  {
   "source": [
    "This hints a decisive difference in the salary depending \n",
    "\n",
    "a) on the `job category` one has (the management has a broader range an gets more than the administarion and the custody, while the custody has a very sharp range of salaries), and\n",
    "\n",
    "b) on the `gender` which looks as if it implicates ones again: if you are classified of beeing female, well you probably going to be less paid than a male, and\n",
    "\n",
    "b) for the `gender` category quite the same: getting classified of beeing not white you also probably going to be less paid than a white person."
   ],
   "cell_type": "markdown",
   "metadata": {}
  },
  {
   "source": [
    "Next we may take a look at the numeric features we have, the `education degree` and the `entry wage`:"
   ],
   "cell_type": "markdown",
   "metadata": {}
  },
  {
   "cell_type": "code",
   "execution_count": 41,
   "metadata": {},
   "outputs": [
    {
     "output_type": "display_data",
     "data": {
      "application/vnd.plotly.v1+json": {
       "config": {
        "plotlyServerURL": "https://plot.ly"
       },
       "data": [
        {
         "hovertemplate": "EDUC=%{x}<br>SALARY=%{y}<br>SALBEGIN=%{marker.color}<extra></extra>",
         "legendgroup": "",
         "marker": {
          "color": [
           27000,
           18750,
           12000,
           13200,
           21000,
           13500,
           18750,
           9750,
           12750,
           13500,
           16500,
           12000,
           14250,
           16800,
           13500,
           15000,
           14250,
           27510,
           14250,
           11550,
           15000,
           12750,
           11100,
           9000,
           9000,
           12600,
           27480,
           14250,
           79980,
           14250,
           14250,
           45000,
           15000,
           39990,
           30000,
           11250,
           13500,
           15000,
           15000,
           9000,
           11550,
           16500,
           14250,
           14250,
           13500,
           12750,
           16500,
           14100,
           16500,
           23730,
           15000,
           15000,
           26250,
           13500,
           15000,
           13500,
           15750,
           13500,
           14250,
           15000,
           9750,
           21750,
           26250,
           21000,
           14550,
           30000,
           21240,
           21480,
           25000,
           20250,
           34980,
           18000,
           10500,
           19500,
           11550,
           11550,
           11400,
           10500,
           14550,
           18000,
           10950,
           14250,
           11250,
           10950,
           17100,
           15750,
           14100,
           28740,
           27480,
           9750,
           11250,
           10950,
           10950,
           10050,
           10500,
           15000,
           19500,
           15000,
           10950,
           27480,
           22500,
           15750,
           35010,
           15750,
           13500,
           29490,
           14400,
           11550,
           15000,
           18000,
           9000,
           15000,
           27480,
           16500,
           14100,
           16500,
           18750,
           14250,
           14100,
           15750,
           10500,
           13500,
           15000,
           16500,
           15000,
           15000,
           15000,
           9750,
           27510,
           30000,
           15750,
           17250,
           15750,
           24990,
           10950,
           15000,
           37500,
           15000,
           13200,
           13500,
           13350,
           13950,
           13200,
           9750,
           13500,
           23250,
           13500,
           14250,
           15000,
           15000,
           26250,
           15000,
           12900,
           12000,
           15000,
           15000,
           13050,
           12000,
           12750,
           47490,
           19500,
           23250,
           15000,
           16500,
           13500,
           9750,
           9750,
           17250,
           14400,
           15000,
           13500,
           15000,
           42480,
           15000,
           15600,
           17250,
           16500,
           10200,
           13050,
           12750,
           10200,
           10200,
           15750,
           15000,
           15000,
           20400,
           21750,
           18750,
           19980,
           16500,
           10200,
           12750,
           12000,
           15750,
           12750,
           12000,
           25500,
           43500,
           27480,
           34980,
           19500,
           16500,
           15000,
           16500,
           52500,
           15000,
           17250,
           11250,
           10200,
           16500,
           15000,
           16500,
           15000,
           10950,
           11100,
           15750,
           27750,
           15750,
           15000,
           15750,
           13800,
           19500,
           10200,
           10200,
           12750,
           15750,
           12000,
           14250,
           10200,
           15000,
           21000,
           33750,
           15000,
           19500,
           31500,
           12000,
           11250,
           11250,
           11225,
           18750,
           10200,
           18000,
           10950,
           10950,
           11550,
           11250,
           10950,
           10950,
           12000,
           12750,
           11250,
           11400,
           10200,
           32490,
           15750,
           27480,
           36750,
           11550,
           11250,
           11250,
           11250,
           10950,
           11250,
           11250,
           11250,
           17250,
           10950,
           15000,
           17250,
           18000,
           16500,
           31980,
           15750,
           21750,
           16500,
           21000,
           17490,
           12000,
           12000,
           10950,
           15750,
           15000,
           32010,
           33000,
           15750,
           25500,
           19500,
           23730,
           30750,
           36240,
           15750,
           15000,
           14250,
           12750,
           15750,
           15000,
           15300,
           13500,
           18000,
           15000,
           13500,
           15000,
           15750,
           13500,
           15750,
           16500,
           32490,
           18000,
           15750,
           21240,
           12000,
           14250,
           11250,
           13500,
           12150,
           15000,
           11550,
           21990,
           15750,
           15000,
           12000,
           14250,
           12000,
           15000,
           10200,
           15750,
           15750,
           32490,
           34980,
           17250,
           12000,
           18000,
           18000,
           10950,
           15750,
           21240,
           11550,
           10200,
           10650,
           12450,
           33750,
           14250,
           60000,
           16500,
           16500,
           13950,
           12000,
           30000,
           12750,
           15750,
           13500,
           12000,
           15750,
           11250,
           17250,
           15000,
           10200,
           13500,
           10200,
           15300,
           13950,
           10200,
           18000,
           10200,
           10200,
           12000,
           10200,
           13500,
           15000,
           18000,
           18000,
           15750,
           16500,
           15750,
           14700,
           15750,
           15750,
           10200,
           13050,
           13500,
           18000,
           15750,
           28740,
           13050,
           15750,
           15750,
           31980,
           16500,
           32490,
           13500,
           12450,
           12000,
           12450,
           12450,
           11250,
           11250,
           12300,
           12450,
           11250,
           12750,
           11250,
           11250,
           11250,
           15000,
           13950,
           32490,
           15750,
           33000,
           19500,
           18750,
           10200,
           11250,
           19500,
           15750,
           15750,
           13500,
           15000,
           15750,
           16500,
           35040,
           15750,
           16500,
           13800,
           11100,
           13500,
           17490,
           16050,
           15750,
           15750,
           34980,
           45000,
           15000,
           15750,
           20250,
           16500,
           15750,
           16050,
           15000,
           11250,
           12750,
           13500,
           13500,
           13500,
           15750,
           16500,
           44100,
           20550,
           10200,
           21750,
           34980,
           14250,
           18000,
           15750,
           31250,
           19500,
           42510,
           14250,
           28740,
           11250,
           12750,
           13500,
           19500,
           14250,
           33000,
           16500,
           13500,
           19500,
           19980,
           13950,
           15750,
           15750,
           15750,
           12750,
           14250
          ],
          "coloraxis": "coloraxis",
          "size": 10,
          "symbol": "circle"
         },
         "mode": "markers",
         "name": "",
         "orientation": "v",
         "showlegend": false,
         "type": "scatter",
         "x": [
          15,
          16,
          12,
          8,
          15,
          15,
          15,
          12,
          15,
          12,
          16,
          8,
          15,
          15,
          12,
          12,
          15,
          16,
          12,
          12,
          16,
          12,
          15,
          12,
          15,
          15,
          19,
          15,
          19,
          15,
          12,
          19,
          15,
          19,
          17,
          8,
          12,
          15,
          16,
          15,
          12,
          15,
          12,
          8,
          12,
          15,
          12,
          12,
          15,
          16,
          12,
          15,
          18,
          12,
          12,
          15,
          15,
          15,
          15,
          12,
          8,
          16,
          17,
          16,
          8,
          19,
          16,
          16,
          16,
          15,
          17,
          16,
          12,
          15,
          15,
          15,
          12,
          12,
          16,
          16,
          12,
          12,
          12,
          8,
          15,
          15,
          12,
          19,
          19,
          8,
          12,
          8,
          12,
          12,
          12,
          8,
          17,
          8,
          12,
          18,
          16,
          14,
          19,
          15,
          15,
          19,
          12,
          12,
          12,
          15,
          12,
          12,
          16,
          14,
          15,
          15,
          12,
          12,
          12,
          16,
          15,
          15,
          12,
          16,
          12,
          15,
          12,
          12,
          17,
          20,
          15,
          12,
          15,
          16,
          12,
          12,
          21,
          12,
          8,
          12,
          15,
          12,
          12,
          8,
          12,
          18,
          15,
          15,
          12,
          12,
          16,
          8,
          12,
          12,
          15,
          15,
          12,
          12,
          16,
          16,
          16,
          16,
          15,
          15,
          15,
          12,
          12,
          16,
          12,
          12,
          12,
          15,
          20,
          8,
          8,
          16,
          12,
          12,
          12,
          12,
          12,
          12,
          15,
          15,
          8,
          15,
          16,
          12,
          12,
          8,
          12,
          12,
          12,
          15,
          12,
          16,
          15,
          19,
          16,
          17,
          12,
          15,
          12,
          15,
          16,
          12,
          15,
          12,
          8,
          15,
          15,
          15,
          8,
          12,
          12,
          15,
          16,
          15,
          12,
          12,
          12,
          15,
          8,
          12,
          15,
          16,
          12,
          15,
          12,
          15,
          16,
          19,
          15,
          15,
          19,
          8,
          12,
          12,
          12,
          16,
          8,
          12,
          12,
          8,
          12,
          12,
          12,
          12,
          12,
          15,
          12,
          12,
          8,
          18,
          12,
          19,
          19,
          8,
          12,
          12,
          12,
          12,
          12,
          12,
          12,
          16,
          12,
          12,
          15,
          15,
          15,
          18,
          12,
          16,
          12,
          16,
          16,
          8,
          12,
          12,
          8,
          14,
          19,
          19,
          8,
          15,
          16,
          15,
          17,
          18,
          12,
          14,
          15,
          12,
          8,
          12,
          12,
          12,
          15,
          16,
          12,
          8,
          12,
          15,
          12,
          15,
          16,
          15,
          15,
          16,
          12,
          12,
          12,
          12,
          12,
          15,
          12,
          16,
          15,
          12,
          12,
          12,
          15,
          12,
          8,
          8,
          12,
          18,
          18,
          15,
          12,
          16,
          15,
          12,
          8,
          16,
          12,
          8,
          8,
          8,
          12,
          12,
          16,
          12,
          12,
          15,
          12,
          16,
          17,
          12,
          12,
          8,
          12,
          12,
          15,
          15,
          8,
          15,
          12,
          12,
          12,
          8,
          16,
          12,
          8,
          12,
          12,
          12,
          14,
          16,
          16,
          15,
          12,
          15,
          12,
          15,
          15,
          8,
          8,
          12,
          17,
          12,
          17,
          12,
          12,
          8,
          19,
          14,
          19,
          15,
          12,
          12,
          12,
          8,
          12,
          12,
          12,
          12,
          12,
          12,
          12,
          12,
          12,
          12,
          12,
          17,
          15,
          19,
          19,
          8,
          12,
          12,
          16,
          8,
          15,
          15,
          15,
          15,
          15,
          19,
          15,
          15,
          12,
          15,
          12,
          16,
          8,
          15,
          8,
          19,
          18,
          12,
          12,
          16,
          15,
          12,
          8,
          15,
          12,
          8,
          15,
          12,
          8,
          12,
          15,
          16,
          15,
          12,
          16,
          19,
          15,
          12,
          15,
          19,
          16,
          19,
          15,
          19,
          12,
          12,
          8,
          16,
          15,
          19,
          12,
          12,
          16,
          16,
          15,
          12,
          15,
          15,
          12,
          12
         ],
         "xaxis": "x",
         "y": [
          57000,
          40200,
          21450,
          21900,
          45000,
          32100,
          36000,
          21900,
          27900,
          24000,
          30300,
          28350,
          27750,
          35100,
          27300,
          40800,
          46000,
          103750,
          42300,
          26250,
          38850,
          21750,
          24000,
          16950,
          21150,
          31050,
          60375,
          32550,
          135000,
          31200,
          36150,
          110625,
          42000,
          92000,
          81250,
          31350,
          29100,
          31350,
          36000,
          19200,
          23550,
          35100,
          23250,
          29250,
          30750,
          22350,
          30000,
          30750,
          34800,
          60000,
          35550,
          45150,
          73750,
          25050,
          27000,
          26850,
          33900,
          26400,
          28050,
          30900,
          22500,
          48000,
          55000,
          53125,
          21900,
          78125,
          46000,
          45250,
          56550,
          41100,
          82500,
          54000,
          26400,
          33900,
          24150,
          29250,
          27600,
          22950,
          34800,
          51000,
          24300,
          24750,
          22950,
          25050,
          25950,
          31650,
          24150,
          72500,
          68750,
          16200,
          20100,
          24000,
          25950,
          24600,
          28500,
          30750,
          40200,
          30000,
          22050,
          78250,
          60625,
          39900,
          97000,
          27450,
          31650,
          91250,
          25200,
          21000,
          30450,
          28350,
          30750,
          30750,
          54875,
          37800,
          33450,
          30300,
          31500,
          31650,
          25200,
          37800,
          18750,
          32550,
          33300,
          38550,
          27450,
          24300,
          30750,
          19650,
          68750,
          59375,
          31500,
          27300,
          27000,
          41550,
          26250,
          22200,
          65000,
          30900,
          20100,
          22350,
          35550,
          28500,
          24450,
          16650,
          26700,
          43950,
          23700,
          26550,
          27600,
          25800,
          42300,
          30750,
          26700,
          20850,
          35250,
          26700,
          26550,
          27750,
          25050,
          66000,
          52650,
          45625,
          30900,
          29400,
          33300,
          21900,
          18150,
          46875,
          25500,
          26550,
          26700,
          29850,
          69250,
          31950,
          26250,
          35700,
          28500,
          17100,
          25200,
          24000,
          27450,
          18450,
          39300,
          38850,
          30750,
          37500,
          58750,
          34500,
          36000,
          29100,
          16500,
          19650,
          24750,
          27150,
          26400,
          23100,
          54900,
          70875,
          51250,
          67500,
          29340,
          39600,
          29100,
          33150,
          66750,
          33750,
          27300,
          24000,
          19800,
          30600,
          28950,
          38400,
          30750,
          20400,
          19200,
          30150,
          34620,
          80000,
          25350,
          29850,
          24000,
          27750,
          22350,
          16200,
          21900,
          23250,
          33900,
          25650,
          17250,
          22500,
          40200,
          55500,
          26550,
          50550,
          75000,
          27450,
          22650,
          27300,
          27750,
          54375,
          17400,
          40800,
          23100,
          22500,
          26700,
          24900,
          19650,
          22050,
          25500,
          28200,
          23100,
          25500,
          17100,
          68125,
          30600,
          52125,
          61875,
          21300,
          19650,
          22350,
          23400,
          24300,
          28500,
          19950,
          23400,
          34500,
          18150,
          22350,
          40200,
          28650,
          27750,
          66875,
          30000,
          83750,
          33900,
          56500,
          43000,
          20850,
          24450,
          24750,
          34500,
          27900,
          68125,
          73500,
          30750,
          40050,
          40350,
          38700,
          65000,
          51450,
          35250,
          25950,
          25050,
          26700,
          24000,
          26850,
          23400,
          24600,
          32550,
          26550,
          31500,
          22350,
          35250,
          25800,
          30750,
          30750,
          50000,
          34500,
          26250,
          44875,
          22500,
          25650,
          21300,
          29850,
          34500,
          27750,
          27750,
          48750,
          43410,
          22050,
          22050,
          22500,
          25500,
          29160,
          16800,
          29550,
          26700,
          55000,
          62500,
          27300,
          24450,
          33000,
          37050,
          24450,
          31950,
          47250,
          26100,
          15900,
          23700,
          21750,
          59400,
          24450,
          103500,
          35700,
          22200,
          22950,
          23100,
          56750,
          29100,
          37650,
          27900,
          21150,
          31200,
          20550,
          25950,
          28350,
          17700,
          23550,
          19950,
          29400,
          28800,
          16950,
          35700,
          17400,
          21450,
          24750,
          16950,
          26100,
          28050,
          36600,
          58125,
          21300,
          22500,
          29400,
          27450,
          29850,
          25350,
          15750,
          19650,
          21000,
          27000,
          24000,
          78500,
          20850,
          30000,
          28500,
          65000,
          30150,
          66875,
          24150,
          24450,
          21600,
          27900,
          29100,
          22650,
          20850,
          22950,
          30600,
          20400,
          23850,
          22800,
          20700,
          21300,
          24300,
          19650,
          60000,
          30300,
          61250,
          36000,
          25200,
          16200,
          22800,
          43500,
          30300,
          31950,
          35250,
          37800,
          31200,
          29400,
          70000,
          33900,
          27150,
          22200,
          31350,
          20850,
          33300,
          26250,
          31950,
          30000,
          66250,
          86250,
          30750,
          33540,
          34950,
          40350,
          30270,
          26250,
          32400,
          20400,
          24150,
          23850,
          29700,
          21600,
          24450,
          28050,
          100000,
          49000,
          16350,
          70000,
          55000,
          28500,
          28800,
          24450,
          90625,
          43650,
          75000,
          31650,
          61875,
          21750,
          22500,
          21600,
          34410,
          20700,
          47550,
          33900,
          23400,
          32850,
          55750,
          25200,
          26250,
          26400,
          39150,
          21450,
          29400
         ],
         "yaxis": "y"
        }
       ],
       "layout": {
        "coloraxis": {
         "colorbar": {
          "title": {
           "text": "SALBEGIN"
          }
         },
         "colorscale": [
          [
           0,
           "#0d0887"
          ],
          [
           0.1111111111111111,
           "#46039f"
          ],
          [
           0.2222222222222222,
           "#7201a8"
          ],
          [
           0.3333333333333333,
           "#9c179e"
          ],
          [
           0.4444444444444444,
           "#bd3786"
          ],
          [
           0.5555555555555556,
           "#d8576b"
          ],
          [
           0.6666666666666666,
           "#ed7953"
          ],
          [
           0.7777777777777778,
           "#fb9f3a"
          ],
          [
           0.8888888888888888,
           "#fdca26"
          ],
          [
           1,
           "#f0f921"
          ]
         ]
        },
        "legend": {
         "tracegroupgap": 0
        },
        "template": {
         "data": {
          "bar": [
           {
            "error_x": {
             "color": "#2a3f5f"
            },
            "error_y": {
             "color": "#2a3f5f"
            },
            "marker": {
             "line": {
              "color": "#E5ECF6",
              "width": 0.5
             }
            },
            "type": "bar"
           }
          ],
          "barpolar": [
           {
            "marker": {
             "line": {
              "color": "#E5ECF6",
              "width": 0.5
             }
            },
            "type": "barpolar"
           }
          ],
          "carpet": [
           {
            "aaxis": {
             "endlinecolor": "#2a3f5f",
             "gridcolor": "white",
             "linecolor": "white",
             "minorgridcolor": "white",
             "startlinecolor": "#2a3f5f"
            },
            "baxis": {
             "endlinecolor": "#2a3f5f",
             "gridcolor": "white",
             "linecolor": "white",
             "minorgridcolor": "white",
             "startlinecolor": "#2a3f5f"
            },
            "type": "carpet"
           }
          ],
          "choropleth": [
           {
            "colorbar": {
             "outlinewidth": 0,
             "ticks": ""
            },
            "type": "choropleth"
           }
          ],
          "contour": [
           {
            "colorbar": {
             "outlinewidth": 0,
             "ticks": ""
            },
            "colorscale": [
             [
              0,
              "#0d0887"
             ],
             [
              0.1111111111111111,
              "#46039f"
             ],
             [
              0.2222222222222222,
              "#7201a8"
             ],
             [
              0.3333333333333333,
              "#9c179e"
             ],
             [
              0.4444444444444444,
              "#bd3786"
             ],
             [
              0.5555555555555556,
              "#d8576b"
             ],
             [
              0.6666666666666666,
              "#ed7953"
             ],
             [
              0.7777777777777778,
              "#fb9f3a"
             ],
             [
              0.8888888888888888,
              "#fdca26"
             ],
             [
              1,
              "#f0f921"
             ]
            ],
            "type": "contour"
           }
          ],
          "contourcarpet": [
           {
            "colorbar": {
             "outlinewidth": 0,
             "ticks": ""
            },
            "type": "contourcarpet"
           }
          ],
          "heatmap": [
           {
            "colorbar": {
             "outlinewidth": 0,
             "ticks": ""
            },
            "colorscale": [
             [
              0,
              "#0d0887"
             ],
             [
              0.1111111111111111,
              "#46039f"
             ],
             [
              0.2222222222222222,
              "#7201a8"
             ],
             [
              0.3333333333333333,
              "#9c179e"
             ],
             [
              0.4444444444444444,
              "#bd3786"
             ],
             [
              0.5555555555555556,
              "#d8576b"
             ],
             [
              0.6666666666666666,
              "#ed7953"
             ],
             [
              0.7777777777777778,
              "#fb9f3a"
             ],
             [
              0.8888888888888888,
              "#fdca26"
             ],
             [
              1,
              "#f0f921"
             ]
            ],
            "type": "heatmap"
           }
          ],
          "heatmapgl": [
           {
            "colorbar": {
             "outlinewidth": 0,
             "ticks": ""
            },
            "colorscale": [
             [
              0,
              "#0d0887"
             ],
             [
              0.1111111111111111,
              "#46039f"
             ],
             [
              0.2222222222222222,
              "#7201a8"
             ],
             [
              0.3333333333333333,
              "#9c179e"
             ],
             [
              0.4444444444444444,
              "#bd3786"
             ],
             [
              0.5555555555555556,
              "#d8576b"
             ],
             [
              0.6666666666666666,
              "#ed7953"
             ],
             [
              0.7777777777777778,
              "#fb9f3a"
             ],
             [
              0.8888888888888888,
              "#fdca26"
             ],
             [
              1,
              "#f0f921"
             ]
            ],
            "type": "heatmapgl"
           }
          ],
          "histogram": [
           {
            "marker": {
             "colorbar": {
              "outlinewidth": 0,
              "ticks": ""
             }
            },
            "type": "histogram"
           }
          ],
          "histogram2d": [
           {
            "colorbar": {
             "outlinewidth": 0,
             "ticks": ""
            },
            "colorscale": [
             [
              0,
              "#0d0887"
             ],
             [
              0.1111111111111111,
              "#46039f"
             ],
             [
              0.2222222222222222,
              "#7201a8"
             ],
             [
              0.3333333333333333,
              "#9c179e"
             ],
             [
              0.4444444444444444,
              "#bd3786"
             ],
             [
              0.5555555555555556,
              "#d8576b"
             ],
             [
              0.6666666666666666,
              "#ed7953"
             ],
             [
              0.7777777777777778,
              "#fb9f3a"
             ],
             [
              0.8888888888888888,
              "#fdca26"
             ],
             [
              1,
              "#f0f921"
             ]
            ],
            "type": "histogram2d"
           }
          ],
          "histogram2dcontour": [
           {
            "colorbar": {
             "outlinewidth": 0,
             "ticks": ""
            },
            "colorscale": [
             [
              0,
              "#0d0887"
             ],
             [
              0.1111111111111111,
              "#46039f"
             ],
             [
              0.2222222222222222,
              "#7201a8"
             ],
             [
              0.3333333333333333,
              "#9c179e"
             ],
             [
              0.4444444444444444,
              "#bd3786"
             ],
             [
              0.5555555555555556,
              "#d8576b"
             ],
             [
              0.6666666666666666,
              "#ed7953"
             ],
             [
              0.7777777777777778,
              "#fb9f3a"
             ],
             [
              0.8888888888888888,
              "#fdca26"
             ],
             [
              1,
              "#f0f921"
             ]
            ],
            "type": "histogram2dcontour"
           }
          ],
          "mesh3d": [
           {
            "colorbar": {
             "outlinewidth": 0,
             "ticks": ""
            },
            "type": "mesh3d"
           }
          ],
          "parcoords": [
           {
            "line": {
             "colorbar": {
              "outlinewidth": 0,
              "ticks": ""
             }
            },
            "type": "parcoords"
           }
          ],
          "pie": [
           {
            "automargin": true,
            "type": "pie"
           }
          ],
          "scatter": [
           {
            "marker": {
             "colorbar": {
              "outlinewidth": 0,
              "ticks": ""
             }
            },
            "type": "scatter"
           }
          ],
          "scatter3d": [
           {
            "line": {
             "colorbar": {
              "outlinewidth": 0,
              "ticks": ""
             }
            },
            "marker": {
             "colorbar": {
              "outlinewidth": 0,
              "ticks": ""
             }
            },
            "type": "scatter3d"
           }
          ],
          "scattercarpet": [
           {
            "marker": {
             "colorbar": {
              "outlinewidth": 0,
              "ticks": ""
             }
            },
            "type": "scattercarpet"
           }
          ],
          "scattergeo": [
           {
            "marker": {
             "colorbar": {
              "outlinewidth": 0,
              "ticks": ""
             }
            },
            "type": "scattergeo"
           }
          ],
          "scattergl": [
           {
            "marker": {
             "colorbar": {
              "outlinewidth": 0,
              "ticks": ""
             }
            },
            "type": "scattergl"
           }
          ],
          "scattermapbox": [
           {
            "marker": {
             "colorbar": {
              "outlinewidth": 0,
              "ticks": ""
             }
            },
            "type": "scattermapbox"
           }
          ],
          "scatterpolar": [
           {
            "marker": {
             "colorbar": {
              "outlinewidth": 0,
              "ticks": ""
             }
            },
            "type": "scatterpolar"
           }
          ],
          "scatterpolargl": [
           {
            "marker": {
             "colorbar": {
              "outlinewidth": 0,
              "ticks": ""
             }
            },
            "type": "scatterpolargl"
           }
          ],
          "scatterternary": [
           {
            "marker": {
             "colorbar": {
              "outlinewidth": 0,
              "ticks": ""
             }
            },
            "type": "scatterternary"
           }
          ],
          "surface": [
           {
            "colorbar": {
             "outlinewidth": 0,
             "ticks": ""
            },
            "colorscale": [
             [
              0,
              "#0d0887"
             ],
             [
              0.1111111111111111,
              "#46039f"
             ],
             [
              0.2222222222222222,
              "#7201a8"
             ],
             [
              0.3333333333333333,
              "#9c179e"
             ],
             [
              0.4444444444444444,
              "#bd3786"
             ],
             [
              0.5555555555555556,
              "#d8576b"
             ],
             [
              0.6666666666666666,
              "#ed7953"
             ],
             [
              0.7777777777777778,
              "#fb9f3a"
             ],
             [
              0.8888888888888888,
              "#fdca26"
             ],
             [
              1,
              "#f0f921"
             ]
            ],
            "type": "surface"
           }
          ],
          "table": [
           {
            "cells": {
             "fill": {
              "color": "#EBF0F8"
             },
             "line": {
              "color": "white"
             }
            },
            "header": {
             "fill": {
              "color": "#C8D4E3"
             },
             "line": {
              "color": "white"
             }
            },
            "type": "table"
           }
          ]
         },
         "layout": {
          "annotationdefaults": {
           "arrowcolor": "#2a3f5f",
           "arrowhead": 0,
           "arrowwidth": 1
          },
          "autotypenumbers": "strict",
          "coloraxis": {
           "colorbar": {
            "outlinewidth": 0,
            "ticks": ""
           }
          },
          "colorscale": {
           "diverging": [
            [
             0,
             "#8e0152"
            ],
            [
             0.1,
             "#c51b7d"
            ],
            [
             0.2,
             "#de77ae"
            ],
            [
             0.3,
             "#f1b6da"
            ],
            [
             0.4,
             "#fde0ef"
            ],
            [
             0.5,
             "#f7f7f7"
            ],
            [
             0.6,
             "#e6f5d0"
            ],
            [
             0.7,
             "#b8e186"
            ],
            [
             0.8,
             "#7fbc41"
            ],
            [
             0.9,
             "#4d9221"
            ],
            [
             1,
             "#276419"
            ]
           ],
           "sequential": [
            [
             0,
             "#0d0887"
            ],
            [
             0.1111111111111111,
             "#46039f"
            ],
            [
             0.2222222222222222,
             "#7201a8"
            ],
            [
             0.3333333333333333,
             "#9c179e"
            ],
            [
             0.4444444444444444,
             "#bd3786"
            ],
            [
             0.5555555555555556,
             "#d8576b"
            ],
            [
             0.6666666666666666,
             "#ed7953"
            ],
            [
             0.7777777777777778,
             "#fb9f3a"
            ],
            [
             0.8888888888888888,
             "#fdca26"
            ],
            [
             1,
             "#f0f921"
            ]
           ],
           "sequentialminus": [
            [
             0,
             "#0d0887"
            ],
            [
             0.1111111111111111,
             "#46039f"
            ],
            [
             0.2222222222222222,
             "#7201a8"
            ],
            [
             0.3333333333333333,
             "#9c179e"
            ],
            [
             0.4444444444444444,
             "#bd3786"
            ],
            [
             0.5555555555555556,
             "#d8576b"
            ],
            [
             0.6666666666666666,
             "#ed7953"
            ],
            [
             0.7777777777777778,
             "#fb9f3a"
            ],
            [
             0.8888888888888888,
             "#fdca26"
            ],
            [
             1,
             "#f0f921"
            ]
           ]
          },
          "colorway": [
           "#636efa",
           "#EF553B",
           "#00cc96",
           "#ab63fa",
           "#FFA15A",
           "#19d3f3",
           "#FF6692",
           "#B6E880",
           "#FF97FF",
           "#FECB52"
          ],
          "font": {
           "color": "#2a3f5f"
          },
          "geo": {
           "bgcolor": "white",
           "lakecolor": "white",
           "landcolor": "#E5ECF6",
           "showlakes": true,
           "showland": true,
           "subunitcolor": "white"
          },
          "hoverlabel": {
           "align": "left"
          },
          "hovermode": "closest",
          "mapbox": {
           "style": "light"
          },
          "paper_bgcolor": "white",
          "plot_bgcolor": "#E5ECF6",
          "polar": {
           "angularaxis": {
            "gridcolor": "white",
            "linecolor": "white",
            "ticks": ""
           },
           "bgcolor": "#E5ECF6",
           "radialaxis": {
            "gridcolor": "white",
            "linecolor": "white",
            "ticks": ""
           }
          },
          "scene": {
           "xaxis": {
            "backgroundcolor": "#E5ECF6",
            "gridcolor": "white",
            "gridwidth": 2,
            "linecolor": "white",
            "showbackground": true,
            "ticks": "",
            "zerolinecolor": "white"
           },
           "yaxis": {
            "backgroundcolor": "#E5ECF6",
            "gridcolor": "white",
            "gridwidth": 2,
            "linecolor": "white",
            "showbackground": true,
            "ticks": "",
            "zerolinecolor": "white"
           },
           "zaxis": {
            "backgroundcolor": "#E5ECF6",
            "gridcolor": "white",
            "gridwidth": 2,
            "linecolor": "white",
            "showbackground": true,
            "ticks": "",
            "zerolinecolor": "white"
           }
          },
          "shapedefaults": {
           "line": {
            "color": "#2a3f5f"
           }
          },
          "ternary": {
           "aaxis": {
            "gridcolor": "white",
            "linecolor": "white",
            "ticks": ""
           },
           "baxis": {
            "gridcolor": "white",
            "linecolor": "white",
            "ticks": ""
           },
           "bgcolor": "#E5ECF6",
           "caxis": {
            "gridcolor": "white",
            "linecolor": "white",
            "ticks": ""
           }
          },
          "title": {
           "x": 0.05
          },
          "xaxis": {
           "automargin": true,
           "gridcolor": "white",
           "linecolor": "white",
           "ticks": "",
           "title": {
            "standoff": 15
           },
           "zerolinecolor": "white",
           "zerolinewidth": 2
          },
          "yaxis": {
           "automargin": true,
           "gridcolor": "white",
           "linecolor": "white",
           "ticks": "",
           "title": {
            "standoff": 15
           },
           "zerolinecolor": "white",
           "zerolinewidth": 2
          }
         }
        },
        "title": {
         "text": "Impact of Education and Entry Wage on Salary"
        },
        "xaxis": {
         "anchor": "y",
         "domain": [
          0,
          1
         ],
         "title": {
          "text": "EDUC"
         }
        },
        "yaxis": {
         "anchor": "x",
         "domain": [
          0,
          1
         ],
         "title": {
          "text": "SALARY"
         }
        }
       }
      }
     },
     "metadata": {}
    }
   ],
   "source": [
    "fig = plx.scatter(df,\n",
    "    x = \"EDUC\", \n",
    "    y = \"SALARY\", \n",
    "    color = \"SALBEGIN\",\n",
    "    title = \"Impact of Education and Entry Wage on Salary\"\n",
    ")\n",
    "fig.update_traces(marker_size=10)\n",
    "fig.show()"
   ]
  },
  {
   "source": [
    "This plot hints that having a lesser number of years in education your salary is goint to be very narrowed in a rather sharp range.\n",
    "\n",
    "And on the other hand: If you start already with an higher entry wage you probably going to have an even higher raise in absolute numbers than someone who starts with a lower salary at the beginning."
   ],
   "cell_type": "markdown",
   "metadata": {}
  },
  {
   "source": [
    "In the end we may take a look at the `sociodemographic` features."
   ],
   "cell_type": "markdown",
   "metadata": {}
  },
  {
   "cell_type": "code",
   "execution_count": 43,
   "metadata": {},
   "outputs": [
    {
     "output_type": "execute_result",
     "data": {
      "text/html": "\n<div id=\"altair-viz-665325139bf04e40a8f2938cd3bf3850\"></div>\n<script type=\"text/javascript\">\n  (function(spec, embedOpt){\n    let outputDiv = document.currentScript.previousElementSibling;\n    if (outputDiv.id !== \"altair-viz-665325139bf04e40a8f2938cd3bf3850\") {\n      outputDiv = document.getElementById(\"altair-viz-665325139bf04e40a8f2938cd3bf3850\");\n    }\n    const paths = {\n      \"vega\": \"https://cdn.jsdelivr.net/npm//vega@5?noext\",\n      \"vega-lib\": \"https://cdn.jsdelivr.net/npm//vega-lib?noext\",\n      \"vega-lite\": \"https://cdn.jsdelivr.net/npm//vega-lite@4.8.1?noext\",\n      \"vega-embed\": \"https://cdn.jsdelivr.net/npm//vega-embed@6?noext\",\n    };\n\n    function loadScript(lib) {\n      return new Promise(function(resolve, reject) {\n        var s = document.createElement('script');\n        s.src = paths[lib];\n        s.async = true;\n        s.onload = () => resolve(paths[lib]);\n        s.onerror = () => reject(`Error loading script: ${paths[lib]}`);\n        document.getElementsByTagName(\"head\")[0].appendChild(s);\n      });\n    }\n\n    function showError(err) {\n      outputDiv.innerHTML = `<div class=\"error\" style=\"color:red;\">${err}</div>`;\n      throw err;\n    }\n\n    function displayChart(vegaEmbed) {\n      vegaEmbed(outputDiv, spec, embedOpt)\n        .catch(err => showError(`Javascript Error: ${err.message}<br>This usually means there's a typo in your chart specification. See the javascript console for the full traceback.`));\n    }\n\n    if(typeof define === \"function\" && define.amd) {\n      requirejs.config({paths});\n      require([\"vega-embed\"], displayChart, err => showError(`Error loading script: ${err.message}`));\n    } else if (typeof vegaEmbed === \"function\") {\n      displayChart(vegaEmbed);\n    } else {\n      loadScript(\"vega\")\n        .then(() => loadScript(\"vega-lite\"))\n        .then(() => loadScript(\"vega-embed\"))\n        .catch(showError)\n        .then(() => displayChart(vegaEmbed));\n    }\n  })({\"config\": {\"view\": {\"continuousWidth\": 400, \"continuousHeight\": 300}}, \"data\": {\"name\": \"data-4d51f11cb28082326eec7abb4097b9a4\"}, \"mark\": {\"type\": \"point\", \"size\": 60}, \"encoding\": {\"color\": {\"type\": \"nominal\", \"field\": \"GENDER_DENOTING\"}, \"column\": {\"type\": \"nominal\", \"field\": \"JOBCAT_DENOTING\"}, \"x\": {\"type\": \"nominal\", \"axis\": {\"labelAngle\": 0}, \"field\": \"MINORITY_DENOTING\"}, \"y\": {\"type\": \"quantitative\", \"field\": \"SALARY\"}}, \"title\": \"Impact of Sociodemography on Salary\", \"width\": 200, \"$schema\": \"https://vega.github.io/schema/vega-lite/v4.8.1.json\", \"datasets\": {\"data-4d51f11cb28082326eec7abb4097b9a4\": [{\"SALARY\": 57000, \"EDUC\": 15, \"SALBEGIN\": 27000, \"GENDER\": 1, \"MINORITY\": 0, \"JOBCAT\": 3, \"GENDER_DENOTING\": \"Male\", \"MINORITY_DENOTING\": \"White\", \"JOBCAT_DENOTING\": \"Management\", \"SOCIODEMOGRAPHY\": 1, \"SOCIODEMOGRAPHY_DENOTING\": \"White_Male\"}, {\"SALARY\": 40200, \"EDUC\": 16, \"SALBEGIN\": 18750, \"GENDER\": 1, \"MINORITY\": 0, \"JOBCAT\": 1, \"GENDER_DENOTING\": \"Male\", \"MINORITY_DENOTING\": \"White\", \"JOBCAT_DENOTING\": \"Administration\", \"SOCIODEMOGRAPHY\": 1, \"SOCIODEMOGRAPHY_DENOTING\": \"White_Male\"}, {\"SALARY\": 21450, \"EDUC\": 12, \"SALBEGIN\": 12000, \"GENDER\": 0, \"MINORITY\": 0, \"JOBCAT\": 1, \"GENDER_DENOTING\": \"Female\", \"MINORITY_DENOTING\": \"White\", \"JOBCAT_DENOTING\": \"Administration\", \"SOCIODEMOGRAPHY\": 0, \"SOCIODEMOGRAPHY_DENOTING\": \"White_Female\"}, {\"SALARY\": 21900, \"EDUC\": 8, \"SALBEGIN\": 13200, \"GENDER\": 0, \"MINORITY\": 0, \"JOBCAT\": 1, \"GENDER_DENOTING\": \"Female\", \"MINORITY_DENOTING\": \"White\", \"JOBCAT_DENOTING\": \"Administration\", \"SOCIODEMOGRAPHY\": 0, \"SOCIODEMOGRAPHY_DENOTING\": \"White_Female\"}, {\"SALARY\": 45000, \"EDUC\": 15, \"SALBEGIN\": 21000, \"GENDER\": 1, \"MINORITY\": 0, \"JOBCAT\": 1, \"GENDER_DENOTING\": \"Male\", \"MINORITY_DENOTING\": \"White\", \"JOBCAT_DENOTING\": \"Administration\", \"SOCIODEMOGRAPHY\": 1, \"SOCIODEMOGRAPHY_DENOTING\": \"White_Male\"}, {\"SALARY\": 32100, \"EDUC\": 15, \"SALBEGIN\": 13500, \"GENDER\": 1, \"MINORITY\": 0, \"JOBCAT\": 1, \"GENDER_DENOTING\": \"Male\", \"MINORITY_DENOTING\": \"White\", \"JOBCAT_DENOTING\": \"Administration\", \"SOCIODEMOGRAPHY\": 1, \"SOCIODEMOGRAPHY_DENOTING\": \"White_Male\"}, {\"SALARY\": 36000, \"EDUC\": 15, \"SALBEGIN\": 18750, \"GENDER\": 1, \"MINORITY\": 0, \"JOBCAT\": 1, \"GENDER_DENOTING\": \"Male\", \"MINORITY_DENOTING\": \"White\", \"JOBCAT_DENOTING\": \"Administration\", \"SOCIODEMOGRAPHY\": 1, \"SOCIODEMOGRAPHY_DENOTING\": \"White_Male\"}, {\"SALARY\": 21900, \"EDUC\": 12, \"SALBEGIN\": 9750, \"GENDER\": 0, \"MINORITY\": 0, \"JOBCAT\": 1, \"GENDER_DENOTING\": \"Female\", \"MINORITY_DENOTING\": \"White\", \"JOBCAT_DENOTING\": \"Administration\", \"SOCIODEMOGRAPHY\": 0, \"SOCIODEMOGRAPHY_DENOTING\": \"White_Female\"}, {\"SALARY\": 27900, \"EDUC\": 15, \"SALBEGIN\": 12750, \"GENDER\": 0, \"MINORITY\": 0, \"JOBCAT\": 1, \"GENDER_DENOTING\": \"Female\", \"MINORITY_DENOTING\": \"White\", \"JOBCAT_DENOTING\": \"Administration\", \"SOCIODEMOGRAPHY\": 0, \"SOCIODEMOGRAPHY_DENOTING\": \"White_Female\"}, {\"SALARY\": 24000, \"EDUC\": 12, \"SALBEGIN\": 13500, \"GENDER\": 0, \"MINORITY\": 0, \"JOBCAT\": 1, \"GENDER_DENOTING\": \"Female\", \"MINORITY_DENOTING\": \"White\", \"JOBCAT_DENOTING\": \"Administration\", \"SOCIODEMOGRAPHY\": 0, \"SOCIODEMOGRAPHY_DENOTING\": \"White_Female\"}, {\"SALARY\": 30300, \"EDUC\": 16, \"SALBEGIN\": 16500, \"GENDER\": 0, \"MINORITY\": 0, \"JOBCAT\": 1, \"GENDER_DENOTING\": \"Female\", \"MINORITY_DENOTING\": \"White\", \"JOBCAT_DENOTING\": \"Administration\", \"SOCIODEMOGRAPHY\": 0, \"SOCIODEMOGRAPHY_DENOTING\": \"White_Female\"}, {\"SALARY\": 28350, \"EDUC\": 8, \"SALBEGIN\": 12000, \"GENDER\": 1, \"MINORITY\": 1, \"JOBCAT\": 1, \"GENDER_DENOTING\": \"Male\", \"MINORITY_DENOTING\": \"Minority\", \"JOBCAT_DENOTING\": \"Administration\", \"SOCIODEMOGRAPHY\": 3, \"SOCIODEMOGRAPHY_DENOTING\": \"Minority_Male\"}, {\"SALARY\": 27750, \"EDUC\": 15, \"SALBEGIN\": 14250, \"GENDER\": 1, \"MINORITY\": 1, \"JOBCAT\": 1, \"GENDER_DENOTING\": \"Male\", \"MINORITY_DENOTING\": \"Minority\", \"JOBCAT_DENOTING\": \"Administration\", \"SOCIODEMOGRAPHY\": 3, \"SOCIODEMOGRAPHY_DENOTING\": \"Minority_Male\"}, {\"SALARY\": 35100, \"EDUC\": 15, \"SALBEGIN\": 16800, \"GENDER\": 0, \"MINORITY\": 1, \"JOBCAT\": 1, \"GENDER_DENOTING\": \"Female\", \"MINORITY_DENOTING\": \"Minority\", \"JOBCAT_DENOTING\": \"Administration\", \"SOCIODEMOGRAPHY\": 2, \"SOCIODEMOGRAPHY_DENOTING\": \"Minority_Female\"}, {\"SALARY\": 27300, \"EDUC\": 12, \"SALBEGIN\": 13500, \"GENDER\": 1, \"MINORITY\": 0, \"JOBCAT\": 1, \"GENDER_DENOTING\": \"Male\", \"MINORITY_DENOTING\": \"White\", \"JOBCAT_DENOTING\": \"Administration\", \"SOCIODEMOGRAPHY\": 1, \"SOCIODEMOGRAPHY_DENOTING\": \"White_Male\"}, {\"SALARY\": 40800, \"EDUC\": 12, \"SALBEGIN\": 15000, \"GENDER\": 1, \"MINORITY\": 0, \"JOBCAT\": 1, \"GENDER_DENOTING\": \"Male\", \"MINORITY_DENOTING\": \"White\", \"JOBCAT_DENOTING\": \"Administration\", \"SOCIODEMOGRAPHY\": 1, \"SOCIODEMOGRAPHY_DENOTING\": \"White_Male\"}, {\"SALARY\": 46000, \"EDUC\": 15, \"SALBEGIN\": 14250, \"GENDER\": 1, \"MINORITY\": 0, \"JOBCAT\": 1, \"GENDER_DENOTING\": \"Male\", \"MINORITY_DENOTING\": \"White\", \"JOBCAT_DENOTING\": \"Administration\", \"SOCIODEMOGRAPHY\": 1, \"SOCIODEMOGRAPHY_DENOTING\": \"White_Male\"}, {\"SALARY\": 103750, \"EDUC\": 16, \"SALBEGIN\": 27510, \"GENDER\": 1, \"MINORITY\": 0, \"JOBCAT\": 3, \"GENDER_DENOTING\": \"Male\", \"MINORITY_DENOTING\": \"White\", \"JOBCAT_DENOTING\": \"Management\", \"SOCIODEMOGRAPHY\": 1, \"SOCIODEMOGRAPHY_DENOTING\": \"White_Male\"}, {\"SALARY\": 42300, \"EDUC\": 12, \"SALBEGIN\": 14250, \"GENDER\": 1, \"MINORITY\": 0, \"JOBCAT\": 1, \"GENDER_DENOTING\": \"Male\", \"MINORITY_DENOTING\": \"White\", \"JOBCAT_DENOTING\": \"Administration\", \"SOCIODEMOGRAPHY\": 1, \"SOCIODEMOGRAPHY_DENOTING\": \"White_Male\"}, {\"SALARY\": 26250, \"EDUC\": 12, \"SALBEGIN\": 11550, \"GENDER\": 0, \"MINORITY\": 0, \"JOBCAT\": 1, \"GENDER_DENOTING\": \"Female\", \"MINORITY_DENOTING\": \"White\", \"JOBCAT_DENOTING\": \"Administration\", \"SOCIODEMOGRAPHY\": 0, \"SOCIODEMOGRAPHY_DENOTING\": \"White_Female\"}, {\"SALARY\": 38850, \"EDUC\": 16, \"SALBEGIN\": 15000, \"GENDER\": 0, \"MINORITY\": 0, \"JOBCAT\": 1, \"GENDER_DENOTING\": \"Female\", \"MINORITY_DENOTING\": \"White\", \"JOBCAT_DENOTING\": \"Administration\", \"SOCIODEMOGRAPHY\": 0, \"SOCIODEMOGRAPHY_DENOTING\": \"White_Female\"}, {\"SALARY\": 21750, \"EDUC\": 12, \"SALBEGIN\": 12750, \"GENDER\": 1, \"MINORITY\": 1, \"JOBCAT\": 1, \"GENDER_DENOTING\": \"Male\", \"MINORITY_DENOTING\": \"Minority\", \"JOBCAT_DENOTING\": \"Administration\", \"SOCIODEMOGRAPHY\": 3, \"SOCIODEMOGRAPHY_DENOTING\": \"Minority_Male\"}, {\"SALARY\": 24000, \"EDUC\": 15, \"SALBEGIN\": 11100, \"GENDER\": 0, \"MINORITY\": 1, \"JOBCAT\": 1, \"GENDER_DENOTING\": \"Female\", \"MINORITY_DENOTING\": \"Minority\", \"JOBCAT_DENOTING\": \"Administration\", \"SOCIODEMOGRAPHY\": 2, \"SOCIODEMOGRAPHY_DENOTING\": \"Minority_Female\"}, {\"SALARY\": 16950, \"EDUC\": 12, \"SALBEGIN\": 9000, \"GENDER\": 0, \"MINORITY\": 1, \"JOBCAT\": 1, \"GENDER_DENOTING\": \"Female\", \"MINORITY_DENOTING\": \"Minority\", \"JOBCAT_DENOTING\": \"Administration\", \"SOCIODEMOGRAPHY\": 2, \"SOCIODEMOGRAPHY_DENOTING\": \"Minority_Female\"}, {\"SALARY\": 21150, \"EDUC\": 15, \"SALBEGIN\": 9000, \"GENDER\": 0, \"MINORITY\": 1, \"JOBCAT\": 1, \"GENDER_DENOTING\": \"Female\", \"MINORITY_DENOTING\": \"Minority\", \"JOBCAT_DENOTING\": \"Administration\", \"SOCIODEMOGRAPHY\": 2, \"SOCIODEMOGRAPHY_DENOTING\": \"Minority_Female\"}, {\"SALARY\": 31050, \"EDUC\": 15, \"SALBEGIN\": 12600, \"GENDER\": 1, \"MINORITY\": 0, \"JOBCAT\": 1, \"GENDER_DENOTING\": \"Male\", \"MINORITY_DENOTING\": \"White\", \"JOBCAT_DENOTING\": \"Administration\", \"SOCIODEMOGRAPHY\": 1, \"SOCIODEMOGRAPHY_DENOTING\": \"White_Male\"}, {\"SALARY\": 60375, \"EDUC\": 19, \"SALBEGIN\": 27480, \"GENDER\": 1, \"MINORITY\": 0, \"JOBCAT\": 3, \"GENDER_DENOTING\": \"Male\", \"MINORITY_DENOTING\": \"White\", \"JOBCAT_DENOTING\": \"Management\", \"SOCIODEMOGRAPHY\": 1, \"SOCIODEMOGRAPHY_DENOTING\": \"White_Male\"}, {\"SALARY\": 32550, \"EDUC\": 15, \"SALBEGIN\": 14250, \"GENDER\": 1, \"MINORITY\": 0, \"JOBCAT\": 1, \"GENDER_DENOTING\": \"Male\", \"MINORITY_DENOTING\": \"White\", \"JOBCAT_DENOTING\": \"Administration\", \"SOCIODEMOGRAPHY\": 1, \"SOCIODEMOGRAPHY_DENOTING\": \"White_Male\"}, {\"SALARY\": 135000, \"EDUC\": 19, \"SALBEGIN\": 79980, \"GENDER\": 1, \"MINORITY\": 0, \"JOBCAT\": 3, \"GENDER_DENOTING\": \"Male\", \"MINORITY_DENOTING\": \"White\", \"JOBCAT_DENOTING\": \"Management\", \"SOCIODEMOGRAPHY\": 1, \"SOCIODEMOGRAPHY_DENOTING\": \"White_Male\"}, {\"SALARY\": 31200, \"EDUC\": 15, \"SALBEGIN\": 14250, \"GENDER\": 1, \"MINORITY\": 0, \"JOBCAT\": 1, \"GENDER_DENOTING\": \"Male\", \"MINORITY_DENOTING\": \"White\", \"JOBCAT_DENOTING\": \"Administration\", \"SOCIODEMOGRAPHY\": 1, \"SOCIODEMOGRAPHY_DENOTING\": \"White_Male\"}, {\"SALARY\": 36150, \"EDUC\": 12, \"SALBEGIN\": 14250, \"GENDER\": 1, \"MINORITY\": 0, \"JOBCAT\": 1, \"GENDER_DENOTING\": \"Male\", \"MINORITY_DENOTING\": \"White\", \"JOBCAT_DENOTING\": \"Administration\", \"SOCIODEMOGRAPHY\": 1, \"SOCIODEMOGRAPHY_DENOTING\": \"White_Male\"}, {\"SALARY\": 110625, \"EDUC\": 19, \"SALBEGIN\": 45000, \"GENDER\": 1, \"MINORITY\": 0, \"JOBCAT\": 3, \"GENDER_DENOTING\": \"Male\", \"MINORITY_DENOTING\": \"White\", \"JOBCAT_DENOTING\": \"Management\", \"SOCIODEMOGRAPHY\": 1, \"SOCIODEMOGRAPHY_DENOTING\": \"White_Male\"}, {\"SALARY\": 42000, \"EDUC\": 15, \"SALBEGIN\": 15000, \"GENDER\": 1, \"MINORITY\": 0, \"JOBCAT\": 1, \"GENDER_DENOTING\": \"Male\", \"MINORITY_DENOTING\": \"White\", \"JOBCAT_DENOTING\": \"Administration\", \"SOCIODEMOGRAPHY\": 1, \"SOCIODEMOGRAPHY_DENOTING\": \"White_Male\"}, {\"SALARY\": 92000, \"EDUC\": 19, \"SALBEGIN\": 39990, \"GENDER\": 1, \"MINORITY\": 0, \"JOBCAT\": 3, \"GENDER_DENOTING\": \"Male\", \"MINORITY_DENOTING\": \"White\", \"JOBCAT_DENOTING\": \"Management\", \"SOCIODEMOGRAPHY\": 1, \"SOCIODEMOGRAPHY_DENOTING\": \"White_Male\"}, {\"SALARY\": 81250, \"EDUC\": 17, \"SALBEGIN\": 30000, \"GENDER\": 1, \"MINORITY\": 0, \"JOBCAT\": 3, \"GENDER_DENOTING\": \"Male\", \"MINORITY_DENOTING\": \"White\", \"JOBCAT_DENOTING\": \"Management\", \"SOCIODEMOGRAPHY\": 1, \"SOCIODEMOGRAPHY_DENOTING\": \"White_Male\"}, {\"SALARY\": 31350, \"EDUC\": 8, \"SALBEGIN\": 11250, \"GENDER\": 0, \"MINORITY\": 0, \"JOBCAT\": 1, \"GENDER_DENOTING\": \"Female\", \"MINORITY_DENOTING\": \"White\", \"JOBCAT_DENOTING\": \"Administration\", \"SOCIODEMOGRAPHY\": 0, \"SOCIODEMOGRAPHY_DENOTING\": \"White_Female\"}, {\"SALARY\": 29100, \"EDUC\": 12, \"SALBEGIN\": 13500, \"GENDER\": 1, \"MINORITY\": 1, \"JOBCAT\": 1, \"GENDER_DENOTING\": \"Male\", \"MINORITY_DENOTING\": \"Minority\", \"JOBCAT_DENOTING\": \"Administration\", \"SOCIODEMOGRAPHY\": 3, \"SOCIODEMOGRAPHY_DENOTING\": \"Minority_Male\"}, {\"SALARY\": 31350, \"EDUC\": 15, \"SALBEGIN\": 15000, \"GENDER\": 1, \"MINORITY\": 1, \"JOBCAT\": 1, \"GENDER_DENOTING\": \"Male\", \"MINORITY_DENOTING\": \"Minority\", \"JOBCAT_DENOTING\": \"Administration\", \"SOCIODEMOGRAPHY\": 3, \"SOCIODEMOGRAPHY_DENOTING\": \"Minority_Male\"}, {\"SALARY\": 36000, \"EDUC\": 16, \"SALBEGIN\": 15000, \"GENDER\": 1, \"MINORITY\": 1, \"JOBCAT\": 1, \"GENDER_DENOTING\": \"Male\", \"MINORITY_DENOTING\": \"Minority\", \"JOBCAT_DENOTING\": \"Administration\", \"SOCIODEMOGRAPHY\": 3, \"SOCIODEMOGRAPHY_DENOTING\": \"Minority_Male\"}, {\"SALARY\": 19200, \"EDUC\": 15, \"SALBEGIN\": 9000, \"GENDER\": 0, \"MINORITY\": 1, \"JOBCAT\": 1, \"GENDER_DENOTING\": \"Female\", \"MINORITY_DENOTING\": \"Minority\", \"JOBCAT_DENOTING\": \"Administration\", \"SOCIODEMOGRAPHY\": 2, \"SOCIODEMOGRAPHY_DENOTING\": \"Minority_Female\"}, {\"SALARY\": 23550, \"EDUC\": 12, \"SALBEGIN\": 11550, \"GENDER\": 0, \"MINORITY\": 1, \"JOBCAT\": 1, \"GENDER_DENOTING\": \"Female\", \"MINORITY_DENOTING\": \"Minority\", \"JOBCAT_DENOTING\": \"Administration\", \"SOCIODEMOGRAPHY\": 2, \"SOCIODEMOGRAPHY_DENOTING\": \"Minority_Female\"}, {\"SALARY\": 35100, \"EDUC\": 15, \"SALBEGIN\": 16500, \"GENDER\": 1, \"MINORITY\": 0, \"JOBCAT\": 1, \"GENDER_DENOTING\": \"Male\", \"MINORITY_DENOTING\": \"White\", \"JOBCAT_DENOTING\": \"Administration\", \"SOCIODEMOGRAPHY\": 1, \"SOCIODEMOGRAPHY_DENOTING\": \"White_Male\"}, {\"SALARY\": 23250, \"EDUC\": 12, \"SALBEGIN\": 14250, \"GENDER\": 1, \"MINORITY\": 0, \"JOBCAT\": 1, \"GENDER_DENOTING\": \"Male\", \"MINORITY_DENOTING\": \"White\", \"JOBCAT_DENOTING\": \"Administration\", \"SOCIODEMOGRAPHY\": 1, \"SOCIODEMOGRAPHY_DENOTING\": \"White_Male\"}, {\"SALARY\": 29250, \"EDUC\": 8, \"SALBEGIN\": 14250, \"GENDER\": 1, \"MINORITY\": 0, \"JOBCAT\": 1, \"GENDER_DENOTING\": \"Male\", \"MINORITY_DENOTING\": \"White\", \"JOBCAT_DENOTING\": \"Administration\", \"SOCIODEMOGRAPHY\": 1, \"SOCIODEMOGRAPHY_DENOTING\": \"White_Male\"}, {\"SALARY\": 30750, \"EDUC\": 12, \"SALBEGIN\": 13500, \"GENDER\": 1, \"MINORITY\": 0, \"JOBCAT\": 2, \"GENDER_DENOTING\": \"Male\", \"MINORITY_DENOTING\": \"White\", \"JOBCAT_DENOTING\": \"Custody\", \"SOCIODEMOGRAPHY\": 1, \"SOCIODEMOGRAPHY_DENOTING\": \"White_Male\"}, {\"SALARY\": 22350, \"EDUC\": 15, \"SALBEGIN\": 12750, \"GENDER\": 0, \"MINORITY\": 0, \"JOBCAT\": 1, \"GENDER_DENOTING\": \"Female\", \"MINORITY_DENOTING\": \"White\", \"JOBCAT_DENOTING\": \"Administration\", \"SOCIODEMOGRAPHY\": 0, \"SOCIODEMOGRAPHY_DENOTING\": \"White_Female\"}, {\"SALARY\": 30000, \"EDUC\": 12, \"SALBEGIN\": 16500, \"GENDER\": 0, \"MINORITY\": 0, \"JOBCAT\": 1, \"GENDER_DENOTING\": \"Female\", \"MINORITY_DENOTING\": \"White\", \"JOBCAT_DENOTING\": \"Administration\", \"SOCIODEMOGRAPHY\": 0, \"SOCIODEMOGRAPHY_DENOTING\": \"White_Female\"}, {\"SALARY\": 30750, \"EDUC\": 12, \"SALBEGIN\": 14100, \"GENDER\": 1, \"MINORITY\": 0, \"JOBCAT\": 2, \"GENDER_DENOTING\": \"Male\", \"MINORITY_DENOTING\": \"White\", \"JOBCAT_DENOTING\": \"Custody\", \"SOCIODEMOGRAPHY\": 1, \"SOCIODEMOGRAPHY_DENOTING\": \"White_Male\"}, {\"SALARY\": 34800, \"EDUC\": 15, \"SALBEGIN\": 16500, \"GENDER\": 1, \"MINORITY\": 0, \"JOBCAT\": 1, \"GENDER_DENOTING\": \"Male\", \"MINORITY_DENOTING\": \"White\", \"JOBCAT_DENOTING\": \"Administration\", \"SOCIODEMOGRAPHY\": 1, \"SOCIODEMOGRAPHY_DENOTING\": \"White_Male\"}, {\"SALARY\": 60000, \"EDUC\": 16, \"SALBEGIN\": 23730, \"GENDER\": 1, \"MINORITY\": 0, \"JOBCAT\": 3, \"GENDER_DENOTING\": \"Male\", \"MINORITY_DENOTING\": \"White\", \"JOBCAT_DENOTING\": \"Management\", \"SOCIODEMOGRAPHY\": 1, \"SOCIODEMOGRAPHY_DENOTING\": \"White_Male\"}, {\"SALARY\": 35550, \"EDUC\": 12, \"SALBEGIN\": 15000, \"GENDER\": 1, \"MINORITY\": 0, \"JOBCAT\": 1, \"GENDER_DENOTING\": \"Male\", \"MINORITY_DENOTING\": \"White\", \"JOBCAT_DENOTING\": \"Administration\", \"SOCIODEMOGRAPHY\": 1, \"SOCIODEMOGRAPHY_DENOTING\": \"White_Male\"}, {\"SALARY\": 45150, \"EDUC\": 15, \"SALBEGIN\": 15000, \"GENDER\": 1, \"MINORITY\": 0, \"JOBCAT\": 1, \"GENDER_DENOTING\": \"Male\", \"MINORITY_DENOTING\": \"White\", \"JOBCAT_DENOTING\": \"Administration\", \"SOCIODEMOGRAPHY\": 1, \"SOCIODEMOGRAPHY_DENOTING\": \"White_Male\"}, {\"SALARY\": 73750, \"EDUC\": 18, \"SALBEGIN\": 26250, \"GENDER\": 1, \"MINORITY\": 0, \"JOBCAT\": 3, \"GENDER_DENOTING\": \"Male\", \"MINORITY_DENOTING\": \"White\", \"JOBCAT_DENOTING\": \"Management\", \"SOCIODEMOGRAPHY\": 1, \"SOCIODEMOGRAPHY_DENOTING\": \"White_Male\"}, {\"SALARY\": 25050, \"EDUC\": 12, \"SALBEGIN\": 13500, \"GENDER\": 1, \"MINORITY\": 0, \"JOBCAT\": 1, \"GENDER_DENOTING\": \"Male\", \"MINORITY_DENOTING\": \"White\", \"JOBCAT_DENOTING\": \"Administration\", \"SOCIODEMOGRAPHY\": 1, \"SOCIODEMOGRAPHY_DENOTING\": \"White_Male\"}, {\"SALARY\": 27000, \"EDUC\": 12, \"SALBEGIN\": 15000, \"GENDER\": 1, \"MINORITY\": 0, \"JOBCAT\": 1, \"GENDER_DENOTING\": \"Male\", \"MINORITY_DENOTING\": \"White\", \"JOBCAT_DENOTING\": \"Administration\", \"SOCIODEMOGRAPHY\": 1, \"SOCIODEMOGRAPHY_DENOTING\": \"White_Male\"}, {\"SALARY\": 26850, \"EDUC\": 15, \"SALBEGIN\": 13500, \"GENDER\": 1, \"MINORITY\": 0, \"JOBCAT\": 1, \"GENDER_DENOTING\": \"Male\", \"MINORITY_DENOTING\": \"White\", \"JOBCAT_DENOTING\": \"Administration\", \"SOCIODEMOGRAPHY\": 1, \"SOCIODEMOGRAPHY_DENOTING\": \"White_Male\"}, {\"SALARY\": 33900, \"EDUC\": 15, \"SALBEGIN\": 15750, \"GENDER\": 1, \"MINORITY\": 0, \"JOBCAT\": 1, \"GENDER_DENOTING\": \"Male\", \"MINORITY_DENOTING\": \"White\", \"JOBCAT_DENOTING\": \"Administration\", \"SOCIODEMOGRAPHY\": 1, \"SOCIODEMOGRAPHY_DENOTING\": \"White_Male\"}, {\"SALARY\": 26400, \"EDUC\": 15, \"SALBEGIN\": 13500, \"GENDER\": 0, \"MINORITY\": 0, \"JOBCAT\": 1, \"GENDER_DENOTING\": \"Female\", \"MINORITY_DENOTING\": \"White\", \"JOBCAT_DENOTING\": \"Administration\", \"SOCIODEMOGRAPHY\": 0, \"SOCIODEMOGRAPHY_DENOTING\": \"White_Female\"}, {\"SALARY\": 28050, \"EDUC\": 15, \"SALBEGIN\": 14250, \"GENDER\": 1, \"MINORITY\": 1, \"JOBCAT\": 1, \"GENDER_DENOTING\": \"Male\", \"MINORITY_DENOTING\": \"Minority\", \"JOBCAT_DENOTING\": \"Administration\", \"SOCIODEMOGRAPHY\": 3, \"SOCIODEMOGRAPHY_DENOTING\": \"Minority_Male\"}, {\"SALARY\": 30900, \"EDUC\": 12, \"SALBEGIN\": 15000, \"GENDER\": 1, \"MINORITY\": 1, \"JOBCAT\": 1, \"GENDER_DENOTING\": \"Male\", \"MINORITY_DENOTING\": \"Minority\", \"JOBCAT_DENOTING\": \"Administration\", \"SOCIODEMOGRAPHY\": 3, \"SOCIODEMOGRAPHY_DENOTING\": \"Minority_Male\"}, {\"SALARY\": 22500, \"EDUC\": 8, \"SALBEGIN\": 9750, \"GENDER\": 1, \"MINORITY\": 1, \"JOBCAT\": 1, \"GENDER_DENOTING\": \"Male\", \"MINORITY_DENOTING\": \"Minority\", \"JOBCAT_DENOTING\": \"Administration\", \"SOCIODEMOGRAPHY\": 3, \"SOCIODEMOGRAPHY_DENOTING\": \"Minority_Male\"}, {\"SALARY\": 48000, \"EDUC\": 16, \"SALBEGIN\": 21750, \"GENDER\": 1, \"MINORITY\": 0, \"JOBCAT\": 3, \"GENDER_DENOTING\": \"Male\", \"MINORITY_DENOTING\": \"White\", \"JOBCAT_DENOTING\": \"Management\", \"SOCIODEMOGRAPHY\": 1, \"SOCIODEMOGRAPHY_DENOTING\": \"White_Male\"}, {\"SALARY\": 55000, \"EDUC\": 17, \"SALBEGIN\": 26250, \"GENDER\": 1, \"MINORITY\": 0, \"JOBCAT\": 3, \"GENDER_DENOTING\": \"Male\", \"MINORITY_DENOTING\": \"White\", \"JOBCAT_DENOTING\": \"Management\", \"SOCIODEMOGRAPHY\": 1, \"SOCIODEMOGRAPHY_DENOTING\": \"White_Male\"}, {\"SALARY\": 53125, \"EDUC\": 16, \"SALBEGIN\": 21000, \"GENDER\": 1, \"MINORITY\": 0, \"JOBCAT\": 3, \"GENDER_DENOTING\": \"Male\", \"MINORITY_DENOTING\": \"White\", \"JOBCAT_DENOTING\": \"Management\", \"SOCIODEMOGRAPHY\": 1, \"SOCIODEMOGRAPHY_DENOTING\": \"White_Male\"}, {\"SALARY\": 21900, \"EDUC\": 8, \"SALBEGIN\": 14550, \"GENDER\": 1, \"MINORITY\": 0, \"JOBCAT\": 1, \"GENDER_DENOTING\": \"Male\", \"MINORITY_DENOTING\": \"White\", \"JOBCAT_DENOTING\": \"Administration\", \"SOCIODEMOGRAPHY\": 1, \"SOCIODEMOGRAPHY_DENOTING\": \"White_Male\"}, {\"SALARY\": 78125, \"EDUC\": 19, \"SALBEGIN\": 30000, \"GENDER\": 1, \"MINORITY\": 0, \"JOBCAT\": 3, \"GENDER_DENOTING\": \"Male\", \"MINORITY_DENOTING\": \"White\", \"JOBCAT_DENOTING\": \"Management\", \"SOCIODEMOGRAPHY\": 1, \"SOCIODEMOGRAPHY_DENOTING\": \"White_Male\"}, {\"SALARY\": 46000, \"EDUC\": 16, \"SALBEGIN\": 21240, \"GENDER\": 1, \"MINORITY\": 0, \"JOBCAT\": 3, \"GENDER_DENOTING\": \"Male\", \"MINORITY_DENOTING\": \"White\", \"JOBCAT_DENOTING\": \"Management\", \"SOCIODEMOGRAPHY\": 1, \"SOCIODEMOGRAPHY_DENOTING\": \"White_Male\"}, {\"SALARY\": 45250, \"EDUC\": 16, \"SALBEGIN\": 21480, \"GENDER\": 1, \"MINORITY\": 0, \"JOBCAT\": 3, \"GENDER_DENOTING\": \"Male\", \"MINORITY_DENOTING\": \"White\", \"JOBCAT_DENOTING\": \"Management\", \"SOCIODEMOGRAPHY\": 1, \"SOCIODEMOGRAPHY_DENOTING\": \"White_Male\"}, {\"SALARY\": 56550, \"EDUC\": 16, \"SALBEGIN\": 25000, \"GENDER\": 1, \"MINORITY\": 0, \"JOBCAT\": 3, \"GENDER_DENOTING\": \"Male\", \"MINORITY_DENOTING\": \"White\", \"JOBCAT_DENOTING\": \"Management\", \"SOCIODEMOGRAPHY\": 1, \"SOCIODEMOGRAPHY_DENOTING\": \"White_Male\"}, {\"SALARY\": 41100, \"EDUC\": 15, \"SALBEGIN\": 20250, \"GENDER\": 1, \"MINORITY\": 0, \"JOBCAT\": 1, \"GENDER_DENOTING\": \"Male\", \"MINORITY_DENOTING\": \"White\", \"JOBCAT_DENOTING\": \"Administration\", \"SOCIODEMOGRAPHY\": 1, \"SOCIODEMOGRAPHY_DENOTING\": \"White_Male\"}, {\"SALARY\": 82500, \"EDUC\": 17, \"SALBEGIN\": 34980, \"GENDER\": 1, \"MINORITY\": 0, \"JOBCAT\": 3, \"GENDER_DENOTING\": \"Male\", \"MINORITY_DENOTING\": \"White\", \"JOBCAT_DENOTING\": \"Management\", \"SOCIODEMOGRAPHY\": 1, \"SOCIODEMOGRAPHY_DENOTING\": \"White_Male\"}, {\"SALARY\": 54000, \"EDUC\": 16, \"SALBEGIN\": 18000, \"GENDER\": 0, \"MINORITY\": 0, \"JOBCAT\": 1, \"GENDER_DENOTING\": \"Female\", \"MINORITY_DENOTING\": \"White\", \"JOBCAT_DENOTING\": \"Administration\", \"SOCIODEMOGRAPHY\": 0, \"SOCIODEMOGRAPHY_DENOTING\": \"White_Female\"}, {\"SALARY\": 26400, \"EDUC\": 12, \"SALBEGIN\": 10500, \"GENDER\": 0, \"MINORITY\": 0, \"JOBCAT\": 1, \"GENDER_DENOTING\": \"Female\", \"MINORITY_DENOTING\": \"White\", \"JOBCAT_DENOTING\": \"Administration\", \"SOCIODEMOGRAPHY\": 0, \"SOCIODEMOGRAPHY_DENOTING\": \"White_Female\"}, {\"SALARY\": 33900, \"EDUC\": 15, \"SALBEGIN\": 19500, \"GENDER\": 0, \"MINORITY\": 0, \"JOBCAT\": 1, \"GENDER_DENOTING\": \"Female\", \"MINORITY_DENOTING\": \"White\", \"JOBCAT_DENOTING\": \"Administration\", \"SOCIODEMOGRAPHY\": 0, \"SOCIODEMOGRAPHY_DENOTING\": \"White_Female\"}, {\"SALARY\": 24150, \"EDUC\": 15, \"SALBEGIN\": 11550, \"GENDER\": 0, \"MINORITY\": 0, \"JOBCAT\": 1, \"GENDER_DENOTING\": \"Female\", \"MINORITY_DENOTING\": \"White\", \"JOBCAT_DENOTING\": \"Administration\", \"SOCIODEMOGRAPHY\": 0, \"SOCIODEMOGRAPHY_DENOTING\": \"White_Female\"}, {\"SALARY\": 29250, \"EDUC\": 15, \"SALBEGIN\": 11550, \"GENDER\": 0, \"MINORITY\": 0, \"JOBCAT\": 1, \"GENDER_DENOTING\": \"Female\", \"MINORITY_DENOTING\": \"White\", \"JOBCAT_DENOTING\": \"Administration\", \"SOCIODEMOGRAPHY\": 0, \"SOCIODEMOGRAPHY_DENOTING\": \"White_Female\"}, {\"SALARY\": 27600, \"EDUC\": 12, \"SALBEGIN\": 11400, \"GENDER\": 0, \"MINORITY\": 0, \"JOBCAT\": 1, \"GENDER_DENOTING\": \"Female\", \"MINORITY_DENOTING\": \"White\", \"JOBCAT_DENOTING\": \"Administration\", \"SOCIODEMOGRAPHY\": 0, \"SOCIODEMOGRAPHY_DENOTING\": \"White_Female\"}, {\"SALARY\": 22950, \"EDUC\": 12, \"SALBEGIN\": 10500, \"GENDER\": 0, \"MINORITY\": 0, \"JOBCAT\": 1, \"GENDER_DENOTING\": \"Female\", \"MINORITY_DENOTING\": \"White\", \"JOBCAT_DENOTING\": \"Administration\", \"SOCIODEMOGRAPHY\": 0, \"SOCIODEMOGRAPHY_DENOTING\": \"White_Female\"}, {\"SALARY\": 34800, \"EDUC\": 16, \"SALBEGIN\": 14550, \"GENDER\": 0, \"MINORITY\": 0, \"JOBCAT\": 1, \"GENDER_DENOTING\": \"Female\", \"MINORITY_DENOTING\": \"White\", \"JOBCAT_DENOTING\": \"Administration\", \"SOCIODEMOGRAPHY\": 0, \"SOCIODEMOGRAPHY_DENOTING\": \"White_Female\"}, {\"SALARY\": 51000, \"EDUC\": 16, \"SALBEGIN\": 18000, \"GENDER\": 0, \"MINORITY\": 0, \"JOBCAT\": 1, \"GENDER_DENOTING\": \"Female\", \"MINORITY_DENOTING\": \"White\", \"JOBCAT_DENOTING\": \"Administration\", \"SOCIODEMOGRAPHY\": 0, \"SOCIODEMOGRAPHY_DENOTING\": \"White_Female\"}, {\"SALARY\": 24300, \"EDUC\": 12, \"SALBEGIN\": 10950, \"GENDER\": 0, \"MINORITY\": 0, \"JOBCAT\": 1, \"GENDER_DENOTING\": \"Female\", \"MINORITY_DENOTING\": \"White\", \"JOBCAT_DENOTING\": \"Administration\", \"SOCIODEMOGRAPHY\": 0, \"SOCIODEMOGRAPHY_DENOTING\": \"White_Female\"}, {\"SALARY\": 24750, \"EDUC\": 12, \"SALBEGIN\": 14250, \"GENDER\": 0, \"MINORITY\": 1, \"JOBCAT\": 1, \"GENDER_DENOTING\": \"Female\", \"MINORITY_DENOTING\": \"Minority\", \"JOBCAT_DENOTING\": \"Administration\", \"SOCIODEMOGRAPHY\": 2, \"SOCIODEMOGRAPHY_DENOTING\": \"Minority_Female\"}, {\"SALARY\": 22950, \"EDUC\": 12, \"SALBEGIN\": 11250, \"GENDER\": 0, \"MINORITY\": 1, \"JOBCAT\": 1, \"GENDER_DENOTING\": \"Female\", \"MINORITY_DENOTING\": \"Minority\", \"JOBCAT_DENOTING\": \"Administration\", \"SOCIODEMOGRAPHY\": 2, \"SOCIODEMOGRAPHY_DENOTING\": \"Minority_Female\"}, {\"SALARY\": 25050, \"EDUC\": 8, \"SALBEGIN\": 10950, \"GENDER\": 0, \"MINORITY\": 1, \"JOBCAT\": 1, \"GENDER_DENOTING\": \"Female\", \"MINORITY_DENOTING\": \"Minority\", \"JOBCAT_DENOTING\": \"Administration\", \"SOCIODEMOGRAPHY\": 2, \"SOCIODEMOGRAPHY_DENOTING\": \"Minority_Female\"}, {\"SALARY\": 25950, \"EDUC\": 15, \"SALBEGIN\": 17100, \"GENDER\": 1, \"MINORITY\": 0, \"JOBCAT\": 1, \"GENDER_DENOTING\": \"Male\", \"MINORITY_DENOTING\": \"White\", \"JOBCAT_DENOTING\": \"Administration\", \"SOCIODEMOGRAPHY\": 1, \"SOCIODEMOGRAPHY_DENOTING\": \"White_Male\"}, {\"SALARY\": 31650, \"EDUC\": 15, \"SALBEGIN\": 15750, \"GENDER\": 1, \"MINORITY\": 0, \"JOBCAT\": 1, \"GENDER_DENOTING\": \"Male\", \"MINORITY_DENOTING\": \"White\", \"JOBCAT_DENOTING\": \"Administration\", \"SOCIODEMOGRAPHY\": 1, \"SOCIODEMOGRAPHY_DENOTING\": \"White_Male\"}, {\"SALARY\": 24150, \"EDUC\": 12, \"SALBEGIN\": 14100, \"GENDER\": 1, \"MINORITY\": 0, \"JOBCAT\": 1, \"GENDER_DENOTING\": \"Male\", \"MINORITY_DENOTING\": \"White\", \"JOBCAT_DENOTING\": \"Administration\", \"SOCIODEMOGRAPHY\": 1, \"SOCIODEMOGRAPHY_DENOTING\": \"White_Male\"}, {\"SALARY\": 72500, \"EDUC\": 19, \"SALBEGIN\": 28740, \"GENDER\": 1, \"MINORITY\": 0, \"JOBCAT\": 3, \"GENDER_DENOTING\": \"Male\", \"MINORITY_DENOTING\": \"White\", \"JOBCAT_DENOTING\": \"Management\", \"SOCIODEMOGRAPHY\": 1, \"SOCIODEMOGRAPHY_DENOTING\": \"White_Male\"}, {\"SALARY\": 68750, \"EDUC\": 19, \"SALBEGIN\": 27480, \"GENDER\": 1, \"MINORITY\": 0, \"JOBCAT\": 3, \"GENDER_DENOTING\": \"Male\", \"MINORITY_DENOTING\": \"White\", \"JOBCAT_DENOTING\": \"Management\", \"SOCIODEMOGRAPHY\": 1, \"SOCIODEMOGRAPHY_DENOTING\": \"White_Male\"}, {\"SALARY\": 16200, \"EDUC\": 8, \"SALBEGIN\": 9750, \"GENDER\": 0, \"MINORITY\": 0, \"JOBCAT\": 1, \"GENDER_DENOTING\": \"Female\", \"MINORITY_DENOTING\": \"White\", \"JOBCAT_DENOTING\": \"Administration\", \"SOCIODEMOGRAPHY\": 0, \"SOCIODEMOGRAPHY_DENOTING\": \"White_Female\"}, {\"SALARY\": 20100, \"EDUC\": 12, \"SALBEGIN\": 11250, \"GENDER\": 0, \"MINORITY\": 0, \"JOBCAT\": 1, \"GENDER_DENOTING\": \"Female\", \"MINORITY_DENOTING\": \"White\", \"JOBCAT_DENOTING\": \"Administration\", \"SOCIODEMOGRAPHY\": 0, \"SOCIODEMOGRAPHY_DENOTING\": \"White_Female\"}, {\"SALARY\": 24000, \"EDUC\": 8, \"SALBEGIN\": 10950, \"GENDER\": 0, \"MINORITY\": 0, \"JOBCAT\": 1, \"GENDER_DENOTING\": \"Female\", \"MINORITY_DENOTING\": \"White\", \"JOBCAT_DENOTING\": \"Administration\", \"SOCIODEMOGRAPHY\": 0, \"SOCIODEMOGRAPHY_DENOTING\": \"White_Female\"}, {\"SALARY\": 25950, \"EDUC\": 12, \"SALBEGIN\": 10950, \"GENDER\": 0, \"MINORITY\": 0, \"JOBCAT\": 1, \"GENDER_DENOTING\": \"Female\", \"MINORITY_DENOTING\": \"White\", \"JOBCAT_DENOTING\": \"Administration\", \"SOCIODEMOGRAPHY\": 0, \"SOCIODEMOGRAPHY_DENOTING\": \"White_Female\"}, {\"SALARY\": 24600, \"EDUC\": 12, \"SALBEGIN\": 10050, \"GENDER\": 0, \"MINORITY\": 0, \"JOBCAT\": 1, \"GENDER_DENOTING\": \"Female\", \"MINORITY_DENOTING\": \"White\", \"JOBCAT_DENOTING\": \"Administration\", \"SOCIODEMOGRAPHY\": 0, \"SOCIODEMOGRAPHY_DENOTING\": \"White_Female\"}, {\"SALARY\": 28500, \"EDUC\": 12, \"SALBEGIN\": 10500, \"GENDER\": 0, \"MINORITY\": 0, \"JOBCAT\": 1, \"GENDER_DENOTING\": \"Female\", \"MINORITY_DENOTING\": \"White\", \"JOBCAT_DENOTING\": \"Administration\", \"SOCIODEMOGRAPHY\": 0, \"SOCIODEMOGRAPHY_DENOTING\": \"White_Female\"}, {\"SALARY\": 30750, \"EDUC\": 8, \"SALBEGIN\": 15000, \"GENDER\": 1, \"MINORITY\": 1, \"JOBCAT\": 2, \"GENDER_DENOTING\": \"Male\", \"MINORITY_DENOTING\": \"Minority\", \"JOBCAT_DENOTING\": \"Custody\", \"SOCIODEMOGRAPHY\": 3, \"SOCIODEMOGRAPHY_DENOTING\": \"Minority_Male\"}, {\"SALARY\": 40200, \"EDUC\": 17, \"SALBEGIN\": 19500, \"GENDER\": 1, \"MINORITY\": 1, \"JOBCAT\": 1, \"GENDER_DENOTING\": \"Male\", \"MINORITY_DENOTING\": \"Minority\", \"JOBCAT_DENOTING\": \"Administration\", \"SOCIODEMOGRAPHY\": 3, \"SOCIODEMOGRAPHY_DENOTING\": \"Minority_Male\"}, {\"SALARY\": 30000, \"EDUC\": 8, \"SALBEGIN\": 15000, \"GENDER\": 1, \"MINORITY\": 1, \"JOBCAT\": 2, \"GENDER_DENOTING\": \"Male\", \"MINORITY_DENOTING\": \"Minority\", \"JOBCAT_DENOTING\": \"Custody\", \"SOCIODEMOGRAPHY\": 3, \"SOCIODEMOGRAPHY_DENOTING\": \"Minority_Male\"}, {\"SALARY\": 22050, \"EDUC\": 12, \"SALBEGIN\": 10950, \"GENDER\": 0, \"MINORITY\": 1, \"JOBCAT\": 1, \"GENDER_DENOTING\": \"Female\", \"MINORITY_DENOTING\": \"Minority\", \"JOBCAT_DENOTING\": \"Administration\", \"SOCIODEMOGRAPHY\": 2, \"SOCIODEMOGRAPHY_DENOTING\": \"Minority_Female\"}, {\"SALARY\": 78250, \"EDUC\": 18, \"SALBEGIN\": 27480, \"GENDER\": 1, \"MINORITY\": 0, \"JOBCAT\": 3, \"GENDER_DENOTING\": \"Male\", \"MINORITY_DENOTING\": \"White\", \"JOBCAT_DENOTING\": \"Management\", \"SOCIODEMOGRAPHY\": 1, \"SOCIODEMOGRAPHY_DENOTING\": \"White_Male\"}, {\"SALARY\": 60625, \"EDUC\": 16, \"SALBEGIN\": 22500, \"GENDER\": 1, \"MINORITY\": 0, \"JOBCAT\": 3, \"GENDER_DENOTING\": \"Male\", \"MINORITY_DENOTING\": \"White\", \"JOBCAT_DENOTING\": \"Management\", \"SOCIODEMOGRAPHY\": 1, \"SOCIODEMOGRAPHY_DENOTING\": \"White_Male\"}, {\"SALARY\": 39900, \"EDUC\": 14, \"SALBEGIN\": 15750, \"GENDER\": 1, \"MINORITY\": 0, \"JOBCAT\": 1, \"GENDER_DENOTING\": \"Male\", \"MINORITY_DENOTING\": \"White\", \"JOBCAT_DENOTING\": \"Administration\", \"SOCIODEMOGRAPHY\": 1, \"SOCIODEMOGRAPHY_DENOTING\": \"White_Male\"}, {\"SALARY\": 97000, \"EDUC\": 19, \"SALBEGIN\": 35010, \"GENDER\": 1, \"MINORITY\": 0, \"JOBCAT\": 3, \"GENDER_DENOTING\": \"Male\", \"MINORITY_DENOTING\": \"White\", \"JOBCAT_DENOTING\": \"Management\", \"SOCIODEMOGRAPHY\": 1, \"SOCIODEMOGRAPHY_DENOTING\": \"White_Male\"}, {\"SALARY\": 27450, \"EDUC\": 15, \"SALBEGIN\": 15750, \"GENDER\": 1, \"MINORITY\": 0, \"JOBCAT\": 1, \"GENDER_DENOTING\": \"Male\", \"MINORITY_DENOTING\": \"White\", \"JOBCAT_DENOTING\": \"Administration\", \"SOCIODEMOGRAPHY\": 1, \"SOCIODEMOGRAPHY_DENOTING\": \"White_Male\"}, {\"SALARY\": 31650, \"EDUC\": 15, \"SALBEGIN\": 13500, \"GENDER\": 1, \"MINORITY\": 0, \"JOBCAT\": 1, \"GENDER_DENOTING\": \"Male\", \"MINORITY_DENOTING\": \"White\", \"JOBCAT_DENOTING\": \"Administration\", \"SOCIODEMOGRAPHY\": 1, \"SOCIODEMOGRAPHY_DENOTING\": \"White_Male\"}, {\"SALARY\": 91250, \"EDUC\": 19, \"SALBEGIN\": 29490, \"GENDER\": 1, \"MINORITY\": 0, \"JOBCAT\": 3, \"GENDER_DENOTING\": \"Male\", \"MINORITY_DENOTING\": \"White\", \"JOBCAT_DENOTING\": \"Management\", \"SOCIODEMOGRAPHY\": 1, \"SOCIODEMOGRAPHY_DENOTING\": \"White_Male\"}, {\"SALARY\": 25200, \"EDUC\": 12, \"SALBEGIN\": 14400, \"GENDER\": 0, \"MINORITY\": 0, \"JOBCAT\": 1, \"GENDER_DENOTING\": \"Female\", \"MINORITY_DENOTING\": \"White\", \"JOBCAT_DENOTING\": \"Administration\", \"SOCIODEMOGRAPHY\": 0, \"SOCIODEMOGRAPHY_DENOTING\": \"White_Female\"}, {\"SALARY\": 21000, \"EDUC\": 12, \"SALBEGIN\": 11550, \"GENDER\": 0, \"MINORITY\": 0, \"JOBCAT\": 1, \"GENDER_DENOTING\": \"Female\", \"MINORITY_DENOTING\": \"White\", \"JOBCAT_DENOTING\": \"Administration\", \"SOCIODEMOGRAPHY\": 0, \"SOCIODEMOGRAPHY_DENOTING\": \"White_Female\"}, {\"SALARY\": 30450, \"EDUC\": 12, \"SALBEGIN\": 15000, \"GENDER\": 1, \"MINORITY\": 1, \"JOBCAT\": 1, \"GENDER_DENOTING\": \"Male\", \"MINORITY_DENOTING\": \"Minority\", \"JOBCAT_DENOTING\": \"Administration\", \"SOCIODEMOGRAPHY\": 3, \"SOCIODEMOGRAPHY_DENOTING\": \"Minority_Male\"}, {\"SALARY\": 28350, \"EDUC\": 15, \"SALBEGIN\": 18000, \"GENDER\": 1, \"MINORITY\": 1, \"JOBCAT\": 1, \"GENDER_DENOTING\": \"Male\", \"MINORITY_DENOTING\": \"Minority\", \"JOBCAT_DENOTING\": \"Administration\", \"SOCIODEMOGRAPHY\": 3, \"SOCIODEMOGRAPHY_DENOTING\": \"Minority_Male\"}, {\"SALARY\": 30750, \"EDUC\": 12, \"SALBEGIN\": 9000, \"GENDER\": 1, \"MINORITY\": 1, \"JOBCAT\": 2, \"GENDER_DENOTING\": \"Male\", \"MINORITY_DENOTING\": \"Minority\", \"JOBCAT_DENOTING\": \"Custody\", \"SOCIODEMOGRAPHY\": 3, \"SOCIODEMOGRAPHY_DENOTING\": \"Minority_Male\"}, {\"SALARY\": 30750, \"EDUC\": 12, \"SALBEGIN\": 15000, \"GENDER\": 1, \"MINORITY\": 1, \"JOBCAT\": 2, \"GENDER_DENOTING\": \"Male\", \"MINORITY_DENOTING\": \"Minority\", \"JOBCAT_DENOTING\": \"Custody\", \"SOCIODEMOGRAPHY\": 3, \"SOCIODEMOGRAPHY_DENOTING\": \"Minority_Male\"}, {\"SALARY\": 54875, \"EDUC\": 16, \"SALBEGIN\": 27480, \"GENDER\": 1, \"MINORITY\": 0, \"JOBCAT\": 3, \"GENDER_DENOTING\": \"Male\", \"MINORITY_DENOTING\": \"White\", \"JOBCAT_DENOTING\": \"Management\", \"SOCIODEMOGRAPHY\": 1, \"SOCIODEMOGRAPHY_DENOTING\": \"White_Male\"}, {\"SALARY\": 37800, \"EDUC\": 14, \"SALBEGIN\": 16500, \"GENDER\": 1, \"MINORITY\": 0, \"JOBCAT\": 1, \"GENDER_DENOTING\": \"Male\", \"MINORITY_DENOTING\": \"White\", \"JOBCAT_DENOTING\": \"Administration\", \"SOCIODEMOGRAPHY\": 1, \"SOCIODEMOGRAPHY_DENOTING\": \"White_Male\"}, {\"SALARY\": 33450, \"EDUC\": 15, \"SALBEGIN\": 14100, \"GENDER\": 1, \"MINORITY\": 0, \"JOBCAT\": 1, \"GENDER_DENOTING\": \"Male\", \"MINORITY_DENOTING\": \"White\", \"JOBCAT_DENOTING\": \"Administration\", \"SOCIODEMOGRAPHY\": 1, \"SOCIODEMOGRAPHY_DENOTING\": \"White_Male\"}, {\"SALARY\": 30300, \"EDUC\": 15, \"SALBEGIN\": 16500, \"GENDER\": 1, \"MINORITY\": 0, \"JOBCAT\": 1, \"GENDER_DENOTING\": \"Male\", \"MINORITY_DENOTING\": \"White\", \"JOBCAT_DENOTING\": \"Administration\", \"SOCIODEMOGRAPHY\": 1, \"SOCIODEMOGRAPHY_DENOTING\": \"White_Male\"}, {\"SALARY\": 31500, \"EDUC\": 12, \"SALBEGIN\": 18750, \"GENDER\": 0, \"MINORITY\": 0, \"JOBCAT\": 1, \"GENDER_DENOTING\": \"Female\", \"MINORITY_DENOTING\": \"White\", \"JOBCAT_DENOTING\": \"Administration\", \"SOCIODEMOGRAPHY\": 0, \"SOCIODEMOGRAPHY_DENOTING\": \"White_Female\"}, {\"SALARY\": 31650, \"EDUC\": 12, \"SALBEGIN\": 14250, \"GENDER\": 0, \"MINORITY\": 0, \"JOBCAT\": 1, \"GENDER_DENOTING\": \"Female\", \"MINORITY_DENOTING\": \"White\", \"JOBCAT_DENOTING\": \"Administration\", \"SOCIODEMOGRAPHY\": 0, \"SOCIODEMOGRAPHY_DENOTING\": \"White_Female\"}, {\"SALARY\": 25200, \"EDUC\": 12, \"SALBEGIN\": 14100, \"GENDER\": 0, \"MINORITY\": 0, \"JOBCAT\": 1, \"GENDER_DENOTING\": \"Female\", \"MINORITY_DENOTING\": \"White\", \"JOBCAT_DENOTING\": \"Administration\", \"SOCIODEMOGRAPHY\": 0, \"SOCIODEMOGRAPHY_DENOTING\": \"White_Female\"}, {\"SALARY\": 37800, \"EDUC\": 16, \"SALBEGIN\": 15750, \"GENDER\": 0, \"MINORITY\": 0, \"JOBCAT\": 3, \"GENDER_DENOTING\": \"Female\", \"MINORITY_DENOTING\": \"White\", \"JOBCAT_DENOTING\": \"Management\", \"SOCIODEMOGRAPHY\": 0, \"SOCIODEMOGRAPHY_DENOTING\": \"White_Female\"}, {\"SALARY\": 18750, \"EDUC\": 15, \"SALBEGIN\": 10500, \"GENDER\": 0, \"MINORITY\": 0, \"JOBCAT\": 1, \"GENDER_DENOTING\": \"Female\", \"MINORITY_DENOTING\": \"White\", \"JOBCAT_DENOTING\": \"Administration\", \"SOCIODEMOGRAPHY\": 0, \"SOCIODEMOGRAPHY_DENOTING\": \"White_Female\"}, {\"SALARY\": 32550, \"EDUC\": 15, \"SALBEGIN\": 13500, \"GENDER\": 0, \"MINORITY\": 0, \"JOBCAT\": 1, \"GENDER_DENOTING\": \"Female\", \"MINORITY_DENOTING\": \"White\", \"JOBCAT_DENOTING\": \"Administration\", \"SOCIODEMOGRAPHY\": 0, \"SOCIODEMOGRAPHY_DENOTING\": \"White_Female\"}, {\"SALARY\": 33300, \"EDUC\": 12, \"SALBEGIN\": 15000, \"GENDER\": 0, \"MINORITY\": 0, \"JOBCAT\": 1, \"GENDER_DENOTING\": \"Female\", \"MINORITY_DENOTING\": \"White\", \"JOBCAT_DENOTING\": \"Administration\", \"SOCIODEMOGRAPHY\": 0, \"SOCIODEMOGRAPHY_DENOTING\": \"White_Female\"}, {\"SALARY\": 38550, \"EDUC\": 16, \"SALBEGIN\": 16500, \"GENDER\": 0, \"MINORITY\": 0, \"JOBCAT\": 1, \"GENDER_DENOTING\": \"Female\", \"MINORITY_DENOTING\": \"White\", \"JOBCAT_DENOTING\": \"Administration\", \"SOCIODEMOGRAPHY\": 0, \"SOCIODEMOGRAPHY_DENOTING\": \"White_Female\"}, {\"SALARY\": 27450, \"EDUC\": 12, \"SALBEGIN\": 15000, \"GENDER\": 1, \"MINORITY\": 1, \"JOBCAT\": 1, \"GENDER_DENOTING\": \"Male\", \"MINORITY_DENOTING\": \"Minority\", \"JOBCAT_DENOTING\": \"Administration\", \"SOCIODEMOGRAPHY\": 3, \"SOCIODEMOGRAPHY_DENOTING\": \"Minority_Male\"}, {\"SALARY\": 24300, \"EDUC\": 15, \"SALBEGIN\": 15000, \"GENDER\": 1, \"MINORITY\": 1, \"JOBCAT\": 2, \"GENDER_DENOTING\": \"Male\", \"MINORITY_DENOTING\": \"Minority\", \"JOBCAT_DENOTING\": \"Custody\", \"SOCIODEMOGRAPHY\": 3, \"SOCIODEMOGRAPHY_DENOTING\": \"Minority_Male\"}, {\"SALARY\": 30750, \"EDUC\": 12, \"SALBEGIN\": 15000, \"GENDER\": 1, \"MINORITY\": 1, \"JOBCAT\": 2, \"GENDER_DENOTING\": \"Male\", \"MINORITY_DENOTING\": \"Minority\", \"JOBCAT_DENOTING\": \"Custody\", \"SOCIODEMOGRAPHY\": 3, \"SOCIODEMOGRAPHY_DENOTING\": \"Minority_Male\"}, {\"SALARY\": 19650, \"EDUC\": 12, \"SALBEGIN\": 9750, \"GENDER\": 0, \"MINORITY\": 1, \"JOBCAT\": 1, \"GENDER_DENOTING\": \"Female\", \"MINORITY_DENOTING\": \"Minority\", \"JOBCAT_DENOTING\": \"Administration\", \"SOCIODEMOGRAPHY\": 2, \"SOCIODEMOGRAPHY_DENOTING\": \"Minority_Female\"}, {\"SALARY\": 68750, \"EDUC\": 17, \"SALBEGIN\": 27510, \"GENDER\": 1, \"MINORITY\": 0, \"JOBCAT\": 3, \"GENDER_DENOTING\": \"Male\", \"MINORITY_DENOTING\": \"White\", \"JOBCAT_DENOTING\": \"Management\", \"SOCIODEMOGRAPHY\": 1, \"SOCIODEMOGRAPHY_DENOTING\": \"White_Male\"}, {\"SALARY\": 59375, \"EDUC\": 20, \"SALBEGIN\": 30000, \"GENDER\": 1, \"MINORITY\": 0, \"JOBCAT\": 3, \"GENDER_DENOTING\": \"Male\", \"MINORITY_DENOTING\": \"White\", \"JOBCAT_DENOTING\": \"Management\", \"SOCIODEMOGRAPHY\": 1, \"SOCIODEMOGRAPHY_DENOTING\": \"White_Male\"}, {\"SALARY\": 31500, \"EDUC\": 15, \"SALBEGIN\": 15750, \"GENDER\": 1, \"MINORITY\": 0, \"JOBCAT\": 1, \"GENDER_DENOTING\": \"Male\", \"MINORITY_DENOTING\": \"White\", \"JOBCAT_DENOTING\": \"Administration\", \"SOCIODEMOGRAPHY\": 1, \"SOCIODEMOGRAPHY_DENOTING\": \"White_Male\"}, {\"SALARY\": 27300, \"EDUC\": 12, \"SALBEGIN\": 17250, \"GENDER\": 1, \"MINORITY\": 0, \"JOBCAT\": 1, \"GENDER_DENOTING\": \"Male\", \"MINORITY_DENOTING\": \"White\", \"JOBCAT_DENOTING\": \"Administration\", \"SOCIODEMOGRAPHY\": 1, \"SOCIODEMOGRAPHY_DENOTING\": \"White_Male\"}, {\"SALARY\": 27000, \"EDUC\": 15, \"SALBEGIN\": 15750, \"GENDER\": 1, \"MINORITY\": 0, \"JOBCAT\": 1, \"GENDER_DENOTING\": \"Male\", \"MINORITY_DENOTING\": \"White\", \"JOBCAT_DENOTING\": \"Administration\", \"SOCIODEMOGRAPHY\": 1, \"SOCIODEMOGRAPHY_DENOTING\": \"White_Male\"}, {\"SALARY\": 41550, \"EDUC\": 16, \"SALBEGIN\": 24990, \"GENDER\": 0, \"MINORITY\": 0, \"JOBCAT\": 3, \"GENDER_DENOTING\": \"Female\", \"MINORITY_DENOTING\": \"White\", \"JOBCAT_DENOTING\": \"Management\", \"SOCIODEMOGRAPHY\": 0, \"SOCIODEMOGRAPHY_DENOTING\": \"White_Female\"}, {\"SALARY\": 26250, \"EDUC\": 12, \"SALBEGIN\": 10950, \"GENDER\": 0, \"MINORITY\": 0, \"JOBCAT\": 1, \"GENDER_DENOTING\": \"Female\", \"MINORITY_DENOTING\": \"White\", \"JOBCAT_DENOTING\": \"Administration\", \"SOCIODEMOGRAPHY\": 0, \"SOCIODEMOGRAPHY_DENOTING\": \"White_Female\"}, {\"SALARY\": 22200, \"EDUC\": 12, \"SALBEGIN\": 15000, \"GENDER\": 1, \"MINORITY\": 0, \"JOBCAT\": 1, \"GENDER_DENOTING\": \"Male\", \"MINORITY_DENOTING\": \"White\", \"JOBCAT_DENOTING\": \"Administration\", \"SOCIODEMOGRAPHY\": 1, \"SOCIODEMOGRAPHY_DENOTING\": \"White_Male\"}, {\"SALARY\": 65000, \"EDUC\": 21, \"SALBEGIN\": 37500, \"GENDER\": 1, \"MINORITY\": 0, \"JOBCAT\": 3, \"GENDER_DENOTING\": \"Male\", \"MINORITY_DENOTING\": \"White\", \"JOBCAT_DENOTING\": \"Management\", \"SOCIODEMOGRAPHY\": 1, \"SOCIODEMOGRAPHY_DENOTING\": \"White_Male\"}, {\"SALARY\": 30900, \"EDUC\": 12, \"SALBEGIN\": 15000, \"GENDER\": 1, \"MINORITY\": 0, \"JOBCAT\": 1, \"GENDER_DENOTING\": \"Male\", \"MINORITY_DENOTING\": \"White\", \"JOBCAT_DENOTING\": \"Administration\", \"SOCIODEMOGRAPHY\": 1, \"SOCIODEMOGRAPHY_DENOTING\": \"White_Male\"}, {\"SALARY\": 20100, \"EDUC\": 8, \"SALBEGIN\": 13200, \"GENDER\": 0, \"MINORITY\": 0, \"JOBCAT\": 1, \"GENDER_DENOTING\": \"Female\", \"MINORITY_DENOTING\": \"White\", \"JOBCAT_DENOTING\": \"Administration\", \"SOCIODEMOGRAPHY\": 0, \"SOCIODEMOGRAPHY_DENOTING\": \"White_Female\"}, {\"SALARY\": 22350, \"EDUC\": 12, \"SALBEGIN\": 13500, \"GENDER\": 0, \"MINORITY\": 0, \"JOBCAT\": 1, \"GENDER_DENOTING\": \"Female\", \"MINORITY_DENOTING\": \"White\", \"JOBCAT_DENOTING\": \"Administration\", \"SOCIODEMOGRAPHY\": 0, \"SOCIODEMOGRAPHY_DENOTING\": \"White_Female\"}, {\"SALARY\": 35550, \"EDUC\": 15, \"SALBEGIN\": 13350, \"GENDER\": 0, \"MINORITY\": 0, \"JOBCAT\": 1, \"GENDER_DENOTING\": \"Female\", \"MINORITY_DENOTING\": \"White\", \"JOBCAT_DENOTING\": \"Administration\", \"SOCIODEMOGRAPHY\": 0, \"SOCIODEMOGRAPHY_DENOTING\": \"White_Female\"}, {\"SALARY\": 28500, \"EDUC\": 12, \"SALBEGIN\": 13950, \"GENDER\": 0, \"MINORITY\": 0, \"JOBCAT\": 1, \"GENDER_DENOTING\": \"Female\", \"MINORITY_DENOTING\": \"White\", \"JOBCAT_DENOTING\": \"Administration\", \"SOCIODEMOGRAPHY\": 0, \"SOCIODEMOGRAPHY_DENOTING\": \"White_Female\"}, {\"SALARY\": 24450, \"EDUC\": 12, \"SALBEGIN\": 13200, \"GENDER\": 0, \"MINORITY\": 0, \"JOBCAT\": 1, \"GENDER_DENOTING\": \"Female\", \"MINORITY_DENOTING\": \"White\", \"JOBCAT_DENOTING\": \"Administration\", \"SOCIODEMOGRAPHY\": 0, \"SOCIODEMOGRAPHY_DENOTING\": \"White_Female\"}, {\"SALARY\": 16650, \"EDUC\": 8, \"SALBEGIN\": 9750, \"GENDER\": 0, \"MINORITY\": 0, \"JOBCAT\": 1, \"GENDER_DENOTING\": \"Female\", \"MINORITY_DENOTING\": \"White\", \"JOBCAT_DENOTING\": \"Administration\", \"SOCIODEMOGRAPHY\": 0, \"SOCIODEMOGRAPHY_DENOTING\": \"White_Female\"}, {\"SALARY\": 26700, \"EDUC\": 12, \"SALBEGIN\": 13500, \"GENDER\": 1, \"MINORITY\": 1, \"JOBCAT\": 1, \"GENDER_DENOTING\": \"Male\", \"MINORITY_DENOTING\": \"Minority\", \"JOBCAT_DENOTING\": \"Administration\", \"SOCIODEMOGRAPHY\": 3, \"SOCIODEMOGRAPHY_DENOTING\": \"Minority_Male\"}, {\"SALARY\": 43950, \"EDUC\": 18, \"SALBEGIN\": 23250, \"GENDER\": 1, \"MINORITY\": 1, \"JOBCAT\": 1, \"GENDER_DENOTING\": \"Male\", \"MINORITY_DENOTING\": \"Minority\", \"JOBCAT_DENOTING\": \"Administration\", \"SOCIODEMOGRAPHY\": 3, \"SOCIODEMOGRAPHY_DENOTING\": \"Minority_Male\"}, {\"SALARY\": 23700, \"EDUC\": 15, \"SALBEGIN\": 13500, \"GENDER\": 1, \"MINORITY\": 1, \"JOBCAT\": 1, \"GENDER_DENOTING\": \"Male\", \"MINORITY_DENOTING\": \"Minority\", \"JOBCAT_DENOTING\": \"Administration\", \"SOCIODEMOGRAPHY\": 3, \"SOCIODEMOGRAPHY_DENOTING\": \"Minority_Male\"}, {\"SALARY\": 26550, \"EDUC\": 15, \"SALBEGIN\": 14250, \"GENDER\": 0, \"MINORITY\": 1, \"JOBCAT\": 1, \"GENDER_DENOTING\": \"Female\", \"MINORITY_DENOTING\": \"Minority\", \"JOBCAT_DENOTING\": \"Administration\", \"SOCIODEMOGRAPHY\": 2, \"SOCIODEMOGRAPHY_DENOTING\": \"Minority_Female\"}, {\"SALARY\": 27600, \"EDUC\": 12, \"SALBEGIN\": 15000, \"GENDER\": 1, \"MINORITY\": 0, \"JOBCAT\": 1, \"GENDER_DENOTING\": \"Male\", \"MINORITY_DENOTING\": \"White\", \"JOBCAT_DENOTING\": \"Administration\", \"SOCIODEMOGRAPHY\": 1, \"SOCIODEMOGRAPHY_DENOTING\": \"White_Male\"}, {\"SALARY\": 25800, \"EDUC\": 12, \"SALBEGIN\": 15000, \"GENDER\": 1, \"MINORITY\": 0, \"JOBCAT\": 1, \"GENDER_DENOTING\": \"Male\", \"MINORITY_DENOTING\": \"White\", \"JOBCAT_DENOTING\": \"Administration\", \"SOCIODEMOGRAPHY\": 1, \"SOCIODEMOGRAPHY_DENOTING\": \"White_Male\"}, {\"SALARY\": 42300, \"EDUC\": 16, \"SALBEGIN\": 26250, \"GENDER\": 1, \"MINORITY\": 0, \"JOBCAT\": 3, \"GENDER_DENOTING\": \"Male\", \"MINORITY_DENOTING\": \"White\", \"JOBCAT_DENOTING\": \"Management\", \"SOCIODEMOGRAPHY\": 1, \"SOCIODEMOGRAPHY_DENOTING\": \"White_Male\"}, {\"SALARY\": 30750, \"EDUC\": 8, \"SALBEGIN\": 15000, \"GENDER\": 1, \"MINORITY\": 0, \"JOBCAT\": 2, \"GENDER_DENOTING\": \"Male\", \"MINORITY_DENOTING\": \"White\", \"JOBCAT_DENOTING\": \"Custody\", \"SOCIODEMOGRAPHY\": 1, \"SOCIODEMOGRAPHY_DENOTING\": \"White_Male\"}, {\"SALARY\": 26700, \"EDUC\": 12, \"SALBEGIN\": 12900, \"GENDER\": 0, \"MINORITY\": 0, \"JOBCAT\": 1, \"GENDER_DENOTING\": \"Female\", \"MINORITY_DENOTING\": \"White\", \"JOBCAT_DENOTING\": \"Administration\", \"SOCIODEMOGRAPHY\": 0, \"SOCIODEMOGRAPHY_DENOTING\": \"White_Female\"}, {\"SALARY\": 20850, \"EDUC\": 12, \"SALBEGIN\": 12000, \"GENDER\": 0, \"MINORITY\": 0, \"JOBCAT\": 1, \"GENDER_DENOTING\": \"Female\", \"MINORITY_DENOTING\": \"White\", \"JOBCAT_DENOTING\": \"Administration\", \"SOCIODEMOGRAPHY\": 0, \"SOCIODEMOGRAPHY_DENOTING\": \"White_Female\"}, {\"SALARY\": 35250, \"EDUC\": 15, \"SALBEGIN\": 15000, \"GENDER\": 1, \"MINORITY\": 1, \"JOBCAT\": 1, \"GENDER_DENOTING\": \"Male\", \"MINORITY_DENOTING\": \"Minority\", \"JOBCAT_DENOTING\": \"Administration\", \"SOCIODEMOGRAPHY\": 3, \"SOCIODEMOGRAPHY_DENOTING\": \"Minority_Male\"}, {\"SALARY\": 26700, \"EDUC\": 15, \"SALBEGIN\": 15000, \"GENDER\": 1, \"MINORITY\": 1, \"JOBCAT\": 1, \"GENDER_DENOTING\": \"Male\", \"MINORITY_DENOTING\": \"Minority\", \"JOBCAT_DENOTING\": \"Administration\", \"SOCIODEMOGRAPHY\": 3, \"SOCIODEMOGRAPHY_DENOTING\": \"Minority_Male\"}, {\"SALARY\": 26550, \"EDUC\": 12, \"SALBEGIN\": 13050, \"GENDER\": 0, \"MINORITY\": 1, \"JOBCAT\": 1, \"GENDER_DENOTING\": \"Female\", \"MINORITY_DENOTING\": \"Minority\", \"JOBCAT_DENOTING\": \"Administration\", \"SOCIODEMOGRAPHY\": 2, \"SOCIODEMOGRAPHY_DENOTING\": \"Minority_Female\"}, {\"SALARY\": 27750, \"EDUC\": 12, \"SALBEGIN\": 12000, \"GENDER\": 0, \"MINORITY\": 1, \"JOBCAT\": 1, \"GENDER_DENOTING\": \"Female\", \"MINORITY_DENOTING\": \"Minority\", \"JOBCAT_DENOTING\": \"Administration\", \"SOCIODEMOGRAPHY\": 2, \"SOCIODEMOGRAPHY_DENOTING\": \"Minority_Female\"}, {\"SALARY\": 25050, \"EDUC\": 16, \"SALBEGIN\": 12750, \"GENDER\": 0, \"MINORITY\": 1, \"JOBCAT\": 1, \"GENDER_DENOTING\": \"Female\", \"MINORITY_DENOTING\": \"Minority\", \"JOBCAT_DENOTING\": \"Administration\", \"SOCIODEMOGRAPHY\": 2, \"SOCIODEMOGRAPHY_DENOTING\": \"Minority_Female\"}, {\"SALARY\": 66000, \"EDUC\": 16, \"SALBEGIN\": 47490, \"GENDER\": 1, \"MINORITY\": 0, \"JOBCAT\": 3, \"GENDER_DENOTING\": \"Male\", \"MINORITY_DENOTING\": \"White\", \"JOBCAT_DENOTING\": \"Management\", \"SOCIODEMOGRAPHY\": 1, \"SOCIODEMOGRAPHY_DENOTING\": \"White_Male\"}, {\"SALARY\": 52650, \"EDUC\": 16, \"SALBEGIN\": 19500, \"GENDER\": 1, \"MINORITY\": 0, \"JOBCAT\": 1, \"GENDER_DENOTING\": \"Male\", \"MINORITY_DENOTING\": \"White\", \"JOBCAT_DENOTING\": \"Administration\", \"SOCIODEMOGRAPHY\": 1, \"SOCIODEMOGRAPHY_DENOTING\": \"White_Male\"}, {\"SALARY\": 45625, \"EDUC\": 16, \"SALBEGIN\": 23250, \"GENDER\": 1, \"MINORITY\": 0, \"JOBCAT\": 3, \"GENDER_DENOTING\": \"Male\", \"MINORITY_DENOTING\": \"White\", \"JOBCAT_DENOTING\": \"Management\", \"SOCIODEMOGRAPHY\": 1, \"SOCIODEMOGRAPHY_DENOTING\": \"White_Male\"}, {\"SALARY\": 30900, \"EDUC\": 15, \"SALBEGIN\": 15000, \"GENDER\": 1, \"MINORITY\": 0, \"JOBCAT\": 1, \"GENDER_DENOTING\": \"Male\", \"MINORITY_DENOTING\": \"White\", \"JOBCAT_DENOTING\": \"Administration\", \"SOCIODEMOGRAPHY\": 1, \"SOCIODEMOGRAPHY_DENOTING\": \"White_Male\"}, {\"SALARY\": 29400, \"EDUC\": 15, \"SALBEGIN\": 16500, \"GENDER\": 0, \"MINORITY\": 0, \"JOBCAT\": 1, \"GENDER_DENOTING\": \"Female\", \"MINORITY_DENOTING\": \"White\", \"JOBCAT_DENOTING\": \"Administration\", \"SOCIODEMOGRAPHY\": 0, \"SOCIODEMOGRAPHY_DENOTING\": \"White_Female\"}, {\"SALARY\": 33300, \"EDUC\": 15, \"SALBEGIN\": 13500, \"GENDER\": 0, \"MINORITY\": 0, \"JOBCAT\": 1, \"GENDER_DENOTING\": \"Female\", \"MINORITY_DENOTING\": \"White\", \"JOBCAT_DENOTING\": \"Administration\", \"SOCIODEMOGRAPHY\": 0, \"SOCIODEMOGRAPHY_DENOTING\": \"White_Female\"}, {\"SALARY\": 21900, \"EDUC\": 12, \"SALBEGIN\": 9750, \"GENDER\": 0, \"MINORITY\": 0, \"JOBCAT\": 1, \"GENDER_DENOTING\": \"Female\", \"MINORITY_DENOTING\": \"White\", \"JOBCAT_DENOTING\": \"Administration\", \"SOCIODEMOGRAPHY\": 0, \"SOCIODEMOGRAPHY_DENOTING\": \"White_Female\"}, {\"SALARY\": 18150, \"EDUC\": 12, \"SALBEGIN\": 9750, \"GENDER\": 0, \"MINORITY\": 0, \"JOBCAT\": 1, \"GENDER_DENOTING\": \"Female\", \"MINORITY_DENOTING\": \"White\", \"JOBCAT_DENOTING\": \"Administration\", \"SOCIODEMOGRAPHY\": 0, \"SOCIODEMOGRAPHY_DENOTING\": \"White_Female\"}, {\"SALARY\": 46875, \"EDUC\": 16, \"SALBEGIN\": 17250, \"GENDER\": 0, \"MINORITY\": 0, \"JOBCAT\": 3, \"GENDER_DENOTING\": \"Female\", \"MINORITY_DENOTING\": \"White\", \"JOBCAT_DENOTING\": \"Management\", \"SOCIODEMOGRAPHY\": 0, \"SOCIODEMOGRAPHY_DENOTING\": \"White_Female\"}, {\"SALARY\": 25500, \"EDUC\": 12, \"SALBEGIN\": 14400, \"GENDER\": 1, \"MINORITY\": 1, \"JOBCAT\": 1, \"GENDER_DENOTING\": \"Male\", \"MINORITY_DENOTING\": \"Minority\", \"JOBCAT_DENOTING\": \"Administration\", \"SOCIODEMOGRAPHY\": 3, \"SOCIODEMOGRAPHY_DENOTING\": \"Minority_Male\"}, {\"SALARY\": 26550, \"EDUC\": 12, \"SALBEGIN\": 15000, \"GENDER\": 1, \"MINORITY\": 1, \"JOBCAT\": 1, \"GENDER_DENOTING\": \"Male\", \"MINORITY_DENOTING\": \"Minority\", \"JOBCAT_DENOTING\": \"Administration\", \"SOCIODEMOGRAPHY\": 3, \"SOCIODEMOGRAPHY_DENOTING\": \"Minority_Male\"}, {\"SALARY\": 26700, \"EDUC\": 12, \"SALBEGIN\": 13500, \"GENDER\": 1, \"MINORITY\": 1, \"JOBCAT\": 1, \"GENDER_DENOTING\": \"Male\", \"MINORITY_DENOTING\": \"Minority\", \"JOBCAT_DENOTING\": \"Administration\", \"SOCIODEMOGRAPHY\": 3, \"SOCIODEMOGRAPHY_DENOTING\": \"Minority_Male\"}, {\"SALARY\": 29850, \"EDUC\": 15, \"SALBEGIN\": 15000, \"GENDER\": 0, \"MINORITY\": 1, \"JOBCAT\": 1, \"GENDER_DENOTING\": \"Female\", \"MINORITY_DENOTING\": \"Minority\", \"JOBCAT_DENOTING\": \"Administration\", \"SOCIODEMOGRAPHY\": 2, \"SOCIODEMOGRAPHY_DENOTING\": \"Minority_Female\"}, {\"SALARY\": 69250, \"EDUC\": 20, \"SALBEGIN\": 42480, \"GENDER\": 1, \"MINORITY\": 0, \"JOBCAT\": 3, \"GENDER_DENOTING\": \"Male\", \"MINORITY_DENOTING\": \"White\", \"JOBCAT_DENOTING\": \"Management\", \"SOCIODEMOGRAPHY\": 1, \"SOCIODEMOGRAPHY_DENOTING\": \"White_Male\"}, {\"SALARY\": 31950, \"EDUC\": 8, \"SALBEGIN\": 15000, \"GENDER\": 1, \"MINORITY\": 0, \"JOBCAT\": 2, \"GENDER_DENOTING\": \"Male\", \"MINORITY_DENOTING\": \"White\", \"JOBCAT_DENOTING\": \"Custody\", \"SOCIODEMOGRAPHY\": 1, \"SOCIODEMOGRAPHY_DENOTING\": \"White_Male\"}, {\"SALARY\": 26250, \"EDUC\": 8, \"SALBEGIN\": 15600, \"GENDER\": 1, \"MINORITY\": 0, \"JOBCAT\": 1, \"GENDER_DENOTING\": \"Male\", \"MINORITY_DENOTING\": \"White\", \"JOBCAT_DENOTING\": \"Administration\", \"SOCIODEMOGRAPHY\": 1, \"SOCIODEMOGRAPHY_DENOTING\": \"White_Male\"}, {\"SALARY\": 35700, \"EDUC\": 16, \"SALBEGIN\": 17250, \"GENDER\": 0, \"MINORITY\": 0, \"JOBCAT\": 1, \"GENDER_DENOTING\": \"Female\", \"MINORITY_DENOTING\": \"White\", \"JOBCAT_DENOTING\": \"Administration\", \"SOCIODEMOGRAPHY\": 0, \"SOCIODEMOGRAPHY_DENOTING\": \"White_Female\"}, {\"SALARY\": 28500, \"EDUC\": 12, \"SALBEGIN\": 16500, \"GENDER\": 0, \"MINORITY\": 0, \"JOBCAT\": 1, \"GENDER_DENOTING\": \"Female\", \"MINORITY_DENOTING\": \"White\", \"JOBCAT_DENOTING\": \"Administration\", \"SOCIODEMOGRAPHY\": 0, \"SOCIODEMOGRAPHY_DENOTING\": \"White_Female\"}, {\"SALARY\": 17100, \"EDUC\": 12, \"SALBEGIN\": 10200, \"GENDER\": 0, \"MINORITY\": 0, \"JOBCAT\": 1, \"GENDER_DENOTING\": \"Female\", \"MINORITY_DENOTING\": \"White\", \"JOBCAT_DENOTING\": \"Administration\", \"SOCIODEMOGRAPHY\": 0, \"SOCIODEMOGRAPHY_DENOTING\": \"White_Female\"}, {\"SALARY\": 25200, \"EDUC\": 12, \"SALBEGIN\": 13050, \"GENDER\": 1, \"MINORITY\": 1, \"JOBCAT\": 1, \"GENDER_DENOTING\": \"Male\", \"MINORITY_DENOTING\": \"Minority\", \"JOBCAT_DENOTING\": \"Administration\", \"SOCIODEMOGRAPHY\": 3, \"SOCIODEMOGRAPHY_DENOTING\": \"Minority_Male\"}, {\"SALARY\": 24000, \"EDUC\": 12, \"SALBEGIN\": 12750, \"GENDER\": 0, \"MINORITY\": 1, \"JOBCAT\": 1, \"GENDER_DENOTING\": \"Female\", \"MINORITY_DENOTING\": \"Minority\", \"JOBCAT_DENOTING\": \"Administration\", \"SOCIODEMOGRAPHY\": 2, \"SOCIODEMOGRAPHY_DENOTING\": \"Minority_Female\"}, {\"SALARY\": 27450, \"EDUC\": 12, \"SALBEGIN\": 10200, \"GENDER\": 0, \"MINORITY\": 1, \"JOBCAT\": 1, \"GENDER_DENOTING\": \"Female\", \"MINORITY_DENOTING\": \"Minority\", \"JOBCAT_DENOTING\": \"Administration\", \"SOCIODEMOGRAPHY\": 2, \"SOCIODEMOGRAPHY_DENOTING\": \"Minority_Female\"}, {\"SALARY\": 18450, \"EDUC\": 12, \"SALBEGIN\": 10200, \"GENDER\": 0, \"MINORITY\": 1, \"JOBCAT\": 1, \"GENDER_DENOTING\": \"Female\", \"MINORITY_DENOTING\": \"Minority\", \"JOBCAT_DENOTING\": \"Administration\", \"SOCIODEMOGRAPHY\": 2, \"SOCIODEMOGRAPHY_DENOTING\": \"Minority_Female\"}, {\"SALARY\": 39300, \"EDUC\": 15, \"SALBEGIN\": 15750, \"GENDER\": 1, \"MINORITY\": 0, \"JOBCAT\": 1, \"GENDER_DENOTING\": \"Male\", \"MINORITY_DENOTING\": \"White\", \"JOBCAT_DENOTING\": \"Administration\", \"SOCIODEMOGRAPHY\": 1, \"SOCIODEMOGRAPHY_DENOTING\": \"White_Male\"}, {\"SALARY\": 38850, \"EDUC\": 15, \"SALBEGIN\": 15000, \"GENDER\": 1, \"MINORITY\": 0, \"JOBCAT\": 1, \"GENDER_DENOTING\": \"Male\", \"MINORITY_DENOTING\": \"White\", \"JOBCAT_DENOTING\": \"Administration\", \"SOCIODEMOGRAPHY\": 1, \"SOCIODEMOGRAPHY_DENOTING\": \"White_Male\"}, {\"SALARY\": 30750, \"EDUC\": 8, \"SALBEGIN\": 15000, \"GENDER\": 1, \"MINORITY\": 0, \"JOBCAT\": 2, \"GENDER_DENOTING\": \"Male\", \"MINORITY_DENOTING\": \"White\", \"JOBCAT_DENOTING\": \"Custody\", \"SOCIODEMOGRAPHY\": 1, \"SOCIODEMOGRAPHY_DENOTING\": \"White_Male\"}, {\"SALARY\": 37500, \"EDUC\": 15, \"SALBEGIN\": 20400, \"GENDER\": 1, \"MINORITY\": 0, \"JOBCAT\": 1, \"GENDER_DENOTING\": \"Male\", \"MINORITY_DENOTING\": \"White\", \"JOBCAT_DENOTING\": \"Administration\", \"SOCIODEMOGRAPHY\": 1, \"SOCIODEMOGRAPHY_DENOTING\": \"White_Male\"}, {\"SALARY\": 58750, \"EDUC\": 16, \"SALBEGIN\": 21750, \"GENDER\": 1, \"MINORITY\": 0, \"JOBCAT\": 3, \"GENDER_DENOTING\": \"Male\", \"MINORITY_DENOTING\": \"White\", \"JOBCAT_DENOTING\": \"Management\", \"SOCIODEMOGRAPHY\": 1, \"SOCIODEMOGRAPHY_DENOTING\": \"White_Male\"}, {\"SALARY\": 34500, \"EDUC\": 12, \"SALBEGIN\": 18750, \"GENDER\": 0, \"MINORITY\": 0, \"JOBCAT\": 1, \"GENDER_DENOTING\": \"Female\", \"MINORITY_DENOTING\": \"White\", \"JOBCAT_DENOTING\": \"Administration\", \"SOCIODEMOGRAPHY\": 0, \"SOCIODEMOGRAPHY_DENOTING\": \"White_Female\"}, {\"SALARY\": 36000, \"EDUC\": 12, \"SALBEGIN\": 19980, \"GENDER\": 0, \"MINORITY\": 0, \"JOBCAT\": 1, \"GENDER_DENOTING\": \"Female\", \"MINORITY_DENOTING\": \"White\", \"JOBCAT_DENOTING\": \"Administration\", \"SOCIODEMOGRAPHY\": 0, \"SOCIODEMOGRAPHY_DENOTING\": \"White_Female\"}, {\"SALARY\": 29100, \"EDUC\": 8, \"SALBEGIN\": 16500, \"GENDER\": 0, \"MINORITY\": 0, \"JOBCAT\": 1, \"GENDER_DENOTING\": \"Female\", \"MINORITY_DENOTING\": \"White\", \"JOBCAT_DENOTING\": \"Administration\", \"SOCIODEMOGRAPHY\": 0, \"SOCIODEMOGRAPHY_DENOTING\": \"White_Female\"}, {\"SALARY\": 16500, \"EDUC\": 12, \"SALBEGIN\": 10200, \"GENDER\": 0, \"MINORITY\": 0, \"JOBCAT\": 1, \"GENDER_DENOTING\": \"Female\", \"MINORITY_DENOTING\": \"White\", \"JOBCAT_DENOTING\": \"Administration\", \"SOCIODEMOGRAPHY\": 0, \"SOCIODEMOGRAPHY_DENOTING\": \"White_Female\"}, {\"SALARY\": 19650, \"EDUC\": 12, \"SALBEGIN\": 12750, \"GENDER\": 1, \"MINORITY\": 1, \"JOBCAT\": 1, \"GENDER_DENOTING\": \"Male\", \"MINORITY_DENOTING\": \"Minority\", \"JOBCAT_DENOTING\": \"Administration\", \"SOCIODEMOGRAPHY\": 3, \"SOCIODEMOGRAPHY_DENOTING\": \"Minority_Male\"}, {\"SALARY\": 24750, \"EDUC\": 12, \"SALBEGIN\": 12000, \"GENDER\": 0, \"MINORITY\": 1, \"JOBCAT\": 1, \"GENDER_DENOTING\": \"Female\", \"MINORITY_DENOTING\": \"Minority\", \"JOBCAT_DENOTING\": \"Administration\", \"SOCIODEMOGRAPHY\": 2, \"SOCIODEMOGRAPHY_DENOTING\": \"Minority_Female\"}, {\"SALARY\": 27150, \"EDUC\": 15, \"SALBEGIN\": 15750, \"GENDER\": 0, \"MINORITY\": 1, \"JOBCAT\": 1, \"GENDER_DENOTING\": \"Female\", \"MINORITY_DENOTING\": \"Minority\", \"JOBCAT_DENOTING\": \"Administration\", \"SOCIODEMOGRAPHY\": 2, \"SOCIODEMOGRAPHY_DENOTING\": \"Minority_Female\"}, {\"SALARY\": 26400, \"EDUC\": 12, \"SALBEGIN\": 12750, \"GENDER\": 0, \"MINORITY\": 1, \"JOBCAT\": 1, \"GENDER_DENOTING\": \"Female\", \"MINORITY_DENOTING\": \"Minority\", \"JOBCAT_DENOTING\": \"Administration\", \"SOCIODEMOGRAPHY\": 2, \"SOCIODEMOGRAPHY_DENOTING\": \"Minority_Female\"}, {\"SALARY\": 23100, \"EDUC\": 16, \"SALBEGIN\": 12000, \"GENDER\": 0, \"MINORITY\": 1, \"JOBCAT\": 1, \"GENDER_DENOTING\": \"Female\", \"MINORITY_DENOTING\": \"Minority\", \"JOBCAT_DENOTING\": \"Administration\", \"SOCIODEMOGRAPHY\": 2, \"SOCIODEMOGRAPHY_DENOTING\": \"Minority_Female\"}, {\"SALARY\": 54900, \"EDUC\": 15, \"SALBEGIN\": 25500, \"GENDER\": 1, \"MINORITY\": 0, \"JOBCAT\": 3, \"GENDER_DENOTING\": \"Male\", \"MINORITY_DENOTING\": \"White\", \"JOBCAT_DENOTING\": \"Management\", \"SOCIODEMOGRAPHY\": 1, \"SOCIODEMOGRAPHY_DENOTING\": \"White_Male\"}, {\"SALARY\": 70875, \"EDUC\": 19, \"SALBEGIN\": 43500, \"GENDER\": 1, \"MINORITY\": 0, \"JOBCAT\": 3, \"GENDER_DENOTING\": \"Male\", \"MINORITY_DENOTING\": \"White\", \"JOBCAT_DENOTING\": \"Management\", \"SOCIODEMOGRAPHY\": 1, \"SOCIODEMOGRAPHY_DENOTING\": \"White_Male\"}, {\"SALARY\": 51250, \"EDUC\": 16, \"SALBEGIN\": 27480, \"GENDER\": 1, \"MINORITY\": 0, \"JOBCAT\": 3, \"GENDER_DENOTING\": \"Male\", \"MINORITY_DENOTING\": \"White\", \"JOBCAT_DENOTING\": \"Management\", \"SOCIODEMOGRAPHY\": 1, \"SOCIODEMOGRAPHY_DENOTING\": \"White_Male\"}, {\"SALARY\": 67500, \"EDUC\": 17, \"SALBEGIN\": 34980, \"GENDER\": 1, \"MINORITY\": 0, \"JOBCAT\": 3, \"GENDER_DENOTING\": \"Male\", \"MINORITY_DENOTING\": \"White\", \"JOBCAT_DENOTING\": \"Management\", \"SOCIODEMOGRAPHY\": 1, \"SOCIODEMOGRAPHY_DENOTING\": \"White_Male\"}, {\"SALARY\": 29340, \"EDUC\": 12, \"SALBEGIN\": 19500, \"GENDER\": 1, \"MINORITY\": 0, \"JOBCAT\": 1, \"GENDER_DENOTING\": \"Male\", \"MINORITY_DENOTING\": \"White\", \"JOBCAT_DENOTING\": \"Administration\", \"SOCIODEMOGRAPHY\": 1, \"SOCIODEMOGRAPHY_DENOTING\": \"White_Male\"}, {\"SALARY\": 39600, \"EDUC\": 15, \"SALBEGIN\": 16500, \"GENDER\": 1, \"MINORITY\": 0, \"JOBCAT\": 1, \"GENDER_DENOTING\": \"Male\", \"MINORITY_DENOTING\": \"White\", \"JOBCAT_DENOTING\": \"Administration\", \"SOCIODEMOGRAPHY\": 1, \"SOCIODEMOGRAPHY_DENOTING\": \"White_Male\"}, {\"SALARY\": 29100, \"EDUC\": 12, \"SALBEGIN\": 15000, \"GENDER\": 1, \"MINORITY\": 0, \"JOBCAT\": 1, \"GENDER_DENOTING\": \"Male\", \"MINORITY_DENOTING\": \"White\", \"JOBCAT_DENOTING\": \"Administration\", \"SOCIODEMOGRAPHY\": 1, \"SOCIODEMOGRAPHY_DENOTING\": \"White_Male\"}, {\"SALARY\": 33150, \"EDUC\": 15, \"SALBEGIN\": 16500, \"GENDER\": 1, \"MINORITY\": 0, \"JOBCAT\": 1, \"GENDER_DENOTING\": \"Male\", \"MINORITY_DENOTING\": \"White\", \"JOBCAT_DENOTING\": \"Administration\", \"SOCIODEMOGRAPHY\": 1, \"SOCIODEMOGRAPHY_DENOTING\": \"White_Male\"}, {\"SALARY\": 66750, \"EDUC\": 16, \"SALBEGIN\": 52500, \"GENDER\": 1, \"MINORITY\": 0, \"JOBCAT\": 3, \"GENDER_DENOTING\": \"Male\", \"MINORITY_DENOTING\": \"White\", \"JOBCAT_DENOTING\": \"Management\", \"SOCIODEMOGRAPHY\": 1, \"SOCIODEMOGRAPHY_DENOTING\": \"White_Male\"}, {\"SALARY\": 33750, \"EDUC\": 12, \"SALBEGIN\": 15000, \"GENDER\": 1, \"MINORITY\": 0, \"JOBCAT\": 2, \"GENDER_DENOTING\": \"Male\", \"MINORITY_DENOTING\": \"White\", \"JOBCAT_DENOTING\": \"Custody\", \"SOCIODEMOGRAPHY\": 1, \"SOCIODEMOGRAPHY_DENOTING\": \"White_Male\"}, {\"SALARY\": 27300, \"EDUC\": 15, \"SALBEGIN\": 17250, \"GENDER\": 1, \"MINORITY\": 0, \"JOBCAT\": 1, \"GENDER_DENOTING\": \"Male\", \"MINORITY_DENOTING\": \"White\", \"JOBCAT_DENOTING\": \"Administration\", \"SOCIODEMOGRAPHY\": 1, \"SOCIODEMOGRAPHY_DENOTING\": \"White_Male\"}, {\"SALARY\": 24000, \"EDUC\": 12, \"SALBEGIN\": 11250, \"GENDER\": 0, \"MINORITY\": 0, \"JOBCAT\": 1, \"GENDER_DENOTING\": \"Female\", \"MINORITY_DENOTING\": \"White\", \"JOBCAT_DENOTING\": \"Administration\", \"SOCIODEMOGRAPHY\": 0, \"SOCIODEMOGRAPHY_DENOTING\": \"White_Female\"}, {\"SALARY\": 19800, \"EDUC\": 8, \"SALBEGIN\": 10200, \"GENDER\": 0, \"MINORITY\": 0, \"JOBCAT\": 1, \"GENDER_DENOTING\": \"Female\", \"MINORITY_DENOTING\": \"White\", \"JOBCAT_DENOTING\": \"Administration\", \"SOCIODEMOGRAPHY\": 0, \"SOCIODEMOGRAPHY_DENOTING\": \"White_Female\"}, {\"SALARY\": 30600, \"EDUC\": 15, \"SALBEGIN\": 16500, \"GENDER\": 1, \"MINORITY\": 1, \"JOBCAT\": 1, \"GENDER_DENOTING\": \"Male\", \"MINORITY_DENOTING\": \"Minority\", \"JOBCAT_DENOTING\": \"Administration\", \"SOCIODEMOGRAPHY\": 3, \"SOCIODEMOGRAPHY_DENOTING\": \"Minority_Male\"}, {\"SALARY\": 28950, \"EDUC\": 15, \"SALBEGIN\": 15000, \"GENDER\": 1, \"MINORITY\": 1, \"JOBCAT\": 1, \"GENDER_DENOTING\": \"Male\", \"MINORITY_DENOTING\": \"Minority\", \"JOBCAT_DENOTING\": \"Administration\", \"SOCIODEMOGRAPHY\": 3, \"SOCIODEMOGRAPHY_DENOTING\": \"Minority_Male\"}, {\"SALARY\": 38400, \"EDUC\": 15, \"SALBEGIN\": 16500, \"GENDER\": 1, \"MINORITY\": 1, \"JOBCAT\": 1, \"GENDER_DENOTING\": \"Male\", \"MINORITY_DENOTING\": \"Minority\", \"JOBCAT_DENOTING\": \"Administration\", \"SOCIODEMOGRAPHY\": 3, \"SOCIODEMOGRAPHY_DENOTING\": \"Minority_Male\"}, {\"SALARY\": 30750, \"EDUC\": 8, \"SALBEGIN\": 15000, \"GENDER\": 1, \"MINORITY\": 1, \"JOBCAT\": 2, \"GENDER_DENOTING\": \"Male\", \"MINORITY_DENOTING\": \"Minority\", \"JOBCAT_DENOTING\": \"Custody\", \"SOCIODEMOGRAPHY\": 3, \"SOCIODEMOGRAPHY_DENOTING\": \"Minority_Male\"}, {\"SALARY\": 20400, \"EDUC\": 12, \"SALBEGIN\": 10950, \"GENDER\": 0, \"MINORITY\": 1, \"JOBCAT\": 1, \"GENDER_DENOTING\": \"Female\", \"MINORITY_DENOTING\": \"Minority\", \"JOBCAT_DENOTING\": \"Administration\", \"SOCIODEMOGRAPHY\": 2, \"SOCIODEMOGRAPHY_DENOTING\": \"Minority_Female\"}, {\"SALARY\": 19200, \"EDUC\": 12, \"SALBEGIN\": 11100, \"GENDER\": 0, \"MINORITY\": 1, \"JOBCAT\": 1, \"GENDER_DENOTING\": \"Female\", \"MINORITY_DENOTING\": \"Minority\", \"JOBCAT_DENOTING\": \"Administration\", \"SOCIODEMOGRAPHY\": 2, \"SOCIODEMOGRAPHY_DENOTING\": \"Minority_Female\"}, {\"SALARY\": 30150, \"EDUC\": 15, \"SALBEGIN\": 15750, \"GENDER\": 1, \"MINORITY\": 0, \"JOBCAT\": 1, \"GENDER_DENOTING\": \"Male\", \"MINORITY_DENOTING\": \"White\", \"JOBCAT_DENOTING\": \"Administration\", \"SOCIODEMOGRAPHY\": 1, \"SOCIODEMOGRAPHY_DENOTING\": \"White_Male\"}, {\"SALARY\": 34620, \"EDUC\": 16, \"SALBEGIN\": 27750, \"GENDER\": 1, \"MINORITY\": 0, \"JOBCAT\": 1, \"GENDER_DENOTING\": \"Male\", \"MINORITY_DENOTING\": \"White\", \"JOBCAT_DENOTING\": \"Administration\", \"SOCIODEMOGRAPHY\": 1, \"SOCIODEMOGRAPHY_DENOTING\": \"White_Male\"}, {\"SALARY\": 80000, \"EDUC\": 15, \"SALBEGIN\": 15750, \"GENDER\": 1, \"MINORITY\": 0, \"JOBCAT\": 1, \"GENDER_DENOTING\": \"Male\", \"MINORITY_DENOTING\": \"White\", \"JOBCAT_DENOTING\": \"Administration\", \"SOCIODEMOGRAPHY\": 1, \"SOCIODEMOGRAPHY_DENOTING\": \"White_Male\"}, {\"SALARY\": 25350, \"EDUC\": 12, \"SALBEGIN\": 15000, \"GENDER\": 1, \"MINORITY\": 0, \"JOBCAT\": 1, \"GENDER_DENOTING\": \"Male\", \"MINORITY_DENOTING\": \"White\", \"JOBCAT_DENOTING\": \"Administration\", \"SOCIODEMOGRAPHY\": 1, \"SOCIODEMOGRAPHY_DENOTING\": \"White_Male\"}, {\"SALARY\": 29850, \"EDUC\": 12, \"SALBEGIN\": 15750, \"GENDER\": 1, \"MINORITY\": 0, \"JOBCAT\": 1, \"GENDER_DENOTING\": \"Male\", \"MINORITY_DENOTING\": \"White\", \"JOBCAT_DENOTING\": \"Administration\", \"SOCIODEMOGRAPHY\": 1, \"SOCIODEMOGRAPHY_DENOTING\": \"White_Male\"}, {\"SALARY\": 24000, \"EDUC\": 12, \"SALBEGIN\": 13800, \"GENDER\": 0, \"MINORITY\": 0, \"JOBCAT\": 1, \"GENDER_DENOTING\": \"Female\", \"MINORITY_DENOTING\": \"White\", \"JOBCAT_DENOTING\": \"Administration\", \"SOCIODEMOGRAPHY\": 0, \"SOCIODEMOGRAPHY_DENOTING\": \"White_Female\"}, {\"SALARY\": 27750, \"EDUC\": 15, \"SALBEGIN\": 19500, \"GENDER\": 0, \"MINORITY\": 0, \"JOBCAT\": 1, \"GENDER_DENOTING\": \"Female\", \"MINORITY_DENOTING\": \"White\", \"JOBCAT_DENOTING\": \"Administration\", \"SOCIODEMOGRAPHY\": 0, \"SOCIODEMOGRAPHY_DENOTING\": \"White_Female\"}, {\"SALARY\": 22350, \"EDUC\": 8, \"SALBEGIN\": 10200, \"GENDER\": 0, \"MINORITY\": 0, \"JOBCAT\": 1, \"GENDER_DENOTING\": \"Female\", \"MINORITY_DENOTING\": \"White\", \"JOBCAT_DENOTING\": \"Administration\", \"SOCIODEMOGRAPHY\": 0, \"SOCIODEMOGRAPHY_DENOTING\": \"White_Female\"}, {\"SALARY\": 16200, \"EDUC\": 12, \"SALBEGIN\": 10200, \"GENDER\": 0, \"MINORITY\": 0, \"JOBCAT\": 1, \"GENDER_DENOTING\": \"Female\", \"MINORITY_DENOTING\": \"White\", \"JOBCAT_DENOTING\": \"Administration\", \"SOCIODEMOGRAPHY\": 0, \"SOCIODEMOGRAPHY_DENOTING\": \"White_Female\"}, {\"SALARY\": 21900, \"EDUC\": 15, \"SALBEGIN\": 12750, \"GENDER\": 0, \"MINORITY\": 0, \"JOBCAT\": 1, \"GENDER_DENOTING\": \"Female\", \"MINORITY_DENOTING\": \"White\", \"JOBCAT_DENOTING\": \"Administration\", \"SOCIODEMOGRAPHY\": 0, \"SOCIODEMOGRAPHY_DENOTING\": \"White_Female\"}, {\"SALARY\": 23250, \"EDUC\": 16, \"SALBEGIN\": 15750, \"GENDER\": 0, \"MINORITY\": 0, \"JOBCAT\": 1, \"GENDER_DENOTING\": \"Female\", \"MINORITY_DENOTING\": \"White\", \"JOBCAT_DENOTING\": \"Administration\", \"SOCIODEMOGRAPHY\": 0, \"SOCIODEMOGRAPHY_DENOTING\": \"White_Female\"}, {\"SALARY\": 33900, \"EDUC\": 12, \"SALBEGIN\": 12000, \"GENDER\": 0, \"MINORITY\": 0, \"JOBCAT\": 1, \"GENDER_DENOTING\": \"Female\", \"MINORITY_DENOTING\": \"White\", \"JOBCAT_DENOTING\": \"Administration\", \"SOCIODEMOGRAPHY\": 0, \"SOCIODEMOGRAPHY_DENOTING\": \"White_Female\"}, {\"SALARY\": 25650, \"EDUC\": 15, \"SALBEGIN\": 14250, \"GENDER\": 0, \"MINORITY\": 0, \"JOBCAT\": 1, \"GENDER_DENOTING\": \"Female\", \"MINORITY_DENOTING\": \"White\", \"JOBCAT_DENOTING\": \"Administration\", \"SOCIODEMOGRAPHY\": 0, \"SOCIODEMOGRAPHY_DENOTING\": \"White_Female\"}, {\"SALARY\": 17250, \"EDUC\": 12, \"SALBEGIN\": 10200, \"GENDER\": 0, \"MINORITY\": 0, \"JOBCAT\": 1, \"GENDER_DENOTING\": \"Female\", \"MINORITY_DENOTING\": \"White\", \"JOBCAT_DENOTING\": \"Administration\", \"SOCIODEMOGRAPHY\": 0, \"SOCIODEMOGRAPHY_DENOTING\": \"White_Female\"}, {\"SALARY\": 22500, \"EDUC\": 15, \"SALBEGIN\": 15000, \"GENDER\": 1, \"MINORITY\": 1, \"JOBCAT\": 1, \"GENDER_DENOTING\": \"Male\", \"MINORITY_DENOTING\": \"Minority\", \"JOBCAT_DENOTING\": \"Administration\", \"SOCIODEMOGRAPHY\": 3, \"SOCIODEMOGRAPHY_DENOTING\": \"Minority_Male\"}, {\"SALARY\": 40200, \"EDUC\": 16, \"SALBEGIN\": 21000, \"GENDER\": 1, \"MINORITY\": 0, \"JOBCAT\": 3, \"GENDER_DENOTING\": \"Male\", \"MINORITY_DENOTING\": \"White\", \"JOBCAT_DENOTING\": \"Management\", \"SOCIODEMOGRAPHY\": 1, \"SOCIODEMOGRAPHY_DENOTING\": \"White_Male\"}, {\"SALARY\": 55500, \"EDUC\": 19, \"SALBEGIN\": 33750, \"GENDER\": 1, \"MINORITY\": 0, \"JOBCAT\": 3, \"GENDER_DENOTING\": \"Male\", \"MINORITY_DENOTING\": \"White\", \"JOBCAT_DENOTING\": \"Management\", \"SOCIODEMOGRAPHY\": 1, \"SOCIODEMOGRAPHY_DENOTING\": \"White_Male\"}, {\"SALARY\": 26550, \"EDUC\": 15, \"SALBEGIN\": 15000, \"GENDER\": 1, \"MINORITY\": 0, \"JOBCAT\": 1, \"GENDER_DENOTING\": \"Male\", \"MINORITY_DENOTING\": \"White\", \"JOBCAT_DENOTING\": \"Administration\", \"SOCIODEMOGRAPHY\": 1, \"SOCIODEMOGRAPHY_DENOTING\": \"White_Male\"}, {\"SALARY\": 50550, \"EDUC\": 15, \"SALBEGIN\": 19500, \"GENDER\": 1, \"MINORITY\": 0, \"JOBCAT\": 1, \"GENDER_DENOTING\": \"Male\", \"MINORITY_DENOTING\": \"White\", \"JOBCAT_DENOTING\": \"Administration\", \"SOCIODEMOGRAPHY\": 1, \"SOCIODEMOGRAPHY_DENOTING\": \"White_Male\"}, {\"SALARY\": 75000, \"EDUC\": 19, \"SALBEGIN\": 31500, \"GENDER\": 1, \"MINORITY\": 0, \"JOBCAT\": 3, \"GENDER_DENOTING\": \"Male\", \"MINORITY_DENOTING\": \"White\", \"JOBCAT_DENOTING\": \"Management\", \"SOCIODEMOGRAPHY\": 1, \"SOCIODEMOGRAPHY_DENOTING\": \"White_Male\"}, {\"SALARY\": 27450, \"EDUC\": 8, \"SALBEGIN\": 12000, \"GENDER\": 0, \"MINORITY\": 0, \"JOBCAT\": 1, \"GENDER_DENOTING\": \"Female\", \"MINORITY_DENOTING\": \"White\", \"JOBCAT_DENOTING\": \"Administration\", \"SOCIODEMOGRAPHY\": 0, \"SOCIODEMOGRAPHY_DENOTING\": \"White_Female\"}, {\"SALARY\": 22650, \"EDUC\": 12, \"SALBEGIN\": 11250, \"GENDER\": 0, \"MINORITY\": 0, \"JOBCAT\": 1, \"GENDER_DENOTING\": \"Female\", \"MINORITY_DENOTING\": \"White\", \"JOBCAT_DENOTING\": \"Administration\", \"SOCIODEMOGRAPHY\": 0, \"SOCIODEMOGRAPHY_DENOTING\": \"White_Female\"}, {\"SALARY\": 27300, \"EDUC\": 12, \"SALBEGIN\": 11250, \"GENDER\": 0, \"MINORITY\": 0, \"JOBCAT\": 1, \"GENDER_DENOTING\": \"Female\", \"MINORITY_DENOTING\": \"White\", \"JOBCAT_DENOTING\": \"Administration\", \"SOCIODEMOGRAPHY\": 0, \"SOCIODEMOGRAPHY_DENOTING\": \"White_Female\"}, {\"SALARY\": 27750, \"EDUC\": 12, \"SALBEGIN\": 11225, \"GENDER\": 0, \"MINORITY\": 0, \"JOBCAT\": 1, \"GENDER_DENOTING\": \"Female\", \"MINORITY_DENOTING\": \"White\", \"JOBCAT_DENOTING\": \"Administration\", \"SOCIODEMOGRAPHY\": 0, \"SOCIODEMOGRAPHY_DENOTING\": \"White_Female\"}, {\"SALARY\": 54375, \"EDUC\": 16, \"SALBEGIN\": 18750, \"GENDER\": 0, \"MINORITY\": 0, \"JOBCAT\": 3, \"GENDER_DENOTING\": \"Female\", \"MINORITY_DENOTING\": \"White\", \"JOBCAT_DENOTING\": \"Management\", \"SOCIODEMOGRAPHY\": 0, \"SOCIODEMOGRAPHY_DENOTING\": \"White_Female\"}, {\"SALARY\": 17400, \"EDUC\": 8, \"SALBEGIN\": 10200, \"GENDER\": 0, \"MINORITY\": 0, \"JOBCAT\": 1, \"GENDER_DENOTING\": \"Female\", \"MINORITY_DENOTING\": \"White\", \"JOBCAT_DENOTING\": \"Administration\", \"SOCIODEMOGRAPHY\": 0, \"SOCIODEMOGRAPHY_DENOTING\": \"White_Female\"}, {\"SALARY\": 40800, \"EDUC\": 12, \"SALBEGIN\": 18000, \"GENDER\": 0, \"MINORITY\": 0, \"JOBCAT\": 1, \"GENDER_DENOTING\": \"Female\", \"MINORITY_DENOTING\": \"White\", \"JOBCAT_DENOTING\": \"Administration\", \"SOCIODEMOGRAPHY\": 0, \"SOCIODEMOGRAPHY_DENOTING\": \"White_Female\"}, {\"SALARY\": 23100, \"EDUC\": 12, \"SALBEGIN\": 10950, \"GENDER\": 0, \"MINORITY\": 0, \"JOBCAT\": 1, \"GENDER_DENOTING\": \"Female\", \"MINORITY_DENOTING\": \"White\", \"JOBCAT_DENOTING\": \"Administration\", \"SOCIODEMOGRAPHY\": 0, \"SOCIODEMOGRAPHY_DENOTING\": \"White_Female\"}, {\"SALARY\": 22500, \"EDUC\": 8, \"SALBEGIN\": 10950, \"GENDER\": 0, \"MINORITY\": 0, \"JOBCAT\": 1, \"GENDER_DENOTING\": \"Female\", \"MINORITY_DENOTING\": \"White\", \"JOBCAT_DENOTING\": \"Administration\", \"SOCIODEMOGRAPHY\": 0, \"SOCIODEMOGRAPHY_DENOTING\": \"White_Female\"}, {\"SALARY\": 26700, \"EDUC\": 12, \"SALBEGIN\": 11550, \"GENDER\": 0, \"MINORITY\": 0, \"JOBCAT\": 1, \"GENDER_DENOTING\": \"Female\", \"MINORITY_DENOTING\": \"White\", \"JOBCAT_DENOTING\": \"Administration\", \"SOCIODEMOGRAPHY\": 0, \"SOCIODEMOGRAPHY_DENOTING\": \"White_Female\"}, {\"SALARY\": 24900, \"EDUC\": 12, \"SALBEGIN\": 11250, \"GENDER\": 0, \"MINORITY\": 0, \"JOBCAT\": 1, \"GENDER_DENOTING\": \"Female\", \"MINORITY_DENOTING\": \"White\", \"JOBCAT_DENOTING\": \"Administration\", \"SOCIODEMOGRAPHY\": 0, \"SOCIODEMOGRAPHY_DENOTING\": \"White_Female\"}, {\"SALARY\": 19650, \"EDUC\": 12, \"SALBEGIN\": 10950, \"GENDER\": 0, \"MINORITY\": 0, \"JOBCAT\": 1, \"GENDER_DENOTING\": \"Female\", \"MINORITY_DENOTING\": \"White\", \"JOBCAT_DENOTING\": \"Administration\", \"SOCIODEMOGRAPHY\": 0, \"SOCIODEMOGRAPHY_DENOTING\": \"White_Female\"}, {\"SALARY\": 22050, \"EDUC\": 12, \"SALBEGIN\": 10950, \"GENDER\": 0, \"MINORITY\": 0, \"JOBCAT\": 1, \"GENDER_DENOTING\": \"Female\", \"MINORITY_DENOTING\": \"White\", \"JOBCAT_DENOTING\": \"Administration\", \"SOCIODEMOGRAPHY\": 0, \"SOCIODEMOGRAPHY_DENOTING\": \"White_Female\"}, {\"SALARY\": 25500, \"EDUC\": 12, \"SALBEGIN\": 12000, \"GENDER\": 0, \"MINORITY\": 0, \"JOBCAT\": 1, \"GENDER_DENOTING\": \"Female\", \"MINORITY_DENOTING\": \"White\", \"JOBCAT_DENOTING\": \"Administration\", \"SOCIODEMOGRAPHY\": 0, \"SOCIODEMOGRAPHY_DENOTING\": \"White_Female\"}, {\"SALARY\": 28200, \"EDUC\": 15, \"SALBEGIN\": 12750, \"GENDER\": 0, \"MINORITY\": 0, \"JOBCAT\": 1, \"GENDER_DENOTING\": \"Female\", \"MINORITY_DENOTING\": \"White\", \"JOBCAT_DENOTING\": \"Administration\", \"SOCIODEMOGRAPHY\": 0, \"SOCIODEMOGRAPHY_DENOTING\": \"White_Female\"}, {\"SALARY\": 23100, \"EDUC\": 12, \"SALBEGIN\": 11250, \"GENDER\": 0, \"MINORITY\": 0, \"JOBCAT\": 1, \"GENDER_DENOTING\": \"Female\", \"MINORITY_DENOTING\": \"White\", \"JOBCAT_DENOTING\": \"Administration\", \"SOCIODEMOGRAPHY\": 0, \"SOCIODEMOGRAPHY_DENOTING\": \"White_Female\"}, {\"SALARY\": 25500, \"EDUC\": 12, \"SALBEGIN\": 11400, \"GENDER\": 1, \"MINORITY\": 1, \"JOBCAT\": 1, \"GENDER_DENOTING\": \"Male\", \"MINORITY_DENOTING\": \"Minority\", \"JOBCAT_DENOTING\": \"Administration\", \"SOCIODEMOGRAPHY\": 3, \"SOCIODEMOGRAPHY_DENOTING\": \"Minority_Male\"}, {\"SALARY\": 17100, \"EDUC\": 8, \"SALBEGIN\": 10200, \"GENDER\": 0, \"MINORITY\": 1, \"JOBCAT\": 1, \"GENDER_DENOTING\": \"Female\", \"MINORITY_DENOTING\": \"Minority\", \"JOBCAT_DENOTING\": \"Administration\", \"SOCIODEMOGRAPHY\": 2, \"SOCIODEMOGRAPHY_DENOTING\": \"Minority_Female\"}, {\"SALARY\": 68125, \"EDUC\": 18, \"SALBEGIN\": 32490, \"GENDER\": 1, \"MINORITY\": 0, \"JOBCAT\": 3, \"GENDER_DENOTING\": \"Male\", \"MINORITY_DENOTING\": \"White\", \"JOBCAT_DENOTING\": \"Management\", \"SOCIODEMOGRAPHY\": 1, \"SOCIODEMOGRAPHY_DENOTING\": \"White_Male\"}, {\"SALARY\": 30600, \"EDUC\": 12, \"SALBEGIN\": 15750, \"GENDER\": 1, \"MINORITY\": 0, \"JOBCAT\": 2, \"GENDER_DENOTING\": \"Male\", \"MINORITY_DENOTING\": \"White\", \"JOBCAT_DENOTING\": \"Custody\", \"SOCIODEMOGRAPHY\": 1, \"SOCIODEMOGRAPHY_DENOTING\": \"White_Male\"}, {\"SALARY\": 52125, \"EDUC\": 19, \"SALBEGIN\": 27480, \"GENDER\": 1, \"MINORITY\": 0, \"JOBCAT\": 3, \"GENDER_DENOTING\": \"Male\", \"MINORITY_DENOTING\": \"White\", \"JOBCAT_DENOTING\": \"Management\", \"SOCIODEMOGRAPHY\": 1, \"SOCIODEMOGRAPHY_DENOTING\": \"White_Male\"}, {\"SALARY\": 61875, \"EDUC\": 19, \"SALBEGIN\": 36750, \"GENDER\": 1, \"MINORITY\": 0, \"JOBCAT\": 3, \"GENDER_DENOTING\": \"Male\", \"MINORITY_DENOTING\": \"White\", \"JOBCAT_DENOTING\": \"Management\", \"SOCIODEMOGRAPHY\": 1, \"SOCIODEMOGRAPHY_DENOTING\": \"White_Male\"}, {\"SALARY\": 21300, \"EDUC\": 8, \"SALBEGIN\": 11550, \"GENDER\": 1, \"MINORITY\": 0, \"JOBCAT\": 1, \"GENDER_DENOTING\": \"Male\", \"MINORITY_DENOTING\": \"White\", \"JOBCAT_DENOTING\": \"Administration\", \"SOCIODEMOGRAPHY\": 1, \"SOCIODEMOGRAPHY_DENOTING\": \"White_Male\"}, {\"SALARY\": 19650, \"EDUC\": 12, \"SALBEGIN\": 11250, \"GENDER\": 0, \"MINORITY\": 0, \"JOBCAT\": 1, \"GENDER_DENOTING\": \"Female\", \"MINORITY_DENOTING\": \"White\", \"JOBCAT_DENOTING\": \"Administration\", \"SOCIODEMOGRAPHY\": 0, \"SOCIODEMOGRAPHY_DENOTING\": \"White_Female\"}, {\"SALARY\": 22350, \"EDUC\": 12, \"SALBEGIN\": 11250, \"GENDER\": 0, \"MINORITY\": 0, \"JOBCAT\": 1, \"GENDER_DENOTING\": \"Female\", \"MINORITY_DENOTING\": \"White\", \"JOBCAT_DENOTING\": \"Administration\", \"SOCIODEMOGRAPHY\": 0, \"SOCIODEMOGRAPHY_DENOTING\": \"White_Female\"}, {\"SALARY\": 23400, \"EDUC\": 12, \"SALBEGIN\": 11250, \"GENDER\": 0, \"MINORITY\": 0, \"JOBCAT\": 1, \"GENDER_DENOTING\": \"Female\", \"MINORITY_DENOTING\": \"White\", \"JOBCAT_DENOTING\": \"Administration\", \"SOCIODEMOGRAPHY\": 0, \"SOCIODEMOGRAPHY_DENOTING\": \"White_Female\"}, {\"SALARY\": 24300, \"EDUC\": 12, \"SALBEGIN\": 10950, \"GENDER\": 0, \"MINORITY\": 0, \"JOBCAT\": 1, \"GENDER_DENOTING\": \"Female\", \"MINORITY_DENOTING\": \"White\", \"JOBCAT_DENOTING\": \"Administration\", \"SOCIODEMOGRAPHY\": 0, \"SOCIODEMOGRAPHY_DENOTING\": \"White_Female\"}, {\"SALARY\": 28500, \"EDUC\": 12, \"SALBEGIN\": 11250, \"GENDER\": 0, \"MINORITY\": 0, \"JOBCAT\": 1, \"GENDER_DENOTING\": \"Female\", \"MINORITY_DENOTING\": \"White\", \"JOBCAT_DENOTING\": \"Administration\", \"SOCIODEMOGRAPHY\": 0, \"SOCIODEMOGRAPHY_DENOTING\": \"White_Female\"}, {\"SALARY\": 19950, \"EDUC\": 12, \"SALBEGIN\": 11250, \"GENDER\": 0, \"MINORITY\": 0, \"JOBCAT\": 1, \"GENDER_DENOTING\": \"Female\", \"MINORITY_DENOTING\": \"White\", \"JOBCAT_DENOTING\": \"Administration\", \"SOCIODEMOGRAPHY\": 0, \"SOCIODEMOGRAPHY_DENOTING\": \"White_Female\"}, {\"SALARY\": 23400, \"EDUC\": 12, \"SALBEGIN\": 11250, \"GENDER\": 0, \"MINORITY\": 0, \"JOBCAT\": 1, \"GENDER_DENOTING\": \"Female\", \"MINORITY_DENOTING\": \"White\", \"JOBCAT_DENOTING\": \"Administration\", \"SOCIODEMOGRAPHY\": 0, \"SOCIODEMOGRAPHY_DENOTING\": \"White_Female\"}, {\"SALARY\": 34500, \"EDUC\": 16, \"SALBEGIN\": 17250, \"GENDER\": 0, \"MINORITY\": 0, \"JOBCAT\": 1, \"GENDER_DENOTING\": \"Female\", \"MINORITY_DENOTING\": \"White\", \"JOBCAT_DENOTING\": \"Administration\", \"SOCIODEMOGRAPHY\": 0, \"SOCIODEMOGRAPHY_DENOTING\": \"White_Female\"}, {\"SALARY\": 18150, \"EDUC\": 12, \"SALBEGIN\": 10950, \"GENDER\": 0, \"MINORITY\": 0, \"JOBCAT\": 1, \"GENDER_DENOTING\": \"Female\", \"MINORITY_DENOTING\": \"White\", \"JOBCAT_DENOTING\": \"Administration\", \"SOCIODEMOGRAPHY\": 0, \"SOCIODEMOGRAPHY_DENOTING\": \"White_Female\"}, {\"SALARY\": 22350, \"EDUC\": 12, \"SALBEGIN\": 15000, \"GENDER\": 1, \"MINORITY\": 1, \"JOBCAT\": 1, \"GENDER_DENOTING\": \"Male\", \"MINORITY_DENOTING\": \"Minority\", \"JOBCAT_DENOTING\": \"Administration\", \"SOCIODEMOGRAPHY\": 3, \"SOCIODEMOGRAPHY_DENOTING\": \"Minority_Male\"}, {\"SALARY\": 40200, \"EDUC\": 15, \"SALBEGIN\": 17250, \"GENDER\": 1, \"MINORITY\": 0, \"JOBCAT\": 1, \"GENDER_DENOTING\": \"Male\", \"MINORITY_DENOTING\": \"White\", \"JOBCAT_DENOTING\": \"Administration\", \"SOCIODEMOGRAPHY\": 1, \"SOCIODEMOGRAPHY_DENOTING\": \"White_Male\"}, {\"SALARY\": 28650, \"EDUC\": 15, \"SALBEGIN\": 18000, \"GENDER\": 1, \"MINORITY\": 0, \"JOBCAT\": 1, \"GENDER_DENOTING\": \"Male\", \"MINORITY_DENOTING\": \"White\", \"JOBCAT_DENOTING\": \"Administration\", \"SOCIODEMOGRAPHY\": 1, \"SOCIODEMOGRAPHY_DENOTING\": \"White_Male\"}, {\"SALARY\": 27750, \"EDUC\": 15, \"SALBEGIN\": 16500, \"GENDER\": 1, \"MINORITY\": 0, \"JOBCAT\": 1, \"GENDER_DENOTING\": \"Male\", \"MINORITY_DENOTING\": \"White\", \"JOBCAT_DENOTING\": \"Administration\", \"SOCIODEMOGRAPHY\": 1, \"SOCIODEMOGRAPHY_DENOTING\": \"White_Male\"}, {\"SALARY\": 66875, \"EDUC\": 18, \"SALBEGIN\": 31980, \"GENDER\": 1, \"MINORITY\": 0, \"JOBCAT\": 1, \"GENDER_DENOTING\": \"Male\", \"MINORITY_DENOTING\": \"White\", \"JOBCAT_DENOTING\": \"Administration\", \"SOCIODEMOGRAPHY\": 1, \"SOCIODEMOGRAPHY_DENOTING\": \"White_Male\"}, {\"SALARY\": 30000, \"EDUC\": 12, \"SALBEGIN\": 15750, \"GENDER\": 1, \"MINORITY\": 0, \"JOBCAT\": 2, \"GENDER_DENOTING\": \"Male\", \"MINORITY_DENOTING\": \"White\", \"JOBCAT_DENOTING\": \"Custody\", \"SOCIODEMOGRAPHY\": 1, \"SOCIODEMOGRAPHY_DENOTING\": \"White_Male\"}, {\"SALARY\": 83750, \"EDUC\": 16, \"SALBEGIN\": 21750, \"GENDER\": 1, \"MINORITY\": 0, \"JOBCAT\": 3, \"GENDER_DENOTING\": \"Male\", \"MINORITY_DENOTING\": \"White\", \"JOBCAT_DENOTING\": \"Management\", \"SOCIODEMOGRAPHY\": 1, \"SOCIODEMOGRAPHY_DENOTING\": \"White_Male\"}, {\"SALARY\": 33900, \"EDUC\": 12, \"SALBEGIN\": 16500, \"GENDER\": 1, \"MINORITY\": 0, \"JOBCAT\": 1, \"GENDER_DENOTING\": \"Male\", \"MINORITY_DENOTING\": \"White\", \"JOBCAT_DENOTING\": \"Administration\", \"SOCIODEMOGRAPHY\": 1, \"SOCIODEMOGRAPHY_DENOTING\": \"White_Male\"}, {\"SALARY\": 56500, \"EDUC\": 16, \"SALBEGIN\": 21000, \"GENDER\": 1, \"MINORITY\": 0, \"JOBCAT\": 3, \"GENDER_DENOTING\": \"Male\", \"MINORITY_DENOTING\": \"White\", \"JOBCAT_DENOTING\": \"Management\", \"SOCIODEMOGRAPHY\": 1, \"SOCIODEMOGRAPHY_DENOTING\": \"White_Male\"}, {\"SALARY\": 43000, \"EDUC\": 16, \"SALBEGIN\": 17490, \"GENDER\": 0, \"MINORITY\": 0, \"JOBCAT\": 3, \"GENDER_DENOTING\": \"Female\", \"MINORITY_DENOTING\": \"White\", \"JOBCAT_DENOTING\": \"Management\", \"SOCIODEMOGRAPHY\": 0, \"SOCIODEMOGRAPHY_DENOTING\": \"White_Female\"}, {\"SALARY\": 20850, \"EDUC\": 8, \"SALBEGIN\": 12000, \"GENDER\": 0, \"MINORITY\": 0, \"JOBCAT\": 1, \"GENDER_DENOTING\": \"Female\", \"MINORITY_DENOTING\": \"White\", \"JOBCAT_DENOTING\": \"Administration\", \"SOCIODEMOGRAPHY\": 0, \"SOCIODEMOGRAPHY_DENOTING\": \"White_Female\"}, {\"SALARY\": 24450, \"EDUC\": 12, \"SALBEGIN\": 12000, \"GENDER\": 0, \"MINORITY\": 0, \"JOBCAT\": 1, \"GENDER_DENOTING\": \"Female\", \"MINORITY_DENOTING\": \"White\", \"JOBCAT_DENOTING\": \"Administration\", \"SOCIODEMOGRAPHY\": 0, \"SOCIODEMOGRAPHY_DENOTING\": \"White_Female\"}, {\"SALARY\": 24750, \"EDUC\": 12, \"SALBEGIN\": 10950, \"GENDER\": 0, \"MINORITY\": 0, \"JOBCAT\": 1, \"GENDER_DENOTING\": \"Female\", \"MINORITY_DENOTING\": \"White\", \"JOBCAT_DENOTING\": \"Administration\", \"SOCIODEMOGRAPHY\": 0, \"SOCIODEMOGRAPHY_DENOTING\": \"White_Female\"}, {\"SALARY\": 34500, \"EDUC\": 8, \"SALBEGIN\": 15750, \"GENDER\": 1, \"MINORITY\": 1, \"JOBCAT\": 2, \"GENDER_DENOTING\": \"Male\", \"MINORITY_DENOTING\": \"Minority\", \"JOBCAT_DENOTING\": \"Custody\", \"SOCIODEMOGRAPHY\": 3, \"SOCIODEMOGRAPHY_DENOTING\": \"Minority_Male\"}, {\"SALARY\": 27900, \"EDUC\": 14, \"SALBEGIN\": 15000, \"GENDER\": 1, \"MINORITY\": 1, \"JOBCAT\": 1, \"GENDER_DENOTING\": \"Male\", \"MINORITY_DENOTING\": \"Minority\", \"JOBCAT_DENOTING\": \"Administration\", \"SOCIODEMOGRAPHY\": 3, \"SOCIODEMOGRAPHY_DENOTING\": \"Minority_Male\"}, {\"SALARY\": 68125, \"EDUC\": 19, \"SALBEGIN\": 32010, \"GENDER\": 1, \"MINORITY\": 0, \"JOBCAT\": 3, \"GENDER_DENOTING\": \"Male\", \"MINORITY_DENOTING\": \"White\", \"JOBCAT_DENOTING\": \"Management\", \"SOCIODEMOGRAPHY\": 1, \"SOCIODEMOGRAPHY_DENOTING\": \"White_Male\"}, {\"SALARY\": 73500, \"EDUC\": 19, \"SALBEGIN\": 33000, \"GENDER\": 1, \"MINORITY\": 0, \"JOBCAT\": 3, \"GENDER_DENOTING\": \"Male\", \"MINORITY_DENOTING\": \"White\", \"JOBCAT_DENOTING\": \"Management\", \"SOCIODEMOGRAPHY\": 1, \"SOCIODEMOGRAPHY_DENOTING\": \"White_Male\"}, {\"SALARY\": 30750, \"EDUC\": 8, \"SALBEGIN\": 15750, \"GENDER\": 1, \"MINORITY\": 0, \"JOBCAT\": 2, \"GENDER_DENOTING\": \"Male\", \"MINORITY_DENOTING\": \"White\", \"JOBCAT_DENOTING\": \"Custody\", \"SOCIODEMOGRAPHY\": 1, \"SOCIODEMOGRAPHY_DENOTING\": \"White_Male\"}, {\"SALARY\": 40050, \"EDUC\": 15, \"SALBEGIN\": 25500, \"GENDER\": 1, \"MINORITY\": 0, \"JOBCAT\": 3, \"GENDER_DENOTING\": \"Male\", \"MINORITY_DENOTING\": \"White\", \"JOBCAT_DENOTING\": \"Management\", \"SOCIODEMOGRAPHY\": 1, \"SOCIODEMOGRAPHY_DENOTING\": \"White_Male\"}, {\"SALARY\": 40350, \"EDUC\": 16, \"SALBEGIN\": 19500, \"GENDER\": 1, \"MINORITY\": 0, \"JOBCAT\": 1, \"GENDER_DENOTING\": \"Male\", \"MINORITY_DENOTING\": \"White\", \"JOBCAT_DENOTING\": \"Administration\", \"SOCIODEMOGRAPHY\": 1, \"SOCIODEMOGRAPHY_DENOTING\": \"White_Male\"}, {\"SALARY\": 38700, \"EDUC\": 15, \"SALBEGIN\": 23730, \"GENDER\": 1, \"MINORITY\": 0, \"JOBCAT\": 3, \"GENDER_DENOTING\": \"Male\", \"MINORITY_DENOTING\": \"White\", \"JOBCAT_DENOTING\": \"Management\", \"SOCIODEMOGRAPHY\": 1, \"SOCIODEMOGRAPHY_DENOTING\": \"White_Male\"}, {\"SALARY\": 65000, \"EDUC\": 17, \"SALBEGIN\": 30750, \"GENDER\": 1, \"MINORITY\": 0, \"JOBCAT\": 3, \"GENDER_DENOTING\": \"Male\", \"MINORITY_DENOTING\": \"White\", \"JOBCAT_DENOTING\": \"Management\", \"SOCIODEMOGRAPHY\": 1, \"SOCIODEMOGRAPHY_DENOTING\": \"White_Male\"}, {\"SALARY\": 51450, \"EDUC\": 18, \"SALBEGIN\": 36240, \"GENDER\": 1, \"MINORITY\": 0, \"JOBCAT\": 3, \"GENDER_DENOTING\": \"Male\", \"MINORITY_DENOTING\": \"White\", \"JOBCAT_DENOTING\": \"Management\", \"SOCIODEMOGRAPHY\": 1, \"SOCIODEMOGRAPHY_DENOTING\": \"White_Male\"}, {\"SALARY\": 35250, \"EDUC\": 12, \"SALBEGIN\": 15750, \"GENDER\": 1, \"MINORITY\": 0, \"JOBCAT\": 2, \"GENDER_DENOTING\": \"Male\", \"MINORITY_DENOTING\": \"White\", \"JOBCAT_DENOTING\": \"Custody\", \"SOCIODEMOGRAPHY\": 1, \"SOCIODEMOGRAPHY_DENOTING\": \"White_Male\"}, {\"SALARY\": 25950, \"EDUC\": 14, \"SALBEGIN\": 15000, \"GENDER\": 1, \"MINORITY\": 0, \"JOBCAT\": 1, \"GENDER_DENOTING\": \"Male\", \"MINORITY_DENOTING\": \"White\", \"JOBCAT_DENOTING\": \"Administration\", \"SOCIODEMOGRAPHY\": 1, \"SOCIODEMOGRAPHY_DENOTING\": \"White_Male\"}, {\"SALARY\": 25050, \"EDUC\": 15, \"SALBEGIN\": 14250, \"GENDER\": 1, \"MINORITY\": 0, \"JOBCAT\": 1, \"GENDER_DENOTING\": \"Male\", \"MINORITY_DENOTING\": \"White\", \"JOBCAT_DENOTING\": \"Administration\", \"SOCIODEMOGRAPHY\": 1, \"SOCIODEMOGRAPHY_DENOTING\": \"White_Male\"}, {\"SALARY\": 26700, \"EDUC\": 12, \"SALBEGIN\": 12750, \"GENDER\": 1, \"MINORITY\": 0, \"JOBCAT\": 1, \"GENDER_DENOTING\": \"Male\", \"MINORITY_DENOTING\": \"White\", \"JOBCAT_DENOTING\": \"Administration\", \"SOCIODEMOGRAPHY\": 1, \"SOCIODEMOGRAPHY_DENOTING\": \"White_Male\"}, {\"SALARY\": 24000, \"EDUC\": 8, \"SALBEGIN\": 15750, \"GENDER\": 1, \"MINORITY\": 0, \"JOBCAT\": 1, \"GENDER_DENOTING\": \"Male\", \"MINORITY_DENOTING\": \"White\", \"JOBCAT_DENOTING\": \"Administration\", \"SOCIODEMOGRAPHY\": 1, \"SOCIODEMOGRAPHY_DENOTING\": \"White_Male\"}, {\"SALARY\": 26850, \"EDUC\": 12, \"SALBEGIN\": 15000, \"GENDER\": 1, \"MINORITY\": 0, \"JOBCAT\": 1, \"GENDER_DENOTING\": \"Male\", \"MINORITY_DENOTING\": \"White\", \"JOBCAT_DENOTING\": \"Administration\", \"SOCIODEMOGRAPHY\": 1, \"SOCIODEMOGRAPHY_DENOTING\": \"White_Male\"}, {\"SALARY\": 23400, \"EDUC\": 12, \"SALBEGIN\": 15300, \"GENDER\": 0, \"MINORITY\": 0, \"JOBCAT\": 1, \"GENDER_DENOTING\": \"Female\", \"MINORITY_DENOTING\": \"White\", \"JOBCAT_DENOTING\": \"Administration\", \"SOCIODEMOGRAPHY\": 0, \"SOCIODEMOGRAPHY_DENOTING\": \"White_Female\"}, {\"SALARY\": 24600, \"EDUC\": 12, \"SALBEGIN\": 13500, \"GENDER\": 0, \"MINORITY\": 0, \"JOBCAT\": 1, \"GENDER_DENOTING\": \"Female\", \"MINORITY_DENOTING\": \"White\", \"JOBCAT_DENOTING\": \"Administration\", \"SOCIODEMOGRAPHY\": 0, \"SOCIODEMOGRAPHY_DENOTING\": \"White_Female\"}, {\"SALARY\": 32550, \"EDUC\": 15, \"SALBEGIN\": 18000, \"GENDER\": 0, \"MINORITY\": 0, \"JOBCAT\": 1, \"GENDER_DENOTING\": \"Female\", \"MINORITY_DENOTING\": \"White\", \"JOBCAT_DENOTING\": \"Administration\", \"SOCIODEMOGRAPHY\": 0, \"SOCIODEMOGRAPHY_DENOTING\": \"White_Female\"}, {\"SALARY\": 26550, \"EDUC\": 16, \"SALBEGIN\": 15000, \"GENDER\": 1, \"MINORITY\": 1, \"JOBCAT\": 1, \"GENDER_DENOTING\": \"Male\", \"MINORITY_DENOTING\": \"Minority\", \"JOBCAT_DENOTING\": \"Administration\", \"SOCIODEMOGRAPHY\": 3, \"SOCIODEMOGRAPHY_DENOTING\": \"Minority_Male\"}, {\"SALARY\": 31500, \"EDUC\": 12, \"SALBEGIN\": 13500, \"GENDER\": 1, \"MINORITY\": 1, \"JOBCAT\": 1, \"GENDER_DENOTING\": \"Male\", \"MINORITY_DENOTING\": \"Minority\", \"JOBCAT_DENOTING\": \"Administration\", \"SOCIODEMOGRAPHY\": 3, \"SOCIODEMOGRAPHY_DENOTING\": \"Minority_Male\"}, {\"SALARY\": 22350, \"EDUC\": 8, \"SALBEGIN\": 15000, \"GENDER\": 1, \"MINORITY\": 1, \"JOBCAT\": 1, \"GENDER_DENOTING\": \"Male\", \"MINORITY_DENOTING\": \"Minority\", \"JOBCAT_DENOTING\": \"Administration\", \"SOCIODEMOGRAPHY\": 3, \"SOCIODEMOGRAPHY_DENOTING\": \"Minority_Male\"}, {\"SALARY\": 35250, \"EDUC\": 12, \"SALBEGIN\": 15750, \"GENDER\": 1, \"MINORITY\": 1, \"JOBCAT\": 2, \"GENDER_DENOTING\": \"Male\", \"MINORITY_DENOTING\": \"Minority\", \"JOBCAT_DENOTING\": \"Custody\", \"SOCIODEMOGRAPHY\": 3, \"SOCIODEMOGRAPHY_DENOTING\": \"Minority_Male\"}, {\"SALARY\": 25800, \"EDUC\": 15, \"SALBEGIN\": 13500, \"GENDER\": 0, \"MINORITY\": 1, \"JOBCAT\": 1, \"GENDER_DENOTING\": \"Female\", \"MINORITY_DENOTING\": \"Minority\", \"JOBCAT_DENOTING\": \"Administration\", \"SOCIODEMOGRAPHY\": 2, \"SOCIODEMOGRAPHY_DENOTING\": \"Minority_Female\"}, {\"SALARY\": 30750, \"EDUC\": 12, \"SALBEGIN\": 15750, \"GENDER\": 1, \"MINORITY\": 0, \"JOBCAT\": 2, \"GENDER_DENOTING\": \"Male\", \"MINORITY_DENOTING\": \"White\", \"JOBCAT_DENOTING\": \"Custody\", \"SOCIODEMOGRAPHY\": 1, \"SOCIODEMOGRAPHY_DENOTING\": \"White_Male\"}, {\"SALARY\": 30750, \"EDUC\": 15, \"SALBEGIN\": 16500, \"GENDER\": 1, \"MINORITY\": 0, \"JOBCAT\": 1, \"GENDER_DENOTING\": \"Male\", \"MINORITY_DENOTING\": \"White\", \"JOBCAT_DENOTING\": \"Administration\", \"SOCIODEMOGRAPHY\": 1, \"SOCIODEMOGRAPHY_DENOTING\": \"White_Male\"}, {\"SALARY\": 50000, \"EDUC\": 16, \"SALBEGIN\": 32490, \"GENDER\": 1, \"MINORITY\": 0, \"JOBCAT\": 3, \"GENDER_DENOTING\": \"Male\", \"MINORITY_DENOTING\": \"White\", \"JOBCAT_DENOTING\": \"Management\", \"SOCIODEMOGRAPHY\": 1, \"SOCIODEMOGRAPHY_DENOTING\": \"White_Male\"}, {\"SALARY\": 34500, \"EDUC\": 15, \"SALBEGIN\": 18000, \"GENDER\": 1, \"MINORITY\": 0, \"JOBCAT\": 1, \"GENDER_DENOTING\": \"Male\", \"MINORITY_DENOTING\": \"White\", \"JOBCAT_DENOTING\": \"Administration\", \"SOCIODEMOGRAPHY\": 1, \"SOCIODEMOGRAPHY_DENOTING\": \"White_Male\"}, {\"SALARY\": 26250, \"EDUC\": 15, \"SALBEGIN\": 15750, \"GENDER\": 1, \"MINORITY\": 0, \"JOBCAT\": 1, \"GENDER_DENOTING\": \"Male\", \"MINORITY_DENOTING\": \"White\", \"JOBCAT_DENOTING\": \"Administration\", \"SOCIODEMOGRAPHY\": 1, \"SOCIODEMOGRAPHY_DENOTING\": \"White_Male\"}, {\"SALARY\": 44875, \"EDUC\": 16, \"SALBEGIN\": 21240, \"GENDER\": 1, \"MINORITY\": 0, \"JOBCAT\": 1, \"GENDER_DENOTING\": \"Male\", \"MINORITY_DENOTING\": \"White\", \"JOBCAT_DENOTING\": \"Administration\", \"SOCIODEMOGRAPHY\": 1, \"SOCIODEMOGRAPHY_DENOTING\": \"White_Male\"}, {\"SALARY\": 22500, \"EDUC\": 12, \"SALBEGIN\": 12000, \"GENDER\": 0, \"MINORITY\": 0, \"JOBCAT\": 1, \"GENDER_DENOTING\": \"Female\", \"MINORITY_DENOTING\": \"White\", \"JOBCAT_DENOTING\": \"Administration\", \"SOCIODEMOGRAPHY\": 0, \"SOCIODEMOGRAPHY_DENOTING\": \"White_Female\"}, {\"SALARY\": 25650, \"EDUC\": 12, \"SALBEGIN\": 14250, \"GENDER\": 0, \"MINORITY\": 0, \"JOBCAT\": 1, \"GENDER_DENOTING\": \"Female\", \"MINORITY_DENOTING\": \"White\", \"JOBCAT_DENOTING\": \"Administration\", \"SOCIODEMOGRAPHY\": 0, \"SOCIODEMOGRAPHY_DENOTING\": \"White_Female\"}, {\"SALARY\": 21300, \"EDUC\": 12, \"SALBEGIN\": 11250, \"GENDER\": 0, \"MINORITY\": 0, \"JOBCAT\": 1, \"GENDER_DENOTING\": \"Female\", \"MINORITY_DENOTING\": \"White\", \"JOBCAT_DENOTING\": \"Administration\", \"SOCIODEMOGRAPHY\": 0, \"SOCIODEMOGRAPHY_DENOTING\": \"White_Female\"}, {\"SALARY\": 29850, \"EDUC\": 12, \"SALBEGIN\": 13500, \"GENDER\": 0, \"MINORITY\": 0, \"JOBCAT\": 1, \"GENDER_DENOTING\": \"Female\", \"MINORITY_DENOTING\": \"White\", \"JOBCAT_DENOTING\": \"Administration\", \"SOCIODEMOGRAPHY\": 0, \"SOCIODEMOGRAPHY_DENOTING\": \"White_Female\"}, {\"SALARY\": 34500, \"EDUC\": 12, \"SALBEGIN\": 12150, \"GENDER\": 0, \"MINORITY\": 0, \"JOBCAT\": 1, \"GENDER_DENOTING\": \"Female\", \"MINORITY_DENOTING\": \"White\", \"JOBCAT_DENOTING\": \"Administration\", \"SOCIODEMOGRAPHY\": 0, \"SOCIODEMOGRAPHY_DENOTING\": \"White_Female\"}, {\"SALARY\": 27750, \"EDUC\": 15, \"SALBEGIN\": 15000, \"GENDER\": 1, \"MINORITY\": 1, \"JOBCAT\": 1, \"GENDER_DENOTING\": \"Male\", \"MINORITY_DENOTING\": \"Minority\", \"JOBCAT_DENOTING\": \"Administration\", \"SOCIODEMOGRAPHY\": 3, \"SOCIODEMOGRAPHY_DENOTING\": \"Minority_Male\"}, {\"SALARY\": 27750, \"EDUC\": 12, \"SALBEGIN\": 11550, \"GENDER\": 1, \"MINORITY\": 1, \"JOBCAT\": 1, \"GENDER_DENOTING\": \"Male\", \"MINORITY_DENOTING\": \"Minority\", \"JOBCAT_DENOTING\": \"Administration\", \"SOCIODEMOGRAPHY\": 3, \"SOCIODEMOGRAPHY_DENOTING\": \"Minority_Male\"}, {\"SALARY\": 48750, \"EDUC\": 16, \"SALBEGIN\": 21990, \"GENDER\": 1, \"MINORITY\": 0, \"JOBCAT\": 3, \"GENDER_DENOTING\": \"Male\", \"MINORITY_DENOTING\": \"White\", \"JOBCAT_DENOTING\": \"Management\", \"SOCIODEMOGRAPHY\": 1, \"SOCIODEMOGRAPHY_DENOTING\": \"White_Male\"}, {\"SALARY\": 43410, \"EDUC\": 15, \"SALBEGIN\": 15750, \"GENDER\": 1, \"MINORITY\": 0, \"JOBCAT\": 1, \"GENDER_DENOTING\": \"Male\", \"MINORITY_DENOTING\": \"White\", \"JOBCAT_DENOTING\": \"Administration\", \"SOCIODEMOGRAPHY\": 1, \"SOCIODEMOGRAPHY_DENOTING\": \"White_Male\"}, {\"SALARY\": 22050, \"EDUC\": 12, \"SALBEGIN\": 15000, \"GENDER\": 1, \"MINORITY\": 0, \"JOBCAT\": 1, \"GENDER_DENOTING\": \"Male\", \"MINORITY_DENOTING\": \"White\", \"JOBCAT_DENOTING\": \"Administration\", \"SOCIODEMOGRAPHY\": 1, \"SOCIODEMOGRAPHY_DENOTING\": \"White_Male\"}, {\"SALARY\": 22050, \"EDUC\": 12, \"SALBEGIN\": 12000, \"GENDER\": 0, \"MINORITY\": 0, \"JOBCAT\": 1, \"GENDER_DENOTING\": \"Female\", \"MINORITY_DENOTING\": \"White\", \"JOBCAT_DENOTING\": \"Administration\", \"SOCIODEMOGRAPHY\": 0, \"SOCIODEMOGRAPHY_DENOTING\": \"White_Female\"}, {\"SALARY\": 22500, \"EDUC\": 12, \"SALBEGIN\": 14250, \"GENDER\": 0, \"MINORITY\": 0, \"JOBCAT\": 1, \"GENDER_DENOTING\": \"Female\", \"MINORITY_DENOTING\": \"White\", \"JOBCAT_DENOTING\": \"Administration\", \"SOCIODEMOGRAPHY\": 0, \"SOCIODEMOGRAPHY_DENOTING\": \"White_Female\"}, {\"SALARY\": 25500, \"EDUC\": 15, \"SALBEGIN\": 12000, \"GENDER\": 0, \"MINORITY\": 0, \"JOBCAT\": 1, \"GENDER_DENOTING\": \"Female\", \"MINORITY_DENOTING\": \"White\", \"JOBCAT_DENOTING\": \"Administration\", \"SOCIODEMOGRAPHY\": 0, \"SOCIODEMOGRAPHY_DENOTING\": \"White_Female\"}, {\"SALARY\": 29160, \"EDUC\": 12, \"SALBEGIN\": 15000, \"GENDER\": 0, \"MINORITY\": 0, \"JOBCAT\": 1, \"GENDER_DENOTING\": \"Female\", \"MINORITY_DENOTING\": \"White\", \"JOBCAT_DENOTING\": \"Administration\", \"SOCIODEMOGRAPHY\": 0, \"SOCIODEMOGRAPHY_DENOTING\": \"White_Female\"}, {\"SALARY\": 16800, \"EDUC\": 8, \"SALBEGIN\": 10200, \"GENDER\": 0, \"MINORITY\": 0, \"JOBCAT\": 1, \"GENDER_DENOTING\": \"Female\", \"MINORITY_DENOTING\": \"White\", \"JOBCAT_DENOTING\": \"Administration\", \"SOCIODEMOGRAPHY\": 0, \"SOCIODEMOGRAPHY_DENOTING\": \"White_Female\"}, {\"SALARY\": 29550, \"EDUC\": 8, \"SALBEGIN\": 15750, \"GENDER\": 1, \"MINORITY\": 1, \"JOBCAT\": 2, \"GENDER_DENOTING\": \"Male\", \"MINORITY_DENOTING\": \"Minority\", \"JOBCAT_DENOTING\": \"Custody\", \"SOCIODEMOGRAPHY\": 3, \"SOCIODEMOGRAPHY_DENOTING\": \"Minority_Male\"}, {\"SALARY\": 26700, \"EDUC\": 12, \"SALBEGIN\": 15750, \"GENDER\": 1, \"MINORITY\": 1, \"JOBCAT\": 1, \"GENDER_DENOTING\": \"Male\", \"MINORITY_DENOTING\": \"Minority\", \"JOBCAT_DENOTING\": \"Administration\", \"SOCIODEMOGRAPHY\": 3, \"SOCIODEMOGRAPHY_DENOTING\": \"Minority_Male\"}, {\"SALARY\": 55000, \"EDUC\": 18, \"SALBEGIN\": 32490, \"GENDER\": 1, \"MINORITY\": 0, \"JOBCAT\": 3, \"GENDER_DENOTING\": \"Male\", \"MINORITY_DENOTING\": \"White\", \"JOBCAT_DENOTING\": \"Management\", \"SOCIODEMOGRAPHY\": 1, \"SOCIODEMOGRAPHY_DENOTING\": \"White_Male\"}, {\"SALARY\": 62500, \"EDUC\": 18, \"SALBEGIN\": 34980, \"GENDER\": 1, \"MINORITY\": 0, \"JOBCAT\": 3, \"GENDER_DENOTING\": \"Male\", \"MINORITY_DENOTING\": \"White\", \"JOBCAT_DENOTING\": \"Management\", \"SOCIODEMOGRAPHY\": 1, \"SOCIODEMOGRAPHY_DENOTING\": \"White_Male\"}, {\"SALARY\": 27300, \"EDUC\": 15, \"SALBEGIN\": 17250, \"GENDER\": 1, \"MINORITY\": 0, \"JOBCAT\": 1, \"GENDER_DENOTING\": \"Male\", \"MINORITY_DENOTING\": \"White\", \"JOBCAT_DENOTING\": \"Administration\", \"SOCIODEMOGRAPHY\": 1, \"SOCIODEMOGRAPHY_DENOTING\": \"White_Male\"}, {\"SALARY\": 24450, \"EDUC\": 12, \"SALBEGIN\": 12000, \"GENDER\": 0, \"MINORITY\": 0, \"JOBCAT\": 1, \"GENDER_DENOTING\": \"Female\", \"MINORITY_DENOTING\": \"White\", \"JOBCAT_DENOTING\": \"Administration\", \"SOCIODEMOGRAPHY\": 0, \"SOCIODEMOGRAPHY_DENOTING\": \"White_Female\"}, {\"SALARY\": 33000, \"EDUC\": 16, \"SALBEGIN\": 18000, \"GENDER\": 0, \"MINORITY\": 0, \"JOBCAT\": 1, \"GENDER_DENOTING\": \"Female\", \"MINORITY_DENOTING\": \"White\", \"JOBCAT_DENOTING\": \"Administration\", \"SOCIODEMOGRAPHY\": 0, \"SOCIODEMOGRAPHY_DENOTING\": \"White_Female\"}, {\"SALARY\": 37050, \"EDUC\": 15, \"SALBEGIN\": 18000, \"GENDER\": 0, \"MINORITY\": 0, \"JOBCAT\": 1, \"GENDER_DENOTING\": \"Female\", \"MINORITY_DENOTING\": \"White\", \"JOBCAT_DENOTING\": \"Administration\", \"SOCIODEMOGRAPHY\": 0, \"SOCIODEMOGRAPHY_DENOTING\": \"White_Female\"}, {\"SALARY\": 24450, \"EDUC\": 12, \"SALBEGIN\": 10950, \"GENDER\": 0, \"MINORITY\": 1, \"JOBCAT\": 1, \"GENDER_DENOTING\": \"Female\", \"MINORITY_DENOTING\": \"Minority\", \"JOBCAT_DENOTING\": \"Administration\", \"SOCIODEMOGRAPHY\": 2, \"SOCIODEMOGRAPHY_DENOTING\": \"Minority_Female\"}, {\"SALARY\": 31950, \"EDUC\": 8, \"SALBEGIN\": 15750, \"GENDER\": 1, \"MINORITY\": 0, \"JOBCAT\": 2, \"GENDER_DENOTING\": \"Male\", \"MINORITY_DENOTING\": \"White\", \"JOBCAT_DENOTING\": \"Custody\", \"SOCIODEMOGRAPHY\": 1, \"SOCIODEMOGRAPHY_DENOTING\": \"White_Male\"}, {\"SALARY\": 47250, \"EDUC\": 16, \"SALBEGIN\": 21240, \"GENDER\": 1, \"MINORITY\": 0, \"JOBCAT\": 3, \"GENDER_DENOTING\": \"Male\", \"MINORITY_DENOTING\": \"White\", \"JOBCAT_DENOTING\": \"Management\", \"SOCIODEMOGRAPHY\": 1, \"SOCIODEMOGRAPHY_DENOTING\": \"White_Male\"}, {\"SALARY\": 26100, \"EDUC\": 12, \"SALBEGIN\": 11550, \"GENDER\": 0, \"MINORITY\": 0, \"JOBCAT\": 1, \"GENDER_DENOTING\": \"Female\", \"MINORITY_DENOTING\": \"White\", \"JOBCAT_DENOTING\": \"Administration\", \"SOCIODEMOGRAPHY\": 0, \"SOCIODEMOGRAPHY_DENOTING\": \"White_Female\"}, {\"SALARY\": 15900, \"EDUC\": 8, \"SALBEGIN\": 10200, \"GENDER\": 0, \"MINORITY\": 0, \"JOBCAT\": 1, \"GENDER_DENOTING\": \"Female\", \"MINORITY_DENOTING\": \"White\", \"JOBCAT_DENOTING\": \"Administration\", \"SOCIODEMOGRAPHY\": 0, \"SOCIODEMOGRAPHY_DENOTING\": \"White_Female\"}, {\"SALARY\": 23700, \"EDUC\": 8, \"SALBEGIN\": 10650, \"GENDER\": 0, \"MINORITY\": 0, \"JOBCAT\": 1, \"GENDER_DENOTING\": \"Female\", \"MINORITY_DENOTING\": \"White\", \"JOBCAT_DENOTING\": \"Administration\", \"SOCIODEMOGRAPHY\": 0, \"SOCIODEMOGRAPHY_DENOTING\": \"White_Female\"}, {\"SALARY\": 21750, \"EDUC\": 8, \"SALBEGIN\": 12450, \"GENDER\": 0, \"MINORITY\": 0, \"JOBCAT\": 1, \"GENDER_DENOTING\": \"Female\", \"MINORITY_DENOTING\": \"White\", \"JOBCAT_DENOTING\": \"Administration\", \"SOCIODEMOGRAPHY\": 0, \"SOCIODEMOGRAPHY_DENOTING\": \"White_Female\"}, {\"SALARY\": 59400, \"EDUC\": 12, \"SALBEGIN\": 33750, \"GENDER\": 1, \"MINORITY\": 1, \"JOBCAT\": 3, \"GENDER_DENOTING\": \"Male\", \"MINORITY_DENOTING\": \"Minority\", \"JOBCAT_DENOTING\": \"Management\", \"SOCIODEMOGRAPHY\": 3, \"SOCIODEMOGRAPHY_DENOTING\": \"Minority_Male\"}, {\"SALARY\": 24450, \"EDUC\": 12, \"SALBEGIN\": 14250, \"GENDER\": 0, \"MINORITY\": 1, \"JOBCAT\": 1, \"GENDER_DENOTING\": \"Female\", \"MINORITY_DENOTING\": \"Minority\", \"JOBCAT_DENOTING\": \"Administration\", \"SOCIODEMOGRAPHY\": 2, \"SOCIODEMOGRAPHY_DENOTING\": \"Minority_Female\"}, {\"SALARY\": 103500, \"EDUC\": 16, \"SALBEGIN\": 60000, \"GENDER\": 1, \"MINORITY\": 0, \"JOBCAT\": 3, \"GENDER_DENOTING\": \"Male\", \"MINORITY_DENOTING\": \"White\", \"JOBCAT_DENOTING\": \"Management\", \"SOCIODEMOGRAPHY\": 1, \"SOCIODEMOGRAPHY_DENOTING\": \"White_Male\"}, {\"SALARY\": 35700, \"EDUC\": 12, \"SALBEGIN\": 16500, \"GENDER\": 1, \"MINORITY\": 0, \"JOBCAT\": 1, \"GENDER_DENOTING\": \"Male\", \"MINORITY_DENOTING\": \"White\", \"JOBCAT_DENOTING\": \"Administration\", \"SOCIODEMOGRAPHY\": 1, \"SOCIODEMOGRAPHY_DENOTING\": \"White_Male\"}, {\"SALARY\": 22200, \"EDUC\": 12, \"SALBEGIN\": 16500, \"GENDER\": 0, \"MINORITY\": 0, \"JOBCAT\": 1, \"GENDER_DENOTING\": \"Female\", \"MINORITY_DENOTING\": \"White\", \"JOBCAT_DENOTING\": \"Administration\", \"SOCIODEMOGRAPHY\": 0, \"SOCIODEMOGRAPHY_DENOTING\": \"White_Female\"}, {\"SALARY\": 22950, \"EDUC\": 15, \"SALBEGIN\": 13950, \"GENDER\": 0, \"MINORITY\": 0, \"JOBCAT\": 1, \"GENDER_DENOTING\": \"Female\", \"MINORITY_DENOTING\": \"White\", \"JOBCAT_DENOTING\": \"Administration\", \"SOCIODEMOGRAPHY\": 0, \"SOCIODEMOGRAPHY_DENOTING\": \"White_Female\"}, {\"SALARY\": 23100, \"EDUC\": 12, \"SALBEGIN\": 12000, \"GENDER\": 0, \"MINORITY\": 0, \"JOBCAT\": 1, \"GENDER_DENOTING\": \"Female\", \"MINORITY_DENOTING\": \"White\", \"JOBCAT_DENOTING\": \"Administration\", \"SOCIODEMOGRAPHY\": 0, \"SOCIODEMOGRAPHY_DENOTING\": \"White_Female\"}, {\"SALARY\": 56750, \"EDUC\": 16, \"SALBEGIN\": 30000, \"GENDER\": 0, \"MINORITY\": 0, \"JOBCAT\": 3, \"GENDER_DENOTING\": \"Female\", \"MINORITY_DENOTING\": \"White\", \"JOBCAT_DENOTING\": \"Management\", \"SOCIODEMOGRAPHY\": 0, \"SOCIODEMOGRAPHY_DENOTING\": \"White_Female\"}, {\"SALARY\": 29100, \"EDUC\": 17, \"SALBEGIN\": 12750, \"GENDER\": 0, \"MINORITY\": 0, \"JOBCAT\": 1, \"GENDER_DENOTING\": \"Female\", \"MINORITY_DENOTING\": \"White\", \"JOBCAT_DENOTING\": \"Administration\", \"SOCIODEMOGRAPHY\": 0, \"SOCIODEMOGRAPHY_DENOTING\": \"White_Female\"}, {\"SALARY\": 37650, \"EDUC\": 12, \"SALBEGIN\": 15750, \"GENDER\": 0, \"MINORITY\": 0, \"JOBCAT\": 1, \"GENDER_DENOTING\": \"Female\", \"MINORITY_DENOTING\": \"White\", \"JOBCAT_DENOTING\": \"Administration\", \"SOCIODEMOGRAPHY\": 0, \"SOCIODEMOGRAPHY_DENOTING\": \"White_Female\"}, {\"SALARY\": 27900, \"EDUC\": 12, \"SALBEGIN\": 13500, \"GENDER\": 0, \"MINORITY\": 0, \"JOBCAT\": 1, \"GENDER_DENOTING\": \"Female\", \"MINORITY_DENOTING\": \"White\", \"JOBCAT_DENOTING\": \"Administration\", \"SOCIODEMOGRAPHY\": 0, \"SOCIODEMOGRAPHY_DENOTING\": \"White_Female\"}, {\"SALARY\": 21150, \"EDUC\": 8, \"SALBEGIN\": 12000, \"GENDER\": 0, \"MINORITY\": 0, \"JOBCAT\": 1, \"GENDER_DENOTING\": \"Female\", \"MINORITY_DENOTING\": \"White\", \"JOBCAT_DENOTING\": \"Administration\", \"SOCIODEMOGRAPHY\": 0, \"SOCIODEMOGRAPHY_DENOTING\": \"White_Female\"}, {\"SALARY\": 31200, \"EDUC\": 12, \"SALBEGIN\": 15750, \"GENDER\": 1, \"MINORITY\": 1, \"JOBCAT\": 2, \"GENDER_DENOTING\": \"Male\", \"MINORITY_DENOTING\": \"Minority\", \"JOBCAT_DENOTING\": \"Custody\", \"SOCIODEMOGRAPHY\": 3, \"SOCIODEMOGRAPHY_DENOTING\": \"Minority_Male\"}, {\"SALARY\": 20550, \"EDUC\": 12, \"SALBEGIN\": 11250, \"GENDER\": 0, \"MINORITY\": 1, \"JOBCAT\": 1, \"GENDER_DENOTING\": \"Female\", \"MINORITY_DENOTING\": \"Minority\", \"JOBCAT_DENOTING\": \"Administration\", \"SOCIODEMOGRAPHY\": 2, \"SOCIODEMOGRAPHY_DENOTING\": \"Minority_Female\"}, {\"SALARY\": 25950, \"EDUC\": 15, \"SALBEGIN\": 17250, \"GENDER\": 1, \"MINORITY\": 0, \"JOBCAT\": 1, \"GENDER_DENOTING\": \"Male\", \"MINORITY_DENOTING\": \"White\", \"JOBCAT_DENOTING\": \"Administration\", \"SOCIODEMOGRAPHY\": 1, \"SOCIODEMOGRAPHY_DENOTING\": \"White_Male\"}, {\"SALARY\": 28350, \"EDUC\": 15, \"SALBEGIN\": 15000, \"GENDER\": 1, \"MINORITY\": 0, \"JOBCAT\": 1, \"GENDER_DENOTING\": \"Male\", \"MINORITY_DENOTING\": \"White\", \"JOBCAT_DENOTING\": \"Administration\", \"SOCIODEMOGRAPHY\": 1, \"SOCIODEMOGRAPHY_DENOTING\": \"White_Male\"}, {\"SALARY\": 17700, \"EDUC\": 8, \"SALBEGIN\": 10200, \"GENDER\": 0, \"MINORITY\": 0, \"JOBCAT\": 1, \"GENDER_DENOTING\": \"Female\", \"MINORITY_DENOTING\": \"White\", \"JOBCAT_DENOTING\": \"Administration\", \"SOCIODEMOGRAPHY\": 0, \"SOCIODEMOGRAPHY_DENOTING\": \"White_Female\"}, {\"SALARY\": 23550, \"EDUC\": 15, \"SALBEGIN\": 13500, \"GENDER\": 0, \"MINORITY\": 0, \"JOBCAT\": 1, \"GENDER_DENOTING\": \"Female\", \"MINORITY_DENOTING\": \"White\", \"JOBCAT_DENOTING\": \"Administration\", \"SOCIODEMOGRAPHY\": 0, \"SOCIODEMOGRAPHY_DENOTING\": \"White_Female\"}, {\"SALARY\": 19950, \"EDUC\": 12, \"SALBEGIN\": 10200, \"GENDER\": 0, \"MINORITY\": 0, \"JOBCAT\": 1, \"GENDER_DENOTING\": \"Female\", \"MINORITY_DENOTING\": \"White\", \"JOBCAT_DENOTING\": \"Administration\", \"SOCIODEMOGRAPHY\": 0, \"SOCIODEMOGRAPHY_DENOTING\": \"White_Female\"}, {\"SALARY\": 29400, \"EDUC\": 12, \"SALBEGIN\": 15300, \"GENDER\": 0, \"MINORITY\": 0, \"JOBCAT\": 1, \"GENDER_DENOTING\": \"Female\", \"MINORITY_DENOTING\": \"White\", \"JOBCAT_DENOTING\": \"Administration\", \"SOCIODEMOGRAPHY\": 0, \"SOCIODEMOGRAPHY_DENOTING\": \"White_Female\"}, {\"SALARY\": 28800, \"EDUC\": 12, \"SALBEGIN\": 13950, \"GENDER\": 0, \"MINORITY\": 0, \"JOBCAT\": 1, \"GENDER_DENOTING\": \"Female\", \"MINORITY_DENOTING\": \"White\", \"JOBCAT_DENOTING\": \"Administration\", \"SOCIODEMOGRAPHY\": 0, \"SOCIODEMOGRAPHY_DENOTING\": \"White_Female\"}, {\"SALARY\": 16950, \"EDUC\": 8, \"SALBEGIN\": 10200, \"GENDER\": 0, \"MINORITY\": 0, \"JOBCAT\": 1, \"GENDER_DENOTING\": \"Female\", \"MINORITY_DENOTING\": \"White\", \"JOBCAT_DENOTING\": \"Administration\", \"SOCIODEMOGRAPHY\": 0, \"SOCIODEMOGRAPHY_DENOTING\": \"White_Female\"}, {\"SALARY\": 35700, \"EDUC\": 16, \"SALBEGIN\": 18000, \"GENDER\": 1, \"MINORITY\": 1, \"JOBCAT\": 1, \"GENDER_DENOTING\": \"Male\", \"MINORITY_DENOTING\": \"Minority\", \"JOBCAT_DENOTING\": \"Administration\", \"SOCIODEMOGRAPHY\": 3, \"SOCIODEMOGRAPHY_DENOTING\": \"Minority_Male\"}, {\"SALARY\": 17400, \"EDUC\": 12, \"SALBEGIN\": 10200, \"GENDER\": 0, \"MINORITY\": 1, \"JOBCAT\": 1, \"GENDER_DENOTING\": \"Female\", \"MINORITY_DENOTING\": \"Minority\", \"JOBCAT_DENOTING\": \"Administration\", \"SOCIODEMOGRAPHY\": 2, \"SOCIODEMOGRAPHY_DENOTING\": \"Minority_Female\"}, {\"SALARY\": 21450, \"EDUC\": 8, \"SALBEGIN\": 10200, \"GENDER\": 0, \"MINORITY\": 1, \"JOBCAT\": 1, \"GENDER_DENOTING\": \"Female\", \"MINORITY_DENOTING\": \"Minority\", \"JOBCAT_DENOTING\": \"Administration\", \"SOCIODEMOGRAPHY\": 2, \"SOCIODEMOGRAPHY_DENOTING\": \"Minority_Female\"}, {\"SALARY\": 24750, \"EDUC\": 12, \"SALBEGIN\": 12000, \"GENDER\": 0, \"MINORITY\": 1, \"JOBCAT\": 1, \"GENDER_DENOTING\": \"Female\", \"MINORITY_DENOTING\": \"Minority\", \"JOBCAT_DENOTING\": \"Administration\", \"SOCIODEMOGRAPHY\": 2, \"SOCIODEMOGRAPHY_DENOTING\": \"Minority_Female\"}, {\"SALARY\": 16950, \"EDUC\": 12, \"SALBEGIN\": 10200, \"GENDER\": 0, \"MINORITY\": 1, \"JOBCAT\": 1, \"GENDER_DENOTING\": \"Female\", \"MINORITY_DENOTING\": \"Minority\", \"JOBCAT_DENOTING\": \"Administration\", \"SOCIODEMOGRAPHY\": 2, \"SOCIODEMOGRAPHY_DENOTING\": \"Minority_Female\"}, {\"SALARY\": 26100, \"EDUC\": 12, \"SALBEGIN\": 13500, \"GENDER\": 0, \"MINORITY\": 1, \"JOBCAT\": 1, \"GENDER_DENOTING\": \"Female\", \"MINORITY_DENOTING\": \"Minority\", \"JOBCAT_DENOTING\": \"Administration\", \"SOCIODEMOGRAPHY\": 2, \"SOCIODEMOGRAPHY_DENOTING\": \"Minority_Female\"}, {\"SALARY\": 28050, \"EDUC\": 14, \"SALBEGIN\": 15000, \"GENDER\": 1, \"MINORITY\": 0, \"JOBCAT\": 1, \"GENDER_DENOTING\": \"Male\", \"MINORITY_DENOTING\": \"White\", \"JOBCAT_DENOTING\": \"Administration\", \"SOCIODEMOGRAPHY\": 1, \"SOCIODEMOGRAPHY_DENOTING\": \"White_Male\"}, {\"SALARY\": 36600, \"EDUC\": 16, \"SALBEGIN\": 18000, \"GENDER\": 0, \"MINORITY\": 0, \"JOBCAT\": 1, \"GENDER_DENOTING\": \"Female\", \"MINORITY_DENOTING\": \"White\", \"JOBCAT_DENOTING\": \"Administration\", \"SOCIODEMOGRAPHY\": 0, \"SOCIODEMOGRAPHY_DENOTING\": \"White_Female\"}, {\"SALARY\": 58125, \"EDUC\": 16, \"SALBEGIN\": 18000, \"GENDER\": 0, \"MINORITY\": 0, \"JOBCAT\": 3, \"GENDER_DENOTING\": \"Female\", \"MINORITY_DENOTING\": \"White\", \"JOBCAT_DENOTING\": \"Management\", \"SOCIODEMOGRAPHY\": 0, \"SOCIODEMOGRAPHY_DENOTING\": \"White_Female\"}, {\"SALARY\": 21300, \"EDUC\": 15, \"SALBEGIN\": 15750, \"GENDER\": 1, \"MINORITY\": 0, \"JOBCAT\": 1, \"GENDER_DENOTING\": \"Male\", \"MINORITY_DENOTING\": \"White\", \"JOBCAT_DENOTING\": \"Administration\", \"SOCIODEMOGRAPHY\": 1, \"SOCIODEMOGRAPHY_DENOTING\": \"White_Male\"}, {\"SALARY\": 22500, \"EDUC\": 12, \"SALBEGIN\": 16500, \"GENDER\": 1, \"MINORITY\": 0, \"JOBCAT\": 1, \"GENDER_DENOTING\": \"Male\", \"MINORITY_DENOTING\": \"White\", \"JOBCAT_DENOTING\": \"Administration\", \"SOCIODEMOGRAPHY\": 1, \"SOCIODEMOGRAPHY_DENOTING\": \"White_Male\"}, {\"SALARY\": 29400, \"EDUC\": 15, \"SALBEGIN\": 15750, \"GENDER\": 1, \"MINORITY\": 0, \"JOBCAT\": 1, \"GENDER_DENOTING\": \"Male\", \"MINORITY_DENOTING\": \"White\", \"JOBCAT_DENOTING\": \"Administration\", \"SOCIODEMOGRAPHY\": 1, \"SOCIODEMOGRAPHY_DENOTING\": \"White_Male\"}, {\"SALARY\": 27450, \"EDUC\": 12, \"SALBEGIN\": 14700, \"GENDER\": 1, \"MINORITY\": 0, \"JOBCAT\": 1, \"GENDER_DENOTING\": \"Male\", \"MINORITY_DENOTING\": \"White\", \"JOBCAT_DENOTING\": \"Administration\", \"SOCIODEMOGRAPHY\": 1, \"SOCIODEMOGRAPHY_DENOTING\": \"White_Male\"}, {\"SALARY\": 29850, \"EDUC\": 15, \"SALBEGIN\": 15750, \"GENDER\": 1, \"MINORITY\": 0, \"JOBCAT\": 1, \"GENDER_DENOTING\": \"Male\", \"MINORITY_DENOTING\": \"White\", \"JOBCAT_DENOTING\": \"Administration\", \"SOCIODEMOGRAPHY\": 1, \"SOCIODEMOGRAPHY_DENOTING\": \"White_Male\"}, {\"SALARY\": 25350, \"EDUC\": 15, \"SALBEGIN\": 15750, \"GENDER\": 1, \"MINORITY\": 0, \"JOBCAT\": 1, \"GENDER_DENOTING\": \"Male\", \"MINORITY_DENOTING\": \"White\", \"JOBCAT_DENOTING\": \"Administration\", \"SOCIODEMOGRAPHY\": 1, \"SOCIODEMOGRAPHY_DENOTING\": \"White_Male\"}, {\"SALARY\": 15750, \"EDUC\": 8, \"SALBEGIN\": 10200, \"GENDER\": 0, \"MINORITY\": 0, \"JOBCAT\": 1, \"GENDER_DENOTING\": \"Female\", \"MINORITY_DENOTING\": \"White\", \"JOBCAT_DENOTING\": \"Administration\", \"SOCIODEMOGRAPHY\": 0, \"SOCIODEMOGRAPHY_DENOTING\": \"White_Female\"}, {\"SALARY\": 19650, \"EDUC\": 8, \"SALBEGIN\": 13050, \"GENDER\": 0, \"MINORITY\": 0, \"JOBCAT\": 1, \"GENDER_DENOTING\": \"Female\", \"MINORITY_DENOTING\": \"White\", \"JOBCAT_DENOTING\": \"Administration\", \"SOCIODEMOGRAPHY\": 0, \"SOCIODEMOGRAPHY_DENOTING\": \"White_Female\"}, {\"SALARY\": 21000, \"EDUC\": 12, \"SALBEGIN\": 13500, \"GENDER\": 0, \"MINORITY\": 0, \"JOBCAT\": 1, \"GENDER_DENOTING\": \"Female\", \"MINORITY_DENOTING\": \"White\", \"JOBCAT_DENOTING\": \"Administration\", \"SOCIODEMOGRAPHY\": 0, \"SOCIODEMOGRAPHY_DENOTING\": \"White_Female\"}, {\"SALARY\": 27000, \"EDUC\": 17, \"SALBEGIN\": 18000, \"GENDER\": 1, \"MINORITY\": 1, \"JOBCAT\": 1, \"GENDER_DENOTING\": \"Male\", \"MINORITY_DENOTING\": \"Minority\", \"JOBCAT_DENOTING\": \"Administration\", \"SOCIODEMOGRAPHY\": 3, \"SOCIODEMOGRAPHY_DENOTING\": \"Minority_Male\"}, {\"SALARY\": 24000, \"EDUC\": 12, \"SALBEGIN\": 15750, \"GENDER\": 1, \"MINORITY\": 1, \"JOBCAT\": 1, \"GENDER_DENOTING\": \"Male\", \"MINORITY_DENOTING\": \"Minority\", \"JOBCAT_DENOTING\": \"Administration\", \"SOCIODEMOGRAPHY\": 3, \"SOCIODEMOGRAPHY_DENOTING\": \"Minority_Male\"}, {\"SALARY\": 78500, \"EDUC\": 17, \"SALBEGIN\": 28740, \"GENDER\": 1, \"MINORITY\": 1, \"JOBCAT\": 3, \"GENDER_DENOTING\": \"Male\", \"MINORITY_DENOTING\": \"Minority\", \"JOBCAT_DENOTING\": \"Management\", \"SOCIODEMOGRAPHY\": 3, \"SOCIODEMOGRAPHY_DENOTING\": \"Minority_Male\"}, {\"SALARY\": 20850, \"EDUC\": 12, \"SALBEGIN\": 13050, \"GENDER\": 0, \"MINORITY\": 1, \"JOBCAT\": 1, \"GENDER_DENOTING\": \"Female\", \"MINORITY_DENOTING\": \"Minority\", \"JOBCAT_DENOTING\": \"Administration\", \"SOCIODEMOGRAPHY\": 2, \"SOCIODEMOGRAPHY_DENOTING\": \"Minority_Female\"}, {\"SALARY\": 30000, \"EDUC\": 12, \"SALBEGIN\": 15750, \"GENDER\": 1, \"MINORITY\": 0, \"JOBCAT\": 2, \"GENDER_DENOTING\": \"Male\", \"MINORITY_DENOTING\": \"White\", \"JOBCAT_DENOTING\": \"Custody\", \"SOCIODEMOGRAPHY\": 1, \"SOCIODEMOGRAPHY_DENOTING\": \"White_Male\"}, {\"SALARY\": 28500, \"EDUC\": 8, \"SALBEGIN\": 15750, \"GENDER\": 1, \"MINORITY\": 0, \"JOBCAT\": 2, \"GENDER_DENOTING\": \"Male\", \"MINORITY_DENOTING\": \"White\", \"JOBCAT_DENOTING\": \"Custody\", \"SOCIODEMOGRAPHY\": 1, \"SOCIODEMOGRAPHY_DENOTING\": \"White_Male\"}, {\"SALARY\": 65000, \"EDUC\": 19, \"SALBEGIN\": 31980, \"GENDER\": 1, \"MINORITY\": 0, \"JOBCAT\": 3, \"GENDER_DENOTING\": \"Male\", \"MINORITY_DENOTING\": \"White\", \"JOBCAT_DENOTING\": \"Management\", \"SOCIODEMOGRAPHY\": 1, \"SOCIODEMOGRAPHY_DENOTING\": \"White_Male\"}, {\"SALARY\": 30150, \"EDUC\": 14, \"SALBEGIN\": 16500, \"GENDER\": 1, \"MINORITY\": 0, \"JOBCAT\": 1, \"GENDER_DENOTING\": \"Male\", \"MINORITY_DENOTING\": \"White\", \"JOBCAT_DENOTING\": \"Administration\", \"SOCIODEMOGRAPHY\": 1, \"SOCIODEMOGRAPHY_DENOTING\": \"White_Male\"}, {\"SALARY\": 66875, \"EDUC\": 19, \"SALBEGIN\": 32490, \"GENDER\": 1, \"MINORITY\": 0, \"JOBCAT\": 3, \"GENDER_DENOTING\": \"Male\", \"MINORITY_DENOTING\": \"White\", \"JOBCAT_DENOTING\": \"Management\", \"SOCIODEMOGRAPHY\": 1, \"SOCIODEMOGRAPHY_DENOTING\": \"White_Male\"}, {\"SALARY\": 24150, \"EDUC\": 15, \"SALBEGIN\": 13500, \"GENDER\": 0, \"MINORITY\": 0, \"JOBCAT\": 1, \"GENDER_DENOTING\": \"Female\", \"MINORITY_DENOTING\": \"White\", \"JOBCAT_DENOTING\": \"Administration\", \"SOCIODEMOGRAPHY\": 0, \"SOCIODEMOGRAPHY_DENOTING\": \"White_Female\"}, {\"SALARY\": 24450, \"EDUC\": 12, \"SALBEGIN\": 12450, \"GENDER\": 0, \"MINORITY\": 0, \"JOBCAT\": 1, \"GENDER_DENOTING\": \"Female\", \"MINORITY_DENOTING\": \"White\", \"JOBCAT_DENOTING\": \"Administration\", \"SOCIODEMOGRAPHY\": 0, \"SOCIODEMOGRAPHY_DENOTING\": \"White_Female\"}, {\"SALARY\": 21600, \"EDUC\": 12, \"SALBEGIN\": 12000, \"GENDER\": 0, \"MINORITY\": 0, \"JOBCAT\": 1, \"GENDER_DENOTING\": \"Female\", \"MINORITY_DENOTING\": \"White\", \"JOBCAT_DENOTING\": \"Administration\", \"SOCIODEMOGRAPHY\": 0, \"SOCIODEMOGRAPHY_DENOTING\": \"White_Female\"}, {\"SALARY\": 27900, \"EDUC\": 12, \"SALBEGIN\": 12450, \"GENDER\": 0, \"MINORITY\": 0, \"JOBCAT\": 1, \"GENDER_DENOTING\": \"Female\", \"MINORITY_DENOTING\": \"White\", \"JOBCAT_DENOTING\": \"Administration\", \"SOCIODEMOGRAPHY\": 0, \"SOCIODEMOGRAPHY_DENOTING\": \"White_Female\"}, {\"SALARY\": 29100, \"EDUC\": 8, \"SALBEGIN\": 12450, \"GENDER\": 0, \"MINORITY\": 0, \"JOBCAT\": 1, \"GENDER_DENOTING\": \"Female\", \"MINORITY_DENOTING\": \"White\", \"JOBCAT_DENOTING\": \"Administration\", \"SOCIODEMOGRAPHY\": 0, \"SOCIODEMOGRAPHY_DENOTING\": \"White_Female\"}, {\"SALARY\": 22650, \"EDUC\": 12, \"SALBEGIN\": 11250, \"GENDER\": 0, \"MINORITY\": 0, \"JOBCAT\": 1, \"GENDER_DENOTING\": \"Female\", \"MINORITY_DENOTING\": \"White\", \"JOBCAT_DENOTING\": \"Administration\", \"SOCIODEMOGRAPHY\": 0, \"SOCIODEMOGRAPHY_DENOTING\": \"White_Female\"}, {\"SALARY\": 20850, \"EDUC\": 12, \"SALBEGIN\": 11250, \"GENDER\": 0, \"MINORITY\": 0, \"JOBCAT\": 1, \"GENDER_DENOTING\": \"Female\", \"MINORITY_DENOTING\": \"White\", \"JOBCAT_DENOTING\": \"Administration\", \"SOCIODEMOGRAPHY\": 0, \"SOCIODEMOGRAPHY_DENOTING\": \"White_Female\"}, {\"SALARY\": 22950, \"EDUC\": 12, \"SALBEGIN\": 12300, \"GENDER\": 0, \"MINORITY\": 0, \"JOBCAT\": 1, \"GENDER_DENOTING\": \"Female\", \"MINORITY_DENOTING\": \"White\", \"JOBCAT_DENOTING\": \"Administration\", \"SOCIODEMOGRAPHY\": 0, \"SOCIODEMOGRAPHY_DENOTING\": \"White_Female\"}, {\"SALARY\": 30600, \"EDUC\": 12, \"SALBEGIN\": 12450, \"GENDER\": 0, \"MINORITY\": 0, \"JOBCAT\": 1, \"GENDER_DENOTING\": \"Female\", \"MINORITY_DENOTING\": \"White\", \"JOBCAT_DENOTING\": \"Administration\", \"SOCIODEMOGRAPHY\": 0, \"SOCIODEMOGRAPHY_DENOTING\": \"White_Female\"}, {\"SALARY\": 20400, \"EDUC\": 12, \"SALBEGIN\": 11250, \"GENDER\": 0, \"MINORITY\": 0, \"JOBCAT\": 1, \"GENDER_DENOTING\": \"Female\", \"MINORITY_DENOTING\": \"White\", \"JOBCAT_DENOTING\": \"Administration\", \"SOCIODEMOGRAPHY\": 0, \"SOCIODEMOGRAPHY_DENOTING\": \"White_Female\"}, {\"SALARY\": 23850, \"EDUC\": 12, \"SALBEGIN\": 12750, \"GENDER\": 0, \"MINORITY\": 0, \"JOBCAT\": 1, \"GENDER_DENOTING\": \"Female\", \"MINORITY_DENOTING\": \"White\", \"JOBCAT_DENOTING\": \"Administration\", \"SOCIODEMOGRAPHY\": 0, \"SOCIODEMOGRAPHY_DENOTING\": \"White_Female\"}, {\"SALARY\": 22800, \"EDUC\": 12, \"SALBEGIN\": 11250, \"GENDER\": 0, \"MINORITY\": 0, \"JOBCAT\": 1, \"GENDER_DENOTING\": \"Female\", \"MINORITY_DENOTING\": \"White\", \"JOBCAT_DENOTING\": \"Administration\", \"SOCIODEMOGRAPHY\": 0, \"SOCIODEMOGRAPHY_DENOTING\": \"White_Female\"}, {\"SALARY\": 20700, \"EDUC\": 12, \"SALBEGIN\": 11250, \"GENDER\": 0, \"MINORITY\": 0, \"JOBCAT\": 1, \"GENDER_DENOTING\": \"Female\", \"MINORITY_DENOTING\": \"White\", \"JOBCAT_DENOTING\": \"Administration\", \"SOCIODEMOGRAPHY\": 0, \"SOCIODEMOGRAPHY_DENOTING\": \"White_Female\"}, {\"SALARY\": 21300, \"EDUC\": 12, \"SALBEGIN\": 11250, \"GENDER\": 0, \"MINORITY\": 1, \"JOBCAT\": 1, \"GENDER_DENOTING\": \"Female\", \"MINORITY_DENOTING\": \"Minority\", \"JOBCAT_DENOTING\": \"Administration\", \"SOCIODEMOGRAPHY\": 2, \"SOCIODEMOGRAPHY_DENOTING\": \"Minority_Female\"}, {\"SALARY\": 24300, \"EDUC\": 12, \"SALBEGIN\": 15000, \"GENDER\": 0, \"MINORITY\": 1, \"JOBCAT\": 1, \"GENDER_DENOTING\": \"Female\", \"MINORITY_DENOTING\": \"Minority\", \"JOBCAT_DENOTING\": \"Administration\", \"SOCIODEMOGRAPHY\": 2, \"SOCIODEMOGRAPHY_DENOTING\": \"Minority_Female\"}, {\"SALARY\": 19650, \"EDUC\": 12, \"SALBEGIN\": 13950, \"GENDER\": 0, \"MINORITY\": 1, \"JOBCAT\": 1, \"GENDER_DENOTING\": \"Female\", \"MINORITY_DENOTING\": \"Minority\", \"JOBCAT_DENOTING\": \"Administration\", \"SOCIODEMOGRAPHY\": 2, \"SOCIODEMOGRAPHY_DENOTING\": \"Minority_Female\"}, {\"SALARY\": 60000, \"EDUC\": 17, \"SALBEGIN\": 32490, \"GENDER\": 1, \"MINORITY\": 0, \"JOBCAT\": 3, \"GENDER_DENOTING\": \"Male\", \"MINORITY_DENOTING\": \"White\", \"JOBCAT_DENOTING\": \"Management\", \"SOCIODEMOGRAPHY\": 1, \"SOCIODEMOGRAPHY_DENOTING\": \"White_Male\"}, {\"SALARY\": 30300, \"EDUC\": 15, \"SALBEGIN\": 15750, \"GENDER\": 1, \"MINORITY\": 0, \"JOBCAT\": 1, \"GENDER_DENOTING\": \"Male\", \"MINORITY_DENOTING\": \"White\", \"JOBCAT_DENOTING\": \"Administration\", \"SOCIODEMOGRAPHY\": 1, \"SOCIODEMOGRAPHY_DENOTING\": \"White_Male\"}, {\"SALARY\": 61250, \"EDUC\": 19, \"SALBEGIN\": 33000, \"GENDER\": 1, \"MINORITY\": 0, \"JOBCAT\": 3, \"GENDER_DENOTING\": \"Male\", \"MINORITY_DENOTING\": \"White\", \"JOBCAT_DENOTING\": \"Management\", \"SOCIODEMOGRAPHY\": 1, \"SOCIODEMOGRAPHY_DENOTING\": \"White_Male\"}, {\"SALARY\": 36000, \"EDUC\": 19, \"SALBEGIN\": 19500, \"GENDER\": 1, \"MINORITY\": 0, \"JOBCAT\": 1, \"GENDER_DENOTING\": \"Male\", \"MINORITY_DENOTING\": \"White\", \"JOBCAT_DENOTING\": \"Administration\", \"SOCIODEMOGRAPHY\": 1, \"SOCIODEMOGRAPHY_DENOTING\": \"White_Male\"}, {\"SALARY\": 25200, \"EDUC\": 8, \"SALBEGIN\": 18750, \"GENDER\": 0, \"MINORITY\": 0, \"JOBCAT\": 1, \"GENDER_DENOTING\": \"Female\", \"MINORITY_DENOTING\": \"White\", \"JOBCAT_DENOTING\": \"Administration\", \"SOCIODEMOGRAPHY\": 0, \"SOCIODEMOGRAPHY_DENOTING\": \"White_Female\"}, {\"SALARY\": 16200, \"EDUC\": 12, \"SALBEGIN\": 10200, \"GENDER\": 0, \"MINORITY\": 0, \"JOBCAT\": 1, \"GENDER_DENOTING\": \"Female\", \"MINORITY_DENOTING\": \"White\", \"JOBCAT_DENOTING\": \"Administration\", \"SOCIODEMOGRAPHY\": 0, \"SOCIODEMOGRAPHY_DENOTING\": \"White_Female\"}, {\"SALARY\": 22800, \"EDUC\": 12, \"SALBEGIN\": 11250, \"GENDER\": 0, \"MINORITY\": 0, \"JOBCAT\": 1, \"GENDER_DENOTING\": \"Female\", \"MINORITY_DENOTING\": \"White\", \"JOBCAT_DENOTING\": \"Administration\", \"SOCIODEMOGRAPHY\": 0, \"SOCIODEMOGRAPHY_DENOTING\": \"White_Female\"}, {\"SALARY\": 43500, \"EDUC\": 16, \"SALBEGIN\": 19500, \"GENDER\": 0, \"MINORITY\": 0, \"JOBCAT\": 3, \"GENDER_DENOTING\": \"Female\", \"MINORITY_DENOTING\": \"White\", \"JOBCAT_DENOTING\": \"Management\", \"SOCIODEMOGRAPHY\": 0, \"SOCIODEMOGRAPHY_DENOTING\": \"White_Female\"}, {\"SALARY\": 30300, \"EDUC\": 8, \"SALBEGIN\": 15750, \"GENDER\": 1, \"MINORITY\": 1, \"JOBCAT\": 2, \"GENDER_DENOTING\": \"Male\", \"MINORITY_DENOTING\": \"Minority\", \"JOBCAT_DENOTING\": \"Custody\", \"SOCIODEMOGRAPHY\": 3, \"SOCIODEMOGRAPHY_DENOTING\": \"Minority_Male\"}, {\"SALARY\": 31950, \"EDUC\": 15, \"SALBEGIN\": 15750, \"GENDER\": 1, \"MINORITY\": 1, \"JOBCAT\": 1, \"GENDER_DENOTING\": \"Male\", \"MINORITY_DENOTING\": \"Minority\", \"JOBCAT_DENOTING\": \"Administration\", \"SOCIODEMOGRAPHY\": 3, \"SOCIODEMOGRAPHY_DENOTING\": \"Minority_Male\"}, {\"SALARY\": 35250, \"EDUC\": 15, \"SALBEGIN\": 13500, \"GENDER\": 1, \"MINORITY\": 0, \"JOBCAT\": 1, \"GENDER_DENOTING\": \"Male\", \"MINORITY_DENOTING\": \"White\", \"JOBCAT_DENOTING\": \"Administration\", \"SOCIODEMOGRAPHY\": 1, \"SOCIODEMOGRAPHY_DENOTING\": \"White_Male\"}, {\"SALARY\": 37800, \"EDUC\": 15, \"SALBEGIN\": 15000, \"GENDER\": 1, \"MINORITY\": 0, \"JOBCAT\": 1, \"GENDER_DENOTING\": \"Male\", \"MINORITY_DENOTING\": \"White\", \"JOBCAT_DENOTING\": \"Administration\", \"SOCIODEMOGRAPHY\": 1, \"SOCIODEMOGRAPHY_DENOTING\": \"White_Male\"}, {\"SALARY\": 31200, \"EDUC\": 15, \"SALBEGIN\": 15750, \"GENDER\": 1, \"MINORITY\": 0, \"JOBCAT\": 1, \"GENDER_DENOTING\": \"Male\", \"MINORITY_DENOTING\": \"White\", \"JOBCAT_DENOTING\": \"Administration\", \"SOCIODEMOGRAPHY\": 1, \"SOCIODEMOGRAPHY_DENOTING\": \"White_Male\"}, {\"SALARY\": 29400, \"EDUC\": 15, \"SALBEGIN\": 16500, \"GENDER\": 1, \"MINORITY\": 0, \"JOBCAT\": 1, \"GENDER_DENOTING\": \"Male\", \"MINORITY_DENOTING\": \"White\", \"JOBCAT_DENOTING\": \"Administration\", \"SOCIODEMOGRAPHY\": 1, \"SOCIODEMOGRAPHY_DENOTING\": \"White_Male\"}, {\"SALARY\": 70000, \"EDUC\": 19, \"SALBEGIN\": 35040, \"GENDER\": 1, \"MINORITY\": 0, \"JOBCAT\": 3, \"GENDER_DENOTING\": \"Male\", \"MINORITY_DENOTING\": \"White\", \"JOBCAT_DENOTING\": \"Management\", \"SOCIODEMOGRAPHY\": 1, \"SOCIODEMOGRAPHY_DENOTING\": \"White_Male\"}, {\"SALARY\": 33900, \"EDUC\": 15, \"SALBEGIN\": 15750, \"GENDER\": 1, \"MINORITY\": 0, \"JOBCAT\": 1, \"GENDER_DENOTING\": \"Male\", \"MINORITY_DENOTING\": \"White\", \"JOBCAT_DENOTING\": \"Administration\", \"SOCIODEMOGRAPHY\": 1, \"SOCIODEMOGRAPHY_DENOTING\": \"White_Male\"}, {\"SALARY\": 27150, \"EDUC\": 15, \"SALBEGIN\": 16500, \"GENDER\": 1, \"MINORITY\": 0, \"JOBCAT\": 1, \"GENDER_DENOTING\": \"Male\", \"MINORITY_DENOTING\": \"White\", \"JOBCAT_DENOTING\": \"Administration\", \"SOCIODEMOGRAPHY\": 1, \"SOCIODEMOGRAPHY_DENOTING\": \"White_Male\"}, {\"SALARY\": 22200, \"EDUC\": 12, \"SALBEGIN\": 13800, \"GENDER\": 0, \"MINORITY\": 0, \"JOBCAT\": 1, \"GENDER_DENOTING\": \"Female\", \"MINORITY_DENOTING\": \"White\", \"JOBCAT_DENOTING\": \"Administration\", \"SOCIODEMOGRAPHY\": 0, \"SOCIODEMOGRAPHY_DENOTING\": \"White_Female\"}, {\"SALARY\": 31350, \"EDUC\": 15, \"SALBEGIN\": 11100, \"GENDER\": 0, \"MINORITY\": 0, \"JOBCAT\": 1, \"GENDER_DENOTING\": \"Female\", \"MINORITY_DENOTING\": \"White\", \"JOBCAT_DENOTING\": \"Administration\", \"SOCIODEMOGRAPHY\": 0, \"SOCIODEMOGRAPHY_DENOTING\": \"White_Female\"}, {\"SALARY\": 20850, \"EDUC\": 12, \"SALBEGIN\": 13500, \"GENDER\": 0, \"MINORITY\": 0, \"JOBCAT\": 1, \"GENDER_DENOTING\": \"Female\", \"MINORITY_DENOTING\": \"White\", \"JOBCAT_DENOTING\": \"Administration\", \"SOCIODEMOGRAPHY\": 0, \"SOCIODEMOGRAPHY_DENOTING\": \"White_Female\"}, {\"SALARY\": 33300, \"EDUC\": 16, \"SALBEGIN\": 17490, \"GENDER\": 1, \"MINORITY\": 1, \"JOBCAT\": 1, \"GENDER_DENOTING\": \"Male\", \"MINORITY_DENOTING\": \"Minority\", \"JOBCAT_DENOTING\": \"Administration\", \"SOCIODEMOGRAPHY\": 3, \"SOCIODEMOGRAPHY_DENOTING\": \"Minority_Male\"}, {\"SALARY\": 26250, \"EDUC\": 8, \"SALBEGIN\": 16050, \"GENDER\": 1, \"MINORITY\": 1, \"JOBCAT\": 1, \"GENDER_DENOTING\": \"Male\", \"MINORITY_DENOTING\": \"Minority\", \"JOBCAT_DENOTING\": \"Administration\", \"SOCIODEMOGRAPHY\": 3, \"SOCIODEMOGRAPHY_DENOTING\": \"Minority_Male\"}, {\"SALARY\": 31950, \"EDUC\": 15, \"SALBEGIN\": 15750, \"GENDER\": 1, \"MINORITY\": 1, \"JOBCAT\": 1, \"GENDER_DENOTING\": \"Male\", \"MINORITY_DENOTING\": \"Minority\", \"JOBCAT_DENOTING\": \"Administration\", \"SOCIODEMOGRAPHY\": 3, \"SOCIODEMOGRAPHY_DENOTING\": \"Minority_Male\"}, {\"SALARY\": 30000, \"EDUC\": 8, \"SALBEGIN\": 15750, \"GENDER\": 1, \"MINORITY\": 1, \"JOBCAT\": 2, \"GENDER_DENOTING\": \"Male\", \"MINORITY_DENOTING\": \"Minority\", \"JOBCAT_DENOTING\": \"Custody\", \"SOCIODEMOGRAPHY\": 3, \"SOCIODEMOGRAPHY_DENOTING\": \"Minority_Male\"}, {\"SALARY\": 66250, \"EDUC\": 19, \"SALBEGIN\": 34980, \"GENDER\": 1, \"MINORITY\": 1, \"JOBCAT\": 3, \"GENDER_DENOTING\": \"Male\", \"MINORITY_DENOTING\": \"Minority\", \"JOBCAT_DENOTING\": \"Management\", \"SOCIODEMOGRAPHY\": 3, \"SOCIODEMOGRAPHY_DENOTING\": \"Minority_Male\"}, {\"SALARY\": 86250, \"EDUC\": 18, \"SALBEGIN\": 45000, \"GENDER\": 1, \"MINORITY\": 0, \"JOBCAT\": 3, \"GENDER_DENOTING\": \"Male\", \"MINORITY_DENOTING\": \"White\", \"JOBCAT_DENOTING\": \"Management\", \"SOCIODEMOGRAPHY\": 1, \"SOCIODEMOGRAPHY_DENOTING\": \"White_Male\"}, {\"SALARY\": 30750, \"EDUC\": 12, \"SALBEGIN\": 15000, \"GENDER\": 1, \"MINORITY\": 0, \"JOBCAT\": 1, \"GENDER_DENOTING\": \"Male\", \"MINORITY_DENOTING\": \"White\", \"JOBCAT_DENOTING\": \"Administration\", \"SOCIODEMOGRAPHY\": 1, \"SOCIODEMOGRAPHY_DENOTING\": \"White_Male\"}, {\"SALARY\": 33540, \"EDUC\": 12, \"SALBEGIN\": 15750, \"GENDER\": 1, \"MINORITY\": 0, \"JOBCAT\": 1, \"GENDER_DENOTING\": \"Male\", \"MINORITY_DENOTING\": \"White\", \"JOBCAT_DENOTING\": \"Administration\", \"SOCIODEMOGRAPHY\": 1, \"SOCIODEMOGRAPHY_DENOTING\": \"White_Male\"}, {\"SALARY\": 34950, \"EDUC\": 16, \"SALBEGIN\": 20250, \"GENDER\": 1, \"MINORITY\": 0, \"JOBCAT\": 1, \"GENDER_DENOTING\": \"Male\", \"MINORITY_DENOTING\": \"White\", \"JOBCAT_DENOTING\": \"Administration\", \"SOCIODEMOGRAPHY\": 1, \"SOCIODEMOGRAPHY_DENOTING\": \"White_Male\"}, {\"SALARY\": 40350, \"EDUC\": 15, \"SALBEGIN\": 16500, \"GENDER\": 1, \"MINORITY\": 0, \"JOBCAT\": 1, \"GENDER_DENOTING\": \"Male\", \"MINORITY_DENOTING\": \"White\", \"JOBCAT_DENOTING\": \"Administration\", \"SOCIODEMOGRAPHY\": 1, \"SOCIODEMOGRAPHY_DENOTING\": \"White_Male\"}, {\"SALARY\": 30270, \"EDUC\": 12, \"SALBEGIN\": 15750, \"GENDER\": 1, \"MINORITY\": 0, \"JOBCAT\": 1, \"GENDER_DENOTING\": \"Male\", \"MINORITY_DENOTING\": \"White\", \"JOBCAT_DENOTING\": \"Administration\", \"SOCIODEMOGRAPHY\": 1, \"SOCIODEMOGRAPHY_DENOTING\": \"White_Male\"}, {\"SALARY\": 26250, \"EDUC\": 8, \"SALBEGIN\": 16050, \"GENDER\": 1, \"MINORITY\": 0, \"JOBCAT\": 1, \"GENDER_DENOTING\": \"Male\", \"MINORITY_DENOTING\": \"White\", \"JOBCAT_DENOTING\": \"Administration\", \"SOCIODEMOGRAPHY\": 1, \"SOCIODEMOGRAPHY_DENOTING\": \"White_Male\"}, {\"SALARY\": 32400, \"EDUC\": 15, \"SALBEGIN\": 15000, \"GENDER\": 1, \"MINORITY\": 0, \"JOBCAT\": 1, \"GENDER_DENOTING\": \"Male\", \"MINORITY_DENOTING\": \"White\", \"JOBCAT_DENOTING\": \"Administration\", \"SOCIODEMOGRAPHY\": 1, \"SOCIODEMOGRAPHY_DENOTING\": \"White_Male\"}, {\"SALARY\": 20400, \"EDUC\": 12, \"SALBEGIN\": 11250, \"GENDER\": 0, \"MINORITY\": 0, \"JOBCAT\": 1, \"GENDER_DENOTING\": \"Female\", \"MINORITY_DENOTING\": \"White\", \"JOBCAT_DENOTING\": \"Administration\", \"SOCIODEMOGRAPHY\": 0, \"SOCIODEMOGRAPHY_DENOTING\": \"White_Female\"}, {\"SALARY\": 24150, \"EDUC\": 8, \"SALBEGIN\": 12750, \"GENDER\": 0, \"MINORITY\": 0, \"JOBCAT\": 1, \"GENDER_DENOTING\": \"Female\", \"MINORITY_DENOTING\": \"White\", \"JOBCAT_DENOTING\": \"Administration\", \"SOCIODEMOGRAPHY\": 0, \"SOCIODEMOGRAPHY_DENOTING\": \"White_Female\"}, {\"SALARY\": 23850, \"EDUC\": 15, \"SALBEGIN\": 13500, \"GENDER\": 0, \"MINORITY\": 0, \"JOBCAT\": 1, \"GENDER_DENOTING\": \"Female\", \"MINORITY_DENOTING\": \"White\", \"JOBCAT_DENOTING\": \"Administration\", \"SOCIODEMOGRAPHY\": 0, \"SOCIODEMOGRAPHY_DENOTING\": \"White_Female\"}, {\"SALARY\": 29700, \"EDUC\": 12, \"SALBEGIN\": 13500, \"GENDER\": 0, \"MINORITY\": 0, \"JOBCAT\": 1, \"GENDER_DENOTING\": \"Female\", \"MINORITY_DENOTING\": \"White\", \"JOBCAT_DENOTING\": \"Administration\", \"SOCIODEMOGRAPHY\": 0, \"SOCIODEMOGRAPHY_DENOTING\": \"White_Female\"}, {\"SALARY\": 21600, \"EDUC\": 8, \"SALBEGIN\": 13500, \"GENDER\": 0, \"MINORITY\": 0, \"JOBCAT\": 1, \"GENDER_DENOTING\": \"Female\", \"MINORITY_DENOTING\": \"White\", \"JOBCAT_DENOTING\": \"Administration\", \"SOCIODEMOGRAPHY\": 0, \"SOCIODEMOGRAPHY_DENOTING\": \"White_Female\"}, {\"SALARY\": 24450, \"EDUC\": 12, \"SALBEGIN\": 15750, \"GENDER\": 0, \"MINORITY\": 0, \"JOBCAT\": 1, \"GENDER_DENOTING\": \"Female\", \"MINORITY_DENOTING\": \"White\", \"JOBCAT_DENOTING\": \"Administration\", \"SOCIODEMOGRAPHY\": 0, \"SOCIODEMOGRAPHY_DENOTING\": \"White_Female\"}, {\"SALARY\": 28050, \"EDUC\": 15, \"SALBEGIN\": 16500, \"GENDER\": 1, \"MINORITY\": 1, \"JOBCAT\": 1, \"GENDER_DENOTING\": \"Male\", \"MINORITY_DENOTING\": \"Minority\", \"JOBCAT_DENOTING\": \"Administration\", \"SOCIODEMOGRAPHY\": 3, \"SOCIODEMOGRAPHY_DENOTING\": \"Minority_Male\"}, {\"SALARY\": 100000, \"EDUC\": 16, \"SALBEGIN\": 44100, \"GENDER\": 1, \"MINORITY\": 1, \"JOBCAT\": 3, \"GENDER_DENOTING\": \"Male\", \"MINORITY_DENOTING\": \"Minority\", \"JOBCAT_DENOTING\": \"Management\", \"SOCIODEMOGRAPHY\": 3, \"SOCIODEMOGRAPHY_DENOTING\": \"Minority_Male\"}, {\"SALARY\": 49000, \"EDUC\": 15, \"SALBEGIN\": 20550, \"GENDER\": 1, \"MINORITY\": 1, \"JOBCAT\": 1, \"GENDER_DENOTING\": \"Male\", \"MINORITY_DENOTING\": \"Minority\", \"JOBCAT_DENOTING\": \"Administration\", \"SOCIODEMOGRAPHY\": 3, \"SOCIODEMOGRAPHY_DENOTING\": \"Minority_Male\"}, {\"SALARY\": 16350, \"EDUC\": 12, \"SALBEGIN\": 10200, \"GENDER\": 0, \"MINORITY\": 1, \"JOBCAT\": 1, \"GENDER_DENOTING\": \"Female\", \"MINORITY_DENOTING\": \"Minority\", \"JOBCAT_DENOTING\": \"Administration\", \"SOCIODEMOGRAPHY\": 2, \"SOCIODEMOGRAPHY_DENOTING\": \"Minority_Female\"}, {\"SALARY\": 70000, \"EDUC\": 16, \"SALBEGIN\": 21750, \"GENDER\": 1, \"MINORITY\": 0, \"JOBCAT\": 3, \"GENDER_DENOTING\": \"Male\", \"MINORITY_DENOTING\": \"White\", \"JOBCAT_DENOTING\": \"Management\", \"SOCIODEMOGRAPHY\": 1, \"SOCIODEMOGRAPHY_DENOTING\": \"White_Male\"}, {\"SALARY\": 55000, \"EDUC\": 19, \"SALBEGIN\": 34980, \"GENDER\": 1, \"MINORITY\": 0, \"JOBCAT\": 3, \"GENDER_DENOTING\": \"Male\", \"MINORITY_DENOTING\": \"White\", \"JOBCAT_DENOTING\": \"Management\", \"SOCIODEMOGRAPHY\": 1, \"SOCIODEMOGRAPHY_DENOTING\": \"White_Male\"}, {\"SALARY\": 28500, \"EDUC\": 15, \"SALBEGIN\": 14250, \"GENDER\": 1, \"MINORITY\": 0, \"JOBCAT\": 1, \"GENDER_DENOTING\": \"Male\", \"MINORITY_DENOTING\": \"White\", \"JOBCAT_DENOTING\": \"Administration\", \"SOCIODEMOGRAPHY\": 1, \"SOCIODEMOGRAPHY_DENOTING\": \"White_Male\"}, {\"SALARY\": 28800, \"EDUC\": 12, \"SALBEGIN\": 18000, \"GENDER\": 1, \"MINORITY\": 0, \"JOBCAT\": 1, \"GENDER_DENOTING\": \"Male\", \"MINORITY_DENOTING\": \"White\", \"JOBCAT_DENOTING\": \"Administration\", \"SOCIODEMOGRAPHY\": 1, \"SOCIODEMOGRAPHY_DENOTING\": \"White_Male\"}, {\"SALARY\": 24450, \"EDUC\": 15, \"SALBEGIN\": 15750, \"GENDER\": 1, \"MINORITY\": 0, \"JOBCAT\": 1, \"GENDER_DENOTING\": \"Male\", \"MINORITY_DENOTING\": \"White\", \"JOBCAT_DENOTING\": \"Administration\", \"SOCIODEMOGRAPHY\": 1, \"SOCIODEMOGRAPHY_DENOTING\": \"White_Male\"}, {\"SALARY\": 90625, \"EDUC\": 19, \"SALBEGIN\": 31250, \"GENDER\": 1, \"MINORITY\": 0, \"JOBCAT\": 3, \"GENDER_DENOTING\": \"Male\", \"MINORITY_DENOTING\": \"White\", \"JOBCAT_DENOTING\": \"Management\", \"SOCIODEMOGRAPHY\": 1, \"SOCIODEMOGRAPHY_DENOTING\": \"White_Male\"}, {\"SALARY\": 43650, \"EDUC\": 16, \"SALBEGIN\": 19500, \"GENDER\": 1, \"MINORITY\": 0, \"JOBCAT\": 3, \"GENDER_DENOTING\": \"Male\", \"MINORITY_DENOTING\": \"White\", \"JOBCAT_DENOTING\": \"Management\", \"SOCIODEMOGRAPHY\": 1, \"SOCIODEMOGRAPHY_DENOTING\": \"White_Male\"}, {\"SALARY\": 75000, \"EDUC\": 19, \"SALBEGIN\": 42510, \"GENDER\": 1, \"MINORITY\": 0, \"JOBCAT\": 3, \"GENDER_DENOTING\": \"Male\", \"MINORITY_DENOTING\": \"White\", \"JOBCAT_DENOTING\": \"Management\", \"SOCIODEMOGRAPHY\": 1, \"SOCIODEMOGRAPHY_DENOTING\": \"White_Male\"}, {\"SALARY\": 31650, \"EDUC\": 15, \"SALBEGIN\": 14250, \"GENDER\": 1, \"MINORITY\": 0, \"JOBCAT\": 1, \"GENDER_DENOTING\": \"Male\", \"MINORITY_DENOTING\": \"White\", \"JOBCAT_DENOTING\": \"Administration\", \"SOCIODEMOGRAPHY\": 1, \"SOCIODEMOGRAPHY_DENOTING\": \"White_Male\"}, {\"SALARY\": 61875, \"EDUC\": 19, \"SALBEGIN\": 28740, \"GENDER\": 1, \"MINORITY\": 0, \"JOBCAT\": 3, \"GENDER_DENOTING\": \"Male\", \"MINORITY_DENOTING\": \"White\", \"JOBCAT_DENOTING\": \"Management\", \"SOCIODEMOGRAPHY\": 1, \"SOCIODEMOGRAPHY_DENOTING\": \"White_Male\"}, {\"SALARY\": 21750, \"EDUC\": 12, \"SALBEGIN\": 11250, \"GENDER\": 0, \"MINORITY\": 0, \"JOBCAT\": 1, \"GENDER_DENOTING\": \"Female\", \"MINORITY_DENOTING\": \"White\", \"JOBCAT_DENOTING\": \"Administration\", \"SOCIODEMOGRAPHY\": 0, \"SOCIODEMOGRAPHY_DENOTING\": \"White_Female\"}, {\"SALARY\": 22500, \"EDUC\": 12, \"SALBEGIN\": 12750, \"GENDER\": 0, \"MINORITY\": 0, \"JOBCAT\": 1, \"GENDER_DENOTING\": \"Female\", \"MINORITY_DENOTING\": \"White\", \"JOBCAT_DENOTING\": \"Administration\", \"SOCIODEMOGRAPHY\": 0, \"SOCIODEMOGRAPHY_DENOTING\": \"White_Female\"}, {\"SALARY\": 21600, \"EDUC\": 8, \"SALBEGIN\": 13500, \"GENDER\": 0, \"MINORITY\": 0, \"JOBCAT\": 1, \"GENDER_DENOTING\": \"Female\", \"MINORITY_DENOTING\": \"White\", \"JOBCAT_DENOTING\": \"Administration\", \"SOCIODEMOGRAPHY\": 0, \"SOCIODEMOGRAPHY_DENOTING\": \"White_Female\"}, {\"SALARY\": 34410, \"EDUC\": 16, \"SALBEGIN\": 19500, \"GENDER\": 0, \"MINORITY\": 0, \"JOBCAT\": 3, \"GENDER_DENOTING\": \"Female\", \"MINORITY_DENOTING\": \"White\", \"JOBCAT_DENOTING\": \"Management\", \"SOCIODEMOGRAPHY\": 0, \"SOCIODEMOGRAPHY_DENOTING\": \"White_Female\"}, {\"SALARY\": 20700, \"EDUC\": 15, \"SALBEGIN\": 14250, \"GENDER\": 0, \"MINORITY\": 0, \"JOBCAT\": 1, \"GENDER_DENOTING\": \"Female\", \"MINORITY_DENOTING\": \"White\", \"JOBCAT_DENOTING\": \"Administration\", \"SOCIODEMOGRAPHY\": 0, \"SOCIODEMOGRAPHY_DENOTING\": \"White_Female\"}, {\"SALARY\": 47550, \"EDUC\": 19, \"SALBEGIN\": 33000, \"GENDER\": 1, \"MINORITY\": 0, \"JOBCAT\": 3, \"GENDER_DENOTING\": \"Male\", \"MINORITY_DENOTING\": \"White\", \"JOBCAT_DENOTING\": \"Management\", \"SOCIODEMOGRAPHY\": 1, \"SOCIODEMOGRAPHY_DENOTING\": \"White_Male\"}, {\"SALARY\": 33900, \"EDUC\": 12, \"SALBEGIN\": 16500, \"GENDER\": 1, \"MINORITY\": 0, \"JOBCAT\": 1, \"GENDER_DENOTING\": \"Male\", \"MINORITY_DENOTING\": \"White\", \"JOBCAT_DENOTING\": \"Administration\", \"SOCIODEMOGRAPHY\": 1, \"SOCIODEMOGRAPHY_DENOTING\": \"White_Male\"}, {\"SALARY\": 23400, \"EDUC\": 12, \"SALBEGIN\": 13500, \"GENDER\": 0, \"MINORITY\": 0, \"JOBCAT\": 1, \"GENDER_DENOTING\": \"Female\", \"MINORITY_DENOTING\": \"White\", \"JOBCAT_DENOTING\": \"Administration\", \"SOCIODEMOGRAPHY\": 0, \"SOCIODEMOGRAPHY_DENOTING\": \"White_Female\"}, {\"SALARY\": 32850, \"EDUC\": 16, \"SALBEGIN\": 19500, \"GENDER\": 0, \"MINORITY\": 0, \"JOBCAT\": 1, \"GENDER_DENOTING\": \"Female\", \"MINORITY_DENOTING\": \"White\", \"JOBCAT_DENOTING\": \"Administration\", \"SOCIODEMOGRAPHY\": 0, \"SOCIODEMOGRAPHY_DENOTING\": \"White_Female\"}, {\"SALARY\": 55750, \"EDUC\": 16, \"SALBEGIN\": 19980, \"GENDER\": 0, \"MINORITY\": 0, \"JOBCAT\": 3, \"GENDER_DENOTING\": \"Female\", \"MINORITY_DENOTING\": \"White\", \"JOBCAT_DENOTING\": \"Management\", \"SOCIODEMOGRAPHY\": 0, \"SOCIODEMOGRAPHY_DENOTING\": \"White_Female\"}, {\"SALARY\": 25200, \"EDUC\": 15, \"SALBEGIN\": 13950, \"GENDER\": 0, \"MINORITY\": 0, \"JOBCAT\": 1, \"GENDER_DENOTING\": \"Female\", \"MINORITY_DENOTING\": \"White\", \"JOBCAT_DENOTING\": \"Administration\", \"SOCIODEMOGRAPHY\": 0, \"SOCIODEMOGRAPHY_DENOTING\": \"White_Female\"}, {\"SALARY\": 26250, \"EDUC\": 12, \"SALBEGIN\": 15750, \"GENDER\": 1, \"MINORITY\": 1, \"JOBCAT\": 1, \"GENDER_DENOTING\": \"Male\", \"MINORITY_DENOTING\": \"Minority\", \"JOBCAT_DENOTING\": \"Administration\", \"SOCIODEMOGRAPHY\": 3, \"SOCIODEMOGRAPHY_DENOTING\": \"Minority_Male\"}, {\"SALARY\": 26400, \"EDUC\": 15, \"SALBEGIN\": 15750, \"GENDER\": 1, \"MINORITY\": 1, \"JOBCAT\": 1, \"GENDER_DENOTING\": \"Male\", \"MINORITY_DENOTING\": \"Minority\", \"JOBCAT_DENOTING\": \"Administration\", \"SOCIODEMOGRAPHY\": 3, \"SOCIODEMOGRAPHY_DENOTING\": \"Minority_Male\"}, {\"SALARY\": 39150, \"EDUC\": 15, \"SALBEGIN\": 15750, \"GENDER\": 1, \"MINORITY\": 0, \"JOBCAT\": 1, \"GENDER_DENOTING\": \"Male\", \"MINORITY_DENOTING\": \"White\", \"JOBCAT_DENOTING\": \"Administration\", \"SOCIODEMOGRAPHY\": 1, \"SOCIODEMOGRAPHY_DENOTING\": \"White_Male\"}, {\"SALARY\": 21450, \"EDUC\": 12, \"SALBEGIN\": 12750, \"GENDER\": 0, \"MINORITY\": 0, \"JOBCAT\": 1, \"GENDER_DENOTING\": \"Female\", \"MINORITY_DENOTING\": \"White\", \"JOBCAT_DENOTING\": \"Administration\", \"SOCIODEMOGRAPHY\": 0, \"SOCIODEMOGRAPHY_DENOTING\": \"White_Female\"}, {\"SALARY\": 29400, \"EDUC\": 12, \"SALBEGIN\": 14250, \"GENDER\": 0, \"MINORITY\": 0, \"JOBCAT\": 1, \"GENDER_DENOTING\": \"Female\", \"MINORITY_DENOTING\": \"White\", \"JOBCAT_DENOTING\": \"Administration\", \"SOCIODEMOGRAPHY\": 0, \"SOCIODEMOGRAPHY_DENOTING\": \"White_Female\"}]}}, {\"mode\": \"vega-lite\"});\n</script>",
      "text/plain": [
       "alt.Chart(...)"
      ]
     },
     "metadata": {},
     "execution_count": 43
    }
   ],
   "source": [
    "alt.Chart(df).mark_point(size=60).encode(\n",
    "    x=alt.X(\"MINORITY_DENOTING\", axis = alt.Axis(labelAngle=0)),\n",
    "    y = alt.Y(\"SALARY\"),\n",
    "    color = \"GENDER_DENOTING\",\n",
    "    column = \"JOBCAT_DENOTING\"\n",
    ").properties(\n",
    "    title = \"Impact of Sociodemography on Salary\",\n",
    "    width = 200\n",
    "    )"
   ]
  },
  {
   "source": [
    "Here you can see:\n",
    "\n",
    "- The administration is quite diverse in its `sociodemographic` background but it looks like as if persons who are classified as beeing male get a higher salary.\n",
    "- The custody unit has for all its employees a nearly consistent salary.  \n",
    "- To be part of the management (the bank unit with the highest salaries) means you most likely should be categorized as white and male."
   ],
   "cell_type": "markdown",
   "metadata": {}
  },
  {
   "cell_type": "code",
   "execution_count": null,
   "metadata": {},
   "outputs": [],
   "source": []
  }
 ]
}