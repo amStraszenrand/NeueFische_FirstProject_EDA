{
 "metadata": {
  "language_info": {
   "codemirror_mode": {
    "name": "ipython",
    "version": 3
   },
   "file_extension": ".py",
   "mimetype": "text/x-python",
   "name": "python",
   "nbconvert_exporter": "python",
   "pygments_lexer": "ipython3",
   "version": "3.8.5"
  },
  "orig_nbformat": 2,
  "kernelspec": {
   "name": "python385jvsc74a57bd0b97710d494ffeb654d41d16f65990d28edf229515e751f1ea393dba413e87e78",
   "display_name": "Python 3.8.5 64-bit"
  },
  "metadata": {
   "interpreter": {
    "hash": "b97710d494ffeb654d41d16f65990d28edf229515e751f1ea393dba413e87e78"
   }
  }
 },
 "nbformat": 4,
 "nbformat_minor": 2,
 "cells": [
  {
   "source": [
    "### Try out a linear regression on the data with all features"
   ],
   "cell_type": "markdown",
   "metadata": {}
  },
  {
   "cell_type": "code",
   "execution_count": 67,
   "metadata": {},
   "outputs": [],
   "source": [
    "import pandas as pd\n",
    "import numpy as np\n",
    "\n",
    "import matplotlib.pyplot as plt\n",
    "import seaborn as sns\n",
    "import plotly.express as plx\n",
    "import plotly.graph_objects as go\n",
    "\n",
    "\n",
    "from sklearn.model_selection import train_test_split\n",
    "from sklearn.linear_model import LinearRegression\n",
    "from sklearn.metrics import mean_squared_error\n",
    "import statsmodels.api as sms\n",
    "import scipy.stats as stats"
   ]
  },
  {
   "cell_type": "code",
   "execution_count": 68,
   "metadata": {},
   "outputs": [],
   "source": [
    "%store -r df"
   ]
  },
  {
   "source": [
    "First we may check the correlations within the data. "
   ],
   "cell_type": "markdown",
   "metadata": {}
  },
  {
   "cell_type": "code",
   "execution_count": 69,
   "metadata": {},
   "outputs": [
    {
     "output_type": "execute_result",
     "data": {
      "text/plain": [
       "<AxesSubplot:>"
      ]
     },
     "metadata": {},
     "execution_count": 69
    },
    {
     "output_type": "display_data",
     "data": {
      "text/plain": "<Figure size 432x288 with 2 Axes>",
      "image/svg+xml": "<?xml version=\"1.0\" encoding=\"utf-8\" standalone=\"no\"?>\n<!DOCTYPE svg PUBLIC \"-//W3C//DTD SVG 1.1//EN\"\n  \"http://www.w3.org/Graphics/SVG/1.1/DTD/svg11.dtd\">\n<svg height=\"345.978281pt\" version=\"1.1\" viewBox=\"0 0 443.094188 345.978281\" width=\"443.094188pt\" xmlns=\"http://www.w3.org/2000/svg\" xmlns:xlink=\"http://www.w3.org/1999/xlink\">\n <metadata>\n  <rdf:RDF xmlns:cc=\"http://creativecommons.org/ns#\" xmlns:dc=\"http://purl.org/dc/elements/1.1/\" xmlns:rdf=\"http://www.w3.org/1999/02/22-rdf-syntax-ns#\">\n   <cc:Work>\n    <dc:type rdf:resource=\"http://purl.org/dc/dcmitype/StillImage\"/>\n    <dc:date>2021-06-04T11:48:43.229610</dc:date>\n    <dc:format>image/svg+xml</dc:format>\n    <dc:creator>\n     <cc:Agent>\n      <dc:title>Matplotlib v3.4.2, https://matplotlib.org/</dc:title>\n     </cc:Agent>\n    </dc:creator>\n   </cc:Work>\n  </rdf:RDF>\n </metadata>\n <defs>\n  <style type=\"text/css\">*{stroke-linecap:butt;stroke-linejoin:round;}</style>\n </defs>\n <g id=\"figure_1\">\n  <g id=\"patch_1\">\n   <path d=\"M 0 345.978281 \nL 443.094188 345.978281 \nL 443.094188 0 \nL 0 0 \nz\n\" style=\"fill:none;\"/>\n  </g>\n  <g id=\"axes_1\">\n   <g id=\"patch_2\">\n    <path d=\"M 117.539062 228.439219 \nL 385.379063 228.439219 \nL 385.379063 10.999219 \nL 117.539062 10.999219 \nz\n\" style=\"fill:#ffffff;\"/>\n   </g>\n   <g id=\"QuadMesh_1\">\n    <path clip-path=\"url(#pffd06a8fb3)\" d=\"M 117.539062 10.999219 \nL 155.80192 10.999219 \nL 155.80192 42.062076 \nL 117.539062 42.062076 \nL 117.539062 10.999219 \n\" style=\"fill:#faebdd;stroke:#ffffff;\"/>\n    <path clip-path=\"url(#pffd06a8fb3)\" d=\"M 155.80192 10.999219 \nL 194.064777 10.999219 \nL 194.064777 42.062076 \nL 155.80192 42.062076 \nL 155.80192 10.999219 \n\" style=\"fill:#f37651;stroke:#ffffff;\"/>\n    <path clip-path=\"url(#pffd06a8fb3)\" d=\"M 194.064777 10.999219 \nL 232.327634 10.999219 \nL 232.327634 42.062076 \nL 194.064777 42.062076 \nL 194.064777 10.999219 \n\" style=\"fill:#f7c4a4;stroke:#ffffff;\"/>\n    <path clip-path=\"url(#pffd06a8fb3)\" d=\"M 232.327634 10.999219 \nL 270.590491 10.999219 \nL 270.590491 42.062076 \nL 232.327634 42.062076 \nL 232.327634 10.999219 \n\" style=\"fill:#d62449;stroke:#ffffff;\"/>\n    <path clip-path=\"url(#pffd06a8fb3)\" d=\"M 270.590491 10.999219 \nL 308.853348 10.999219 \nL 308.853348 42.062076 \nL 270.590491 42.062076 \nL 270.590491 10.999219 \n\" style=\"fill:#03051a;stroke:#ffffff;\"/>\n    <path clip-path=\"url(#pffd06a8fb3)\" d=\"M 308.853348 10.999219 \nL 347.116205 10.999219 \nL 347.116205 42.062076 \nL 308.853348 42.062076 \nL 308.853348 10.999219 \n\" style=\"fill:#f6a37a;stroke:#ffffff;\"/>\n    <path clip-path=\"url(#pffd06a8fb3)\" d=\"M 347.116205 10.999219 \nL 385.379063 10.999219 \nL 385.379063 42.062076 \nL 347.116205 42.062076 \nL 347.116205 10.999219 \n\" style=\"fill:#531e4d;stroke:#ffffff;\"/>\n    <path clip-path=\"url(#pffd06a8fb3)\" d=\"M 117.539062 42.062076 \nL 155.80192 42.062076 \nL 155.80192 73.124933 \nL 117.539062 73.124933 \nL 117.539062 42.062076 \n\" style=\"fill:#f37651;stroke:#ffffff;\"/>\n    <path clip-path=\"url(#pffd06a8fb3)\" d=\"M 155.80192 42.062076 \nL 194.064777 42.062076 \nL 194.064777 73.124933 \nL 155.80192 73.124933 \nL 155.80192 42.062076 \n\" style=\"fill:#faebdd;stroke:#ffffff;\"/>\n    <path clip-path=\"url(#pffd06a8fb3)\" d=\"M 194.064777 42.062076 \nL 232.327634 42.062076 \nL 232.327634 73.124933 \nL 194.064777 73.124933 \nL 194.064777 42.062076 \n\" style=\"fill:#f26b49;stroke:#ffffff;\"/>\n    <path clip-path=\"url(#pffd06a8fb3)\" d=\"M 232.327634 42.062076 \nL 270.590491 42.062076 \nL 270.590491 73.124933 \nL 232.327634 73.124933 \nL 232.327634 42.062076 \n\" style=\"fill:#b71657;stroke:#ffffff;\"/>\n    <path clip-path=\"url(#pffd06a8fb3)\" d=\"M 270.590491 42.062076 \nL 308.853348 42.062076 \nL 308.853348 73.124933 \nL 270.590491 73.124933 \nL 270.590491 42.062076 \n\" style=\"fill:#0e0b22;stroke:#ffffff;\"/>\n    <path clip-path=\"url(#pffd06a8fb3)\" d=\"M 308.853348 42.062076 \nL 347.116205 42.062076 \nL 347.116205 73.124933 \nL 308.853348 73.124933 \nL 308.853348 42.062076 \n\" style=\"fill:#e53940;stroke:#ffffff;\"/>\n    <path clip-path=\"url(#pffd06a8fb3)\" d=\"M 347.116205 42.062076 \nL 385.379063 42.062076 \nL 385.379063 73.124933 \nL 347.116205 73.124933 \nL 347.116205 42.062076 \n\" style=\"fill:#501d4c;stroke:#ffffff;\"/>\n    <path clip-path=\"url(#pffd06a8fb3)\" d=\"M 117.539062 73.124933 \nL 155.80192 73.124933 \nL 155.80192 104.18779 \nL 117.539062 104.18779 \nL 117.539062 73.124933 \n\" style=\"fill:#f7c4a4;stroke:#ffffff;\"/>\n    <path clip-path=\"url(#pffd06a8fb3)\" d=\"M 155.80192 73.124933 \nL 194.064777 73.124933 \nL 194.064777 104.18779 \nL 155.80192 104.18779 \nL 155.80192 73.124933 \n\" style=\"fill:#f26b49;stroke:#ffffff;\"/>\n    <path clip-path=\"url(#pffd06a8fb3)\" d=\"M 194.064777 73.124933 \nL 232.327634 73.124933 \nL 232.327634 104.18779 \nL 194.064777 104.18779 \nL 194.064777 73.124933 \n\" style=\"fill:#faebdd;stroke:#ffffff;\"/>\n    <path clip-path=\"url(#pffd06a8fb3)\" d=\"M 232.327634 73.124933 \nL 270.590491 73.124933 \nL 270.590491 104.18779 \nL 232.327634 104.18779 \nL 232.327634 73.124933 \n\" style=\"fill:#d72549;stroke:#ffffff;\"/>\n    <path clip-path=\"url(#pffd06a8fb3)\" d=\"M 270.590491 73.124933 \nL 308.853348 73.124933 \nL 308.853348 104.18779 \nL 270.590491 104.18779 \nL 270.590491 73.124933 \n\" style=\"fill:#07071d;stroke:#ffffff;\"/>\n    <path clip-path=\"url(#pffd06a8fb3)\" d=\"M 308.853348 73.124933 \nL 347.116205 73.124933 \nL 347.116205 104.18779 \nL 308.853348 104.18779 \nL 308.853348 73.124933 \n\" style=\"fill:#f59970;stroke:#ffffff;\"/>\n    <path clip-path=\"url(#pffd06a8fb3)\" d=\"M 347.116205 73.124933 \nL 385.379063 73.124933 \nL 385.379063 104.18779 \nL 347.116205 104.18779 \nL 347.116205 73.124933 \n\" style=\"fill:#591e50;stroke:#ffffff;\"/>\n    <path clip-path=\"url(#pffd06a8fb3)\" d=\"M 117.539062 104.18779 \nL 155.80192 104.18779 \nL 155.80192 135.250647 \nL 117.539062 135.250647 \nL 117.539062 104.18779 \n\" style=\"fill:#d62449;stroke:#ffffff;\"/>\n    <path clip-path=\"url(#pffd06a8fb3)\" d=\"M 155.80192 104.18779 \nL 194.064777 104.18779 \nL 194.064777 135.250647 \nL 155.80192 135.250647 \nL 155.80192 104.18779 \n\" style=\"fill:#b71657;stroke:#ffffff;\"/>\n    <path clip-path=\"url(#pffd06a8fb3)\" d=\"M 194.064777 104.18779 \nL 232.327634 104.18779 \nL 232.327634 135.250647 \nL 194.064777 135.250647 \nL 194.064777 104.18779 \n\" style=\"fill:#d72549;stroke:#ffffff;\"/>\n    <path clip-path=\"url(#pffd06a8fb3)\" d=\"M 232.327634 104.18779 \nL 270.590491 104.18779 \nL 270.590491 135.250647 \nL 232.327634 135.250647 \nL 232.327634 104.18779 \n\" style=\"fill:#faebdd;stroke:#ffffff;\"/>\n    <path clip-path=\"url(#pffd06a8fb3)\" d=\"M 270.590491 104.18779 \nL 308.853348 104.18779 \nL 308.853348 135.250647 \nL 270.590491 135.250647 \nL 270.590491 104.18779 \n\" style=\"fill:#531e4d;stroke:#ffffff;\"/>\n    <path clip-path=\"url(#pffd06a8fb3)\" d=\"M 308.853348 104.18779 \nL 347.116205 104.18779 \nL 347.116205 135.250647 \nL 308.853348 135.250647 \nL 308.853348 104.18779 \n\" style=\"fill:#bf1654;stroke:#ffffff;\"/>\n    <path clip-path=\"url(#pffd06a8fb3)\" d=\"M 347.116205 104.18779 \nL 385.379063 104.18779 \nL 385.379063 135.250647 \nL 347.116205 135.250647 \nL 347.116205 104.18779 \n\" style=\"fill:#ec4c3e;stroke:#ffffff;\"/>\n    <path clip-path=\"url(#pffd06a8fb3)\" d=\"M 117.539062 135.250647 \nL 155.80192 135.250647 \nL 155.80192 166.313504 \nL 117.539062 166.313504 \nL 117.539062 135.250647 \n\" style=\"fill:#03051a;stroke:#ffffff;\"/>\n    <path clip-path=\"url(#pffd06a8fb3)\" d=\"M 155.80192 135.250647 \nL 194.064777 135.250647 \nL 194.064777 166.313504 \nL 155.80192 166.313504 \nL 155.80192 135.250647 \n\" style=\"fill:#0e0b22;stroke:#ffffff;\"/>\n    <path clip-path=\"url(#pffd06a8fb3)\" d=\"M 194.064777 135.250647 \nL 232.327634 135.250647 \nL 232.327634 166.313504 \nL 194.064777 166.313504 \nL 194.064777 135.250647 \n\" style=\"fill:#07071d;stroke:#ffffff;\"/>\n    <path clip-path=\"url(#pffd06a8fb3)\" d=\"M 232.327634 135.250647 \nL 270.590491 135.250647 \nL 270.590491 166.313504 \nL 232.327634 166.313504 \nL 232.327634 135.250647 \n\" style=\"fill:#531e4d;stroke:#ffffff;\"/>\n    <path clip-path=\"url(#pffd06a8fb3)\" d=\"M 270.590491 135.250647 \nL 308.853348 135.250647 \nL 308.853348 166.313504 \nL 270.590491 166.313504 \nL 270.590491 135.250647 \n\" style=\"fill:#faebdd;stroke:#ffffff;\"/>\n    <path clip-path=\"url(#pffd06a8fb3)\" d=\"M 308.853348 135.250647 \nL 347.116205 135.250647 \nL 347.116205 166.313504 \nL 308.853348 166.313504 \nL 308.853348 135.250647 \n\" style=\"fill:#0b0920;stroke:#ffffff;\"/>\n    <path clip-path=\"url(#pffd06a8fb3)\" d=\"M 347.116205 135.250647 \nL 385.379063 135.250647 \nL 385.379063 166.313504 \nL 347.116205 166.313504 \nL 347.116205 135.250647 \n\" style=\"fill:#f6c19f;stroke:#ffffff;\"/>\n    <path clip-path=\"url(#pffd06a8fb3)\" d=\"M 117.539062 166.313504 \nL 155.80192 166.313504 \nL 155.80192 197.376362 \nL 117.539062 197.376362 \nL 117.539062 166.313504 \n\" style=\"fill:#f6a37a;stroke:#ffffff;\"/>\n    <path clip-path=\"url(#pffd06a8fb3)\" d=\"M 155.80192 166.313504 \nL 194.064777 166.313504 \nL 194.064777 197.376362 \nL 155.80192 197.376362 \nL 155.80192 166.313504 \n\" style=\"fill:#e53940;stroke:#ffffff;\"/>\n    <path clip-path=\"url(#pffd06a8fb3)\" d=\"M 194.064777 166.313504 \nL 232.327634 166.313504 \nL 232.327634 197.376362 \nL 194.064777 197.376362 \nL 194.064777 166.313504 \n\" style=\"fill:#f59970;stroke:#ffffff;\"/>\n    <path clip-path=\"url(#pffd06a8fb3)\" d=\"M 232.327634 166.313504 \nL 270.590491 166.313504 \nL 270.590491 197.376362 \nL 232.327634 197.376362 \nL 232.327634 166.313504 \n\" style=\"fill:#bf1654;stroke:#ffffff;\"/>\n    <path clip-path=\"url(#pffd06a8fb3)\" d=\"M 270.590491 166.313504 \nL 308.853348 166.313504 \nL 308.853348 197.376362 \nL 270.590491 197.376362 \nL 270.590491 166.313504 \n\" style=\"fill:#0b0920;stroke:#ffffff;\"/>\n    <path clip-path=\"url(#pffd06a8fb3)\" d=\"M 308.853348 166.313504 \nL 347.116205 166.313504 \nL 347.116205 197.376362 \nL 308.853348 197.376362 \nL 308.853348 166.313504 \n\" style=\"fill:#faebdd;stroke:#ffffff;\"/>\n    <path clip-path=\"url(#pffd06a8fb3)\" d=\"M 347.116205 166.313504 \nL 385.379063 166.313504 \nL 385.379063 197.376362 \nL 347.116205 197.376362 \nL 347.116205 166.313504 \n\" style=\"fill:#501d4c;stroke:#ffffff;\"/>\n    <path clip-path=\"url(#pffd06a8fb3)\" d=\"M 117.539062 197.376362 \nL 155.80192 197.376362 \nL 155.80192 228.439219 \nL 117.539062 228.439219 \nL 117.539062 197.376362 \n\" style=\"fill:#531e4d;stroke:#ffffff;\"/>\n    <path clip-path=\"url(#pffd06a8fb3)\" d=\"M 155.80192 197.376362 \nL 194.064777 197.376362 \nL 194.064777 228.439219 \nL 155.80192 228.439219 \nL 155.80192 197.376362 \n\" style=\"fill:#501d4c;stroke:#ffffff;\"/>\n    <path clip-path=\"url(#pffd06a8fb3)\" d=\"M 194.064777 197.376362 \nL 232.327634 197.376362 \nL 232.327634 228.439219 \nL 194.064777 228.439219 \nL 194.064777 197.376362 \n\" style=\"fill:#591e50;stroke:#ffffff;\"/>\n    <path clip-path=\"url(#pffd06a8fb3)\" d=\"M 232.327634 197.376362 \nL 270.590491 197.376362 \nL 270.590491 228.439219 \nL 232.327634 228.439219 \nL 232.327634 197.376362 \n\" style=\"fill:#ec4c3e;stroke:#ffffff;\"/>\n    <path clip-path=\"url(#pffd06a8fb3)\" d=\"M 270.590491 197.376362 \nL 308.853348 197.376362 \nL 308.853348 228.439219 \nL 270.590491 228.439219 \nL 270.590491 197.376362 \n\" style=\"fill:#f6c19f;stroke:#ffffff;\"/>\n    <path clip-path=\"url(#pffd06a8fb3)\" d=\"M 308.853348 197.376362 \nL 347.116205 197.376362 \nL 347.116205 228.439219 \nL 308.853348 228.439219 \nL 308.853348 197.376362 \n\" style=\"fill:#501d4c;stroke:#ffffff;\"/>\n    <path clip-path=\"url(#pffd06a8fb3)\" d=\"M 347.116205 197.376362 \nL 385.379063 197.376362 \nL 385.379063 228.439219 \nL 347.116205 228.439219 \nL 347.116205 197.376362 \n\" style=\"fill:#faebdd;stroke:#ffffff;\"/>\n   </g>\n   <g id=\"matplotlib.axis_1\">\n    <g id=\"xtick_1\">\n     <g id=\"line2d_1\">\n      <defs>\n       <path d=\"M 0 0 \nL 0 3.5 \n\" id=\"m1631675046\" style=\"stroke:#000000;stroke-width:0.8;\"/>\n      </defs>\n      <g>\n       <use style=\"stroke:#000000;stroke-width:0.8;\" x=\"136.670491\" xlink:href=\"#m1631675046\" y=\"228.439219\"/>\n      </g>\n     </g>\n     <g id=\"text_1\">\n      <!-- SALARY -->\n      <g transform=\"translate(139.429866 273.872031)rotate(-90)scale(0.1 -0.1)\">\n       <defs>\n        <path d=\"M 3425 4513 \nL 3425 3897 \nQ 3066 4069 2747 4153 \nQ 2428 4238 2131 4238 \nQ 1616 4238 1336 4038 \nQ 1056 3838 1056 3469 \nQ 1056 3159 1242 3001 \nQ 1428 2844 1947 2747 \nL 2328 2669 \nQ 3034 2534 3370 2195 \nQ 3706 1856 3706 1288 \nQ 3706 609 3251 259 \nQ 2797 -91 1919 -91 \nQ 1588 -91 1214 -16 \nQ 841 59 441 206 \nL 441 856 \nQ 825 641 1194 531 \nQ 1563 422 1919 422 \nQ 2459 422 2753 634 \nQ 3047 847 3047 1241 \nQ 3047 1584 2836 1778 \nQ 2625 1972 2144 2069 \nL 1759 2144 \nQ 1053 2284 737 2584 \nQ 422 2884 422 3419 \nQ 422 4038 858 4394 \nQ 1294 4750 2059 4750 \nQ 2388 4750 2728 4690 \nQ 3069 4631 3425 4513 \nz\n\" id=\"DejaVuSans-53\" transform=\"scale(0.015625)\"/>\n        <path d=\"M 2188 4044 \nL 1331 1722 \nL 3047 1722 \nL 2188 4044 \nz\nM 1831 4666 \nL 2547 4666 \nL 4325 0 \nL 3669 0 \nL 3244 1197 \nL 1141 1197 \nL 716 0 \nL 50 0 \nL 1831 4666 \nz\n\" id=\"DejaVuSans-41\" transform=\"scale(0.015625)\"/>\n        <path d=\"M 628 4666 \nL 1259 4666 \nL 1259 531 \nL 3531 531 \nL 3531 0 \nL 628 0 \nL 628 4666 \nz\n\" id=\"DejaVuSans-4c\" transform=\"scale(0.015625)\"/>\n        <path d=\"M 2841 2188 \nQ 3044 2119 3236 1894 \nQ 3428 1669 3622 1275 \nL 4263 0 \nL 3584 0 \nL 2988 1197 \nQ 2756 1666 2539 1819 \nQ 2322 1972 1947 1972 \nL 1259 1972 \nL 1259 0 \nL 628 0 \nL 628 4666 \nL 2053 4666 \nQ 2853 4666 3247 4331 \nQ 3641 3997 3641 3322 \nQ 3641 2881 3436 2590 \nQ 3231 2300 2841 2188 \nz\nM 1259 4147 \nL 1259 2491 \nL 2053 2491 \nQ 2509 2491 2742 2702 \nQ 2975 2913 2975 3322 \nQ 2975 3731 2742 3939 \nQ 2509 4147 2053 4147 \nL 1259 4147 \nz\n\" id=\"DejaVuSans-52\" transform=\"scale(0.015625)\"/>\n        <path d=\"M -13 4666 \nL 666 4666 \nL 1959 2747 \nL 3244 4666 \nL 3922 4666 \nL 2272 2222 \nL 2272 0 \nL 1638 0 \nL 1638 2222 \nL -13 4666 \nz\n\" id=\"DejaVuSans-59\" transform=\"scale(0.015625)\"/>\n       </defs>\n       <use xlink:href=\"#DejaVuSans-53\"/>\n       <use x=\"65.351562\" xlink:href=\"#DejaVuSans-41\"/>\n       <use x=\"133.759766\" xlink:href=\"#DejaVuSans-4c\"/>\n       <use x=\"191.722656\" xlink:href=\"#DejaVuSans-41\"/>\n       <use x=\"260.130859\" xlink:href=\"#DejaVuSans-52\"/>\n       <use x=\"323.238281\" xlink:href=\"#DejaVuSans-59\"/>\n      </g>\n     </g>\n    </g>\n    <g id=\"xtick_2\">\n     <g id=\"line2d_2\">\n      <g>\n       <use style=\"stroke:#000000;stroke-width:0.8;\" x=\"174.933348\" xlink:href=\"#m1631675046\" y=\"228.439219\"/>\n      </g>\n     </g>\n     <g id=\"text_2\">\n      <!-- EDUC -->\n      <g transform=\"translate(177.692723 263.759531)rotate(-90)scale(0.1 -0.1)\">\n       <defs>\n        <path d=\"M 628 4666 \nL 3578 4666 \nL 3578 4134 \nL 1259 4134 \nL 1259 2753 \nL 3481 2753 \nL 3481 2222 \nL 1259 2222 \nL 1259 531 \nL 3634 531 \nL 3634 0 \nL 628 0 \nL 628 4666 \nz\n\" id=\"DejaVuSans-45\" transform=\"scale(0.015625)\"/>\n        <path d=\"M 1259 4147 \nL 1259 519 \nL 2022 519 \nQ 2988 519 3436 956 \nQ 3884 1394 3884 2338 \nQ 3884 3275 3436 3711 \nQ 2988 4147 2022 4147 \nL 1259 4147 \nz\nM 628 4666 \nL 1925 4666 \nQ 3281 4666 3915 4102 \nQ 4550 3538 4550 2338 \nQ 4550 1131 3912 565 \nQ 3275 0 1925 0 \nL 628 0 \nL 628 4666 \nz\n\" id=\"DejaVuSans-44\" transform=\"scale(0.015625)\"/>\n        <path d=\"M 556 4666 \nL 1191 4666 \nL 1191 1831 \nQ 1191 1081 1462 751 \nQ 1734 422 2344 422 \nQ 2950 422 3222 751 \nQ 3494 1081 3494 1831 \nL 3494 4666 \nL 4128 4666 \nL 4128 1753 \nQ 4128 841 3676 375 \nQ 3225 -91 2344 -91 \nQ 1459 -91 1007 375 \nQ 556 841 556 1753 \nL 556 4666 \nz\n\" id=\"DejaVuSans-55\" transform=\"scale(0.015625)\"/>\n        <path d=\"M 4122 4306 \nL 4122 3641 \nQ 3803 3938 3442 4084 \nQ 3081 4231 2675 4231 \nQ 1875 4231 1450 3742 \nQ 1025 3253 1025 2328 \nQ 1025 1406 1450 917 \nQ 1875 428 2675 428 \nQ 3081 428 3442 575 \nQ 3803 722 4122 1019 \nL 4122 359 \nQ 3791 134 3420 21 \nQ 3050 -91 2638 -91 \nQ 1578 -91 968 557 \nQ 359 1206 359 2328 \nQ 359 3453 968 4101 \nQ 1578 4750 2638 4750 \nQ 3056 4750 3426 4639 \nQ 3797 4528 4122 4306 \nz\n\" id=\"DejaVuSans-43\" transform=\"scale(0.015625)\"/>\n       </defs>\n       <use xlink:href=\"#DejaVuSans-45\"/>\n       <use x=\"63.183594\" xlink:href=\"#DejaVuSans-44\"/>\n       <use x=\"140.185547\" xlink:href=\"#DejaVuSans-55\"/>\n       <use x=\"213.378906\" xlink:href=\"#DejaVuSans-43\"/>\n      </g>\n     </g>\n    </g>\n    <g id=\"xtick_3\">\n     <g id=\"line2d_3\">\n      <g>\n       <use style=\"stroke:#000000;stroke-width:0.8;\" x=\"213.196205\" xlink:href=\"#m1631675046\" y=\"228.439219\"/>\n      </g>\n     </g>\n     <g id=\"text_3\">\n      <!-- SALBEGIN -->\n      <g transform=\"translate(215.95558 285.747031)rotate(-90)scale(0.1 -0.1)\">\n       <defs>\n        <path d=\"M 1259 2228 \nL 1259 519 \nL 2272 519 \nQ 2781 519 3026 730 \nQ 3272 941 3272 1375 \nQ 3272 1813 3026 2020 \nQ 2781 2228 2272 2228 \nL 1259 2228 \nz\nM 1259 4147 \nL 1259 2741 \nL 2194 2741 \nQ 2656 2741 2882 2914 \nQ 3109 3088 3109 3444 \nQ 3109 3797 2882 3972 \nQ 2656 4147 2194 4147 \nL 1259 4147 \nz\nM 628 4666 \nL 2241 4666 \nQ 2963 4666 3353 4366 \nQ 3744 4066 3744 3513 \nQ 3744 3084 3544 2831 \nQ 3344 2578 2956 2516 \nQ 3422 2416 3680 2098 \nQ 3938 1781 3938 1306 \nQ 3938 681 3513 340 \nQ 3088 0 2303 0 \nL 628 0 \nL 628 4666 \nz\n\" id=\"DejaVuSans-42\" transform=\"scale(0.015625)\"/>\n        <path d=\"M 3809 666 \nL 3809 1919 \nL 2778 1919 \nL 2778 2438 \nL 4434 2438 \nL 4434 434 \nQ 4069 175 3628 42 \nQ 3188 -91 2688 -91 \nQ 1594 -91 976 548 \nQ 359 1188 359 2328 \nQ 359 3472 976 4111 \nQ 1594 4750 2688 4750 \nQ 3144 4750 3555 4637 \nQ 3966 4525 4313 4306 \nL 4313 3634 \nQ 3963 3931 3569 4081 \nQ 3175 4231 2741 4231 \nQ 1884 4231 1454 3753 \nQ 1025 3275 1025 2328 \nQ 1025 1384 1454 906 \nQ 1884 428 2741 428 \nQ 3075 428 3337 486 \nQ 3600 544 3809 666 \nz\n\" id=\"DejaVuSans-47\" transform=\"scale(0.015625)\"/>\n        <path d=\"M 628 4666 \nL 1259 4666 \nL 1259 0 \nL 628 0 \nL 628 4666 \nz\n\" id=\"DejaVuSans-49\" transform=\"scale(0.015625)\"/>\n        <path d=\"M 628 4666 \nL 1478 4666 \nL 3547 763 \nL 3547 4666 \nL 4159 4666 \nL 4159 0 \nL 3309 0 \nL 1241 3903 \nL 1241 0 \nL 628 0 \nL 628 4666 \nz\n\" id=\"DejaVuSans-4e\" transform=\"scale(0.015625)\"/>\n       </defs>\n       <use xlink:href=\"#DejaVuSans-53\"/>\n       <use x=\"65.351562\" xlink:href=\"#DejaVuSans-41\"/>\n       <use x=\"133.759766\" xlink:href=\"#DejaVuSans-4c\"/>\n       <use x=\"189.472656\" xlink:href=\"#DejaVuSans-42\"/>\n       <use x=\"258.076172\" xlink:href=\"#DejaVuSans-45\"/>\n       <use x=\"321.259766\" xlink:href=\"#DejaVuSans-47\"/>\n       <use x=\"398.75\" xlink:href=\"#DejaVuSans-49\"/>\n       <use x=\"428.242188\" xlink:href=\"#DejaVuSans-4e\"/>\n      </g>\n     </g>\n    </g>\n    <g id=\"xtick_4\">\n     <g id=\"line2d_4\">\n      <g>\n       <use style=\"stroke:#000000;stroke-width:0.8;\" x=\"251.459063\" xlink:href=\"#m1631675046\" y=\"228.439219\"/>\n      </g>\n     </g>\n     <g id=\"text_4\">\n      <!-- GENDER -->\n      <g transform=\"translate(254.218438 277.954844)rotate(-90)scale(0.1 -0.1)\">\n       <use xlink:href=\"#DejaVuSans-47\"/>\n       <use x=\"77.490234\" xlink:href=\"#DejaVuSans-45\"/>\n       <use x=\"140.673828\" xlink:href=\"#DejaVuSans-4e\"/>\n       <use x=\"215.478516\" xlink:href=\"#DejaVuSans-44\"/>\n       <use x=\"292.480469\" xlink:href=\"#DejaVuSans-45\"/>\n       <use x=\"355.664062\" xlink:href=\"#DejaVuSans-52\"/>\n      </g>\n     </g>\n    </g>\n    <g id=\"xtick_5\">\n     <g id=\"line2d_5\">\n      <g>\n       <use style=\"stroke:#000000;stroke-width:0.8;\" x=\"289.72192\" xlink:href=\"#m1631675046\" y=\"228.439219\"/>\n      </g>\n     </g>\n     <g id=\"text_5\">\n      <!-- MINORITY -->\n      <g transform=\"translate(292.481295 284.484531)rotate(-90)scale(0.1 -0.1)\">\n       <defs>\n        <path d=\"M 628 4666 \nL 1569 4666 \nL 2759 1491 \nL 3956 4666 \nL 4897 4666 \nL 4897 0 \nL 4281 0 \nL 4281 4097 \nL 3078 897 \nL 2444 897 \nL 1241 4097 \nL 1241 0 \nL 628 0 \nL 628 4666 \nz\n\" id=\"DejaVuSans-4d\" transform=\"scale(0.015625)\"/>\n        <path d=\"M 2522 4238 \nQ 1834 4238 1429 3725 \nQ 1025 3213 1025 2328 \nQ 1025 1447 1429 934 \nQ 1834 422 2522 422 \nQ 3209 422 3611 934 \nQ 4013 1447 4013 2328 \nQ 4013 3213 3611 3725 \nQ 3209 4238 2522 4238 \nz\nM 2522 4750 \nQ 3503 4750 4090 4092 \nQ 4678 3434 4678 2328 \nQ 4678 1225 4090 567 \nQ 3503 -91 2522 -91 \nQ 1538 -91 948 565 \nQ 359 1222 359 2328 \nQ 359 3434 948 4092 \nQ 1538 4750 2522 4750 \nz\n\" id=\"DejaVuSans-4f\" transform=\"scale(0.015625)\"/>\n        <path d=\"M -19 4666 \nL 3928 4666 \nL 3928 4134 \nL 2272 4134 \nL 2272 0 \nL 1638 0 \nL 1638 4134 \nL -19 4134 \nL -19 4666 \nz\n\" id=\"DejaVuSans-54\" transform=\"scale(0.015625)\"/>\n       </defs>\n       <use xlink:href=\"#DejaVuSans-4d\"/>\n       <use x=\"86.279297\" xlink:href=\"#DejaVuSans-49\"/>\n       <use x=\"115.771484\" xlink:href=\"#DejaVuSans-4e\"/>\n       <use x=\"190.576172\" xlink:href=\"#DejaVuSans-4f\"/>\n       <use x=\"269.287109\" xlink:href=\"#DejaVuSans-52\"/>\n       <use x=\"338.769531\" xlink:href=\"#DejaVuSans-49\"/>\n       <use x=\"368.261719\" xlink:href=\"#DejaVuSans-54\"/>\n       <use x=\"429.345703\" xlink:href=\"#DejaVuSans-59\"/>\n      </g>\n     </g>\n    </g>\n    <g id=\"xtick_6\">\n     <g id=\"line2d_6\">\n      <g>\n       <use style=\"stroke:#000000;stroke-width:0.8;\" x=\"327.984777\" xlink:href=\"#m1631675046\" y=\"228.439219\"/>\n      </g>\n     </g>\n     <g id=\"text_6\">\n      <!-- JOBCAT -->\n      <g transform=\"translate(330.744152 272.103281)rotate(-90)scale(0.1 -0.1)\">\n       <defs>\n        <path d=\"M 628 4666 \nL 1259 4666 \nL 1259 325 \nQ 1259 -519 939 -900 \nQ 619 -1281 -91 -1281 \nL -331 -1281 \nL -331 -750 \nL -134 -750 \nQ 284 -750 456 -515 \nQ 628 -281 628 325 \nL 628 4666 \nz\n\" id=\"DejaVuSans-4a\" transform=\"scale(0.015625)\"/>\n       </defs>\n       <use xlink:href=\"#DejaVuSans-4a\"/>\n       <use x=\"29.492188\" xlink:href=\"#DejaVuSans-4f\"/>\n       <use x=\"108.203125\" xlink:href=\"#DejaVuSans-42\"/>\n       <use x=\"175.056641\" xlink:href=\"#DejaVuSans-43\"/>\n       <use x=\"244.880859\" xlink:href=\"#DejaVuSans-41\"/>\n       <use x=\"305.539062\" xlink:href=\"#DejaVuSans-54\"/>\n      </g>\n     </g>\n    </g>\n    <g id=\"xtick_7\">\n     <g id=\"line2d_7\">\n      <g>\n       <use style=\"stroke:#000000;stroke-width:0.8;\" x=\"366.247634\" xlink:href=\"#m1631675046\" y=\"228.439219\"/>\n      </g>\n     </g>\n     <g id=\"text_7\">\n      <!-- SOCIODEMOGRAPHY -->\n      <g transform=\"translate(369.007009 338.778281)rotate(-90)scale(0.1 -0.1)\">\n       <defs>\n        <path d=\"M 1259 4147 \nL 1259 2394 \nL 2053 2394 \nQ 2494 2394 2734 2622 \nQ 2975 2850 2975 3272 \nQ 2975 3691 2734 3919 \nQ 2494 4147 2053 4147 \nL 1259 4147 \nz\nM 628 4666 \nL 2053 4666 \nQ 2838 4666 3239 4311 \nQ 3641 3956 3641 3272 \nQ 3641 2581 3239 2228 \nQ 2838 1875 2053 1875 \nL 1259 1875 \nL 1259 0 \nL 628 0 \nL 628 4666 \nz\n\" id=\"DejaVuSans-50\" transform=\"scale(0.015625)\"/>\n        <path d=\"M 628 4666 \nL 1259 4666 \nL 1259 2753 \nL 3553 2753 \nL 3553 4666 \nL 4184 4666 \nL 4184 0 \nL 3553 0 \nL 3553 2222 \nL 1259 2222 \nL 1259 0 \nL 628 0 \nL 628 4666 \nz\n\" id=\"DejaVuSans-48\" transform=\"scale(0.015625)\"/>\n       </defs>\n       <use xlink:href=\"#DejaVuSans-53\"/>\n       <use x=\"63.476562\" xlink:href=\"#DejaVuSans-4f\"/>\n       <use x=\"142.1875\" xlink:href=\"#DejaVuSans-43\"/>\n       <use x=\"212.011719\" xlink:href=\"#DejaVuSans-49\"/>\n       <use x=\"241.503906\" xlink:href=\"#DejaVuSans-4f\"/>\n       <use x=\"320.214844\" xlink:href=\"#DejaVuSans-44\"/>\n       <use x=\"397.216797\" xlink:href=\"#DejaVuSans-45\"/>\n       <use x=\"460.400391\" xlink:href=\"#DejaVuSans-4d\"/>\n       <use x=\"546.679688\" xlink:href=\"#DejaVuSans-4f\"/>\n       <use x=\"625.390625\" xlink:href=\"#DejaVuSans-47\"/>\n       <use x=\"702.880859\" xlink:href=\"#DejaVuSans-52\"/>\n       <use x=\"768.363281\" xlink:href=\"#DejaVuSans-41\"/>\n       <use x=\"836.771484\" xlink:href=\"#DejaVuSans-50\"/>\n       <use x=\"897.074219\" xlink:href=\"#DejaVuSans-48\"/>\n       <use x=\"972.269531\" xlink:href=\"#DejaVuSans-59\"/>\n      </g>\n     </g>\n    </g>\n   </g>\n   <g id=\"matplotlib.axis_2\">\n    <g id=\"ytick_1\">\n     <g id=\"line2d_8\">\n      <defs>\n       <path d=\"M 0 0 \nL -3.5 0 \n\" id=\"mf0dd2aa005\" style=\"stroke:#000000;stroke-width:0.8;\"/>\n      </defs>\n      <g>\n       <use style=\"stroke:#000000;stroke-width:0.8;\" x=\"117.539062\" xlink:href=\"#mf0dd2aa005\" y=\"26.530647\"/>\n      </g>\n     </g>\n     <g id=\"text_8\">\n      <!-- SALARY -->\n      <g transform=\"translate(72.10625 30.329866)scale(0.1 -0.1)\">\n       <use xlink:href=\"#DejaVuSans-53\"/>\n       <use x=\"65.351562\" xlink:href=\"#DejaVuSans-41\"/>\n       <use x=\"133.759766\" xlink:href=\"#DejaVuSans-4c\"/>\n       <use x=\"191.722656\" xlink:href=\"#DejaVuSans-41\"/>\n       <use x=\"260.130859\" xlink:href=\"#DejaVuSans-52\"/>\n       <use x=\"323.238281\" xlink:href=\"#DejaVuSans-59\"/>\n      </g>\n     </g>\n    </g>\n    <g id=\"ytick_2\">\n     <g id=\"line2d_9\">\n      <g>\n       <use style=\"stroke:#000000;stroke-width:0.8;\" x=\"117.539062\" xlink:href=\"#mf0dd2aa005\" y=\"57.593504\"/>\n      </g>\n     </g>\n     <g id=\"text_9\">\n      <!-- EDUC -->\n      <g transform=\"translate(82.21875 61.392723)scale(0.1 -0.1)\">\n       <use xlink:href=\"#DejaVuSans-45\"/>\n       <use x=\"63.183594\" xlink:href=\"#DejaVuSans-44\"/>\n       <use x=\"140.185547\" xlink:href=\"#DejaVuSans-55\"/>\n       <use x=\"213.378906\" xlink:href=\"#DejaVuSans-43\"/>\n      </g>\n     </g>\n    </g>\n    <g id=\"ytick_3\">\n     <g id=\"line2d_10\">\n      <g>\n       <use style=\"stroke:#000000;stroke-width:0.8;\" x=\"117.539062\" xlink:href=\"#mf0dd2aa005\" y=\"88.656362\"/>\n      </g>\n     </g>\n     <g id=\"text_10\">\n      <!-- SALBEGIN -->\n      <g transform=\"translate(60.23125 92.45558)scale(0.1 -0.1)\">\n       <use xlink:href=\"#DejaVuSans-53\"/>\n       <use x=\"65.351562\" xlink:href=\"#DejaVuSans-41\"/>\n       <use x=\"133.759766\" xlink:href=\"#DejaVuSans-4c\"/>\n       <use x=\"189.472656\" xlink:href=\"#DejaVuSans-42\"/>\n       <use x=\"258.076172\" xlink:href=\"#DejaVuSans-45\"/>\n       <use x=\"321.259766\" xlink:href=\"#DejaVuSans-47\"/>\n       <use x=\"398.75\" xlink:href=\"#DejaVuSans-49\"/>\n       <use x=\"428.242188\" xlink:href=\"#DejaVuSans-4e\"/>\n      </g>\n     </g>\n    </g>\n    <g id=\"ytick_4\">\n     <g id=\"line2d_11\">\n      <g>\n       <use style=\"stroke:#000000;stroke-width:0.8;\" x=\"117.539062\" xlink:href=\"#mf0dd2aa005\" y=\"119.719219\"/>\n      </g>\n     </g>\n     <g id=\"text_11\">\n      <!-- GENDER -->\n      <g transform=\"translate(68.023438 123.518438)scale(0.1 -0.1)\">\n       <use xlink:href=\"#DejaVuSans-47\"/>\n       <use x=\"77.490234\" xlink:href=\"#DejaVuSans-45\"/>\n       <use x=\"140.673828\" xlink:href=\"#DejaVuSans-4e\"/>\n       <use x=\"215.478516\" xlink:href=\"#DejaVuSans-44\"/>\n       <use x=\"292.480469\" xlink:href=\"#DejaVuSans-45\"/>\n       <use x=\"355.664062\" xlink:href=\"#DejaVuSans-52\"/>\n      </g>\n     </g>\n    </g>\n    <g id=\"ytick_5\">\n     <g id=\"line2d_12\">\n      <g>\n       <use style=\"stroke:#000000;stroke-width:0.8;\" x=\"117.539062\" xlink:href=\"#mf0dd2aa005\" y=\"150.782076\"/>\n      </g>\n     </g>\n     <g id=\"text_12\">\n      <!-- MINORITY -->\n      <g transform=\"translate(61.49375 154.581295)scale(0.1 -0.1)\">\n       <use xlink:href=\"#DejaVuSans-4d\"/>\n       <use x=\"86.279297\" xlink:href=\"#DejaVuSans-49\"/>\n       <use x=\"115.771484\" xlink:href=\"#DejaVuSans-4e\"/>\n       <use x=\"190.576172\" xlink:href=\"#DejaVuSans-4f\"/>\n       <use x=\"269.287109\" xlink:href=\"#DejaVuSans-52\"/>\n       <use x=\"338.769531\" xlink:href=\"#DejaVuSans-49\"/>\n       <use x=\"368.261719\" xlink:href=\"#DejaVuSans-54\"/>\n       <use x=\"429.345703\" xlink:href=\"#DejaVuSans-59\"/>\n      </g>\n     </g>\n    </g>\n    <g id=\"ytick_6\">\n     <g id=\"line2d_13\">\n      <g>\n       <use style=\"stroke:#000000;stroke-width:0.8;\" x=\"117.539062\" xlink:href=\"#mf0dd2aa005\" y=\"181.844933\"/>\n      </g>\n     </g>\n     <g id=\"text_13\">\n      <!-- JOBCAT -->\n      <g transform=\"translate(73.875 185.644152)scale(0.1 -0.1)\">\n       <use xlink:href=\"#DejaVuSans-4a\"/>\n       <use x=\"29.492188\" xlink:href=\"#DejaVuSans-4f\"/>\n       <use x=\"108.203125\" xlink:href=\"#DejaVuSans-42\"/>\n       <use x=\"175.056641\" xlink:href=\"#DejaVuSans-43\"/>\n       <use x=\"244.880859\" xlink:href=\"#DejaVuSans-41\"/>\n       <use x=\"305.539062\" xlink:href=\"#DejaVuSans-54\"/>\n      </g>\n     </g>\n    </g>\n    <g id=\"ytick_7\">\n     <g id=\"line2d_14\">\n      <g>\n       <use style=\"stroke:#000000;stroke-width:0.8;\" x=\"117.539062\" xlink:href=\"#mf0dd2aa005\" y=\"212.90779\"/>\n      </g>\n     </g>\n     <g id=\"text_14\">\n      <!-- SOCIODEMOGRAPHY -->\n      <g transform=\"translate(7.2 216.707009)scale(0.1 -0.1)\">\n       <use xlink:href=\"#DejaVuSans-53\"/>\n       <use x=\"63.476562\" xlink:href=\"#DejaVuSans-4f\"/>\n       <use x=\"142.1875\" xlink:href=\"#DejaVuSans-43\"/>\n       <use x=\"212.011719\" xlink:href=\"#DejaVuSans-49\"/>\n       <use x=\"241.503906\" xlink:href=\"#DejaVuSans-4f\"/>\n       <use x=\"320.214844\" xlink:href=\"#DejaVuSans-44\"/>\n       <use x=\"397.216797\" xlink:href=\"#DejaVuSans-45\"/>\n       <use x=\"460.400391\" xlink:href=\"#DejaVuSans-4d\"/>\n       <use x=\"546.679688\" xlink:href=\"#DejaVuSans-4f\"/>\n       <use x=\"625.390625\" xlink:href=\"#DejaVuSans-47\"/>\n       <use x=\"702.880859\" xlink:href=\"#DejaVuSans-52\"/>\n       <use x=\"768.363281\" xlink:href=\"#DejaVuSans-41\"/>\n       <use x=\"836.771484\" xlink:href=\"#DejaVuSans-50\"/>\n       <use x=\"897.074219\" xlink:href=\"#DejaVuSans-48\"/>\n       <use x=\"972.269531\" xlink:href=\"#DejaVuSans-59\"/>\n      </g>\n     </g>\n    </g>\n   </g>\n   <g id=\"text_15\">\n    <!-- 1 -->\n    <g style=\"fill:#262626;\" transform=\"translate(133.489241 29.290022)scale(0.1 -0.1)\">\n     <defs>\n      <path d=\"M 794 531 \nL 1825 531 \nL 1825 4091 \nL 703 3866 \nL 703 4441 \nL 1819 4666 \nL 2450 4666 \nL 2450 531 \nL 3481 531 \nL 3481 0 \nL 794 0 \nL 794 531 \nz\n\" id=\"DejaVuSans-31\" transform=\"scale(0.015625)\"/>\n     </defs>\n     <use xlink:href=\"#DejaVuSans-31\"/>\n    </g>\n   </g>\n   <g id=\"text_16\">\n    <!-- 0.66 -->\n    <g style=\"fill:#ffffff;\" transform=\"translate(163.800536 29.290022)scale(0.1 -0.1)\">\n     <defs>\n      <path d=\"M 2034 4250 \nQ 1547 4250 1301 3770 \nQ 1056 3291 1056 2328 \nQ 1056 1369 1301 889 \nQ 1547 409 2034 409 \nQ 2525 409 2770 889 \nQ 3016 1369 3016 2328 \nQ 3016 3291 2770 3770 \nQ 2525 4250 2034 4250 \nz\nM 2034 4750 \nQ 2819 4750 3233 4129 \nQ 3647 3509 3647 2328 \nQ 3647 1150 3233 529 \nQ 2819 -91 2034 -91 \nQ 1250 -91 836 529 \nQ 422 1150 422 2328 \nQ 422 3509 836 4129 \nQ 1250 4750 2034 4750 \nz\n\" id=\"DejaVuSans-30\" transform=\"scale(0.015625)\"/>\n      <path d=\"M 684 794 \nL 1344 794 \nL 1344 0 \nL 684 0 \nL 684 794 \nz\n\" id=\"DejaVuSans-2e\" transform=\"scale(0.015625)\"/>\n      <path d=\"M 2113 2584 \nQ 1688 2584 1439 2293 \nQ 1191 2003 1191 1497 \nQ 1191 994 1439 701 \nQ 1688 409 2113 409 \nQ 2538 409 2786 701 \nQ 3034 994 3034 1497 \nQ 3034 2003 2786 2293 \nQ 2538 2584 2113 2584 \nz\nM 3366 4563 \nL 3366 3988 \nQ 3128 4100 2886 4159 \nQ 2644 4219 2406 4219 \nQ 1781 4219 1451 3797 \nQ 1122 3375 1075 2522 \nQ 1259 2794 1537 2939 \nQ 1816 3084 2150 3084 \nQ 2853 3084 3261 2657 \nQ 3669 2231 3669 1497 \nQ 3669 778 3244 343 \nQ 2819 -91 2113 -91 \nQ 1303 -91 875 529 \nQ 447 1150 447 2328 \nQ 447 3434 972 4092 \nQ 1497 4750 2381 4750 \nQ 2619 4750 2861 4703 \nQ 3103 4656 3366 4563 \nz\n\" id=\"DejaVuSans-36\" transform=\"scale(0.015625)\"/>\n     </defs>\n     <use xlink:href=\"#DejaVuSans-30\"/>\n     <use x=\"63.623047\" xlink:href=\"#DejaVuSans-2e\"/>\n     <use x=\"95.410156\" xlink:href=\"#DejaVuSans-36\"/>\n     <use x=\"159.033203\" xlink:href=\"#DejaVuSans-36\"/>\n    </g>\n   </g>\n   <g id=\"text_17\">\n    <!-- 0.88 -->\n    <g style=\"fill:#262626;\" transform=\"translate(202.063393 29.290022)scale(0.1 -0.1)\">\n     <defs>\n      <path d=\"M 2034 2216 \nQ 1584 2216 1326 1975 \nQ 1069 1734 1069 1313 \nQ 1069 891 1326 650 \nQ 1584 409 2034 409 \nQ 2484 409 2743 651 \nQ 3003 894 3003 1313 \nQ 3003 1734 2745 1975 \nQ 2488 2216 2034 2216 \nz\nM 1403 2484 \nQ 997 2584 770 2862 \nQ 544 3141 544 3541 \nQ 544 4100 942 4425 \nQ 1341 4750 2034 4750 \nQ 2731 4750 3128 4425 \nQ 3525 4100 3525 3541 \nQ 3525 3141 3298 2862 \nQ 3072 2584 2669 2484 \nQ 3125 2378 3379 2068 \nQ 3634 1759 3634 1313 \nQ 3634 634 3220 271 \nQ 2806 -91 2034 -91 \nQ 1263 -91 848 271 \nQ 434 634 434 1313 \nQ 434 1759 690 2068 \nQ 947 2378 1403 2484 \nz\nM 1172 3481 \nQ 1172 3119 1398 2916 \nQ 1625 2713 2034 2713 \nQ 2441 2713 2670 2916 \nQ 2900 3119 2900 3481 \nQ 2900 3844 2670 4047 \nQ 2441 4250 2034 4250 \nQ 1625 4250 1398 4047 \nQ 1172 3844 1172 3481 \nz\n\" id=\"DejaVuSans-38\" transform=\"scale(0.015625)\"/>\n     </defs>\n     <use xlink:href=\"#DejaVuSans-30\"/>\n     <use x=\"63.623047\" xlink:href=\"#DejaVuSans-2e\"/>\n     <use x=\"95.410156\" xlink:href=\"#DejaVuSans-38\"/>\n     <use x=\"159.033203\" xlink:href=\"#DejaVuSans-38\"/>\n    </g>\n   </g>\n   <g id=\"text_18\">\n    <!-- 0.45 -->\n    <g style=\"fill:#ffffff;\" transform=\"translate(240.32625 29.290022)scale(0.1 -0.1)\">\n     <defs>\n      <path d=\"M 2419 4116 \nL 825 1625 \nL 2419 1625 \nL 2419 4116 \nz\nM 2253 4666 \nL 3047 4666 \nL 3047 1625 \nL 3713 1625 \nL 3713 1100 \nL 3047 1100 \nL 3047 0 \nL 2419 0 \nL 2419 1100 \nL 313 1100 \nL 313 1709 \nL 2253 4666 \nz\n\" id=\"DejaVuSans-34\" transform=\"scale(0.015625)\"/>\n      <path d=\"M 691 4666 \nL 3169 4666 \nL 3169 4134 \nL 1269 4134 \nL 1269 2991 \nQ 1406 3038 1543 3061 \nQ 1681 3084 1819 3084 \nQ 2600 3084 3056 2656 \nQ 3513 2228 3513 1497 \nQ 3513 744 3044 326 \nQ 2575 -91 1722 -91 \nQ 1428 -91 1123 -41 \nQ 819 9 494 109 \nL 494 744 \nQ 775 591 1075 516 \nQ 1375 441 1709 441 \nQ 2250 441 2565 725 \nQ 2881 1009 2881 1497 \nQ 2881 1984 2565 2268 \nQ 2250 2553 1709 2553 \nQ 1456 2553 1204 2497 \nQ 953 2441 691 2322 \nL 691 4666 \nz\n\" id=\"DejaVuSans-35\" transform=\"scale(0.015625)\"/>\n     </defs>\n     <use xlink:href=\"#DejaVuSans-30\"/>\n     <use x=\"63.623047\" xlink:href=\"#DejaVuSans-2e\"/>\n     <use x=\"95.410156\" xlink:href=\"#DejaVuSans-34\"/>\n     <use x=\"159.033203\" xlink:href=\"#DejaVuSans-35\"/>\n    </g>\n   </g>\n   <g id=\"text_19\">\n    <!-- -0.18 -->\n    <g style=\"fill:#ffffff;\" transform=\"translate(276.785201 29.290022)scale(0.1 -0.1)\">\n     <defs>\n      <path d=\"M 313 2009 \nL 1997 2009 \nL 1997 1497 \nL 313 1497 \nL 313 2009 \nz\n\" id=\"DejaVuSans-2d\" transform=\"scale(0.015625)\"/>\n     </defs>\n     <use xlink:href=\"#DejaVuSans-2d\"/>\n     <use x=\"36.083984\" xlink:href=\"#DejaVuSans-30\"/>\n     <use x=\"99.707031\" xlink:href=\"#DejaVuSans-2e\"/>\n     <use x=\"131.494141\" xlink:href=\"#DejaVuSans-31\"/>\n     <use x=\"195.117188\" xlink:href=\"#DejaVuSans-38\"/>\n    </g>\n   </g>\n   <g id=\"text_20\">\n    <!-- 0.78 -->\n    <g style=\"fill:#262626;\" transform=\"translate(316.851964 29.290022)scale(0.1 -0.1)\">\n     <defs>\n      <path d=\"M 525 4666 \nL 3525 4666 \nL 3525 4397 \nL 1831 0 \nL 1172 0 \nL 2766 4134 \nL 525 4134 \nL 525 4666 \nz\n\" id=\"DejaVuSans-37\" transform=\"scale(0.015625)\"/>\n     </defs>\n     <use xlink:href=\"#DejaVuSans-30\"/>\n     <use x=\"63.623047\" xlink:href=\"#DejaVuSans-2e\"/>\n     <use x=\"95.410156\" xlink:href=\"#DejaVuSans-37\"/>\n     <use x=\"159.033203\" xlink:href=\"#DejaVuSans-38\"/>\n    </g>\n   </g>\n   <g id=\"text_21\">\n    <!-- 0.077 -->\n    <g style=\"fill:#ffffff;\" transform=\"translate(351.933571 29.290022)scale(0.1 -0.1)\">\n     <use xlink:href=\"#DejaVuSans-30\"/>\n     <use x=\"63.623047\" xlink:href=\"#DejaVuSans-2e\"/>\n     <use x=\"95.410156\" xlink:href=\"#DejaVuSans-30\"/>\n     <use x=\"159.033203\" xlink:href=\"#DejaVuSans-37\"/>\n     <use x=\"222.65625\" xlink:href=\"#DejaVuSans-37\"/>\n    </g>\n   </g>\n   <g id=\"text_22\">\n    <!-- 0.66 -->\n    <g style=\"fill:#ffffff;\" transform=\"translate(125.537679 60.352879)scale(0.1 -0.1)\">\n     <use xlink:href=\"#DejaVuSans-30\"/>\n     <use x=\"63.623047\" xlink:href=\"#DejaVuSans-2e\"/>\n     <use x=\"95.410156\" xlink:href=\"#DejaVuSans-36\"/>\n     <use x=\"159.033203\" xlink:href=\"#DejaVuSans-36\"/>\n    </g>\n   </g>\n   <g id=\"text_23\">\n    <!-- 1 -->\n    <g style=\"fill:#262626;\" transform=\"translate(171.752098 60.352879)scale(0.1 -0.1)\">\n     <use xlink:href=\"#DejaVuSans-31\"/>\n    </g>\n   </g>\n   <g id=\"text_24\">\n    <!-- 0.63 -->\n    <g style=\"fill:#ffffff;\" transform=\"translate(202.063393 60.352879)scale(0.1 -0.1)\">\n     <defs>\n      <path d=\"M 2597 2516 \nQ 3050 2419 3304 2112 \nQ 3559 1806 3559 1356 \nQ 3559 666 3084 287 \nQ 2609 -91 1734 -91 \nQ 1441 -91 1130 -33 \nQ 819 25 488 141 \nL 488 750 \nQ 750 597 1062 519 \nQ 1375 441 1716 441 \nQ 2309 441 2620 675 \nQ 2931 909 2931 1356 \nQ 2931 1769 2642 2001 \nQ 2353 2234 1838 2234 \nL 1294 2234 \nL 1294 2753 \nL 1863 2753 \nQ 2328 2753 2575 2939 \nQ 2822 3125 2822 3475 \nQ 2822 3834 2567 4026 \nQ 2313 4219 1838 4219 \nQ 1578 4219 1281 4162 \nQ 984 4106 628 3988 \nL 628 4550 \nQ 988 4650 1302 4700 \nQ 1616 4750 1894 4750 \nQ 2613 4750 3031 4423 \nQ 3450 4097 3450 3541 \nQ 3450 3153 3228 2886 \nQ 3006 2619 2597 2516 \nz\n\" id=\"DejaVuSans-33\" transform=\"scale(0.015625)\"/>\n     </defs>\n     <use xlink:href=\"#DejaVuSans-30\"/>\n     <use x=\"63.623047\" xlink:href=\"#DejaVuSans-2e\"/>\n     <use x=\"95.410156\" xlink:href=\"#DejaVuSans-36\"/>\n     <use x=\"159.033203\" xlink:href=\"#DejaVuSans-33\"/>\n    </g>\n   </g>\n   <g id=\"text_25\">\n    <!-- 0.36 -->\n    <g style=\"fill:#ffffff;\" transform=\"translate(240.32625 60.352879)scale(0.1 -0.1)\">\n     <use xlink:href=\"#DejaVuSans-30\"/>\n     <use x=\"63.623047\" xlink:href=\"#DejaVuSans-2e\"/>\n     <use x=\"95.410156\" xlink:href=\"#DejaVuSans-33\"/>\n     <use x=\"159.033203\" xlink:href=\"#DejaVuSans-36\"/>\n    </g>\n   </g>\n   <g id=\"text_26\">\n    <!-- -0.13 -->\n    <g style=\"fill:#ffffff;\" transform=\"translate(276.785201 60.352879)scale(0.1 -0.1)\">\n     <use xlink:href=\"#DejaVuSans-2d\"/>\n     <use x=\"36.083984\" xlink:href=\"#DejaVuSans-30\"/>\n     <use x=\"99.707031\" xlink:href=\"#DejaVuSans-2e\"/>\n     <use x=\"131.494141\" xlink:href=\"#DejaVuSans-31\"/>\n     <use x=\"195.117188\" xlink:href=\"#DejaVuSans-33\"/>\n    </g>\n   </g>\n   <g id=\"text_27\">\n    <!-- 0.51 -->\n    <g style=\"fill:#ffffff;\" transform=\"translate(316.851964 60.352879)scale(0.1 -0.1)\">\n     <use xlink:href=\"#DejaVuSans-30\"/>\n     <use x=\"63.623047\" xlink:href=\"#DejaVuSans-2e\"/>\n     <use x=\"95.410156\" xlink:href=\"#DejaVuSans-35\"/>\n     <use x=\"159.033203\" xlink:href=\"#DejaVuSans-31\"/>\n    </g>\n   </g>\n   <g id=\"text_28\">\n    <!-- 0.067 -->\n    <g style=\"fill:#ffffff;\" transform=\"translate(351.933571 60.352879)scale(0.1 -0.1)\">\n     <use xlink:href=\"#DejaVuSans-30\"/>\n     <use x=\"63.623047\" xlink:href=\"#DejaVuSans-2e\"/>\n     <use x=\"95.410156\" xlink:href=\"#DejaVuSans-30\"/>\n     <use x=\"159.033203\" xlink:href=\"#DejaVuSans-36\"/>\n     <use x=\"222.65625\" xlink:href=\"#DejaVuSans-37\"/>\n    </g>\n   </g>\n   <g id=\"text_29\">\n    <!-- 0.88 -->\n    <g style=\"fill:#262626;\" transform=\"translate(125.537679 91.415737)scale(0.1 -0.1)\">\n     <use xlink:href=\"#DejaVuSans-30\"/>\n     <use x=\"63.623047\" xlink:href=\"#DejaVuSans-2e\"/>\n     <use x=\"95.410156\" xlink:href=\"#DejaVuSans-38\"/>\n     <use x=\"159.033203\" xlink:href=\"#DejaVuSans-38\"/>\n    </g>\n   </g>\n   <g id=\"text_30\">\n    <!-- 0.63 -->\n    <g style=\"fill:#ffffff;\" transform=\"translate(163.800536 91.415737)scale(0.1 -0.1)\">\n     <use xlink:href=\"#DejaVuSans-30\"/>\n     <use x=\"63.623047\" xlink:href=\"#DejaVuSans-2e\"/>\n     <use x=\"95.410156\" xlink:href=\"#DejaVuSans-36\"/>\n     <use x=\"159.033203\" xlink:href=\"#DejaVuSans-33\"/>\n    </g>\n   </g>\n   <g id=\"text_31\">\n    <!-- 1 -->\n    <g style=\"fill:#262626;\" transform=\"translate(210.014955 91.415737)scale(0.1 -0.1)\">\n     <use xlink:href=\"#DejaVuSans-31\"/>\n    </g>\n   </g>\n   <g id=\"text_32\">\n    <!-- 0.46 -->\n    <g style=\"fill:#ffffff;\" transform=\"translate(240.32625 91.415737)scale(0.1 -0.1)\">\n     <use xlink:href=\"#DejaVuSans-30\"/>\n     <use x=\"63.623047\" xlink:href=\"#DejaVuSans-2e\"/>\n     <use x=\"95.410156\" xlink:href=\"#DejaVuSans-34\"/>\n     <use x=\"159.033203\" xlink:href=\"#DejaVuSans-36\"/>\n    </g>\n   </g>\n   <g id=\"text_33\">\n    <!-- -0.16 -->\n    <g style=\"fill:#ffffff;\" transform=\"translate(276.785201 91.415737)scale(0.1 -0.1)\">\n     <use xlink:href=\"#DejaVuSans-2d\"/>\n     <use x=\"36.083984\" xlink:href=\"#DejaVuSans-30\"/>\n     <use x=\"99.707031\" xlink:href=\"#DejaVuSans-2e\"/>\n     <use x=\"131.494141\" xlink:href=\"#DejaVuSans-31\"/>\n     <use x=\"195.117188\" xlink:href=\"#DejaVuSans-36\"/>\n    </g>\n   </g>\n   <g id=\"text_34\">\n    <!-- 0.75 -->\n    <g style=\"fill:#262626;\" transform=\"translate(316.851964 91.415737)scale(0.1 -0.1)\">\n     <use xlink:href=\"#DejaVuSans-30\"/>\n     <use x=\"63.623047\" xlink:href=\"#DejaVuSans-2e\"/>\n     <use x=\"95.410156\" xlink:href=\"#DejaVuSans-37\"/>\n     <use x=\"159.033203\" xlink:href=\"#DejaVuSans-35\"/>\n    </g>\n   </g>\n   <g id=\"text_35\">\n    <!-- 0.097 -->\n    <g style=\"fill:#ffffff;\" transform=\"translate(351.933571 91.415737)scale(0.1 -0.1)\">\n     <defs>\n      <path d=\"M 703 97 \nL 703 672 \nQ 941 559 1184 500 \nQ 1428 441 1663 441 \nQ 2288 441 2617 861 \nQ 2947 1281 2994 2138 \nQ 2813 1869 2534 1725 \nQ 2256 1581 1919 1581 \nQ 1219 1581 811 2004 \nQ 403 2428 403 3163 \nQ 403 3881 828 4315 \nQ 1253 4750 1959 4750 \nQ 2769 4750 3195 4129 \nQ 3622 3509 3622 2328 \nQ 3622 1225 3098 567 \nQ 2575 -91 1691 -91 \nQ 1453 -91 1209 -44 \nQ 966 3 703 97 \nz\nM 1959 2075 \nQ 2384 2075 2632 2365 \nQ 2881 2656 2881 3163 \nQ 2881 3666 2632 3958 \nQ 2384 4250 1959 4250 \nQ 1534 4250 1286 3958 \nQ 1038 3666 1038 3163 \nQ 1038 2656 1286 2365 \nQ 1534 2075 1959 2075 \nz\n\" id=\"DejaVuSans-39\" transform=\"scale(0.015625)\"/>\n     </defs>\n     <use xlink:href=\"#DejaVuSans-30\"/>\n     <use x=\"63.623047\" xlink:href=\"#DejaVuSans-2e\"/>\n     <use x=\"95.410156\" xlink:href=\"#DejaVuSans-30\"/>\n     <use x=\"159.033203\" xlink:href=\"#DejaVuSans-39\"/>\n     <use x=\"222.65625\" xlink:href=\"#DejaVuSans-37\"/>\n    </g>\n   </g>\n   <g id=\"text_36\">\n    <!-- 0.45 -->\n    <g style=\"fill:#ffffff;\" transform=\"translate(125.537679 122.478594)scale(0.1 -0.1)\">\n     <use xlink:href=\"#DejaVuSans-30\"/>\n     <use x=\"63.623047\" xlink:href=\"#DejaVuSans-2e\"/>\n     <use x=\"95.410156\" xlink:href=\"#DejaVuSans-34\"/>\n     <use x=\"159.033203\" xlink:href=\"#DejaVuSans-35\"/>\n    </g>\n   </g>\n   <g id=\"text_37\">\n    <!-- 0.36 -->\n    <g style=\"fill:#ffffff;\" transform=\"translate(163.800536 122.478594)scale(0.1 -0.1)\">\n     <use xlink:href=\"#DejaVuSans-30\"/>\n     <use x=\"63.623047\" xlink:href=\"#DejaVuSans-2e\"/>\n     <use x=\"95.410156\" xlink:href=\"#DejaVuSans-33\"/>\n     <use x=\"159.033203\" xlink:href=\"#DejaVuSans-36\"/>\n    </g>\n   </g>\n   <g id=\"text_38\">\n    <!-- 0.46 -->\n    <g style=\"fill:#ffffff;\" transform=\"translate(202.063393 122.478594)scale(0.1 -0.1)\">\n     <use xlink:href=\"#DejaVuSans-30\"/>\n     <use x=\"63.623047\" xlink:href=\"#DejaVuSans-2e\"/>\n     <use x=\"95.410156\" xlink:href=\"#DejaVuSans-34\"/>\n     <use x=\"159.033203\" xlink:href=\"#DejaVuSans-36\"/>\n    </g>\n   </g>\n   <g id=\"text_39\">\n    <!-- 1 -->\n    <g style=\"fill:#262626;\" transform=\"translate(248.277813 122.478594)scale(0.1 -0.1)\">\n     <use xlink:href=\"#DejaVuSans-31\"/>\n    </g>\n   </g>\n   <g id=\"text_40\">\n    <!-- 0.076 -->\n    <g style=\"fill:#ffffff;\" transform=\"translate(275.407857 122.478594)scale(0.1 -0.1)\">\n     <use xlink:href=\"#DejaVuSans-30\"/>\n     <use x=\"63.623047\" xlink:href=\"#DejaVuSans-2e\"/>\n     <use x=\"95.410156\" xlink:href=\"#DejaVuSans-30\"/>\n     <use x=\"159.033203\" xlink:href=\"#DejaVuSans-37\"/>\n     <use x=\"222.65625\" xlink:href=\"#DejaVuSans-36\"/>\n    </g>\n   </g>\n   <g id=\"text_41\">\n    <!-- 0.38 -->\n    <g style=\"fill:#ffffff;\" transform=\"translate(316.851964 122.478594)scale(0.1 -0.1)\">\n     <use xlink:href=\"#DejaVuSans-30\"/>\n     <use x=\"63.623047\" xlink:href=\"#DejaVuSans-2e\"/>\n     <use x=\"95.410156\" xlink:href=\"#DejaVuSans-33\"/>\n     <use x=\"159.033203\" xlink:href=\"#DejaVuSans-38\"/>\n    </g>\n   </g>\n   <g id=\"text_42\">\n    <!-- 0.56 -->\n    <g style=\"fill:#ffffff;\" transform=\"translate(355.114821 122.478594)scale(0.1 -0.1)\">\n     <use xlink:href=\"#DejaVuSans-30\"/>\n     <use x=\"63.623047\" xlink:href=\"#DejaVuSans-2e\"/>\n     <use x=\"95.410156\" xlink:href=\"#DejaVuSans-35\"/>\n     <use x=\"159.033203\" xlink:href=\"#DejaVuSans-36\"/>\n    </g>\n   </g>\n   <g id=\"text_43\">\n    <!-- -0.18 -->\n    <g style=\"fill:#ffffff;\" transform=\"translate(123.733772 153.541451)scale(0.1 -0.1)\">\n     <use xlink:href=\"#DejaVuSans-2d\"/>\n     <use x=\"36.083984\" xlink:href=\"#DejaVuSans-30\"/>\n     <use x=\"99.707031\" xlink:href=\"#DejaVuSans-2e\"/>\n     <use x=\"131.494141\" xlink:href=\"#DejaVuSans-31\"/>\n     <use x=\"195.117188\" xlink:href=\"#DejaVuSans-38\"/>\n    </g>\n   </g>\n   <g id=\"text_44\">\n    <!-- -0.13 -->\n    <g style=\"fill:#ffffff;\" transform=\"translate(161.996629 153.541451)scale(0.1 -0.1)\">\n     <use xlink:href=\"#DejaVuSans-2d\"/>\n     <use x=\"36.083984\" xlink:href=\"#DejaVuSans-30\"/>\n     <use x=\"99.707031\" xlink:href=\"#DejaVuSans-2e\"/>\n     <use x=\"131.494141\" xlink:href=\"#DejaVuSans-31\"/>\n     <use x=\"195.117188\" xlink:href=\"#DejaVuSans-33\"/>\n    </g>\n   </g>\n   <g id=\"text_45\">\n    <!-- -0.16 -->\n    <g style=\"fill:#ffffff;\" transform=\"translate(200.259487 153.541451)scale(0.1 -0.1)\">\n     <use xlink:href=\"#DejaVuSans-2d\"/>\n     <use x=\"36.083984\" xlink:href=\"#DejaVuSans-30\"/>\n     <use x=\"99.707031\" xlink:href=\"#DejaVuSans-2e\"/>\n     <use x=\"131.494141\" xlink:href=\"#DejaVuSans-31\"/>\n     <use x=\"195.117188\" xlink:href=\"#DejaVuSans-36\"/>\n    </g>\n   </g>\n   <g id=\"text_46\">\n    <!-- 0.076 -->\n    <g style=\"fill:#ffffff;\" transform=\"translate(237.145 153.541451)scale(0.1 -0.1)\">\n     <use xlink:href=\"#DejaVuSans-30\"/>\n     <use x=\"63.623047\" xlink:href=\"#DejaVuSans-2e\"/>\n     <use x=\"95.410156\" xlink:href=\"#DejaVuSans-30\"/>\n     <use x=\"159.033203\" xlink:href=\"#DejaVuSans-37\"/>\n     <use x=\"222.65625\" xlink:href=\"#DejaVuSans-36\"/>\n    </g>\n   </g>\n   <g id=\"text_47\">\n    <!-- 1 -->\n    <g style=\"fill:#262626;\" transform=\"translate(286.54067 153.541451)scale(0.1 -0.1)\">\n     <use xlink:href=\"#DejaVuSans-31\"/>\n    </g>\n   </g>\n   <g id=\"text_48\">\n    <!-- -0.14 -->\n    <g style=\"fill:#ffffff;\" transform=\"translate(315.048058 153.541451)scale(0.1 -0.1)\">\n     <use xlink:href=\"#DejaVuSans-2d\"/>\n     <use x=\"36.083984\" xlink:href=\"#DejaVuSans-30\"/>\n     <use x=\"99.707031\" xlink:href=\"#DejaVuSans-2e\"/>\n     <use x=\"131.494141\" xlink:href=\"#DejaVuSans-31\"/>\n     <use x=\"195.117188\" xlink:href=\"#DejaVuSans-34\"/>\n    </g>\n   </g>\n   <g id=\"text_49\">\n    <!-- 0.87 -->\n    <g style=\"fill:#262626;\" transform=\"translate(355.114821 153.541451)scale(0.1 -0.1)\">\n     <use xlink:href=\"#DejaVuSans-30\"/>\n     <use x=\"63.623047\" xlink:href=\"#DejaVuSans-2e\"/>\n     <use x=\"95.410156\" xlink:href=\"#DejaVuSans-38\"/>\n     <use x=\"159.033203\" xlink:href=\"#DejaVuSans-37\"/>\n    </g>\n   </g>\n   <g id=\"text_50\">\n    <!-- 0.78 -->\n    <g style=\"fill:#262626;\" transform=\"translate(125.537679 184.604308)scale(0.1 -0.1)\">\n     <use xlink:href=\"#DejaVuSans-30\"/>\n     <use x=\"63.623047\" xlink:href=\"#DejaVuSans-2e\"/>\n     <use x=\"95.410156\" xlink:href=\"#DejaVuSans-37\"/>\n     <use x=\"159.033203\" xlink:href=\"#DejaVuSans-38\"/>\n    </g>\n   </g>\n   <g id=\"text_51\">\n    <!-- 0.51 -->\n    <g style=\"fill:#ffffff;\" transform=\"translate(163.800536 184.604308)scale(0.1 -0.1)\">\n     <use xlink:href=\"#DejaVuSans-30\"/>\n     <use x=\"63.623047\" xlink:href=\"#DejaVuSans-2e\"/>\n     <use x=\"95.410156\" xlink:href=\"#DejaVuSans-35\"/>\n     <use x=\"159.033203\" xlink:href=\"#DejaVuSans-31\"/>\n    </g>\n   </g>\n   <g id=\"text_52\">\n    <!-- 0.75 -->\n    <g style=\"fill:#262626;\" transform=\"translate(202.063393 184.604308)scale(0.1 -0.1)\">\n     <use xlink:href=\"#DejaVuSans-30\"/>\n     <use x=\"63.623047\" xlink:href=\"#DejaVuSans-2e\"/>\n     <use x=\"95.410156\" xlink:href=\"#DejaVuSans-37\"/>\n     <use x=\"159.033203\" xlink:href=\"#DejaVuSans-35\"/>\n    </g>\n   </g>\n   <g id=\"text_53\">\n    <!-- 0.38 -->\n    <g style=\"fill:#ffffff;\" transform=\"translate(240.32625 184.604308)scale(0.1 -0.1)\">\n     <use xlink:href=\"#DejaVuSans-30\"/>\n     <use x=\"63.623047\" xlink:href=\"#DejaVuSans-2e\"/>\n     <use x=\"95.410156\" xlink:href=\"#DejaVuSans-33\"/>\n     <use x=\"159.033203\" xlink:href=\"#DejaVuSans-38\"/>\n    </g>\n   </g>\n   <g id=\"text_54\">\n    <!-- -0.14 -->\n    <g style=\"fill:#ffffff;\" transform=\"translate(276.785201 184.604308)scale(0.1 -0.1)\">\n     <use xlink:href=\"#DejaVuSans-2d\"/>\n     <use x=\"36.083984\" xlink:href=\"#DejaVuSans-30\"/>\n     <use x=\"99.707031\" xlink:href=\"#DejaVuSans-2e\"/>\n     <use x=\"131.494141\" xlink:href=\"#DejaVuSans-31\"/>\n     <use x=\"195.117188\" xlink:href=\"#DejaVuSans-34\"/>\n    </g>\n   </g>\n   <g id=\"text_55\">\n    <!-- 1 -->\n    <g style=\"fill:#262626;\" transform=\"translate(324.803527 184.604308)scale(0.1 -0.1)\">\n     <use xlink:href=\"#DejaVuSans-31\"/>\n    </g>\n   </g>\n   <g id=\"text_56\">\n    <!-- 0.069 -->\n    <g style=\"fill:#ffffff;\" transform=\"translate(351.933571 184.604308)scale(0.1 -0.1)\">\n     <use xlink:href=\"#DejaVuSans-30\"/>\n     <use x=\"63.623047\" xlink:href=\"#DejaVuSans-2e\"/>\n     <use x=\"95.410156\" xlink:href=\"#DejaVuSans-30\"/>\n     <use x=\"159.033203\" xlink:href=\"#DejaVuSans-36\"/>\n     <use x=\"222.65625\" xlink:href=\"#DejaVuSans-39\"/>\n    </g>\n   </g>\n   <g id=\"text_57\">\n    <!-- 0.077 -->\n    <g style=\"fill:#ffffff;\" transform=\"translate(122.356429 215.667165)scale(0.1 -0.1)\">\n     <use xlink:href=\"#DejaVuSans-30\"/>\n     <use x=\"63.623047\" xlink:href=\"#DejaVuSans-2e\"/>\n     <use x=\"95.410156\" xlink:href=\"#DejaVuSans-30\"/>\n     <use x=\"159.033203\" xlink:href=\"#DejaVuSans-37\"/>\n     <use x=\"222.65625\" xlink:href=\"#DejaVuSans-37\"/>\n    </g>\n   </g>\n   <g id=\"text_58\">\n    <!-- 0.067 -->\n    <g style=\"fill:#ffffff;\" transform=\"translate(160.619286 215.667165)scale(0.1 -0.1)\">\n     <use xlink:href=\"#DejaVuSans-30\"/>\n     <use x=\"63.623047\" xlink:href=\"#DejaVuSans-2e\"/>\n     <use x=\"95.410156\" xlink:href=\"#DejaVuSans-30\"/>\n     <use x=\"159.033203\" xlink:href=\"#DejaVuSans-36\"/>\n     <use x=\"222.65625\" xlink:href=\"#DejaVuSans-37\"/>\n    </g>\n   </g>\n   <g id=\"text_59\">\n    <!-- 0.097 -->\n    <g style=\"fill:#ffffff;\" transform=\"translate(198.882143 215.667165)scale(0.1 -0.1)\">\n     <use xlink:href=\"#DejaVuSans-30\"/>\n     <use x=\"63.623047\" xlink:href=\"#DejaVuSans-2e\"/>\n     <use x=\"95.410156\" xlink:href=\"#DejaVuSans-30\"/>\n     <use x=\"159.033203\" xlink:href=\"#DejaVuSans-39\"/>\n     <use x=\"222.65625\" xlink:href=\"#DejaVuSans-37\"/>\n    </g>\n   </g>\n   <g id=\"text_60\">\n    <!-- 0.56 -->\n    <g style=\"fill:#ffffff;\" transform=\"translate(240.32625 215.667165)scale(0.1 -0.1)\">\n     <use xlink:href=\"#DejaVuSans-30\"/>\n     <use x=\"63.623047\" xlink:href=\"#DejaVuSans-2e\"/>\n     <use x=\"95.410156\" xlink:href=\"#DejaVuSans-35\"/>\n     <use x=\"159.033203\" xlink:href=\"#DejaVuSans-36\"/>\n    </g>\n   </g>\n   <g id=\"text_61\">\n    <!-- 0.87 -->\n    <g style=\"fill:#262626;\" transform=\"translate(278.589107 215.667165)scale(0.1 -0.1)\">\n     <use xlink:href=\"#DejaVuSans-30\"/>\n     <use x=\"63.623047\" xlink:href=\"#DejaVuSans-2e\"/>\n     <use x=\"95.410156\" xlink:href=\"#DejaVuSans-38\"/>\n     <use x=\"159.033203\" xlink:href=\"#DejaVuSans-37\"/>\n    </g>\n   </g>\n   <g id=\"text_62\">\n    <!-- 0.069 -->\n    <g style=\"fill:#ffffff;\" transform=\"translate(313.670714 215.667165)scale(0.1 -0.1)\">\n     <use xlink:href=\"#DejaVuSans-30\"/>\n     <use x=\"63.623047\" xlink:href=\"#DejaVuSans-2e\"/>\n     <use x=\"95.410156\" xlink:href=\"#DejaVuSans-30\"/>\n     <use x=\"159.033203\" xlink:href=\"#DejaVuSans-36\"/>\n     <use x=\"222.65625\" xlink:href=\"#DejaVuSans-39\"/>\n    </g>\n   </g>\n   <g id=\"text_63\">\n    <!-- 1 -->\n    <g style=\"fill:#262626;\" transform=\"translate(363.066384 215.667165)scale(0.1 -0.1)\">\n     <use xlink:href=\"#DejaVuSans-31\"/>\n    </g>\n   </g>\n  </g>\n  <g id=\"axes_2\">\n   <g id=\"patch_3\">\n    <path d=\"M 402.119063 228.439219 \nL 412.991063 228.439219 \nL 412.991063 10.999219 \nL 402.119063 10.999219 \nz\n\" style=\"fill:#ffffff;\"/>\n   </g>\n   <g id=\"patch_4\">\n    <path clip-path=\"url(#pf0e242aeca)\" d=\"M 402.119063 228.439219 \nL 402.119063 227.589844 \nL 402.119063 11.848594 \nL 402.119063 10.999219 \nL 412.991063 10.999219 \nL 412.991063 11.848594 \nL 412.991063 227.589844 \nL 412.991063 228.439219 \nL 412.991063 228.439219 \nz\n\" style=\"fill:#ffffff;stroke:#ffffff;stroke-linejoin:miter;stroke-width:0.01;\"/>\n   </g>\n   <image height=\"217\" id=\"imagee2a8d49167\" transform=\"scale(1 -1)translate(0 -217)\" width=\"11\" x=\"402\" xlink:href=\"data:image/png;base64,\niVBORw0KGgoAAAANSUhEUgAAAAsAAADZCAYAAAD2WsoCAAABS0lEQVR4nN2Yyw3DUAgE+aWJ9F9nkhaYw0jEPqPV7IJ59st5vb+xfCYzt7W0OCzlztoXl2awNIOIGaXhdfBIzjANUuyloRn0MERlsd0nmMXh/8MOss0fZPjXpe7mZ9HtH7gKiLLXbg/DG34zOqDMDLIRBRhn2g2UTWYLQzS4/j2Q0wDFcPgJBknDM8jS0DrI2q1hzJGmiBh7aTONL8AwVwHAaI0ZGrQwOj5AGQQtMifYBVOkuEmxhwE+GE2MAisJGiTKLA2i3AWGH/wAwaYcSaPASQ+ZxeiAcoGzbULD8IrBjUVMzg0McKiYyuAjQmQOogwNWreXiBkWA2YWHUkjyN2Xl0ZqaUTvLwDEpng5J7jhUNuNpk5TFtMgS0acDVLsDb/H/HiDYrv33z1nmJGyZjDTOyaOpHFiMSJl1pQrw2/lnE83yF5YlIZl8AfYPysjuedL2wAAAABJRU5ErkJggg==\" y=\"-10\"/>\n   <g id=\"matplotlib.axis_3\"/>\n   <g id=\"matplotlib.axis_4\">\n    <g id=\"ytick_8\">\n     <g id=\"line2d_15\">\n      <defs>\n       <path d=\"M 0 0 \nL 3.5 0 \n\" id=\"md34a798df4\" style=\"stroke:#000000;stroke-width:0.8;\"/>\n      </defs>\n      <g>\n       <use style=\"stroke:#000000;stroke-width:0.8;\" x=\"412.991063\" xlink:href=\"#md34a798df4\" y=\"195.687157\"/>\n      </g>\n     </g>\n     <g id=\"text_64\">\n      <!-- 0.0 -->\n      <g transform=\"translate(419.991063 199.486376)scale(0.1 -0.1)\">\n       <use xlink:href=\"#DejaVuSans-30\"/>\n       <use x=\"63.623047\" xlink:href=\"#DejaVuSans-2e\"/>\n       <use x=\"95.410156\" xlink:href=\"#DejaVuSans-30\"/>\n      </g>\n     </g>\n    </g>\n    <g id=\"ytick_9\">\n     <g id=\"line2d_16\">\n      <g>\n       <use style=\"stroke:#000000;stroke-width:0.8;\" x=\"412.991063\" xlink:href=\"#md34a798df4\" y=\"158.749569\"/>\n      </g>\n     </g>\n     <g id=\"text_65\">\n      <!-- 0.2 -->\n      <g transform=\"translate(419.991063 162.548788)scale(0.1 -0.1)\">\n       <defs>\n        <path d=\"M 1228 531 \nL 3431 531 \nL 3431 0 \nL 469 0 \nL 469 531 \nQ 828 903 1448 1529 \nQ 2069 2156 2228 2338 \nQ 2531 2678 2651 2914 \nQ 2772 3150 2772 3378 \nQ 2772 3750 2511 3984 \nQ 2250 4219 1831 4219 \nQ 1534 4219 1204 4116 \nQ 875 4013 500 3803 \nL 500 4441 \nQ 881 4594 1212 4672 \nQ 1544 4750 1819 4750 \nQ 2544 4750 2975 4387 \nQ 3406 4025 3406 3419 \nQ 3406 3131 3298 2873 \nQ 3191 2616 2906 2266 \nQ 2828 2175 2409 1742 \nQ 1991 1309 1228 531 \nz\n\" id=\"DejaVuSans-32\" transform=\"scale(0.015625)\"/>\n       </defs>\n       <use xlink:href=\"#DejaVuSans-30\"/>\n       <use x=\"63.623047\" xlink:href=\"#DejaVuSans-2e\"/>\n       <use x=\"95.410156\" xlink:href=\"#DejaVuSans-32\"/>\n      </g>\n     </g>\n    </g>\n    <g id=\"ytick_10\">\n     <g id=\"line2d_17\">\n      <g>\n       <use style=\"stroke:#000000;stroke-width:0.8;\" x=\"412.991063\" xlink:href=\"#md34a798df4\" y=\"121.811982\"/>\n      </g>\n     </g>\n     <g id=\"text_66\">\n      <!-- 0.4 -->\n      <g transform=\"translate(419.991063 125.6112)scale(0.1 -0.1)\">\n       <use xlink:href=\"#DejaVuSans-30\"/>\n       <use x=\"63.623047\" xlink:href=\"#DejaVuSans-2e\"/>\n       <use x=\"95.410156\" xlink:href=\"#DejaVuSans-34\"/>\n      </g>\n     </g>\n    </g>\n    <g id=\"ytick_11\">\n     <g id=\"line2d_18\">\n      <g>\n       <use style=\"stroke:#000000;stroke-width:0.8;\" x=\"412.991063\" xlink:href=\"#md34a798df4\" y=\"84.874394\"/>\n      </g>\n     </g>\n     <g id=\"text_67\">\n      <!-- 0.6 -->\n      <g transform=\"translate(419.991063 88.673613)scale(0.1 -0.1)\">\n       <use xlink:href=\"#DejaVuSans-30\"/>\n       <use x=\"63.623047\" xlink:href=\"#DejaVuSans-2e\"/>\n       <use x=\"95.410156\" xlink:href=\"#DejaVuSans-36\"/>\n      </g>\n     </g>\n    </g>\n    <g id=\"ytick_12\">\n     <g id=\"line2d_19\">\n      <g>\n       <use style=\"stroke:#000000;stroke-width:0.8;\" x=\"412.991063\" xlink:href=\"#md34a798df4\" y=\"47.936806\"/>\n      </g>\n     </g>\n     <g id=\"text_68\">\n      <!-- 0.8 -->\n      <g transform=\"translate(419.991063 51.736025)scale(0.1 -0.1)\">\n       <use xlink:href=\"#DejaVuSans-30\"/>\n       <use x=\"63.623047\" xlink:href=\"#DejaVuSans-2e\"/>\n       <use x=\"95.410156\" xlink:href=\"#DejaVuSans-38\"/>\n      </g>\n     </g>\n    </g>\n    <g id=\"ytick_13\">\n     <g id=\"line2d_20\">\n      <g>\n       <use style=\"stroke:#000000;stroke-width:0.8;\" x=\"412.991063\" xlink:href=\"#md34a798df4\" y=\"10.999219\"/>\n      </g>\n     </g>\n     <g id=\"text_69\">\n      <!-- 1.0 -->\n      <g transform=\"translate(419.991063 14.798438)scale(0.1 -0.1)\">\n       <use xlink:href=\"#DejaVuSans-31\"/>\n       <use x=\"63.623047\" xlink:href=\"#DejaVuSans-2e\"/>\n       <use x=\"95.410156\" xlink:href=\"#DejaVuSans-30\"/>\n      </g>\n     </g>\n    </g>\n   </g>\n   <g id=\"LineCollection_1\"/>\n   <g id=\"patch_5\">\n    <path d=\"M 402.119063 228.439219 \nL 402.119063 227.589844 \nL 402.119063 11.848594 \nL 402.119063 10.999219 \nL 412.991063 10.999219 \nL 412.991063 11.848594 \nL 412.991063 227.589844 \nL 412.991063 228.439219 \nz\n\" style=\"fill:none;\"/>\n   </g>\n  </g>\n </g>\n <defs>\n  <clipPath id=\"pffd06a8fb3\">\n   <rect height=\"217.44\" width=\"267.84\" x=\"117.539062\" y=\"10.999219\"/>\n  </clipPath>\n  <clipPath id=\"pf0e242aeca\">\n   <rect height=\"217.44\" width=\"10.872\" x=\"402.119063\" y=\"10.999219\"/>\n  </clipPath>\n </defs>\n</svg>\n",
      "image/png": "[encoded data removed]"
     },
     "metadata": {
      "needs_background": "light"
     }
    }
   ],
   "source": [
    "sns.heatmap(df.corr(),annot=True,lw=1)"
   ]
  },
  {
   "source": [
    "To build a linear regression modell we cannot use the string columns (we could use dummy variables - but not this time)."
   ],
   "cell_type": "markdown",
   "metadata": {}
  },
  {
   "cell_type": "code",
   "execution_count": 70,
   "metadata": {},
   "outputs": [],
   "source": [
    "df_X = df.drop(columns = [\"SALARY\", \"GENDER_DENOTING\", \"MINORITY_DENOTING\", \"JOBCAT_DENOTING\", \"SOCIODEMOGRAPHY_DENOTING\"])\n",
    "Y = df[\"SALARY\"]"
   ]
  },
  {
   "source": [
    "Then we need to split the date into a subset of training observations (60% of the data) and a subset containg testing observations."
   ],
   "cell_type": "markdown",
   "metadata": {}
  },
  {
   "cell_type": "code",
   "execution_count": 71,
   "metadata": {},
   "outputs": [
    {
     "output_type": "execute_result",
     "data": {
      "text/plain": [
       "     EDUC  SALBEGIN  GENDER  MINORITY  JOBCAT  SOCIODEMOGRAPHY\n",
       "470    15     15750       1         1       1                3\n",
       "365    12     12000       0         1       1                2\n",
       "350    12     13500       0         0       1                0\n",
       "172    20     42480       1         0       3                1\n",
       "65     19     30000       1         0       3                1\n",
       "..    ...       ...     ...       ...     ...              ...\n",
       "406    15     15750       1         0       1                1\n",
       "390    12     12450       0         0       1                0\n",
       "143     8      9750       0         0       1                0\n",
       "241    12     18000       0         0       1                0\n",
       "111    12     15000       1         1       2                3\n",
       "\n",
       "[284 rows x 6 columns]"
      ],
      "text/html": "<div>\n<style scoped>\n    .dataframe tbody tr th:only-of-type {\n        vertical-align: middle;\n    }\n\n    .dataframe tbody tr th {\n        vertical-align: top;\n    }\n\n    .dataframe thead th {\n        text-align: right;\n    }\n</style>\n<table border=\"1\" class=\"dataframe\">\n  <thead>\n    <tr style=\"text-align: right;\">\n      <th></th>\n      <th>EDUC</th>\n      <th>SALBEGIN</th>\n      <th>GENDER</th>\n      <th>MINORITY</th>\n      <th>JOBCAT</th>\n      <th>SOCIODEMOGRAPHY</th>\n    </tr>\n  </thead>\n  <tbody>\n    <tr>\n      <th>470</th>\n      <td>15</td>\n      <td>15750</td>\n      <td>1</td>\n      <td>1</td>\n      <td>1</td>\n      <td>3</td>\n    </tr>\n    <tr>\n      <th>365</th>\n      <td>12</td>\n      <td>12000</td>\n      <td>0</td>\n      <td>1</td>\n      <td>1</td>\n      <td>2</td>\n    </tr>\n    <tr>\n      <th>350</th>\n      <td>12</td>\n      <td>13500</td>\n      <td>0</td>\n      <td>0</td>\n      <td>1</td>\n      <td>0</td>\n    </tr>\n    <tr>\n      <th>172</th>\n      <td>20</td>\n      <td>42480</td>\n      <td>1</td>\n      <td>0</td>\n      <td>3</td>\n      <td>1</td>\n    </tr>\n    <tr>\n      <th>65</th>\n      <td>19</td>\n      <td>30000</td>\n      <td>1</td>\n      <td>0</td>\n      <td>3</td>\n      <td>1</td>\n    </tr>\n    <tr>\n      <th>...</th>\n      <td>...</td>\n      <td>...</td>\n      <td>...</td>\n      <td>...</td>\n      <td>...</td>\n      <td>...</td>\n    </tr>\n    <tr>\n      <th>406</th>\n      <td>15</td>\n      <td>15750</td>\n      <td>1</td>\n      <td>0</td>\n      <td>1</td>\n      <td>1</td>\n    </tr>\n    <tr>\n      <th>390</th>\n      <td>12</td>\n      <td>12450</td>\n      <td>0</td>\n      <td>0</td>\n      <td>1</td>\n      <td>0</td>\n    </tr>\n    <tr>\n      <th>143</th>\n      <td>8</td>\n      <td>9750</td>\n      <td>0</td>\n      <td>0</td>\n      <td>1</td>\n      <td>0</td>\n    </tr>\n    <tr>\n      <th>241</th>\n      <td>12</td>\n      <td>18000</td>\n      <td>0</td>\n      <td>0</td>\n      <td>1</td>\n      <td>0</td>\n    </tr>\n    <tr>\n      <th>111</th>\n      <td>12</td>\n      <td>15000</td>\n      <td>1</td>\n      <td>1</td>\n      <td>2</td>\n      <td>3</td>\n    </tr>\n  </tbody>\n</table>\n<p>284 rows × 6 columns</p>\n</div>"
     },
     "metadata": {},
     "execution_count": 71
    }
   ],
   "source": [
    "X_train, X_test, y_train, y_test = train_test_split(df_X, Y, test_size=0.4, random_state=17)\n",
    "X_train"
   ]
  },
  {
   "source": [
    "As linear regression model we use the sklearn.linear_model library. To fit the model means training it with our training subset of the data."
   ],
   "cell_type": "markdown",
   "metadata": {}
  },
  {
   "cell_type": "code",
   "execution_count": 72,
   "metadata": {},
   "outputs": [
    {
     "output_type": "execute_result",
     "data": {
      "text/plain": [
       "LinearRegression()"
      ]
     },
     "metadata": {},
     "execution_count": 72
    }
   ],
   "source": [
    "model = LinearRegression()\n",
    "model.fit(X_train,y_train)"
   ]
  },
  {
   "source": [
    "Now we can use our trained model to predict salaries. For this we use the features from our testing subset of the data."
   ],
   "cell_type": "markdown",
   "metadata": {}
  },
  {
   "cell_type": "code",
   "execution_count": 73,
   "metadata": {},
   "outputs": [],
   "source": [
    "predictions = model.predict(X_test)"
   ]
  },
  {
   "source": [
    "The RMSE can be calculated by the sklearn.metrics library."
   ],
   "cell_type": "markdown",
   "metadata": {}
  },
  {
   "cell_type": "code",
   "execution_count": 74,
   "metadata": {},
   "outputs": [
    {
     "output_type": "execute_result",
     "data": {
      "text/plain": [
       "7115.874747063464"
      ]
     },
     "metadata": {},
     "execution_count": 74
    }
   ],
   "source": [
    "mean_squared_error(y_test, predictions)**0.5"
   ]
  },
  {
   "source": [
    "Now we can use this value to compare it with the other linear regression models."
   ],
   "cell_type": "markdown",
   "metadata": {}
  },
  {
   "source": [
    "To check wether our linear regression model has any blindsights we can plot the residuals that occur within our testing subset."
   ],
   "cell_type": "markdown",
   "metadata": {}
  },
  {
   "cell_type": "code",
   "execution_count": 75,
   "metadata": {},
   "outputs": [
    {
     "output_type": "display_data",
     "data": {
      "application/vnd.plotly.v1+json": {
       "config": {
        "plotlyServerURL": "https://plot.ly"
       },
       "data": [
        {
         "mode": "markers",
         "type": "scatter",
         "x": [
          34817.50285534795,
          32213.551857751503,
          28209.494262419095,
          30900.769853588696,
          18827.926957781227,
          38763.254336192855,
          31024.774630345455,
          31693.73231354209,
          20719.600370316133,
          19668.67069668563,
          30690.295788747135,
          29377.51378458432,
          34858.644415617666,
          34142.193583585475,
          22114.102155362176,
          33126.63397760646,
          73578.75973522136,
          22954.845894266582,
          22534.47402481438,
          33843.08480963865,
          63069.46299891633,
          19750.390477568864,
          20719.600370316133,
          19750.390477568864,
          55628.27341305232,
          33126.63397760646,
          45833.608854816026,
          23585.403698444883,
          23585.403698444883,
          62353.01216688414,
          40912.60683228941,
          32792.15513600815,
          21063.172481731675,
          29591.87296628108,
          27836.615541802457,
          23234.62852869185,
          28279.090962118265,
          29890.981740227908,
          32792.15513600815,
          32792.15513600815,
          32530.30280547584,
          73662.8341091118,
          95979.12441513335,
          54992.86714354373,
          31693.73231354209,
          31741.22546237764,
          30642.802639911584,
          33264.48153138201,
          72145.85807115698,
          28540.943292650576,
          27490.013619020072,
          26177.231614857257,
          31741.22546237764,
          54949.01130263506,
          28467.17334598076,
          32792.15513600815,
          34894.01448326916,
          30428.443458214824,
          22114.102155362176,
          29591.87296628108,
          30428.443458214824,
          60629.48750213012,
          22114.102155362176,
          22534.47402481438,
          31147.924101613855,
          31741.22546237764,
          33843.08480963865,
          32792.15513600815,
          28279.090962118265,
          24473.640586184843,
          32792.15513600815,
          29591.87296628108,
          32530.30280547584,
          30177.967432990663,
          31741.22546237764,
          25687.26304570589,
          30654.92572109565,
          31741.22546237764,
          57445.03638201491,
          21483.544351183875,
          28279.090962118265,
          30900.769853588696,
          19750.390477568864,
          65885.95452424607,
          22114.102155362176,
          25425.41071517358,
          21221.692020651564,
          26177.231614857257,
          27789.1223929669,
          28378.25050676003,
          22114.102155362176,
          28467.17334598076,
          32792.15513600815,
          22534.47402481438,
          25126.301941226753,
          22534.47402481438,
          30690.295788747135,
          22534.47402481438,
          25687.26304570589,
          34767.29542587344,
          25266.891176253688,
          34633.98080670029,
          31479.37313184533,
          32530.30280547584,
          36130.284859510764,
          33843.08480963865,
          35897.4510080641,
          30690.295788747135,
          34632.16215273685,
          59196.58583806574,
          28209.494262419095,
          27776.999311782827,
          44782.67918118552,
          27836.615541802457,
          36130.284859510764,
          32213.551857751503,
          18197.369153602926,
          22954.845894266582,
          136634.54015305158,
          34858.644415617666,
          21221.692020651564,
          48608.06319320055,
          19750.390477568864,
          27490.013619020072,
          88958.9141952816,
          34858.644415617666,
          66218.61471188095,
          72862.30890318917,
          26095.511833974022,
          35944.944156899655,
          78542.78510268423,
          35348.61298476903,
          60920.11050281977,
          26738.192719336388,
          19248.298827233426,
          69375.04104069935,
          22401.08784812494,
          26439.083945389568,
          28330.757357924478,
          22744.65995954048,
          40148.66285142167,
          47935.46820207703,
          34817.50285534795,
          59913.03667009793,
          22534.47402481438,
          28279.090962118265,
          18197.369153602926,
          52891.00779628272,
          38205.323043080556,
          23585.403698444883,
          65527.297242079214,
          24215.961502623184,
          21209.5689394675,
          64835.02485061557,
          32075.70430397596,
          22534.47402481438,
          23743.923237364776,
          23444.814463417948,
          50323.48074612839,
          21011.506085925466,
          22954.845894266582,
          25687.26304570589,
          25413.287633989512,
          69373.2223867359,
          24374.481041543077,
          27789.1223929669,
          22821.45971757714,
          31951.699527219193,
          26317.820849884192,
          31951.699527219193,
          31693.73231354209,
          76058.95376498933,
          33043.77076111941,
          22534.47402481438,
          22534.47402481438,
          52891.00779628272,
          29591.87296628108,
          23585.403698444883,
          35915.925677814004,
          86902.72934289271,
          22114.102155362176,
          25687.26304570589,
          22401.08784812494,
          36244.05293084648,
          22534.47402481438,
          30690.295788747135,
          27025.178412099158,
          30480.109854021037,
          28625.692884900644,
          36995.87383053016
         ],
         "y": [
          -3617.5028553479497,
          -1463.5518577515031,
          1190.5057375809047,
          -150.7698535886957,
          4872.0730422187735,
          1586.7456638071453,
          -2974.774630345455,
          2206.2676864579116,
          430.3996296838668,
          11681.329303314371,
          509.7042112528652,
          -1327.51378458432,
          -1858.6444156176658,
          2907.8064164145253,
          2185.897844637824,
          -2976.6339776064633,
          -18578.759735221363,
          -1954.845894266582,
          1465.525975185621,
          6506.915190361353,
          -10944.46299891633,
          7699.609522431136,
          6730.399629683867,
          -2800.3904775688643,
          -14078.273413052317,
          4673.366022393537,
          12291.391145183974,
          10314.596301555117,
          -1535.403698444883,
          15896.987833115862,
          -4912.606832289413,
          -8342.15513600815,
          -4563.172481731675,
          -2591.87296628108,
          4713.384458197543,
          2265.37147130815,
          -829.0909621182655,
          -1390.9817402279077,
          -1292.1551360081503,
          -5792.15513600815,
          -1930.3028054758397,
          -3662.8341091118054,
          -29229.124415133352,
          -9367.867143543728,
          4006.2676864579116,
          658.7745376223611,
          2897.1973600884157,
          -2514.4815313820072,
          10354.141928843019,
          -5290.943292650576,
          -2440.013619020072,
          522.7683851427428,
          7108.774537622361,
          -16249.01130263506,
          -3267.1733459807583,
          6357.84486399185,
          -8944.014483269159,
          -1478.4434582148242,
          -64.10215536217584,
          5958.12703371892,
          4821.556541785176,
          13120.51249786988,
          985.8978446378242,
          265.52597518562106,
          3952.075898386145,
          6058.774537622361,
          5756.915190361353,
          -1592.1551360081503,
          -1729.0909621182655,
          6876.359413815157,
          -2642.1551360081503,
          -2741.87296628108,
          -4480.30280547584,
          -4977.967432990663,
          -5191.225462377639,
          -1687.2630457058913,
          8195.07427890435,
          13408.774537622361,
          -895.0363820149068,
          7016.455648816125,
          -5929.090962118265,
          -900.7698535886957,
          -3400.3904775688643,
          25364.045475753926,
          4135.897844637824,
          -975.4107151735807,
          1728.3079793484358,
          5322.768385142743,
          5510.8776070331005,
          2671.7494932399713,
          2185.897844637824,
          -5517.173345980758,
          -11492.15513600815,
          -2884.474024814379,
          -5476.301941226753,
          -184.47402481437894,
          15309.704211252865,
          115.52597518562106,
          -4837.263045705891,
          1232.704574126561,
          -816.8911762536882,
          -1333.9808067002887,
          470.6268681546717,
          5869.69719452416,
          -5530.284859510764,
          -6693.084809638647,
          -6557.451008064098,
          959.7042112528652,
          -6282.162152736848,
          -16896.585838065737,
          -4809.494262419095,
          -3776.999311782827,
          2092.320818814478,
          -3986.6155418024573,
          -5380.284859510764,
          -263.5518577515031,
          4152.6308463970745,
          3145.154105733418,
          -1634.540153051581,
          19141.355584382334,
          -671.6920206515642,
          7141.936806799451,
          -1300.3904775688643,
          -190.01361902007193,
          -22958.9141952816,
          16141.355584382334,
          -1218.6147118809458,
          -10362.308903189172,
          -4195.511833974022,
          -1444.9441568996554,
          -13542.785102684225,
          351.38701523096825,
          -6045.110502819771,
          2661.807280663612,
          3251.701172766574,
          -4375.041040699347,
          -501.0878481249383,
          260.9160546104322,
          -4180.757357924478,
          4855.3400404595195,
          4851.337148578328,
          -13525.468202077027,
          432.49714465205034,
          -4913.036670097928,
          -784.4740248143789,
          2170.9090378817345,
          -497.3691536029255,
          17108.99220371728,
          10794.676956919444,
          864.596301555117,
          -6127.297242079214,
          6384.038497376816,
          7140.431060532501,
          -2960.0248506155694,
          7824.295696024041,
          -2584.474024814379,
          -2893.9232373647756,
          4305.185536582052,
          -15703.480746128393,
          -1811.5060859254663,
          3295.154105733418,
          -3337.2630457058913,
          -3063.287633989512,
          -14373.222386735899,
          1725.5189584569234,
          1370.8776070331005,
          -1221.4597175771414,
          2548.3004727808075,
          2482.1791501158077,
          -1651.6995272191925,
          -9193.732313542088,
          -14183.953764989332,
          1456.2292388805872,
          -2134.474024814379,
          -1834.474024814379,
          -4891.00779628272,
          -7391.87296628108,
          -1085.403698444883,
          -11615.925677814004,
          -652.7293428927078,
          3835.897844637824,
          -2287.2630457058913,
          -2301.0878481249383,
          -8494.052930846483,
          265.52597518562106,
          -5640.295788747135,
          2074.821587900842,
          2969.890145978963,
          1224.3071150993565,
          -995.8738305301595
         ]
        }
       ],
       "layout": {
        "template": {
         "data": {
          "bar": [
           {
            "error_x": {
             "color": "#2a3f5f"
            },
            "error_y": {
             "color": "#2a3f5f"
            },
            "marker": {
             "line": {
              "color": "#E5ECF6",
              "width": 0.5
             }
            },
            "type": "bar"
           }
          ],
          "barpolar": [
           {
            "marker": {
             "line": {
              "color": "#E5ECF6",
              "width": 0.5
             }
            },
            "type": "barpolar"
           }
          ],
          "carpet": [
           {
            "aaxis": {
             "endlinecolor": "#2a3f5f",
             "gridcolor": "white",
             "linecolor": "white",
             "minorgridcolor": "white",
             "startlinecolor": "#2a3f5f"
            },
            "baxis": {
             "endlinecolor": "#2a3f5f",
             "gridcolor": "white",
             "linecolor": "white",
             "minorgridcolor": "white",
             "startlinecolor": "#2a3f5f"
            },
            "type": "carpet"
           }
          ],
          "choropleth": [
           {
            "colorbar": {
             "outlinewidth": 0,
             "ticks": ""
            },
            "type": "choropleth"
           }
          ],
          "contour": [
           {
            "colorbar": {
             "outlinewidth": 0,
             "ticks": ""
            },
            "colorscale": [
             [
              0,
              "#0d0887"
             ],
             [
              0.1111111111111111,
              "#46039f"
             ],
             [
              0.2222222222222222,
              "#7201a8"
             ],
             [
              0.3333333333333333,
              "#9c179e"
             ],
             [
              0.4444444444444444,
              "#bd3786"
             ],
             [
              0.5555555555555556,
              "#d8576b"
             ],
             [
              0.6666666666666666,
              "#ed7953"
             ],
             [
              0.7777777777777778,
              "#fb9f3a"
             ],
             [
              0.8888888888888888,
              "#fdca26"
             ],
             [
              1,
              "#f0f921"
             ]
            ],
            "type": "contour"
           }
          ],
          "contourcarpet": [
           {
            "colorbar": {
             "outlinewidth": 0,
             "ticks": ""
            },
            "type": "contourcarpet"
           }
          ],
          "heatmap": [
           {
            "colorbar": {
             "outlinewidth": 0,
             "ticks": ""
            },
            "colorscale": [
             [
              0,
              "#0d0887"
             ],
             [
              0.1111111111111111,
              "#46039f"
             ],
             [
              0.2222222222222222,
              "#7201a8"
             ],
             [
              0.3333333333333333,
              "#9c179e"
             ],
             [
              0.4444444444444444,
              "#bd3786"
             ],
             [
              0.5555555555555556,
              "#d8576b"
             ],
             [
              0.6666666666666666,
              "#ed7953"
             ],
             [
              0.7777777777777778,
              "#fb9f3a"
             ],
             [
              0.8888888888888888,
              "#fdca26"
             ],
             [
              1,
              "#f0f921"
             ]
            ],
            "type": "heatmap"
           }
          ],
          "heatmapgl": [
           {
            "colorbar": {
             "outlinewidth": 0,
             "ticks": ""
            },
            "colorscale": [
             [
              0,
              "#0d0887"
             ],
             [
              0.1111111111111111,
              "#46039f"
             ],
             [
              0.2222222222222222,
              "#7201a8"
             ],
             [
              0.3333333333333333,
              "#9c179e"
             ],
             [
              0.4444444444444444,
              "#bd3786"
             ],
             [
              0.5555555555555556,
              "#d8576b"
             ],
             [
              0.6666666666666666,
              "#ed7953"
             ],
             [
              0.7777777777777778,
              "#fb9f3a"
             ],
             [
              0.8888888888888888,
              "#fdca26"
             ],
             [
              1,
              "#f0f921"
             ]
            ],
            "type": "heatmapgl"
           }
          ],
          "histogram": [
           {
            "marker": {
             "colorbar": {
              "outlinewidth": 0,
              "ticks": ""
             }
            },
            "type": "histogram"
           }
          ],
          "histogram2d": [
           {
            "colorbar": {
             "outlinewidth": 0,
             "ticks": ""
            },
            "colorscale": [
             [
              0,
              "#0d0887"
             ],
             [
              0.1111111111111111,
              "#46039f"
             ],
             [
              0.2222222222222222,
              "#7201a8"
             ],
             [
              0.3333333333333333,
              "#9c179e"
             ],
             [
              0.4444444444444444,
              "#bd3786"
             ],
             [
              0.5555555555555556,
              "#d8576b"
             ],
             [
              0.6666666666666666,
              "#ed7953"
             ],
             [
              0.7777777777777778,
              "#fb9f3a"
             ],
             [
              0.8888888888888888,
              "#fdca26"
             ],
             [
              1,
              "#f0f921"
             ]
            ],
            "type": "histogram2d"
           }
          ],
          "histogram2dcontour": [
           {
            "colorbar": {
             "outlinewidth": 0,
             "ticks": ""
            },
            "colorscale": [
             [
              0,
              "#0d0887"
             ],
             [
              0.1111111111111111,
              "#46039f"
             ],
             [
              0.2222222222222222,
              "#7201a8"
             ],
             [
              0.3333333333333333,
              "#9c179e"
             ],
             [
              0.4444444444444444,
              "#bd3786"
             ],
             [
              0.5555555555555556,
              "#d8576b"
             ],
             [
              0.6666666666666666,
              "#ed7953"
             ],
             [
              0.7777777777777778,
              "#fb9f3a"
             ],
             [
              0.8888888888888888,
              "#fdca26"
             ],
             [
              1,
              "#f0f921"
             ]
            ],
            "type": "histogram2dcontour"
           }
          ],
          "mesh3d": [
           {
            "colorbar": {
             "outlinewidth": 0,
             "ticks": ""
            },
            "type": "mesh3d"
           }
          ],
          "parcoords": [
           {
            "line": {
             "colorbar": {
              "outlinewidth": 0,
              "ticks": ""
             }
            },
            "type": "parcoords"
           }
          ],
          "pie": [
           {
            "automargin": true,
            "type": "pie"
           }
          ],
          "scatter": [
           {
            "marker": {
             "colorbar": {
              "outlinewidth": 0,
              "ticks": ""
             }
            },
            "type": "scatter"
           }
          ],
          "scatter3d": [
           {
            "line": {
             "colorbar": {
              "outlinewidth": 0,
              "ticks": ""
             }
            },
            "marker": {
             "colorbar": {
              "outlinewidth": 0,
              "ticks": ""
             }
            },
            "type": "scatter3d"
           }
          ],
          "scattercarpet": [
           {
            "marker": {
             "colorbar": {
              "outlinewidth": 0,
              "ticks": ""
             }
            },
            "type": "scattercarpet"
           }
          ],
          "scattergeo": [
           {
            "marker": {
             "colorbar": {
              "outlinewidth": 0,
              "ticks": ""
             }
            },
            "type": "scattergeo"
           }
          ],
          "scattergl": [
           {
            "marker": {
             "colorbar": {
              "outlinewidth": 0,
              "ticks": ""
             }
            },
            "type": "scattergl"
           }
          ],
          "scattermapbox": [
           {
            "marker": {
             "colorbar": {
              "outlinewidth": 0,
              "ticks": ""
             }
            },
            "type": "scattermapbox"
           }
          ],
          "scatterpolar": [
           {
            "marker": {
             "colorbar": {
              "outlinewidth": 0,
              "ticks": ""
             }
            },
            "type": "scatterpolar"
           }
          ],
          "scatterpolargl": [
           {
            "marker": {
             "colorbar": {
              "outlinewidth": 0,
              "ticks": ""
             }
            },
            "type": "scatterpolargl"
           }
          ],
          "scatterternary": [
           {
            "marker": {
             "colorbar": {
              "outlinewidth": 0,
              "ticks": ""
             }
            },
            "type": "scatterternary"
           }
          ],
          "surface": [
           {
            "colorbar": {
             "outlinewidth": 0,
             "ticks": ""
            },
            "colorscale": [
             [
              0,
              "#0d0887"
             ],
             [
              0.1111111111111111,
              "#46039f"
             ],
             [
              0.2222222222222222,
              "#7201a8"
             ],
             [
              0.3333333333333333,
              "#9c179e"
             ],
             [
              0.4444444444444444,
              "#bd3786"
             ],
             [
              0.5555555555555556,
              "#d8576b"
             ],
             [
              0.6666666666666666,
              "#ed7953"
             ],
             [
              0.7777777777777778,
              "#fb9f3a"
             ],
             [
              0.8888888888888888,
              "#fdca26"
             ],
             [
              1,
              "#f0f921"
             ]
            ],
            "type": "surface"
           }
          ],
          "table": [
           {
            "cells": {
             "fill": {
              "color": "#EBF0F8"
             },
             "line": {
              "color": "white"
             }
            },
            "header": {
             "fill": {
              "color": "#C8D4E3"
             },
             "line": {
              "color": "white"
             }
            },
            "type": "table"
           }
          ]
         },
         "layout": {
          "annotationdefaults": {
           "arrowcolor": "#2a3f5f",
           "arrowhead": 0,
           "arrowwidth": 1
          },
          "autotypenumbers": "strict",
          "coloraxis": {
           "colorbar": {
            "outlinewidth": 0,
            "ticks": ""
           }
          },
          "colorscale": {
           "diverging": [
            [
             0,
             "#8e0152"
            ],
            [
             0.1,
             "#c51b7d"
            ],
            [
             0.2,
             "#de77ae"
            ],
            [
             0.3,
             "#f1b6da"
            ],
            [
             0.4,
             "#fde0ef"
            ],
            [
             0.5,
             "#f7f7f7"
            ],
            [
             0.6,
             "#e6f5d0"
            ],
            [
             0.7,
             "#b8e186"
            ],
            [
             0.8,
             "#7fbc41"
            ],
            [
             0.9,
             "#4d9221"
            ],
            [
             1,
             "#276419"
            ]
           ],
           "sequential": [
            [
             0,
             "#0d0887"
            ],
            [
             0.1111111111111111,
             "#46039f"
            ],
            [
             0.2222222222222222,
             "#7201a8"
            ],
            [
             0.3333333333333333,
             "#9c179e"
            ],
            [
             0.4444444444444444,
             "#bd3786"
            ],
            [
             0.5555555555555556,
             "#d8576b"
            ],
            [
             0.6666666666666666,
             "#ed7953"
            ],
            [
             0.7777777777777778,
             "#fb9f3a"
            ],
            [
             0.8888888888888888,
             "#fdca26"
            ],
            [
             1,
             "#f0f921"
            ]
           ],
           "sequentialminus": [
            [
             0,
             "#0d0887"
            ],
            [
             0.1111111111111111,
             "#46039f"
            ],
            [
             0.2222222222222222,
             "#7201a8"
            ],
            [
             0.3333333333333333,
             "#9c179e"
            ],
            [
             0.4444444444444444,
             "#bd3786"
            ],
            [
             0.5555555555555556,
             "#d8576b"
            ],
            [
             0.6666666666666666,
             "#ed7953"
            ],
            [
             0.7777777777777778,
             "#fb9f3a"
            ],
            [
             0.8888888888888888,
             "#fdca26"
            ],
            [
             1,
             "#f0f921"
            ]
           ]
          },
          "colorway": [
           "#636efa",
           "#EF553B",
           "#00cc96",
           "#ab63fa",
           "#FFA15A",
           "#19d3f3",
           "#FF6692",
           "#B6E880",
           "#FF97FF",
           "#FECB52"
          ],
          "font": {
           "color": "#2a3f5f"
          },
          "geo": {
           "bgcolor": "white",
           "lakecolor": "white",
           "landcolor": "#E5ECF6",
           "showlakes": true,
           "showland": true,
           "subunitcolor": "white"
          },
          "hoverlabel": {
           "align": "left"
          },
          "hovermode": "closest",
          "mapbox": {
           "style": "light"
          },
          "paper_bgcolor": "white",
          "plot_bgcolor": "#E5ECF6",
          "polar": {
           "angularaxis": {
            "gridcolor": "white",
            "linecolor": "white",
            "ticks": ""
           },
           "bgcolor": "#E5ECF6",
           "radialaxis": {
            "gridcolor": "white",
            "linecolor": "white",
            "ticks": ""
           }
          },
          "scene": {
           "xaxis": {
            "backgroundcolor": "#E5ECF6",
            "gridcolor": "white",
            "gridwidth": 2,
            "linecolor": "white",
            "showbackground": true,
            "ticks": "",
            "zerolinecolor": "white"
           },
           "yaxis": {
            "backgroundcolor": "#E5ECF6",
            "gridcolor": "white",
            "gridwidth": 2,
            "linecolor": "white",
            "showbackground": true,
            "ticks": "",
            "zerolinecolor": "white"
           },
           "zaxis": {
            "backgroundcolor": "#E5ECF6",
            "gridcolor": "white",
            "gridwidth": 2,
            "linecolor": "white",
            "showbackground": true,
            "ticks": "",
            "zerolinecolor": "white"
           }
          },
          "shapedefaults": {
           "line": {
            "color": "#2a3f5f"
           }
          },
          "ternary": {
           "aaxis": {
            "gridcolor": "white",
            "linecolor": "white",
            "ticks": ""
           },
           "baxis": {
            "gridcolor": "white",
            "linecolor": "white",
            "ticks": ""
           },
           "bgcolor": "#E5ECF6",
           "caxis": {
            "gridcolor": "white",
            "linecolor": "white",
            "ticks": ""
           }
          },
          "title": {
           "x": 0.05
          },
          "xaxis": {
           "automargin": true,
           "gridcolor": "white",
           "linecolor": "white",
           "ticks": "",
           "title": {
            "standoff": 15
           },
           "zerolinecolor": "white",
           "zerolinewidth": 2
          },
          "yaxis": {
           "automargin": true,
           "gridcolor": "white",
           "linecolor": "white",
           "ticks": "",
           "title": {
            "standoff": 15
           },
           "zerolinecolor": "white",
           "zerolinewidth": 2
          }
         }
        },
        "xaxis": {
         "title": {
          "text": "Predicted Salaries"
         }
        },
        "yaxis": {
         "title": {
          "text": "Residuals"
         }
        }
       }
      }
     },
     "metadata": {}
    }
   ],
   "source": [
    "fig = go.Figure()\n",
    "fig.add_trace(\n",
    "    go.Scatter(\n",
    "        x = predictions, \n",
    "        y = y_test - predictions,\n",
    "        mode=\"markers\"\n",
    "    )\n",
    ")\n",
    "fig.update_layout(\n",
    "    xaxis_title = \"Predicted Salaries\",\n",
    "    yaxis_title = \"Residuals\"\n",
    ")\n",
    "fig.show()"
   ]
  },
  {
   "cell_type": "code",
   "execution_count": 76,
   "metadata": {},
   "outputs": [
    {
     "output_type": "display_data",
     "data": {
      "application/vnd.plotly.v1+json": {
       "config": {
        "plotlyServerURL": "https://plot.ly"
       },
       "data": [
        {
         "type": "histogram",
         "x": [
          -3617.5028553479497,
          -1463.5518577515031,
          1190.5057375809047,
          -150.7698535886957,
          4872.0730422187735,
          1586.7456638071453,
          -2974.774630345455,
          2206.2676864579116,
          430.3996296838668,
          11681.329303314371,
          509.7042112528652,
          -1327.51378458432,
          -1858.6444156176658,
          2907.8064164145253,
          2185.897844637824,
          -2976.6339776064633,
          -18578.759735221363,
          -1954.845894266582,
          1465.525975185621,
          6506.915190361353,
          -10944.46299891633,
          7699.609522431136,
          6730.399629683867,
          -2800.3904775688643,
          -14078.273413052317,
          4673.366022393537,
          12291.391145183974,
          10314.596301555117,
          -1535.403698444883,
          15896.987833115862,
          -4912.606832289413,
          -8342.15513600815,
          -4563.172481731675,
          -2591.87296628108,
          4713.384458197543,
          2265.37147130815,
          -829.0909621182655,
          -1390.9817402279077,
          -1292.1551360081503,
          -5792.15513600815,
          -1930.3028054758397,
          -3662.8341091118054,
          -29229.124415133352,
          -9367.867143543728,
          4006.2676864579116,
          658.7745376223611,
          2897.1973600884157,
          -2514.4815313820072,
          10354.141928843019,
          -5290.943292650576,
          -2440.013619020072,
          522.7683851427428,
          7108.774537622361,
          -16249.01130263506,
          -3267.1733459807583,
          6357.84486399185,
          -8944.014483269159,
          -1478.4434582148242,
          -64.10215536217584,
          5958.12703371892,
          4821.556541785176,
          13120.51249786988,
          985.8978446378242,
          265.52597518562106,
          3952.075898386145,
          6058.774537622361,
          5756.915190361353,
          -1592.1551360081503,
          -1729.0909621182655,
          6876.359413815157,
          -2642.1551360081503,
          -2741.87296628108,
          -4480.30280547584,
          -4977.967432990663,
          -5191.225462377639,
          -1687.2630457058913,
          8195.07427890435,
          13408.774537622361,
          -895.0363820149068,
          7016.455648816125,
          -5929.090962118265,
          -900.7698535886957,
          -3400.3904775688643,
          25364.045475753926,
          4135.897844637824,
          -975.4107151735807,
          1728.3079793484358,
          5322.768385142743,
          5510.8776070331005,
          2671.7494932399713,
          2185.897844637824,
          -5517.173345980758,
          -11492.15513600815,
          -2884.474024814379,
          -5476.301941226753,
          -184.47402481437894,
          15309.704211252865,
          115.52597518562106,
          -4837.263045705891,
          1232.704574126561,
          -816.8911762536882,
          -1333.9808067002887,
          470.6268681546717,
          5869.69719452416,
          -5530.284859510764,
          -6693.084809638647,
          -6557.451008064098,
          959.7042112528652,
          -6282.162152736848,
          -16896.585838065737,
          -4809.494262419095,
          -3776.999311782827,
          2092.320818814478,
          -3986.6155418024573,
          -5380.284859510764,
          -263.5518577515031,
          4152.6308463970745,
          3145.154105733418,
          -1634.540153051581,
          19141.355584382334,
          -671.6920206515642,
          7141.936806799451,
          -1300.3904775688643,
          -190.01361902007193,
          -22958.9141952816,
          16141.355584382334,
          -1218.6147118809458,
          -10362.308903189172,
          -4195.511833974022,
          -1444.9441568996554,
          -13542.785102684225,
          351.38701523096825,
          -6045.110502819771,
          2661.807280663612,
          3251.701172766574,
          -4375.041040699347,
          -501.0878481249383,
          260.9160546104322,
          -4180.757357924478,
          4855.3400404595195,
          4851.337148578328,
          -13525.468202077027,
          432.49714465205034,
          -4913.036670097928,
          -784.4740248143789,
          2170.9090378817345,
          -497.3691536029255,
          17108.99220371728,
          10794.676956919444,
          864.596301555117,
          -6127.297242079214,
          6384.038497376816,
          7140.431060532501,
          -2960.0248506155694,
          7824.295696024041,
          -2584.474024814379,
          -2893.9232373647756,
          4305.185536582052,
          -15703.480746128393,
          -1811.5060859254663,
          3295.154105733418,
          -3337.2630457058913,
          -3063.287633989512,
          -14373.222386735899,
          1725.5189584569234,
          1370.8776070331005,
          -1221.4597175771414,
          2548.3004727808075,
          2482.1791501158077,
          -1651.6995272191925,
          -9193.732313542088,
          -14183.953764989332,
          1456.2292388805872,
          -2134.474024814379,
          -1834.474024814379,
          -4891.00779628272,
          -7391.87296628108,
          -1085.403698444883,
          -11615.925677814004,
          -652.7293428927078,
          3835.897844637824,
          -2287.2630457058913,
          -2301.0878481249383,
          -8494.052930846483,
          265.52597518562106,
          -5640.295788747135,
          2074.821587900842,
          2969.890145978963,
          1224.3071150993565,
          -995.8738305301595
         ]
        }
       ],
       "layout": {
        "template": {
         "data": {
          "bar": [
           {
            "error_x": {
             "color": "#2a3f5f"
            },
            "error_y": {
             "color": "#2a3f5f"
            },
            "marker": {
             "line": {
              "color": "#E5ECF6",
              "width": 0.5
             }
            },
            "type": "bar"
           }
          ],
          "barpolar": [
           {
            "marker": {
             "line": {
              "color": "#E5ECF6",
              "width": 0.5
             }
            },
            "type": "barpolar"
           }
          ],
          "carpet": [
           {
            "aaxis": {
             "endlinecolor": "#2a3f5f",
             "gridcolor": "white",
             "linecolor": "white",
             "minorgridcolor": "white",
             "startlinecolor": "#2a3f5f"
            },
            "baxis": {
             "endlinecolor": "#2a3f5f",
             "gridcolor": "white",
             "linecolor": "white",
             "minorgridcolor": "white",
             "startlinecolor": "#2a3f5f"
            },
            "type": "carpet"
           }
          ],
          "choropleth": [
           {
            "colorbar": {
             "outlinewidth": 0,
             "ticks": ""
            },
            "type": "choropleth"
           }
          ],
          "contour": [
           {
            "colorbar": {
             "outlinewidth": 0,
             "ticks": ""
            },
            "colorscale": [
             [
              0,
              "#0d0887"
             ],
             [
              0.1111111111111111,
              "#46039f"
             ],
             [
              0.2222222222222222,
              "#7201a8"
             ],
             [
              0.3333333333333333,
              "#9c179e"
             ],
             [
              0.4444444444444444,
              "#bd3786"
             ],
             [
              0.5555555555555556,
              "#d8576b"
             ],
             [
              0.6666666666666666,
              "#ed7953"
             ],
             [
              0.7777777777777778,
              "#fb9f3a"
             ],
             [
              0.8888888888888888,
              "#fdca26"
             ],
             [
              1,
              "#f0f921"
             ]
            ],
            "type": "contour"
           }
          ],
          "contourcarpet": [
           {
            "colorbar": {
             "outlinewidth": 0,
             "ticks": ""
            },
            "type": "contourcarpet"
           }
          ],
          "heatmap": [
           {
            "colorbar": {
             "outlinewidth": 0,
             "ticks": ""
            },
            "colorscale": [
             [
              0,
              "#0d0887"
             ],
             [
              0.1111111111111111,
              "#46039f"
             ],
             [
              0.2222222222222222,
              "#7201a8"
             ],
             [
              0.3333333333333333,
              "#9c179e"
             ],
             [
              0.4444444444444444,
              "#bd3786"
             ],
             [
              0.5555555555555556,
              "#d8576b"
             ],
             [
              0.6666666666666666,
              "#ed7953"
             ],
             [
              0.7777777777777778,
              "#fb9f3a"
             ],
             [
              0.8888888888888888,
              "#fdca26"
             ],
             [
              1,
              "#f0f921"
             ]
            ],
            "type": "heatmap"
           }
          ],
          "heatmapgl": [
           {
            "colorbar": {
             "outlinewidth": 0,
             "ticks": ""
            },
            "colorscale": [
             [
              0,
              "#0d0887"
             ],
             [
              0.1111111111111111,
              "#46039f"
             ],
             [
              0.2222222222222222,
              "#7201a8"
             ],
             [
              0.3333333333333333,
              "#9c179e"
             ],
             [
              0.4444444444444444,
              "#bd3786"
             ],
             [
              0.5555555555555556,
              "#d8576b"
             ],
             [
              0.6666666666666666,
              "#ed7953"
             ],
             [
              0.7777777777777778,
              "#fb9f3a"
             ],
             [
              0.8888888888888888,
              "#fdca26"
             ],
             [
              1,
              "#f0f921"
             ]
            ],
            "type": "heatmapgl"
           }
          ],
          "histogram": [
           {
            "marker": {
             "colorbar": {
              "outlinewidth": 0,
              "ticks": ""
             }
            },
            "type": "histogram"
           }
          ],
          "histogram2d": [
           {
            "colorbar": {
             "outlinewidth": 0,
             "ticks": ""
            },
            "colorscale": [
             [
              0,
              "#0d0887"
             ],
             [
              0.1111111111111111,
              "#46039f"
             ],
             [
              0.2222222222222222,
              "#7201a8"
             ],
             [
              0.3333333333333333,
              "#9c179e"
             ],
             [
              0.4444444444444444,
              "#bd3786"
             ],
             [
              0.5555555555555556,
              "#d8576b"
             ],
             [
              0.6666666666666666,
              "#ed7953"
             ],
             [
              0.7777777777777778,
              "#fb9f3a"
             ],
             [
              0.8888888888888888,
              "#fdca26"
             ],
             [
              1,
              "#f0f921"
             ]
            ],
            "type": "histogram2d"
           }
          ],
          "histogram2dcontour": [
           {
            "colorbar": {
             "outlinewidth": 0,
             "ticks": ""
            },
            "colorscale": [
             [
              0,
              "#0d0887"
             ],
             [
              0.1111111111111111,
              "#46039f"
             ],
             [
              0.2222222222222222,
              "#7201a8"
             ],
             [
              0.3333333333333333,
              "#9c179e"
             ],
             [
              0.4444444444444444,
              "#bd3786"
             ],
             [
              0.5555555555555556,
              "#d8576b"
             ],
             [
              0.6666666666666666,
              "#ed7953"
             ],
             [
              0.7777777777777778,
              "#fb9f3a"
             ],
             [
              0.8888888888888888,
              "#fdca26"
             ],
             [
              1,
              "#f0f921"
             ]
            ],
            "type": "histogram2dcontour"
           }
          ],
          "mesh3d": [
           {
            "colorbar": {
             "outlinewidth": 0,
             "ticks": ""
            },
            "type": "mesh3d"
           }
          ],
          "parcoords": [
           {
            "line": {
             "colorbar": {
              "outlinewidth": 0,
              "ticks": ""
             }
            },
            "type": "parcoords"
           }
          ],
          "pie": [
           {
            "automargin": true,
            "type": "pie"
           }
          ],
          "scatter": [
           {
            "marker": {
             "colorbar": {
              "outlinewidth": 0,
              "ticks": ""
             }
            },
            "type": "scatter"
           }
          ],
          "scatter3d": [
           {
            "line": {
             "colorbar": {
              "outlinewidth": 0,
              "ticks": ""
             }
            },
            "marker": {
             "colorbar": {
              "outlinewidth": 0,
              "ticks": ""
             }
            },
            "type": "scatter3d"
           }
          ],
          "scattercarpet": [
           {
            "marker": {
             "colorbar": {
              "outlinewidth": 0,
              "ticks": ""
             }
            },
            "type": "scattercarpet"
           }
          ],
          "scattergeo": [
           {
            "marker": {
             "colorbar": {
              "outlinewidth": 0,
              "ticks": ""
             }
            },
            "type": "scattergeo"
           }
          ],
          "scattergl": [
           {
            "marker": {
             "colorbar": {
              "outlinewidth": 0,
              "ticks": ""
             }
            },
            "type": "scattergl"
           }
          ],
          "scattermapbox": [
           {
            "marker": {
             "colorbar": {
              "outlinewidth": 0,
              "ticks": ""
             }
            },
            "type": "scattermapbox"
           }
          ],
          "scatterpolar": [
           {
            "marker": {
             "colorbar": {
              "outlinewidth": 0,
              "ticks": ""
             }
            },
            "type": "scatterpolar"
           }
          ],
          "scatterpolargl": [
           {
            "marker": {
             "colorbar": {
              "outlinewidth": 0,
              "ticks": ""
             }
            },
            "type": "scatterpolargl"
           }
          ],
          "scatterternary": [
           {
            "marker": {
             "colorbar": {
              "outlinewidth": 0,
              "ticks": ""
             }
            },
            "type": "scatterternary"
           }
          ],
          "surface": [
           {
            "colorbar": {
             "outlinewidth": 0,
             "ticks": ""
            },
            "colorscale": [
             [
              0,
              "#0d0887"
             ],
             [
              0.1111111111111111,
              "#46039f"
             ],
             [
              0.2222222222222222,
              "#7201a8"
             ],
             [
              0.3333333333333333,
              "#9c179e"
             ],
             [
              0.4444444444444444,
              "#bd3786"
             ],
             [
              0.5555555555555556,
              "#d8576b"
             ],
             [
              0.6666666666666666,
              "#ed7953"
             ],
             [
              0.7777777777777778,
              "#fb9f3a"
             ],
             [
              0.8888888888888888,
              "#fdca26"
             ],
             [
              1,
              "#f0f921"
             ]
            ],
            "type": "surface"
           }
          ],
          "table": [
           {
            "cells": {
             "fill": {
              "color": "#EBF0F8"
             },
             "line": {
              "color": "white"
             }
            },
            "header": {
             "fill": {
              "color": "#C8D4E3"
             },
             "line": {
              "color": "white"
             }
            },
            "type": "table"
           }
          ]
         },
         "layout": {
          "annotationdefaults": {
           "arrowcolor": "#2a3f5f",
           "arrowhead": 0,
           "arrowwidth": 1
          },
          "autotypenumbers": "strict",
          "coloraxis": {
           "colorbar": {
            "outlinewidth": 0,
            "ticks": ""
           }
          },
          "colorscale": {
           "diverging": [
            [
             0,
             "#8e0152"
            ],
            [
             0.1,
             "#c51b7d"
            ],
            [
             0.2,
             "#de77ae"
            ],
            [
             0.3,
             "#f1b6da"
            ],
            [
             0.4,
             "#fde0ef"
            ],
            [
             0.5,
             "#f7f7f7"
            ],
            [
             0.6,
             "#e6f5d0"
            ],
            [
             0.7,
             "#b8e186"
            ],
            [
             0.8,
             "#7fbc41"
            ],
            [
             0.9,
             "#4d9221"
            ],
            [
             1,
             "#276419"
            ]
           ],
           "sequential": [
            [
             0,
             "#0d0887"
            ],
            [
             0.1111111111111111,
             "#46039f"
            ],
            [
             0.2222222222222222,
             "#7201a8"
            ],
            [
             0.3333333333333333,
             "#9c179e"
            ],
            [
             0.4444444444444444,
             "#bd3786"
            ],
            [
             0.5555555555555556,
             "#d8576b"
            ],
            [
             0.6666666666666666,
             "#ed7953"
            ],
            [
             0.7777777777777778,
             "#fb9f3a"
            ],
            [
             0.8888888888888888,
             "#fdca26"
            ],
            [
             1,
             "#f0f921"
            ]
           ],
           "sequentialminus": [
            [
             0,
             "#0d0887"
            ],
            [
             0.1111111111111111,
             "#46039f"
            ],
            [
             0.2222222222222222,
             "#7201a8"
            ],
            [
             0.3333333333333333,
             "#9c179e"
            ],
            [
             0.4444444444444444,
             "#bd3786"
            ],
            [
             0.5555555555555556,
             "#d8576b"
            ],
            [
             0.6666666666666666,
             "#ed7953"
            ],
            [
             0.7777777777777778,
             "#fb9f3a"
            ],
            [
             0.8888888888888888,
             "#fdca26"
            ],
            [
             1,
             "#f0f921"
            ]
           ]
          },
          "colorway": [
           "#636efa",
           "#EF553B",
           "#00cc96",
           "#ab63fa",
           "#FFA15A",
           "#19d3f3",
           "#FF6692",
           "#B6E880",
           "#FF97FF",
           "#FECB52"
          ],
          "font": {
           "color": "#2a3f5f"
          },
          "geo": {
           "bgcolor": "white",
           "lakecolor": "white",
           "landcolor": "#E5ECF6",
           "showlakes": true,
           "showland": true,
           "subunitcolor": "white"
          },
          "hoverlabel": {
           "align": "left"
          },
          "hovermode": "closest",
          "mapbox": {
           "style": "light"
          },
          "paper_bgcolor": "white",
          "plot_bgcolor": "#E5ECF6",
          "polar": {
           "angularaxis": {
            "gridcolor": "white",
            "linecolor": "white",
            "ticks": ""
           },
           "bgcolor": "#E5ECF6",
           "radialaxis": {
            "gridcolor": "white",
            "linecolor": "white",
            "ticks": ""
           }
          },
          "scene": {
           "xaxis": {
            "backgroundcolor": "#E5ECF6",
            "gridcolor": "white",
            "gridwidth": 2,
            "linecolor": "white",
            "showbackground": true,
            "ticks": "",
            "zerolinecolor": "white"
           },
           "yaxis": {
            "backgroundcolor": "#E5ECF6",
            "gridcolor": "white",
            "gridwidth": 2,
            "linecolor": "white",
            "showbackground": true,
            "ticks": "",
            "zerolinecolor": "white"
           },
           "zaxis": {
            "backgroundcolor": "#E5ECF6",
            "gridcolor": "white",
            "gridwidth": 2,
            "linecolor": "white",
            "showbackground": true,
            "ticks": "",
            "zerolinecolor": "white"
           }
          },
          "shapedefaults": {
           "line": {
            "color": "#2a3f5f"
           }
          },
          "ternary": {
           "aaxis": {
            "gridcolor": "white",
            "linecolor": "white",
            "ticks": ""
           },
           "baxis": {
            "gridcolor": "white",
            "linecolor": "white",
            "ticks": ""
           },
           "bgcolor": "#E5ECF6",
           "caxis": {
            "gridcolor": "white",
            "linecolor": "white",
            "ticks": ""
           }
          },
          "title": {
           "x": 0.05
          },
          "xaxis": {
           "automargin": true,
           "gridcolor": "white",
           "linecolor": "white",
           "ticks": "",
           "title": {
            "standoff": 15
           },
           "zerolinecolor": "white",
           "zerolinewidth": 2
          },
          "yaxis": {
           "automargin": true,
           "gridcolor": "white",
           "linecolor": "white",
           "ticks": "",
           "title": {
            "standoff": 15
           },
           "zerolinecolor": "white",
           "zerolinewidth": 2
          }
         }
        },
        "xaxis": {
         "title": {
          "text": "Residuals"
         }
        },
        "yaxis": {
         "title": {
          "text": "Counts"
         }
        }
       }
      }
     },
     "metadata": {}
    }
   ],
   "source": [
    "fig = go.Figure()\n",
    "fig.add_trace(\n",
    "    go.Histogram(\n",
    "        x = y_test - predictions\n",
    "    )\n",
    ")\n",
    "fig.update_layout(\n",
    "    xaxis_title = \"Residuals\",\n",
    "    yaxis_title = \"Counts\"\n",
    ")\n",
    "fig.show()"
   ]
  },
  {
   "source": [
    "It looks as if the residuals are nearly normaly distributed. To check this we can use the quantile-quantile plot of the scipy.stats library."
   ],
   "cell_type": "markdown",
   "metadata": {}
  },
  {
   "cell_type": "code",
   "execution_count": 64,
   "metadata": {},
   "outputs": [
    {
     "output_type": "display_data",
     "data": {
      "text/plain": "<Figure size 432x288 with 1 Axes>",
      "image/svg+xml": "<?xml version=\"1.0\" encoding=\"utf-8\" standalone=\"no\"?>\n<!DOCTYPE svg PUBLIC \"-//W3C//DTD SVG 1.1//EN\"\n  \"http://www.w3.org/Graphics/SVG/1.1/DTD/svg11.dtd\">\n<svg height=\"277.314375pt\" version=\"1.1\" viewBox=\"0 0 410.070312 277.314375\" width=\"410.070312pt\" xmlns=\"http://www.w3.org/2000/svg\" xmlns:xlink=\"http://www.w3.org/1999/xlink\">\n <metadata>\n  <rdf:RDF xmlns:cc=\"http://creativecommons.org/ns#\" xmlns:dc=\"http://purl.org/dc/elements/1.1/\" xmlns:rdf=\"http://www.w3.org/1999/02/22-rdf-syntax-ns#\">\n   <cc:Work>\n    <dc:type rdf:resource=\"http://purl.org/dc/dcmitype/StillImage\"/>\n    <dc:date>2021-06-04T11:24:35.510816</dc:date>\n    <dc:format>image/svg+xml</dc:format>\n    <dc:creator>\n     <cc:Agent>\n      <dc:title>Matplotlib v3.4.2, https://matplotlib.org/</dc:title>\n     </cc:Agent>\n    </dc:creator>\n   </cc:Work>\n  </rdf:RDF>\n </metadata>\n <defs>\n  <style type=\"text/css\">*{stroke-linecap:butt;stroke-linejoin:round;}</style>\n </defs>\n <g id=\"figure_1\">\n  <g id=\"patch_1\">\n   <path d=\"M 0 277.314375 \nL 410.070312 277.314375 \nL 410.070312 0 \nL 0 0 \nz\n\" style=\"fill:none;\"/>\n  </g>\n  <g id=\"axes_1\">\n   <g id=\"patch_2\">\n    <path d=\"M 68.070312 239.758125 \nL 402.870313 239.758125 \nL 402.870313 22.318125 \nL 68.070312 22.318125 \nz\n\" style=\"fill:#ffffff;\"/>\n   </g>\n   <g id=\"matplotlib.axis_1\">\n    <g id=\"xtick_1\">\n     <g id=\"line2d_1\">\n      <defs>\n       <path d=\"M 0 0 \nL 0 3.5 \n\" id=\"med26ba206a\" style=\"stroke:#000000;stroke-width:0.8;\"/>\n      </defs>\n      <g>\n       <use style=\"stroke:#000000;stroke-width:0.8;\" x=\"122.054967\" xlink:href=\"#med26ba206a\" y=\"239.758125\"/>\n      </g>\n     </g>\n     <g id=\"text_1\">\n      <!-- −2 -->\n      <g transform=\"translate(114.683874 254.356562)scale(0.1 -0.1)\">\n       <defs>\n        <path d=\"M 678 2272 \nL 4684 2272 \nL 4684 1741 \nL 678 1741 \nL 678 2272 \nz\n\" id=\"DejaVuSans-2212\" transform=\"scale(0.015625)\"/>\n        <path d=\"M 1228 531 \nL 3431 531 \nL 3431 0 \nL 469 0 \nL 469 531 \nQ 828 903 1448 1529 \nQ 2069 2156 2228 2338 \nQ 2531 2678 2651 2914 \nQ 2772 3150 2772 3378 \nQ 2772 3750 2511 3984 \nQ 2250 4219 1831 4219 \nQ 1534 4219 1204 4116 \nQ 875 4013 500 3803 \nL 500 4441 \nQ 881 4594 1212 4672 \nQ 1544 4750 1819 4750 \nQ 2544 4750 2975 4387 \nQ 3406 4025 3406 3419 \nQ 3406 3131 3298 2873 \nQ 3191 2616 2906 2266 \nQ 2828 2175 2409 1742 \nQ 1991 1309 1228 531 \nz\n\" id=\"DejaVuSans-32\" transform=\"scale(0.015625)\"/>\n       </defs>\n       <use xlink:href=\"#DejaVuSans-2212\"/>\n       <use x=\"83.789062\" xlink:href=\"#DejaVuSans-32\"/>\n      </g>\n     </g>\n    </g>\n    <g id=\"xtick_2\">\n     <g id=\"line2d_2\">\n      <g>\n       <use style=\"stroke:#000000;stroke-width:0.8;\" x=\"178.76264\" xlink:href=\"#med26ba206a\" y=\"239.758125\"/>\n      </g>\n     </g>\n     <g id=\"text_2\">\n      <!-- −1 -->\n      <g transform=\"translate(171.391546 254.356562)scale(0.1 -0.1)\">\n       <defs>\n        <path d=\"M 794 531 \nL 1825 531 \nL 1825 4091 \nL 703 3866 \nL 703 4441 \nL 1819 4666 \nL 2450 4666 \nL 2450 531 \nL 3481 531 \nL 3481 0 \nL 794 0 \nL 794 531 \nz\n\" id=\"DejaVuSans-31\" transform=\"scale(0.015625)\"/>\n       </defs>\n       <use xlink:href=\"#DejaVuSans-2212\"/>\n       <use x=\"83.789062\" xlink:href=\"#DejaVuSans-31\"/>\n      </g>\n     </g>\n    </g>\n    <g id=\"xtick_3\">\n     <g id=\"line2d_3\">\n      <g>\n       <use style=\"stroke:#000000;stroke-width:0.8;\" x=\"235.470313\" xlink:href=\"#med26ba206a\" y=\"239.758125\"/>\n      </g>\n     </g>\n     <g id=\"text_3\">\n      <!-- 0 -->\n      <g transform=\"translate(232.289062 254.356562)scale(0.1 -0.1)\">\n       <defs>\n        <path d=\"M 2034 4250 \nQ 1547 4250 1301 3770 \nQ 1056 3291 1056 2328 \nQ 1056 1369 1301 889 \nQ 1547 409 2034 409 \nQ 2525 409 2770 889 \nQ 3016 1369 3016 2328 \nQ 3016 3291 2770 3770 \nQ 2525 4250 2034 4250 \nz\nM 2034 4750 \nQ 2819 4750 3233 4129 \nQ 3647 3509 3647 2328 \nQ 3647 1150 3233 529 \nQ 2819 -91 2034 -91 \nQ 1250 -91 836 529 \nQ 422 1150 422 2328 \nQ 422 3509 836 4129 \nQ 1250 4750 2034 4750 \nz\n\" id=\"DejaVuSans-30\" transform=\"scale(0.015625)\"/>\n       </defs>\n       <use xlink:href=\"#DejaVuSans-30\"/>\n      </g>\n     </g>\n    </g>\n    <g id=\"xtick_4\">\n     <g id=\"line2d_4\">\n      <g>\n       <use style=\"stroke:#000000;stroke-width:0.8;\" x=\"292.177985\" xlink:href=\"#med26ba206a\" y=\"239.758125\"/>\n      </g>\n     </g>\n     <g id=\"text_4\">\n      <!-- 1 -->\n      <g transform=\"translate(288.996735 254.356562)scale(0.1 -0.1)\">\n       <use xlink:href=\"#DejaVuSans-31\"/>\n      </g>\n     </g>\n    </g>\n    <g id=\"xtick_5\">\n     <g id=\"line2d_5\">\n      <g>\n       <use style=\"stroke:#000000;stroke-width:0.8;\" x=\"348.885658\" xlink:href=\"#med26ba206a\" y=\"239.758125\"/>\n      </g>\n     </g>\n     <g id=\"text_5\">\n      <!-- 2 -->\n      <g transform=\"translate(345.704408 254.356562)scale(0.1 -0.1)\">\n       <use xlink:href=\"#DejaVuSans-32\"/>\n      </g>\n     </g>\n    </g>\n    <g id=\"text_6\">\n     <!-- Theoretical quantiles -->\n     <g transform=\"translate(182.95625 268.034687)scale(0.1 -0.1)\">\n      <defs>\n       <path d=\"M -19 4666 \nL 3928 4666 \nL 3928 4134 \nL 2272 4134 \nL 2272 0 \nL 1638 0 \nL 1638 4134 \nL -19 4134 \nL -19 4666 \nz\n\" id=\"DejaVuSans-54\" transform=\"scale(0.015625)\"/>\n       <path d=\"M 3513 2113 \nL 3513 0 \nL 2938 0 \nL 2938 2094 \nQ 2938 2591 2744 2837 \nQ 2550 3084 2163 3084 \nQ 1697 3084 1428 2787 \nQ 1159 2491 1159 1978 \nL 1159 0 \nL 581 0 \nL 581 4863 \nL 1159 4863 \nL 1159 2956 \nQ 1366 3272 1645 3428 \nQ 1925 3584 2291 3584 \nQ 2894 3584 3203 3211 \nQ 3513 2838 3513 2113 \nz\n\" id=\"DejaVuSans-68\" transform=\"scale(0.015625)\"/>\n       <path d=\"M 3597 1894 \nL 3597 1613 \nL 953 1613 \nQ 991 1019 1311 708 \nQ 1631 397 2203 397 \nQ 2534 397 2845 478 \nQ 3156 559 3463 722 \nL 3463 178 \nQ 3153 47 2828 -22 \nQ 2503 -91 2169 -91 \nQ 1331 -91 842 396 \nQ 353 884 353 1716 \nQ 353 2575 817 3079 \nQ 1281 3584 2069 3584 \nQ 2775 3584 3186 3129 \nQ 3597 2675 3597 1894 \nz\nM 3022 2063 \nQ 3016 2534 2758 2815 \nQ 2500 3097 2075 3097 \nQ 1594 3097 1305 2825 \nQ 1016 2553 972 2059 \nL 3022 2063 \nz\n\" id=\"DejaVuSans-65\" transform=\"scale(0.015625)\"/>\n       <path d=\"M 1959 3097 \nQ 1497 3097 1228 2736 \nQ 959 2375 959 1747 \nQ 959 1119 1226 758 \nQ 1494 397 1959 397 \nQ 2419 397 2687 759 \nQ 2956 1122 2956 1747 \nQ 2956 2369 2687 2733 \nQ 2419 3097 1959 3097 \nz\nM 1959 3584 \nQ 2709 3584 3137 3096 \nQ 3566 2609 3566 1747 \nQ 3566 888 3137 398 \nQ 2709 -91 1959 -91 \nQ 1206 -91 779 398 \nQ 353 888 353 1747 \nQ 353 2609 779 3096 \nQ 1206 3584 1959 3584 \nz\n\" id=\"DejaVuSans-6f\" transform=\"scale(0.015625)\"/>\n       <path d=\"M 2631 2963 \nQ 2534 3019 2420 3045 \nQ 2306 3072 2169 3072 \nQ 1681 3072 1420 2755 \nQ 1159 2438 1159 1844 \nL 1159 0 \nL 581 0 \nL 581 3500 \nL 1159 3500 \nL 1159 2956 \nQ 1341 3275 1631 3429 \nQ 1922 3584 2338 3584 \nQ 2397 3584 2469 3576 \nQ 2541 3569 2628 3553 \nL 2631 2963 \nz\n\" id=\"DejaVuSans-72\" transform=\"scale(0.015625)\"/>\n       <path d=\"M 1172 4494 \nL 1172 3500 \nL 2356 3500 \nL 2356 3053 \nL 1172 3053 \nL 1172 1153 \nQ 1172 725 1289 603 \nQ 1406 481 1766 481 \nL 2356 481 \nL 2356 0 \nL 1766 0 \nQ 1100 0 847 248 \nQ 594 497 594 1153 \nL 594 3053 \nL 172 3053 \nL 172 3500 \nL 594 3500 \nL 594 4494 \nL 1172 4494 \nz\n\" id=\"DejaVuSans-74\" transform=\"scale(0.015625)\"/>\n       <path d=\"M 603 3500 \nL 1178 3500 \nL 1178 0 \nL 603 0 \nL 603 3500 \nz\nM 603 4863 \nL 1178 4863 \nL 1178 4134 \nL 603 4134 \nL 603 4863 \nz\n\" id=\"DejaVuSans-69\" transform=\"scale(0.015625)\"/>\n       <path d=\"M 3122 3366 \nL 3122 2828 \nQ 2878 2963 2633 3030 \nQ 2388 3097 2138 3097 \nQ 1578 3097 1268 2742 \nQ 959 2388 959 1747 \nQ 959 1106 1268 751 \nQ 1578 397 2138 397 \nQ 2388 397 2633 464 \nQ 2878 531 3122 666 \nL 3122 134 \nQ 2881 22 2623 -34 \nQ 2366 -91 2075 -91 \nQ 1284 -91 818 406 \nQ 353 903 353 1747 \nQ 353 2603 823 3093 \nQ 1294 3584 2113 3584 \nQ 2378 3584 2631 3529 \nQ 2884 3475 3122 3366 \nz\n\" id=\"DejaVuSans-63\" transform=\"scale(0.015625)\"/>\n       <path d=\"M 2194 1759 \nQ 1497 1759 1228 1600 \nQ 959 1441 959 1056 \nQ 959 750 1161 570 \nQ 1363 391 1709 391 \nQ 2188 391 2477 730 \nQ 2766 1069 2766 1631 \nL 2766 1759 \nL 2194 1759 \nz\nM 3341 1997 \nL 3341 0 \nL 2766 0 \nL 2766 531 \nQ 2569 213 2275 61 \nQ 1981 -91 1556 -91 \nQ 1019 -91 701 211 \nQ 384 513 384 1019 \nQ 384 1609 779 1909 \nQ 1175 2209 1959 2209 \nL 2766 2209 \nL 2766 2266 \nQ 2766 2663 2505 2880 \nQ 2244 3097 1772 3097 \nQ 1472 3097 1187 3025 \nQ 903 2953 641 2809 \nL 641 3341 \nQ 956 3463 1253 3523 \nQ 1550 3584 1831 3584 \nQ 2591 3584 2966 3190 \nQ 3341 2797 3341 1997 \nz\n\" id=\"DejaVuSans-61\" transform=\"scale(0.015625)\"/>\n       <path d=\"M 603 4863 \nL 1178 4863 \nL 1178 0 \nL 603 0 \nL 603 4863 \nz\n\" id=\"DejaVuSans-6c\" transform=\"scale(0.015625)\"/>\n       <path id=\"DejaVuSans-20\" transform=\"scale(0.015625)\"/>\n       <path d=\"M 947 1747 \nQ 947 1113 1208 752 \nQ 1469 391 1925 391 \nQ 2381 391 2643 752 \nQ 2906 1113 2906 1747 \nQ 2906 2381 2643 2742 \nQ 2381 3103 1925 3103 \nQ 1469 3103 1208 2742 \nQ 947 2381 947 1747 \nz\nM 2906 525 \nQ 2725 213 2448 61 \nQ 2172 -91 1784 -91 \nQ 1150 -91 751 415 \nQ 353 922 353 1747 \nQ 353 2572 751 3078 \nQ 1150 3584 1784 3584 \nQ 2172 3584 2448 3432 \nQ 2725 3281 2906 2969 \nL 2906 3500 \nL 3481 3500 \nL 3481 -1331 \nL 2906 -1331 \nL 2906 525 \nz\n\" id=\"DejaVuSans-71\" transform=\"scale(0.015625)\"/>\n       <path d=\"M 544 1381 \nL 544 3500 \nL 1119 3500 \nL 1119 1403 \nQ 1119 906 1312 657 \nQ 1506 409 1894 409 \nQ 2359 409 2629 706 \nQ 2900 1003 2900 1516 \nL 2900 3500 \nL 3475 3500 \nL 3475 0 \nL 2900 0 \nL 2900 538 \nQ 2691 219 2414 64 \nQ 2138 -91 1772 -91 \nQ 1169 -91 856 284 \nQ 544 659 544 1381 \nz\nM 1991 3584 \nL 1991 3584 \nz\n\" id=\"DejaVuSans-75\" transform=\"scale(0.015625)\"/>\n       <path d=\"M 3513 2113 \nL 3513 0 \nL 2938 0 \nL 2938 2094 \nQ 2938 2591 2744 2837 \nQ 2550 3084 2163 3084 \nQ 1697 3084 1428 2787 \nQ 1159 2491 1159 1978 \nL 1159 0 \nL 581 0 \nL 581 3500 \nL 1159 3500 \nL 1159 2956 \nQ 1366 3272 1645 3428 \nQ 1925 3584 2291 3584 \nQ 2894 3584 3203 3211 \nQ 3513 2838 3513 2113 \nz\n\" id=\"DejaVuSans-6e\" transform=\"scale(0.015625)\"/>\n       <path d=\"M 2834 3397 \nL 2834 2853 \nQ 2591 2978 2328 3040 \nQ 2066 3103 1784 3103 \nQ 1356 3103 1142 2972 \nQ 928 2841 928 2578 \nQ 928 2378 1081 2264 \nQ 1234 2150 1697 2047 \nL 1894 2003 \nQ 2506 1872 2764 1633 \nQ 3022 1394 3022 966 \nQ 3022 478 2636 193 \nQ 2250 -91 1575 -91 \nQ 1294 -91 989 -36 \nQ 684 19 347 128 \nL 347 722 \nQ 666 556 975 473 \nQ 1284 391 1588 391 \nQ 1994 391 2212 530 \nQ 2431 669 2431 922 \nQ 2431 1156 2273 1281 \nQ 2116 1406 1581 1522 \nL 1381 1569 \nQ 847 1681 609 1914 \nQ 372 2147 372 2553 \nQ 372 3047 722 3315 \nQ 1072 3584 1716 3584 \nQ 2034 3584 2315 3537 \nQ 2597 3491 2834 3397 \nz\n\" id=\"DejaVuSans-73\" transform=\"scale(0.015625)\"/>\n      </defs>\n      <use xlink:href=\"#DejaVuSans-54\"/>\n      <use x=\"61.083984\" xlink:href=\"#DejaVuSans-68\"/>\n      <use x=\"124.462891\" xlink:href=\"#DejaVuSans-65\"/>\n      <use x=\"185.986328\" xlink:href=\"#DejaVuSans-6f\"/>\n      <use x=\"247.167969\" xlink:href=\"#DejaVuSans-72\"/>\n      <use x=\"286.03125\" xlink:href=\"#DejaVuSans-65\"/>\n      <use x=\"347.554688\" xlink:href=\"#DejaVuSans-74\"/>\n      <use x=\"386.763672\" xlink:href=\"#DejaVuSans-69\"/>\n      <use x=\"414.546875\" xlink:href=\"#DejaVuSans-63\"/>\n      <use x=\"469.527344\" xlink:href=\"#DejaVuSans-61\"/>\n      <use x=\"530.806641\" xlink:href=\"#DejaVuSans-6c\"/>\n      <use x=\"558.589844\" xlink:href=\"#DejaVuSans-20\"/>\n      <use x=\"590.376953\" xlink:href=\"#DejaVuSans-71\"/>\n      <use x=\"653.853516\" xlink:href=\"#DejaVuSans-75\"/>\n      <use x=\"717.232422\" xlink:href=\"#DejaVuSans-61\"/>\n      <use x=\"778.511719\" xlink:href=\"#DejaVuSans-6e\"/>\n      <use x=\"841.890625\" xlink:href=\"#DejaVuSans-74\"/>\n      <use x=\"881.099609\" xlink:href=\"#DejaVuSans-69\"/>\n      <use x=\"908.882812\" xlink:href=\"#DejaVuSans-6c\"/>\n      <use x=\"936.666016\" xlink:href=\"#DejaVuSans-65\"/>\n      <use x=\"998.189453\" xlink:href=\"#DejaVuSans-73\"/>\n     </g>\n    </g>\n   </g>\n   <g id=\"matplotlib.axis_2\">\n    <g id=\"ytick_1\">\n     <g id=\"line2d_6\">\n      <defs>\n       <path d=\"M 0 0 \nL -3.5 0 \n\" id=\"me6a215a68c\" style=\"stroke:#000000;stroke-width:0.8;\"/>\n      </defs>\n      <g>\n       <use style=\"stroke:#000000;stroke-width:0.8;\" x=\"68.070312\" xlink:href=\"#me6a215a68c\" y=\"232.6657\"/>\n      </g>\n     </g>\n     <g id=\"text_7\">\n      <!-- −30000 -->\n      <g transform=\"translate(20.878125 236.464919)scale(0.1 -0.1)\">\n       <defs>\n        <path d=\"M 2597 2516 \nQ 3050 2419 3304 2112 \nQ 3559 1806 3559 1356 \nQ 3559 666 3084 287 \nQ 2609 -91 1734 -91 \nQ 1441 -91 1130 -33 \nQ 819 25 488 141 \nL 488 750 \nQ 750 597 1062 519 \nQ 1375 441 1716 441 \nQ 2309 441 2620 675 \nQ 2931 909 2931 1356 \nQ 2931 1769 2642 2001 \nQ 2353 2234 1838 2234 \nL 1294 2234 \nL 1294 2753 \nL 1863 2753 \nQ 2328 2753 2575 2939 \nQ 2822 3125 2822 3475 \nQ 2822 3834 2567 4026 \nQ 2313 4219 1838 4219 \nQ 1578 4219 1281 4162 \nQ 984 4106 628 3988 \nL 628 4550 \nQ 988 4650 1302 4700 \nQ 1616 4750 1894 4750 \nQ 2613 4750 3031 4423 \nQ 3450 4097 3450 3541 \nQ 3450 3153 3228 2886 \nQ 3006 2619 2597 2516 \nz\n\" id=\"DejaVuSans-33\" transform=\"scale(0.015625)\"/>\n       </defs>\n       <use xlink:href=\"#DejaVuSans-2212\"/>\n       <use x=\"83.789062\" xlink:href=\"#DejaVuSans-33\"/>\n       <use x=\"147.412109\" xlink:href=\"#DejaVuSans-30\"/>\n       <use x=\"211.035156\" xlink:href=\"#DejaVuSans-30\"/>\n       <use x=\"274.658203\" xlink:href=\"#DejaVuSans-30\"/>\n       <use x=\"338.28125\" xlink:href=\"#DejaVuSans-30\"/>\n      </g>\n     </g>\n    </g>\n    <g id=\"ytick_2\">\n     <g id=\"line2d_7\">\n      <g>\n       <use style=\"stroke:#000000;stroke-width:0.8;\" x=\"68.070312\" xlink:href=\"#me6a215a68c\" y=\"196.457374\"/>\n      </g>\n     </g>\n     <g id=\"text_8\">\n      <!-- −20000 -->\n      <g transform=\"translate(20.878125 200.256593)scale(0.1 -0.1)\">\n       <use xlink:href=\"#DejaVuSans-2212\"/>\n       <use x=\"83.789062\" xlink:href=\"#DejaVuSans-32\"/>\n       <use x=\"147.412109\" xlink:href=\"#DejaVuSans-30\"/>\n       <use x=\"211.035156\" xlink:href=\"#DejaVuSans-30\"/>\n       <use x=\"274.658203\" xlink:href=\"#DejaVuSans-30\"/>\n       <use x=\"338.28125\" xlink:href=\"#DejaVuSans-30\"/>\n      </g>\n     </g>\n    </g>\n    <g id=\"ytick_3\">\n     <g id=\"line2d_8\">\n      <g>\n       <use style=\"stroke:#000000;stroke-width:0.8;\" x=\"68.070312\" xlink:href=\"#me6a215a68c\" y=\"160.249049\"/>\n      </g>\n     </g>\n     <g id=\"text_9\">\n      <!-- −10000 -->\n      <g transform=\"translate(20.878125 164.048268)scale(0.1 -0.1)\">\n       <use xlink:href=\"#DejaVuSans-2212\"/>\n       <use x=\"83.789062\" xlink:href=\"#DejaVuSans-31\"/>\n       <use x=\"147.412109\" xlink:href=\"#DejaVuSans-30\"/>\n       <use x=\"211.035156\" xlink:href=\"#DejaVuSans-30\"/>\n       <use x=\"274.658203\" xlink:href=\"#DejaVuSans-30\"/>\n       <use x=\"338.28125\" xlink:href=\"#DejaVuSans-30\"/>\n      </g>\n     </g>\n    </g>\n    <g id=\"ytick_4\">\n     <g id=\"line2d_9\">\n      <g>\n       <use style=\"stroke:#000000;stroke-width:0.8;\" x=\"68.070312\" xlink:href=\"#me6a215a68c\" y=\"124.040723\"/>\n      </g>\n     </g>\n     <g id=\"text_10\">\n      <!-- 0 -->\n      <g transform=\"translate(54.707813 127.839942)scale(0.1 -0.1)\">\n       <use xlink:href=\"#DejaVuSans-30\"/>\n      </g>\n     </g>\n    </g>\n    <g id=\"ytick_5\">\n     <g id=\"line2d_10\">\n      <g>\n       <use style=\"stroke:#000000;stroke-width:0.8;\" x=\"68.070312\" xlink:href=\"#me6a215a68c\" y=\"87.832398\"/>\n      </g>\n     </g>\n     <g id=\"text_11\">\n      <!-- 10000 -->\n      <g transform=\"translate(29.257812 91.631616)scale(0.1 -0.1)\">\n       <use xlink:href=\"#DejaVuSans-31\"/>\n       <use x=\"63.623047\" xlink:href=\"#DejaVuSans-30\"/>\n       <use x=\"127.246094\" xlink:href=\"#DejaVuSans-30\"/>\n       <use x=\"190.869141\" xlink:href=\"#DejaVuSans-30\"/>\n       <use x=\"254.492188\" xlink:href=\"#DejaVuSans-30\"/>\n      </g>\n     </g>\n    </g>\n    <g id=\"ytick_6\">\n     <g id=\"line2d_11\">\n      <g>\n       <use style=\"stroke:#000000;stroke-width:0.8;\" x=\"68.070312\" xlink:href=\"#me6a215a68c\" y=\"51.624072\"/>\n      </g>\n     </g>\n     <g id=\"text_12\">\n      <!-- 20000 -->\n      <g transform=\"translate(29.257812 55.423291)scale(0.1 -0.1)\">\n       <use xlink:href=\"#DejaVuSans-32\"/>\n       <use x=\"63.623047\" xlink:href=\"#DejaVuSans-30\"/>\n       <use x=\"127.246094\" xlink:href=\"#DejaVuSans-30\"/>\n       <use x=\"190.869141\" xlink:href=\"#DejaVuSans-30\"/>\n       <use x=\"254.492188\" xlink:href=\"#DejaVuSans-30\"/>\n      </g>\n     </g>\n    </g>\n    <g id=\"text_13\">\n     <!-- Ordered Values -->\n     <g transform=\"translate(14.798437 169.311562)rotate(-90)scale(0.1 -0.1)\">\n      <defs>\n       <path d=\"M 2522 4238 \nQ 1834 4238 1429 3725 \nQ 1025 3213 1025 2328 \nQ 1025 1447 1429 934 \nQ 1834 422 2522 422 \nQ 3209 422 3611 934 \nQ 4013 1447 4013 2328 \nQ 4013 3213 3611 3725 \nQ 3209 4238 2522 4238 \nz\nM 2522 4750 \nQ 3503 4750 4090 4092 \nQ 4678 3434 4678 2328 \nQ 4678 1225 4090 567 \nQ 3503 -91 2522 -91 \nQ 1538 -91 948 565 \nQ 359 1222 359 2328 \nQ 359 3434 948 4092 \nQ 1538 4750 2522 4750 \nz\n\" id=\"DejaVuSans-4f\" transform=\"scale(0.015625)\"/>\n       <path d=\"M 2906 2969 \nL 2906 4863 \nL 3481 4863 \nL 3481 0 \nL 2906 0 \nL 2906 525 \nQ 2725 213 2448 61 \nQ 2172 -91 1784 -91 \nQ 1150 -91 751 415 \nQ 353 922 353 1747 \nQ 353 2572 751 3078 \nQ 1150 3584 1784 3584 \nQ 2172 3584 2448 3432 \nQ 2725 3281 2906 2969 \nz\nM 947 1747 \nQ 947 1113 1208 752 \nQ 1469 391 1925 391 \nQ 2381 391 2643 752 \nQ 2906 1113 2906 1747 \nQ 2906 2381 2643 2742 \nQ 2381 3103 1925 3103 \nQ 1469 3103 1208 2742 \nQ 947 2381 947 1747 \nz\n\" id=\"DejaVuSans-64\" transform=\"scale(0.015625)\"/>\n       <path d=\"M 1831 0 \nL 50 4666 \nL 709 4666 \nL 2188 738 \nL 3669 4666 \nL 4325 4666 \nL 2547 0 \nL 1831 0 \nz\n\" id=\"DejaVuSans-56\" transform=\"scale(0.015625)\"/>\n      </defs>\n      <use xlink:href=\"#DejaVuSans-4f\"/>\n      <use x=\"78.710938\" xlink:href=\"#DejaVuSans-72\"/>\n      <use x=\"118.074219\" xlink:href=\"#DejaVuSans-64\"/>\n      <use x=\"181.550781\" xlink:href=\"#DejaVuSans-65\"/>\n      <use x=\"243.074219\" xlink:href=\"#DejaVuSans-72\"/>\n      <use x=\"281.9375\" xlink:href=\"#DejaVuSans-65\"/>\n      <use x=\"343.460938\" xlink:href=\"#DejaVuSans-64\"/>\n      <use x=\"406.9375\" xlink:href=\"#DejaVuSans-20\"/>\n      <use x=\"438.724609\" xlink:href=\"#DejaVuSans-56\"/>\n      <use x=\"499.382812\" xlink:href=\"#DejaVuSans-61\"/>\n      <use x=\"560.662109\" xlink:href=\"#DejaVuSans-6c\"/>\n      <use x=\"588.445312\" xlink:href=\"#DejaVuSans-75\"/>\n      <use x=\"651.824219\" xlink:href=\"#DejaVuSans-65\"/>\n      <use x=\"713.347656\" xlink:href=\"#DejaVuSans-73\"/>\n     </g>\n    </g>\n   </g>\n   <g id=\"line2d_12\">\n    <defs>\n     <path d=\"M 0 3 \nC 0.795609 3 1.55874 2.683901 2.12132 2.12132 \nC 2.683901 1.55874 3 0.795609 3 0 \nC 3 -0.795609 2.683901 -1.55874 2.12132 -2.12132 \nC 1.55874 -2.683901 0.795609 -3 0 -3 \nC -0.795609 -3 -1.55874 -2.683901 -2.12132 -2.12132 \nC -2.683901 -1.55874 -3 -0.795609 -3 0 \nC -3 0.795609 -2.683901 1.55874 -2.12132 2.12132 \nC -1.55874 2.683901 -0.795609 3 0 3 \nz\n\" id=\"m27c62251b0\" style=\"stroke:#0000ff;\"/>\n    </defs>\n    <g clip-path=\"url(#pe3142a393f)\">\n     <use style=\"fill:#0000ff;stroke:#0000ff;\" x=\"83.288494\" xlink:href=\"#m27c62251b0\" y=\"229.874489\"/>\n     <use style=\"fill:#0000ff;stroke:#0000ff;\" x=\"100.941324\" xlink:href=\"#m27c62251b0\" y=\"207.171107\"/>\n     <use style=\"fill:#0000ff;stroke:#0000ff;\" x=\"111.012069\" xlink:href=\"#m27c62251b0\" y=\"191.311301\"/>\n     <use style=\"fill:#0000ff;stroke:#0000ff;\" x=\"118.228266\" xlink:href=\"#m27c62251b0\" y=\"185.220431\"/>\n     <use style=\"fill:#0000ff;stroke:#0000ff;\" x=\"123.932103\" xlink:href=\"#m27c62251b0\" y=\"182.875672\"/>\n     <use style=\"fill:#0000ff;stroke:#0000ff;\" x=\"128.690072\" xlink:href=\"#m27c62251b0\" y=\"180.900398\"/>\n     <use style=\"fill:#0000ff;stroke:#0000ff;\" x=\"132.797026\" xlink:href=\"#m27c62251b0\" y=\"176.083755\"/>\n     <use style=\"fill:#0000ff;stroke:#0000ff;\" x=\"136.426854\" xlink:href=\"#m27c62251b0\" y=\"175.398445\"/>\n     <use style=\"fill:#0000ff;stroke:#0000ff;\" x=\"139.691074\" xlink:href=\"#m27c62251b0\" y=\"175.015794\"/>\n     <use style=\"fill:#0000ff;stroke:#0000ff;\" x=\"142.66567\" xlink:href=\"#m27c62251b0\" y=\"173.07688\"/>\n     <use style=\"fill:#0000ff;stroke:#0000ff;\" x=\"145.40484\" xlink:href=\"#m27c62251b0\" y=\"173.014179\"/>\n     <use style=\"fill:#0000ff;stroke:#0000ff;\" x=\"147.94866\" xlink:href=\"#m27c62251b0\" y=\"166.100045\"/>\n     <use style=\"fill:#0000ff;stroke:#0000ff;\" x=\"150.327635\" xlink:href=\"#m27c62251b0\" y=\"165.651893\"/>\n     <use style=\"fill:#0000ff;stroke:#0000ff;\" x=\"152.565548\" xlink:href=\"#m27c62251b0\" y=\"163.668791\"/>\n     <use style=\"fill:#0000ff;stroke:#0000ff;\" x=\"154.681315\" xlink:href=\"#m27c62251b0\" y=\"161.560909\"/>\n     <use style=\"fill:#0000ff;stroke:#0000ff;\" x=\"156.690239\" xlink:href=\"#m27c62251b0\" y=\"157.960202\"/>\n     <use style=\"fill:#0000ff;stroke:#0000ff;\" x=\"158.604889\" xlink:href=\"#m27c62251b0\" y=\"157.329688\"/>\n     <use style=\"fill:#0000ff;stroke:#0000ff;\" x=\"160.435713\" xlink:href=\"#m27c62251b0\" y=\"156.425502\"/>\n     <use style=\"fill:#0000ff;stroke:#0000ff;\" x=\"162.191501\" xlink:href=\"#m27c62251b0\" y=\"154.796267\"/>\n     <use style=\"fill:#0000ff;stroke:#0000ff;\" x=\"163.87972\" xlink:href=\"#m27c62251b0\" y=\"154.24627\"/>\n     <use style=\"fill:#0000ff;stroke:#0000ff;\" x=\"165.506768\" xlink:href=\"#m27c62251b0\" y=\"150.805457\"/>\n     <use style=\"fill:#0000ff;stroke:#0000ff;\" x=\"167.078173\" xlink:href=\"#m27c62251b0\" y=\"148.275263\"/>\n     <use style=\"fill:#0000ff;stroke:#0000ff;\" x=\"168.598747\" xlink:href=\"#m27c62251b0\" y=\"147.784155\"/>\n     <use style=\"fill:#0000ff;stroke:#0000ff;\" x=\"170.072701\" xlink:href=\"#m27c62251b0\" y=\"146.78738\"/>\n     <use style=\"fill:#0000ff;stroke:#0000ff;\" x=\"171.50375\" xlink:href=\"#m27c62251b0\" y=\"146.226641\"/>\n     <use style=\"fill:#0000ff;stroke:#0000ff;\" x=\"172.895182\" xlink:href=\"#m27c62251b0\" y=\"145.929056\"/>\n     <use style=\"fill:#0000ff;stroke:#0000ff;\" x=\"174.249925\" xlink:href=\"#m27c62251b0\" y=\"145.508969\"/>\n     <use style=\"fill:#0000ff;stroke:#0000ff;\" x=\"175.5706\" xlink:href=\"#m27c62251b0\" y=\"145.013147\"/>\n     <use style=\"fill:#0000ff;stroke:#0000ff;\" x=\"176.859561\" xlink:href=\"#m27c62251b0\" y=\"144.46329\"/>\n     <use style=\"fill:#0000ff;stroke:#0000ff;\" x=\"178.118931\" xlink:href=\"#m27c62251b0\" y=\"144.064959\"/>\n     <use style=\"fill:#0000ff;stroke:#0000ff;\" x=\"179.350632\" xlink:href=\"#m27c62251b0\" y=\"144.017484\"/>\n     <use style=\"fill:#0000ff;stroke:#0000ff;\" x=\"180.55641\" xlink:href=\"#m27c62251b0\" y=\"143.869496\"/>\n     <use style=\"fill:#0000ff;stroke:#0000ff;\" x=\"181.737859\" xlink:href=\"#m27c62251b0\" y=\"143.521834\"/>\n     <use style=\"fill:#0000ff;stroke:#0000ff;\" x=\"182.896433\" xlink:href=\"#m27c62251b0\" y=\"143.198343\"/>\n     <use style=\"fill:#0000ff;stroke:#0000ff;\" x=\"184.033468\" xlink:href=\"#m27c62251b0\" y=\"142.837281\"/>\n     <use style=\"fill:#0000ff;stroke:#0000ff;\" x=\"185.15019\" xlink:href=\"#m27c62251b0\" y=\"142.06511\"/>\n     <use style=\"fill:#0000ff;stroke:#0000ff;\" x=\"186.247731\" xlink:href=\"#m27c62251b0\" y=\"141.830006\"/>\n     <use style=\"fill:#0000ff;stroke:#0000ff;\" x=\"187.327135\" xlink:href=\"#m27c62251b0\" y=\"141.82845\"/>\n     <use style=\"fill:#0000ff;stroke:#0000ff;\" x=\"188.389373\" xlink:href=\"#m27c62251b0\" y=\"141.750243\"/>\n     <use style=\"fill:#0000ff;stroke:#0000ff;\" x=\"189.435342\" xlink:href=\"#m27c62251b0\" y=\"141.555643\"/>\n     <use style=\"fill:#0000ff;stroke:#0000ff;\" x=\"190.465879\" xlink:href=\"#m27c62251b0\" y=\"141.455097\"/>\n     <use style=\"fill:#0000ff;stroke:#0000ff;\" x=\"191.481763\" xlink:href=\"#m27c62251b0\" y=\"140.563207\"/>\n     <use style=\"fill:#0000ff;stroke:#0000ff;\" x=\"192.483722\" xlink:href=\"#m27c62251b0\" y=\"140.263149\"/>\n     <use style=\"fill:#0000ff;stroke:#0000ff;\" x=\"193.472437\" xlink:href=\"#m27c62251b0\" y=\"139.882014\"/>\n     <use style=\"fill:#0000ff;stroke:#0000ff;\" x=\"194.448547\" xlink:href=\"#m27c62251b0\" y=\"139.231969\"/>\n     <use style=\"fill:#0000ff;stroke:#0000ff;\" x=\"195.412651\" xlink:href=\"#m27c62251b0\" y=\"139.178546\"/>\n     <use style=\"fill:#0000ff;stroke:#0000ff;\" x=\"196.365313\" xlink:href=\"#m27c62251b0\" y=\"138.475591\"/>\n     <use style=\"fill:#0000ff;stroke:#0000ff;\" x=\"197.307064\" xlink:href=\"#m27c62251b0\" y=\"137.716605\"/>\n     <use style=\"fill:#0000ff;stroke:#0000ff;\" x=\"198.238406\" xlink:href=\"#m27c62251b0\" y=\"137.303232\"/>\n     <use style=\"fill:#0000ff;stroke:#0000ff;\" x=\"199.159811\" xlink:href=\"#m27c62251b0\" y=\"137.139095\"/>\n     <use style=\"fill:#0000ff;stroke:#0000ff;\" x=\"200.071728\" xlink:href=\"#m27c62251b0\" y=\"136.352968\"/>\n     <use style=\"fill:#0000ff;stroke:#0000ff;\" x=\"200.974582\" xlink:href=\"#m27c62251b0\" y=\"136.124394\"/>\n     <use style=\"fill:#0000ff;stroke:#0000ff;\" x=\"201.868774\" xlink:href=\"#m27c62251b0\" y=\"135.870611\"/>\n     <use style=\"fill:#0000ff;stroke:#0000ff;\" x=\"202.754689\" xlink:href=\"#m27c62251b0\" y=\"135.132375\"/>\n     <use style=\"fill:#0000ff;stroke:#0000ff;\" x=\"203.632689\" xlink:href=\"#m27c62251b0\" y=\"134.818616\"/>\n     <use style=\"fill:#0000ff;stroke:#0000ff;\" x=\"204.503123\" xlink:href=\"#m27c62251b0\" y=\"134.811884\"/>\n     <use style=\"fill:#0000ff;stroke:#0000ff;\" x=\"205.366321\" xlink:href=\"#m27c62251b0\" y=\"134.758478\"/>\n     <use style=\"fill:#0000ff;stroke:#0000ff;\" x=\"206.222599\" xlink:href=\"#m27c62251b0\" y=\"134.519135\"/>\n     <use style=\"fill:#0000ff;stroke:#0000ff;\" x=\"207.072259\" xlink:href=\"#m27c62251b0\" y=\"134.484921\"/>\n     <use style=\"fill:#0000ff;stroke:#0000ff;\" x=\"207.915591\" xlink:href=\"#m27c62251b0\" y=\"134.180468\"/>\n     <use style=\"fill:#0000ff;stroke:#0000ff;\" x=\"208.752873\" xlink:href=\"#m27c62251b0\" y=\"133.968586\"/>\n     <use style=\"fill:#0000ff;stroke:#0000ff;\" x=\"209.58437\" xlink:href=\"#m27c62251b0\" y=\"133.607525\"/>\n     <use style=\"fill:#0000ff;stroke:#0000ff;\" x=\"210.410339\" xlink:href=\"#m27c62251b0\" y=\"133.425461\"/>\n     <use style=\"fill:#0000ff;stroke:#0000ff;\" x=\"211.231024\" xlink:href=\"#m27c62251b0\" y=\"133.398671\"/>\n     <use style=\"fill:#0000ff;stroke:#0000ff;\" x=\"212.046664\" xlink:href=\"#m27c62251b0\" y=\"133.14524\"/>\n     <use style=\"fill:#0000ff;stroke:#0000ff;\" x=\"212.857486\" xlink:href=\"#m27c62251b0\" y=\"132.875604\"/>\n     <use style=\"fill:#0000ff;stroke:#0000ff;\" x=\"213.663711\" xlink:href=\"#m27c62251b0\" y=\"132.372577\"/>\n     <use style=\"fill:#0000ff;stroke:#0000ff;\" x=\"214.465552\" xlink:href=\"#m27c62251b0\" y=\"132.32252\"/>\n     <use style=\"fill:#0000ff;stroke:#0000ff;\" x=\"215.263216\" xlink:href=\"#m27c62251b0\" y=\"131.769296\"/>\n     <use style=\"fill:#0000ff;stroke:#0000ff;\" x=\"216.0569\" xlink:href=\"#m27c62251b0\" y=\"131.118893\"/>\n     <use style=\"fill:#0000ff;stroke:#0000ff;\" x=\"216.8468\" xlink:href=\"#m27c62251b0\" y=\"131.030026\"/>\n     <use style=\"fill:#0000ff;stroke:#0000ff;\" x=\"217.633103\" xlink:href=\"#m27c62251b0\" y=\"130.770563\"/>\n     <use style=\"fill:#0000ff;stroke:#0000ff;\" x=\"218.415991\" xlink:href=\"#m27c62251b0\" y=\"130.683046\"/>\n     <use style=\"fill:#0000ff;stroke:#0000ff;\" x=\"219.195642\" xlink:href=\"#m27c62251b0\" y=\"130.599883\"/>\n     <use style=\"fill:#0000ff;stroke:#0000ff;\" x=\"219.972228\" xlink:href=\"#m27c62251b0\" y=\"130.301472\"/>\n     <use style=\"fill:#0000ff;stroke:#0000ff;\" x=\"220.745919\" xlink:href=\"#m27c62251b0\" y=\"130.15002\"/>\n     <use style=\"fill:#0000ff;stroke:#0000ff;\" x=\"221.516878\" xlink:href=\"#m27c62251b0\" y=\"130.021251\"/>\n     <use style=\"fill:#0000ff;stroke:#0000ff;\" x=\"222.285266\" xlink:href=\"#m27c62251b0\" y=\"129.959119\"/>\n     <use style=\"fill:#0000ff;stroke:#0000ff;\" x=\"223.051242\" xlink:href=\"#m27c62251b0\" y=\"129.80565\"/>\n     <use style=\"fill:#0000ff;stroke:#0000ff;\" x=\"223.814958\" xlink:href=\"#m27c62251b0\" y=\"129.600163\"/>\n     <use style=\"fill:#0000ff;stroke:#0000ff;\" x=\"224.576566\" xlink:href=\"#m27c62251b0\" y=\"129.393919\"/>\n     <use style=\"fill:#0000ff;stroke:#0000ff;\" x=\"225.336213\" xlink:href=\"#m27c62251b0\" y=\"129.339999\"/>\n     <use style=\"fill:#0000ff;stroke:#0000ff;\" x=\"226.094047\" xlink:href=\"#m27c62251b0\" y=\"129.272624\"/>\n     <use style=\"fill:#0000ff;stroke:#0000ff;\" x=\"226.85021\" xlink:href=\"#m27c62251b0\" y=\"129.077235\"/>\n     <use style=\"fill:#0000ff;stroke:#0000ff;\" x=\"227.604842\" xlink:href=\"#m27c62251b0\" y=\"128.870844\"/>\n     <use style=\"fill:#0000ff;stroke:#0000ff;\" x=\"228.358085\" xlink:href=\"#m27c62251b0\" y=\"128.847428\"/>\n     <use style=\"fill:#0000ff;stroke:#0000ff;\" x=\"229.110075\" xlink:href=\"#m27c62251b0\" y=\"128.749219\"/>\n     <use style=\"fill:#0000ff;stroke:#0000ff;\" x=\"229.860948\" xlink:href=\"#m27c62251b0\" y=\"128.719401\"/>\n     <use style=\"fill:#0000ff;stroke:#0000ff;\" x=\"230.610838\" xlink:href=\"#m27c62251b0\" y=\"128.463424\"/>\n     <use style=\"fill:#0000ff;stroke:#0000ff;\" x=\"231.35988\" xlink:href=\"#m27c62251b0\" y=\"128.453123\"/>\n     <use style=\"fill:#0000ff;stroke:#0000ff;\" x=\"232.108205\" xlink:href=\"#m27c62251b0\" y=\"127.970788\"/>\n     <use style=\"fill:#0000ff;stroke:#0000ff;\" x=\"232.855946\" xlink:href=\"#m27c62251b0\" y=\"127.646616\"/>\n     <use style=\"fill:#0000ff;stroke:#0000ff;\" x=\"233.603232\" xlink:href=\"#m27c62251b0\" y=\"127.572522\"/>\n     <use style=\"fill:#0000ff;stroke:#0000ff;\" x=\"234.350194\" xlink:href=\"#m27c62251b0\" y=\"127.30226\"/>\n     <use style=\"fill:#0000ff;stroke:#0000ff;\" x=\"235.096961\" xlink:href=\"#m27c62251b0\" y=\"127.2815\"/>\n     <use style=\"fill:#0000ff;stroke:#0000ff;\" x=\"235.843664\" xlink:href=\"#m27c62251b0\" y=\"127.042723\"/>\n     <use style=\"fill:#0000ff;stroke:#0000ff;\" x=\"236.590431\" xlink:href=\"#m27c62251b0\" y=\"126.998549\"/>\n     <use style=\"fill:#0000ff;stroke:#0000ff;\" x=\"237.337393\" xlink:href=\"#m27c62251b0\" y=\"126.881172\"/>\n     <use style=\"fill:#0000ff;stroke:#0000ff;\" x=\"238.084679\" xlink:href=\"#m27c62251b0\" y=\"126.472807\"/>\n     <use style=\"fill:#0000ff;stroke:#0000ff;\" x=\"238.83242\" xlink:href=\"#m27c62251b0\" y=\"126.404147\"/>\n     <use style=\"fill:#0000ff;stroke:#0000ff;\" x=\"239.580745\" xlink:href=\"#m27c62251b0\" y=\"125.855078\"/>\n     <use style=\"fill:#0000ff;stroke:#0000ff;\" x=\"240.329787\" xlink:href=\"#m27c62251b0\" y=\"125.841614\"/>\n     <use style=\"fill:#0000ff;stroke:#0000ff;\" x=\"241.079677\" xlink:href=\"#m27c62251b0\" y=\"124.995\"/>\n     <use style=\"fill:#0000ff;stroke:#0000ff;\" x=\"241.83055\" xlink:href=\"#m27c62251b0\" y=\"124.728731\"/>\n     <use style=\"fill:#0000ff;stroke:#0000ff;\" x=\"242.58254\" xlink:href=\"#m27c62251b0\" y=\"124.708673\"/>\n     <use style=\"fill:#0000ff;stroke:#0000ff;\" x=\"243.335783\" xlink:href=\"#m27c62251b0\" y=\"124.586636\"/>\n     <use style=\"fill:#0000ff;stroke:#0000ff;\" x=\"244.090415\" xlink:href=\"#m27c62251b0\" y=\"124.272826\"/>\n     <use style=\"fill:#0000ff;stroke:#0000ff;\" x=\"244.846578\" xlink:href=\"#m27c62251b0\" y=\"123.622423\"/>\n     <use style=\"fill:#0000ff;stroke:#0000ff;\" x=\"245.604412\" xlink:href=\"#m27c62251b0\" y=\"123.09599\"/>\n     <use style=\"fill:#0000ff;stroke:#0000ff;\" x=\"246.364059\" xlink:href=\"#m27c62251b0\" y=\"123.079298\"/>\n     <use style=\"fill:#0000ff;stroke:#0000ff;\" x=\"247.125667\" xlink:href=\"#m27c62251b0\" y=\"123.079298\"/>\n     <use style=\"fill:#0000ff;stroke:#0000ff;\" x=\"247.889383\" xlink:href=\"#m27c62251b0\" y=\"122.76841\"/>\n     <use style=\"fill:#0000ff;stroke:#0000ff;\" x=\"248.655359\" xlink:href=\"#m27c62251b0\" y=\"122.482318\"/>\n     <use style=\"fill:#0000ff;stroke:#0000ff;\" x=\"249.423747\" xlink:href=\"#m27c62251b0\" y=\"122.474723\"/>\n     <use style=\"fill:#0000ff;stroke:#0000ff;\" x=\"250.194706\" xlink:href=\"#m27c62251b0\" y=\"122.336662\"/>\n     <use style=\"fill:#0000ff;stroke:#0000ff;\" x=\"250.968397\" xlink:href=\"#m27c62251b0\" y=\"122.19517\"/>\n     <use style=\"fill:#0000ff;stroke:#0000ff;\" x=\"251.744983\" xlink:href=\"#m27c62251b0\" y=\"122.147866\"/>\n     <use style=\"fill:#0000ff;stroke:#0000ff;\" x=\"252.524634\" xlink:href=\"#m27c62251b0\" y=\"121.655411\"/>\n     <use style=\"fill:#0000ff;stroke:#0000ff;\" x=\"253.307522\" xlink:href=\"#m27c62251b0\" y=\"120.910165\"/>\n     <use style=\"fill:#0000ff;stroke:#0000ff;\" x=\"254.093825\" xlink:href=\"#m27c62251b0\" y=\"120.565795\"/>\n     <use style=\"fill:#0000ff;stroke:#0000ff;\" x=\"254.883725\" xlink:href=\"#m27c62251b0\" y=\"120.470952\"/>\n     <use style=\"fill:#0000ff;stroke:#0000ff;\" x=\"255.677409\" xlink:href=\"#m27c62251b0\" y=\"119.730101\"/>\n     <use style=\"fill:#0000ff;stroke:#0000ff;\" x=\"256.475073\" xlink:href=\"#m27c62251b0\" y=\"119.607712\"/>\n     <use style=\"fill:#0000ff;stroke:#0000ff;\" x=\"257.276914\" xlink:href=\"#m27c62251b0\" y=\"119.577306\"/>\n     <use style=\"fill:#0000ff;stroke:#0000ff;\" x=\"258.083139\" xlink:href=\"#m27c62251b0\" y=\"119.077005\"/>\n     <use style=\"fill:#0000ff;stroke:#0000ff;\" x=\"258.893961\" xlink:href=\"#m27c62251b0\" y=\"118.767961\"/>\n     <use style=\"fill:#0000ff;stroke:#0000ff;\" x=\"259.709601\" xlink:href=\"#m27c62251b0\" y=\"118.734299\"/>\n     <use style=\"fill:#0000ff;stroke:#0000ff;\" x=\"260.530286\" xlink:href=\"#m27c62251b0\" y=\"118.295383\"/>\n     <use style=\"fill:#0000ff;stroke:#0000ff;\" x=\"261.356255\" xlink:href=\"#m27c62251b0\" y=\"117.792908\"/>\n     <use style=\"fill:#0000ff;stroke:#0000ff;\" x=\"262.187752\" xlink:href=\"#m27c62251b0\" y=\"117.782809\"/>\n     <use style=\"fill:#0000ff;stroke:#0000ff;\" x=\"263.025034\" xlink:href=\"#m27c62251b0\" y=\"116.528142\"/>\n     <use style=\"fill:#0000ff;stroke:#0000ff;\" x=\"263.868366\" xlink:href=\"#m27c62251b0\" y=\"116.46478\"/>\n     <use style=\"fill:#0000ff;stroke:#0000ff;\" x=\"264.718026\" xlink:href=\"#m27c62251b0\" y=\"116.180225\"/>\n     <use style=\"fill:#0000ff;stroke:#0000ff;\" x=\"265.574304\" xlink:href=\"#m27c62251b0\" y=\"116.125953\"/>\n     <use style=\"fill:#0000ff;stroke:#0000ff;\" x=\"266.437502\" xlink:href=\"#m27c62251b0\" y=\"116.125953\"/>\n     <use style=\"fill:#0000ff;stroke:#0000ff;\" x=\"267.307936\" xlink:href=\"#m27c62251b0\" y=\"116.052197\"/>\n     <use style=\"fill:#0000ff;stroke:#0000ff;\" x=\"268.185936\" xlink:href=\"#m27c62251b0\" y=\"115.838192\"/>\n     <use style=\"fill:#0000ff;stroke:#0000ff;\" x=\"269.071851\" xlink:href=\"#m27c62251b0\" y=\"115.053168\"/>\n     <use style=\"fill:#0000ff;stroke:#0000ff;\" x=\"269.966043\" xlink:href=\"#m27c62251b0\" y=\"114.813754\"/>\n     <use style=\"fill:#0000ff;stroke:#0000ff;\" x=\"270.868897\" xlink:href=\"#m27c62251b0\" y=\"114.402765\"/>\n     <use style=\"fill:#0000ff;stroke:#0000ff;\" x=\"271.780814\" xlink:href=\"#m27c62251b0\" y=\"114.366766\"/>\n     <use style=\"fill:#0000ff;stroke:#0000ff;\" x=\"272.702219\" xlink:href=\"#m27c62251b0\" y=\"113.550457\"/>\n     <use style=\"fill:#0000ff;stroke:#0000ff;\" x=\"273.633561\" xlink:href=\"#m27c62251b0\" y=\"113.512043\"/>\n     <use style=\"fill:#0000ff;stroke:#0000ff;\" x=\"274.575312\" xlink:href=\"#m27c62251b0\" y=\"113.287248\"/>\n     <use style=\"fill:#0000ff;stroke:#0000ff;\" x=\"275.527974\" xlink:href=\"#m27c62251b0\" y=\"112.652647\"/>\n     <use style=\"fill:#0000ff;stroke:#0000ff;\" x=\"276.492078\" xlink:href=\"#m27c62251b0\" y=\"112.266858\"/>\n     <use style=\"fill:#0000ff;stroke:#0000ff;\" x=\"277.468188\" xlink:href=\"#m27c62251b0\" y=\"112.109522\"/>\n     <use style=\"fill:#0000ff;stroke:#0000ff;\" x=\"278.456903\" xlink:href=\"#m27c62251b0\" y=\"110.151579\"/>\n     <use style=\"fill:#0000ff;stroke:#0000ff;\" x=\"279.458862\" xlink:href=\"#m27c62251b0\" y=\"109.730918\"/>\n     <use style=\"fill:#0000ff;stroke:#0000ff;\" x=\"280.474746\" xlink:href=\"#m27c62251b0\" y=\"109.534699\"/>\n     <use style=\"fill:#0000ff;stroke:#0000ff;\" x=\"281.505283\" xlink:href=\"#m27c62251b0\" y=\"109.06533\"/>\n     <use style=\"fill:#0000ff;stroke:#0000ff;\" x=\"282.551252\" xlink:href=\"#m27c62251b0\" y=\"109.004742\"/>\n     <use style=\"fill:#0000ff;stroke:#0000ff;\" x=\"283.61349\" xlink:href=\"#m27c62251b0\" y=\"108.452367\"/>\n     <use style=\"fill:#0000ff;stroke:#0000ff;\" x=\"284.692894\" xlink:href=\"#m27c62251b0\" y=\"107.119247\"/>\n     <use style=\"fill:#0000ff;stroke:#0000ff;\" x=\"285.790435\" xlink:href=\"#m27c62251b0\" y=\"106.974347\"/>\n     <use style=\"fill:#0000ff;stroke:#0000ff;\" x=\"286.907157\" xlink:href=\"#m27c62251b0\" y=\"106.582674\"/>\n     <use style=\"fill:#0000ff;stroke:#0000ff;\" x=\"288.044192\" xlink:href=\"#m27c62251b0\" y=\"106.474844\"/>\n     <use style=\"fill:#0000ff;stroke:#0000ff;\" x=\"289.202766\" xlink:href=\"#m27c62251b0\" y=\"106.46035\"/>\n     <use style=\"fill:#0000ff;stroke:#0000ff;\" x=\"290.384215\" xlink:href=\"#m27c62251b0\" y=\"106.399762\"/>\n     <use style=\"fill:#0000ff;stroke:#0000ff;\" x=\"291.589993\" xlink:href=\"#m27c62251b0\" y=\"104.76787\"/>\n     <use style=\"fill:#0000ff;stroke:#0000ff;\" x=\"292.821694\" xlink:href=\"#m27c62251b0\" y=\"104.086758\"/>\n     <use style=\"fill:#0000ff;stroke:#0000ff;\" x=\"294.081064\" xlink:href=\"#m27c62251b0\" y=\"103.195897\"/>\n     <use style=\"fill:#0000ff;stroke:#0000ff;\" x=\"295.370025\" xlink:href=\"#m27c62251b0\" y=\"102.787532\"/>\n     <use style=\"fill:#0000ff;stroke:#0000ff;\" x=\"296.6907\" xlink:href=\"#m27c62251b0\" y=\"102.467343\"/>\n     <use style=\"fill:#0000ff;stroke:#0000ff;\" x=\"298.045443\" xlink:href=\"#m27c62251b0\" y=\"102.102915\"/>\n     <use style=\"fill:#0000ff;stroke:#0000ff;\" x=\"299.436875\" xlink:href=\"#m27c62251b0\" y=\"101.020031\"/>\n     <use style=\"fill:#0000ff;stroke:#0000ff;\" x=\"300.867924\" xlink:href=\"#m27c62251b0\" y=\"100.925189\"/>\n     <use style=\"fill:#0000ff;stroke:#0000ff;\" x=\"302.341878\" xlink:href=\"#m27c62251b0\" y=\"100.480273\"/>\n     <use style=\"fill:#0000ff;stroke:#0000ff;\" x=\"303.862452\" xlink:href=\"#m27c62251b0\" y=\"99.671073\"/>\n     <use style=\"fill:#0000ff;stroke:#0000ff;\" x=\"305.433857\" xlink:href=\"#m27c62251b0\" y=\"99.142577\"/>\n     <use style=\"fill:#0000ff;stroke:#0000ff;\" x=\"307.060905\" xlink:href=\"#m27c62251b0\" y=\"98.635312\"/>\n     <use style=\"fill:#0000ff;stroke:#0000ff;\" x=\"308.749124\" xlink:href=\"#m27c62251b0\" y=\"98.301041\"/>\n     <use style=\"fill:#0000ff;stroke:#0000ff;\" x=\"310.504912\" xlink:href=\"#m27c62251b0\" y=\"98.186418\"/>\n     <use style=\"fill:#0000ff;stroke:#0000ff;\" x=\"312.335736\" xlink:href=\"#m27c62251b0\" y=\"98.180966\"/>\n     <use style=\"fill:#0000ff;stroke:#0000ff;\" x=\"314.250386\" xlink:href=\"#m27c62251b0\" y=\"96.161726\"/>\n     <use style=\"fill:#0000ff;stroke:#0000ff;\" x=\"316.25931\" xlink:href=\"#m27c62251b0\" y=\"95.710259\"/>\n     <use style=\"fill:#0000ff;stroke:#0000ff;\" x=\"318.375077\" xlink:href=\"#m27c62251b0\" y=\"94.367731\"/>\n     <use style=\"fill:#0000ff;stroke:#0000ff;\" x=\"320.61299\" xlink:href=\"#m27c62251b0\" y=\"86.693297\"/>\n     <use style=\"fill:#0000ff;stroke:#0000ff;\" x=\"322.991965\" xlink:href=\"#m27c62251b0\" y=\"86.550109\"/>\n     <use style=\"fill:#0000ff;stroke:#0000ff;\" x=\"325.535785\" xlink:href=\"#m27c62251b0\" y=\"84.955005\"/>\n     <use style=\"fill:#0000ff;stroke:#0000ff;\" x=\"328.274955\" xlink:href=\"#m27c62251b0\" y=\"81.744586\"/>\n     <use style=\"fill:#0000ff;stroke:#0000ff;\" x=\"331.249551\" xlink:href=\"#m27c62251b0\" y=\"79.535654\"/>\n     <use style=\"fill:#0000ff;stroke:#0000ff;\" x=\"334.513771\" xlink:href=\"#m27c62251b0\" y=\"76.533544\"/>\n     <use style=\"fill:#0000ff;stroke:#0000ff;\" x=\"338.143599\" xlink:href=\"#m27c62251b0\" y=\"75.489796\"/>\n     <use style=\"fill:#0000ff;stroke:#0000ff;\" x=\"342.250553\" xlink:href=\"#m27c62251b0\" y=\"68.606848\"/>\n     <use style=\"fill:#0000ff;stroke:#0000ff;\" x=\"347.008522\" xlink:href=\"#m27c62251b0\" y=\"66.480392\"/>\n     <use style=\"fill:#0000ff;stroke:#0000ff;\" x=\"352.712359\" xlink:href=\"#m27c62251b0\" y=\"65.595577\"/>\n     <use style=\"fill:#0000ff;stroke:#0000ff;\" x=\"359.928556\" xlink:href=\"#m27c62251b0\" y=\"62.091927\"/>\n     <use style=\"fill:#0000ff;stroke:#0000ff;\" x=\"369.999301\" xlink:href=\"#m27c62251b0\" y=\"54.73308\"/>\n     <use style=\"fill:#0000ff;stroke:#0000ff;\" x=\"387.652131\" xlink:href=\"#m27c62251b0\" y=\"32.201761\"/>\n    </g>\n   </g>\n   <g id=\"line2d_13\">\n    <path clip-path=\"url(#pe3142a393f)\" d=\"M 83.288494 194.001137 \nL 387.652131 57.94502 \nL 387.652131 57.94502 \n\" style=\"fill:none;stroke:#ff0000;stroke-linecap:square;stroke-width:1.5;\"/>\n   </g>\n   <g id=\"patch_3\">\n    <path d=\"M 68.070312 239.758125 \nL 68.070312 22.318125 \n\" style=\"fill:none;stroke:#000000;stroke-linecap:square;stroke-linejoin:miter;stroke-width:0.8;\"/>\n   </g>\n   <g id=\"patch_4\">\n    <path d=\"M 402.870313 239.758125 \nL 402.870313 22.318125 \n\" style=\"fill:none;stroke:#000000;stroke-linecap:square;stroke-linejoin:miter;stroke-width:0.8;\"/>\n   </g>\n   <g id=\"patch_5\">\n    <path d=\"M 68.070312 239.758125 \nL 402.870313 239.758125 \n\" style=\"fill:none;stroke:#000000;stroke-linecap:square;stroke-linejoin:miter;stroke-width:0.8;\"/>\n   </g>\n   <g id=\"patch_6\">\n    <path d=\"M 68.070312 22.318125 \nL 402.870313 22.318125 \n\" style=\"fill:none;stroke:#000000;stroke-linecap:square;stroke-linejoin:miter;stroke-width:0.8;\"/>\n   </g>\n   <g id=\"text_14\">\n    <!-- Probability Plot -->\n    <g transform=\"translate(190.540625 16.318125)scale(0.12 -0.12)\">\n     <defs>\n      <path d=\"M 1259 4147 \nL 1259 2394 \nL 2053 2394 \nQ 2494 2394 2734 2622 \nQ 2975 2850 2975 3272 \nQ 2975 3691 2734 3919 \nQ 2494 4147 2053 4147 \nL 1259 4147 \nz\nM 628 4666 \nL 2053 4666 \nQ 2838 4666 3239 4311 \nQ 3641 3956 3641 3272 \nQ 3641 2581 3239 2228 \nQ 2838 1875 2053 1875 \nL 1259 1875 \nL 1259 0 \nL 628 0 \nL 628 4666 \nz\n\" id=\"DejaVuSans-50\" transform=\"scale(0.015625)\"/>\n      <path d=\"M 3116 1747 \nQ 3116 2381 2855 2742 \nQ 2594 3103 2138 3103 \nQ 1681 3103 1420 2742 \nQ 1159 2381 1159 1747 \nQ 1159 1113 1420 752 \nQ 1681 391 2138 391 \nQ 2594 391 2855 752 \nQ 3116 1113 3116 1747 \nz\nM 1159 2969 \nQ 1341 3281 1617 3432 \nQ 1894 3584 2278 3584 \nQ 2916 3584 3314 3078 \nQ 3713 2572 3713 1747 \nQ 3713 922 3314 415 \nQ 2916 -91 2278 -91 \nQ 1894 -91 1617 61 \nQ 1341 213 1159 525 \nL 1159 0 \nL 581 0 \nL 581 4863 \nL 1159 4863 \nL 1159 2969 \nz\n\" id=\"DejaVuSans-62\" transform=\"scale(0.015625)\"/>\n      <path d=\"M 2059 -325 \nQ 1816 -950 1584 -1140 \nQ 1353 -1331 966 -1331 \nL 506 -1331 \nL 506 -850 \nL 844 -850 \nQ 1081 -850 1212 -737 \nQ 1344 -625 1503 -206 \nL 1606 56 \nL 191 3500 \nL 800 3500 \nL 1894 763 \nL 2988 3500 \nL 3597 3500 \nL 2059 -325 \nz\n\" id=\"DejaVuSans-79\" transform=\"scale(0.015625)\"/>\n     </defs>\n     <use xlink:href=\"#DejaVuSans-50\"/>\n     <use x=\"58.552734\" xlink:href=\"#DejaVuSans-72\"/>\n     <use x=\"97.416016\" xlink:href=\"#DejaVuSans-6f\"/>\n     <use x=\"158.597656\" xlink:href=\"#DejaVuSans-62\"/>\n     <use x=\"222.074219\" xlink:href=\"#DejaVuSans-61\"/>\n     <use x=\"283.353516\" xlink:href=\"#DejaVuSans-62\"/>\n     <use x=\"346.830078\" xlink:href=\"#DejaVuSans-69\"/>\n     <use x=\"374.613281\" xlink:href=\"#DejaVuSans-6c\"/>\n     <use x=\"402.396484\" xlink:href=\"#DejaVuSans-69\"/>\n     <use x=\"430.179688\" xlink:href=\"#DejaVuSans-74\"/>\n     <use x=\"469.388672\" xlink:href=\"#DejaVuSans-79\"/>\n     <use x=\"528.568359\" xlink:href=\"#DejaVuSans-20\"/>\n     <use x=\"560.355469\" xlink:href=\"#DejaVuSans-50\"/>\n     <use x=\"620.658203\" xlink:href=\"#DejaVuSans-6c\"/>\n     <use x=\"648.441406\" xlink:href=\"#DejaVuSans-6f\"/>\n     <use x=\"709.623047\" xlink:href=\"#DejaVuSans-74\"/>\n    </g>\n   </g>\n  </g>\n </g>\n <defs>\n  <clipPath id=\"pe3142a393f\">\n   <rect height=\"217.44\" width=\"334.8\" x=\"68.070312\" y=\"22.318125\"/>\n  </clipPath>\n </defs>\n</svg>\n",
      "image/png": "[encoded data removed]"
     },
     "metadata": {
      "needs_background": "light"
     }
    }
   ],
   "source": [
    "qq = stats.probplot(y_test-predictions, plot=plt)"
   ]
  },
  {
   "cell_type": "code",
   "execution_count": null,
   "metadata": {},
   "outputs": [],
   "source": [
    "In the end we may use the statsmodels.api library to throw light on the statistical units."
   ]
  },
  {
   "cell_type": "code",
   "execution_count": 35,
   "metadata": {},
   "outputs": [
    {
     "output_type": "stream",
     "name": "stdout",
     "text": [
      "                            OLS Regression Results                            \n==============================================================================\nDep. Variable:                 SALARY   R-squared:                       0.828\nModel:                            OLS   Adj. R-squared:                  0.824\nMethod:                 Least Squares   F-statistic:                     190.2\nDate:                Thu, 03 Jun 2021   Prob (F-statistic):          1.12e-101\nTime:                        21:06:21   Log-Likelihood:                -2930.7\nNo. Observations:                 284   AIC:                             5877.\nDf Residuals:                     276   BIC:                             5907.\nDf Model:                           7                                         \nCovariance Type:            nonrobust                                         \n============================================================================================================\n                                               coef    std err          t      P>|t|      [0.025      0.975]\n------------------------------------------------------------------------------------------------------------\nconst                                     -520.9055    493.188     -1.056      0.292   -1491.794     449.983\nEDUC                                       601.2496    220.937      2.721      0.007     166.315    1036.185\nSALBEGIN                                     1.3647      0.115     11.871      0.000       1.138       1.591\nGENDER                                     371.2157    329.111      1.128      0.260    -276.671    1019.102\nMINORITY                                  -334.3903    176.000     -1.900      0.058    -680.863      12.082\nJOBCAT                                    3640.3497    811.269      4.487      0.000    2043.288    5237.412\nSOCIODEMOGRAPHY                           -297.5649    357.830     -0.832      0.406   -1001.988     406.858\nGENDER_DENOTING_Female                    -892.1211    435.520     -2.048      0.041   -1749.485     -34.758\nGENDER_DENOTING_Male                       371.2157    329.111      1.128      0.260    -276.671    1019.102\nMINORITY_DENOTING_Minority                -334.3903    176.000     -1.900      0.058    -680.863      12.082\nMINORITY_DENOTING_White                   -186.5151    487.573     -0.383      0.702   -1146.349     773.319\nJOBCAT_DENOTING_Administration           -1436.4417    911.735     -1.576      0.116   -3231.280     358.397\nJOBCAT_DENOTING_Custody                  -2330.1828   1576.879     -1.478      0.141   -5434.421     774.056\nJOBCAT_DENOTING_Management                3245.7190    952.173      3.409      0.001    1371.275    5120.163\nSOCIODEMOGRAPHY_DENOTING_Minority_Female  -169.0315    672.112     -0.251      0.802   -1492.149    1154.086\nSOCIODEMOGRAPHY_DENOTING_Minority_Male    -165.3588    602.644     -0.274      0.784   -1351.722    1021.004\nSOCIODEMOGRAPHY_DENOTING_White_Female     -723.0896    533.410     -1.356      0.176   -1773.158     326.979\nSOCIODEMOGRAPHY_DENOTING_White_Male        536.5745    553.920      0.969      0.334    -553.870    1627.019\n==============================================================================\nOmnibus:                      150.102   Durbin-Watson:                   1.883\nProb(Omnibus):                  0.000   Jarque-Bera (JB):             1529.241\nSkew:                           1.902   Prob(JB):                         0.00\nKurtosis:                      13.713   Cond. No.                     1.75e+21\n==============================================================================\n\nNotes:\n[1] Standard Errors assume that the covariance matrix of the errors is correctly specified.\n[2] The smallest eigenvalue is 3.15e-32. This might indicate that there are\nstrong multicollinearity problems or that the design matrix is singular.\n"
     ]
    }
   ],
   "source": [
    "X_train_sms = sms.add_constant(X_train)\n",
    "ls=sms.OLS(y_train,X_train_sms).fit()\n",
    "print(ls.summary())"
   ]
  },
  {
   "source": [
    "Here it is shown that our R<sup>2</sup> rather high and the features `salary beginn`, `jobcatagory` and `education degree` are the most significant ones. "
   ],
   "cell_type": "markdown",
   "metadata": {}
  },
  {
   "cell_type": "code",
   "execution_count": null,
   "metadata": {},
   "outputs": [],
   "source": []
  }
 ]
}