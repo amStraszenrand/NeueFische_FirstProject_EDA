{
 "metadata": {
  "language_info": {
   "codemirror_mode": {
    "name": "ipython",
    "version": 3
   },
   "file_extension": ".py",
   "mimetype": "text/x-python",
   "name": "python",
   "nbconvert_exporter": "python",
   "pygments_lexer": "ipython3",
   "version": "3.8.5"
  },
  "orig_nbformat": 2,
  "kernelspec": {
   "name": "python385jvsc74a57bd0b97710d494ffeb654d41d16f65990d28edf229515e751f1ea393dba413e87e78",
   "display_name": "Python 3.8.5 64-bit"
  },
  "metadata": {
   "interpreter": {
    "hash": "b97710d494ffeb654d41d16f65990d28edf229515e751f1ea393dba413e87e78"
   }
  }
 },
 "nbformat": 4,
 "nbformat_minor": 2,
 "cells": [
  {
   "source": [
    "### Try out a linear regression on the data with three features\n",
    "\n",
    "Here we are going to use a linear regression the same way we did it in notebook 2 - but instead of using all features we just fit out linear regression model on `salary beginn`, `jobcatagory` and `education degree` as the most significant ones. "
   ],
   "cell_type": "markdown",
   "metadata": {}
  },
  {
   "cell_type": "code",
   "execution_count": 35,
   "metadata": {},
   "outputs": [],
   "source": [
    "import pandas as pd\n",
    "import numpy as np\n",
    "\n",
    "import matplotlib.pyplot as plt\n",
    "import seaborn as sns\n",
    "import plotly.express as plx\n",
    "\n",
    "from sklearn.model_selection import train_test_split\n",
    "from sklearn.linear_model import LinearRegression\n",
    "from sklearn.metrics import mean_squared_error\n",
    "import statsmodels.api as sms\n",
    "import scipy.stats as stats"
   ]
  },
  {
   "cell_type": "code",
   "execution_count": 36,
   "metadata": {},
   "outputs": [],
   "source": [
    "%store -r df"
   ]
  },
  {
   "cell_type": "code",
   "execution_count": 37,
   "metadata": {},
   "outputs": [
    {
     "output_type": "execute_result",
     "data": {
      "text/plain": [
       "<AxesSubplot:>"
      ]
     },
     "metadata": {},
     "execution_count": 37
    },
    {
     "output_type": "display_data",
     "data": {
      "text/plain": "<Figure size 432x288 with 2 Axes>",
      "image/svg+xml": "<?xml version=\"1.0\" encoding=\"utf-8\" standalone=\"no\"?>\n<!DOCTYPE svg PUBLIC \"-//W3C//DTD SVG 1.1//EN\"\n  \"http://www.w3.org/Graphics/SVG/1.1/DTD/svg11.dtd\">\n<svg height=\"252.317344pt\" version=\"1.1\" viewBox=\"0 0 349.43325 252.317344\" width=\"349.43325pt\" xmlns=\"http://www.w3.org/2000/svg\" xmlns:xlink=\"http://www.w3.org/1999/xlink\">\n <metadata>\n  <rdf:RDF xmlns:cc=\"http://creativecommons.org/ns#\" xmlns:dc=\"http://purl.org/dc/elements/1.1/\" xmlns:rdf=\"http://www.w3.org/1999/02/22-rdf-syntax-ns#\">\n   <cc:Work>\n    <dc:type rdf:resource=\"http://purl.org/dc/dcmitype/StillImage\"/>\n    <dc:date>2021-06-02T23:22:52.785296</dc:date>\n    <dc:format>image/svg+xml</dc:format>\n    <dc:creator>\n     <cc:Agent>\n      <dc:title>Matplotlib v3.4.2, https://matplotlib.org/</dc:title>\n     </cc:Agent>\n    </dc:creator>\n   </cc:Work>\n  </rdf:RDF>\n </metadata>\n <defs>\n  <style type=\"text/css\">*{stroke-linecap:butt;stroke-linejoin:round;}</style>\n </defs>\n <g id=\"figure_1\">\n  <g id=\"patch_1\">\n   <path d=\"M 0 252.317344 \nL 349.43325 252.317344 \nL 349.43325 0 \nL 0 0 \nz\n\" style=\"fill:none;\"/>\n  </g>\n  <g id=\"axes_1\">\n   <g id=\"patch_2\">\n    <path d=\"M 23.878125 228.439219 \nL 291.718125 228.439219 \nL 291.718125 10.999219 \nL 23.878125 10.999219 \nz\n\" style=\"fill:#ffffff;\"/>\n   </g>\n   <g id=\"QuadMesh_1\">\n    <path clip-path=\"url(#pd95def453e)\" d=\"M 23.878125 10.999219 \nL 90.838125 10.999219 \nL 90.838125 65.359219 \nL 23.878125 65.359219 \nL 23.878125 10.999219 \n\" style=\"fill:#faebdd;stroke:#ffffff;\"/>\n    <path clip-path=\"url(#pd95def453e)\" d=\"M 90.838125 10.999219 \nL 157.798125 10.999219 \nL 157.798125 65.359219 \nL 90.838125 65.359219 \nL 90.838125 10.999219 \n\" style=\"fill:#761f58;stroke:#ffffff;\"/>\n    <path clip-path=\"url(#pd95def453e)\" d=\"M 157.798125 10.999219 \nL 224.758125 10.999219 \nL 224.758125 65.359219 \nL 157.798125 65.359219 \nL 157.798125 10.999219 \n\" style=\"fill:#f58860;stroke:#ffffff;\"/>\n    <path clip-path=\"url(#pd95def453e)\" d=\"M 224.758125 10.999219 \nL 291.718125 10.999219 \nL 291.718125 65.359219 \nL 224.758125 65.359219 \nL 224.758125 10.999219 \n\" style=\"fill:#db2946;stroke:#ffffff;\"/>\n    <path clip-path=\"url(#pd95def453e)\" d=\"M 23.878125 65.359219 \nL 90.838125 65.359219 \nL 90.838125 119.719219 \nL 23.878125 119.719219 \nL 23.878125 65.359219 \n\" style=\"fill:#761f58;stroke:#ffffff;\"/>\n    <path clip-path=\"url(#pd95def453e)\" d=\"M 90.838125 65.359219 \nL 157.798125 65.359219 \nL 157.798125 119.719219 \nL 90.838125 119.719219 \nL 90.838125 65.359219 \n\" style=\"fill:#faebdd;stroke:#ffffff;\"/>\n    <path clip-path=\"url(#pd95def453e)\" d=\"M 157.798125 65.359219 \nL 224.758125 65.359219 \nL 224.758125 119.719219 \nL 157.798125 119.719219 \nL 157.798125 65.359219 \n\" style=\"fill:#5e1f52;stroke:#ffffff;\"/>\n    <path clip-path=\"url(#pd95def453e)\" d=\"M 224.758125 65.359219 \nL 291.718125 65.359219 \nL 291.718125 119.719219 \nL 224.758125 119.719219 \nL 224.758125 65.359219 \n\" style=\"fill:#03051a;stroke:#ffffff;\"/>\n    <path clip-path=\"url(#pd95def453e)\" d=\"M 23.878125 119.719219 \nL 90.838125 119.719219 \nL 90.838125 174.079219 \nL 23.878125 174.079219 \nL 23.878125 119.719219 \n\" style=\"fill:#f58860;stroke:#ffffff;\"/>\n    <path clip-path=\"url(#pd95def453e)\" d=\"M 90.838125 119.719219 \nL 157.798125 119.719219 \nL 157.798125 174.079219 \nL 90.838125 174.079219 \nL 90.838125 119.719219 \n\" style=\"fill:#5e1f52;stroke:#ffffff;\"/>\n    <path clip-path=\"url(#pd95def453e)\" d=\"M 157.798125 119.719219 \nL 224.758125 119.719219 \nL 224.758125 174.079219 \nL 157.798125 174.079219 \nL 157.798125 119.719219 \n\" style=\"fill:#faebdd;stroke:#ffffff;\"/>\n    <path clip-path=\"url(#pd95def453e)\" d=\"M 224.758125 119.719219 \nL 291.718125 119.719219 \nL 291.718125 174.079219 \nL 224.758125 174.079219 \nL 224.758125 119.719219 \n\" style=\"fill:#c81951;stroke:#ffffff;\"/>\n    <path clip-path=\"url(#pd95def453e)\" d=\"M 23.878125 174.079219 \nL 90.838125 174.079219 \nL 90.838125 228.439219 \nL 23.878125 228.439219 \nL 23.878125 174.079219 \n\" style=\"fill:#db2946;stroke:#ffffff;\"/>\n    <path clip-path=\"url(#pd95def453e)\" d=\"M 90.838125 174.079219 \nL 157.798125 174.079219 \nL 157.798125 228.439219 \nL 90.838125 228.439219 \nL 90.838125 174.079219 \n\" style=\"fill:#03051a;stroke:#ffffff;\"/>\n    <path clip-path=\"url(#pd95def453e)\" d=\"M 157.798125 174.079219 \nL 224.758125 174.079219 \nL 224.758125 228.439219 \nL 157.798125 228.439219 \nL 157.798125 174.079219 \n\" style=\"fill:#c81951;stroke:#ffffff;\"/>\n    <path clip-path=\"url(#pd95def453e)\" d=\"M 224.758125 174.079219 \nL 291.718125 174.079219 \nL 291.718125 228.439219 \nL 224.758125 228.439219 \nL 224.758125 174.079219 \n\" style=\"fill:#faebdd;stroke:#ffffff;\"/>\n   </g>\n   <g id=\"matplotlib.axis_1\">\n    <g id=\"xtick_1\">\n     <g id=\"line2d_1\">\n      <defs>\n       <path d=\"M 0 0 \nL 0 3.5 \n\" id=\"m3dc2a68846\" style=\"stroke:#000000;stroke-width:0.8;\"/>\n      </defs>\n      <g>\n       <use style=\"stroke:#000000;stroke-width:0.8;\" x=\"57.358125\" xlink:href=\"#m3dc2a68846\" y=\"228.439219\"/>\n      </g>\n     </g>\n     <g id=\"text_1\">\n      <!-- SALARY -->\n      <g transform=\"translate(38.141719 243.037656)scale(0.1 -0.1)\">\n       <defs>\n        <path d=\"M 3425 4513 \nL 3425 3897 \nQ 3066 4069 2747 4153 \nQ 2428 4238 2131 4238 \nQ 1616 4238 1336 4038 \nQ 1056 3838 1056 3469 \nQ 1056 3159 1242 3001 \nQ 1428 2844 1947 2747 \nL 2328 2669 \nQ 3034 2534 3370 2195 \nQ 3706 1856 3706 1288 \nQ 3706 609 3251 259 \nQ 2797 -91 1919 -91 \nQ 1588 -91 1214 -16 \nQ 841 59 441 206 \nL 441 856 \nQ 825 641 1194 531 \nQ 1563 422 1919 422 \nQ 2459 422 2753 634 \nQ 3047 847 3047 1241 \nQ 3047 1584 2836 1778 \nQ 2625 1972 2144 2069 \nL 1759 2144 \nQ 1053 2284 737 2584 \nQ 422 2884 422 3419 \nQ 422 4038 858 4394 \nQ 1294 4750 2059 4750 \nQ 2388 4750 2728 4690 \nQ 3069 4631 3425 4513 \nz\n\" id=\"DejaVuSans-53\" transform=\"scale(0.015625)\"/>\n        <path d=\"M 2188 4044 \nL 1331 1722 \nL 3047 1722 \nL 2188 4044 \nz\nM 1831 4666 \nL 2547 4666 \nL 4325 0 \nL 3669 0 \nL 3244 1197 \nL 1141 1197 \nL 716 0 \nL 50 0 \nL 1831 4666 \nz\n\" id=\"DejaVuSans-41\" transform=\"scale(0.015625)\"/>\n        <path d=\"M 628 4666 \nL 1259 4666 \nL 1259 531 \nL 3531 531 \nL 3531 0 \nL 628 0 \nL 628 4666 \nz\n\" id=\"DejaVuSans-4c\" transform=\"scale(0.015625)\"/>\n        <path d=\"M 2841 2188 \nQ 3044 2119 3236 1894 \nQ 3428 1669 3622 1275 \nL 4263 0 \nL 3584 0 \nL 2988 1197 \nQ 2756 1666 2539 1819 \nQ 2322 1972 1947 1972 \nL 1259 1972 \nL 1259 0 \nL 628 0 \nL 628 4666 \nL 2053 4666 \nQ 2853 4666 3247 4331 \nQ 3641 3997 3641 3322 \nQ 3641 2881 3436 2590 \nQ 3231 2300 2841 2188 \nz\nM 1259 4147 \nL 1259 2491 \nL 2053 2491 \nQ 2509 2491 2742 2702 \nQ 2975 2913 2975 3322 \nQ 2975 3731 2742 3939 \nQ 2509 4147 2053 4147 \nL 1259 4147 \nz\n\" id=\"DejaVuSans-52\" transform=\"scale(0.015625)\"/>\n        <path d=\"M -13 4666 \nL 666 4666 \nL 1959 2747 \nL 3244 4666 \nL 3922 4666 \nL 2272 2222 \nL 2272 0 \nL 1638 0 \nL 1638 2222 \nL -13 4666 \nz\n\" id=\"DejaVuSans-59\" transform=\"scale(0.015625)\"/>\n       </defs>\n       <use xlink:href=\"#DejaVuSans-53\"/>\n       <use x=\"65.351562\" xlink:href=\"#DejaVuSans-41\"/>\n       <use x=\"133.759766\" xlink:href=\"#DejaVuSans-4c\"/>\n       <use x=\"191.722656\" xlink:href=\"#DejaVuSans-41\"/>\n       <use x=\"260.130859\" xlink:href=\"#DejaVuSans-52\"/>\n       <use x=\"323.238281\" xlink:href=\"#DejaVuSans-59\"/>\n      </g>\n     </g>\n    </g>\n    <g id=\"xtick_2\">\n     <g id=\"line2d_2\">\n      <g>\n       <use style=\"stroke:#000000;stroke-width:0.8;\" x=\"124.318125\" xlink:href=\"#m3dc2a68846\" y=\"228.439219\"/>\n      </g>\n     </g>\n     <g id=\"text_2\">\n      <!-- EDUC -->\n      <g transform=\"translate(110.157969 243.037656)scale(0.1 -0.1)\">\n       <defs>\n        <path d=\"M 628 4666 \nL 3578 4666 \nL 3578 4134 \nL 1259 4134 \nL 1259 2753 \nL 3481 2753 \nL 3481 2222 \nL 1259 2222 \nL 1259 531 \nL 3634 531 \nL 3634 0 \nL 628 0 \nL 628 4666 \nz\n\" id=\"DejaVuSans-45\" transform=\"scale(0.015625)\"/>\n        <path d=\"M 1259 4147 \nL 1259 519 \nL 2022 519 \nQ 2988 519 3436 956 \nQ 3884 1394 3884 2338 \nQ 3884 3275 3436 3711 \nQ 2988 4147 2022 4147 \nL 1259 4147 \nz\nM 628 4666 \nL 1925 4666 \nQ 3281 4666 3915 4102 \nQ 4550 3538 4550 2338 \nQ 4550 1131 3912 565 \nQ 3275 0 1925 0 \nL 628 0 \nL 628 4666 \nz\n\" id=\"DejaVuSans-44\" transform=\"scale(0.015625)\"/>\n        <path d=\"M 556 4666 \nL 1191 4666 \nL 1191 1831 \nQ 1191 1081 1462 751 \nQ 1734 422 2344 422 \nQ 2950 422 3222 751 \nQ 3494 1081 3494 1831 \nL 3494 4666 \nL 4128 4666 \nL 4128 1753 \nQ 4128 841 3676 375 \nQ 3225 -91 2344 -91 \nQ 1459 -91 1007 375 \nQ 556 841 556 1753 \nL 556 4666 \nz\n\" id=\"DejaVuSans-55\" transform=\"scale(0.015625)\"/>\n        <path d=\"M 4122 4306 \nL 4122 3641 \nQ 3803 3938 3442 4084 \nQ 3081 4231 2675 4231 \nQ 1875 4231 1450 3742 \nQ 1025 3253 1025 2328 \nQ 1025 1406 1450 917 \nQ 1875 428 2675 428 \nQ 3081 428 3442 575 \nQ 3803 722 4122 1019 \nL 4122 359 \nQ 3791 134 3420 21 \nQ 3050 -91 2638 -91 \nQ 1578 -91 968 557 \nQ 359 1206 359 2328 \nQ 359 3453 968 4101 \nQ 1578 4750 2638 4750 \nQ 3056 4750 3426 4639 \nQ 3797 4528 4122 4306 \nz\n\" id=\"DejaVuSans-43\" transform=\"scale(0.015625)\"/>\n       </defs>\n       <use xlink:href=\"#DejaVuSans-45\"/>\n       <use x=\"63.183594\" xlink:href=\"#DejaVuSans-44\"/>\n       <use x=\"140.185547\" xlink:href=\"#DejaVuSans-55\"/>\n       <use x=\"213.378906\" xlink:href=\"#DejaVuSans-43\"/>\n      </g>\n     </g>\n    </g>\n    <g id=\"xtick_3\">\n     <g id=\"line2d_3\">\n      <g>\n       <use style=\"stroke:#000000;stroke-width:0.8;\" x=\"191.278125\" xlink:href=\"#m3dc2a68846\" y=\"228.439219\"/>\n      </g>\n     </g>\n     <g id=\"text_3\">\n      <!-- SALBEGIN -->\n      <g transform=\"translate(166.124219 243.037656)scale(0.1 -0.1)\">\n       <defs>\n        <path d=\"M 1259 2228 \nL 1259 519 \nL 2272 519 \nQ 2781 519 3026 730 \nQ 3272 941 3272 1375 \nQ 3272 1813 3026 2020 \nQ 2781 2228 2272 2228 \nL 1259 2228 \nz\nM 1259 4147 \nL 1259 2741 \nL 2194 2741 \nQ 2656 2741 2882 2914 \nQ 3109 3088 3109 3444 \nQ 3109 3797 2882 3972 \nQ 2656 4147 2194 4147 \nL 1259 4147 \nz\nM 628 4666 \nL 2241 4666 \nQ 2963 4666 3353 4366 \nQ 3744 4066 3744 3513 \nQ 3744 3084 3544 2831 \nQ 3344 2578 2956 2516 \nQ 3422 2416 3680 2098 \nQ 3938 1781 3938 1306 \nQ 3938 681 3513 340 \nQ 3088 0 2303 0 \nL 628 0 \nL 628 4666 \nz\n\" id=\"DejaVuSans-42\" transform=\"scale(0.015625)\"/>\n        <path d=\"M 3809 666 \nL 3809 1919 \nL 2778 1919 \nL 2778 2438 \nL 4434 2438 \nL 4434 434 \nQ 4069 175 3628 42 \nQ 3188 -91 2688 -91 \nQ 1594 -91 976 548 \nQ 359 1188 359 2328 \nQ 359 3472 976 4111 \nQ 1594 4750 2688 4750 \nQ 3144 4750 3555 4637 \nQ 3966 4525 4313 4306 \nL 4313 3634 \nQ 3963 3931 3569 4081 \nQ 3175 4231 2741 4231 \nQ 1884 4231 1454 3753 \nQ 1025 3275 1025 2328 \nQ 1025 1384 1454 906 \nQ 1884 428 2741 428 \nQ 3075 428 3337 486 \nQ 3600 544 3809 666 \nz\n\" id=\"DejaVuSans-47\" transform=\"scale(0.015625)\"/>\n        <path d=\"M 628 4666 \nL 1259 4666 \nL 1259 0 \nL 628 0 \nL 628 4666 \nz\n\" id=\"DejaVuSans-49\" transform=\"scale(0.015625)\"/>\n        <path d=\"M 628 4666 \nL 1478 4666 \nL 3547 763 \nL 3547 4666 \nL 4159 4666 \nL 4159 0 \nL 3309 0 \nL 1241 3903 \nL 1241 0 \nL 628 0 \nL 628 4666 \nz\n\" id=\"DejaVuSans-4e\" transform=\"scale(0.015625)\"/>\n       </defs>\n       <use xlink:href=\"#DejaVuSans-53\"/>\n       <use x=\"65.351562\" xlink:href=\"#DejaVuSans-41\"/>\n       <use x=\"133.759766\" xlink:href=\"#DejaVuSans-4c\"/>\n       <use x=\"189.472656\" xlink:href=\"#DejaVuSans-42\"/>\n       <use x=\"258.076172\" xlink:href=\"#DejaVuSans-45\"/>\n       <use x=\"321.259766\" xlink:href=\"#DejaVuSans-47\"/>\n       <use x=\"398.75\" xlink:href=\"#DejaVuSans-49\"/>\n       <use x=\"428.242188\" xlink:href=\"#DejaVuSans-4e\"/>\n      </g>\n     </g>\n    </g>\n    <g id=\"xtick_4\">\n     <g id=\"line2d_4\">\n      <g>\n       <use style=\"stroke:#000000;stroke-width:0.8;\" x=\"258.238125\" xlink:href=\"#m3dc2a68846\" y=\"228.439219\"/>\n      </g>\n     </g>\n     <g id=\"text_4\">\n      <!-- JOBCAT -->\n      <g transform=\"translate(239.906094 243.037656)scale(0.1 -0.1)\">\n       <defs>\n        <path d=\"M 628 4666 \nL 1259 4666 \nL 1259 325 \nQ 1259 -519 939 -900 \nQ 619 -1281 -91 -1281 \nL -331 -1281 \nL -331 -750 \nL -134 -750 \nQ 284 -750 456 -515 \nQ 628 -281 628 325 \nL 628 4666 \nz\n\" id=\"DejaVuSans-4a\" transform=\"scale(0.015625)\"/>\n        <path d=\"M 2522 4238 \nQ 1834 4238 1429 3725 \nQ 1025 3213 1025 2328 \nQ 1025 1447 1429 934 \nQ 1834 422 2522 422 \nQ 3209 422 3611 934 \nQ 4013 1447 4013 2328 \nQ 4013 3213 3611 3725 \nQ 3209 4238 2522 4238 \nz\nM 2522 4750 \nQ 3503 4750 4090 4092 \nQ 4678 3434 4678 2328 \nQ 4678 1225 4090 567 \nQ 3503 -91 2522 -91 \nQ 1538 -91 948 565 \nQ 359 1222 359 2328 \nQ 359 3434 948 4092 \nQ 1538 4750 2522 4750 \nz\n\" id=\"DejaVuSans-4f\" transform=\"scale(0.015625)\"/>\n        <path d=\"M -19 4666 \nL 3928 4666 \nL 3928 4134 \nL 2272 4134 \nL 2272 0 \nL 1638 0 \nL 1638 4134 \nL -19 4134 \nL -19 4666 \nz\n\" id=\"DejaVuSans-54\" transform=\"scale(0.015625)\"/>\n       </defs>\n       <use xlink:href=\"#DejaVuSans-4a\"/>\n       <use x=\"29.492188\" xlink:href=\"#DejaVuSans-4f\"/>\n       <use x=\"108.203125\" xlink:href=\"#DejaVuSans-42\"/>\n       <use x=\"175.056641\" xlink:href=\"#DejaVuSans-43\"/>\n       <use x=\"244.880859\" xlink:href=\"#DejaVuSans-41\"/>\n       <use x=\"305.539062\" xlink:href=\"#DejaVuSans-54\"/>\n      </g>\n     </g>\n    </g>\n   </g>\n   <g id=\"matplotlib.axis_2\">\n    <g id=\"ytick_1\">\n     <g id=\"line2d_5\">\n      <defs>\n       <path d=\"M 0 0 \nL -3.5 0 \n\" id=\"m41a3fabba4\" style=\"stroke:#000000;stroke-width:0.8;\"/>\n      </defs>\n      <g>\n       <use style=\"stroke:#000000;stroke-width:0.8;\" x=\"23.878125\" xlink:href=\"#m41a3fabba4\" y=\"38.179219\"/>\n      </g>\n     </g>\n     <g id=\"text_5\">\n      <!-- SALARY -->\n      <g transform=\"translate(14.798438 72.812812)rotate(-90)scale(0.1 -0.1)\">\n       <use xlink:href=\"#DejaVuSans-53\"/>\n       <use x=\"65.351562\" xlink:href=\"#DejaVuSans-41\"/>\n       <use x=\"133.759766\" xlink:href=\"#DejaVuSans-4c\"/>\n       <use x=\"191.722656\" xlink:href=\"#DejaVuSans-41\"/>\n       <use x=\"260.130859\" xlink:href=\"#DejaVuSans-52\"/>\n       <use x=\"323.238281\" xlink:href=\"#DejaVuSans-59\"/>\n      </g>\n     </g>\n    </g>\n    <g id=\"ytick_2\">\n     <g id=\"line2d_6\">\n      <g>\n       <use style=\"stroke:#000000;stroke-width:0.8;\" x=\"23.878125\" xlink:href=\"#m41a3fabba4\" y=\"92.539219\"/>\n      </g>\n     </g>\n     <g id=\"text_6\">\n      <!-- EDUC -->\n      <g transform=\"translate(14.798438 117.060312)rotate(-90)scale(0.1 -0.1)\">\n       <use xlink:href=\"#DejaVuSans-45\"/>\n       <use x=\"63.183594\" xlink:href=\"#DejaVuSans-44\"/>\n       <use x=\"140.185547\" xlink:href=\"#DejaVuSans-55\"/>\n       <use x=\"213.378906\" xlink:href=\"#DejaVuSans-43\"/>\n      </g>\n     </g>\n    </g>\n    <g id=\"ytick_3\">\n     <g id=\"line2d_7\">\n      <g>\n       <use style=\"stroke:#000000;stroke-width:0.8;\" x=\"23.878125\" xlink:href=\"#m41a3fabba4\" y=\"146.899219\"/>\n      </g>\n     </g>\n     <g id=\"text_7\">\n      <!-- SALBEGIN -->\n      <g transform=\"translate(14.798438 193.407812)rotate(-90)scale(0.1 -0.1)\">\n       <use xlink:href=\"#DejaVuSans-53\"/>\n       <use x=\"65.351562\" xlink:href=\"#DejaVuSans-41\"/>\n       <use x=\"133.759766\" xlink:href=\"#DejaVuSans-4c\"/>\n       <use x=\"189.472656\" xlink:href=\"#DejaVuSans-42\"/>\n       <use x=\"258.076172\" xlink:href=\"#DejaVuSans-45\"/>\n       <use x=\"321.259766\" xlink:href=\"#DejaVuSans-47\"/>\n       <use x=\"398.75\" xlink:href=\"#DejaVuSans-49\"/>\n       <use x=\"428.242188\" xlink:href=\"#DejaVuSans-4e\"/>\n      </g>\n     </g>\n    </g>\n    <g id=\"ytick_4\">\n     <g id=\"line2d_8\">\n      <g>\n       <use style=\"stroke:#000000;stroke-width:0.8;\" x=\"23.878125\" xlink:href=\"#m41a3fabba4\" y=\"201.259219\"/>\n      </g>\n     </g>\n     <g id=\"text_8\">\n      <!-- JOBCAT -->\n      <g transform=\"translate(14.798438 234.124062)rotate(-90)scale(0.1 -0.1)\">\n       <use xlink:href=\"#DejaVuSans-4a\"/>\n       <use x=\"29.492188\" xlink:href=\"#DejaVuSans-4f\"/>\n       <use x=\"108.203125\" xlink:href=\"#DejaVuSans-42\"/>\n       <use x=\"175.056641\" xlink:href=\"#DejaVuSans-43\"/>\n       <use x=\"244.880859\" xlink:href=\"#DejaVuSans-41\"/>\n       <use x=\"305.539062\" xlink:href=\"#DejaVuSans-54\"/>\n      </g>\n     </g>\n    </g>\n   </g>\n   <g id=\"text_9\">\n    <!-- 1 -->\n    <g style=\"fill:#262626;\" transform=\"translate(54.176875 40.938594)scale(0.1 -0.1)\">\n     <defs>\n      <path d=\"M 794 531 \nL 1825 531 \nL 1825 4091 \nL 703 3866 \nL 703 4441 \nL 1819 4666 \nL 2450 4666 \nL 2450 531 \nL 3481 531 \nL 3481 0 \nL 794 0 \nL 794 531 \nz\n\" id=\"DejaVuSans-31\" transform=\"scale(0.015625)\"/>\n     </defs>\n     <use xlink:href=\"#DejaVuSans-31\"/>\n    </g>\n   </g>\n   <g id=\"text_10\">\n    <!-- 0.66 -->\n    <g style=\"fill:#ffffff;\" transform=\"translate(113.185313 40.938594)scale(0.1 -0.1)\">\n     <defs>\n      <path d=\"M 2034 4250 \nQ 1547 4250 1301 3770 \nQ 1056 3291 1056 2328 \nQ 1056 1369 1301 889 \nQ 1547 409 2034 409 \nQ 2525 409 2770 889 \nQ 3016 1369 3016 2328 \nQ 3016 3291 2770 3770 \nQ 2525 4250 2034 4250 \nz\nM 2034 4750 \nQ 2819 4750 3233 4129 \nQ 3647 3509 3647 2328 \nQ 3647 1150 3233 529 \nQ 2819 -91 2034 -91 \nQ 1250 -91 836 529 \nQ 422 1150 422 2328 \nQ 422 3509 836 4129 \nQ 1250 4750 2034 4750 \nz\n\" id=\"DejaVuSans-30\" transform=\"scale(0.015625)\"/>\n      <path d=\"M 684 794 \nL 1344 794 \nL 1344 0 \nL 684 0 \nL 684 794 \nz\n\" id=\"DejaVuSans-2e\" transform=\"scale(0.015625)\"/>\n      <path d=\"M 2113 2584 \nQ 1688 2584 1439 2293 \nQ 1191 2003 1191 1497 \nQ 1191 994 1439 701 \nQ 1688 409 2113 409 \nQ 2538 409 2786 701 \nQ 3034 994 3034 1497 \nQ 3034 2003 2786 2293 \nQ 2538 2584 2113 2584 \nz\nM 3366 4563 \nL 3366 3988 \nQ 3128 4100 2886 4159 \nQ 2644 4219 2406 4219 \nQ 1781 4219 1451 3797 \nQ 1122 3375 1075 2522 \nQ 1259 2794 1537 2939 \nQ 1816 3084 2150 3084 \nQ 2853 3084 3261 2657 \nQ 3669 2231 3669 1497 \nQ 3669 778 3244 343 \nQ 2819 -91 2113 -91 \nQ 1303 -91 875 529 \nQ 447 1150 447 2328 \nQ 447 3434 972 4092 \nQ 1497 4750 2381 4750 \nQ 2619 4750 2861 4703 \nQ 3103 4656 3366 4563 \nz\n\" id=\"DejaVuSans-36\" transform=\"scale(0.015625)\"/>\n     </defs>\n     <use xlink:href=\"#DejaVuSans-30\"/>\n     <use x=\"63.623047\" xlink:href=\"#DejaVuSans-2e\"/>\n     <use x=\"95.410156\" xlink:href=\"#DejaVuSans-36\"/>\n     <use x=\"159.033203\" xlink:href=\"#DejaVuSans-36\"/>\n    </g>\n   </g>\n   <g id=\"text_11\">\n    <!-- 0.88 -->\n    <g style=\"fill:#ffffff;\" transform=\"translate(180.145313 40.938594)scale(0.1 -0.1)\">\n     <defs>\n      <path d=\"M 2034 2216 \nQ 1584 2216 1326 1975 \nQ 1069 1734 1069 1313 \nQ 1069 891 1326 650 \nQ 1584 409 2034 409 \nQ 2484 409 2743 651 \nQ 3003 894 3003 1313 \nQ 3003 1734 2745 1975 \nQ 2488 2216 2034 2216 \nz\nM 1403 2484 \nQ 997 2584 770 2862 \nQ 544 3141 544 3541 \nQ 544 4100 942 4425 \nQ 1341 4750 2034 4750 \nQ 2731 4750 3128 4425 \nQ 3525 4100 3525 3541 \nQ 3525 3141 3298 2862 \nQ 3072 2584 2669 2484 \nQ 3125 2378 3379 2068 \nQ 3634 1759 3634 1313 \nQ 3634 634 3220 271 \nQ 2806 -91 2034 -91 \nQ 1263 -91 848 271 \nQ 434 634 434 1313 \nQ 434 1759 690 2068 \nQ 947 2378 1403 2484 \nz\nM 1172 3481 \nQ 1172 3119 1398 2916 \nQ 1625 2713 2034 2713 \nQ 2441 2713 2670 2916 \nQ 2900 3119 2900 3481 \nQ 2900 3844 2670 4047 \nQ 2441 4250 2034 4250 \nQ 1625 4250 1398 4047 \nQ 1172 3844 1172 3481 \nz\n\" id=\"DejaVuSans-38\" transform=\"scale(0.015625)\"/>\n     </defs>\n     <use xlink:href=\"#DejaVuSans-30\"/>\n     <use x=\"63.623047\" xlink:href=\"#DejaVuSans-2e\"/>\n     <use x=\"95.410156\" xlink:href=\"#DejaVuSans-38\"/>\n     <use x=\"159.033203\" xlink:href=\"#DejaVuSans-38\"/>\n    </g>\n   </g>\n   <g id=\"text_12\">\n    <!-- 0.78 -->\n    <g style=\"fill:#ffffff;\" transform=\"translate(247.105313 40.938594)scale(0.1 -0.1)\">\n     <defs>\n      <path d=\"M 525 4666 \nL 3525 4666 \nL 3525 4397 \nL 1831 0 \nL 1172 0 \nL 2766 4134 \nL 525 4134 \nL 525 4666 \nz\n\" id=\"DejaVuSans-37\" transform=\"scale(0.015625)\"/>\n     </defs>\n     <use xlink:href=\"#DejaVuSans-30\"/>\n     <use x=\"63.623047\" xlink:href=\"#DejaVuSans-2e\"/>\n     <use x=\"95.410156\" xlink:href=\"#DejaVuSans-37\"/>\n     <use x=\"159.033203\" xlink:href=\"#DejaVuSans-38\"/>\n    </g>\n   </g>\n   <g id=\"text_13\">\n    <!-- 0.66 -->\n    <g style=\"fill:#ffffff;\" transform=\"translate(46.225313 95.298594)scale(0.1 -0.1)\">\n     <use xlink:href=\"#DejaVuSans-30\"/>\n     <use x=\"63.623047\" xlink:href=\"#DejaVuSans-2e\"/>\n     <use x=\"95.410156\" xlink:href=\"#DejaVuSans-36\"/>\n     <use x=\"159.033203\" xlink:href=\"#DejaVuSans-36\"/>\n    </g>\n   </g>\n   <g id=\"text_14\">\n    <!-- 1 -->\n    <g style=\"fill:#262626;\" transform=\"translate(121.136875 95.298594)scale(0.1 -0.1)\">\n     <use xlink:href=\"#DejaVuSans-31\"/>\n    </g>\n   </g>\n   <g id=\"text_15\">\n    <!-- 0.63 -->\n    <g style=\"fill:#ffffff;\" transform=\"translate(180.145313 95.298594)scale(0.1 -0.1)\">\n     <defs>\n      <path d=\"M 2597 2516 \nQ 3050 2419 3304 2112 \nQ 3559 1806 3559 1356 \nQ 3559 666 3084 287 \nQ 2609 -91 1734 -91 \nQ 1441 -91 1130 -33 \nQ 819 25 488 141 \nL 488 750 \nQ 750 597 1062 519 \nQ 1375 441 1716 441 \nQ 2309 441 2620 675 \nQ 2931 909 2931 1356 \nQ 2931 1769 2642 2001 \nQ 2353 2234 1838 2234 \nL 1294 2234 \nL 1294 2753 \nL 1863 2753 \nQ 2328 2753 2575 2939 \nQ 2822 3125 2822 3475 \nQ 2822 3834 2567 4026 \nQ 2313 4219 1838 4219 \nQ 1578 4219 1281 4162 \nQ 984 4106 628 3988 \nL 628 4550 \nQ 988 4650 1302 4700 \nQ 1616 4750 1894 4750 \nQ 2613 4750 3031 4423 \nQ 3450 4097 3450 3541 \nQ 3450 3153 3228 2886 \nQ 3006 2619 2597 2516 \nz\n\" id=\"DejaVuSans-33\" transform=\"scale(0.015625)\"/>\n     </defs>\n     <use xlink:href=\"#DejaVuSans-30\"/>\n     <use x=\"63.623047\" xlink:href=\"#DejaVuSans-2e\"/>\n     <use x=\"95.410156\" xlink:href=\"#DejaVuSans-36\"/>\n     <use x=\"159.033203\" xlink:href=\"#DejaVuSans-33\"/>\n    </g>\n   </g>\n   <g id=\"text_16\">\n    <!-- 0.51 -->\n    <g style=\"fill:#ffffff;\" transform=\"translate(247.105313 95.298594)scale(0.1 -0.1)\">\n     <defs>\n      <path d=\"M 691 4666 \nL 3169 4666 \nL 3169 4134 \nL 1269 4134 \nL 1269 2991 \nQ 1406 3038 1543 3061 \nQ 1681 3084 1819 3084 \nQ 2600 3084 3056 2656 \nQ 3513 2228 3513 1497 \nQ 3513 744 3044 326 \nQ 2575 -91 1722 -91 \nQ 1428 -91 1123 -41 \nQ 819 9 494 109 \nL 494 744 \nQ 775 591 1075 516 \nQ 1375 441 1709 441 \nQ 2250 441 2565 725 \nQ 2881 1009 2881 1497 \nQ 2881 1984 2565 2268 \nQ 2250 2553 1709 2553 \nQ 1456 2553 1204 2497 \nQ 953 2441 691 2322 \nL 691 4666 \nz\n\" id=\"DejaVuSans-35\" transform=\"scale(0.015625)\"/>\n     </defs>\n     <use xlink:href=\"#DejaVuSans-30\"/>\n     <use x=\"63.623047\" xlink:href=\"#DejaVuSans-2e\"/>\n     <use x=\"95.410156\" xlink:href=\"#DejaVuSans-35\"/>\n     <use x=\"159.033203\" xlink:href=\"#DejaVuSans-31\"/>\n    </g>\n   </g>\n   <g id=\"text_17\">\n    <!-- 0.88 -->\n    <g style=\"fill:#ffffff;\" transform=\"translate(46.225313 149.658594)scale(0.1 -0.1)\">\n     <use xlink:href=\"#DejaVuSans-30\"/>\n     <use x=\"63.623047\" xlink:href=\"#DejaVuSans-2e\"/>\n     <use x=\"95.410156\" xlink:href=\"#DejaVuSans-38\"/>\n     <use x=\"159.033203\" xlink:href=\"#DejaVuSans-38\"/>\n    </g>\n   </g>\n   <g id=\"text_18\">\n    <!-- 0.63 -->\n    <g style=\"fill:#ffffff;\" transform=\"translate(113.185313 149.658594)scale(0.1 -0.1)\">\n     <use xlink:href=\"#DejaVuSans-30\"/>\n     <use x=\"63.623047\" xlink:href=\"#DejaVuSans-2e\"/>\n     <use x=\"95.410156\" xlink:href=\"#DejaVuSans-36\"/>\n     <use x=\"159.033203\" xlink:href=\"#DejaVuSans-33\"/>\n    </g>\n   </g>\n   <g id=\"text_19\">\n    <!-- 1 -->\n    <g style=\"fill:#262626;\" transform=\"translate(188.096875 149.658594)scale(0.1 -0.1)\">\n     <use xlink:href=\"#DejaVuSans-31\"/>\n    </g>\n   </g>\n   <g id=\"text_20\">\n    <!-- 0.75 -->\n    <g style=\"fill:#ffffff;\" transform=\"translate(247.105313 149.658594)scale(0.1 -0.1)\">\n     <use xlink:href=\"#DejaVuSans-30\"/>\n     <use x=\"63.623047\" xlink:href=\"#DejaVuSans-2e\"/>\n     <use x=\"95.410156\" xlink:href=\"#DejaVuSans-37\"/>\n     <use x=\"159.033203\" xlink:href=\"#DejaVuSans-35\"/>\n    </g>\n   </g>\n   <g id=\"text_21\">\n    <!-- 0.78 -->\n    <g style=\"fill:#ffffff;\" transform=\"translate(46.225313 204.018594)scale(0.1 -0.1)\">\n     <use xlink:href=\"#DejaVuSans-30\"/>\n     <use x=\"63.623047\" xlink:href=\"#DejaVuSans-2e\"/>\n     <use x=\"95.410156\" xlink:href=\"#DejaVuSans-37\"/>\n     <use x=\"159.033203\" xlink:href=\"#DejaVuSans-38\"/>\n    </g>\n   </g>\n   <g id=\"text_22\">\n    <!-- 0.51 -->\n    <g style=\"fill:#ffffff;\" transform=\"translate(113.185313 204.018594)scale(0.1 -0.1)\">\n     <use xlink:href=\"#DejaVuSans-30\"/>\n     <use x=\"63.623047\" xlink:href=\"#DejaVuSans-2e\"/>\n     <use x=\"95.410156\" xlink:href=\"#DejaVuSans-35\"/>\n     <use x=\"159.033203\" xlink:href=\"#DejaVuSans-31\"/>\n    </g>\n   </g>\n   <g id=\"text_23\">\n    <!-- 0.75 -->\n    <g style=\"fill:#ffffff;\" transform=\"translate(180.145313 204.018594)scale(0.1 -0.1)\">\n     <use xlink:href=\"#DejaVuSans-30\"/>\n     <use x=\"63.623047\" xlink:href=\"#DejaVuSans-2e\"/>\n     <use x=\"95.410156\" xlink:href=\"#DejaVuSans-37\"/>\n     <use x=\"159.033203\" xlink:href=\"#DejaVuSans-35\"/>\n    </g>\n   </g>\n   <g id=\"text_24\">\n    <!-- 1 -->\n    <g style=\"fill:#262626;\" transform=\"translate(255.056875 204.018594)scale(0.1 -0.1)\">\n     <use xlink:href=\"#DejaVuSans-31\"/>\n    </g>\n   </g>\n  </g>\n  <g id=\"axes_2\">\n   <g id=\"patch_3\">\n    <path d=\"M 308.458125 228.439219 \nL 319.330125 228.439219 \nL 319.330125 10.999219 \nL 308.458125 10.999219 \nz\n\" style=\"fill:#ffffff;\"/>\n   </g>\n   <g id=\"patch_4\">\n    <path clip-path=\"url(#paeec7c0926)\" d=\"M 308.458125 228.439219 \nL 308.458125 227.589844 \nL 308.458125 11.848594 \nL 308.458125 10.999219 \nL 319.330125 10.999219 \nL 319.330125 11.848594 \nL 319.330125 227.589844 \nL 319.330125 228.439219 \nL 319.330125 228.439219 \nz\n\" style=\"fill:#ffffff;stroke:#ffffff;stroke-linejoin:miter;stroke-width:0.01;\"/>\n   </g>\n   <image height=\"217\" id=\"image715b66861c\" transform=\"scale(1 -1)translate(0 -217)\" width=\"11\" x=\"308\" xlink:href=\"data:image/png;base64,\niVBORw0KGgoAAAANSUhEUgAAAAsAAADZCAYAAAD2WsoCAAABYUlEQVR4nO3aQW4DMQwDQMtyPtH/vzPptUfPgYA2aM4EQVK0duOk+vXzWZefU7fItdbZe9+Da91znyoAbwGTDGLukjRyBonZ0gCDQzQn02gBj6jolPKTjCnjlvIP0UwyrqE67iFpUOt6hoz7lKM5d6x1ZDC4N0TGya1ckZFjfua4iRnAJ1akZHQpGef6u4TLIHDsdE8xKOCY5iPgEhmPTCPYjXtqM2ib/yMyhHlIGiXMVn7SHGQWMEzltDAX7IKzBWxFEubeb5Ah0QXTiMnojqUBJzYY3W6RYZqvscock7Hh2WZDgasCTgOYF3UDVj/KsDRizGYQXrbRYIp5CXPBUwWZzWBMhlxZyOvJWfIb0JToGq7uUXMqjSU3rsZ8JI2YjCnRWRpU0RHHavX96sczaN2IgWkoksYUzcScM5gbd475P40/4OpXiHlKGjMMlvxVIJkGlT/3VkDR5VaBdOPLDf4CdO8rI5K+A88AAAAASUVORK5CYII=\" y=\"-11\"/>\n   <g id=\"matplotlib.axis_3\"/>\n   <g id=\"matplotlib.axis_4\">\n    <g id=\"ytick_5\">\n     <g id=\"line2d_9\">\n      <defs>\n       <path d=\"M 0 0 \nL 3.5 0 \n\" id=\"m5bf8d3bd41\" style=\"stroke:#000000;stroke-width:0.8;\"/>\n      </defs>\n      <g>\n       <use style=\"stroke:#000000;stroke-width:0.8;\" x=\"319.330125\" xlink:href=\"#m5bf8d3bd41\" y=\"189.908316\"/>\n      </g>\n     </g>\n     <g id=\"text_25\">\n      <!-- 0.6 -->\n      <g transform=\"translate(326.330125 193.707535)scale(0.1 -0.1)\">\n       <use xlink:href=\"#DejaVuSans-30\"/>\n       <use x=\"63.623047\" xlink:href=\"#DejaVuSans-2e\"/>\n       <use x=\"95.410156\" xlink:href=\"#DejaVuSans-36\"/>\n      </g>\n     </g>\n    </g>\n    <g id=\"ytick_6\">\n     <g id=\"line2d_10\">\n      <g>\n       <use style=\"stroke:#000000;stroke-width:0.8;\" x=\"319.330125\" xlink:href=\"#m5bf8d3bd41\" y=\"145.181042\"/>\n      </g>\n     </g>\n     <g id=\"text_26\">\n      <!-- 0.7 -->\n      <g transform=\"translate(326.330125 148.980261)scale(0.1 -0.1)\">\n       <use xlink:href=\"#DejaVuSans-30\"/>\n       <use x=\"63.623047\" xlink:href=\"#DejaVuSans-2e\"/>\n       <use x=\"95.410156\" xlink:href=\"#DejaVuSans-37\"/>\n      </g>\n     </g>\n    </g>\n    <g id=\"ytick_7\">\n     <g id=\"line2d_11\">\n      <g>\n       <use style=\"stroke:#000000;stroke-width:0.8;\" x=\"319.330125\" xlink:href=\"#m5bf8d3bd41\" y=\"100.453768\"/>\n      </g>\n     </g>\n     <g id=\"text_27\">\n      <!-- 0.8 -->\n      <g transform=\"translate(326.330125 104.252986)scale(0.1 -0.1)\">\n       <use xlink:href=\"#DejaVuSans-30\"/>\n       <use x=\"63.623047\" xlink:href=\"#DejaVuSans-2e\"/>\n       <use x=\"95.410156\" xlink:href=\"#DejaVuSans-38\"/>\n      </g>\n     </g>\n    </g>\n    <g id=\"ytick_8\">\n     <g id=\"line2d_12\">\n      <g>\n       <use style=\"stroke:#000000;stroke-width:0.8;\" x=\"319.330125\" xlink:href=\"#m5bf8d3bd41\" y=\"55.726493\"/>\n      </g>\n     </g>\n     <g id=\"text_28\">\n      <!-- 0.9 -->\n      <g transform=\"translate(326.330125 59.525712)scale(0.1 -0.1)\">\n       <defs>\n        <path d=\"M 703 97 \nL 703 672 \nQ 941 559 1184 500 \nQ 1428 441 1663 441 \nQ 2288 441 2617 861 \nQ 2947 1281 2994 2138 \nQ 2813 1869 2534 1725 \nQ 2256 1581 1919 1581 \nQ 1219 1581 811 2004 \nQ 403 2428 403 3163 \nQ 403 3881 828 4315 \nQ 1253 4750 1959 4750 \nQ 2769 4750 3195 4129 \nQ 3622 3509 3622 2328 \nQ 3622 1225 3098 567 \nQ 2575 -91 1691 -91 \nQ 1453 -91 1209 -44 \nQ 966 3 703 97 \nz\nM 1959 2075 \nQ 2384 2075 2632 2365 \nQ 2881 2656 2881 3163 \nQ 2881 3666 2632 3958 \nQ 2384 4250 1959 4250 \nQ 1534 4250 1286 3958 \nQ 1038 3666 1038 3163 \nQ 1038 2656 1286 2365 \nQ 1534 2075 1959 2075 \nz\n\" id=\"DejaVuSans-39\" transform=\"scale(0.015625)\"/>\n       </defs>\n       <use xlink:href=\"#DejaVuSans-30\"/>\n       <use x=\"63.623047\" xlink:href=\"#DejaVuSans-2e\"/>\n       <use x=\"95.410156\" xlink:href=\"#DejaVuSans-39\"/>\n      </g>\n     </g>\n    </g>\n    <g id=\"ytick_9\">\n     <g id=\"line2d_13\">\n      <g>\n       <use style=\"stroke:#000000;stroke-width:0.8;\" x=\"319.330125\" xlink:href=\"#m5bf8d3bd41\" y=\"10.999219\"/>\n      </g>\n     </g>\n     <g id=\"text_29\">\n      <!-- 1.0 -->\n      <g transform=\"translate(326.330125 14.798437)scale(0.1 -0.1)\">\n       <use xlink:href=\"#DejaVuSans-31\"/>\n       <use x=\"63.623047\" xlink:href=\"#DejaVuSans-2e\"/>\n       <use x=\"95.410156\" xlink:href=\"#DejaVuSans-30\"/>\n      </g>\n     </g>\n    </g>\n   </g>\n   <g id=\"LineCollection_1\"/>\n   <g id=\"patch_5\">\n    <path d=\"M 308.458125 228.439219 \nL 308.458125 227.589844 \nL 308.458125 11.848594 \nL 308.458125 10.999219 \nL 319.330125 10.999219 \nL 319.330125 11.848594 \nL 319.330125 227.589844 \nL 319.330125 228.439219 \nz\n\" style=\"fill:none;\"/>\n   </g>\n  </g>\n </g>\n <defs>\n  <clipPath id=\"pd95def453e\">\n   <rect height=\"217.44\" width=\"267.84\" x=\"23.878125\" y=\"10.999219\"/>\n  </clipPath>\n  <clipPath id=\"paeec7c0926\">\n   <rect height=\"217.44\" width=\"10.872\" x=\"308.458125\" y=\"10.999219\"/>\n  </clipPath>\n </defs>\n</svg>\n",
      "image/png": "[encoded data removed]"
     },
     "metadata": {
      "needs_background": "light"
     }
    }
   ],
   "source": [
    "df = df[[\"SALARY\", \"EDUC\", \"SALBEGIN\", \"JOBCAT\"]]\n",
    "sns.heatmap(df.corr(),annot=True,lw=1)"
   ]
  },
  {
   "cell_type": "code",
   "execution_count": 38,
   "metadata": {},
   "outputs": [],
   "source": [
    "df_X = pd.get_dummies(data=df.drop(columns = \"SALARY\"))\n",
    "Y = df[\"SALARY\"]"
   ]
  },
  {
   "cell_type": "code",
   "execution_count": 6,
   "metadata": {},
   "outputs": [
    {
     "output_type": "execute_result",
     "data": {
      "text/plain": [
       "     EDUC  SALBEGIN  JOBCAT\n",
       "470    15     15750       1\n",
       "365    12     12000       1\n",
       "350    12     13500       1\n",
       "172    20     42480       3\n",
       "65     19     30000       3\n",
       "..    ...       ...     ...\n",
       "406    15     15750       1\n",
       "390    12     12450       1\n",
       "143     8      9750       1\n",
       "241    12     18000       1\n",
       "111    12     15000       2\n",
       "\n",
       "[284 rows x 3 columns]"
      ],
      "text/html": "<div>\n<style scoped>\n    .dataframe tbody tr th:only-of-type {\n        vertical-align: middle;\n    }\n\n    .dataframe tbody tr th {\n        vertical-align: top;\n    }\n\n    .dataframe thead th {\n        text-align: right;\n    }\n</style>\n<table border=\"1\" class=\"dataframe\">\n  <thead>\n    <tr style=\"text-align: right;\">\n      <th></th>\n      <th>EDUC</th>\n      <th>SALBEGIN</th>\n      <th>JOBCAT</th>\n    </tr>\n  </thead>\n  <tbody>\n    <tr>\n      <th>470</th>\n      <td>15</td>\n      <td>15750</td>\n      <td>1</td>\n    </tr>\n    <tr>\n      <th>365</th>\n      <td>12</td>\n      <td>12000</td>\n      <td>1</td>\n    </tr>\n    <tr>\n      <th>350</th>\n      <td>12</td>\n      <td>13500</td>\n      <td>1</td>\n    </tr>\n    <tr>\n      <th>172</th>\n      <td>20</td>\n      <td>42480</td>\n      <td>3</td>\n    </tr>\n    <tr>\n      <th>65</th>\n      <td>19</td>\n      <td>30000</td>\n      <td>3</td>\n    </tr>\n    <tr>\n      <th>...</th>\n      <td>...</td>\n      <td>...</td>\n      <td>...</td>\n    </tr>\n    <tr>\n      <th>406</th>\n      <td>15</td>\n      <td>15750</td>\n      <td>1</td>\n    </tr>\n    <tr>\n      <th>390</th>\n      <td>12</td>\n      <td>12450</td>\n      <td>1</td>\n    </tr>\n    <tr>\n      <th>143</th>\n      <td>8</td>\n      <td>9750</td>\n      <td>1</td>\n    </tr>\n    <tr>\n      <th>241</th>\n      <td>12</td>\n      <td>18000</td>\n      <td>1</td>\n    </tr>\n    <tr>\n      <th>111</th>\n      <td>12</td>\n      <td>15000</td>\n      <td>2</td>\n    </tr>\n  </tbody>\n</table>\n<p>284 rows × 3 columns</p>\n</div>"
     },
     "metadata": {},
     "execution_count": 6
    }
   ],
   "source": [
    "X_train, X_test, y_train, y_test = train_test_split(df_X, Y, test_size=0.4, random_state=17)\n",
    "X_train"
   ]
  },
  {
   "cell_type": "code",
   "execution_count": 7,
   "metadata": {},
   "outputs": [
    {
     "output_type": "execute_result",
     "data": {
      "text/plain": [
       "LinearRegression()"
      ]
     },
     "metadata": {},
     "execution_count": 7
    }
   ],
   "source": [
    "model = LinearRegression()\n",
    "model.fit(X_train,y_train)"
   ]
  },
  {
   "cell_type": "code",
   "execution_count": 8,
   "metadata": {},
   "outputs": [],
   "source": [
    "predictions = model.predict(X_test)"
   ]
  },
  {
   "cell_type": "code",
   "execution_count": 9,
   "metadata": {},
   "outputs": [
    {
     "output_type": "execute_result",
     "data": {
      "text/plain": [
       "7170.775667083625"
      ]
     },
     "metadata": {},
     "execution_count": 9
    }
   ],
   "source": [
    "mean_squared_error(y_test, predictions)**0.5"
   ]
  },
  {
   "cell_type": "code",
   "execution_count": 10,
   "metadata": {},
   "outputs": [
    {
     "output_type": "display_data",
     "data": {
      "application/vnd.plotly.v1+json": {
       "config": {
        "plotlyServerURL": "https://plot.ly"
       },
       "data": [
        {
         "hovertemplate": "x=%{x}<br>y=%{y}<extra></extra>",
         "legendgroup": "",
         "marker": {
          "color": "#636efa",
          "symbol": "circle"
         },
         "mode": "markers",
         "name": "",
         "orientation": "v",
         "showlegend": false,
         "type": "scatter",
         "x": [
          34963.854763416595,
          30922.205435287884,
          28694.115454497434,
          30922.205435287884,
          18965.86573366503,
          37766.218976171716,
          29730.720819824615,
          30443.838652252416,
          20934.304331139385,
          19840.72733254252,
          29374.161903610715,
          29374.161903610715,
          35579.06497897799,
          34842.046896595035,
          22351.368862635627,
          31917.87481701834,
          73775.88869388195,
          23226.230461513114,
          22788.799662074372,
          32654.892899401304,
          62840.11870791333,
          21257.791864038765,
          20934.304331139385,
          21257.791864038765,
          56998.38882542286,
          31917.87481701834,
          46806.25119850008,
          23882.376660671238,
          23882.376660671238,
          62103.10062553036,
          39977.27322332061,
          31561.31590080444,
          21257.791864038765,
          28256.684655058685,
          28280.584905013857,
          23007.515061793747,
          28256.684655058685,
          30443.838652252416,
          31561.31590080444,
          31561.31590080444,
          32654.892899401304,
          73863.3748537697,
          97110.7931339558,
          54461.290188678126,
          30443.838652252416,
          30467.738902207573,
          29350.26165365555,
          32015.78243388475,
          72301.85252911603,
          27163.107656461827,
          26069.53065786496,
          26069.53065786496,
          30467.738902207573,
          54424.16138539716,
          28936.731104171973,
          31561.31590080444,
          33748.46989799817,
          30467.738902207573,
          22351.368862635627,
          28256.684655058685,
          30467.738902207573,
          60309.6343478315,
          22351.368862635627,
          22788.799662074372,
          33092.32369884005,
          30467.738902207573,
          32654.892899401304,
          31561.31590080444,
          28256.684655058685,
          24781.138509503893,
          31561.31590080444,
          28256.684655058685,
          32654.892899401304,
          30776.497318511152,
          30467.738902207573,
          26069.53065786496,
          31204.75698459054,
          30467.738902207573,
          57012.96985207081,
          21695.222663477507,
          28256.684655058685,
          30922.205435287884,
          21257.791864038765,
          65770.90506415293,
          22351.368862635627,
          27163.107656461827,
          22788.799662074372,
          26069.53065786496,
          28256.684655058685,
          26968.292506697617,
          22351.368862635627,
          28936.731104171973,
          31561.31590080444,
          22788.799662074372,
          24975.953659268096,
          22788.799662074372,
          29374.161903610715,
          22788.799662074372,
          26069.53065786496,
          35518.03592574186,
          25632.09985842622,
          34835.43261993213,
          31561.31590080444,
          32654.892899401304,
          34963.854763416595,
          32654.892899401304,
          34818.14664663986,
          29374.161903610715,
          34842.046896595035,
          58835.59818306559,
          28694.115454497434,
          26402.189324123705,
          45712.67419990322,
          28280.584905013857,
          34963.854763416595,
          30922.205435287884,
          18309.719534506912,
          23226.230461513114,
          139390.50860969373,
          35579.06497897799,
          22788.799662074372,
          49693.2944747958,
          21257.791864038765,
          26069.53065786496,
          89805.69878332876,
          35579.06497897799,
          66134.07825702973,
          73038.870611499,
          24652.46612636872,
          34842.046896595035,
          78924.34357393335,
          35579.06497897799,
          60629.06446076444,
          27163.107656461827,
          19403.296533103774,
          69401.58069949452,
          22684.027528894367,
          24975.953659268096,
          26944.392256742452,
          23007.515061793747,
          39216.35489098248,
          48993.40519569381,
          34963.854763416595,
          59572.616265448545,
          22788.799662074372,
          28256.684655058685,
          18309.719534506912,
          52274.13619148441,
          38560.208691824366,
          23882.376660671238,
          66823.29583950236,
          24538.522859829354,
          20934.304331139385,
          64677.32806555606,
          30824.29781842148,
          22788.799662074372,
          25413.384458706845,
          23226.230461513114,
          49795.565960737214,
          22570.084262354998,
          23226.230461513114,
          26069.53065786496,
          25308.61232552684,
          69408.19497615742,
          26069.53065786496,
          28256.684655058685,
          23121.458328333112,
          32015.78243388475,
          26725.676857023078,
          32015.78243388475,
          30443.838652252416,
          76356.73041057054,
          33724.569648043005,
          22788.799662074372,
          22788.799662074372,
          52274.13619148441,
          28256.684655058685,
          23882.376660671238,
          36081.33201196862,
          87649.05931275309,
          22351.368862635627,
          26069.53065786496,
          22684.027528894367,
          37029.20089378875,
          22788.799662074372,
          29374.161903610715,
          27495.766322720563,
          29155.44650389134,
          30467.738902207573,
          35935.62389519189
         ],
         "xaxis": "x",
         "y": [
          -3763.8547634165952,
          -172.20543528788403,
          705.8845455025657,
          -172.20543528788403,
          4734.1342663349715,
          2583.7810238282837,
          -1680.7208198246153,
          3456.161347747584,
          215.69566886061511,
          11509.27266745748,
          1825.838096389285,
          -1324.161903610715,
          -2579.0649789779927,
          2207.953103404965,
          1948.631137364373,
          -1767.874817018339,
          -18775.88869388195,
          -2226.2304615131143,
          1211.2003379256275,
          7695.107100598696,
          -10715.11870791333,
          6192.208135961235,
          6515.695668860615,
          -4307.791864038765,
          -15448.388825422859,
          5882.125182981661,
          11318.748801499918,
          10017.623339328762,
          -1832.376660671238,
          16146.899374469642,
          -3977.2732233206116,
          -7111.315900804439,
          -4757.791864038765,
          -1256.6846550586852,
          4269.415094986143,
          2492.484938206253,
          -806.6846550586852,
          -1943.838652252416,
          -61.31590080443857,
          -4561.315900804439,
          -2054.892899401304,
          -3863.3748537696956,
          -30360.793133955798,
          -8836.290188678126,
          5256.161347747584,
          1932.2610977924269,
          4189.738346344449,
          -1265.7824338847495,
          10198.147470883967,
          -3913.107656461827,
          -1019.5306578649615,
          630.4693421350385,
          8382.261097792427,
          -15724.161385397158,
          -3736.731104171973,
          7588.684099195561,
          -7798.4698979981695,
          -1517.7389022075731,
          -301.368862635627,
          7293.315344941315,
          4782.261097792427,
          13440.365652168497,
          748.631137364373,
          11.200337925627537,
          2007.676301159947,
          7332.261097792427,
          6945.107100598696,
          -361.31590080443857,
          -1706.6846550586852,
          6568.861490496107,
          -1411.3159008044386,
          -1406.6846550586852,
          -4604.892899401304,
          -5576.497318511152,
          -3917.738902207573,
          -2069.5306578649615,
          7645.243015409462,
          14682.261097792427,
          -462.9698520708116,
          6804.777336522493,
          -5906.684655058685,
          -922.205435287884,
          -4907.791864038765,
          25479.094935847068,
          3898.631137364373,
          -2713.107656461827,
          161.20033792562754,
          5430.4693421350385,
          5043.315344941315,
          4081.707493302383,
          1948.631137364373,
          -5986.731104171973,
          -10261.315900804439,
          -3138.7996620743725,
          -5325.953659268096,
          -438.79966207437246,
          16625.838096389285,
          -138.79966207437246,
          -5219.5306578649615,
          481.9640742581396,
          -1182.0998584262197,
          -1535.4326199321295,
          388.68409919556143,
          5745.107100598696,
          -4363.854763416595,
          -5504.892899401304,
          -5478.146646639863,
          2275.838096389285,
          -6492.046896595035,
          -16535.598183065587,
          -5294.115454497434,
          -2402.189324123705,
          1162.3258000967835,
          -4430.584905013857,
          -4213.854763416595,
          1027.794564712116,
          4040.280465493088,
          2873.7695384868857,
          -4390.50860969373,
          18420.935021022007,
          -2238.7996620743725,
          6056.705525204197,
          -2807.791864038765,
          1230.4693421350385,
          -23805.698783328757,
          15420.935021022007,
          -1134.0782570297306,
          -10538.870611499005,
          -2752.4661263687194,
          -342.0468965950349,
          -13924.34357393335,
          120.93502102200728,
          -5754.064460764443,
          2236.892343538173,
          3096.703466896226,
          -4401.580699494516,
          -784.0275288943667,
          1724.046340731904,
          -2794.3922567424524,
          4592.484938206253,
          5783.645109017518,
          -14583.405195693813,
          286.14523658340477,
          -4572.616265448545,
          -1038.7996620743725,
          2193.315344941315,
          -609.7195345069122,
          17725.86380851559,
          10439.791308175634,
          567.6233393287621,
          -7423.29583950236,
          6061.477140170646,
          7415.695668860615,
          -2802.3280655560593,
          9075.70218157852,
          -2838.7996620743725,
          -4563.384458706845,
          4523.769538486886,
          -15175.565960737214,
          -3370.084262354998,
          3023.7695384868857,
          -3719.5306578649615,
          -2958.6123255268394,
          -14408.194976157421,
          30.46934213503846,
          903.3153449413148,
          -1521.4583283331121,
          2484.2175661152505,
          2074.323142976922,
          -1715.7824338847495,
          -7943.838652252416,
          -14481.73041057054,
          775.4303519569949,
          -2388.7996620743725,
          -2088.7996620743725,
          -4274.136191484409,
          -6056.684655058685,
          -1382.376660671238,
          -11781.332011968618,
          -1399.0593127530883,
          3598.631137364373,
          -2669.5306578649615,
          -2584.0275288943667,
          -9279.200893788751,
          11.200337925627537,
          -4324.161903610715,
          1604.233677279437,
          4294.55349610866,
          -617.7389022075731,
          64.3761048081069
         ],
         "yaxis": "y"
        }
       ],
       "layout": {
        "legend": {
         "tracegroupgap": 0
        },
        "margin": {
         "t": 60
        },
        "template": {
         "data": {
          "bar": [
           {
            "error_x": {
             "color": "#2a3f5f"
            },
            "error_y": {
             "color": "#2a3f5f"
            },
            "marker": {
             "line": {
              "color": "#E5ECF6",
              "width": 0.5
             }
            },
            "type": "bar"
           }
          ],
          "barpolar": [
           {
            "marker": {
             "line": {
              "color": "#E5ECF6",
              "width": 0.5
             }
            },
            "type": "barpolar"
           }
          ],
          "carpet": [
           {
            "aaxis": {
             "endlinecolor": "#2a3f5f",
             "gridcolor": "white",
             "linecolor": "white",
             "minorgridcolor": "white",
             "startlinecolor": "#2a3f5f"
            },
            "baxis": {
             "endlinecolor": "#2a3f5f",
             "gridcolor": "white",
             "linecolor": "white",
             "minorgridcolor": "white",
             "startlinecolor": "#2a3f5f"
            },
            "type": "carpet"
           }
          ],
          "choropleth": [
           {
            "colorbar": {
             "outlinewidth": 0,
             "ticks": ""
            },
            "type": "choropleth"
           }
          ],
          "contour": [
           {
            "colorbar": {
             "outlinewidth": 0,
             "ticks": ""
            },
            "colorscale": [
             [
              0,
              "#0d0887"
             ],
             [
              0.1111111111111111,
              "#46039f"
             ],
             [
              0.2222222222222222,
              "#7201a8"
             ],
             [
              0.3333333333333333,
              "#9c179e"
             ],
             [
              0.4444444444444444,
              "#bd3786"
             ],
             [
              0.5555555555555556,
              "#d8576b"
             ],
             [
              0.6666666666666666,
              "#ed7953"
             ],
             [
              0.7777777777777778,
              "#fb9f3a"
             ],
             [
              0.8888888888888888,
              "#fdca26"
             ],
             [
              1,
              "#f0f921"
             ]
            ],
            "type": "contour"
           }
          ],
          "contourcarpet": [
           {
            "colorbar": {
             "outlinewidth": 0,
             "ticks": ""
            },
            "type": "contourcarpet"
           }
          ],
          "heatmap": [
           {
            "colorbar": {
             "outlinewidth": 0,
             "ticks": ""
            },
            "colorscale": [
             [
              0,
              "#0d0887"
             ],
             [
              0.1111111111111111,
              "#46039f"
             ],
             [
              0.2222222222222222,
              "#7201a8"
             ],
             [
              0.3333333333333333,
              "#9c179e"
             ],
             [
              0.4444444444444444,
              "#bd3786"
             ],
             [
              0.5555555555555556,
              "#d8576b"
             ],
             [
              0.6666666666666666,
              "#ed7953"
             ],
             [
              0.7777777777777778,
              "#fb9f3a"
             ],
             [
              0.8888888888888888,
              "#fdca26"
             ],
             [
              1,
              "#f0f921"
             ]
            ],
            "type": "heatmap"
           }
          ],
          "heatmapgl": [
           {
            "colorbar": {
             "outlinewidth": 0,
             "ticks": ""
            },
            "colorscale": [
             [
              0,
              "#0d0887"
             ],
             [
              0.1111111111111111,
              "#46039f"
             ],
             [
              0.2222222222222222,
              "#7201a8"
             ],
             [
              0.3333333333333333,
              "#9c179e"
             ],
             [
              0.4444444444444444,
              "#bd3786"
             ],
             [
              0.5555555555555556,
              "#d8576b"
             ],
             [
              0.6666666666666666,
              "#ed7953"
             ],
             [
              0.7777777777777778,
              "#fb9f3a"
             ],
             [
              0.8888888888888888,
              "#fdca26"
             ],
             [
              1,
              "#f0f921"
             ]
            ],
            "type": "heatmapgl"
           }
          ],
          "histogram": [
           {
            "marker": {
             "colorbar": {
              "outlinewidth": 0,
              "ticks": ""
             }
            },
            "type": "histogram"
           }
          ],
          "histogram2d": [
           {
            "colorbar": {
             "outlinewidth": 0,
             "ticks": ""
            },
            "colorscale": [
             [
              0,
              "#0d0887"
             ],
             [
              0.1111111111111111,
              "#46039f"
             ],
             [
              0.2222222222222222,
              "#7201a8"
             ],
             [
              0.3333333333333333,
              "#9c179e"
             ],
             [
              0.4444444444444444,
              "#bd3786"
             ],
             [
              0.5555555555555556,
              "#d8576b"
             ],
             [
              0.6666666666666666,
              "#ed7953"
             ],
             [
              0.7777777777777778,
              "#fb9f3a"
             ],
             [
              0.8888888888888888,
              "#fdca26"
             ],
             [
              1,
              "#f0f921"
             ]
            ],
            "type": "histogram2d"
           }
          ],
          "histogram2dcontour": [
           {
            "colorbar": {
             "outlinewidth": 0,
             "ticks": ""
            },
            "colorscale": [
             [
              0,
              "#0d0887"
             ],
             [
              0.1111111111111111,
              "#46039f"
             ],
             [
              0.2222222222222222,
              "#7201a8"
             ],
             [
              0.3333333333333333,
              "#9c179e"
             ],
             [
              0.4444444444444444,
              "#bd3786"
             ],
             [
              0.5555555555555556,
              "#d8576b"
             ],
             [
              0.6666666666666666,
              "#ed7953"
             ],
             [
              0.7777777777777778,
              "#fb9f3a"
             ],
             [
              0.8888888888888888,
              "#fdca26"
             ],
             [
              1,
              "#f0f921"
             ]
            ],
            "type": "histogram2dcontour"
           }
          ],
          "mesh3d": [
           {
            "colorbar": {
             "outlinewidth": 0,
             "ticks": ""
            },
            "type": "mesh3d"
           }
          ],
          "parcoords": [
           {
            "line": {
             "colorbar": {
              "outlinewidth": 0,
              "ticks": ""
             }
            },
            "type": "parcoords"
           }
          ],
          "pie": [
           {
            "automargin": true,
            "type": "pie"
           }
          ],
          "scatter": [
           {
            "marker": {
             "colorbar": {
              "outlinewidth": 0,
              "ticks": ""
             }
            },
            "type": "scatter"
           }
          ],
          "scatter3d": [
           {
            "line": {
             "colorbar": {
              "outlinewidth": 0,
              "ticks": ""
             }
            },
            "marker": {
             "colorbar": {
              "outlinewidth": 0,
              "ticks": ""
             }
            },
            "type": "scatter3d"
           }
          ],
          "scattercarpet": [
           {
            "marker": {
             "colorbar": {
              "outlinewidth": 0,
              "ticks": ""
             }
            },
            "type": "scattercarpet"
           }
          ],
          "scattergeo": [
           {
            "marker": {
             "colorbar": {
              "outlinewidth": 0,
              "ticks": ""
             }
            },
            "type": "scattergeo"
           }
          ],
          "scattergl": [
           {
            "marker": {
             "colorbar": {
              "outlinewidth": 0,
              "ticks": ""
             }
            },
            "type": "scattergl"
           }
          ],
          "scattermapbox": [
           {
            "marker": {
             "colorbar": {
              "outlinewidth": 0,
              "ticks": ""
             }
            },
            "type": "scattermapbox"
           }
          ],
          "scatterpolar": [
           {
            "marker": {
             "colorbar": {
              "outlinewidth": 0,
              "ticks": ""
             }
            },
            "type": "scatterpolar"
           }
          ],
          "scatterpolargl": [
           {
            "marker": {
             "colorbar": {
              "outlinewidth": 0,
              "ticks": ""
             }
            },
            "type": "scatterpolargl"
           }
          ],
          "scatterternary": [
           {
            "marker": {
             "colorbar": {
              "outlinewidth": 0,
              "ticks": ""
             }
            },
            "type": "scatterternary"
           }
          ],
          "surface": [
           {
            "colorbar": {
             "outlinewidth": 0,
             "ticks": ""
            },
            "colorscale": [
             [
              0,
              "#0d0887"
             ],
             [
              0.1111111111111111,
              "#46039f"
             ],
             [
              0.2222222222222222,
              "#7201a8"
             ],
             [
              0.3333333333333333,
              "#9c179e"
             ],
             [
              0.4444444444444444,
              "#bd3786"
             ],
             [
              0.5555555555555556,
              "#d8576b"
             ],
             [
              0.6666666666666666,
              "#ed7953"
             ],
             [
              0.7777777777777778,
              "#fb9f3a"
             ],
             [
              0.8888888888888888,
              "#fdca26"
             ],
             [
              1,
              "#f0f921"
             ]
            ],
            "type": "surface"
           }
          ],
          "table": [
           {
            "cells": {
             "fill": {
              "color": "#EBF0F8"
             },
             "line": {
              "color": "white"
             }
            },
            "header": {
             "fill": {
              "color": "#C8D4E3"
             },
             "line": {
              "color": "white"
             }
            },
            "type": "table"
           }
          ]
         },
         "layout": {
          "annotationdefaults": {
           "arrowcolor": "#2a3f5f",
           "arrowhead": 0,
           "arrowwidth": 1
          },
          "autotypenumbers": "strict",
          "coloraxis": {
           "colorbar": {
            "outlinewidth": 0,
            "ticks": ""
           }
          },
          "colorscale": {
           "diverging": [
            [
             0,
             "#8e0152"
            ],
            [
             0.1,
             "#c51b7d"
            ],
            [
             0.2,
             "#de77ae"
            ],
            [
             0.3,
             "#f1b6da"
            ],
            [
             0.4,
             "#fde0ef"
            ],
            [
             0.5,
             "#f7f7f7"
            ],
            [
             0.6,
             "#e6f5d0"
            ],
            [
             0.7,
             "#b8e186"
            ],
            [
             0.8,
             "#7fbc41"
            ],
            [
             0.9,
             "#4d9221"
            ],
            [
             1,
             "#276419"
            ]
           ],
           "sequential": [
            [
             0,
             "#0d0887"
            ],
            [
             0.1111111111111111,
             "#46039f"
            ],
            [
             0.2222222222222222,
             "#7201a8"
            ],
            [
             0.3333333333333333,
             "#9c179e"
            ],
            [
             0.4444444444444444,
             "#bd3786"
            ],
            [
             0.5555555555555556,
             "#d8576b"
            ],
            [
             0.6666666666666666,
             "#ed7953"
            ],
            [
             0.7777777777777778,
             "#fb9f3a"
            ],
            [
             0.8888888888888888,
             "#fdca26"
            ],
            [
             1,
             "#f0f921"
            ]
           ],
           "sequentialminus": [
            [
             0,
             "#0d0887"
            ],
            [
             0.1111111111111111,
             "#46039f"
            ],
            [
             0.2222222222222222,
             "#7201a8"
            ],
            [
             0.3333333333333333,
             "#9c179e"
            ],
            [
             0.4444444444444444,
             "#bd3786"
            ],
            [
             0.5555555555555556,
             "#d8576b"
            ],
            [
             0.6666666666666666,
             "#ed7953"
            ],
            [
             0.7777777777777778,
             "#fb9f3a"
            ],
            [
             0.8888888888888888,
             "#fdca26"
            ],
            [
             1,
             "#f0f921"
            ]
           ]
          },
          "colorway": [
           "#636efa",
           "#EF553B",
           "#00cc96",
           "#ab63fa",
           "#FFA15A",
           "#19d3f3",
           "#FF6692",
           "#B6E880",
           "#FF97FF",
           "#FECB52"
          ],
          "font": {
           "color": "#2a3f5f"
          },
          "geo": {
           "bgcolor": "white",
           "lakecolor": "white",
           "landcolor": "#E5ECF6",
           "showlakes": true,
           "showland": true,
           "subunitcolor": "white"
          },
          "hoverlabel": {
           "align": "left"
          },
          "hovermode": "closest",
          "mapbox": {
           "style": "light"
          },
          "paper_bgcolor": "white",
          "plot_bgcolor": "#E5ECF6",
          "polar": {
           "angularaxis": {
            "gridcolor": "white",
            "linecolor": "white",
            "ticks": ""
           },
           "bgcolor": "#E5ECF6",
           "radialaxis": {
            "gridcolor": "white",
            "linecolor": "white",
            "ticks": ""
           }
          },
          "scene": {
           "xaxis": {
            "backgroundcolor": "#E5ECF6",
            "gridcolor": "white",
            "gridwidth": 2,
            "linecolor": "white",
            "showbackground": true,
            "ticks": "",
            "zerolinecolor": "white"
           },
           "yaxis": {
            "backgroundcolor": "#E5ECF6",
            "gridcolor": "white",
            "gridwidth": 2,
            "linecolor": "white",
            "showbackground": true,
            "ticks": "",
            "zerolinecolor": "white"
           },
           "zaxis": {
            "backgroundcolor": "#E5ECF6",
            "gridcolor": "white",
            "gridwidth": 2,
            "linecolor": "white",
            "showbackground": true,
            "ticks": "",
            "zerolinecolor": "white"
           }
          },
          "shapedefaults": {
           "line": {
            "color": "#2a3f5f"
           }
          },
          "ternary": {
           "aaxis": {
            "gridcolor": "white",
            "linecolor": "white",
            "ticks": ""
           },
           "baxis": {
            "gridcolor": "white",
            "linecolor": "white",
            "ticks": ""
           },
           "bgcolor": "#E5ECF6",
           "caxis": {
            "gridcolor": "white",
            "linecolor": "white",
            "ticks": ""
           }
          },
          "title": {
           "x": 0.05
          },
          "xaxis": {
           "automargin": true,
           "gridcolor": "white",
           "linecolor": "white",
           "ticks": "",
           "title": {
            "standoff": 15
           },
           "zerolinecolor": "white",
           "zerolinewidth": 2
          },
          "yaxis": {
           "automargin": true,
           "gridcolor": "white",
           "linecolor": "white",
           "ticks": "",
           "title": {
            "standoff": 15
           },
           "zerolinecolor": "white",
           "zerolinewidth": 2
          }
         }
        },
        "xaxis": {
         "anchor": "y",
         "domain": [
          0,
          1
         ],
         "title": {
          "text": "x"
         }
        },
        "yaxis": {
         "anchor": "x",
         "domain": [
          0,
          1
         ],
         "title": {
          "text": "y"
         }
        }
       }
      }
     },
     "metadata": {}
    }
   ],
   "source": [
    "plx.scatter(x = predictions, y = y_test - predictions)"
   ]
  },
  {
   "cell_type": "code",
   "execution_count": 11,
   "metadata": {},
   "outputs": [
    {
     "output_type": "display_data",
     "data": {
      "application/vnd.plotly.v1+json": {
       "config": {
        "plotlyServerURL": "https://plot.ly"
       },
       "data": [
        {
         "alignmentgroup": "True",
         "bingroup": "x",
         "hovertemplate": "x=%{x}<br>count=%{y}<extra></extra>",
         "legendgroup": "",
         "marker": {
          "color": "#636efa"
         },
         "name": "",
         "offsetgroup": "",
         "orientation": "v",
         "showlegend": false,
         "type": "histogram",
         "x": [
          -3763.8547634165952,
          -172.20543528788403,
          705.8845455025657,
          -172.20543528788403,
          4734.1342663349715,
          2583.7810238282837,
          -1680.7208198246153,
          3456.161347747584,
          215.69566886061511,
          11509.27266745748,
          1825.838096389285,
          -1324.161903610715,
          -2579.0649789779927,
          2207.953103404965,
          1948.631137364373,
          -1767.874817018339,
          -18775.88869388195,
          -2226.2304615131143,
          1211.2003379256275,
          7695.107100598696,
          -10715.11870791333,
          6192.208135961235,
          6515.695668860615,
          -4307.791864038765,
          -15448.388825422859,
          5882.125182981661,
          11318.748801499918,
          10017.623339328762,
          -1832.376660671238,
          16146.899374469642,
          -3977.2732233206116,
          -7111.315900804439,
          -4757.791864038765,
          -1256.6846550586852,
          4269.415094986143,
          2492.484938206253,
          -806.6846550586852,
          -1943.838652252416,
          -61.31590080443857,
          -4561.315900804439,
          -2054.892899401304,
          -3863.3748537696956,
          -30360.793133955798,
          -8836.290188678126,
          5256.161347747584,
          1932.2610977924269,
          4189.738346344449,
          -1265.7824338847495,
          10198.147470883967,
          -3913.107656461827,
          -1019.5306578649615,
          630.4693421350385,
          8382.261097792427,
          -15724.161385397158,
          -3736.731104171973,
          7588.684099195561,
          -7798.4698979981695,
          -1517.7389022075731,
          -301.368862635627,
          7293.315344941315,
          4782.261097792427,
          13440.365652168497,
          748.631137364373,
          11.200337925627537,
          2007.676301159947,
          7332.261097792427,
          6945.107100598696,
          -361.31590080443857,
          -1706.6846550586852,
          6568.861490496107,
          -1411.3159008044386,
          -1406.6846550586852,
          -4604.892899401304,
          -5576.497318511152,
          -3917.738902207573,
          -2069.5306578649615,
          7645.243015409462,
          14682.261097792427,
          -462.9698520708116,
          6804.777336522493,
          -5906.684655058685,
          -922.205435287884,
          -4907.791864038765,
          25479.094935847068,
          3898.631137364373,
          -2713.107656461827,
          161.20033792562754,
          5430.4693421350385,
          5043.315344941315,
          4081.707493302383,
          1948.631137364373,
          -5986.731104171973,
          -10261.315900804439,
          -3138.7996620743725,
          -5325.953659268096,
          -438.79966207437246,
          16625.838096389285,
          -138.79966207437246,
          -5219.5306578649615,
          481.9640742581396,
          -1182.0998584262197,
          -1535.4326199321295,
          388.68409919556143,
          5745.107100598696,
          -4363.854763416595,
          -5504.892899401304,
          -5478.146646639863,
          2275.838096389285,
          -6492.046896595035,
          -16535.598183065587,
          -5294.115454497434,
          -2402.189324123705,
          1162.3258000967835,
          -4430.584905013857,
          -4213.854763416595,
          1027.794564712116,
          4040.280465493088,
          2873.7695384868857,
          -4390.50860969373,
          18420.935021022007,
          -2238.7996620743725,
          6056.705525204197,
          -2807.791864038765,
          1230.4693421350385,
          -23805.698783328757,
          15420.935021022007,
          -1134.0782570297306,
          -10538.870611499005,
          -2752.4661263687194,
          -342.0468965950349,
          -13924.34357393335,
          120.93502102200728,
          -5754.064460764443,
          2236.892343538173,
          3096.703466896226,
          -4401.580699494516,
          -784.0275288943667,
          1724.046340731904,
          -2794.3922567424524,
          4592.484938206253,
          5783.645109017518,
          -14583.405195693813,
          286.14523658340477,
          -4572.616265448545,
          -1038.7996620743725,
          2193.315344941315,
          -609.7195345069122,
          17725.86380851559,
          10439.791308175634,
          567.6233393287621,
          -7423.29583950236,
          6061.477140170646,
          7415.695668860615,
          -2802.3280655560593,
          9075.70218157852,
          -2838.7996620743725,
          -4563.384458706845,
          4523.769538486886,
          -15175.565960737214,
          -3370.084262354998,
          3023.7695384868857,
          -3719.5306578649615,
          -2958.6123255268394,
          -14408.194976157421,
          30.46934213503846,
          903.3153449413148,
          -1521.4583283331121,
          2484.2175661152505,
          2074.323142976922,
          -1715.7824338847495,
          -7943.838652252416,
          -14481.73041057054,
          775.4303519569949,
          -2388.7996620743725,
          -2088.7996620743725,
          -4274.136191484409,
          -6056.684655058685,
          -1382.376660671238,
          -11781.332011968618,
          -1399.0593127530883,
          3598.631137364373,
          -2669.5306578649615,
          -2584.0275288943667,
          -9279.200893788751,
          11.200337925627537,
          -4324.161903610715,
          1604.233677279437,
          4294.55349610866,
          -617.7389022075731,
          64.3761048081069
         ],
         "xaxis": "x",
         "yaxis": "y"
        }
       ],
       "layout": {
        "barmode": "relative",
        "legend": {
         "tracegroupgap": 0
        },
        "margin": {
         "t": 60
        },
        "template": {
         "data": {
          "bar": [
           {
            "error_x": {
             "color": "#2a3f5f"
            },
            "error_y": {
             "color": "#2a3f5f"
            },
            "marker": {
             "line": {
              "color": "#E5ECF6",
              "width": 0.5
             }
            },
            "type": "bar"
           }
          ],
          "barpolar": [
           {
            "marker": {
             "line": {
              "color": "#E5ECF6",
              "width": 0.5
             }
            },
            "type": "barpolar"
           }
          ],
          "carpet": [
           {
            "aaxis": {
             "endlinecolor": "#2a3f5f",
             "gridcolor": "white",
             "linecolor": "white",
             "minorgridcolor": "white",
             "startlinecolor": "#2a3f5f"
            },
            "baxis": {
             "endlinecolor": "#2a3f5f",
             "gridcolor": "white",
             "linecolor": "white",
             "minorgridcolor": "white",
             "startlinecolor": "#2a3f5f"
            },
            "type": "carpet"
           }
          ],
          "choropleth": [
           {
            "colorbar": {
             "outlinewidth": 0,
             "ticks": ""
            },
            "type": "choropleth"
           }
          ],
          "contour": [
           {
            "colorbar": {
             "outlinewidth": 0,
             "ticks": ""
            },
            "colorscale": [
             [
              0,
              "#0d0887"
             ],
             [
              0.1111111111111111,
              "#46039f"
             ],
             [
              0.2222222222222222,
              "#7201a8"
             ],
             [
              0.3333333333333333,
              "#9c179e"
             ],
             [
              0.4444444444444444,
              "#bd3786"
             ],
             [
              0.5555555555555556,
              "#d8576b"
             ],
             [
              0.6666666666666666,
              "#ed7953"
             ],
             [
              0.7777777777777778,
              "#fb9f3a"
             ],
             [
              0.8888888888888888,
              "#fdca26"
             ],
             [
              1,
              "#f0f921"
             ]
            ],
            "type": "contour"
           }
          ],
          "contourcarpet": [
           {
            "colorbar": {
             "outlinewidth": 0,
             "ticks": ""
            },
            "type": "contourcarpet"
           }
          ],
          "heatmap": [
           {
            "colorbar": {
             "outlinewidth": 0,
             "ticks": ""
            },
            "colorscale": [
             [
              0,
              "#0d0887"
             ],
             [
              0.1111111111111111,
              "#46039f"
             ],
             [
              0.2222222222222222,
              "#7201a8"
             ],
             [
              0.3333333333333333,
              "#9c179e"
             ],
             [
              0.4444444444444444,
              "#bd3786"
             ],
             [
              0.5555555555555556,
              "#d8576b"
             ],
             [
              0.6666666666666666,
              "#ed7953"
             ],
             [
              0.7777777777777778,
              "#fb9f3a"
             ],
             [
              0.8888888888888888,
              "#fdca26"
             ],
             [
              1,
              "#f0f921"
             ]
            ],
            "type": "heatmap"
           }
          ],
          "heatmapgl": [
           {
            "colorbar": {
             "outlinewidth": 0,
             "ticks": ""
            },
            "colorscale": [
             [
              0,
              "#0d0887"
             ],
             [
              0.1111111111111111,
              "#46039f"
             ],
             [
              0.2222222222222222,
              "#7201a8"
             ],
             [
              0.3333333333333333,
              "#9c179e"
             ],
             [
              0.4444444444444444,
              "#bd3786"
             ],
             [
              0.5555555555555556,
              "#d8576b"
             ],
             [
              0.6666666666666666,
              "#ed7953"
             ],
             [
              0.7777777777777778,
              "#fb9f3a"
             ],
             [
              0.8888888888888888,
              "#fdca26"
             ],
             [
              1,
              "#f0f921"
             ]
            ],
            "type": "heatmapgl"
           }
          ],
          "histogram": [
           {
            "marker": {
             "colorbar": {
              "outlinewidth": 0,
              "ticks": ""
             }
            },
            "type": "histogram"
           }
          ],
          "histogram2d": [
           {
            "colorbar": {
             "outlinewidth": 0,
             "ticks": ""
            },
            "colorscale": [
             [
              0,
              "#0d0887"
             ],
             [
              0.1111111111111111,
              "#46039f"
             ],
             [
              0.2222222222222222,
              "#7201a8"
             ],
             [
              0.3333333333333333,
              "#9c179e"
             ],
             [
              0.4444444444444444,
              "#bd3786"
             ],
             [
              0.5555555555555556,
              "#d8576b"
             ],
             [
              0.6666666666666666,
              "#ed7953"
             ],
             [
              0.7777777777777778,
              "#fb9f3a"
             ],
             [
              0.8888888888888888,
              "#fdca26"
             ],
             [
              1,
              "#f0f921"
             ]
            ],
            "type": "histogram2d"
           }
          ],
          "histogram2dcontour": [
           {
            "colorbar": {
             "outlinewidth": 0,
             "ticks": ""
            },
            "colorscale": [
             [
              0,
              "#0d0887"
             ],
             [
              0.1111111111111111,
              "#46039f"
             ],
             [
              0.2222222222222222,
              "#7201a8"
             ],
             [
              0.3333333333333333,
              "#9c179e"
             ],
             [
              0.4444444444444444,
              "#bd3786"
             ],
             [
              0.5555555555555556,
              "#d8576b"
             ],
             [
              0.6666666666666666,
              "#ed7953"
             ],
             [
              0.7777777777777778,
              "#fb9f3a"
             ],
             [
              0.8888888888888888,
              "#fdca26"
             ],
             [
              1,
              "#f0f921"
             ]
            ],
            "type": "histogram2dcontour"
           }
          ],
          "mesh3d": [
           {
            "colorbar": {
             "outlinewidth": 0,
             "ticks": ""
            },
            "type": "mesh3d"
           }
          ],
          "parcoords": [
           {
            "line": {
             "colorbar": {
              "outlinewidth": 0,
              "ticks": ""
             }
            },
            "type": "parcoords"
           }
          ],
          "pie": [
           {
            "automargin": true,
            "type": "pie"
           }
          ],
          "scatter": [
           {
            "marker": {
             "colorbar": {
              "outlinewidth": 0,
              "ticks": ""
             }
            },
            "type": "scatter"
           }
          ],
          "scatter3d": [
           {
            "line": {
             "colorbar": {
              "outlinewidth": 0,
              "ticks": ""
             }
            },
            "marker": {
             "colorbar": {
              "outlinewidth": 0,
              "ticks": ""
             }
            },
            "type": "scatter3d"
           }
          ],
          "scattercarpet": [
           {
            "marker": {
             "colorbar": {
              "outlinewidth": 0,
              "ticks": ""
             }
            },
            "type": "scattercarpet"
           }
          ],
          "scattergeo": [
           {
            "marker": {
             "colorbar": {
              "outlinewidth": 0,
              "ticks": ""
             }
            },
            "type": "scattergeo"
           }
          ],
          "scattergl": [
           {
            "marker": {
             "colorbar": {
              "outlinewidth": 0,
              "ticks": ""
             }
            },
            "type": "scattergl"
           }
          ],
          "scattermapbox": [
           {
            "marker": {
             "colorbar": {
              "outlinewidth": 0,
              "ticks": ""
             }
            },
            "type": "scattermapbox"
           }
          ],
          "scatterpolar": [
           {
            "marker": {
             "colorbar": {
              "outlinewidth": 0,
              "ticks": ""
             }
            },
            "type": "scatterpolar"
           }
          ],
          "scatterpolargl": [
           {
            "marker": {
             "colorbar": {
              "outlinewidth": 0,
              "ticks": ""
             }
            },
            "type": "scatterpolargl"
           }
          ],
          "scatterternary": [
           {
            "marker": {
             "colorbar": {
              "outlinewidth": 0,
              "ticks": ""
             }
            },
            "type": "scatterternary"
           }
          ],
          "surface": [
           {
            "colorbar": {
             "outlinewidth": 0,
             "ticks": ""
            },
            "colorscale": [
             [
              0,
              "#0d0887"
             ],
             [
              0.1111111111111111,
              "#46039f"
             ],
             [
              0.2222222222222222,
              "#7201a8"
             ],
             [
              0.3333333333333333,
              "#9c179e"
             ],
             [
              0.4444444444444444,
              "#bd3786"
             ],
             [
              0.5555555555555556,
              "#d8576b"
             ],
             [
              0.6666666666666666,
              "#ed7953"
             ],
             [
              0.7777777777777778,
              "#fb9f3a"
             ],
             [
              0.8888888888888888,
              "#fdca26"
             ],
             [
              1,
              "#f0f921"
             ]
            ],
            "type": "surface"
           }
          ],
          "table": [
           {
            "cells": {
             "fill": {
              "color": "#EBF0F8"
             },
             "line": {
              "color": "white"
             }
            },
            "header": {
             "fill": {
              "color": "#C8D4E3"
             },
             "line": {
              "color": "white"
             }
            },
            "type": "table"
           }
          ]
         },
         "layout": {
          "annotationdefaults": {
           "arrowcolor": "#2a3f5f",
           "arrowhead": 0,
           "arrowwidth": 1
          },
          "autotypenumbers": "strict",
          "coloraxis": {
           "colorbar": {
            "outlinewidth": 0,
            "ticks": ""
           }
          },
          "colorscale": {
           "diverging": [
            [
             0,
             "#8e0152"
            ],
            [
             0.1,
             "#c51b7d"
            ],
            [
             0.2,
             "#de77ae"
            ],
            [
             0.3,
             "#f1b6da"
            ],
            [
             0.4,
             "#fde0ef"
            ],
            [
             0.5,
             "#f7f7f7"
            ],
            [
             0.6,
             "#e6f5d0"
            ],
            [
             0.7,
             "#b8e186"
            ],
            [
             0.8,
             "#7fbc41"
            ],
            [
             0.9,
             "#4d9221"
            ],
            [
             1,
             "#276419"
            ]
           ],
           "sequential": [
            [
             0,
             "#0d0887"
            ],
            [
             0.1111111111111111,
             "#46039f"
            ],
            [
             0.2222222222222222,
             "#7201a8"
            ],
            [
             0.3333333333333333,
             "#9c179e"
            ],
            [
             0.4444444444444444,
             "#bd3786"
            ],
            [
             0.5555555555555556,
             "#d8576b"
            ],
            [
             0.6666666666666666,
             "#ed7953"
            ],
            [
             0.7777777777777778,
             "#fb9f3a"
            ],
            [
             0.8888888888888888,
             "#fdca26"
            ],
            [
             1,
             "#f0f921"
            ]
           ],
           "sequentialminus": [
            [
             0,
             "#0d0887"
            ],
            [
             0.1111111111111111,
             "#46039f"
            ],
            [
             0.2222222222222222,
             "#7201a8"
            ],
            [
             0.3333333333333333,
             "#9c179e"
            ],
            [
             0.4444444444444444,
             "#bd3786"
            ],
            [
             0.5555555555555556,
             "#d8576b"
            ],
            [
             0.6666666666666666,
             "#ed7953"
            ],
            [
             0.7777777777777778,
             "#fb9f3a"
            ],
            [
             0.8888888888888888,
             "#fdca26"
            ],
            [
             1,
             "#f0f921"
            ]
           ]
          },
          "colorway": [
           "#636efa",
           "#EF553B",
           "#00cc96",
           "#ab63fa",
           "#FFA15A",
           "#19d3f3",
           "#FF6692",
           "#B6E880",
           "#FF97FF",
           "#FECB52"
          ],
          "font": {
           "color": "#2a3f5f"
          },
          "geo": {
           "bgcolor": "white",
           "lakecolor": "white",
           "landcolor": "#E5ECF6",
           "showlakes": true,
           "showland": true,
           "subunitcolor": "white"
          },
          "hoverlabel": {
           "align": "left"
          },
          "hovermode": "closest",
          "mapbox": {
           "style": "light"
          },
          "paper_bgcolor": "white",
          "plot_bgcolor": "#E5ECF6",
          "polar": {
           "angularaxis": {
            "gridcolor": "white",
            "linecolor": "white",
            "ticks": ""
           },
           "bgcolor": "#E5ECF6",
           "radialaxis": {
            "gridcolor": "white",
            "linecolor": "white",
            "ticks": ""
           }
          },
          "scene": {
           "xaxis": {
            "backgroundcolor": "#E5ECF6",
            "gridcolor": "white",
            "gridwidth": 2,
            "linecolor": "white",
            "showbackground": true,
            "ticks": "",
            "zerolinecolor": "white"
           },
           "yaxis": {
            "backgroundcolor": "#E5ECF6",
            "gridcolor": "white",
            "gridwidth": 2,
            "linecolor": "white",
            "showbackground": true,
            "ticks": "",
            "zerolinecolor": "white"
           },
           "zaxis": {
            "backgroundcolor": "#E5ECF6",
            "gridcolor": "white",
            "gridwidth": 2,
            "linecolor": "white",
            "showbackground": true,
            "ticks": "",
            "zerolinecolor": "white"
           }
          },
          "shapedefaults": {
           "line": {
            "color": "#2a3f5f"
           }
          },
          "ternary": {
           "aaxis": {
            "gridcolor": "white",
            "linecolor": "white",
            "ticks": ""
           },
           "baxis": {
            "gridcolor": "white",
            "linecolor": "white",
            "ticks": ""
           },
           "bgcolor": "#E5ECF6",
           "caxis": {
            "gridcolor": "white",
            "linecolor": "white",
            "ticks": ""
           }
          },
          "title": {
           "x": 0.05
          },
          "xaxis": {
           "automargin": true,
           "gridcolor": "white",
           "linecolor": "white",
           "ticks": "",
           "title": {
            "standoff": 15
           },
           "zerolinecolor": "white",
           "zerolinewidth": 2
          },
          "yaxis": {
           "automargin": true,
           "gridcolor": "white",
           "linecolor": "white",
           "ticks": "",
           "title": {
            "standoff": 15
           },
           "zerolinecolor": "white",
           "zerolinewidth": 2
          }
         }
        },
        "xaxis": {
         "anchor": "y",
         "domain": [
          0,
          1
         ],
         "title": {
          "text": "x"
         }
        },
        "yaxis": {
         "anchor": "x",
         "domain": [
          0,
          1
         ],
         "title": {
          "text": "count"
         }
        }
       }
      }
     },
     "metadata": {}
    }
   ],
   "source": [
    "plx.histogram(x = y_test-predictions)"
   ]
  },
  {
   "cell_type": "code",
   "execution_count": 12,
   "metadata": {},
   "outputs": [
    {
     "output_type": "display_data",
     "data": {
      "text/plain": "<Figure size 432x288 with 1 Axes>",
      "image/svg+xml": "<?xml version=\"1.0\" encoding=\"utf-8\" standalone=\"no\"?>\n<!DOCTYPE svg PUBLIC \"-//W3C//DTD SVG 1.1//EN\"\n  \"http://www.w3.org/Graphics/SVG/1.1/DTD/svg11.dtd\">\n<svg height=\"277.314375pt\" version=\"1.1\" viewBox=\"0 0 410.070312 277.314375\" width=\"410.070312pt\" xmlns=\"http://www.w3.org/2000/svg\" xmlns:xlink=\"http://www.w3.org/1999/xlink\">\n <metadata>\n  <rdf:RDF xmlns:cc=\"http://creativecommons.org/ns#\" xmlns:dc=\"http://purl.org/dc/elements/1.1/\" xmlns:rdf=\"http://www.w3.org/1999/02/22-rdf-syntax-ns#\">\n   <cc:Work>\n    <dc:type rdf:resource=\"http://purl.org/dc/dcmitype/StillImage\"/>\n    <dc:date>2021-06-02T23:45:57.416342</dc:date>\n    <dc:format>image/svg+xml</dc:format>\n    <dc:creator>\n     <cc:Agent>\n      <dc:title>Matplotlib v3.4.2, https://matplotlib.org/</dc:title>\n     </cc:Agent>\n    </dc:creator>\n   </cc:Work>\n  </rdf:RDF>\n </metadata>\n <defs>\n  <style type=\"text/css\">*{stroke-linecap:butt;stroke-linejoin:round;}</style>\n </defs>\n <g id=\"figure_1\">\n  <g id=\"patch_1\">\n   <path d=\"M 0 277.314375 \nL 410.070312 277.314375 \nL 410.070312 0 \nL 0 0 \nz\n\" style=\"fill:none;\"/>\n  </g>\n  <g id=\"axes_1\">\n   <g id=\"patch_2\">\n    <path d=\"M 68.070312 239.758125 \nL 402.870313 239.758125 \nL 402.870313 22.318125 \nL 68.070312 22.318125 \nz\n\" style=\"fill:#ffffff;\"/>\n   </g>\n   <g id=\"matplotlib.axis_1\">\n    <g id=\"xtick_1\">\n     <g id=\"line2d_1\">\n      <defs>\n       <path d=\"M 0 0 \nL 0 3.5 \n\" id=\"mfc2df561a4\" style=\"stroke:#000000;stroke-width:0.8;\"/>\n      </defs>\n      <g>\n       <use style=\"stroke:#000000;stroke-width:0.8;\" x=\"122.054967\" xlink:href=\"#mfc2df561a4\" y=\"239.758125\"/>\n      </g>\n     </g>\n     <g id=\"text_1\">\n      <!-- −2 -->\n      <g transform=\"translate(114.683874 254.356562)scale(0.1 -0.1)\">\n       <defs>\n        <path d=\"M 678 2272 \nL 4684 2272 \nL 4684 1741 \nL 678 1741 \nL 678 2272 \nz\n\" id=\"DejaVuSans-2212\" transform=\"scale(0.015625)\"/>\n        <path d=\"M 1228 531 \nL 3431 531 \nL 3431 0 \nL 469 0 \nL 469 531 \nQ 828 903 1448 1529 \nQ 2069 2156 2228 2338 \nQ 2531 2678 2651 2914 \nQ 2772 3150 2772 3378 \nQ 2772 3750 2511 3984 \nQ 2250 4219 1831 4219 \nQ 1534 4219 1204 4116 \nQ 875 4013 500 3803 \nL 500 4441 \nQ 881 4594 1212 4672 \nQ 1544 4750 1819 4750 \nQ 2544 4750 2975 4387 \nQ 3406 4025 3406 3419 \nQ 3406 3131 3298 2873 \nQ 3191 2616 2906 2266 \nQ 2828 2175 2409 1742 \nQ 1991 1309 1228 531 \nz\n\" id=\"DejaVuSans-32\" transform=\"scale(0.015625)\"/>\n       </defs>\n       <use xlink:href=\"#DejaVuSans-2212\"/>\n       <use x=\"83.789062\" xlink:href=\"#DejaVuSans-32\"/>\n      </g>\n     </g>\n    </g>\n    <g id=\"xtick_2\">\n     <g id=\"line2d_2\">\n      <g>\n       <use style=\"stroke:#000000;stroke-width:0.8;\" x=\"178.76264\" xlink:href=\"#mfc2df561a4\" y=\"239.758125\"/>\n      </g>\n     </g>\n     <g id=\"text_2\">\n      <!-- −1 -->\n      <g transform=\"translate(171.391546 254.356562)scale(0.1 -0.1)\">\n       <defs>\n        <path d=\"M 794 531 \nL 1825 531 \nL 1825 4091 \nL 703 3866 \nL 703 4441 \nL 1819 4666 \nL 2450 4666 \nL 2450 531 \nL 3481 531 \nL 3481 0 \nL 794 0 \nL 794 531 \nz\n\" id=\"DejaVuSans-31\" transform=\"scale(0.015625)\"/>\n       </defs>\n       <use xlink:href=\"#DejaVuSans-2212\"/>\n       <use x=\"83.789062\" xlink:href=\"#DejaVuSans-31\"/>\n      </g>\n     </g>\n    </g>\n    <g id=\"xtick_3\">\n     <g id=\"line2d_3\">\n      <g>\n       <use style=\"stroke:#000000;stroke-width:0.8;\" x=\"235.470313\" xlink:href=\"#mfc2df561a4\" y=\"239.758125\"/>\n      </g>\n     </g>\n     <g id=\"text_3\">\n      <!-- 0 -->\n      <g transform=\"translate(232.289062 254.356562)scale(0.1 -0.1)\">\n       <defs>\n        <path d=\"M 2034 4250 \nQ 1547 4250 1301 3770 \nQ 1056 3291 1056 2328 \nQ 1056 1369 1301 889 \nQ 1547 409 2034 409 \nQ 2525 409 2770 889 \nQ 3016 1369 3016 2328 \nQ 3016 3291 2770 3770 \nQ 2525 4250 2034 4250 \nz\nM 2034 4750 \nQ 2819 4750 3233 4129 \nQ 3647 3509 3647 2328 \nQ 3647 1150 3233 529 \nQ 2819 -91 2034 -91 \nQ 1250 -91 836 529 \nQ 422 1150 422 2328 \nQ 422 3509 836 4129 \nQ 1250 4750 2034 4750 \nz\n\" id=\"DejaVuSans-30\" transform=\"scale(0.015625)\"/>\n       </defs>\n       <use xlink:href=\"#DejaVuSans-30\"/>\n      </g>\n     </g>\n    </g>\n    <g id=\"xtick_4\">\n     <g id=\"line2d_4\">\n      <g>\n       <use style=\"stroke:#000000;stroke-width:0.8;\" x=\"292.177985\" xlink:href=\"#mfc2df561a4\" y=\"239.758125\"/>\n      </g>\n     </g>\n     <g id=\"text_4\">\n      <!-- 1 -->\n      <g transform=\"translate(288.996735 254.356562)scale(0.1 -0.1)\">\n       <use xlink:href=\"#DejaVuSans-31\"/>\n      </g>\n     </g>\n    </g>\n    <g id=\"xtick_5\">\n     <g id=\"line2d_5\">\n      <g>\n       <use style=\"stroke:#000000;stroke-width:0.8;\" x=\"348.885658\" xlink:href=\"#mfc2df561a4\" y=\"239.758125\"/>\n      </g>\n     </g>\n     <g id=\"text_5\">\n      <!-- 2 -->\n      <g transform=\"translate(345.704408 254.356562)scale(0.1 -0.1)\">\n       <use xlink:href=\"#DejaVuSans-32\"/>\n      </g>\n     </g>\n    </g>\n    <g id=\"text_6\">\n     <!-- Theoretical quantiles -->\n     <g transform=\"translate(182.95625 268.034687)scale(0.1 -0.1)\">\n      <defs>\n       <path d=\"M -19 4666 \nL 3928 4666 \nL 3928 4134 \nL 2272 4134 \nL 2272 0 \nL 1638 0 \nL 1638 4134 \nL -19 4134 \nL -19 4666 \nz\n\" id=\"DejaVuSans-54\" transform=\"scale(0.015625)\"/>\n       <path d=\"M 3513 2113 \nL 3513 0 \nL 2938 0 \nL 2938 2094 \nQ 2938 2591 2744 2837 \nQ 2550 3084 2163 3084 \nQ 1697 3084 1428 2787 \nQ 1159 2491 1159 1978 \nL 1159 0 \nL 581 0 \nL 581 4863 \nL 1159 4863 \nL 1159 2956 \nQ 1366 3272 1645 3428 \nQ 1925 3584 2291 3584 \nQ 2894 3584 3203 3211 \nQ 3513 2838 3513 2113 \nz\n\" id=\"DejaVuSans-68\" transform=\"scale(0.015625)\"/>\n       <path d=\"M 3597 1894 \nL 3597 1613 \nL 953 1613 \nQ 991 1019 1311 708 \nQ 1631 397 2203 397 \nQ 2534 397 2845 478 \nQ 3156 559 3463 722 \nL 3463 178 \nQ 3153 47 2828 -22 \nQ 2503 -91 2169 -91 \nQ 1331 -91 842 396 \nQ 353 884 353 1716 \nQ 353 2575 817 3079 \nQ 1281 3584 2069 3584 \nQ 2775 3584 3186 3129 \nQ 3597 2675 3597 1894 \nz\nM 3022 2063 \nQ 3016 2534 2758 2815 \nQ 2500 3097 2075 3097 \nQ 1594 3097 1305 2825 \nQ 1016 2553 972 2059 \nL 3022 2063 \nz\n\" id=\"DejaVuSans-65\" transform=\"scale(0.015625)\"/>\n       <path d=\"M 1959 3097 \nQ 1497 3097 1228 2736 \nQ 959 2375 959 1747 \nQ 959 1119 1226 758 \nQ 1494 397 1959 397 \nQ 2419 397 2687 759 \nQ 2956 1122 2956 1747 \nQ 2956 2369 2687 2733 \nQ 2419 3097 1959 3097 \nz\nM 1959 3584 \nQ 2709 3584 3137 3096 \nQ 3566 2609 3566 1747 \nQ 3566 888 3137 398 \nQ 2709 -91 1959 -91 \nQ 1206 -91 779 398 \nQ 353 888 353 1747 \nQ 353 2609 779 3096 \nQ 1206 3584 1959 3584 \nz\n\" id=\"DejaVuSans-6f\" transform=\"scale(0.015625)\"/>\n       <path d=\"M 2631 2963 \nQ 2534 3019 2420 3045 \nQ 2306 3072 2169 3072 \nQ 1681 3072 1420 2755 \nQ 1159 2438 1159 1844 \nL 1159 0 \nL 581 0 \nL 581 3500 \nL 1159 3500 \nL 1159 2956 \nQ 1341 3275 1631 3429 \nQ 1922 3584 2338 3584 \nQ 2397 3584 2469 3576 \nQ 2541 3569 2628 3553 \nL 2631 2963 \nz\n\" id=\"DejaVuSans-72\" transform=\"scale(0.015625)\"/>\n       <path d=\"M 1172 4494 \nL 1172 3500 \nL 2356 3500 \nL 2356 3053 \nL 1172 3053 \nL 1172 1153 \nQ 1172 725 1289 603 \nQ 1406 481 1766 481 \nL 2356 481 \nL 2356 0 \nL 1766 0 \nQ 1100 0 847 248 \nQ 594 497 594 1153 \nL 594 3053 \nL 172 3053 \nL 172 3500 \nL 594 3500 \nL 594 4494 \nL 1172 4494 \nz\n\" id=\"DejaVuSans-74\" transform=\"scale(0.015625)\"/>\n       <path d=\"M 603 3500 \nL 1178 3500 \nL 1178 0 \nL 603 0 \nL 603 3500 \nz\nM 603 4863 \nL 1178 4863 \nL 1178 4134 \nL 603 4134 \nL 603 4863 \nz\n\" id=\"DejaVuSans-69\" transform=\"scale(0.015625)\"/>\n       <path d=\"M 3122 3366 \nL 3122 2828 \nQ 2878 2963 2633 3030 \nQ 2388 3097 2138 3097 \nQ 1578 3097 1268 2742 \nQ 959 2388 959 1747 \nQ 959 1106 1268 751 \nQ 1578 397 2138 397 \nQ 2388 397 2633 464 \nQ 2878 531 3122 666 \nL 3122 134 \nQ 2881 22 2623 -34 \nQ 2366 -91 2075 -91 \nQ 1284 -91 818 406 \nQ 353 903 353 1747 \nQ 353 2603 823 3093 \nQ 1294 3584 2113 3584 \nQ 2378 3584 2631 3529 \nQ 2884 3475 3122 3366 \nz\n\" id=\"DejaVuSans-63\" transform=\"scale(0.015625)\"/>\n       <path d=\"M 2194 1759 \nQ 1497 1759 1228 1600 \nQ 959 1441 959 1056 \nQ 959 750 1161 570 \nQ 1363 391 1709 391 \nQ 2188 391 2477 730 \nQ 2766 1069 2766 1631 \nL 2766 1759 \nL 2194 1759 \nz\nM 3341 1997 \nL 3341 0 \nL 2766 0 \nL 2766 531 \nQ 2569 213 2275 61 \nQ 1981 -91 1556 -91 \nQ 1019 -91 701 211 \nQ 384 513 384 1019 \nQ 384 1609 779 1909 \nQ 1175 2209 1959 2209 \nL 2766 2209 \nL 2766 2266 \nQ 2766 2663 2505 2880 \nQ 2244 3097 1772 3097 \nQ 1472 3097 1187 3025 \nQ 903 2953 641 2809 \nL 641 3341 \nQ 956 3463 1253 3523 \nQ 1550 3584 1831 3584 \nQ 2591 3584 2966 3190 \nQ 3341 2797 3341 1997 \nz\n\" id=\"DejaVuSans-61\" transform=\"scale(0.015625)\"/>\n       <path d=\"M 603 4863 \nL 1178 4863 \nL 1178 0 \nL 603 0 \nL 603 4863 \nz\n\" id=\"DejaVuSans-6c\" transform=\"scale(0.015625)\"/>\n       <path id=\"DejaVuSans-20\" transform=\"scale(0.015625)\"/>\n       <path d=\"M 947 1747 \nQ 947 1113 1208 752 \nQ 1469 391 1925 391 \nQ 2381 391 2643 752 \nQ 2906 1113 2906 1747 \nQ 2906 2381 2643 2742 \nQ 2381 3103 1925 3103 \nQ 1469 3103 1208 2742 \nQ 947 2381 947 1747 \nz\nM 2906 525 \nQ 2725 213 2448 61 \nQ 2172 -91 1784 -91 \nQ 1150 -91 751 415 \nQ 353 922 353 1747 \nQ 353 2572 751 3078 \nQ 1150 3584 1784 3584 \nQ 2172 3584 2448 3432 \nQ 2725 3281 2906 2969 \nL 2906 3500 \nL 3481 3500 \nL 3481 -1331 \nL 2906 -1331 \nL 2906 525 \nz\n\" id=\"DejaVuSans-71\" transform=\"scale(0.015625)\"/>\n       <path d=\"M 544 1381 \nL 544 3500 \nL 1119 3500 \nL 1119 1403 \nQ 1119 906 1312 657 \nQ 1506 409 1894 409 \nQ 2359 409 2629 706 \nQ 2900 1003 2900 1516 \nL 2900 3500 \nL 3475 3500 \nL 3475 0 \nL 2900 0 \nL 2900 538 \nQ 2691 219 2414 64 \nQ 2138 -91 1772 -91 \nQ 1169 -91 856 284 \nQ 544 659 544 1381 \nz\nM 1991 3584 \nL 1991 3584 \nz\n\" id=\"DejaVuSans-75\" transform=\"scale(0.015625)\"/>\n       <path d=\"M 3513 2113 \nL 3513 0 \nL 2938 0 \nL 2938 2094 \nQ 2938 2591 2744 2837 \nQ 2550 3084 2163 3084 \nQ 1697 3084 1428 2787 \nQ 1159 2491 1159 1978 \nL 1159 0 \nL 581 0 \nL 581 3500 \nL 1159 3500 \nL 1159 2956 \nQ 1366 3272 1645 3428 \nQ 1925 3584 2291 3584 \nQ 2894 3584 3203 3211 \nQ 3513 2838 3513 2113 \nz\n\" id=\"DejaVuSans-6e\" transform=\"scale(0.015625)\"/>\n       <path d=\"M 2834 3397 \nL 2834 2853 \nQ 2591 2978 2328 3040 \nQ 2066 3103 1784 3103 \nQ 1356 3103 1142 2972 \nQ 928 2841 928 2578 \nQ 928 2378 1081 2264 \nQ 1234 2150 1697 2047 \nL 1894 2003 \nQ 2506 1872 2764 1633 \nQ 3022 1394 3022 966 \nQ 3022 478 2636 193 \nQ 2250 -91 1575 -91 \nQ 1294 -91 989 -36 \nQ 684 19 347 128 \nL 347 722 \nQ 666 556 975 473 \nQ 1284 391 1588 391 \nQ 1994 391 2212 530 \nQ 2431 669 2431 922 \nQ 2431 1156 2273 1281 \nQ 2116 1406 1581 1522 \nL 1381 1569 \nQ 847 1681 609 1914 \nQ 372 2147 372 2553 \nQ 372 3047 722 3315 \nQ 1072 3584 1716 3584 \nQ 2034 3584 2315 3537 \nQ 2597 3491 2834 3397 \nz\n\" id=\"DejaVuSans-73\" transform=\"scale(0.015625)\"/>\n      </defs>\n      <use xlink:href=\"#DejaVuSans-54\"/>\n      <use x=\"61.083984\" xlink:href=\"#DejaVuSans-68\"/>\n      <use x=\"124.462891\" xlink:href=\"#DejaVuSans-65\"/>\n      <use x=\"185.986328\" xlink:href=\"#DejaVuSans-6f\"/>\n      <use x=\"247.167969\" xlink:href=\"#DejaVuSans-72\"/>\n      <use x=\"286.03125\" xlink:href=\"#DejaVuSans-65\"/>\n      <use x=\"347.554688\" xlink:href=\"#DejaVuSans-74\"/>\n      <use x=\"386.763672\" xlink:href=\"#DejaVuSans-69\"/>\n      <use x=\"414.546875\" xlink:href=\"#DejaVuSans-63\"/>\n      <use x=\"469.527344\" xlink:href=\"#DejaVuSans-61\"/>\n      <use x=\"530.806641\" xlink:href=\"#DejaVuSans-6c\"/>\n      <use x=\"558.589844\" xlink:href=\"#DejaVuSans-20\"/>\n      <use x=\"590.376953\" xlink:href=\"#DejaVuSans-71\"/>\n      <use x=\"653.853516\" xlink:href=\"#DejaVuSans-75\"/>\n      <use x=\"717.232422\" xlink:href=\"#DejaVuSans-61\"/>\n      <use x=\"778.511719\" xlink:href=\"#DejaVuSans-6e\"/>\n      <use x=\"841.890625\" xlink:href=\"#DejaVuSans-74\"/>\n      <use x=\"881.099609\" xlink:href=\"#DejaVuSans-69\"/>\n      <use x=\"908.882812\" xlink:href=\"#DejaVuSans-6c\"/>\n      <use x=\"936.666016\" xlink:href=\"#DejaVuSans-65\"/>\n      <use x=\"998.189453\" xlink:href=\"#DejaVuSans-73\"/>\n     </g>\n    </g>\n   </g>\n   <g id=\"matplotlib.axis_2\">\n    <g id=\"ytick_1\">\n     <g id=\"line2d_6\">\n      <defs>\n       <path d=\"M 0 0 \nL -3.5 0 \n\" id=\"m5faf69b4d7\" style=\"stroke:#000000;stroke-width:0.8;\"/>\n      </defs>\n      <g>\n       <use style=\"stroke:#000000;stroke-width:0.8;\" x=\"68.070312\" xlink:href=\"#m5faf69b4d7\" y=\"228.597284\"/>\n      </g>\n     </g>\n     <g id=\"text_7\">\n      <!-- −30000 -->\n      <g transform=\"translate(20.878125 232.396503)scale(0.1 -0.1)\">\n       <defs>\n        <path d=\"M 2597 2516 \nQ 3050 2419 3304 2112 \nQ 3559 1806 3559 1356 \nQ 3559 666 3084 287 \nQ 2609 -91 1734 -91 \nQ 1441 -91 1130 -33 \nQ 819 25 488 141 \nL 488 750 \nQ 750 597 1062 519 \nQ 1375 441 1716 441 \nQ 2309 441 2620 675 \nQ 2931 909 2931 1356 \nQ 2931 1769 2642 2001 \nQ 2353 2234 1838 2234 \nL 1294 2234 \nL 1294 2753 \nL 1863 2753 \nQ 2328 2753 2575 2939 \nQ 2822 3125 2822 3475 \nQ 2822 3834 2567 4026 \nQ 2313 4219 1838 4219 \nQ 1578 4219 1281 4162 \nQ 984 4106 628 3988 \nL 628 4550 \nQ 988 4650 1302 4700 \nQ 1616 4750 1894 4750 \nQ 2613 4750 3031 4423 \nQ 3450 4097 3450 3541 \nQ 3450 3153 3228 2886 \nQ 3006 2619 2597 2516 \nz\n\" id=\"DejaVuSans-33\" transform=\"scale(0.015625)\"/>\n       </defs>\n       <use xlink:href=\"#DejaVuSans-2212\"/>\n       <use x=\"83.789062\" xlink:href=\"#DejaVuSans-33\"/>\n       <use x=\"147.412109\" xlink:href=\"#DejaVuSans-30\"/>\n       <use x=\"211.035156\" xlink:href=\"#DejaVuSans-30\"/>\n       <use x=\"274.658203\" xlink:href=\"#DejaVuSans-30\"/>\n       <use x=\"338.28125\" xlink:href=\"#DejaVuSans-30\"/>\n      </g>\n     </g>\n    </g>\n    <g id=\"ytick_2\">\n     <g id=\"line2d_7\">\n      <g>\n       <use style=\"stroke:#000000;stroke-width:0.8;\" x=\"68.070312\" xlink:href=\"#m5faf69b4d7\" y=\"193.197369\"/>\n      </g>\n     </g>\n     <g id=\"text_8\">\n      <!-- −20000 -->\n      <g transform=\"translate(20.878125 196.996588)scale(0.1 -0.1)\">\n       <use xlink:href=\"#DejaVuSans-2212\"/>\n       <use x=\"83.789062\" xlink:href=\"#DejaVuSans-32\"/>\n       <use x=\"147.412109\" xlink:href=\"#DejaVuSans-30\"/>\n       <use x=\"211.035156\" xlink:href=\"#DejaVuSans-30\"/>\n       <use x=\"274.658203\" xlink:href=\"#DejaVuSans-30\"/>\n       <use x=\"338.28125\" xlink:href=\"#DejaVuSans-30\"/>\n      </g>\n     </g>\n    </g>\n    <g id=\"ytick_3\">\n     <g id=\"line2d_8\">\n      <g>\n       <use style=\"stroke:#000000;stroke-width:0.8;\" x=\"68.070312\" xlink:href=\"#m5faf69b4d7\" y=\"157.797455\"/>\n      </g>\n     </g>\n     <g id=\"text_9\">\n      <!-- −10000 -->\n      <g transform=\"translate(20.878125 161.596673)scale(0.1 -0.1)\">\n       <use xlink:href=\"#DejaVuSans-2212\"/>\n       <use x=\"83.789062\" xlink:href=\"#DejaVuSans-31\"/>\n       <use x=\"147.412109\" xlink:href=\"#DejaVuSans-30\"/>\n       <use x=\"211.035156\" xlink:href=\"#DejaVuSans-30\"/>\n       <use x=\"274.658203\" xlink:href=\"#DejaVuSans-30\"/>\n       <use x=\"338.28125\" xlink:href=\"#DejaVuSans-30\"/>\n      </g>\n     </g>\n    </g>\n    <g id=\"ytick_4\">\n     <g id=\"line2d_9\">\n      <g>\n       <use style=\"stroke:#000000;stroke-width:0.8;\" x=\"68.070312\" xlink:href=\"#m5faf69b4d7\" y=\"122.39754\"/>\n      </g>\n     </g>\n     <g id=\"text_10\">\n      <!-- 0 -->\n      <g transform=\"translate(54.707813 126.196759)scale(0.1 -0.1)\">\n       <use xlink:href=\"#DejaVuSans-30\"/>\n      </g>\n     </g>\n    </g>\n    <g id=\"ytick_5\">\n     <g id=\"line2d_10\">\n      <g>\n       <use style=\"stroke:#000000;stroke-width:0.8;\" x=\"68.070312\" xlink:href=\"#m5faf69b4d7\" y=\"86.997625\"/>\n      </g>\n     </g>\n     <g id=\"text_11\">\n      <!-- 10000 -->\n      <g transform=\"translate(29.257812 90.796844)scale(0.1 -0.1)\">\n       <use xlink:href=\"#DejaVuSans-31\"/>\n       <use x=\"63.623047\" xlink:href=\"#DejaVuSans-30\"/>\n       <use x=\"127.246094\" xlink:href=\"#DejaVuSans-30\"/>\n       <use x=\"190.869141\" xlink:href=\"#DejaVuSans-30\"/>\n       <use x=\"254.492188\" xlink:href=\"#DejaVuSans-30\"/>\n      </g>\n     </g>\n    </g>\n    <g id=\"ytick_6\">\n     <g id=\"line2d_11\">\n      <g>\n       <use style=\"stroke:#000000;stroke-width:0.8;\" x=\"68.070312\" xlink:href=\"#m5faf69b4d7\" y=\"51.597711\"/>\n      </g>\n     </g>\n     <g id=\"text_12\">\n      <!-- 20000 -->\n      <g transform=\"translate(29.257812 55.396929)scale(0.1 -0.1)\">\n       <use xlink:href=\"#DejaVuSans-32\"/>\n       <use x=\"63.623047\" xlink:href=\"#DejaVuSans-30\"/>\n       <use x=\"127.246094\" xlink:href=\"#DejaVuSans-30\"/>\n       <use x=\"190.869141\" xlink:href=\"#DejaVuSans-30\"/>\n       <use x=\"254.492188\" xlink:href=\"#DejaVuSans-30\"/>\n      </g>\n     </g>\n    </g>\n    <g id=\"text_13\">\n     <!-- Ordered Values -->\n     <g transform=\"translate(14.798437 169.311562)rotate(-90)scale(0.1 -0.1)\">\n      <defs>\n       <path d=\"M 2522 4238 \nQ 1834 4238 1429 3725 \nQ 1025 3213 1025 2328 \nQ 1025 1447 1429 934 \nQ 1834 422 2522 422 \nQ 3209 422 3611 934 \nQ 4013 1447 4013 2328 \nQ 4013 3213 3611 3725 \nQ 3209 4238 2522 4238 \nz\nM 2522 4750 \nQ 3503 4750 4090 4092 \nQ 4678 3434 4678 2328 \nQ 4678 1225 4090 567 \nQ 3503 -91 2522 -91 \nQ 1538 -91 948 565 \nQ 359 1222 359 2328 \nQ 359 3434 948 4092 \nQ 1538 4750 2522 4750 \nz\n\" id=\"DejaVuSans-4f\" transform=\"scale(0.015625)\"/>\n       <path d=\"M 2906 2969 \nL 2906 4863 \nL 3481 4863 \nL 3481 0 \nL 2906 0 \nL 2906 525 \nQ 2725 213 2448 61 \nQ 2172 -91 1784 -91 \nQ 1150 -91 751 415 \nQ 353 922 353 1747 \nQ 353 2572 751 3078 \nQ 1150 3584 1784 3584 \nQ 2172 3584 2448 3432 \nQ 2725 3281 2906 2969 \nz\nM 947 1747 \nQ 947 1113 1208 752 \nQ 1469 391 1925 391 \nQ 2381 391 2643 752 \nQ 2906 1113 2906 1747 \nQ 2906 2381 2643 2742 \nQ 2381 3103 1925 3103 \nQ 1469 3103 1208 2742 \nQ 947 2381 947 1747 \nz\n\" id=\"DejaVuSans-64\" transform=\"scale(0.015625)\"/>\n       <path d=\"M 1831 0 \nL 50 4666 \nL 709 4666 \nL 2188 738 \nL 3669 4666 \nL 4325 4666 \nL 2547 0 \nL 1831 0 \nz\n\" id=\"DejaVuSans-56\" transform=\"scale(0.015625)\"/>\n      </defs>\n      <use xlink:href=\"#DejaVuSans-4f\"/>\n      <use x=\"78.710938\" xlink:href=\"#DejaVuSans-72\"/>\n      <use x=\"118.074219\" xlink:href=\"#DejaVuSans-64\"/>\n      <use x=\"181.550781\" xlink:href=\"#DejaVuSans-65\"/>\n      <use x=\"243.074219\" xlink:href=\"#DejaVuSans-72\"/>\n      <use x=\"281.9375\" xlink:href=\"#DejaVuSans-65\"/>\n      <use x=\"343.460938\" xlink:href=\"#DejaVuSans-64\"/>\n      <use x=\"406.9375\" xlink:href=\"#DejaVuSans-20\"/>\n      <use x=\"438.724609\" xlink:href=\"#DejaVuSans-56\"/>\n      <use x=\"499.382812\" xlink:href=\"#DejaVuSans-61\"/>\n      <use x=\"560.662109\" xlink:href=\"#DejaVuSans-6c\"/>\n      <use x=\"588.445312\" xlink:href=\"#DejaVuSans-75\"/>\n      <use x=\"651.824219\" xlink:href=\"#DejaVuSans-65\"/>\n      <use x=\"713.347656\" xlink:href=\"#DejaVuSans-73\"/>\n     </g>\n    </g>\n   </g>\n   <g id=\"line2d_12\">\n    <defs>\n     <path d=\"M 0 3 \nC 0.795609 3 1.55874 2.683901 2.12132 2.12132 \nC 2.683901 1.55874 3 0.795609 3 0 \nC 3 -0.795609 2.683901 -1.55874 2.12132 -2.12132 \nC 1.55874 -2.683901 0.795609 -3 0 -3 \nC -0.795609 -3 -1.55874 -2.683901 -2.12132 -2.12132 \nC -2.683901 -1.55874 -3 -0.795609 -3 0 \nC -3 0.795609 -2.683901 1.55874 -2.12132 2.12132 \nC -1.55874 2.683901 -0.795609 3 0 3 \nz\n\" id=\"mc003919529\" style=\"stroke:#0000ff;\"/>\n    </defs>\n    <g clip-path=\"url(#p3b8f2ec1f0)\">\n     <use style=\"fill:#0000ff;stroke:#0000ff;\" x=\"83.288494\" xlink:href=\"#mc003919529\" y=\"229.874489\"/>\n     <use style=\"fill:#0000ff;stroke:#0000ff;\" x=\"100.941324\" xlink:href=\"#mc003919529\" y=\"206.669511\"/>\n     <use style=\"fill:#0000ff;stroke:#0000ff;\" x=\"111.012069\" xlink:href=\"#mc003919529\" y=\"188.864026\"/>\n     <use style=\"fill:#0000ff;stroke:#0000ff;\" x=\"118.228266\" xlink:href=\"#mc003919529\" y=\"180.933416\"/>\n     <use style=\"fill:#0000ff;stroke:#0000ff;\" x=\"123.932103\" xlink:href=\"#mc003919529\" y=\"178.060937\"/>\n     <use style=\"fill:#0000ff;stroke:#0000ff;\" x=\"128.690072\" xlink:href=\"#mc003919529\" y=\"177.084705\"/>\n     <use style=\"fill:#0000ff;stroke:#0000ff;\" x=\"132.797026\" xlink:href=\"#mc003919529\" y=\"176.118914\"/>\n     <use style=\"fill:#0000ff;stroke:#0000ff;\" x=\"136.426854\" xlink:href=\"#mc003919529\" y=\"174.02267\"/>\n     <use style=\"fill:#0000ff;stroke:#0000ff;\" x=\"139.691074\" xlink:href=\"#mc003919529\" y=\"173.662742\"/>\n     <use style=\"fill:#0000ff;stroke:#0000ff;\" x=\"142.66567\" xlink:href=\"#mc003919529\" y=\"173.402427\"/>\n     <use style=\"fill:#0000ff;stroke:#0000ff;\" x=\"145.40484\" xlink:href=\"#mc003919529\" y=\"171.689597\"/>\n     <use style=\"fill:#0000ff;stroke:#0000ff;\" x=\"147.94866\" xlink:href=\"#mc003919529\" y=\"164.103355\"/>\n     <use style=\"fill:#0000ff;stroke:#0000ff;\" x=\"150.327635\" xlink:href=\"#mc003919529\" y=\"160.328969\"/>\n     <use style=\"fill:#0000ff;stroke:#0000ff;\" x=\"152.565548\" xlink:href=\"#mc003919529\" y=\"159.705052\"/>\n     <use style=\"fill:#0000ff;stroke:#0000ff;\" x=\"154.681315\" xlink:href=\"#mc003919529\" y=\"158.722511\"/>\n     <use style=\"fill:#0000ff;stroke:#0000ff;\" x=\"156.690239\" xlink:href=\"#mc003919529\" y=\"155.245832\"/>\n     <use style=\"fill:#0000ff;stroke:#0000ff;\" x=\"158.604889\" xlink:href=\"#mc003919529\" y=\"153.677932\"/>\n     <use style=\"fill:#0000ff;stroke:#0000ff;\" x=\"160.435713\" xlink:href=\"#mc003919529\" y=\"150.518661\"/>\n     <use style=\"fill:#0000ff;stroke:#0000ff;\" x=\"162.191501\" xlink:href=\"#mc003919529\" y=\"150.004057\"/>\n     <use style=\"fill:#0000ff;stroke:#0000ff;\" x=\"163.87972\" xlink:href=\"#mc003919529\" y=\"148.675944\"/>\n     <use style=\"fill:#0000ff;stroke:#0000ff;\" x=\"165.506768\" xlink:href=\"#mc003919529\" y=\"147.571538\"/>\n     <use style=\"fill:#0000ff;stroke:#0000ff;\" x=\"167.078173\" xlink:href=\"#mc003919529\" y=\"145.379331\"/>\n     <use style=\"fill:#0000ff;stroke:#0000ff;\" x=\"168.598747\" xlink:href=\"#mc003919529\" y=\"143.838152\"/>\n     <use style=\"fill:#0000ff;stroke:#0000ff;\" x=\"170.072701\" xlink:href=\"#mc003919529\" y=\"143.590517\"/>\n     <use style=\"fill:#0000ff;stroke:#0000ff;\" x=\"171.50375\" xlink:href=\"#mc003919529\" y=\"143.307153\"/>\n     <use style=\"fill:#0000ff;stroke:#0000ff;\" x=\"172.895182\" xlink:href=\"#mc003919529\" y=\"142.766879\"/>\n     <use style=\"fill:#0000ff;stroke:#0000ff;\" x=\"174.249925\" xlink:href=\"#mc003919529\" y=\"142.138293\"/>\n     <use style=\"fill:#0000ff;stroke:#0000ff;\" x=\"175.5706\" xlink:href=\"#mc003919529\" y=\"141.884814\"/>\n     <use style=\"fill:#0000ff;stroke:#0000ff;\" x=\"176.859561\" xlink:href=\"#mc003919529\" y=\"141.790132\"/>\n     <use style=\"fill:#0000ff;stroke:#0000ff;\" x=\"178.118931\" xlink:href=\"#mc003919529\" y=\"141.251371\"/>\n     <use style=\"fill:#0000ff;stroke:#0000ff;\" x=\"179.350632\" xlink:href=\"#mc003919529\" y=\"141.138664\"/>\n     <use style=\"fill:#0000ff;stroke:#0000ff;\" x=\"180.55641\" xlink:href=\"#mc003919529\" y=\"140.874634\"/>\n     <use style=\"fill:#0000ff;stroke:#0000ff;\" x=\"181.737859\" xlink:href=\"#mc003919529\" y=\"139.771081\"/>\n     <use style=\"fill:#0000ff;stroke:#0000ff;\" x=\"182.896433\" xlink:href=\"#mc003919529\" y=\"139.240083\"/>\n     <use style=\"fill:#0000ff;stroke:#0000ff;\" x=\"184.033468\" xlink:href=\"#mc003919529\" y=\"138.698822\"/>\n     <use style=\"fill:#0000ff;stroke:#0000ff;\" x=\"185.15019\" xlink:href=\"#mc003919529\" y=\"138.584563\"/>\n     <use style=\"fill:#0000ff;stroke:#0000ff;\" x=\"186.247731\" xlink:href=\"#mc003919529\" y=\"138.551882\"/>\n     <use style=\"fill:#0000ff;stroke:#0000ff;\" x=\"187.327135\" xlink:href=\"#mc003919529\" y=\"138.544559\"/>\n     <use style=\"fill:#0000ff;stroke:#0000ff;\" x=\"188.389373\" xlink:href=\"#mc003919529\" y=\"138.081773\"/>\n     <use style=\"fill:#0000ff;stroke:#0000ff;\" x=\"189.435342\" xlink:href=\"#mc003919529\" y=\"137.979098\"/>\n     <use style=\"fill:#0000ff;stroke:#0000ff;\" x=\"190.465879\" xlink:href=\"#mc003919529\" y=\"137.939903\"/>\n     <use style=\"fill:#0000ff;stroke:#0000ff;\" x=\"191.481763\" xlink:href=\"#mc003919529\" y=\"137.845549\"/>\n     <use style=\"fill:#0000ff;stroke:#0000ff;\" x=\"192.483722\" xlink:href=\"#mc003919529\" y=\"137.705036\"/>\n     <use style=\"fill:#0000ff;stroke:#0000ff;\" x=\"193.472437\" xlink:href=\"#mc003919529\" y=\"137.647086\"/>\n     <use style=\"fill:#0000ff;stroke:#0000ff;\" x=\"194.448547\" xlink:href=\"#mc003919529\" y=\"137.527946\"/>\n     <use style=\"fill:#0000ff;stroke:#0000ff;\" x=\"195.412651\" xlink:href=\"#mc003919529\" y=\"137.31455\"/>\n     <use style=\"fill:#0000ff;stroke:#0000ff;\" x=\"196.365313\" xlink:href=\"#mc003919529\" y=\"136.477053\"/>\n     <use style=\"fill:#0000ff;stroke:#0000ff;\" x=\"197.307064\" xlink:href=\"#mc003919529\" y=\"136.266302\"/>\n     <use style=\"fill:#0000ff;stroke:#0000ff;\" x=\"198.238406\" xlink:href=\"#mc003919529\" y=\"136.249908\"/>\n     <use style=\"fill:#0000ff;stroke:#0000ff;\" x=\"199.159811\" xlink:href=\"#mc003919529\" y=\"136.073854\"/>\n     <use style=\"fill:#0000ff;stroke:#0000ff;\" x=\"200.071728\" xlink:href=\"#mc003919529\" y=\"135.721554\"/>\n     <use style=\"fill:#0000ff;stroke:#0000ff;\" x=\"200.974582\" xlink:href=\"#mc003919529\" y=\"135.625536\"/>\n     <use style=\"fill:#0000ff;stroke:#0000ff;\" x=\"201.868774\" xlink:href=\"#mc003919529\" y=\"135.564647\"/>\n     <use style=\"fill:#0000ff;stroke:#0000ff;\" x=\"202.754689\" xlink:href=\"#mc003919529\" y=\"134.32761\"/>\n     <use style=\"fill:#0000ff;stroke:#0000ff;\" x=\"203.632689\" xlink:href=\"#mc003919529\" y=\"133.508864\"/>\n     <use style=\"fill:#0000ff;stroke:#0000ff;\" x=\"204.503123\" xlink:href=\"#mc003919529\" y=\"132.871002\"/>\n     <use style=\"fill:#0000ff;stroke:#0000ff;\" x=\"205.366321\" xlink:href=\"#mc003919529\" y=\"132.446867\"/>\n     <use style=\"fill:#0000ff;stroke:#0000ff;\" x=\"206.222599\" xlink:href=\"#mc003919529\" y=\"132.337099\"/>\n     <use style=\"fill:#0000ff;stroke:#0000ff;\" x=\"207.072259\" xlink:href=\"#mc003919529\" y=\"132.317757\"/>\n     <use style=\"fill:#0000ff;stroke:#0000ff;\" x=\"207.915591\" xlink:href=\"#mc003919529\" y=\"132.289665\"/>\n     <use style=\"fill:#0000ff;stroke:#0000ff;\" x=\"208.752873\" xlink:href=\"#mc003919529\" y=\"132.141247\"/>\n     <use style=\"fill:#0000ff;stroke:#0000ff;\" x=\"209.58437\" xlink:href=\"#mc003919529\" y=\"132.001918\"/>\n     <use style=\"fill:#0000ff;stroke:#0000ff;\" x=\"210.410339\" xlink:href=\"#mc003919529\" y=\"131.847656\"/>\n     <use style=\"fill:#0000ff;stroke:#0000ff;\" x=\"211.231024\" xlink:href=\"#mc003919529\" y=\"131.544975\"/>\n     <use style=\"fill:#0000ff;stroke:#0000ff;\" x=\"212.046664\" xlink:href=\"#mc003919529\" y=\"131.527408\"/>\n     <use style=\"fill:#0000ff;stroke:#0000ff;\" x=\"212.857486\" xlink:href=\"#mc003919529\" y=\"130.90127\"/>\n     <use style=\"fill:#0000ff;stroke:#0000ff;\" x=\"213.663711\" xlink:href=\"#mc003919529\" y=\"130.85387\"/>\n     <use style=\"fill:#0000ff;stroke:#0000ff;\" x=\"214.465552\" xlink:href=\"#mc003919529\" y=\"130.322872\"/>\n     <use style=\"fill:#0000ff;stroke:#0000ff;\" x=\"215.263216\" xlink:href=\"#mc003919529\" y=\"130.278377\"/>\n     <use style=\"fill:#0000ff;stroke:#0000ff;\" x=\"216.0569\" xlink:href=\"#mc003919529\" y=\"129.791873\"/>\n     <use style=\"fill:#0000ff;stroke:#0000ff;\" x=\"216.8468\" xlink:href=\"#mc003919529\" y=\"129.723661\"/>\n     <use style=\"fill:#0000ff;stroke:#0000ff;\" x=\"217.633103\" xlink:href=\"#mc003919529\" y=\"129.671843\"/>\n     <use style=\"fill:#0000ff;stroke:#0000ff;\" x=\"218.415991\" xlink:href=\"#mc003919529\" y=\"129.278712\"/>\n     <use style=\"fill:#0000ff;stroke:#0000ff;\" x=\"219.195642\" xlink:href=\"#mc003919529\" y=\"128.884138\"/>\n     <use style=\"fill:#0000ff;stroke:#0000ff;\" x=\"219.972228\" xlink:href=\"#mc003919529\" y=\"128.655802\"/>\n     <use style=\"fill:#0000ff;stroke:#0000ff;\" x=\"220.745919\" xlink:href=\"#mc003919529\" y=\"128.471395\"/>\n     <use style=\"fill:#0000ff;stroke:#0000ff;\" x=\"221.516878\" xlink:href=\"#mc003919529\" y=\"128.439189\"/>\n     <use style=\"fill:#0000ff;stroke:#0000ff;\" x=\"222.285266\" xlink:href=\"#mc003919529\" y=\"128.347277\"/>\n     <use style=\"fill:#0000ff;stroke:#0000ff;\" x=\"223.051242\" xlink:href=\"#mc003919529\" y=\"127.832958\"/>\n     <use style=\"fill:#0000ff;stroke:#0000ff;\" x=\"223.814958\" xlink:href=\"#mc003919529\" y=\"127.78349\"/>\n     <use style=\"fill:#0000ff;stroke:#0000ff;\" x=\"224.576566\" xlink:href=\"#mc003919529\" y=\"127.770323\"/>\n     <use style=\"fill:#0000ff;stroke:#0000ff;\" x=\"225.336213\" xlink:href=\"#mc003919529\" y=\"127.393586\"/>\n     <use style=\"fill:#0000ff;stroke:#0000ff;\" x=\"226.094047\" xlink:href=\"#mc003919529\" y=\"127.377192\"/>\n     <use style=\"fill:#0000ff;stroke:#0000ff;\" x=\"226.85021\" xlink:href=\"#mc003919529\" y=\"127.350198\"/>\n     <use style=\"fill:#0000ff;stroke:#0000ff;\" x=\"227.604842\" xlink:href=\"#mc003919529\" y=\"127.291142\"/>\n     <use style=\"fill:#0000ff;stroke:#0000ff;\" x=\"228.358085\" xlink:href=\"#mc003919529\" y=\"127.085062\"/>\n     <use style=\"fill:#0000ff;stroke:#0000ff;\" x=\"229.110075\" xlink:href=\"#mc003919529\" y=\"126.878399\"/>\n     <use style=\"fill:#0000ff;stroke:#0000ff;\" x=\"229.860948\" xlink:href=\"#mc003919529\" y=\"126.846193\"/>\n     <use style=\"fill:#0000ff;stroke:#0000ff;\" x=\"230.610838\" xlink:href=\"#mc003919529\" y=\"126.582163\"/>\n     <use style=\"fill:#0000ff;stroke:#0000ff;\" x=\"231.35988\" xlink:href=\"#mc003919529\" y=\"126.412167\"/>\n     <use style=\"fill:#0000ff;stroke:#0000ff;\" x=\"232.108205\" xlink:href=\"#mc003919529\" y=\"126.074882\"/>\n     <use style=\"fill:#0000ff;stroke:#0000ff;\" x=\"232.855946\" xlink:href=\"#mc003919529\" y=\"126.00667\"/>\n     <use style=\"fill:#0000ff;stroke:#0000ff;\" x=\"233.603232\" xlink:href=\"#mc003919529\" y=\"125.662139\"/>\n     <use style=\"fill:#0000ff;stroke:#0000ff;\" x=\"234.350194\" xlink:href=\"#mc003919529\" y=\"125.253197\"/>\n     <use style=\"fill:#0000ff;stroke:#0000ff;\" x=\"235.096961\" xlink:href=\"#mc003919529\" y=\"125.172991\"/>\n     <use style=\"fill:#0000ff;stroke:#0000ff;\" x=\"235.843664\" xlink:href=\"#mc003919529\" y=\"124.58433\"/>\n     <use style=\"fill:#0000ff;stroke:#0000ff;\" x=\"236.590431\" xlink:href=\"#mc003919529\" y=\"124.555942\"/>\n     <use style=\"fill:#0000ff;stroke:#0000ff;\" x=\"237.337393\" xlink:href=\"#mc003919529\" y=\"124.036449\"/>\n     <use style=\"fill:#0000ff;stroke:#0000ff;\" x=\"238.084679\" xlink:href=\"#mc003919529\" y=\"123.950887\"/>\n     <use style=\"fill:#0000ff;stroke:#0000ff;\" x=\"238.83242\" xlink:href=\"#mc003919529\" y=\"123.676595\"/>\n     <use style=\"fill:#0000ff;stroke:#0000ff;\" x=\"239.580745\" xlink:href=\"#mc003919529\" y=\"123.608383\"/>\n     <use style=\"fill:#0000ff;stroke:#0000ff;\" x=\"240.329787\" xlink:href=\"#mc003919529\" y=\"123.464383\"/>\n     <use style=\"fill:#0000ff;stroke:#0000ff;\" x=\"241.079677\" xlink:href=\"#mc003919529\" y=\"123.007146\"/>\n     <use style=\"fill:#0000ff;stroke:#0000ff;\" x=\"241.83055\" xlink:href=\"#mc003919529\" y=\"123.007146\"/>\n     <use style=\"fill:#0000ff;stroke:#0000ff;\" x=\"242.58254\" xlink:href=\"#mc003919529\" y=\"122.88889\"/>\n     <use style=\"fill:#0000ff;stroke:#0000ff;\" x=\"243.335783\" xlink:href=\"#mc003919529\" y=\"122.614598\"/>\n     <use style=\"fill:#0000ff;stroke:#0000ff;\" x=\"244.090415\" xlink:href=\"#mc003919529\" y=\"122.357891\"/>\n     <use style=\"fill:#0000ff;stroke:#0000ff;\" x=\"244.846578\" xlink:href=\"#mc003919529\" y=\"122.357891\"/>\n     <use style=\"fill:#0000ff;stroke:#0000ff;\" x=\"245.604412\" xlink:href=\"#mc003919529\" y=\"122.289679\"/>\n     <use style=\"fill:#0000ff;stroke:#0000ff;\" x=\"246.364059\" xlink:href=\"#mc003919529\" y=\"122.169649\"/>\n     <use style=\"fill:#0000ff;stroke:#0000ff;\" x=\"247.125667\" xlink:href=\"#mc003919529\" y=\"121.969431\"/>\n     <use style=\"fill:#0000ff;stroke:#0000ff;\" x=\"247.889383\" xlink:href=\"#mc003919529\" y=\"121.826892\"/>\n     <use style=\"fill:#0000ff;stroke:#0000ff;\" x=\"248.655359\" xlink:href=\"#mc003919529\" y=\"121.633979\"/>\n     <use style=\"fill:#0000ff;stroke:#0000ff;\" x=\"249.423747\" xlink:href=\"#mc003919529\" y=\"121.384588\"/>\n     <use style=\"fill:#0000ff;stroke:#0000ff;\" x=\"250.194706\" xlink:href=\"#mc003919529\" y=\"121.021602\"/>\n     <use style=\"fill:#0000ff;stroke:#0000ff;\" x=\"250.968397\" xlink:href=\"#mc003919529\" y=\"120.691391\"/>\n     <use style=\"fill:#0000ff;stroke:#0000ff;\" x=\"251.744983\" xlink:href=\"#mc003919529\" y=\"120.388158\"/>\n     <use style=\"fill:#0000ff;stroke:#0000ff;\" x=\"252.524634\" xlink:href=\"#mc003919529\" y=\"120.165684\"/>\n     <use style=\"fill:#0000ff;stroke:#0000ff;\" x=\"253.307522\" xlink:href=\"#mc003919529\" y=\"119.898715\"/>\n     <use style=\"fill:#0000ff;stroke:#0000ff;\" x=\"254.093825\" xlink:href=\"#mc003919529\" y=\"119.747392\"/>\n     <use style=\"fill:#0000ff;stroke:#0000ff;\" x=\"254.883725\" xlink:href=\"#mc003919529\" y=\"119.652523\"/>\n     <use style=\"fill:#0000ff;stroke:#0000ff;\" x=\"255.677409\" xlink:href=\"#mc003919529\" y=\"119.199811\"/>\n     <use style=\"fill:#0000ff;stroke:#0000ff;\" x=\"256.475073\" xlink:href=\"#mc003919529\" y=\"118.759156\"/>\n     <use style=\"fill:#0000ff;stroke:#0000ff;\" x=\"257.276914\" xlink:href=\"#mc003919529\" y=\"118.282917\"/>\n     <use style=\"fill:#0000ff;stroke:#0000ff;\" x=\"258.083139\" xlink:href=\"#mc003919529\" y=\"118.109901\"/>\n     <use style=\"fill:#0000ff;stroke:#0000ff;\" x=\"258.893961\" xlink:href=\"#mc003919529\" y=\"118.041689\"/>\n     <use style=\"fill:#0000ff;stroke:#0000ff;\" x=\"259.709601\" xlink:href=\"#mc003919529\" y=\"116.718566\"/>\n     <use style=\"fill:#0000ff;stroke:#0000ff;\" x=\"260.530286\" xlink:href=\"#mc003919529\" y=\"116.294431\"/>\n     <use style=\"fill:#0000ff;stroke:#0000ff;\" x=\"261.356255\" xlink:href=\"#mc003919529\" y=\"115.934089\"/>\n     <use style=\"fill:#0000ff;stroke:#0000ff;\" x=\"262.187752\" xlink:href=\"#mc003919529\" y=\"115.557352\"/>\n     <use style=\"fill:#0000ff;stroke:#0000ff;\" x=\"263.025034\" xlink:href=\"#mc003919529\" y=\"115.499402\"/>\n     <use style=\"fill:#0000ff;stroke:#0000ff;\" x=\"263.868366\" xlink:href=\"#mc003919529\" y=\"115.499402\"/>\n     <use style=\"fill:#0000ff;stroke:#0000ff;\" x=\"264.718026\" xlink:href=\"#mc003919529\" y=\"115.290383\"/>\n     <use style=\"fill:#0000ff;stroke:#0000ff;\" x=\"265.574304\" xlink:href=\"#mc003919529\" y=\"115.054454\"/>\n     <use style=\"fill:#0000ff;stroke:#0000ff;\" x=\"266.437502\" xlink:href=\"#mc003919529\" y=\"114.633222\"/>\n     <use style=\"fill:#0000ff;stroke:#0000ff;\" x=\"267.307936\" xlink:href=\"#mc003919529\" y=\"114.581405\"/>\n     <use style=\"fill:#0000ff;stroke:#0000ff;\" x=\"268.185936\" xlink:href=\"#mc003919529\" y=\"114.47896\"/>\n     <use style=\"fill:#0000ff;stroke:#0000ff;\" x=\"269.071851\" xlink:href=\"#mc003919529\" y=\"114.341093\"/>\n     <use style=\"fill:#0000ff;stroke:#0000ff;\" x=\"269.966043\" xlink:href=\"#mc003919529\" y=\"113.603431\"/>\n     <use style=\"fill:#0000ff;stroke:#0000ff;\" x=\"270.868897\" xlink:href=\"#mc003919529\" y=\"113.574165\"/>\n     <use style=\"fill:#0000ff;stroke:#0000ff;\" x=\"271.780814\" xlink:href=\"#mc003919529\" y=\"113.250977\"/>\n     <use style=\"fill:#0000ff;stroke:#0000ff;\" x=\"272.702219\" xlink:href=\"#mc003919529\" y=\"112.22442\"/>\n     <use style=\"fill:#0000ff;stroke:#0000ff;\" x=\"273.633561\" xlink:href=\"#mc003919529\" y=\"111.693422\"/>\n     <use style=\"fill:#0000ff;stroke:#0000ff;\" x=\"274.575312\" xlink:href=\"#mc003919529\" y=\"111.435236\"/>\n     <use style=\"fill:#0000ff;stroke:#0000ff;\" x=\"275.527974\" xlink:href=\"#mc003919529\" y=\"110.162758\"/>\n     <use style=\"fill:#0000ff;stroke:#0000ff;\" x=\"276.492078\" xlink:href=\"#mc003919529\" y=\"109.658416\"/>\n     <use style=\"fill:#0000ff;stroke:#0000ff;\" x=\"277.468188\" xlink:href=\"#mc003919529\" y=\"108.596419\"/>\n     <use style=\"fill:#0000ff;stroke:#0000ff;\" x=\"278.456903\" xlink:href=\"#mc003919529\" y=\"108.094982\"/>\n     <use style=\"fill:#0000ff;stroke:#0000ff;\" x=\"279.458862\" xlink:href=\"#mc003919529\" y=\"107.94833\"/>\n     <use style=\"fill:#0000ff;stroke:#0000ff;\" x=\"280.474746\" xlink:href=\"#mc003919529\" y=\"107.565902\"/>\n     <use style=\"fill:#0000ff;stroke:#0000ff;\" x=\"281.505283\" xlink:href=\"#mc003919529\" y=\"107.283847\"/>\n     <use style=\"fill:#0000ff;stroke:#0000ff;\" x=\"282.551252\" xlink:href=\"#mc003919529\" y=\"107.194857\"/>\n     <use style=\"fill:#0000ff;stroke:#0000ff;\" x=\"283.61349\" xlink:href=\"#mc003919529\" y=\"106.383434\"/>\n     <use style=\"fill:#0000ff;stroke:#0000ff;\" x=\"284.692894\" xlink:href=\"#mc003919529\" y=\"106.140183\"/>\n     <use style=\"fill:#0000ff;stroke:#0000ff;\" x=\"285.790435\" xlink:href=\"#mc003919529\" y=\"105.638745\"/>\n     <use style=\"fill:#0000ff;stroke:#0000ff;\" x=\"286.907157\" xlink:href=\"#mc003919529\" y=\"105.468377\"/>\n     <use style=\"fill:#0000ff;stroke:#0000ff;\" x=\"288.044192\" xlink:href=\"#mc003919529\" y=\"104.544247\"/>\n     <use style=\"fill:#0000ff;stroke:#0000ff;\" x=\"289.202766\" xlink:href=\"#mc003919529\" y=\"103.790774\"/>\n     <use style=\"fill:#0000ff;stroke:#0000ff;\" x=\"290.384215\" xlink:href=\"#mc003919529\" y=\"103.173725\"/>\n     <use style=\"fill:#0000ff;stroke:#0000ff;\" x=\"291.589993\" xlink:href=\"#mc003919529\" y=\"102.05991\"/>\n     <use style=\"fill:#0000ff;stroke:#0000ff;\" x=\"292.821694\" xlink:href=\"#mc003919529\" y=\"101.923486\"/>\n     <use style=\"fill:#0000ff;stroke:#0000ff;\" x=\"294.081064\" xlink:href=\"#mc003919529\" y=\"101.574867\"/>\n     <use style=\"fill:#0000ff;stroke:#0000ff;\" x=\"295.370025\" xlink:href=\"#mc003919529\" y=\"100.956854\"/>\n     <use style=\"fill:#0000ff;stroke:#0000ff;\" x=\"296.6907\" xlink:href=\"#mc003919529\" y=\"100.939963\"/>\n     <use style=\"fill:#0000ff;stroke:#0000ff;\" x=\"298.045443\" xlink:href=\"#mc003919529\" y=\"100.477176\"/>\n     <use style=\"fill:#0000ff;stroke:#0000ff;\" x=\"299.436875\" xlink:href=\"#mc003919529\" y=\"99.332033\"/>\n     <use style=\"fill:#0000ff;stroke:#0000ff;\" x=\"300.867924\" xlink:href=\"#mc003919529\" y=\"99.143826\"/>\n     <use style=\"fill:#0000ff;stroke:#0000ff;\" x=\"302.341878\" xlink:href=\"#mc003919529\" y=\"98.308686\"/>\n     <use style=\"fill:#0000ff;stroke:#0000ff;\" x=\"303.862452\" xlink:href=\"#mc003919529\" y=\"97.81192\"/>\n     <use style=\"fill:#0000ff;stroke:#0000ff;\" x=\"305.433857\" xlink:href=\"#mc003919529\" y=\"96.579266\"/>\n     <use style=\"fill:#0000ff;stroke:#0000ff;\" x=\"307.060905\" xlink:href=\"#mc003919529\" y=\"96.441398\"/>\n     <use style=\"fill:#0000ff;stroke:#0000ff;\" x=\"308.749124\" xlink:href=\"#mc003919529\" y=\"96.146041\"/>\n     <use style=\"fill:#0000ff;stroke:#0000ff;\" x=\"310.504912\" xlink:href=\"#mc003919529\" y=\"95.533663\"/>\n     <use style=\"fill:#0000ff;stroke:#0000ff;\" x=\"312.335736\" xlink:href=\"#mc003919529\" y=\"95.333445\"/>\n     <use style=\"fill:#0000ff;stroke:#0000ff;\" x=\"314.250386\" xlink:href=\"#mc003919529\" y=\"95.156927\"/>\n     <use style=\"fill:#0000ff;stroke:#0000ff;\" x=\"316.25931\" xlink:href=\"#mc003919529\" y=\"92.724407\"/>\n     <use style=\"fill:#0000ff;stroke:#0000ff;\" x=\"318.375077\" xlink:href=\"#mc003919529\" y=\"90.269632\"/>\n     <use style=\"fill:#0000ff;stroke:#0000ff;\" x=\"320.61299\" xlink:href=\"#mc003919529\" y=\"86.935239\"/>\n     <use style=\"fill:#0000ff;stroke:#0000ff;\" x=\"322.991965\" xlink:href=\"#mc003919529\" y=\"86.296185\"/>\n     <use style=\"fill:#0000ff;stroke:#0000ff;\" x=\"325.535785\" xlink:href=\"#mc003919529\" y=\"85.440768\"/>\n     <use style=\"fill:#0000ff;stroke:#0000ff;\" x=\"328.274955\" xlink:href=\"#mc003919529\" y=\"82.329266\"/>\n     <use style=\"fill:#0000ff;stroke:#0000ff;\" x=\"331.249551\" xlink:href=\"#mc003919529\" y=\"81.654813\"/>\n     <use style=\"fill:#0000ff;stroke:#0000ff;\" x=\"334.513771\" xlink:href=\"#mc003919529\" y=\"74.81876\"/>\n     <use style=\"fill:#0000ff;stroke:#0000ff;\" x=\"338.143599\" xlink:href=\"#mc003919529\" y=\"70.422461\"/>\n     <use style=\"fill:#0000ff;stroke:#0000ff;\" x=\"342.250553\" xlink:href=\"#mc003919529\" y=\"67.807562\"/>\n     <use style=\"fill:#0000ff;stroke:#0000ff;\" x=\"347.008522\" xlink:href=\"#mc003919529\" y=\"65.237654\"/>\n     <use style=\"fill:#0000ff;stroke:#0000ff;\" x=\"352.712359\" xlink:href=\"#mc003919529\" y=\"63.542215\"/>\n     <use style=\"fill:#0000ff;stroke:#0000ff;\" x=\"359.928556\" xlink:href=\"#mc003919529\" y=\"59.648133\"/>\n     <use style=\"fill:#0000ff;stroke:#0000ff;\" x=\"369.999301\" xlink:href=\"#mc003919529\" y=\"57.187587\"/>\n     <use style=\"fill:#0000ff;stroke:#0000ff;\" x=\"387.652131\" xlink:href=\"#mc003919529\" y=\"32.201761\"/>\n    </g>\n   </g>\n   <g id=\"line2d_13\">\n    <path clip-path=\"url(#p3b8f2ec1f0)\" d=\"M 83.288494 190.893061 \nL 387.652131 57.178014 \nL 387.652131 57.178014 \n\" style=\"fill:none;stroke:#ff0000;stroke-linecap:square;stroke-width:1.5;\"/>\n   </g>\n   <g id=\"patch_3\">\n    <path d=\"M 68.070312 239.758125 \nL 68.070312 22.318125 \n\" style=\"fill:none;stroke:#000000;stroke-linecap:square;stroke-linejoin:miter;stroke-width:0.8;\"/>\n   </g>\n   <g id=\"patch_4\">\n    <path d=\"M 402.870313 239.758125 \nL 402.870313 22.318125 \n\" style=\"fill:none;stroke:#000000;stroke-linecap:square;stroke-linejoin:miter;stroke-width:0.8;\"/>\n   </g>\n   <g id=\"patch_5\">\n    <path d=\"M 68.070312 239.758125 \nL 402.870313 239.758125 \n\" style=\"fill:none;stroke:#000000;stroke-linecap:square;stroke-linejoin:miter;stroke-width:0.8;\"/>\n   </g>\n   <g id=\"patch_6\">\n    <path d=\"M 68.070312 22.318125 \nL 402.870313 22.318125 \n\" style=\"fill:none;stroke:#000000;stroke-linecap:square;stroke-linejoin:miter;stroke-width:0.8;\"/>\n   </g>\n   <g id=\"text_14\">\n    <!-- Probability Plot -->\n    <g transform=\"translate(190.540625 16.318125)scale(0.12 -0.12)\">\n     <defs>\n      <path d=\"M 1259 4147 \nL 1259 2394 \nL 2053 2394 \nQ 2494 2394 2734 2622 \nQ 2975 2850 2975 3272 \nQ 2975 3691 2734 3919 \nQ 2494 4147 2053 4147 \nL 1259 4147 \nz\nM 628 4666 \nL 2053 4666 \nQ 2838 4666 3239 4311 \nQ 3641 3956 3641 3272 \nQ 3641 2581 3239 2228 \nQ 2838 1875 2053 1875 \nL 1259 1875 \nL 1259 0 \nL 628 0 \nL 628 4666 \nz\n\" id=\"DejaVuSans-50\" transform=\"scale(0.015625)\"/>\n      <path d=\"M 3116 1747 \nQ 3116 2381 2855 2742 \nQ 2594 3103 2138 3103 \nQ 1681 3103 1420 2742 \nQ 1159 2381 1159 1747 \nQ 1159 1113 1420 752 \nQ 1681 391 2138 391 \nQ 2594 391 2855 752 \nQ 3116 1113 3116 1747 \nz\nM 1159 2969 \nQ 1341 3281 1617 3432 \nQ 1894 3584 2278 3584 \nQ 2916 3584 3314 3078 \nQ 3713 2572 3713 1747 \nQ 3713 922 3314 415 \nQ 2916 -91 2278 -91 \nQ 1894 -91 1617 61 \nQ 1341 213 1159 525 \nL 1159 0 \nL 581 0 \nL 581 4863 \nL 1159 4863 \nL 1159 2969 \nz\n\" id=\"DejaVuSans-62\" transform=\"scale(0.015625)\"/>\n      <path d=\"M 2059 -325 \nQ 1816 -950 1584 -1140 \nQ 1353 -1331 966 -1331 \nL 506 -1331 \nL 506 -850 \nL 844 -850 \nQ 1081 -850 1212 -737 \nQ 1344 -625 1503 -206 \nL 1606 56 \nL 191 3500 \nL 800 3500 \nL 1894 763 \nL 2988 3500 \nL 3597 3500 \nL 2059 -325 \nz\n\" id=\"DejaVuSans-79\" transform=\"scale(0.015625)\"/>\n     </defs>\n     <use xlink:href=\"#DejaVuSans-50\"/>\n     <use x=\"58.552734\" xlink:href=\"#DejaVuSans-72\"/>\n     <use x=\"97.416016\" xlink:href=\"#DejaVuSans-6f\"/>\n     <use x=\"158.597656\" xlink:href=\"#DejaVuSans-62\"/>\n     <use x=\"222.074219\" xlink:href=\"#DejaVuSans-61\"/>\n     <use x=\"283.353516\" xlink:href=\"#DejaVuSans-62\"/>\n     <use x=\"346.830078\" xlink:href=\"#DejaVuSans-69\"/>\n     <use x=\"374.613281\" xlink:href=\"#DejaVuSans-6c\"/>\n     <use x=\"402.396484\" xlink:href=\"#DejaVuSans-69\"/>\n     <use x=\"430.179688\" xlink:href=\"#DejaVuSans-74\"/>\n     <use x=\"469.388672\" xlink:href=\"#DejaVuSans-79\"/>\n     <use x=\"528.568359\" xlink:href=\"#DejaVuSans-20\"/>\n     <use x=\"560.355469\" xlink:href=\"#DejaVuSans-50\"/>\n     <use x=\"620.658203\" xlink:href=\"#DejaVuSans-6c\"/>\n     <use x=\"648.441406\" xlink:href=\"#DejaVuSans-6f\"/>\n     <use x=\"709.623047\" xlink:href=\"#DejaVuSans-74\"/>\n    </g>\n   </g>\n  </g>\n </g>\n <defs>\n  <clipPath id=\"p3b8f2ec1f0\">\n   <rect height=\"217.44\" width=\"334.8\" x=\"68.070312\" y=\"22.318125\"/>\n  </clipPath>\n </defs>\n</svg>\n",
      "image/png": "[encoded data removed]"
     },
     "metadata": {
      "needs_background": "light"
     }
    }
   ],
   "source": [
    "qq = stats.probplot(y_test-predictions, plot=plt)"
   ]
  },
  {
   "cell_type": "code",
   "execution_count": 13,
   "metadata": {},
   "outputs": [
    {
     "output_type": "stream",
     "name": "stdout",
     "text": [
      "                            OLS Regression Results                            \n==============================================================================\nDep. Variable:                 SALARY   R-squared:                       0.824\nModel:                            OLS   Adj. R-squared:                  0.822\nMethod:                 Least Squares   F-statistic:                     438.0\nDate:                Wed, 02 Jun 2021   Prob (F-statistic):          2.17e-105\nTime:                        23:45:58   Log-Likelihood:                -2933.9\nNo. Observations:                 284   AIC:                             5876.\nDf Residuals:                     280   BIC:                             5890.\nDf Model:                           3                                         \nCovariance Type:            nonrobust                                         \n==============================================================================\n                 coef    std err          t      P>|t|      [0.025      0.975]\n------------------------------------------------------------------------------\nconst      -8072.6654   2205.752     -3.660      0.000   -1.24e+04   -3730.703\nEDUC         737.0181    207.036      3.560      0.000     329.474    1144.562\nSALBEGIN       1.4581      0.108     13.501      0.000       1.246       1.671\nJOBCAT      5613.5931    905.588      6.199      0.000    3830.968    7396.218\n==============================================================================\nOmnibus:                      157.870   Durbin-Watson:                   1.887\nProb(Omnibus):                  0.000   Jarque-Bera (JB):             1702.642\nSkew:                           2.013   Prob(JB):                         0.00\nKurtosis:                      14.300   Cond. No.                     9.21e+04\n==============================================================================\n\nNotes:\n[1] Standard Errors assume that the covariance matrix of the errors is correctly specified.\n[2] The condition number is large, 9.21e+04. This might indicate that there are\nstrong multicollinearity or other numerical problems.\n"
     ]
    }
   ],
   "source": [
    "X_train_sms = sms.add_constant(X_train)\n",
    "ls=sms.OLS(y_train,X_train_sms).fit()\n",
    "print(ls.summary())"
   ]
  },
  {
   "cell_type": "code",
   "execution_count": 11,
   "metadata": {},
   "outputs": [
    {
     "output_type": "stream",
     "name": "stdout",
     "text": [
      "                            OLS Regression Results                            \n==============================================================================\nDep. Variable:                 SALARY   R-squared:                       0.408\nModel:                            OLS   Adj. R-squared:                  0.396\nMethod:                 Least Squares   F-statistic:                     33.08\nDate:                Wed, 02 Jun 2021   Prob (F-statistic):           2.51e-16\nTime:                        22:19:33   Log-Likelihood:                -1434.3\nNo. Observations:                 148   AIC:                             2877.\nDf Residuals:                     144   BIC:                             2889.\nDf Model:                           3                                         \nCovariance Type:            nonrobust                                         \n==============================================================================\n                 coef    std err          t      P>|t|      [0.025      0.975]\n------------------------------------------------------------------------------\nconst       6249.0868   2307.784      2.708      0.008    1687.578    1.08e+04\nEDUC         425.2957    151.726      2.803      0.006     125.398     725.193\nSALBEGIN       0.9103      0.140      6.491      0.000       0.633       1.187\nJOBCAT      2616.8167    959.896      2.726      0.007     719.511    4514.123\n==============================================================================\nOmnibus:                        5.755   Durbin-Watson:                   2.167\nProb(Omnibus):                  0.056   Jarque-Bera (JB):                5.374\nSkew:                           0.454   Prob(JB):                       0.0681\nKurtosis:                       3.219   Cond. No.                     1.04e+05\n==============================================================================\n\nNotes:\n[1] Standard Errors assume that the covariance matrix of the errors is correctly specified.\n[2] The condition number is large, 1.04e+05. This might indicate that there are\nstrong multicollinearity or other numerical problems.\n"
     ]
    }
   ],
   "source": []
  },
  {
   "cell_type": "code",
   "execution_count": null,
   "metadata": {},
   "outputs": [],
   "source": []
  }
 ]
}