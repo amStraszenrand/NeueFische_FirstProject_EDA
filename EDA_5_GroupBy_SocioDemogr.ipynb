{
 "metadata": {
  "language_info": {
   "codemirror_mode": {
    "name": "ipython",
    "version": 3
   },
   "file_extension": ".py",
   "mimetype": "text/x-python",
   "name": "python",
   "nbconvert_exporter": "python",
   "pygments_lexer": "ipython3",
   "version": "3.8.5"
  },
  "orig_nbformat": 2,
  "kernelspec": {
   "name": "python385jvsc74a57bd0b97710d494ffeb654d41d16f65990d28edf229515e751f1ea393dba413e87e78",
   "display_name": "Python 3.8.5 64-bit"
  },
  "metadata": {
   "interpreter": {
    "hash": "b97710d494ffeb654d41d16f65990d28edf229515e751f1ea393dba413e87e78"
   }
  }
 },
 "nbformat": 4,
 "nbformat_minor": 2,
 "cells": [
  {
   "source": [
    "### What about the sociodemographic background\n",
    "\n",
    "So far the linear regression models take in account almost entirely the features `salary beginn`, `jobcatagory` and `education degree` as the most significant ones. But what about `gender` and the `minority` classification? "
   ],
   "cell_type": "markdown",
   "metadata": {}
  },
  {
   "cell_type": "code",
   "execution_count": 15,
   "metadata": {},
   "outputs": [],
   "source": [
    "import pandas as pd\n",
    "import numpy as np\n",
    "\n",
    "import seaborn as sns\n",
    "import plotly.express as plx\n",
    "\n",
    "from sklearn.model_selection import train_test_split\n",
    "from sklearn.linear_model import LinearRegression\n",
    "from sklearn.metrics import mean_squared_error\n",
    "import statsmodels.api as sms\n",
    "import scipy.stats as stats"
   ]
  },
  {
   "cell_type": "code",
   "execution_count": 16,
   "metadata": {},
   "outputs": [],
   "source": [
    "%store -r df"
   ]
  },
  {
   "cell_type": "code",
   "execution_count": null,
   "metadata": {},
   "outputs": [],
   "source": []
  },
  {
   "cell_type": "code",
   "execution_count": 3,
   "metadata": {},
   "outputs": [
    {
     "output_type": "execute_result",
     "data": {
      "text/plain": [
       "GENDER_DENOTING\n",
       "Female    26031.921296\n",
       "Male      41441.782946\n",
       "Name: SALARY, dtype: float64"
      ]
     },
     "metadata": {},
     "execution_count": 3
    }
   ],
   "source": [
    "df.groupby(\"GENDER_DENOTING\").mean()[\"SALARY\"]"
   ]
  },
  {
   "source": [
    "How can this difference in the salary mean between female and male salary be explained?"
   ],
   "cell_type": "markdown",
   "metadata": {}
  },
  {
   "cell_type": "code",
   "execution_count": 4,
   "metadata": {},
   "outputs": [
    {
     "output_type": "execute_result",
     "data": {
      "text/plain": [
       "MINORITY_DENOTING\n",
       "Minority    28713.942308\n",
       "White       36023.310811\n",
       "Name: SALARY, dtype: float64"
      ]
     },
     "metadata": {},
     "execution_count": 4
    }
   ],
   "source": [
    "df.groupby(\"MINORITY_DENOTING\").mean()[\"SALARY\"]"
   ]
  },
  {
   "source": [
    "The same hold for the difference in salary mean between minorities and white employees."
   ],
   "cell_type": "markdown",
   "metadata": {}
  },
  {
   "cell_type": "code",
   "execution_count": 17,
   "metadata": {},
   "outputs": [
    {
     "output_type": "execute_result",
     "data": {
      "text/plain": [
       "SOCIODEMOGRAPHY_DENOTING\n",
       "Minority_Female    23062.500000\n",
       "Minority_Male      32246.093750\n",
       "White_Female       26706.789773\n",
       "White_Male         44475.412371\n",
       "Name: SALARY, dtype: float64"
      ]
     },
     "metadata": {},
     "execution_count": 17
    }
   ],
   "source": [
    "df.groupby(\"SOCIODEMOGRAPHY_DENOTING\").mean()[\"SALARY\"]"
   ]
  },
  {
   "source": [
    "And here we can see that white male employees are those who benefit most from the salary policy of the bank - they earn roughly more than a doubled income as non-white female classified persons do."
   ],
   "cell_type": "markdown",
   "metadata": {}
  },
  {
   "source": [
    "Looking at the median instead of the mean value only slightly changes the picture:"
   ],
   "cell_type": "markdown",
   "metadata": {}
  },
  {
   "cell_type": "code",
   "execution_count": 22,
   "metadata": {},
   "outputs": [
    {
     "output_type": "execute_result",
     "data": {
      "text/plain": [
       "GENDER_DENOTING\n",
       "Female    24300.0\n",
       "Male      32850.0\n",
       "Name: 50%, dtype: float64"
      ]
     },
     "metadata": {},
     "execution_count": 22
    }
   ],
   "source": [
    "df.groupby(\"GENDER_DENOTING\").describe()[\"SALARY\"][\"50%\"]"
   ]
  },
  {
   "cell_type": "code",
   "execution_count": 23,
   "metadata": {},
   "outputs": [
    {
     "output_type": "execute_result",
     "data": {
      "text/plain": [
       "MINORITY_DENOTING\n",
       "Minority    26625.0\n",
       "White       29925.0\n",
       "Name: 50%, dtype: float64"
      ]
     },
     "metadata": {},
     "execution_count": 23
    }
   ],
   "source": [
    "df.groupby(\"MINORITY_DENOTING\").describe()[\"SALARY\"][\"50%\"]"
   ]
  },
  {
   "cell_type": "code",
   "execution_count": 24,
   "metadata": {},
   "outputs": [
    {
     "output_type": "execute_result",
     "data": {
      "text/plain": [
       "SOCIODEMOGRAPHY_DENOTING\n",
       "Minority_Female    23775.0\n",
       "Minority_Male      29025.0\n",
       "White_Female       24450.0\n",
       "White_Male         36000.0\n",
       "Name: 50%, dtype: float64"
      ]
     },
     "metadata": {},
     "execution_count": 24
    }
   ],
   "source": [
    "df.groupby(\"SOCIODEMOGRAPHY_DENOTING\").describe()[\"SALARY\"][\"50%\"]"
   ]
  },
  {
   "cell_type": "code",
   "execution_count": null,
   "metadata": {},
   "outputs": [],
   "source": []
  }
 ]
}