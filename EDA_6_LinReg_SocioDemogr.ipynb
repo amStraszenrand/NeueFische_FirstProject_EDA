{
 "metadata": {
  "language_info": {
   "codemirror_mode": {
    "name": "ipython",
    "version": 3
   },
   "file_extension": ".py",
   "mimetype": "text/x-python",
   "name": "python",
   "nbconvert_exporter": "python",
   "pygments_lexer": "ipython3",
   "version": "3.8.5"
  },
  "orig_nbformat": 2,
  "kernelspec": {
   "name": "python385jvsc74a57bd0b97710d494ffeb654d41d16f65990d28edf229515e751f1ea393dba413e87e78",
   "display_name": "Python 3.8.5 64-bit"
  },
  "metadata": {
   "interpreter": {
    "hash": "b97710d494ffeb654d41d16f65990d28edf229515e751f1ea393dba413e87e78"
   }
  }
 },
 "nbformat": 4,
 "nbformat_minor": 2,
 "cells": [
  {
   "source": [
    "### What about the sociodemographic background\n",
    "\n",
    "In notebook 6 we have seen that the sociodemographic background changes the chance of the paid salary. Lets check what our linear regression model says about that."
   ],
   "cell_type": "markdown",
   "metadata": {}
  },
  {
   "cell_type": "code",
   "execution_count": 26,
   "metadata": {},
   "outputs": [],
   "source": [
    "import pandas as pd\n",
    "import numpy as np\n",
    "\n",
    "import matplotlib.pyplot as plt\n",
    "import seaborn as sns\n",
    "import plotly.express as plx\n",
    "import plotly.graph_objects as go\n",
    "\n",
    "from sklearn.model_selection import train_test_split\n",
    "from sklearn.linear_model import LinearRegression\n",
    "from sklearn.metrics import mean_squared_error\n",
    "import statsmodels.api as sms\n",
    "import scipy.stats as stats"
   ]
  },
  {
   "cell_type": "code",
   "execution_count": 27,
   "metadata": {},
   "outputs": [],
   "source": [
    "%store -r df\n"
   ]
  },
  {
   "source": [
    "First we can take a look at the distribution of the salaries for female and male employees respectively."
   ],
   "cell_type": "markdown",
   "metadata": {}
  },
  {
   "cell_type": "code",
   "execution_count": 28,
   "metadata": {},
   "outputs": [
    {
     "output_type": "display_data",
     "data": {
      "application/vnd.plotly.v1+json": {
       "config": {
        "plotlyServerURL": "https://plot.ly"
       },
       "data": [
        {
         "meanline": {
          "visible": true
         },
         "name": "Female",
         "side": "positive",
         "type": "violin",
         "x": [
          "Female",
          "Female",
          "Female",
          "Female",
          "Female",
          "Female",
          "Female",
          "Female",
          "Female",
          "Female",
          "Female",
          "Female",
          "Female",
          "Female",
          "Female",
          "Female",
          "Female",
          "Female",
          "Female",
          "Female",
          "Female",
          "Female",
          "Female",
          "Female",
          "Female",
          "Female",
          "Female",
          "Female",
          "Female",
          "Female",
          "Female",
          "Female",
          "Female",
          "Female",
          "Female",
          "Female",
          "Female",
          "Female",
          "Female",
          "Female",
          "Female",
          "Female",
          "Female",
          "Female",
          "Female",
          "Female",
          "Female",
          "Female",
          "Female",
          "Female",
          "Female",
          "Female",
          "Female",
          "Female",
          "Female",
          "Female",
          "Female",
          "Female",
          "Female",
          "Female",
          "Female",
          "Female",
          "Female",
          "Female",
          "Female",
          "Female",
          "Female",
          "Female",
          "Female",
          "Female",
          "Female",
          "Female",
          "Female",
          "Female",
          "Female",
          "Female",
          "Female",
          "Female",
          "Female",
          "Female",
          "Female",
          "Female",
          "Female",
          "Female",
          "Female",
          "Female",
          "Female",
          "Female",
          "Female",
          "Female",
          "Female",
          "Female",
          "Female",
          "Female",
          "Female",
          "Female",
          "Female",
          "Female",
          "Female",
          "Female",
          "Female",
          "Female",
          "Female",
          "Female",
          "Female",
          "Female",
          "Female",
          "Female",
          "Female",
          "Female",
          "Female",
          "Female",
          "Female",
          "Female",
          "Female",
          "Female",
          "Female",
          "Female",
          "Female",
          "Female",
          "Female",
          "Female",
          "Female",
          "Female",
          "Female",
          "Female",
          "Female",
          "Female",
          "Female",
          "Female",
          "Female",
          "Female",
          "Female",
          "Female",
          "Female",
          "Female",
          "Female",
          "Female",
          "Female",
          "Female",
          "Female",
          "Female",
          "Female",
          "Female",
          "Female",
          "Female",
          "Female",
          "Female",
          "Female",
          "Female",
          "Female",
          "Female",
          "Female",
          "Female",
          "Female",
          "Female",
          "Female",
          "Female",
          "Female",
          "Female",
          "Female",
          "Female",
          "Female",
          "Female",
          "Female",
          "Female",
          "Female",
          "Female",
          "Female",
          "Female",
          "Female",
          "Female",
          "Female",
          "Female",
          "Female",
          "Female",
          "Female",
          "Female",
          "Female",
          "Female",
          "Female",
          "Female",
          "Female",
          "Female",
          "Female",
          "Female",
          "Female",
          "Female",
          "Female",
          "Female",
          "Female",
          "Female",
          "Female",
          "Female",
          "Female",
          "Female",
          "Female",
          "Female",
          "Female",
          "Female",
          "Female",
          "Female",
          "Female",
          "Female",
          "Female",
          "Female",
          "Female",
          "Female",
          "Female",
          "Female",
          "Female",
          "Female",
          "Female",
          "Female",
          "Female",
          "Female"
         ],
         "y": [
          21450,
          21900,
          21900,
          27900,
          24000,
          30300,
          35100,
          26250,
          38850,
          24000,
          16950,
          21150,
          31350,
          19200,
          23550,
          22350,
          30000,
          26400,
          54000,
          26400,
          33900,
          24150,
          29250,
          27600,
          22950,
          34800,
          51000,
          24300,
          24750,
          22950,
          25050,
          16200,
          20100,
          24000,
          25950,
          24600,
          28500,
          22050,
          25200,
          21000,
          31500,
          31650,
          25200,
          37800,
          18750,
          32550,
          33300,
          38550,
          19650,
          41550,
          26250,
          20100,
          22350,
          35550,
          28500,
          24450,
          16650,
          26550,
          26700,
          20850,
          26550,
          27750,
          25050,
          29400,
          33300,
          21900,
          18150,
          46875,
          29850,
          35700,
          28500,
          17100,
          24000,
          27450,
          18450,
          34500,
          36000,
          29100,
          16500,
          24750,
          27150,
          26400,
          23100,
          24000,
          19800,
          20400,
          19200,
          24000,
          27750,
          22350,
          16200,
          21900,
          23250,
          33900,
          25650,
          17250,
          27450,
          22650,
          27300,
          27750,
          54375,
          17400,
          40800,
          23100,
          22500,
          26700,
          24900,
          19650,
          22050,
          25500,
          28200,
          23100,
          17100,
          19650,
          22350,
          23400,
          24300,
          28500,
          19950,
          23400,
          34500,
          18150,
          43000,
          20850,
          24450,
          24750,
          23400,
          24600,
          32550,
          25800,
          22500,
          25650,
          21300,
          29850,
          34500,
          22050,
          22500,
          25500,
          29160,
          16800,
          24450,
          33000,
          37050,
          24450,
          26100,
          15900,
          23700,
          21750,
          24450,
          22200,
          22950,
          23100,
          56750,
          29100,
          37650,
          27900,
          21150,
          20550,
          17700,
          23550,
          19950,
          29400,
          28800,
          16950,
          17400,
          21450,
          24750,
          16950,
          26100,
          36600,
          58125,
          15750,
          19650,
          21000,
          20850,
          24150,
          24450,
          21600,
          27900,
          29100,
          22650,
          20850,
          22950,
          30600,
          20400,
          23850,
          22800,
          20700,
          21300,
          24300,
          19650,
          25200,
          16200,
          22800,
          43500,
          22200,
          31350,
          20850,
          20400,
          24150,
          23850,
          29700,
          21600,
          24450,
          16350,
          21750,
          22500,
          21600,
          34410,
          20700,
          23400,
          32850,
          55750,
          25200,
          21450,
          29400
         ]
        },
        {
         "meanline": {
          "visible": true
         },
         "name": "Male",
         "side": "negative",
         "type": "violin",
         "x": [
          "Male",
          "Male",
          "Male",
          "Male",
          "Male",
          "Male",
          "Male",
          "Male",
          "Male",
          "Male",
          "Male",
          "Male",
          "Male",
          "Male",
          "Male",
          "Male",
          "Male",
          "Male",
          "Male",
          "Male",
          "Male",
          "Male",
          "Male",
          "Male",
          "Male",
          "Male",
          "Male",
          "Male",
          "Male",
          "Male",
          "Male",
          "Male",
          "Male",
          "Male",
          "Male",
          "Male",
          "Male",
          "Male",
          "Male",
          "Male",
          "Male",
          "Male",
          "Male",
          "Male",
          "Male",
          "Male",
          "Male",
          "Male",
          "Male",
          "Male",
          "Male",
          "Male",
          "Male",
          "Male",
          "Male",
          "Male",
          "Male",
          "Male",
          "Male",
          "Male",
          "Male",
          "Male",
          "Male",
          "Male",
          "Male",
          "Male",
          "Male",
          "Male",
          "Male",
          "Male",
          "Male",
          "Male",
          "Male",
          "Male",
          "Male",
          "Male",
          "Male",
          "Male",
          "Male",
          "Male",
          "Male",
          "Male",
          "Male",
          "Male",
          "Male",
          "Male",
          "Male",
          "Male",
          "Male",
          "Male",
          "Male",
          "Male",
          "Male",
          "Male",
          "Male",
          "Male",
          "Male",
          "Male",
          "Male",
          "Male",
          "Male",
          "Male",
          "Male",
          "Male",
          "Male",
          "Male",
          "Male",
          "Male",
          "Male",
          "Male",
          "Male",
          "Male",
          "Male",
          "Male",
          "Male",
          "Male",
          "Male",
          "Male",
          "Male",
          "Male",
          "Male",
          "Male",
          "Male",
          "Male",
          "Male",
          "Male",
          "Male",
          "Male",
          "Male",
          "Male",
          "Male",
          "Male",
          "Male",
          "Male",
          "Male",
          "Male",
          "Male",
          "Male",
          "Male",
          "Male",
          "Male",
          "Male",
          "Male",
          "Male",
          "Male",
          "Male",
          "Male",
          "Male",
          "Male",
          "Male",
          "Male",
          "Male",
          "Male",
          "Male",
          "Male",
          "Male",
          "Male",
          "Male",
          "Male",
          "Male",
          "Male",
          "Male",
          "Male",
          "Male",
          "Male",
          "Male",
          "Male",
          "Male",
          "Male",
          "Male",
          "Male",
          "Male",
          "Male",
          "Male",
          "Male",
          "Male",
          "Male",
          "Male",
          "Male",
          "Male",
          "Male",
          "Male",
          "Male",
          "Male",
          "Male",
          "Male",
          "Male",
          "Male",
          "Male",
          "Male",
          "Male",
          "Male",
          "Male",
          "Male",
          "Male",
          "Male",
          "Male",
          "Male",
          "Male",
          "Male",
          "Male",
          "Male",
          "Male",
          "Male",
          "Male",
          "Male",
          "Male",
          "Male",
          "Male",
          "Male",
          "Male",
          "Male",
          "Male",
          "Male",
          "Male",
          "Male",
          "Male",
          "Male",
          "Male",
          "Male",
          "Male",
          "Male",
          "Male",
          "Male",
          "Male",
          "Male",
          "Male",
          "Male",
          "Male",
          "Male",
          "Male",
          "Male",
          "Male",
          "Male",
          "Male",
          "Male",
          "Male",
          "Male",
          "Male",
          "Male",
          "Male",
          "Male",
          "Male",
          "Male",
          "Male",
          "Male",
          "Male",
          "Male",
          "Male",
          "Male",
          "Male",
          "Male",
          "Male",
          "Male",
          "Male",
          "Male",
          "Male",
          "Male"
         ],
         "y": [
          57000,
          40200,
          45000,
          32100,
          36000,
          28350,
          27750,
          27300,
          40800,
          46000,
          103750,
          42300,
          21750,
          31050,
          60375,
          32550,
          135000,
          31200,
          36150,
          110625,
          42000,
          92000,
          81250,
          29100,
          31350,
          36000,
          35100,
          23250,
          29250,
          30750,
          30750,
          34800,
          60000,
          35550,
          45150,
          73750,
          25050,
          27000,
          26850,
          33900,
          28050,
          30900,
          22500,
          48000,
          55000,
          53125,
          21900,
          78125,
          46000,
          45250,
          56550,
          41100,
          82500,
          25950,
          31650,
          24150,
          72500,
          68750,
          30750,
          40200,
          30000,
          78250,
          60625,
          39900,
          97000,
          27450,
          31650,
          91250,
          30450,
          28350,
          30750,
          30750,
          54875,
          37800,
          33450,
          30300,
          27450,
          24300,
          30750,
          68750,
          59375,
          31500,
          27300,
          27000,
          22200,
          65000,
          30900,
          26700,
          43950,
          23700,
          27600,
          25800,
          42300,
          30750,
          35250,
          26700,
          66000,
          52650,
          45625,
          30900,
          25500,
          26550,
          26700,
          69250,
          31950,
          26250,
          25200,
          39300,
          38850,
          30750,
          37500,
          58750,
          19650,
          54900,
          70875,
          51250,
          67500,
          29340,
          39600,
          29100,
          33150,
          66750,
          33750,
          27300,
          30600,
          28950,
          38400,
          30750,
          30150,
          34620,
          80000,
          25350,
          29850,
          22500,
          40200,
          55500,
          26550,
          50550,
          75000,
          25500,
          68125,
          30600,
          52125,
          61875,
          21300,
          22350,
          40200,
          28650,
          27750,
          66875,
          30000,
          83750,
          33900,
          56500,
          34500,
          27900,
          68125,
          73500,
          30750,
          40050,
          40350,
          38700,
          65000,
          51450,
          35250,
          25950,
          25050,
          26700,
          24000,
          26850,
          26550,
          31500,
          22350,
          35250,
          30750,
          30750,
          50000,
          34500,
          26250,
          44875,
          27750,
          27750,
          48750,
          43410,
          22050,
          29550,
          26700,
          55000,
          62500,
          27300,
          31950,
          47250,
          59400,
          103500,
          35700,
          31200,
          25950,
          28350,
          35700,
          28050,
          21300,
          22500,
          29400,
          27450,
          29850,
          25350,
          27000,
          24000,
          78500,
          30000,
          28500,
          65000,
          30150,
          66875,
          60000,
          30300,
          61250,
          36000,
          30300,
          31950,
          35250,
          37800,
          31200,
          29400,
          70000,
          33900,
          27150,
          33300,
          26250,
          31950,
          30000,
          66250,
          86250,
          30750,
          33540,
          34950,
          40350,
          30270,
          26250,
          32400,
          28050,
          100000,
          49000,
          70000,
          55000,
          28500,
          28800,
          24450,
          90625,
          43650,
          75000,
          31650,
          61875,
          47550,
          33900,
          26250,
          26400,
          39150
         ]
        }
       ],
       "layout": {
        "height": 800,
        "template": {
         "data": {
          "bar": [
           {
            "error_x": {
             "color": "#2a3f5f"
            },
            "error_y": {
             "color": "#2a3f5f"
            },
            "marker": {
             "line": {
              "color": "#E5ECF6",
              "width": 0.5
             }
            },
            "type": "bar"
           }
          ],
          "barpolar": [
           {
            "marker": {
             "line": {
              "color": "#E5ECF6",
              "width": 0.5
             }
            },
            "type": "barpolar"
           }
          ],
          "carpet": [
           {
            "aaxis": {
             "endlinecolor": "#2a3f5f",
             "gridcolor": "white",
             "linecolor": "white",
             "minorgridcolor": "white",
             "startlinecolor": "#2a3f5f"
            },
            "baxis": {
             "endlinecolor": "#2a3f5f",
             "gridcolor": "white",
             "linecolor": "white",
             "minorgridcolor": "white",
             "startlinecolor": "#2a3f5f"
            },
            "type": "carpet"
           }
          ],
          "choropleth": [
           {
            "colorbar": {
             "outlinewidth": 0,
             "ticks": ""
            },
            "type": "choropleth"
           }
          ],
          "contour": [
           {
            "colorbar": {
             "outlinewidth": 0,
             "ticks": ""
            },
            "colorscale": [
             [
              0,
              "#0d0887"
             ],
             [
              0.1111111111111111,
              "#46039f"
             ],
             [
              0.2222222222222222,
              "#7201a8"
             ],
             [
              0.3333333333333333,
              "#9c179e"
             ],
             [
              0.4444444444444444,
              "#bd3786"
             ],
             [
              0.5555555555555556,
              "#d8576b"
             ],
             [
              0.6666666666666666,
              "#ed7953"
             ],
             [
              0.7777777777777778,
              "#fb9f3a"
             ],
             [
              0.8888888888888888,
              "#fdca26"
             ],
             [
              1,
              "#f0f921"
             ]
            ],
            "type": "contour"
           }
          ],
          "contourcarpet": [
           {
            "colorbar": {
             "outlinewidth": 0,
             "ticks": ""
            },
            "type": "contourcarpet"
           }
          ],
          "heatmap": [
           {
            "colorbar": {
             "outlinewidth": 0,
             "ticks": ""
            },
            "colorscale": [
             [
              0,
              "#0d0887"
             ],
             [
              0.1111111111111111,
              "#46039f"
             ],
             [
              0.2222222222222222,
              "#7201a8"
             ],
             [
              0.3333333333333333,
              "#9c179e"
             ],
             [
              0.4444444444444444,
              "#bd3786"
             ],
             [
              0.5555555555555556,
              "#d8576b"
             ],
             [
              0.6666666666666666,
              "#ed7953"
             ],
             [
              0.7777777777777778,
              "#fb9f3a"
             ],
             [
              0.8888888888888888,
              "#fdca26"
             ],
             [
              1,
              "#f0f921"
             ]
            ],
            "type": "heatmap"
           }
          ],
          "heatmapgl": [
           {
            "colorbar": {
             "outlinewidth": 0,
             "ticks": ""
            },
            "colorscale": [
             [
              0,
              "#0d0887"
             ],
             [
              0.1111111111111111,
              "#46039f"
             ],
             [
              0.2222222222222222,
              "#7201a8"
             ],
             [
              0.3333333333333333,
              "#9c179e"
             ],
             [
              0.4444444444444444,
              "#bd3786"
             ],
             [
              0.5555555555555556,
              "#d8576b"
             ],
             [
              0.6666666666666666,
              "#ed7953"
             ],
             [
              0.7777777777777778,
              "#fb9f3a"
             ],
             [
              0.8888888888888888,
              "#fdca26"
             ],
             [
              1,
              "#f0f921"
             ]
            ],
            "type": "heatmapgl"
           }
          ],
          "histogram": [
           {
            "marker": {
             "colorbar": {
              "outlinewidth": 0,
              "ticks": ""
             }
            },
            "type": "histogram"
           }
          ],
          "histogram2d": [
           {
            "colorbar": {
             "outlinewidth": 0,
             "ticks": ""
            },
            "colorscale": [
             [
              0,
              "#0d0887"
             ],
             [
              0.1111111111111111,
              "#46039f"
             ],
             [
              0.2222222222222222,
              "#7201a8"
             ],
             [
              0.3333333333333333,
              "#9c179e"
             ],
             [
              0.4444444444444444,
              "#bd3786"
             ],
             [
              0.5555555555555556,
              "#d8576b"
             ],
             [
              0.6666666666666666,
              "#ed7953"
             ],
             [
              0.7777777777777778,
              "#fb9f3a"
             ],
             [
              0.8888888888888888,
              "#fdca26"
             ],
             [
              1,
              "#f0f921"
             ]
            ],
            "type": "histogram2d"
           }
          ],
          "histogram2dcontour": [
           {
            "colorbar": {
             "outlinewidth": 0,
             "ticks": ""
            },
            "colorscale": [
             [
              0,
              "#0d0887"
             ],
             [
              0.1111111111111111,
              "#46039f"
             ],
             [
              0.2222222222222222,
              "#7201a8"
             ],
             [
              0.3333333333333333,
              "#9c179e"
             ],
             [
              0.4444444444444444,
              "#bd3786"
             ],
             [
              0.5555555555555556,
              "#d8576b"
             ],
             [
              0.6666666666666666,
              "#ed7953"
             ],
             [
              0.7777777777777778,
              "#fb9f3a"
             ],
             [
              0.8888888888888888,
              "#fdca26"
             ],
             [
              1,
              "#f0f921"
             ]
            ],
            "type": "histogram2dcontour"
           }
          ],
          "mesh3d": [
           {
            "colorbar": {
             "outlinewidth": 0,
             "ticks": ""
            },
            "type": "mesh3d"
           }
          ],
          "parcoords": [
           {
            "line": {
             "colorbar": {
              "outlinewidth": 0,
              "ticks": ""
             }
            },
            "type": "parcoords"
           }
          ],
          "pie": [
           {
            "automargin": true,
            "type": "pie"
           }
          ],
          "scatter": [
           {
            "marker": {
             "colorbar": {
              "outlinewidth": 0,
              "ticks": ""
             }
            },
            "type": "scatter"
           }
          ],
          "scatter3d": [
           {
            "line": {
             "colorbar": {
              "outlinewidth": 0,
              "ticks": ""
             }
            },
            "marker": {
             "colorbar": {
              "outlinewidth": 0,
              "ticks": ""
             }
            },
            "type": "scatter3d"
           }
          ],
          "scattercarpet": [
           {
            "marker": {
             "colorbar": {
              "outlinewidth": 0,
              "ticks": ""
             }
            },
            "type": "scattercarpet"
           }
          ],
          "scattergeo": [
           {
            "marker": {
             "colorbar": {
              "outlinewidth": 0,
              "ticks": ""
             }
            },
            "type": "scattergeo"
           }
          ],
          "scattergl": [
           {
            "marker": {
             "colorbar": {
              "outlinewidth": 0,
              "ticks": ""
             }
            },
            "type": "scattergl"
           }
          ],
          "scattermapbox": [
           {
            "marker": {
             "colorbar": {
              "outlinewidth": 0,
              "ticks": ""
             }
            },
            "type": "scattermapbox"
           }
          ],
          "scatterpolar": [
           {
            "marker": {
             "colorbar": {
              "outlinewidth": 0,
              "ticks": ""
             }
            },
            "type": "scatterpolar"
           }
          ],
          "scatterpolargl": [
           {
            "marker": {
             "colorbar": {
              "outlinewidth": 0,
              "ticks": ""
             }
            },
            "type": "scatterpolargl"
           }
          ],
          "scatterternary": [
           {
            "marker": {
             "colorbar": {
              "outlinewidth": 0,
              "ticks": ""
             }
            },
            "type": "scatterternary"
           }
          ],
          "surface": [
           {
            "colorbar": {
             "outlinewidth": 0,
             "ticks": ""
            },
            "colorscale": [
             [
              0,
              "#0d0887"
             ],
             [
              0.1111111111111111,
              "#46039f"
             ],
             [
              0.2222222222222222,
              "#7201a8"
             ],
             [
              0.3333333333333333,
              "#9c179e"
             ],
             [
              0.4444444444444444,
              "#bd3786"
             ],
             [
              0.5555555555555556,
              "#d8576b"
             ],
             [
              0.6666666666666666,
              "#ed7953"
             ],
             [
              0.7777777777777778,
              "#fb9f3a"
             ],
             [
              0.8888888888888888,
              "#fdca26"
             ],
             [
              1,
              "#f0f921"
             ]
            ],
            "type": "surface"
           }
          ],
          "table": [
           {
            "cells": {
             "fill": {
              "color": "#EBF0F8"
             },
             "line": {
              "color": "white"
             }
            },
            "header": {
             "fill": {
              "color": "#C8D4E3"
             },
             "line": {
              "color": "white"
             }
            },
            "type": "table"
           }
          ]
         },
         "layout": {
          "annotationdefaults": {
           "arrowcolor": "#2a3f5f",
           "arrowhead": 0,
           "arrowwidth": 1
          },
          "autotypenumbers": "strict",
          "coloraxis": {
           "colorbar": {
            "outlinewidth": 0,
            "ticks": ""
           }
          },
          "colorscale": {
           "diverging": [
            [
             0,
             "#8e0152"
            ],
            [
             0.1,
             "#c51b7d"
            ],
            [
             0.2,
             "#de77ae"
            ],
            [
             0.3,
             "#f1b6da"
            ],
            [
             0.4,
             "#fde0ef"
            ],
            [
             0.5,
             "#f7f7f7"
            ],
            [
             0.6,
             "#e6f5d0"
            ],
            [
             0.7,
             "#b8e186"
            ],
            [
             0.8,
             "#7fbc41"
            ],
            [
             0.9,
             "#4d9221"
            ],
            [
             1,
             "#276419"
            ]
           ],
           "sequential": [
            [
             0,
             "#0d0887"
            ],
            [
             0.1111111111111111,
             "#46039f"
            ],
            [
             0.2222222222222222,
             "#7201a8"
            ],
            [
             0.3333333333333333,
             "#9c179e"
            ],
            [
             0.4444444444444444,
             "#bd3786"
            ],
            [
             0.5555555555555556,
             "#d8576b"
            ],
            [
             0.6666666666666666,
             "#ed7953"
            ],
            [
             0.7777777777777778,
             "#fb9f3a"
            ],
            [
             0.8888888888888888,
             "#fdca26"
            ],
            [
             1,
             "#f0f921"
            ]
           ],
           "sequentialminus": [
            [
             0,
             "#0d0887"
            ],
            [
             0.1111111111111111,
             "#46039f"
            ],
            [
             0.2222222222222222,
             "#7201a8"
            ],
            [
             0.3333333333333333,
             "#9c179e"
            ],
            [
             0.4444444444444444,
             "#bd3786"
            ],
            [
             0.5555555555555556,
             "#d8576b"
            ],
            [
             0.6666666666666666,
             "#ed7953"
            ],
            [
             0.7777777777777778,
             "#fb9f3a"
            ],
            [
             0.8888888888888888,
             "#fdca26"
            ],
            [
             1,
             "#f0f921"
            ]
           ]
          },
          "colorway": [
           "#636efa",
           "#EF553B",
           "#00cc96",
           "#ab63fa",
           "#FFA15A",
           "#19d3f3",
           "#FF6692",
           "#B6E880",
           "#FF97FF",
           "#FECB52"
          ],
          "font": {
           "color": "#2a3f5f"
          },
          "geo": {
           "bgcolor": "white",
           "lakecolor": "white",
           "landcolor": "#E5ECF6",
           "showlakes": true,
           "showland": true,
           "subunitcolor": "white"
          },
          "hoverlabel": {
           "align": "left"
          },
          "hovermode": "closest",
          "mapbox": {
           "style": "light"
          },
          "paper_bgcolor": "white",
          "plot_bgcolor": "#E5ECF6",
          "polar": {
           "angularaxis": {
            "gridcolor": "white",
            "linecolor": "white",
            "ticks": ""
           },
           "bgcolor": "#E5ECF6",
           "radialaxis": {
            "gridcolor": "white",
            "linecolor": "white",
            "ticks": ""
           }
          },
          "scene": {
           "xaxis": {
            "backgroundcolor": "#E5ECF6",
            "gridcolor": "white",
            "gridwidth": 2,
            "linecolor": "white",
            "showbackground": true,
            "ticks": "",
            "zerolinecolor": "white"
           },
           "yaxis": {
            "backgroundcolor": "#E5ECF6",
            "gridcolor": "white",
            "gridwidth": 2,
            "linecolor": "white",
            "showbackground": true,
            "ticks": "",
            "zerolinecolor": "white"
           },
           "zaxis": {
            "backgroundcolor": "#E5ECF6",
            "gridcolor": "white",
            "gridwidth": 2,
            "linecolor": "white",
            "showbackground": true,
            "ticks": "",
            "zerolinecolor": "white"
           }
          },
          "shapedefaults": {
           "line": {
            "color": "#2a3f5f"
           }
          },
          "ternary": {
           "aaxis": {
            "gridcolor": "white",
            "linecolor": "white",
            "ticks": ""
           },
           "baxis": {
            "gridcolor": "white",
            "linecolor": "white",
            "ticks": ""
           },
           "bgcolor": "#E5ECF6",
           "caxis": {
            "gridcolor": "white",
            "linecolor": "white",
            "ticks": ""
           }
          },
          "title": {
           "x": 0.05
          },
          "xaxis": {
           "automargin": true,
           "gridcolor": "white",
           "linecolor": "white",
           "ticks": "",
           "title": {
            "standoff": 15
           },
           "zerolinecolor": "white",
           "zerolinewidth": 2
          },
          "yaxis": {
           "automargin": true,
           "gridcolor": "white",
           "linecolor": "white",
           "ticks": "",
           "title": {
            "standoff": 15
           },
           "zerolinecolor": "white",
           "zerolinewidth": 2
          }
         }
        },
        "violingap": 0,
        "violinmode": "overlay",
        "width": 600,
        "yaxis": {
         "title": {
          "text": "Salary"
         }
        }
       }
      }
     },
     "metadata": {}
    }
   ],
   "source": [
    "fig = go.Figure()\n",
    "\n",
    "mask = df['GENDER_DENOTING'] == 'Female'\n",
    "fig.add_trace(\n",
    "    go.Violin(x= df[mask]['GENDER_DENOTING'],\n",
    "            y= df[ mask ]['SALARY'],\n",
    "            name='Female',\n",
    "            side='positive'\n",
    "            )\n",
    ")\n",
    "\n",
    "mask = df['GENDER_DENOTING'] == 'Male'\n",
    "fig.add_trace(\n",
    "    go.Violin(x=df[mask]['GENDER_DENOTING'],\n",
    "            y=df[ mask ]['SALARY'],\n",
    "            name='Male',\n",
    "            side='negative'\n",
    "            )\n",
    "    )\n",
    "fig.update_traces(meanline_visible=True)\n",
    "fig.update_layout(\n",
    "    width=600,\n",
    "    height=800,\n",
    "    violingap=0, \n",
    "    violinmode='overlay',\n",
    "    yaxis_title=\"Salary\"\n",
    ")\n",
    "fig.show()"
   ]
  },
  {
   "source": [
    "This plot shows the difference in salary distribution for the categorized gender. The mean and the range to the top is distinctively higher for male categorized employees."
   ],
   "cell_type": "markdown",
   "metadata": {}
  },
  {
   "source": [],
   "cell_type": "markdown",
   "metadata": {}
  },
  {
   "cell_type": "code",
   "execution_count": 29,
   "metadata": {},
   "outputs": [
    {
     "output_type": "execute_result",
     "data": {
      "text/plain": [
       "<AxesSubplot:>"
      ]
     },
     "metadata": {},
     "execution_count": 29
    },
    {
     "output_type": "display_data",
     "data": {
      "text/plain": "<Figure size 432x288 with 2 Axes>",
      "image/svg+xml": "<?xml version=\"1.0\" encoding=\"utf-8\" standalone=\"no\"?>\n<!DOCTYPE svg PUBLIC \"-//W3C//DTD SVG 1.1//EN\"\n  \"http://www.w3.org/Graphics/SVG/1.1/DTD/svg11.dtd\">\n<svg height=\"252.317344pt\" version=\"1.1\" viewBox=\"0 0 349.43325 252.317344\" width=\"349.43325pt\" xmlns=\"http://www.w3.org/2000/svg\" xmlns:xlink=\"http://www.w3.org/1999/xlink\">\n <metadata>\n  <rdf:RDF xmlns:cc=\"http://creativecommons.org/ns#\" xmlns:dc=\"http://purl.org/dc/elements/1.1/\" xmlns:rdf=\"http://www.w3.org/1999/02/22-rdf-syntax-ns#\">\n   <cc:Work>\n    <dc:type rdf:resource=\"http://purl.org/dc/dcmitype/StillImage\"/>\n    <dc:date>2021-06-04T16:40:51.436097</dc:date>\n    <dc:format>image/svg+xml</dc:format>\n    <dc:creator>\n     <cc:Agent>\n      <dc:title>Matplotlib v3.4.2, https://matplotlib.org/</dc:title>\n     </cc:Agent>\n    </dc:creator>\n   </cc:Work>\n  </rdf:RDF>\n </metadata>\n <defs>\n  <style type=\"text/css\">*{stroke-linecap:butt;stroke-linejoin:round;}</style>\n </defs>\n <g id=\"figure_1\">\n  <g id=\"patch_1\">\n   <path d=\"M -0 252.317344 \nL 349.43325 252.317344 \nL 349.43325 0 \nL -0 0 \nz\n\" style=\"fill:none;\"/>\n  </g>\n  <g id=\"axes_1\">\n   <g id=\"patch_2\">\n    <path d=\"M 23.878125 228.439219 \nL 291.718125 228.439219 \nL 291.718125 10.999219 \nL 23.878125 10.999219 \nz\n\" style=\"fill:#ffffff;\"/>\n   </g>\n   <g id=\"QuadMesh_1\">\n    <path clip-path=\"url(#p1316bb6579)\" d=\"M 23.878125 10.999219 \nL 157.798125 10.999219 \nL 157.798125 119.719219 \nL 23.878125 119.719219 \nL 23.878125 10.999219 \n\" style=\"fill:#faebdd;stroke:#ffffff;\"/>\n    <path clip-path=\"url(#p1316bb6579)\" d=\"M 157.798125 10.999219 \nL 291.718125 10.999219 \nL 291.718125 119.719219 \nL 157.798125 119.719219 \nL 157.798125 10.999219 \n\" style=\"fill:#03051a;stroke:#ffffff;\"/>\n    <path clip-path=\"url(#p1316bb6579)\" d=\"M 23.878125 119.719219 \nL 157.798125 119.719219 \nL 157.798125 228.439219 \nL 23.878125 228.439219 \nL 23.878125 119.719219 \n\" style=\"fill:#03051a;stroke:#ffffff;\"/>\n    <path clip-path=\"url(#p1316bb6579)\" d=\"M 157.798125 119.719219 \nL 291.718125 119.719219 \nL 291.718125 228.439219 \nL 157.798125 228.439219 \nL 157.798125 119.719219 \n\" style=\"fill:#faebdd;stroke:#ffffff;\"/>\n   </g>\n   <g id=\"matplotlib.axis_1\">\n    <g id=\"xtick_1\">\n     <g id=\"line2d_1\">\n      <defs>\n       <path d=\"M 0 0 \nL 0 3.5 \n\" id=\"mf787caa4ee\" style=\"stroke:#000000;stroke-width:0.8;\"/>\n      </defs>\n      <g>\n       <use style=\"stroke:#000000;stroke-width:0.8;\" x=\"90.838125\" xlink:href=\"#mf787caa4ee\" y=\"228.439219\"/>\n      </g>\n     </g>\n     <g id=\"text_1\">\n      <!-- SALARY -->\n      <g transform=\"translate(71.621719 243.037656)scale(0.1 -0.1)\">\n       <defs>\n        <path d=\"M 3425 4513 \nL 3425 3897 \nQ 3066 4069 2747 4153 \nQ 2428 4238 2131 4238 \nQ 1616 4238 1336 4038 \nQ 1056 3838 1056 3469 \nQ 1056 3159 1242 3001 \nQ 1428 2844 1947 2747 \nL 2328 2669 \nQ 3034 2534 3370 2195 \nQ 3706 1856 3706 1288 \nQ 3706 609 3251 259 \nQ 2797 -91 1919 -91 \nQ 1588 -91 1214 -16 \nQ 841 59 441 206 \nL 441 856 \nQ 825 641 1194 531 \nQ 1563 422 1919 422 \nQ 2459 422 2753 634 \nQ 3047 847 3047 1241 \nQ 3047 1584 2836 1778 \nQ 2625 1972 2144 2069 \nL 1759 2144 \nQ 1053 2284 737 2584 \nQ 422 2884 422 3419 \nQ 422 4038 858 4394 \nQ 1294 4750 2059 4750 \nQ 2388 4750 2728 4690 \nQ 3069 4631 3425 4513 \nz\n\" id=\"DejaVuSans-53\" transform=\"scale(0.015625)\"/>\n        <path d=\"M 2188 4044 \nL 1331 1722 \nL 3047 1722 \nL 2188 4044 \nz\nM 1831 4666 \nL 2547 4666 \nL 4325 0 \nL 3669 0 \nL 3244 1197 \nL 1141 1197 \nL 716 0 \nL 50 0 \nL 1831 4666 \nz\n\" id=\"DejaVuSans-41\" transform=\"scale(0.015625)\"/>\n        <path d=\"M 628 4666 \nL 1259 4666 \nL 1259 531 \nL 3531 531 \nL 3531 0 \nL 628 0 \nL 628 4666 \nz\n\" id=\"DejaVuSans-4c\" transform=\"scale(0.015625)\"/>\n        <path d=\"M 2841 2188 \nQ 3044 2119 3236 1894 \nQ 3428 1669 3622 1275 \nL 4263 0 \nL 3584 0 \nL 2988 1197 \nQ 2756 1666 2539 1819 \nQ 2322 1972 1947 1972 \nL 1259 1972 \nL 1259 0 \nL 628 0 \nL 628 4666 \nL 2053 4666 \nQ 2853 4666 3247 4331 \nQ 3641 3997 3641 3322 \nQ 3641 2881 3436 2590 \nQ 3231 2300 2841 2188 \nz\nM 1259 4147 \nL 1259 2491 \nL 2053 2491 \nQ 2509 2491 2742 2702 \nQ 2975 2913 2975 3322 \nQ 2975 3731 2742 3939 \nQ 2509 4147 2053 4147 \nL 1259 4147 \nz\n\" id=\"DejaVuSans-52\" transform=\"scale(0.015625)\"/>\n        <path d=\"M -13 4666 \nL 666 4666 \nL 1959 2747 \nL 3244 4666 \nL 3922 4666 \nL 2272 2222 \nL 2272 0 \nL 1638 0 \nL 1638 2222 \nL -13 4666 \nz\n\" id=\"DejaVuSans-59\" transform=\"scale(0.015625)\"/>\n       </defs>\n       <use xlink:href=\"#DejaVuSans-53\"/>\n       <use x=\"65.351562\" xlink:href=\"#DejaVuSans-41\"/>\n       <use x=\"133.759766\" xlink:href=\"#DejaVuSans-4c\"/>\n       <use x=\"191.722656\" xlink:href=\"#DejaVuSans-41\"/>\n       <use x=\"260.130859\" xlink:href=\"#DejaVuSans-52\"/>\n       <use x=\"323.238281\" xlink:href=\"#DejaVuSans-59\"/>\n      </g>\n     </g>\n    </g>\n    <g id=\"xtick_2\">\n     <g id=\"line2d_2\">\n      <g>\n       <use style=\"stroke:#000000;stroke-width:0.8;\" x=\"224.758125\" xlink:href=\"#mf787caa4ee\" y=\"228.439219\"/>\n      </g>\n     </g>\n     <g id=\"text_2\">\n      <!-- GENDER -->\n      <g transform=\"translate(203.500313 243.037656)scale(0.1 -0.1)\">\n       <defs>\n        <path d=\"M 3809 666 \nL 3809 1919 \nL 2778 1919 \nL 2778 2438 \nL 4434 2438 \nL 4434 434 \nQ 4069 175 3628 42 \nQ 3188 -91 2688 -91 \nQ 1594 -91 976 548 \nQ 359 1188 359 2328 \nQ 359 3472 976 4111 \nQ 1594 4750 2688 4750 \nQ 3144 4750 3555 4637 \nQ 3966 4525 4313 4306 \nL 4313 3634 \nQ 3963 3931 3569 4081 \nQ 3175 4231 2741 4231 \nQ 1884 4231 1454 3753 \nQ 1025 3275 1025 2328 \nQ 1025 1384 1454 906 \nQ 1884 428 2741 428 \nQ 3075 428 3337 486 \nQ 3600 544 3809 666 \nz\n\" id=\"DejaVuSans-47\" transform=\"scale(0.015625)\"/>\n        <path d=\"M 628 4666 \nL 3578 4666 \nL 3578 4134 \nL 1259 4134 \nL 1259 2753 \nL 3481 2753 \nL 3481 2222 \nL 1259 2222 \nL 1259 531 \nL 3634 531 \nL 3634 0 \nL 628 0 \nL 628 4666 \nz\n\" id=\"DejaVuSans-45\" transform=\"scale(0.015625)\"/>\n        <path d=\"M 628 4666 \nL 1478 4666 \nL 3547 763 \nL 3547 4666 \nL 4159 4666 \nL 4159 0 \nL 3309 0 \nL 1241 3903 \nL 1241 0 \nL 628 0 \nL 628 4666 \nz\n\" id=\"DejaVuSans-4e\" transform=\"scale(0.015625)\"/>\n        <path d=\"M 1259 4147 \nL 1259 519 \nL 2022 519 \nQ 2988 519 3436 956 \nQ 3884 1394 3884 2338 \nQ 3884 3275 3436 3711 \nQ 2988 4147 2022 4147 \nL 1259 4147 \nz\nM 628 4666 \nL 1925 4666 \nQ 3281 4666 3915 4102 \nQ 4550 3538 4550 2338 \nQ 4550 1131 3912 565 \nQ 3275 0 1925 0 \nL 628 0 \nL 628 4666 \nz\n\" id=\"DejaVuSans-44\" transform=\"scale(0.015625)\"/>\n       </defs>\n       <use xlink:href=\"#DejaVuSans-47\"/>\n       <use x=\"77.490234\" xlink:href=\"#DejaVuSans-45\"/>\n       <use x=\"140.673828\" xlink:href=\"#DejaVuSans-4e\"/>\n       <use x=\"215.478516\" xlink:href=\"#DejaVuSans-44\"/>\n       <use x=\"292.480469\" xlink:href=\"#DejaVuSans-45\"/>\n       <use x=\"355.664062\" xlink:href=\"#DejaVuSans-52\"/>\n      </g>\n     </g>\n    </g>\n   </g>\n   <g id=\"matplotlib.axis_2\">\n    <g id=\"ytick_1\">\n     <g id=\"line2d_3\">\n      <defs>\n       <path d=\"M 0 0 \nL -3.5 0 \n\" id=\"mc1d203e9b6\" style=\"stroke:#000000;stroke-width:0.8;\"/>\n      </defs>\n      <g>\n       <use style=\"stroke:#000000;stroke-width:0.8;\" x=\"23.878125\" xlink:href=\"#mc1d203e9b6\" y=\"65.359219\"/>\n      </g>\n     </g>\n     <g id=\"text_3\">\n      <!-- SALARY -->\n      <g transform=\"translate(14.798437 99.992812)rotate(-90)scale(0.1 -0.1)\">\n       <use xlink:href=\"#DejaVuSans-53\"/>\n       <use x=\"65.351562\" xlink:href=\"#DejaVuSans-41\"/>\n       <use x=\"133.759766\" xlink:href=\"#DejaVuSans-4c\"/>\n       <use x=\"191.722656\" xlink:href=\"#DejaVuSans-41\"/>\n       <use x=\"260.130859\" xlink:href=\"#DejaVuSans-52\"/>\n       <use x=\"323.238281\" xlink:href=\"#DejaVuSans-59\"/>\n      </g>\n     </g>\n    </g>\n    <g id=\"ytick_2\">\n     <g id=\"line2d_4\">\n      <g>\n       <use style=\"stroke:#000000;stroke-width:0.8;\" x=\"23.878125\" xlink:href=\"#mc1d203e9b6\" y=\"174.079219\"/>\n      </g>\n     </g>\n     <g id=\"text_4\">\n      <!-- GENDER -->\n      <g transform=\"translate(14.798437 212.795625)rotate(-90)scale(0.1 -0.1)\">\n       <use xlink:href=\"#DejaVuSans-47\"/>\n       <use x=\"77.490234\" xlink:href=\"#DejaVuSans-45\"/>\n       <use x=\"140.673828\" xlink:href=\"#DejaVuSans-4e\"/>\n       <use x=\"215.478516\" xlink:href=\"#DejaVuSans-44\"/>\n       <use x=\"292.480469\" xlink:href=\"#DejaVuSans-45\"/>\n       <use x=\"355.664062\" xlink:href=\"#DejaVuSans-52\"/>\n      </g>\n     </g>\n    </g>\n   </g>\n   <g id=\"text_5\">\n    <!-- 1 -->\n    <g style=\"fill:#262626;\" transform=\"translate(87.656875 68.118594)scale(0.1 -0.1)\">\n     <defs>\n      <path d=\"M 794 531 \nL 1825 531 \nL 1825 4091 \nL 703 3866 \nL 703 4441 \nL 1819 4666 \nL 2450 4666 \nL 2450 531 \nL 3481 531 \nL 3481 0 \nL 794 0 \nL 794 531 \nz\n\" id=\"DejaVuSans-31\" transform=\"scale(0.015625)\"/>\n     </defs>\n     <use xlink:href=\"#DejaVuSans-31\"/>\n    </g>\n   </g>\n   <g id=\"text_6\">\n    <!-- 0.45 -->\n    <g style=\"fill:#ffffff;\" transform=\"translate(213.625313 68.118594)scale(0.1 -0.1)\">\n     <defs>\n      <path d=\"M 2034 4250 \nQ 1547 4250 1301 3770 \nQ 1056 3291 1056 2328 \nQ 1056 1369 1301 889 \nQ 1547 409 2034 409 \nQ 2525 409 2770 889 \nQ 3016 1369 3016 2328 \nQ 3016 3291 2770 3770 \nQ 2525 4250 2034 4250 \nz\nM 2034 4750 \nQ 2819 4750 3233 4129 \nQ 3647 3509 3647 2328 \nQ 3647 1150 3233 529 \nQ 2819 -91 2034 -91 \nQ 1250 -91 836 529 \nQ 422 1150 422 2328 \nQ 422 3509 836 4129 \nQ 1250 4750 2034 4750 \nz\n\" id=\"DejaVuSans-30\" transform=\"scale(0.015625)\"/>\n      <path d=\"M 684 794 \nL 1344 794 \nL 1344 0 \nL 684 0 \nL 684 794 \nz\n\" id=\"DejaVuSans-2e\" transform=\"scale(0.015625)\"/>\n      <path d=\"M 2419 4116 \nL 825 1625 \nL 2419 1625 \nL 2419 4116 \nz\nM 2253 4666 \nL 3047 4666 \nL 3047 1625 \nL 3713 1625 \nL 3713 1100 \nL 3047 1100 \nL 3047 0 \nL 2419 0 \nL 2419 1100 \nL 313 1100 \nL 313 1709 \nL 2253 4666 \nz\n\" id=\"DejaVuSans-34\" transform=\"scale(0.015625)\"/>\n      <path d=\"M 691 4666 \nL 3169 4666 \nL 3169 4134 \nL 1269 4134 \nL 1269 2991 \nQ 1406 3038 1543 3061 \nQ 1681 3084 1819 3084 \nQ 2600 3084 3056 2656 \nQ 3513 2228 3513 1497 \nQ 3513 744 3044 326 \nQ 2575 -91 1722 -91 \nQ 1428 -91 1123 -41 \nQ 819 9 494 109 \nL 494 744 \nQ 775 591 1075 516 \nQ 1375 441 1709 441 \nQ 2250 441 2565 725 \nQ 2881 1009 2881 1497 \nQ 2881 1984 2565 2268 \nQ 2250 2553 1709 2553 \nQ 1456 2553 1204 2497 \nQ 953 2441 691 2322 \nL 691 4666 \nz\n\" id=\"DejaVuSans-35\" transform=\"scale(0.015625)\"/>\n     </defs>\n     <use xlink:href=\"#DejaVuSans-30\"/>\n     <use x=\"63.623047\" xlink:href=\"#DejaVuSans-2e\"/>\n     <use x=\"95.410156\" xlink:href=\"#DejaVuSans-34\"/>\n     <use x=\"159.033203\" xlink:href=\"#DejaVuSans-35\"/>\n    </g>\n   </g>\n   <g id=\"text_7\">\n    <!-- 0.45 -->\n    <g style=\"fill:#ffffff;\" transform=\"translate(79.705313 176.838594)scale(0.1 -0.1)\">\n     <use xlink:href=\"#DejaVuSans-30\"/>\n     <use x=\"63.623047\" xlink:href=\"#DejaVuSans-2e\"/>\n     <use x=\"95.410156\" xlink:href=\"#DejaVuSans-34\"/>\n     <use x=\"159.033203\" xlink:href=\"#DejaVuSans-35\"/>\n    </g>\n   </g>\n   <g id=\"text_8\">\n    <!-- 1 -->\n    <g style=\"fill:#262626;\" transform=\"translate(221.576875 176.838594)scale(0.1 -0.1)\">\n     <use xlink:href=\"#DejaVuSans-31\"/>\n    </g>\n   </g>\n  </g>\n  <g id=\"axes_2\">\n   <g id=\"patch_3\">\n    <path d=\"M 308.458125 228.439219 \nL 319.330125 228.439219 \nL 319.330125 10.999219 \nL 308.458125 10.999219 \nz\n\" style=\"fill:#ffffff;\"/>\n   </g>\n   <g id=\"patch_4\">\n    <path clip-path=\"url(#p4c8ceccdcd)\" d=\"M 308.458125 228.439219 \nL 308.458125 227.589844 \nL 308.458125 11.848594 \nL 308.458125 10.999219 \nL 319.330125 10.999219 \nL 319.330125 11.848594 \nL 319.330125 227.589844 \nL 319.330125 228.439219 \nL 319.330125 228.439219 \nz\n\" style=\"fill:#ffffff;stroke:#ffffff;stroke-linejoin:miter;stroke-width:0.01;\"/>\n   </g>\n   <image height=\"217\" id=\"imagebab620a928\" transform=\"scale(1 -1)translate(0 -217)\" width=\"11\" x=\"308\" xlink:href=\"data:image/png;base64,\niVBORw0KGgoAAAANSUhEUgAAAAsAAADZCAYAAAD2WsoCAAABYUlEQVR4nO3aQW4DMQwDQMtyPtH/vzPptUfPgYA2aM4EQVK0duOk+vXzWZefU7fItdbZe9+Da91znyoAbwGTDGLukjRyBonZ0gCDQzQn02gBj6jolPKTjCnjlvIP0UwyrqE67iFpUOt6hoz7lKM5d6x1ZDC4N0TGya1ckZFjfua4iRnAJ1akZHQpGef6u4TLIHDsdE8xKOCY5iPgEhmPTCPYjXtqM2ib/yMyhHlIGiXMVn7SHGQWMEzltDAX7IKzBWxFEubeb5Ah0QXTiMnojqUBJzYY3W6RYZqvscock7Hh2WZDgasCTgOYF3UDVj/KsDRizGYQXrbRYIp5CXPBUwWZzWBMhlxZyOvJWfIb0JToGq7uUXMqjSU3rsZ8JI2YjCnRWRpU0RHHavX96sczaN2IgWkoksYUzcScM5gbd475P40/4OpXiHlKGjMMlvxVIJkGlT/3VkDR5VaBdOPLDf4CdO8rI5K+A88AAAAASUVORK5CYII=\" y=\"-11\"/>\n   <g id=\"matplotlib.axis_3\"/>\n   <g id=\"matplotlib.axis_4\">\n    <g id=\"ytick_3\">\n     <g id=\"line2d_5\">\n      <defs>\n       <path d=\"M 0 0 \nL 3.5 0 \n\" id=\"ma85ef170b7\" style=\"stroke:#000000;stroke-width:0.8;\"/>\n      </defs>\n      <g>\n       <use style=\"stroke:#000000;stroke-width:0.8;\" x=\"319.330125\" xlink:href=\"#ma85ef170b7\" y=\"208.644274\"/>\n      </g>\n     </g>\n     <g id=\"text_9\">\n      <!-- 0.5 -->\n      <g transform=\"translate(326.330125 212.443493)scale(0.1 -0.1)\">\n       <use xlink:href=\"#DejaVuSans-30\"/>\n       <use x=\"63.623047\" xlink:href=\"#DejaVuSans-2e\"/>\n       <use x=\"95.410156\" xlink:href=\"#DejaVuSans-35\"/>\n      </g>\n     </g>\n    </g>\n    <g id=\"ytick_4\">\n     <g id=\"line2d_6\">\n      <g>\n       <use style=\"stroke:#000000;stroke-width:0.8;\" x=\"319.330125\" xlink:href=\"#ma85ef170b7\" y=\"169.115263\"/>\n      </g>\n     </g>\n     <g id=\"text_10\">\n      <!-- 0.6 -->\n      <g transform=\"translate(326.330125 172.914482)scale(0.1 -0.1)\">\n       <defs>\n        <path d=\"M 2113 2584 \nQ 1688 2584 1439 2293 \nQ 1191 2003 1191 1497 \nQ 1191 994 1439 701 \nQ 1688 409 2113 409 \nQ 2538 409 2786 701 \nQ 3034 994 3034 1497 \nQ 3034 2003 2786 2293 \nQ 2538 2584 2113 2584 \nz\nM 3366 4563 \nL 3366 3988 \nQ 3128 4100 2886 4159 \nQ 2644 4219 2406 4219 \nQ 1781 4219 1451 3797 \nQ 1122 3375 1075 2522 \nQ 1259 2794 1537 2939 \nQ 1816 3084 2150 3084 \nQ 2853 3084 3261 2657 \nQ 3669 2231 3669 1497 \nQ 3669 778 3244 343 \nQ 2819 -91 2113 -91 \nQ 1303 -91 875 529 \nQ 447 1150 447 2328 \nQ 447 3434 972 4092 \nQ 1497 4750 2381 4750 \nQ 2619 4750 2861 4703 \nQ 3103 4656 3366 4563 \nz\n\" id=\"DejaVuSans-36\" transform=\"scale(0.015625)\"/>\n       </defs>\n       <use xlink:href=\"#DejaVuSans-30\"/>\n       <use x=\"63.623047\" xlink:href=\"#DejaVuSans-2e\"/>\n       <use x=\"95.410156\" xlink:href=\"#DejaVuSans-36\"/>\n      </g>\n     </g>\n    </g>\n    <g id=\"ytick_5\">\n     <g id=\"line2d_7\">\n      <g>\n       <use style=\"stroke:#000000;stroke-width:0.8;\" x=\"319.330125\" xlink:href=\"#ma85ef170b7\" y=\"129.586252\"/>\n      </g>\n     </g>\n     <g id=\"text_11\">\n      <!-- 0.7 -->\n      <g transform=\"translate(326.330125 133.385471)scale(0.1 -0.1)\">\n       <defs>\n        <path d=\"M 525 4666 \nL 3525 4666 \nL 3525 4397 \nL 1831 0 \nL 1172 0 \nL 2766 4134 \nL 525 4134 \nL 525 4666 \nz\n\" id=\"DejaVuSans-37\" transform=\"scale(0.015625)\"/>\n       </defs>\n       <use xlink:href=\"#DejaVuSans-30\"/>\n       <use x=\"63.623047\" xlink:href=\"#DejaVuSans-2e\"/>\n       <use x=\"95.410156\" xlink:href=\"#DejaVuSans-37\"/>\n      </g>\n     </g>\n    </g>\n    <g id=\"ytick_6\">\n     <g id=\"line2d_8\">\n      <g>\n       <use style=\"stroke:#000000;stroke-width:0.8;\" x=\"319.330125\" xlink:href=\"#ma85ef170b7\" y=\"90.057241\"/>\n      </g>\n     </g>\n     <g id=\"text_12\">\n      <!-- 0.8 -->\n      <g transform=\"translate(326.330125 93.85646)scale(0.1 -0.1)\">\n       <defs>\n        <path d=\"M 2034 2216 \nQ 1584 2216 1326 1975 \nQ 1069 1734 1069 1313 \nQ 1069 891 1326 650 \nQ 1584 409 2034 409 \nQ 2484 409 2743 651 \nQ 3003 894 3003 1313 \nQ 3003 1734 2745 1975 \nQ 2488 2216 2034 2216 \nz\nM 1403 2484 \nQ 997 2584 770 2862 \nQ 544 3141 544 3541 \nQ 544 4100 942 4425 \nQ 1341 4750 2034 4750 \nQ 2731 4750 3128 4425 \nQ 3525 4100 3525 3541 \nQ 3525 3141 3298 2862 \nQ 3072 2584 2669 2484 \nQ 3125 2378 3379 2068 \nQ 3634 1759 3634 1313 \nQ 3634 634 3220 271 \nQ 2806 -91 2034 -91 \nQ 1263 -91 848 271 \nQ 434 634 434 1313 \nQ 434 1759 690 2068 \nQ 947 2378 1403 2484 \nz\nM 1172 3481 \nQ 1172 3119 1398 2916 \nQ 1625 2713 2034 2713 \nQ 2441 2713 2670 2916 \nQ 2900 3119 2900 3481 \nQ 2900 3844 2670 4047 \nQ 2441 4250 2034 4250 \nQ 1625 4250 1398 4047 \nQ 1172 3844 1172 3481 \nz\n\" id=\"DejaVuSans-38\" transform=\"scale(0.015625)\"/>\n       </defs>\n       <use xlink:href=\"#DejaVuSans-30\"/>\n       <use x=\"63.623047\" xlink:href=\"#DejaVuSans-2e\"/>\n       <use x=\"95.410156\" xlink:href=\"#DejaVuSans-38\"/>\n      </g>\n     </g>\n    </g>\n    <g id=\"ytick_7\">\n     <g id=\"line2d_9\">\n      <g>\n       <use style=\"stroke:#000000;stroke-width:0.8;\" x=\"319.330125\" xlink:href=\"#ma85ef170b7\" y=\"50.52823\"/>\n      </g>\n     </g>\n     <g id=\"text_13\">\n      <!-- 0.9 -->\n      <g transform=\"translate(326.330125 54.327449)scale(0.1 -0.1)\">\n       <defs>\n        <path d=\"M 703 97 \nL 703 672 \nQ 941 559 1184 500 \nQ 1428 441 1663 441 \nQ 2288 441 2617 861 \nQ 2947 1281 2994 2138 \nQ 2813 1869 2534 1725 \nQ 2256 1581 1919 1581 \nQ 1219 1581 811 2004 \nQ 403 2428 403 3163 \nQ 403 3881 828 4315 \nQ 1253 4750 1959 4750 \nQ 2769 4750 3195 4129 \nQ 3622 3509 3622 2328 \nQ 3622 1225 3098 567 \nQ 2575 -91 1691 -91 \nQ 1453 -91 1209 -44 \nQ 966 3 703 97 \nz\nM 1959 2075 \nQ 2384 2075 2632 2365 \nQ 2881 2656 2881 3163 \nQ 2881 3666 2632 3958 \nQ 2384 4250 1959 4250 \nQ 1534 4250 1286 3958 \nQ 1038 3666 1038 3163 \nQ 1038 2656 1286 2365 \nQ 1534 2075 1959 2075 \nz\n\" id=\"DejaVuSans-39\" transform=\"scale(0.015625)\"/>\n       </defs>\n       <use xlink:href=\"#DejaVuSans-30\"/>\n       <use x=\"63.623047\" xlink:href=\"#DejaVuSans-2e\"/>\n       <use x=\"95.410156\" xlink:href=\"#DejaVuSans-39\"/>\n      </g>\n     </g>\n    </g>\n    <g id=\"ytick_8\">\n     <g id=\"line2d_10\">\n      <g>\n       <use style=\"stroke:#000000;stroke-width:0.8;\" x=\"319.330125\" xlink:href=\"#ma85ef170b7\" y=\"10.999219\"/>\n      </g>\n     </g>\n     <g id=\"text_14\">\n      <!-- 1.0 -->\n      <g transform=\"translate(326.330125 14.798437)scale(0.1 -0.1)\">\n       <use xlink:href=\"#DejaVuSans-31\"/>\n       <use x=\"63.623047\" xlink:href=\"#DejaVuSans-2e\"/>\n       <use x=\"95.410156\" xlink:href=\"#DejaVuSans-30\"/>\n      </g>\n     </g>\n    </g>\n   </g>\n   <g id=\"LineCollection_1\"/>\n   <g id=\"patch_5\">\n    <path d=\"M 308.458125 228.439219 \nL 308.458125 227.589844 \nL 308.458125 11.848594 \nL 308.458125 10.999219 \nL 319.330125 10.999219 \nL 319.330125 11.848594 \nL 319.330125 227.589844 \nL 319.330125 228.439219 \nz\n\" style=\"fill:none;\"/>\n   </g>\n  </g>\n </g>\n <defs>\n  <clipPath id=\"p1316bb6579\">\n   <rect height=\"217.44\" width=\"267.84\" x=\"23.878125\" y=\"10.999219\"/>\n  </clipPath>\n  <clipPath id=\"p4c8ceccdcd\">\n   <rect height=\"217.44\" width=\"10.872\" x=\"308.458125\" y=\"10.999219\"/>\n  </clipPath>\n </defs>\n</svg>\n",
      "image/png": "[encoded data removed]"
     },
     "metadata": {
      "needs_background": "light"
     }
    }
   ],
   "source": [
    "df = df[[\"SALARY\", \"GENDER\"]]\n",
    "sns.heatmap(df.corr(),annot=True,lw=1)"
   ]
  },
  {
   "source": [
    "The correlation between salary and gender is nearly 0.5."
   ],
   "cell_type": "markdown",
   "metadata": {}
  },
  {
   "cell_type": "code",
   "execution_count": 39,
   "metadata": {},
   "outputs": [],
   "source": [
    "df_X = df.drop(columns = \"SALARY\")\n",
    "Y = df[\"SALARY\"]"
   ]
  },
  {
   "cell_type": "code",
   "execution_count": 40,
   "metadata": {},
   "outputs": [],
   "source": [
    "X_train, X_test, y_train, y_test = train_test_split(df_X, Y, test_size=0.4, random_state=17)"
   ]
  },
  {
   "cell_type": "code",
   "execution_count": 41,
   "metadata": {},
   "outputs": [
    {
     "output_type": "execute_result",
     "data": {
      "text/plain": [
       "LinearRegression()"
      ]
     },
     "metadata": {},
     "execution_count": 41
    }
   ],
   "source": [
    "model = LinearRegression()\n",
    "model.fit(X_train,y_train)"
   ]
  },
  {
   "cell_type": "code",
   "execution_count": 42,
   "metadata": {},
   "outputs": [],
   "source": [
    "predictions = model.predict(X_test)"
   ]
  },
  {
   "cell_type": "code",
   "execution_count": 43,
   "metadata": {},
   "outputs": [
    {
     "output_type": "execute_result",
     "data": {
      "text/plain": [
       "15114.461750511638"
      ]
     },
     "metadata": {},
     "execution_count": 43
    }
   ],
   "source": [
    "mean_squared_error(y_test, predictions)**0.5"
   ]
  },
  {
   "source": [
    "The RMSE here is nearly double as high as the RMSE calculated by taking in account all of the features."
   ],
   "cell_type": "markdown",
   "metadata": {}
  },
  {
   "cell_type": "code",
   "execution_count": 44,
   "metadata": {},
   "outputs": [
    {
     "output_type": "display_data",
     "data": {
      "application/vnd.plotly.v1+json": {
       "config": {
        "plotlyServerURL": "https://plot.ly"
       },
       "data": [
        {
         "mode": "markers",
         "type": "scatter",
         "x": [
          42837.953020134235,
          42837.953020134235,
          25306.11111111111,
          42837.953020134235,
          25306.11111111111,
          42837.953020134235,
          42837.953020134235,
          42837.953020134235,
          25306.11111111111,
          25306.11111111111,
          42837.953020134235,
          42837.953020134235,
          25306.11111111111,
          25306.11111111111,
          25306.11111111111,
          42837.953020134235,
          42837.953020134235,
          25306.11111111111,
          25306.11111111111,
          42837.953020134235,
          42837.953020134235,
          25306.11111111111,
          25306.11111111111,
          25306.11111111111,
          25306.11111111111,
          42837.953020134235,
          25306.11111111111,
          25306.11111111111,
          25306.11111111111,
          42837.953020134235,
          42837.953020134235,
          42837.953020134235,
          25306.11111111111,
          42837.953020134235,
          25306.11111111111,
          42837.953020134235,
          42837.953020134235,
          25306.11111111111,
          42837.953020134235,
          42837.953020134235,
          42837.953020134235,
          42837.953020134235,
          42837.953020134235,
          42837.953020134235,
          42837.953020134235,
          42837.953020134235,
          42837.953020134235,
          42837.953020134235,
          42837.953020134235,
          42837.953020134235,
          42837.953020134235,
          42837.953020134235,
          42837.953020134235,
          42837.953020134235,
          25306.11111111111,
          42837.953020134235,
          42837.953020134235,
          42837.953020134235,
          25306.11111111111,
          42837.953020134235,
          42837.953020134235,
          42837.953020134235,
          25306.11111111111,
          25306.11111111111,
          25306.11111111111,
          42837.953020134235,
          42837.953020134235,
          42837.953020134235,
          42837.953020134235,
          25306.11111111111,
          42837.953020134235,
          42837.953020134235,
          42837.953020134235,
          25306.11111111111,
          42837.953020134235,
          25306.11111111111,
          25306.11111111111,
          42837.953020134235,
          42837.953020134235,
          25306.11111111111,
          42837.953020134235,
          42837.953020134235,
          25306.11111111111,
          42837.953020134235,
          25306.11111111111,
          25306.11111111111,
          25306.11111111111,
          42837.953020134235,
          25306.11111111111,
          42837.953020134235,
          25306.11111111111,
          25306.11111111111,
          42837.953020134235,
          25306.11111111111,
          42837.953020134235,
          25306.11111111111,
          42837.953020134235,
          25306.11111111111,
          25306.11111111111,
          25306.11111111111,
          25306.11111111111,
          42837.953020134235,
          42837.953020134235,
          42837.953020134235,
          42837.953020134235,
          42837.953020134235,
          42837.953020134235,
          42837.953020134235,
          42837.953020134235,
          42837.953020134235,
          25306.11111111111,
          42837.953020134235,
          25306.11111111111,
          25306.11111111111,
          42837.953020134235,
          42837.953020134235,
          25306.11111111111,
          25306.11111111111,
          42837.953020134235,
          25306.11111111111,
          25306.11111111111,
          25306.11111111111,
          25306.11111111111,
          42837.953020134235,
          42837.953020134235,
          25306.11111111111,
          42837.953020134235,
          42837.953020134235,
          42837.953020134235,
          42837.953020134235,
          42837.953020134235,
          42837.953020134235,
          42837.953020134235,
          25306.11111111111,
          25306.11111111111,
          42837.953020134235,
          25306.11111111111,
          42837.953020134235,
          42837.953020134235,
          25306.11111111111,
          42837.953020134235,
          25306.11111111111,
          42837.953020134235,
          42837.953020134235,
          25306.11111111111,
          42837.953020134235,
          25306.11111111111,
          42837.953020134235,
          42837.953020134235,
          25306.11111111111,
          42837.953020134235,
          25306.11111111111,
          42837.953020134235,
          42837.953020134235,
          42837.953020134235,
          25306.11111111111,
          25306.11111111111,
          42837.953020134235,
          42837.953020134235,
          25306.11111111111,
          25306.11111111111,
          25306.11111111111,
          42837.953020134235,
          42837.953020134235,
          25306.11111111111,
          25306.11111111111,
          25306.11111111111,
          42837.953020134235,
          25306.11111111111,
          42837.953020134235,
          42837.953020134235,
          42837.953020134235,
          25306.11111111111,
          25306.11111111111,
          25306.11111111111,
          42837.953020134235,
          42837.953020134235,
          25306.11111111111,
          42837.953020134235,
          42837.953020134235,
          25306.11111111111,
          25306.11111111111,
          25306.11111111111,
          25306.11111111111,
          25306.11111111111,
          42837.953020134235,
          25306.11111111111,
          42837.953020134235,
          25306.11111111111,
          42837.953020134235
         ],
         "y": [
          -11637.953020134235,
          -12087.953020134235,
          4093.8888888888905,
          -12087.953020134235,
          -1606.1111111111095,
          -2487.953020134235,
          -14787.953020134235,
          -8937.953020134235,
          -4156.1111111111095,
          6043.8888888888905,
          -11637.953020134235,
          -14787.953020134235,
          7693.8888888888905,
          11743.88888888889,
          -1006.1111111111095,
          -12687.953020134235,
          12162.046979865765,
          -4306.1111111111095,
          -1306.1111111111095,
          -2487.953020134235,
          9287.046979865765,
          2143.8888888888905,
          2143.8888888888905,
          -8356.11111111111,
          16243.88888888889,
          -5037.953020134235,
          32818.88888888889,
          8593.88888888889,
          -3256.1111111111095,
          35412.046979865765,
          -6837.953020134235,
          -18387.953020134235,
          -8806.11111111111,
          -15837.953020134235,
          7243.8888888888905,
          -17337.953020134235,
          -15387.953020134235,
          3193.8888888888905,
          -11337.953020134235,
          -15837.953020134235,
          -12237.953020134235,
          27162.046979865765,
          23912.046979865765,
          2787.046979865765,
          -7137.953020134235,
          -10437.953020134235,
          -9297.953020134235,
          -12087.953020134235,
          39662.046979865765,
          -19587.953020134235,
          -17787.953020134235,
          -16137.953020134235,
          -3987.953020134235,
          -4137.953020134235,
          -106.1111111111095,
          -3687.953020134235,
          -16887.953020134235,
          -13887.953020134235,
          -3256.1111111111095,
          -7287.953020134235,
          -7587.953020134235,
          30912.046979865765,
          -2206.1111111111095,
          -2506.1111111111095,
          9793.88888888889,
          -5037.953020134235,
          -3237.953020134235,
          -11637.953020134235,
          -16287.953020134235,
          6043.8888888888905,
          -12687.953020134235,
          -15987.953020134235,
          -14787.953020134235,
          -106.1111111111095,
          -16287.953020134235,
          -1306.1111111111095,
          13543.88888888889,
          2312.046979865765,
          13712.046979865765,
          3193.8888888888905,
          -20487.953020134235,
          -12837.953020134235,
          -8956.11111111111,
          48412.046979865765,
          943.8888888888905,
          -856.1111111111095,
          -2356.1111111111095,
          -11337.953020134235,
          7993.8888888888905,
          -11787.953020134235,
          -1006.1111111111095,
          -2356.1111111111095,
          -21537.953020134235,
          -5656.1111111111095,
          -23187.953020134235,
          -2956.1111111111095,
          3162.046979865765,
          -2656.1111111111095,
          -4456.1111111111095,
          10693.88888888889,
          -856.1111111111095,
          -9537.953020134235,
          -10887.953020134235,
          -4437.953020134235,
          -12237.953020134235,
          -15687.953020134235,
          -13497.953020134235,
          -11187.953020134235,
          -14487.953020134235,
          -537.953020134235,
          -1906.1111111111095,
          -18837.953020134235,
          21568.88888888889,
          -1456.1111111111095,
          -12087.953020134235,
          -10887.953020134235,
          -2956.1111111111095,
          793.8888888888905,
          92162.04697986576,
          28693.88888888889,
          -4756.1111111111095,
          30443.88888888889,
          -6856.1111111111095,
          -15537.953020134235,
          23162.046979865765,
          25693.88888888889,
          22162.046979865765,
          19662.046979865765,
          -20937.953020134235,
          -8337.953020134235,
          22162.046979865765,
          -7137.953020134235,
          12037.046979865765,
          4093.8888888888905,
          -2806.1111111111095,
          22162.046979865765,
          -3406.1111111111095,
          -16137.953020134235,
          -18687.953020134235,
          2293.8888888888905,
          2162.046979865765,
          9103.88888888889,
          -7587.953020134235,
          12162.046979865765,
          -3556.1111111111095,
          -12387.953020134235,
          -7606.1111111111095,
          27162.046979865765,
          6162.046979865765,
          -856.1111111111095,
          16562.046979865765,
          5293.8888888888905,
          -14487.953020134235,
          19037.046979865765,
          -2937.953020134235,
          -5356.1111111111095,
          -4456.1111111111095,
          -15087.953020134235,
          -8217.953020134235,
          -6106.1111111111095,
          943.8888888888905,
          -2956.1111111111095,
          -20487.953020134235,
          12162.046979865765,
          793.8888888888905,
          3853.8888888888905,
          -3706.1111111111095,
          -8337.953020134235,
          3493.8888888888905,
          -12537.953020134235,
          -20337.953020134235,
          19037.046979865765,
          9193.88888888889,
          -4906.1111111111095,
          -4606.1111111111095,
          5162.046979865765,
          -20637.953020134235,
          -2806.1111111111095,
          -18537.953020134235,
          43412.046979865765,
          643.8888888888905,
          -1906.1111111111095,
          -5206.1111111111095,
          2443.8888888888905,
          -2506.1111111111095,
          -17787.953020134235,
          3793.8888888888905,
          -9387.953020134235,
          4543.8888888888905,
          -6837.953020134235
         ]
        }
       ],
       "layout": {
        "template": {
         "data": {
          "bar": [
           {
            "error_x": {
             "color": "#2a3f5f"
            },
            "error_y": {
             "color": "#2a3f5f"
            },
            "marker": {
             "line": {
              "color": "#E5ECF6",
              "width": 0.5
             }
            },
            "type": "bar"
           }
          ],
          "barpolar": [
           {
            "marker": {
             "line": {
              "color": "#E5ECF6",
              "width": 0.5
             }
            },
            "type": "barpolar"
           }
          ],
          "carpet": [
           {
            "aaxis": {
             "endlinecolor": "#2a3f5f",
             "gridcolor": "white",
             "linecolor": "white",
             "minorgridcolor": "white",
             "startlinecolor": "#2a3f5f"
            },
            "baxis": {
             "endlinecolor": "#2a3f5f",
             "gridcolor": "white",
             "linecolor": "white",
             "minorgridcolor": "white",
             "startlinecolor": "#2a3f5f"
            },
            "type": "carpet"
           }
          ],
          "choropleth": [
           {
            "colorbar": {
             "outlinewidth": 0,
             "ticks": ""
            },
            "type": "choropleth"
           }
          ],
          "contour": [
           {
            "colorbar": {
             "outlinewidth": 0,
             "ticks": ""
            },
            "colorscale": [
             [
              0,
              "#0d0887"
             ],
             [
              0.1111111111111111,
              "#46039f"
             ],
             [
              0.2222222222222222,
              "#7201a8"
             ],
             [
              0.3333333333333333,
              "#9c179e"
             ],
             [
              0.4444444444444444,
              "#bd3786"
             ],
             [
              0.5555555555555556,
              "#d8576b"
             ],
             [
              0.6666666666666666,
              "#ed7953"
             ],
             [
              0.7777777777777778,
              "#fb9f3a"
             ],
             [
              0.8888888888888888,
              "#fdca26"
             ],
             [
              1,
              "#f0f921"
             ]
            ],
            "type": "contour"
           }
          ],
          "contourcarpet": [
           {
            "colorbar": {
             "outlinewidth": 0,
             "ticks": ""
            },
            "type": "contourcarpet"
           }
          ],
          "heatmap": [
           {
            "colorbar": {
             "outlinewidth": 0,
             "ticks": ""
            },
            "colorscale": [
             [
              0,
              "#0d0887"
             ],
             [
              0.1111111111111111,
              "#46039f"
             ],
             [
              0.2222222222222222,
              "#7201a8"
             ],
             [
              0.3333333333333333,
              "#9c179e"
             ],
             [
              0.4444444444444444,
              "#bd3786"
             ],
             [
              0.5555555555555556,
              "#d8576b"
             ],
             [
              0.6666666666666666,
              "#ed7953"
             ],
             [
              0.7777777777777778,
              "#fb9f3a"
             ],
             [
              0.8888888888888888,
              "#fdca26"
             ],
             [
              1,
              "#f0f921"
             ]
            ],
            "type": "heatmap"
           }
          ],
          "heatmapgl": [
           {
            "colorbar": {
             "outlinewidth": 0,
             "ticks": ""
            },
            "colorscale": [
             [
              0,
              "#0d0887"
             ],
             [
              0.1111111111111111,
              "#46039f"
             ],
             [
              0.2222222222222222,
              "#7201a8"
             ],
             [
              0.3333333333333333,
              "#9c179e"
             ],
             [
              0.4444444444444444,
              "#bd3786"
             ],
             [
              0.5555555555555556,
              "#d8576b"
             ],
             [
              0.6666666666666666,
              "#ed7953"
             ],
             [
              0.7777777777777778,
              "#fb9f3a"
             ],
             [
              0.8888888888888888,
              "#fdca26"
             ],
             [
              1,
              "#f0f921"
             ]
            ],
            "type": "heatmapgl"
           }
          ],
          "histogram": [
           {
            "marker": {
             "colorbar": {
              "outlinewidth": 0,
              "ticks": ""
             }
            },
            "type": "histogram"
           }
          ],
          "histogram2d": [
           {
            "colorbar": {
             "outlinewidth": 0,
             "ticks": ""
            },
            "colorscale": [
             [
              0,
              "#0d0887"
             ],
             [
              0.1111111111111111,
              "#46039f"
             ],
             [
              0.2222222222222222,
              "#7201a8"
             ],
             [
              0.3333333333333333,
              "#9c179e"
             ],
             [
              0.4444444444444444,
              "#bd3786"
             ],
             [
              0.5555555555555556,
              "#d8576b"
             ],
             [
              0.6666666666666666,
              "#ed7953"
             ],
             [
              0.7777777777777778,
              "#fb9f3a"
             ],
             [
              0.8888888888888888,
              "#fdca26"
             ],
             [
              1,
              "#f0f921"
             ]
            ],
            "type": "histogram2d"
           }
          ],
          "histogram2dcontour": [
           {
            "colorbar": {
             "outlinewidth": 0,
             "ticks": ""
            },
            "colorscale": [
             [
              0,
              "#0d0887"
             ],
             [
              0.1111111111111111,
              "#46039f"
             ],
             [
              0.2222222222222222,
              "#7201a8"
             ],
             [
              0.3333333333333333,
              "#9c179e"
             ],
             [
              0.4444444444444444,
              "#bd3786"
             ],
             [
              0.5555555555555556,
              "#d8576b"
             ],
             [
              0.6666666666666666,
              "#ed7953"
             ],
             [
              0.7777777777777778,
              "#fb9f3a"
             ],
             [
              0.8888888888888888,
              "#fdca26"
             ],
             [
              1,
              "#f0f921"
             ]
            ],
            "type": "histogram2dcontour"
           }
          ],
          "mesh3d": [
           {
            "colorbar": {
             "outlinewidth": 0,
             "ticks": ""
            },
            "type": "mesh3d"
           }
          ],
          "parcoords": [
           {
            "line": {
             "colorbar": {
              "outlinewidth": 0,
              "ticks": ""
             }
            },
            "type": "parcoords"
           }
          ],
          "pie": [
           {
            "automargin": true,
            "type": "pie"
           }
          ],
          "scatter": [
           {
            "marker": {
             "colorbar": {
              "outlinewidth": 0,
              "ticks": ""
             }
            },
            "type": "scatter"
           }
          ],
          "scatter3d": [
           {
            "line": {
             "colorbar": {
              "outlinewidth": 0,
              "ticks": ""
             }
            },
            "marker": {
             "colorbar": {
              "outlinewidth": 0,
              "ticks": ""
             }
            },
            "type": "scatter3d"
           }
          ],
          "scattercarpet": [
           {
            "marker": {
             "colorbar": {
              "outlinewidth": 0,
              "ticks": ""
             }
            },
            "type": "scattercarpet"
           }
          ],
          "scattergeo": [
           {
            "marker": {
             "colorbar": {
              "outlinewidth": 0,
              "ticks": ""
             }
            },
            "type": "scattergeo"
           }
          ],
          "scattergl": [
           {
            "marker": {
             "colorbar": {
              "outlinewidth": 0,
              "ticks": ""
             }
            },
            "type": "scattergl"
           }
          ],
          "scattermapbox": [
           {
            "marker": {
             "colorbar": {
              "outlinewidth": 0,
              "ticks": ""
             }
            },
            "type": "scattermapbox"
           }
          ],
          "scatterpolar": [
           {
            "marker": {
             "colorbar": {
              "outlinewidth": 0,
              "ticks": ""
             }
            },
            "type": "scatterpolar"
           }
          ],
          "scatterpolargl": [
           {
            "marker": {
             "colorbar": {
              "outlinewidth": 0,
              "ticks": ""
             }
            },
            "type": "scatterpolargl"
           }
          ],
          "scatterternary": [
           {
            "marker": {
             "colorbar": {
              "outlinewidth": 0,
              "ticks": ""
             }
            },
            "type": "scatterternary"
           }
          ],
          "surface": [
           {
            "colorbar": {
             "outlinewidth": 0,
             "ticks": ""
            },
            "colorscale": [
             [
              0,
              "#0d0887"
             ],
             [
              0.1111111111111111,
              "#46039f"
             ],
             [
              0.2222222222222222,
              "#7201a8"
             ],
             [
              0.3333333333333333,
              "#9c179e"
             ],
             [
              0.4444444444444444,
              "#bd3786"
             ],
             [
              0.5555555555555556,
              "#d8576b"
             ],
             [
              0.6666666666666666,
              "#ed7953"
             ],
             [
              0.7777777777777778,
              "#fb9f3a"
             ],
             [
              0.8888888888888888,
              "#fdca26"
             ],
             [
              1,
              "#f0f921"
             ]
            ],
            "type": "surface"
           }
          ],
          "table": [
           {
            "cells": {
             "fill": {
              "color": "#EBF0F8"
             },
             "line": {
              "color": "white"
             }
            },
            "header": {
             "fill": {
              "color": "#C8D4E3"
             },
             "line": {
              "color": "white"
             }
            },
            "type": "table"
           }
          ]
         },
         "layout": {
          "annotationdefaults": {
           "arrowcolor": "#2a3f5f",
           "arrowhead": 0,
           "arrowwidth": 1
          },
          "autotypenumbers": "strict",
          "coloraxis": {
           "colorbar": {
            "outlinewidth": 0,
            "ticks": ""
           }
          },
          "colorscale": {
           "diverging": [
            [
             0,
             "#8e0152"
            ],
            [
             0.1,
             "#c51b7d"
            ],
            [
             0.2,
             "#de77ae"
            ],
            [
             0.3,
             "#f1b6da"
            ],
            [
             0.4,
             "#fde0ef"
            ],
            [
             0.5,
             "#f7f7f7"
            ],
            [
             0.6,
             "#e6f5d0"
            ],
            [
             0.7,
             "#b8e186"
            ],
            [
             0.8,
             "#7fbc41"
            ],
            [
             0.9,
             "#4d9221"
            ],
            [
             1,
             "#276419"
            ]
           ],
           "sequential": [
            [
             0,
             "#0d0887"
            ],
            [
             0.1111111111111111,
             "#46039f"
            ],
            [
             0.2222222222222222,
             "#7201a8"
            ],
            [
             0.3333333333333333,
             "#9c179e"
            ],
            [
             0.4444444444444444,
             "#bd3786"
            ],
            [
             0.5555555555555556,
             "#d8576b"
            ],
            [
             0.6666666666666666,
             "#ed7953"
            ],
            [
             0.7777777777777778,
             "#fb9f3a"
            ],
            [
             0.8888888888888888,
             "#fdca26"
            ],
            [
             1,
             "#f0f921"
            ]
           ],
           "sequentialminus": [
            [
             0,
             "#0d0887"
            ],
            [
             0.1111111111111111,
             "#46039f"
            ],
            [
             0.2222222222222222,
             "#7201a8"
            ],
            [
             0.3333333333333333,
             "#9c179e"
            ],
            [
             0.4444444444444444,
             "#bd3786"
            ],
            [
             0.5555555555555556,
             "#d8576b"
            ],
            [
             0.6666666666666666,
             "#ed7953"
            ],
            [
             0.7777777777777778,
             "#fb9f3a"
            ],
            [
             0.8888888888888888,
             "#fdca26"
            ],
            [
             1,
             "#f0f921"
            ]
           ]
          },
          "colorway": [
           "#636efa",
           "#EF553B",
           "#00cc96",
           "#ab63fa",
           "#FFA15A",
           "#19d3f3",
           "#FF6692",
           "#B6E880",
           "#FF97FF",
           "#FECB52"
          ],
          "font": {
           "color": "#2a3f5f"
          },
          "geo": {
           "bgcolor": "white",
           "lakecolor": "white",
           "landcolor": "#E5ECF6",
           "showlakes": true,
           "showland": true,
           "subunitcolor": "white"
          },
          "hoverlabel": {
           "align": "left"
          },
          "hovermode": "closest",
          "mapbox": {
           "style": "light"
          },
          "paper_bgcolor": "white",
          "plot_bgcolor": "#E5ECF6",
          "polar": {
           "angularaxis": {
            "gridcolor": "white",
            "linecolor": "white",
            "ticks": ""
           },
           "bgcolor": "#E5ECF6",
           "radialaxis": {
            "gridcolor": "white",
            "linecolor": "white",
            "ticks": ""
           }
          },
          "scene": {
           "xaxis": {
            "backgroundcolor": "#E5ECF6",
            "gridcolor": "white",
            "gridwidth": 2,
            "linecolor": "white",
            "showbackground": true,
            "ticks": "",
            "zerolinecolor": "white"
           },
           "yaxis": {
            "backgroundcolor": "#E5ECF6",
            "gridcolor": "white",
            "gridwidth": 2,
            "linecolor": "white",
            "showbackground": true,
            "ticks": "",
            "zerolinecolor": "white"
           },
           "zaxis": {
            "backgroundcolor": "#E5ECF6",
            "gridcolor": "white",
            "gridwidth": 2,
            "linecolor": "white",
            "showbackground": true,
            "ticks": "",
            "zerolinecolor": "white"
           }
          },
          "shapedefaults": {
           "line": {
            "color": "#2a3f5f"
           }
          },
          "ternary": {
           "aaxis": {
            "gridcolor": "white",
            "linecolor": "white",
            "ticks": ""
           },
           "baxis": {
            "gridcolor": "white",
            "linecolor": "white",
            "ticks": ""
           },
           "bgcolor": "#E5ECF6",
           "caxis": {
            "gridcolor": "white",
            "linecolor": "white",
            "ticks": ""
           }
          },
          "title": {
           "x": 0.05
          },
          "xaxis": {
           "automargin": true,
           "gridcolor": "white",
           "linecolor": "white",
           "ticks": "",
           "title": {
            "standoff": 15
           },
           "zerolinecolor": "white",
           "zerolinewidth": 2
          },
          "yaxis": {
           "automargin": true,
           "gridcolor": "white",
           "linecolor": "white",
           "ticks": "",
           "title": {
            "standoff": 15
           },
           "zerolinecolor": "white",
           "zerolinewidth": 2
          }
         }
        },
        "xaxis": {
         "title": {
          "text": "Predicted Salaries"
         }
        },
        "yaxis": {
         "title": {
          "text": "Residuals"
         }
        }
       }
      }
     },
     "metadata": {}
    }
   ],
   "source": [
    "fig = go.Figure()\n",
    "fig.add_trace(\n",
    "    go.Scatter(\n",
    "        x = predictions, \n",
    "        y = y_test - predictions,\n",
    "        mode=\"markers\"\n",
    "    )\n",
    ")\n",
    "fig.update_layout(\n",
    "    xaxis_title = \"Predicted Salaries\",\n",
    "    yaxis_title = \"Residuals\"\n",
    ")\n",
    "fig.show()"
   ]
  },
  {
   "source": [
    "Also the residuals show a more spreaded plot."
   ],
   "cell_type": "markdown",
   "metadata": {}
  },
  {
   "cell_type": "code",
   "execution_count": 158,
   "metadata": {},
   "outputs": [
    {
     "output_type": "display_data",
     "data": {
      "application/vnd.plotly.v1+json": {
       "config": {
        "plotlyServerURL": "https://plot.ly"
       },
       "data": [
        {
         "type": "histogram",
         "x": [
          -11637.953020134235,
          -12087.953020134235,
          4093.8888888888905,
          -12087.953020134235,
          -1606.1111111111095,
          -2487.953020134235,
          -14787.953020134235,
          -8937.953020134235,
          -4156.1111111111095,
          6043.8888888888905,
          -11637.953020134235,
          -14787.953020134235,
          7693.8888888888905,
          11743.88888888889,
          -1006.1111111111095,
          -12687.953020134235,
          12162.046979865765,
          -4306.1111111111095,
          -1306.1111111111095,
          -2487.953020134235,
          9287.046979865765,
          2143.8888888888905,
          2143.8888888888905,
          -8356.11111111111,
          16243.88888888889,
          -5037.953020134235,
          32818.88888888889,
          8593.88888888889,
          -3256.1111111111095,
          35412.046979865765,
          -6837.953020134235,
          -18387.953020134235,
          -8806.11111111111,
          -15837.953020134235,
          7243.8888888888905,
          -17337.953020134235,
          -15387.953020134235,
          3193.8888888888905,
          -11337.953020134235,
          -15837.953020134235,
          -12237.953020134235,
          27162.046979865765,
          23912.046979865765,
          2787.046979865765,
          -7137.953020134235,
          -10437.953020134235,
          -9297.953020134235,
          -12087.953020134235,
          39662.046979865765,
          -19587.953020134235,
          -17787.953020134235,
          -16137.953020134235,
          -3987.953020134235,
          -4137.953020134235,
          -106.1111111111095,
          -3687.953020134235,
          -16887.953020134235,
          -13887.953020134235,
          -3256.1111111111095,
          -7287.953020134235,
          -7587.953020134235,
          30912.046979865765,
          -2206.1111111111095,
          -2506.1111111111095,
          9793.88888888889,
          -5037.953020134235,
          -3237.953020134235,
          -11637.953020134235,
          -16287.953020134235,
          6043.8888888888905,
          -12687.953020134235,
          -15987.953020134235,
          -14787.953020134235,
          -106.1111111111095,
          -16287.953020134235,
          -1306.1111111111095,
          13543.88888888889,
          2312.046979865765,
          13712.046979865765,
          3193.8888888888905,
          -20487.953020134235,
          -12837.953020134235,
          -8956.11111111111,
          48412.046979865765,
          943.8888888888905,
          -856.1111111111095,
          -2356.1111111111095,
          -11337.953020134235,
          7993.8888888888905,
          -11787.953020134235,
          -1006.1111111111095,
          -2356.1111111111095,
          -21537.953020134235,
          -5656.1111111111095,
          -23187.953020134235,
          -2956.1111111111095,
          3162.046979865765,
          -2656.1111111111095,
          -4456.1111111111095,
          10693.88888888889,
          -856.1111111111095,
          -9537.953020134235,
          -10887.953020134235,
          -4437.953020134235,
          -12237.953020134235,
          -15687.953020134235,
          -13497.953020134235,
          -11187.953020134235,
          -14487.953020134235,
          -537.953020134235,
          -1906.1111111111095,
          -18837.953020134235,
          21568.88888888889,
          -1456.1111111111095,
          -12087.953020134235,
          -10887.953020134235,
          -2956.1111111111095,
          793.8888888888905,
          92162.04697986576,
          28693.88888888889,
          -4756.1111111111095,
          30443.88888888889,
          -6856.1111111111095,
          -15537.953020134235,
          23162.046979865765,
          25693.88888888889,
          22162.046979865765,
          19662.046979865765,
          -20937.953020134235,
          -8337.953020134235,
          22162.046979865765,
          -7137.953020134235,
          12037.046979865765,
          4093.8888888888905,
          -2806.1111111111095,
          22162.046979865765,
          -3406.1111111111095,
          -16137.953020134235,
          -18687.953020134235,
          2293.8888888888905,
          2162.046979865765,
          9103.88888888889,
          -7587.953020134235,
          12162.046979865765,
          -3556.1111111111095,
          -12387.953020134235,
          -7606.1111111111095,
          27162.046979865765,
          6162.046979865765,
          -856.1111111111095,
          16562.046979865765,
          5293.8888888888905,
          -14487.953020134235,
          19037.046979865765,
          -2937.953020134235,
          -5356.1111111111095,
          -4456.1111111111095,
          -15087.953020134235,
          -8217.953020134235,
          -6106.1111111111095,
          943.8888888888905,
          -2956.1111111111095,
          -20487.953020134235,
          12162.046979865765,
          793.8888888888905,
          3853.8888888888905,
          -3706.1111111111095,
          -8337.953020134235,
          3493.8888888888905,
          -12537.953020134235,
          -20337.953020134235,
          19037.046979865765,
          9193.88888888889,
          -4906.1111111111095,
          -4606.1111111111095,
          5162.046979865765,
          -20637.953020134235,
          -2806.1111111111095,
          -18537.953020134235,
          43412.046979865765,
          643.8888888888905,
          -1906.1111111111095,
          -5206.1111111111095,
          2443.8888888888905,
          -2506.1111111111095,
          -17787.953020134235,
          3793.8888888888905,
          -9387.953020134235,
          4543.8888888888905,
          -6837.953020134235
         ]
        }
       ],
       "layout": {
        "template": {
         "data": {
          "bar": [
           {
            "error_x": {
             "color": "#2a3f5f"
            },
            "error_y": {
             "color": "#2a3f5f"
            },
            "marker": {
             "line": {
              "color": "#E5ECF6",
              "width": 0.5
             }
            },
            "type": "bar"
           }
          ],
          "barpolar": [
           {
            "marker": {
             "line": {
              "color": "#E5ECF6",
              "width": 0.5
             }
            },
            "type": "barpolar"
           }
          ],
          "carpet": [
           {
            "aaxis": {
             "endlinecolor": "#2a3f5f",
             "gridcolor": "white",
             "linecolor": "white",
             "minorgridcolor": "white",
             "startlinecolor": "#2a3f5f"
            },
            "baxis": {
             "endlinecolor": "#2a3f5f",
             "gridcolor": "white",
             "linecolor": "white",
             "minorgridcolor": "white",
             "startlinecolor": "#2a3f5f"
            },
            "type": "carpet"
           }
          ],
          "choropleth": [
           {
            "colorbar": {
             "outlinewidth": 0,
             "ticks": ""
            },
            "type": "choropleth"
           }
          ],
          "contour": [
           {
            "colorbar": {
             "outlinewidth": 0,
             "ticks": ""
            },
            "colorscale": [
             [
              0,
              "#0d0887"
             ],
             [
              0.1111111111111111,
              "#46039f"
             ],
             [
              0.2222222222222222,
              "#7201a8"
             ],
             [
              0.3333333333333333,
              "#9c179e"
             ],
             [
              0.4444444444444444,
              "#bd3786"
             ],
             [
              0.5555555555555556,
              "#d8576b"
             ],
             [
              0.6666666666666666,
              "#ed7953"
             ],
             [
              0.7777777777777778,
              "#fb9f3a"
             ],
             [
              0.8888888888888888,
              "#fdca26"
             ],
             [
              1,
              "#f0f921"
             ]
            ],
            "type": "contour"
           }
          ],
          "contourcarpet": [
           {
            "colorbar": {
             "outlinewidth": 0,
             "ticks": ""
            },
            "type": "contourcarpet"
           }
          ],
          "heatmap": [
           {
            "colorbar": {
             "outlinewidth": 0,
             "ticks": ""
            },
            "colorscale": [
             [
              0,
              "#0d0887"
             ],
             [
              0.1111111111111111,
              "#46039f"
             ],
             [
              0.2222222222222222,
              "#7201a8"
             ],
             [
              0.3333333333333333,
              "#9c179e"
             ],
             [
              0.4444444444444444,
              "#bd3786"
             ],
             [
              0.5555555555555556,
              "#d8576b"
             ],
             [
              0.6666666666666666,
              "#ed7953"
             ],
             [
              0.7777777777777778,
              "#fb9f3a"
             ],
             [
              0.8888888888888888,
              "#fdca26"
             ],
             [
              1,
              "#f0f921"
             ]
            ],
            "type": "heatmap"
           }
          ],
          "heatmapgl": [
           {
            "colorbar": {
             "outlinewidth": 0,
             "ticks": ""
            },
            "colorscale": [
             [
              0,
              "#0d0887"
             ],
             [
              0.1111111111111111,
              "#46039f"
             ],
             [
              0.2222222222222222,
              "#7201a8"
             ],
             [
              0.3333333333333333,
              "#9c179e"
             ],
             [
              0.4444444444444444,
              "#bd3786"
             ],
             [
              0.5555555555555556,
              "#d8576b"
             ],
             [
              0.6666666666666666,
              "#ed7953"
             ],
             [
              0.7777777777777778,
              "#fb9f3a"
             ],
             [
              0.8888888888888888,
              "#fdca26"
             ],
             [
              1,
              "#f0f921"
             ]
            ],
            "type": "heatmapgl"
           }
          ],
          "histogram": [
           {
            "marker": {
             "colorbar": {
              "outlinewidth": 0,
              "ticks": ""
             }
            },
            "type": "histogram"
           }
          ],
          "histogram2d": [
           {
            "colorbar": {
             "outlinewidth": 0,
             "ticks": ""
            },
            "colorscale": [
             [
              0,
              "#0d0887"
             ],
             [
              0.1111111111111111,
              "#46039f"
             ],
             [
              0.2222222222222222,
              "#7201a8"
             ],
             [
              0.3333333333333333,
              "#9c179e"
             ],
             [
              0.4444444444444444,
              "#bd3786"
             ],
             [
              0.5555555555555556,
              "#d8576b"
             ],
             [
              0.6666666666666666,
              "#ed7953"
             ],
             [
              0.7777777777777778,
              "#fb9f3a"
             ],
             [
              0.8888888888888888,
              "#fdca26"
             ],
             [
              1,
              "#f0f921"
             ]
            ],
            "type": "histogram2d"
           }
          ],
          "histogram2dcontour": [
           {
            "colorbar": {
             "outlinewidth": 0,
             "ticks": ""
            },
            "colorscale": [
             [
              0,
              "#0d0887"
             ],
             [
              0.1111111111111111,
              "#46039f"
             ],
             [
              0.2222222222222222,
              "#7201a8"
             ],
             [
              0.3333333333333333,
              "#9c179e"
             ],
             [
              0.4444444444444444,
              "#bd3786"
             ],
             [
              0.5555555555555556,
              "#d8576b"
             ],
             [
              0.6666666666666666,
              "#ed7953"
             ],
             [
              0.7777777777777778,
              "#fb9f3a"
             ],
             [
              0.8888888888888888,
              "#fdca26"
             ],
             [
              1,
              "#f0f921"
             ]
            ],
            "type": "histogram2dcontour"
           }
          ],
          "mesh3d": [
           {
            "colorbar": {
             "outlinewidth": 0,
             "ticks": ""
            },
            "type": "mesh3d"
           }
          ],
          "parcoords": [
           {
            "line": {
             "colorbar": {
              "outlinewidth": 0,
              "ticks": ""
             }
            },
            "type": "parcoords"
           }
          ],
          "pie": [
           {
            "automargin": true,
            "type": "pie"
           }
          ],
          "scatter": [
           {
            "marker": {
             "colorbar": {
              "outlinewidth": 0,
              "ticks": ""
             }
            },
            "type": "scatter"
           }
          ],
          "scatter3d": [
           {
            "line": {
             "colorbar": {
              "outlinewidth": 0,
              "ticks": ""
             }
            },
            "marker": {
             "colorbar": {
              "outlinewidth": 0,
              "ticks": ""
             }
            },
            "type": "scatter3d"
           }
          ],
          "scattercarpet": [
           {
            "marker": {
             "colorbar": {
              "outlinewidth": 0,
              "ticks": ""
             }
            },
            "type": "scattercarpet"
           }
          ],
          "scattergeo": [
           {
            "marker": {
             "colorbar": {
              "outlinewidth": 0,
              "ticks": ""
             }
            },
            "type": "scattergeo"
           }
          ],
          "scattergl": [
           {
            "marker": {
             "colorbar": {
              "outlinewidth": 0,
              "ticks": ""
             }
            },
            "type": "scattergl"
           }
          ],
          "scattermapbox": [
           {
            "marker": {
             "colorbar": {
              "outlinewidth": 0,
              "ticks": ""
             }
            },
            "type": "scattermapbox"
           }
          ],
          "scatterpolar": [
           {
            "marker": {
             "colorbar": {
              "outlinewidth": 0,
              "ticks": ""
             }
            },
            "type": "scatterpolar"
           }
          ],
          "scatterpolargl": [
           {
            "marker": {
             "colorbar": {
              "outlinewidth": 0,
              "ticks": ""
             }
            },
            "type": "scatterpolargl"
           }
          ],
          "scatterternary": [
           {
            "marker": {
             "colorbar": {
              "outlinewidth": 0,
              "ticks": ""
             }
            },
            "type": "scatterternary"
           }
          ],
          "surface": [
           {
            "colorbar": {
             "outlinewidth": 0,
             "ticks": ""
            },
            "colorscale": [
             [
              0,
              "#0d0887"
             ],
             [
              0.1111111111111111,
              "#46039f"
             ],
             [
              0.2222222222222222,
              "#7201a8"
             ],
             [
              0.3333333333333333,
              "#9c179e"
             ],
             [
              0.4444444444444444,
              "#bd3786"
             ],
             [
              0.5555555555555556,
              "#d8576b"
             ],
             [
              0.6666666666666666,
              "#ed7953"
             ],
             [
              0.7777777777777778,
              "#fb9f3a"
             ],
             [
              0.8888888888888888,
              "#fdca26"
             ],
             [
              1,
              "#f0f921"
             ]
            ],
            "type": "surface"
           }
          ],
          "table": [
           {
            "cells": {
             "fill": {
              "color": "#EBF0F8"
             },
             "line": {
              "color": "white"
             }
            },
            "header": {
             "fill": {
              "color": "#C8D4E3"
             },
             "line": {
              "color": "white"
             }
            },
            "type": "table"
           }
          ]
         },
         "layout": {
          "annotationdefaults": {
           "arrowcolor": "#2a3f5f",
           "arrowhead": 0,
           "arrowwidth": 1
          },
          "autotypenumbers": "strict",
          "coloraxis": {
           "colorbar": {
            "outlinewidth": 0,
            "ticks": ""
           }
          },
          "colorscale": {
           "diverging": [
            [
             0,
             "#8e0152"
            ],
            [
             0.1,
             "#c51b7d"
            ],
            [
             0.2,
             "#de77ae"
            ],
            [
             0.3,
             "#f1b6da"
            ],
            [
             0.4,
             "#fde0ef"
            ],
            [
             0.5,
             "#f7f7f7"
            ],
            [
             0.6,
             "#e6f5d0"
            ],
            [
             0.7,
             "#b8e186"
            ],
            [
             0.8,
             "#7fbc41"
            ],
            [
             0.9,
             "#4d9221"
            ],
            [
             1,
             "#276419"
            ]
           ],
           "sequential": [
            [
             0,
             "#0d0887"
            ],
            [
             0.1111111111111111,
             "#46039f"
            ],
            [
             0.2222222222222222,
             "#7201a8"
            ],
            [
             0.3333333333333333,
             "#9c179e"
            ],
            [
             0.4444444444444444,
             "#bd3786"
            ],
            [
             0.5555555555555556,
             "#d8576b"
            ],
            [
             0.6666666666666666,
             "#ed7953"
            ],
            [
             0.7777777777777778,
             "#fb9f3a"
            ],
            [
             0.8888888888888888,
             "#fdca26"
            ],
            [
             1,
             "#f0f921"
            ]
           ],
           "sequentialminus": [
            [
             0,
             "#0d0887"
            ],
            [
             0.1111111111111111,
             "#46039f"
            ],
            [
             0.2222222222222222,
             "#7201a8"
            ],
            [
             0.3333333333333333,
             "#9c179e"
            ],
            [
             0.4444444444444444,
             "#bd3786"
            ],
            [
             0.5555555555555556,
             "#d8576b"
            ],
            [
             0.6666666666666666,
             "#ed7953"
            ],
            [
             0.7777777777777778,
             "#fb9f3a"
            ],
            [
             0.8888888888888888,
             "#fdca26"
            ],
            [
             1,
             "#f0f921"
            ]
           ]
          },
          "colorway": [
           "#636efa",
           "#EF553B",
           "#00cc96",
           "#ab63fa",
           "#FFA15A",
           "#19d3f3",
           "#FF6692",
           "#B6E880",
           "#FF97FF",
           "#FECB52"
          ],
          "font": {
           "color": "#2a3f5f"
          },
          "geo": {
           "bgcolor": "white",
           "lakecolor": "white",
           "landcolor": "#E5ECF6",
           "showlakes": true,
           "showland": true,
           "subunitcolor": "white"
          },
          "hoverlabel": {
           "align": "left"
          },
          "hovermode": "closest",
          "mapbox": {
           "style": "light"
          },
          "paper_bgcolor": "white",
          "plot_bgcolor": "#E5ECF6",
          "polar": {
           "angularaxis": {
            "gridcolor": "white",
            "linecolor": "white",
            "ticks": ""
           },
           "bgcolor": "#E5ECF6",
           "radialaxis": {
            "gridcolor": "white",
            "linecolor": "white",
            "ticks": ""
           }
          },
          "scene": {
           "xaxis": {
            "backgroundcolor": "#E5ECF6",
            "gridcolor": "white",
            "gridwidth": 2,
            "linecolor": "white",
            "showbackground": true,
            "ticks": "",
            "zerolinecolor": "white"
           },
           "yaxis": {
            "backgroundcolor": "#E5ECF6",
            "gridcolor": "white",
            "gridwidth": 2,
            "linecolor": "white",
            "showbackground": true,
            "ticks": "",
            "zerolinecolor": "white"
           },
           "zaxis": {
            "backgroundcolor": "#E5ECF6",
            "gridcolor": "white",
            "gridwidth": 2,
            "linecolor": "white",
            "showbackground": true,
            "ticks": "",
            "zerolinecolor": "white"
           }
          },
          "shapedefaults": {
           "line": {
            "color": "#2a3f5f"
           }
          },
          "ternary": {
           "aaxis": {
            "gridcolor": "white",
            "linecolor": "white",
            "ticks": ""
           },
           "baxis": {
            "gridcolor": "white",
            "linecolor": "white",
            "ticks": ""
           },
           "bgcolor": "#E5ECF6",
           "caxis": {
            "gridcolor": "white",
            "linecolor": "white",
            "ticks": ""
           }
          },
          "title": {
           "x": 0.05
          },
          "xaxis": {
           "automargin": true,
           "gridcolor": "white",
           "linecolor": "white",
           "ticks": "",
           "title": {
            "standoff": 15
           },
           "zerolinecolor": "white",
           "zerolinewidth": 2
          },
          "yaxis": {
           "automargin": true,
           "gridcolor": "white",
           "linecolor": "white",
           "ticks": "",
           "title": {
            "standoff": 15
           },
           "zerolinecolor": "white",
           "zerolinewidth": 2
          }
         }
        },
        "xaxis": {
         "title": {
          "text": "Residuals"
         }
        },
        "yaxis": {
         "title": {
          "text": "Counts"
         }
        }
       }
      }
     },
     "metadata": {}
    }
   ],
   "source": [
    "fig = go.Figure()\n",
    "fig.add_trace(\n",
    "    go.Histogram(\n",
    "        x = y_test - predictions\n",
    "    )\n",
    ")\n",
    "fig.update_layout(\n",
    "    xaxis_title = \"Residuals\",\n",
    "    yaxis_title = \"Counts\"\n",
    ")\n",
    "fig.show()"
   ]
  },
  {
   "source": [
    "And the distribution of the residuals aint really normaly distributed. This shows also the following q-q plot."
   ],
   "cell_type": "markdown",
   "metadata": {}
  },
  {
   "cell_type": "code",
   "execution_count": 11,
   "metadata": {},
   "outputs": [
    {
     "output_type": "display_data",
     "data": {
      "text/plain": "<Figure size 432x288 with 1 Axes>",
      "image/svg+xml": "<?xml version=\"1.0\" encoding=\"utf-8\" standalone=\"no\"?>\n<!DOCTYPE svg PUBLIC \"-//W3C//DTD SVG 1.1//EN\"\n  \"http://www.w3.org/Graphics/SVG/1.1/DTD/svg11.dtd\">\n<svg height=\"277.314375pt\" version=\"1.1\" viewBox=\"0 0 410.070312 277.314375\" width=\"410.070312pt\" xmlns=\"http://www.w3.org/2000/svg\" xmlns:xlink=\"http://www.w3.org/1999/xlink\">\n <metadata>\n  <rdf:RDF xmlns:cc=\"http://creativecommons.org/ns#\" xmlns:dc=\"http://purl.org/dc/elements/1.1/\" xmlns:rdf=\"http://www.w3.org/1999/02/22-rdf-syntax-ns#\">\n   <cc:Work>\n    <dc:type rdf:resource=\"http://purl.org/dc/dcmitype/StillImage\"/>\n    <dc:date>2021-06-02T23:47:17.358289</dc:date>\n    <dc:format>image/svg+xml</dc:format>\n    <dc:creator>\n     <cc:Agent>\n      <dc:title>Matplotlib v3.4.2, https://matplotlib.org/</dc:title>\n     </cc:Agent>\n    </dc:creator>\n   </cc:Work>\n  </rdf:RDF>\n </metadata>\n <defs>\n  <style type=\"text/css\">*{stroke-linecap:butt;stroke-linejoin:round;}</style>\n </defs>\n <g id=\"figure_1\">\n  <g id=\"patch_1\">\n   <path d=\"M 0 277.314375 \nL 410.070312 277.314375 \nL 410.070312 0 \nL 0 0 \nz\n\" style=\"fill:none;\"/>\n  </g>\n  <g id=\"axes_1\">\n   <g id=\"patch_2\">\n    <path d=\"M 68.070312 239.758125 \nL 402.870313 239.758125 \nL 402.870313 22.318125 \nL 68.070312 22.318125 \nz\n\" style=\"fill:#ffffff;\"/>\n   </g>\n   <g id=\"matplotlib.axis_1\">\n    <g id=\"xtick_1\">\n     <g id=\"line2d_1\">\n      <defs>\n       <path d=\"M 0 0 \nL 0 3.5 \n\" id=\"m31745ec7ed\" style=\"stroke:#000000;stroke-width:0.8;\"/>\n      </defs>\n      <g>\n       <use style=\"stroke:#000000;stroke-width:0.8;\" x=\"122.054967\" xlink:href=\"#m31745ec7ed\" y=\"239.758125\"/>\n      </g>\n     </g>\n     <g id=\"text_1\">\n      <!-- −2 -->\n      <g transform=\"translate(114.683874 254.356562)scale(0.1 -0.1)\">\n       <defs>\n        <path d=\"M 678 2272 \nL 4684 2272 \nL 4684 1741 \nL 678 1741 \nL 678 2272 \nz\n\" id=\"DejaVuSans-2212\" transform=\"scale(0.015625)\"/>\n        <path d=\"M 1228 531 \nL 3431 531 \nL 3431 0 \nL 469 0 \nL 469 531 \nQ 828 903 1448 1529 \nQ 2069 2156 2228 2338 \nQ 2531 2678 2651 2914 \nQ 2772 3150 2772 3378 \nQ 2772 3750 2511 3984 \nQ 2250 4219 1831 4219 \nQ 1534 4219 1204 4116 \nQ 875 4013 500 3803 \nL 500 4441 \nQ 881 4594 1212 4672 \nQ 1544 4750 1819 4750 \nQ 2544 4750 2975 4387 \nQ 3406 4025 3406 3419 \nQ 3406 3131 3298 2873 \nQ 3191 2616 2906 2266 \nQ 2828 2175 2409 1742 \nQ 1991 1309 1228 531 \nz\n\" id=\"DejaVuSans-32\" transform=\"scale(0.015625)\"/>\n       </defs>\n       <use xlink:href=\"#DejaVuSans-2212\"/>\n       <use x=\"83.789062\" xlink:href=\"#DejaVuSans-32\"/>\n      </g>\n     </g>\n    </g>\n    <g id=\"xtick_2\">\n     <g id=\"line2d_2\">\n      <g>\n       <use style=\"stroke:#000000;stroke-width:0.8;\" x=\"178.76264\" xlink:href=\"#m31745ec7ed\" y=\"239.758125\"/>\n      </g>\n     </g>\n     <g id=\"text_2\">\n      <!-- −1 -->\n      <g transform=\"translate(171.391546 254.356562)scale(0.1 -0.1)\">\n       <defs>\n        <path d=\"M 794 531 \nL 1825 531 \nL 1825 4091 \nL 703 3866 \nL 703 4441 \nL 1819 4666 \nL 2450 4666 \nL 2450 531 \nL 3481 531 \nL 3481 0 \nL 794 0 \nL 794 531 \nz\n\" id=\"DejaVuSans-31\" transform=\"scale(0.015625)\"/>\n       </defs>\n       <use xlink:href=\"#DejaVuSans-2212\"/>\n       <use x=\"83.789062\" xlink:href=\"#DejaVuSans-31\"/>\n      </g>\n     </g>\n    </g>\n    <g id=\"xtick_3\">\n     <g id=\"line2d_3\">\n      <g>\n       <use style=\"stroke:#000000;stroke-width:0.8;\" x=\"235.470313\" xlink:href=\"#m31745ec7ed\" y=\"239.758125\"/>\n      </g>\n     </g>\n     <g id=\"text_3\">\n      <!-- 0 -->\n      <g transform=\"translate(232.289062 254.356562)scale(0.1 -0.1)\">\n       <defs>\n        <path d=\"M 2034 4250 \nQ 1547 4250 1301 3770 \nQ 1056 3291 1056 2328 \nQ 1056 1369 1301 889 \nQ 1547 409 2034 409 \nQ 2525 409 2770 889 \nQ 3016 1369 3016 2328 \nQ 3016 3291 2770 3770 \nQ 2525 4250 2034 4250 \nz\nM 2034 4750 \nQ 2819 4750 3233 4129 \nQ 3647 3509 3647 2328 \nQ 3647 1150 3233 529 \nQ 2819 -91 2034 -91 \nQ 1250 -91 836 529 \nQ 422 1150 422 2328 \nQ 422 3509 836 4129 \nQ 1250 4750 2034 4750 \nz\n\" id=\"DejaVuSans-30\" transform=\"scale(0.015625)\"/>\n       </defs>\n       <use xlink:href=\"#DejaVuSans-30\"/>\n      </g>\n     </g>\n    </g>\n    <g id=\"xtick_4\">\n     <g id=\"line2d_4\">\n      <g>\n       <use style=\"stroke:#000000;stroke-width:0.8;\" x=\"292.177985\" xlink:href=\"#m31745ec7ed\" y=\"239.758125\"/>\n      </g>\n     </g>\n     <g id=\"text_4\">\n      <!-- 1 -->\n      <g transform=\"translate(288.996735 254.356562)scale(0.1 -0.1)\">\n       <use xlink:href=\"#DejaVuSans-31\"/>\n      </g>\n     </g>\n    </g>\n    <g id=\"xtick_5\">\n     <g id=\"line2d_5\">\n      <g>\n       <use style=\"stroke:#000000;stroke-width:0.8;\" x=\"348.885658\" xlink:href=\"#m31745ec7ed\" y=\"239.758125\"/>\n      </g>\n     </g>\n     <g id=\"text_5\">\n      <!-- 2 -->\n      <g transform=\"translate(345.704408 254.356562)scale(0.1 -0.1)\">\n       <use xlink:href=\"#DejaVuSans-32\"/>\n      </g>\n     </g>\n    </g>\n    <g id=\"text_6\">\n     <!-- Theoretical quantiles -->\n     <g transform=\"translate(182.95625 268.034687)scale(0.1 -0.1)\">\n      <defs>\n       <path d=\"M -19 4666 \nL 3928 4666 \nL 3928 4134 \nL 2272 4134 \nL 2272 0 \nL 1638 0 \nL 1638 4134 \nL -19 4134 \nL -19 4666 \nz\n\" id=\"DejaVuSans-54\" transform=\"scale(0.015625)\"/>\n       <path d=\"M 3513 2113 \nL 3513 0 \nL 2938 0 \nL 2938 2094 \nQ 2938 2591 2744 2837 \nQ 2550 3084 2163 3084 \nQ 1697 3084 1428 2787 \nQ 1159 2491 1159 1978 \nL 1159 0 \nL 581 0 \nL 581 4863 \nL 1159 4863 \nL 1159 2956 \nQ 1366 3272 1645 3428 \nQ 1925 3584 2291 3584 \nQ 2894 3584 3203 3211 \nQ 3513 2838 3513 2113 \nz\n\" id=\"DejaVuSans-68\" transform=\"scale(0.015625)\"/>\n       <path d=\"M 3597 1894 \nL 3597 1613 \nL 953 1613 \nQ 991 1019 1311 708 \nQ 1631 397 2203 397 \nQ 2534 397 2845 478 \nQ 3156 559 3463 722 \nL 3463 178 \nQ 3153 47 2828 -22 \nQ 2503 -91 2169 -91 \nQ 1331 -91 842 396 \nQ 353 884 353 1716 \nQ 353 2575 817 3079 \nQ 1281 3584 2069 3584 \nQ 2775 3584 3186 3129 \nQ 3597 2675 3597 1894 \nz\nM 3022 2063 \nQ 3016 2534 2758 2815 \nQ 2500 3097 2075 3097 \nQ 1594 3097 1305 2825 \nQ 1016 2553 972 2059 \nL 3022 2063 \nz\n\" id=\"DejaVuSans-65\" transform=\"scale(0.015625)\"/>\n       <path d=\"M 1959 3097 \nQ 1497 3097 1228 2736 \nQ 959 2375 959 1747 \nQ 959 1119 1226 758 \nQ 1494 397 1959 397 \nQ 2419 397 2687 759 \nQ 2956 1122 2956 1747 \nQ 2956 2369 2687 2733 \nQ 2419 3097 1959 3097 \nz\nM 1959 3584 \nQ 2709 3584 3137 3096 \nQ 3566 2609 3566 1747 \nQ 3566 888 3137 398 \nQ 2709 -91 1959 -91 \nQ 1206 -91 779 398 \nQ 353 888 353 1747 \nQ 353 2609 779 3096 \nQ 1206 3584 1959 3584 \nz\n\" id=\"DejaVuSans-6f\" transform=\"scale(0.015625)\"/>\n       <path d=\"M 2631 2963 \nQ 2534 3019 2420 3045 \nQ 2306 3072 2169 3072 \nQ 1681 3072 1420 2755 \nQ 1159 2438 1159 1844 \nL 1159 0 \nL 581 0 \nL 581 3500 \nL 1159 3500 \nL 1159 2956 \nQ 1341 3275 1631 3429 \nQ 1922 3584 2338 3584 \nQ 2397 3584 2469 3576 \nQ 2541 3569 2628 3553 \nL 2631 2963 \nz\n\" id=\"DejaVuSans-72\" transform=\"scale(0.015625)\"/>\n       <path d=\"M 1172 4494 \nL 1172 3500 \nL 2356 3500 \nL 2356 3053 \nL 1172 3053 \nL 1172 1153 \nQ 1172 725 1289 603 \nQ 1406 481 1766 481 \nL 2356 481 \nL 2356 0 \nL 1766 0 \nQ 1100 0 847 248 \nQ 594 497 594 1153 \nL 594 3053 \nL 172 3053 \nL 172 3500 \nL 594 3500 \nL 594 4494 \nL 1172 4494 \nz\n\" id=\"DejaVuSans-74\" transform=\"scale(0.015625)\"/>\n       <path d=\"M 603 3500 \nL 1178 3500 \nL 1178 0 \nL 603 0 \nL 603 3500 \nz\nM 603 4863 \nL 1178 4863 \nL 1178 4134 \nL 603 4134 \nL 603 4863 \nz\n\" id=\"DejaVuSans-69\" transform=\"scale(0.015625)\"/>\n       <path d=\"M 3122 3366 \nL 3122 2828 \nQ 2878 2963 2633 3030 \nQ 2388 3097 2138 3097 \nQ 1578 3097 1268 2742 \nQ 959 2388 959 1747 \nQ 959 1106 1268 751 \nQ 1578 397 2138 397 \nQ 2388 397 2633 464 \nQ 2878 531 3122 666 \nL 3122 134 \nQ 2881 22 2623 -34 \nQ 2366 -91 2075 -91 \nQ 1284 -91 818 406 \nQ 353 903 353 1747 \nQ 353 2603 823 3093 \nQ 1294 3584 2113 3584 \nQ 2378 3584 2631 3529 \nQ 2884 3475 3122 3366 \nz\n\" id=\"DejaVuSans-63\" transform=\"scale(0.015625)\"/>\n       <path d=\"M 2194 1759 \nQ 1497 1759 1228 1600 \nQ 959 1441 959 1056 \nQ 959 750 1161 570 \nQ 1363 391 1709 391 \nQ 2188 391 2477 730 \nQ 2766 1069 2766 1631 \nL 2766 1759 \nL 2194 1759 \nz\nM 3341 1997 \nL 3341 0 \nL 2766 0 \nL 2766 531 \nQ 2569 213 2275 61 \nQ 1981 -91 1556 -91 \nQ 1019 -91 701 211 \nQ 384 513 384 1019 \nQ 384 1609 779 1909 \nQ 1175 2209 1959 2209 \nL 2766 2209 \nL 2766 2266 \nQ 2766 2663 2505 2880 \nQ 2244 3097 1772 3097 \nQ 1472 3097 1187 3025 \nQ 903 2953 641 2809 \nL 641 3341 \nQ 956 3463 1253 3523 \nQ 1550 3584 1831 3584 \nQ 2591 3584 2966 3190 \nQ 3341 2797 3341 1997 \nz\n\" id=\"DejaVuSans-61\" transform=\"scale(0.015625)\"/>\n       <path d=\"M 603 4863 \nL 1178 4863 \nL 1178 0 \nL 603 0 \nL 603 4863 \nz\n\" id=\"DejaVuSans-6c\" transform=\"scale(0.015625)\"/>\n       <path id=\"DejaVuSans-20\" transform=\"scale(0.015625)\"/>\n       <path d=\"M 947 1747 \nQ 947 1113 1208 752 \nQ 1469 391 1925 391 \nQ 2381 391 2643 752 \nQ 2906 1113 2906 1747 \nQ 2906 2381 2643 2742 \nQ 2381 3103 1925 3103 \nQ 1469 3103 1208 2742 \nQ 947 2381 947 1747 \nz\nM 2906 525 \nQ 2725 213 2448 61 \nQ 2172 -91 1784 -91 \nQ 1150 -91 751 415 \nQ 353 922 353 1747 \nQ 353 2572 751 3078 \nQ 1150 3584 1784 3584 \nQ 2172 3584 2448 3432 \nQ 2725 3281 2906 2969 \nL 2906 3500 \nL 3481 3500 \nL 3481 -1331 \nL 2906 -1331 \nL 2906 525 \nz\n\" id=\"DejaVuSans-71\" transform=\"scale(0.015625)\"/>\n       <path d=\"M 544 1381 \nL 544 3500 \nL 1119 3500 \nL 1119 1403 \nQ 1119 906 1312 657 \nQ 1506 409 1894 409 \nQ 2359 409 2629 706 \nQ 2900 1003 2900 1516 \nL 2900 3500 \nL 3475 3500 \nL 3475 0 \nL 2900 0 \nL 2900 538 \nQ 2691 219 2414 64 \nQ 2138 -91 1772 -91 \nQ 1169 -91 856 284 \nQ 544 659 544 1381 \nz\nM 1991 3584 \nL 1991 3584 \nz\n\" id=\"DejaVuSans-75\" transform=\"scale(0.015625)\"/>\n       <path d=\"M 3513 2113 \nL 3513 0 \nL 2938 0 \nL 2938 2094 \nQ 2938 2591 2744 2837 \nQ 2550 3084 2163 3084 \nQ 1697 3084 1428 2787 \nQ 1159 2491 1159 1978 \nL 1159 0 \nL 581 0 \nL 581 3500 \nL 1159 3500 \nL 1159 2956 \nQ 1366 3272 1645 3428 \nQ 1925 3584 2291 3584 \nQ 2894 3584 3203 3211 \nQ 3513 2838 3513 2113 \nz\n\" id=\"DejaVuSans-6e\" transform=\"scale(0.015625)\"/>\n       <path d=\"M 2834 3397 \nL 2834 2853 \nQ 2591 2978 2328 3040 \nQ 2066 3103 1784 3103 \nQ 1356 3103 1142 2972 \nQ 928 2841 928 2578 \nQ 928 2378 1081 2264 \nQ 1234 2150 1697 2047 \nL 1894 2003 \nQ 2506 1872 2764 1633 \nQ 3022 1394 3022 966 \nQ 3022 478 2636 193 \nQ 2250 -91 1575 -91 \nQ 1294 -91 989 -36 \nQ 684 19 347 128 \nL 347 722 \nQ 666 556 975 473 \nQ 1284 391 1588 391 \nQ 1994 391 2212 530 \nQ 2431 669 2431 922 \nQ 2431 1156 2273 1281 \nQ 2116 1406 1581 1522 \nL 1381 1569 \nQ 847 1681 609 1914 \nQ 372 2147 372 2553 \nQ 372 3047 722 3315 \nQ 1072 3584 1716 3584 \nQ 2034 3584 2315 3537 \nQ 2597 3491 2834 3397 \nz\n\" id=\"DejaVuSans-73\" transform=\"scale(0.015625)\"/>\n      </defs>\n      <use xlink:href=\"#DejaVuSans-54\"/>\n      <use x=\"61.083984\" xlink:href=\"#DejaVuSans-68\"/>\n      <use x=\"124.462891\" xlink:href=\"#DejaVuSans-65\"/>\n      <use x=\"185.986328\" xlink:href=\"#DejaVuSans-6f\"/>\n      <use x=\"247.167969\" xlink:href=\"#DejaVuSans-72\"/>\n      <use x=\"286.03125\" xlink:href=\"#DejaVuSans-65\"/>\n      <use x=\"347.554688\" xlink:href=\"#DejaVuSans-74\"/>\n      <use x=\"386.763672\" xlink:href=\"#DejaVuSans-69\"/>\n      <use x=\"414.546875\" xlink:href=\"#DejaVuSans-63\"/>\n      <use x=\"469.527344\" xlink:href=\"#DejaVuSans-61\"/>\n      <use x=\"530.806641\" xlink:href=\"#DejaVuSans-6c\"/>\n      <use x=\"558.589844\" xlink:href=\"#DejaVuSans-20\"/>\n      <use x=\"590.376953\" xlink:href=\"#DejaVuSans-71\"/>\n      <use x=\"653.853516\" xlink:href=\"#DejaVuSans-75\"/>\n      <use x=\"717.232422\" xlink:href=\"#DejaVuSans-61\"/>\n      <use x=\"778.511719\" xlink:href=\"#DejaVuSans-6e\"/>\n      <use x=\"841.890625\" xlink:href=\"#DejaVuSans-74\"/>\n      <use x=\"881.099609\" xlink:href=\"#DejaVuSans-69\"/>\n      <use x=\"908.882812\" xlink:href=\"#DejaVuSans-6c\"/>\n      <use x=\"936.666016\" xlink:href=\"#DejaVuSans-65\"/>\n      <use x=\"998.189453\" xlink:href=\"#DejaVuSans-73\"/>\n     </g>\n    </g>\n   </g>\n   <g id=\"matplotlib.axis_2\">\n    <g id=\"ytick_1\">\n     <g id=\"line2d_6\">\n      <defs>\n       <path d=\"M 0 0 \nL -3.5 0 \n\" id=\"mda5b73524c\" style=\"stroke:#000000;stroke-width:0.8;\"/>\n      </defs>\n      <g>\n       <use style=\"stroke:#000000;stroke-width:0.8;\" x=\"68.070312\" xlink:href=\"#mda5b73524c\" y=\"232.12046\"/>\n      </g>\n     </g>\n     <g id=\"text_7\">\n      <!-- −40000 -->\n      <g transform=\"translate(20.878125 235.919679)scale(0.1 -0.1)\">\n       <defs>\n        <path d=\"M 2419 4116 \nL 825 1625 \nL 2419 1625 \nL 2419 4116 \nz\nM 2253 4666 \nL 3047 4666 \nL 3047 1625 \nL 3713 1625 \nL 3713 1100 \nL 3047 1100 \nL 3047 0 \nL 2419 0 \nL 2419 1100 \nL 313 1100 \nL 313 1709 \nL 2253 4666 \nz\n\" id=\"DejaVuSans-34\" transform=\"scale(0.015625)\"/>\n       </defs>\n       <use xlink:href=\"#DejaVuSans-2212\"/>\n       <use x=\"83.789062\" xlink:href=\"#DejaVuSans-34\"/>\n       <use x=\"147.412109\" xlink:href=\"#DejaVuSans-30\"/>\n       <use x=\"211.035156\" xlink:href=\"#DejaVuSans-30\"/>\n       <use x=\"274.658203\" xlink:href=\"#DejaVuSans-30\"/>\n       <use x=\"338.28125\" xlink:href=\"#DejaVuSans-30\"/>\n      </g>\n     </g>\n    </g>\n    <g id=\"ytick_2\">\n     <g id=\"line2d_7\">\n      <g>\n       <use style=\"stroke:#000000;stroke-width:0.8;\" x=\"68.070312\" xlink:href=\"#mda5b73524c\" y=\"203.646487\"/>\n      </g>\n     </g>\n     <g id=\"text_8\">\n      <!-- −20000 -->\n      <g transform=\"translate(20.878125 207.445706)scale(0.1 -0.1)\">\n       <use xlink:href=\"#DejaVuSans-2212\"/>\n       <use x=\"83.789062\" xlink:href=\"#DejaVuSans-32\"/>\n       <use x=\"147.412109\" xlink:href=\"#DejaVuSans-30\"/>\n       <use x=\"211.035156\" xlink:href=\"#DejaVuSans-30\"/>\n       <use x=\"274.658203\" xlink:href=\"#DejaVuSans-30\"/>\n       <use x=\"338.28125\" xlink:href=\"#DejaVuSans-30\"/>\n      </g>\n     </g>\n    </g>\n    <g id=\"ytick_3\">\n     <g id=\"line2d_8\">\n      <g>\n       <use style=\"stroke:#000000;stroke-width:0.8;\" x=\"68.070312\" xlink:href=\"#mda5b73524c\" y=\"175.172515\"/>\n      </g>\n     </g>\n     <g id=\"text_9\">\n      <!-- 0 -->\n      <g transform=\"translate(54.707813 178.971734)scale(0.1 -0.1)\">\n       <use xlink:href=\"#DejaVuSans-30\"/>\n      </g>\n     </g>\n    </g>\n    <g id=\"ytick_4\">\n     <g id=\"line2d_9\">\n      <g>\n       <use style=\"stroke:#000000;stroke-width:0.8;\" x=\"68.070312\" xlink:href=\"#mda5b73524c\" y=\"146.698542\"/>\n      </g>\n     </g>\n     <g id=\"text_10\">\n      <!-- 20000 -->\n      <g transform=\"translate(29.257812 150.497761)scale(0.1 -0.1)\">\n       <use xlink:href=\"#DejaVuSans-32\"/>\n       <use x=\"63.623047\" xlink:href=\"#DejaVuSans-30\"/>\n       <use x=\"127.246094\" xlink:href=\"#DejaVuSans-30\"/>\n       <use x=\"190.869141\" xlink:href=\"#DejaVuSans-30\"/>\n       <use x=\"254.492188\" xlink:href=\"#DejaVuSans-30\"/>\n      </g>\n     </g>\n    </g>\n    <g id=\"ytick_5\">\n     <g id=\"line2d_10\">\n      <g>\n       <use style=\"stroke:#000000;stroke-width:0.8;\" x=\"68.070312\" xlink:href=\"#mda5b73524c\" y=\"118.22457\"/>\n      </g>\n     </g>\n     <g id=\"text_11\">\n      <!-- 40000 -->\n      <g transform=\"translate(29.257812 122.023788)scale(0.1 -0.1)\">\n       <use xlink:href=\"#DejaVuSans-34\"/>\n       <use x=\"63.623047\" xlink:href=\"#DejaVuSans-30\"/>\n       <use x=\"127.246094\" xlink:href=\"#DejaVuSans-30\"/>\n       <use x=\"190.869141\" xlink:href=\"#DejaVuSans-30\"/>\n       <use x=\"254.492188\" xlink:href=\"#DejaVuSans-30\"/>\n      </g>\n     </g>\n    </g>\n    <g id=\"ytick_6\">\n     <g id=\"line2d_11\">\n      <g>\n       <use style=\"stroke:#000000;stroke-width:0.8;\" x=\"68.070312\" xlink:href=\"#mda5b73524c\" y=\"89.750597\"/>\n      </g>\n     </g>\n     <g id=\"text_12\">\n      <!-- 60000 -->\n      <g transform=\"translate(29.257812 93.549816)scale(0.1 -0.1)\">\n       <defs>\n        <path d=\"M 2113 2584 \nQ 1688 2584 1439 2293 \nQ 1191 2003 1191 1497 \nQ 1191 994 1439 701 \nQ 1688 409 2113 409 \nQ 2538 409 2786 701 \nQ 3034 994 3034 1497 \nQ 3034 2003 2786 2293 \nQ 2538 2584 2113 2584 \nz\nM 3366 4563 \nL 3366 3988 \nQ 3128 4100 2886 4159 \nQ 2644 4219 2406 4219 \nQ 1781 4219 1451 3797 \nQ 1122 3375 1075 2522 \nQ 1259 2794 1537 2939 \nQ 1816 3084 2150 3084 \nQ 2853 3084 3261 2657 \nQ 3669 2231 3669 1497 \nQ 3669 778 3244 343 \nQ 2819 -91 2113 -91 \nQ 1303 -91 875 529 \nQ 447 1150 447 2328 \nQ 447 3434 972 4092 \nQ 1497 4750 2381 4750 \nQ 2619 4750 2861 4703 \nQ 3103 4656 3366 4563 \nz\n\" id=\"DejaVuSans-36\" transform=\"scale(0.015625)\"/>\n       </defs>\n       <use xlink:href=\"#DejaVuSans-36\"/>\n       <use x=\"63.623047\" xlink:href=\"#DejaVuSans-30\"/>\n       <use x=\"127.246094\" xlink:href=\"#DejaVuSans-30\"/>\n       <use x=\"190.869141\" xlink:href=\"#DejaVuSans-30\"/>\n       <use x=\"254.492188\" xlink:href=\"#DejaVuSans-30\"/>\n      </g>\n     </g>\n    </g>\n    <g id=\"ytick_7\">\n     <g id=\"line2d_12\">\n      <g>\n       <use style=\"stroke:#000000;stroke-width:0.8;\" x=\"68.070312\" xlink:href=\"#mda5b73524c\" y=\"61.276625\"/>\n      </g>\n     </g>\n     <g id=\"text_13\">\n      <!-- 80000 -->\n      <g transform=\"translate(29.257812 65.075843)scale(0.1 -0.1)\">\n       <defs>\n        <path d=\"M 2034 2216 \nQ 1584 2216 1326 1975 \nQ 1069 1734 1069 1313 \nQ 1069 891 1326 650 \nQ 1584 409 2034 409 \nQ 2484 409 2743 651 \nQ 3003 894 3003 1313 \nQ 3003 1734 2745 1975 \nQ 2488 2216 2034 2216 \nz\nM 1403 2484 \nQ 997 2584 770 2862 \nQ 544 3141 544 3541 \nQ 544 4100 942 4425 \nQ 1341 4750 2034 4750 \nQ 2731 4750 3128 4425 \nQ 3525 4100 3525 3541 \nQ 3525 3141 3298 2862 \nQ 3072 2584 2669 2484 \nQ 3125 2378 3379 2068 \nQ 3634 1759 3634 1313 \nQ 3634 634 3220 271 \nQ 2806 -91 2034 -91 \nQ 1263 -91 848 271 \nQ 434 634 434 1313 \nQ 434 1759 690 2068 \nQ 947 2378 1403 2484 \nz\nM 1172 3481 \nQ 1172 3119 1398 2916 \nQ 1625 2713 2034 2713 \nQ 2441 2713 2670 2916 \nQ 2900 3119 2900 3481 \nQ 2900 3844 2670 4047 \nQ 2441 4250 2034 4250 \nQ 1625 4250 1398 4047 \nQ 1172 3844 1172 3481 \nz\n\" id=\"DejaVuSans-38\" transform=\"scale(0.015625)\"/>\n       </defs>\n       <use xlink:href=\"#DejaVuSans-38\"/>\n       <use x=\"63.623047\" xlink:href=\"#DejaVuSans-30\"/>\n       <use x=\"127.246094\" xlink:href=\"#DejaVuSans-30\"/>\n       <use x=\"190.869141\" xlink:href=\"#DejaVuSans-30\"/>\n       <use x=\"254.492188\" xlink:href=\"#DejaVuSans-30\"/>\n      </g>\n     </g>\n    </g>\n    <g id=\"ytick_8\">\n     <g id=\"line2d_13\">\n      <g>\n       <use style=\"stroke:#000000;stroke-width:0.8;\" x=\"68.070312\" xlink:href=\"#mda5b73524c\" y=\"32.802652\"/>\n      </g>\n     </g>\n     <g id=\"text_14\">\n      <!-- 100000 -->\n      <g transform=\"translate(22.895312 36.601871)scale(0.1 -0.1)\">\n       <use xlink:href=\"#DejaVuSans-31\"/>\n       <use x=\"63.623047\" xlink:href=\"#DejaVuSans-30\"/>\n       <use x=\"127.246094\" xlink:href=\"#DejaVuSans-30\"/>\n       <use x=\"190.869141\" xlink:href=\"#DejaVuSans-30\"/>\n       <use x=\"254.492188\" xlink:href=\"#DejaVuSans-30\"/>\n       <use x=\"318.115234\" xlink:href=\"#DejaVuSans-30\"/>\n      </g>\n     </g>\n    </g>\n    <g id=\"text_15\">\n     <!-- Ordered Values -->\n     <g transform=\"translate(14.798437 169.311562)rotate(-90)scale(0.1 -0.1)\">\n      <defs>\n       <path d=\"M 2522 4238 \nQ 1834 4238 1429 3725 \nQ 1025 3213 1025 2328 \nQ 1025 1447 1429 934 \nQ 1834 422 2522 422 \nQ 3209 422 3611 934 \nQ 4013 1447 4013 2328 \nQ 4013 3213 3611 3725 \nQ 3209 4238 2522 4238 \nz\nM 2522 4750 \nQ 3503 4750 4090 4092 \nQ 4678 3434 4678 2328 \nQ 4678 1225 4090 567 \nQ 3503 -91 2522 -91 \nQ 1538 -91 948 565 \nQ 359 1222 359 2328 \nQ 359 3434 948 4092 \nQ 1538 4750 2522 4750 \nz\n\" id=\"DejaVuSans-4f\" transform=\"scale(0.015625)\"/>\n       <path d=\"M 2906 2969 \nL 2906 4863 \nL 3481 4863 \nL 3481 0 \nL 2906 0 \nL 2906 525 \nQ 2725 213 2448 61 \nQ 2172 -91 1784 -91 \nQ 1150 -91 751 415 \nQ 353 922 353 1747 \nQ 353 2572 751 3078 \nQ 1150 3584 1784 3584 \nQ 2172 3584 2448 3432 \nQ 2725 3281 2906 2969 \nz\nM 947 1747 \nQ 947 1113 1208 752 \nQ 1469 391 1925 391 \nQ 2381 391 2643 752 \nQ 2906 1113 2906 1747 \nQ 2906 2381 2643 2742 \nQ 2381 3103 1925 3103 \nQ 1469 3103 1208 2742 \nQ 947 2381 947 1747 \nz\n\" id=\"DejaVuSans-64\" transform=\"scale(0.015625)\"/>\n       <path d=\"M 1831 0 \nL 50 4666 \nL 709 4666 \nL 2188 738 \nL 3669 4666 \nL 4325 4666 \nL 2547 0 \nL 1831 0 \nz\n\" id=\"DejaVuSans-56\" transform=\"scale(0.015625)\"/>\n      </defs>\n      <use xlink:href=\"#DejaVuSans-4f\"/>\n      <use x=\"78.710938\" xlink:href=\"#DejaVuSans-72\"/>\n      <use x=\"118.074219\" xlink:href=\"#DejaVuSans-64\"/>\n      <use x=\"181.550781\" xlink:href=\"#DejaVuSans-65\"/>\n      <use x=\"243.074219\" xlink:href=\"#DejaVuSans-72\"/>\n      <use x=\"281.9375\" xlink:href=\"#DejaVuSans-65\"/>\n      <use x=\"343.460938\" xlink:href=\"#DejaVuSans-64\"/>\n      <use x=\"406.9375\" xlink:href=\"#DejaVuSans-20\"/>\n      <use x=\"438.724609\" xlink:href=\"#DejaVuSans-56\"/>\n      <use x=\"499.382812\" xlink:href=\"#DejaVuSans-61\"/>\n      <use x=\"560.662109\" xlink:href=\"#DejaVuSans-6c\"/>\n      <use x=\"588.445312\" xlink:href=\"#DejaVuSans-75\"/>\n      <use x=\"651.824219\" xlink:href=\"#DejaVuSans-65\"/>\n      <use x=\"713.347656\" xlink:href=\"#DejaVuSans-73\"/>\n     </g>\n    </g>\n   </g>\n   <g id=\"line2d_14\">\n    <defs>\n     <path d=\"M 0 3 \nC 0.795609 3 1.55874 2.683901 2.12132 2.12132 \nC 2.683901 1.55874 3 0.795609 3 0 \nC 3 -0.795609 2.683901 -1.55874 2.12132 -2.12132 \nC 1.55874 -2.683901 0.795609 -3 0 -3 \nC -0.795609 -3 -1.55874 -2.683901 -2.12132 -2.12132 \nC -2.683901 -1.55874 -3 -0.795609 -3 0 \nC -3 0.795609 -2.683901 1.55874 -2.12132 2.12132 \nC -1.55874 2.683901 -0.795609 3 0 3 \nz\n\" id=\"me1c3f22543\" style=\"stroke:#0000ff;\"/>\n    </defs>\n    <g clip-path=\"url(#pe49531714f)\">\n     <use style=\"fill:#0000ff;stroke:#0000ff;\" x=\"83.288494\" xlink:href=\"#me1c3f22543\" y=\"203.83563\"/>\n     <use style=\"fill:#0000ff;stroke:#0000ff;\" x=\"100.941324\" xlink:href=\"#me1c3f22543\" y=\"202.981411\"/>\n     <use style=\"fill:#0000ff;stroke:#0000ff;\" x=\"111.012069\" xlink:href=\"#me1c3f22543\" y=\"201.849451\"/>\n     <use style=\"fill:#0000ff;stroke:#0000ff;\" x=\"118.228266\" xlink:href=\"#me1c3f22543\" y=\"200.845863\"/>\n     <use style=\"fill:#0000ff;stroke:#0000ff;\" x=\"123.932103\" xlink:href=\"#me1c3f22543\" y=\"199.778089\"/>\n     <use style=\"fill:#0000ff;stroke:#0000ff;\" x=\"128.690072\" xlink:href=\"#me1c3f22543\" y=\"198.198022\"/>\n     <use style=\"fill:#0000ff;stroke:#0000ff;\" x=\"132.797026\" xlink:href=\"#me1c3f22543\" y=\"198.005465\"/>\n     <use style=\"fill:#0000ff;stroke:#0000ff;\" x=\"136.426854\" xlink:href=\"#me1c3f22543\" y=\"198.005465\"/>\n     <use style=\"fill:#0000ff;stroke:#0000ff;\" x=\"139.691074\" xlink:href=\"#me1c3f22543\" y=\"197.856096\"/>\n     <use style=\"fill:#0000ff;stroke:#0000ff;\" x=\"142.66567\" xlink:href=\"#me1c3f22543\" y=\"197.428986\"/>\n     <use style=\"fill:#0000ff;stroke:#0000ff;\" x=\"145.40484\" xlink:href=\"#me1c3f22543\" y=\"196.489584\"/>\n     <use style=\"fill:#0000ff;stroke:#0000ff;\" x=\"147.94866\" xlink:href=\"#me1c3f22543\" y=\"195.229253\"/>\n     <use style=\"fill:#0000ff;stroke:#0000ff;\" x=\"150.327635\" xlink:href=\"#me1c3f22543\" y=\"194.439219\"/>\n     <use style=\"fill:#0000ff;stroke:#0000ff;\" x=\"152.565548\" xlink:href=\"#me1c3f22543\" y=\"194.076295\"/>\n     <use style=\"fill:#0000ff;stroke:#0000ff;\" x=\"154.681315\" xlink:href=\"#me1c3f22543\" y=\"193.713371\"/>\n     <use style=\"fill:#0000ff;stroke:#0000ff;\" x=\"156.690239\" xlink:href=\"#me1c3f22543\" y=\"193.520814\"/>\n     <use style=\"fill:#0000ff;stroke:#0000ff;\" x=\"158.604889\" xlink:href=\"#me1c3f22543\" y=\"193.286262\"/>\n     <use style=\"fill:#0000ff;stroke:#0000ff;\" x=\"160.435713\" xlink:href=\"#me1c3f22543\" y=\"193.222076\"/>\n     <use style=\"fill:#0000ff;stroke:#0000ff;\" x=\"162.191501\" xlink:href=\"#me1c3f22543\" y=\"193.072707\"/>\n     <use style=\"fill:#0000ff;stroke:#0000ff;\" x=\"163.87972\" xlink:href=\"#me1c3f22543\" y=\"192.794967\"/>\n     <use style=\"fill:#0000ff;stroke:#0000ff;\" x=\"165.506768\" xlink:href=\"#me1c3f22543\" y=\"192.645597\"/>\n     <use style=\"fill:#0000ff;stroke:#0000ff;\" x=\"167.078173\" xlink:href=\"#me1c3f22543\" y=\"192.367857\"/>\n     <use style=\"fill:#0000ff;stroke:#0000ff;\" x=\"168.598747\" xlink:href=\"#me1c3f22543\" y=\"192.303671\"/>\n     <use style=\"fill:#0000ff;stroke:#0000ff;\" x=\"170.072701\" xlink:href=\"#me1c3f22543\" y=\"192.218488\"/>\n     <use style=\"fill:#0000ff;stroke:#0000ff;\" x=\"171.50375\" xlink:href=\"#me1c3f22543\" y=\"192.025931\"/>\n     <use style=\"fill:#0000ff;stroke:#0000ff;\" x=\"172.895182\" xlink:href=\"#me1c3f22543\" y=\"192.004933\"/>\n     <use style=\"fill:#0000ff;stroke:#0000ff;\" x=\"174.249925\" xlink:href=\"#me1c3f22543\" y=\"191.812376\"/>\n     <use style=\"fill:#0000ff;stroke:#0000ff;\" x=\"175.5706\" xlink:href=\"#me1c3f22543\" y=\"191.791378\"/>\n     <use style=\"fill:#0000ff;stroke:#0000ff;\" x=\"176.859561\" xlink:href=\"#me1c3f22543\" y=\"191.577823\"/>\n     <use style=\"fill:#0000ff;stroke:#0000ff;\" x=\"178.118931\" xlink:href=\"#me1c3f22543\" y=\"191.300083\"/>\n     <use style=\"fill:#0000ff;stroke:#0000ff;\" x=\"179.350632\" xlink:href=\"#me1c3f22543\" y=\"190.937159\"/>\n     <use style=\"fill:#0000ff;stroke:#0000ff;\" x=\"180.55641\" xlink:href=\"#me1c3f22543\" y=\"190.744602\"/>\n     <use style=\"fill:#0000ff;stroke:#0000ff;\" x=\"181.737859\" xlink:href=\"#me1c3f22543\" y=\"190.723604\"/>\n     <use style=\"fill:#0000ff;stroke:#0000ff;\" x=\"182.896433\" xlink:href=\"#me1c3f22543\" y=\"190.510049\"/>\n     <use style=\"fill:#0000ff;stroke:#0000ff;\" x=\"184.033468\" xlink:href=\"#me1c3f22543\" y=\"190.317493\"/>\n     <use style=\"fill:#0000ff;stroke:#0000ff;\" x=\"185.15019\" xlink:href=\"#me1c3f22543\" y=\"190.296495\"/>\n     <use style=\"fill:#0000ff;stroke:#0000ff;\" x=\"186.247731\" xlink:href=\"#me1c3f22543\" y=\"190.296495\"/>\n     <use style=\"fill:#0000ff;stroke:#0000ff;\" x=\"187.327135\" xlink:href=\"#me1c3f22543\" y=\"190.232309\"/>\n     <use style=\"fill:#0000ff;stroke:#0000ff;\" x=\"188.389373\" xlink:href=\"#me1c3f22543\" y=\"190.018754\"/>\n     <use style=\"fill:#0000ff;stroke:#0000ff;\" x=\"189.435342\" xlink:href=\"#me1c3f22543\" y=\"189.954569\"/>\n     <use style=\"fill:#0000ff;stroke:#0000ff;\" x=\"190.465879\" xlink:href=\"#me1c3f22543\" y=\"189.890383\"/>\n     <use style=\"fill:#0000ff;stroke:#0000ff;\" x=\"191.481763\" xlink:href=\"#me1c3f22543\" y=\"189.890383\"/>\n     <use style=\"fill:#0000ff;stroke:#0000ff;\" x=\"192.483722\" xlink:href=\"#me1c3f22543\" y=\"189.869385\"/>\n     <use style=\"fill:#0000ff;stroke:#0000ff;\" x=\"193.472437\" xlink:href=\"#me1c3f22543\" y=\"189.869385\"/>\n     <use style=\"fill:#0000ff;stroke:#0000ff;\" x=\"194.448547\" xlink:href=\"#me1c3f22543\" y=\"189.869385\"/>\n     <use style=\"fill:#0000ff;stroke:#0000ff;\" x=\"195.412651\" xlink:href=\"#me1c3f22543\" y=\"189.65583\"/>\n     <use style=\"fill:#0000ff;stroke:#0000ff;\" x=\"196.365313\" xlink:href=\"#me1c3f22543\" y=\"189.65583\"/>\n     <use style=\"fill:#0000ff;stroke:#0000ff;\" x=\"197.307064\" xlink:href=\"#me1c3f22543\" y=\"189.591645\"/>\n     <use style=\"fill:#0000ff;stroke:#0000ff;\" x=\"198.238406\" xlink:href=\"#me1c3f22543\" y=\"189.463273\"/>\n     <use style=\"fill:#0000ff;stroke:#0000ff;\" x=\"199.159811\" xlink:href=\"#me1c3f22543\" y=\"189.463273\"/>\n     <use style=\"fill:#0000ff;stroke:#0000ff;\" x=\"200.071728\" xlink:href=\"#me1c3f22543\" y=\"189.442276\"/>\n     <use style=\"fill:#0000ff;stroke:#0000ff;\" x=\"200.974582\" xlink:href=\"#me1c3f22543\" y=\"189.228721\"/>\n     <use style=\"fill:#0000ff;stroke:#0000ff;\" x=\"201.868774\" xlink:href=\"#me1c3f22543\" y=\"189.228721\"/>\n     <use style=\"fill:#0000ff;stroke:#0000ff;\" x=\"202.754689\" xlink:href=\"#me1c3f22543\" y=\"189.015166\"/>\n     <use style=\"fill:#0000ff;stroke:#0000ff;\" x=\"203.632689\" xlink:href=\"#me1c3f22543\" y=\"188.801611\"/>\n     <use style=\"fill:#0000ff;stroke:#0000ff;\" x=\"204.503123\" xlink:href=\"#me1c3f22543\" y=\"188.737425\"/>\n     <use style=\"fill:#0000ff;stroke:#0000ff;\" x=\"205.366321\" xlink:href=\"#me1c3f22543\" y=\"188.737425\"/>\n     <use style=\"fill:#0000ff;stroke:#0000ff;\" x=\"206.222599\" xlink:href=\"#me1c3f22543\" y=\"188.609054\"/>\n     <use style=\"fill:#0000ff;stroke:#0000ff;\" x=\"207.072259\" xlink:href=\"#me1c3f22543\" y=\"188.374502\"/>\n     <use style=\"fill:#0000ff;stroke:#0000ff;\" x=\"207.915591\" xlink:href=\"#me1c3f22543\" y=\"188.374502\"/>\n     <use style=\"fill:#0000ff;stroke:#0000ff;\" x=\"208.752873\" xlink:href=\"#me1c3f22543\" y=\"188.032575\"/>\n     <use style=\"fill:#0000ff;stroke:#0000ff;\" x=\"209.58437\" xlink:href=\"#me1c3f22543\" y=\"187.947392\"/>\n     <use style=\"fill:#0000ff;stroke:#0000ff;\" x=\"210.410339\" xlink:href=\"#me1c3f22543\" y=\"187.733837\"/>\n     <use style=\"fill:#0000ff;stroke:#0000ff;\" x=\"211.231024\" xlink:href=\"#me1c3f22543\" y=\"187.520282\"/>\n     <use style=\"fill:#0000ff;stroke:#0000ff;\" x=\"212.046664\" xlink:href=\"#me1c3f22543\" y=\"187.520282\"/>\n     <use style=\"fill:#0000ff;stroke:#0000ff;\" x=\"212.857486\" xlink:href=\"#me1c3f22543\" y=\"187.456097\"/>\n     <use style=\"fill:#0000ff;stroke:#0000ff;\" x=\"213.663711\" xlink:href=\"#me1c3f22543\" y=\"187.114171\"/>\n     <use style=\"fill:#0000ff;stroke:#0000ff;\" x=\"214.465552\" xlink:href=\"#me1c3f22543\" y=\"187.093173\"/>\n     <use style=\"fill:#0000ff;stroke:#0000ff;\" x=\"215.263216\" xlink:href=\"#me1c3f22543\" y=\"187.093173\"/>\n     <use style=\"fill:#0000ff;stroke:#0000ff;\" x=\"216.0569\" xlink:href=\"#me1c3f22543\" y=\"186.879618\"/>\n     <use style=\"fill:#0000ff;stroke:#0000ff;\" x=\"216.8468\" xlink:href=\"#me1c3f22543\" y=\"186.879618\"/>\n     <use style=\"fill:#0000ff;stroke:#0000ff;\" x=\"217.633103\" xlink:href=\"#me1c3f22543\" y=\"186.687061\"/>\n     <use style=\"fill:#0000ff;stroke:#0000ff;\" x=\"218.415991\" xlink:href=\"#me1c3f22543\" y=\"186.601878\"/>\n     <use style=\"fill:#0000ff;stroke:#0000ff;\" x=\"219.195642\" xlink:href=\"#me1c3f22543\" y=\"186.473506\"/>\n     <use style=\"fill:#0000ff;stroke:#0000ff;\" x=\"219.972228\" xlink:href=\"#me1c3f22543\" y=\"186.388323\"/>\n     <use style=\"fill:#0000ff;stroke:#0000ff;\" x=\"220.745919\" xlink:href=\"#me1c3f22543\" y=\"186.259951\"/>\n     <use style=\"fill:#0000ff;stroke:#0000ff;\" x=\"221.516878\" xlink:href=\"#me1c3f22543\" y=\"186.174768\"/>\n     <use style=\"fill:#0000ff;stroke:#0000ff;\" x=\"222.285266\" xlink:href=\"#me1c3f22543\" y=\"186.046397\"/>\n     <use style=\"fill:#0000ff;stroke:#0000ff;\" x=\"223.051242\" xlink:href=\"#me1c3f22543\" y=\"185.961213\"/>\n     <use style=\"fill:#0000ff;stroke:#0000ff;\" x=\"223.814958\" xlink:href=\"#me1c3f22543\" y=\"185.961213\"/>\n     <use style=\"fill:#0000ff;stroke:#0000ff;\" x=\"224.576566\" xlink:href=\"#me1c3f22543\" y=\"185.811844\"/>\n     <use style=\"fill:#0000ff;stroke:#0000ff;\" x=\"225.336213\" xlink:href=\"#me1c3f22543\" y=\"185.811844\"/>\n     <use style=\"fill:#0000ff;stroke:#0000ff;\" x=\"226.094047\" xlink:href=\"#me1c3f22543\" y=\"185.747658\"/>\n     <use style=\"fill:#0000ff;stroke:#0000ff;\" x=\"226.85021\" xlink:href=\"#me1c3f22543\" y=\"185.534104\"/>\n     <use style=\"fill:#0000ff;stroke:#0000ff;\" x=\"227.604842\" xlink:href=\"#me1c3f22543\" y=\"185.405732\"/>\n     <use style=\"fill:#0000ff;stroke:#0000ff;\" x=\"228.358085\" xlink:href=\"#me1c3f22543\" y=\"184.978623\"/>\n     <use style=\"fill:#0000ff;stroke:#0000ff;\" x=\"229.110075\" xlink:href=\"#me1c3f22543\" y=\"184.74407\"/>\n     <use style=\"fill:#0000ff;stroke:#0000ff;\" x=\"229.860948\" xlink:href=\"#me1c3f22543\" y=\"184.615699\"/>\n     <use style=\"fill:#0000ff;stroke:#0000ff;\" x=\"230.610838\" xlink:href=\"#me1c3f22543\" y=\"184.530515\"/>\n     <use style=\"fill:#0000ff;stroke:#0000ff;\" x=\"231.35988\" xlink:href=\"#me1c3f22543\" y=\"184.46633\"/>\n     <use style=\"fill:#0000ff;stroke:#0000ff;\" x=\"232.108205\" xlink:href=\"#me1c3f22543\" y=\"184.337958\"/>\n     <use style=\"fill:#0000ff;stroke:#0000ff;\" x=\"232.855946\" xlink:href=\"#me1c3f22543\" y=\"184.31696\"/>\n     <use style=\"fill:#0000ff;stroke:#0000ff;\" x=\"233.603232\" xlink:href=\"#me1c3f22543\" y=\"184.31696\"/>\n     <use style=\"fill:#0000ff;stroke:#0000ff;\" x=\"234.350194\" xlink:href=\"#me1c3f22543\" y=\"182.629758\"/>\n     <use style=\"fill:#0000ff;stroke:#0000ff;\" x=\"235.096961\" xlink:href=\"#me1c3f22543\" y=\"182.608522\"/>\n     <use style=\"fill:#0000ff;stroke:#0000ff;\" x=\"235.843664\" xlink:href=\"#me1c3f22543\" y=\"182.415965\"/>\n     <use style=\"fill:#0000ff;stroke:#0000ff;\" x=\"236.590431\" xlink:href=\"#me1c3f22543\" y=\"182.394967\"/>\n     <use style=\"fill:#0000ff;stroke:#0000ff;\" x=\"237.337393\" xlink:href=\"#me1c3f22543\" y=\"182.181413\"/>\n     <use style=\"fill:#0000ff;stroke:#0000ff;\" x=\"238.084679\" xlink:href=\"#me1c3f22543\" y=\"181.476562\"/>\n     <use style=\"fill:#0000ff;stroke:#0000ff;\" x=\"238.83242\" xlink:href=\"#me1c3f22543\" y=\"181.476562\"/>\n     <use style=\"fill:#0000ff;stroke:#0000ff;\" x=\"239.580745\" xlink:href=\"#me1c3f22543\" y=\"181.113639\"/>\n     <use style=\"fill:#0000ff;stroke:#0000ff;\" x=\"240.329787\" xlink:href=\"#me1c3f22543\" y=\"181.113639\"/>\n     <use style=\"fill:#0000ff;stroke:#0000ff;\" x=\"241.079677\" xlink:href=\"#me1c3f22543\" y=\"180.835898\"/>\n     <use style=\"fill:#0000ff;stroke:#0000ff;\" x=\"241.83055\" xlink:href=\"#me1c3f22543\" y=\"180.707527\"/>\n     <use style=\"fill:#0000ff;stroke:#0000ff;\" x=\"242.58254\" xlink:href=\"#me1c3f22543\" y=\"180.686529\"/>\n     <use style=\"fill:#0000ff;stroke:#0000ff;\" x=\"243.335783\" xlink:href=\"#me1c3f22543\" y=\"180.622343\"/>\n     <use style=\"fill:#0000ff;stroke:#0000ff;\" x=\"244.090415\" xlink:href=\"#me1c3f22543\" y=\"180.622343\"/>\n     <use style=\"fill:#0000ff;stroke:#0000ff;\" x=\"244.846578\" xlink:href=\"#me1c3f22543\" y=\"180.622343\"/>\n     <use style=\"fill:#0000ff;stroke:#0000ff;\" x=\"245.604412\" xlink:href=\"#me1c3f22543\" y=\"180.259419\"/>\n     <use style=\"fill:#0000ff;stroke:#0000ff;\" x=\"246.364059\" xlink:href=\"#me1c3f22543\" y=\"180.195234\"/>\n     <use style=\"fill:#0000ff;stroke:#0000ff;\" x=\"247.125667\" xlink:href=\"#me1c3f22543\" y=\"180.173997\"/>\n     <use style=\"fill:#0000ff;stroke:#0000ff;\" x=\"247.889383\" xlink:href=\"#me1c3f22543\" y=\"179.981679\"/>\n     <use style=\"fill:#0000ff;stroke:#0000ff;\" x=\"248.655359\" xlink:href=\"#me1c3f22543\" y=\"179.981679\"/>\n     <use style=\"fill:#0000ff;stroke:#0000ff;\" x=\"249.423747\" xlink:href=\"#me1c3f22543\" y=\"179.83231\"/>\n     <use style=\"fill:#0000ff;stroke:#0000ff;\" x=\"250.194706\" xlink:href=\"#me1c3f22543\" y=\"179.83231\"/>\n     <use style=\"fill:#0000ff;stroke:#0000ff;\" x=\"250.968397\" xlink:href=\"#me1c3f22543\" y=\"179.639753\"/>\n     <use style=\"fill:#0000ff;stroke:#0000ff;\" x=\"251.744983\" xlink:href=\"#me1c3f22543\" y=\"179.639753\"/>\n     <use style=\"fill:#0000ff;stroke:#0000ff;\" x=\"252.524634\" xlink:href=\"#me1c3f22543\" y=\"179.554569\"/>\n     <use style=\"fill:#0000ff;stroke:#0000ff;\" x=\"253.307522\" xlink:href=\"#me1c3f22543\" y=\"179.341015\"/>\n     <use style=\"fill:#0000ff;stroke:#0000ff;\" x=\"254.093825\" xlink:href=\"#me1c3f22543\" y=\"178.999088\"/>\n     <use style=\"fill:#0000ff;stroke:#0000ff;\" x=\"254.883725\" xlink:href=\"#me1c3f22543\" y=\"178.913905\"/>\n     <use style=\"fill:#0000ff;stroke:#0000ff;\" x=\"255.677409\" xlink:href=\"#me1c3f22543\" y=\"178.273241\"/>\n     <use style=\"fill:#0000ff;stroke:#0000ff;\" x=\"256.475073\" xlink:href=\"#me1c3f22543\" y=\"178.123871\"/>\n     <use style=\"fill:#0000ff;stroke:#0000ff;\" x=\"257.276914\" xlink:href=\"#me1c3f22543\" y=\"177.141281\"/>\n     <use style=\"fill:#0000ff;stroke:#0000ff;\" x=\"258.083139\" xlink:href=\"#me1c3f22543\" y=\"177.056097\"/>\n     <use style=\"fill:#0000ff;stroke:#0000ff;\" x=\"258.893961\" xlink:href=\"#me1c3f22543\" y=\"177.056097\"/>\n     <use style=\"fill:#0000ff;stroke:#0000ff;\" x=\"259.709601\" xlink:href=\"#me1c3f22543\" y=\"176.778357\"/>\n     <use style=\"fill:#0000ff;stroke:#0000ff;\" x=\"260.530286\" xlink:href=\"#me1c3f22543\" y=\"176.650224\"/>\n     <use style=\"fill:#0000ff;stroke:#0000ff;\" x=\"261.356255\" xlink:href=\"#me1c3f22543\" y=\"176.137693\"/>\n     <use style=\"fill:#0000ff;stroke:#0000ff;\" x=\"262.187752\" xlink:href=\"#me1c3f22543\" y=\"175.347659\"/>\n     <use style=\"fill:#0000ff;stroke:#0000ff;\" x=\"263.025034\" xlink:href=\"#me1c3f22543\" y=\"175.283473\"/>\n     <use style=\"fill:#0000ff;stroke:#0000ff;\" x=\"263.868366\" xlink:href=\"#me1c3f22543\" y=\"175.155102\"/>\n     <use style=\"fill:#0000ff;stroke:#0000ff;\" x=\"264.718026\" xlink:href=\"#me1c3f22543\" y=\"175.11263\"/>\n     <use style=\"fill:#0000ff;stroke:#0000ff;\" x=\"265.574304\" xlink:href=\"#me1c3f22543\" y=\"174.706995\"/>\n     <use style=\"fill:#0000ff;stroke:#0000ff;\" x=\"266.437502\" xlink:href=\"#me1c3f22543\" y=\"174.279885\"/>\n     <use style=\"fill:#0000ff;stroke:#0000ff;\" x=\"267.307936\" xlink:href=\"#me1c3f22543\" y=\"173.78859\"/>\n     <use style=\"fill:#0000ff;stroke:#0000ff;\" x=\"268.185936\" xlink:href=\"#me1c3f22543\" y=\"173.575035\"/>\n     <use style=\"fill:#0000ff;stroke:#0000ff;\" x=\"269.071851\" xlink:href=\"#me1c3f22543\" y=\"173.425666\"/>\n     <use style=\"fill:#0000ff;stroke:#0000ff;\" x=\"269.966043\" xlink:href=\"#me1c3f22543\" y=\"173.147926\"/>\n     <use style=\"fill:#0000ff;stroke:#0000ff;\" x=\"270.868897\" xlink:href=\"#me1c3f22543\" y=\"173.147926\"/>\n     <use style=\"fill:#0000ff;stroke:#0000ff;\" x=\"271.780814\" xlink:href=\"#me1c3f22543\" y=\"172.69958\"/>\n     <use style=\"fill:#0000ff;stroke:#0000ff;\" x=\"272.702219\" xlink:href=\"#me1c3f22543\" y=\"172.571447\"/>\n     <use style=\"fill:#0000ff;stroke:#0000ff;\" x=\"273.633561\" xlink:href=\"#me1c3f22543\" y=\"170.585268\"/>\n     <use style=\"fill:#0000ff;stroke:#0000ff;\" x=\"274.575312\" xlink:href=\"#me1c3f22543\" y=\"170.585268\"/>\n     <use style=\"fill:#0000ff;stroke:#0000ff;\" x=\"275.527974\" xlink:href=\"#me1c3f22543\" y=\"170.435899\"/>\n     <use style=\"fill:#0000ff;stroke:#0000ff;\" x=\"276.492078\" xlink:href=\"#me1c3f22543\" y=\"169.303939\"/>\n     <use style=\"fill:#0000ff;stroke:#0000ff;\" x=\"277.468188\" xlink:href=\"#me1c3f22543\" y=\"169.090384\"/>\n     <use style=\"fill:#0000ff;stroke:#0000ff;\" x=\"278.456903\" xlink:href=\"#me1c3f22543\" y=\"168.941015\"/>\n     <use style=\"fill:#0000ff;stroke:#0000ff;\" x=\"279.458862\" xlink:href=\"#me1c3f22543\" y=\"168.663275\"/>\n     <use style=\"fill:#0000ff;stroke:#0000ff;\" x=\"280.474746\" xlink:href=\"#me1c3f22543\" y=\"168.02261\"/>\n     <use style=\"fill:#0000ff;stroke:#0000ff;\" x=\"281.505283\" xlink:href=\"#me1c3f22543\" y=\"167.595501\"/>\n     <use style=\"fill:#0000ff;stroke:#0000ff;\" x=\"282.551252\" xlink:href=\"#me1c3f22543\" y=\"166.954836\"/>\n     <use style=\"fill:#0000ff;stroke:#0000ff;\" x=\"283.61349\" xlink:href=\"#me1c3f22543\" y=\"166.954836\"/>\n     <use style=\"fill:#0000ff;stroke:#0000ff;\" x=\"284.692894\" xlink:href=\"#me1c3f22543\" y=\"166.378358\"/>\n     <use style=\"fill:#0000ff;stroke:#0000ff;\" x=\"285.790435\" xlink:href=\"#me1c3f22543\" y=\"164.178624\"/>\n     <use style=\"fill:#0000ff;stroke:#0000ff;\" x=\"286.907157\" xlink:href=\"#me1c3f22543\" y=\"162.534371\"/>\n     <use style=\"fill:#0000ff;stroke:#0000ff;\" x=\"288.044192\" xlink:href=\"#me1c3f22543\" y=\"160.334638\"/>\n     <use style=\"fill:#0000ff;stroke:#0000ff;\" x=\"289.202766\" xlink:href=\"#me1c3f22543\" y=\"160.121083\"/>\n     <use style=\"fill:#0000ff;stroke:#0000ff;\" x=\"290.384215\" xlink:href=\"#me1c3f22543\" y=\"160.063897\"/>\n     <use style=\"fill:#0000ff;stroke:#0000ff;\" x=\"291.589993\" xlink:href=\"#me1c3f22543\" y=\"159.444826\"/>\n     <use style=\"fill:#0000ff;stroke:#0000ff;\" x=\"292.821694\" xlink:href=\"#me1c3f22543\" y=\"158.910939\"/>\n     <use style=\"fill:#0000ff;stroke:#0000ff;\" x=\"294.081064\" xlink:href=\"#me1c3f22543\" y=\"156.063542\"/>\n     <use style=\"fill:#0000ff;stroke:#0000ff;\" x=\"295.370025\" xlink:href=\"#me1c3f22543\" y=\"154.953176\"/>\n     <use style=\"fill:#0000ff;stroke:#0000ff;\" x=\"296.6907\" xlink:href=\"#me1c3f22543\" y=\"150.190785\"/>\n     <use style=\"fill:#0000ff;stroke:#0000ff;\" x=\"298.045443\" xlink:href=\"#me1c3f22543\" y=\"149.080419\"/>\n     <use style=\"fill:#0000ff;stroke:#0000ff;\" x=\"299.436875\" xlink:href=\"#me1c3f22543\" y=\"146.275614\"/>\n     <use style=\"fill:#0000ff;stroke:#0000ff;\" x=\"300.867924\" xlink:href=\"#me1c3f22543\" y=\"146.097652\"/>\n     <use style=\"fill:#0000ff;stroke:#0000ff;\" x=\"302.341878\" xlink:href=\"#me1c3f22543\" y=\"146.097652\"/>\n     <use style=\"fill:#0000ff;stroke:#0000ff;\" x=\"303.862452\" xlink:href=\"#me1c3f22543\" y=\"146.097652\"/>\n     <use style=\"fill:#0000ff;stroke:#0000ff;\" x=\"305.433857\" xlink:href=\"#me1c3f22543\" y=\"145.257431\"/>\n     <use style=\"fill:#0000ff;stroke:#0000ff;\" x=\"307.060905\" xlink:href=\"#me1c3f22543\" y=\"144.809324\"/>\n     <use style=\"fill:#0000ff;stroke:#0000ff;\" x=\"308.749124\" xlink:href=\"#me1c3f22543\" y=\"143.890919\"/>\n     <use style=\"fill:#0000ff;stroke:#0000ff;\" x=\"310.504912\" xlink:href=\"#me1c3f22543\" y=\"142.317851\"/>\n     <use style=\"fill:#0000ff;stroke:#0000ff;\" x=\"312.335736\" xlink:href=\"#me1c3f22543\" y=\"138.936567\"/>\n     <use style=\"fill:#0000ff;stroke:#0000ff;\" x=\"314.250386\" xlink:href=\"#me1c3f22543\" y=\"136.309724\"/>\n     <use style=\"fill:#0000ff;stroke:#0000ff;\" x=\"316.25931\" xlink:href=\"#me1c3f22543\" y=\"136.309724\"/>\n     <use style=\"fill:#0000ff;stroke:#0000ff;\" x=\"318.375077\" xlink:href=\"#me1c3f22543\" y=\"135.419912\"/>\n     <use style=\"fill:#0000ff;stroke:#0000ff;\" x=\"320.61299\" xlink:href=\"#me1c3f22543\" y=\"131.860665\"/>\n     <use style=\"fill:#0000ff;stroke:#0000ff;\" x=\"322.991965\" xlink:href=\"#me1c3f22543\" y=\"131.860665\"/>\n     <use style=\"fill:#0000ff;stroke:#0000ff;\" x=\"325.535785\" xlink:href=\"#me1c3f22543\" y=\"131.860665\"/>\n     <use style=\"fill:#0000ff;stroke:#0000ff;\" x=\"328.274955\" xlink:href=\"#me1c3f22543\" y=\"130.436967\"/>\n     <use style=\"fill:#0000ff;stroke:#0000ff;\" x=\"331.249551\" xlink:href=\"#me1c3f22543\" y=\"129.369193\"/>\n     <use style=\"fill:#0000ff;stroke:#0000ff;\" x=\"334.513771\" xlink:href=\"#me1c3f22543\" y=\"124.742172\"/>\n     <use style=\"fill:#0000ff;stroke:#0000ff;\" x=\"338.143599\" xlink:href=\"#me1c3f22543\" y=\"124.742172\"/>\n     <use style=\"fill:#0000ff;stroke:#0000ff;\" x=\"342.250553\" xlink:href=\"#me1c3f22543\" y=\"119.403302\"/>\n     <use style=\"fill:#0000ff;stroke:#0000ff;\" x=\"347.008522\" xlink:href=\"#me1c3f22543\" y=\"112.996658\"/>\n     <use style=\"fill:#0000ff;stroke:#0000ff;\" x=\"352.712359\" xlink:href=\"#me1c3f22543\" y=\"106.945939\"/>\n     <use style=\"fill:#0000ff;stroke:#0000ff;\" x=\"359.928556\" xlink:href=\"#me1c3f22543\" y=\"101.607069\"/>\n     <use style=\"fill:#0000ff;stroke:#0000ff;\" x=\"369.999301\" xlink:href=\"#me1c3f22543\" y=\"94.488576\"/>\n     <use style=\"fill:#0000ff;stroke:#0000ff;\" x=\"387.652131\" xlink:href=\"#me1c3f22543\" y=\"32.201761\"/>\n    </g>\n   </g>\n   <g id=\"line2d_15\">\n    <path clip-path=\"url(#pe49531714f)\" d=\"M 83.288494 229.874489 \nL 387.652131 121.367138 \nL 387.652131 121.367138 \n\" style=\"fill:none;stroke:#ff0000;stroke-linecap:square;stroke-width:1.5;\"/>\n   </g>\n   <g id=\"patch_3\">\n    <path d=\"M 68.070312 239.758125 \nL 68.070312 22.318125 \n\" style=\"fill:none;stroke:#000000;stroke-linecap:square;stroke-linejoin:miter;stroke-width:0.8;\"/>\n   </g>\n   <g id=\"patch_4\">\n    <path d=\"M 402.870313 239.758125 \nL 402.870313 22.318125 \n\" style=\"fill:none;stroke:#000000;stroke-linecap:square;stroke-linejoin:miter;stroke-width:0.8;\"/>\n   </g>\n   <g id=\"patch_5\">\n    <path d=\"M 68.070312 239.758125 \nL 402.870313 239.758125 \n\" style=\"fill:none;stroke:#000000;stroke-linecap:square;stroke-linejoin:miter;stroke-width:0.8;\"/>\n   </g>\n   <g id=\"patch_6\">\n    <path d=\"M 68.070312 22.318125 \nL 402.870313 22.318125 \n\" style=\"fill:none;stroke:#000000;stroke-linecap:square;stroke-linejoin:miter;stroke-width:0.8;\"/>\n   </g>\n   <g id=\"text_16\">\n    <!-- Probability Plot -->\n    <g transform=\"translate(190.540625 16.318125)scale(0.12 -0.12)\">\n     <defs>\n      <path d=\"M 1259 4147 \nL 1259 2394 \nL 2053 2394 \nQ 2494 2394 2734 2622 \nQ 2975 2850 2975 3272 \nQ 2975 3691 2734 3919 \nQ 2494 4147 2053 4147 \nL 1259 4147 \nz\nM 628 4666 \nL 2053 4666 \nQ 2838 4666 3239 4311 \nQ 3641 3956 3641 3272 \nQ 3641 2581 3239 2228 \nQ 2838 1875 2053 1875 \nL 1259 1875 \nL 1259 0 \nL 628 0 \nL 628 4666 \nz\n\" id=\"DejaVuSans-50\" transform=\"scale(0.015625)\"/>\n      <path d=\"M 3116 1747 \nQ 3116 2381 2855 2742 \nQ 2594 3103 2138 3103 \nQ 1681 3103 1420 2742 \nQ 1159 2381 1159 1747 \nQ 1159 1113 1420 752 \nQ 1681 391 2138 391 \nQ 2594 391 2855 752 \nQ 3116 1113 3116 1747 \nz\nM 1159 2969 \nQ 1341 3281 1617 3432 \nQ 1894 3584 2278 3584 \nQ 2916 3584 3314 3078 \nQ 3713 2572 3713 1747 \nQ 3713 922 3314 415 \nQ 2916 -91 2278 -91 \nQ 1894 -91 1617 61 \nQ 1341 213 1159 525 \nL 1159 0 \nL 581 0 \nL 581 4863 \nL 1159 4863 \nL 1159 2969 \nz\n\" id=\"DejaVuSans-62\" transform=\"scale(0.015625)\"/>\n      <path d=\"M 2059 -325 \nQ 1816 -950 1584 -1140 \nQ 1353 -1331 966 -1331 \nL 506 -1331 \nL 506 -850 \nL 844 -850 \nQ 1081 -850 1212 -737 \nQ 1344 -625 1503 -206 \nL 1606 56 \nL 191 3500 \nL 800 3500 \nL 1894 763 \nL 2988 3500 \nL 3597 3500 \nL 2059 -325 \nz\n\" id=\"DejaVuSans-79\" transform=\"scale(0.015625)\"/>\n     </defs>\n     <use xlink:href=\"#DejaVuSans-50\"/>\n     <use x=\"58.552734\" xlink:href=\"#DejaVuSans-72\"/>\n     <use x=\"97.416016\" xlink:href=\"#DejaVuSans-6f\"/>\n     <use x=\"158.597656\" xlink:href=\"#DejaVuSans-62\"/>\n     <use x=\"222.074219\" xlink:href=\"#DejaVuSans-61\"/>\n     <use x=\"283.353516\" xlink:href=\"#DejaVuSans-62\"/>\n     <use x=\"346.830078\" xlink:href=\"#DejaVuSans-69\"/>\n     <use x=\"374.613281\" xlink:href=\"#DejaVuSans-6c\"/>\n     <use x=\"402.396484\" xlink:href=\"#DejaVuSans-69\"/>\n     <use x=\"430.179688\" xlink:href=\"#DejaVuSans-74\"/>\n     <use x=\"469.388672\" xlink:href=\"#DejaVuSans-79\"/>\n     <use x=\"528.568359\" xlink:href=\"#DejaVuSans-20\"/>\n     <use x=\"560.355469\" xlink:href=\"#DejaVuSans-50\"/>\n     <use x=\"620.658203\" xlink:href=\"#DejaVuSans-6c\"/>\n     <use x=\"648.441406\" xlink:href=\"#DejaVuSans-6f\"/>\n     <use x=\"709.623047\" xlink:href=\"#DejaVuSans-74\"/>\n    </g>\n   </g>\n  </g>\n </g>\n <defs>\n  <clipPath id=\"pe49531714f\">\n   <rect height=\"217.44\" width=\"334.8\" x=\"68.070312\" y=\"22.318125\"/>\n  </clipPath>\n </defs>\n</svg>\n",
      "image/png": "[encoded data removed]"
     },
     "metadata": {
      "needs_background": "light"
     }
    }
   ],
   "source": [
    "qq = stats.probplot(y_test-predictions, plot=plt)"
   ]
  },
  {
   "cell_type": "code",
   "execution_count": 159,
   "metadata": {},
   "outputs": [
    {
     "output_type": "stream",
     "name": "stdout",
     "text": [
      "                            OLS Regression Results                            \n==============================================================================\nDep. Variable:                 SALARY   R-squared:                       0.245\nModel:                            OLS   Adj. R-squared:                  0.242\nMethod:                 Least Squares   F-statistic:                     91.34\nDate:                Fri, 04 Jun 2021   Prob (F-statistic):           6.24e-19\nTime:                        11:52:22   Log-Likelihood:                -3141.0\nNo. Observations:                 284   AIC:                             6286.\nDf Residuals:                     282   BIC:                             6293.\nDf Model:                           1                                         \nCovariance Type:            nonrobust                                         \n==============================================================================\n                 coef    std err          t      P>|t|      [0.025      0.975]\n------------------------------------------------------------------------------\nconst       2.531e+04   1328.693     19.046      0.000    2.27e+04    2.79e+04\nGENDER      1.753e+04   1834.386      9.557      0.000    1.39e+04    2.11e+04\n==============================================================================\nOmnibus:                      103.211   Durbin-Watson:                   2.032\nProb(Omnibus):                  0.000   Jarque-Bera (JB):              282.655\nSkew:                           1.684   Prob(JB):                     4.19e-62\nKurtosis:                       6.541   Cond. No.                         2.68\n==============================================================================\n\nNotes:\n[1] Standard Errors assume that the covariance matrix of the errors is correctly specified.\n"
     ]
    }
   ],
   "source": [
    "X_train_sms = sms.add_constant(X_train)\n",
    "ls=sms.OLS(y_train,X_train_sms).fit()\n",
    "print(ls.summary())"
   ]
  },
  {
   "source": [
    "And the R<sup>2</sup\" also is not near to 0.5.ProcessLookupError\n",
    "\n",
    "This means alltogether: The linear model does not give a good model for this data exploration on the realtion between gender and salary."
   ],
   "cell_type": "markdown",
   "metadata": {}
  },
  {
   "cell_type": "code",
   "execution_count": 13,
   "metadata": {},
   "outputs": [
    {
     "output_type": "execute_result",
     "data": {
      "text/plain": [
       "<AxesSubplot:xlabel='SOCIODEMOGRAPHY', ylabel='SALARY'>"
      ]
     },
     "metadata": {},
     "execution_count": 13
    },
    {
     "output_type": "display_data",
     "data": {
      "text/plain": "<Figure size 432x288 with 1 Axes>",
      "image/svg+xml": "<?xml version=\"1.0\" encoding=\"utf-8\" standalone=\"no\"?>\n<!DOCTYPE svg PUBLIC \"-//W3C//DTD SVG 1.1//EN\"\n  \"http://www.w3.org/Graphics/SVG/1.1/DTD/svg11.dtd\">\n<svg height=\"262.19625pt\" version=\"1.1\" viewBox=\"0 0 408.053125 262.19625\" width=\"408.053125pt\" xmlns=\"http://www.w3.org/2000/svg\" xmlns:xlink=\"http://www.w3.org/1999/xlink\">\n <metadata>\n  <rdf:RDF xmlns:cc=\"http://creativecommons.org/ns#\" xmlns:dc=\"http://purl.org/dc/elements/1.1/\" xmlns:rdf=\"http://www.w3.org/1999/02/22-rdf-syntax-ns#\">\n   <cc:Work>\n    <dc:type rdf:resource=\"http://purl.org/dc/dcmitype/StillImage\"/>\n    <dc:date>2021-06-02T23:48:22.987482</dc:date>\n    <dc:format>image/svg+xml</dc:format>\n    <dc:creator>\n     <cc:Agent>\n      <dc:title>Matplotlib v3.4.2, https://matplotlib.org/</dc:title>\n     </cc:Agent>\n    </dc:creator>\n   </cc:Work>\n  </rdf:RDF>\n </metadata>\n <defs>\n  <style type=\"text/css\">*{stroke-linecap:butt;stroke-linejoin:round;}</style>\n </defs>\n <g id=\"figure_1\">\n  <g id=\"patch_1\">\n   <path d=\"M 0 262.19625 \nL 408.053125 262.19625 \nL 408.053125 0 \nL 0 0 \nz\n\" style=\"fill:none;\"/>\n  </g>\n  <g id=\"axes_1\">\n   <g id=\"patch_2\">\n    <path d=\"M 66.053125 224.64 \nL 400.853125 224.64 \nL 400.853125 7.2 \nL 66.053125 7.2 \nz\n\" style=\"fill:#ffffff;\"/>\n   </g>\n   <g id=\"PathCollection_1\">\n    <defs>\n     <path d=\"M 0 3 \nC 0.795609 3 1.55874 2.683901 2.12132 2.12132 \nC 2.683901 1.55874 3 0.795609 3 0 \nC 3 -0.795609 2.683901 -1.55874 2.12132 -2.12132 \nC 1.55874 -2.683901 0.795609 -3 0 -3 \nC -0.795609 -3 -1.55874 -2.683901 -2.12132 -2.12132 \nC -2.683901 -1.55874 -3 -0.795609 -3 0 \nC -3 0.795609 -2.683901 1.55874 -2.12132 2.12132 \nC -1.55874 2.683901 -0.795609 3 0 3 \nz\n\" id=\"m2b2ba8f451\" style=\"stroke:#ffffff;stroke-width:0.48;\"/>\n    </defs>\n    <g clip-path=\"url(#pe8d73176ea)\">\n     <use style=\"fill:#1f77b4;stroke:#ffffff;stroke-width:0.48;\" x=\"385.634943\" xlink:href=\"#m2b2ba8f451\" y=\"192.567014\"/>\n     <use style=\"fill:#1f77b4;stroke:#ffffff;stroke-width:0.48;\" x=\"284.180398\" xlink:href=\"#m2b2ba8f451\" y=\"196.004801\"/>\n     <use style=\"fill:#1f77b4;stroke:#ffffff;stroke-width:0.48;\" x=\"81.271307\" xlink:href=\"#m2b2ba8f451\" y=\"189.441754\"/>\n     <use style=\"fill:#1f77b4;stroke:#ffffff;stroke-width:0.48;\" x=\"182.725852\" xlink:href=\"#m2b2ba8f451\" y=\"103.288739\"/>\n     <use style=\"fill:#1f77b4;stroke:#ffffff;stroke-width:0.48;\" x=\"182.725852\" xlink:href=\"#m2b2ba8f451\" y=\"84.797614\"/>\n     <use style=\"fill:#1f77b4;stroke:#ffffff;stroke-width:0.48;\" x=\"385.634943\" xlink:href=\"#m2b2ba8f451\" y=\"191.31691\"/>\n     <use style=\"fill:#1f77b4;stroke:#ffffff;stroke-width:0.48;\" x=\"81.271307\" xlink:href=\"#m2b2ba8f451\" y=\"213.818785\"/>\n     <use style=\"fill:#1f77b4;stroke:#ffffff;stroke-width:0.48;\" x=\"182.725852\" xlink:href=\"#m2b2ba8f451\" y=\"178.503342\"/>\n     <use style=\"fill:#1f77b4;stroke:#ffffff;stroke-width:0.48;\" x=\"284.180398\" xlink:href=\"#m2b2ba8f451\" y=\"205.068056\"/>\n     <use style=\"fill:#1f77b4;stroke:#ffffff;stroke-width:0.48;\" x=\"385.634943\" xlink:href=\"#m2b2ba8f451\" y=\"182.253654\"/>\n     <use style=\"fill:#1f77b4;stroke:#ffffff;stroke-width:0.48;\" x=\"182.725852\" xlink:href=\"#m2b2ba8f451\" y=\"187.879123\"/>\n     <use style=\"fill:#1f77b4;stroke:#ffffff;stroke-width:0.48;\" x=\"182.725852\" xlink:href=\"#m2b2ba8f451\" y=\"193.817118\"/>\n     <use style=\"fill:#1f77b4;stroke:#ffffff;stroke-width:0.48;\" x=\"182.725852\" xlink:href=\"#m2b2ba8f451\" y=\"162.564513\"/>\n     <use style=\"fill:#1f77b4;stroke:#ffffff;stroke-width:0.48;\" x=\"81.271307\" xlink:href=\"#m2b2ba8f451\" y=\"176.940711\"/>\n     <use style=\"fill:#1f77b4;stroke:#ffffff;stroke-width:0.48;\" x=\"182.725852\" xlink:href=\"#m2b2ba8f451\" y=\"55.888954\"/>\n     <use style=\"fill:#1f77b4;stroke:#ffffff;stroke-width:0.48;\" x=\"81.271307\" xlink:href=\"#m2b2ba8f451\" y=\"195.067222\"/>\n     <use style=\"fill:#1f77b4;stroke:#ffffff;stroke-width:0.48;\" x=\"81.271307\" xlink:href=\"#m2b2ba8f451\" y=\"204.130478\"/>\n     <use style=\"fill:#1f77b4;stroke:#ffffff;stroke-width:0.48;\" x=\"182.725852\" xlink:href=\"#m2b2ba8f451\" y=\"164.127143\"/>\n     <use style=\"fill:#1f77b4;stroke:#ffffff;stroke-width:0.48;\" x=\"182.725852\" xlink:href=\"#m2b2ba8f451\" y=\"121.258987\"/>\n     <use style=\"fill:#1f77b4;stroke:#ffffff;stroke-width:0.48;\" x=\"284.180398\" xlink:href=\"#m2b2ba8f451\" y=\"192.254488\"/>\n     <use style=\"fill:#1f77b4;stroke:#ffffff;stroke-width:0.48;\" x=\"81.271307\" xlink:href=\"#m2b2ba8f451\" y=\"129.332576\"/>\n     <use style=\"fill:#1f77b4;stroke:#ffffff;stroke-width:0.48;\" x=\"182.725852\" xlink:href=\"#m2b2ba8f451\" y=\"174.127977\"/>\n     <use style=\"fill:#1f77b4;stroke:#ffffff;stroke-width:0.48;\" x=\"81.271307\" xlink:href=\"#m2b2ba8f451\" y=\"199.130061\"/>\n     <use style=\"fill:#1f77b4;stroke:#ffffff;stroke-width:0.48;\" x=\"182.725852\" xlink:href=\"#m2b2ba8f451\" y=\"99.90304\"/>\n     <use style=\"fill:#1f77b4;stroke:#ffffff;stroke-width:0.48;\" x=\"182.725852\" xlink:href=\"#m2b2ba8f451\" y=\"185.066389\"/>\n     <use style=\"fill:#1f77b4;stroke:#ffffff;stroke-width:0.48;\" x=\"385.634943\" xlink:href=\"#m2b2ba8f451\" y=\"172.565347\"/>\n     <use style=\"fill:#1f77b4;stroke:#ffffff;stroke-width:0.48;\" x=\"182.725852\" xlink:href=\"#m2b2ba8f451\" y=\"106.934876\"/>\n     <use style=\"fill:#1f77b4;stroke:#ffffff;stroke-width:0.48;\" x=\"284.180398\" xlink:href=\"#m2b2ba8f451\" y=\"196.629853\"/>\n     <use style=\"fill:#1f77b4;stroke:#ffffff;stroke-width:0.48;\" x=\"81.271307\" xlink:href=\"#m2b2ba8f451\" y=\"201.942796\"/>\n     <use style=\"fill:#1f77b4;stroke:#ffffff;stroke-width:0.48;\" x=\"182.725852\" xlink:href=\"#m2b2ba8f451\" y=\"45.471419\"/>\n     <use style=\"fill:#1f77b4;stroke:#ffffff;stroke-width:0.48;\" x=\"81.271307\" xlink:href=\"#m2b2ba8f451\" y=\"186.941545\"/>\n     <use style=\"fill:#1f77b4;stroke:#ffffff;stroke-width:0.48;\" x=\"182.725852\" xlink:href=\"#m2b2ba8f451\" y=\"193.504592\"/>\n     <use style=\"fill:#1f77b4;stroke:#ffffff;stroke-width:0.48;\" x=\"81.271307\" xlink:href=\"#m2b2ba8f451\" y=\"175.690607\"/>\n     <use style=\"fill:#1f77b4;stroke:#ffffff;stroke-width:0.48;\" x=\"81.271307\" xlink:href=\"#m2b2ba8f451\" y=\"181.941128\"/>\n     <use style=\"fill:#1f77b4;stroke:#ffffff;stroke-width:0.48;\" x=\"81.271307\" xlink:href=\"#m2b2ba8f451\" y=\"175.065555\"/>\n     <use style=\"fill:#1f77b4;stroke:#ffffff;stroke-width:0.48;\" x=\"385.634943\" xlink:href=\"#m2b2ba8f451\" y=\"191.941962\"/>\n     <use style=\"fill:#1f77b4;stroke:#ffffff;stroke-width:0.48;\" x=\"284.180398\" xlink:href=\"#m2b2ba8f451\" y=\"195.379748\"/>\n     <use style=\"fill:#1f77b4;stroke:#ffffff;stroke-width:0.48;\" x=\"81.271307\" xlink:href=\"#m2b2ba8f451\" y=\"186.941545\"/>\n     <use style=\"fill:#1f77b4;stroke:#ffffff;stroke-width:0.48;\" x=\"182.725852\" xlink:href=\"#m2b2ba8f451\" y=\"183.191232\"/>\n     <use style=\"fill:#1f77b4;stroke:#ffffff;stroke-width:0.48;\" x=\"81.271307\" xlink:href=\"#m2b2ba8f451\" y=\"185.066389\"/>\n     <use style=\"fill:#1f77b4;stroke:#ffffff;stroke-width:0.48;\" x=\"81.271307\" xlink:href=\"#m2b2ba8f451\" y=\"179.753446\"/>\n     <use style=\"fill:#1f77b4;stroke:#ffffff;stroke-width:0.48;\" x=\"385.634943\" xlink:href=\"#m2b2ba8f451\" y=\"186.003967\"/>\n     <use style=\"fill:#1f77b4;stroke:#ffffff;stroke-width:0.48;\" x=\"385.634943\" xlink:href=\"#m2b2ba8f451\" y=\"39.220898\"/>\n     <use style=\"fill:#1f77b4;stroke:#ffffff;stroke-width:0.48;\" x=\"182.725852\" xlink:href=\"#m2b2ba8f451\" y=\"165.689774\"/>\n     <use style=\"fill:#1f77b4;stroke:#ffffff;stroke-width:0.48;\" x=\"81.271307\" xlink:href=\"#m2b2ba8f451\" y=\"203.1929\"/>\n     <use style=\"fill:#1f77b4;stroke:#ffffff;stroke-width:0.48;\" x=\"284.180398\" xlink:href=\"#m2b2ba8f451\" y=\"212.256155\"/>\n     <use style=\"fill:#1f77b4;stroke:#ffffff;stroke-width:0.48;\" x=\"182.725852\" xlink:href=\"#m2b2ba8f451\" y=\"163.814617\"/>\n     <use style=\"fill:#1f77b4;stroke:#ffffff;stroke-width:0.48;\" x=\"182.725852\" xlink:href=\"#m2b2ba8f451\" y=\"183.503759\"/>\n     <use style=\"fill:#1f77b4;stroke:#ffffff;stroke-width:0.48;\" x=\"81.271307\" xlink:href=\"#m2b2ba8f451\" y=\"200.692691\"/>\n     <use style=\"fill:#1f77b4;stroke:#ffffff;stroke-width:0.48;\" x=\"182.725852\" xlink:href=\"#m2b2ba8f451\" y=\"175.065555\"/>\n     <use style=\"fill:#1f77b4;stroke:#ffffff;stroke-width:0.48;\" x=\"81.271307\" xlink:href=\"#m2b2ba8f451\" y=\"179.128394\"/>\n     <use style=\"fill:#1f77b4;stroke:#ffffff;stroke-width:0.48;\" x=\"182.725852\" xlink:href=\"#m2b2ba8f451\" y=\"174.127977\"/>\n     <use style=\"fill:#1f77b4;stroke:#ffffff;stroke-width:0.48;\" x=\"182.725852\" xlink:href=\"#m2b2ba8f451\" y=\"104.330492\"/>\n     <use style=\"fill:#1f77b4;stroke:#ffffff;stroke-width:0.48;\" x=\"81.271307\" xlink:href=\"#m2b2ba8f451\" y=\"206.31816\"/>\n     <use style=\"fill:#1f77b4;stroke:#ffffff;stroke-width:0.48;\" x=\"81.271307\" xlink:href=\"#m2b2ba8f451\" y=\"199.442587\"/>\n     <use style=\"fill:#1f77b4;stroke:#ffffff;stroke-width:0.48;\" x=\"182.725852\" xlink:href=\"#m2b2ba8f451\" y=\"148.500841\"/>\n     <use style=\"fill:#1f77b4;stroke:#ffffff;stroke-width:0.48;\" x=\"182.725852\" xlink:href=\"#m2b2ba8f451\" y=\"133.187064\"/>\n     <use style=\"fill:#1f77b4;stroke:#ffffff;stroke-width:0.48;\" x=\"284.180398\" xlink:href=\"#m2b2ba8f451\" y=\"192.254488\"/>\n     <use style=\"fill:#1f77b4;stroke:#ffffff;stroke-width:0.48;\" x=\"385.634943\" xlink:href=\"#m2b2ba8f451\" y=\"192.87954\"/>\n     <use style=\"fill:#1f77b4;stroke:#ffffff;stroke-width:0.48;\" x=\"182.725852\" xlink:href=\"#m2b2ba8f451\" y=\"128.8117\"/>\n     <use style=\"fill:#1f77b4;stroke:#ffffff;stroke-width:0.48;\" x=\"182.725852\" xlink:href=\"#m2b2ba8f451\" y=\"104.330492\"/>\n     <use style=\"fill:#1f77b4;stroke:#ffffff;stroke-width:0.48;\" x=\"284.180398\" xlink:href=\"#m2b2ba8f451\" y=\"196.004801\"/>\n     <use style=\"fill:#1f77b4;stroke:#ffffff;stroke-width:0.48;\" x=\"81.271307\" xlink:href=\"#m2b2ba8f451\" y=\"194.129644\"/>\n     <use style=\"fill:#1f77b4;stroke:#ffffff;stroke-width:0.48;\" x=\"182.725852\" xlink:href=\"#m2b2ba8f451\" y=\"185.378915\"/>\n     <use style=\"fill:#1f77b4;stroke:#ffffff;stroke-width:0.48;\" x=\"81.271307\" xlink:href=\"#m2b2ba8f451\" y=\"197.254905\"/>\n     <use style=\"fill:#1f77b4;stroke:#ffffff;stroke-width:0.48;\" x=\"81.271307\" xlink:href=\"#m2b2ba8f451\" y=\"198.505009\"/>\n     <use style=\"fill:#1f77b4;stroke:#ffffff;stroke-width:0.48;\" x=\"81.271307\" xlink:href=\"#m2b2ba8f451\" y=\"204.130478\"/>\n     <use style=\"fill:#1f77b4;stroke:#ffffff;stroke-width:0.48;\" x=\"182.725852\" xlink:href=\"#m2b2ba8f451\" y=\"190.066806\"/>\n     <use style=\"fill:#1f77b4;stroke:#ffffff;stroke-width:0.48;\" x=\"385.634943\" xlink:href=\"#m2b2ba8f451\" y=\"197.567431\"/>\n     <use style=\"fill:#1f77b4;stroke:#ffffff;stroke-width:0.48;\" x=\"385.634943\" xlink:href=\"#m2b2ba8f451\" y=\"192.87954\"/>\n     <use style=\"fill:#1f77b4;stroke:#ffffff;stroke-width:0.48;\" x=\"182.725852\" xlink:href=\"#m2b2ba8f451\" y=\"119.956795\"/>\n     <use style=\"fill:#1f77b4;stroke:#ffffff;stroke-width:0.48;\" x=\"81.271307\" xlink:href=\"#m2b2ba8f451\" y=\"206.005634\"/>\n     <use style=\"fill:#1f77b4;stroke:#ffffff;stroke-width:0.48;\" x=\"81.271307\" xlink:href=\"#m2b2ba8f451\" y=\"173.502925\"/>\n     <use style=\"fill:#1f77b4;stroke:#ffffff;stroke-width:0.48;\" x=\"81.271307\" xlink:href=\"#m2b2ba8f451\" y=\"168.815034\"/>\n     <use style=\"fill:#1f77b4;stroke:#ffffff;stroke-width:0.48;\" x=\"284.180398\" xlink:href=\"#m2b2ba8f451\" y=\"211.943629\"/>\n     <use style=\"fill:#1f77b4;stroke:#ffffff;stroke-width:0.48;\" x=\"284.180398\" xlink:href=\"#m2b2ba8f451\" y=\"206.630686\"/>\n     <use style=\"fill:#1f77b4;stroke:#ffffff;stroke-width:0.48;\" x=\"182.725852\" xlink:href=\"#m2b2ba8f451\" y=\"190.691858\"/>\n     <use style=\"fill:#1f77b4;stroke:#ffffff;stroke-width:0.48;\" x=\"81.271307\" xlink:href=\"#m2b2ba8f451\" y=\"175.690607\"/>\n     <use style=\"fill:#1f77b4;stroke:#ffffff;stroke-width:0.48;\" x=\"182.725852\" xlink:href=\"#m2b2ba8f451\" y=\"140.791865\"/>\n     <use style=\"fill:#1f77b4;stroke:#ffffff;stroke-width:0.48;\" x=\"182.725852\" xlink:href=\"#m2b2ba8f451\" y=\"161.939461\"/>\n     <use style=\"fill:#1f77b4;stroke:#ffffff;stroke-width:0.48;\" x=\"385.634943\" xlink:href=\"#m2b2ba8f451\" y=\"194.44217\"/>\n     <use style=\"fill:#1f77b4;stroke:#ffffff;stroke-width:0.48;\" x=\"182.725852\" xlink:href=\"#m2b2ba8f451\" y=\"192.87954\"/>\n     <use style=\"fill:#1f77b4;stroke:#ffffff;stroke-width:0.48;\" x=\"81.271307\" xlink:href=\"#m2b2ba8f451\" y=\"196.317327\"/>\n     <use style=\"fill:#1f77b4;stroke:#ffffff;stroke-width:0.48;\" x=\"81.271307\" xlink:href=\"#m2b2ba8f451\" y=\"178.190816\"/>\n     <use style=\"fill:#1f77b4;stroke:#ffffff;stroke-width:0.48;\" x=\"81.271307\" xlink:href=\"#m2b2ba8f451\" y=\"195.692275\"/>\n     <use style=\"fill:#1f77b4;stroke:#ffffff;stroke-width:0.48;\" x=\"182.725852\" xlink:href=\"#m2b2ba8f451\" y=\"129.853453\"/>\n     <use style=\"fill:#1f77b4;stroke:#ffffff;stroke-width:0.48;\" x=\"284.180398\" xlink:href=\"#m2b2ba8f451\" y=\"201.630269\"/>\n     <use style=\"fill:#1f77b4;stroke:#ffffff;stroke-width:0.48;\" x=\"81.271307\" xlink:href=\"#m2b2ba8f451\" y=\"201.317743\"/>\n     <use style=\"fill:#1f77b4;stroke:#ffffff;stroke-width:0.48;\" x=\"182.725852\" xlink:href=\"#m2b2ba8f451\" y=\"176.940711\"/>\n     <use style=\"fill:#1f77b4;stroke:#ffffff;stroke-width:0.48;\" x=\"81.271307\" xlink:href=\"#m2b2ba8f451\" y=\"199.755113\"/>\n     <use style=\"fill:#1f77b4;stroke:#ffffff;stroke-width:0.48;\" x=\"385.634943\" xlink:href=\"#m2b2ba8f451\" y=\"181.00355\"/>\n     <use style=\"fill:#1f77b4;stroke:#ffffff;stroke-width:0.48;\" x=\"385.634943\" xlink:href=\"#m2b2ba8f451\" y=\"84.016299\"/>\n     <use style=\"fill:#1f77b4;stroke:#ffffff;stroke-width:0.48;\" x=\"182.725852\" xlink:href=\"#m2b2ba8f451\" y=\"78.286655\"/>\n     <use style=\"fill:#1f77b4;stroke:#ffffff;stroke-width:0.48;\" x=\"81.271307\" xlink:href=\"#m2b2ba8f451\" y=\"173.190399\"/>\n     <use style=\"fill:#1f77b4;stroke:#ffffff;stroke-width:0.48;\" x=\"81.271307\" xlink:href=\"#m2b2ba8f451\" y=\"198.817535\"/>\n     <use style=\"fill:#1f77b4;stroke:#ffffff;stroke-width:0.48;\" x=\"182.725852\" xlink:href=\"#m2b2ba8f451\" y=\"80.891038\"/>\n     <use style=\"fill:#1f77b4;stroke:#ffffff;stroke-width:0.48;\" x=\"81.271307\" xlink:href=\"#m2b2ba8f451\" y=\"167.252404\"/>\n     <use style=\"fill:#1f77b4;stroke:#ffffff;stroke-width:0.48;\" x=\"81.271307\" xlink:href=\"#m2b2ba8f451\" y=\"181.628602\"/>\n     <use style=\"fill:#1f77b4;stroke:#ffffff;stroke-width:0.48;\" x=\"81.271307\" xlink:href=\"#m2b2ba8f451\" y=\"191.941962\"/>\n     <use style=\"fill:#1f77b4;stroke:#ffffff;stroke-width:0.48;\" x=\"81.271307\" xlink:href=\"#m2b2ba8f451\" y=\"186.629019\"/>\n     <use style=\"fill:#1f77b4;stroke:#ffffff;stroke-width:0.48;\" x=\"81.271307\" xlink:href=\"#m2b2ba8f451\" y=\"200.380165\"/>\n     <use style=\"fill:#1f77b4;stroke:#ffffff;stroke-width:0.48;\" x=\"182.725852\" xlink:href=\"#m2b2ba8f451\" y=\"177.253238\"/>\n     <use style=\"fill:#1f77b4;stroke:#ffffff;stroke-width:0.48;\" x=\"284.180398\" xlink:href=\"#m2b2ba8f451\" y=\"197.567431\"/>\n     <use style=\"fill:#1f77b4;stroke:#ffffff;stroke-width:0.48;\" x=\"81.271307\" xlink:href=\"#m2b2ba8f451\" y=\"201.317743\"/>\n     <use style=\"fill:#1f77b4;stroke:#ffffff;stroke-width:0.48;\" x=\"81.271307\" xlink:href=\"#m2b2ba8f451\" y=\"156.939044\"/>\n     <use style=\"fill:#1f77b4;stroke:#ffffff;stroke-width:0.48;\" x=\"81.271307\" xlink:href=\"#m2b2ba8f451\" y=\"198.817535\"/>\n     <use style=\"fill:#1f77b4;stroke:#ffffff;stroke-width:0.48;\" x=\"81.271307\" xlink:href=\"#m2b2ba8f451\" y=\"134.280905\"/>\n     <use style=\"fill:#1f77b4;stroke:#ffffff;stroke-width:0.48;\" x=\"385.634943\" xlink:href=\"#m2b2ba8f451\" y=\"191.941962\"/>\n     <use style=\"fill:#1f77b4;stroke:#ffffff;stroke-width:0.48;\" x=\"284.180398\" xlink:href=\"#m2b2ba8f451\" y=\"196.942379\"/>\n     <use style=\"fill:#1f77b4;stroke:#ffffff;stroke-width:0.48;\" x=\"182.725852\" xlink:href=\"#m2b2ba8f451\" y=\"181.628602\"/>\n     <use style=\"fill:#1f77b4;stroke:#ffffff;stroke-width:0.48;\" x=\"182.725852\" xlink:href=\"#m2b2ba8f451\" y=\"96.517341\"/>\n     <use style=\"fill:#1f77b4;stroke:#ffffff;stroke-width:0.48;\" x=\"182.725852\" xlink:href=\"#m2b2ba8f451\" y=\"186.316493\"/>\n     <use style=\"fill:#1f77b4;stroke:#ffffff;stroke-width:0.48;\" x=\"182.725852\" xlink:href=\"#m2b2ba8f451\" y=\"194.754696\"/>\n     <use style=\"fill:#1f77b4;stroke:#ffffff;stroke-width:0.48;\" x=\"385.634943\" xlink:href=\"#m2b2ba8f451\" y=\"183.503759\"/>\n     <use style=\"fill:#1f77b4;stroke:#ffffff;stroke-width:0.48;\" x=\"81.271307\" xlink:href=\"#m2b2ba8f451\" y=\"199.442587\"/>\n     <use style=\"fill:#1f77b4;stroke:#ffffff;stroke-width:0.48;\" x=\"284.180398\" xlink:href=\"#m2b2ba8f451\" y=\"195.379748\"/>\n     <use style=\"fill:#1f77b4;stroke:#ffffff;stroke-width:0.48;\" x=\"182.725852\" xlink:href=\"#m2b2ba8f451\" y=\"131.93696\"/>\n     <use style=\"fill:#1f77b4;stroke:#ffffff;stroke-width:0.48;\" x=\"284.180398\" xlink:href=\"#m2b2ba8f451\" y=\"206.630686\"/>\n     <use style=\"fill:#1f77b4;stroke:#ffffff;stroke-width:0.48;\" x=\"182.725852\" xlink:href=\"#m2b2ba8f451\" y=\"190.379332\"/>\n     <use style=\"fill:#1f77b4;stroke:#ffffff;stroke-width:0.48;\" x=\"81.271307\" xlink:href=\"#m2b2ba8f451\" y=\"192.567014\"/>\n     <use style=\"fill:#1f77b4;stroke:#ffffff;stroke-width:0.48;\" x=\"182.725852\" xlink:href=\"#m2b2ba8f451\" y=\"153.292907\"/>\n     <use style=\"fill:#1f77b4;stroke:#ffffff;stroke-width:0.48;\" x=\"81.271307\" xlink:href=\"#m2b2ba8f451\" y=\"206.630686\"/>\n     <use style=\"fill:#1f77b4;stroke:#ffffff;stroke-width:0.48;\" x=\"182.725852\" xlink:href=\"#m2b2ba8f451\" y=\"163.814617\"/>\n     <use style=\"fill:#1f77b4;stroke:#ffffff;stroke-width:0.48;\" x=\"182.725852\" xlink:href=\"#m2b2ba8f451\" y=\"181.00355\"/>\n     <use style=\"fill:#1f77b4;stroke:#ffffff;stroke-width:0.48;\" x=\"81.271307\" xlink:href=\"#m2b2ba8f451\" y=\"204.443004\"/>\n     <use style=\"fill:#1f77b4;stroke:#ffffff;stroke-width:0.48;\" x=\"81.271307\" xlink:href=\"#m2b2ba8f451\" y=\"169.12756\"/>\n     <use style=\"fill:#1f77b4;stroke:#ffffff;stroke-width:0.48;\" x=\"81.271307\" xlink:href=\"#m2b2ba8f451\" y=\"202.567848\"/>\n     <use style=\"fill:#1f77b4;stroke:#ffffff;stroke-width:0.48;\" x=\"182.725852\" xlink:href=\"#m2b2ba8f451\" y=\"105.632684\"/>\n     <use style=\"fill:#1f77b4;stroke:#ffffff;stroke-width:0.48;\" x=\"385.634943\" xlink:href=\"#m2b2ba8f451\" y=\"198.192483\"/>\n     <use style=\"fill:#1f77b4;stroke:#ffffff;stroke-width:0.48;\" x=\"182.725852\" xlink:href=\"#m2b2ba8f451\" y=\"31.928624\"/>\n     <use style=\"fill:#1f77b4;stroke:#ffffff;stroke-width:0.48;\" x=\"284.180398\" xlink:href=\"#m2b2ba8f451\" y=\"202.880374\"/>\n     <use style=\"fill:#1f77b4;stroke:#ffffff;stroke-width:0.48;\" x=\"81.271307\" xlink:href=\"#m2b2ba8f451\" y=\"214.443838\"/>\n     <use style=\"fill:#1f77b4;stroke:#ffffff;stroke-width:0.48;\" x=\"385.634943\" xlink:href=\"#m2b2ba8f451\" y=\"163.814617\"/>\n     <use style=\"fill:#1f77b4;stroke:#ffffff;stroke-width:0.48;\" x=\"385.634943\" xlink:href=\"#m2b2ba8f451\" y=\"192.254488\"/>\n     <use style=\"fill:#1f77b4;stroke:#ffffff;stroke-width:0.48;\" x=\"182.725852\" xlink:href=\"#m2b2ba8f451\" y=\"163.814617\"/>\n     <use style=\"fill:#1f77b4;stroke:#ffffff;stroke-width:0.48;\" x=\"385.634943\" xlink:href=\"#m2b2ba8f451\" y=\"191.941962\"/>\n     <use style=\"fill:#1f77b4;stroke:#ffffff;stroke-width:0.48;\" x=\"182.725852\" xlink:href=\"#m2b2ba8f451\" y=\"159.439253\"/>\n     <use style=\"fill:#1f77b4;stroke:#ffffff;stroke-width:0.48;\" x=\"81.271307\" xlink:href=\"#m2b2ba8f451\" y=\"205.693108\"/>\n     <use style=\"fill:#1f77b4;stroke:#ffffff;stroke-width:0.48;\" x=\"385.634943\" xlink:href=\"#m2b2ba8f451\" y=\"183.191232\"/>\n     <use style=\"fill:#1f77b4;stroke:#ffffff;stroke-width:0.48;\" x=\"182.725852\" xlink:href=\"#m2b2ba8f451\" y=\"191.629436\"/>\n     <use style=\"fill:#1f77b4;stroke:#ffffff;stroke-width:0.48;\" x=\"182.725852\" xlink:href=\"#m2b2ba8f451\" y=\"154.074222\"/>\n     <use style=\"fill:#1f77b4;stroke:#ffffff;stroke-width:0.48;\" x=\"284.180398\" xlink:href=\"#m2b2ba8f451\" y=\"203.1929\"/>\n     <use style=\"fill:#1f77b4;stroke:#ffffff;stroke-width:0.48;\" x=\"182.725852\" xlink:href=\"#m2b2ba8f451\" y=\"203.1929\"/>\n     <use style=\"fill:#1f77b4;stroke:#ffffff;stroke-width:0.48;\" x=\"81.271307\" xlink:href=\"#m2b2ba8f451\" y=\"208.505843\"/>\n     <use style=\"fill:#1f77b4;stroke:#ffffff;stroke-width:0.48;\" x=\"284.180398\" xlink:href=\"#m2b2ba8f451\" y=\"191.004384\"/>\n     <use style=\"fill:#1f77b4;stroke:#ffffff;stroke-width:0.48;\" x=\"81.271307\" xlink:href=\"#m2b2ba8f451\" y=\"197.567431\"/>\n     <use style=\"fill:#1f77b4;stroke:#ffffff;stroke-width:0.48;\" x=\"182.725852\" xlink:href=\"#m2b2ba8f451\" y=\"156.626518\"/>\n     <use style=\"fill:#1f77b4;stroke:#ffffff;stroke-width:0.48;\" x=\"81.271307\" xlink:href=\"#m2b2ba8f451\" y=\"188.816701\"/>\n     <use style=\"fill:#1f77b4;stroke:#ffffff;stroke-width:0.48;\" x=\"182.725852\" xlink:href=\"#m2b2ba8f451\" y=\"137.874955\"/>\n     <use style=\"fill:#1f77b4;stroke:#ffffff;stroke-width:0.48;\" x=\"284.180398\" xlink:href=\"#m2b2ba8f451\" y=\"189.75428\"/>\n     <use style=\"fill:#1f77b4;stroke:#ffffff;stroke-width:0.48;\" x=\"81.271307\" xlink:href=\"#m2b2ba8f451\" y=\"171.315243\"/>\n     <use style=\"fill:#1f77b4;stroke:#ffffff;stroke-width:0.48;\" x=\"182.725852\" xlink:href=\"#m2b2ba8f451\" y=\"180.691024\"/>\n     <use style=\"fill:#1f77b4;stroke:#ffffff;stroke-width:0.48;\" x=\"182.725852\" xlink:href=\"#m2b2ba8f451\" y=\"142.25032\"/>\n     <use style=\"fill:#1f77b4;stroke:#ffffff;stroke-width:0.48;\" x=\"182.725852\" xlink:href=\"#m2b2ba8f451\" y=\"185.066389\"/>\n     <use style=\"fill:#1f77b4;stroke:#ffffff;stroke-width:0.48;\" x=\"81.271307\" xlink:href=\"#m2b2ba8f451\" y=\"197.879957\"/>\n     <use style=\"fill:#1f77b4;stroke:#ffffff;stroke-width:0.48;\" x=\"182.725852\" xlink:href=\"#m2b2ba8f451\" y=\"149.125893\"/>\n     <use style=\"fill:#1f77b4;stroke:#ffffff;stroke-width:0.48;\" x=\"81.271307\" xlink:href=\"#m2b2ba8f451\" y=\"212.256155\"/>\n     <use style=\"fill:#1f77b4;stroke:#ffffff;stroke-width:0.48;\" x=\"182.725852\" xlink:href=\"#m2b2ba8f451\" y=\"183.191232\"/>\n     <use style=\"fill:#1f77b4;stroke:#ffffff;stroke-width:0.48;\" x=\"81.271307\" xlink:href=\"#m2b2ba8f451\" y=\"194.44217\"/>\n     <use style=\"fill:#1f77b4;stroke:#ffffff;stroke-width:0.48;\" x=\"182.725852\" xlink:href=\"#m2b2ba8f451\" y=\"125.165562\"/>\n     <use style=\"fill:#1f77b4;stroke:#ffffff;stroke-width:0.48;\" x=\"81.271307\" xlink:href=\"#m2b2ba8f451\" y=\"191.941962\"/>\n     <use style=\"fill:#1f77b4;stroke:#ffffff;stroke-width:0.48;\" x=\"182.725852\" xlink:href=\"#m2b2ba8f451\" y=\"190.379332\"/>\n     <use style=\"fill:#1f77b4;stroke:#ffffff;stroke-width:0.48;\" x=\"81.271307\" xlink:href=\"#m2b2ba8f451\" y=\"194.129644\"/>\n     <use style=\"fill:#1f77b4;stroke:#ffffff;stroke-width:0.48;\" x=\"81.271307\" xlink:href=\"#m2b2ba8f451\" y=\"199.755113\"/>\n     <use style=\"fill:#1f77b4;stroke:#ffffff;stroke-width:0.48;\" x=\"182.725852\" xlink:href=\"#m2b2ba8f451\" y=\"184.441337\"/>\n     <use style=\"fill:#1f77b4;stroke:#ffffff;stroke-width:0.48;\" x=\"81.271307\" xlink:href=\"#m2b2ba8f451\" y=\"186.316493\"/>\n     <use style=\"fill:#1f77b4;stroke:#ffffff;stroke-width:0.48;\" x=\"81.271307\" xlink:href=\"#m2b2ba8f451\" y=\"189.441754\"/>\n     <use style=\"fill:#1f77b4;stroke:#ffffff;stroke-width:0.48;\" x=\"81.271307\" xlink:href=\"#m2b2ba8f451\" y=\"204.130478\"/>\n     <use style=\"fill:#1f77b4;stroke:#ffffff;stroke-width:0.48;\" x=\"81.271307\" xlink:href=\"#m2b2ba8f451\" y=\"196.004801\"/>\n     <use style=\"fill:#1f77b4;stroke:#ffffff;stroke-width:0.48;\" x=\"182.725852\" xlink:href=\"#m2b2ba8f451\" y=\"190.691858\"/>\n     <use style=\"fill:#1f77b4;stroke:#ffffff;stroke-width:0.48;\" x=\"81.271307\" xlink:href=\"#m2b2ba8f451\" y=\"194.44217\"/>\n     <use style=\"fill:#1f77b4;stroke:#ffffff;stroke-width:0.48;\" x=\"182.725852\" xlink:href=\"#m2b2ba8f451\" y=\"151.730277\"/>\n     <use style=\"fill:#1f77b4;stroke:#ffffff;stroke-width:0.48;\" x=\"81.271307\" xlink:href=\"#m2b2ba8f451\" y=\"206.630686\"/>\n     <use style=\"fill:#1f77b4;stroke:#ffffff;stroke-width:0.48;\" x=\"182.725852\" xlink:href=\"#m2b2ba8f451\" y=\"194.754696\"/>\n     <use style=\"fill:#1f77b4;stroke:#ffffff;stroke-width:0.48;\" x=\"182.725852\" xlink:href=\"#m2b2ba8f451\" y=\"108.237068\"/>\n     <use style=\"fill:#1f77b4;stroke:#ffffff;stroke-width:0.48;\" x=\"81.271307\" xlink:href=\"#m2b2ba8f451\" y=\"213.818785\"/>\n     <use style=\"fill:#1f77b4;stroke:#ffffff;stroke-width:0.48;\" x=\"81.271307\" xlink:href=\"#m2b2ba8f451\" y=\"195.067222\"/>\n     <use style=\"fill:#1f77b4;stroke:#ffffff;stroke-width:0.48;\" x=\"182.725852\" xlink:href=\"#m2b2ba8f451\" y=\"192.87954\"/>\n     <use style=\"fill:#1f77b4;stroke:#ffffff;stroke-width:0.48;\" x=\"81.271307\" xlink:href=\"#m2b2ba8f451\" y=\"202.880374\"/>\n     <use style=\"fill:#1f77b4;stroke:#ffffff;stroke-width:0.48;\" x=\"284.180398\" xlink:href=\"#m2b2ba8f451\" y=\"192.567014\"/>\n     <use style=\"fill:#1f77b4;stroke:#ffffff;stroke-width:0.48;\" x=\"284.180398\" xlink:href=\"#m2b2ba8f451\" y=\"198.505009\"/>\n     <use style=\"fill:#1f77b4;stroke:#ffffff;stroke-width:0.48;\" x=\"81.271307\" xlink:href=\"#m2b2ba8f451\" y=\"201.942796\"/>\n     <use style=\"fill:#1f77b4;stroke:#ffffff;stroke-width:0.48;\" x=\"182.725852\" xlink:href=\"#m2b2ba8f451\" y=\"123.86337\"/>\n     <use style=\"fill:#1f77b4;stroke:#ffffff;stroke-width:0.48;\" x=\"385.634943\" xlink:href=\"#m2b2ba8f451\" y=\"195.067222\"/>\n     <use style=\"fill:#1f77b4;stroke:#ffffff;stroke-width:0.48;\" x=\"182.725852\" xlink:href=\"#m2b2ba8f451\" y=\"91.308573\"/>\n     <use style=\"fill:#1f77b4;stroke:#ffffff;stroke-width:0.48;\" x=\"81.271307\" xlink:href=\"#m2b2ba8f451\" y=\"184.441337\"/>\n     <use style=\"fill:#1f77b4;stroke:#ffffff;stroke-width:0.48;\" x=\"284.180398\" xlink:href=\"#m2b2ba8f451\" y=\"199.442587\"/>\n     <use style=\"fill:#1f77b4;stroke:#ffffff;stroke-width:0.48;\" x=\"284.180398\" xlink:href=\"#m2b2ba8f451\" y=\"203.505426\"/>\n     <use style=\"fill:#1f77b4;stroke:#ffffff;stroke-width:0.48;\" x=\"182.725852\" xlink:href=\"#m2b2ba8f451\" y=\"189.75428\"/>\n     <use style=\"fill:#1f77b4;stroke:#ffffff;stroke-width:0.48;\" x=\"182.725852\" xlink:href=\"#m2b2ba8f451\" y=\"157.12656\"/>\n     <use style=\"fill:#1f77b4;stroke:#ffffff;stroke-width:0.48;\" x=\"182.725852\" xlink:href=\"#m2b2ba8f451\" y=\"193.504592\"/>\n     <use style=\"fill:#1f77b4;stroke:#ffffff;stroke-width:0.48;\" x=\"182.725852\" xlink:href=\"#m2b2ba8f451\" y=\"186.629019\"/>\n     <use style=\"fill:#1f77b4;stroke:#ffffff;stroke-width:0.48;\" x=\"81.271307\" xlink:href=\"#m2b2ba8f451\" y=\"200.692691\"/>\n     <use style=\"fill:#1f77b4;stroke:#ffffff;stroke-width:0.48;\" x=\"182.725852\" xlink:href=\"#m2b2ba8f451\" y=\"176.940711\"/>\n     <use style=\"fill:#1f77b4;stroke:#ffffff;stroke-width:0.48;\" x=\"182.725852\" xlink:href=\"#m2b2ba8f451\" y=\"105.632684\"/>\n     <use style=\"fill:#1f77b4;stroke:#ffffff;stroke-width:0.48;\" x=\"81.271307\" xlink:href=\"#m2b2ba8f451\" y=\"201.005217\"/>\n     <use style=\"fill:#1f77b4;stroke:#ffffff;stroke-width:0.48;\" x=\"182.725852\" xlink:href=\"#m2b2ba8f451\" y=\"187.566597\"/>\n     <use style=\"fill:#1f77b4;stroke:#ffffff;stroke-width:0.48;\" x=\"182.725852\" xlink:href=\"#m2b2ba8f451\" y=\"122.561179\"/>\n     <use style=\"fill:#1f77b4;stroke:#ffffff;stroke-width:0.48;\" x=\"284.180398\" xlink:href=\"#m2b2ba8f451\" y=\"193.817118\"/>\n     <use style=\"fill:#1f77b4;stroke:#ffffff;stroke-width:0.48;\" x=\"182.725852\" xlink:href=\"#m2b2ba8f451\" y=\"140.375163\"/>\n     <use style=\"fill:#1f77b4;stroke:#ffffff;stroke-width:0.48;\" x=\"385.634943\" xlink:href=\"#m2b2ba8f451\" y=\"189.75428\"/>\n     <use style=\"fill:#1f77b4;stroke:#ffffff;stroke-width:0.48;\" x=\"182.725852\" xlink:href=\"#m2b2ba8f451\" y=\"188.504175\"/>\n     <use style=\"fill:#1f77b4;stroke:#ffffff;stroke-width:0.48;\" x=\"81.271307\" xlink:href=\"#m2b2ba8f451\" y=\"185.691441\"/>\n     <use style=\"fill:#1f77b4;stroke:#ffffff;stroke-width:0.48;\" x=\"81.271307\" xlink:href=\"#m2b2ba8f451\" y=\"197.254905\"/>\n     <use style=\"fill:#1f77b4;stroke:#ffffff;stroke-width:0.48;\" x=\"182.725852\" xlink:href=\"#m2b2ba8f451\" y=\"58.753777\"/>\n     <use style=\"fill:#1f77b4;stroke:#ffffff;stroke-width:0.48;\" x=\"182.725852\" xlink:href=\"#m2b2ba8f451\" y=\"185.378915\"/>\n     <use style=\"fill:#1f77b4;stroke:#ffffff;stroke-width:0.48;\" x=\"81.271307\" xlink:href=\"#m2b2ba8f451\" y=\"213.818785\"/>\n     <use style=\"fill:#1f77b4;stroke:#ffffff;stroke-width:0.48;\" x=\"385.634943\" xlink:href=\"#m2b2ba8f451\" y=\"183.503759\"/>\n     <use style=\"fill:#1f77b4;stroke:#ffffff;stroke-width:0.48;\" x=\"284.180398\" xlink:href=\"#m2b2ba8f451\" y=\"211.318577\"/>\n     <use style=\"fill:#1f77b4;stroke:#ffffff;stroke-width:0.48;\" x=\"385.634943\" xlink:href=\"#m2b2ba8f451\" y=\"189.441754\"/>\n     <use style=\"fill:#1f77b4;stroke:#ffffff;stroke-width:0.48;\" x=\"385.634943\" xlink:href=\"#m2b2ba8f451\" y=\"156.001466\"/>\n     <use style=\"fill:#1f77b4;stroke:#ffffff;stroke-width:0.48;\" x=\"385.634943\" xlink:href=\"#m2b2ba8f451\" y=\"189.75428\"/>\n     <use style=\"fill:#1f77b4;stroke:#ffffff;stroke-width:0.48;\" x=\"385.634943\" xlink:href=\"#m2b2ba8f451\" y=\"202.255322\"/>\n     <use style=\"fill:#1f77b4;stroke:#ffffff;stroke-width:0.48;\" x=\"182.725852\" xlink:href=\"#m2b2ba8f451\" y=\"181.628602\"/>\n     <use style=\"fill:#1f77b4;stroke:#ffffff;stroke-width:0.48;\" x=\"81.271307\" xlink:href=\"#m2b2ba8f451\" y=\"202.567848\"/>\n     <use style=\"fill:#1f77b4;stroke:#ffffff;stroke-width:0.48;\" x=\"182.725852\" xlink:href=\"#m2b2ba8f451\" y=\"184.503842\"/>\n     <use style=\"fill:#1f77b4;stroke:#ffffff;stroke-width:0.48;\" x=\"182.725852\" xlink:href=\"#m2b2ba8f451\" y=\"183.503759\"/>\n     <use style=\"fill:#1f77b4;stroke:#ffffff;stroke-width:0.48;\" x=\"284.180398\" xlink:href=\"#m2b2ba8f451\" y=\"197.567431\"/>\n     <use style=\"fill:#1f77b4;stroke:#ffffff;stroke-width:0.48;\" x=\"182.725852\" xlink:href=\"#m2b2ba8f451\" y=\"179.753446\"/>\n     <use style=\"fill:#1f77b4;stroke:#ffffff;stroke-width:0.48;\" x=\"385.634943\" xlink:href=\"#m2b2ba8f451\" y=\"186.941545\"/>\n     <use style=\"fill:#1f77b4;stroke:#ffffff;stroke-width:0.48;\" x=\"81.271307\" xlink:href=\"#m2b2ba8f451\" y=\"211.631103\"/>\n     <use style=\"fill:#1f77b4;stroke:#ffffff;stroke-width:0.48;\" x=\"182.725852\" xlink:href=\"#m2b2ba8f451\" y=\"108.237068\"/>\n     <use style=\"fill:#1f77b4;stroke:#ffffff;stroke-width:0.48;\" x=\"182.725852\" xlink:href=\"#m2b2ba8f451\" y=\"186.316493\"/>\n     <use style=\"fill:#1f77b4;stroke:#ffffff;stroke-width:0.48;\" x=\"81.271307\" xlink:href=\"#m2b2ba8f451\" y=\"157.980798\"/>\n     <use style=\"fill:#1f77b4;stroke:#ffffff;stroke-width:0.48;\" x=\"284.180398\" xlink:href=\"#m2b2ba8f451\" y=\"196.004801\"/>\n     <use style=\"fill:#1f77b4;stroke:#ffffff;stroke-width:0.48;\" x=\"81.271307\" xlink:href=\"#m2b2ba8f451\" y=\"192.567014\"/>\n     <use style=\"fill:#1f77b4;stroke:#ffffff;stroke-width:0.48;\" x=\"81.271307\" xlink:href=\"#m2b2ba8f451\" y=\"211.943629\"/>\n     <use style=\"fill:#1f77b4;stroke:#ffffff;stroke-width:0.48;\" x=\"182.725852\" xlink:href=\"#m2b2ba8f451\" y=\"183.503759\"/>\n     <use style=\"fill:#1f77b4;stroke:#ffffff;stroke-width:0.48;\" x=\"81.271307\" xlink:href=\"#m2b2ba8f451\" y=\"205.068056\"/>\n     <use style=\"fill:#1f77b4;stroke:#ffffff;stroke-width:0.48;\" x=\"182.725852\" xlink:href=\"#m2b2ba8f451\" y=\"186.941545\"/>\n     <use style=\"fill:#1f77b4;stroke:#ffffff;stroke-width:0.48;\" x=\"385.634943\" xlink:href=\"#m2b2ba8f451\" y=\"183.503759\"/>\n     <use style=\"fill:#1f77b4;stroke:#ffffff;stroke-width:0.48;\" x=\"81.271307\" xlink:href=\"#m2b2ba8f451\" y=\"197.567431\"/>\n     <use style=\"fill:#1f77b4;stroke:#ffffff;stroke-width:0.48;\" x=\"182.725852\" xlink:href=\"#m2b2ba8f451\" y=\"121.779863\"/>\n     <use style=\"fill:#1f77b4;stroke:#ffffff;stroke-width:0.48;\" x=\"182.725852\" xlink:href=\"#m2b2ba8f451\" y=\"136.885289\"/>\n     <use style=\"fill:#1f77b4;stroke:#ffffff;stroke-width:0.48;\" x=\"81.271307\" xlink:href=\"#m2b2ba8f451\" y=\"203.817952\"/>\n     <use style=\"fill:#1f77b4;stroke:#ffffff;stroke-width:0.48;\" x=\"81.271307\" xlink:href=\"#m2b2ba8f451\" y=\"196.629853\"/>\n     <use style=\"fill:#1f77b4;stroke:#ffffff;stroke-width:0.48;\" x=\"81.271307\" xlink:href=\"#m2b2ba8f451\" y=\"189.441754\"/>\n     <use style=\"fill:#1f77b4;stroke:#ffffff;stroke-width:0.48;\" x=\"182.725852\" xlink:href=\"#m2b2ba8f451\" y=\"192.87954\"/>\n     <use style=\"fill:#1f77b4;stroke:#ffffff;stroke-width:0.48;\" x=\"385.634943\" xlink:href=\"#m2b2ba8f451\" y=\"200.692691\"/>\n     <use style=\"fill:#1f77b4;stroke:#ffffff;stroke-width:0.48;\" x=\"182.725852\" xlink:href=\"#m2b2ba8f451\" y=\"122.561179\"/>\n     <use style=\"fill:#1f77b4;stroke:#ffffff;stroke-width:0.48;\" x=\"182.725852\" xlink:href=\"#m2b2ba8f451\" y=\"143.396249\"/>\n     <use style=\"fill:#1f77b4;stroke:#ffffff;stroke-width:0.48;\" x=\"81.271307\" xlink:href=\"#m2b2ba8f451\" y=\"202.255322\"/>\n     <use style=\"fill:#1f77b4;stroke:#ffffff;stroke-width:0.48;\" x=\"182.725852\" xlink:href=\"#m2b2ba8f451\" y=\"91.308573\"/>\n     <use style=\"fill:#1f77b4;stroke:#ffffff;stroke-width:0.48;\" x=\"182.725852\" xlink:href=\"#m2b2ba8f451\" y=\"94.433834\"/>\n     <use style=\"fill:#1f77b4;stroke:#ffffff;stroke-width:0.48;\" x=\"182.725852\" xlink:href=\"#m2b2ba8f451\" y=\"176.940711\"/>\n     <use style=\"fill:#1f77b4;stroke:#ffffff;stroke-width:0.48;\" x=\"81.271307\" xlink:href=\"#m2b2ba8f451\" y=\"188.191649\"/>\n     <use style=\"fill:#1f77b4;stroke:#ffffff;stroke-width:0.48;\" x=\"81.271307\" xlink:href=\"#m2b2ba8f451\" y=\"214.756364\"/>\n     <use style=\"fill:#1f77b4;stroke:#ffffff;stroke-width:0.48;\" x=\"182.725852\" xlink:href=\"#m2b2ba8f451\" y=\"183.503759\"/>\n     <use style=\"fill:#1f77b4;stroke:#ffffff;stroke-width:0.48;\" x=\"81.271307\" xlink:href=\"#m2b2ba8f451\" y=\"202.880374\"/>\n     <use style=\"fill:#1f77b4;stroke:#ffffff;stroke-width:0.48;\" x=\"182.725852\" xlink:href=\"#m2b2ba8f451\" y=\"188.191649\"/>\n     <use style=\"fill:#1f77b4;stroke:#ffffff;stroke-width:0.48;\" x=\"81.271307\" xlink:href=\"#m2b2ba8f451\" y=\"197.254905\"/>\n     <use style=\"fill:#1f77b4;stroke:#ffffff;stroke-width:0.48;\" x=\"182.725852\" xlink:href=\"#m2b2ba8f451\" y=\"146.000632\"/>\n     <use style=\"fill:#1f77b4;stroke:#ffffff;stroke-width:0.48;\" x=\"182.725852\" xlink:href=\"#m2b2ba8f451\" y=\"160.064305\"/>\n     <use style=\"fill:#1f77b4;stroke:#ffffff;stroke-width:0.48;\" x=\"182.725852\" xlink:href=\"#m2b2ba8f451\" y=\"174.753029\"/>\n     <use style=\"fill:#1f77b4;stroke:#ffffff;stroke-width:0.48;\" x=\"385.634943\" xlink:href=\"#m2b2ba8f451\" y=\"200.692691\"/>\n     <use style=\"fill:#1f77b4;stroke:#ffffff;stroke-width:0.48;\" x=\"81.271307\" xlink:href=\"#m2b2ba8f451\" y=\"190.691858\"/>\n     <use style=\"fill:#1f77b4;stroke:#ffffff;stroke-width:0.48;\" x=\"182.725852\" xlink:href=\"#m2b2ba8f451\" y=\"73.077887\"/>\n     <use style=\"fill:#1f77b4;stroke:#ffffff;stroke-width:0.48;\" x=\"182.725852\" xlink:href=\"#m2b2ba8f451\" y=\"172.252821\"/>\n     <use style=\"fill:#1f77b4;stroke:#ffffff;stroke-width:0.48;\" x=\"182.725852\" xlink:href=\"#m2b2ba8f451\" y=\"169.440086\"/>\n     <use style=\"fill:#1f77b4;stroke:#ffffff;stroke-width:0.48;\" x=\"81.271307\" xlink:href=\"#m2b2ba8f451\" y=\"196.317327\"/>\n     <use style=\"fill:#1f77b4;stroke:#ffffff;stroke-width:0.48;\" x=\"81.271307\" xlink:href=\"#m2b2ba8f451\" y=\"209.755947\"/>\n     <use style=\"fill:#1f77b4;stroke:#ffffff;stroke-width:0.48;\" x=\"81.271307\" xlink:href=\"#m2b2ba8f451\" y=\"188.191649\"/>\n     <use style=\"fill:#1f77b4;stroke:#ffffff;stroke-width:0.48;\" x=\"182.725852\" xlink:href=\"#m2b2ba8f451\" y=\"201.630269\"/>\n     <use style=\"fill:#1f77b4;stroke:#ffffff;stroke-width:0.48;\" x=\"182.725852\" xlink:href=\"#m2b2ba8f451\" y=\"190.691858\"/>\n     <use style=\"fill:#1f77b4;stroke:#ffffff;stroke-width:0.48;\" x=\"81.271307\" xlink:href=\"#m2b2ba8f451\" y=\"209.755947\"/>\n     <use style=\"fill:#1f77b4;stroke:#ffffff;stroke-width:0.48;\" x=\"182.725852\" xlink:href=\"#m2b2ba8f451\" y=\"183.503759\"/>\n     <use style=\"fill:#1f77b4;stroke:#ffffff;stroke-width:0.48;\" x=\"182.725852\" xlink:href=\"#m2b2ba8f451\" y=\"174.440503\"/>\n     <use style=\"fill:#1f77b4;stroke:#ffffff;stroke-width:0.48;\" x=\"182.725852\" xlink:href=\"#m2b2ba8f451\" y=\"31.407747\"/>\n     <use style=\"fill:#1f77b4;stroke:#ffffff;stroke-width:0.48;\" x=\"81.271307\" xlink:href=\"#m2b2ba8f451\" y=\"189.75428\"/>\n     <use style=\"fill:#1f77b4;stroke:#ffffff;stroke-width:0.48;\" x=\"182.725852\" xlink:href=\"#m2b2ba8f451\" y=\"188.191649\"/>\n     <use style=\"fill:#1f77b4;stroke:#ffffff;stroke-width:0.48;\" x=\"81.271307\" xlink:href=\"#m2b2ba8f451\" y=\"201.942796\"/>\n     <use style=\"fill:#1f77b4;stroke:#ffffff;stroke-width:0.48;\" x=\"385.634943\" xlink:href=\"#m2b2ba8f451\" y=\"185.066389\"/>\n     <use style=\"fill:#1f77b4;stroke:#ffffff;stroke-width:0.48;\" x=\"284.180398\" xlink:href=\"#m2b2ba8f451\" y=\"207.568264\"/>\n     <use style=\"fill:#1f77b4;stroke:#ffffff;stroke-width:0.48;\" x=\"81.271307\" xlink:href=\"#m2b2ba8f451\" y=\"212.568681\"/>\n     <use style=\"fill:#1f77b4;stroke:#ffffff;stroke-width:0.48;\" x=\"182.725852\" xlink:href=\"#m2b2ba8f451\" y=\"17.083636\"/>\n     <use style=\"fill:#1f77b4;stroke:#ffffff;stroke-width:0.48;\" x=\"81.271307\" xlink:href=\"#m2b2ba8f451\" y=\"196.629853\"/>\n     <use style=\"fill:#1f77b4;stroke:#ffffff;stroke-width:0.48;\" x=\"385.634943\" xlink:href=\"#m2b2ba8f451\" y=\"109.53926\"/>\n     <use style=\"fill:#1f77b4;stroke:#ffffff;stroke-width:0.48;\" x=\"81.271307\" xlink:href=\"#m2b2ba8f451\" y=\"211.318577\"/>\n     <use style=\"fill:#1f77b4;stroke:#ffffff;stroke-width:0.48;\" x=\"81.271307\" xlink:href=\"#m2b2ba8f451\" y=\"185.378915\"/>\n     <use style=\"fill:#1f77b4;stroke:#ffffff;stroke-width:0.48;\" x=\"182.725852\" xlink:href=\"#m2b2ba8f451\" y=\"184.441337\"/>\n     <use style=\"fill:#1f77b4;stroke:#ffffff;stroke-width:0.48;\" x=\"81.271307\" xlink:href=\"#m2b2ba8f451\" y=\"196.629853\"/>\n     <use style=\"fill:#1f77b4;stroke:#ffffff;stroke-width:0.48;\" x=\"81.271307\" xlink:href=\"#m2b2ba8f451\" y=\"212.881207\"/>\n     <use style=\"fill:#1f77b4;stroke:#ffffff;stroke-width:0.48;\" x=\"81.271307\" xlink:href=\"#m2b2ba8f451\" y=\"162.564513\"/>\n     <use style=\"fill:#1f77b4;stroke:#ffffff;stroke-width:0.48;\" x=\"385.634943\" xlink:href=\"#m2b2ba8f451\" y=\"183.503759\"/>\n    </g>\n   </g>\n   <g id=\"PolyCollection_1\">\n    <defs>\n     <path d=\"M 81.271307 -82.699118 \nL 81.271307 -82.699118 \nL 182.725852 -86.668025 \nL 284.180398 -90.636931 \nL 385.634943 -94.605838 \nL 385.634943 -94.605838 \nL 385.634943 -94.605838 \nL 284.180398 -90.636931 \nL 182.725852 -86.668025 \nL 81.271307 -82.699118 \nz\n\" id=\"mc20a7efc03\" style=\"stroke:#1f77b4;stroke-opacity:0.2;\"/>\n    </defs>\n    <g clip-path=\"url(#pe8d73176ea)\">\n     <use style=\"fill:#1f77b4;fill-opacity:0.2;stroke:#1f77b4;stroke-opacity:0.2;\" x=\"0\" xlink:href=\"#mc20a7efc03\" y=\"262.19625\"/>\n    </g>\n   </g>\n   <g id=\"matplotlib.axis_1\">\n    <g id=\"xtick_1\">\n     <g id=\"line2d_1\">\n      <defs>\n       <path d=\"M 0 0 \nL 0 3.5 \n\" id=\"m1de44001e4\" style=\"stroke:#000000;stroke-width:0.8;\"/>\n      </defs>\n      <g>\n       <use style=\"stroke:#000000;stroke-width:0.8;\" x=\"81.271307\" xlink:href=\"#m1de44001e4\" y=\"224.64\"/>\n      </g>\n     </g>\n     <g id=\"text_1\">\n      <!-- 0.0 -->\n      <g transform=\"translate(73.319744 239.238437)scale(0.1 -0.1)\">\n       <defs>\n        <path d=\"M 2034 4250 \nQ 1547 4250 1301 3770 \nQ 1056 3291 1056 2328 \nQ 1056 1369 1301 889 \nQ 1547 409 2034 409 \nQ 2525 409 2770 889 \nQ 3016 1369 3016 2328 \nQ 3016 3291 2770 3770 \nQ 2525 4250 2034 4250 \nz\nM 2034 4750 \nQ 2819 4750 3233 4129 \nQ 3647 3509 3647 2328 \nQ 3647 1150 3233 529 \nQ 2819 -91 2034 -91 \nQ 1250 -91 836 529 \nQ 422 1150 422 2328 \nQ 422 3509 836 4129 \nQ 1250 4750 2034 4750 \nz\n\" id=\"DejaVuSans-30\" transform=\"scale(0.015625)\"/>\n        <path d=\"M 684 794 \nL 1344 794 \nL 1344 0 \nL 684 0 \nL 684 794 \nz\n\" id=\"DejaVuSans-2e\" transform=\"scale(0.015625)\"/>\n       </defs>\n       <use xlink:href=\"#DejaVuSans-30\"/>\n       <use x=\"63.623047\" xlink:href=\"#DejaVuSans-2e\"/>\n       <use x=\"95.410156\" xlink:href=\"#DejaVuSans-30\"/>\n      </g>\n     </g>\n    </g>\n    <g id=\"xtick_2\">\n     <g id=\"line2d_2\">\n      <g>\n       <use style=\"stroke:#000000;stroke-width:0.8;\" x=\"131.99858\" xlink:href=\"#m1de44001e4\" y=\"224.64\"/>\n      </g>\n     </g>\n     <g id=\"text_2\">\n      <!-- 0.5 -->\n      <g transform=\"translate(124.047017 239.238437)scale(0.1 -0.1)\">\n       <defs>\n        <path d=\"M 691 4666 \nL 3169 4666 \nL 3169 4134 \nL 1269 4134 \nL 1269 2991 \nQ 1406 3038 1543 3061 \nQ 1681 3084 1819 3084 \nQ 2600 3084 3056 2656 \nQ 3513 2228 3513 1497 \nQ 3513 744 3044 326 \nQ 2575 -91 1722 -91 \nQ 1428 -91 1123 -41 \nQ 819 9 494 109 \nL 494 744 \nQ 775 591 1075 516 \nQ 1375 441 1709 441 \nQ 2250 441 2565 725 \nQ 2881 1009 2881 1497 \nQ 2881 1984 2565 2268 \nQ 2250 2553 1709 2553 \nQ 1456 2553 1204 2497 \nQ 953 2441 691 2322 \nL 691 4666 \nz\n\" id=\"DejaVuSans-35\" transform=\"scale(0.015625)\"/>\n       </defs>\n       <use xlink:href=\"#DejaVuSans-30\"/>\n       <use x=\"63.623047\" xlink:href=\"#DejaVuSans-2e\"/>\n       <use x=\"95.410156\" xlink:href=\"#DejaVuSans-35\"/>\n      </g>\n     </g>\n    </g>\n    <g id=\"xtick_3\">\n     <g id=\"line2d_3\">\n      <g>\n       <use style=\"stroke:#000000;stroke-width:0.8;\" x=\"182.725852\" xlink:href=\"#m1de44001e4\" y=\"224.64\"/>\n      </g>\n     </g>\n     <g id=\"text_3\">\n      <!-- 1.0 -->\n      <g transform=\"translate(174.77429 239.238437)scale(0.1 -0.1)\">\n       <defs>\n        <path d=\"M 794 531 \nL 1825 531 \nL 1825 4091 \nL 703 3866 \nL 703 4441 \nL 1819 4666 \nL 2450 4666 \nL 2450 531 \nL 3481 531 \nL 3481 0 \nL 794 0 \nL 794 531 \nz\n\" id=\"DejaVuSans-31\" transform=\"scale(0.015625)\"/>\n       </defs>\n       <use xlink:href=\"#DejaVuSans-31\"/>\n       <use x=\"63.623047\" xlink:href=\"#DejaVuSans-2e\"/>\n       <use x=\"95.410156\" xlink:href=\"#DejaVuSans-30\"/>\n      </g>\n     </g>\n    </g>\n    <g id=\"xtick_4\">\n     <g id=\"line2d_4\">\n      <g>\n       <use style=\"stroke:#000000;stroke-width:0.8;\" x=\"233.453125\" xlink:href=\"#m1de44001e4\" y=\"224.64\"/>\n      </g>\n     </g>\n     <g id=\"text_4\">\n      <!-- 1.5 -->\n      <g transform=\"translate(225.501563 239.238437)scale(0.1 -0.1)\">\n       <use xlink:href=\"#DejaVuSans-31\"/>\n       <use x=\"63.623047\" xlink:href=\"#DejaVuSans-2e\"/>\n       <use x=\"95.410156\" xlink:href=\"#DejaVuSans-35\"/>\n      </g>\n     </g>\n    </g>\n    <g id=\"xtick_5\">\n     <g id=\"line2d_5\">\n      <g>\n       <use style=\"stroke:#000000;stroke-width:0.8;\" x=\"284.180398\" xlink:href=\"#m1de44001e4\" y=\"224.64\"/>\n      </g>\n     </g>\n     <g id=\"text_5\">\n      <!-- 2.0 -->\n      <g transform=\"translate(276.228835 239.238437)scale(0.1 -0.1)\">\n       <defs>\n        <path d=\"M 1228 531 \nL 3431 531 \nL 3431 0 \nL 469 0 \nL 469 531 \nQ 828 903 1448 1529 \nQ 2069 2156 2228 2338 \nQ 2531 2678 2651 2914 \nQ 2772 3150 2772 3378 \nQ 2772 3750 2511 3984 \nQ 2250 4219 1831 4219 \nQ 1534 4219 1204 4116 \nQ 875 4013 500 3803 \nL 500 4441 \nQ 881 4594 1212 4672 \nQ 1544 4750 1819 4750 \nQ 2544 4750 2975 4387 \nQ 3406 4025 3406 3419 \nQ 3406 3131 3298 2873 \nQ 3191 2616 2906 2266 \nQ 2828 2175 2409 1742 \nQ 1991 1309 1228 531 \nz\n\" id=\"DejaVuSans-32\" transform=\"scale(0.015625)\"/>\n       </defs>\n       <use xlink:href=\"#DejaVuSans-32\"/>\n       <use x=\"63.623047\" xlink:href=\"#DejaVuSans-2e\"/>\n       <use x=\"95.410156\" xlink:href=\"#DejaVuSans-30\"/>\n      </g>\n     </g>\n    </g>\n    <g id=\"xtick_6\">\n     <g id=\"line2d_6\">\n      <g>\n       <use style=\"stroke:#000000;stroke-width:0.8;\" x=\"334.90767\" xlink:href=\"#m1de44001e4\" y=\"224.64\"/>\n      </g>\n     </g>\n     <g id=\"text_6\">\n      <!-- 2.5 -->\n      <g transform=\"translate(326.956108 239.238437)scale(0.1 -0.1)\">\n       <use xlink:href=\"#DejaVuSans-32\"/>\n       <use x=\"63.623047\" xlink:href=\"#DejaVuSans-2e\"/>\n       <use x=\"95.410156\" xlink:href=\"#DejaVuSans-35\"/>\n      </g>\n     </g>\n    </g>\n    <g id=\"xtick_7\">\n     <g id=\"line2d_7\">\n      <g>\n       <use style=\"stroke:#000000;stroke-width:0.8;\" x=\"385.634943\" xlink:href=\"#m1de44001e4\" y=\"224.64\"/>\n      </g>\n     </g>\n     <g id=\"text_7\">\n      <!-- 3.0 -->\n      <g transform=\"translate(377.683381 239.238437)scale(0.1 -0.1)\">\n       <defs>\n        <path d=\"M 2597 2516 \nQ 3050 2419 3304 2112 \nQ 3559 1806 3559 1356 \nQ 3559 666 3084 287 \nQ 2609 -91 1734 -91 \nQ 1441 -91 1130 -33 \nQ 819 25 488 141 \nL 488 750 \nQ 750 597 1062 519 \nQ 1375 441 1716 441 \nQ 2309 441 2620 675 \nQ 2931 909 2931 1356 \nQ 2931 1769 2642 2001 \nQ 2353 2234 1838 2234 \nL 1294 2234 \nL 1294 2753 \nL 1863 2753 \nQ 2328 2753 2575 2939 \nQ 2822 3125 2822 3475 \nQ 2822 3834 2567 4026 \nQ 2313 4219 1838 4219 \nQ 1578 4219 1281 4162 \nQ 984 4106 628 3988 \nL 628 4550 \nQ 988 4650 1302 4700 \nQ 1616 4750 1894 4750 \nQ 2613 4750 3031 4423 \nQ 3450 4097 3450 3541 \nQ 3450 3153 3228 2886 \nQ 3006 2619 2597 2516 \nz\n\" id=\"DejaVuSans-33\" transform=\"scale(0.015625)\"/>\n       </defs>\n       <use xlink:href=\"#DejaVuSans-33\"/>\n       <use x=\"63.623047\" xlink:href=\"#DejaVuSans-2e\"/>\n       <use x=\"95.410156\" xlink:href=\"#DejaVuSans-30\"/>\n      </g>\n     </g>\n    </g>\n    <g id=\"text_8\">\n     <!-- SOCIODEMOGRAPHY -->\n     <g transform=\"translate(181.783594 252.916562)scale(0.1 -0.1)\">\n      <defs>\n       <path d=\"M 3425 4513 \nL 3425 3897 \nQ 3066 4069 2747 4153 \nQ 2428 4238 2131 4238 \nQ 1616 4238 1336 4038 \nQ 1056 3838 1056 3469 \nQ 1056 3159 1242 3001 \nQ 1428 2844 1947 2747 \nL 2328 2669 \nQ 3034 2534 3370 2195 \nQ 3706 1856 3706 1288 \nQ 3706 609 3251 259 \nQ 2797 -91 1919 -91 \nQ 1588 -91 1214 -16 \nQ 841 59 441 206 \nL 441 856 \nQ 825 641 1194 531 \nQ 1563 422 1919 422 \nQ 2459 422 2753 634 \nQ 3047 847 3047 1241 \nQ 3047 1584 2836 1778 \nQ 2625 1972 2144 2069 \nL 1759 2144 \nQ 1053 2284 737 2584 \nQ 422 2884 422 3419 \nQ 422 4038 858 4394 \nQ 1294 4750 2059 4750 \nQ 2388 4750 2728 4690 \nQ 3069 4631 3425 4513 \nz\n\" id=\"DejaVuSans-53\" transform=\"scale(0.015625)\"/>\n       <path d=\"M 2522 4238 \nQ 1834 4238 1429 3725 \nQ 1025 3213 1025 2328 \nQ 1025 1447 1429 934 \nQ 1834 422 2522 422 \nQ 3209 422 3611 934 \nQ 4013 1447 4013 2328 \nQ 4013 3213 3611 3725 \nQ 3209 4238 2522 4238 \nz\nM 2522 4750 \nQ 3503 4750 4090 4092 \nQ 4678 3434 4678 2328 \nQ 4678 1225 4090 567 \nQ 3503 -91 2522 -91 \nQ 1538 -91 948 565 \nQ 359 1222 359 2328 \nQ 359 3434 948 4092 \nQ 1538 4750 2522 4750 \nz\n\" id=\"DejaVuSans-4f\" transform=\"scale(0.015625)\"/>\n       <path d=\"M 4122 4306 \nL 4122 3641 \nQ 3803 3938 3442 4084 \nQ 3081 4231 2675 4231 \nQ 1875 4231 1450 3742 \nQ 1025 3253 1025 2328 \nQ 1025 1406 1450 917 \nQ 1875 428 2675 428 \nQ 3081 428 3442 575 \nQ 3803 722 4122 1019 \nL 4122 359 \nQ 3791 134 3420 21 \nQ 3050 -91 2638 -91 \nQ 1578 -91 968 557 \nQ 359 1206 359 2328 \nQ 359 3453 968 4101 \nQ 1578 4750 2638 4750 \nQ 3056 4750 3426 4639 \nQ 3797 4528 4122 4306 \nz\n\" id=\"DejaVuSans-43\" transform=\"scale(0.015625)\"/>\n       <path d=\"M 628 4666 \nL 1259 4666 \nL 1259 0 \nL 628 0 \nL 628 4666 \nz\n\" id=\"DejaVuSans-49\" transform=\"scale(0.015625)\"/>\n       <path d=\"M 1259 4147 \nL 1259 519 \nL 2022 519 \nQ 2988 519 3436 956 \nQ 3884 1394 3884 2338 \nQ 3884 3275 3436 3711 \nQ 2988 4147 2022 4147 \nL 1259 4147 \nz\nM 628 4666 \nL 1925 4666 \nQ 3281 4666 3915 4102 \nQ 4550 3538 4550 2338 \nQ 4550 1131 3912 565 \nQ 3275 0 1925 0 \nL 628 0 \nL 628 4666 \nz\n\" id=\"DejaVuSans-44\" transform=\"scale(0.015625)\"/>\n       <path d=\"M 628 4666 \nL 3578 4666 \nL 3578 4134 \nL 1259 4134 \nL 1259 2753 \nL 3481 2753 \nL 3481 2222 \nL 1259 2222 \nL 1259 531 \nL 3634 531 \nL 3634 0 \nL 628 0 \nL 628 4666 \nz\n\" id=\"DejaVuSans-45\" transform=\"scale(0.015625)\"/>\n       <path d=\"M 628 4666 \nL 1569 4666 \nL 2759 1491 \nL 3956 4666 \nL 4897 4666 \nL 4897 0 \nL 4281 0 \nL 4281 4097 \nL 3078 897 \nL 2444 897 \nL 1241 4097 \nL 1241 0 \nL 628 0 \nL 628 4666 \nz\n\" id=\"DejaVuSans-4d\" transform=\"scale(0.015625)\"/>\n       <path d=\"M 3809 666 \nL 3809 1919 \nL 2778 1919 \nL 2778 2438 \nL 4434 2438 \nL 4434 434 \nQ 4069 175 3628 42 \nQ 3188 -91 2688 -91 \nQ 1594 -91 976 548 \nQ 359 1188 359 2328 \nQ 359 3472 976 4111 \nQ 1594 4750 2688 4750 \nQ 3144 4750 3555 4637 \nQ 3966 4525 4313 4306 \nL 4313 3634 \nQ 3963 3931 3569 4081 \nQ 3175 4231 2741 4231 \nQ 1884 4231 1454 3753 \nQ 1025 3275 1025 2328 \nQ 1025 1384 1454 906 \nQ 1884 428 2741 428 \nQ 3075 428 3337 486 \nQ 3600 544 3809 666 \nz\n\" id=\"DejaVuSans-47\" transform=\"scale(0.015625)\"/>\n       <path d=\"M 2841 2188 \nQ 3044 2119 3236 1894 \nQ 3428 1669 3622 1275 \nL 4263 0 \nL 3584 0 \nL 2988 1197 \nQ 2756 1666 2539 1819 \nQ 2322 1972 1947 1972 \nL 1259 1972 \nL 1259 0 \nL 628 0 \nL 628 4666 \nL 2053 4666 \nQ 2853 4666 3247 4331 \nQ 3641 3997 3641 3322 \nQ 3641 2881 3436 2590 \nQ 3231 2300 2841 2188 \nz\nM 1259 4147 \nL 1259 2491 \nL 2053 2491 \nQ 2509 2491 2742 2702 \nQ 2975 2913 2975 3322 \nQ 2975 3731 2742 3939 \nQ 2509 4147 2053 4147 \nL 1259 4147 \nz\n\" id=\"DejaVuSans-52\" transform=\"scale(0.015625)\"/>\n       <path d=\"M 2188 4044 \nL 1331 1722 \nL 3047 1722 \nL 2188 4044 \nz\nM 1831 4666 \nL 2547 4666 \nL 4325 0 \nL 3669 0 \nL 3244 1197 \nL 1141 1197 \nL 716 0 \nL 50 0 \nL 1831 4666 \nz\n\" id=\"DejaVuSans-41\" transform=\"scale(0.015625)\"/>\n       <path d=\"M 1259 4147 \nL 1259 2394 \nL 2053 2394 \nQ 2494 2394 2734 2622 \nQ 2975 2850 2975 3272 \nQ 2975 3691 2734 3919 \nQ 2494 4147 2053 4147 \nL 1259 4147 \nz\nM 628 4666 \nL 2053 4666 \nQ 2838 4666 3239 4311 \nQ 3641 3956 3641 3272 \nQ 3641 2581 3239 2228 \nQ 2838 1875 2053 1875 \nL 1259 1875 \nL 1259 0 \nL 628 0 \nL 628 4666 \nz\n\" id=\"DejaVuSans-50\" transform=\"scale(0.015625)\"/>\n       <path d=\"M 628 4666 \nL 1259 4666 \nL 1259 2753 \nL 3553 2753 \nL 3553 4666 \nL 4184 4666 \nL 4184 0 \nL 3553 0 \nL 3553 2222 \nL 1259 2222 \nL 1259 0 \nL 628 0 \nL 628 4666 \nz\n\" id=\"DejaVuSans-48\" transform=\"scale(0.015625)\"/>\n       <path d=\"M -13 4666 \nL 666 4666 \nL 1959 2747 \nL 3244 4666 \nL 3922 4666 \nL 2272 2222 \nL 2272 0 \nL 1638 0 \nL 1638 2222 \nL -13 4666 \nz\n\" id=\"DejaVuSans-59\" transform=\"scale(0.015625)\"/>\n      </defs>\n      <use xlink:href=\"#DejaVuSans-53\"/>\n      <use x=\"63.476562\" xlink:href=\"#DejaVuSans-4f\"/>\n      <use x=\"142.1875\" xlink:href=\"#DejaVuSans-43\"/>\n      <use x=\"212.011719\" xlink:href=\"#DejaVuSans-49\"/>\n      <use x=\"241.503906\" xlink:href=\"#DejaVuSans-4f\"/>\n      <use x=\"320.214844\" xlink:href=\"#DejaVuSans-44\"/>\n      <use x=\"397.216797\" xlink:href=\"#DejaVuSans-45\"/>\n      <use x=\"460.400391\" xlink:href=\"#DejaVuSans-4d\"/>\n      <use x=\"546.679688\" xlink:href=\"#DejaVuSans-4f\"/>\n      <use x=\"625.390625\" xlink:href=\"#DejaVuSans-47\"/>\n      <use x=\"702.880859\" xlink:href=\"#DejaVuSans-52\"/>\n      <use x=\"768.363281\" xlink:href=\"#DejaVuSans-41\"/>\n      <use x=\"836.771484\" xlink:href=\"#DejaVuSans-50\"/>\n      <use x=\"897.074219\" xlink:href=\"#DejaVuSans-48\"/>\n      <use x=\"972.269531\" xlink:href=\"#DejaVuSans-59\"/>\n     </g>\n    </g>\n   </g>\n   <g id=\"matplotlib.axis_2\">\n    <g id=\"ytick_1\">\n     <g id=\"line2d_8\">\n      <defs>\n       <path d=\"M 0 0 \nL -3.5 0 \n\" id=\"m5899619e9b\" style=\"stroke:#000000;stroke-width:0.8;\"/>\n      </defs>\n      <g>\n       <use style=\"stroke:#000000;stroke-width:0.8;\" x=\"66.053125\" xlink:href=\"#m5899619e9b\" y=\"205.901459\"/>\n      </g>\n     </g>\n     <g id=\"text_9\">\n      <!-- 20000 -->\n      <g transform=\"translate(27.240625 209.700678)scale(0.1 -0.1)\">\n       <use xlink:href=\"#DejaVuSans-32\"/>\n       <use x=\"63.623047\" xlink:href=\"#DejaVuSans-30\"/>\n       <use x=\"127.246094\" xlink:href=\"#DejaVuSans-30\"/>\n       <use x=\"190.869141\" xlink:href=\"#DejaVuSans-30\"/>\n       <use x=\"254.492188\" xlink:href=\"#DejaVuSans-30\"/>\n      </g>\n     </g>\n    </g>\n    <g id=\"ytick_2\">\n     <g id=\"line2d_9\">\n      <g>\n       <use style=\"stroke:#000000;stroke-width:0.8;\" x=\"66.053125\" xlink:href=\"#m5899619e9b\" y=\"164.231319\"/>\n      </g>\n     </g>\n     <g id=\"text_10\">\n      <!-- 40000 -->\n      <g transform=\"translate(27.240625 168.030537)scale(0.1 -0.1)\">\n       <defs>\n        <path d=\"M 2419 4116 \nL 825 1625 \nL 2419 1625 \nL 2419 4116 \nz\nM 2253 4666 \nL 3047 4666 \nL 3047 1625 \nL 3713 1625 \nL 3713 1100 \nL 3047 1100 \nL 3047 0 \nL 2419 0 \nL 2419 1100 \nL 313 1100 \nL 313 1709 \nL 2253 4666 \nz\n\" id=\"DejaVuSans-34\" transform=\"scale(0.015625)\"/>\n       </defs>\n       <use xlink:href=\"#DejaVuSans-34\"/>\n       <use x=\"63.623047\" xlink:href=\"#DejaVuSans-30\"/>\n       <use x=\"127.246094\" xlink:href=\"#DejaVuSans-30\"/>\n       <use x=\"190.869141\" xlink:href=\"#DejaVuSans-30\"/>\n       <use x=\"254.492188\" xlink:href=\"#DejaVuSans-30\"/>\n      </g>\n     </g>\n    </g>\n    <g id=\"ytick_3\">\n     <g id=\"line2d_10\">\n      <g>\n       <use style=\"stroke:#000000;stroke-width:0.8;\" x=\"66.053125\" xlink:href=\"#m5899619e9b\" y=\"122.561179\"/>\n      </g>\n     </g>\n     <g id=\"text_11\">\n      <!-- 60000 -->\n      <g transform=\"translate(27.240625 126.360397)scale(0.1 -0.1)\">\n       <defs>\n        <path d=\"M 2113 2584 \nQ 1688 2584 1439 2293 \nQ 1191 2003 1191 1497 \nQ 1191 994 1439 701 \nQ 1688 409 2113 409 \nQ 2538 409 2786 701 \nQ 3034 994 3034 1497 \nQ 3034 2003 2786 2293 \nQ 2538 2584 2113 2584 \nz\nM 3366 4563 \nL 3366 3988 \nQ 3128 4100 2886 4159 \nQ 2644 4219 2406 4219 \nQ 1781 4219 1451 3797 \nQ 1122 3375 1075 2522 \nQ 1259 2794 1537 2939 \nQ 1816 3084 2150 3084 \nQ 2853 3084 3261 2657 \nQ 3669 2231 3669 1497 \nQ 3669 778 3244 343 \nQ 2819 -91 2113 -91 \nQ 1303 -91 875 529 \nQ 447 1150 447 2328 \nQ 447 3434 972 4092 \nQ 1497 4750 2381 4750 \nQ 2619 4750 2861 4703 \nQ 3103 4656 3366 4563 \nz\n\" id=\"DejaVuSans-36\" transform=\"scale(0.015625)\"/>\n       </defs>\n       <use xlink:href=\"#DejaVuSans-36\"/>\n       <use x=\"63.623047\" xlink:href=\"#DejaVuSans-30\"/>\n       <use x=\"127.246094\" xlink:href=\"#DejaVuSans-30\"/>\n       <use x=\"190.869141\" xlink:href=\"#DejaVuSans-30\"/>\n       <use x=\"254.492188\" xlink:href=\"#DejaVuSans-30\"/>\n      </g>\n     </g>\n    </g>\n    <g id=\"ytick_4\">\n     <g id=\"line2d_11\">\n      <g>\n       <use style=\"stroke:#000000;stroke-width:0.8;\" x=\"66.053125\" xlink:href=\"#m5899619e9b\" y=\"80.891038\"/>\n      </g>\n     </g>\n     <g id=\"text_12\">\n      <!-- 80000 -->\n      <g transform=\"translate(27.240625 84.690257)scale(0.1 -0.1)\">\n       <defs>\n        <path d=\"M 2034 2216 \nQ 1584 2216 1326 1975 \nQ 1069 1734 1069 1313 \nQ 1069 891 1326 650 \nQ 1584 409 2034 409 \nQ 2484 409 2743 651 \nQ 3003 894 3003 1313 \nQ 3003 1734 2745 1975 \nQ 2488 2216 2034 2216 \nz\nM 1403 2484 \nQ 997 2584 770 2862 \nQ 544 3141 544 3541 \nQ 544 4100 942 4425 \nQ 1341 4750 2034 4750 \nQ 2731 4750 3128 4425 \nQ 3525 4100 3525 3541 \nQ 3525 3141 3298 2862 \nQ 3072 2584 2669 2484 \nQ 3125 2378 3379 2068 \nQ 3634 1759 3634 1313 \nQ 3634 634 3220 271 \nQ 2806 -91 2034 -91 \nQ 1263 -91 848 271 \nQ 434 634 434 1313 \nQ 434 1759 690 2068 \nQ 947 2378 1403 2484 \nz\nM 1172 3481 \nQ 1172 3119 1398 2916 \nQ 1625 2713 2034 2713 \nQ 2441 2713 2670 2916 \nQ 2900 3119 2900 3481 \nQ 2900 3844 2670 4047 \nQ 2441 4250 2034 4250 \nQ 1625 4250 1398 4047 \nQ 1172 3844 1172 3481 \nz\n\" id=\"DejaVuSans-38\" transform=\"scale(0.015625)\"/>\n       </defs>\n       <use xlink:href=\"#DejaVuSans-38\"/>\n       <use x=\"63.623047\" xlink:href=\"#DejaVuSans-30\"/>\n       <use x=\"127.246094\" xlink:href=\"#DejaVuSans-30\"/>\n       <use x=\"190.869141\" xlink:href=\"#DejaVuSans-30\"/>\n       <use x=\"254.492188\" xlink:href=\"#DejaVuSans-30\"/>\n      </g>\n     </g>\n    </g>\n    <g id=\"ytick_5\">\n     <g id=\"line2d_12\">\n      <g>\n       <use style=\"stroke:#000000;stroke-width:0.8;\" x=\"66.053125\" xlink:href=\"#m5899619e9b\" y=\"39.220898\"/>\n      </g>\n     </g>\n     <g id=\"text_13\">\n      <!-- 100000 -->\n      <g transform=\"translate(20.878125 43.020117)scale(0.1 -0.1)\">\n       <use xlink:href=\"#DejaVuSans-31\"/>\n       <use x=\"63.623047\" xlink:href=\"#DejaVuSans-30\"/>\n       <use x=\"127.246094\" xlink:href=\"#DejaVuSans-30\"/>\n       <use x=\"190.869141\" xlink:href=\"#DejaVuSans-30\"/>\n       <use x=\"254.492188\" xlink:href=\"#DejaVuSans-30\"/>\n       <use x=\"318.115234\" xlink:href=\"#DejaVuSans-30\"/>\n      </g>\n     </g>\n    </g>\n    <g id=\"text_14\">\n     <!-- SALARY -->\n     <g transform=\"translate(14.798438 135.136406)rotate(-90)scale(0.1 -0.1)\">\n      <defs>\n       <path d=\"M 628 4666 \nL 1259 4666 \nL 1259 531 \nL 3531 531 \nL 3531 0 \nL 628 0 \nL 628 4666 \nz\n\" id=\"DejaVuSans-4c\" transform=\"scale(0.015625)\"/>\n      </defs>\n      <use xlink:href=\"#DejaVuSans-53\"/>\n      <use x=\"65.351562\" xlink:href=\"#DejaVuSans-41\"/>\n      <use x=\"133.759766\" xlink:href=\"#DejaVuSans-4c\"/>\n      <use x=\"191.722656\" xlink:href=\"#DejaVuSans-41\"/>\n      <use x=\"260.130859\" xlink:href=\"#DejaVuSans-52\"/>\n      <use x=\"323.238281\" xlink:href=\"#DejaVuSans-59\"/>\n     </g>\n    </g>\n   </g>\n   <g id=\"line2d_13\">\n    <path clip-path=\"url(#pe8d73176ea)\" d=\"M 81.271307 179.497132 \nL 182.725852 175.528225 \nL 284.180398 171.559319 \nL 385.634943 167.590412 \n\" style=\"fill:none;stroke:#1f77b4;stroke-linecap:square;stroke-width:1.5;\"/>\n   </g>\n   <g id=\"patch_3\">\n    <path d=\"M 66.053125 224.64 \nL 66.053125 7.2 \n\" style=\"fill:none;stroke:#000000;stroke-linecap:square;stroke-linejoin:miter;stroke-width:0.8;\"/>\n   </g>\n   <g id=\"patch_4\">\n    <path d=\"M 400.853125 224.64 \nL 400.853125 7.2 \n\" style=\"fill:none;stroke:#000000;stroke-linecap:square;stroke-linejoin:miter;stroke-width:0.8;\"/>\n   </g>\n   <g id=\"patch_5\">\n    <path d=\"M 66.053125 224.64 \nL 400.853125 224.64 \n\" style=\"fill:none;stroke:#000000;stroke-linecap:square;stroke-linejoin:miter;stroke-width:0.8;\"/>\n   </g>\n   <g id=\"patch_6\">\n    <path d=\"M 66.053125 7.2 \nL 400.853125 7.2 \n\" style=\"fill:none;stroke:#000000;stroke-linecap:square;stroke-linejoin:miter;stroke-width:0.8;\"/>\n   </g>\n  </g>\n </g>\n <defs>\n  <clipPath id=\"pe8d73176ea\">\n   <rect height=\"217.44\" width=\"334.8\" x=\"66.053125\" y=\"7.2\"/>\n  </clipPath>\n </defs>\n</svg>\n",
      "image/png": "[encoded data removed]"
     },
     "metadata": {
      "needs_background": "light"
     }
    }
   ],
   "source": [
    " mod = model.fit(X_train,y_train)\n",
    " \n",
    " sns.scatterplot(x = X_train[\"SOCIODEMOGRAPHY\"], y = y_train)\n",
    " sns.lineplot(x = X_train[\"SOCIODEMOGRAPHY\"], y = mod.intercept_ + X_train[\"SOCIODEMOGRAPHY\"]*mod.coef_)"
   ]
  },
  {
   "cell_type": "code",
   "execution_count": 14,
   "metadata": {},
   "outputs": [
    {
     "output_type": "execute_result",
     "data": {
      "text/plain": [
       "<AxesSubplot:xlabel='SOCIODEMOGRAPHY', ylabel='SALARY'>"
      ]
     },
     "metadata": {},
     "execution_count": 14
    },
    {
     "output_type": "display_data",
     "data": {
      "text/plain": "<Figure size 432x288 with 1 Axes>",
      "image/svg+xml": "<?xml version=\"1.0\" encoding=\"utf-8\" standalone=\"no\"?>\n<!DOCTYPE svg PUBLIC \"-//W3C//DTD SVG 1.1//EN\"\n  \"http://www.w3.org/Graphics/SVG/1.1/DTD/svg11.dtd\">\n<svg height=\"262.19625pt\" version=\"1.1\" viewBox=\"0 0 416.004687 262.19625\" width=\"416.004687pt\" xmlns=\"http://www.w3.org/2000/svg\" xmlns:xlink=\"http://www.w3.org/1999/xlink\">\n <metadata>\n  <rdf:RDF xmlns:cc=\"http://creativecommons.org/ns#\" xmlns:dc=\"http://purl.org/dc/elements/1.1/\" xmlns:rdf=\"http://www.w3.org/1999/02/22-rdf-syntax-ns#\">\n   <cc:Work>\n    <dc:type rdf:resource=\"http://purl.org/dc/dcmitype/StillImage\"/>\n    <dc:date>2021-06-02T23:48:24.734310</dc:date>\n    <dc:format>image/svg+xml</dc:format>\n    <dc:creator>\n     <cc:Agent>\n      <dc:title>Matplotlib v3.4.2, https://matplotlib.org/</dc:title>\n     </cc:Agent>\n    </dc:creator>\n   </cc:Work>\n  </rdf:RDF>\n </metadata>\n <defs>\n  <style type=\"text/css\">*{stroke-linecap:butt;stroke-linejoin:round;}</style>\n </defs>\n <g id=\"figure_1\">\n  <g id=\"patch_1\">\n   <path d=\"M 0 262.19625 \nL 416.004687 262.19625 \nL 416.004687 0 \nL 0 0 \nz\n\" style=\"fill:none;\"/>\n  </g>\n  <g id=\"axes_1\">\n   <g id=\"patch_2\">\n    <path d=\"M 66.053125 224.64 \nL 400.853125 224.64 \nL 400.853125 7.2 \nL 66.053125 7.2 \nz\n\" style=\"fill:#ffffff;\"/>\n   </g>\n   <g id=\"PathCollection_1\">\n    <defs>\n     <path d=\"M 0 3 \nC 0.795609 3 1.55874 2.683901 2.12132 2.12132 \nC 2.683901 1.55874 3 0.795609 3 0 \nC 3 -0.795609 2.683901 -1.55874 2.12132 -2.12132 \nC 1.55874 -2.683901 0.795609 -3 0 -3 \nC -0.795609 -3 -1.55874 -2.683901 -2.12132 -2.12132 \nC -2.683901 -1.55874 -3 -0.795609 -3 0 \nC -3 0.795609 -2.683901 1.55874 -2.12132 2.12132 \nC -1.55874 2.683901 -0.795609 3 0 3 \nz\n\" id=\"mfc76d8e4b8\" style=\"stroke:#1f77b4;stroke-opacity:0.8;\"/>\n    </defs>\n    <g clip-path=\"url(#p9cac25ccce)\">\n     <use style=\"fill:#1f77b4;fill-opacity:0.8;stroke:#1f77b4;stroke-opacity:0.8;\" x=\"400.853125\" xlink:href=\"#mfc76d8e4b8\" y=\"192.567014\"/>\n     <use style=\"fill:#1f77b4;fill-opacity:0.8;stroke:#1f77b4;stroke-opacity:0.8;\" x=\"289.253125\" xlink:href=\"#mfc76d8e4b8\" y=\"196.004801\"/>\n     <use style=\"fill:#1f77b4;fill-opacity:0.8;stroke:#1f77b4;stroke-opacity:0.8;\" x=\"66.053125\" xlink:href=\"#mfc76d8e4b8\" y=\"189.441754\"/>\n     <use style=\"fill:#1f77b4;fill-opacity:0.8;stroke:#1f77b4;stroke-opacity:0.8;\" x=\"177.653125\" xlink:href=\"#mfc76d8e4b8\" y=\"103.288739\"/>\n     <use style=\"fill:#1f77b4;fill-opacity:0.8;stroke:#1f77b4;stroke-opacity:0.8;\" x=\"177.653125\" xlink:href=\"#mfc76d8e4b8\" y=\"84.797614\"/>\n     <use style=\"fill:#1f77b4;fill-opacity:0.8;stroke:#1f77b4;stroke-opacity:0.8;\" x=\"400.853125\" xlink:href=\"#mfc76d8e4b8\" y=\"191.31691\"/>\n     <use style=\"fill:#1f77b4;fill-opacity:0.8;stroke:#1f77b4;stroke-opacity:0.8;\" x=\"66.053125\" xlink:href=\"#mfc76d8e4b8\" y=\"213.818785\"/>\n     <use style=\"fill:#1f77b4;fill-opacity:0.8;stroke:#1f77b4;stroke-opacity:0.8;\" x=\"177.653125\" xlink:href=\"#mfc76d8e4b8\" y=\"178.503342\"/>\n     <use style=\"fill:#1f77b4;fill-opacity:0.8;stroke:#1f77b4;stroke-opacity:0.8;\" x=\"289.253125\" xlink:href=\"#mfc76d8e4b8\" y=\"205.068056\"/>\n     <use style=\"fill:#1f77b4;fill-opacity:0.8;stroke:#1f77b4;stroke-opacity:0.8;\" x=\"400.853125\" xlink:href=\"#mfc76d8e4b8\" y=\"182.253654\"/>\n     <use style=\"fill:#1f77b4;fill-opacity:0.8;stroke:#1f77b4;stroke-opacity:0.8;\" x=\"177.653125\" xlink:href=\"#mfc76d8e4b8\" y=\"187.879123\"/>\n     <use style=\"fill:#1f77b4;fill-opacity:0.8;stroke:#1f77b4;stroke-opacity:0.8;\" x=\"177.653125\" xlink:href=\"#mfc76d8e4b8\" y=\"193.817118\"/>\n     <use style=\"fill:#1f77b4;fill-opacity:0.8;stroke:#1f77b4;stroke-opacity:0.8;\" x=\"177.653125\" xlink:href=\"#mfc76d8e4b8\" y=\"162.564513\"/>\n     <use style=\"fill:#1f77b4;fill-opacity:0.8;stroke:#1f77b4;stroke-opacity:0.8;\" x=\"66.053125\" xlink:href=\"#mfc76d8e4b8\" y=\"176.940711\"/>\n     <use style=\"fill:#1f77b4;fill-opacity:0.8;stroke:#1f77b4;stroke-opacity:0.8;\" x=\"177.653125\" xlink:href=\"#mfc76d8e4b8\" y=\"55.888954\"/>\n     <use style=\"fill:#1f77b4;fill-opacity:0.8;stroke:#1f77b4;stroke-opacity:0.8;\" x=\"66.053125\" xlink:href=\"#mfc76d8e4b8\" y=\"195.067222\"/>\n     <use style=\"fill:#1f77b4;fill-opacity:0.8;stroke:#1f77b4;stroke-opacity:0.8;\" x=\"66.053125\" xlink:href=\"#mfc76d8e4b8\" y=\"204.130478\"/>\n     <use style=\"fill:#1f77b4;fill-opacity:0.8;stroke:#1f77b4;stroke-opacity:0.8;\" x=\"177.653125\" xlink:href=\"#mfc76d8e4b8\" y=\"164.127143\"/>\n     <use style=\"fill:#1f77b4;fill-opacity:0.8;stroke:#1f77b4;stroke-opacity:0.8;\" x=\"177.653125\" xlink:href=\"#mfc76d8e4b8\" y=\"121.258987\"/>\n     <use style=\"fill:#1f77b4;fill-opacity:0.8;stroke:#1f77b4;stroke-opacity:0.8;\" x=\"289.253125\" xlink:href=\"#mfc76d8e4b8\" y=\"192.254488\"/>\n     <use style=\"fill:#1f77b4;fill-opacity:0.8;stroke:#1f77b4;stroke-opacity:0.8;\" x=\"66.053125\" xlink:href=\"#mfc76d8e4b8\" y=\"129.332576\"/>\n     <use style=\"fill:#1f77b4;fill-opacity:0.8;stroke:#1f77b4;stroke-opacity:0.8;\" x=\"177.653125\" xlink:href=\"#mfc76d8e4b8\" y=\"174.127977\"/>\n     <use style=\"fill:#1f77b4;fill-opacity:0.8;stroke:#1f77b4;stroke-opacity:0.8;\" x=\"66.053125\" xlink:href=\"#mfc76d8e4b8\" y=\"199.130061\"/>\n     <use style=\"fill:#1f77b4;fill-opacity:0.8;stroke:#1f77b4;stroke-opacity:0.8;\" x=\"177.653125\" xlink:href=\"#mfc76d8e4b8\" y=\"99.90304\"/>\n     <use style=\"fill:#1f77b4;fill-opacity:0.8;stroke:#1f77b4;stroke-opacity:0.8;\" x=\"177.653125\" xlink:href=\"#mfc76d8e4b8\" y=\"185.066389\"/>\n     <use style=\"fill:#1f77b4;fill-opacity:0.8;stroke:#1f77b4;stroke-opacity:0.8;\" x=\"400.853125\" xlink:href=\"#mfc76d8e4b8\" y=\"172.565347\"/>\n     <use style=\"fill:#1f77b4;fill-opacity:0.8;stroke:#1f77b4;stroke-opacity:0.8;\" x=\"177.653125\" xlink:href=\"#mfc76d8e4b8\" y=\"106.934876\"/>\n     <use style=\"fill:#1f77b4;fill-opacity:0.8;stroke:#1f77b4;stroke-opacity:0.8;\" x=\"289.253125\" xlink:href=\"#mfc76d8e4b8\" y=\"196.629853\"/>\n     <use style=\"fill:#1f77b4;fill-opacity:0.8;stroke:#1f77b4;stroke-opacity:0.8;\" x=\"66.053125\" xlink:href=\"#mfc76d8e4b8\" y=\"201.942796\"/>\n     <use style=\"fill:#1f77b4;fill-opacity:0.8;stroke:#1f77b4;stroke-opacity:0.8;\" x=\"177.653125\" xlink:href=\"#mfc76d8e4b8\" y=\"45.471419\"/>\n     <use style=\"fill:#1f77b4;fill-opacity:0.8;stroke:#1f77b4;stroke-opacity:0.8;\" x=\"66.053125\" xlink:href=\"#mfc76d8e4b8\" y=\"186.941545\"/>\n     <use style=\"fill:#1f77b4;fill-opacity:0.8;stroke:#1f77b4;stroke-opacity:0.8;\" x=\"177.653125\" xlink:href=\"#mfc76d8e4b8\" y=\"193.504592\"/>\n     <use style=\"fill:#1f77b4;fill-opacity:0.8;stroke:#1f77b4;stroke-opacity:0.8;\" x=\"66.053125\" xlink:href=\"#mfc76d8e4b8\" y=\"175.690607\"/>\n     <use style=\"fill:#1f77b4;fill-opacity:0.8;stroke:#1f77b4;stroke-opacity:0.8;\" x=\"66.053125\" xlink:href=\"#mfc76d8e4b8\" y=\"181.941128\"/>\n     <use style=\"fill:#1f77b4;fill-opacity:0.8;stroke:#1f77b4;stroke-opacity:0.8;\" x=\"66.053125\" xlink:href=\"#mfc76d8e4b8\" y=\"175.065555\"/>\n     <use style=\"fill:#1f77b4;fill-opacity:0.8;stroke:#1f77b4;stroke-opacity:0.8;\" x=\"400.853125\" xlink:href=\"#mfc76d8e4b8\" y=\"191.941962\"/>\n     <use style=\"fill:#1f77b4;fill-opacity:0.8;stroke:#1f77b4;stroke-opacity:0.8;\" x=\"289.253125\" xlink:href=\"#mfc76d8e4b8\" y=\"195.379748\"/>\n     <use style=\"fill:#1f77b4;fill-opacity:0.8;stroke:#1f77b4;stroke-opacity:0.8;\" x=\"66.053125\" xlink:href=\"#mfc76d8e4b8\" y=\"186.941545\"/>\n     <use style=\"fill:#1f77b4;fill-opacity:0.8;stroke:#1f77b4;stroke-opacity:0.8;\" x=\"177.653125\" xlink:href=\"#mfc76d8e4b8\" y=\"183.191232\"/>\n     <use style=\"fill:#1f77b4;fill-opacity:0.8;stroke:#1f77b4;stroke-opacity:0.8;\" x=\"66.053125\" xlink:href=\"#mfc76d8e4b8\" y=\"185.066389\"/>\n     <use style=\"fill:#1f77b4;fill-opacity:0.8;stroke:#1f77b4;stroke-opacity:0.8;\" x=\"66.053125\" xlink:href=\"#mfc76d8e4b8\" y=\"179.753446\"/>\n     <use style=\"fill:#1f77b4;fill-opacity:0.8;stroke:#1f77b4;stroke-opacity:0.8;\" x=\"400.853125\" xlink:href=\"#mfc76d8e4b8\" y=\"186.003967\"/>\n     <use style=\"fill:#1f77b4;fill-opacity:0.8;stroke:#1f77b4;stroke-opacity:0.8;\" x=\"400.853125\" xlink:href=\"#mfc76d8e4b8\" y=\"39.220898\"/>\n     <use style=\"fill:#1f77b4;fill-opacity:0.8;stroke:#1f77b4;stroke-opacity:0.8;\" x=\"177.653125\" xlink:href=\"#mfc76d8e4b8\" y=\"165.689774\"/>\n     <use style=\"fill:#1f77b4;fill-opacity:0.8;stroke:#1f77b4;stroke-opacity:0.8;\" x=\"66.053125\" xlink:href=\"#mfc76d8e4b8\" y=\"203.1929\"/>\n     <use style=\"fill:#1f77b4;fill-opacity:0.8;stroke:#1f77b4;stroke-opacity:0.8;\" x=\"289.253125\" xlink:href=\"#mfc76d8e4b8\" y=\"212.256155\"/>\n     <use style=\"fill:#1f77b4;fill-opacity:0.8;stroke:#1f77b4;stroke-opacity:0.8;\" x=\"177.653125\" xlink:href=\"#mfc76d8e4b8\" y=\"163.814617\"/>\n     <use style=\"fill:#1f77b4;fill-opacity:0.8;stroke:#1f77b4;stroke-opacity:0.8;\" x=\"177.653125\" xlink:href=\"#mfc76d8e4b8\" y=\"183.503759\"/>\n     <use style=\"fill:#1f77b4;fill-opacity:0.8;stroke:#1f77b4;stroke-opacity:0.8;\" x=\"66.053125\" xlink:href=\"#mfc76d8e4b8\" y=\"200.692691\"/>\n     <use style=\"fill:#1f77b4;fill-opacity:0.8;stroke:#1f77b4;stroke-opacity:0.8;\" x=\"177.653125\" xlink:href=\"#mfc76d8e4b8\" y=\"175.065555\"/>\n     <use style=\"fill:#1f77b4;fill-opacity:0.8;stroke:#1f77b4;stroke-opacity:0.8;\" x=\"66.053125\" xlink:href=\"#mfc76d8e4b8\" y=\"179.128394\"/>\n     <use style=\"fill:#1f77b4;fill-opacity:0.8;stroke:#1f77b4;stroke-opacity:0.8;\" x=\"177.653125\" xlink:href=\"#mfc76d8e4b8\" y=\"174.127977\"/>\n     <use style=\"fill:#1f77b4;fill-opacity:0.8;stroke:#1f77b4;stroke-opacity:0.8;\" x=\"177.653125\" xlink:href=\"#mfc76d8e4b8\" y=\"104.330492\"/>\n     <use style=\"fill:#1f77b4;fill-opacity:0.8;stroke:#1f77b4;stroke-opacity:0.8;\" x=\"66.053125\" xlink:href=\"#mfc76d8e4b8\" y=\"206.31816\"/>\n     <use style=\"fill:#1f77b4;fill-opacity:0.8;stroke:#1f77b4;stroke-opacity:0.8;\" x=\"66.053125\" xlink:href=\"#mfc76d8e4b8\" y=\"199.442587\"/>\n     <use style=\"fill:#1f77b4;fill-opacity:0.8;stroke:#1f77b4;stroke-opacity:0.8;\" x=\"177.653125\" xlink:href=\"#mfc76d8e4b8\" y=\"148.500841\"/>\n     <use style=\"fill:#1f77b4;fill-opacity:0.8;stroke:#1f77b4;stroke-opacity:0.8;\" x=\"177.653125\" xlink:href=\"#mfc76d8e4b8\" y=\"133.187064\"/>\n     <use style=\"fill:#1f77b4;fill-opacity:0.8;stroke:#1f77b4;stroke-opacity:0.8;\" x=\"289.253125\" xlink:href=\"#mfc76d8e4b8\" y=\"192.254488\"/>\n     <use style=\"fill:#1f77b4;fill-opacity:0.8;stroke:#1f77b4;stroke-opacity:0.8;\" x=\"400.853125\" xlink:href=\"#mfc76d8e4b8\" y=\"192.87954\"/>\n     <use style=\"fill:#1f77b4;fill-opacity:0.8;stroke:#1f77b4;stroke-opacity:0.8;\" x=\"177.653125\" xlink:href=\"#mfc76d8e4b8\" y=\"128.8117\"/>\n     <use style=\"fill:#1f77b4;fill-opacity:0.8;stroke:#1f77b4;stroke-opacity:0.8;\" x=\"177.653125\" xlink:href=\"#mfc76d8e4b8\" y=\"104.330492\"/>\n     <use style=\"fill:#1f77b4;fill-opacity:0.8;stroke:#1f77b4;stroke-opacity:0.8;\" x=\"289.253125\" xlink:href=\"#mfc76d8e4b8\" y=\"196.004801\"/>\n     <use style=\"fill:#1f77b4;fill-opacity:0.8;stroke:#1f77b4;stroke-opacity:0.8;\" x=\"66.053125\" xlink:href=\"#mfc76d8e4b8\" y=\"194.129644\"/>\n     <use style=\"fill:#1f77b4;fill-opacity:0.8;stroke:#1f77b4;stroke-opacity:0.8;\" x=\"177.653125\" xlink:href=\"#mfc76d8e4b8\" y=\"185.378915\"/>\n     <use style=\"fill:#1f77b4;fill-opacity:0.8;stroke:#1f77b4;stroke-opacity:0.8;\" x=\"66.053125\" xlink:href=\"#mfc76d8e4b8\" y=\"197.254905\"/>\n     <use style=\"fill:#1f77b4;fill-opacity:0.8;stroke:#1f77b4;stroke-opacity:0.8;\" x=\"66.053125\" xlink:href=\"#mfc76d8e4b8\" y=\"198.505009\"/>\n     <use style=\"fill:#1f77b4;fill-opacity:0.8;stroke:#1f77b4;stroke-opacity:0.8;\" x=\"66.053125\" xlink:href=\"#mfc76d8e4b8\" y=\"204.130478\"/>\n     <use style=\"fill:#1f77b4;fill-opacity:0.8;stroke:#1f77b4;stroke-opacity:0.8;\" x=\"177.653125\" xlink:href=\"#mfc76d8e4b8\" y=\"190.066806\"/>\n     <use style=\"fill:#1f77b4;fill-opacity:0.8;stroke:#1f77b4;stroke-opacity:0.8;\" x=\"400.853125\" xlink:href=\"#mfc76d8e4b8\" y=\"197.567431\"/>\n     <use style=\"fill:#1f77b4;fill-opacity:0.8;stroke:#1f77b4;stroke-opacity:0.8;\" x=\"400.853125\" xlink:href=\"#mfc76d8e4b8\" y=\"192.87954\"/>\n     <use style=\"fill:#1f77b4;fill-opacity:0.8;stroke:#1f77b4;stroke-opacity:0.8;\" x=\"177.653125\" xlink:href=\"#mfc76d8e4b8\" y=\"119.956795\"/>\n     <use style=\"fill:#1f77b4;fill-opacity:0.8;stroke:#1f77b4;stroke-opacity:0.8;\" x=\"66.053125\" xlink:href=\"#mfc76d8e4b8\" y=\"206.005634\"/>\n     <use style=\"fill:#1f77b4;fill-opacity:0.8;stroke:#1f77b4;stroke-opacity:0.8;\" x=\"66.053125\" xlink:href=\"#mfc76d8e4b8\" y=\"173.502925\"/>\n     <use style=\"fill:#1f77b4;fill-opacity:0.8;stroke:#1f77b4;stroke-opacity:0.8;\" x=\"66.053125\" xlink:href=\"#mfc76d8e4b8\" y=\"168.815034\"/>\n     <use style=\"fill:#1f77b4;fill-opacity:0.8;stroke:#1f77b4;stroke-opacity:0.8;\" x=\"289.253125\" xlink:href=\"#mfc76d8e4b8\" y=\"211.943629\"/>\n     <use style=\"fill:#1f77b4;fill-opacity:0.8;stroke:#1f77b4;stroke-opacity:0.8;\" x=\"289.253125\" xlink:href=\"#mfc76d8e4b8\" y=\"206.630686\"/>\n     <use style=\"fill:#1f77b4;fill-opacity:0.8;stroke:#1f77b4;stroke-opacity:0.8;\" x=\"177.653125\" xlink:href=\"#mfc76d8e4b8\" y=\"190.691858\"/>\n     <use style=\"fill:#1f77b4;fill-opacity:0.8;stroke:#1f77b4;stroke-opacity:0.8;\" x=\"66.053125\" xlink:href=\"#mfc76d8e4b8\" y=\"175.690607\"/>\n     <use style=\"fill:#1f77b4;fill-opacity:0.8;stroke:#1f77b4;stroke-opacity:0.8;\" x=\"177.653125\" xlink:href=\"#mfc76d8e4b8\" y=\"140.791865\"/>\n     <use style=\"fill:#1f77b4;fill-opacity:0.8;stroke:#1f77b4;stroke-opacity:0.8;\" x=\"177.653125\" xlink:href=\"#mfc76d8e4b8\" y=\"161.939461\"/>\n     <use style=\"fill:#1f77b4;fill-opacity:0.8;stroke:#1f77b4;stroke-opacity:0.8;\" x=\"400.853125\" xlink:href=\"#mfc76d8e4b8\" y=\"194.44217\"/>\n     <use style=\"fill:#1f77b4;fill-opacity:0.8;stroke:#1f77b4;stroke-opacity:0.8;\" x=\"177.653125\" xlink:href=\"#mfc76d8e4b8\" y=\"192.87954\"/>\n     <use style=\"fill:#1f77b4;fill-opacity:0.8;stroke:#1f77b4;stroke-opacity:0.8;\" x=\"66.053125\" xlink:href=\"#mfc76d8e4b8\" y=\"196.317327\"/>\n     <use style=\"fill:#1f77b4;fill-opacity:0.8;stroke:#1f77b4;stroke-opacity:0.8;\" x=\"66.053125\" xlink:href=\"#mfc76d8e4b8\" y=\"178.190816\"/>\n     <use style=\"fill:#1f77b4;fill-opacity:0.8;stroke:#1f77b4;stroke-opacity:0.8;\" x=\"66.053125\" xlink:href=\"#mfc76d8e4b8\" y=\"195.692275\"/>\n     <use style=\"fill:#1f77b4;fill-opacity:0.8;stroke:#1f77b4;stroke-opacity:0.8;\" x=\"177.653125\" xlink:href=\"#mfc76d8e4b8\" y=\"129.853453\"/>\n     <use style=\"fill:#1f77b4;fill-opacity:0.8;stroke:#1f77b4;stroke-opacity:0.8;\" x=\"289.253125\" xlink:href=\"#mfc76d8e4b8\" y=\"201.630269\"/>\n     <use style=\"fill:#1f77b4;fill-opacity:0.8;stroke:#1f77b4;stroke-opacity:0.8;\" x=\"66.053125\" xlink:href=\"#mfc76d8e4b8\" y=\"201.317743\"/>\n     <use style=\"fill:#1f77b4;fill-opacity:0.8;stroke:#1f77b4;stroke-opacity:0.8;\" x=\"177.653125\" xlink:href=\"#mfc76d8e4b8\" y=\"176.940711\"/>\n     <use style=\"fill:#1f77b4;fill-opacity:0.8;stroke:#1f77b4;stroke-opacity:0.8;\" x=\"66.053125\" xlink:href=\"#mfc76d8e4b8\" y=\"199.755113\"/>\n     <use style=\"fill:#1f77b4;fill-opacity:0.8;stroke:#1f77b4;stroke-opacity:0.8;\" x=\"400.853125\" xlink:href=\"#mfc76d8e4b8\" y=\"181.00355\"/>\n     <use style=\"fill:#1f77b4;fill-opacity:0.8;stroke:#1f77b4;stroke-opacity:0.8;\" x=\"400.853125\" xlink:href=\"#mfc76d8e4b8\" y=\"84.016299\"/>\n     <use style=\"fill:#1f77b4;fill-opacity:0.8;stroke:#1f77b4;stroke-opacity:0.8;\" x=\"177.653125\" xlink:href=\"#mfc76d8e4b8\" y=\"78.286655\"/>\n     <use style=\"fill:#1f77b4;fill-opacity:0.8;stroke:#1f77b4;stroke-opacity:0.8;\" x=\"66.053125\" xlink:href=\"#mfc76d8e4b8\" y=\"173.190399\"/>\n     <use style=\"fill:#1f77b4;fill-opacity:0.8;stroke:#1f77b4;stroke-opacity:0.8;\" x=\"66.053125\" xlink:href=\"#mfc76d8e4b8\" y=\"198.817535\"/>\n     <use style=\"fill:#1f77b4;fill-opacity:0.8;stroke:#1f77b4;stroke-opacity:0.8;\" x=\"177.653125\" xlink:href=\"#mfc76d8e4b8\" y=\"80.891038\"/>\n     <use style=\"fill:#1f77b4;fill-opacity:0.8;stroke:#1f77b4;stroke-opacity:0.8;\" x=\"66.053125\" xlink:href=\"#mfc76d8e4b8\" y=\"167.252404\"/>\n     <use style=\"fill:#1f77b4;fill-opacity:0.8;stroke:#1f77b4;stroke-opacity:0.8;\" x=\"66.053125\" xlink:href=\"#mfc76d8e4b8\" y=\"181.628602\"/>\n     <use style=\"fill:#1f77b4;fill-opacity:0.8;stroke:#1f77b4;stroke-opacity:0.8;\" x=\"66.053125\" xlink:href=\"#mfc76d8e4b8\" y=\"191.941962\"/>\n     <use style=\"fill:#1f77b4;fill-opacity:0.8;stroke:#1f77b4;stroke-opacity:0.8;\" x=\"66.053125\" xlink:href=\"#mfc76d8e4b8\" y=\"186.629019\"/>\n     <use style=\"fill:#1f77b4;fill-opacity:0.8;stroke:#1f77b4;stroke-opacity:0.8;\" x=\"66.053125\" xlink:href=\"#mfc76d8e4b8\" y=\"200.380165\"/>\n     <use style=\"fill:#1f77b4;fill-opacity:0.8;stroke:#1f77b4;stroke-opacity:0.8;\" x=\"177.653125\" xlink:href=\"#mfc76d8e4b8\" y=\"177.253238\"/>\n     <use style=\"fill:#1f77b4;fill-opacity:0.8;stroke:#1f77b4;stroke-opacity:0.8;\" x=\"289.253125\" xlink:href=\"#mfc76d8e4b8\" y=\"197.567431\"/>\n     <use style=\"fill:#1f77b4;fill-opacity:0.8;stroke:#1f77b4;stroke-opacity:0.8;\" x=\"66.053125\" xlink:href=\"#mfc76d8e4b8\" y=\"201.317743\"/>\n     <use style=\"fill:#1f77b4;fill-opacity:0.8;stroke:#1f77b4;stroke-opacity:0.8;\" x=\"66.053125\" xlink:href=\"#mfc76d8e4b8\" y=\"156.939044\"/>\n     <use style=\"fill:#1f77b4;fill-opacity:0.8;stroke:#1f77b4;stroke-opacity:0.8;\" x=\"66.053125\" xlink:href=\"#mfc76d8e4b8\" y=\"198.817535\"/>\n     <use style=\"fill:#1f77b4;fill-opacity:0.8;stroke:#1f77b4;stroke-opacity:0.8;\" x=\"66.053125\" xlink:href=\"#mfc76d8e4b8\" y=\"134.280905\"/>\n     <use style=\"fill:#1f77b4;fill-opacity:0.8;stroke:#1f77b4;stroke-opacity:0.8;\" x=\"400.853125\" xlink:href=\"#mfc76d8e4b8\" y=\"191.941962\"/>\n     <use style=\"fill:#1f77b4;fill-opacity:0.8;stroke:#1f77b4;stroke-opacity:0.8;\" x=\"289.253125\" xlink:href=\"#mfc76d8e4b8\" y=\"196.942379\"/>\n     <use style=\"fill:#1f77b4;fill-opacity:0.8;stroke:#1f77b4;stroke-opacity:0.8;\" x=\"177.653125\" xlink:href=\"#mfc76d8e4b8\" y=\"181.628602\"/>\n     <use style=\"fill:#1f77b4;fill-opacity:0.8;stroke:#1f77b4;stroke-opacity:0.8;\" x=\"177.653125\" xlink:href=\"#mfc76d8e4b8\" y=\"96.517341\"/>\n     <use style=\"fill:#1f77b4;fill-opacity:0.8;stroke:#1f77b4;stroke-opacity:0.8;\" x=\"177.653125\" xlink:href=\"#mfc76d8e4b8\" y=\"186.316493\"/>\n     <use style=\"fill:#1f77b4;fill-opacity:0.8;stroke:#1f77b4;stroke-opacity:0.8;\" x=\"177.653125\" xlink:href=\"#mfc76d8e4b8\" y=\"194.754696\"/>\n     <use style=\"fill:#1f77b4;fill-opacity:0.8;stroke:#1f77b4;stroke-opacity:0.8;\" x=\"400.853125\" xlink:href=\"#mfc76d8e4b8\" y=\"183.503759\"/>\n     <use style=\"fill:#1f77b4;fill-opacity:0.8;stroke:#1f77b4;stroke-opacity:0.8;\" x=\"66.053125\" xlink:href=\"#mfc76d8e4b8\" y=\"199.442587\"/>\n     <use style=\"fill:#1f77b4;fill-opacity:0.8;stroke:#1f77b4;stroke-opacity:0.8;\" x=\"289.253125\" xlink:href=\"#mfc76d8e4b8\" y=\"195.379748\"/>\n     <use style=\"fill:#1f77b4;fill-opacity:0.8;stroke:#1f77b4;stroke-opacity:0.8;\" x=\"177.653125\" xlink:href=\"#mfc76d8e4b8\" y=\"131.93696\"/>\n     <use style=\"fill:#1f77b4;fill-opacity:0.8;stroke:#1f77b4;stroke-opacity:0.8;\" x=\"289.253125\" xlink:href=\"#mfc76d8e4b8\" y=\"206.630686\"/>\n     <use style=\"fill:#1f77b4;fill-opacity:0.8;stroke:#1f77b4;stroke-opacity:0.8;\" x=\"177.653125\" xlink:href=\"#mfc76d8e4b8\" y=\"190.379332\"/>\n     <use style=\"fill:#1f77b4;fill-opacity:0.8;stroke:#1f77b4;stroke-opacity:0.8;\" x=\"66.053125\" xlink:href=\"#mfc76d8e4b8\" y=\"192.567014\"/>\n     <use style=\"fill:#1f77b4;fill-opacity:0.8;stroke:#1f77b4;stroke-opacity:0.8;\" x=\"177.653125\" xlink:href=\"#mfc76d8e4b8\" y=\"153.292907\"/>\n     <use style=\"fill:#1f77b4;fill-opacity:0.8;stroke:#1f77b4;stroke-opacity:0.8;\" x=\"66.053125\" xlink:href=\"#mfc76d8e4b8\" y=\"206.630686\"/>\n     <use style=\"fill:#1f77b4;fill-opacity:0.8;stroke:#1f77b4;stroke-opacity:0.8;\" x=\"177.653125\" xlink:href=\"#mfc76d8e4b8\" y=\"163.814617\"/>\n     <use style=\"fill:#1f77b4;fill-opacity:0.8;stroke:#1f77b4;stroke-opacity:0.8;\" x=\"177.653125\" xlink:href=\"#mfc76d8e4b8\" y=\"181.00355\"/>\n     <use style=\"fill:#1f77b4;fill-opacity:0.8;stroke:#1f77b4;stroke-opacity:0.8;\" x=\"66.053125\" xlink:href=\"#mfc76d8e4b8\" y=\"204.443004\"/>\n     <use style=\"fill:#1f77b4;fill-opacity:0.8;stroke:#1f77b4;stroke-opacity:0.8;\" x=\"66.053125\" xlink:href=\"#mfc76d8e4b8\" y=\"169.12756\"/>\n     <use style=\"fill:#1f77b4;fill-opacity:0.8;stroke:#1f77b4;stroke-opacity:0.8;\" x=\"66.053125\" xlink:href=\"#mfc76d8e4b8\" y=\"202.567848\"/>\n     <use style=\"fill:#1f77b4;fill-opacity:0.8;stroke:#1f77b4;stroke-opacity:0.8;\" x=\"177.653125\" xlink:href=\"#mfc76d8e4b8\" y=\"105.632684\"/>\n     <use style=\"fill:#1f77b4;fill-opacity:0.8;stroke:#1f77b4;stroke-opacity:0.8;\" x=\"400.853125\" xlink:href=\"#mfc76d8e4b8\" y=\"198.192483\"/>\n     <use style=\"fill:#1f77b4;fill-opacity:0.8;stroke:#1f77b4;stroke-opacity:0.8;\" x=\"177.653125\" xlink:href=\"#mfc76d8e4b8\" y=\"31.928624\"/>\n     <use style=\"fill:#1f77b4;fill-opacity:0.8;stroke:#1f77b4;stroke-opacity:0.8;\" x=\"289.253125\" xlink:href=\"#mfc76d8e4b8\" y=\"202.880374\"/>\n     <use style=\"fill:#1f77b4;fill-opacity:0.8;stroke:#1f77b4;stroke-opacity:0.8;\" x=\"66.053125\" xlink:href=\"#mfc76d8e4b8\" y=\"214.443838\"/>\n     <use style=\"fill:#1f77b4;fill-opacity:0.8;stroke:#1f77b4;stroke-opacity:0.8;\" x=\"400.853125\" xlink:href=\"#mfc76d8e4b8\" y=\"163.814617\"/>\n     <use style=\"fill:#1f77b4;fill-opacity:0.8;stroke:#1f77b4;stroke-opacity:0.8;\" x=\"400.853125\" xlink:href=\"#mfc76d8e4b8\" y=\"192.254488\"/>\n     <use style=\"fill:#1f77b4;fill-opacity:0.8;stroke:#1f77b4;stroke-opacity:0.8;\" x=\"177.653125\" xlink:href=\"#mfc76d8e4b8\" y=\"163.814617\"/>\n     <use style=\"fill:#1f77b4;fill-opacity:0.8;stroke:#1f77b4;stroke-opacity:0.8;\" x=\"400.853125\" xlink:href=\"#mfc76d8e4b8\" y=\"191.941962\"/>\n     <use style=\"fill:#1f77b4;fill-opacity:0.8;stroke:#1f77b4;stroke-opacity:0.8;\" x=\"177.653125\" xlink:href=\"#mfc76d8e4b8\" y=\"159.439253\"/>\n     <use style=\"fill:#1f77b4;fill-opacity:0.8;stroke:#1f77b4;stroke-opacity:0.8;\" x=\"66.053125\" xlink:href=\"#mfc76d8e4b8\" y=\"205.693108\"/>\n     <use style=\"fill:#1f77b4;fill-opacity:0.8;stroke:#1f77b4;stroke-opacity:0.8;\" x=\"400.853125\" xlink:href=\"#mfc76d8e4b8\" y=\"183.191232\"/>\n     <use style=\"fill:#1f77b4;fill-opacity:0.8;stroke:#1f77b4;stroke-opacity:0.8;\" x=\"177.653125\" xlink:href=\"#mfc76d8e4b8\" y=\"191.629436\"/>\n     <use style=\"fill:#1f77b4;fill-opacity:0.8;stroke:#1f77b4;stroke-opacity:0.8;\" x=\"177.653125\" xlink:href=\"#mfc76d8e4b8\" y=\"154.074222\"/>\n     <use style=\"fill:#1f77b4;fill-opacity:0.8;stroke:#1f77b4;stroke-opacity:0.8;\" x=\"289.253125\" xlink:href=\"#mfc76d8e4b8\" y=\"203.1929\"/>\n     <use style=\"fill:#1f77b4;fill-opacity:0.8;stroke:#1f77b4;stroke-opacity:0.8;\" x=\"177.653125\" xlink:href=\"#mfc76d8e4b8\" y=\"203.1929\"/>\n     <use style=\"fill:#1f77b4;fill-opacity:0.8;stroke:#1f77b4;stroke-opacity:0.8;\" x=\"66.053125\" xlink:href=\"#mfc76d8e4b8\" y=\"208.505843\"/>\n     <use style=\"fill:#1f77b4;fill-opacity:0.8;stroke:#1f77b4;stroke-opacity:0.8;\" x=\"289.253125\" xlink:href=\"#mfc76d8e4b8\" y=\"191.004384\"/>\n     <use style=\"fill:#1f77b4;fill-opacity:0.8;stroke:#1f77b4;stroke-opacity:0.8;\" x=\"66.053125\" xlink:href=\"#mfc76d8e4b8\" y=\"197.567431\"/>\n     <use style=\"fill:#1f77b4;fill-opacity:0.8;stroke:#1f77b4;stroke-opacity:0.8;\" x=\"177.653125\" xlink:href=\"#mfc76d8e4b8\" y=\"156.626518\"/>\n     <use style=\"fill:#1f77b4;fill-opacity:0.8;stroke:#1f77b4;stroke-opacity:0.8;\" x=\"66.053125\" xlink:href=\"#mfc76d8e4b8\" y=\"188.816701\"/>\n     <use style=\"fill:#1f77b4;fill-opacity:0.8;stroke:#1f77b4;stroke-opacity:0.8;\" x=\"177.653125\" xlink:href=\"#mfc76d8e4b8\" y=\"137.874955\"/>\n     <use style=\"fill:#1f77b4;fill-opacity:0.8;stroke:#1f77b4;stroke-opacity:0.8;\" x=\"289.253125\" xlink:href=\"#mfc76d8e4b8\" y=\"189.75428\"/>\n     <use style=\"fill:#1f77b4;fill-opacity:0.8;stroke:#1f77b4;stroke-opacity:0.8;\" x=\"66.053125\" xlink:href=\"#mfc76d8e4b8\" y=\"171.315243\"/>\n     <use style=\"fill:#1f77b4;fill-opacity:0.8;stroke:#1f77b4;stroke-opacity:0.8;\" x=\"177.653125\" xlink:href=\"#mfc76d8e4b8\" y=\"180.691024\"/>\n     <use style=\"fill:#1f77b4;fill-opacity:0.8;stroke:#1f77b4;stroke-opacity:0.8;\" x=\"177.653125\" xlink:href=\"#mfc76d8e4b8\" y=\"142.25032\"/>\n     <use style=\"fill:#1f77b4;fill-opacity:0.8;stroke:#1f77b4;stroke-opacity:0.8;\" x=\"177.653125\" xlink:href=\"#mfc76d8e4b8\" y=\"185.066389\"/>\n     <use style=\"fill:#1f77b4;fill-opacity:0.8;stroke:#1f77b4;stroke-opacity:0.8;\" x=\"66.053125\" xlink:href=\"#mfc76d8e4b8\" y=\"197.879957\"/>\n     <use style=\"fill:#1f77b4;fill-opacity:0.8;stroke:#1f77b4;stroke-opacity:0.8;\" x=\"177.653125\" xlink:href=\"#mfc76d8e4b8\" y=\"149.125893\"/>\n     <use style=\"fill:#1f77b4;fill-opacity:0.8;stroke:#1f77b4;stroke-opacity:0.8;\" x=\"66.053125\" xlink:href=\"#mfc76d8e4b8\" y=\"212.256155\"/>\n     <use style=\"fill:#1f77b4;fill-opacity:0.8;stroke:#1f77b4;stroke-opacity:0.8;\" x=\"177.653125\" xlink:href=\"#mfc76d8e4b8\" y=\"183.191232\"/>\n     <use style=\"fill:#1f77b4;fill-opacity:0.8;stroke:#1f77b4;stroke-opacity:0.8;\" x=\"66.053125\" xlink:href=\"#mfc76d8e4b8\" y=\"194.44217\"/>\n     <use style=\"fill:#1f77b4;fill-opacity:0.8;stroke:#1f77b4;stroke-opacity:0.8;\" x=\"177.653125\" xlink:href=\"#mfc76d8e4b8\" y=\"125.165562\"/>\n     <use style=\"fill:#1f77b4;fill-opacity:0.8;stroke:#1f77b4;stroke-opacity:0.8;\" x=\"66.053125\" xlink:href=\"#mfc76d8e4b8\" y=\"191.941962\"/>\n     <use style=\"fill:#1f77b4;fill-opacity:0.8;stroke:#1f77b4;stroke-opacity:0.8;\" x=\"177.653125\" xlink:href=\"#mfc76d8e4b8\" y=\"190.379332\"/>\n     <use style=\"fill:#1f77b4;fill-opacity:0.8;stroke:#1f77b4;stroke-opacity:0.8;\" x=\"66.053125\" xlink:href=\"#mfc76d8e4b8\" y=\"194.129644\"/>\n     <use style=\"fill:#1f77b4;fill-opacity:0.8;stroke:#1f77b4;stroke-opacity:0.8;\" x=\"66.053125\" xlink:href=\"#mfc76d8e4b8\" y=\"199.755113\"/>\n     <use style=\"fill:#1f77b4;fill-opacity:0.8;stroke:#1f77b4;stroke-opacity:0.8;\" x=\"177.653125\" xlink:href=\"#mfc76d8e4b8\" y=\"184.441337\"/>\n     <use style=\"fill:#1f77b4;fill-opacity:0.8;stroke:#1f77b4;stroke-opacity:0.8;\" x=\"66.053125\" xlink:href=\"#mfc76d8e4b8\" y=\"186.316493\"/>\n     <use style=\"fill:#1f77b4;fill-opacity:0.8;stroke:#1f77b4;stroke-opacity:0.8;\" x=\"66.053125\" xlink:href=\"#mfc76d8e4b8\" y=\"189.441754\"/>\n     <use style=\"fill:#1f77b4;fill-opacity:0.8;stroke:#1f77b4;stroke-opacity:0.8;\" x=\"66.053125\" xlink:href=\"#mfc76d8e4b8\" y=\"204.130478\"/>\n     <use style=\"fill:#1f77b4;fill-opacity:0.8;stroke:#1f77b4;stroke-opacity:0.8;\" x=\"66.053125\" xlink:href=\"#mfc76d8e4b8\" y=\"196.004801\"/>\n     <use style=\"fill:#1f77b4;fill-opacity:0.8;stroke:#1f77b4;stroke-opacity:0.8;\" x=\"177.653125\" xlink:href=\"#mfc76d8e4b8\" y=\"190.691858\"/>\n     <use style=\"fill:#1f77b4;fill-opacity:0.8;stroke:#1f77b4;stroke-opacity:0.8;\" x=\"66.053125\" xlink:href=\"#mfc76d8e4b8\" y=\"194.44217\"/>\n     <use style=\"fill:#1f77b4;fill-opacity:0.8;stroke:#1f77b4;stroke-opacity:0.8;\" x=\"177.653125\" xlink:href=\"#mfc76d8e4b8\" y=\"151.730277\"/>\n     <use style=\"fill:#1f77b4;fill-opacity:0.8;stroke:#1f77b4;stroke-opacity:0.8;\" x=\"66.053125\" xlink:href=\"#mfc76d8e4b8\" y=\"206.630686\"/>\n     <use style=\"fill:#1f77b4;fill-opacity:0.8;stroke:#1f77b4;stroke-opacity:0.8;\" x=\"177.653125\" xlink:href=\"#mfc76d8e4b8\" y=\"194.754696\"/>\n     <use style=\"fill:#1f77b4;fill-opacity:0.8;stroke:#1f77b4;stroke-opacity:0.8;\" x=\"177.653125\" xlink:href=\"#mfc76d8e4b8\" y=\"108.237068\"/>\n     <use style=\"fill:#1f77b4;fill-opacity:0.8;stroke:#1f77b4;stroke-opacity:0.8;\" x=\"66.053125\" xlink:href=\"#mfc76d8e4b8\" y=\"213.818785\"/>\n     <use style=\"fill:#1f77b4;fill-opacity:0.8;stroke:#1f77b4;stroke-opacity:0.8;\" x=\"66.053125\" xlink:href=\"#mfc76d8e4b8\" y=\"195.067222\"/>\n     <use style=\"fill:#1f77b4;fill-opacity:0.8;stroke:#1f77b4;stroke-opacity:0.8;\" x=\"177.653125\" xlink:href=\"#mfc76d8e4b8\" y=\"192.87954\"/>\n     <use style=\"fill:#1f77b4;fill-opacity:0.8;stroke:#1f77b4;stroke-opacity:0.8;\" x=\"66.053125\" xlink:href=\"#mfc76d8e4b8\" y=\"202.880374\"/>\n     <use style=\"fill:#1f77b4;fill-opacity:0.8;stroke:#1f77b4;stroke-opacity:0.8;\" x=\"289.253125\" xlink:href=\"#mfc76d8e4b8\" y=\"192.567014\"/>\n     <use style=\"fill:#1f77b4;fill-opacity:0.8;stroke:#1f77b4;stroke-opacity:0.8;\" x=\"289.253125\" xlink:href=\"#mfc76d8e4b8\" y=\"198.505009\"/>\n     <use style=\"fill:#1f77b4;fill-opacity:0.8;stroke:#1f77b4;stroke-opacity:0.8;\" x=\"66.053125\" xlink:href=\"#mfc76d8e4b8\" y=\"201.942796\"/>\n     <use style=\"fill:#1f77b4;fill-opacity:0.8;stroke:#1f77b4;stroke-opacity:0.8;\" x=\"177.653125\" xlink:href=\"#mfc76d8e4b8\" y=\"123.86337\"/>\n     <use style=\"fill:#1f77b4;fill-opacity:0.8;stroke:#1f77b4;stroke-opacity:0.8;\" x=\"400.853125\" xlink:href=\"#mfc76d8e4b8\" y=\"195.067222\"/>\n     <use style=\"fill:#1f77b4;fill-opacity:0.8;stroke:#1f77b4;stroke-opacity:0.8;\" x=\"177.653125\" xlink:href=\"#mfc76d8e4b8\" y=\"91.308573\"/>\n     <use style=\"fill:#1f77b4;fill-opacity:0.8;stroke:#1f77b4;stroke-opacity:0.8;\" x=\"66.053125\" xlink:href=\"#mfc76d8e4b8\" y=\"184.441337\"/>\n     <use style=\"fill:#1f77b4;fill-opacity:0.8;stroke:#1f77b4;stroke-opacity:0.8;\" x=\"289.253125\" xlink:href=\"#mfc76d8e4b8\" y=\"199.442587\"/>\n     <use style=\"fill:#1f77b4;fill-opacity:0.8;stroke:#1f77b4;stroke-opacity:0.8;\" x=\"289.253125\" xlink:href=\"#mfc76d8e4b8\" y=\"203.505426\"/>\n     <use style=\"fill:#1f77b4;fill-opacity:0.8;stroke:#1f77b4;stroke-opacity:0.8;\" x=\"177.653125\" xlink:href=\"#mfc76d8e4b8\" y=\"189.75428\"/>\n     <use style=\"fill:#1f77b4;fill-opacity:0.8;stroke:#1f77b4;stroke-opacity:0.8;\" x=\"177.653125\" xlink:href=\"#mfc76d8e4b8\" y=\"157.12656\"/>\n     <use style=\"fill:#1f77b4;fill-opacity:0.8;stroke:#1f77b4;stroke-opacity:0.8;\" x=\"177.653125\" xlink:href=\"#mfc76d8e4b8\" y=\"193.504592\"/>\n     <use style=\"fill:#1f77b4;fill-opacity:0.8;stroke:#1f77b4;stroke-opacity:0.8;\" x=\"177.653125\" xlink:href=\"#mfc76d8e4b8\" y=\"186.629019\"/>\n     <use style=\"fill:#1f77b4;fill-opacity:0.8;stroke:#1f77b4;stroke-opacity:0.8;\" x=\"66.053125\" xlink:href=\"#mfc76d8e4b8\" y=\"200.692691\"/>\n     <use style=\"fill:#1f77b4;fill-opacity:0.8;stroke:#1f77b4;stroke-opacity:0.8;\" x=\"177.653125\" xlink:href=\"#mfc76d8e4b8\" y=\"176.940711\"/>\n     <use style=\"fill:#1f77b4;fill-opacity:0.8;stroke:#1f77b4;stroke-opacity:0.8;\" x=\"177.653125\" xlink:href=\"#mfc76d8e4b8\" y=\"105.632684\"/>\n     <use style=\"fill:#1f77b4;fill-opacity:0.8;stroke:#1f77b4;stroke-opacity:0.8;\" x=\"66.053125\" xlink:href=\"#mfc76d8e4b8\" y=\"201.005217\"/>\n     <use style=\"fill:#1f77b4;fill-opacity:0.8;stroke:#1f77b4;stroke-opacity:0.8;\" x=\"177.653125\" xlink:href=\"#mfc76d8e4b8\" y=\"187.566597\"/>\n     <use style=\"fill:#1f77b4;fill-opacity:0.8;stroke:#1f77b4;stroke-opacity:0.8;\" x=\"177.653125\" xlink:href=\"#mfc76d8e4b8\" y=\"122.561179\"/>\n     <use style=\"fill:#1f77b4;fill-opacity:0.8;stroke:#1f77b4;stroke-opacity:0.8;\" x=\"289.253125\" xlink:href=\"#mfc76d8e4b8\" y=\"193.817118\"/>\n     <use style=\"fill:#1f77b4;fill-opacity:0.8;stroke:#1f77b4;stroke-opacity:0.8;\" x=\"177.653125\" xlink:href=\"#mfc76d8e4b8\" y=\"140.375163\"/>\n     <use style=\"fill:#1f77b4;fill-opacity:0.8;stroke:#1f77b4;stroke-opacity:0.8;\" x=\"400.853125\" xlink:href=\"#mfc76d8e4b8\" y=\"189.75428\"/>\n     <use style=\"fill:#1f77b4;fill-opacity:0.8;stroke:#1f77b4;stroke-opacity:0.8;\" x=\"177.653125\" xlink:href=\"#mfc76d8e4b8\" y=\"188.504175\"/>\n     <use style=\"fill:#1f77b4;fill-opacity:0.8;stroke:#1f77b4;stroke-opacity:0.8;\" x=\"66.053125\" xlink:href=\"#mfc76d8e4b8\" y=\"185.691441\"/>\n     <use style=\"fill:#1f77b4;fill-opacity:0.8;stroke:#1f77b4;stroke-opacity:0.8;\" x=\"66.053125\" xlink:href=\"#mfc76d8e4b8\" y=\"197.254905\"/>\n     <use style=\"fill:#1f77b4;fill-opacity:0.8;stroke:#1f77b4;stroke-opacity:0.8;\" x=\"177.653125\" xlink:href=\"#mfc76d8e4b8\" y=\"58.753777\"/>\n     <use style=\"fill:#1f77b4;fill-opacity:0.8;stroke:#1f77b4;stroke-opacity:0.8;\" x=\"177.653125\" xlink:href=\"#mfc76d8e4b8\" y=\"185.378915\"/>\n     <use style=\"fill:#1f77b4;fill-opacity:0.8;stroke:#1f77b4;stroke-opacity:0.8;\" x=\"66.053125\" xlink:href=\"#mfc76d8e4b8\" y=\"213.818785\"/>\n     <use style=\"fill:#1f77b4;fill-opacity:0.8;stroke:#1f77b4;stroke-opacity:0.8;\" x=\"400.853125\" xlink:href=\"#mfc76d8e4b8\" y=\"183.503759\"/>\n     <use style=\"fill:#1f77b4;fill-opacity:0.8;stroke:#1f77b4;stroke-opacity:0.8;\" x=\"289.253125\" xlink:href=\"#mfc76d8e4b8\" y=\"211.318577\"/>\n     <use style=\"fill:#1f77b4;fill-opacity:0.8;stroke:#1f77b4;stroke-opacity:0.8;\" x=\"400.853125\" xlink:href=\"#mfc76d8e4b8\" y=\"189.441754\"/>\n     <use style=\"fill:#1f77b4;fill-opacity:0.8;stroke:#1f77b4;stroke-opacity:0.8;\" x=\"400.853125\" xlink:href=\"#mfc76d8e4b8\" y=\"156.001466\"/>\n     <use style=\"fill:#1f77b4;fill-opacity:0.8;stroke:#1f77b4;stroke-opacity:0.8;\" x=\"400.853125\" xlink:href=\"#mfc76d8e4b8\" y=\"189.75428\"/>\n     <use style=\"fill:#1f77b4;fill-opacity:0.8;stroke:#1f77b4;stroke-opacity:0.8;\" x=\"400.853125\" xlink:href=\"#mfc76d8e4b8\" y=\"202.255322\"/>\n     <use style=\"fill:#1f77b4;fill-opacity:0.8;stroke:#1f77b4;stroke-opacity:0.8;\" x=\"177.653125\" xlink:href=\"#mfc76d8e4b8\" y=\"181.628602\"/>\n     <use style=\"fill:#1f77b4;fill-opacity:0.8;stroke:#1f77b4;stroke-opacity:0.8;\" x=\"66.053125\" xlink:href=\"#mfc76d8e4b8\" y=\"202.567848\"/>\n     <use style=\"fill:#1f77b4;fill-opacity:0.8;stroke:#1f77b4;stroke-opacity:0.8;\" x=\"177.653125\" xlink:href=\"#mfc76d8e4b8\" y=\"184.503842\"/>\n     <use style=\"fill:#1f77b4;fill-opacity:0.8;stroke:#1f77b4;stroke-opacity:0.8;\" x=\"177.653125\" xlink:href=\"#mfc76d8e4b8\" y=\"183.503759\"/>\n     <use style=\"fill:#1f77b4;fill-opacity:0.8;stroke:#1f77b4;stroke-opacity:0.8;\" x=\"289.253125\" xlink:href=\"#mfc76d8e4b8\" y=\"197.567431\"/>\n     <use style=\"fill:#1f77b4;fill-opacity:0.8;stroke:#1f77b4;stroke-opacity:0.8;\" x=\"177.653125\" xlink:href=\"#mfc76d8e4b8\" y=\"179.753446\"/>\n     <use style=\"fill:#1f77b4;fill-opacity:0.8;stroke:#1f77b4;stroke-opacity:0.8;\" x=\"400.853125\" xlink:href=\"#mfc76d8e4b8\" y=\"186.941545\"/>\n     <use style=\"fill:#1f77b4;fill-opacity:0.8;stroke:#1f77b4;stroke-opacity:0.8;\" x=\"66.053125\" xlink:href=\"#mfc76d8e4b8\" y=\"211.631103\"/>\n     <use style=\"fill:#1f77b4;fill-opacity:0.8;stroke:#1f77b4;stroke-opacity:0.8;\" x=\"177.653125\" xlink:href=\"#mfc76d8e4b8\" y=\"108.237068\"/>\n     <use style=\"fill:#1f77b4;fill-opacity:0.8;stroke:#1f77b4;stroke-opacity:0.8;\" x=\"177.653125\" xlink:href=\"#mfc76d8e4b8\" y=\"186.316493\"/>\n     <use style=\"fill:#1f77b4;fill-opacity:0.8;stroke:#1f77b4;stroke-opacity:0.8;\" x=\"66.053125\" xlink:href=\"#mfc76d8e4b8\" y=\"157.980798\"/>\n     <use style=\"fill:#1f77b4;fill-opacity:0.8;stroke:#1f77b4;stroke-opacity:0.8;\" x=\"289.253125\" xlink:href=\"#mfc76d8e4b8\" y=\"196.004801\"/>\n     <use style=\"fill:#1f77b4;fill-opacity:0.8;stroke:#1f77b4;stroke-opacity:0.8;\" x=\"66.053125\" xlink:href=\"#mfc76d8e4b8\" y=\"192.567014\"/>\n     <use style=\"fill:#1f77b4;fill-opacity:0.8;stroke:#1f77b4;stroke-opacity:0.8;\" x=\"66.053125\" xlink:href=\"#mfc76d8e4b8\" y=\"211.943629\"/>\n     <use style=\"fill:#1f77b4;fill-opacity:0.8;stroke:#1f77b4;stroke-opacity:0.8;\" x=\"177.653125\" xlink:href=\"#mfc76d8e4b8\" y=\"183.503759\"/>\n     <use style=\"fill:#1f77b4;fill-opacity:0.8;stroke:#1f77b4;stroke-opacity:0.8;\" x=\"66.053125\" xlink:href=\"#mfc76d8e4b8\" y=\"205.068056\"/>\n     <use style=\"fill:#1f77b4;fill-opacity:0.8;stroke:#1f77b4;stroke-opacity:0.8;\" x=\"177.653125\" xlink:href=\"#mfc76d8e4b8\" y=\"186.941545\"/>\n     <use style=\"fill:#1f77b4;fill-opacity:0.8;stroke:#1f77b4;stroke-opacity:0.8;\" x=\"400.853125\" xlink:href=\"#mfc76d8e4b8\" y=\"183.503759\"/>\n     <use style=\"fill:#1f77b4;fill-opacity:0.8;stroke:#1f77b4;stroke-opacity:0.8;\" x=\"66.053125\" xlink:href=\"#mfc76d8e4b8\" y=\"197.567431\"/>\n     <use style=\"fill:#1f77b4;fill-opacity:0.8;stroke:#1f77b4;stroke-opacity:0.8;\" x=\"177.653125\" xlink:href=\"#mfc76d8e4b8\" y=\"121.779863\"/>\n     <use style=\"fill:#1f77b4;fill-opacity:0.8;stroke:#1f77b4;stroke-opacity:0.8;\" x=\"177.653125\" xlink:href=\"#mfc76d8e4b8\" y=\"136.885289\"/>\n     <use style=\"fill:#1f77b4;fill-opacity:0.8;stroke:#1f77b4;stroke-opacity:0.8;\" x=\"66.053125\" xlink:href=\"#mfc76d8e4b8\" y=\"203.817952\"/>\n     <use style=\"fill:#1f77b4;fill-opacity:0.8;stroke:#1f77b4;stroke-opacity:0.8;\" x=\"66.053125\" xlink:href=\"#mfc76d8e4b8\" y=\"196.629853\"/>\n     <use style=\"fill:#1f77b4;fill-opacity:0.8;stroke:#1f77b4;stroke-opacity:0.8;\" x=\"66.053125\" xlink:href=\"#mfc76d8e4b8\" y=\"189.441754\"/>\n     <use style=\"fill:#1f77b4;fill-opacity:0.8;stroke:#1f77b4;stroke-opacity:0.8;\" x=\"177.653125\" xlink:href=\"#mfc76d8e4b8\" y=\"192.87954\"/>\n     <use style=\"fill:#1f77b4;fill-opacity:0.8;stroke:#1f77b4;stroke-opacity:0.8;\" x=\"400.853125\" xlink:href=\"#mfc76d8e4b8\" y=\"200.692691\"/>\n     <use style=\"fill:#1f77b4;fill-opacity:0.8;stroke:#1f77b4;stroke-opacity:0.8;\" x=\"177.653125\" xlink:href=\"#mfc76d8e4b8\" y=\"122.561179\"/>\n     <use style=\"fill:#1f77b4;fill-opacity:0.8;stroke:#1f77b4;stroke-opacity:0.8;\" x=\"177.653125\" xlink:href=\"#mfc76d8e4b8\" y=\"143.396249\"/>\n     <use style=\"fill:#1f77b4;fill-opacity:0.8;stroke:#1f77b4;stroke-opacity:0.8;\" x=\"66.053125\" xlink:href=\"#mfc76d8e4b8\" y=\"202.255322\"/>\n     <use style=\"fill:#1f77b4;fill-opacity:0.8;stroke:#1f77b4;stroke-opacity:0.8;\" x=\"177.653125\" xlink:href=\"#mfc76d8e4b8\" y=\"91.308573\"/>\n     <use style=\"fill:#1f77b4;fill-opacity:0.8;stroke:#1f77b4;stroke-opacity:0.8;\" x=\"177.653125\" xlink:href=\"#mfc76d8e4b8\" y=\"94.433834\"/>\n     <use style=\"fill:#1f77b4;fill-opacity:0.8;stroke:#1f77b4;stroke-opacity:0.8;\" x=\"177.653125\" xlink:href=\"#mfc76d8e4b8\" y=\"176.940711\"/>\n     <use style=\"fill:#1f77b4;fill-opacity:0.8;stroke:#1f77b4;stroke-opacity:0.8;\" x=\"66.053125\" xlink:href=\"#mfc76d8e4b8\" y=\"188.191649\"/>\n     <use style=\"fill:#1f77b4;fill-opacity:0.8;stroke:#1f77b4;stroke-opacity:0.8;\" x=\"66.053125\" xlink:href=\"#mfc76d8e4b8\" y=\"214.756364\"/>\n     <use style=\"fill:#1f77b4;fill-opacity:0.8;stroke:#1f77b4;stroke-opacity:0.8;\" x=\"177.653125\" xlink:href=\"#mfc76d8e4b8\" y=\"183.503759\"/>\n     <use style=\"fill:#1f77b4;fill-opacity:0.8;stroke:#1f77b4;stroke-opacity:0.8;\" x=\"66.053125\" xlink:href=\"#mfc76d8e4b8\" y=\"202.880374\"/>\n     <use style=\"fill:#1f77b4;fill-opacity:0.8;stroke:#1f77b4;stroke-opacity:0.8;\" x=\"177.653125\" xlink:href=\"#mfc76d8e4b8\" y=\"188.191649\"/>\n     <use style=\"fill:#1f77b4;fill-opacity:0.8;stroke:#1f77b4;stroke-opacity:0.8;\" x=\"66.053125\" xlink:href=\"#mfc76d8e4b8\" y=\"197.254905\"/>\n     <use style=\"fill:#1f77b4;fill-opacity:0.8;stroke:#1f77b4;stroke-opacity:0.8;\" x=\"177.653125\" xlink:href=\"#mfc76d8e4b8\" y=\"146.000632\"/>\n     <use style=\"fill:#1f77b4;fill-opacity:0.8;stroke:#1f77b4;stroke-opacity:0.8;\" x=\"177.653125\" xlink:href=\"#mfc76d8e4b8\" y=\"160.064305\"/>\n     <use style=\"fill:#1f77b4;fill-opacity:0.8;stroke:#1f77b4;stroke-opacity:0.8;\" x=\"177.653125\" xlink:href=\"#mfc76d8e4b8\" y=\"174.753029\"/>\n     <use style=\"fill:#1f77b4;fill-opacity:0.8;stroke:#1f77b4;stroke-opacity:0.8;\" x=\"400.853125\" xlink:href=\"#mfc76d8e4b8\" y=\"200.692691\"/>\n     <use style=\"fill:#1f77b4;fill-opacity:0.8;stroke:#1f77b4;stroke-opacity:0.8;\" x=\"66.053125\" xlink:href=\"#mfc76d8e4b8\" y=\"190.691858\"/>\n     <use style=\"fill:#1f77b4;fill-opacity:0.8;stroke:#1f77b4;stroke-opacity:0.8;\" x=\"177.653125\" xlink:href=\"#mfc76d8e4b8\" y=\"73.077887\"/>\n     <use style=\"fill:#1f77b4;fill-opacity:0.8;stroke:#1f77b4;stroke-opacity:0.8;\" x=\"177.653125\" xlink:href=\"#mfc76d8e4b8\" y=\"172.252821\"/>\n     <use style=\"fill:#1f77b4;fill-opacity:0.8;stroke:#1f77b4;stroke-opacity:0.8;\" x=\"177.653125\" xlink:href=\"#mfc76d8e4b8\" y=\"169.440086\"/>\n     <use style=\"fill:#1f77b4;fill-opacity:0.8;stroke:#1f77b4;stroke-opacity:0.8;\" x=\"66.053125\" xlink:href=\"#mfc76d8e4b8\" y=\"196.317327\"/>\n     <use style=\"fill:#1f77b4;fill-opacity:0.8;stroke:#1f77b4;stroke-opacity:0.8;\" x=\"66.053125\" xlink:href=\"#mfc76d8e4b8\" y=\"209.755947\"/>\n     <use style=\"fill:#1f77b4;fill-opacity:0.8;stroke:#1f77b4;stroke-opacity:0.8;\" x=\"66.053125\" xlink:href=\"#mfc76d8e4b8\" y=\"188.191649\"/>\n     <use style=\"fill:#1f77b4;fill-opacity:0.8;stroke:#1f77b4;stroke-opacity:0.8;\" x=\"177.653125\" xlink:href=\"#mfc76d8e4b8\" y=\"201.630269\"/>\n     <use style=\"fill:#1f77b4;fill-opacity:0.8;stroke:#1f77b4;stroke-opacity:0.8;\" x=\"177.653125\" xlink:href=\"#mfc76d8e4b8\" y=\"190.691858\"/>\n     <use style=\"fill:#1f77b4;fill-opacity:0.8;stroke:#1f77b4;stroke-opacity:0.8;\" x=\"66.053125\" xlink:href=\"#mfc76d8e4b8\" y=\"209.755947\"/>\n     <use style=\"fill:#1f77b4;fill-opacity:0.8;stroke:#1f77b4;stroke-opacity:0.8;\" x=\"177.653125\" xlink:href=\"#mfc76d8e4b8\" y=\"183.503759\"/>\n     <use style=\"fill:#1f77b4;fill-opacity:0.8;stroke:#1f77b4;stroke-opacity:0.8;\" x=\"177.653125\" xlink:href=\"#mfc76d8e4b8\" y=\"174.440503\"/>\n     <use style=\"fill:#1f77b4;fill-opacity:0.8;stroke:#1f77b4;stroke-opacity:0.8;\" x=\"177.653125\" xlink:href=\"#mfc76d8e4b8\" y=\"31.407747\"/>\n     <use style=\"fill:#1f77b4;fill-opacity:0.8;stroke:#1f77b4;stroke-opacity:0.8;\" x=\"66.053125\" xlink:href=\"#mfc76d8e4b8\" y=\"189.75428\"/>\n     <use style=\"fill:#1f77b4;fill-opacity:0.8;stroke:#1f77b4;stroke-opacity:0.8;\" x=\"177.653125\" xlink:href=\"#mfc76d8e4b8\" y=\"188.191649\"/>\n     <use style=\"fill:#1f77b4;fill-opacity:0.8;stroke:#1f77b4;stroke-opacity:0.8;\" x=\"66.053125\" xlink:href=\"#mfc76d8e4b8\" y=\"201.942796\"/>\n     <use style=\"fill:#1f77b4;fill-opacity:0.8;stroke:#1f77b4;stroke-opacity:0.8;\" x=\"400.853125\" xlink:href=\"#mfc76d8e4b8\" y=\"185.066389\"/>\n     <use style=\"fill:#1f77b4;fill-opacity:0.8;stroke:#1f77b4;stroke-opacity:0.8;\" x=\"289.253125\" xlink:href=\"#mfc76d8e4b8\" y=\"207.568264\"/>\n     <use style=\"fill:#1f77b4;fill-opacity:0.8;stroke:#1f77b4;stroke-opacity:0.8;\" x=\"66.053125\" xlink:href=\"#mfc76d8e4b8\" y=\"212.568681\"/>\n     <use style=\"fill:#1f77b4;fill-opacity:0.8;stroke:#1f77b4;stroke-opacity:0.8;\" x=\"177.653125\" xlink:href=\"#mfc76d8e4b8\" y=\"17.083636\"/>\n     <use style=\"fill:#1f77b4;fill-opacity:0.8;stroke:#1f77b4;stroke-opacity:0.8;\" x=\"66.053125\" xlink:href=\"#mfc76d8e4b8\" y=\"196.629853\"/>\n     <use style=\"fill:#1f77b4;fill-opacity:0.8;stroke:#1f77b4;stroke-opacity:0.8;\" x=\"400.853125\" xlink:href=\"#mfc76d8e4b8\" y=\"109.53926\"/>\n     <use style=\"fill:#1f77b4;fill-opacity:0.8;stroke:#1f77b4;stroke-opacity:0.8;\" x=\"66.053125\" xlink:href=\"#mfc76d8e4b8\" y=\"211.318577\"/>\n     <use style=\"fill:#1f77b4;fill-opacity:0.8;stroke:#1f77b4;stroke-opacity:0.8;\" x=\"66.053125\" xlink:href=\"#mfc76d8e4b8\" y=\"185.378915\"/>\n     <use style=\"fill:#1f77b4;fill-opacity:0.8;stroke:#1f77b4;stroke-opacity:0.8;\" x=\"177.653125\" xlink:href=\"#mfc76d8e4b8\" y=\"184.441337\"/>\n     <use style=\"fill:#1f77b4;fill-opacity:0.8;stroke:#1f77b4;stroke-opacity:0.8;\" x=\"66.053125\" xlink:href=\"#mfc76d8e4b8\" y=\"196.629853\"/>\n     <use style=\"fill:#1f77b4;fill-opacity:0.8;stroke:#1f77b4;stroke-opacity:0.8;\" x=\"66.053125\" xlink:href=\"#mfc76d8e4b8\" y=\"212.881207\"/>\n     <use style=\"fill:#1f77b4;fill-opacity:0.8;stroke:#1f77b4;stroke-opacity:0.8;\" x=\"66.053125\" xlink:href=\"#mfc76d8e4b8\" y=\"162.564513\"/>\n     <use style=\"fill:#1f77b4;fill-opacity:0.8;stroke:#1f77b4;stroke-opacity:0.8;\" x=\"400.853125\" xlink:href=\"#mfc76d8e4b8\" y=\"183.503759\"/>\n    </g>\n   </g>\n   <g id=\"PolyCollection_1\">\n    <path clip-path=\"url(#p9cac25ccce)\" d=\"M 66.053125 174.476392 \nL 66.053125 184.174237 \nL 69.434943 183.986427 \nL 72.816761 183.802134 \nL 76.19858 183.61002 \nL 79.580398 183.411758 \nL 82.962216 183.237233 \nL 86.344034 183.062964 \nL 89.725852 182.863276 \nL 93.10767 182.657842 \nL 96.489489 182.452111 \nL 99.871307 182.306437 \nL 103.253125 182.128021 \nL 106.634943 181.996061 \nL 110.016761 181.848202 \nL 113.39858 181.696087 \nL 116.780398 181.581151 \nL 120.162216 181.467202 \nL 123.544034 181.307501 \nL 126.925852 181.17033 \nL 130.30767 181.05628 \nL 133.689489 180.908942 \nL 137.071307 180.777495 \nL 140.453125 180.680314 \nL 143.834943 180.584576 \nL 147.216761 180.420904 \nL 150.59858 180.292344 \nL 153.980398 180.207043 \nL 157.362216 180.082712 \nL 160.744034 179.976431 \nL 164.125852 179.876101 \nL 167.50767 179.723753 \nL 170.889489 179.570867 \nL 174.271307 179.495748 \nL 177.653125 179.450256 \nL 181.034943 179.35644 \nL 184.416761 179.240221 \nL 187.79858 179.142866 \nL 191.180398 179.061346 \nL 194.562216 178.979825 \nL 197.944034 178.913425 \nL 201.325852 178.853449 \nL 204.70767 178.799421 \nL 208.089489 178.731072 \nL 211.471307 178.661641 \nL 214.853125 178.609876 \nL 218.234943 178.546871 \nL 221.616761 178.443083 \nL 224.99858 178.406261 \nL 228.380398 178.36055 \nL 231.762216 178.316696 \nL 235.144034 178.257386 \nL 238.525852 178.248995 \nL 241.90767 178.19821 \nL 245.289489 178.146058 \nL 248.671307 178.070931 \nL 252.053125 178.015038 \nL 255.434943 177.944775 \nL 258.816761 177.868469 \nL 262.19858 177.779499 \nL 265.580398 177.718448 \nL 268.962216 177.638636 \nL 272.344034 177.558177 \nL 275.725852 177.479175 \nL 279.10767 177.404066 \nL 282.489489 177.374234 \nL 285.871307 177.344403 \nL 289.253125 177.315038 \nL 292.634943 177.325817 \nL 296.016761 177.294794 \nL 299.39858 177.229288 \nL 302.780398 177.201915 \nL 306.162216 177.17001 \nL 309.544034 177.093651 \nL 312.925852 177.023198 \nL 316.30767 176.966285 \nL 319.689489 176.947492 \nL 323.071307 176.928699 \nL 326.453125 176.908211 \nL 329.834943 176.857237 \nL 333.216761 176.80617 \nL 336.59858 176.754613 \nL 339.980398 176.703056 \nL 343.362216 176.650676 \nL 346.744034 176.578927 \nL 350.125852 176.540496 \nL 353.50767 176.496014 \nL 356.889489 176.444574 \nL 360.271307 176.373317 \nL 363.653125 176.288911 \nL 367.034943 176.284004 \nL 370.416761 176.2389 \nL 373.79858 176.187485 \nL 377.180398 176.143438 \nL 380.562216 176.119779 \nL 383.944034 176.096691 \nL 387.325852 176.074329 \nL 390.70767 176.051967 \nL 394.089489 176.029605 \nL 397.471307 176.007243 \nL 400.853125 176.005445 \nL 400.853125 157.584541 \nL 400.853125 157.584541 \nL 397.471307 157.821483 \nL 394.089489 158.058424 \nL 390.70767 158.295365 \nL 387.325852 158.532307 \nL 383.944034 158.769248 \nL 380.562216 159.00619 \nL 377.180398 159.228802 \nL 373.79858 159.444727 \nL 370.416761 159.660653 \nL 367.034943 159.876578 \nL 363.653125 160.092503 \nL 360.271307 160.308428 \nL 356.889489 160.524353 \nL 353.50767 160.741102 \nL 350.125852 160.958085 \nL 346.744034 161.175068 \nL 343.362216 161.39205 \nL 339.980398 161.629734 \nL 336.59858 161.88778 \nL 333.216761 162.145825 \nL 329.834943 162.403871 \nL 326.453125 162.661916 \nL 323.071307 162.919962 \nL 319.689489 163.178007 \nL 316.30767 163.429936 \nL 312.925852 163.651466 \nL 309.544034 163.872996 \nL 306.162216 164.094525 \nL 302.780398 164.316055 \nL 299.39858 164.537585 \nL 296.016761 164.759115 \nL 292.634943 164.923022 \nL 289.253125 165.076787 \nL 285.871307 165.231505 \nL 282.489489 165.397256 \nL 279.10767 165.690145 \nL 275.725852 165.958952 \nL 272.344034 166.107388 \nL 268.962216 166.216507 \nL 265.580398 166.375008 \nL 262.19858 166.574095 \nL 258.816761 166.818336 \nL 255.434943 167.035495 \nL 252.053125 167.210652 \nL 248.671307 167.385932 \nL 245.289489 167.561318 \nL 241.90767 167.733439 \nL 238.525852 167.93224 \nL 235.144034 168.111441 \nL 231.762216 168.351408 \nL 228.380398 168.528856 \nL 224.99858 168.706518 \nL 221.616761 168.88497 \nL 218.234943 169.088528 \nL 214.853125 169.318682 \nL 211.471307 169.505495 \nL 208.089489 169.731287 \nL 204.70767 169.910061 \nL 201.325852 170.107302 \nL 197.944034 170.223825 \nL 194.562216 170.400875 \nL 191.180398 170.598766 \nL 187.79858 170.730116 \nL 184.416761 170.838852 \nL 181.034943 171.016591 \nL 177.653125 171.203867 \nL 174.271307 171.355432 \nL 170.889489 171.507931 \nL 167.50767 171.673569 \nL 164.125852 171.764627 \nL 160.744034 171.854417 \nL 157.362216 171.943628 \nL 153.980398 172.032839 \nL 150.59858 172.12334 \nL 147.216761 172.215706 \nL 143.834943 172.390884 \nL 140.453125 172.626181 \nL 137.071307 172.828661 \nL 133.689489 172.909411 \nL 130.30767 172.984404 \nL 126.925852 173.029119 \nL 123.544034 173.148987 \nL 120.162216 173.227237 \nL 116.780398 173.297124 \nL 113.39858 173.388557 \nL 110.016761 173.468293 \nL 106.634943 173.560282 \nL 103.253125 173.601091 \nL 99.871307 173.630241 \nL 96.489489 173.713517 \nL 93.10767 173.836739 \nL 89.725852 173.942459 \nL 86.344034 174.022366 \nL 82.962216 174.102273 \nL 79.580398 174.158174 \nL 76.19858 174.220029 \nL 72.816761 174.270422 \nL 69.434943 174.369831 \nL 66.053125 174.476392 \nz\n\" style=\"fill:#1f77b4;fill-opacity:0.15;\"/>\n   </g>\n   <g id=\"matplotlib.axis_1\">\n    <g id=\"xtick_1\">\n     <g id=\"line2d_1\">\n      <defs>\n       <path d=\"M 0 0 \nL 0 3.5 \n\" id=\"m70bd8e1885\" style=\"stroke:#000000;stroke-width:0.8;\"/>\n      </defs>\n      <g>\n       <use style=\"stroke:#000000;stroke-width:0.8;\" x=\"66.053125\" xlink:href=\"#m70bd8e1885\" y=\"224.64\"/>\n      </g>\n     </g>\n     <g id=\"text_1\">\n      <!-- 0.0 -->\n      <g transform=\"translate(58.101563 239.238437)scale(0.1 -0.1)\">\n       <defs>\n        <path d=\"M 2034 4250 \nQ 1547 4250 1301 3770 \nQ 1056 3291 1056 2328 \nQ 1056 1369 1301 889 \nQ 1547 409 2034 409 \nQ 2525 409 2770 889 \nQ 3016 1369 3016 2328 \nQ 3016 3291 2770 3770 \nQ 2525 4250 2034 4250 \nz\nM 2034 4750 \nQ 2819 4750 3233 4129 \nQ 3647 3509 3647 2328 \nQ 3647 1150 3233 529 \nQ 2819 -91 2034 -91 \nQ 1250 -91 836 529 \nQ 422 1150 422 2328 \nQ 422 3509 836 4129 \nQ 1250 4750 2034 4750 \nz\n\" id=\"DejaVuSans-30\" transform=\"scale(0.015625)\"/>\n        <path d=\"M 684 794 \nL 1344 794 \nL 1344 0 \nL 684 0 \nL 684 794 \nz\n\" id=\"DejaVuSans-2e\" transform=\"scale(0.015625)\"/>\n       </defs>\n       <use xlink:href=\"#DejaVuSans-30\"/>\n       <use x=\"63.623047\" xlink:href=\"#DejaVuSans-2e\"/>\n       <use x=\"95.410156\" xlink:href=\"#DejaVuSans-30\"/>\n      </g>\n     </g>\n    </g>\n    <g id=\"xtick_2\">\n     <g id=\"line2d_2\">\n      <g>\n       <use style=\"stroke:#000000;stroke-width:0.8;\" x=\"121.853125\" xlink:href=\"#m70bd8e1885\" y=\"224.64\"/>\n      </g>\n     </g>\n     <g id=\"text_2\">\n      <!-- 0.5 -->\n      <g transform=\"translate(113.901563 239.238437)scale(0.1 -0.1)\">\n       <defs>\n        <path d=\"M 691 4666 \nL 3169 4666 \nL 3169 4134 \nL 1269 4134 \nL 1269 2991 \nQ 1406 3038 1543 3061 \nQ 1681 3084 1819 3084 \nQ 2600 3084 3056 2656 \nQ 3513 2228 3513 1497 \nQ 3513 744 3044 326 \nQ 2575 -91 1722 -91 \nQ 1428 -91 1123 -41 \nQ 819 9 494 109 \nL 494 744 \nQ 775 591 1075 516 \nQ 1375 441 1709 441 \nQ 2250 441 2565 725 \nQ 2881 1009 2881 1497 \nQ 2881 1984 2565 2268 \nQ 2250 2553 1709 2553 \nQ 1456 2553 1204 2497 \nQ 953 2441 691 2322 \nL 691 4666 \nz\n\" id=\"DejaVuSans-35\" transform=\"scale(0.015625)\"/>\n       </defs>\n       <use xlink:href=\"#DejaVuSans-30\"/>\n       <use x=\"63.623047\" xlink:href=\"#DejaVuSans-2e\"/>\n       <use x=\"95.410156\" xlink:href=\"#DejaVuSans-35\"/>\n      </g>\n     </g>\n    </g>\n    <g id=\"xtick_3\">\n     <g id=\"line2d_3\">\n      <g>\n       <use style=\"stroke:#000000;stroke-width:0.8;\" x=\"177.653125\" xlink:href=\"#m70bd8e1885\" y=\"224.64\"/>\n      </g>\n     </g>\n     <g id=\"text_3\">\n      <!-- 1.0 -->\n      <g transform=\"translate(169.701562 239.238437)scale(0.1 -0.1)\">\n       <defs>\n        <path d=\"M 794 531 \nL 1825 531 \nL 1825 4091 \nL 703 3866 \nL 703 4441 \nL 1819 4666 \nL 2450 4666 \nL 2450 531 \nL 3481 531 \nL 3481 0 \nL 794 0 \nL 794 531 \nz\n\" id=\"DejaVuSans-31\" transform=\"scale(0.015625)\"/>\n       </defs>\n       <use xlink:href=\"#DejaVuSans-31\"/>\n       <use x=\"63.623047\" xlink:href=\"#DejaVuSans-2e\"/>\n       <use x=\"95.410156\" xlink:href=\"#DejaVuSans-30\"/>\n      </g>\n     </g>\n    </g>\n    <g id=\"xtick_4\">\n     <g id=\"line2d_4\">\n      <g>\n       <use style=\"stroke:#000000;stroke-width:0.8;\" x=\"233.453125\" xlink:href=\"#m70bd8e1885\" y=\"224.64\"/>\n      </g>\n     </g>\n     <g id=\"text_4\">\n      <!-- 1.5 -->\n      <g transform=\"translate(225.501563 239.238437)scale(0.1 -0.1)\">\n       <use xlink:href=\"#DejaVuSans-31\"/>\n       <use x=\"63.623047\" xlink:href=\"#DejaVuSans-2e\"/>\n       <use x=\"95.410156\" xlink:href=\"#DejaVuSans-35\"/>\n      </g>\n     </g>\n    </g>\n    <g id=\"xtick_5\">\n     <g id=\"line2d_5\">\n      <g>\n       <use style=\"stroke:#000000;stroke-width:0.8;\" x=\"289.253125\" xlink:href=\"#m70bd8e1885\" y=\"224.64\"/>\n      </g>\n     </g>\n     <g id=\"text_5\">\n      <!-- 2.0 -->\n      <g transform=\"translate(281.301562 239.238437)scale(0.1 -0.1)\">\n       <defs>\n        <path d=\"M 1228 531 \nL 3431 531 \nL 3431 0 \nL 469 0 \nL 469 531 \nQ 828 903 1448 1529 \nQ 2069 2156 2228 2338 \nQ 2531 2678 2651 2914 \nQ 2772 3150 2772 3378 \nQ 2772 3750 2511 3984 \nQ 2250 4219 1831 4219 \nQ 1534 4219 1204 4116 \nQ 875 4013 500 3803 \nL 500 4441 \nQ 881 4594 1212 4672 \nQ 1544 4750 1819 4750 \nQ 2544 4750 2975 4387 \nQ 3406 4025 3406 3419 \nQ 3406 3131 3298 2873 \nQ 3191 2616 2906 2266 \nQ 2828 2175 2409 1742 \nQ 1991 1309 1228 531 \nz\n\" id=\"DejaVuSans-32\" transform=\"scale(0.015625)\"/>\n       </defs>\n       <use xlink:href=\"#DejaVuSans-32\"/>\n       <use x=\"63.623047\" xlink:href=\"#DejaVuSans-2e\"/>\n       <use x=\"95.410156\" xlink:href=\"#DejaVuSans-30\"/>\n      </g>\n     </g>\n    </g>\n    <g id=\"xtick_6\">\n     <g id=\"line2d_6\">\n      <g>\n       <use style=\"stroke:#000000;stroke-width:0.8;\" x=\"345.053125\" xlink:href=\"#m70bd8e1885\" y=\"224.64\"/>\n      </g>\n     </g>\n     <g id=\"text_6\">\n      <!-- 2.5 -->\n      <g transform=\"translate(337.101562 239.238437)scale(0.1 -0.1)\">\n       <use xlink:href=\"#DejaVuSans-32\"/>\n       <use x=\"63.623047\" xlink:href=\"#DejaVuSans-2e\"/>\n       <use x=\"95.410156\" xlink:href=\"#DejaVuSans-35\"/>\n      </g>\n     </g>\n    </g>\n    <g id=\"xtick_7\">\n     <g id=\"line2d_7\">\n      <g>\n       <use style=\"stroke:#000000;stroke-width:0.8;\" x=\"400.853125\" xlink:href=\"#m70bd8e1885\" y=\"224.64\"/>\n      </g>\n     </g>\n     <g id=\"text_7\">\n      <!-- 3.0 -->\n      <g transform=\"translate(392.901562 239.238437)scale(0.1 -0.1)\">\n       <defs>\n        <path d=\"M 2597 2516 \nQ 3050 2419 3304 2112 \nQ 3559 1806 3559 1356 \nQ 3559 666 3084 287 \nQ 2609 -91 1734 -91 \nQ 1441 -91 1130 -33 \nQ 819 25 488 141 \nL 488 750 \nQ 750 597 1062 519 \nQ 1375 441 1716 441 \nQ 2309 441 2620 675 \nQ 2931 909 2931 1356 \nQ 2931 1769 2642 2001 \nQ 2353 2234 1838 2234 \nL 1294 2234 \nL 1294 2753 \nL 1863 2753 \nQ 2328 2753 2575 2939 \nQ 2822 3125 2822 3475 \nQ 2822 3834 2567 4026 \nQ 2313 4219 1838 4219 \nQ 1578 4219 1281 4162 \nQ 984 4106 628 3988 \nL 628 4550 \nQ 988 4650 1302 4700 \nQ 1616 4750 1894 4750 \nQ 2613 4750 3031 4423 \nQ 3450 4097 3450 3541 \nQ 3450 3153 3228 2886 \nQ 3006 2619 2597 2516 \nz\n\" id=\"DejaVuSans-33\" transform=\"scale(0.015625)\"/>\n       </defs>\n       <use xlink:href=\"#DejaVuSans-33\"/>\n       <use x=\"63.623047\" xlink:href=\"#DejaVuSans-2e\"/>\n       <use x=\"95.410156\" xlink:href=\"#DejaVuSans-30\"/>\n      </g>\n     </g>\n    </g>\n    <g id=\"text_8\">\n     <!-- SOCIODEMOGRAPHY -->\n     <g transform=\"translate(181.783594 252.916562)scale(0.1 -0.1)\">\n      <defs>\n       <path d=\"M 3425 4513 \nL 3425 3897 \nQ 3066 4069 2747 4153 \nQ 2428 4238 2131 4238 \nQ 1616 4238 1336 4038 \nQ 1056 3838 1056 3469 \nQ 1056 3159 1242 3001 \nQ 1428 2844 1947 2747 \nL 2328 2669 \nQ 3034 2534 3370 2195 \nQ 3706 1856 3706 1288 \nQ 3706 609 3251 259 \nQ 2797 -91 1919 -91 \nQ 1588 -91 1214 -16 \nQ 841 59 441 206 \nL 441 856 \nQ 825 641 1194 531 \nQ 1563 422 1919 422 \nQ 2459 422 2753 634 \nQ 3047 847 3047 1241 \nQ 3047 1584 2836 1778 \nQ 2625 1972 2144 2069 \nL 1759 2144 \nQ 1053 2284 737 2584 \nQ 422 2884 422 3419 \nQ 422 4038 858 4394 \nQ 1294 4750 2059 4750 \nQ 2388 4750 2728 4690 \nQ 3069 4631 3425 4513 \nz\n\" id=\"DejaVuSans-53\" transform=\"scale(0.015625)\"/>\n       <path d=\"M 2522 4238 \nQ 1834 4238 1429 3725 \nQ 1025 3213 1025 2328 \nQ 1025 1447 1429 934 \nQ 1834 422 2522 422 \nQ 3209 422 3611 934 \nQ 4013 1447 4013 2328 \nQ 4013 3213 3611 3725 \nQ 3209 4238 2522 4238 \nz\nM 2522 4750 \nQ 3503 4750 4090 4092 \nQ 4678 3434 4678 2328 \nQ 4678 1225 4090 567 \nQ 3503 -91 2522 -91 \nQ 1538 -91 948 565 \nQ 359 1222 359 2328 \nQ 359 3434 948 4092 \nQ 1538 4750 2522 4750 \nz\n\" id=\"DejaVuSans-4f\" transform=\"scale(0.015625)\"/>\n       <path d=\"M 4122 4306 \nL 4122 3641 \nQ 3803 3938 3442 4084 \nQ 3081 4231 2675 4231 \nQ 1875 4231 1450 3742 \nQ 1025 3253 1025 2328 \nQ 1025 1406 1450 917 \nQ 1875 428 2675 428 \nQ 3081 428 3442 575 \nQ 3803 722 4122 1019 \nL 4122 359 \nQ 3791 134 3420 21 \nQ 3050 -91 2638 -91 \nQ 1578 -91 968 557 \nQ 359 1206 359 2328 \nQ 359 3453 968 4101 \nQ 1578 4750 2638 4750 \nQ 3056 4750 3426 4639 \nQ 3797 4528 4122 4306 \nz\n\" id=\"DejaVuSans-43\" transform=\"scale(0.015625)\"/>\n       <path d=\"M 628 4666 \nL 1259 4666 \nL 1259 0 \nL 628 0 \nL 628 4666 \nz\n\" id=\"DejaVuSans-49\" transform=\"scale(0.015625)\"/>\n       <path d=\"M 1259 4147 \nL 1259 519 \nL 2022 519 \nQ 2988 519 3436 956 \nQ 3884 1394 3884 2338 \nQ 3884 3275 3436 3711 \nQ 2988 4147 2022 4147 \nL 1259 4147 \nz\nM 628 4666 \nL 1925 4666 \nQ 3281 4666 3915 4102 \nQ 4550 3538 4550 2338 \nQ 4550 1131 3912 565 \nQ 3275 0 1925 0 \nL 628 0 \nL 628 4666 \nz\n\" id=\"DejaVuSans-44\" transform=\"scale(0.015625)\"/>\n       <path d=\"M 628 4666 \nL 3578 4666 \nL 3578 4134 \nL 1259 4134 \nL 1259 2753 \nL 3481 2753 \nL 3481 2222 \nL 1259 2222 \nL 1259 531 \nL 3634 531 \nL 3634 0 \nL 628 0 \nL 628 4666 \nz\n\" id=\"DejaVuSans-45\" transform=\"scale(0.015625)\"/>\n       <path d=\"M 628 4666 \nL 1569 4666 \nL 2759 1491 \nL 3956 4666 \nL 4897 4666 \nL 4897 0 \nL 4281 0 \nL 4281 4097 \nL 3078 897 \nL 2444 897 \nL 1241 4097 \nL 1241 0 \nL 628 0 \nL 628 4666 \nz\n\" id=\"DejaVuSans-4d\" transform=\"scale(0.015625)\"/>\n       <path d=\"M 3809 666 \nL 3809 1919 \nL 2778 1919 \nL 2778 2438 \nL 4434 2438 \nL 4434 434 \nQ 4069 175 3628 42 \nQ 3188 -91 2688 -91 \nQ 1594 -91 976 548 \nQ 359 1188 359 2328 \nQ 359 3472 976 4111 \nQ 1594 4750 2688 4750 \nQ 3144 4750 3555 4637 \nQ 3966 4525 4313 4306 \nL 4313 3634 \nQ 3963 3931 3569 4081 \nQ 3175 4231 2741 4231 \nQ 1884 4231 1454 3753 \nQ 1025 3275 1025 2328 \nQ 1025 1384 1454 906 \nQ 1884 428 2741 428 \nQ 3075 428 3337 486 \nQ 3600 544 3809 666 \nz\n\" id=\"DejaVuSans-47\" transform=\"scale(0.015625)\"/>\n       <path d=\"M 2841 2188 \nQ 3044 2119 3236 1894 \nQ 3428 1669 3622 1275 \nL 4263 0 \nL 3584 0 \nL 2988 1197 \nQ 2756 1666 2539 1819 \nQ 2322 1972 1947 1972 \nL 1259 1972 \nL 1259 0 \nL 628 0 \nL 628 4666 \nL 2053 4666 \nQ 2853 4666 3247 4331 \nQ 3641 3997 3641 3322 \nQ 3641 2881 3436 2590 \nQ 3231 2300 2841 2188 \nz\nM 1259 4147 \nL 1259 2491 \nL 2053 2491 \nQ 2509 2491 2742 2702 \nQ 2975 2913 2975 3322 \nQ 2975 3731 2742 3939 \nQ 2509 4147 2053 4147 \nL 1259 4147 \nz\n\" id=\"DejaVuSans-52\" transform=\"scale(0.015625)\"/>\n       <path d=\"M 2188 4044 \nL 1331 1722 \nL 3047 1722 \nL 2188 4044 \nz\nM 1831 4666 \nL 2547 4666 \nL 4325 0 \nL 3669 0 \nL 3244 1197 \nL 1141 1197 \nL 716 0 \nL 50 0 \nL 1831 4666 \nz\n\" id=\"DejaVuSans-41\" transform=\"scale(0.015625)\"/>\n       <path d=\"M 1259 4147 \nL 1259 2394 \nL 2053 2394 \nQ 2494 2394 2734 2622 \nQ 2975 2850 2975 3272 \nQ 2975 3691 2734 3919 \nQ 2494 4147 2053 4147 \nL 1259 4147 \nz\nM 628 4666 \nL 2053 4666 \nQ 2838 4666 3239 4311 \nQ 3641 3956 3641 3272 \nQ 3641 2581 3239 2228 \nQ 2838 1875 2053 1875 \nL 1259 1875 \nL 1259 0 \nL 628 0 \nL 628 4666 \nz\n\" id=\"DejaVuSans-50\" transform=\"scale(0.015625)\"/>\n       <path d=\"M 628 4666 \nL 1259 4666 \nL 1259 2753 \nL 3553 2753 \nL 3553 4666 \nL 4184 4666 \nL 4184 0 \nL 3553 0 \nL 3553 2222 \nL 1259 2222 \nL 1259 0 \nL 628 0 \nL 628 4666 \nz\n\" id=\"DejaVuSans-48\" transform=\"scale(0.015625)\"/>\n       <path d=\"M -13 4666 \nL 666 4666 \nL 1959 2747 \nL 3244 4666 \nL 3922 4666 \nL 2272 2222 \nL 2272 0 \nL 1638 0 \nL 1638 2222 \nL -13 4666 \nz\n\" id=\"DejaVuSans-59\" transform=\"scale(0.015625)\"/>\n      </defs>\n      <use xlink:href=\"#DejaVuSans-53\"/>\n      <use x=\"63.476562\" xlink:href=\"#DejaVuSans-4f\"/>\n      <use x=\"142.1875\" xlink:href=\"#DejaVuSans-43\"/>\n      <use x=\"212.011719\" xlink:href=\"#DejaVuSans-49\"/>\n      <use x=\"241.503906\" xlink:href=\"#DejaVuSans-4f\"/>\n      <use x=\"320.214844\" xlink:href=\"#DejaVuSans-44\"/>\n      <use x=\"397.216797\" xlink:href=\"#DejaVuSans-45\"/>\n      <use x=\"460.400391\" xlink:href=\"#DejaVuSans-4d\"/>\n      <use x=\"546.679688\" xlink:href=\"#DejaVuSans-4f\"/>\n      <use x=\"625.390625\" xlink:href=\"#DejaVuSans-47\"/>\n      <use x=\"702.880859\" xlink:href=\"#DejaVuSans-52\"/>\n      <use x=\"768.363281\" xlink:href=\"#DejaVuSans-41\"/>\n      <use x=\"836.771484\" xlink:href=\"#DejaVuSans-50\"/>\n      <use x=\"897.074219\" xlink:href=\"#DejaVuSans-48\"/>\n      <use x=\"972.269531\" xlink:href=\"#DejaVuSans-59\"/>\n     </g>\n    </g>\n   </g>\n   <g id=\"matplotlib.axis_2\">\n    <g id=\"ytick_1\">\n     <g id=\"line2d_8\">\n      <defs>\n       <path d=\"M 0 0 \nL -3.5 0 \n\" id=\"m0977f3e7db\" style=\"stroke:#000000;stroke-width:0.8;\"/>\n      </defs>\n      <g>\n       <use style=\"stroke:#000000;stroke-width:0.8;\" x=\"66.053125\" xlink:href=\"#m0977f3e7db\" y=\"205.901459\"/>\n      </g>\n     </g>\n     <g id=\"text_9\">\n      <!-- 20000 -->\n      <g transform=\"translate(27.240625 209.700678)scale(0.1 -0.1)\">\n       <use xlink:href=\"#DejaVuSans-32\"/>\n       <use x=\"63.623047\" xlink:href=\"#DejaVuSans-30\"/>\n       <use x=\"127.246094\" xlink:href=\"#DejaVuSans-30\"/>\n       <use x=\"190.869141\" xlink:href=\"#DejaVuSans-30\"/>\n       <use x=\"254.492188\" xlink:href=\"#DejaVuSans-30\"/>\n      </g>\n     </g>\n    </g>\n    <g id=\"ytick_2\">\n     <g id=\"line2d_9\">\n      <g>\n       <use style=\"stroke:#000000;stroke-width:0.8;\" x=\"66.053125\" xlink:href=\"#m0977f3e7db\" y=\"164.231319\"/>\n      </g>\n     </g>\n     <g id=\"text_10\">\n      <!-- 40000 -->\n      <g transform=\"translate(27.240625 168.030537)scale(0.1 -0.1)\">\n       <defs>\n        <path d=\"M 2419 4116 \nL 825 1625 \nL 2419 1625 \nL 2419 4116 \nz\nM 2253 4666 \nL 3047 4666 \nL 3047 1625 \nL 3713 1625 \nL 3713 1100 \nL 3047 1100 \nL 3047 0 \nL 2419 0 \nL 2419 1100 \nL 313 1100 \nL 313 1709 \nL 2253 4666 \nz\n\" id=\"DejaVuSans-34\" transform=\"scale(0.015625)\"/>\n       </defs>\n       <use xlink:href=\"#DejaVuSans-34\"/>\n       <use x=\"63.623047\" xlink:href=\"#DejaVuSans-30\"/>\n       <use x=\"127.246094\" xlink:href=\"#DejaVuSans-30\"/>\n       <use x=\"190.869141\" xlink:href=\"#DejaVuSans-30\"/>\n       <use x=\"254.492188\" xlink:href=\"#DejaVuSans-30\"/>\n      </g>\n     </g>\n    </g>\n    <g id=\"ytick_3\">\n     <g id=\"line2d_10\">\n      <g>\n       <use style=\"stroke:#000000;stroke-width:0.8;\" x=\"66.053125\" xlink:href=\"#m0977f3e7db\" y=\"122.561179\"/>\n      </g>\n     </g>\n     <g id=\"text_11\">\n      <!-- 60000 -->\n      <g transform=\"translate(27.240625 126.360397)scale(0.1 -0.1)\">\n       <defs>\n        <path d=\"M 2113 2584 \nQ 1688 2584 1439 2293 \nQ 1191 2003 1191 1497 \nQ 1191 994 1439 701 \nQ 1688 409 2113 409 \nQ 2538 409 2786 701 \nQ 3034 994 3034 1497 \nQ 3034 2003 2786 2293 \nQ 2538 2584 2113 2584 \nz\nM 3366 4563 \nL 3366 3988 \nQ 3128 4100 2886 4159 \nQ 2644 4219 2406 4219 \nQ 1781 4219 1451 3797 \nQ 1122 3375 1075 2522 \nQ 1259 2794 1537 2939 \nQ 1816 3084 2150 3084 \nQ 2853 3084 3261 2657 \nQ 3669 2231 3669 1497 \nQ 3669 778 3244 343 \nQ 2819 -91 2113 -91 \nQ 1303 -91 875 529 \nQ 447 1150 447 2328 \nQ 447 3434 972 4092 \nQ 1497 4750 2381 4750 \nQ 2619 4750 2861 4703 \nQ 3103 4656 3366 4563 \nz\n\" id=\"DejaVuSans-36\" transform=\"scale(0.015625)\"/>\n       </defs>\n       <use xlink:href=\"#DejaVuSans-36\"/>\n       <use x=\"63.623047\" xlink:href=\"#DejaVuSans-30\"/>\n       <use x=\"127.246094\" xlink:href=\"#DejaVuSans-30\"/>\n       <use x=\"190.869141\" xlink:href=\"#DejaVuSans-30\"/>\n       <use x=\"254.492188\" xlink:href=\"#DejaVuSans-30\"/>\n      </g>\n     </g>\n    </g>\n    <g id=\"ytick_4\">\n     <g id=\"line2d_11\">\n      <g>\n       <use style=\"stroke:#000000;stroke-width:0.8;\" x=\"66.053125\" xlink:href=\"#m0977f3e7db\" y=\"80.891038\"/>\n      </g>\n     </g>\n     <g id=\"text_12\">\n      <!-- 80000 -->\n      <g transform=\"translate(27.240625 84.690257)scale(0.1 -0.1)\">\n       <defs>\n        <path d=\"M 2034 2216 \nQ 1584 2216 1326 1975 \nQ 1069 1734 1069 1313 \nQ 1069 891 1326 650 \nQ 1584 409 2034 409 \nQ 2484 409 2743 651 \nQ 3003 894 3003 1313 \nQ 3003 1734 2745 1975 \nQ 2488 2216 2034 2216 \nz\nM 1403 2484 \nQ 997 2584 770 2862 \nQ 544 3141 544 3541 \nQ 544 4100 942 4425 \nQ 1341 4750 2034 4750 \nQ 2731 4750 3128 4425 \nQ 3525 4100 3525 3541 \nQ 3525 3141 3298 2862 \nQ 3072 2584 2669 2484 \nQ 3125 2378 3379 2068 \nQ 3634 1759 3634 1313 \nQ 3634 634 3220 271 \nQ 2806 -91 2034 -91 \nQ 1263 -91 848 271 \nQ 434 634 434 1313 \nQ 434 1759 690 2068 \nQ 947 2378 1403 2484 \nz\nM 1172 3481 \nQ 1172 3119 1398 2916 \nQ 1625 2713 2034 2713 \nQ 2441 2713 2670 2916 \nQ 2900 3119 2900 3481 \nQ 2900 3844 2670 4047 \nQ 2441 4250 2034 4250 \nQ 1625 4250 1398 4047 \nQ 1172 3844 1172 3481 \nz\n\" id=\"DejaVuSans-38\" transform=\"scale(0.015625)\"/>\n       </defs>\n       <use xlink:href=\"#DejaVuSans-38\"/>\n       <use x=\"63.623047\" xlink:href=\"#DejaVuSans-30\"/>\n       <use x=\"127.246094\" xlink:href=\"#DejaVuSans-30\"/>\n       <use x=\"190.869141\" xlink:href=\"#DejaVuSans-30\"/>\n       <use x=\"254.492188\" xlink:href=\"#DejaVuSans-30\"/>\n      </g>\n     </g>\n    </g>\n    <g id=\"ytick_5\">\n     <g id=\"line2d_12\">\n      <g>\n       <use style=\"stroke:#000000;stroke-width:0.8;\" x=\"66.053125\" xlink:href=\"#m0977f3e7db\" y=\"39.220898\"/>\n      </g>\n     </g>\n     <g id=\"text_13\">\n      <!-- 100000 -->\n      <g transform=\"translate(20.878125 43.020117)scale(0.1 -0.1)\">\n       <use xlink:href=\"#DejaVuSans-31\"/>\n       <use x=\"63.623047\" xlink:href=\"#DejaVuSans-30\"/>\n       <use x=\"127.246094\" xlink:href=\"#DejaVuSans-30\"/>\n       <use x=\"190.869141\" xlink:href=\"#DejaVuSans-30\"/>\n       <use x=\"254.492188\" xlink:href=\"#DejaVuSans-30\"/>\n       <use x=\"318.115234\" xlink:href=\"#DejaVuSans-30\"/>\n      </g>\n     </g>\n    </g>\n    <g id=\"text_14\">\n     <!-- SALARY -->\n     <g transform=\"translate(14.798438 135.136406)rotate(-90)scale(0.1 -0.1)\">\n      <defs>\n       <path d=\"M 628 4666 \nL 1259 4666 \nL 1259 531 \nL 3531 531 \nL 3531 0 \nL 628 0 \nL 628 4666 \nz\n\" id=\"DejaVuSans-4c\" transform=\"scale(0.015625)\"/>\n      </defs>\n      <use xlink:href=\"#DejaVuSans-53\"/>\n      <use x=\"65.351562\" xlink:href=\"#DejaVuSans-41\"/>\n      <use x=\"133.759766\" xlink:href=\"#DejaVuSans-4c\"/>\n      <use x=\"191.722656\" xlink:href=\"#DejaVuSans-41\"/>\n      <use x=\"260.130859\" xlink:href=\"#DejaVuSans-52\"/>\n      <use x=\"323.238281\" xlink:href=\"#DejaVuSans-59\"/>\n     </g>\n    </g>\n   </g>\n   <g id=\"line2d_13\">\n    <path clip-path=\"url(#p9cac25ccce)\" d=\"M 66.053125 179.497132 \nL 69.434943 179.376862 \nL 72.816761 179.256592 \nL 76.19858 179.136322 \nL 79.580398 179.016052 \nL 82.962216 178.895782 \nL 86.344034 178.775512 \nL 89.725852 178.655242 \nL 93.10767 178.534972 \nL 96.489489 178.414703 \nL 99.871307 178.294433 \nL 103.253125 178.174163 \nL 106.634943 178.053893 \nL 110.016761 177.933623 \nL 113.39858 177.813353 \nL 116.780398 177.693083 \nL 120.162216 177.572813 \nL 123.544034 177.452543 \nL 126.925852 177.332274 \nL 130.30767 177.212004 \nL 133.689489 177.091734 \nL 137.071307 176.971464 \nL 140.453125 176.851194 \nL 143.834943 176.730924 \nL 147.216761 176.610654 \nL 150.59858 176.490384 \nL 153.980398 176.370114 \nL 157.362216 176.249845 \nL 160.744034 176.129575 \nL 164.125852 176.009305 \nL 167.50767 175.889035 \nL 170.889489 175.768765 \nL 174.271307 175.648495 \nL 177.653125 175.528225 \nL 181.034943 175.407955 \nL 184.416761 175.287685 \nL 187.79858 175.167416 \nL 191.180398 175.047146 \nL 194.562216 174.926876 \nL 197.944034 174.806606 \nL 201.325852 174.686336 \nL 204.70767 174.566066 \nL 208.089489 174.445796 \nL 211.471307 174.325526 \nL 214.853125 174.205256 \nL 218.234943 174.084987 \nL 221.616761 173.964717 \nL 224.99858 173.844447 \nL 228.380398 173.724177 \nL 231.762216 173.603907 \nL 235.144034 173.483637 \nL 238.525852 173.363367 \nL 241.90767 173.243097 \nL 245.289489 173.122827 \nL 248.671307 173.002557 \nL 252.053125 172.882288 \nL 255.434943 172.762018 \nL 258.816761 172.641748 \nL 262.19858 172.521478 \nL 265.580398 172.401208 \nL 268.962216 172.280938 \nL 272.344034 172.160668 \nL 275.725852 172.040398 \nL 279.10767 171.920128 \nL 282.489489 171.799859 \nL 285.871307 171.679589 \nL 289.253125 171.559319 \nL 292.634943 171.439049 \nL 296.016761 171.318779 \nL 299.39858 171.198509 \nL 302.780398 171.078239 \nL 306.162216 170.957969 \nL 309.544034 170.837699 \nL 312.925852 170.71743 \nL 316.30767 170.59716 \nL 319.689489 170.47689 \nL 323.071307 170.35662 \nL 326.453125 170.23635 \nL 329.834943 170.11608 \nL 333.216761 169.99581 \nL 336.59858 169.87554 \nL 339.980398 169.75527 \nL 343.362216 169.635001 \nL 346.744034 169.514731 \nL 350.125852 169.394461 \nL 353.50767 169.274191 \nL 356.889489 169.153921 \nL 360.271307 169.033651 \nL 363.653125 168.913381 \nL 367.034943 168.793111 \nL 370.416761 168.672841 \nL 373.79858 168.552572 \nL 377.180398 168.432302 \nL 380.562216 168.312032 \nL 383.944034 168.191762 \nL 387.325852 168.071492 \nL 390.70767 167.951222 \nL 394.089489 167.830952 \nL 397.471307 167.710682 \nL 400.853125 167.590412 \n\" style=\"fill:none;stroke:#1f77b4;stroke-linecap:square;stroke-width:2.25;\"/>\n   </g>\n   <g id=\"patch_3\">\n    <path d=\"M 66.053125 224.64 \nL 66.053125 7.2 \n\" style=\"fill:none;stroke:#000000;stroke-linecap:square;stroke-linejoin:miter;stroke-width:0.8;\"/>\n   </g>\n   <g id=\"patch_4\">\n    <path d=\"M 400.853125 224.64 \nL 400.853125 7.2 \n\" style=\"fill:none;stroke:#000000;stroke-linecap:square;stroke-linejoin:miter;stroke-width:0.8;\"/>\n   </g>\n   <g id=\"patch_5\">\n    <path d=\"M 66.053125 224.64 \nL 400.853125 224.64 \n\" style=\"fill:none;stroke:#000000;stroke-linecap:square;stroke-linejoin:miter;stroke-width:0.8;\"/>\n   </g>\n   <g id=\"patch_6\">\n    <path d=\"M 66.053125 7.2 \nL 400.853125 7.2 \n\" style=\"fill:none;stroke:#000000;stroke-linecap:square;stroke-linejoin:miter;stroke-width:0.8;\"/>\n   </g>\n  </g>\n </g>\n <defs>\n  <clipPath id=\"p9cac25ccce\">\n   <rect height=\"217.44\" width=\"334.8\" x=\"66.053125\" y=\"7.2\"/>\n  </clipPath>\n </defs>\n</svg>\n",
      "image/png": "[encoded data removed]"
     },
     "metadata": {
      "needs_background": "light"
     }
    }
   ],
   "source": [
    "sns.regplot(y = y_train,x = X_train[\"SOCIODEMOGRAPHY\"])"
   ]
  },
  {
   "cell_type": "code",
   "execution_count": 15,
   "metadata": {},
   "outputs": [
    {
     "output_type": "execute_result",
     "data": {
      "text/plain": [
       "<AxesSubplot:ylabel='SALARY'>"
      ]
     },
     "metadata": {},
     "execution_count": 15
    },
    {
     "output_type": "display_data",
     "data": {
      "text/plain": "<Figure size 432x288 with 1 Axes>",
      "image/svg+xml": "<?xml version=\"1.0\" encoding=\"utf-8\" standalone=\"no\"?>\n<!DOCTYPE svg PUBLIC \"-//W3C//DTD SVG 1.1//EN\"\n  \"http://www.w3.org/Graphics/SVG/1.1/DTD/svg11.dtd\">\n<svg height=\"250.608938pt\" version=\"1.1\" viewBox=\"0 0 410.070312 250.608938\" width=\"410.070312pt\" xmlns=\"http://www.w3.org/2000/svg\" xmlns:xlink=\"http://www.w3.org/1999/xlink\">\n <metadata>\n  <rdf:RDF xmlns:cc=\"http://creativecommons.org/ns#\" xmlns:dc=\"http://purl.org/dc/elements/1.1/\" xmlns:rdf=\"http://www.w3.org/1999/02/22-rdf-syntax-ns#\">\n   <cc:Work>\n    <dc:type rdf:resource=\"http://purl.org/dc/dcmitype/StillImage\"/>\n    <dc:date>2021-06-02T23:48:25.821024</dc:date>\n    <dc:format>image/svg+xml</dc:format>\n    <dc:creator>\n     <cc:Agent>\n      <dc:title>Matplotlib v3.4.2, https://matplotlib.org/</dc:title>\n     </cc:Agent>\n    </dc:creator>\n   </cc:Work>\n  </rdf:RDF>\n </metadata>\n <defs>\n  <style type=\"text/css\">*{stroke-linecap:butt;stroke-linejoin:round;}</style>\n </defs>\n <g id=\"figure_1\">\n  <g id=\"patch_1\">\n   <path d=\"M 0 250.608938 \nL 410.070312 250.608938 \nL 410.070312 0 \nL 0 0 \nz\n\" style=\"fill:none;\"/>\n  </g>\n  <g id=\"axes_1\">\n   <g id=\"patch_2\">\n    <path d=\"M 68.070312 226.730813 \nL 402.870313 226.730813 \nL 402.870313 9.290813 \nL 68.070312 9.290813 \nz\n\" style=\"fill:#ffffff;\"/>\n   </g>\n   <g id=\"PathCollection_1\">\n    <defs>\n     <path d=\"M 0 3 \nC 0.795609 3 1.55874 2.683901 2.12132 2.12132 \nC 2.683901 1.55874 3 0.795609 3 0 \nC 3 -0.795609 2.683901 -1.55874 2.12132 -2.12132 \nC 1.55874 -2.683901 0.795609 -3 0 -3 \nC -0.795609 -3 -1.55874 -2.683901 -2.12132 -2.12132 \nC -2.683901 -1.55874 -3 -0.795609 -3 0 \nC -3 0.795609 -2.683901 1.55874 -2.12132 2.12132 \nC -1.55874 2.683901 -0.795609 3 0 3 \nz\n\" id=\"m8a4ea8c715\" style=\"stroke:#ffffff;stroke-width:0.48;\"/>\n    </defs>\n    <g clip-path=\"url(#p83fa91c880)\">\n     <use style=\"fill:#1f77b4;stroke:#ffffff;stroke-width:0.48;\" x=\"387.652131\" xlink:href=\"#m8a4ea8c715\" y=\"201.24288\"/>\n     <use style=\"fill:#1f77b4;stroke:#ffffff;stroke-width:0.48;\" x=\"286.197585\" xlink:href=\"#m8a4ea8c715\" y=\"200.715678\"/>\n     <use style=\"fill:#1f77b4;stroke:#ffffff;stroke-width:0.48;\" x=\"83.288494\" xlink:href=\"#m8a4ea8c715\" y=\"186.321764\"/>\n     <use style=\"fill:#1f77b4;stroke:#ffffff;stroke-width:0.48;\" x=\"184.74304\" xlink:href=\"#m8a4ea8c715\" y=\"104.743776\"/>\n     <use style=\"fill:#1f77b4;stroke:#ffffff;stroke-width:0.48;\" x=\"184.74304\" xlink:href=\"#m8a4ea8c715\" y=\"86.389026\"/>\n     <use style=\"fill:#1f77b4;stroke:#ffffff;stroke-width:0.48;\" x=\"387.652131\" xlink:href=\"#m8a4ea8c715\" y=\"200.001996\"/>\n     <use style=\"fill:#1f77b4;stroke:#ffffff;stroke-width:0.48;\" x=\"83.288494\" xlink:href=\"#m8a4ea8c715\" y=\"210.519012\"/>\n     <use style=\"fill:#1f77b4;stroke:#ffffff;stroke-width:0.48;\" x=\"184.74304\" xlink:href=\"#m8a4ea8c715\" y=\"179.40366\"/>\n     <use style=\"fill:#1f77b4;stroke:#ffffff;stroke-width:0.48;\" x=\"286.197585\" xlink:href=\"#m8a4ea8c715\" y=\"209.71209\"/>\n     <use style=\"fill:#1f77b4;stroke:#ffffff;stroke-width:0.48;\" x=\"387.652131\" xlink:href=\"#m8a4ea8c715\" y=\"191.005583\"/>\n     <use style=\"fill:#1f77b4;stroke:#ffffff;stroke-width:0.48;\" x=\"184.74304\" xlink:href=\"#m8a4ea8c715\" y=\"188.710293\"/>\n     <use style=\"fill:#1f77b4;stroke:#ffffff;stroke-width:0.48;\" x=\"184.74304\" xlink:href=\"#m8a4ea8c715\" y=\"194.604495\"/>\n     <use style=\"fill:#1f77b4;stroke:#ffffff;stroke-width:0.48;\" x=\"184.74304\" xlink:href=\"#m8a4ea8c715\" y=\"163.582382\"/>\n     <use style=\"fill:#1f77b4;stroke:#ffffff;stroke-width:0.48;\" x=\"83.288494\" xlink:href=\"#m8a4ea8c715\" y=\"173.912919\"/>\n     <use style=\"fill:#1f77b4;stroke:#ffffff;stroke-width:0.48;\" x=\"184.74304\" xlink:href=\"#m8a4ea8c715\" y=\"57.693572\"/>\n     <use style=\"fill:#1f77b4;stroke:#ffffff;stroke-width:0.48;\" x=\"83.288494\" xlink:href=\"#m8a4ea8c715\" y=\"191.905744\"/>\n     <use style=\"fill:#1f77b4;stroke:#ffffff;stroke-width:0.48;\" x=\"83.288494\" xlink:href=\"#m8a4ea8c715\" y=\"200.902157\"/>\n     <use style=\"fill:#1f77b4;stroke:#ffffff;stroke-width:0.48;\" x=\"184.74304\" xlink:href=\"#m8a4ea8c715\" y=\"165.133488\"/>\n     <use style=\"fill:#1f77b4;stroke:#ffffff;stroke-width:0.48;\" x=\"184.74304\" xlink:href=\"#m8a4ea8c715\" y=\"122.58149\"/>\n     <use style=\"fill:#1f77b4;stroke:#ffffff;stroke-width:0.48;\" x=\"286.197585\" xlink:href=\"#m8a4ea8c715\" y=\"196.993024\"/>\n     <use style=\"fill:#1f77b4;stroke:#ffffff;stroke-width:0.48;\" x=\"83.288494\" xlink:href=\"#m8a4ea8c715\" y=\"126.655901\"/>\n     <use style=\"fill:#1f77b4;stroke:#ffffff;stroke-width:0.48;\" x=\"184.74304\" xlink:href=\"#m8a4ea8c715\" y=\"175.060564\"/>\n     <use style=\"fill:#1f77b4;stroke:#ffffff;stroke-width:0.48;\" x=\"83.288494\" xlink:href=\"#m8a4ea8c715\" y=\"195.938619\"/>\n     <use style=\"fill:#1f77b4;stroke:#ffffff;stroke-width:0.48;\" x=\"184.74304\" xlink:href=\"#m8a4ea8c715\" y=\"101.383047\"/>\n     <use style=\"fill:#1f77b4;stroke:#ffffff;stroke-width:0.48;\" x=\"184.74304\" xlink:href=\"#m8a4ea8c715\" y=\"185.918303\"/>\n     <use style=\"fill:#1f77b4;stroke:#ffffff;stroke-width:0.48;\" x=\"387.652131\" xlink:href=\"#m8a4ea8c715\" y=\"181.388729\"/>\n     <use style=\"fill:#1f77b4;stroke:#ffffff;stroke-width:0.48;\" x=\"184.74304\" xlink:href=\"#m8a4ea8c715\" y=\"108.363022\"/>\n     <use style=\"fill:#1f77b4;stroke:#ffffff;stroke-width:0.48;\" x=\"286.197585\" xlink:href=\"#m8a4ea8c715\" y=\"201.33612\"/>\n     <use style=\"fill:#1f77b4;stroke:#ffffff;stroke-width:0.48;\" x=\"83.288494\" xlink:href=\"#m8a4ea8c715\" y=\"198.730609\"/>\n     <use style=\"fill:#1f77b4;stroke:#ffffff;stroke-width:0.48;\" x=\"184.74304\" xlink:href=\"#m8a4ea8c715\" y=\"47.352868\"/>\n     <use style=\"fill:#1f77b4;stroke:#ffffff;stroke-width:0.48;\" x=\"83.288494\" xlink:href=\"#m8a4ea8c715\" y=\"183.839995\"/>\n     <use style=\"fill:#1f77b4;stroke:#ffffff;stroke-width:0.48;\" x=\"184.74304\" xlink:href=\"#m8a4ea8c715\" y=\"194.294274\"/>\n     <use style=\"fill:#1f77b4;stroke:#ffffff;stroke-width:0.48;\" x=\"83.288494\" xlink:href=\"#m8a4ea8c715\" y=\"172.672034\"/>\n     <use style=\"fill:#1f77b4;stroke:#ffffff;stroke-width:0.48;\" x=\"83.288494\" xlink:href=\"#m8a4ea8c715\" y=\"178.876457\"/>\n     <use style=\"fill:#1f77b4;stroke:#ffffff;stroke-width:0.48;\" x=\"83.288494\" xlink:href=\"#m8a4ea8c715\" y=\"172.051592\"/>\n     <use style=\"fill:#1f77b4;stroke:#ffffff;stroke-width:0.48;\" x=\"387.652131\" xlink:href=\"#m8a4ea8c715\" y=\"200.622438\"/>\n     <use style=\"fill:#1f77b4;stroke:#ffffff;stroke-width:0.48;\" x=\"286.197585\" xlink:href=\"#m8a4ea8c715\" y=\"200.095235\"/>\n     <use style=\"fill:#1f77b4;stroke:#ffffff;stroke-width:0.48;\" x=\"83.288494\" xlink:href=\"#m8a4ea8c715\" y=\"183.839995\"/>\n     <use style=\"fill:#1f77b4;stroke:#ffffff;stroke-width:0.48;\" x=\"184.74304\" xlink:href=\"#m8a4ea8c715\" y=\"184.056977\"/>\n     <use style=\"fill:#1f77b4;stroke:#ffffff;stroke-width:0.48;\" x=\"83.288494\" xlink:href=\"#m8a4ea8c715\" y=\"181.978668\"/>\n     <use style=\"fill:#1f77b4;stroke:#ffffff;stroke-width:0.48;\" x=\"83.288494\" xlink:href=\"#m8a4ea8c715\" y=\"176.704909\"/>\n     <use style=\"fill:#1f77b4;stroke:#ffffff;stroke-width:0.48;\" x=\"387.652131\" xlink:href=\"#m8a4ea8c715\" y=\"194.728237\"/>\n     <use style=\"fill:#1f77b4;stroke:#ffffff;stroke-width:0.48;\" x=\"387.652131\" xlink:href=\"#m8a4ea8c715\" y=\"49.027715\"/>\n     <use style=\"fill:#1f77b4;stroke:#ffffff;stroke-width:0.48;\" x=\"184.74304\" xlink:href=\"#m8a4ea8c715\" y=\"166.684594\"/>\n     <use style=\"fill:#1f77b4;stroke:#ffffff;stroke-width:0.48;\" x=\"83.288494\" xlink:href=\"#m8a4ea8c715\" y=\"199.971493\"/>\n     <use style=\"fill:#1f77b4;stroke:#ffffff;stroke-width:0.48;\" x=\"286.197585\" xlink:href=\"#m8a4ea8c715\" y=\"216.847176\"/>\n     <use style=\"fill:#1f77b4;stroke:#ffffff;stroke-width:0.48;\" x=\"184.74304\" xlink:href=\"#m8a4ea8c715\" y=\"164.823267\"/>\n     <use style=\"fill:#1f77b4;stroke:#ffffff;stroke-width:0.48;\" x=\"184.74304\" xlink:href=\"#m8a4ea8c715\" y=\"184.367198\"/>\n     <use style=\"fill:#1f77b4;stroke:#ffffff;stroke-width:0.48;\" x=\"83.288494\" xlink:href=\"#m8a4ea8c715\" y=\"197.489724\"/>\n     <use style=\"fill:#1f77b4;stroke:#ffffff;stroke-width:0.48;\" x=\"184.74304\" xlink:href=\"#m8a4ea8c715\" y=\"175.991227\"/>\n     <use style=\"fill:#1f77b4;stroke:#ffffff;stroke-width:0.48;\" x=\"83.288494\" xlink:href=\"#m8a4ea8c715\" y=\"176.084467\"/>\n     <use style=\"fill:#1f77b4;stroke:#ffffff;stroke-width:0.48;\" x=\"184.74304\" xlink:href=\"#m8a4ea8c715\" y=\"175.060564\"/>\n     <use style=\"fill:#1f77b4;stroke:#ffffff;stroke-width:0.48;\" x=\"184.74304\" xlink:href=\"#m8a4ea8c715\" y=\"105.777846\"/>\n     <use style=\"fill:#1f77b4;stroke:#ffffff;stroke-width:0.48;\" x=\"83.288494\" xlink:href=\"#m8a4ea8c715\" y=\"203.073705\"/>\n     <use style=\"fill:#1f77b4;stroke:#ffffff;stroke-width:0.48;\" x=\"83.288494\" xlink:href=\"#m8a4ea8c715\" y=\"196.24884\"/>\n     <use style=\"fill:#1f77b4;stroke:#ffffff;stroke-width:0.48;\" x=\"184.74304\" xlink:href=\"#m8a4ea8c715\" y=\"149.622432\"/>\n     <use style=\"fill:#1f77b4;stroke:#ffffff;stroke-width:0.48;\" x=\"184.74304\" xlink:href=\"#m8a4ea8c715\" y=\"134.421597\"/>\n     <use style=\"fill:#1f77b4;stroke:#ffffff;stroke-width:0.48;\" x=\"286.197585\" xlink:href=\"#m8a4ea8c715\" y=\"196.993024\"/>\n     <use style=\"fill:#1f77b4;stroke:#ffffff;stroke-width:0.48;\" x=\"387.652131\" xlink:href=\"#m8a4ea8c715\" y=\"201.553102\"/>\n     <use style=\"fill:#1f77b4;stroke:#ffffff;stroke-width:0.48;\" x=\"184.74304\" xlink:href=\"#m8a4ea8c715\" y=\"130.078501\"/>\n     <use style=\"fill:#1f77b4;stroke:#ffffff;stroke-width:0.48;\" x=\"184.74304\" xlink:href=\"#m8a4ea8c715\" y=\"105.777846\"/>\n     <use style=\"fill:#1f77b4;stroke:#ffffff;stroke-width:0.48;\" x=\"286.197585\" xlink:href=\"#m8a4ea8c715\" y=\"200.715678\"/>\n     <use style=\"fill:#1f77b4;stroke:#ffffff;stroke-width:0.48;\" x=\"83.288494\" xlink:href=\"#m8a4ea8c715\" y=\"190.975081\"/>\n     <use style=\"fill:#1f77b4;stroke:#ffffff;stroke-width:0.48;\" x=\"184.74304\" xlink:href=\"#m8a4ea8c715\" y=\"186.228524\"/>\n     <use style=\"fill:#1f77b4;stroke:#ffffff;stroke-width:0.48;\" x=\"83.288494\" xlink:href=\"#m8a4ea8c715\" y=\"194.077292\"/>\n     <use style=\"fill:#1f77b4;stroke:#ffffff;stroke-width:0.48;\" x=\"83.288494\" xlink:href=\"#m8a4ea8c715\" y=\"195.318177\"/>\n     <use style=\"fill:#1f77b4;stroke:#ffffff;stroke-width:0.48;\" x=\"83.288494\" xlink:href=\"#m8a4ea8c715\" y=\"200.902157\"/>\n     <use style=\"fill:#1f77b4;stroke:#ffffff;stroke-width:0.48;\" x=\"184.74304\" xlink:href=\"#m8a4ea8c715\" y=\"190.881841\"/>\n     <use style=\"fill:#1f77b4;stroke:#ffffff;stroke-width:0.48;\" x=\"387.652131\" xlink:href=\"#m8a4ea8c715\" y=\"206.206418\"/>\n     <use style=\"fill:#1f77b4;stroke:#ffffff;stroke-width:0.48;\" x=\"387.652131\" xlink:href=\"#m8a4ea8c715\" y=\"201.553102\"/>\n     <use style=\"fill:#1f77b4;stroke:#ffffff;stroke-width:0.48;\" x=\"184.74304\" xlink:href=\"#m8a4ea8c715\" y=\"121.288902\"/>\n     <use style=\"fill:#1f77b4;stroke:#ffffff;stroke-width:0.48;\" x=\"83.288494\" xlink:href=\"#m8a4ea8c715\" y=\"202.763484\"/>\n     <use style=\"fill:#1f77b4;stroke:#ffffff;stroke-width:0.48;\" x=\"83.288494\" xlink:href=\"#m8a4ea8c715\" y=\"170.500487\"/>\n     <use style=\"fill:#1f77b4;stroke:#ffffff;stroke-width:0.48;\" x=\"83.288494\" xlink:href=\"#m8a4ea8c715\" y=\"165.84717\"/>\n     <use style=\"fill:#1f77b4;stroke:#ffffff;stroke-width:0.48;\" x=\"286.197585\" xlink:href=\"#m8a4ea8c715\" y=\"216.536955\"/>\n     <use style=\"fill:#1f77b4;stroke:#ffffff;stroke-width:0.48;\" x=\"286.197585\" xlink:href=\"#m8a4ea8c715\" y=\"211.263196\"/>\n     <use style=\"fill:#1f77b4;stroke:#ffffff;stroke-width:0.48;\" x=\"184.74304\" xlink:href=\"#m8a4ea8c715\" y=\"191.502284\"/>\n     <use style=\"fill:#1f77b4;stroke:#ffffff;stroke-width:0.48;\" x=\"83.288494\" xlink:href=\"#m8a4ea8c715\" y=\"172.672034\"/>\n     <use style=\"fill:#1f77b4;stroke:#ffffff;stroke-width:0.48;\" x=\"184.74304\" xlink:href=\"#m8a4ea8c715\" y=\"141.970311\"/>\n     <use style=\"fill:#1f77b4;stroke:#ffffff;stroke-width:0.48;\" x=\"184.74304\" xlink:href=\"#m8a4ea8c715\" y=\"162.96194\"/>\n     <use style=\"fill:#1f77b4;stroke:#ffffff;stroke-width:0.48;\" x=\"387.652131\" xlink:href=\"#m8a4ea8c715\" y=\"203.104207\"/>\n     <use style=\"fill:#1f77b4;stroke:#ffffff;stroke-width:0.48;\" x=\"184.74304\" xlink:href=\"#m8a4ea8c715\" y=\"193.673831\"/>\n     <use style=\"fill:#1f77b4;stroke:#ffffff;stroke-width:0.48;\" x=\"83.288494\" xlink:href=\"#m8a4ea8c715\" y=\"193.146629\"/>\n     <use style=\"fill:#1f77b4;stroke:#ffffff;stroke-width:0.48;\" x=\"83.288494\" xlink:href=\"#m8a4ea8c715\" y=\"175.153803\"/>\n     <use style=\"fill:#1f77b4;stroke:#ffffff;stroke-width:0.48;\" x=\"83.288494\" xlink:href=\"#m8a4ea8c715\" y=\"192.526186\"/>\n     <use style=\"fill:#1f77b4;stroke:#ffffff;stroke-width:0.48;\" x=\"184.74304\" xlink:href=\"#m8a4ea8c715\" y=\"131.112571\"/>\n     <use style=\"fill:#1f77b4;stroke:#ffffff;stroke-width:0.48;\" x=\"286.197585\" xlink:href=\"#m8a4ea8c715\" y=\"206.299658\"/>\n     <use style=\"fill:#1f77b4;stroke:#ffffff;stroke-width:0.48;\" x=\"83.288494\" xlink:href=\"#m8a4ea8c715\" y=\"198.110167\"/>\n     <use style=\"fill:#1f77b4;stroke:#ffffff;stroke-width:0.48;\" x=\"184.74304\" xlink:href=\"#m8a4ea8c715\" y=\"177.852554\"/>\n     <use style=\"fill:#1f77b4;stroke:#ffffff;stroke-width:0.48;\" x=\"83.288494\" xlink:href=\"#m8a4ea8c715\" y=\"196.559061\"/>\n     <use style=\"fill:#1f77b4;stroke:#ffffff;stroke-width:0.48;\" x=\"387.652131\" xlink:href=\"#m8a4ea8c715\" y=\"189.764699\"/>\n     <use style=\"fill:#1f77b4;stroke:#ffffff;stroke-width:0.48;\" x=\"387.652131\" xlink:href=\"#m8a4ea8c715\" y=\"93.492743\"/>\n     <use style=\"fill:#1f77b4;stroke:#ffffff;stroke-width:0.48;\" x=\"184.74304\" xlink:href=\"#m8a4ea8c715\" y=\"79.926086\"/>\n     <use style=\"fill:#1f77b4;stroke:#ffffff;stroke-width:0.48;\" x=\"83.288494\" xlink:href=\"#m8a4ea8c715\" y=\"170.190265\"/>\n     <use style=\"fill:#1f77b4;stroke:#ffffff;stroke-width:0.48;\" x=\"83.288494\" xlink:href=\"#m8a4ea8c715\" y=\"195.628398\"/>\n     <use style=\"fill:#1f77b4;stroke:#ffffff;stroke-width:0.48;\" x=\"184.74304\" xlink:href=\"#m8a4ea8c715\" y=\"82.511262\"/>\n     <use style=\"fill:#1f77b4;stroke:#ffffff;stroke-width:0.48;\" x=\"83.288494\" xlink:href=\"#m8a4ea8c715\" y=\"164.296064\"/>\n     <use style=\"fill:#1f77b4;stroke:#ffffff;stroke-width:0.48;\" x=\"83.288494\" xlink:href=\"#m8a4ea8c715\" y=\"178.566236\"/>\n     <use style=\"fill:#1f77b4;stroke:#ffffff;stroke-width:0.48;\" x=\"83.288494\" xlink:href=\"#m8a4ea8c715\" y=\"188.803533\"/>\n     <use style=\"fill:#1f77b4;stroke:#ffffff;stroke-width:0.48;\" x=\"83.288494\" xlink:href=\"#m8a4ea8c715\" y=\"183.529774\"/>\n     <use style=\"fill:#1f77b4;stroke:#ffffff;stroke-width:0.48;\" x=\"83.288494\" xlink:href=\"#m8a4ea8c715\" y=\"197.179503\"/>\n     <use style=\"fill:#1f77b4;stroke:#ffffff;stroke-width:0.48;\" x=\"184.74304\" xlink:href=\"#m8a4ea8c715\" y=\"178.162775\"/>\n     <use style=\"fill:#1f77b4;stroke:#ffffff;stroke-width:0.48;\" x=\"286.197585\" xlink:href=\"#m8a4ea8c715\" y=\"202.266783\"/>\n     <use style=\"fill:#1f77b4;stroke:#ffffff;stroke-width:0.48;\" x=\"83.288494\" xlink:href=\"#m8a4ea8c715\" y=\"198.110167\"/>\n     <use style=\"fill:#1f77b4;stroke:#ffffff;stroke-width:0.48;\" x=\"83.288494\" xlink:href=\"#m8a4ea8c715\" y=\"154.058767\"/>\n     <use style=\"fill:#1f77b4;stroke:#ffffff;stroke-width:0.48;\" x=\"83.288494\" xlink:href=\"#m8a4ea8c715\" y=\"195.628398\"/>\n     <use style=\"fill:#1f77b4;stroke:#ffffff;stroke-width:0.48;\" x=\"83.288494\" xlink:href=\"#m8a4ea8c715\" y=\"131.567736\"/>\n     <use style=\"fill:#1f77b4;stroke:#ffffff;stroke-width:0.48;\" x=\"387.652131\" xlink:href=\"#m8a4ea8c715\" y=\"200.622438\"/>\n     <use style=\"fill:#1f77b4;stroke:#ffffff;stroke-width:0.48;\" x=\"286.197585\" xlink:href=\"#m8a4ea8c715\" y=\"201.646341\"/>\n     <use style=\"fill:#1f77b4;stroke:#ffffff;stroke-width:0.48;\" x=\"184.74304\" xlink:href=\"#m8a4ea8c715\" y=\"182.505871\"/>\n     <use style=\"fill:#1f77b4;stroke:#ffffff;stroke-width:0.48;\" x=\"184.74304\" xlink:href=\"#m8a4ea8c715\" y=\"98.022318\"/>\n     <use style=\"fill:#1f77b4;stroke:#ffffff;stroke-width:0.48;\" x=\"184.74304\" xlink:href=\"#m8a4ea8c715\" y=\"187.159188\"/>\n     <use style=\"fill:#1f77b4;stroke:#ffffff;stroke-width:0.48;\" x=\"184.74304\" xlink:href=\"#m8a4ea8c715\" y=\"195.535158\"/>\n     <use style=\"fill:#1f77b4;stroke:#ffffff;stroke-width:0.48;\" x=\"387.652131\" xlink:href=\"#m8a4ea8c715\" y=\"192.246468\"/>\n     <use style=\"fill:#1f77b4;stroke:#ffffff;stroke-width:0.48;\" x=\"83.288494\" xlink:href=\"#m8a4ea8c715\" y=\"196.24884\"/>\n     <use style=\"fill:#1f77b4;stroke:#ffffff;stroke-width:0.48;\" x=\"286.197585\" xlink:href=\"#m8a4ea8c715\" y=\"200.095235\"/>\n     <use style=\"fill:#1f77b4;stroke:#ffffff;stroke-width:0.48;\" x=\"184.74304\" xlink:href=\"#m8a4ea8c715\" y=\"133.180712\"/>\n     <use style=\"fill:#1f77b4;stroke:#ffffff;stroke-width:0.48;\" x=\"286.197585\" xlink:href=\"#m8a4ea8c715\" y=\"211.263196\"/>\n     <use style=\"fill:#1f77b4;stroke:#ffffff;stroke-width:0.48;\" x=\"184.74304\" xlink:href=\"#m8a4ea8c715\" y=\"191.192062\"/>\n     <use style=\"fill:#1f77b4;stroke:#ffffff;stroke-width:0.48;\" x=\"83.288494\" xlink:href=\"#m8a4ea8c715\" y=\"189.423975\"/>\n     <use style=\"fill:#1f77b4;stroke:#ffffff;stroke-width:0.48;\" x=\"184.74304\" xlink:href=\"#m8a4ea8c715\" y=\"154.379156\"/>\n     <use style=\"fill:#1f77b4;stroke:#ffffff;stroke-width:0.48;\" x=\"83.288494\" xlink:href=\"#m8a4ea8c715\" y=\"203.383926\"/>\n     <use style=\"fill:#1f77b4;stroke:#ffffff;stroke-width:0.48;\" x=\"184.74304\" xlink:href=\"#m8a4ea8c715\" y=\"164.823267\"/>\n     <use style=\"fill:#1f77b4;stroke:#ffffff;stroke-width:0.48;\" x=\"184.74304\" xlink:href=\"#m8a4ea8c715\" y=\"181.885429\"/>\n     <use style=\"fill:#1f77b4;stroke:#ffffff;stroke-width:0.48;\" x=\"83.288494\" xlink:href=\"#m8a4ea8c715\" y=\"201.212378\"/>\n     <use style=\"fill:#1f77b4;stroke:#ffffff;stroke-width:0.48;\" x=\"83.288494\" xlink:href=\"#m8a4ea8c715\" y=\"166.157391\"/>\n     <use style=\"fill:#1f77b4;stroke:#ffffff;stroke-width:0.48;\" x=\"83.288494\" xlink:href=\"#m8a4ea8c715\" y=\"199.351051\"/>\n     <use style=\"fill:#1f77b4;stroke:#ffffff;stroke-width:0.48;\" x=\"184.74304\" xlink:href=\"#m8a4ea8c715\" y=\"107.070434\"/>\n     <use style=\"fill:#1f77b4;stroke:#ffffff;stroke-width:0.48;\" x=\"387.652131\" xlink:href=\"#m8a4ea8c715\" y=\"206.826861\"/>\n     <use style=\"fill:#1f77b4;stroke:#ffffff;stroke-width:0.48;\" x=\"184.74304\" xlink:href=\"#m8a4ea8c715\" y=\"33.909952\"/>\n     <use style=\"fill:#1f77b4;stroke:#ffffff;stroke-width:0.48;\" x=\"286.197585\" xlink:href=\"#m8a4ea8c715\" y=\"207.540542\"/>\n     <use style=\"fill:#1f77b4;stroke:#ffffff;stroke-width:0.48;\" x=\"83.288494\" xlink:href=\"#m8a4ea8c715\" y=\"211.139454\"/>\n     <use style=\"fill:#1f77b4;stroke:#ffffff;stroke-width:0.48;\" x=\"387.652131\" xlink:href=\"#m8a4ea8c715\" y=\"172.702537\"/>\n     <use style=\"fill:#1f77b4;stroke:#ffffff;stroke-width:0.48;\" x=\"387.652131\" xlink:href=\"#m8a4ea8c715\" y=\"200.932659\"/>\n     <use style=\"fill:#1f77b4;stroke:#ffffff;stroke-width:0.48;\" x=\"184.74304\" xlink:href=\"#m8a4ea8c715\" y=\"164.823267\"/>\n     <use style=\"fill:#1f77b4;stroke:#ffffff;stroke-width:0.48;\" x=\"387.652131\" xlink:href=\"#m8a4ea8c715\" y=\"200.622438\"/>\n     <use style=\"fill:#1f77b4;stroke:#ffffff;stroke-width:0.48;\" x=\"184.74304\" xlink:href=\"#m8a4ea8c715\" y=\"160.480171\"/>\n     <use style=\"fill:#1f77b4;stroke:#ffffff;stroke-width:0.48;\" x=\"83.288494\" xlink:href=\"#m8a4ea8c715\" y=\"202.453262\"/>\n     <use style=\"fill:#1f77b4;stroke:#ffffff;stroke-width:0.48;\" x=\"387.652131\" xlink:href=\"#m8a4ea8c715\" y=\"191.936247\"/>\n     <use style=\"fill:#1f77b4;stroke:#ffffff;stroke-width:0.48;\" x=\"184.74304\" xlink:href=\"#m8a4ea8c715\" y=\"192.432947\"/>\n     <use style=\"fill:#1f77b4;stroke:#ffffff;stroke-width:0.48;\" x=\"184.74304\" xlink:href=\"#m8a4ea8c715\" y=\"155.154708\"/>\n     <use style=\"fill:#1f77b4;stroke:#ffffff;stroke-width:0.48;\" x=\"286.197585\" xlink:href=\"#m8a4ea8c715\" y=\"207.850764\"/>\n     <use style=\"fill:#1f77b4;stroke:#ffffff;stroke-width:0.48;\" x=\"184.74304\" xlink:href=\"#m8a4ea8c715\" y=\"203.911129\"/>\n     <use style=\"fill:#1f77b4;stroke:#ffffff;stroke-width:0.48;\" x=\"83.288494\" xlink:href=\"#m8a4ea8c715\" y=\"205.245253\"/>\n     <use style=\"fill:#1f77b4;stroke:#ffffff;stroke-width:0.48;\" x=\"286.197585\" xlink:href=\"#m8a4ea8c715\" y=\"195.75214\"/>\n     <use style=\"fill:#1f77b4;stroke:#ffffff;stroke-width:0.48;\" x=\"83.288494\" xlink:href=\"#m8a4ea8c715\" y=\"194.387513\"/>\n     <use style=\"fill:#1f77b4;stroke:#ffffff;stroke-width:0.48;\" x=\"184.74304\" xlink:href=\"#m8a4ea8c715\" y=\"157.688181\"/>\n     <use style=\"fill:#1f77b4;stroke:#ffffff;stroke-width:0.48;\" x=\"83.288494\" xlink:href=\"#m8a4ea8c715\" y=\"185.701322\"/>\n     <use style=\"fill:#1f77b4;stroke:#ffffff;stroke-width:0.48;\" x=\"184.74304\" xlink:href=\"#m8a4ea8c715\" y=\"139.074914\"/>\n     <use style=\"fill:#1f77b4;stroke:#ffffff;stroke-width:0.48;\" x=\"286.197585\" xlink:href=\"#m8a4ea8c715\" y=\"194.511255\"/>\n     <use style=\"fill:#1f77b4;stroke:#ffffff;stroke-width:0.48;\" x=\"83.288494\" xlink:href=\"#m8a4ea8c715\" y=\"168.328939\"/>\n     <use style=\"fill:#1f77b4;stroke:#ffffff;stroke-width:0.48;\" x=\"184.74304\" xlink:href=\"#m8a4ea8c715\" y=\"181.575208\"/>\n     <use style=\"fill:#1f77b4;stroke:#ffffff;stroke-width:0.48;\" x=\"184.74304\" xlink:href=\"#m8a4ea8c715\" y=\"143.418009\"/>\n     <use style=\"fill:#1f77b4;stroke:#ffffff;stroke-width:0.48;\" x=\"184.74304\" xlink:href=\"#m8a4ea8c715\" y=\"185.918303\"/>\n     <use style=\"fill:#1f77b4;stroke:#ffffff;stroke-width:0.48;\" x=\"83.288494\" xlink:href=\"#m8a4ea8c715\" y=\"194.697734\"/>\n     <use style=\"fill:#1f77b4;stroke:#ffffff;stroke-width:0.48;\" x=\"184.74304\" xlink:href=\"#m8a4ea8c715\" y=\"150.242874\"/>\n     <use style=\"fill:#1f77b4;stroke:#ffffff;stroke-width:0.48;\" x=\"83.288494\" xlink:href=\"#m8a4ea8c715\" y=\"208.967906\"/>\n     <use style=\"fill:#1f77b4;stroke:#ffffff;stroke-width:0.48;\" x=\"184.74304\" xlink:href=\"#m8a4ea8c715\" y=\"184.056977\"/>\n     <use style=\"fill:#1f77b4;stroke:#ffffff;stroke-width:0.48;\" x=\"83.288494\" xlink:href=\"#m8a4ea8c715\" y=\"191.285302\"/>\n     <use style=\"fill:#1f77b4;stroke:#ffffff;stroke-width:0.48;\" x=\"184.74304\" xlink:href=\"#m8a4ea8c715\" y=\"126.459254\"/>\n     <use style=\"fill:#1f77b4;stroke:#ffffff;stroke-width:0.48;\" x=\"83.288494\" xlink:href=\"#m8a4ea8c715\" y=\"188.803533\"/>\n     <use style=\"fill:#1f77b4;stroke:#ffffff;stroke-width:0.48;\" x=\"184.74304\" xlink:href=\"#m8a4ea8c715\" y=\"191.192062\"/>\n     <use style=\"fill:#1f77b4;stroke:#ffffff;stroke-width:0.48;\" x=\"83.288494\" xlink:href=\"#m8a4ea8c715\" y=\"190.975081\"/>\n     <use style=\"fill:#1f77b4;stroke:#ffffff;stroke-width:0.48;\" x=\"83.288494\" xlink:href=\"#m8a4ea8c715\" y=\"196.559061\"/>\n     <use style=\"fill:#1f77b4;stroke:#ffffff;stroke-width:0.48;\" x=\"184.74304\" xlink:href=\"#m8a4ea8c715\" y=\"185.297861\"/>\n     <use style=\"fill:#1f77b4;stroke:#ffffff;stroke-width:0.48;\" x=\"83.288494\" xlink:href=\"#m8a4ea8c715\" y=\"183.219553\"/>\n     <use style=\"fill:#1f77b4;stroke:#ffffff;stroke-width:0.48;\" x=\"83.288494\" xlink:href=\"#m8a4ea8c715\" y=\"186.321764\"/>\n     <use style=\"fill:#1f77b4;stroke:#ffffff;stroke-width:0.48;\" x=\"83.288494\" xlink:href=\"#m8a4ea8c715\" y=\"200.902157\"/>\n     <use style=\"fill:#1f77b4;stroke:#ffffff;stroke-width:0.48;\" x=\"83.288494\" xlink:href=\"#m8a4ea8c715\" y=\"192.836408\"/>\n     <use style=\"fill:#1f77b4;stroke:#ffffff;stroke-width:0.48;\" x=\"184.74304\" xlink:href=\"#m8a4ea8c715\" y=\"191.502284\"/>\n     <use style=\"fill:#1f77b4;stroke:#ffffff;stroke-width:0.48;\" x=\"83.288494\" xlink:href=\"#m8a4ea8c715\" y=\"191.285302\"/>\n     <use style=\"fill:#1f77b4;stroke:#ffffff;stroke-width:0.48;\" x=\"184.74304\" xlink:href=\"#m8a4ea8c715\" y=\"152.82805\"/>\n     <use style=\"fill:#1f77b4;stroke:#ffffff;stroke-width:0.48;\" x=\"83.288494\" xlink:href=\"#m8a4ea8c715\" y=\"203.383926\"/>\n     <use style=\"fill:#1f77b4;stroke:#ffffff;stroke-width:0.48;\" x=\"184.74304\" xlink:href=\"#m8a4ea8c715\" y=\"195.535158\"/>\n     <use style=\"fill:#1f77b4;stroke:#ffffff;stroke-width:0.48;\" x=\"184.74304\" xlink:href=\"#m8a4ea8c715\" y=\"109.65561\"/>\n     <use style=\"fill:#1f77b4;stroke:#ffffff;stroke-width:0.48;\" x=\"83.288494\" xlink:href=\"#m8a4ea8c715\" y=\"210.519012\"/>\n     <use style=\"fill:#1f77b4;stroke:#ffffff;stroke-width:0.48;\" x=\"83.288494\" xlink:href=\"#m8a4ea8c715\" y=\"191.905744\"/>\n     <use style=\"fill:#1f77b4;stroke:#ffffff;stroke-width:0.48;\" x=\"184.74304\" xlink:href=\"#m8a4ea8c715\" y=\"193.673831\"/>\n     <use style=\"fill:#1f77b4;stroke:#ffffff;stroke-width:0.48;\" x=\"83.288494\" xlink:href=\"#m8a4ea8c715\" y=\"199.661272\"/>\n     <use style=\"fill:#1f77b4;stroke:#ffffff;stroke-width:0.48;\" x=\"286.197585\" xlink:href=\"#m8a4ea8c715\" y=\"197.303245\"/>\n     <use style=\"fill:#1f77b4;stroke:#ffffff;stroke-width:0.48;\" x=\"286.197585\" xlink:href=\"#m8a4ea8c715\" y=\"203.197447\"/>\n     <use style=\"fill:#1f77b4;stroke:#ffffff;stroke-width:0.48;\" x=\"83.288494\" xlink:href=\"#m8a4ea8c715\" y=\"198.730609\"/>\n     <use style=\"fill:#1f77b4;stroke:#ffffff;stroke-width:0.48;\" x=\"184.74304\" xlink:href=\"#m8a4ea8c715\" y=\"125.166666\"/>\n     <use style=\"fill:#1f77b4;stroke:#ffffff;stroke-width:0.48;\" x=\"387.652131\" xlink:href=\"#m8a4ea8c715\" y=\"203.724649\"/>\n     <use style=\"fill:#1f77b4;stroke:#ffffff;stroke-width:0.48;\" x=\"184.74304\" xlink:href=\"#m8a4ea8c715\" y=\"92.851966\"/>\n     <use style=\"fill:#1f77b4;stroke:#ffffff;stroke-width:0.48;\" x=\"83.288494\" xlink:href=\"#m8a4ea8c715\" y=\"181.358226\"/>\n     <use style=\"fill:#1f77b4;stroke:#ffffff;stroke-width:0.48;\" x=\"286.197585\" xlink:href=\"#m8a4ea8c715\" y=\"204.12811\"/>\n     <use style=\"fill:#1f77b4;stroke:#ffffff;stroke-width:0.48;\" x=\"286.197585\" xlink:href=\"#m8a4ea8c715\" y=\"208.160985\"/>\n     <use style=\"fill:#1f77b4;stroke:#ffffff;stroke-width:0.48;\" x=\"184.74304\" xlink:href=\"#m8a4ea8c715\" y=\"190.57162\"/>\n     <use style=\"fill:#1f77b4;stroke:#ffffff;stroke-width:0.48;\" x=\"184.74304\" xlink:href=\"#m8a4ea8c715\" y=\"158.184535\"/>\n     <use style=\"fill:#1f77b4;stroke:#ffffff;stroke-width:0.48;\" x=\"184.74304\" xlink:href=\"#m8a4ea8c715\" y=\"194.294274\"/>\n     <use style=\"fill:#1f77b4;stroke:#ffffff;stroke-width:0.48;\" x=\"184.74304\" xlink:href=\"#m8a4ea8c715\" y=\"187.469409\"/>\n     <use style=\"fill:#1f77b4;stroke:#ffffff;stroke-width:0.48;\" x=\"83.288494\" xlink:href=\"#m8a4ea8c715\" y=\"197.489724\"/>\n     <use style=\"fill:#1f77b4;stroke:#ffffff;stroke-width:0.48;\" x=\"184.74304\" xlink:href=\"#m8a4ea8c715\" y=\"177.852554\"/>\n     <use style=\"fill:#1f77b4;stroke:#ffffff;stroke-width:0.48;\" x=\"184.74304\" xlink:href=\"#m8a4ea8c715\" y=\"107.070434\"/>\n     <use style=\"fill:#1f77b4;stroke:#ffffff;stroke-width:0.48;\" x=\"83.288494\" xlink:href=\"#m8a4ea8c715\" y=\"197.799946\"/>\n     <use style=\"fill:#1f77b4;stroke:#ffffff;stroke-width:0.48;\" x=\"184.74304\" xlink:href=\"#m8a4ea8c715\" y=\"188.400072\"/>\n     <use style=\"fill:#1f77b4;stroke:#ffffff;stroke-width:0.48;\" x=\"184.74304\" xlink:href=\"#m8a4ea8c715\" y=\"123.874078\"/>\n     <use style=\"fill:#1f77b4;stroke:#ffffff;stroke-width:0.48;\" x=\"286.197585\" xlink:href=\"#m8a4ea8c715\" y=\"198.54413\"/>\n     <use style=\"fill:#1f77b4;stroke:#ffffff;stroke-width:0.48;\" x=\"184.74304\" xlink:href=\"#m8a4ea8c715\" y=\"141.556683\"/>\n     <use style=\"fill:#1f77b4;stroke:#ffffff;stroke-width:0.48;\" x=\"387.652131\" xlink:href=\"#m8a4ea8c715\" y=\"198.45089\"/>\n     <use style=\"fill:#1f77b4;stroke:#ffffff;stroke-width:0.48;\" x=\"184.74304\" xlink:href=\"#m8a4ea8c715\" y=\"189.330736\"/>\n     <use style=\"fill:#1f77b4;stroke:#ffffff;stroke-width:0.48;\" x=\"83.288494\" xlink:href=\"#m8a4ea8c715\" y=\"182.59911\"/>\n     <use style=\"fill:#1f77b4;stroke:#ffffff;stroke-width:0.48;\" x=\"83.288494\" xlink:href=\"#m8a4ea8c715\" y=\"194.077292\"/>\n     <use style=\"fill:#1f77b4;stroke:#ffffff;stroke-width:0.48;\" x=\"184.74304\" xlink:href=\"#m8a4ea8c715\" y=\"60.537266\"/>\n     <use style=\"fill:#1f77b4;stroke:#ffffff;stroke-width:0.48;\" x=\"184.74304\" xlink:href=\"#m8a4ea8c715\" y=\"186.228524\"/>\n     <use style=\"fill:#1f77b4;stroke:#ffffff;stroke-width:0.48;\" x=\"83.288494\" xlink:href=\"#m8a4ea8c715\" y=\"210.519012\"/>\n     <use style=\"fill:#1f77b4;stroke:#ffffff;stroke-width:0.48;\" x=\"387.652131\" xlink:href=\"#m8a4ea8c715\" y=\"192.246468\"/>\n     <use style=\"fill:#1f77b4;stroke:#ffffff;stroke-width:0.48;\" x=\"286.197585\" xlink:href=\"#m8a4ea8c715\" y=\"215.916513\"/>\n     <use style=\"fill:#1f77b4;stroke:#ffffff;stroke-width:0.48;\" x=\"387.652131\" xlink:href=\"#m8a4ea8c715\" y=\"198.140669\"/>\n     <use style=\"fill:#1f77b4;stroke:#ffffff;stroke-width:0.48;\" x=\"387.652131\" xlink:href=\"#m8a4ea8c715\" y=\"164.947009\"/>\n     <use style=\"fill:#1f77b4;stroke:#ffffff;stroke-width:0.48;\" x=\"387.652131\" xlink:href=\"#m8a4ea8c715\" y=\"198.45089\"/>\n     <use style=\"fill:#1f77b4;stroke:#ffffff;stroke-width:0.48;\" x=\"387.652131\" xlink:href=\"#m8a4ea8c715\" y=\"210.859735\"/>\n     <use style=\"fill:#1f77b4;stroke:#ffffff;stroke-width:0.48;\" x=\"184.74304\" xlink:href=\"#m8a4ea8c715\" y=\"182.505871\"/>\n     <use style=\"fill:#1f77b4;stroke:#ffffff;stroke-width:0.48;\" x=\"83.288494\" xlink:href=\"#m8a4ea8c715\" y=\"199.351051\"/>\n     <use style=\"fill:#1f77b4;stroke:#ffffff;stroke-width:0.48;\" x=\"184.74304\" xlink:href=\"#m8a4ea8c715\" y=\"185.359905\"/>\n     <use style=\"fill:#1f77b4;stroke:#ffffff;stroke-width:0.48;\" x=\"184.74304\" xlink:href=\"#m8a4ea8c715\" y=\"184.367198\"/>\n     <use style=\"fill:#1f77b4;stroke:#ffffff;stroke-width:0.48;\" x=\"286.197585\" xlink:href=\"#m8a4ea8c715\" y=\"202.266783\"/>\n     <use style=\"fill:#1f77b4;stroke:#ffffff;stroke-width:0.48;\" x=\"184.74304\" xlink:href=\"#m8a4ea8c715\" y=\"180.644544\"/>\n     <use style=\"fill:#1f77b4;stroke:#ffffff;stroke-width:0.48;\" x=\"387.652131\" xlink:href=\"#m8a4ea8c715\" y=\"195.6589\"/>\n     <use style=\"fill:#1f77b4;stroke:#ffffff;stroke-width:0.48;\" x=\"83.288494\" xlink:href=\"#m8a4ea8c715\" y=\"208.347464\"/>\n     <use style=\"fill:#1f77b4;stroke:#ffffff;stroke-width:0.48;\" x=\"184.74304\" xlink:href=\"#m8a4ea8c715\" y=\"109.65561\"/>\n     <use style=\"fill:#1f77b4;stroke:#ffffff;stroke-width:0.48;\" x=\"184.74304\" xlink:href=\"#m8a4ea8c715\" y=\"187.159188\"/>\n     <use style=\"fill:#1f77b4;stroke:#ffffff;stroke-width:0.48;\" x=\"83.288494\" xlink:href=\"#m8a4ea8c715\" y=\"155.092837\"/>\n     <use style=\"fill:#1f77b4;stroke:#ffffff;stroke-width:0.48;\" x=\"286.197585\" xlink:href=\"#m8a4ea8c715\" y=\"200.715678\"/>\n     <use style=\"fill:#1f77b4;stroke:#ffffff;stroke-width:0.48;\" x=\"83.288494\" xlink:href=\"#m8a4ea8c715\" y=\"189.423975\"/>\n     <use style=\"fill:#1f77b4;stroke:#ffffff;stroke-width:0.48;\" x=\"83.288494\" xlink:href=\"#m8a4ea8c715\" y=\"208.657685\"/>\n     <use style=\"fill:#1f77b4;stroke:#ffffff;stroke-width:0.48;\" x=\"184.74304\" xlink:href=\"#m8a4ea8c715\" y=\"184.367198\"/>\n     <use style=\"fill:#1f77b4;stroke:#ffffff;stroke-width:0.48;\" x=\"83.288494\" xlink:href=\"#m8a4ea8c715\" y=\"201.83282\"/>\n     <use style=\"fill:#1f77b4;stroke:#ffffff;stroke-width:0.48;\" x=\"184.74304\" xlink:href=\"#m8a4ea8c715\" y=\"187.77963\"/>\n     <use style=\"fill:#1f77b4;stroke:#ffffff;stroke-width:0.48;\" x=\"387.652131\" xlink:href=\"#m8a4ea8c715\" y=\"192.246468\"/>\n     <use style=\"fill:#1f77b4;stroke:#ffffff;stroke-width:0.48;\" x=\"83.288494\" xlink:href=\"#m8a4ea8c715\" y=\"194.387513\"/>\n     <use style=\"fill:#1f77b4;stroke:#ffffff;stroke-width:0.48;\" x=\"184.74304\" xlink:href=\"#m8a4ea8c715\" y=\"123.098526\"/>\n     <use style=\"fill:#1f77b4;stroke:#ffffff;stroke-width:0.48;\" x=\"184.74304\" xlink:href=\"#m8a4ea8c715\" y=\"138.092547\"/>\n     <use style=\"fill:#1f77b4;stroke:#ffffff;stroke-width:0.48;\" x=\"83.288494\" xlink:href=\"#m8a4ea8c715\" y=\"200.591936\"/>\n     <use style=\"fill:#1f77b4;stroke:#ffffff;stroke-width:0.48;\" x=\"83.288494\" xlink:href=\"#m8a4ea8c715\" y=\"193.45685\"/>\n     <use style=\"fill:#1f77b4;stroke:#ffffff;stroke-width:0.48;\" x=\"83.288494\" xlink:href=\"#m8a4ea8c715\" y=\"186.321764\"/>\n     <use style=\"fill:#1f77b4;stroke:#ffffff;stroke-width:0.48;\" x=\"184.74304\" xlink:href=\"#m8a4ea8c715\" y=\"193.673831\"/>\n     <use style=\"fill:#1f77b4;stroke:#ffffff;stroke-width:0.48;\" x=\"387.652131\" xlink:href=\"#m8a4ea8c715\" y=\"209.30863\"/>\n     <use style=\"fill:#1f77b4;stroke:#ffffff;stroke-width:0.48;\" x=\"184.74304\" xlink:href=\"#m8a4ea8c715\" y=\"123.874078\"/>\n     <use style=\"fill:#1f77b4;stroke:#ffffff;stroke-width:0.48;\" x=\"184.74304\" xlink:href=\"#m8a4ea8c715\" y=\"144.555487\"/>\n     <use style=\"fill:#1f77b4;stroke:#ffffff;stroke-width:0.48;\" x=\"83.288494\" xlink:href=\"#m8a4ea8c715\" y=\"199.04083\"/>\n     <use style=\"fill:#1f77b4;stroke:#ffffff;stroke-width:0.48;\" x=\"184.74304\" xlink:href=\"#m8a4ea8c715\" y=\"92.851966\"/>\n     <use style=\"fill:#1f77b4;stroke:#ffffff;stroke-width:0.48;\" x=\"184.74304\" xlink:href=\"#m8a4ea8c715\" y=\"95.954177\"/>\n     <use style=\"fill:#1f77b4;stroke:#ffffff;stroke-width:0.48;\" x=\"184.74304\" xlink:href=\"#m8a4ea8c715\" y=\"177.852554\"/>\n     <use style=\"fill:#1f77b4;stroke:#ffffff;stroke-width:0.48;\" x=\"83.288494\" xlink:href=\"#m8a4ea8c715\" y=\"185.080879\"/>\n     <use style=\"fill:#1f77b4;stroke:#ffffff;stroke-width:0.48;\" x=\"83.288494\" xlink:href=\"#m8a4ea8c715\" y=\"211.449675\"/>\n     <use style=\"fill:#1f77b4;stroke:#ffffff;stroke-width:0.48;\" x=\"184.74304\" xlink:href=\"#m8a4ea8c715\" y=\"184.367198\"/>\n     <use style=\"fill:#1f77b4;stroke:#ffffff;stroke-width:0.48;\" x=\"83.288494\" xlink:href=\"#m8a4ea8c715\" y=\"199.661272\"/>\n     <use style=\"fill:#1f77b4;stroke:#ffffff;stroke-width:0.48;\" x=\"184.74304\" xlink:href=\"#m8a4ea8c715\" y=\"189.020515\"/>\n     <use style=\"fill:#1f77b4;stroke:#ffffff;stroke-width:0.48;\" x=\"83.288494\" xlink:href=\"#m8a4ea8c715\" y=\"194.077292\"/>\n     <use style=\"fill:#1f77b4;stroke:#ffffff;stroke-width:0.48;\" x=\"184.74304\" xlink:href=\"#m8a4ea8c715\" y=\"147.140663\"/>\n     <use style=\"fill:#1f77b4;stroke:#ffffff;stroke-width:0.48;\" x=\"184.74304\" xlink:href=\"#m8a4ea8c715\" y=\"161.100613\"/>\n     <use style=\"fill:#1f77b4;stroke:#ffffff;stroke-width:0.48;\" x=\"184.74304\" xlink:href=\"#m8a4ea8c715\" y=\"175.681006\"/>\n     <use style=\"fill:#1f77b4;stroke:#ffffff;stroke-width:0.48;\" x=\"387.652131\" xlink:href=\"#m8a4ea8c715\" y=\"209.30863\"/>\n     <use style=\"fill:#1f77b4;stroke:#ffffff;stroke-width:0.48;\" x=\"83.288494\" xlink:href=\"#m8a4ea8c715\" y=\"187.562648\"/>\n     <use style=\"fill:#1f77b4;stroke:#ffffff;stroke-width:0.48;\" x=\"184.74304\" xlink:href=\"#m8a4ea8c715\" y=\"74.755734\"/>\n     <use style=\"fill:#1f77b4;stroke:#ffffff;stroke-width:0.48;\" x=\"184.74304\" xlink:href=\"#m8a4ea8c715\" y=\"173.199237\"/>\n     <use style=\"fill:#1f77b4;stroke:#ffffff;stroke-width:0.48;\" x=\"184.74304\" xlink:href=\"#m8a4ea8c715\" y=\"170.407247\"/>\n     <use style=\"fill:#1f77b4;stroke:#ffffff;stroke-width:0.48;\" x=\"83.288494\" xlink:href=\"#m8a4ea8c715\" y=\"193.146629\"/>\n     <use style=\"fill:#1f77b4;stroke:#ffffff;stroke-width:0.48;\" x=\"83.288494\" xlink:href=\"#m8a4ea8c715\" y=\"206.486137\"/>\n     <use style=\"fill:#1f77b4;stroke:#ffffff;stroke-width:0.48;\" x=\"83.288494\" xlink:href=\"#m8a4ea8c715\" y=\"185.080879\"/>\n     <use style=\"fill:#1f77b4;stroke:#ffffff;stroke-width:0.48;\" x=\"184.74304\" xlink:href=\"#m8a4ea8c715\" y=\"202.360023\"/>\n     <use style=\"fill:#1f77b4;stroke:#ffffff;stroke-width:0.48;\" x=\"184.74304\" xlink:href=\"#m8a4ea8c715\" y=\"191.502284\"/>\n     <use style=\"fill:#1f77b4;stroke:#ffffff;stroke-width:0.48;\" x=\"83.288494\" xlink:href=\"#m8a4ea8c715\" y=\"206.486137\"/>\n     <use style=\"fill:#1f77b4;stroke:#ffffff;stroke-width:0.48;\" x=\"184.74304\" xlink:href=\"#m8a4ea8c715\" y=\"184.367198\"/>\n     <use style=\"fill:#1f77b4;stroke:#ffffff;stroke-width:0.48;\" x=\"184.74304\" xlink:href=\"#m8a4ea8c715\" y=\"175.370785\"/>\n     <use style=\"fill:#1f77b4;stroke:#ffffff;stroke-width:0.48;\" x=\"184.74304\" xlink:href=\"#m8a4ea8c715\" y=\"33.392917\"/>\n     <use style=\"fill:#1f77b4;stroke:#ffffff;stroke-width:0.48;\" x=\"83.288494\" xlink:href=\"#m8a4ea8c715\" y=\"186.631985\"/>\n     <use style=\"fill:#1f77b4;stroke:#ffffff;stroke-width:0.48;\" x=\"184.74304\" xlink:href=\"#m8a4ea8c715\" y=\"189.020515\"/>\n     <use style=\"fill:#1f77b4;stroke:#ffffff;stroke-width:0.48;\" x=\"83.288494\" xlink:href=\"#m8a4ea8c715\" y=\"198.730609\"/>\n     <use style=\"fill:#1f77b4;stroke:#ffffff;stroke-width:0.48;\" x=\"387.652131\" xlink:href=\"#m8a4ea8c715\" y=\"193.797573\"/>\n     <use style=\"fill:#1f77b4;stroke:#ffffff;stroke-width:0.48;\" x=\"286.197585\" xlink:href=\"#m8a4ea8c715\" y=\"212.193859\"/>\n     <use style=\"fill:#1f77b4;stroke:#ffffff;stroke-width:0.48;\" x=\"83.288494\" xlink:href=\"#m8a4ea8c715\" y=\"209.278127\"/>\n     <use style=\"fill:#1f77b4;stroke:#ffffff;stroke-width:0.48;\" x=\"184.74304\" xlink:href=\"#m8a4ea8c715\" y=\"19.174449\"/>\n     <use style=\"fill:#1f77b4;stroke:#ffffff;stroke-width:0.48;\" x=\"83.288494\" xlink:href=\"#m8a4ea8c715\" y=\"193.45685\"/>\n     <use style=\"fill:#1f77b4;stroke:#ffffff;stroke-width:0.48;\" x=\"387.652131\" xlink:href=\"#m8a4ea8c715\" y=\"118.827468\"/>\n     <use style=\"fill:#1f77b4;stroke:#ffffff;stroke-width:0.48;\" x=\"83.288494\" xlink:href=\"#m8a4ea8c715\" y=\"208.037243\"/>\n     <use style=\"fill:#1f77b4;stroke:#ffffff;stroke-width:0.48;\" x=\"83.288494\" xlink:href=\"#m8a4ea8c715\" y=\"182.288889\"/>\n     <use style=\"fill:#1f77b4;stroke:#ffffff;stroke-width:0.48;\" x=\"184.74304\" xlink:href=\"#m8a4ea8c715\" y=\"185.297861\"/>\n     <use style=\"fill:#1f77b4;stroke:#ffffff;stroke-width:0.48;\" x=\"83.288494\" xlink:href=\"#m8a4ea8c715\" y=\"193.45685\"/>\n     <use style=\"fill:#1f77b4;stroke:#ffffff;stroke-width:0.48;\" x=\"83.288494\" xlink:href=\"#m8a4ea8c715\" y=\"209.588348\"/>\n     <use style=\"fill:#1f77b4;stroke:#ffffff;stroke-width:0.48;\" x=\"83.288494\" xlink:href=\"#m8a4ea8c715\" y=\"159.642747\"/>\n     <use style=\"fill:#1f77b4;stroke:#ffffff;stroke-width:0.48;\" x=\"387.652131\" xlink:href=\"#m8a4ea8c715\" y=\"192.246468\"/>\n    </g>\n   </g>\n   <g id=\"matplotlib.axis_1\">\n    <g id=\"xtick_1\">\n     <g id=\"line2d_1\">\n      <defs>\n       <path d=\"M 0 0 \nL 0 3.5 \n\" id=\"me2bac3c65f\" style=\"stroke:#000000;stroke-width:0.8;\"/>\n      </defs>\n      <g>\n       <use style=\"stroke:#000000;stroke-width:0.8;\" x=\"100.703193\" xlink:href=\"#me2bac3c65f\" y=\"226.730813\"/>\n      </g>\n     </g>\n     <g id=\"text_1\">\n      <!-- 33000 -->\n      <g transform=\"translate(84.796943 241.32925)scale(0.1 -0.1)\">\n       <defs>\n        <path d=\"M 2597 2516 \nQ 3050 2419 3304 2112 \nQ 3559 1806 3559 1356 \nQ 3559 666 3084 287 \nQ 2609 -91 1734 -91 \nQ 1441 -91 1130 -33 \nQ 819 25 488 141 \nL 488 750 \nQ 750 597 1062 519 \nQ 1375 441 1716 441 \nQ 2309 441 2620 675 \nQ 2931 909 2931 1356 \nQ 2931 1769 2642 2001 \nQ 2353 2234 1838 2234 \nL 1294 2234 \nL 1294 2753 \nL 1863 2753 \nQ 2328 2753 2575 2939 \nQ 2822 3125 2822 3475 \nQ 2822 3834 2567 4026 \nQ 2313 4219 1838 4219 \nQ 1578 4219 1281 4162 \nQ 984 4106 628 3988 \nL 628 4550 \nQ 988 4650 1302 4700 \nQ 1616 4750 1894 4750 \nQ 2613 4750 3031 4423 \nQ 3450 4097 3450 3541 \nQ 3450 3153 3228 2886 \nQ 3006 2619 2597 2516 \nz\n\" id=\"DejaVuSans-33\" transform=\"scale(0.015625)\"/>\n        <path d=\"M 2034 4250 \nQ 1547 4250 1301 3770 \nQ 1056 3291 1056 2328 \nQ 1056 1369 1301 889 \nQ 1547 409 2034 409 \nQ 2525 409 2770 889 \nQ 3016 1369 3016 2328 \nQ 3016 3291 2770 3770 \nQ 2525 4250 2034 4250 \nz\nM 2034 4750 \nQ 2819 4750 3233 4129 \nQ 3647 3509 3647 2328 \nQ 3647 1150 3233 529 \nQ 2819 -91 2034 -91 \nQ 1250 -91 836 529 \nQ 422 1150 422 2328 \nQ 422 3509 836 4129 \nQ 1250 4750 2034 4750 \nz\n\" id=\"DejaVuSans-30\" transform=\"scale(0.015625)\"/>\n       </defs>\n       <use xlink:href=\"#DejaVuSans-33\"/>\n       <use x=\"63.623047\" xlink:href=\"#DejaVuSans-33\"/>\n       <use x=\"127.246094\" xlink:href=\"#DejaVuSans-30\"/>\n       <use x=\"190.869141\" xlink:href=\"#DejaVuSans-30\"/>\n       <use x=\"254.492188\" xlink:href=\"#DejaVuSans-30\"/>\n      </g>\n     </g>\n    </g>\n    <g id=\"xtick_2\">\n     <g id=\"line2d_2\">\n      <g>\n       <use style=\"stroke:#000000;stroke-width:0.8;\" x=\"153.962513\" xlink:href=\"#me2bac3c65f\" y=\"226.730813\"/>\n      </g>\n     </g>\n     <g id=\"text_2\">\n      <!-- 34000 -->\n      <g transform=\"translate(138.056263 241.32925)scale(0.1 -0.1)\">\n       <defs>\n        <path d=\"M 2419 4116 \nL 825 1625 \nL 2419 1625 \nL 2419 4116 \nz\nM 2253 4666 \nL 3047 4666 \nL 3047 1625 \nL 3713 1625 \nL 3713 1100 \nL 3047 1100 \nL 3047 0 \nL 2419 0 \nL 2419 1100 \nL 313 1100 \nL 313 1709 \nL 2253 4666 \nz\n\" id=\"DejaVuSans-34\" transform=\"scale(0.015625)\"/>\n       </defs>\n       <use xlink:href=\"#DejaVuSans-33\"/>\n       <use x=\"63.623047\" xlink:href=\"#DejaVuSans-34\"/>\n       <use x=\"127.246094\" xlink:href=\"#DejaVuSans-30\"/>\n       <use x=\"190.869141\" xlink:href=\"#DejaVuSans-30\"/>\n       <use x=\"254.492188\" xlink:href=\"#DejaVuSans-30\"/>\n      </g>\n     </g>\n    </g>\n    <g id=\"xtick_3\">\n     <g id=\"line2d_3\">\n      <g>\n       <use style=\"stroke:#000000;stroke-width:0.8;\" x=\"207.221834\" xlink:href=\"#me2bac3c65f\" y=\"226.730813\"/>\n      </g>\n     </g>\n     <g id=\"text_3\">\n      <!-- 35000 -->\n      <g transform=\"translate(191.315584 241.32925)scale(0.1 -0.1)\">\n       <defs>\n        <path d=\"M 691 4666 \nL 3169 4666 \nL 3169 4134 \nL 1269 4134 \nL 1269 2991 \nQ 1406 3038 1543 3061 \nQ 1681 3084 1819 3084 \nQ 2600 3084 3056 2656 \nQ 3513 2228 3513 1497 \nQ 3513 744 3044 326 \nQ 2575 -91 1722 -91 \nQ 1428 -91 1123 -41 \nQ 819 9 494 109 \nL 494 744 \nQ 775 591 1075 516 \nQ 1375 441 1709 441 \nQ 2250 441 2565 725 \nQ 2881 1009 2881 1497 \nQ 2881 1984 2565 2268 \nQ 2250 2553 1709 2553 \nQ 1456 2553 1204 2497 \nQ 953 2441 691 2322 \nL 691 4666 \nz\n\" id=\"DejaVuSans-35\" transform=\"scale(0.015625)\"/>\n       </defs>\n       <use xlink:href=\"#DejaVuSans-33\"/>\n       <use x=\"63.623047\" xlink:href=\"#DejaVuSans-35\"/>\n       <use x=\"127.246094\" xlink:href=\"#DejaVuSans-30\"/>\n       <use x=\"190.869141\" xlink:href=\"#DejaVuSans-30\"/>\n       <use x=\"254.492188\" xlink:href=\"#DejaVuSans-30\"/>\n      </g>\n     </g>\n    </g>\n    <g id=\"xtick_4\">\n     <g id=\"line2d_4\">\n      <g>\n       <use style=\"stroke:#000000;stroke-width:0.8;\" x=\"260.481154\" xlink:href=\"#me2bac3c65f\" y=\"226.730813\"/>\n      </g>\n     </g>\n     <g id=\"text_4\">\n      <!-- 36000 -->\n      <g transform=\"translate(244.574904 241.32925)scale(0.1 -0.1)\">\n       <defs>\n        <path d=\"M 2113 2584 \nQ 1688 2584 1439 2293 \nQ 1191 2003 1191 1497 \nQ 1191 994 1439 701 \nQ 1688 409 2113 409 \nQ 2538 409 2786 701 \nQ 3034 994 3034 1497 \nQ 3034 2003 2786 2293 \nQ 2538 2584 2113 2584 \nz\nM 3366 4563 \nL 3366 3988 \nQ 3128 4100 2886 4159 \nQ 2644 4219 2406 4219 \nQ 1781 4219 1451 3797 \nQ 1122 3375 1075 2522 \nQ 1259 2794 1537 2939 \nQ 1816 3084 2150 3084 \nQ 2853 3084 3261 2657 \nQ 3669 2231 3669 1497 \nQ 3669 778 3244 343 \nQ 2819 -91 2113 -91 \nQ 1303 -91 875 529 \nQ 447 1150 447 2328 \nQ 447 3434 972 4092 \nQ 1497 4750 2381 4750 \nQ 2619 4750 2861 4703 \nQ 3103 4656 3366 4563 \nz\n\" id=\"DejaVuSans-36\" transform=\"scale(0.015625)\"/>\n       </defs>\n       <use xlink:href=\"#DejaVuSans-33\"/>\n       <use x=\"63.623047\" xlink:href=\"#DejaVuSans-36\"/>\n       <use x=\"127.246094\" xlink:href=\"#DejaVuSans-30\"/>\n       <use x=\"190.869141\" xlink:href=\"#DejaVuSans-30\"/>\n       <use x=\"254.492188\" xlink:href=\"#DejaVuSans-30\"/>\n      </g>\n     </g>\n    </g>\n    <g id=\"xtick_5\">\n     <g id=\"line2d_5\">\n      <g>\n       <use style=\"stroke:#000000;stroke-width:0.8;\" x=\"313.740475\" xlink:href=\"#me2bac3c65f\" y=\"226.730813\"/>\n      </g>\n     </g>\n     <g id=\"text_5\">\n      <!-- 37000 -->\n      <g transform=\"translate(297.834225 241.32925)scale(0.1 -0.1)\">\n       <defs>\n        <path d=\"M 525 4666 \nL 3525 4666 \nL 3525 4397 \nL 1831 0 \nL 1172 0 \nL 2766 4134 \nL 525 4134 \nL 525 4666 \nz\n\" id=\"DejaVuSans-37\" transform=\"scale(0.015625)\"/>\n       </defs>\n       <use xlink:href=\"#DejaVuSans-33\"/>\n       <use x=\"63.623047\" xlink:href=\"#DejaVuSans-37\"/>\n       <use x=\"127.246094\" xlink:href=\"#DejaVuSans-30\"/>\n       <use x=\"190.869141\" xlink:href=\"#DejaVuSans-30\"/>\n       <use x=\"254.492188\" xlink:href=\"#DejaVuSans-30\"/>\n      </g>\n     </g>\n    </g>\n    <g id=\"xtick_6\">\n     <g id=\"line2d_6\">\n      <g>\n       <use style=\"stroke:#000000;stroke-width:0.8;\" x=\"366.999795\" xlink:href=\"#me2bac3c65f\" y=\"226.730813\"/>\n      </g>\n     </g>\n     <g id=\"text_6\">\n      <!-- 38000 -->\n      <g transform=\"translate(351.093545 241.32925)scale(0.1 -0.1)\">\n       <defs>\n        <path d=\"M 2034 2216 \nQ 1584 2216 1326 1975 \nQ 1069 1734 1069 1313 \nQ 1069 891 1326 650 \nQ 1584 409 2034 409 \nQ 2484 409 2743 651 \nQ 3003 894 3003 1313 \nQ 3003 1734 2745 1975 \nQ 2488 2216 2034 2216 \nz\nM 1403 2484 \nQ 997 2584 770 2862 \nQ 544 3141 544 3541 \nQ 544 4100 942 4425 \nQ 1341 4750 2034 4750 \nQ 2731 4750 3128 4425 \nQ 3525 4100 3525 3541 \nQ 3525 3141 3298 2862 \nQ 3072 2584 2669 2484 \nQ 3125 2378 3379 2068 \nQ 3634 1759 3634 1313 \nQ 3634 634 3220 271 \nQ 2806 -91 2034 -91 \nQ 1263 -91 848 271 \nQ 434 634 434 1313 \nQ 434 1759 690 2068 \nQ 947 2378 1403 2484 \nz\nM 1172 3481 \nQ 1172 3119 1398 2916 \nQ 1625 2713 2034 2713 \nQ 2441 2713 2670 2916 \nQ 2900 3119 2900 3481 \nQ 2900 3844 2670 4047 \nQ 2441 4250 2034 4250 \nQ 1625 4250 1398 4047 \nQ 1172 3844 1172 3481 \nz\n\" id=\"DejaVuSans-38\" transform=\"scale(0.015625)\"/>\n       </defs>\n       <use xlink:href=\"#DejaVuSans-33\"/>\n       <use x=\"63.623047\" xlink:href=\"#DejaVuSans-38\"/>\n       <use x=\"127.246094\" xlink:href=\"#DejaVuSans-30\"/>\n       <use x=\"190.869141\" xlink:href=\"#DejaVuSans-30\"/>\n       <use x=\"254.492188\" xlink:href=\"#DejaVuSans-30\"/>\n      </g>\n     </g>\n    </g>\n   </g>\n   <g id=\"matplotlib.axis_2\">\n    <g id=\"ytick_1\">\n     <g id=\"line2d_7\">\n      <defs>\n       <path d=\"M 0 0 \nL -3.5 0 \n\" id=\"m4d02d4a05f\" style=\"stroke:#000000;stroke-width:0.8;\"/>\n      </defs>\n      <g>\n       <use style=\"stroke:#000000;stroke-width:0.8;\" x=\"68.070312\" xlink:href=\"#m4d02d4a05f\" y=\"217.813302\"/>\n      </g>\n     </g>\n     <g id=\"text_7\">\n      <!-- −20000 -->\n      <g transform=\"translate(20.878125 221.61252)scale(0.1 -0.1)\">\n       <defs>\n        <path d=\"M 678 2272 \nL 4684 2272 \nL 4684 1741 \nL 678 1741 \nL 678 2272 \nz\n\" id=\"DejaVuSans-2212\" transform=\"scale(0.015625)\"/>\n        <path d=\"M 1228 531 \nL 3431 531 \nL 3431 0 \nL 469 0 \nL 469 531 \nQ 828 903 1448 1529 \nQ 2069 2156 2228 2338 \nQ 2531 2678 2651 2914 \nQ 2772 3150 2772 3378 \nQ 2772 3750 2511 3984 \nQ 2250 4219 1831 4219 \nQ 1534 4219 1204 4116 \nQ 875 4013 500 3803 \nL 500 4441 \nQ 881 4594 1212 4672 \nQ 1544 4750 1819 4750 \nQ 2544 4750 2975 4387 \nQ 3406 4025 3406 3419 \nQ 3406 3131 3298 2873 \nQ 3191 2616 2906 2266 \nQ 2828 2175 2409 1742 \nQ 1991 1309 1228 531 \nz\n\" id=\"DejaVuSans-32\" transform=\"scale(0.015625)\"/>\n       </defs>\n       <use xlink:href=\"#DejaVuSans-2212\"/>\n       <use x=\"83.789062\" xlink:href=\"#DejaVuSans-32\"/>\n       <use x=\"147.412109\" xlink:href=\"#DejaVuSans-30\"/>\n       <use x=\"211.035156\" xlink:href=\"#DejaVuSans-30\"/>\n       <use x=\"274.658203\" xlink:href=\"#DejaVuSans-30\"/>\n       <use x=\"338.28125\" xlink:href=\"#DejaVuSans-30\"/>\n      </g>\n     </g>\n    </g>\n    <g id=\"ytick_2\">\n     <g id=\"line2d_8\">\n      <g>\n       <use style=\"stroke:#000000;stroke-width:0.8;\" x=\"68.070312\" xlink:href=\"#m4d02d4a05f\" y=\"176.450485\"/>\n      </g>\n     </g>\n     <g id=\"text_8\">\n      <!-- 0 -->\n      <g transform=\"translate(54.707813 180.249704)scale(0.1 -0.1)\">\n       <use xlink:href=\"#DejaVuSans-30\"/>\n      </g>\n     </g>\n    </g>\n    <g id=\"ytick_3\">\n     <g id=\"line2d_9\">\n      <g>\n       <use style=\"stroke:#000000;stroke-width:0.8;\" x=\"68.070312\" xlink:href=\"#m4d02d4a05f\" y=\"135.087669\"/>\n      </g>\n     </g>\n     <g id=\"text_9\">\n      <!-- 20000 -->\n      <g transform=\"translate(29.257812 138.886887)scale(0.1 -0.1)\">\n       <use xlink:href=\"#DejaVuSans-32\"/>\n       <use x=\"63.623047\" xlink:href=\"#DejaVuSans-30\"/>\n       <use x=\"127.246094\" xlink:href=\"#DejaVuSans-30\"/>\n       <use x=\"190.869141\" xlink:href=\"#DejaVuSans-30\"/>\n       <use x=\"254.492188\" xlink:href=\"#DejaVuSans-30\"/>\n      </g>\n     </g>\n    </g>\n    <g id=\"ytick_4\">\n     <g id=\"line2d_10\">\n      <g>\n       <use style=\"stroke:#000000;stroke-width:0.8;\" x=\"68.070312\" xlink:href=\"#m4d02d4a05f\" y=\"93.724852\"/>\n      </g>\n     </g>\n     <g id=\"text_10\">\n      <!-- 40000 -->\n      <g transform=\"translate(29.257812 97.524071)scale(0.1 -0.1)\">\n       <use xlink:href=\"#DejaVuSans-34\"/>\n       <use x=\"63.623047\" xlink:href=\"#DejaVuSans-30\"/>\n       <use x=\"127.246094\" xlink:href=\"#DejaVuSans-30\"/>\n       <use x=\"190.869141\" xlink:href=\"#DejaVuSans-30\"/>\n       <use x=\"254.492188\" xlink:href=\"#DejaVuSans-30\"/>\n      </g>\n     </g>\n    </g>\n    <g id=\"ytick_5\">\n     <g id=\"line2d_11\">\n      <g>\n       <use style=\"stroke:#000000;stroke-width:0.8;\" x=\"68.070312\" xlink:href=\"#m4d02d4a05f\" y=\"52.362035\"/>\n      </g>\n     </g>\n     <g id=\"text_11\">\n      <!-- 60000 -->\n      <g transform=\"translate(29.257812 56.161254)scale(0.1 -0.1)\">\n       <use xlink:href=\"#DejaVuSans-36\"/>\n       <use x=\"63.623047\" xlink:href=\"#DejaVuSans-30\"/>\n       <use x=\"127.246094\" xlink:href=\"#DejaVuSans-30\"/>\n       <use x=\"190.869141\" xlink:href=\"#DejaVuSans-30\"/>\n       <use x=\"254.492188\" xlink:href=\"#DejaVuSans-30\"/>\n      </g>\n     </g>\n    </g>\n    <g id=\"ytick_6\">\n     <g id=\"line2d_12\">\n      <g>\n       <use style=\"stroke:#000000;stroke-width:0.8;\" x=\"68.070312\" xlink:href=\"#m4d02d4a05f\" y=\"10.999219\"/>\n      </g>\n     </g>\n     <g id=\"text_12\">\n      <!-- 80000 -->\n      <g transform=\"translate(29.257812 14.798437)scale(0.1 -0.1)\">\n       <use xlink:href=\"#DejaVuSans-38\"/>\n       <use x=\"63.623047\" xlink:href=\"#DejaVuSans-30\"/>\n       <use x=\"127.246094\" xlink:href=\"#DejaVuSans-30\"/>\n       <use x=\"190.869141\" xlink:href=\"#DejaVuSans-30\"/>\n       <use x=\"254.492188\" xlink:href=\"#DejaVuSans-30\"/>\n      </g>\n     </g>\n    </g>\n    <g id=\"text_13\">\n     <!-- SALARY -->\n     <g transform=\"translate(14.798437 137.227219)rotate(-90)scale(0.1 -0.1)\">\n      <defs>\n       <path d=\"M 3425 4513 \nL 3425 3897 \nQ 3066 4069 2747 4153 \nQ 2428 4238 2131 4238 \nQ 1616 4238 1336 4038 \nQ 1056 3838 1056 3469 \nQ 1056 3159 1242 3001 \nQ 1428 2844 1947 2747 \nL 2328 2669 \nQ 3034 2534 3370 2195 \nQ 3706 1856 3706 1288 \nQ 3706 609 3251 259 \nQ 2797 -91 1919 -91 \nQ 1588 -91 1214 -16 \nQ 841 59 441 206 \nL 441 856 \nQ 825 641 1194 531 \nQ 1563 422 1919 422 \nQ 2459 422 2753 634 \nQ 3047 847 3047 1241 \nQ 3047 1584 2836 1778 \nQ 2625 1972 2144 2069 \nL 1759 2144 \nQ 1053 2284 737 2584 \nQ 422 2884 422 3419 \nQ 422 4038 858 4394 \nQ 1294 4750 2059 4750 \nQ 2388 4750 2728 4690 \nQ 3069 4631 3425 4513 \nz\n\" id=\"DejaVuSans-53\" transform=\"scale(0.015625)\"/>\n       <path d=\"M 2188 4044 \nL 1331 1722 \nL 3047 1722 \nL 2188 4044 \nz\nM 1831 4666 \nL 2547 4666 \nL 4325 0 \nL 3669 0 \nL 3244 1197 \nL 1141 1197 \nL 716 0 \nL 50 0 \nL 1831 4666 \nz\n\" id=\"DejaVuSans-41\" transform=\"scale(0.015625)\"/>\n       <path d=\"M 628 4666 \nL 1259 4666 \nL 1259 531 \nL 3531 531 \nL 3531 0 \nL 628 0 \nL 628 4666 \nz\n\" id=\"DejaVuSans-4c\" transform=\"scale(0.015625)\"/>\n       <path d=\"M 2841 2188 \nQ 3044 2119 3236 1894 \nQ 3428 1669 3622 1275 \nL 4263 0 \nL 3584 0 \nL 2988 1197 \nQ 2756 1666 2539 1819 \nQ 2322 1972 1947 1972 \nL 1259 1972 \nL 1259 0 \nL 628 0 \nL 628 4666 \nL 2053 4666 \nQ 2853 4666 3247 4331 \nQ 3641 3997 3641 3322 \nQ 3641 2881 3436 2590 \nQ 3231 2300 2841 2188 \nz\nM 1259 4147 \nL 1259 2491 \nL 2053 2491 \nQ 2509 2491 2742 2702 \nQ 2975 2913 2975 3322 \nQ 2975 3731 2742 3939 \nQ 2509 4147 2053 4147 \nL 1259 4147 \nz\n\" id=\"DejaVuSans-52\" transform=\"scale(0.015625)\"/>\n       <path d=\"M -13 4666 \nL 666 4666 \nL 1959 2747 \nL 3244 4666 \nL 3922 4666 \nL 2272 2222 \nL 2272 0 \nL 1638 0 \nL 1638 2222 \nL -13 4666 \nz\n\" id=\"DejaVuSans-59\" transform=\"scale(0.015625)\"/>\n      </defs>\n      <use xlink:href=\"#DejaVuSans-53\"/>\n      <use x=\"65.351562\" xlink:href=\"#DejaVuSans-41\"/>\n      <use x=\"133.759766\" xlink:href=\"#DejaVuSans-4c\"/>\n      <use x=\"191.722656\" xlink:href=\"#DejaVuSans-41\"/>\n      <use x=\"260.130859\" xlink:href=\"#DejaVuSans-52\"/>\n      <use x=\"323.238281\" xlink:href=\"#DejaVuSans-59\"/>\n     </g>\n    </g>\n   </g>\n   <g id=\"patch_3\">\n    <path d=\"M 68.070312 226.730813 \nL 68.070312 9.290813 \n\" style=\"fill:none;stroke:#000000;stroke-linecap:square;stroke-linejoin:miter;stroke-width:0.8;\"/>\n   </g>\n   <g id=\"patch_4\">\n    <path d=\"M 402.870313 226.730813 \nL 402.870313 9.290813 \n\" style=\"fill:none;stroke:#000000;stroke-linecap:square;stroke-linejoin:miter;stroke-width:0.8;\"/>\n   </g>\n   <g id=\"patch_5\">\n    <path d=\"M 68.070312 226.730813 \nL 402.870312 226.730813 \n\" style=\"fill:none;stroke:#000000;stroke-linecap:square;stroke-linejoin:miter;stroke-width:0.8;\"/>\n   </g>\n   <g id=\"patch_6\">\n    <path d=\"M 68.070312 9.290813 \nL 402.870312 9.290813 \n\" style=\"fill:none;stroke:#000000;stroke-linecap:square;stroke-linejoin:miter;stroke-width:0.8;\"/>\n   </g>\n  </g>\n </g>\n <defs>\n  <clipPath id=\"p83fa91c880\">\n   <rect height=\"217.44\" width=\"334.8\" x=\"68.070312\" y=\"9.290813\"/>\n  </clipPath>\n </defs>\n</svg>\n",
      "image/png": "[encoded data removed]"
     },
     "metadata": {
      "needs_background": "light"
     }
    }
   ],
   "source": [
    "predictions = model.predict(X_train)\n",
    "sns.scatterplot(x = predictions, y = y_train - predictions)"
   ]
  },
  {
   "cell_type": "code",
   "execution_count": 16,
   "metadata": {},
   "outputs": [
    {
     "output_type": "execute_result",
     "data": {
      "text/plain": [
       "<AxesSubplot:xlabel='SOCIODEMOGRAPHY', ylabel='SALARY'>"
      ]
     },
     "metadata": {},
     "execution_count": 16
    },
    {
     "output_type": "display_data",
     "data": {
      "text/plain": "<Figure size 432x288 with 1 Axes>",
      "image/svg+xml": "<?xml version=\"1.0\" encoding=\"utf-8\" standalone=\"no\"?>\n<!DOCTYPE svg PUBLIC \"-//W3C//DTD SVG 1.1//EN\"\n  \"http://www.w3.org/Graphics/SVG/1.1/DTD/svg11.dtd\">\n<svg height=\"264.287063pt\" version=\"1.1\" viewBox=\"0 0 410.070312 264.287063\" width=\"410.070312pt\" xmlns=\"http://www.w3.org/2000/svg\" xmlns:xlink=\"http://www.w3.org/1999/xlink\">\n <metadata>\n  <rdf:RDF xmlns:cc=\"http://creativecommons.org/ns#\" xmlns:dc=\"http://purl.org/dc/elements/1.1/\" xmlns:rdf=\"http://www.w3.org/1999/02/22-rdf-syntax-ns#\">\n   <cc:Work>\n    <dc:type rdf:resource=\"http://purl.org/dc/dcmitype/StillImage\"/>\n    <dc:date>2021-06-02T23:48:26.776223</dc:date>\n    <dc:format>image/svg+xml</dc:format>\n    <dc:creator>\n     <cc:Agent>\n      <dc:title>Matplotlib v3.4.2, https://matplotlib.org/</dc:title>\n     </cc:Agent>\n    </dc:creator>\n   </cc:Work>\n  </rdf:RDF>\n </metadata>\n <defs>\n  <style type=\"text/css\">*{stroke-linecap:butt;stroke-linejoin:round;}</style>\n </defs>\n <g id=\"figure_1\">\n  <g id=\"patch_1\">\n   <path d=\"M 0 264.287063 \nL 410.070312 264.287063 \nL 410.070312 0 \nL 0 0 \nz\n\" style=\"fill:none;\"/>\n  </g>\n  <g id=\"axes_1\">\n   <g id=\"patch_2\">\n    <path d=\"M 68.070312 226.730813 \nL 402.870313 226.730813 \nL 402.870313 9.290813 \nL 68.070312 9.290813 \nz\n\" style=\"fill:#ffffff;\"/>\n   </g>\n   <g id=\"PathCollection_1\">\n    <defs>\n     <path d=\"M 0 3 \nC 0.795609 3 1.55874 2.683901 2.12132 2.12132 \nC 2.683901 1.55874 3 0.795609 3 0 \nC 3 -0.795609 2.683901 -1.55874 2.12132 -2.12132 \nC 1.55874 -2.683901 0.795609 -3 0 -3 \nC -0.795609 -3 -1.55874 -2.683901 -2.12132 -2.12132 \nC -2.683901 -1.55874 -3 -0.795609 -3 0 \nC -3 0.795609 -2.683901 1.55874 -2.12132 2.12132 \nC -1.55874 2.683901 -0.795609 3 0 3 \nz\n\" id=\"m7d05176fc4\" style=\"stroke:#1f77b4;stroke-opacity:0.8;\"/>\n    </defs>\n    <g clip-path=\"url(#pcae41b88b8)\">\n     <use style=\"fill:#1f77b4;fill-opacity:0.8;stroke:#1f77b4;stroke-opacity:0.8;\" x=\"387.652131\" xlink:href=\"#m7d05176fc4\" y=\"201.24288\"/>\n     <use style=\"fill:#1f77b4;fill-opacity:0.8;stroke:#1f77b4;stroke-opacity:0.8;\" x=\"286.197585\" xlink:href=\"#m7d05176fc4\" y=\"200.715678\"/>\n     <use style=\"fill:#1f77b4;fill-opacity:0.8;stroke:#1f77b4;stroke-opacity:0.8;\" x=\"83.288494\" xlink:href=\"#m7d05176fc4\" y=\"186.321764\"/>\n     <use style=\"fill:#1f77b4;fill-opacity:0.8;stroke:#1f77b4;stroke-opacity:0.8;\" x=\"184.74304\" xlink:href=\"#m7d05176fc4\" y=\"104.743776\"/>\n     <use style=\"fill:#1f77b4;fill-opacity:0.8;stroke:#1f77b4;stroke-opacity:0.8;\" x=\"184.74304\" xlink:href=\"#m7d05176fc4\" y=\"86.389026\"/>\n     <use style=\"fill:#1f77b4;fill-opacity:0.8;stroke:#1f77b4;stroke-opacity:0.8;\" x=\"387.652131\" xlink:href=\"#m7d05176fc4\" y=\"200.001996\"/>\n     <use style=\"fill:#1f77b4;fill-opacity:0.8;stroke:#1f77b4;stroke-opacity:0.8;\" x=\"83.288494\" xlink:href=\"#m7d05176fc4\" y=\"210.519012\"/>\n     <use style=\"fill:#1f77b4;fill-opacity:0.8;stroke:#1f77b4;stroke-opacity:0.8;\" x=\"184.74304\" xlink:href=\"#m7d05176fc4\" y=\"179.40366\"/>\n     <use style=\"fill:#1f77b4;fill-opacity:0.8;stroke:#1f77b4;stroke-opacity:0.8;\" x=\"286.197585\" xlink:href=\"#m7d05176fc4\" y=\"209.71209\"/>\n     <use style=\"fill:#1f77b4;fill-opacity:0.8;stroke:#1f77b4;stroke-opacity:0.8;\" x=\"387.652131\" xlink:href=\"#m7d05176fc4\" y=\"191.005583\"/>\n     <use style=\"fill:#1f77b4;fill-opacity:0.8;stroke:#1f77b4;stroke-opacity:0.8;\" x=\"184.74304\" xlink:href=\"#m7d05176fc4\" y=\"188.710293\"/>\n     <use style=\"fill:#1f77b4;fill-opacity:0.8;stroke:#1f77b4;stroke-opacity:0.8;\" x=\"184.74304\" xlink:href=\"#m7d05176fc4\" y=\"194.604495\"/>\n     <use style=\"fill:#1f77b4;fill-opacity:0.8;stroke:#1f77b4;stroke-opacity:0.8;\" x=\"184.74304\" xlink:href=\"#m7d05176fc4\" y=\"163.582382\"/>\n     <use style=\"fill:#1f77b4;fill-opacity:0.8;stroke:#1f77b4;stroke-opacity:0.8;\" x=\"83.288494\" xlink:href=\"#m7d05176fc4\" y=\"173.912919\"/>\n     <use style=\"fill:#1f77b4;fill-opacity:0.8;stroke:#1f77b4;stroke-opacity:0.8;\" x=\"184.74304\" xlink:href=\"#m7d05176fc4\" y=\"57.693572\"/>\n     <use style=\"fill:#1f77b4;fill-opacity:0.8;stroke:#1f77b4;stroke-opacity:0.8;\" x=\"83.288494\" xlink:href=\"#m7d05176fc4\" y=\"191.905744\"/>\n     <use style=\"fill:#1f77b4;fill-opacity:0.8;stroke:#1f77b4;stroke-opacity:0.8;\" x=\"83.288494\" xlink:href=\"#m7d05176fc4\" y=\"200.902157\"/>\n     <use style=\"fill:#1f77b4;fill-opacity:0.8;stroke:#1f77b4;stroke-opacity:0.8;\" x=\"184.74304\" xlink:href=\"#m7d05176fc4\" y=\"165.133488\"/>\n     <use style=\"fill:#1f77b4;fill-opacity:0.8;stroke:#1f77b4;stroke-opacity:0.8;\" x=\"184.74304\" xlink:href=\"#m7d05176fc4\" y=\"122.58149\"/>\n     <use style=\"fill:#1f77b4;fill-opacity:0.8;stroke:#1f77b4;stroke-opacity:0.8;\" x=\"286.197585\" xlink:href=\"#m7d05176fc4\" y=\"196.993024\"/>\n     <use style=\"fill:#1f77b4;fill-opacity:0.8;stroke:#1f77b4;stroke-opacity:0.8;\" x=\"83.288494\" xlink:href=\"#m7d05176fc4\" y=\"126.655901\"/>\n     <use style=\"fill:#1f77b4;fill-opacity:0.8;stroke:#1f77b4;stroke-opacity:0.8;\" x=\"184.74304\" xlink:href=\"#m7d05176fc4\" y=\"175.060564\"/>\n     <use style=\"fill:#1f77b4;fill-opacity:0.8;stroke:#1f77b4;stroke-opacity:0.8;\" x=\"83.288494\" xlink:href=\"#m7d05176fc4\" y=\"195.938619\"/>\n     <use style=\"fill:#1f77b4;fill-opacity:0.8;stroke:#1f77b4;stroke-opacity:0.8;\" x=\"184.74304\" xlink:href=\"#m7d05176fc4\" y=\"101.383047\"/>\n     <use style=\"fill:#1f77b4;fill-opacity:0.8;stroke:#1f77b4;stroke-opacity:0.8;\" x=\"184.74304\" xlink:href=\"#m7d05176fc4\" y=\"185.918303\"/>\n     <use style=\"fill:#1f77b4;fill-opacity:0.8;stroke:#1f77b4;stroke-opacity:0.8;\" x=\"387.652131\" xlink:href=\"#m7d05176fc4\" y=\"181.388729\"/>\n     <use style=\"fill:#1f77b4;fill-opacity:0.8;stroke:#1f77b4;stroke-opacity:0.8;\" x=\"184.74304\" xlink:href=\"#m7d05176fc4\" y=\"108.363022\"/>\n     <use style=\"fill:#1f77b4;fill-opacity:0.8;stroke:#1f77b4;stroke-opacity:0.8;\" x=\"286.197585\" xlink:href=\"#m7d05176fc4\" y=\"201.33612\"/>\n     <use style=\"fill:#1f77b4;fill-opacity:0.8;stroke:#1f77b4;stroke-opacity:0.8;\" x=\"83.288494\" xlink:href=\"#m7d05176fc4\" y=\"198.730609\"/>\n     <use style=\"fill:#1f77b4;fill-opacity:0.8;stroke:#1f77b4;stroke-opacity:0.8;\" x=\"184.74304\" xlink:href=\"#m7d05176fc4\" y=\"47.352868\"/>\n     <use style=\"fill:#1f77b4;fill-opacity:0.8;stroke:#1f77b4;stroke-opacity:0.8;\" x=\"83.288494\" xlink:href=\"#m7d05176fc4\" y=\"183.839995\"/>\n     <use style=\"fill:#1f77b4;fill-opacity:0.8;stroke:#1f77b4;stroke-opacity:0.8;\" x=\"184.74304\" xlink:href=\"#m7d05176fc4\" y=\"194.294274\"/>\n     <use style=\"fill:#1f77b4;fill-opacity:0.8;stroke:#1f77b4;stroke-opacity:0.8;\" x=\"83.288494\" xlink:href=\"#m7d05176fc4\" y=\"172.672034\"/>\n     <use style=\"fill:#1f77b4;fill-opacity:0.8;stroke:#1f77b4;stroke-opacity:0.8;\" x=\"83.288494\" xlink:href=\"#m7d05176fc4\" y=\"178.876457\"/>\n     <use style=\"fill:#1f77b4;fill-opacity:0.8;stroke:#1f77b4;stroke-opacity:0.8;\" x=\"83.288494\" xlink:href=\"#m7d05176fc4\" y=\"172.051592\"/>\n     <use style=\"fill:#1f77b4;fill-opacity:0.8;stroke:#1f77b4;stroke-opacity:0.8;\" x=\"387.652131\" xlink:href=\"#m7d05176fc4\" y=\"200.622438\"/>\n     <use style=\"fill:#1f77b4;fill-opacity:0.8;stroke:#1f77b4;stroke-opacity:0.8;\" x=\"286.197585\" xlink:href=\"#m7d05176fc4\" y=\"200.095235\"/>\n     <use style=\"fill:#1f77b4;fill-opacity:0.8;stroke:#1f77b4;stroke-opacity:0.8;\" x=\"83.288494\" xlink:href=\"#m7d05176fc4\" y=\"183.839995\"/>\n     <use style=\"fill:#1f77b4;fill-opacity:0.8;stroke:#1f77b4;stroke-opacity:0.8;\" x=\"184.74304\" xlink:href=\"#m7d05176fc4\" y=\"184.056977\"/>\n     <use style=\"fill:#1f77b4;fill-opacity:0.8;stroke:#1f77b4;stroke-opacity:0.8;\" x=\"83.288494\" xlink:href=\"#m7d05176fc4\" y=\"181.978668\"/>\n     <use style=\"fill:#1f77b4;fill-opacity:0.8;stroke:#1f77b4;stroke-opacity:0.8;\" x=\"83.288494\" xlink:href=\"#m7d05176fc4\" y=\"176.704909\"/>\n     <use style=\"fill:#1f77b4;fill-opacity:0.8;stroke:#1f77b4;stroke-opacity:0.8;\" x=\"387.652131\" xlink:href=\"#m7d05176fc4\" y=\"194.728237\"/>\n     <use style=\"fill:#1f77b4;fill-opacity:0.8;stroke:#1f77b4;stroke-opacity:0.8;\" x=\"387.652131\" xlink:href=\"#m7d05176fc4\" y=\"49.027715\"/>\n     <use style=\"fill:#1f77b4;fill-opacity:0.8;stroke:#1f77b4;stroke-opacity:0.8;\" x=\"184.74304\" xlink:href=\"#m7d05176fc4\" y=\"166.684594\"/>\n     <use style=\"fill:#1f77b4;fill-opacity:0.8;stroke:#1f77b4;stroke-opacity:0.8;\" x=\"83.288494\" xlink:href=\"#m7d05176fc4\" y=\"199.971493\"/>\n     <use style=\"fill:#1f77b4;fill-opacity:0.8;stroke:#1f77b4;stroke-opacity:0.8;\" x=\"286.197585\" xlink:href=\"#m7d05176fc4\" y=\"216.847176\"/>\n     <use style=\"fill:#1f77b4;fill-opacity:0.8;stroke:#1f77b4;stroke-opacity:0.8;\" x=\"184.74304\" xlink:href=\"#m7d05176fc4\" y=\"164.823267\"/>\n     <use style=\"fill:#1f77b4;fill-opacity:0.8;stroke:#1f77b4;stroke-opacity:0.8;\" x=\"184.74304\" xlink:href=\"#m7d05176fc4\" y=\"184.367198\"/>\n     <use style=\"fill:#1f77b4;fill-opacity:0.8;stroke:#1f77b4;stroke-opacity:0.8;\" x=\"83.288494\" xlink:href=\"#m7d05176fc4\" y=\"197.489724\"/>\n     <use style=\"fill:#1f77b4;fill-opacity:0.8;stroke:#1f77b4;stroke-opacity:0.8;\" x=\"184.74304\" xlink:href=\"#m7d05176fc4\" y=\"175.991227\"/>\n     <use style=\"fill:#1f77b4;fill-opacity:0.8;stroke:#1f77b4;stroke-opacity:0.8;\" x=\"83.288494\" xlink:href=\"#m7d05176fc4\" y=\"176.084467\"/>\n     <use style=\"fill:#1f77b4;fill-opacity:0.8;stroke:#1f77b4;stroke-opacity:0.8;\" x=\"184.74304\" xlink:href=\"#m7d05176fc4\" y=\"175.060564\"/>\n     <use style=\"fill:#1f77b4;fill-opacity:0.8;stroke:#1f77b4;stroke-opacity:0.8;\" x=\"184.74304\" xlink:href=\"#m7d05176fc4\" y=\"105.777846\"/>\n     <use style=\"fill:#1f77b4;fill-opacity:0.8;stroke:#1f77b4;stroke-opacity:0.8;\" x=\"83.288494\" xlink:href=\"#m7d05176fc4\" y=\"203.073705\"/>\n     <use style=\"fill:#1f77b4;fill-opacity:0.8;stroke:#1f77b4;stroke-opacity:0.8;\" x=\"83.288494\" xlink:href=\"#m7d05176fc4\" y=\"196.24884\"/>\n     <use style=\"fill:#1f77b4;fill-opacity:0.8;stroke:#1f77b4;stroke-opacity:0.8;\" x=\"184.74304\" xlink:href=\"#m7d05176fc4\" y=\"149.622432\"/>\n     <use style=\"fill:#1f77b4;fill-opacity:0.8;stroke:#1f77b4;stroke-opacity:0.8;\" x=\"184.74304\" xlink:href=\"#m7d05176fc4\" y=\"134.421597\"/>\n     <use style=\"fill:#1f77b4;fill-opacity:0.8;stroke:#1f77b4;stroke-opacity:0.8;\" x=\"286.197585\" xlink:href=\"#m7d05176fc4\" y=\"196.993024\"/>\n     <use style=\"fill:#1f77b4;fill-opacity:0.8;stroke:#1f77b4;stroke-opacity:0.8;\" x=\"387.652131\" xlink:href=\"#m7d05176fc4\" y=\"201.553102\"/>\n     <use style=\"fill:#1f77b4;fill-opacity:0.8;stroke:#1f77b4;stroke-opacity:0.8;\" x=\"184.74304\" xlink:href=\"#m7d05176fc4\" y=\"130.078501\"/>\n     <use style=\"fill:#1f77b4;fill-opacity:0.8;stroke:#1f77b4;stroke-opacity:0.8;\" x=\"184.74304\" xlink:href=\"#m7d05176fc4\" y=\"105.777846\"/>\n     <use style=\"fill:#1f77b4;fill-opacity:0.8;stroke:#1f77b4;stroke-opacity:0.8;\" x=\"286.197585\" xlink:href=\"#m7d05176fc4\" y=\"200.715678\"/>\n     <use style=\"fill:#1f77b4;fill-opacity:0.8;stroke:#1f77b4;stroke-opacity:0.8;\" x=\"83.288494\" xlink:href=\"#m7d05176fc4\" y=\"190.975081\"/>\n     <use style=\"fill:#1f77b4;fill-opacity:0.8;stroke:#1f77b4;stroke-opacity:0.8;\" x=\"184.74304\" xlink:href=\"#m7d05176fc4\" y=\"186.228524\"/>\n     <use style=\"fill:#1f77b4;fill-opacity:0.8;stroke:#1f77b4;stroke-opacity:0.8;\" x=\"83.288494\" xlink:href=\"#m7d05176fc4\" y=\"194.077292\"/>\n     <use style=\"fill:#1f77b4;fill-opacity:0.8;stroke:#1f77b4;stroke-opacity:0.8;\" x=\"83.288494\" xlink:href=\"#m7d05176fc4\" y=\"195.318177\"/>\n     <use style=\"fill:#1f77b4;fill-opacity:0.8;stroke:#1f77b4;stroke-opacity:0.8;\" x=\"83.288494\" xlink:href=\"#m7d05176fc4\" y=\"200.902157\"/>\n     <use style=\"fill:#1f77b4;fill-opacity:0.8;stroke:#1f77b4;stroke-opacity:0.8;\" x=\"184.74304\" xlink:href=\"#m7d05176fc4\" y=\"190.881841\"/>\n     <use style=\"fill:#1f77b4;fill-opacity:0.8;stroke:#1f77b4;stroke-opacity:0.8;\" x=\"387.652131\" xlink:href=\"#m7d05176fc4\" y=\"206.206418\"/>\n     <use style=\"fill:#1f77b4;fill-opacity:0.8;stroke:#1f77b4;stroke-opacity:0.8;\" x=\"387.652131\" xlink:href=\"#m7d05176fc4\" y=\"201.553102\"/>\n     <use style=\"fill:#1f77b4;fill-opacity:0.8;stroke:#1f77b4;stroke-opacity:0.8;\" x=\"184.74304\" xlink:href=\"#m7d05176fc4\" y=\"121.288902\"/>\n     <use style=\"fill:#1f77b4;fill-opacity:0.8;stroke:#1f77b4;stroke-opacity:0.8;\" x=\"83.288494\" xlink:href=\"#m7d05176fc4\" y=\"202.763484\"/>\n     <use style=\"fill:#1f77b4;fill-opacity:0.8;stroke:#1f77b4;stroke-opacity:0.8;\" x=\"83.288494\" xlink:href=\"#m7d05176fc4\" y=\"170.500487\"/>\n     <use style=\"fill:#1f77b4;fill-opacity:0.8;stroke:#1f77b4;stroke-opacity:0.8;\" x=\"83.288494\" xlink:href=\"#m7d05176fc4\" y=\"165.84717\"/>\n     <use style=\"fill:#1f77b4;fill-opacity:0.8;stroke:#1f77b4;stroke-opacity:0.8;\" x=\"286.197585\" xlink:href=\"#m7d05176fc4\" y=\"216.536955\"/>\n     <use style=\"fill:#1f77b4;fill-opacity:0.8;stroke:#1f77b4;stroke-opacity:0.8;\" x=\"286.197585\" xlink:href=\"#m7d05176fc4\" y=\"211.263196\"/>\n     <use style=\"fill:#1f77b4;fill-opacity:0.8;stroke:#1f77b4;stroke-opacity:0.8;\" x=\"184.74304\" xlink:href=\"#m7d05176fc4\" y=\"191.502284\"/>\n     <use style=\"fill:#1f77b4;fill-opacity:0.8;stroke:#1f77b4;stroke-opacity:0.8;\" x=\"83.288494\" xlink:href=\"#m7d05176fc4\" y=\"172.672034\"/>\n     <use style=\"fill:#1f77b4;fill-opacity:0.8;stroke:#1f77b4;stroke-opacity:0.8;\" x=\"184.74304\" xlink:href=\"#m7d05176fc4\" y=\"141.970311\"/>\n     <use style=\"fill:#1f77b4;fill-opacity:0.8;stroke:#1f77b4;stroke-opacity:0.8;\" x=\"184.74304\" xlink:href=\"#m7d05176fc4\" y=\"162.96194\"/>\n     <use style=\"fill:#1f77b4;fill-opacity:0.8;stroke:#1f77b4;stroke-opacity:0.8;\" x=\"387.652131\" xlink:href=\"#m7d05176fc4\" y=\"203.104207\"/>\n     <use style=\"fill:#1f77b4;fill-opacity:0.8;stroke:#1f77b4;stroke-opacity:0.8;\" x=\"184.74304\" xlink:href=\"#m7d05176fc4\" y=\"193.673831\"/>\n     <use style=\"fill:#1f77b4;fill-opacity:0.8;stroke:#1f77b4;stroke-opacity:0.8;\" x=\"83.288494\" xlink:href=\"#m7d05176fc4\" y=\"193.146629\"/>\n     <use style=\"fill:#1f77b4;fill-opacity:0.8;stroke:#1f77b4;stroke-opacity:0.8;\" x=\"83.288494\" xlink:href=\"#m7d05176fc4\" y=\"175.153803\"/>\n     <use style=\"fill:#1f77b4;fill-opacity:0.8;stroke:#1f77b4;stroke-opacity:0.8;\" x=\"83.288494\" xlink:href=\"#m7d05176fc4\" y=\"192.526186\"/>\n     <use style=\"fill:#1f77b4;fill-opacity:0.8;stroke:#1f77b4;stroke-opacity:0.8;\" x=\"184.74304\" xlink:href=\"#m7d05176fc4\" y=\"131.112571\"/>\n     <use style=\"fill:#1f77b4;fill-opacity:0.8;stroke:#1f77b4;stroke-opacity:0.8;\" x=\"286.197585\" xlink:href=\"#m7d05176fc4\" y=\"206.299658\"/>\n     <use style=\"fill:#1f77b4;fill-opacity:0.8;stroke:#1f77b4;stroke-opacity:0.8;\" x=\"83.288494\" xlink:href=\"#m7d05176fc4\" y=\"198.110167\"/>\n     <use style=\"fill:#1f77b4;fill-opacity:0.8;stroke:#1f77b4;stroke-opacity:0.8;\" x=\"184.74304\" xlink:href=\"#m7d05176fc4\" y=\"177.852554\"/>\n     <use style=\"fill:#1f77b4;fill-opacity:0.8;stroke:#1f77b4;stroke-opacity:0.8;\" x=\"83.288494\" xlink:href=\"#m7d05176fc4\" y=\"196.559061\"/>\n     <use style=\"fill:#1f77b4;fill-opacity:0.8;stroke:#1f77b4;stroke-opacity:0.8;\" x=\"387.652131\" xlink:href=\"#m7d05176fc4\" y=\"189.764699\"/>\n     <use style=\"fill:#1f77b4;fill-opacity:0.8;stroke:#1f77b4;stroke-opacity:0.8;\" x=\"387.652131\" xlink:href=\"#m7d05176fc4\" y=\"93.492743\"/>\n     <use style=\"fill:#1f77b4;fill-opacity:0.8;stroke:#1f77b4;stroke-opacity:0.8;\" x=\"184.74304\" xlink:href=\"#m7d05176fc4\" y=\"79.926086\"/>\n     <use style=\"fill:#1f77b4;fill-opacity:0.8;stroke:#1f77b4;stroke-opacity:0.8;\" x=\"83.288494\" xlink:href=\"#m7d05176fc4\" y=\"170.190265\"/>\n     <use style=\"fill:#1f77b4;fill-opacity:0.8;stroke:#1f77b4;stroke-opacity:0.8;\" x=\"83.288494\" xlink:href=\"#m7d05176fc4\" y=\"195.628398\"/>\n     <use style=\"fill:#1f77b4;fill-opacity:0.8;stroke:#1f77b4;stroke-opacity:0.8;\" x=\"184.74304\" xlink:href=\"#m7d05176fc4\" y=\"82.511262\"/>\n     <use style=\"fill:#1f77b4;fill-opacity:0.8;stroke:#1f77b4;stroke-opacity:0.8;\" x=\"83.288494\" xlink:href=\"#m7d05176fc4\" y=\"164.296064\"/>\n     <use style=\"fill:#1f77b4;fill-opacity:0.8;stroke:#1f77b4;stroke-opacity:0.8;\" x=\"83.288494\" xlink:href=\"#m7d05176fc4\" y=\"178.566236\"/>\n     <use style=\"fill:#1f77b4;fill-opacity:0.8;stroke:#1f77b4;stroke-opacity:0.8;\" x=\"83.288494\" xlink:href=\"#m7d05176fc4\" y=\"188.803533\"/>\n     <use style=\"fill:#1f77b4;fill-opacity:0.8;stroke:#1f77b4;stroke-opacity:0.8;\" x=\"83.288494\" xlink:href=\"#m7d05176fc4\" y=\"183.529774\"/>\n     <use style=\"fill:#1f77b4;fill-opacity:0.8;stroke:#1f77b4;stroke-opacity:0.8;\" x=\"83.288494\" xlink:href=\"#m7d05176fc4\" y=\"197.179503\"/>\n     <use style=\"fill:#1f77b4;fill-opacity:0.8;stroke:#1f77b4;stroke-opacity:0.8;\" x=\"184.74304\" xlink:href=\"#m7d05176fc4\" y=\"178.162775\"/>\n     <use style=\"fill:#1f77b4;fill-opacity:0.8;stroke:#1f77b4;stroke-opacity:0.8;\" x=\"286.197585\" xlink:href=\"#m7d05176fc4\" y=\"202.266783\"/>\n     <use style=\"fill:#1f77b4;fill-opacity:0.8;stroke:#1f77b4;stroke-opacity:0.8;\" x=\"83.288494\" xlink:href=\"#m7d05176fc4\" y=\"198.110167\"/>\n     <use style=\"fill:#1f77b4;fill-opacity:0.8;stroke:#1f77b4;stroke-opacity:0.8;\" x=\"83.288494\" xlink:href=\"#m7d05176fc4\" y=\"154.058767\"/>\n     <use style=\"fill:#1f77b4;fill-opacity:0.8;stroke:#1f77b4;stroke-opacity:0.8;\" x=\"83.288494\" xlink:href=\"#m7d05176fc4\" y=\"195.628398\"/>\n     <use style=\"fill:#1f77b4;fill-opacity:0.8;stroke:#1f77b4;stroke-opacity:0.8;\" x=\"83.288494\" xlink:href=\"#m7d05176fc4\" y=\"131.567736\"/>\n     <use style=\"fill:#1f77b4;fill-opacity:0.8;stroke:#1f77b4;stroke-opacity:0.8;\" x=\"387.652131\" xlink:href=\"#m7d05176fc4\" y=\"200.622438\"/>\n     <use style=\"fill:#1f77b4;fill-opacity:0.8;stroke:#1f77b4;stroke-opacity:0.8;\" x=\"286.197585\" xlink:href=\"#m7d05176fc4\" y=\"201.646341\"/>\n     <use style=\"fill:#1f77b4;fill-opacity:0.8;stroke:#1f77b4;stroke-opacity:0.8;\" x=\"184.74304\" xlink:href=\"#m7d05176fc4\" y=\"182.505871\"/>\n     <use style=\"fill:#1f77b4;fill-opacity:0.8;stroke:#1f77b4;stroke-opacity:0.8;\" x=\"184.74304\" xlink:href=\"#m7d05176fc4\" y=\"98.022318\"/>\n     <use style=\"fill:#1f77b4;fill-opacity:0.8;stroke:#1f77b4;stroke-opacity:0.8;\" x=\"184.74304\" xlink:href=\"#m7d05176fc4\" y=\"187.159188\"/>\n     <use style=\"fill:#1f77b4;fill-opacity:0.8;stroke:#1f77b4;stroke-opacity:0.8;\" x=\"184.74304\" xlink:href=\"#m7d05176fc4\" y=\"195.535158\"/>\n     <use style=\"fill:#1f77b4;fill-opacity:0.8;stroke:#1f77b4;stroke-opacity:0.8;\" x=\"387.652131\" xlink:href=\"#m7d05176fc4\" y=\"192.246468\"/>\n     <use style=\"fill:#1f77b4;fill-opacity:0.8;stroke:#1f77b4;stroke-opacity:0.8;\" x=\"83.288494\" xlink:href=\"#m7d05176fc4\" y=\"196.24884\"/>\n     <use style=\"fill:#1f77b4;fill-opacity:0.8;stroke:#1f77b4;stroke-opacity:0.8;\" x=\"286.197585\" xlink:href=\"#m7d05176fc4\" y=\"200.095235\"/>\n     <use style=\"fill:#1f77b4;fill-opacity:0.8;stroke:#1f77b4;stroke-opacity:0.8;\" x=\"184.74304\" xlink:href=\"#m7d05176fc4\" y=\"133.180712\"/>\n     <use style=\"fill:#1f77b4;fill-opacity:0.8;stroke:#1f77b4;stroke-opacity:0.8;\" x=\"286.197585\" xlink:href=\"#m7d05176fc4\" y=\"211.263196\"/>\n     <use style=\"fill:#1f77b4;fill-opacity:0.8;stroke:#1f77b4;stroke-opacity:0.8;\" x=\"184.74304\" xlink:href=\"#m7d05176fc4\" y=\"191.192062\"/>\n     <use style=\"fill:#1f77b4;fill-opacity:0.8;stroke:#1f77b4;stroke-opacity:0.8;\" x=\"83.288494\" xlink:href=\"#m7d05176fc4\" y=\"189.423975\"/>\n     <use style=\"fill:#1f77b4;fill-opacity:0.8;stroke:#1f77b4;stroke-opacity:0.8;\" x=\"184.74304\" xlink:href=\"#m7d05176fc4\" y=\"154.379156\"/>\n     <use style=\"fill:#1f77b4;fill-opacity:0.8;stroke:#1f77b4;stroke-opacity:0.8;\" x=\"83.288494\" xlink:href=\"#m7d05176fc4\" y=\"203.383926\"/>\n     <use style=\"fill:#1f77b4;fill-opacity:0.8;stroke:#1f77b4;stroke-opacity:0.8;\" x=\"184.74304\" xlink:href=\"#m7d05176fc4\" y=\"164.823267\"/>\n     <use style=\"fill:#1f77b4;fill-opacity:0.8;stroke:#1f77b4;stroke-opacity:0.8;\" x=\"184.74304\" xlink:href=\"#m7d05176fc4\" y=\"181.885429\"/>\n     <use style=\"fill:#1f77b4;fill-opacity:0.8;stroke:#1f77b4;stroke-opacity:0.8;\" x=\"83.288494\" xlink:href=\"#m7d05176fc4\" y=\"201.212378\"/>\n     <use style=\"fill:#1f77b4;fill-opacity:0.8;stroke:#1f77b4;stroke-opacity:0.8;\" x=\"83.288494\" xlink:href=\"#m7d05176fc4\" y=\"166.157391\"/>\n     <use style=\"fill:#1f77b4;fill-opacity:0.8;stroke:#1f77b4;stroke-opacity:0.8;\" x=\"83.288494\" xlink:href=\"#m7d05176fc4\" y=\"199.351051\"/>\n     <use style=\"fill:#1f77b4;fill-opacity:0.8;stroke:#1f77b4;stroke-opacity:0.8;\" x=\"184.74304\" xlink:href=\"#m7d05176fc4\" y=\"107.070434\"/>\n     <use style=\"fill:#1f77b4;fill-opacity:0.8;stroke:#1f77b4;stroke-opacity:0.8;\" x=\"387.652131\" xlink:href=\"#m7d05176fc4\" y=\"206.826861\"/>\n     <use style=\"fill:#1f77b4;fill-opacity:0.8;stroke:#1f77b4;stroke-opacity:0.8;\" x=\"184.74304\" xlink:href=\"#m7d05176fc4\" y=\"33.909952\"/>\n     <use style=\"fill:#1f77b4;fill-opacity:0.8;stroke:#1f77b4;stroke-opacity:0.8;\" x=\"286.197585\" xlink:href=\"#m7d05176fc4\" y=\"207.540542\"/>\n     <use style=\"fill:#1f77b4;fill-opacity:0.8;stroke:#1f77b4;stroke-opacity:0.8;\" x=\"83.288494\" xlink:href=\"#m7d05176fc4\" y=\"211.139454\"/>\n     <use style=\"fill:#1f77b4;fill-opacity:0.8;stroke:#1f77b4;stroke-opacity:0.8;\" x=\"387.652131\" xlink:href=\"#m7d05176fc4\" y=\"172.702537\"/>\n     <use style=\"fill:#1f77b4;fill-opacity:0.8;stroke:#1f77b4;stroke-opacity:0.8;\" x=\"387.652131\" xlink:href=\"#m7d05176fc4\" y=\"200.932659\"/>\n     <use style=\"fill:#1f77b4;fill-opacity:0.8;stroke:#1f77b4;stroke-opacity:0.8;\" x=\"184.74304\" xlink:href=\"#m7d05176fc4\" y=\"164.823267\"/>\n     <use style=\"fill:#1f77b4;fill-opacity:0.8;stroke:#1f77b4;stroke-opacity:0.8;\" x=\"387.652131\" xlink:href=\"#m7d05176fc4\" y=\"200.622438\"/>\n     <use style=\"fill:#1f77b4;fill-opacity:0.8;stroke:#1f77b4;stroke-opacity:0.8;\" x=\"184.74304\" xlink:href=\"#m7d05176fc4\" y=\"160.480171\"/>\n     <use style=\"fill:#1f77b4;fill-opacity:0.8;stroke:#1f77b4;stroke-opacity:0.8;\" x=\"83.288494\" xlink:href=\"#m7d05176fc4\" y=\"202.453262\"/>\n     <use style=\"fill:#1f77b4;fill-opacity:0.8;stroke:#1f77b4;stroke-opacity:0.8;\" x=\"387.652131\" xlink:href=\"#m7d05176fc4\" y=\"191.936247\"/>\n     <use style=\"fill:#1f77b4;fill-opacity:0.8;stroke:#1f77b4;stroke-opacity:0.8;\" x=\"184.74304\" xlink:href=\"#m7d05176fc4\" y=\"192.432947\"/>\n     <use style=\"fill:#1f77b4;fill-opacity:0.8;stroke:#1f77b4;stroke-opacity:0.8;\" x=\"184.74304\" xlink:href=\"#m7d05176fc4\" y=\"155.154708\"/>\n     <use style=\"fill:#1f77b4;fill-opacity:0.8;stroke:#1f77b4;stroke-opacity:0.8;\" x=\"286.197585\" xlink:href=\"#m7d05176fc4\" y=\"207.850764\"/>\n     <use style=\"fill:#1f77b4;fill-opacity:0.8;stroke:#1f77b4;stroke-opacity:0.8;\" x=\"184.74304\" xlink:href=\"#m7d05176fc4\" y=\"203.911129\"/>\n     <use style=\"fill:#1f77b4;fill-opacity:0.8;stroke:#1f77b4;stroke-opacity:0.8;\" x=\"83.288494\" xlink:href=\"#m7d05176fc4\" y=\"205.245253\"/>\n     <use style=\"fill:#1f77b4;fill-opacity:0.8;stroke:#1f77b4;stroke-opacity:0.8;\" x=\"286.197585\" xlink:href=\"#m7d05176fc4\" y=\"195.75214\"/>\n     <use style=\"fill:#1f77b4;fill-opacity:0.8;stroke:#1f77b4;stroke-opacity:0.8;\" x=\"83.288494\" xlink:href=\"#m7d05176fc4\" y=\"194.387513\"/>\n     <use style=\"fill:#1f77b4;fill-opacity:0.8;stroke:#1f77b4;stroke-opacity:0.8;\" x=\"184.74304\" xlink:href=\"#m7d05176fc4\" y=\"157.688181\"/>\n     <use style=\"fill:#1f77b4;fill-opacity:0.8;stroke:#1f77b4;stroke-opacity:0.8;\" x=\"83.288494\" xlink:href=\"#m7d05176fc4\" y=\"185.701322\"/>\n     <use style=\"fill:#1f77b4;fill-opacity:0.8;stroke:#1f77b4;stroke-opacity:0.8;\" x=\"184.74304\" xlink:href=\"#m7d05176fc4\" y=\"139.074914\"/>\n     <use style=\"fill:#1f77b4;fill-opacity:0.8;stroke:#1f77b4;stroke-opacity:0.8;\" x=\"286.197585\" xlink:href=\"#m7d05176fc4\" y=\"194.511255\"/>\n     <use style=\"fill:#1f77b4;fill-opacity:0.8;stroke:#1f77b4;stroke-opacity:0.8;\" x=\"83.288494\" xlink:href=\"#m7d05176fc4\" y=\"168.328939\"/>\n     <use style=\"fill:#1f77b4;fill-opacity:0.8;stroke:#1f77b4;stroke-opacity:0.8;\" x=\"184.74304\" xlink:href=\"#m7d05176fc4\" y=\"181.575208\"/>\n     <use style=\"fill:#1f77b4;fill-opacity:0.8;stroke:#1f77b4;stroke-opacity:0.8;\" x=\"184.74304\" xlink:href=\"#m7d05176fc4\" y=\"143.418009\"/>\n     <use style=\"fill:#1f77b4;fill-opacity:0.8;stroke:#1f77b4;stroke-opacity:0.8;\" x=\"184.74304\" xlink:href=\"#m7d05176fc4\" y=\"185.918303\"/>\n     <use style=\"fill:#1f77b4;fill-opacity:0.8;stroke:#1f77b4;stroke-opacity:0.8;\" x=\"83.288494\" xlink:href=\"#m7d05176fc4\" y=\"194.697734\"/>\n     <use style=\"fill:#1f77b4;fill-opacity:0.8;stroke:#1f77b4;stroke-opacity:0.8;\" x=\"184.74304\" xlink:href=\"#m7d05176fc4\" y=\"150.242874\"/>\n     <use style=\"fill:#1f77b4;fill-opacity:0.8;stroke:#1f77b4;stroke-opacity:0.8;\" x=\"83.288494\" xlink:href=\"#m7d05176fc4\" y=\"208.967906\"/>\n     <use style=\"fill:#1f77b4;fill-opacity:0.8;stroke:#1f77b4;stroke-opacity:0.8;\" x=\"184.74304\" xlink:href=\"#m7d05176fc4\" y=\"184.056977\"/>\n     <use style=\"fill:#1f77b4;fill-opacity:0.8;stroke:#1f77b4;stroke-opacity:0.8;\" x=\"83.288494\" xlink:href=\"#m7d05176fc4\" y=\"191.285302\"/>\n     <use style=\"fill:#1f77b4;fill-opacity:0.8;stroke:#1f77b4;stroke-opacity:0.8;\" x=\"184.74304\" xlink:href=\"#m7d05176fc4\" y=\"126.459254\"/>\n     <use style=\"fill:#1f77b4;fill-opacity:0.8;stroke:#1f77b4;stroke-opacity:0.8;\" x=\"83.288494\" xlink:href=\"#m7d05176fc4\" y=\"188.803533\"/>\n     <use style=\"fill:#1f77b4;fill-opacity:0.8;stroke:#1f77b4;stroke-opacity:0.8;\" x=\"184.74304\" xlink:href=\"#m7d05176fc4\" y=\"191.192062\"/>\n     <use style=\"fill:#1f77b4;fill-opacity:0.8;stroke:#1f77b4;stroke-opacity:0.8;\" x=\"83.288494\" xlink:href=\"#m7d05176fc4\" y=\"190.975081\"/>\n     <use style=\"fill:#1f77b4;fill-opacity:0.8;stroke:#1f77b4;stroke-opacity:0.8;\" x=\"83.288494\" xlink:href=\"#m7d05176fc4\" y=\"196.559061\"/>\n     <use style=\"fill:#1f77b4;fill-opacity:0.8;stroke:#1f77b4;stroke-opacity:0.8;\" x=\"184.74304\" xlink:href=\"#m7d05176fc4\" y=\"185.297861\"/>\n     <use style=\"fill:#1f77b4;fill-opacity:0.8;stroke:#1f77b4;stroke-opacity:0.8;\" x=\"83.288494\" xlink:href=\"#m7d05176fc4\" y=\"183.219553\"/>\n     <use style=\"fill:#1f77b4;fill-opacity:0.8;stroke:#1f77b4;stroke-opacity:0.8;\" x=\"83.288494\" xlink:href=\"#m7d05176fc4\" y=\"186.321764\"/>\n     <use style=\"fill:#1f77b4;fill-opacity:0.8;stroke:#1f77b4;stroke-opacity:0.8;\" x=\"83.288494\" xlink:href=\"#m7d05176fc4\" y=\"200.902157\"/>\n     <use style=\"fill:#1f77b4;fill-opacity:0.8;stroke:#1f77b4;stroke-opacity:0.8;\" x=\"83.288494\" xlink:href=\"#m7d05176fc4\" y=\"192.836408\"/>\n     <use style=\"fill:#1f77b4;fill-opacity:0.8;stroke:#1f77b4;stroke-opacity:0.8;\" x=\"184.74304\" xlink:href=\"#m7d05176fc4\" y=\"191.502284\"/>\n     <use style=\"fill:#1f77b4;fill-opacity:0.8;stroke:#1f77b4;stroke-opacity:0.8;\" x=\"83.288494\" xlink:href=\"#m7d05176fc4\" y=\"191.285302\"/>\n     <use style=\"fill:#1f77b4;fill-opacity:0.8;stroke:#1f77b4;stroke-opacity:0.8;\" x=\"184.74304\" xlink:href=\"#m7d05176fc4\" y=\"152.82805\"/>\n     <use style=\"fill:#1f77b4;fill-opacity:0.8;stroke:#1f77b4;stroke-opacity:0.8;\" x=\"83.288494\" xlink:href=\"#m7d05176fc4\" y=\"203.383926\"/>\n     <use style=\"fill:#1f77b4;fill-opacity:0.8;stroke:#1f77b4;stroke-opacity:0.8;\" x=\"184.74304\" xlink:href=\"#m7d05176fc4\" y=\"195.535158\"/>\n     <use style=\"fill:#1f77b4;fill-opacity:0.8;stroke:#1f77b4;stroke-opacity:0.8;\" x=\"184.74304\" xlink:href=\"#m7d05176fc4\" y=\"109.65561\"/>\n     <use style=\"fill:#1f77b4;fill-opacity:0.8;stroke:#1f77b4;stroke-opacity:0.8;\" x=\"83.288494\" xlink:href=\"#m7d05176fc4\" y=\"210.519012\"/>\n     <use style=\"fill:#1f77b4;fill-opacity:0.8;stroke:#1f77b4;stroke-opacity:0.8;\" x=\"83.288494\" xlink:href=\"#m7d05176fc4\" y=\"191.905744\"/>\n     <use style=\"fill:#1f77b4;fill-opacity:0.8;stroke:#1f77b4;stroke-opacity:0.8;\" x=\"184.74304\" xlink:href=\"#m7d05176fc4\" y=\"193.673831\"/>\n     <use style=\"fill:#1f77b4;fill-opacity:0.8;stroke:#1f77b4;stroke-opacity:0.8;\" x=\"83.288494\" xlink:href=\"#m7d05176fc4\" y=\"199.661272\"/>\n     <use style=\"fill:#1f77b4;fill-opacity:0.8;stroke:#1f77b4;stroke-opacity:0.8;\" x=\"286.197585\" xlink:href=\"#m7d05176fc4\" y=\"197.303245\"/>\n     <use style=\"fill:#1f77b4;fill-opacity:0.8;stroke:#1f77b4;stroke-opacity:0.8;\" x=\"286.197585\" xlink:href=\"#m7d05176fc4\" y=\"203.197447\"/>\n     <use style=\"fill:#1f77b4;fill-opacity:0.8;stroke:#1f77b4;stroke-opacity:0.8;\" x=\"83.288494\" xlink:href=\"#m7d05176fc4\" y=\"198.730609\"/>\n     <use style=\"fill:#1f77b4;fill-opacity:0.8;stroke:#1f77b4;stroke-opacity:0.8;\" x=\"184.74304\" xlink:href=\"#m7d05176fc4\" y=\"125.166666\"/>\n     <use style=\"fill:#1f77b4;fill-opacity:0.8;stroke:#1f77b4;stroke-opacity:0.8;\" x=\"387.652131\" xlink:href=\"#m7d05176fc4\" y=\"203.724649\"/>\n     <use style=\"fill:#1f77b4;fill-opacity:0.8;stroke:#1f77b4;stroke-opacity:0.8;\" x=\"184.74304\" xlink:href=\"#m7d05176fc4\" y=\"92.851966\"/>\n     <use style=\"fill:#1f77b4;fill-opacity:0.8;stroke:#1f77b4;stroke-opacity:0.8;\" x=\"83.288494\" xlink:href=\"#m7d05176fc4\" y=\"181.358226\"/>\n     <use style=\"fill:#1f77b4;fill-opacity:0.8;stroke:#1f77b4;stroke-opacity:0.8;\" x=\"286.197585\" xlink:href=\"#m7d05176fc4\" y=\"204.12811\"/>\n     <use style=\"fill:#1f77b4;fill-opacity:0.8;stroke:#1f77b4;stroke-opacity:0.8;\" x=\"286.197585\" xlink:href=\"#m7d05176fc4\" y=\"208.160985\"/>\n     <use style=\"fill:#1f77b4;fill-opacity:0.8;stroke:#1f77b4;stroke-opacity:0.8;\" x=\"184.74304\" xlink:href=\"#m7d05176fc4\" y=\"190.57162\"/>\n     <use style=\"fill:#1f77b4;fill-opacity:0.8;stroke:#1f77b4;stroke-opacity:0.8;\" x=\"184.74304\" xlink:href=\"#m7d05176fc4\" y=\"158.184535\"/>\n     <use style=\"fill:#1f77b4;fill-opacity:0.8;stroke:#1f77b4;stroke-opacity:0.8;\" x=\"184.74304\" xlink:href=\"#m7d05176fc4\" y=\"194.294274\"/>\n     <use style=\"fill:#1f77b4;fill-opacity:0.8;stroke:#1f77b4;stroke-opacity:0.8;\" x=\"184.74304\" xlink:href=\"#m7d05176fc4\" y=\"187.469409\"/>\n     <use style=\"fill:#1f77b4;fill-opacity:0.8;stroke:#1f77b4;stroke-opacity:0.8;\" x=\"83.288494\" xlink:href=\"#m7d05176fc4\" y=\"197.489724\"/>\n     <use style=\"fill:#1f77b4;fill-opacity:0.8;stroke:#1f77b4;stroke-opacity:0.8;\" x=\"184.74304\" xlink:href=\"#m7d05176fc4\" y=\"177.852554\"/>\n     <use style=\"fill:#1f77b4;fill-opacity:0.8;stroke:#1f77b4;stroke-opacity:0.8;\" x=\"184.74304\" xlink:href=\"#m7d05176fc4\" y=\"107.070434\"/>\n     <use style=\"fill:#1f77b4;fill-opacity:0.8;stroke:#1f77b4;stroke-opacity:0.8;\" x=\"83.288494\" xlink:href=\"#m7d05176fc4\" y=\"197.799946\"/>\n     <use style=\"fill:#1f77b4;fill-opacity:0.8;stroke:#1f77b4;stroke-opacity:0.8;\" x=\"184.74304\" xlink:href=\"#m7d05176fc4\" y=\"188.400072\"/>\n     <use style=\"fill:#1f77b4;fill-opacity:0.8;stroke:#1f77b4;stroke-opacity:0.8;\" x=\"184.74304\" xlink:href=\"#m7d05176fc4\" y=\"123.874078\"/>\n     <use style=\"fill:#1f77b4;fill-opacity:0.8;stroke:#1f77b4;stroke-opacity:0.8;\" x=\"286.197585\" xlink:href=\"#m7d05176fc4\" y=\"198.54413\"/>\n     <use style=\"fill:#1f77b4;fill-opacity:0.8;stroke:#1f77b4;stroke-opacity:0.8;\" x=\"184.74304\" xlink:href=\"#m7d05176fc4\" y=\"141.556683\"/>\n     <use style=\"fill:#1f77b4;fill-opacity:0.8;stroke:#1f77b4;stroke-opacity:0.8;\" x=\"387.652131\" xlink:href=\"#m7d05176fc4\" y=\"198.45089\"/>\n     <use style=\"fill:#1f77b4;fill-opacity:0.8;stroke:#1f77b4;stroke-opacity:0.8;\" x=\"184.74304\" xlink:href=\"#m7d05176fc4\" y=\"189.330736\"/>\n     <use style=\"fill:#1f77b4;fill-opacity:0.8;stroke:#1f77b4;stroke-opacity:0.8;\" x=\"83.288494\" xlink:href=\"#m7d05176fc4\" y=\"182.59911\"/>\n     <use style=\"fill:#1f77b4;fill-opacity:0.8;stroke:#1f77b4;stroke-opacity:0.8;\" x=\"83.288494\" xlink:href=\"#m7d05176fc4\" y=\"194.077292\"/>\n     <use style=\"fill:#1f77b4;fill-opacity:0.8;stroke:#1f77b4;stroke-opacity:0.8;\" x=\"184.74304\" xlink:href=\"#m7d05176fc4\" y=\"60.537266\"/>\n     <use style=\"fill:#1f77b4;fill-opacity:0.8;stroke:#1f77b4;stroke-opacity:0.8;\" x=\"184.74304\" xlink:href=\"#m7d05176fc4\" y=\"186.228524\"/>\n     <use style=\"fill:#1f77b4;fill-opacity:0.8;stroke:#1f77b4;stroke-opacity:0.8;\" x=\"83.288494\" xlink:href=\"#m7d05176fc4\" y=\"210.519012\"/>\n     <use style=\"fill:#1f77b4;fill-opacity:0.8;stroke:#1f77b4;stroke-opacity:0.8;\" x=\"387.652131\" xlink:href=\"#m7d05176fc4\" y=\"192.246468\"/>\n     <use style=\"fill:#1f77b4;fill-opacity:0.8;stroke:#1f77b4;stroke-opacity:0.8;\" x=\"286.197585\" xlink:href=\"#m7d05176fc4\" y=\"215.916513\"/>\n     <use style=\"fill:#1f77b4;fill-opacity:0.8;stroke:#1f77b4;stroke-opacity:0.8;\" x=\"387.652131\" xlink:href=\"#m7d05176fc4\" y=\"198.140669\"/>\n     <use style=\"fill:#1f77b4;fill-opacity:0.8;stroke:#1f77b4;stroke-opacity:0.8;\" x=\"387.652131\" xlink:href=\"#m7d05176fc4\" y=\"164.947009\"/>\n     <use style=\"fill:#1f77b4;fill-opacity:0.8;stroke:#1f77b4;stroke-opacity:0.8;\" x=\"387.652131\" xlink:href=\"#m7d05176fc4\" y=\"198.45089\"/>\n     <use style=\"fill:#1f77b4;fill-opacity:0.8;stroke:#1f77b4;stroke-opacity:0.8;\" x=\"387.652131\" xlink:href=\"#m7d05176fc4\" y=\"210.859735\"/>\n     <use style=\"fill:#1f77b4;fill-opacity:0.8;stroke:#1f77b4;stroke-opacity:0.8;\" x=\"184.74304\" xlink:href=\"#m7d05176fc4\" y=\"182.505871\"/>\n     <use style=\"fill:#1f77b4;fill-opacity:0.8;stroke:#1f77b4;stroke-opacity:0.8;\" x=\"83.288494\" xlink:href=\"#m7d05176fc4\" y=\"199.351051\"/>\n     <use style=\"fill:#1f77b4;fill-opacity:0.8;stroke:#1f77b4;stroke-opacity:0.8;\" x=\"184.74304\" xlink:href=\"#m7d05176fc4\" y=\"185.359905\"/>\n     <use style=\"fill:#1f77b4;fill-opacity:0.8;stroke:#1f77b4;stroke-opacity:0.8;\" x=\"184.74304\" xlink:href=\"#m7d05176fc4\" y=\"184.367198\"/>\n     <use style=\"fill:#1f77b4;fill-opacity:0.8;stroke:#1f77b4;stroke-opacity:0.8;\" x=\"286.197585\" xlink:href=\"#m7d05176fc4\" y=\"202.266783\"/>\n     <use style=\"fill:#1f77b4;fill-opacity:0.8;stroke:#1f77b4;stroke-opacity:0.8;\" x=\"184.74304\" xlink:href=\"#m7d05176fc4\" y=\"180.644544\"/>\n     <use style=\"fill:#1f77b4;fill-opacity:0.8;stroke:#1f77b4;stroke-opacity:0.8;\" x=\"387.652131\" xlink:href=\"#m7d05176fc4\" y=\"195.6589\"/>\n     <use style=\"fill:#1f77b4;fill-opacity:0.8;stroke:#1f77b4;stroke-opacity:0.8;\" x=\"83.288494\" xlink:href=\"#m7d05176fc4\" y=\"208.347464\"/>\n     <use style=\"fill:#1f77b4;fill-opacity:0.8;stroke:#1f77b4;stroke-opacity:0.8;\" x=\"184.74304\" xlink:href=\"#m7d05176fc4\" y=\"109.65561\"/>\n     <use style=\"fill:#1f77b4;fill-opacity:0.8;stroke:#1f77b4;stroke-opacity:0.8;\" x=\"184.74304\" xlink:href=\"#m7d05176fc4\" y=\"187.159188\"/>\n     <use style=\"fill:#1f77b4;fill-opacity:0.8;stroke:#1f77b4;stroke-opacity:0.8;\" x=\"83.288494\" xlink:href=\"#m7d05176fc4\" y=\"155.092837\"/>\n     <use style=\"fill:#1f77b4;fill-opacity:0.8;stroke:#1f77b4;stroke-opacity:0.8;\" x=\"286.197585\" xlink:href=\"#m7d05176fc4\" y=\"200.715678\"/>\n     <use style=\"fill:#1f77b4;fill-opacity:0.8;stroke:#1f77b4;stroke-opacity:0.8;\" x=\"83.288494\" xlink:href=\"#m7d05176fc4\" y=\"189.423975\"/>\n     <use style=\"fill:#1f77b4;fill-opacity:0.8;stroke:#1f77b4;stroke-opacity:0.8;\" x=\"83.288494\" xlink:href=\"#m7d05176fc4\" y=\"208.657685\"/>\n     <use style=\"fill:#1f77b4;fill-opacity:0.8;stroke:#1f77b4;stroke-opacity:0.8;\" x=\"184.74304\" xlink:href=\"#m7d05176fc4\" y=\"184.367198\"/>\n     <use style=\"fill:#1f77b4;fill-opacity:0.8;stroke:#1f77b4;stroke-opacity:0.8;\" x=\"83.288494\" xlink:href=\"#m7d05176fc4\" y=\"201.83282\"/>\n     <use style=\"fill:#1f77b4;fill-opacity:0.8;stroke:#1f77b4;stroke-opacity:0.8;\" x=\"184.74304\" xlink:href=\"#m7d05176fc4\" y=\"187.77963\"/>\n     <use style=\"fill:#1f77b4;fill-opacity:0.8;stroke:#1f77b4;stroke-opacity:0.8;\" x=\"387.652131\" xlink:href=\"#m7d05176fc4\" y=\"192.246468\"/>\n     <use style=\"fill:#1f77b4;fill-opacity:0.8;stroke:#1f77b4;stroke-opacity:0.8;\" x=\"83.288494\" xlink:href=\"#m7d05176fc4\" y=\"194.387513\"/>\n     <use style=\"fill:#1f77b4;fill-opacity:0.8;stroke:#1f77b4;stroke-opacity:0.8;\" x=\"184.74304\" xlink:href=\"#m7d05176fc4\" y=\"123.098526\"/>\n     <use style=\"fill:#1f77b4;fill-opacity:0.8;stroke:#1f77b4;stroke-opacity:0.8;\" x=\"184.74304\" xlink:href=\"#m7d05176fc4\" y=\"138.092547\"/>\n     <use style=\"fill:#1f77b4;fill-opacity:0.8;stroke:#1f77b4;stroke-opacity:0.8;\" x=\"83.288494\" xlink:href=\"#m7d05176fc4\" y=\"200.591936\"/>\n     <use style=\"fill:#1f77b4;fill-opacity:0.8;stroke:#1f77b4;stroke-opacity:0.8;\" x=\"83.288494\" xlink:href=\"#m7d05176fc4\" y=\"193.45685\"/>\n     <use style=\"fill:#1f77b4;fill-opacity:0.8;stroke:#1f77b4;stroke-opacity:0.8;\" x=\"83.288494\" xlink:href=\"#m7d05176fc4\" y=\"186.321764\"/>\n     <use style=\"fill:#1f77b4;fill-opacity:0.8;stroke:#1f77b4;stroke-opacity:0.8;\" x=\"184.74304\" xlink:href=\"#m7d05176fc4\" y=\"193.673831\"/>\n     <use style=\"fill:#1f77b4;fill-opacity:0.8;stroke:#1f77b4;stroke-opacity:0.8;\" x=\"387.652131\" xlink:href=\"#m7d05176fc4\" y=\"209.30863\"/>\n     <use style=\"fill:#1f77b4;fill-opacity:0.8;stroke:#1f77b4;stroke-opacity:0.8;\" x=\"184.74304\" xlink:href=\"#m7d05176fc4\" y=\"123.874078\"/>\n     <use style=\"fill:#1f77b4;fill-opacity:0.8;stroke:#1f77b4;stroke-opacity:0.8;\" x=\"184.74304\" xlink:href=\"#m7d05176fc4\" y=\"144.555487\"/>\n     <use style=\"fill:#1f77b4;fill-opacity:0.8;stroke:#1f77b4;stroke-opacity:0.8;\" x=\"83.288494\" xlink:href=\"#m7d05176fc4\" y=\"199.04083\"/>\n     <use style=\"fill:#1f77b4;fill-opacity:0.8;stroke:#1f77b4;stroke-opacity:0.8;\" x=\"184.74304\" xlink:href=\"#m7d05176fc4\" y=\"92.851966\"/>\n     <use style=\"fill:#1f77b4;fill-opacity:0.8;stroke:#1f77b4;stroke-opacity:0.8;\" x=\"184.74304\" xlink:href=\"#m7d05176fc4\" y=\"95.954177\"/>\n     <use style=\"fill:#1f77b4;fill-opacity:0.8;stroke:#1f77b4;stroke-opacity:0.8;\" x=\"184.74304\" xlink:href=\"#m7d05176fc4\" y=\"177.852554\"/>\n     <use style=\"fill:#1f77b4;fill-opacity:0.8;stroke:#1f77b4;stroke-opacity:0.8;\" x=\"83.288494\" xlink:href=\"#m7d05176fc4\" y=\"185.080879\"/>\n     <use style=\"fill:#1f77b4;fill-opacity:0.8;stroke:#1f77b4;stroke-opacity:0.8;\" x=\"83.288494\" xlink:href=\"#m7d05176fc4\" y=\"211.449675\"/>\n     <use style=\"fill:#1f77b4;fill-opacity:0.8;stroke:#1f77b4;stroke-opacity:0.8;\" x=\"184.74304\" xlink:href=\"#m7d05176fc4\" y=\"184.367198\"/>\n     <use style=\"fill:#1f77b4;fill-opacity:0.8;stroke:#1f77b4;stroke-opacity:0.8;\" x=\"83.288494\" xlink:href=\"#m7d05176fc4\" y=\"199.661272\"/>\n     <use style=\"fill:#1f77b4;fill-opacity:0.8;stroke:#1f77b4;stroke-opacity:0.8;\" x=\"184.74304\" xlink:href=\"#m7d05176fc4\" y=\"189.020515\"/>\n     <use style=\"fill:#1f77b4;fill-opacity:0.8;stroke:#1f77b4;stroke-opacity:0.8;\" x=\"83.288494\" xlink:href=\"#m7d05176fc4\" y=\"194.077292\"/>\n     <use style=\"fill:#1f77b4;fill-opacity:0.8;stroke:#1f77b4;stroke-opacity:0.8;\" x=\"184.74304\" xlink:href=\"#m7d05176fc4\" y=\"147.140663\"/>\n     <use style=\"fill:#1f77b4;fill-opacity:0.8;stroke:#1f77b4;stroke-opacity:0.8;\" x=\"184.74304\" xlink:href=\"#m7d05176fc4\" y=\"161.100613\"/>\n     <use style=\"fill:#1f77b4;fill-opacity:0.8;stroke:#1f77b4;stroke-opacity:0.8;\" x=\"184.74304\" xlink:href=\"#m7d05176fc4\" y=\"175.681006\"/>\n     <use style=\"fill:#1f77b4;fill-opacity:0.8;stroke:#1f77b4;stroke-opacity:0.8;\" x=\"387.652131\" xlink:href=\"#m7d05176fc4\" y=\"209.30863\"/>\n     <use style=\"fill:#1f77b4;fill-opacity:0.8;stroke:#1f77b4;stroke-opacity:0.8;\" x=\"83.288494\" xlink:href=\"#m7d05176fc4\" y=\"187.562648\"/>\n     <use style=\"fill:#1f77b4;fill-opacity:0.8;stroke:#1f77b4;stroke-opacity:0.8;\" x=\"184.74304\" xlink:href=\"#m7d05176fc4\" y=\"74.755734\"/>\n     <use style=\"fill:#1f77b4;fill-opacity:0.8;stroke:#1f77b4;stroke-opacity:0.8;\" x=\"184.74304\" xlink:href=\"#m7d05176fc4\" y=\"173.199237\"/>\n     <use style=\"fill:#1f77b4;fill-opacity:0.8;stroke:#1f77b4;stroke-opacity:0.8;\" x=\"184.74304\" xlink:href=\"#m7d05176fc4\" y=\"170.407247\"/>\n     <use style=\"fill:#1f77b4;fill-opacity:0.8;stroke:#1f77b4;stroke-opacity:0.8;\" x=\"83.288494\" xlink:href=\"#m7d05176fc4\" y=\"193.146629\"/>\n     <use style=\"fill:#1f77b4;fill-opacity:0.8;stroke:#1f77b4;stroke-opacity:0.8;\" x=\"83.288494\" xlink:href=\"#m7d05176fc4\" y=\"206.486137\"/>\n     <use style=\"fill:#1f77b4;fill-opacity:0.8;stroke:#1f77b4;stroke-opacity:0.8;\" x=\"83.288494\" xlink:href=\"#m7d05176fc4\" y=\"185.080879\"/>\n     <use style=\"fill:#1f77b4;fill-opacity:0.8;stroke:#1f77b4;stroke-opacity:0.8;\" x=\"184.74304\" xlink:href=\"#m7d05176fc4\" y=\"202.360023\"/>\n     <use style=\"fill:#1f77b4;fill-opacity:0.8;stroke:#1f77b4;stroke-opacity:0.8;\" x=\"184.74304\" xlink:href=\"#m7d05176fc4\" y=\"191.502284\"/>\n     <use style=\"fill:#1f77b4;fill-opacity:0.8;stroke:#1f77b4;stroke-opacity:0.8;\" x=\"83.288494\" xlink:href=\"#m7d05176fc4\" y=\"206.486137\"/>\n     <use style=\"fill:#1f77b4;fill-opacity:0.8;stroke:#1f77b4;stroke-opacity:0.8;\" x=\"184.74304\" xlink:href=\"#m7d05176fc4\" y=\"184.367198\"/>\n     <use style=\"fill:#1f77b4;fill-opacity:0.8;stroke:#1f77b4;stroke-opacity:0.8;\" x=\"184.74304\" xlink:href=\"#m7d05176fc4\" y=\"175.370785\"/>\n     <use style=\"fill:#1f77b4;fill-opacity:0.8;stroke:#1f77b4;stroke-opacity:0.8;\" x=\"184.74304\" xlink:href=\"#m7d05176fc4\" y=\"33.392917\"/>\n     <use style=\"fill:#1f77b4;fill-opacity:0.8;stroke:#1f77b4;stroke-opacity:0.8;\" x=\"83.288494\" xlink:href=\"#m7d05176fc4\" y=\"186.631985\"/>\n     <use style=\"fill:#1f77b4;fill-opacity:0.8;stroke:#1f77b4;stroke-opacity:0.8;\" x=\"184.74304\" xlink:href=\"#m7d05176fc4\" y=\"189.020515\"/>\n     <use style=\"fill:#1f77b4;fill-opacity:0.8;stroke:#1f77b4;stroke-opacity:0.8;\" x=\"83.288494\" xlink:href=\"#m7d05176fc4\" y=\"198.730609\"/>\n     <use style=\"fill:#1f77b4;fill-opacity:0.8;stroke:#1f77b4;stroke-opacity:0.8;\" x=\"387.652131\" xlink:href=\"#m7d05176fc4\" y=\"193.797573\"/>\n     <use style=\"fill:#1f77b4;fill-opacity:0.8;stroke:#1f77b4;stroke-opacity:0.8;\" x=\"286.197585\" xlink:href=\"#m7d05176fc4\" y=\"212.193859\"/>\n     <use style=\"fill:#1f77b4;fill-opacity:0.8;stroke:#1f77b4;stroke-opacity:0.8;\" x=\"83.288494\" xlink:href=\"#m7d05176fc4\" y=\"209.278127\"/>\n     <use style=\"fill:#1f77b4;fill-opacity:0.8;stroke:#1f77b4;stroke-opacity:0.8;\" x=\"184.74304\" xlink:href=\"#m7d05176fc4\" y=\"19.174449\"/>\n     <use style=\"fill:#1f77b4;fill-opacity:0.8;stroke:#1f77b4;stroke-opacity:0.8;\" x=\"83.288494\" xlink:href=\"#m7d05176fc4\" y=\"193.45685\"/>\n     <use style=\"fill:#1f77b4;fill-opacity:0.8;stroke:#1f77b4;stroke-opacity:0.8;\" x=\"387.652131\" xlink:href=\"#m7d05176fc4\" y=\"118.827468\"/>\n     <use style=\"fill:#1f77b4;fill-opacity:0.8;stroke:#1f77b4;stroke-opacity:0.8;\" x=\"83.288494\" xlink:href=\"#m7d05176fc4\" y=\"208.037243\"/>\n     <use style=\"fill:#1f77b4;fill-opacity:0.8;stroke:#1f77b4;stroke-opacity:0.8;\" x=\"83.288494\" xlink:href=\"#m7d05176fc4\" y=\"182.288889\"/>\n     <use style=\"fill:#1f77b4;fill-opacity:0.8;stroke:#1f77b4;stroke-opacity:0.8;\" x=\"184.74304\" xlink:href=\"#m7d05176fc4\" y=\"185.297861\"/>\n     <use style=\"fill:#1f77b4;fill-opacity:0.8;stroke:#1f77b4;stroke-opacity:0.8;\" x=\"83.288494\" xlink:href=\"#m7d05176fc4\" y=\"193.45685\"/>\n     <use style=\"fill:#1f77b4;fill-opacity:0.8;stroke:#1f77b4;stroke-opacity:0.8;\" x=\"83.288494\" xlink:href=\"#m7d05176fc4\" y=\"209.588348\"/>\n     <use style=\"fill:#1f77b4;fill-opacity:0.8;stroke:#1f77b4;stroke-opacity:0.8;\" x=\"83.288494\" xlink:href=\"#m7d05176fc4\" y=\"159.642747\"/>\n     <use style=\"fill:#1f77b4;fill-opacity:0.8;stroke:#1f77b4;stroke-opacity:0.8;\" x=\"387.652131\" xlink:href=\"#m7d05176fc4\" y=\"192.246468\"/>\n    </g>\n   </g>\n   <g id=\"matplotlib.axis_1\">\n    <g id=\"xtick_1\">\n     <g id=\"line2d_1\">\n      <defs>\n       <path d=\"M 0 0 \nL 0 3.5 \n\" id=\"ma08f04903c\" style=\"stroke:#000000;stroke-width:0.8;\"/>\n      </defs>\n      <g>\n       <use style=\"stroke:#000000;stroke-width:0.8;\" x=\"83.288494\" xlink:href=\"#ma08f04903c\" y=\"226.730813\"/>\n      </g>\n     </g>\n     <g id=\"text_1\">\n      <!-- 0.0 -->\n      <g transform=\"translate(75.336932 241.32925)scale(0.1 -0.1)\">\n       <defs>\n        <path d=\"M 2034 4250 \nQ 1547 4250 1301 3770 \nQ 1056 3291 1056 2328 \nQ 1056 1369 1301 889 \nQ 1547 409 2034 409 \nQ 2525 409 2770 889 \nQ 3016 1369 3016 2328 \nQ 3016 3291 2770 3770 \nQ 2525 4250 2034 4250 \nz\nM 2034 4750 \nQ 2819 4750 3233 4129 \nQ 3647 3509 3647 2328 \nQ 3647 1150 3233 529 \nQ 2819 -91 2034 -91 \nQ 1250 -91 836 529 \nQ 422 1150 422 2328 \nQ 422 3509 836 4129 \nQ 1250 4750 2034 4750 \nz\n\" id=\"DejaVuSans-30\" transform=\"scale(0.015625)\"/>\n        <path d=\"M 684 794 \nL 1344 794 \nL 1344 0 \nL 684 0 \nL 684 794 \nz\n\" id=\"DejaVuSans-2e\" transform=\"scale(0.015625)\"/>\n       </defs>\n       <use xlink:href=\"#DejaVuSans-30\"/>\n       <use x=\"63.623047\" xlink:href=\"#DejaVuSans-2e\"/>\n       <use x=\"95.410156\" xlink:href=\"#DejaVuSans-30\"/>\n      </g>\n     </g>\n    </g>\n    <g id=\"xtick_2\">\n     <g id=\"line2d_2\">\n      <g>\n       <use style=\"stroke:#000000;stroke-width:0.8;\" x=\"134.015767\" xlink:href=\"#ma08f04903c\" y=\"226.730813\"/>\n      </g>\n     </g>\n     <g id=\"text_2\">\n      <!-- 0.5 -->\n      <g transform=\"translate(126.064205 241.32925)scale(0.1 -0.1)\">\n       <defs>\n        <path d=\"M 691 4666 \nL 3169 4666 \nL 3169 4134 \nL 1269 4134 \nL 1269 2991 \nQ 1406 3038 1543 3061 \nQ 1681 3084 1819 3084 \nQ 2600 3084 3056 2656 \nQ 3513 2228 3513 1497 \nQ 3513 744 3044 326 \nQ 2575 -91 1722 -91 \nQ 1428 -91 1123 -41 \nQ 819 9 494 109 \nL 494 744 \nQ 775 591 1075 516 \nQ 1375 441 1709 441 \nQ 2250 441 2565 725 \nQ 2881 1009 2881 1497 \nQ 2881 1984 2565 2268 \nQ 2250 2553 1709 2553 \nQ 1456 2553 1204 2497 \nQ 953 2441 691 2322 \nL 691 4666 \nz\n\" id=\"DejaVuSans-35\" transform=\"scale(0.015625)\"/>\n       </defs>\n       <use xlink:href=\"#DejaVuSans-30\"/>\n       <use x=\"63.623047\" xlink:href=\"#DejaVuSans-2e\"/>\n       <use x=\"95.410156\" xlink:href=\"#DejaVuSans-35\"/>\n      </g>\n     </g>\n    </g>\n    <g id=\"xtick_3\">\n     <g id=\"line2d_3\">\n      <g>\n       <use style=\"stroke:#000000;stroke-width:0.8;\" x=\"184.74304\" xlink:href=\"#ma08f04903c\" y=\"226.730813\"/>\n      </g>\n     </g>\n     <g id=\"text_3\">\n      <!-- 1.0 -->\n      <g transform=\"translate(176.791477 241.32925)scale(0.1 -0.1)\">\n       <defs>\n        <path d=\"M 794 531 \nL 1825 531 \nL 1825 4091 \nL 703 3866 \nL 703 4441 \nL 1819 4666 \nL 2450 4666 \nL 2450 531 \nL 3481 531 \nL 3481 0 \nL 794 0 \nL 794 531 \nz\n\" id=\"DejaVuSans-31\" transform=\"scale(0.015625)\"/>\n       </defs>\n       <use xlink:href=\"#DejaVuSans-31\"/>\n       <use x=\"63.623047\" xlink:href=\"#DejaVuSans-2e\"/>\n       <use x=\"95.410156\" xlink:href=\"#DejaVuSans-30\"/>\n      </g>\n     </g>\n    </g>\n    <g id=\"xtick_4\">\n     <g id=\"line2d_4\">\n      <g>\n       <use style=\"stroke:#000000;stroke-width:0.8;\" x=\"235.470313\" xlink:href=\"#ma08f04903c\" y=\"226.730813\"/>\n      </g>\n     </g>\n     <g id=\"text_4\">\n      <!-- 1.5 -->\n      <g transform=\"translate(227.51875 241.32925)scale(0.1 -0.1)\">\n       <use xlink:href=\"#DejaVuSans-31\"/>\n       <use x=\"63.623047\" xlink:href=\"#DejaVuSans-2e\"/>\n       <use x=\"95.410156\" xlink:href=\"#DejaVuSans-35\"/>\n      </g>\n     </g>\n    </g>\n    <g id=\"xtick_5\">\n     <g id=\"line2d_5\">\n      <g>\n       <use style=\"stroke:#000000;stroke-width:0.8;\" x=\"286.197585\" xlink:href=\"#ma08f04903c\" y=\"226.730813\"/>\n      </g>\n     </g>\n     <g id=\"text_5\">\n      <!-- 2.0 -->\n      <g transform=\"translate(278.246023 241.32925)scale(0.1 -0.1)\">\n       <defs>\n        <path d=\"M 1228 531 \nL 3431 531 \nL 3431 0 \nL 469 0 \nL 469 531 \nQ 828 903 1448 1529 \nQ 2069 2156 2228 2338 \nQ 2531 2678 2651 2914 \nQ 2772 3150 2772 3378 \nQ 2772 3750 2511 3984 \nQ 2250 4219 1831 4219 \nQ 1534 4219 1204 4116 \nQ 875 4013 500 3803 \nL 500 4441 \nQ 881 4594 1212 4672 \nQ 1544 4750 1819 4750 \nQ 2544 4750 2975 4387 \nQ 3406 4025 3406 3419 \nQ 3406 3131 3298 2873 \nQ 3191 2616 2906 2266 \nQ 2828 2175 2409 1742 \nQ 1991 1309 1228 531 \nz\n\" id=\"DejaVuSans-32\" transform=\"scale(0.015625)\"/>\n       </defs>\n       <use xlink:href=\"#DejaVuSans-32\"/>\n       <use x=\"63.623047\" xlink:href=\"#DejaVuSans-2e\"/>\n       <use x=\"95.410156\" xlink:href=\"#DejaVuSans-30\"/>\n      </g>\n     </g>\n    </g>\n    <g id=\"xtick_6\">\n     <g id=\"line2d_6\">\n      <g>\n       <use style=\"stroke:#000000;stroke-width:0.8;\" x=\"336.924858\" xlink:href=\"#ma08f04903c\" y=\"226.730813\"/>\n      </g>\n     </g>\n     <g id=\"text_6\">\n      <!-- 2.5 -->\n      <g transform=\"translate(328.973295 241.32925)scale(0.1 -0.1)\">\n       <use xlink:href=\"#DejaVuSans-32\"/>\n       <use x=\"63.623047\" xlink:href=\"#DejaVuSans-2e\"/>\n       <use x=\"95.410156\" xlink:href=\"#DejaVuSans-35\"/>\n      </g>\n     </g>\n    </g>\n    <g id=\"xtick_7\">\n     <g id=\"line2d_7\">\n      <g>\n       <use style=\"stroke:#000000;stroke-width:0.8;\" x=\"387.652131\" xlink:href=\"#ma08f04903c\" y=\"226.730813\"/>\n      </g>\n     </g>\n     <g id=\"text_7\">\n      <!-- 3.0 -->\n      <g transform=\"translate(379.700568 241.32925)scale(0.1 -0.1)\">\n       <defs>\n        <path d=\"M 2597 2516 \nQ 3050 2419 3304 2112 \nQ 3559 1806 3559 1356 \nQ 3559 666 3084 287 \nQ 2609 -91 1734 -91 \nQ 1441 -91 1130 -33 \nQ 819 25 488 141 \nL 488 750 \nQ 750 597 1062 519 \nQ 1375 441 1716 441 \nQ 2309 441 2620 675 \nQ 2931 909 2931 1356 \nQ 2931 1769 2642 2001 \nQ 2353 2234 1838 2234 \nL 1294 2234 \nL 1294 2753 \nL 1863 2753 \nQ 2328 2753 2575 2939 \nQ 2822 3125 2822 3475 \nQ 2822 3834 2567 4026 \nQ 2313 4219 1838 4219 \nQ 1578 4219 1281 4162 \nQ 984 4106 628 3988 \nL 628 4550 \nQ 988 4650 1302 4700 \nQ 1616 4750 1894 4750 \nQ 2613 4750 3031 4423 \nQ 3450 4097 3450 3541 \nQ 3450 3153 3228 2886 \nQ 3006 2619 2597 2516 \nz\n\" id=\"DejaVuSans-33\" transform=\"scale(0.015625)\"/>\n       </defs>\n       <use xlink:href=\"#DejaVuSans-33\"/>\n       <use x=\"63.623047\" xlink:href=\"#DejaVuSans-2e\"/>\n       <use x=\"95.410156\" xlink:href=\"#DejaVuSans-30\"/>\n      </g>\n     </g>\n    </g>\n    <g id=\"text_8\">\n     <!-- SOCIODEMOGRAPHY -->\n     <g transform=\"translate(183.800781 255.007375)scale(0.1 -0.1)\">\n      <defs>\n       <path d=\"M 3425 4513 \nL 3425 3897 \nQ 3066 4069 2747 4153 \nQ 2428 4238 2131 4238 \nQ 1616 4238 1336 4038 \nQ 1056 3838 1056 3469 \nQ 1056 3159 1242 3001 \nQ 1428 2844 1947 2747 \nL 2328 2669 \nQ 3034 2534 3370 2195 \nQ 3706 1856 3706 1288 \nQ 3706 609 3251 259 \nQ 2797 -91 1919 -91 \nQ 1588 -91 1214 -16 \nQ 841 59 441 206 \nL 441 856 \nQ 825 641 1194 531 \nQ 1563 422 1919 422 \nQ 2459 422 2753 634 \nQ 3047 847 3047 1241 \nQ 3047 1584 2836 1778 \nQ 2625 1972 2144 2069 \nL 1759 2144 \nQ 1053 2284 737 2584 \nQ 422 2884 422 3419 \nQ 422 4038 858 4394 \nQ 1294 4750 2059 4750 \nQ 2388 4750 2728 4690 \nQ 3069 4631 3425 4513 \nz\n\" id=\"DejaVuSans-53\" transform=\"scale(0.015625)\"/>\n       <path d=\"M 2522 4238 \nQ 1834 4238 1429 3725 \nQ 1025 3213 1025 2328 \nQ 1025 1447 1429 934 \nQ 1834 422 2522 422 \nQ 3209 422 3611 934 \nQ 4013 1447 4013 2328 \nQ 4013 3213 3611 3725 \nQ 3209 4238 2522 4238 \nz\nM 2522 4750 \nQ 3503 4750 4090 4092 \nQ 4678 3434 4678 2328 \nQ 4678 1225 4090 567 \nQ 3503 -91 2522 -91 \nQ 1538 -91 948 565 \nQ 359 1222 359 2328 \nQ 359 3434 948 4092 \nQ 1538 4750 2522 4750 \nz\n\" id=\"DejaVuSans-4f\" transform=\"scale(0.015625)\"/>\n       <path d=\"M 4122 4306 \nL 4122 3641 \nQ 3803 3938 3442 4084 \nQ 3081 4231 2675 4231 \nQ 1875 4231 1450 3742 \nQ 1025 3253 1025 2328 \nQ 1025 1406 1450 917 \nQ 1875 428 2675 428 \nQ 3081 428 3442 575 \nQ 3803 722 4122 1019 \nL 4122 359 \nQ 3791 134 3420 21 \nQ 3050 -91 2638 -91 \nQ 1578 -91 968 557 \nQ 359 1206 359 2328 \nQ 359 3453 968 4101 \nQ 1578 4750 2638 4750 \nQ 3056 4750 3426 4639 \nQ 3797 4528 4122 4306 \nz\n\" id=\"DejaVuSans-43\" transform=\"scale(0.015625)\"/>\n       <path d=\"M 628 4666 \nL 1259 4666 \nL 1259 0 \nL 628 0 \nL 628 4666 \nz\n\" id=\"DejaVuSans-49\" transform=\"scale(0.015625)\"/>\n       <path d=\"M 1259 4147 \nL 1259 519 \nL 2022 519 \nQ 2988 519 3436 956 \nQ 3884 1394 3884 2338 \nQ 3884 3275 3436 3711 \nQ 2988 4147 2022 4147 \nL 1259 4147 \nz\nM 628 4666 \nL 1925 4666 \nQ 3281 4666 3915 4102 \nQ 4550 3538 4550 2338 \nQ 4550 1131 3912 565 \nQ 3275 0 1925 0 \nL 628 0 \nL 628 4666 \nz\n\" id=\"DejaVuSans-44\" transform=\"scale(0.015625)\"/>\n       <path d=\"M 628 4666 \nL 3578 4666 \nL 3578 4134 \nL 1259 4134 \nL 1259 2753 \nL 3481 2753 \nL 3481 2222 \nL 1259 2222 \nL 1259 531 \nL 3634 531 \nL 3634 0 \nL 628 0 \nL 628 4666 \nz\n\" id=\"DejaVuSans-45\" transform=\"scale(0.015625)\"/>\n       <path d=\"M 628 4666 \nL 1569 4666 \nL 2759 1491 \nL 3956 4666 \nL 4897 4666 \nL 4897 0 \nL 4281 0 \nL 4281 4097 \nL 3078 897 \nL 2444 897 \nL 1241 4097 \nL 1241 0 \nL 628 0 \nL 628 4666 \nz\n\" id=\"DejaVuSans-4d\" transform=\"scale(0.015625)\"/>\n       <path d=\"M 3809 666 \nL 3809 1919 \nL 2778 1919 \nL 2778 2438 \nL 4434 2438 \nL 4434 434 \nQ 4069 175 3628 42 \nQ 3188 -91 2688 -91 \nQ 1594 -91 976 548 \nQ 359 1188 359 2328 \nQ 359 3472 976 4111 \nQ 1594 4750 2688 4750 \nQ 3144 4750 3555 4637 \nQ 3966 4525 4313 4306 \nL 4313 3634 \nQ 3963 3931 3569 4081 \nQ 3175 4231 2741 4231 \nQ 1884 4231 1454 3753 \nQ 1025 3275 1025 2328 \nQ 1025 1384 1454 906 \nQ 1884 428 2741 428 \nQ 3075 428 3337 486 \nQ 3600 544 3809 666 \nz\n\" id=\"DejaVuSans-47\" transform=\"scale(0.015625)\"/>\n       <path d=\"M 2841 2188 \nQ 3044 2119 3236 1894 \nQ 3428 1669 3622 1275 \nL 4263 0 \nL 3584 0 \nL 2988 1197 \nQ 2756 1666 2539 1819 \nQ 2322 1972 1947 1972 \nL 1259 1972 \nL 1259 0 \nL 628 0 \nL 628 4666 \nL 2053 4666 \nQ 2853 4666 3247 4331 \nQ 3641 3997 3641 3322 \nQ 3641 2881 3436 2590 \nQ 3231 2300 2841 2188 \nz\nM 1259 4147 \nL 1259 2491 \nL 2053 2491 \nQ 2509 2491 2742 2702 \nQ 2975 2913 2975 3322 \nQ 2975 3731 2742 3939 \nQ 2509 4147 2053 4147 \nL 1259 4147 \nz\n\" id=\"DejaVuSans-52\" transform=\"scale(0.015625)\"/>\n       <path d=\"M 2188 4044 \nL 1331 1722 \nL 3047 1722 \nL 2188 4044 \nz\nM 1831 4666 \nL 2547 4666 \nL 4325 0 \nL 3669 0 \nL 3244 1197 \nL 1141 1197 \nL 716 0 \nL 50 0 \nL 1831 4666 \nz\n\" id=\"DejaVuSans-41\" transform=\"scale(0.015625)\"/>\n       <path d=\"M 1259 4147 \nL 1259 2394 \nL 2053 2394 \nQ 2494 2394 2734 2622 \nQ 2975 2850 2975 3272 \nQ 2975 3691 2734 3919 \nQ 2494 4147 2053 4147 \nL 1259 4147 \nz\nM 628 4666 \nL 2053 4666 \nQ 2838 4666 3239 4311 \nQ 3641 3956 3641 3272 \nQ 3641 2581 3239 2228 \nQ 2838 1875 2053 1875 \nL 1259 1875 \nL 1259 0 \nL 628 0 \nL 628 4666 \nz\n\" id=\"DejaVuSans-50\" transform=\"scale(0.015625)\"/>\n       <path d=\"M 628 4666 \nL 1259 4666 \nL 1259 2753 \nL 3553 2753 \nL 3553 4666 \nL 4184 4666 \nL 4184 0 \nL 3553 0 \nL 3553 2222 \nL 1259 2222 \nL 1259 0 \nL 628 0 \nL 628 4666 \nz\n\" id=\"DejaVuSans-48\" transform=\"scale(0.015625)\"/>\n       <path d=\"M -13 4666 \nL 666 4666 \nL 1959 2747 \nL 3244 4666 \nL 3922 4666 \nL 2272 2222 \nL 2272 0 \nL 1638 0 \nL 1638 2222 \nL -13 4666 \nz\n\" id=\"DejaVuSans-59\" transform=\"scale(0.015625)\"/>\n      </defs>\n      <use xlink:href=\"#DejaVuSans-53\"/>\n      <use x=\"63.476562\" xlink:href=\"#DejaVuSans-4f\"/>\n      <use x=\"142.1875\" xlink:href=\"#DejaVuSans-43\"/>\n      <use x=\"212.011719\" xlink:href=\"#DejaVuSans-49\"/>\n      <use x=\"241.503906\" xlink:href=\"#DejaVuSans-4f\"/>\n      <use x=\"320.214844\" xlink:href=\"#DejaVuSans-44\"/>\n      <use x=\"397.216797\" xlink:href=\"#DejaVuSans-45\"/>\n      <use x=\"460.400391\" xlink:href=\"#DejaVuSans-4d\"/>\n      <use x=\"546.679688\" xlink:href=\"#DejaVuSans-4f\"/>\n      <use x=\"625.390625\" xlink:href=\"#DejaVuSans-47\"/>\n      <use x=\"702.880859\" xlink:href=\"#DejaVuSans-52\"/>\n      <use x=\"768.363281\" xlink:href=\"#DejaVuSans-41\"/>\n      <use x=\"836.771484\" xlink:href=\"#DejaVuSans-50\"/>\n      <use x=\"897.074219\" xlink:href=\"#DejaVuSans-48\"/>\n      <use x=\"972.269531\" xlink:href=\"#DejaVuSans-59\"/>\n     </g>\n    </g>\n   </g>\n   <g id=\"matplotlib.axis_2\">\n    <g id=\"ytick_1\">\n     <g id=\"line2d_8\">\n      <defs>\n       <path d=\"M 0 0 \nL -3.5 0 \n\" id=\"m06d1f846d1\" style=\"stroke:#000000;stroke-width:0.8;\"/>\n      </defs>\n      <g>\n       <use style=\"stroke:#000000;stroke-width:0.8;\" x=\"68.070312\" xlink:href=\"#m06d1f846d1\" y=\"217.813302\"/>\n      </g>\n     </g>\n     <g id=\"text_9\">\n      <!-- −20000 -->\n      <g transform=\"translate(20.878125 221.61252)scale(0.1 -0.1)\">\n       <defs>\n        <path d=\"M 678 2272 \nL 4684 2272 \nL 4684 1741 \nL 678 1741 \nL 678 2272 \nz\n\" id=\"DejaVuSans-2212\" transform=\"scale(0.015625)\"/>\n       </defs>\n       <use xlink:href=\"#DejaVuSans-2212\"/>\n       <use x=\"83.789062\" xlink:href=\"#DejaVuSans-32\"/>\n       <use x=\"147.412109\" xlink:href=\"#DejaVuSans-30\"/>\n       <use x=\"211.035156\" xlink:href=\"#DejaVuSans-30\"/>\n       <use x=\"274.658203\" xlink:href=\"#DejaVuSans-30\"/>\n       <use x=\"338.28125\" xlink:href=\"#DejaVuSans-30\"/>\n      </g>\n     </g>\n    </g>\n    <g id=\"ytick_2\">\n     <g id=\"line2d_9\">\n      <g>\n       <use style=\"stroke:#000000;stroke-width:0.8;\" x=\"68.070312\" xlink:href=\"#m06d1f846d1\" y=\"176.450485\"/>\n      </g>\n     </g>\n     <g id=\"text_10\">\n      <!-- 0 -->\n      <g transform=\"translate(54.707813 180.249704)scale(0.1 -0.1)\">\n       <use xlink:href=\"#DejaVuSans-30\"/>\n      </g>\n     </g>\n    </g>\n    <g id=\"ytick_3\">\n     <g id=\"line2d_10\">\n      <g>\n       <use style=\"stroke:#000000;stroke-width:0.8;\" x=\"68.070312\" xlink:href=\"#m06d1f846d1\" y=\"135.087669\"/>\n      </g>\n     </g>\n     <g id=\"text_11\">\n      <!-- 20000 -->\n      <g transform=\"translate(29.257812 138.886887)scale(0.1 -0.1)\">\n       <use xlink:href=\"#DejaVuSans-32\"/>\n       <use x=\"63.623047\" xlink:href=\"#DejaVuSans-30\"/>\n       <use x=\"127.246094\" xlink:href=\"#DejaVuSans-30\"/>\n       <use x=\"190.869141\" xlink:href=\"#DejaVuSans-30\"/>\n       <use x=\"254.492188\" xlink:href=\"#DejaVuSans-30\"/>\n      </g>\n     </g>\n    </g>\n    <g id=\"ytick_4\">\n     <g id=\"line2d_11\">\n      <g>\n       <use style=\"stroke:#000000;stroke-width:0.8;\" x=\"68.070312\" xlink:href=\"#m06d1f846d1\" y=\"93.724852\"/>\n      </g>\n     </g>\n     <g id=\"text_12\">\n      <!-- 40000 -->\n      <g transform=\"translate(29.257812 97.524071)scale(0.1 -0.1)\">\n       <defs>\n        <path d=\"M 2419 4116 \nL 825 1625 \nL 2419 1625 \nL 2419 4116 \nz\nM 2253 4666 \nL 3047 4666 \nL 3047 1625 \nL 3713 1625 \nL 3713 1100 \nL 3047 1100 \nL 3047 0 \nL 2419 0 \nL 2419 1100 \nL 313 1100 \nL 313 1709 \nL 2253 4666 \nz\n\" id=\"DejaVuSans-34\" transform=\"scale(0.015625)\"/>\n       </defs>\n       <use xlink:href=\"#DejaVuSans-34\"/>\n       <use x=\"63.623047\" xlink:href=\"#DejaVuSans-30\"/>\n       <use x=\"127.246094\" xlink:href=\"#DejaVuSans-30\"/>\n       <use x=\"190.869141\" xlink:href=\"#DejaVuSans-30\"/>\n       <use x=\"254.492188\" xlink:href=\"#DejaVuSans-30\"/>\n      </g>\n     </g>\n    </g>\n    <g id=\"ytick_5\">\n     <g id=\"line2d_12\">\n      <g>\n       <use style=\"stroke:#000000;stroke-width:0.8;\" x=\"68.070312\" xlink:href=\"#m06d1f846d1\" y=\"52.362035\"/>\n      </g>\n     </g>\n     <g id=\"text_13\">\n      <!-- 60000 -->\n      <g transform=\"translate(29.257812 56.161254)scale(0.1 -0.1)\">\n       <defs>\n        <path d=\"M 2113 2584 \nQ 1688 2584 1439 2293 \nQ 1191 2003 1191 1497 \nQ 1191 994 1439 701 \nQ 1688 409 2113 409 \nQ 2538 409 2786 701 \nQ 3034 994 3034 1497 \nQ 3034 2003 2786 2293 \nQ 2538 2584 2113 2584 \nz\nM 3366 4563 \nL 3366 3988 \nQ 3128 4100 2886 4159 \nQ 2644 4219 2406 4219 \nQ 1781 4219 1451 3797 \nQ 1122 3375 1075 2522 \nQ 1259 2794 1537 2939 \nQ 1816 3084 2150 3084 \nQ 2853 3084 3261 2657 \nQ 3669 2231 3669 1497 \nQ 3669 778 3244 343 \nQ 2819 -91 2113 -91 \nQ 1303 -91 875 529 \nQ 447 1150 447 2328 \nQ 447 3434 972 4092 \nQ 1497 4750 2381 4750 \nQ 2619 4750 2861 4703 \nQ 3103 4656 3366 4563 \nz\n\" id=\"DejaVuSans-36\" transform=\"scale(0.015625)\"/>\n       </defs>\n       <use xlink:href=\"#DejaVuSans-36\"/>\n       <use x=\"63.623047\" xlink:href=\"#DejaVuSans-30\"/>\n       <use x=\"127.246094\" xlink:href=\"#DejaVuSans-30\"/>\n       <use x=\"190.869141\" xlink:href=\"#DejaVuSans-30\"/>\n       <use x=\"254.492188\" xlink:href=\"#DejaVuSans-30\"/>\n      </g>\n     </g>\n    </g>\n    <g id=\"ytick_6\">\n     <g id=\"line2d_13\">\n      <g>\n       <use style=\"stroke:#000000;stroke-width:0.8;\" x=\"68.070312\" xlink:href=\"#m06d1f846d1\" y=\"10.999219\"/>\n      </g>\n     </g>\n     <g id=\"text_14\">\n      <!-- 80000 -->\n      <g transform=\"translate(29.257812 14.798437)scale(0.1 -0.1)\">\n       <defs>\n        <path d=\"M 2034 2216 \nQ 1584 2216 1326 1975 \nQ 1069 1734 1069 1313 \nQ 1069 891 1326 650 \nQ 1584 409 2034 409 \nQ 2484 409 2743 651 \nQ 3003 894 3003 1313 \nQ 3003 1734 2745 1975 \nQ 2488 2216 2034 2216 \nz\nM 1403 2484 \nQ 997 2584 770 2862 \nQ 544 3141 544 3541 \nQ 544 4100 942 4425 \nQ 1341 4750 2034 4750 \nQ 2731 4750 3128 4425 \nQ 3525 4100 3525 3541 \nQ 3525 3141 3298 2862 \nQ 3072 2584 2669 2484 \nQ 3125 2378 3379 2068 \nQ 3634 1759 3634 1313 \nQ 3634 634 3220 271 \nQ 2806 -91 2034 -91 \nQ 1263 -91 848 271 \nQ 434 634 434 1313 \nQ 434 1759 690 2068 \nQ 947 2378 1403 2484 \nz\nM 1172 3481 \nQ 1172 3119 1398 2916 \nQ 1625 2713 2034 2713 \nQ 2441 2713 2670 2916 \nQ 2900 3119 2900 3481 \nQ 2900 3844 2670 4047 \nQ 2441 4250 2034 4250 \nQ 1625 4250 1398 4047 \nQ 1172 3844 1172 3481 \nz\n\" id=\"DejaVuSans-38\" transform=\"scale(0.015625)\"/>\n       </defs>\n       <use xlink:href=\"#DejaVuSans-38\"/>\n       <use x=\"63.623047\" xlink:href=\"#DejaVuSans-30\"/>\n       <use x=\"127.246094\" xlink:href=\"#DejaVuSans-30\"/>\n       <use x=\"190.869141\" xlink:href=\"#DejaVuSans-30\"/>\n       <use x=\"254.492188\" xlink:href=\"#DejaVuSans-30\"/>\n      </g>\n     </g>\n    </g>\n    <g id=\"text_15\">\n     <!-- SALARY -->\n     <g transform=\"translate(14.798437 137.227219)rotate(-90)scale(0.1 -0.1)\">\n      <defs>\n       <path d=\"M 628 4666 \nL 1259 4666 \nL 1259 531 \nL 3531 531 \nL 3531 0 \nL 628 0 \nL 628 4666 \nz\n\" id=\"DejaVuSans-4c\" transform=\"scale(0.015625)\"/>\n      </defs>\n      <use xlink:href=\"#DejaVuSans-53\"/>\n      <use x=\"65.351562\" xlink:href=\"#DejaVuSans-41\"/>\n      <use x=\"133.759766\" xlink:href=\"#DejaVuSans-4c\"/>\n      <use x=\"191.722656\" xlink:href=\"#DejaVuSans-41\"/>\n      <use x=\"260.130859\" xlink:href=\"#DejaVuSans-52\"/>\n      <use x=\"323.238281\" xlink:href=\"#DejaVuSans-59\"/>\n     </g>\n    </g>\n   </g>\n   <g id=\"line2d_14\">\n    <path clip-path=\"url(#pcae41b88b8)\" d=\"M 68.070312 176.450485 \nL 402.870313 176.450485 \n\" style=\"fill:none;stroke:#333333;stroke-dasharray:1.5,2.475;stroke-dashoffset:0;stroke-width:1.5;\"/>\n   </g>\n   <g id=\"patch_3\">\n    <path d=\"M 68.070312 226.730813 \nL 68.070312 9.290813 \n\" style=\"fill:none;stroke:#000000;stroke-linecap:square;stroke-linejoin:miter;stroke-width:0.8;\"/>\n   </g>\n   <g id=\"patch_4\">\n    <path d=\"M 402.870313 226.730813 \nL 402.870313 9.290813 \n\" style=\"fill:none;stroke:#000000;stroke-linecap:square;stroke-linejoin:miter;stroke-width:0.8;\"/>\n   </g>\n   <g id=\"patch_5\">\n    <path d=\"M 68.070312 226.730813 \nL 402.870313 226.730813 \n\" style=\"fill:none;stroke:#000000;stroke-linecap:square;stroke-linejoin:miter;stroke-width:0.8;\"/>\n   </g>\n   <g id=\"patch_6\">\n    <path d=\"M 68.070312 9.290813 \nL 402.870313 9.290813 \n\" style=\"fill:none;stroke:#000000;stroke-linecap:square;stroke-linejoin:miter;stroke-width:0.8;\"/>\n   </g>\n  </g>\n </g>\n <defs>\n  <clipPath id=\"pcae41b88b8\">\n   <rect height=\"217.44\" width=\"334.8\" x=\"68.070312\" y=\"9.290813\"/>\n  </clipPath>\n </defs>\n</svg>\n",
      "image/png": "[encoded data removed]"
     },
     "metadata": {
      "needs_background": "light"
     }
    }
   ],
   "source": [
    "sns.residplot(x = X_train[\"SOCIODEMOGRAPHY\"], y = y_train)"
   ]
  },
  {
   "cell_type": "code",
   "execution_count": null,
   "metadata": {},
   "outputs": [],
   "source": []
  }
 ]
}