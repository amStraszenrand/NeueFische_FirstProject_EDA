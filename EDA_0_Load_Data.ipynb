{
 "metadata": {
  "language_info": {
   "codemirror_mode": {
    "name": "ipython",
    "version": 3
   },
   "file_extension": ".py",
   "mimetype": "text/x-python",
   "name": "python",
   "nbconvert_exporter": "python",
   "pygments_lexer": "ipython3",
   "version": "3.8.5"
  },
  "orig_nbformat": 2,
  "kernelspec": {
   "name": "python385jvsc74a57bd0b97710d494ffeb654d41d16f65990d28edf229515e751f1ea393dba413e87e78",
   "display_name": "Python 3.8.5 64-bit"
  },
  "metadata": {
   "interpreter": {
    "hash": "b97710d494ffeb654d41d16f65990d28edf229515e751f1ea393dba413e87e78"
   }
  }
 },
 "nbformat": 4,
 "nbformat_minor": 2,
 "cells": [
  {
   "source": [
    "## Who Gets Paid How Much - In an US-Bank"
   ],
   "cell_type": "markdown",
   "metadata": {}
  },
  {
   "source": [
    "### Load the data into a pandas dataframe to handle it"
   ],
   "cell_type": "markdown",
   "metadata": {}
  },
  {
   "cell_type": "code",
   "execution_count": 13,
   "metadata": {},
   "outputs": [],
   "source": [
    "import pandas as pd"
   ]
  },
  {
   "source": [
    "Our data of salaries in an US-Bank comes anoymously which means it is not clear which bank it indicates, where the bank is located, which branch it operates in nor how big its yearly revenue is."
   ],
   "cell_type": "markdown",
   "metadata": {}
  },
  {
   "cell_type": "code",
   "execution_count": 15,
   "metadata": {},
   "outputs": [
    {
     "output_type": "execute_result",
     "data": {
      "text/plain": [
       "     SALARY  EDUC  SALBEGIN  GENDER  MINORITY  JOBCAT\n",
       "0     57000    15     27000       1         0       3\n",
       "1     40200    16     18750       1         0       1\n",
       "2     21450    12     12000       0         0       1\n",
       "3     21900     8     13200       0         0       1\n",
       "4     45000    15     21000       1         0       1\n",
       "..      ...   ...       ...     ...       ...     ...\n",
       "469   26250    12     15750       1         1       1\n",
       "470   26400    15     15750       1         1       1\n",
       "471   39150    15     15750       1         0       1\n",
       "472   21450    12     12750       0         0       1\n",
       "473   29400    12     14250       0         0       1\n",
       "\n",
       "[474 rows x 6 columns]"
      ],
      "text/html": "<div>\n<style scoped>\n    .dataframe tbody tr th:only-of-type {\n        vertical-align: middle;\n    }\n\n    .dataframe tbody tr th {\n        vertical-align: top;\n    }\n\n    .dataframe thead th {\n        text-align: right;\n    }\n</style>\n<table border=\"1\" class=\"dataframe\">\n  <thead>\n    <tr style=\"text-align: right;\">\n      <th></th>\n      <th>SALARY</th>\n      <th>EDUC</th>\n      <th>SALBEGIN</th>\n      <th>GENDER</th>\n      <th>MINORITY</th>\n      <th>JOBCAT</th>\n    </tr>\n  </thead>\n  <tbody>\n    <tr>\n      <th>0</th>\n      <td>57000</td>\n      <td>15</td>\n      <td>27000</td>\n      <td>1</td>\n      <td>0</td>\n      <td>3</td>\n    </tr>\n    <tr>\n      <th>1</th>\n      <td>40200</td>\n      <td>16</td>\n      <td>18750</td>\n      <td>1</td>\n      <td>0</td>\n      <td>1</td>\n    </tr>\n    <tr>\n      <th>2</th>\n      <td>21450</td>\n      <td>12</td>\n      <td>12000</td>\n      <td>0</td>\n      <td>0</td>\n      <td>1</td>\n    </tr>\n    <tr>\n      <th>3</th>\n      <td>21900</td>\n      <td>8</td>\n      <td>13200</td>\n      <td>0</td>\n      <td>0</td>\n      <td>1</td>\n    </tr>\n    <tr>\n      <th>4</th>\n      <td>45000</td>\n      <td>15</td>\n      <td>21000</td>\n      <td>1</td>\n      <td>0</td>\n      <td>1</td>\n    </tr>\n    <tr>\n      <th>...</th>\n      <td>...</td>\n      <td>...</td>\n      <td>...</td>\n      <td>...</td>\n      <td>...</td>\n      <td>...</td>\n    </tr>\n    <tr>\n      <th>469</th>\n      <td>26250</td>\n      <td>12</td>\n      <td>15750</td>\n      <td>1</td>\n      <td>1</td>\n      <td>1</td>\n    </tr>\n    <tr>\n      <th>470</th>\n      <td>26400</td>\n      <td>15</td>\n      <td>15750</td>\n      <td>1</td>\n      <td>1</td>\n      <td>1</td>\n    </tr>\n    <tr>\n      <th>471</th>\n      <td>39150</td>\n      <td>15</td>\n      <td>15750</td>\n      <td>1</td>\n      <td>0</td>\n      <td>1</td>\n    </tr>\n    <tr>\n      <th>472</th>\n      <td>21450</td>\n      <td>12</td>\n      <td>12750</td>\n      <td>0</td>\n      <td>0</td>\n      <td>1</td>\n    </tr>\n    <tr>\n      <th>473</th>\n      <td>29400</td>\n      <td>12</td>\n      <td>14250</td>\n      <td>0</td>\n      <td>0</td>\n      <td>1</td>\n    </tr>\n  </tbody>\n</table>\n<p>474 rows × 6 columns</p>\n</div>"
     },
     "metadata": {},
     "execution_count": 15
    }
   ],
   "source": [
    "df_raw = pd.read_csv(\"us_bank_wages/us_bank_wages.txt\", delimiter = \"\\t\", index_col=0)\n",
    "df_raw"
   ]
  },
  {
   "source": [
    "We have 474 observations and we have the target value stored in the columns `salary`. \n",
    "\n",
    "There are 5 features: \n",
    "- The `education degree` (number of finished school + highschool + college years)\n",
    "- The `entry wage` or salary beginn\n",
    "- The `gender` (which is only binary declared)\n",
    "- The status `minority` (which also basically divides the employees only into beeing white or not)\n",
    "- The `job category` (working in the management unit, the administration unit or the custody unit).   "
   ],
   "cell_type": "markdown",
   "metadata": {}
  },
  {
   "source": [
    "First we may create new columns that denote the meanings of what integer values within the `gender`, the `minority` and the `job category` columns stand for.\n",
    "\n",
    "Then we create also a new column that combines the `gender` and the `minority` column into a `sociodemographic`column."
   ],
   "cell_type": "markdown",
   "metadata": {}
  },
  {
   "cell_type": "code",
   "execution_count": 16,
   "metadata": {},
   "outputs": [
    {
     "output_type": "execute_result",
     "data": {
      "text/plain": [
       "     SALARY  EDUC  SALBEGIN  GENDER  MINORITY  JOBCAT GENDER_DENOTING  \\\n",
       "0     57000    15     27000       1         0       3            Male   \n",
       "1     40200    16     18750       1         0       1            Male   \n",
       "2     21450    12     12000       0         0       1          Female   \n",
       "3     21900     8     13200       0         0       1          Female   \n",
       "4     45000    15     21000       1         0       1            Male   \n",
       "..      ...   ...       ...     ...       ...     ...             ...   \n",
       "469   26250    12     15750       1         1       1            Male   \n",
       "470   26400    15     15750       1         1       1            Male   \n",
       "471   39150    15     15750       1         0       1            Male   \n",
       "472   21450    12     12750       0         0       1          Female   \n",
       "473   29400    12     14250       0         0       1          Female   \n",
       "\n",
       "    MINORITY_DENOTING JOBCAT_DENOTING  SOCIODEMOGRAPHY  \\\n",
       "0               White      Management                1   \n",
       "1               White  Administration                1   \n",
       "2               White  Administration                0   \n",
       "3               White  Administration                0   \n",
       "4               White  Administration                1   \n",
       "..                ...             ...              ...   \n",
       "469          Minority  Administration                3   \n",
       "470          Minority  Administration                3   \n",
       "471             White  Administration                1   \n",
       "472             White  Administration                0   \n",
       "473             White  Administration                0   \n",
       "\n",
       "    SOCIODEMOGRAPHY_DENOTING  \n",
       "0                 White_Male  \n",
       "1                 White_Male  \n",
       "2               White_Female  \n",
       "3               White_Female  \n",
       "4                 White_Male  \n",
       "..                       ...  \n",
       "469            Minority_Male  \n",
       "470            Minority_Male  \n",
       "471               White_Male  \n",
       "472             White_Female  \n",
       "473             White_Female  \n",
       "\n",
       "[474 rows x 11 columns]"
      ],
      "text/html": "<div>\n<style scoped>\n    .dataframe tbody tr th:only-of-type {\n        vertical-align: middle;\n    }\n\n    .dataframe tbody tr th {\n        vertical-align: top;\n    }\n\n    .dataframe thead th {\n        text-align: right;\n    }\n</style>\n<table border=\"1\" class=\"dataframe\">\n  <thead>\n    <tr style=\"text-align: right;\">\n      <th></th>\n      <th>SALARY</th>\n      <th>EDUC</th>\n      <th>SALBEGIN</th>\n      <th>GENDER</th>\n      <th>MINORITY</th>\n      <th>JOBCAT</th>\n      <th>GENDER_DENOTING</th>\n      <th>MINORITY_DENOTING</th>\n      <th>JOBCAT_DENOTING</th>\n      <th>SOCIODEMOGRAPHY</th>\n      <th>SOCIODEMOGRAPHY_DENOTING</th>\n    </tr>\n  </thead>\n  <tbody>\n    <tr>\n      <th>0</th>\n      <td>57000</td>\n      <td>15</td>\n      <td>27000</td>\n      <td>1</td>\n      <td>0</td>\n      <td>3</td>\n      <td>Male</td>\n      <td>White</td>\n      <td>Management</td>\n      <td>1</td>\n      <td>White_Male</td>\n    </tr>\n    <tr>\n      <th>1</th>\n      <td>40200</td>\n      <td>16</td>\n      <td>18750</td>\n      <td>1</td>\n      <td>0</td>\n      <td>1</td>\n      <td>Male</td>\n      <td>White</td>\n      <td>Administration</td>\n      <td>1</td>\n      <td>White_Male</td>\n    </tr>\n    <tr>\n      <th>2</th>\n      <td>21450</td>\n      <td>12</td>\n      <td>12000</td>\n      <td>0</td>\n      <td>0</td>\n      <td>1</td>\n      <td>Female</td>\n      <td>White</td>\n      <td>Administration</td>\n      <td>0</td>\n      <td>White_Female</td>\n    </tr>\n    <tr>\n      <th>3</th>\n      <td>21900</td>\n      <td>8</td>\n      <td>13200</td>\n      <td>0</td>\n      <td>0</td>\n      <td>1</td>\n      <td>Female</td>\n      <td>White</td>\n      <td>Administration</td>\n      <td>0</td>\n      <td>White_Female</td>\n    </tr>\n    <tr>\n      <th>4</th>\n      <td>45000</td>\n      <td>15</td>\n      <td>21000</td>\n      <td>1</td>\n      <td>0</td>\n      <td>1</td>\n      <td>Male</td>\n      <td>White</td>\n      <td>Administration</td>\n      <td>1</td>\n      <td>White_Male</td>\n    </tr>\n    <tr>\n      <th>...</th>\n      <td>...</td>\n      <td>...</td>\n      <td>...</td>\n      <td>...</td>\n      <td>...</td>\n      <td>...</td>\n      <td>...</td>\n      <td>...</td>\n      <td>...</td>\n      <td>...</td>\n      <td>...</td>\n    </tr>\n    <tr>\n      <th>469</th>\n      <td>26250</td>\n      <td>12</td>\n      <td>15750</td>\n      <td>1</td>\n      <td>1</td>\n      <td>1</td>\n      <td>Male</td>\n      <td>Minority</td>\n      <td>Administration</td>\n      <td>3</td>\n      <td>Minority_Male</td>\n    </tr>\n    <tr>\n      <th>470</th>\n      <td>26400</td>\n      <td>15</td>\n      <td>15750</td>\n      <td>1</td>\n      <td>1</td>\n      <td>1</td>\n      <td>Male</td>\n      <td>Minority</td>\n      <td>Administration</td>\n      <td>3</td>\n      <td>Minority_Male</td>\n    </tr>\n    <tr>\n      <th>471</th>\n      <td>39150</td>\n      <td>15</td>\n      <td>15750</td>\n      <td>1</td>\n      <td>0</td>\n      <td>1</td>\n      <td>Male</td>\n      <td>White</td>\n      <td>Administration</td>\n      <td>1</td>\n      <td>White_Male</td>\n    </tr>\n    <tr>\n      <th>472</th>\n      <td>21450</td>\n      <td>12</td>\n      <td>12750</td>\n      <td>0</td>\n      <td>0</td>\n      <td>1</td>\n      <td>Female</td>\n      <td>White</td>\n      <td>Administration</td>\n      <td>0</td>\n      <td>White_Female</td>\n    </tr>\n    <tr>\n      <th>473</th>\n      <td>29400</td>\n      <td>12</td>\n      <td>14250</td>\n      <td>0</td>\n      <td>0</td>\n      <td>1</td>\n      <td>Female</td>\n      <td>White</td>\n      <td>Administration</td>\n      <td>0</td>\n      <td>White_Female</td>\n    </tr>\n  </tbody>\n</table>\n<p>474 rows × 11 columns</p>\n</div>"
     },
     "metadata": {},
     "execution_count": 16
    }
   ],
   "source": [
    "df = df_raw.copy()\n",
    "df[\"GENDER_DENOTING\"] = df_raw[\"GENDER\"].replace({0 : \"Female\", 1 : \"Male\"})\n",
    "df[\"MINORITY_DENOTING\"] = df_raw[\"MINORITY\"].replace({0 : \"White\", 1 : \"Minority\"})\n",
    "df[\"JOBCAT_DENOTING\"] = df_raw[\"JOBCAT\"].replace({1 : \"Administration\", 2 : \"Custody\", 3 : \"Management\"})\n",
    "\n",
    "df[\"SOCIODEMOGRAPHY\"] = df_raw[\"GENDER\"]*2**0 + df_raw[\"MINORITY\"]*2**1\n",
    "df[\"SOCIODEMOGRAPHY_DENOTING\"] = df[\"MINORITY_DENOTING\"].map(str) + \"_\" + df[\"GENDER_DENOTING\"]\n",
    "\n",
    "df"
   ]
  },
  {
   "source": [
    "In the end of this \"data loading\" notebook we store the preconfigured data into the memory so that other notebooks can use it too."
   ],
   "cell_type": "markdown",
   "metadata": {}
  },
  {
   "cell_type": "code",
   "execution_count": 9,
   "metadata": {},
   "outputs": [
    {
     "output_type": "stream",
     "name": "stdout",
     "text": [
      "Stored 'df' (DataFrame)\n"
     ]
    }
   ],
   "source": [
    "%store df"
   ]
  }
 ]
}