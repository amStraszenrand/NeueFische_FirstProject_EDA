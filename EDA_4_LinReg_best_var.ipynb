{
 "metadata": {
  "language_info": {
   "codemirror_mode": {
    "name": "ipython",
    "version": 3
   },
   "file_extension": ".py",
   "mimetype": "text/x-python",
   "name": "python",
   "nbconvert_exporter": "python",
   "pygments_lexer": "ipython3",
   "version": "3.8.5"
  },
  "orig_nbformat": 2,
  "kernelspec": {
   "name": "python385jvsc74a57bd0b97710d494ffeb654d41d16f65990d28edf229515e751f1ea393dba413e87e78",
   "display_name": "Python 3.8.5 64-bit"
  },
  "metadata": {
   "interpreter": {
    "hash": "b97710d494ffeb654d41d16f65990d28edf229515e751f1ea393dba413e87e78"
   }
  }
 },
 "nbformat": 4,
 "nbformat_minor": 2,
 "cells": [
  {
   "source": [
    "ac### Try out a linear regression on the data with one feature\n",
    "\n",
    "Here we are going to use a linear regression the same way we did it in notebook 2 and 3 - but instead of using all features we just fit out linear regression model on `salary beginn` as the most significant one. "
   ],
   "cell_type": "markdown",
   "metadata": {}
  },
  {
   "cell_type": "code",
   "execution_count": 43,
   "metadata": {},
   "outputs": [],
   "source": [
    "import pandas as pd\n",
    "import numpy as np\n",
    "\n",
    "import matplotlib.pyplot as plt\n",
    "import seaborn as sns\n",
    "import plotly.express as plx\n",
    "\n",
    "from sklearn.model_selection import train_test_split\n",
    "from sklearn.linear_model import LinearRegression\n",
    "from sklearn.metrics import mean_squared_error\n",
    "import statsmodels.api as sms\n",
    "import scipy.stats as stats"
   ]
  },
  {
   "cell_type": "code",
   "execution_count": 44,
   "metadata": {},
   "outputs": [],
   "source": [
    "%store -r df"
   ]
  },
  {
   "cell_type": "code",
   "execution_count": null,
   "metadata": {},
   "outputs": [],
   "source": []
  },
  {
   "cell_type": "code",
   "execution_count": 45,
   "metadata": {},
   "outputs": [
    {
     "output_type": "execute_result",
     "data": {
      "text/plain": [
       "<AxesSubplot:>"
      ]
     },
     "metadata": {},
     "execution_count": 45
    },
    {
     "output_type": "display_data",
     "data": {
      "text/plain": "<Figure size 432x288 with 2 Axes>",
      "image/svg+xml": "<?xml version=\"1.0\" encoding=\"utf-8\" standalone=\"no\"?>\n<!DOCTYPE svg PUBLIC \"-//W3C//DTD SVG 1.1//EN\"\n  \"http://www.w3.org/Graphics/SVG/1.1/DTD/svg11.dtd\">\n<svg height=\"252.317344pt\" version=\"1.1\" viewBox=\"0 0 355.79575 252.317344\" width=\"355.79575pt\" xmlns=\"http://www.w3.org/2000/svg\" xmlns:xlink=\"http://www.w3.org/1999/xlink\">\n <metadata>\n  <rdf:RDF xmlns:cc=\"http://creativecommons.org/ns#\" xmlns:dc=\"http://purl.org/dc/elements/1.1/\" xmlns:rdf=\"http://www.w3.org/1999/02/22-rdf-syntax-ns#\">\n   <cc:Work>\n    <dc:type rdf:resource=\"http://purl.org/dc/dcmitype/StillImage\"/>\n    <dc:date>2021-06-04T08:59:50.604065</dc:date>\n    <dc:format>image/svg+xml</dc:format>\n    <dc:creator>\n     <cc:Agent>\n      <dc:title>Matplotlib v3.4.2, https://matplotlib.org/</dc:title>\n     </cc:Agent>\n    </dc:creator>\n   </cc:Work>\n  </rdf:RDF>\n </metadata>\n <defs>\n  <style type=\"text/css\">*{stroke-linecap:butt;stroke-linejoin:round;}</style>\n </defs>\n <g id=\"figure_1\">\n  <g id=\"patch_1\">\n   <path d=\"M 0 252.317344 \nL 355.79575 252.317344 \nL 355.79575 0 \nL 0 0 \nz\n\" style=\"fill:none;\"/>\n  </g>\n  <g id=\"axes_1\">\n   <g id=\"patch_2\">\n    <path d=\"M 23.878125 228.439219 \nL 291.718125 228.439219 \nL 291.718125 10.999219 \nL 23.878125 10.999219 \nz\n\" style=\"fill:#ffffff;\"/>\n   </g>\n   <g id=\"QuadMesh_1\">\n    <path clip-path=\"url(#p3d23f7bc36)\" d=\"M 23.878125 10.999219 \nL 157.798125 10.999219 \nL 157.798125 119.719219 \nL 23.878125 119.719219 \nL 23.878125 10.999219 \n\" style=\"fill:#faebdd;stroke:#ffffff;\"/>\n    <path clip-path=\"url(#p3d23f7bc36)\" d=\"M 157.798125 10.999219 \nL 291.718125 10.999219 \nL 291.718125 119.719219 \nL 157.798125 119.719219 \nL 157.798125 10.999219 \n\" style=\"fill:#03051a;stroke:#ffffff;\"/>\n    <path clip-path=\"url(#p3d23f7bc36)\" d=\"M 23.878125 119.719219 \nL 157.798125 119.719219 \nL 157.798125 228.439219 \nL 23.878125 228.439219 \nL 23.878125 119.719219 \n\" style=\"fill:#03051a;stroke:#ffffff;\"/>\n    <path clip-path=\"url(#p3d23f7bc36)\" d=\"M 157.798125 119.719219 \nL 291.718125 119.719219 \nL 291.718125 228.439219 \nL 157.798125 228.439219 \nL 157.798125 119.719219 \n\" style=\"fill:#faebdd;stroke:#ffffff;\"/>\n   </g>\n   <g id=\"matplotlib.axis_1\">\n    <g id=\"xtick_1\">\n     <g id=\"line2d_1\">\n      <defs>\n       <path d=\"M 0 0 \nL 0 3.5 \n\" id=\"m390efe1b90\" style=\"stroke:#000000;stroke-width:0.8;\"/>\n      </defs>\n      <g>\n       <use style=\"stroke:#000000;stroke-width:0.8;\" x=\"90.838125\" xlink:href=\"#m390efe1b90\" y=\"228.439219\"/>\n      </g>\n     </g>\n     <g id=\"text_1\">\n      <!-- SALARY -->\n      <g transform=\"translate(71.621719 243.037656)scale(0.1 -0.1)\">\n       <defs>\n        <path d=\"M 3425 4513 \nL 3425 3897 \nQ 3066 4069 2747 4153 \nQ 2428 4238 2131 4238 \nQ 1616 4238 1336 4038 \nQ 1056 3838 1056 3469 \nQ 1056 3159 1242 3001 \nQ 1428 2844 1947 2747 \nL 2328 2669 \nQ 3034 2534 3370 2195 \nQ 3706 1856 3706 1288 \nQ 3706 609 3251 259 \nQ 2797 -91 1919 -91 \nQ 1588 -91 1214 -16 \nQ 841 59 441 206 \nL 441 856 \nQ 825 641 1194 531 \nQ 1563 422 1919 422 \nQ 2459 422 2753 634 \nQ 3047 847 3047 1241 \nQ 3047 1584 2836 1778 \nQ 2625 1972 2144 2069 \nL 1759 2144 \nQ 1053 2284 737 2584 \nQ 422 2884 422 3419 \nQ 422 4038 858 4394 \nQ 1294 4750 2059 4750 \nQ 2388 4750 2728 4690 \nQ 3069 4631 3425 4513 \nz\n\" id=\"DejaVuSans-53\" transform=\"scale(0.015625)\"/>\n        <path d=\"M 2188 4044 \nL 1331 1722 \nL 3047 1722 \nL 2188 4044 \nz\nM 1831 4666 \nL 2547 4666 \nL 4325 0 \nL 3669 0 \nL 3244 1197 \nL 1141 1197 \nL 716 0 \nL 50 0 \nL 1831 4666 \nz\n\" id=\"DejaVuSans-41\" transform=\"scale(0.015625)\"/>\n        <path d=\"M 628 4666 \nL 1259 4666 \nL 1259 531 \nL 3531 531 \nL 3531 0 \nL 628 0 \nL 628 4666 \nz\n\" id=\"DejaVuSans-4c\" transform=\"scale(0.015625)\"/>\n        <path d=\"M 2841 2188 \nQ 3044 2119 3236 1894 \nQ 3428 1669 3622 1275 \nL 4263 0 \nL 3584 0 \nL 2988 1197 \nQ 2756 1666 2539 1819 \nQ 2322 1972 1947 1972 \nL 1259 1972 \nL 1259 0 \nL 628 0 \nL 628 4666 \nL 2053 4666 \nQ 2853 4666 3247 4331 \nQ 3641 3997 3641 3322 \nQ 3641 2881 3436 2590 \nQ 3231 2300 2841 2188 \nz\nM 1259 4147 \nL 1259 2491 \nL 2053 2491 \nQ 2509 2491 2742 2702 \nQ 2975 2913 2975 3322 \nQ 2975 3731 2742 3939 \nQ 2509 4147 2053 4147 \nL 1259 4147 \nz\n\" id=\"DejaVuSans-52\" transform=\"scale(0.015625)\"/>\n        <path d=\"M -13 4666 \nL 666 4666 \nL 1959 2747 \nL 3244 4666 \nL 3922 4666 \nL 2272 2222 \nL 2272 0 \nL 1638 0 \nL 1638 2222 \nL -13 4666 \nz\n\" id=\"DejaVuSans-59\" transform=\"scale(0.015625)\"/>\n       </defs>\n       <use xlink:href=\"#DejaVuSans-53\"/>\n       <use x=\"65.351562\" xlink:href=\"#DejaVuSans-41\"/>\n       <use x=\"133.759766\" xlink:href=\"#DejaVuSans-4c\"/>\n       <use x=\"191.722656\" xlink:href=\"#DejaVuSans-41\"/>\n       <use x=\"260.130859\" xlink:href=\"#DejaVuSans-52\"/>\n       <use x=\"323.238281\" xlink:href=\"#DejaVuSans-59\"/>\n      </g>\n     </g>\n    </g>\n    <g id=\"xtick_2\">\n     <g id=\"line2d_2\">\n      <g>\n       <use style=\"stroke:#000000;stroke-width:0.8;\" x=\"224.758125\" xlink:href=\"#m390efe1b90\" y=\"228.439219\"/>\n      </g>\n     </g>\n     <g id=\"text_2\">\n      <!-- SALBEGIN -->\n      <g transform=\"translate(199.604219 243.037656)scale(0.1 -0.1)\">\n       <defs>\n        <path d=\"M 1259 2228 \nL 1259 519 \nL 2272 519 \nQ 2781 519 3026 730 \nQ 3272 941 3272 1375 \nQ 3272 1813 3026 2020 \nQ 2781 2228 2272 2228 \nL 1259 2228 \nz\nM 1259 4147 \nL 1259 2741 \nL 2194 2741 \nQ 2656 2741 2882 2914 \nQ 3109 3088 3109 3444 \nQ 3109 3797 2882 3972 \nQ 2656 4147 2194 4147 \nL 1259 4147 \nz\nM 628 4666 \nL 2241 4666 \nQ 2963 4666 3353 4366 \nQ 3744 4066 3744 3513 \nQ 3744 3084 3544 2831 \nQ 3344 2578 2956 2516 \nQ 3422 2416 3680 2098 \nQ 3938 1781 3938 1306 \nQ 3938 681 3513 340 \nQ 3088 0 2303 0 \nL 628 0 \nL 628 4666 \nz\n\" id=\"DejaVuSans-42\" transform=\"scale(0.015625)\"/>\n        <path d=\"M 628 4666 \nL 3578 4666 \nL 3578 4134 \nL 1259 4134 \nL 1259 2753 \nL 3481 2753 \nL 3481 2222 \nL 1259 2222 \nL 1259 531 \nL 3634 531 \nL 3634 0 \nL 628 0 \nL 628 4666 \nz\n\" id=\"DejaVuSans-45\" transform=\"scale(0.015625)\"/>\n        <path d=\"M 3809 666 \nL 3809 1919 \nL 2778 1919 \nL 2778 2438 \nL 4434 2438 \nL 4434 434 \nQ 4069 175 3628 42 \nQ 3188 -91 2688 -91 \nQ 1594 -91 976 548 \nQ 359 1188 359 2328 \nQ 359 3472 976 4111 \nQ 1594 4750 2688 4750 \nQ 3144 4750 3555 4637 \nQ 3966 4525 4313 4306 \nL 4313 3634 \nQ 3963 3931 3569 4081 \nQ 3175 4231 2741 4231 \nQ 1884 4231 1454 3753 \nQ 1025 3275 1025 2328 \nQ 1025 1384 1454 906 \nQ 1884 428 2741 428 \nQ 3075 428 3337 486 \nQ 3600 544 3809 666 \nz\n\" id=\"DejaVuSans-47\" transform=\"scale(0.015625)\"/>\n        <path d=\"M 628 4666 \nL 1259 4666 \nL 1259 0 \nL 628 0 \nL 628 4666 \nz\n\" id=\"DejaVuSans-49\" transform=\"scale(0.015625)\"/>\n        <path d=\"M 628 4666 \nL 1478 4666 \nL 3547 763 \nL 3547 4666 \nL 4159 4666 \nL 4159 0 \nL 3309 0 \nL 1241 3903 \nL 1241 0 \nL 628 0 \nL 628 4666 \nz\n\" id=\"DejaVuSans-4e\" transform=\"scale(0.015625)\"/>\n       </defs>\n       <use xlink:href=\"#DejaVuSans-53\"/>\n       <use x=\"65.351562\" xlink:href=\"#DejaVuSans-41\"/>\n       <use x=\"133.759766\" xlink:href=\"#DejaVuSans-4c\"/>\n       <use x=\"189.472656\" xlink:href=\"#DejaVuSans-42\"/>\n       <use x=\"258.076172\" xlink:href=\"#DejaVuSans-45\"/>\n       <use x=\"321.259766\" xlink:href=\"#DejaVuSans-47\"/>\n       <use x=\"398.75\" xlink:href=\"#DejaVuSans-49\"/>\n       <use x=\"428.242188\" xlink:href=\"#DejaVuSans-4e\"/>\n      </g>\n     </g>\n    </g>\n   </g>\n   <g id=\"matplotlib.axis_2\">\n    <g id=\"ytick_1\">\n     <g id=\"line2d_3\">\n      <defs>\n       <path d=\"M 0 0 \nL -3.5 0 \n\" id=\"m59d9215365\" style=\"stroke:#000000;stroke-width:0.8;\"/>\n      </defs>\n      <g>\n       <use style=\"stroke:#000000;stroke-width:0.8;\" x=\"23.878125\" xlink:href=\"#m59d9215365\" y=\"65.359219\"/>\n      </g>\n     </g>\n     <g id=\"text_3\">\n      <!-- SALARY -->\n      <g transform=\"translate(14.798438 99.992813)rotate(-90)scale(0.1 -0.1)\">\n       <use xlink:href=\"#DejaVuSans-53\"/>\n       <use x=\"65.351562\" xlink:href=\"#DejaVuSans-41\"/>\n       <use x=\"133.759766\" xlink:href=\"#DejaVuSans-4c\"/>\n       <use x=\"191.722656\" xlink:href=\"#DejaVuSans-41\"/>\n       <use x=\"260.130859\" xlink:href=\"#DejaVuSans-52\"/>\n       <use x=\"323.238281\" xlink:href=\"#DejaVuSans-59\"/>\n      </g>\n     </g>\n    </g>\n    <g id=\"ytick_2\">\n     <g id=\"line2d_4\">\n      <g>\n       <use style=\"stroke:#000000;stroke-width:0.8;\" x=\"23.878125\" xlink:href=\"#m59d9215365\" y=\"174.079219\"/>\n      </g>\n     </g>\n     <g id=\"text_4\">\n      <!-- SALBEGIN -->\n      <g transform=\"translate(14.798438 220.587813)rotate(-90)scale(0.1 -0.1)\">\n       <use xlink:href=\"#DejaVuSans-53\"/>\n       <use x=\"65.351562\" xlink:href=\"#DejaVuSans-41\"/>\n       <use x=\"133.759766\" xlink:href=\"#DejaVuSans-4c\"/>\n       <use x=\"189.472656\" xlink:href=\"#DejaVuSans-42\"/>\n       <use x=\"258.076172\" xlink:href=\"#DejaVuSans-45\"/>\n       <use x=\"321.259766\" xlink:href=\"#DejaVuSans-47\"/>\n       <use x=\"398.75\" xlink:href=\"#DejaVuSans-49\"/>\n       <use x=\"428.242188\" xlink:href=\"#DejaVuSans-4e\"/>\n      </g>\n     </g>\n    </g>\n   </g>\n   <g id=\"text_5\">\n    <!-- 1 -->\n    <g style=\"fill:#262626;\" transform=\"translate(87.656875 68.118594)scale(0.1 -0.1)\">\n     <defs>\n      <path d=\"M 794 531 \nL 1825 531 \nL 1825 4091 \nL 703 3866 \nL 703 4441 \nL 1819 4666 \nL 2450 4666 \nL 2450 531 \nL 3481 531 \nL 3481 0 \nL 794 0 \nL 794 531 \nz\n\" id=\"DejaVuSans-31\" transform=\"scale(0.015625)\"/>\n     </defs>\n     <use xlink:href=\"#DejaVuSans-31\"/>\n    </g>\n   </g>\n   <g id=\"text_6\">\n    <!-- 0.88 -->\n    <g style=\"fill:#ffffff;\" transform=\"translate(213.625313 68.118594)scale(0.1 -0.1)\">\n     <defs>\n      <path d=\"M 2034 4250 \nQ 1547 4250 1301 3770 \nQ 1056 3291 1056 2328 \nQ 1056 1369 1301 889 \nQ 1547 409 2034 409 \nQ 2525 409 2770 889 \nQ 3016 1369 3016 2328 \nQ 3016 3291 2770 3770 \nQ 2525 4250 2034 4250 \nz\nM 2034 4750 \nQ 2819 4750 3233 4129 \nQ 3647 3509 3647 2328 \nQ 3647 1150 3233 529 \nQ 2819 -91 2034 -91 \nQ 1250 -91 836 529 \nQ 422 1150 422 2328 \nQ 422 3509 836 4129 \nQ 1250 4750 2034 4750 \nz\n\" id=\"DejaVuSans-30\" transform=\"scale(0.015625)\"/>\n      <path d=\"M 684 794 \nL 1344 794 \nL 1344 0 \nL 684 0 \nL 684 794 \nz\n\" id=\"DejaVuSans-2e\" transform=\"scale(0.015625)\"/>\n      <path d=\"M 2034 2216 \nQ 1584 2216 1326 1975 \nQ 1069 1734 1069 1313 \nQ 1069 891 1326 650 \nQ 1584 409 2034 409 \nQ 2484 409 2743 651 \nQ 3003 894 3003 1313 \nQ 3003 1734 2745 1975 \nQ 2488 2216 2034 2216 \nz\nM 1403 2484 \nQ 997 2584 770 2862 \nQ 544 3141 544 3541 \nQ 544 4100 942 4425 \nQ 1341 4750 2034 4750 \nQ 2731 4750 3128 4425 \nQ 3525 4100 3525 3541 \nQ 3525 3141 3298 2862 \nQ 3072 2584 2669 2484 \nQ 3125 2378 3379 2068 \nQ 3634 1759 3634 1313 \nQ 3634 634 3220 271 \nQ 2806 -91 2034 -91 \nQ 1263 -91 848 271 \nQ 434 634 434 1313 \nQ 434 1759 690 2068 \nQ 947 2378 1403 2484 \nz\nM 1172 3481 \nQ 1172 3119 1398 2916 \nQ 1625 2713 2034 2713 \nQ 2441 2713 2670 2916 \nQ 2900 3119 2900 3481 \nQ 2900 3844 2670 4047 \nQ 2441 4250 2034 4250 \nQ 1625 4250 1398 4047 \nQ 1172 3844 1172 3481 \nz\n\" id=\"DejaVuSans-38\" transform=\"scale(0.015625)\"/>\n     </defs>\n     <use xlink:href=\"#DejaVuSans-30\"/>\n     <use x=\"63.623047\" xlink:href=\"#DejaVuSans-2e\"/>\n     <use x=\"95.410156\" xlink:href=\"#DejaVuSans-38\"/>\n     <use x=\"159.033203\" xlink:href=\"#DejaVuSans-38\"/>\n    </g>\n   </g>\n   <g id=\"text_7\">\n    <!-- 0.88 -->\n    <g style=\"fill:#ffffff;\" transform=\"translate(79.705313 176.838594)scale(0.1 -0.1)\">\n     <use xlink:href=\"#DejaVuSans-30\"/>\n     <use x=\"63.623047\" xlink:href=\"#DejaVuSans-2e\"/>\n     <use x=\"95.410156\" xlink:href=\"#DejaVuSans-38\"/>\n     <use x=\"159.033203\" xlink:href=\"#DejaVuSans-38\"/>\n    </g>\n   </g>\n   <g id=\"text_8\">\n    <!-- 1 -->\n    <g style=\"fill:#262626;\" transform=\"translate(221.576875 176.838594)scale(0.1 -0.1)\">\n     <use xlink:href=\"#DejaVuSans-31\"/>\n    </g>\n   </g>\n  </g>\n  <g id=\"axes_2\">\n   <g id=\"patch_3\">\n    <path d=\"M 308.458125 228.439219 \nL 319.330125 228.439219 \nL 319.330125 10.999219 \nL 308.458125 10.999219 \nz\n\" style=\"fill:#ffffff;\"/>\n   </g>\n   <g id=\"patch_4\">\n    <path clip-path=\"url(#p350316bc4f)\" d=\"M 308.458125 228.439219 \nL 308.458125 227.589844 \nL 308.458125 11.848594 \nL 308.458125 10.999219 \nL 319.330125 10.999219 \nL 319.330125 11.848594 \nL 319.330125 227.589844 \nL 319.330125 228.439219 \nL 319.330125 228.439219 \nz\n\" style=\"fill:#ffffff;stroke:#ffffff;stroke-linejoin:miter;stroke-width:0.01;\"/>\n   </g>\n   <image height=\"217\" id=\"image6fa29656d4\" transform=\"scale(1 -1)translate(0 -217)\" width=\"11\" x=\"308\" xlink:href=\"data:image/png;base64,\niVBORw0KGgoAAAANSUhEUgAAAAsAAADZCAYAAAD2WsoCAAABYUlEQVR4nO3aQW4DMQwDQMtyPtH/vzPptUfPgYA2aM4EQVK0duOk+vXzWZefU7fItdbZe9+Da91znyoAbwGTDGLukjRyBonZ0gCDQzQn02gBj6jolPKTjCnjlvIP0UwyrqE67iFpUOt6hoz7lKM5d6x1ZDC4N0TGya1ckZFjfua4iRnAJ1akZHQpGef6u4TLIHDsdE8xKOCY5iPgEhmPTCPYjXtqM2ib/yMyhHlIGiXMVn7SHGQWMEzltDAX7IKzBWxFEubeb5Ah0QXTiMnojqUBJzYY3W6RYZqvscock7Hh2WZDgasCTgOYF3UDVj/KsDRizGYQXrbRYIp5CXPBUwWZzWBMhlxZyOvJWfIb0JToGq7uUXMqjSU3rsZ8JI2YjCnRWRpU0RHHavX96sczaN2IgWkoksYUzcScM5gbd475P40/4OpXiHlKGjMMlvxVIJkGlT/3VkDR5VaBdOPLDf4CdO8rI5K+A88AAAAASUVORK5CYII=\" y=\"-11\"/>\n   <g id=\"matplotlib.axis_3\"/>\n   <g id=\"matplotlib.axis_4\">\n    <g id=\"ytick_3\">\n     <g id=\"line2d_5\">\n      <defs>\n       <path d=\"M 0 0 \nL 3.5 0 \n\" id=\"m48c9095bdb\" style=\"stroke:#000000;stroke-width:0.8;\"/>\n      </defs>\n      <g>\n       <use style=\"stroke:#000000;stroke-width:0.8;\" x=\"319.330125\" xlink:href=\"#m48c9095bdb\" y=\"192.376766\"/>\n      </g>\n     </g>\n     <g id=\"text_9\">\n      <!-- 0.90 -->\n      <g transform=\"translate(326.330125 196.175984)scale(0.1 -0.1)\">\n       <defs>\n        <path d=\"M 703 97 \nL 703 672 \nQ 941 559 1184 500 \nQ 1428 441 1663 441 \nQ 2288 441 2617 861 \nQ 2947 1281 2994 2138 \nQ 2813 1869 2534 1725 \nQ 2256 1581 1919 1581 \nQ 1219 1581 811 2004 \nQ 403 2428 403 3163 \nQ 403 3881 828 4315 \nQ 1253 4750 1959 4750 \nQ 2769 4750 3195 4129 \nQ 3622 3509 3622 2328 \nQ 3622 1225 3098 567 \nQ 2575 -91 1691 -91 \nQ 1453 -91 1209 -44 \nQ 966 3 703 97 \nz\nM 1959 2075 \nQ 2384 2075 2632 2365 \nQ 2881 2656 2881 3163 \nQ 2881 3666 2632 3958 \nQ 2384 4250 1959 4250 \nQ 1534 4250 1286 3958 \nQ 1038 3666 1038 3163 \nQ 1038 2656 1286 2365 \nQ 1534 2075 1959 2075 \nz\n\" id=\"DejaVuSans-39\" transform=\"scale(0.015625)\"/>\n       </defs>\n       <use xlink:href=\"#DejaVuSans-30\"/>\n       <use x=\"63.623047\" xlink:href=\"#DejaVuSans-2e\"/>\n       <use x=\"95.410156\" xlink:href=\"#DejaVuSans-39\"/>\n       <use x=\"159.033203\" xlink:href=\"#DejaVuSans-30\"/>\n      </g>\n     </g>\n    </g>\n    <g id=\"ytick_4\">\n     <g id=\"line2d_6\">\n      <g>\n       <use style=\"stroke:#000000;stroke-width:0.8;\" x=\"319.330125\" xlink:href=\"#m48c9095bdb\" y=\"156.101256\"/>\n      </g>\n     </g>\n     <g id=\"text_10\">\n      <!-- 0.92 -->\n      <g transform=\"translate(326.330125 159.900475)scale(0.1 -0.1)\">\n       <defs>\n        <path d=\"M 1228 531 \nL 3431 531 \nL 3431 0 \nL 469 0 \nL 469 531 \nQ 828 903 1448 1529 \nQ 2069 2156 2228 2338 \nQ 2531 2678 2651 2914 \nQ 2772 3150 2772 3378 \nQ 2772 3750 2511 3984 \nQ 2250 4219 1831 4219 \nQ 1534 4219 1204 4116 \nQ 875 4013 500 3803 \nL 500 4441 \nQ 881 4594 1212 4672 \nQ 1544 4750 1819 4750 \nQ 2544 4750 2975 4387 \nQ 3406 4025 3406 3419 \nQ 3406 3131 3298 2873 \nQ 3191 2616 2906 2266 \nQ 2828 2175 2409 1742 \nQ 1991 1309 1228 531 \nz\n\" id=\"DejaVuSans-32\" transform=\"scale(0.015625)\"/>\n       </defs>\n       <use xlink:href=\"#DejaVuSans-30\"/>\n       <use x=\"63.623047\" xlink:href=\"#DejaVuSans-2e\"/>\n       <use x=\"95.410156\" xlink:href=\"#DejaVuSans-39\"/>\n       <use x=\"159.033203\" xlink:href=\"#DejaVuSans-32\"/>\n      </g>\n     </g>\n    </g>\n    <g id=\"ytick_5\">\n     <g id=\"line2d_7\">\n      <g>\n       <use style=\"stroke:#000000;stroke-width:0.8;\" x=\"319.330125\" xlink:href=\"#m48c9095bdb\" y=\"119.825747\"/>\n      </g>\n     </g>\n     <g id=\"text_11\">\n      <!-- 0.94 -->\n      <g transform=\"translate(326.330125 123.624966)scale(0.1 -0.1)\">\n       <defs>\n        <path d=\"M 2419 4116 \nL 825 1625 \nL 2419 1625 \nL 2419 4116 \nz\nM 2253 4666 \nL 3047 4666 \nL 3047 1625 \nL 3713 1625 \nL 3713 1100 \nL 3047 1100 \nL 3047 0 \nL 2419 0 \nL 2419 1100 \nL 313 1100 \nL 313 1709 \nL 2253 4666 \nz\n\" id=\"DejaVuSans-34\" transform=\"scale(0.015625)\"/>\n       </defs>\n       <use xlink:href=\"#DejaVuSans-30\"/>\n       <use x=\"63.623047\" xlink:href=\"#DejaVuSans-2e\"/>\n       <use x=\"95.410156\" xlink:href=\"#DejaVuSans-39\"/>\n       <use x=\"159.033203\" xlink:href=\"#DejaVuSans-34\"/>\n      </g>\n     </g>\n    </g>\n    <g id=\"ytick_6\">\n     <g id=\"line2d_8\">\n      <g>\n       <use style=\"stroke:#000000;stroke-width:0.8;\" x=\"319.330125\" xlink:href=\"#m48c9095bdb\" y=\"83.550237\"/>\n      </g>\n     </g>\n     <g id=\"text_12\">\n      <!-- 0.96 -->\n      <g transform=\"translate(326.330125 87.349456)scale(0.1 -0.1)\">\n       <defs>\n        <path d=\"M 2113 2584 \nQ 1688 2584 1439 2293 \nQ 1191 2003 1191 1497 \nQ 1191 994 1439 701 \nQ 1688 409 2113 409 \nQ 2538 409 2786 701 \nQ 3034 994 3034 1497 \nQ 3034 2003 2786 2293 \nQ 2538 2584 2113 2584 \nz\nM 3366 4563 \nL 3366 3988 \nQ 3128 4100 2886 4159 \nQ 2644 4219 2406 4219 \nQ 1781 4219 1451 3797 \nQ 1122 3375 1075 2522 \nQ 1259 2794 1537 2939 \nQ 1816 3084 2150 3084 \nQ 2853 3084 3261 2657 \nQ 3669 2231 3669 1497 \nQ 3669 778 3244 343 \nQ 2819 -91 2113 -91 \nQ 1303 -91 875 529 \nQ 447 1150 447 2328 \nQ 447 3434 972 4092 \nQ 1497 4750 2381 4750 \nQ 2619 4750 2861 4703 \nQ 3103 4656 3366 4563 \nz\n\" id=\"DejaVuSans-36\" transform=\"scale(0.015625)\"/>\n       </defs>\n       <use xlink:href=\"#DejaVuSans-30\"/>\n       <use x=\"63.623047\" xlink:href=\"#DejaVuSans-2e\"/>\n       <use x=\"95.410156\" xlink:href=\"#DejaVuSans-39\"/>\n       <use x=\"159.033203\" xlink:href=\"#DejaVuSans-36\"/>\n      </g>\n     </g>\n    </g>\n    <g id=\"ytick_7\">\n     <g id=\"line2d_9\">\n      <g>\n       <use style=\"stroke:#000000;stroke-width:0.8;\" x=\"319.330125\" xlink:href=\"#m48c9095bdb\" y=\"47.274728\"/>\n      </g>\n     </g>\n     <g id=\"text_13\">\n      <!-- 0.98 -->\n      <g transform=\"translate(326.330125 51.073947)scale(0.1 -0.1)\">\n       <use xlink:href=\"#DejaVuSans-30\"/>\n       <use x=\"63.623047\" xlink:href=\"#DejaVuSans-2e\"/>\n       <use x=\"95.410156\" xlink:href=\"#DejaVuSans-39\"/>\n       <use x=\"159.033203\" xlink:href=\"#DejaVuSans-38\"/>\n      </g>\n     </g>\n    </g>\n    <g id=\"ytick_8\">\n     <g id=\"line2d_10\">\n      <g>\n       <use style=\"stroke:#000000;stroke-width:0.8;\" x=\"319.330125\" xlink:href=\"#m48c9095bdb\" y=\"10.999219\"/>\n      </g>\n     </g>\n     <g id=\"text_14\">\n      <!-- 1.00 -->\n      <g transform=\"translate(326.330125 14.798438)scale(0.1 -0.1)\">\n       <use xlink:href=\"#DejaVuSans-31\"/>\n       <use x=\"63.623047\" xlink:href=\"#DejaVuSans-2e\"/>\n       <use x=\"95.410156\" xlink:href=\"#DejaVuSans-30\"/>\n       <use x=\"159.033203\" xlink:href=\"#DejaVuSans-30\"/>\n      </g>\n     </g>\n    </g>\n   </g>\n   <g id=\"LineCollection_1\"/>\n   <g id=\"patch_5\">\n    <path d=\"M 308.458125 228.439219 \nL 308.458125 227.589844 \nL 308.458125 11.848594 \nL 308.458125 10.999219 \nL 319.330125 10.999219 \nL 319.330125 11.848594 \nL 319.330125 227.589844 \nL 319.330125 228.439219 \nz\n\" style=\"fill:none;\"/>\n   </g>\n  </g>\n </g>\n <defs>\n  <clipPath id=\"p3d23f7bc36\">\n   <rect height=\"217.44\" width=\"267.84\" x=\"23.878125\" y=\"10.999219\"/>\n  </clipPath>\n  <clipPath id=\"p350316bc4f\">\n   <rect height=\"217.44\" width=\"10.872\" x=\"308.458125\" y=\"10.999219\"/>\n  </clipPath>\n </defs>\n</svg>\n",
      "image/png": "[encoded data removed]"
     },
     "metadata": {
      "needs_background": "light"
     }
    }
   ],
   "source": [
    "df = df[[\"SALARY\", \"SALBEGIN\"]]\n",
    "sns.heatmap(df.corr(),annot=True,lw=1)"
   ]
  },
  {
   "cell_type": "code",
   "execution_count": 46,
   "metadata": {},
   "outputs": [],
   "source": [
    "df_X = pd.get_dummies(data=df.drop(columns = \"SALARY\"))\n",
    "Y = df[\"SALARY\"]"
   ]
  },
  {
   "cell_type": "code",
   "execution_count": 47,
   "metadata": {},
   "outputs": [
    {
     "output_type": "execute_result",
     "data": {
      "text/plain": [
       "     SALBEGIN\n",
       "470     15750\n",
       "365     12000\n",
       "350     13500\n",
       "172     42480\n",
       "65      30000\n",
       "..        ...\n",
       "406     15750\n",
       "390     12450\n",
       "143      9750\n",
       "241     18000\n",
       "111     15000\n",
       "\n",
       "[284 rows x 1 columns]"
      ],
      "text/html": "<div>\n<style scoped>\n    .dataframe tbody tr th:only-of-type {\n        vertical-align: middle;\n    }\n\n    .dataframe tbody tr th {\n        vertical-align: top;\n    }\n\n    .dataframe thead th {\n        text-align: right;\n    }\n</style>\n<table border=\"1\" class=\"dataframe\">\n  <thead>\n    <tr style=\"text-align: right;\">\n      <th></th>\n      <th>SALBEGIN</th>\n    </tr>\n  </thead>\n  <tbody>\n    <tr>\n      <th>470</th>\n      <td>15750</td>\n    </tr>\n    <tr>\n      <th>365</th>\n      <td>12000</td>\n    </tr>\n    <tr>\n      <th>350</th>\n      <td>13500</td>\n    </tr>\n    <tr>\n      <th>172</th>\n      <td>42480</td>\n    </tr>\n    <tr>\n      <th>65</th>\n      <td>30000</td>\n    </tr>\n    <tr>\n      <th>...</th>\n      <td>...</td>\n    </tr>\n    <tr>\n      <th>406</th>\n      <td>15750</td>\n    </tr>\n    <tr>\n      <th>390</th>\n      <td>12450</td>\n    </tr>\n    <tr>\n      <th>143</th>\n      <td>9750</td>\n    </tr>\n    <tr>\n      <th>241</th>\n      <td>18000</td>\n    </tr>\n    <tr>\n      <th>111</th>\n      <td>15000</td>\n    </tr>\n  </tbody>\n</table>\n<p>284 rows × 1 columns</p>\n</div>"
     },
     "metadata": {},
     "execution_count": 47
    }
   ],
   "source": [
    "X_train, X_test, y_train, y_test = train_test_split(df_X, Y, test_size=0.4, random_state=17)\n",
    "X_train"
   ]
  },
  {
   "cell_type": "code",
   "execution_count": 51,
   "metadata": {},
   "outputs": [
    {
     "output_type": "execute_result",
     "data": {
      "text/plain": [
       "LinearRegression()"
      ]
     },
     "metadata": {},
     "execution_count": 51
    }
   ],
   "source": [
    "model = LinearRegression()\n",
    "model.fit(X_train,y_train)"
   ]
  },
  {
   "cell_type": "code",
   "execution_count": 35,
   "metadata": {},
   "outputs": [],
   "source": [
    "predictions = model.predict(X_test)"
   ]
  },
  {
   "cell_type": "code",
   "execution_count": 36,
   "metadata": {},
   "outputs": [
    {
     "output_type": "execute_result",
     "data": {
      "text/plain": [
       "8510.19646124269"
      ]
     },
     "metadata": {},
     "execution_count": 36
    }
   ],
   "source": [
    "mean_squared_error(y_test, predictions)**0.5"
   ]
  },
  {
   "cell_type": "code",
   "execution_count": 37,
   "metadata": {},
   "outputs": [
    {
     "output_type": "display_data",
     "data": {
      "application/vnd.plotly.v1+json": {
       "config": {
        "plotlyServerURL": "https://plot.ly"
       },
       "data": [
        {
         "hovertemplate": "x=%{x}<br>y=%{y}<extra></extra>",
         "legendgroup": "",
         "marker": {
          "color": "#636efa",
          "symbol": "circle"
         },
         "mode": "markers",
         "name": "",
         "orientation": "v",
         "showlegend": false,
         "type": "scatter",
         "x": [
          32164.983559576765,
          30586.84029172396,
          31218.097598865083,
          30586.84029172396,
          21433.60933817767,
          40055.69989884081,
          30586.84029172396,
          33743.12682742958,
          24274.267220312726,
          22696.123952459915,
          29008.69702387115,
          29008.69702387115,
          36899.413363135194,
          36899.413363135194,
          22064.86664531879,
          33743.12682742958,
          72628.57694732278,
          23327.38125960104,
          22696.123952459915,
          33743.12682742958,
          56847.1442687947,
          20486.723377465984,
          24274.267220312726,
          20486.723377465984,
          51607.70861952337,
          33743.12682742958,
          36899.413363135194,
          24274.267220312726,
          24274.267220312726,
          56847.1442687947,
          40055.69989884081,
          32164.983559576765,
          20486.723377465984,
          30586.84029172396,
          27430.55375601834,
          23011.752606030477,
          30586.84029172396,
          33743.12682742958,
          32164.983559576765,
          32164.983559576765,
          33743.12682742958,
          72754.82840875101,
          109494.00368436439,
          47946.41623810485,
          33743.12682742958,
          30586.84029172396,
          32164.983559576765,
          32164.983559576765,
          72628.57694732278,
          29008.69702387115,
          27430.55375601834,
          27430.55375601834,
          30586.84029172396,
          48956.427929530655,
          28377.439716730027,
          32164.983559576765,
          35321.27009528239,
          30586.84029172396,
          22064.86664531879,
          30586.84029172396,
          30586.84029172396,
          54258.98930951609,
          22064.86664531879,
          22696.123952459915,
          34374.3841345707,
          30586.84029172396,
          33743.12682742958,
          32164.983559576765,
          30586.84029172396,
          22380.495298889353,
          32164.983559576765,
          30586.84029172396,
          33743.12682742958,
          38477.556630988,
          30586.84029172396,
          27430.55375601834,
          30586.84029172396,
          30586.84029172396,
          51628.750529761404,
          21117.980684607108,
          30586.84029172396,
          30586.84029172396,
          20486.723377465984,
          61076.56822664022,
          22064.86664531879,
          29008.69702387115,
          22696.123952459915,
          27430.55375601834,
          30586.84029172396,
          25536.78183459497,
          22064.86664531879,
          28377.439716730027,
          32164.983559576765,
          22696.123952459915,
          25852.410488165533,
          22696.123952459915,
          29008.69702387115,
          22696.123952459915,
          27430.55375601834,
          41065.71159026661,
          26799.29644887722,
          35826.275940995285,
          32164.983559576765,
          33743.12682742958,
          32164.983559576765,
          33743.12682742958,
          40055.69989884081,
          29008.69702387115,
          36899.413363135194,
          54258.98930951609,
          31218.097598865083,
          32164.983559576765,
          35321.27009528239,
          27430.55375601834,
          32164.983559576765,
          30586.84029172396,
          20486.723377465984,
          23327.38125960104,
          167317.1730184913,
          36899.413363135194,
          22696.123952459915,
          41065.71159026661,
          20486.723377465984,
          27430.55375601834,
          98952.00665510763,
          36899.413363135194,
          63727.84891663294,
          72628.57694732278,
          29639.954331012275,
          36899.413363135194,
          77931.13832730822,
          36899.413363135194,
          56847.1442687947,
          29008.69702387115,
          22064.86664531879,
          66316.00387591154,
          26799.29644887722,
          25852.410488165533,
          28693.06837030059,
          23011.752606030477,
          43211.98643454643,
          40055.69989884081,
          32164.983559576765,
          54258.98930951609,
          22696.123952459915,
          30586.84029172396,
          20486.723377465984,
          44790.12970239924,
          42265.10047383474,
          24274.267220312726,
          70040.42198804418,
          25221.15318102441,
          24274.267220312726,
          59498.424958787415,
          32164.983559576765,
          22696.123952459915,
          26483.667795306657,
          23327.38125960104,
          57415.27584522171,
          22380.495298889353,
          23327.38125960104,
          27430.55375601834,
          30586.84029172396,
          67389.14129805146,
          27430.55375601834,
          30586.84029172396,
          27430.55375601834,
          32164.983559576765,
          28377.439716730027,
          32164.983559576765,
          33743.12682742958,
          76352.99505945541,
          38477.556630988,
          22696.123952459915,
          22696.123952459915,
          44790.12970239924,
          30586.84029172396,
          24274.267220312726,
          30586.84029172396,
          93712.5710058363,
          22064.86664531879,
          27430.55375601834,
          26799.29644887722,
          40055.69989884081,
          22696.123952459915,
          29008.69702387115,
          33743.12682742958,
          28693.06837030059,
          30586.84029172396,
          38477.556630988
         ],
         "xaxis": "x",
         "y": [
          -964.9835595767654,
          163.15970827604178,
          -1818.0975988650825,
          163.15970827604178,
          2266.39066182233,
          294.3001011591914,
          -2536.840291723958,
          156.87317257042014,
          -3124.267220312726,
          8653.876047540085,
          2191.302976128849,
          -958.697023871151,
          -3899.4133631351942,
          150.58663686480577,
          2235.1333546812093,
          -3593.12682742958,
          -17628.576947322785,
          -2327.3812596010393,
          1303.876047540085,
          6606.87317257042,
          -4722.144268794698,
          6963.2766225340165,
          3175.732779687274,
          -3536.7233774659835,
          -10057.708619523371,
          4056.87317257042,
          21225.586636864806,
          9625.732779687274,
          -2224.267220312726,
          21402.8557312053,
          -4055.6998988408086,
          -7714.983559576765,
          -3986.7233774659835,
          -3586.840291723958,
          5119.44624398166,
          2488.247393969523,
          -3136.840291723958,
          -5243.12682742958,
          -664.9835595767654,
          -5164.983559576765,
          -3143.12682742958,
          -2754.828408751011,
          -42744.00368436439,
          -2321.416238104852,
          1956.8731725704201,
          1813.1597082760418,
          1375.0164404232346,
          -1414.9835595767654,
          9871.423052677215,
          -5758.697023871151,
          -2380.55375601834,
          -730.5537560183402,
          8263.159708276042,
          -10256.427929530655,
          -3177.4397167300267,
          6985.016440423235,
          -9371.270095282387,
          -1636.8402917239582,
          -14.866645318790688,
          4963.159708276042,
          4663.159708276042,
          19491.010690483912,
          1035.1333546812093,
          103.87604754008498,
          725.6158654293031,
          7213.159708276042,
          5856.87317257042,
          -964.9835595767654,
          -4036.840291723958,
          8969.504701110647,
          -2014.9835595767654,
          -3736.840291723958,
          -5693.12682742958,
          -13277.556630988001,
          -4036.840291723958,
          -3430.55375601834,
          8263.159708276042,
          14563.159708276042,
          4921.249470238596,
          7382.019315392892,
          -8236.840291723958,
          -586.8402917239582,
          -4136.7233774659835,
          30173.431773359778,
          4185.133354681209,
          -4558.697023871151,
          253.87604754008498,
          4069.44624398166,
          2713.159708276042,
          5513.218165405029,
          2235.1333546812093,
          -5427.439716730027,
          -10864.983559576765,
          -3046.123952459915,
          -6202.410488165533,
          -346.123952459915,
          16991.30297612885,
          -46.12395245991502,
          -6580.55375601834,
          -5065.711590266612,
          -2349.2964488772195,
          -2526.275940995285,
          -214.9835595767654,
          4656.87317257042,
          -1564.9835595767654,
          -6593.12682742958,
          -10715.699898840809,
          2641.302976128849,
          -8549.413363135194,
          -11958.989309516088,
          -7818.097598865083,
          -8164.983559576765,
          11553.729904717613,
          -3580.55375601834,
          -1414.9835595767654,
          1363.1597082760418,
          1863.2766225340165,
          2772.6187403989607,
          -32317.173018491303,
          17100.586636864806,
          -2146.123952459915,
          14684.288409733388,
          -2036.7233774659835,
          -130.5537560183402,
          -32952.00665510763,
          14100.586636864806,
          1272.1510833670618,
          -10128.576947322785,
          -7739.954331012275,
          -2399.4133631351942,
          -12931.138327308217,
          -1199.4133631351942,
          -1972.1442687946983,
          391.30297612884897,
          435.1333546812093,
          -1316.0038759115414,
          -4899.2964488772195,
          847.589511834467,
          -4543.068370300589,
          4588.247393969523,
          1788.0135654535698,
          -5645.699898840809,
          3085.0164404232346,
          741.0106904839122,
          -946.123952459915,
          -136.84029172395822,
          -2786.7233774659835,
          25209.870297600763,
          6734.89952616526,
          175.73277968727416,
          -10640.421988044181,
          5378.846818975591,
          4075.732779687274,
          2376.5750412125853,
          7735.016440423235,
          -2746.123952459915,
          -5633.667795306657,
          4422.618740398961,
          -22795.27584522171,
          -3180.495298889353,
          2922.6187403989607,
          -5080.55375601834,
          -8236.840291723958,
          -12389.141298051458,
          -1330.5537560183402,
          -1426.8402917239582,
          -5830.55375601834,
          2335.0164404232346,
          422.5602832699733,
          -1864.9835595767654,
          -11243.12682742958,
          -14477.99505945541,
          -3977.5566309880014,
          -2296.123952459915,
          -1996.123952459915,
          3209.8702976007626,
          -8386.840291723958,
          -1774.2672203127258,
          -6286.840291723958,
          -7462.571005836304,
          3885.1333546812093,
          -4030.55375601834,
          -6699.2964488772195,
          -12305.699898840809,
          103.87604754008498,
          -3958.697023871151,
          -4643.12682742958,
          4756.931629699411,
          -736.8402917239582,
          -2477.5566309880014
         ],
         "yaxis": "y"
        }
       ],
       "layout": {
        "legend": {
         "tracegroupgap": 0
        },
        "margin": {
         "t": 60
        },
        "template": {
         "data": {
          "bar": [
           {
            "error_x": {
             "color": "#2a3f5f"
            },
            "error_y": {
             "color": "#2a3f5f"
            },
            "marker": {
             "line": {
              "color": "#E5ECF6",
              "width": 0.5
             }
            },
            "type": "bar"
           }
          ],
          "barpolar": [
           {
            "marker": {
             "line": {
              "color": "#E5ECF6",
              "width": 0.5
             }
            },
            "type": "barpolar"
           }
          ],
          "carpet": [
           {
            "aaxis": {
             "endlinecolor": "#2a3f5f",
             "gridcolor": "white",
             "linecolor": "white",
             "minorgridcolor": "white",
             "startlinecolor": "#2a3f5f"
            },
            "baxis": {
             "endlinecolor": "#2a3f5f",
             "gridcolor": "white",
             "linecolor": "white",
             "minorgridcolor": "white",
             "startlinecolor": "#2a3f5f"
            },
            "type": "carpet"
           }
          ],
          "choropleth": [
           {
            "colorbar": {
             "outlinewidth": 0,
             "ticks": ""
            },
            "type": "choropleth"
           }
          ],
          "contour": [
           {
            "colorbar": {
             "outlinewidth": 0,
             "ticks": ""
            },
            "colorscale": [
             [
              0,
              "#0d0887"
             ],
             [
              0.1111111111111111,
              "#46039f"
             ],
             [
              0.2222222222222222,
              "#7201a8"
             ],
             [
              0.3333333333333333,
              "#9c179e"
             ],
             [
              0.4444444444444444,
              "#bd3786"
             ],
             [
              0.5555555555555556,
              "#d8576b"
             ],
             [
              0.6666666666666666,
              "#ed7953"
             ],
             [
              0.7777777777777778,
              "#fb9f3a"
             ],
             [
              0.8888888888888888,
              "#fdca26"
             ],
             [
              1,
              "#f0f921"
             ]
            ],
            "type": "contour"
           }
          ],
          "contourcarpet": [
           {
            "colorbar": {
             "outlinewidth": 0,
             "ticks": ""
            },
            "type": "contourcarpet"
           }
          ],
          "heatmap": [
           {
            "colorbar": {
             "outlinewidth": 0,
             "ticks": ""
            },
            "colorscale": [
             [
              0,
              "#0d0887"
             ],
             [
              0.1111111111111111,
              "#46039f"
             ],
             [
              0.2222222222222222,
              "#7201a8"
             ],
             [
              0.3333333333333333,
              "#9c179e"
             ],
             [
              0.4444444444444444,
              "#bd3786"
             ],
             [
              0.5555555555555556,
              "#d8576b"
             ],
             [
              0.6666666666666666,
              "#ed7953"
             ],
             [
              0.7777777777777778,
              "#fb9f3a"
             ],
             [
              0.8888888888888888,
              "#fdca26"
             ],
             [
              1,
              "#f0f921"
             ]
            ],
            "type": "heatmap"
           }
          ],
          "heatmapgl": [
           {
            "colorbar": {
             "outlinewidth": 0,
             "ticks": ""
            },
            "colorscale": [
             [
              0,
              "#0d0887"
             ],
             [
              0.1111111111111111,
              "#46039f"
             ],
             [
              0.2222222222222222,
              "#7201a8"
             ],
             [
              0.3333333333333333,
              "#9c179e"
             ],
             [
              0.4444444444444444,
              "#bd3786"
             ],
             [
              0.5555555555555556,
              "#d8576b"
             ],
             [
              0.6666666666666666,
              "#ed7953"
             ],
             [
              0.7777777777777778,
              "#fb9f3a"
             ],
             [
              0.8888888888888888,
              "#fdca26"
             ],
             [
              1,
              "#f0f921"
             ]
            ],
            "type": "heatmapgl"
           }
          ],
          "histogram": [
           {
            "marker": {
             "colorbar": {
              "outlinewidth": 0,
              "ticks": ""
             }
            },
            "type": "histogram"
           }
          ],
          "histogram2d": [
           {
            "colorbar": {
             "outlinewidth": 0,
             "ticks": ""
            },
            "colorscale": [
             [
              0,
              "#0d0887"
             ],
             [
              0.1111111111111111,
              "#46039f"
             ],
             [
              0.2222222222222222,
              "#7201a8"
             ],
             [
              0.3333333333333333,
              "#9c179e"
             ],
             [
              0.4444444444444444,
              "#bd3786"
             ],
             [
              0.5555555555555556,
              "#d8576b"
             ],
             [
              0.6666666666666666,
              "#ed7953"
             ],
             [
              0.7777777777777778,
              "#fb9f3a"
             ],
             [
              0.8888888888888888,
              "#fdca26"
             ],
             [
              1,
              "#f0f921"
             ]
            ],
            "type": "histogram2d"
           }
          ],
          "histogram2dcontour": [
           {
            "colorbar": {
             "outlinewidth": 0,
             "ticks": ""
            },
            "colorscale": [
             [
              0,
              "#0d0887"
             ],
             [
              0.1111111111111111,
              "#46039f"
             ],
             [
              0.2222222222222222,
              "#7201a8"
             ],
             [
              0.3333333333333333,
              "#9c179e"
             ],
             [
              0.4444444444444444,
              "#bd3786"
             ],
             [
              0.5555555555555556,
              "#d8576b"
             ],
             [
              0.6666666666666666,
              "#ed7953"
             ],
             [
              0.7777777777777778,
              "#fb9f3a"
             ],
             [
              0.8888888888888888,
              "#fdca26"
             ],
             [
              1,
              "#f0f921"
             ]
            ],
            "type": "histogram2dcontour"
           }
          ],
          "mesh3d": [
           {
            "colorbar": {
             "outlinewidth": 0,
             "ticks": ""
            },
            "type": "mesh3d"
           }
          ],
          "parcoords": [
           {
            "line": {
             "colorbar": {
              "outlinewidth": 0,
              "ticks": ""
             }
            },
            "type": "parcoords"
           }
          ],
          "pie": [
           {
            "automargin": true,
            "type": "pie"
           }
          ],
          "scatter": [
           {
            "marker": {
             "colorbar": {
              "outlinewidth": 0,
              "ticks": ""
             }
            },
            "type": "scatter"
           }
          ],
          "scatter3d": [
           {
            "line": {
             "colorbar": {
              "outlinewidth": 0,
              "ticks": ""
             }
            },
            "marker": {
             "colorbar": {
              "outlinewidth": 0,
              "ticks": ""
             }
            },
            "type": "scatter3d"
           }
          ],
          "scattercarpet": [
           {
            "marker": {
             "colorbar": {
              "outlinewidth": 0,
              "ticks": ""
             }
            },
            "type": "scattercarpet"
           }
          ],
          "scattergeo": [
           {
            "marker": {
             "colorbar": {
              "outlinewidth": 0,
              "ticks": ""
             }
            },
            "type": "scattergeo"
           }
          ],
          "scattergl": [
           {
            "marker": {
             "colorbar": {
              "outlinewidth": 0,
              "ticks": ""
             }
            },
            "type": "scattergl"
           }
          ],
          "scattermapbox": [
           {
            "marker": {
             "colorbar": {
              "outlinewidth": 0,
              "ticks": ""
             }
            },
            "type": "scattermapbox"
           }
          ],
          "scatterpolar": [
           {
            "marker": {
             "colorbar": {
              "outlinewidth": 0,
              "ticks": ""
             }
            },
            "type": "scatterpolar"
           }
          ],
          "scatterpolargl": [
           {
            "marker": {
             "colorbar": {
              "outlinewidth": 0,
              "ticks": ""
             }
            },
            "type": "scatterpolargl"
           }
          ],
          "scatterternary": [
           {
            "marker": {
             "colorbar": {
              "outlinewidth": 0,
              "ticks": ""
             }
            },
            "type": "scatterternary"
           }
          ],
          "surface": [
           {
            "colorbar": {
             "outlinewidth": 0,
             "ticks": ""
            },
            "colorscale": [
             [
              0,
              "#0d0887"
             ],
             [
              0.1111111111111111,
              "#46039f"
             ],
             [
              0.2222222222222222,
              "#7201a8"
             ],
             [
              0.3333333333333333,
              "#9c179e"
             ],
             [
              0.4444444444444444,
              "#bd3786"
             ],
             [
              0.5555555555555556,
              "#d8576b"
             ],
             [
              0.6666666666666666,
              "#ed7953"
             ],
             [
              0.7777777777777778,
              "#fb9f3a"
             ],
             [
              0.8888888888888888,
              "#fdca26"
             ],
             [
              1,
              "#f0f921"
             ]
            ],
            "type": "surface"
           }
          ],
          "table": [
           {
            "cells": {
             "fill": {
              "color": "#EBF0F8"
             },
             "line": {
              "color": "white"
             }
            },
            "header": {
             "fill": {
              "color": "#C8D4E3"
             },
             "line": {
              "color": "white"
             }
            },
            "type": "table"
           }
          ]
         },
         "layout": {
          "annotationdefaults": {
           "arrowcolor": "#2a3f5f",
           "arrowhead": 0,
           "arrowwidth": 1
          },
          "autotypenumbers": "strict",
          "coloraxis": {
           "colorbar": {
            "outlinewidth": 0,
            "ticks": ""
           }
          },
          "colorscale": {
           "diverging": [
            [
             0,
             "#8e0152"
            ],
            [
             0.1,
             "#c51b7d"
            ],
            [
             0.2,
             "#de77ae"
            ],
            [
             0.3,
             "#f1b6da"
            ],
            [
             0.4,
             "#fde0ef"
            ],
            [
             0.5,
             "#f7f7f7"
            ],
            [
             0.6,
             "#e6f5d0"
            ],
            [
             0.7,
             "#b8e186"
            ],
            [
             0.8,
             "#7fbc41"
            ],
            [
             0.9,
             "#4d9221"
            ],
            [
             1,
             "#276419"
            ]
           ],
           "sequential": [
            [
             0,
             "#0d0887"
            ],
            [
             0.1111111111111111,
             "#46039f"
            ],
            [
             0.2222222222222222,
             "#7201a8"
            ],
            [
             0.3333333333333333,
             "#9c179e"
            ],
            [
             0.4444444444444444,
             "#bd3786"
            ],
            [
             0.5555555555555556,
             "#d8576b"
            ],
            [
             0.6666666666666666,
             "#ed7953"
            ],
            [
             0.7777777777777778,
             "#fb9f3a"
            ],
            [
             0.8888888888888888,
             "#fdca26"
            ],
            [
             1,
             "#f0f921"
            ]
           ],
           "sequentialminus": [
            [
             0,
             "#0d0887"
            ],
            [
             0.1111111111111111,
             "#46039f"
            ],
            [
             0.2222222222222222,
             "#7201a8"
            ],
            [
             0.3333333333333333,
             "#9c179e"
            ],
            [
             0.4444444444444444,
             "#bd3786"
            ],
            [
             0.5555555555555556,
             "#d8576b"
            ],
            [
             0.6666666666666666,
             "#ed7953"
            ],
            [
             0.7777777777777778,
             "#fb9f3a"
            ],
            [
             0.8888888888888888,
             "#fdca26"
            ],
            [
             1,
             "#f0f921"
            ]
           ]
          },
          "colorway": [
           "#636efa",
           "#EF553B",
           "#00cc96",
           "#ab63fa",
           "#FFA15A",
           "#19d3f3",
           "#FF6692",
           "#B6E880",
           "#FF97FF",
           "#FECB52"
          ],
          "font": {
           "color": "#2a3f5f"
          },
          "geo": {
           "bgcolor": "white",
           "lakecolor": "white",
           "landcolor": "#E5ECF6",
           "showlakes": true,
           "showland": true,
           "subunitcolor": "white"
          },
          "hoverlabel": {
           "align": "left"
          },
          "hovermode": "closest",
          "mapbox": {
           "style": "light"
          },
          "paper_bgcolor": "white",
          "plot_bgcolor": "#E5ECF6",
          "polar": {
           "angularaxis": {
            "gridcolor": "white",
            "linecolor": "white",
            "ticks": ""
           },
           "bgcolor": "#E5ECF6",
           "radialaxis": {
            "gridcolor": "white",
            "linecolor": "white",
            "ticks": ""
           }
          },
          "scene": {
           "xaxis": {
            "backgroundcolor": "#E5ECF6",
            "gridcolor": "white",
            "gridwidth": 2,
            "linecolor": "white",
            "showbackground": true,
            "ticks": "",
            "zerolinecolor": "white"
           },
           "yaxis": {
            "backgroundcolor": "#E5ECF6",
            "gridcolor": "white",
            "gridwidth": 2,
            "linecolor": "white",
            "showbackground": true,
            "ticks": "",
            "zerolinecolor": "white"
           },
           "zaxis": {
            "backgroundcolor": "#E5ECF6",
            "gridcolor": "white",
            "gridwidth": 2,
            "linecolor": "white",
            "showbackground": true,
            "ticks": "",
            "zerolinecolor": "white"
           }
          },
          "shapedefaults": {
           "line": {
            "color": "#2a3f5f"
           }
          },
          "ternary": {
           "aaxis": {
            "gridcolor": "white",
            "linecolor": "white",
            "ticks": ""
           },
           "baxis": {
            "gridcolor": "white",
            "linecolor": "white",
            "ticks": ""
           },
           "bgcolor": "#E5ECF6",
           "caxis": {
            "gridcolor": "white",
            "linecolor": "white",
            "ticks": ""
           }
          },
          "title": {
           "x": 0.05
          },
          "xaxis": {
           "automargin": true,
           "gridcolor": "white",
           "linecolor": "white",
           "ticks": "",
           "title": {
            "standoff": 15
           },
           "zerolinecolor": "white",
           "zerolinewidth": 2
          },
          "yaxis": {
           "automargin": true,
           "gridcolor": "white",
           "linecolor": "white",
           "ticks": "",
           "title": {
            "standoff": 15
           },
           "zerolinecolor": "white",
           "zerolinewidth": 2
          }
         }
        },
        "xaxis": {
         "anchor": "y",
         "domain": [
          0,
          1
         ],
         "title": {
          "text": "x"
         }
        },
        "yaxis": {
         "anchor": "x",
         "domain": [
          0,
          1
         ],
         "title": {
          "text": "y"
         }
        }
       }
      }
     },
     "metadata": {}
    }
   ],
   "source": [
    "plx.scatter(x = predictions, y = y_test - predictions)"
   ]
  },
  {
   "cell_type": "code",
   "execution_count": 38,
   "metadata": {},
   "outputs": [
    {
     "output_type": "display_data",
     "data": {
      "application/vnd.plotly.v1+json": {
       "config": {
        "plotlyServerURL": "https://plot.ly"
       },
       "data": [
        {
         "alignmentgroup": "True",
         "bingroup": "x",
         "hovertemplate": "x=%{x}<br>count=%{y}<extra></extra>",
         "legendgroup": "",
         "marker": {
          "color": "#636efa"
         },
         "name": "",
         "offsetgroup": "",
         "orientation": "v",
         "showlegend": false,
         "type": "histogram",
         "x": [
          -964.9835595767654,
          163.15970827604178,
          -1818.0975988650825,
          163.15970827604178,
          2266.39066182233,
          294.3001011591914,
          -2536.840291723958,
          156.87317257042014,
          -3124.267220312726,
          8653.876047540085,
          2191.302976128849,
          -958.697023871151,
          -3899.4133631351942,
          150.58663686480577,
          2235.1333546812093,
          -3593.12682742958,
          -17628.576947322785,
          -2327.3812596010393,
          1303.876047540085,
          6606.87317257042,
          -4722.144268794698,
          6963.2766225340165,
          3175.732779687274,
          -3536.7233774659835,
          -10057.708619523371,
          4056.87317257042,
          21225.586636864806,
          9625.732779687274,
          -2224.267220312726,
          21402.8557312053,
          -4055.6998988408086,
          -7714.983559576765,
          -3986.7233774659835,
          -3586.840291723958,
          5119.44624398166,
          2488.247393969523,
          -3136.840291723958,
          -5243.12682742958,
          -664.9835595767654,
          -5164.983559576765,
          -3143.12682742958,
          -2754.828408751011,
          -42744.00368436439,
          -2321.416238104852,
          1956.8731725704201,
          1813.1597082760418,
          1375.0164404232346,
          -1414.9835595767654,
          9871.423052677215,
          -5758.697023871151,
          -2380.55375601834,
          -730.5537560183402,
          8263.159708276042,
          -10256.427929530655,
          -3177.4397167300267,
          6985.016440423235,
          -9371.270095282387,
          -1636.8402917239582,
          -14.866645318790688,
          4963.159708276042,
          4663.159708276042,
          19491.010690483912,
          1035.1333546812093,
          103.87604754008498,
          725.6158654293031,
          7213.159708276042,
          5856.87317257042,
          -964.9835595767654,
          -4036.840291723958,
          8969.504701110647,
          -2014.9835595767654,
          -3736.840291723958,
          -5693.12682742958,
          -13277.556630988001,
          -4036.840291723958,
          -3430.55375601834,
          8263.159708276042,
          14563.159708276042,
          4921.249470238596,
          7382.019315392892,
          -8236.840291723958,
          -586.8402917239582,
          -4136.7233774659835,
          30173.431773359778,
          4185.133354681209,
          -4558.697023871151,
          253.87604754008498,
          4069.44624398166,
          2713.159708276042,
          5513.218165405029,
          2235.1333546812093,
          -5427.439716730027,
          -10864.983559576765,
          -3046.123952459915,
          -6202.410488165533,
          -346.123952459915,
          16991.30297612885,
          -46.12395245991502,
          -6580.55375601834,
          -5065.711590266612,
          -2349.2964488772195,
          -2526.275940995285,
          -214.9835595767654,
          4656.87317257042,
          -1564.9835595767654,
          -6593.12682742958,
          -10715.699898840809,
          2641.302976128849,
          -8549.413363135194,
          -11958.989309516088,
          -7818.097598865083,
          -8164.983559576765,
          11553.729904717613,
          -3580.55375601834,
          -1414.9835595767654,
          1363.1597082760418,
          1863.2766225340165,
          2772.6187403989607,
          -32317.173018491303,
          17100.586636864806,
          -2146.123952459915,
          14684.288409733388,
          -2036.7233774659835,
          -130.5537560183402,
          -32952.00665510763,
          14100.586636864806,
          1272.1510833670618,
          -10128.576947322785,
          -7739.954331012275,
          -2399.4133631351942,
          -12931.138327308217,
          -1199.4133631351942,
          -1972.1442687946983,
          391.30297612884897,
          435.1333546812093,
          -1316.0038759115414,
          -4899.2964488772195,
          847.589511834467,
          -4543.068370300589,
          4588.247393969523,
          1788.0135654535698,
          -5645.699898840809,
          3085.0164404232346,
          741.0106904839122,
          -946.123952459915,
          -136.84029172395822,
          -2786.7233774659835,
          25209.870297600763,
          6734.89952616526,
          175.73277968727416,
          -10640.421988044181,
          5378.846818975591,
          4075.732779687274,
          2376.5750412125853,
          7735.016440423235,
          -2746.123952459915,
          -5633.667795306657,
          4422.618740398961,
          -22795.27584522171,
          -3180.495298889353,
          2922.6187403989607,
          -5080.55375601834,
          -8236.840291723958,
          -12389.141298051458,
          -1330.5537560183402,
          -1426.8402917239582,
          -5830.55375601834,
          2335.0164404232346,
          422.5602832699733,
          -1864.9835595767654,
          -11243.12682742958,
          -14477.99505945541,
          -3977.5566309880014,
          -2296.123952459915,
          -1996.123952459915,
          3209.8702976007626,
          -8386.840291723958,
          -1774.2672203127258,
          -6286.840291723958,
          -7462.571005836304,
          3885.1333546812093,
          -4030.55375601834,
          -6699.2964488772195,
          -12305.699898840809,
          103.87604754008498,
          -3958.697023871151,
          -4643.12682742958,
          4756.931629699411,
          -736.8402917239582,
          -2477.5566309880014
         ],
         "xaxis": "x",
         "yaxis": "y"
        }
       ],
       "layout": {
        "barmode": "relative",
        "legend": {
         "tracegroupgap": 0
        },
        "margin": {
         "t": 60
        },
        "template": {
         "data": {
          "bar": [
           {
            "error_x": {
             "color": "#2a3f5f"
            },
            "error_y": {
             "color": "#2a3f5f"
            },
            "marker": {
             "line": {
              "color": "#E5ECF6",
              "width": 0.5
             }
            },
            "type": "bar"
           }
          ],
          "barpolar": [
           {
            "marker": {
             "line": {
              "color": "#E5ECF6",
              "width": 0.5
             }
            },
            "type": "barpolar"
           }
          ],
          "carpet": [
           {
            "aaxis": {
             "endlinecolor": "#2a3f5f",
             "gridcolor": "white",
             "linecolor": "white",
             "minorgridcolor": "white",
             "startlinecolor": "#2a3f5f"
            },
            "baxis": {
             "endlinecolor": "#2a3f5f",
             "gridcolor": "white",
             "linecolor": "white",
             "minorgridcolor": "white",
             "startlinecolor": "#2a3f5f"
            },
            "type": "carpet"
           }
          ],
          "choropleth": [
           {
            "colorbar": {
             "outlinewidth": 0,
             "ticks": ""
            },
            "type": "choropleth"
           }
          ],
          "contour": [
           {
            "colorbar": {
             "outlinewidth": 0,
             "ticks": ""
            },
            "colorscale": [
             [
              0,
              "#0d0887"
             ],
             [
              0.1111111111111111,
              "#46039f"
             ],
             [
              0.2222222222222222,
              "#7201a8"
             ],
             [
              0.3333333333333333,
              "#9c179e"
             ],
             [
              0.4444444444444444,
              "#bd3786"
             ],
             [
              0.5555555555555556,
              "#d8576b"
             ],
             [
              0.6666666666666666,
              "#ed7953"
             ],
             [
              0.7777777777777778,
              "#fb9f3a"
             ],
             [
              0.8888888888888888,
              "#fdca26"
             ],
             [
              1,
              "#f0f921"
             ]
            ],
            "type": "contour"
           }
          ],
          "contourcarpet": [
           {
            "colorbar": {
             "outlinewidth": 0,
             "ticks": ""
            },
            "type": "contourcarpet"
           }
          ],
          "heatmap": [
           {
            "colorbar": {
             "outlinewidth": 0,
             "ticks": ""
            },
            "colorscale": [
             [
              0,
              "#0d0887"
             ],
             [
              0.1111111111111111,
              "#46039f"
             ],
             [
              0.2222222222222222,
              "#7201a8"
             ],
             [
              0.3333333333333333,
              "#9c179e"
             ],
             [
              0.4444444444444444,
              "#bd3786"
             ],
             [
              0.5555555555555556,
              "#d8576b"
             ],
             [
              0.6666666666666666,
              "#ed7953"
             ],
             [
              0.7777777777777778,
              "#fb9f3a"
             ],
             [
              0.8888888888888888,
              "#fdca26"
             ],
             [
              1,
              "#f0f921"
             ]
            ],
            "type": "heatmap"
           }
          ],
          "heatmapgl": [
           {
            "colorbar": {
             "outlinewidth": 0,
             "ticks": ""
            },
            "colorscale": [
             [
              0,
              "#0d0887"
             ],
             [
              0.1111111111111111,
              "#46039f"
             ],
             [
              0.2222222222222222,
              "#7201a8"
             ],
             [
              0.3333333333333333,
              "#9c179e"
             ],
             [
              0.4444444444444444,
              "#bd3786"
             ],
             [
              0.5555555555555556,
              "#d8576b"
             ],
             [
              0.6666666666666666,
              "#ed7953"
             ],
             [
              0.7777777777777778,
              "#fb9f3a"
             ],
             [
              0.8888888888888888,
              "#fdca26"
             ],
             [
              1,
              "#f0f921"
             ]
            ],
            "type": "heatmapgl"
           }
          ],
          "histogram": [
           {
            "marker": {
             "colorbar": {
              "outlinewidth": 0,
              "ticks": ""
             }
            },
            "type": "histogram"
           }
          ],
          "histogram2d": [
           {
            "colorbar": {
             "outlinewidth": 0,
             "ticks": ""
            },
            "colorscale": [
             [
              0,
              "#0d0887"
             ],
             [
              0.1111111111111111,
              "#46039f"
             ],
             [
              0.2222222222222222,
              "#7201a8"
             ],
             [
              0.3333333333333333,
              "#9c179e"
             ],
             [
              0.4444444444444444,
              "#bd3786"
             ],
             [
              0.5555555555555556,
              "#d8576b"
             ],
             [
              0.6666666666666666,
              "#ed7953"
             ],
             [
              0.7777777777777778,
              "#fb9f3a"
             ],
             [
              0.8888888888888888,
              "#fdca26"
             ],
             [
              1,
              "#f0f921"
             ]
            ],
            "type": "histogram2d"
           }
          ],
          "histogram2dcontour": [
           {
            "colorbar": {
             "outlinewidth": 0,
             "ticks": ""
            },
            "colorscale": [
             [
              0,
              "#0d0887"
             ],
             [
              0.1111111111111111,
              "#46039f"
             ],
             [
              0.2222222222222222,
              "#7201a8"
             ],
             [
              0.3333333333333333,
              "#9c179e"
             ],
             [
              0.4444444444444444,
              "#bd3786"
             ],
             [
              0.5555555555555556,
              "#d8576b"
             ],
             [
              0.6666666666666666,
              "#ed7953"
             ],
             [
              0.7777777777777778,
              "#fb9f3a"
             ],
             [
              0.8888888888888888,
              "#fdca26"
             ],
             [
              1,
              "#f0f921"
             ]
            ],
            "type": "histogram2dcontour"
           }
          ],
          "mesh3d": [
           {
            "colorbar": {
             "outlinewidth": 0,
             "ticks": ""
            },
            "type": "mesh3d"
           }
          ],
          "parcoords": [
           {
            "line": {
             "colorbar": {
              "outlinewidth": 0,
              "ticks": ""
             }
            },
            "type": "parcoords"
           }
          ],
          "pie": [
           {
            "automargin": true,
            "type": "pie"
           }
          ],
          "scatter": [
           {
            "marker": {
             "colorbar": {
              "outlinewidth": 0,
              "ticks": ""
             }
            },
            "type": "scatter"
           }
          ],
          "scatter3d": [
           {
            "line": {
             "colorbar": {
              "outlinewidth": 0,
              "ticks": ""
             }
            },
            "marker": {
             "colorbar": {
              "outlinewidth": 0,
              "ticks": ""
             }
            },
            "type": "scatter3d"
           }
          ],
          "scattercarpet": [
           {
            "marker": {
             "colorbar": {
              "outlinewidth": 0,
              "ticks": ""
             }
            },
            "type": "scattercarpet"
           }
          ],
          "scattergeo": [
           {
            "marker": {
             "colorbar": {
              "outlinewidth": 0,
              "ticks": ""
             }
            },
            "type": "scattergeo"
           }
          ],
          "scattergl": [
           {
            "marker": {
             "colorbar": {
              "outlinewidth": 0,
              "ticks": ""
             }
            },
            "type": "scattergl"
           }
          ],
          "scattermapbox": [
           {
            "marker": {
             "colorbar": {
              "outlinewidth": 0,
              "ticks": ""
             }
            },
            "type": "scattermapbox"
           }
          ],
          "scatterpolar": [
           {
            "marker": {
             "colorbar": {
              "outlinewidth": 0,
              "ticks": ""
             }
            },
            "type": "scatterpolar"
           }
          ],
          "scatterpolargl": [
           {
            "marker": {
             "colorbar": {
              "outlinewidth": 0,
              "ticks": ""
             }
            },
            "type": "scatterpolargl"
           }
          ],
          "scatterternary": [
           {
            "marker": {
             "colorbar": {
              "outlinewidth": 0,
              "ticks": ""
             }
            },
            "type": "scatterternary"
           }
          ],
          "surface": [
           {
            "colorbar": {
             "outlinewidth": 0,
             "ticks": ""
            },
            "colorscale": [
             [
              0,
              "#0d0887"
             ],
             [
              0.1111111111111111,
              "#46039f"
             ],
             [
              0.2222222222222222,
              "#7201a8"
             ],
             [
              0.3333333333333333,
              "#9c179e"
             ],
             [
              0.4444444444444444,
              "#bd3786"
             ],
             [
              0.5555555555555556,
              "#d8576b"
             ],
             [
              0.6666666666666666,
              "#ed7953"
             ],
             [
              0.7777777777777778,
              "#fb9f3a"
             ],
             [
              0.8888888888888888,
              "#fdca26"
             ],
             [
              1,
              "#f0f921"
             ]
            ],
            "type": "surface"
           }
          ],
          "table": [
           {
            "cells": {
             "fill": {
              "color": "#EBF0F8"
             },
             "line": {
              "color": "white"
             }
            },
            "header": {
             "fill": {
              "color": "#C8D4E3"
             },
             "line": {
              "color": "white"
             }
            },
            "type": "table"
           }
          ]
         },
         "layout": {
          "annotationdefaults": {
           "arrowcolor": "#2a3f5f",
           "arrowhead": 0,
           "arrowwidth": 1
          },
          "autotypenumbers": "strict",
          "coloraxis": {
           "colorbar": {
            "outlinewidth": 0,
            "ticks": ""
           }
          },
          "colorscale": {
           "diverging": [
            [
             0,
             "#8e0152"
            ],
            [
             0.1,
             "#c51b7d"
            ],
            [
             0.2,
             "#de77ae"
            ],
            [
             0.3,
             "#f1b6da"
            ],
            [
             0.4,
             "#fde0ef"
            ],
            [
             0.5,
             "#f7f7f7"
            ],
            [
             0.6,
             "#e6f5d0"
            ],
            [
             0.7,
             "#b8e186"
            ],
            [
             0.8,
             "#7fbc41"
            ],
            [
             0.9,
             "#4d9221"
            ],
            [
             1,
             "#276419"
            ]
           ],
           "sequential": [
            [
             0,
             "#0d0887"
            ],
            [
             0.1111111111111111,
             "#46039f"
            ],
            [
             0.2222222222222222,
             "#7201a8"
            ],
            [
             0.3333333333333333,
             "#9c179e"
            ],
            [
             0.4444444444444444,
             "#bd3786"
            ],
            [
             0.5555555555555556,
             "#d8576b"
            ],
            [
             0.6666666666666666,
             "#ed7953"
            ],
            [
             0.7777777777777778,
             "#fb9f3a"
            ],
            [
             0.8888888888888888,
             "#fdca26"
            ],
            [
             1,
             "#f0f921"
            ]
           ],
           "sequentialminus": [
            [
             0,
             "#0d0887"
            ],
            [
             0.1111111111111111,
             "#46039f"
            ],
            [
             0.2222222222222222,
             "#7201a8"
            ],
            [
             0.3333333333333333,
             "#9c179e"
            ],
            [
             0.4444444444444444,
             "#bd3786"
            ],
            [
             0.5555555555555556,
             "#d8576b"
            ],
            [
             0.6666666666666666,
             "#ed7953"
            ],
            [
             0.7777777777777778,
             "#fb9f3a"
            ],
            [
             0.8888888888888888,
             "#fdca26"
            ],
            [
             1,
             "#f0f921"
            ]
           ]
          },
          "colorway": [
           "#636efa",
           "#EF553B",
           "#00cc96",
           "#ab63fa",
           "#FFA15A",
           "#19d3f3",
           "#FF6692",
           "#B6E880",
           "#FF97FF",
           "#FECB52"
          ],
          "font": {
           "color": "#2a3f5f"
          },
          "geo": {
           "bgcolor": "white",
           "lakecolor": "white",
           "landcolor": "#E5ECF6",
           "showlakes": true,
           "showland": true,
           "subunitcolor": "white"
          },
          "hoverlabel": {
           "align": "left"
          },
          "hovermode": "closest",
          "mapbox": {
           "style": "light"
          },
          "paper_bgcolor": "white",
          "plot_bgcolor": "#E5ECF6",
          "polar": {
           "angularaxis": {
            "gridcolor": "white",
            "linecolor": "white",
            "ticks": ""
           },
           "bgcolor": "#E5ECF6",
           "radialaxis": {
            "gridcolor": "white",
            "linecolor": "white",
            "ticks": ""
           }
          },
          "scene": {
           "xaxis": {
            "backgroundcolor": "#E5ECF6",
            "gridcolor": "white",
            "gridwidth": 2,
            "linecolor": "white",
            "showbackground": true,
            "ticks": "",
            "zerolinecolor": "white"
           },
           "yaxis": {
            "backgroundcolor": "#E5ECF6",
            "gridcolor": "white",
            "gridwidth": 2,
            "linecolor": "white",
            "showbackground": true,
            "ticks": "",
            "zerolinecolor": "white"
           },
           "zaxis": {
            "backgroundcolor": "#E5ECF6",
            "gridcolor": "white",
            "gridwidth": 2,
            "linecolor": "white",
            "showbackground": true,
            "ticks": "",
            "zerolinecolor": "white"
           }
          },
          "shapedefaults": {
           "line": {
            "color": "#2a3f5f"
           }
          },
          "ternary": {
           "aaxis": {
            "gridcolor": "white",
            "linecolor": "white",
            "ticks": ""
           },
           "baxis": {
            "gridcolor": "white",
            "linecolor": "white",
            "ticks": ""
           },
           "bgcolor": "#E5ECF6",
           "caxis": {
            "gridcolor": "white",
            "linecolor": "white",
            "ticks": ""
           }
          },
          "title": {
           "x": 0.05
          },
          "xaxis": {
           "automargin": true,
           "gridcolor": "white",
           "linecolor": "white",
           "ticks": "",
           "title": {
            "standoff": 15
           },
           "zerolinecolor": "white",
           "zerolinewidth": 2
          },
          "yaxis": {
           "automargin": true,
           "gridcolor": "white",
           "linecolor": "white",
           "ticks": "",
           "title": {
            "standoff": 15
           },
           "zerolinecolor": "white",
           "zerolinewidth": 2
          }
         }
        },
        "xaxis": {
         "anchor": "y",
         "domain": [
          0,
          1
         ],
         "title": {
          "text": "x"
         }
        },
        "yaxis": {
         "anchor": "x",
         "domain": [
          0,
          1
         ],
         "title": {
          "text": "count"
         }
        }
       }
      }
     },
     "metadata": {}
    }
   ],
   "source": [
    "plx.histogram(x = y_test-predictions)"
   ]
  },
  {
   "cell_type": "code",
   "execution_count": 23,
   "metadata": {},
   "outputs": [
    {
     "output_type": "display_data",
     "data": {
      "text/plain": "<Figure size 432x288 with 1 Axes>",
      "image/svg+xml": "<?xml version=\"1.0\" encoding=\"utf-8\" standalone=\"no\"?>\n<!DOCTYPE svg PUBLIC \"-//W3C//DTD SVG 1.1//EN\"\n  \"http://www.w3.org/Graphics/SVG/1.1/DTD/svg11.dtd\">\n<svg height=\"277.314375pt\" version=\"1.1\" viewBox=\"0 0 410.070312 277.314375\" width=\"410.070312pt\" xmlns=\"http://www.w3.org/2000/svg\" xmlns:xlink=\"http://www.w3.org/1999/xlink\">\n <metadata>\n  <rdf:RDF xmlns:cc=\"http://creativecommons.org/ns#\" xmlns:dc=\"http://purl.org/dc/elements/1.1/\" xmlns:rdf=\"http://www.w3.org/1999/02/22-rdf-syntax-ns#\">\n   <cc:Work>\n    <dc:type rdf:resource=\"http://purl.org/dc/dcmitype/StillImage\"/>\n    <dc:date>2021-06-02T23:47:56.011681</dc:date>\n    <dc:format>image/svg+xml</dc:format>\n    <dc:creator>\n     <cc:Agent>\n      <dc:title>Matplotlib v3.4.2, https://matplotlib.org/</dc:title>\n     </cc:Agent>\n    </dc:creator>\n   </cc:Work>\n  </rdf:RDF>\n </metadata>\n <defs>\n  <style type=\"text/css\">*{stroke-linecap:butt;stroke-linejoin:round;}</style>\n </defs>\n <g id=\"figure_1\">\n  <g id=\"patch_1\">\n   <path d=\"M 0 277.314375 \nL 410.070312 277.314375 \nL 410.070312 0 \nL 0 0 \nz\n\" style=\"fill:none;\"/>\n  </g>\n  <g id=\"axes_1\">\n   <g id=\"patch_2\">\n    <path d=\"M 68.070312 239.758125 \nL 402.870313 239.758125 \nL 402.870313 22.318125 \nL 68.070312 22.318125 \nz\n\" style=\"fill:#ffffff;\"/>\n   </g>\n   <g id=\"matplotlib.axis_1\">\n    <g id=\"xtick_1\">\n     <g id=\"line2d_1\">\n      <defs>\n       <path d=\"M 0 0 \nL 0 3.5 \n\" id=\"m38f5423b5b\" style=\"stroke:#000000;stroke-width:0.8;\"/>\n      </defs>\n      <g>\n       <use style=\"stroke:#000000;stroke-width:0.8;\" x=\"118.369984\" xlink:href=\"#m38f5423b5b\" y=\"239.758125\"/>\n      </g>\n     </g>\n     <g id=\"text_1\">\n      <!-- −2 -->\n      <g transform=\"translate(110.998891 254.356562)scale(0.1 -0.1)\">\n       <defs>\n        <path d=\"M 678 2272 \nL 4684 2272 \nL 4684 1741 \nL 678 1741 \nL 678 2272 \nz\n\" id=\"DejaVuSans-2212\" transform=\"scale(0.015625)\"/>\n        <path d=\"M 1228 531 \nL 3431 531 \nL 3431 0 \nL 469 0 \nL 469 531 \nQ 828 903 1448 1529 \nQ 2069 2156 2228 2338 \nQ 2531 2678 2651 2914 \nQ 2772 3150 2772 3378 \nQ 2772 3750 2511 3984 \nQ 2250 4219 1831 4219 \nQ 1534 4219 1204 4116 \nQ 875 4013 500 3803 \nL 500 4441 \nQ 881 4594 1212 4672 \nQ 1544 4750 1819 4750 \nQ 2544 4750 2975 4387 \nQ 3406 4025 3406 3419 \nQ 3406 3131 3298 2873 \nQ 3191 2616 2906 2266 \nQ 2828 2175 2409 1742 \nQ 1991 1309 1228 531 \nz\n\" id=\"DejaVuSans-32\" transform=\"scale(0.015625)\"/>\n       </defs>\n       <use xlink:href=\"#DejaVuSans-2212\"/>\n       <use x=\"83.789062\" xlink:href=\"#DejaVuSans-32\"/>\n      </g>\n     </g>\n    </g>\n    <g id=\"xtick_2\">\n     <g id=\"line2d_2\">\n      <g>\n       <use style=\"stroke:#000000;stroke-width:0.8;\" x=\"176.920148\" xlink:href=\"#m38f5423b5b\" y=\"239.758125\"/>\n      </g>\n     </g>\n     <g id=\"text_2\">\n      <!-- −1 -->\n      <g transform=\"translate(169.549055 254.356562)scale(0.1 -0.1)\">\n       <defs>\n        <path d=\"M 794 531 \nL 1825 531 \nL 1825 4091 \nL 703 3866 \nL 703 4441 \nL 1819 4666 \nL 2450 4666 \nL 2450 531 \nL 3481 531 \nL 3481 0 \nL 794 0 \nL 794 531 \nz\n\" id=\"DejaVuSans-31\" transform=\"scale(0.015625)\"/>\n       </defs>\n       <use xlink:href=\"#DejaVuSans-2212\"/>\n       <use x=\"83.789062\" xlink:href=\"#DejaVuSans-31\"/>\n      </g>\n     </g>\n    </g>\n    <g id=\"xtick_3\">\n     <g id=\"line2d_3\">\n      <g>\n       <use style=\"stroke:#000000;stroke-width:0.8;\" x=\"235.470313\" xlink:href=\"#m38f5423b5b\" y=\"239.758125\"/>\n      </g>\n     </g>\n     <g id=\"text_3\">\n      <!-- 0 -->\n      <g transform=\"translate(232.289062 254.356562)scale(0.1 -0.1)\">\n       <defs>\n        <path d=\"M 2034 4250 \nQ 1547 4250 1301 3770 \nQ 1056 3291 1056 2328 \nQ 1056 1369 1301 889 \nQ 1547 409 2034 409 \nQ 2525 409 2770 889 \nQ 3016 1369 3016 2328 \nQ 3016 3291 2770 3770 \nQ 2525 4250 2034 4250 \nz\nM 2034 4750 \nQ 2819 4750 3233 4129 \nQ 3647 3509 3647 2328 \nQ 3647 1150 3233 529 \nQ 2819 -91 2034 -91 \nQ 1250 -91 836 529 \nQ 422 1150 422 2328 \nQ 422 3509 836 4129 \nQ 1250 4750 2034 4750 \nz\n\" id=\"DejaVuSans-30\" transform=\"scale(0.015625)\"/>\n       </defs>\n       <use xlink:href=\"#DejaVuSans-30\"/>\n      </g>\n     </g>\n    </g>\n    <g id=\"xtick_4\">\n     <g id=\"line2d_4\">\n      <g>\n       <use style=\"stroke:#000000;stroke-width:0.8;\" x=\"294.020477\" xlink:href=\"#m38f5423b5b\" y=\"239.758125\"/>\n      </g>\n     </g>\n     <g id=\"text_4\">\n      <!-- 1 -->\n      <g transform=\"translate(290.839227 254.356562)scale(0.1 -0.1)\">\n       <use xlink:href=\"#DejaVuSans-31\"/>\n      </g>\n     </g>\n    </g>\n    <g id=\"xtick_5\">\n     <g id=\"line2d_5\">\n      <g>\n       <use style=\"stroke:#000000;stroke-width:0.8;\" x=\"352.570641\" xlink:href=\"#m38f5423b5b\" y=\"239.758125\"/>\n      </g>\n     </g>\n     <g id=\"text_5\">\n      <!-- 2 -->\n      <g transform=\"translate(349.389391 254.356562)scale(0.1 -0.1)\">\n       <use xlink:href=\"#DejaVuSans-32\"/>\n      </g>\n     </g>\n    </g>\n    <g id=\"text_6\">\n     <!-- Theoretical quantiles -->\n     <g transform=\"translate(182.95625 268.034687)scale(0.1 -0.1)\">\n      <defs>\n       <path d=\"M -19 4666 \nL 3928 4666 \nL 3928 4134 \nL 2272 4134 \nL 2272 0 \nL 1638 0 \nL 1638 4134 \nL -19 4134 \nL -19 4666 \nz\n\" id=\"DejaVuSans-54\" transform=\"scale(0.015625)\"/>\n       <path d=\"M 3513 2113 \nL 3513 0 \nL 2938 0 \nL 2938 2094 \nQ 2938 2591 2744 2837 \nQ 2550 3084 2163 3084 \nQ 1697 3084 1428 2787 \nQ 1159 2491 1159 1978 \nL 1159 0 \nL 581 0 \nL 581 4863 \nL 1159 4863 \nL 1159 2956 \nQ 1366 3272 1645 3428 \nQ 1925 3584 2291 3584 \nQ 2894 3584 3203 3211 \nQ 3513 2838 3513 2113 \nz\n\" id=\"DejaVuSans-68\" transform=\"scale(0.015625)\"/>\n       <path d=\"M 3597 1894 \nL 3597 1613 \nL 953 1613 \nQ 991 1019 1311 708 \nQ 1631 397 2203 397 \nQ 2534 397 2845 478 \nQ 3156 559 3463 722 \nL 3463 178 \nQ 3153 47 2828 -22 \nQ 2503 -91 2169 -91 \nQ 1331 -91 842 396 \nQ 353 884 353 1716 \nQ 353 2575 817 3079 \nQ 1281 3584 2069 3584 \nQ 2775 3584 3186 3129 \nQ 3597 2675 3597 1894 \nz\nM 3022 2063 \nQ 3016 2534 2758 2815 \nQ 2500 3097 2075 3097 \nQ 1594 3097 1305 2825 \nQ 1016 2553 972 2059 \nL 3022 2063 \nz\n\" id=\"DejaVuSans-65\" transform=\"scale(0.015625)\"/>\n       <path d=\"M 1959 3097 \nQ 1497 3097 1228 2736 \nQ 959 2375 959 1747 \nQ 959 1119 1226 758 \nQ 1494 397 1959 397 \nQ 2419 397 2687 759 \nQ 2956 1122 2956 1747 \nQ 2956 2369 2687 2733 \nQ 2419 3097 1959 3097 \nz\nM 1959 3584 \nQ 2709 3584 3137 3096 \nQ 3566 2609 3566 1747 \nQ 3566 888 3137 398 \nQ 2709 -91 1959 -91 \nQ 1206 -91 779 398 \nQ 353 888 353 1747 \nQ 353 2609 779 3096 \nQ 1206 3584 1959 3584 \nz\n\" id=\"DejaVuSans-6f\" transform=\"scale(0.015625)\"/>\n       <path d=\"M 2631 2963 \nQ 2534 3019 2420 3045 \nQ 2306 3072 2169 3072 \nQ 1681 3072 1420 2755 \nQ 1159 2438 1159 1844 \nL 1159 0 \nL 581 0 \nL 581 3500 \nL 1159 3500 \nL 1159 2956 \nQ 1341 3275 1631 3429 \nQ 1922 3584 2338 3584 \nQ 2397 3584 2469 3576 \nQ 2541 3569 2628 3553 \nL 2631 2963 \nz\n\" id=\"DejaVuSans-72\" transform=\"scale(0.015625)\"/>\n       <path d=\"M 1172 4494 \nL 1172 3500 \nL 2356 3500 \nL 2356 3053 \nL 1172 3053 \nL 1172 1153 \nQ 1172 725 1289 603 \nQ 1406 481 1766 481 \nL 2356 481 \nL 2356 0 \nL 1766 0 \nQ 1100 0 847 248 \nQ 594 497 594 1153 \nL 594 3053 \nL 172 3053 \nL 172 3500 \nL 594 3500 \nL 594 4494 \nL 1172 4494 \nz\n\" id=\"DejaVuSans-74\" transform=\"scale(0.015625)\"/>\n       <path d=\"M 603 3500 \nL 1178 3500 \nL 1178 0 \nL 603 0 \nL 603 3500 \nz\nM 603 4863 \nL 1178 4863 \nL 1178 4134 \nL 603 4134 \nL 603 4863 \nz\n\" id=\"DejaVuSans-69\" transform=\"scale(0.015625)\"/>\n       <path d=\"M 3122 3366 \nL 3122 2828 \nQ 2878 2963 2633 3030 \nQ 2388 3097 2138 3097 \nQ 1578 3097 1268 2742 \nQ 959 2388 959 1747 \nQ 959 1106 1268 751 \nQ 1578 397 2138 397 \nQ 2388 397 2633 464 \nQ 2878 531 3122 666 \nL 3122 134 \nQ 2881 22 2623 -34 \nQ 2366 -91 2075 -91 \nQ 1284 -91 818 406 \nQ 353 903 353 1747 \nQ 353 2603 823 3093 \nQ 1294 3584 2113 3584 \nQ 2378 3584 2631 3529 \nQ 2884 3475 3122 3366 \nz\n\" id=\"DejaVuSans-63\" transform=\"scale(0.015625)\"/>\n       <path d=\"M 2194 1759 \nQ 1497 1759 1228 1600 \nQ 959 1441 959 1056 \nQ 959 750 1161 570 \nQ 1363 391 1709 391 \nQ 2188 391 2477 730 \nQ 2766 1069 2766 1631 \nL 2766 1759 \nL 2194 1759 \nz\nM 3341 1997 \nL 3341 0 \nL 2766 0 \nL 2766 531 \nQ 2569 213 2275 61 \nQ 1981 -91 1556 -91 \nQ 1019 -91 701 211 \nQ 384 513 384 1019 \nQ 384 1609 779 1909 \nQ 1175 2209 1959 2209 \nL 2766 2209 \nL 2766 2266 \nQ 2766 2663 2505 2880 \nQ 2244 3097 1772 3097 \nQ 1472 3097 1187 3025 \nQ 903 2953 641 2809 \nL 641 3341 \nQ 956 3463 1253 3523 \nQ 1550 3584 1831 3584 \nQ 2591 3584 2966 3190 \nQ 3341 2797 3341 1997 \nz\n\" id=\"DejaVuSans-61\" transform=\"scale(0.015625)\"/>\n       <path d=\"M 603 4863 \nL 1178 4863 \nL 1178 0 \nL 603 0 \nL 603 4863 \nz\n\" id=\"DejaVuSans-6c\" transform=\"scale(0.015625)\"/>\n       <path id=\"DejaVuSans-20\" transform=\"scale(0.015625)\"/>\n       <path d=\"M 947 1747 \nQ 947 1113 1208 752 \nQ 1469 391 1925 391 \nQ 2381 391 2643 752 \nQ 2906 1113 2906 1747 \nQ 2906 2381 2643 2742 \nQ 2381 3103 1925 3103 \nQ 1469 3103 1208 2742 \nQ 947 2381 947 1747 \nz\nM 2906 525 \nQ 2725 213 2448 61 \nQ 2172 -91 1784 -91 \nQ 1150 -91 751 415 \nQ 353 922 353 1747 \nQ 353 2572 751 3078 \nQ 1150 3584 1784 3584 \nQ 2172 3584 2448 3432 \nQ 2725 3281 2906 2969 \nL 2906 3500 \nL 3481 3500 \nL 3481 -1331 \nL 2906 -1331 \nL 2906 525 \nz\n\" id=\"DejaVuSans-71\" transform=\"scale(0.015625)\"/>\n       <path d=\"M 544 1381 \nL 544 3500 \nL 1119 3500 \nL 1119 1403 \nQ 1119 906 1312 657 \nQ 1506 409 1894 409 \nQ 2359 409 2629 706 \nQ 2900 1003 2900 1516 \nL 2900 3500 \nL 3475 3500 \nL 3475 0 \nL 2900 0 \nL 2900 538 \nQ 2691 219 2414 64 \nQ 2138 -91 1772 -91 \nQ 1169 -91 856 284 \nQ 544 659 544 1381 \nz\nM 1991 3584 \nL 1991 3584 \nz\n\" id=\"DejaVuSans-75\" transform=\"scale(0.015625)\"/>\n       <path d=\"M 3513 2113 \nL 3513 0 \nL 2938 0 \nL 2938 2094 \nQ 2938 2591 2744 2837 \nQ 2550 3084 2163 3084 \nQ 1697 3084 1428 2787 \nQ 1159 2491 1159 1978 \nL 1159 0 \nL 581 0 \nL 581 3500 \nL 1159 3500 \nL 1159 2956 \nQ 1366 3272 1645 3428 \nQ 1925 3584 2291 3584 \nQ 2894 3584 3203 3211 \nQ 3513 2838 3513 2113 \nz\n\" id=\"DejaVuSans-6e\" transform=\"scale(0.015625)\"/>\n       <path d=\"M 2834 3397 \nL 2834 2853 \nQ 2591 2978 2328 3040 \nQ 2066 3103 1784 3103 \nQ 1356 3103 1142 2972 \nQ 928 2841 928 2578 \nQ 928 2378 1081 2264 \nQ 1234 2150 1697 2047 \nL 1894 2003 \nQ 2506 1872 2764 1633 \nQ 3022 1394 3022 966 \nQ 3022 478 2636 193 \nQ 2250 -91 1575 -91 \nQ 1294 -91 989 -36 \nQ 684 19 347 128 \nL 347 722 \nQ 666 556 975 473 \nQ 1284 391 1588 391 \nQ 1994 391 2212 530 \nQ 2431 669 2431 922 \nQ 2431 1156 2273 1281 \nQ 2116 1406 1581 1522 \nL 1381 1569 \nQ 847 1681 609 1914 \nQ 372 2147 372 2553 \nQ 372 3047 722 3315 \nQ 1072 3584 1716 3584 \nQ 2034 3584 2315 3537 \nQ 2597 3491 2834 3397 \nz\n\" id=\"DejaVuSans-73\" transform=\"scale(0.015625)\"/>\n      </defs>\n      <use xlink:href=\"#DejaVuSans-54\"/>\n      <use x=\"61.083984\" xlink:href=\"#DejaVuSans-68\"/>\n      <use x=\"124.462891\" xlink:href=\"#DejaVuSans-65\"/>\n      <use x=\"185.986328\" xlink:href=\"#DejaVuSans-6f\"/>\n      <use x=\"247.167969\" xlink:href=\"#DejaVuSans-72\"/>\n      <use x=\"286.03125\" xlink:href=\"#DejaVuSans-65\"/>\n      <use x=\"347.554688\" xlink:href=\"#DejaVuSans-74\"/>\n      <use x=\"386.763672\" xlink:href=\"#DejaVuSans-69\"/>\n      <use x=\"414.546875\" xlink:href=\"#DejaVuSans-63\"/>\n      <use x=\"469.527344\" xlink:href=\"#DejaVuSans-61\"/>\n      <use x=\"530.806641\" xlink:href=\"#DejaVuSans-6c\"/>\n      <use x=\"558.589844\" xlink:href=\"#DejaVuSans-20\"/>\n      <use x=\"590.376953\" xlink:href=\"#DejaVuSans-71\"/>\n      <use x=\"653.853516\" xlink:href=\"#DejaVuSans-75\"/>\n      <use x=\"717.232422\" xlink:href=\"#DejaVuSans-61\"/>\n      <use x=\"778.511719\" xlink:href=\"#DejaVuSans-6e\"/>\n      <use x=\"841.890625\" xlink:href=\"#DejaVuSans-74\"/>\n      <use x=\"881.099609\" xlink:href=\"#DejaVuSans-69\"/>\n      <use x=\"908.882812\" xlink:href=\"#DejaVuSans-6c\"/>\n      <use x=\"936.666016\" xlink:href=\"#DejaVuSans-65\"/>\n      <use x=\"998.189453\" xlink:href=\"#DejaVuSans-73\"/>\n     </g>\n    </g>\n   </g>\n   <g id=\"matplotlib.axis_2\">\n    <g id=\"ytick_1\">\n     <g id=\"line2d_6\">\n      <defs>\n       <path d=\"M 0 0 \nL -3.5 0 \n\" id=\"m3d163c59dd\" style=\"stroke:#000000;stroke-width:0.8;\"/>\n      </defs>\n      <g>\n       <use style=\"stroke:#000000;stroke-width:0.8;\" x=\"68.070312\" xlink:href=\"#m3d163c59dd\" y=\"204.338739\"/>\n      </g>\n     </g>\n     <g id=\"text_7\">\n      <!-- −10000 -->\n      <g transform=\"translate(20.878125 208.137958)scale(0.1 -0.1)\">\n       <use xlink:href=\"#DejaVuSans-2212\"/>\n       <use x=\"83.789062\" xlink:href=\"#DejaVuSans-31\"/>\n       <use x=\"147.412109\" xlink:href=\"#DejaVuSans-30\"/>\n       <use x=\"211.035156\" xlink:href=\"#DejaVuSans-30\"/>\n       <use x=\"274.658203\" xlink:href=\"#DejaVuSans-30\"/>\n       <use x=\"338.28125\" xlink:href=\"#DejaVuSans-30\"/>\n      </g>\n     </g>\n    </g>\n    <g id=\"ytick_2\">\n     <g id=\"line2d_7\">\n      <g>\n       <use style=\"stroke:#000000;stroke-width:0.8;\" x=\"68.070312\" xlink:href=\"#m3d163c59dd\" y=\"167.075733\"/>\n      </g>\n     </g>\n     <g id=\"text_8\">\n      <!-- −5000 -->\n      <g transform=\"translate(27.240625 170.874952)scale(0.1 -0.1)\">\n       <defs>\n        <path d=\"M 691 4666 \nL 3169 4666 \nL 3169 4134 \nL 1269 4134 \nL 1269 2991 \nQ 1406 3038 1543 3061 \nQ 1681 3084 1819 3084 \nQ 2600 3084 3056 2656 \nQ 3513 2228 3513 1497 \nQ 3513 744 3044 326 \nQ 2575 -91 1722 -91 \nQ 1428 -91 1123 -41 \nQ 819 9 494 109 \nL 494 744 \nQ 775 591 1075 516 \nQ 1375 441 1709 441 \nQ 2250 441 2565 725 \nQ 2881 1009 2881 1497 \nQ 2881 1984 2565 2268 \nQ 2250 2553 1709 2553 \nQ 1456 2553 1204 2497 \nQ 953 2441 691 2322 \nL 691 4666 \nz\n\" id=\"DejaVuSans-35\" transform=\"scale(0.015625)\"/>\n       </defs>\n       <use xlink:href=\"#DejaVuSans-2212\"/>\n       <use x=\"83.789062\" xlink:href=\"#DejaVuSans-35\"/>\n       <use x=\"147.412109\" xlink:href=\"#DejaVuSans-30\"/>\n       <use x=\"211.035156\" xlink:href=\"#DejaVuSans-30\"/>\n       <use x=\"274.658203\" xlink:href=\"#DejaVuSans-30\"/>\n      </g>\n     </g>\n    </g>\n    <g id=\"ytick_3\">\n     <g id=\"line2d_8\">\n      <g>\n       <use style=\"stroke:#000000;stroke-width:0.8;\" x=\"68.070312\" xlink:href=\"#m3d163c59dd\" y=\"129.812728\"/>\n      </g>\n     </g>\n     <g id=\"text_9\">\n      <!-- 0 -->\n      <g transform=\"translate(54.707813 133.611947)scale(0.1 -0.1)\">\n       <use xlink:href=\"#DejaVuSans-30\"/>\n      </g>\n     </g>\n    </g>\n    <g id=\"ytick_4\">\n     <g id=\"line2d_9\">\n      <g>\n       <use style=\"stroke:#000000;stroke-width:0.8;\" x=\"68.070312\" xlink:href=\"#m3d163c59dd\" y=\"92.549722\"/>\n      </g>\n     </g>\n     <g id=\"text_10\">\n      <!-- 5000 -->\n      <g transform=\"translate(35.620312 96.348941)scale(0.1 -0.1)\">\n       <use xlink:href=\"#DejaVuSans-35\"/>\n       <use x=\"63.623047\" xlink:href=\"#DejaVuSans-30\"/>\n       <use x=\"127.246094\" xlink:href=\"#DejaVuSans-30\"/>\n       <use x=\"190.869141\" xlink:href=\"#DejaVuSans-30\"/>\n      </g>\n     </g>\n    </g>\n    <g id=\"ytick_5\">\n     <g id=\"line2d_10\">\n      <g>\n       <use style=\"stroke:#000000;stroke-width:0.8;\" x=\"68.070312\" xlink:href=\"#m3d163c59dd\" y=\"55.286716\"/>\n      </g>\n     </g>\n     <g id=\"text_11\">\n      <!-- 10000 -->\n      <g transform=\"translate(29.257812 59.085935)scale(0.1 -0.1)\">\n       <use xlink:href=\"#DejaVuSans-31\"/>\n       <use x=\"63.623047\" xlink:href=\"#DejaVuSans-30\"/>\n       <use x=\"127.246094\" xlink:href=\"#DejaVuSans-30\"/>\n       <use x=\"190.869141\" xlink:href=\"#DejaVuSans-30\"/>\n       <use x=\"254.492188\" xlink:href=\"#DejaVuSans-30\"/>\n      </g>\n     </g>\n    </g>\n    <g id=\"text_12\">\n     <!-- Ordered Values -->\n     <g transform=\"translate(14.798437 169.311562)rotate(-90)scale(0.1 -0.1)\">\n      <defs>\n       <path d=\"M 2522 4238 \nQ 1834 4238 1429 3725 \nQ 1025 3213 1025 2328 \nQ 1025 1447 1429 934 \nQ 1834 422 2522 422 \nQ 3209 422 3611 934 \nQ 4013 1447 4013 2328 \nQ 4013 3213 3611 3725 \nQ 3209 4238 2522 4238 \nz\nM 2522 4750 \nQ 3503 4750 4090 4092 \nQ 4678 3434 4678 2328 \nQ 4678 1225 4090 567 \nQ 3503 -91 2522 -91 \nQ 1538 -91 948 565 \nQ 359 1222 359 2328 \nQ 359 3434 948 4092 \nQ 1538 4750 2522 4750 \nz\n\" id=\"DejaVuSans-4f\" transform=\"scale(0.015625)\"/>\n       <path d=\"M 2906 2969 \nL 2906 4863 \nL 3481 4863 \nL 3481 0 \nL 2906 0 \nL 2906 525 \nQ 2725 213 2448 61 \nQ 2172 -91 1784 -91 \nQ 1150 -91 751 415 \nQ 353 922 353 1747 \nQ 353 2572 751 3078 \nQ 1150 3584 1784 3584 \nQ 2172 3584 2448 3432 \nQ 2725 3281 2906 2969 \nz\nM 947 1747 \nQ 947 1113 1208 752 \nQ 1469 391 1925 391 \nQ 2381 391 2643 752 \nQ 2906 1113 2906 1747 \nQ 2906 2381 2643 2742 \nQ 2381 3103 1925 3103 \nQ 1469 3103 1208 2742 \nQ 947 2381 947 1747 \nz\n\" id=\"DejaVuSans-64\" transform=\"scale(0.015625)\"/>\n       <path d=\"M 1831 0 \nL 50 4666 \nL 709 4666 \nL 2188 738 \nL 3669 4666 \nL 4325 4666 \nL 2547 0 \nL 1831 0 \nz\n\" id=\"DejaVuSans-56\" transform=\"scale(0.015625)\"/>\n      </defs>\n      <use xlink:href=\"#DejaVuSans-4f\"/>\n      <use x=\"78.710938\" xlink:href=\"#DejaVuSans-72\"/>\n      <use x=\"118.074219\" xlink:href=\"#DejaVuSans-64\"/>\n      <use x=\"181.550781\" xlink:href=\"#DejaVuSans-65\"/>\n      <use x=\"243.074219\" xlink:href=\"#DejaVuSans-72\"/>\n      <use x=\"281.9375\" xlink:href=\"#DejaVuSans-65\"/>\n      <use x=\"343.460938\" xlink:href=\"#DejaVuSans-64\"/>\n      <use x=\"406.9375\" xlink:href=\"#DejaVuSans-20\"/>\n      <use x=\"438.724609\" xlink:href=\"#DejaVuSans-56\"/>\n      <use x=\"499.382812\" xlink:href=\"#DejaVuSans-61\"/>\n      <use x=\"560.662109\" xlink:href=\"#DejaVuSans-6c\"/>\n      <use x=\"588.445312\" xlink:href=\"#DejaVuSans-75\"/>\n      <use x=\"651.824219\" xlink:href=\"#DejaVuSans-65\"/>\n      <use x=\"713.347656\" xlink:href=\"#DejaVuSans-73\"/>\n     </g>\n    </g>\n   </g>\n   <g id=\"line2d_11\">\n    <defs>\n     <path d=\"M 0 3 \nC 0.795609 3 1.55874 2.683901 2.12132 2.12132 \nC 2.683901 1.55874 3 0.795609 3 0 \nC 3 -0.795609 2.683901 -1.55874 2.12132 -2.12132 \nC 1.55874 -2.683901 0.795609 -3 0 -3 \nC -0.795609 -3 -1.55874 -2.683901 -2.12132 -2.12132 \nC -2.683901 -1.55874 -3 -0.795609 -3 0 \nC -3 0.795609 -2.683901 1.55874 -2.12132 2.12132 \nC -1.55874 2.683901 -0.795609 3 0 3 \nz\n\" id=\"mc7a05a0b73\" style=\"stroke:#0000ff;\"/>\n    </defs>\n    <g clip-path=\"url(#peab22c782e)\">\n     <use style=\"fill:#0000ff;stroke:#0000ff;\" x=\"83.288494\" xlink:href=\"#mc7a05a0b73\" y=\"201.003177\"/>\n     <use style=\"fill:#0000ff;stroke:#0000ff;\" x=\"102.047768\" xlink:href=\"#mc7a05a0b73\" y=\"198.767397\"/>\n     <use style=\"fill:#0000ff;stroke:#0000ff;\" x=\"112.801018\" xlink:href=\"#mc7a05a0b73\" y=\"195.844618\"/>\n     <use style=\"fill:#0000ff;stroke:#0000ff;\" x=\"120.533778\" xlink:href=\"#mc7a05a0b73\" y=\"193.177946\"/>\n     <use style=\"fill:#0000ff;stroke:#0000ff;\" x=\"126.664452\" xlink:href=\"#mc7a05a0b73\" y=\"189.824275\"/>\n     <use style=\"fill:#0000ff;stroke:#0000ff;\" x=\"131.792377\" xlink:href=\"#mc7a05a0b73\" y=\"189.824275\"/>\n     <use style=\"fill:#0000ff;stroke:#0000ff;\" x=\"136.229782\" xlink:href=\"#mc7a05a0b73\" y=\"188.706385\"/>\n     <use style=\"fill:#0000ff;stroke:#0000ff;\" x=\"140.160937\" xlink:href=\"#mc7a05a0b73\" y=\"186.470605\"/>\n     <use style=\"fill:#0000ff;stroke:#0000ff;\" x=\"143.7041\" xlink:href=\"#mc7a05a0b73\" y=\"184.234824\"/>\n     <use style=\"fill:#0000ff;stroke:#0000ff;\" x=\"146.939895\" xlink:href=\"#mc7a05a0b73\" y=\"181.999044\"/>\n     <use style=\"fill:#0000ff;stroke:#0000ff;\" x=\"149.925861\" xlink:href=\"#mc7a05a0b73\" y=\"180.881154\"/>\n     <use style=\"fill:#0000ff;stroke:#0000ff;\" x=\"152.704568\" xlink:href=\"#mc7a05a0b73\" y=\"180.881154\"/>\n     <use style=\"fill:#0000ff;stroke:#0000ff;\" x=\"155.308437\" xlink:href=\"#mc7a05a0b73\" y=\"177.527483\"/>\n     <use style=\"fill:#0000ff;stroke:#0000ff;\" x=\"157.762754\" xlink:href=\"#mc7a05a0b73\" y=\"177.527483\"/>\n     <use style=\"fill:#0000ff;stroke:#0000ff;\" x=\"160.087644\" xlink:href=\"#mc7a05a0b73\" y=\"177.527483\"/>\n     <use style=\"fill:#0000ff;stroke:#0000ff;\" x=\"162.299395\" xlink:href=\"#mc7a05a0b73\" y=\"176.409593\"/>\n     <use style=\"fill:#0000ff;stroke:#0000ff;\" x=\"164.411392\" xlink:href=\"#mc7a05a0b73\" y=\"175.291703\"/>\n     <use style=\"fill:#0000ff;stroke:#0000ff;\" x=\"166.434768\" xlink:href=\"#mc7a05a0b73\" y=\"175.291703\"/>\n     <use style=\"fill:#0000ff;stroke:#0000ff;\" x=\"168.378894\" xlink:href=\"#mc7a05a0b73\" y=\"173.055923\"/>\n     <use style=\"fill:#0000ff;stroke:#0000ff;\" x=\"170.251734\" xlink:href=\"#mc7a05a0b73\" y=\"173.055923\"/>\n     <use style=\"fill:#0000ff;stroke:#0000ff;\" x=\"172.060119\" xlink:href=\"#mc7a05a0b73\" y=\"171.938033\"/>\n     <use style=\"fill:#0000ff;stroke:#0000ff;\" x=\"173.809953\" xlink:href=\"#mc7a05a0b73\" y=\"171.938033\"/>\n     <use style=\"fill:#0000ff;stroke:#0000ff;\" x=\"175.506379\" xlink:href=\"#mc7a05a0b73\" y=\"170.820142\"/>\n     <use style=\"fill:#0000ff;stroke:#0000ff;\" x=\"177.153904\" xlink:href=\"#mc7a05a0b73\" y=\"170.820142\"/>\n     <use style=\"fill:#0000ff;stroke:#0000ff;\" x=\"178.756503\" xlink:href=\"#mc7a05a0b73\" y=\"170.820142\"/>\n     <use style=\"fill:#0000ff;stroke:#0000ff;\" x=\"180.317699\" xlink:href=\"#mc7a05a0b73\" y=\"169.702252\"/>\n     <use style=\"fill:#0000ff;stroke:#0000ff;\" x=\"181.840635\" xlink:href=\"#mc7a05a0b73\" y=\"169.702252\"/>\n     <use style=\"fill:#0000ff;stroke:#0000ff;\" x=\"183.328125\" xlink:href=\"#mc7a05a0b73\" y=\"169.702252\"/>\n     <use style=\"fill:#0000ff;stroke:#0000ff;\" x=\"184.782698\" xlink:href=\"#mc7a05a0b73\" y=\"168.584362\"/>\n     <use style=\"fill:#0000ff;stroke:#0000ff;\" x=\"186.206641\" xlink:href=\"#mc7a05a0b73\" y=\"168.584362\"/>\n     <use style=\"fill:#0000ff;stroke:#0000ff;\" x=\"187.602026\" xlink:href=\"#mc7a05a0b73\" y=\"166.348582\"/>\n     <use style=\"fill:#0000ff;stroke:#0000ff;\" x=\"188.970737\" xlink:href=\"#mc7a05a0b73\" y=\"165.230692\"/>\n     <use style=\"fill:#0000ff;stroke:#0000ff;\" x=\"190.314497\" xlink:href=\"#mc7a05a0b73\" y=\"164.543694\"/>\n     <use style=\"fill:#0000ff;stroke:#0000ff;\" x=\"191.634882\" xlink:href=\"#mc7a05a0b73\" y=\"164.112801\"/>\n     <use style=\"fill:#0000ff;stroke:#0000ff;\" x=\"192.933341\" xlink:href=\"#mc7a05a0b73\" y=\"162.994911\"/>\n     <use style=\"fill:#0000ff;stroke:#0000ff;\" x=\"194.211208\" xlink:href=\"#mc7a05a0b73\" y=\"161.877021\"/>\n     <use style=\"fill:#0000ff;stroke:#0000ff;\" x=\"195.469718\" xlink:href=\"#mc7a05a0b73\" y=\"161.877021\"/>\n     <use style=\"fill:#0000ff;stroke:#0000ff;\" x=\"196.710011\" xlink:href=\"#mc7a05a0b73\" y=\"161.877021\"/>\n     <use style=\"fill:#0000ff;stroke:#0000ff;\" x=\"197.93315\" xlink:href=\"#mc7a05a0b73\" y=\"161.173759\"/>\n     <use style=\"fill:#0000ff;stroke:#0000ff;\" x=\"199.140122\" xlink:href=\"#mc7a05a0b73\" y=\"159.641241\"/>\n     <use style=\"fill:#0000ff;stroke:#0000ff;\" x=\"200.331848\" xlink:href=\"#mc7a05a0b73\" y=\"157.40546\"/>\n     <use style=\"fill:#0000ff;stroke:#0000ff;\" x=\"201.509191\" xlink:href=\"#mc7a05a0b73\" y=\"157.40546\"/>\n     <use style=\"fill:#0000ff;stroke:#0000ff;\" x=\"202.672959\" xlink:href=\"#mc7a05a0b73\" y=\"157.40546\"/>\n     <use style=\"fill:#0000ff;stroke:#0000ff;\" x=\"203.823911\" xlink:href=\"#mc7a05a0b73\" y=\"157.40546\"/>\n     <use style=\"fill:#0000ff;stroke:#0000ff;\" x=\"204.962762\" xlink:href=\"#mc7a05a0b73\" y=\"156.718462\"/>\n     <use style=\"fill:#0000ff;stroke:#0000ff;\" x=\"206.090185\" xlink:href=\"#mc7a05a0b73\" y=\"156.28757\"/>\n     <use style=\"fill:#0000ff;stroke:#0000ff;\" x=\"207.206818\" xlink:href=\"#mc7a05a0b73\" y=\"156.28757\"/>\n     <use style=\"fill:#0000ff;stroke:#0000ff;\" x=\"208.313263\" xlink:href=\"#mc7a05a0b73\" y=\"156.28757\"/>\n     <use style=\"fill:#0000ff;stroke:#0000ff;\" x=\"209.410094\" xlink:href=\"#mc7a05a0b73\" y=\"155.16968\"/>\n     <use style=\"fill:#0000ff;stroke:#0000ff;\" x=\"210.497854\" xlink:href=\"#mc7a05a0b73\" y=\"154.05179\"/>\n     <use style=\"fill:#0000ff;stroke:#0000ff;\" x=\"211.577062\" xlink:href=\"#mc7a05a0b73\" y=\"154.05179\"/>\n     <use style=\"fill:#0000ff;stroke:#0000ff;\" x=\"212.648212\" xlink:href=\"#mc7a05a0b73\" y=\"154.05179\"/>\n     <use style=\"fill:#0000ff;stroke:#0000ff;\" x=\"213.711778\" xlink:href=\"#mc7a05a0b73\" y=\"154.05179\"/>\n     <use style=\"fill:#0000ff;stroke:#0000ff;\" x=\"214.768211\" xlink:href=\"#mc7a05a0b73\" y=\"154.05179\"/>\n     <use style=\"fill:#0000ff;stroke:#0000ff;\" x=\"215.817946\" xlink:href=\"#mc7a05a0b73\" y=\"153.364792\"/>\n     <use style=\"fill:#0000ff;stroke:#0000ff;\" x=\"216.861402\" xlink:href=\"#mc7a05a0b73\" y=\"153.364792\"/>\n     <use style=\"fill:#0000ff;stroke:#0000ff;\" x=\"217.89898\" xlink:href=\"#mc7a05a0b73\" y=\"151.81601\"/>\n     <use style=\"fill:#0000ff;stroke:#0000ff;\" x=\"218.931069\" xlink:href=\"#mc7a05a0b73\" y=\"151.81601\"/>\n     <use style=\"fill:#0000ff;stroke:#0000ff;\" x=\"219.958044\" xlink:href=\"#mc7a05a0b73\" y=\"149.580229\"/>\n     <use style=\"fill:#0000ff;stroke:#0000ff;\" x=\"220.980268\" xlink:href=\"#mc7a05a0b73\" y=\"148.462339\"/>\n     <use style=\"fill:#0000ff;stroke:#0000ff;\" x=\"221.998094\" xlink:href=\"#mc7a05a0b73\" y=\"147.775341\"/>\n     <use style=\"fill:#0000ff;stroke:#0000ff;\" x=\"223.011865\" xlink:href=\"#mc7a05a0b73\" y=\"147.775341\"/>\n     <use style=\"fill:#0000ff;stroke:#0000ff;\" x=\"224.021914\" xlink:href=\"#mc7a05a0b73\" y=\"147.775341\"/>\n     <use style=\"fill:#0000ff;stroke:#0000ff;\" x=\"225.028567\" xlink:href=\"#mc7a05a0b73\" y=\"147.775341\"/>\n     <use style=\"fill:#0000ff;stroke:#0000ff;\" x=\"226.032143\" xlink:href=\"#mc7a05a0b73\" y=\"147.775341\"/>\n     <use style=\"fill:#0000ff;stroke:#0000ff;\" x=\"227.032953\" xlink:href=\"#mc7a05a0b73\" y=\"146.226559\"/>\n     <use style=\"fill:#0000ff;stroke:#0000ff;\" x=\"228.031304\" xlink:href=\"#mc7a05a0b73\" y=\"146.226559\"/>\n     <use style=\"fill:#0000ff;stroke:#0000ff;\" x=\"229.027497\" xlink:href=\"#mc7a05a0b73\" y=\"145.108669\"/>\n     <use style=\"fill:#0000ff;stroke:#0000ff;\" x=\"230.021828\" xlink:href=\"#mc7a05a0b73\" y=\"144.421671\"/>\n     <use style=\"fill:#0000ff;stroke:#0000ff;\" x=\"231.01459\" xlink:href=\"#mc7a05a0b73\" y=\"143.990778\"/>\n     <use style=\"fill:#0000ff;stroke:#0000ff;\" x=\"232.006073\" xlink:href=\"#mc7a05a0b73\" y=\"143.990778\"/>\n     <use style=\"fill:#0000ff;stroke:#0000ff;\" x=\"232.996563\" xlink:href=\"#mc7a05a0b73\" y=\"142.872888\"/>\n     <use style=\"fill:#0000ff;stroke:#0000ff;\" x=\"233.986345\" xlink:href=\"#mc7a05a0b73\" y=\"142.872888\"/>\n     <use style=\"fill:#0000ff;stroke:#0000ff;\" x=\"234.975704\" xlink:href=\"#mc7a05a0b73\" y=\"142.872888\"/>\n     <use style=\"fill:#0000ff;stroke:#0000ff;\" x=\"235.964921\" xlink:href=\"#mc7a05a0b73\" y=\"141.754998\"/>\n     <use style=\"fill:#0000ff;stroke:#0000ff;\" x=\"236.95428\" xlink:href=\"#mc7a05a0b73\" y=\"140.637108\"/>\n     <use style=\"fill:#0000ff;stroke:#0000ff;\" x=\"237.944062\" xlink:href=\"#mc7a05a0b73\" y=\"140.637108\"/>\n     <use style=\"fill:#0000ff;stroke:#0000ff;\" x=\"238.934552\" xlink:href=\"#mc7a05a0b73\" y=\"140.637108\"/>\n     <use style=\"fill:#0000ff;stroke:#0000ff;\" x=\"239.926035\" xlink:href=\"#mc7a05a0b73\" y=\"140.637108\"/>\n     <use style=\"fill:#0000ff;stroke:#0000ff;\" x=\"240.918797\" xlink:href=\"#mc7a05a0b73\" y=\"139.519218\"/>\n     <use style=\"fill:#0000ff;stroke:#0000ff;\" x=\"241.913128\" xlink:href=\"#mc7a05a0b73\" y=\"139.519218\"/>\n     <use style=\"fill:#0000ff;stroke:#0000ff;\" x=\"242.909321\" xlink:href=\"#mc7a05a0b73\" y=\"138.83222\"/>\n     <use style=\"fill:#0000ff;stroke:#0000ff;\" x=\"243.907672\" xlink:href=\"#mc7a05a0b73\" y=\"138.83222\"/>\n     <use style=\"fill:#0000ff;stroke:#0000ff;\" x=\"244.908482\" xlink:href=\"#mc7a05a0b73\" y=\"138.401328\"/>\n     <use style=\"fill:#0000ff;stroke:#0000ff;\" x=\"245.912058\" xlink:href=\"#mc7a05a0b73\" y=\"137.283437\"/>\n     <use style=\"fill:#0000ff;stroke:#0000ff;\" x=\"246.918711\" xlink:href=\"#mc7a05a0b73\" y=\"137.283437\"/>\n     <use style=\"fill:#0000ff;stroke:#0000ff;\" x=\"247.92876\" xlink:href=\"#mc7a05a0b73\" y=\"137.283437\"/>\n     <use style=\"fill:#0000ff;stroke:#0000ff;\" x=\"248.942531\" xlink:href=\"#mc7a05a0b73\" y=\"137.283437\"/>\n     <use style=\"fill:#0000ff;stroke:#0000ff;\" x=\"249.960357\" xlink:href=\"#mc7a05a0b73\" y=\"136.165547\"/>\n     <use style=\"fill:#0000ff;stroke:#0000ff;\" x=\"250.982581\" xlink:href=\"#mc7a05a0b73\" y=\"136.165547\"/>\n     <use style=\"fill:#0000ff;stroke:#0000ff;\" x=\"252.009556\" xlink:href=\"#mc7a05a0b73\" y=\"135.047657\"/>\n     <use style=\"fill:#0000ff;stroke:#0000ff;\" x=\"253.041645\" xlink:href=\"#mc7a05a0b73\" y=\"132.811877\"/>\n     <use style=\"fill:#0000ff;stroke:#0000ff;\" x=\"254.079223\" xlink:href=\"#mc7a05a0b73\" y=\"132.811877\"/>\n     <use style=\"fill:#0000ff;stroke:#0000ff;\" x=\"255.122679\" xlink:href=\"#mc7a05a0b73\" y=\"131.693986\"/>\n     <use style=\"fill:#0000ff;stroke:#0000ff;\" x=\"256.172414\" xlink:href=\"#mc7a05a0b73\" y=\"130.576096\"/>\n     <use style=\"fill:#0000ff;stroke:#0000ff;\" x=\"257.228847\" xlink:href=\"#mc7a05a0b73\" y=\"130.576096\"/>\n     <use style=\"fill:#0000ff;stroke:#0000ff;\" x=\"258.292413\" xlink:href=\"#mc7a05a0b73\" y=\"129.458206\"/>\n     <use style=\"fill:#0000ff;stroke:#0000ff;\" x=\"259.363563\" xlink:href=\"#mc7a05a0b73\" y=\"129.458206\"/>\n     <use style=\"fill:#0000ff;stroke:#0000ff;\" x=\"260.442771\" xlink:href=\"#mc7a05a0b73\" y=\"129.458206\"/>\n     <use style=\"fill:#0000ff;stroke:#0000ff;\" x=\"261.530531\" xlink:href=\"#mc7a05a0b73\" y=\"128.340316\"/>\n     <use style=\"fill:#0000ff;stroke:#0000ff;\" x=\"262.627362\" xlink:href=\"#mc7a05a0b73\" y=\"128.340316\"/>\n     <use style=\"fill:#0000ff;stroke:#0000ff;\" x=\"263.733807\" xlink:href=\"#mc7a05a0b73\" y=\"125.417538\"/>\n     <use style=\"fill:#0000ff;stroke:#0000ff;\" x=\"264.85044\" xlink:href=\"#mc7a05a0b73\" y=\"123.868755\"/>\n     <use style=\"fill:#0000ff;stroke:#0000ff;\" x=\"265.977863\" xlink:href=\"#mc7a05a0b73\" y=\"123.868755\"/>\n     <use style=\"fill:#0000ff;stroke:#0000ff;\" x=\"267.116714\" xlink:href=\"#mc7a05a0b73\" y=\"121.632975\"/>\n     <use style=\"fill:#0000ff;stroke:#0000ff;\" x=\"268.267666\" xlink:href=\"#mc7a05a0b73\" y=\"121.632975\"/>\n     <use style=\"fill:#0000ff;stroke:#0000ff;\" x=\"269.431434\" xlink:href=\"#mc7a05a0b73\" y=\"120.515085\"/>\n     <use style=\"fill:#0000ff;stroke:#0000ff;\" x=\"270.608777\" xlink:href=\"#mc7a05a0b73\" y=\"119.397195\"/>\n     <use style=\"fill:#0000ff;stroke:#0000ff;\" x=\"271.800503\" xlink:href=\"#mc7a05a0b73\" y=\"118.950039\"/>\n     <use style=\"fill:#0000ff;stroke:#0000ff;\" x=\"273.007475\" xlink:href=\"#mc7a05a0b73\" y=\"118.279304\"/>\n     <use style=\"fill:#0000ff;stroke:#0000ff;\" x=\"274.230614\" xlink:href=\"#mc7a05a0b73\" y=\"118.279304\"/>\n     <use style=\"fill:#0000ff;stroke:#0000ff;\" x=\"275.470907\" xlink:href=\"#mc7a05a0b73\" y=\"117.161414\"/>\n     <use style=\"fill:#0000ff;stroke:#0000ff;\" x=\"276.729417\" xlink:href=\"#mc7a05a0b73\" y=\"117.161414\"/>\n     <use style=\"fill:#0000ff;stroke:#0000ff;\" x=\"278.007284\" xlink:href=\"#mc7a05a0b73\" y=\"114.925634\"/>\n     <use style=\"fill:#0000ff;stroke:#0000ff;\" x=\"279.305743\" xlink:href=\"#mc7a05a0b73\" y=\"113.807744\"/>\n     <use style=\"fill:#0000ff;stroke:#0000ff;\" x=\"280.626128\" xlink:href=\"#mc7a05a0b73\" y=\"111.571963\"/>\n     <use style=\"fill:#0000ff;stroke:#0000ff;\" x=\"281.969888\" xlink:href=\"#mc7a05a0b73\" y=\"110.677651\"/>\n     <use style=\"fill:#0000ff;stroke:#0000ff;\" x=\"283.338599\" xlink:href=\"#mc7a05a0b73\" y=\"110.454073\"/>\n     <use style=\"fill:#0000ff;stroke:#0000ff;\" x=\"284.733984\" xlink:href=\"#mc7a05a0b73\" y=\"109.336183\"/>\n     <use style=\"fill:#0000ff;stroke:#0000ff;\" x=\"286.157927\" xlink:href=\"#mc7a05a0b73\" y=\"108.218293\"/>\n     <use style=\"fill:#0000ff;stroke:#0000ff;\" x=\"287.6125\" xlink:href=\"#mc7a05a0b73\" y=\"107.962187\"/>\n     <use style=\"fill:#0000ff;stroke:#0000ff;\" x=\"289.09999\" xlink:href=\"#mc7a05a0b73\" y=\"104.864622\"/>\n     <use style=\"fill:#0000ff;stroke:#0000ff;\" x=\"290.622926\" xlink:href=\"#mc7a05a0b73\" y=\"101.510952\"/>\n     <use style=\"fill:#0000ff;stroke:#0000ff;\" x=\"292.184122\" xlink:href=\"#mc7a05a0b73\" y=\"100.393062\"/>\n     <use style=\"fill:#0000ff;stroke:#0000ff;\" x=\"293.786721\" xlink:href=\"#mc7a05a0b73\" y=\"100.393062\"/>\n     <use style=\"fill:#0000ff;stroke:#0000ff;\" x=\"295.434246\" xlink:href=\"#mc7a05a0b73\" y=\"100.393062\"/>\n     <use style=\"fill:#0000ff;stroke:#0000ff;\" x=\"297.130672\" xlink:href=\"#mc7a05a0b73\" y=\"98.157281\"/>\n     <use style=\"fill:#0000ff;stroke:#0000ff;\" x=\"298.880506\" xlink:href=\"#mc7a05a0b73\" y=\"97.039391\"/>\n     <use style=\"fill:#0000ff;stroke:#0000ff;\" x=\"300.688891\" xlink:href=\"#mc7a05a0b73\" y=\"89.21416\"/>\n     <use style=\"fill:#0000ff;stroke:#0000ff;\" x=\"302.561731\" xlink:href=\"#mc7a05a0b73\" y=\"88.09627\"/>\n     <use style=\"fill:#0000ff;stroke:#0000ff;\" x=\"304.505857\" xlink:href=\"#mc7a05a0b73\" y=\"88.09627\"/>\n     <use style=\"fill:#0000ff;stroke:#0000ff;\" x=\"306.529233\" xlink:href=\"#mc7a05a0b73\" y=\"83.624709\"/>\n     <use style=\"fill:#0000ff;stroke:#0000ff;\" x=\"308.64123\" xlink:href=\"#mc7a05a0b73\" y=\"79.153148\"/>\n     <use style=\"fill:#0000ff;stroke:#0000ff;\" x=\"310.852981\" xlink:href=\"#mc7a05a0b73\" y=\"78.258836\"/>\n     <use style=\"fill:#0000ff;stroke:#0000ff;\" x=\"313.177871\" xlink:href=\"#mc7a05a0b73\" y=\"76.917368\"/>\n     <use style=\"fill:#0000ff;stroke:#0000ff;\" x=\"315.632188\" xlink:href=\"#mc7a05a0b73\" y=\"75.799478\"/>\n     <use style=\"fill:#0000ff;stroke:#0000ff;\" x=\"318.236057\" xlink:href=\"#mc7a05a0b73\" y=\"74.681588\"/>\n     <use style=\"fill:#0000ff;stroke:#0000ff;\" x=\"321.014764\" xlink:href=\"#mc7a05a0b73\" y=\"73.563698\"/>\n     <use style=\"fill:#0000ff;stroke:#0000ff;\" x=\"324.00073\" xlink:href=\"#mc7a05a0b73\" y=\"70.210027\"/>\n     <use style=\"fill:#0000ff;stroke:#0000ff;\" x=\"327.236525\" xlink:href=\"#mc7a05a0b73\" y=\"67.974247\"/>\n     <use style=\"fill:#0000ff;stroke:#0000ff;\" x=\"330.779688\" xlink:href=\"#mc7a05a0b73\" y=\"66.856357\"/>\n     <use style=\"fill:#0000ff;stroke:#0000ff;\" x=\"334.710843\" xlink:href=\"#mc7a05a0b73\" y=\"63.502686\"/>\n     <use style=\"fill:#0000ff;stroke:#0000ff;\" x=\"339.148248\" xlink:href=\"#mc7a05a0b73\" y=\"54.559565\"/>\n     <use style=\"fill:#0000ff;stroke:#0000ff;\" x=\"344.276173\" xlink:href=\"#mc7a05a0b73\" y=\"46.734334\"/>\n     <use style=\"fill:#0000ff;stroke:#0000ff;\" x=\"350.406847\" xlink:href=\"#mc7a05a0b73\" y=\"41.144883\"/>\n     <use style=\"fill:#0000ff;stroke:#0000ff;\" x=\"358.139607\" xlink:href=\"#mc7a05a0b73\" y=\"36.673322\"/>\n     <use style=\"fill:#0000ff;stroke:#0000ff;\" x=\"368.892857\" xlink:href=\"#mc7a05a0b73\" y=\"36.673322\"/>\n     <use style=\"fill:#0000ff;stroke:#0000ff;\" x=\"387.652131\" xlink:href=\"#mc7a05a0b73\" y=\"32.201761\"/>\n    </g>\n   </g>\n   <g id=\"line2d_12\">\n    <path clip-path=\"url(#peab22c782e)\" d=\"M 83.288494 229.874489 \nL 387.652131 42.494948 \nL 387.652131 42.494948 \n\" style=\"fill:none;stroke:#ff0000;stroke-linecap:square;stroke-width:1.5;\"/>\n   </g>\n   <g id=\"patch_3\">\n    <path d=\"M 68.070312 239.758125 \nL 68.070312 22.318125 \n\" style=\"fill:none;stroke:#000000;stroke-linecap:square;stroke-linejoin:miter;stroke-width:0.8;\"/>\n   </g>\n   <g id=\"patch_4\">\n    <path d=\"M 402.870313 239.758125 \nL 402.870313 22.318125 \n\" style=\"fill:none;stroke:#000000;stroke-linecap:square;stroke-linejoin:miter;stroke-width:0.8;\"/>\n   </g>\n   <g id=\"patch_5\">\n    <path d=\"M 68.070312 239.758125 \nL 402.870313 239.758125 \n\" style=\"fill:none;stroke:#000000;stroke-linecap:square;stroke-linejoin:miter;stroke-width:0.8;\"/>\n   </g>\n   <g id=\"patch_6\">\n    <path d=\"M 68.070312 22.318125 \nL 402.870313 22.318125 \n\" style=\"fill:none;stroke:#000000;stroke-linecap:square;stroke-linejoin:miter;stroke-width:0.8;\"/>\n   </g>\n   <g id=\"text_13\">\n    <!-- Probability Plot -->\n    <g transform=\"translate(190.540625 16.318125)scale(0.12 -0.12)\">\n     <defs>\n      <path d=\"M 1259 4147 \nL 1259 2394 \nL 2053 2394 \nQ 2494 2394 2734 2622 \nQ 2975 2850 2975 3272 \nQ 2975 3691 2734 3919 \nQ 2494 4147 2053 4147 \nL 1259 4147 \nz\nM 628 4666 \nL 2053 4666 \nQ 2838 4666 3239 4311 \nQ 3641 3956 3641 3272 \nQ 3641 2581 3239 2228 \nQ 2838 1875 2053 1875 \nL 1259 1875 \nL 1259 0 \nL 628 0 \nL 628 4666 \nz\n\" id=\"DejaVuSans-50\" transform=\"scale(0.015625)\"/>\n      <path d=\"M 3116 1747 \nQ 3116 2381 2855 2742 \nQ 2594 3103 2138 3103 \nQ 1681 3103 1420 2742 \nQ 1159 2381 1159 1747 \nQ 1159 1113 1420 752 \nQ 1681 391 2138 391 \nQ 2594 391 2855 752 \nQ 3116 1113 3116 1747 \nz\nM 1159 2969 \nQ 1341 3281 1617 3432 \nQ 1894 3584 2278 3584 \nQ 2916 3584 3314 3078 \nQ 3713 2572 3713 1747 \nQ 3713 922 3314 415 \nQ 2916 -91 2278 -91 \nQ 1894 -91 1617 61 \nQ 1341 213 1159 525 \nL 1159 0 \nL 581 0 \nL 581 4863 \nL 1159 4863 \nL 1159 2969 \nz\n\" id=\"DejaVuSans-62\" transform=\"scale(0.015625)\"/>\n      <path d=\"M 2059 -325 \nQ 1816 -950 1584 -1140 \nQ 1353 -1331 966 -1331 \nL 506 -1331 \nL 506 -850 \nL 844 -850 \nQ 1081 -850 1212 -737 \nQ 1344 -625 1503 -206 \nL 1606 56 \nL 191 3500 \nL 800 3500 \nL 1894 763 \nL 2988 3500 \nL 3597 3500 \nL 2059 -325 \nz\n\" id=\"DejaVuSans-79\" transform=\"scale(0.015625)\"/>\n     </defs>\n     <use xlink:href=\"#DejaVuSans-50\"/>\n     <use x=\"58.552734\" xlink:href=\"#DejaVuSans-72\"/>\n     <use x=\"97.416016\" xlink:href=\"#DejaVuSans-6f\"/>\n     <use x=\"158.597656\" xlink:href=\"#DejaVuSans-62\"/>\n     <use x=\"222.074219\" xlink:href=\"#DejaVuSans-61\"/>\n     <use x=\"283.353516\" xlink:href=\"#DejaVuSans-62\"/>\n     <use x=\"346.830078\" xlink:href=\"#DejaVuSans-69\"/>\n     <use x=\"374.613281\" xlink:href=\"#DejaVuSans-6c\"/>\n     <use x=\"402.396484\" xlink:href=\"#DejaVuSans-69\"/>\n     <use x=\"430.179688\" xlink:href=\"#DejaVuSans-74\"/>\n     <use x=\"469.388672\" xlink:href=\"#DejaVuSans-79\"/>\n     <use x=\"528.568359\" xlink:href=\"#DejaVuSans-20\"/>\n     <use x=\"560.355469\" xlink:href=\"#DejaVuSans-50\"/>\n     <use x=\"620.658203\" xlink:href=\"#DejaVuSans-6c\"/>\n     <use x=\"648.441406\" xlink:href=\"#DejaVuSans-6f\"/>\n     <use x=\"709.623047\" xlink:href=\"#DejaVuSans-74\"/>\n    </g>\n   </g>\n  </g>\n </g>\n <defs>\n  <clipPath id=\"peab22c782e\">\n   <rect height=\"217.44\" width=\"334.8\" x=\"68.070312\" y=\"22.318125\"/>\n  </clipPath>\n </defs>\n</svg>\n",
      "image/png": "[encoded data removed]"
     },
     "metadata": {
      "needs_background": "light"
     }
    }
   ],
   "source": [
    "qq = stats.probplot(y_test-predictions, plot=plt)"
   ]
  },
  {
   "cell_type": "code",
   "execution_count": 24,
   "metadata": {},
   "outputs": [
    {
     "output_type": "stream",
     "name": "stdout",
     "text": [
      "                            OLS Regression Results                            \n==============================================================================\nDep. Variable:                 SALARY   R-squared:                       0.135\nModel:                            OLS   Adj. R-squared:                  0.131\nMethod:                 Least Squares   F-statistic:                     34.11\nDate:                Wed, 02 Jun 2021   Prob (F-statistic):           1.88e-08\nTime:                        23:48:00   Log-Likelihood:                -2204.4\nNo. Observations:                 220   AIC:                             4413.\nDf Residuals:                     218   BIC:                             4420.\nDf Model:                           1                                         \nCovariance Type:            nonrobust                                         \n==============================================================================\n                 coef    std err          t      P>|t|      [0.025      0.975]\n------------------------------------------------------------------------------\nconst       2.224e+04   1103.912     20.151      0.000    2.01e+04    2.44e+04\nJOBCAT      5457.8177    934.495      5.840      0.000    3616.017    7299.618\n==============================================================================\nOmnibus:                       13.288   Durbin-Watson:                   2.203\nProb(Omnibus):                  0.001   Jarque-Bera (JB):               14.628\nSkew:                           0.623   Prob(JB):                     0.000666\nKurtosis:                       2.796   Cond. No.                         5.91\n==============================================================================\n\nNotes:\n[1] Standard Errors assume that the covariance matrix of the errors is correctly specified.\n"
     ]
    }
   ],
   "source": [
    "X_train_sms = sms.add_constant(X_train)\n",
    "ls=sms.OLS(y_train,X_train_sms).fit()\n",
    "print(ls.summary())"
   ]
  },
  {
   "cell_type": "code",
   "execution_count": null,
   "metadata": {},
   "outputs": [],
   "source": []
  },
  {
   "cell_type": "code",
   "execution_count": 39,
   "metadata": {},
   "outputs": [
    {
     "output_type": "execute_result",
     "data": {
      "text/plain": [
       "<AxesSubplot:xlabel='SALBEGIN', ylabel='SALARY'>"
      ]
     },
     "metadata": {},
     "execution_count": 39
    },
    {
     "output_type": "display_data",
     "data": {
      "text/plain": "<Figure size 432x288 with 1 Axes>",
      "image/svg+xml": "<?xml version=\"1.0\" encoding=\"utf-8\" standalone=\"no\"?>\n<!DOCTYPE svg PUBLIC \"-//W3C//DTD SVG 1.1//EN\"\n  \"http://www.w3.org/Graphics/SVG/1.1/DTD/svg11.dtd\">\n<svg height=\"262.19625pt\" version=\"1.1\" viewBox=\"0 0 408.741193 262.19625\" width=\"408.741193pt\" xmlns=\"http://www.w3.org/2000/svg\" xmlns:xlink=\"http://www.w3.org/1999/xlink\">\n <metadata>\n  <rdf:RDF xmlns:cc=\"http://creativecommons.org/ns#\" xmlns:dc=\"http://purl.org/dc/elements/1.1/\" xmlns:rdf=\"http://www.w3.org/1999/02/22-rdf-syntax-ns#\">\n   <cc:Work>\n    <dc:type rdf:resource=\"http://purl.org/dc/dcmitype/StillImage\"/>\n    <dc:date>2021-06-03T21:09:13.047804</dc:date>\n    <dc:format>image/svg+xml</dc:format>\n    <dc:creator>\n     <cc:Agent>\n      <dc:title>Matplotlib v3.4.2, https://matplotlib.org/</dc:title>\n     </cc:Agent>\n    </dc:creator>\n   </cc:Work>\n  </rdf:RDF>\n </metadata>\n <defs>\n  <style type=\"text/css\">*{stroke-linecap:butt;stroke-linejoin:round;}</style>\n </defs>\n <g id=\"figure_1\">\n  <g id=\"patch_1\">\n   <path d=\"M 0 262.19625 \nL 408.741193 262.19625 \nL 408.741193 0 \nL 0 0 \nz\n\" style=\"fill:none;\"/>\n  </g>\n  <g id=\"axes_1\">\n   <g id=\"patch_2\">\n    <path d=\"M 66.053125 224.64 \nL 400.853125 224.64 \nL 400.853125 7.2 \nL 66.053125 7.2 \nz\n\" style=\"fill:#ffffff;\"/>\n   </g>\n   <g id=\"PathCollection_1\">\n    <defs>\n     <path d=\"M 0 3 \nC 0.795609 3 1.55874 2.683901 2.12132 2.12132 \nC 2.683901 1.55874 3 0.795609 3 0 \nC 3 -0.795609 2.683901 -1.55874 2.12132 -2.12132 \nC 1.55874 -2.683901 0.795609 -3 0 -3 \nC -0.795609 -3 -1.55874 -2.683901 -2.12132 -2.12132 \nC -2.683901 -1.55874 -3 -0.795609 -3 0 \nC -3 0.795609 -2.683901 1.55874 -2.12132 2.12132 \nC -1.55874 2.683901 -0.795609 3 0 3 \nz\n\" id=\"m6b1deca8eb\" style=\"stroke:#ffffff;stroke-width:0.48;\"/>\n    </defs>\n    <g clip-path=\"url(#p8ddd7419ae)\">\n     <use style=\"fill:#1f77b4;stroke:#ffffff;stroke-width:0.48;\" x=\"121.554729\" xlink:href=\"#m6b1deca8eb\" y=\"195.535125\"/>\n     <use style=\"fill:#1f77b4;stroke:#ffffff;stroke-width:0.48;\" x=\"99.17505\" xlink:href=\"#m6b1deca8eb\" y=\"198.513063\"/>\n     <use style=\"fill:#1f77b4;stroke:#ffffff;stroke-width:0.48;\" x=\"108.126922\" xlink:href=\"#m6b1deca8eb\" y=\"192.827908\"/>\n     <use style=\"fill:#1f77b4;stroke:#ffffff;stroke-width:0.48;\" x=\"281.077082\" xlink:href=\"#m6b1deca8eb\" y=\"118.198968\"/>\n     <use style=\"fill:#1f77b4;stroke:#ffffff;stroke-width:0.48;\" x=\"206.59751\" xlink:href=\"#m6b1deca8eb\" y=\"102.181269\"/>\n     <use style=\"fill:#1f77b4;stroke:#ffffff;stroke-width:0.48;\" x=\"134.982537\" xlink:href=\"#m6b1deca8eb\" y=\"194.452238\"/>\n     <use style=\"fill:#1f77b4;stroke:#ffffff;stroke-width:0.48;\" x=\"88.432804\" xlink:href=\"#m6b1deca8eb\" y=\"213.944199\"/>\n     <use style=\"fill:#1f77b4;stroke:#ffffff;stroke-width:0.48;\" x=\"126.030665\" xlink:href=\"#m6b1deca8eb\" y=\"183.35265\"/>\n     <use style=\"fill:#1f77b4;stroke:#ffffff;stroke-width:0.48;\" x=\"92.90874\" xlink:href=\"#m6b1deca8eb\" y=\"206.363992\"/>\n     <use style=\"fill:#1f77b4;stroke:#ffffff;stroke-width:0.48;\" x=\"117.078793\" xlink:href=\"#m6b1deca8eb\" y=\"186.60131\"/>\n     <use style=\"fill:#1f77b4;stroke:#ffffff;stroke-width:0.48;\" x=\"134.982537\" xlink:href=\"#m6b1deca8eb\" y=\"191.4743\"/>\n     <use style=\"fill:#1f77b4;stroke:#ffffff;stroke-width:0.48;\" x=\"117.078793\" xlink:href=\"#m6b1deca8eb\" y=\"196.618012\"/>\n     <use style=\"fill:#1f77b4;stroke:#ffffff;stroke-width:0.48;\" x=\"117.078793\" xlink:href=\"#m6b1deca8eb\" y=\"169.545845\"/>\n     <use style=\"fill:#1f77b4;stroke:#ffffff;stroke-width:0.48;\" x=\"143.934408\" xlink:href=\"#m6b1deca8eb\" y=\"181.999042\"/>\n     <use style=\"fill:#1f77b4;stroke:#ffffff;stroke-width:0.48;\" x=\"266.216975\" xlink:href=\"#m6b1deca8eb\" y=\"77.139514\"/>\n     <use style=\"fill:#1f77b4;stroke:#ffffff;stroke-width:0.48;\" x=\"111.70767\" xlink:href=\"#m6b1deca8eb\" y=\"197.700898\"/>\n     <use style=\"fill:#1f77b4;stroke:#ffffff;stroke-width:0.48;\" x=\"99.17505\" xlink:href=\"#m6b1deca8eb\" y=\"205.551827\"/>\n     <use style=\"fill:#1f77b4;stroke:#ffffff;stroke-width:0.48;\" x=\"179.741895\" xlink:href=\"#m6b1deca8eb\" y=\"170.899453\"/>\n     <use style=\"fill:#1f77b4;stroke:#ffffff;stroke-width:0.48;\" x=\"161.838152\" xlink:href=\"#m6b1deca8eb\" y=\"133.765464\"/>\n     <use style=\"fill:#1f77b4;stroke:#ffffff;stroke-width:0.48;\" x=\"105.44136\" xlink:href=\"#m6b1deca8eb\" y=\"195.264403\"/>\n     <use style=\"fill:#1f77b4;stroke:#ffffff;stroke-width:0.48;\" x=\"206.59751\" xlink:href=\"#m6b1deca8eb\" y=\"140.759107\"/>\n     <use style=\"fill:#1f77b4;stroke:#ffffff;stroke-width:0.48;\" x=\"108.126922\" xlink:href=\"#m6b1deca8eb\" y=\"179.562546\"/>\n     <use style=\"fill:#1f77b4;stroke:#ffffff;stroke-width:0.48;\" x=\"121.554729\" xlink:href=\"#m6b1deca8eb\" y=\"201.22028\"/>\n     <use style=\"fill:#1f77b4;stroke:#ffffff;stroke-width:0.48;\" x=\"287.164355\" xlink:href=\"#m6b1deca8eb\" y=\"115.26615\"/>\n     <use style=\"fill:#1f77b4;stroke:#ffffff;stroke-width:0.48;\" x=\"121.554729\" xlink:href=\"#m6b1deca8eb\" y=\"189.037805\"/>\n     <use style=\"fill:#1f77b4;stroke:#ffffff;stroke-width:0.48;\" x=\"117.078793\" xlink:href=\"#m6b1deca8eb\" y=\"178.208938\"/>\n     <use style=\"fill:#1f77b4;stroke:#ffffff;stroke-width:0.48;\" x=\"236.317724\" xlink:href=\"#m6b1deca8eb\" y=\"121.357387\"/>\n     <use style=\"fill:#1f77b4;stroke:#ffffff;stroke-width:0.48;\" x=\"92.90874\" xlink:href=\"#m6b1deca8eb\" y=\"199.054507\"/>\n     <use style=\"fill:#1f77b4;stroke:#ffffff;stroke-width:0.48;\" x=\"85.747243\" xlink:href=\"#m6b1deca8eb\" y=\"203.656775\"/>\n     <use style=\"fill:#1f77b4;stroke:#ffffff;stroke-width:0.48;\" x=\"236.496761\" xlink:href=\"#m6b1deca8eb\" y=\"68.115459\"/>\n     <use style=\"fill:#1f77b4;stroke:#ffffff;stroke-width:0.48;\" x=\"103.650986\" xlink:href=\"#m6b1deca8eb\" y=\"190.662135\"/>\n     <use style=\"fill:#1f77b4;stroke:#ffffff;stroke-width:0.48;\" x=\"129.611414\" xlink:href=\"#m6b1deca8eb\" y=\"196.34729\"/>\n     <use style=\"fill:#1f77b4;stroke:#ffffff;stroke-width:0.48;\" x=\"100.070237\" xlink:href=\"#m6b1deca8eb\" y=\"180.916155\"/>\n     <use style=\"fill:#1f77b4;stroke:#ffffff;stroke-width:0.48;\" x=\"139.458473\" xlink:href=\"#m6b1deca8eb\" y=\"186.330588\"/>\n     <use style=\"fill:#1f77b4;stroke:#ffffff;stroke-width:0.48;\" x=\"114.393232\" xlink:href=\"#m6b1deca8eb\" y=\"180.374711\"/>\n     <use style=\"fill:#1f77b4;stroke:#ffffff;stroke-width:0.48;\" x=\"117.078793\" xlink:href=\"#m6b1deca8eb\" y=\"194.993682\"/>\n     <use style=\"fill:#1f77b4;stroke:#ffffff;stroke-width:0.48;\" x=\"103.650986\" xlink:href=\"#m6b1deca8eb\" y=\"197.97162\"/>\n     <use style=\"fill:#1f77b4;stroke:#ffffff;stroke-width:0.48;\" x=\"101.860612\" xlink:href=\"#m6b1deca8eb\" y=\"190.662135\"/>\n     <use style=\"fill:#1f77b4;stroke:#ffffff;stroke-width:0.48;\" x=\"117.078793\" xlink:href=\"#m6b1deca8eb\" y=\"187.413475\"/>\n     <use style=\"fill:#1f77b4;stroke:#ffffff;stroke-width:0.48;\" x=\"126.030665\" xlink:href=\"#m6b1deca8eb\" y=\"189.037805\"/>\n     <use style=\"fill:#1f77b4;stroke:#ffffff;stroke-width:0.48;\" x=\"134.982537\" xlink:href=\"#m6b1deca8eb\" y=\"184.435537\"/>\n     <use style=\"fill:#1f77b4;stroke:#ffffff;stroke-width:0.48;\" x=\"121.554729\" xlink:href=\"#m6b1deca8eb\" y=\"189.84997\"/>\n     <use style=\"fill:#1f77b4;stroke:#ffffff;stroke-width:0.48;\" x=\"290.745104\" xlink:href=\"#m6b1deca8eb\" y=\"62.701025\"/>\n     <use style=\"fill:#1f77b4;stroke:#ffffff;stroke-width:0.48;\" x=\"121.554729\" xlink:href=\"#m6b1deca8eb\" y=\"172.253061\"/>\n     <use style=\"fill:#1f77b4;stroke:#ffffff;stroke-width:0.48;\" x=\"94.699114\" xlink:href=\"#m6b1deca8eb\" y=\"204.739662\"/>\n     <use style=\"fill:#1f77b4;stroke:#ffffff;stroke-width:0.48;\" x=\"81.271307\" xlink:href=\"#m6b1deca8eb\" y=\"212.59059\"/>\n     <use style=\"fill:#1f77b4;stroke:#ffffff;stroke-width:0.48;\" x=\"130.506601\" xlink:href=\"#m6b1deca8eb\" y=\"170.628731\"/>\n     <use style=\"fill:#1f77b4;stroke:#ffffff;stroke-width:0.48;\" x=\"111.70767\" xlink:href=\"#m6b1deca8eb\" y=\"187.684197\"/>\n     <use style=\"fill:#1f77b4;stroke:#ffffff;stroke-width:0.48;\" x=\"103.650986\" xlink:href=\"#m6b1deca8eb\" y=\"202.573888\"/>\n     <use style=\"fill:#1f77b4;stroke:#ffffff;stroke-width:0.48;\" x=\"126.030665\" xlink:href=\"#m6b1deca8eb\" y=\"180.374711\"/>\n     <use style=\"fill:#1f77b4;stroke:#ffffff;stroke-width:0.48;\" x=\"143.934408\" xlink:href=\"#m6b1deca8eb\" y=\"183.894093\"/>\n     <use style=\"fill:#1f77b4;stroke:#ffffff;stroke-width:0.48;\" x=\"121.554729\" xlink:href=\"#m6b1deca8eb\" y=\"179.562546\"/>\n     <use style=\"fill:#1f77b4;stroke:#ffffff;stroke-width:0.48;\" x=\"191.558366\" xlink:href=\"#m6b1deca8eb\" y=\"119.101373\"/>\n     <use style=\"fill:#1f77b4;stroke:#ffffff;stroke-width:0.48;\" x=\"88.432804\" xlink:href=\"#m6b1deca8eb\" y=\"207.446879\"/>\n     <use style=\"fill:#1f77b4;stroke:#ffffff;stroke-width:0.48;\" x=\"94.699114\" xlink:href=\"#m6b1deca8eb\" y=\"201.491002\"/>\n     <use style=\"fill:#1f77b4;stroke:#ffffff;stroke-width:0.48;\" x=\"224.501253\" xlink:href=\"#m6b1deca8eb\" y=\"157.363369\"/>\n     <use style=\"fill:#1f77b4;stroke:#ffffff;stroke-width:0.48;\" x=\"179.741895\" xlink:href=\"#m6b1deca8eb\" y=\"144.098008\"/>\n     <use style=\"fill:#1f77b4;stroke:#ffffff;stroke-width:0.48;\" x=\"112.602858\" xlink:href=\"#m6b1deca8eb\" y=\"195.264403\"/>\n     <use style=\"fill:#1f77b4;stroke:#ffffff;stroke-width:0.48;\" x=\"121.554729\" xlink:href=\"#m6b1deca8eb\" y=\"195.805847\"/>\n     <use style=\"fill:#1f77b4;stroke:#ffffff;stroke-width:0.48;\" x=\"188.693767\" xlink:href=\"#m6b1deca8eb\" y=\"140.307904\"/>\n     <use style=\"fill:#1f77b4;stroke:#ffffff;stroke-width:0.48;\" x=\"191.737403\" xlink:href=\"#m6b1deca8eb\" y=\"119.101373\"/>\n     <use style=\"fill:#1f77b4;stroke:#ffffff;stroke-width:0.48;\" x=\"112.602858\" xlink:href=\"#m6b1deca8eb\" y=\"198.513063\"/>\n     <use style=\"fill:#1f77b4;stroke:#ffffff;stroke-width:0.48;\" x=\"112.602858\" xlink:href=\"#m6b1deca8eb\" y=\"196.888733\"/>\n     <use style=\"fill:#1f77b4;stroke:#ffffff;stroke-width:0.48;\" x=\"121.554729\" xlink:href=\"#m6b1deca8eb\" y=\"189.308527\"/>\n     <use style=\"fill:#1f77b4;stroke:#ffffff;stroke-width:0.48;\" x=\"103.650986\" xlink:href=\"#m6b1deca8eb\" y=\"199.59595\"/>\n     <use style=\"fill:#1f77b4;stroke:#ffffff;stroke-width:0.48;\" x=\"108.126922\" xlink:href=\"#m6b1deca8eb\" y=\"200.678837\"/>\n     <use style=\"fill:#1f77b4;stroke:#ffffff;stroke-width:0.48;\" x=\"94.699114\" xlink:href=\"#m6b1deca8eb\" y=\"205.551827\"/>\n     <use style=\"fill:#1f77b4;stroke:#ffffff;stroke-width:0.48;\" x=\"117.078793\" xlink:href=\"#m6b1deca8eb\" y=\"193.369352\"/>\n     <use style=\"fill:#1f77b4;stroke:#ffffff;stroke-width:0.48;\" x=\"121.554729\" xlink:href=\"#m6b1deca8eb\" y=\"199.866672\"/>\n     <use style=\"fill:#1f77b4;stroke:#ffffff;stroke-width:0.48;\" x=\"123.345104\" xlink:href=\"#m6b1deca8eb\" y=\"195.805847\"/>\n     <use style=\"fill:#1f77b4;stroke:#ffffff;stroke-width:0.48;\" x=\"224.501253\" xlink:href=\"#m6b1deca8eb\" y=\"132.637457\"/>\n     <use style=\"fill:#1f77b4;stroke:#ffffff;stroke-width:0.48;\" x=\"88.432804\" xlink:href=\"#m6b1deca8eb\" y=\"207.176157\"/>\n     <use style=\"fill:#1f77b4;stroke:#ffffff;stroke-width:0.48;\" x=\"107.231735\" xlink:href=\"#m6b1deca8eb\" y=\"179.021103\"/>\n     <use style=\"fill:#1f77b4;stroke:#ffffff;stroke-width:0.48;\" x=\"121.554729\" xlink:href=\"#m6b1deca8eb\" y=\"174.960278\"/>\n     <use style=\"fill:#1f77b4;stroke:#ffffff;stroke-width:0.48;\" x=\"88.432804\" xlink:href=\"#m6b1deca8eb\" y=\"212.319869\"/>\n     <use style=\"fill:#1f77b4;stroke:#ffffff;stroke-width:0.48;\" x=\"110.812483\" xlink:href=\"#m6b1deca8eb\" y=\"207.7176\"/>\n     <use style=\"fill:#1f77b4;stroke:#ffffff;stroke-width:0.48;\" x=\"130.506601\" xlink:href=\"#m6b1deca8eb\" y=\"193.910795\"/>\n     <use style=\"fill:#1f77b4;stroke:#ffffff;stroke-width:0.48;\" x=\"130.506601\" xlink:href=\"#m6b1deca8eb\" y=\"180.916155\"/>\n     <use style=\"fill:#1f77b4;stroke:#ffffff;stroke-width:0.48;\" x=\"191.558366\" xlink:href=\"#m6b1deca8eb\" y=\"150.685568\"/>\n     <use style=\"fill:#1f77b4;stroke:#ffffff;stroke-width:0.48;\" x=\"148.410344\" xlink:href=\"#m6b1deca8eb\" y=\"169.004401\"/>\n     <use style=\"fill:#1f77b4;stroke:#ffffff;stroke-width:0.48;\" x=\"113.498045\" xlink:href=\"#m6b1deca8eb\" y=\"197.159455\"/>\n     <use style=\"fill:#1f77b4;stroke:#ffffff;stroke-width:0.48;\" x=\"120.659542\" xlink:href=\"#m6b1deca8eb\" y=\"195.805847\"/>\n     <use style=\"fill:#1f77b4;stroke:#ffffff;stroke-width:0.48;\" x=\"87.537617\" xlink:href=\"#m6b1deca8eb\" y=\"198.783785\"/>\n     <use style=\"fill:#1f77b4;stroke:#ffffff;stroke-width:0.48;\" x=\"108.126922\" xlink:href=\"#m6b1deca8eb\" y=\"183.081928\"/>\n     <use style=\"fill:#1f77b4;stroke:#ffffff;stroke-width:0.48;\" x=\"94.699114\" xlink:href=\"#m6b1deca8eb\" y=\"198.242342\"/>\n     <use style=\"fill:#1f77b4;stroke:#ffffff;stroke-width:0.48;\" x=\"152.88628\" xlink:href=\"#m6b1deca8eb\" y=\"141.21031\"/>\n     <use style=\"fill:#1f77b4;stroke:#ffffff;stroke-width:0.48;\" x=\"92.90874\" xlink:href=\"#m6b1deca8eb\" y=\"203.386053\"/>\n     <use style=\"fill:#1f77b4;stroke:#ffffff;stroke-width:0.48;\" x=\"109.917296\" xlink:href=\"#m6b1deca8eb\" y=\"203.115332\"/>\n     <use style=\"fill:#1f77b4;stroke:#ffffff;stroke-width:0.48;\" x=\"126.030665\" xlink:href=\"#m6b1deca8eb\" y=\"181.999042\"/>\n     <use style=\"fill:#1f77b4;stroke:#ffffff;stroke-width:0.48;\" x=\"90.223178\" xlink:href=\"#m6b1deca8eb\" y=\"201.761723\"/>\n     <use style=\"fill:#1f77b4;stroke:#ffffff;stroke-width:0.48;\" x=\"121.554729\" xlink:href=\"#m6b1deca8eb\" y=\"185.518423\"/>\n     <use style=\"fill:#1f77b4;stroke:#ffffff;stroke-width:0.48;\" x=\"199.077938\" xlink:href=\"#m6b1deca8eb\" y=\"101.504465\"/>\n     <use style=\"fill:#1f77b4;stroke:#ffffff;stroke-width:0.48;\" x=\"206.59751\" xlink:href=\"#m6b1deca8eb\" y=\"96.541234\"/>\n     <use style=\"fill:#1f77b4;stroke:#ffffff;stroke-width:0.48;\" x=\"130.506601\" xlink:href=\"#m6b1deca8eb\" y=\"178.750381\"/>\n     <use style=\"fill:#1f77b4;stroke:#ffffff;stroke-width:0.48;\" x=\"94.699114\" xlink:href=\"#m6b1deca8eb\" y=\"200.949558\"/>\n     <use style=\"fill:#1f77b4;stroke:#ffffff;stroke-width:0.48;\" x=\"121.554729\" xlink:href=\"#m6b1deca8eb\" y=\"98.797248\"/>\n     <use style=\"fill:#1f77b4;stroke:#ffffff;stroke-width:0.48;\" x=\"126.030665\" xlink:href=\"#m6b1deca8eb\" y=\"173.60667\"/>\n     <use style=\"fill:#1f77b4;stroke:#ffffff;stroke-width:0.48;\" x=\"112.602858\" xlink:href=\"#m6b1deca8eb\" y=\"186.059867\"/>\n     <use style=\"fill:#1f77b4;stroke:#ffffff;stroke-width:0.48;\" x=\"104.546173\" xlink:href=\"#m6b1deca8eb\" y=\"194.993682\"/>\n     <use style=\"fill:#1f77b4;stroke:#ffffff;stroke-width:0.48;\" x=\"96.489489\" xlink:href=\"#m6b1deca8eb\" y=\"190.391413\"/>\n     <use style=\"fill:#1f77b4;stroke:#ffffff;stroke-width:0.48;\" x=\"94.699114\" xlink:href=\"#m6b1deca8eb\" y=\"202.303167\"/>\n     <use style=\"fill:#1f77b4;stroke:#ffffff;stroke-width:0.48;\" x=\"117.078793\" xlink:href=\"#m6b1deca8eb\" y=\"182.269763\"/>\n     <use style=\"fill:#1f77b4;stroke:#ffffff;stroke-width:0.48;\" x=\"93.803927\" xlink:href=\"#m6b1deca8eb\" y=\"199.866672\"/>\n     <use style=\"fill:#1f77b4;stroke:#ffffff;stroke-width:0.48;\" x=\"126.030665\" xlink:href=\"#m6b1deca8eb\" y=\"203.115332\"/>\n     <use style=\"fill:#1f77b4;stroke:#ffffff;stroke-width:0.48;\" x=\"143.934408\" xlink:href=\"#m6b1deca8eb\" y=\"164.672855\"/>\n     <use style=\"fill:#1f77b4;stroke:#ffffff;stroke-width:0.48;\" x=\"94.699114\" xlink:href=\"#m6b1deca8eb\" y=\"200.949558\"/>\n     <use style=\"fill:#1f77b4;stroke:#ffffff;stroke-width:0.48;\" x=\"139.458473\" xlink:href=\"#m6b1deca8eb\" y=\"145.045533\"/>\n     <use style=\"fill:#1f77b4;stroke:#ffffff;stroke-width:0.48;\" x=\"121.554729\" xlink:href=\"#m6b1deca8eb\" y=\"194.993682\"/>\n     <use style=\"fill:#1f77b4;stroke:#ffffff;stroke-width:0.48;\" x=\"117.078793\" xlink:href=\"#m6b1deca8eb\" y=\"199.325228\"/>\n     <use style=\"fill:#1f77b4;stroke:#ffffff;stroke-width:0.48;\" x=\"121.554729\" xlink:href=\"#m6b1deca8eb\" y=\"186.059867\"/>\n     <use style=\"fill:#1f77b4;stroke:#ffffff;stroke-width:0.48;\" x=\"199.077938\" xlink:href=\"#m6b1deca8eb\" y=\"112.333332\"/>\n     <use style=\"fill:#1f77b4;stroke:#ffffff;stroke-width:0.48;\" x=\"126.030665\" xlink:href=\"#m6b1deca8eb\" y=\"190.120692\"/>\n     <use style=\"fill:#1f77b4;stroke:#ffffff;stroke-width:0.48;\" x=\"117.078793\" xlink:href=\"#m6b1deca8eb\" y=\"197.430177\"/>\n     <use style=\"fill:#1f77b4;stroke:#ffffff;stroke-width:0.48;\" x=\"117.078793\" xlink:href=\"#m6b1deca8eb\" y=\"187.684197\"/>\n     <use style=\"fill:#1f77b4;stroke:#ffffff;stroke-width:0.48;\" x=\"99.17505\" xlink:href=\"#m6b1deca8eb\" y=\"201.491002\"/>\n     <use style=\"fill:#1f77b4;stroke:#ffffff;stroke-width:0.48;\" x=\"92.90874\" xlink:href=\"#m6b1deca8eb\" y=\"197.97162\"/>\n     <use style=\"fill:#1f77b4;stroke:#ffffff;stroke-width:0.48;\" x=\"228.977189\" xlink:href=\"#m6b1deca8eb\" y=\"143.015121\"/>\n     <use style=\"fill:#1f77b4;stroke:#ffffff;stroke-width:0.48;\" x=\"85.747243\" xlink:href=\"#m6b1deca8eb\" y=\"207.7176\"/>\n     <use style=\"fill:#1f77b4;stroke:#ffffff;stroke-width:0.48;\" x=\"121.554729\" xlink:href=\"#m6b1deca8eb\" y=\"193.640073\"/>\n     <use style=\"fill:#1f77b4;stroke:#ffffff;stroke-width:0.48;\" x=\"108.126922\" xlink:href=\"#m6b1deca8eb\" y=\"195.535125\"/>\n     <use style=\"fill:#1f77b4;stroke:#ffffff;stroke-width:0.48;\" x=\"155.750879\" xlink:href=\"#m6b1deca8eb\" y=\"161.514435\"/>\n     <use style=\"fill:#1f77b4;stroke:#ffffff;stroke-width:0.48;\" x=\"105.44136\" xlink:href=\"#m6b1deca8eb\" y=\"207.7176\"/>\n     <use style=\"fill:#1f77b4;stroke:#ffffff;stroke-width:0.48;\" x=\"139.458473\" xlink:href=\"#m6b1deca8eb\" y=\"170.628731\"/>\n     <use style=\"fill:#1f77b4;stroke:#ffffff;stroke-width:0.48;\" x=\"121.554729\" xlink:href=\"#m6b1deca8eb\" y=\"185.518423\"/>\n     <use style=\"fill:#1f77b4;stroke:#ffffff;stroke-width:0.48;\" x=\"112.602858\" xlink:href=\"#m6b1deca8eb\" y=\"205.822549\"/>\n     <use style=\"fill:#1f77b4;stroke:#ffffff;stroke-width:0.48;\" x=\"121.554729\" xlink:href=\"#m6b1deca8eb\" y=\"175.231\"/>\n     <use style=\"fill:#1f77b4;stroke:#ffffff;stroke-width:0.48;\" x=\"108.126922\" xlink:href=\"#m6b1deca8eb\" y=\"204.198218\"/>\n     <use style=\"fill:#1f77b4;stroke:#ffffff;stroke-width:0.48;\" x=\"218.593018\" xlink:href=\"#m6b1deca8eb\" y=\"120.22938\"/>\n     <use style=\"fill:#1f77b4;stroke:#ffffff;stroke-width:0.48;\" x=\"108.126922\" xlink:href=\"#m6b1deca8eb\" y=\"200.408115\"/>\n     <use style=\"fill:#1f77b4;stroke:#ffffff;stroke-width:0.48;\" x=\"385.634943\" xlink:href=\"#m6b1deca8eb\" y=\"56.384186\"/>\n     <use style=\"fill:#1f77b4;stroke:#ffffff;stroke-width:0.48;\" x=\"88.432804\" xlink:href=\"#m6b1deca8eb\" y=\"204.46894\"/>\n     <use style=\"fill:#1f77b4;stroke:#ffffff;stroke-width:0.48;\" x=\"88.432804\" xlink:href=\"#m6b1deca8eb\" y=\"214.485642\"/>\n     <use style=\"fill:#1f77b4;stroke:#ffffff;stroke-width:0.48;\" x=\"143.934408\" xlink:href=\"#m6b1deca8eb\" y=\"170.628731\"/>\n     <use style=\"fill:#1f77b4;stroke:#ffffff;stroke-width:0.48;\" x=\"117.078793\" xlink:href=\"#m6b1deca8eb\" y=\"195.264403\"/>\n     <use style=\"fill:#1f77b4;stroke:#ffffff;stroke-width:0.48;\" x=\"152.88628\" xlink:href=\"#m6b1deca8eb\" y=\"170.628731\"/>\n     <use style=\"fill:#1f77b4;stroke:#ffffff;stroke-width:0.48;\" x=\"108.126922\" xlink:href=\"#m6b1deca8eb\" y=\"194.993682\"/>\n     <use style=\"fill:#1f77b4;stroke:#ffffff;stroke-width:0.48;\" x=\"112.602858\" xlink:href=\"#m6b1deca8eb\" y=\"166.838628\"/>\n     <use style=\"fill:#1f77b4;stroke:#ffffff;stroke-width:0.48;\" x=\"94.699114\" xlink:href=\"#m6b1deca8eb\" y=\"206.905435\"/>\n     <use style=\"fill:#1f77b4;stroke:#ffffff;stroke-width:0.48;\" x=\"117.078793\" xlink:href=\"#m6b1deca8eb\" y=\"187.413475\"/>\n     <use style=\"fill:#1f77b4;stroke:#ffffff;stroke-width:0.48;\" x=\"108.126922\" xlink:href=\"#m6b1deca8eb\" y=\"194.72296\"/>\n     <use style=\"fill:#1f77b4;stroke:#ffffff;stroke-width:0.48;\" x=\"154.31858\" xlink:href=\"#m6b1deca8eb\" y=\"162.191239\"/>\n     <use style=\"fill:#1f77b4;stroke:#ffffff;stroke-width:0.48;\" x=\"94.699114\" xlink:href=\"#m6b1deca8eb\" y=\"204.739662\"/>\n     <use style=\"fill:#1f77b4;stroke:#ffffff;stroke-width:0.48;\" x=\"96.489489\" xlink:href=\"#m6b1deca8eb\" y=\"204.739662\"/>\n     <use style=\"fill:#1f77b4;stroke:#ffffff;stroke-width:0.48;\" x=\"90.223178\" xlink:href=\"#m6b1deca8eb\" y=\"209.34193\"/>\n     <use style=\"fill:#1f77b4;stroke:#ffffff;stroke-width:0.48;\" x=\"121.554729\" xlink:href=\"#m6b1deca8eb\" y=\"194.181517\"/>\n     <use style=\"fill:#1f77b4;stroke:#ffffff;stroke-width:0.48;\" x=\"109.917296\" xlink:href=\"#m6b1deca8eb\" y=\"199.866672\"/>\n     <use style=\"fill:#1f77b4;stroke:#ffffff;stroke-width:0.48;\" x=\"143.934408\" xlink:href=\"#m6b1deca8eb\" y=\"164.402133\"/>\n     <use style=\"fill:#1f77b4;stroke:#ffffff;stroke-width:0.48;\" x=\"103.650986\" xlink:href=\"#m6b1deca8eb\" y=\"192.286465\"/>\n     <use style=\"fill:#1f77b4;stroke:#ffffff;stroke-width:0.48;\" x=\"143.934408\" xlink:href=\"#m6b1deca8eb\" y=\"148.158833\"/>\n     <use style=\"fill:#1f77b4;stroke:#ffffff;stroke-width:0.48;\" x=\"99.17505\" xlink:href=\"#m6b1deca8eb\" y=\"193.09863\"/>\n     <use style=\"fill:#1f77b4;stroke:#ffffff;stroke-width:0.48;\" x=\"134.982537\" xlink:href=\"#m6b1deca8eb\" y=\"177.126051\"/>\n     <use style=\"fill:#1f77b4;stroke:#ffffff;stroke-width:0.48;\" x=\"108.126922\" xlink:href=\"#m6b1deca8eb\" y=\"185.247702\"/>\n     <use style=\"fill:#1f77b4;stroke:#ffffff;stroke-width:0.48;\" x=\"143.934408\" xlink:href=\"#m6b1deca8eb\" y=\"151.948936\"/>\n     <use style=\"fill:#1f77b4;stroke:#ffffff;stroke-width:0.48;\" x=\"121.554729\" xlink:href=\"#m6b1deca8eb\" y=\"189.037805\"/>\n     <use style=\"fill:#1f77b4;stroke:#ffffff;stroke-width:0.48;\" x=\"103.650986\" xlink:href=\"#m6b1deca8eb\" y=\"200.137393\"/>\n     <use style=\"fill:#1f77b4;stroke:#ffffff;stroke-width:0.48;\" x=\"154.31858\" xlink:href=\"#m6b1deca8eb\" y=\"157.904813\"/>\n     <use style=\"fill:#1f77b4;stroke:#ffffff;stroke-width:0.48;\" x=\"88.432804\" xlink:href=\"#m6b1deca8eb\" y=\"212.59059\"/>\n     <use style=\"fill:#1f77b4;stroke:#ffffff;stroke-width:0.48;\" x=\"117.078793\" xlink:href=\"#m6b1deca8eb\" y=\"187.413475\"/>\n     <use style=\"fill:#1f77b4;stroke:#ffffff;stroke-width:0.48;\" x=\"99.17505\" xlink:href=\"#m6b1deca8eb\" y=\"197.159455\"/>\n     <use style=\"fill:#1f77b4;stroke:#ffffff;stroke-width:0.48;\" x=\"157.362216\" xlink:href=\"#m6b1deca8eb\" y=\"137.149485\"/>\n     <use style=\"fill:#1f77b4;stroke:#ffffff;stroke-width:0.48;\" x=\"96.489489\" xlink:href=\"#m6b1deca8eb\" y=\"194.993682\"/>\n     <use style=\"fill:#1f77b4;stroke:#ffffff;stroke-width:0.48;\" x=\"115.288419\" xlink:href=\"#m6b1deca8eb\" y=\"193.640073\"/>\n     <use style=\"fill:#1f77b4;stroke:#ffffff;stroke-width:0.48;\" x=\"112.602858\" xlink:href=\"#m6b1deca8eb\" y=\"196.888733\"/>\n     <use style=\"fill:#1f77b4;stroke:#ffffff;stroke-width:0.48;\" x=\"100.965424\" xlink:href=\"#m6b1deca8eb\" y=\"201.761723\"/>\n     <use style=\"fill:#1f77b4;stroke:#ffffff;stroke-width:0.48;\" x=\"126.030665\" xlink:href=\"#m6b1deca8eb\" y=\"188.496362\"/>\n     <use style=\"fill:#1f77b4;stroke:#ffffff;stroke-width:0.48;\" x=\"126.030665\" xlink:href=\"#m6b1deca8eb\" y=\"190.120692\"/>\n     <use style=\"fill:#1f77b4;stroke:#ffffff;stroke-width:0.48;\" x=\"101.860612\" xlink:href=\"#m6b1deca8eb\" y=\"192.827908\"/>\n     <use style=\"fill:#1f77b4;stroke:#ffffff;stroke-width:0.48;\" x=\"99.17505\" xlink:href=\"#m6b1deca8eb\" y=\"205.551827\"/>\n     <use style=\"fill:#1f77b4;stroke:#ffffff;stroke-width:0.48;\" x=\"92.90874\" xlink:href=\"#m6b1deca8eb\" y=\"198.513063\"/>\n     <use style=\"fill:#1f77b4;stroke:#ffffff;stroke-width:0.48;\" x=\"130.506601\" xlink:href=\"#m6b1deca8eb\" y=\"193.910795\"/>\n     <use style=\"fill:#1f77b4;stroke:#ffffff;stroke-width:0.48;\" x=\"99.17505\" xlink:href=\"#m6b1deca8eb\" y=\"197.159455\"/>\n     <use style=\"fill:#1f77b4;stroke:#ffffff;stroke-width:0.48;\" x=\"154.31858\" xlink:href=\"#m6b1deca8eb\" y=\"160.160827\"/>\n     <use style=\"fill:#1f77b4;stroke:#ffffff;stroke-width:0.48;\" x=\"92.90874\" xlink:href=\"#m6b1deca8eb\" y=\"207.7176\"/>\n     <use style=\"fill:#1f77b4;stroke:#ffffff;stroke-width:0.48;\" x=\"121.554729\" xlink:href=\"#m6b1deca8eb\" y=\"197.430177\"/>\n     <use style=\"fill:#1f77b4;stroke:#ffffff;stroke-width:0.48;\" x=\"221.457617\" xlink:href=\"#m6b1deca8eb\" y=\"122.485394\"/>\n     <use style=\"fill:#1f77b4;stroke:#ffffff;stroke-width:0.48;\" x=\"88.432804\" xlink:href=\"#m6b1deca8eb\" y=\"213.944199\"/>\n     <use style=\"fill:#1f77b4;stroke:#ffffff;stroke-width:0.48;\" x=\"113.498045\" xlink:href=\"#m6b1deca8eb\" y=\"197.700898\"/>\n     <use style=\"fill:#1f77b4;stroke:#ffffff;stroke-width:0.48;\" x=\"121.554729\" xlink:href=\"#m6b1deca8eb\" y=\"195.805847\"/>\n     <use style=\"fill:#1f77b4;stroke:#ffffff;stroke-width:0.48;\" x=\"103.650986\" xlink:href=\"#m6b1deca8eb\" y=\"204.46894\"/>\n     <use style=\"fill:#1f77b4;stroke:#ffffff;stroke-width:0.48;\" x=\"103.650986\" xlink:href=\"#m6b1deca8eb\" y=\"195.535125\"/>\n     <use style=\"fill:#1f77b4;stroke:#ffffff;stroke-width:0.48;\" x=\"96.489489\" xlink:href=\"#m6b1deca8eb\" y=\"200.678837\"/>\n     <use style=\"fill:#1f77b4;stroke:#ffffff;stroke-width:0.48;\" x=\"103.650986\" xlink:href=\"#m6b1deca8eb\" y=\"203.656775\"/>\n     <use style=\"fill:#1f77b4;stroke:#ffffff;stroke-width:0.48;\" x=\"206.59751\" xlink:href=\"#m6b1deca8eb\" y=\"136.021478\"/>\n     <use style=\"fill:#1f77b4;stroke:#ffffff;stroke-width:0.48;\" x=\"105.44136\" xlink:href=\"#m6b1deca8eb\" y=\"197.700898\"/>\n     <use style=\"fill:#1f77b4;stroke:#ffffff;stroke-width:0.48;\" x=\"281.25612\" xlink:href=\"#m6b1deca8eb\" y=\"107.821304\"/>\n     <use style=\"fill:#1f77b4;stroke:#ffffff;stroke-width:0.48;\" x=\"126.030665\" xlink:href=\"#m6b1deca8eb\" y=\"188.496362\"/>\n     <use style=\"fill:#1f77b4;stroke:#ffffff;stroke-width:0.48;\" x=\"99.17505\" xlink:href=\"#m6b1deca8eb\" y=\"201.491002\"/>\n     <use style=\"fill:#1f77b4;stroke:#ffffff;stroke-width:0.48;\" x=\"81.271307\" xlink:href=\"#m6b1deca8eb\" y=\"205.010383\"/>\n     <use style=\"fill:#1f77b4;stroke:#ffffff;stroke-width:0.48;\" x=\"126.030665\" xlink:href=\"#m6b1deca8eb\" y=\"193.09863\"/>\n     <use style=\"fill:#1f77b4;stroke:#ffffff;stroke-width:0.48;\" x=\"121.554729\" xlink:href=\"#m6b1deca8eb\" y=\"164.835288\"/>\n     <use style=\"fill:#1f77b4;stroke:#ffffff;stroke-width:0.48;\" x=\"117.078793\" xlink:href=\"#m6b1deca8eb\" y=\"196.34729\"/>\n     <use style=\"fill:#1f77b4;stroke:#ffffff;stroke-width:0.48;\" x=\"112.602858\" xlink:href=\"#m6b1deca8eb\" y=\"190.391413\"/>\n     <use style=\"fill:#1f77b4;stroke:#ffffff;stroke-width:0.48;\" x=\"112.602858\" xlink:href=\"#m6b1deca8eb\" y=\"202.573888\"/>\n     <use style=\"fill:#1f77b4;stroke:#ffffff;stroke-width:0.48;\" x=\"121.554729\" xlink:href=\"#m6b1deca8eb\" y=\"181.999042\"/>\n     <use style=\"fill:#1f77b4;stroke:#ffffff;stroke-width:0.48;\" x=\"221.457617\" xlink:href=\"#m6b1deca8eb\" y=\"120.22938\"/>\n     <use style=\"fill:#1f77b4;stroke:#ffffff;stroke-width:0.48;\" x=\"103.650986\" xlink:href=\"#m6b1deca8eb\" y=\"202.84461\"/>\n     <use style=\"fill:#1f77b4;stroke:#ffffff;stroke-width:0.48;\" x=\"134.982537\" xlink:href=\"#m6b1deca8eb\" y=\"191.203578\"/>\n     <use style=\"fill:#1f77b4;stroke:#ffffff;stroke-width:0.48;\" x=\"221.457617\" xlink:href=\"#m6b1deca8eb\" y=\"134.893471\"/>\n     <use style=\"fill:#1f77b4;stroke:#ffffff;stroke-width:0.48;\" x=\"108.126922\" xlink:href=\"#m6b1deca8eb\" y=\"196.618012\"/>\n     <use style=\"fill:#1f77b4;stroke:#ffffff;stroke-width:0.48;\" x=\"243.837296\" xlink:href=\"#m6b1deca8eb\" y=\"150.324606\"/>\n     <use style=\"fill:#1f77b4;stroke:#ffffff;stroke-width:0.48;\" x=\"117.078793\" xlink:href=\"#m6b1deca8eb\" y=\"193.09863\"/>\n     <use style=\"fill:#1f77b4;stroke:#ffffff;stroke-width:0.48;\" x=\"117.078793\" xlink:href=\"#m6b1deca8eb\" y=\"192.015743\"/>\n     <use style=\"fill:#1f77b4;stroke:#ffffff;stroke-width:0.48;\" x=\"108.126922\" xlink:href=\"#m6b1deca8eb\" y=\"189.579248\"/>\n     <use style=\"fill:#1f77b4;stroke:#ffffff;stroke-width:0.48;\" x=\"96.489489\" xlink:href=\"#m6b1deca8eb\" y=\"199.59595\"/>\n     <use style=\"fill:#1f77b4;stroke:#ffffff;stroke-width:0.48;\" x=\"214.057403\" xlink:href=\"#m6b1deca8eb\" y=\"79.62113\"/>\n     <use style=\"fill:#1f77b4;stroke:#ffffff;stroke-width:0.48;\" x=\"121.554729\" xlink:href=\"#m6b1deca8eb\" y=\"189.308527\"/>\n     <use style=\"fill:#1f77b4;stroke:#ffffff;stroke-width:0.48;\" x=\"85.747243\" xlink:href=\"#m6b1deca8eb\" y=\"213.944199\"/>\n     <use style=\"fill:#1f77b4;stroke:#ffffff;stroke-width:0.48;\" x=\"117.078793\" xlink:href=\"#m6b1deca8eb\" y=\"187.684197\"/>\n     <use style=\"fill:#1f77b4;stroke:#ffffff;stroke-width:0.48;\" x=\"88.432804\" xlink:href=\"#m6b1deca8eb\" y=\"211.778425\"/>\n     <use style=\"fill:#1f77b4;stroke:#ffffff;stroke-width:0.48;\" x=\"117.078793\" xlink:href=\"#m6b1deca8eb\" y=\"192.827908\"/>\n     <use style=\"fill:#1f77b4;stroke:#ffffff;stroke-width:0.48;\" x=\"166.314088\" xlink:href=\"#m6b1deca8eb\" y=\"163.86069\"/>\n     <use style=\"fill:#1f77b4;stroke:#ffffff;stroke-width:0.48;\" x=\"112.602858\" xlink:href=\"#m6b1deca8eb\" y=\"193.09863\"/>\n     <use style=\"fill:#1f77b4;stroke:#ffffff;stroke-width:0.48;\" x=\"103.650986\" xlink:href=\"#m6b1deca8eb\" y=\"203.927497\"/>\n     <use style=\"fill:#1f77b4;stroke:#ffffff;stroke-width:0.48;\" x=\"108.126922\" xlink:href=\"#m6b1deca8eb\" y=\"186.059867\"/>\n     <use style=\"fill:#1f77b4;stroke:#ffffff;stroke-width:0.48;\" x=\"99.17505\" xlink:href=\"#m6b1deca8eb\" y=\"204.198218\"/>\n     <use style=\"fill:#1f77b4;stroke:#ffffff;stroke-width:0.48;\" x=\"121.554729\" xlink:href=\"#m6b1deca8eb\" y=\"188.550506\"/>\n     <use style=\"fill:#1f77b4;stroke:#ffffff;stroke-width:0.48;\" x=\"117.078793\" xlink:href=\"#m6b1deca8eb\" y=\"187.684197\"/>\n     <use style=\"fill:#1f77b4;stroke:#ffffff;stroke-width:0.48;\" x=\"103.650986\" xlink:href=\"#m6b1deca8eb\" y=\"199.866672\"/>\n     <use style=\"fill:#1f77b4;stroke:#ffffff;stroke-width:0.48;\" x=\"112.602858\" xlink:href=\"#m6b1deca8eb\" y=\"184.435537\"/>\n     <use style=\"fill:#1f77b4;stroke:#ffffff;stroke-width:0.48;\" x=\"108.126922\" xlink:href=\"#m6b1deca8eb\" y=\"190.662135\"/>\n     <use style=\"fill:#1f77b4;stroke:#ffffff;stroke-width:0.48;\" x=\"88.432804\" xlink:href=\"#m6b1deca8eb\" y=\"212.049147\"/>\n     <use style=\"fill:#1f77b4;stroke:#ffffff;stroke-width:0.48;\" x=\"218.413981\" xlink:href=\"#m6b1deca8eb\" y=\"122.485394\"/>\n     <use style=\"fill:#1f77b4;stroke:#ffffff;stroke-width:0.48;\" x=\"121.554729\" xlink:href=\"#m6b1deca8eb\" y=\"190.120692\"/>\n     <use style=\"fill:#1f77b4;stroke:#ffffff;stroke-width:0.48;\" x=\"131.9389\" xlink:href=\"#m6b1deca8eb\" y=\"165.57526\"/>\n     <use style=\"fill:#1f77b4;stroke:#ffffff;stroke-width:0.48;\" x=\"99.17505\" xlink:href=\"#m6b1deca8eb\" y=\"198.513063\"/>\n     <use style=\"fill:#1f77b4;stroke:#ffffff;stroke-width:0.48;\" x=\"90.223178\" xlink:href=\"#m6b1deca8eb\" y=\"195.535125\"/>\n     <use style=\"fill:#1f77b4;stroke:#ffffff;stroke-width:0.48;\" x=\"88.432804\" xlink:href=\"#m6b1deca8eb\" y=\"212.319869\"/>\n     <use style=\"fill:#1f77b4;stroke:#ffffff;stroke-width:0.48;\" x=\"126.030665\" xlink:href=\"#m6b1deca8eb\" y=\"187.684197\"/>\n     <use style=\"fill:#1f77b4;stroke:#ffffff;stroke-width:0.48;\" x=\"94.699114\" xlink:href=\"#m6b1deca8eb\" y=\"206.363992\"/>\n     <use style=\"fill:#1f77b4;stroke:#ffffff;stroke-width:0.48;\" x=\"117.078793\" xlink:href=\"#m6b1deca8eb\" y=\"190.662135\"/>\n     <use style=\"fill:#1f77b4;stroke:#ffffff;stroke-width:0.48;\" x=\"81.271307\" xlink:href=\"#m6b1deca8eb\" y=\"187.684197\"/>\n     <use style=\"fill:#1f77b4;stroke:#ffffff;stroke-width:0.48;\" x=\"92.90874\" xlink:href=\"#m6b1deca8eb\" y=\"199.866672\"/>\n     <use style=\"fill:#1f77b4;stroke:#ffffff;stroke-width:0.48;\" x=\"191.558366\" xlink:href=\"#m6b1deca8eb\" y=\"134.216667\"/>\n     <use style=\"fill:#1f77b4;stroke:#ffffff;stroke-width:0.48;\" x=\"152.88628\" xlink:href=\"#m6b1deca8eb\" y=\"147.301547\"/>\n     <use style=\"fill:#1f77b4;stroke:#ffffff;stroke-width:0.48;\" x=\"108.126922\" xlink:href=\"#m6b1deca8eb\" y=\"205.281105\"/>\n     <use style=\"fill:#1f77b4;stroke:#ffffff;stroke-width:0.48;\" x=\"121.554729\" xlink:href=\"#m6b1deca8eb\" y=\"199.054507\"/>\n     <use style=\"fill:#1f77b4;stroke:#ffffff;stroke-width:0.48;\" x=\"103.650986\" xlink:href=\"#m6b1deca8eb\" y=\"192.827908\"/>\n     <use style=\"fill:#1f77b4;stroke:#ffffff;stroke-width:0.48;\" x=\"123.345104\" xlink:href=\"#m6b1deca8eb\" y=\"195.805847\"/>\n     <use style=\"fill:#1f77b4;stroke:#ffffff;stroke-width:0.48;\" x=\"85.747243\" xlink:href=\"#m6b1deca8eb\" y=\"202.573888\"/>\n     <use style=\"fill:#1f77b4;stroke:#ffffff;stroke-width:0.48;\" x=\"169.178686\" xlink:href=\"#m6b1deca8eb\" y=\"134.893471\"/>\n     <use style=\"fill:#1f77b4;stroke:#ffffff;stroke-width:0.48;\" x=\"221.457617\" xlink:href=\"#m6b1deca8eb\" y=\"152.941582\"/>\n     <use style=\"fill:#1f77b4;stroke:#ffffff;stroke-width:0.48;\" x=\"101.860612\" xlink:href=\"#m6b1deca8eb\" y=\"203.927497\"/>\n     <use style=\"fill:#1f77b4;stroke:#ffffff;stroke-width:0.48;\" x=\"215.549382\" xlink:href=\"#m6b1deca8eb\" y=\"107.821304\"/>\n     <use style=\"fill:#1f77b4;stroke:#ffffff;stroke-width:0.48;\" x=\"224.501253\" xlink:href=\"#m6b1deca8eb\" y=\"110.528521\"/>\n     <use style=\"fill:#1f77b4;stroke:#ffffff;stroke-width:0.48;\" x=\"121.554729\" xlink:href=\"#m6b1deca8eb\" y=\"181.999042\"/>\n     <use style=\"fill:#1f77b4;stroke:#ffffff;stroke-width:0.48;\" x=\"110.812483\" xlink:href=\"#m6b1deca8eb\" y=\"191.745022\"/>\n     <use style=\"fill:#1f77b4;stroke:#ffffff;stroke-width:0.48;\" x=\"88.432804\" xlink:href=\"#m6b1deca8eb\" y=\"214.756364\"/>\n     <use style=\"fill:#1f77b4;stroke:#ffffff;stroke-width:0.48;\" x=\"108.126922\" xlink:href=\"#m6b1deca8eb\" y=\"187.684197\"/>\n     <use style=\"fill:#1f77b4;stroke:#ffffff;stroke-width:0.48;\" x=\"99.17505\" xlink:href=\"#m6b1deca8eb\" y=\"204.46894\"/>\n     <use style=\"fill:#1f77b4;stroke:#ffffff;stroke-width:0.48;\" x=\"112.602858\" xlink:href=\"#m6b1deca8eb\" y=\"191.745022\"/>\n     <use style=\"fill:#1f77b4;stroke:#ffffff;stroke-width:0.48;\" x=\"108.126922\" xlink:href=\"#m6b1deca8eb\" y=\"199.59595\"/>\n     <use style=\"fill:#1f77b4;stroke:#ffffff;stroke-width:0.48;\" x=\"158.794515\" xlink:href=\"#m6b1deca8eb\" y=\"155.197596\"/>\n     <use style=\"fill:#1f77b4;stroke:#ffffff;stroke-width:0.48;\" x=\"117.078793\" xlink:href=\"#m6b1deca8eb\" y=\"167.380071\"/>\n     <use style=\"fill:#1f77b4;stroke:#ffffff;stroke-width:0.48;\" x=\"148.410344\" xlink:href=\"#m6b1deca8eb\" y=\"180.10399\"/>\n     <use style=\"fill:#1f77b4;stroke:#ffffff;stroke-width:0.48;\" x=\"117.078793\" xlink:href=\"#m6b1deca8eb\" y=\"202.573888\"/>\n     <use style=\"fill:#1f77b4;stroke:#ffffff;stroke-width:0.48;\" x=\"94.699114\" xlink:href=\"#m6b1deca8eb\" y=\"193.910795\"/>\n     <use style=\"fill:#1f77b4;stroke:#ffffff;stroke-width:0.48;\" x=\"157.362216\" xlink:href=\"#m6b1deca8eb\" y=\"92.029206\"/>\n     <use style=\"fill:#1f77b4;stroke:#ffffff;stroke-width:0.48;\" x=\"112.602858\" xlink:href=\"#m6b1deca8eb\" y=\"177.938216\"/>\n     <use style=\"fill:#1f77b4;stroke:#ffffff;stroke-width:0.48;\" x=\"149.305531\" xlink:href=\"#m6b1deca8eb\" y=\"175.501721\"/>\n     <use style=\"fill:#1f77b4;stroke:#ffffff;stroke-width:0.48;\" x=\"108.126922\" xlink:href=\"#m6b1deca8eb\" y=\"198.783785\"/>\n     <use style=\"fill:#1f77b4;stroke:#ffffff;stroke-width:0.48;\" x=\"85.747243\" xlink:href=\"#m6b1deca8eb\" y=\"210.424817\"/>\n     <use style=\"fill:#1f77b4;stroke:#ffffff;stroke-width:0.48;\" x=\"94.699114\" xlink:href=\"#m6b1deca8eb\" y=\"191.745022\"/>\n     <use style=\"fill:#1f77b4;stroke:#ffffff;stroke-width:0.48;\" x=\"117.078793\" xlink:href=\"#m6b1deca8eb\" y=\"203.386053\"/>\n     <use style=\"fill:#1f77b4;stroke:#ffffff;stroke-width:0.48;\" x=\"130.506601\" xlink:href=\"#m6b1deca8eb\" y=\"193.910795\"/>\n     <use style=\"fill:#1f77b4;stroke:#ffffff;stroke-width:0.48;\" x=\"92.90874\" xlink:href=\"#m6b1deca8eb\" y=\"210.424817\"/>\n     <use style=\"fill:#1f77b4;stroke:#ffffff;stroke-width:0.48;\" x=\"117.078793\" xlink:href=\"#m6b1deca8eb\" y=\"187.684197\"/>\n     <use style=\"fill:#1f77b4;stroke:#ffffff;stroke-width:0.48;\" x=\"126.030665\" xlink:href=\"#m6b1deca8eb\" y=\"179.833268\"/>\n     <use style=\"fill:#1f77b4;stroke:#ffffff;stroke-width:0.48;\" x=\"191.737403\" xlink:href=\"#m6b1deca8eb\" y=\"55.932984\"/>\n     <use style=\"fill:#1f77b4;stroke:#ffffff;stroke-width:0.48;\" x=\"94.549916\" xlink:href=\"#m6b1deca8eb\" y=\"193.09863\"/>\n     <use style=\"fill:#1f77b4;stroke:#ffffff;stroke-width:0.48;\" x=\"121.554729\" xlink:href=\"#m6b1deca8eb\" y=\"191.745022\"/>\n     <use style=\"fill:#1f77b4;stroke:#ffffff;stroke-width:0.48;\" x=\"85.747243\" xlink:href=\"#m6b1deca8eb\" y=\"203.656775\"/>\n     <use style=\"fill:#1f77b4;stroke:#ffffff;stroke-width:0.48;\" x=\"121.554729\" xlink:href=\"#m6b1deca8eb\" y=\"189.037805\"/>\n     <use style=\"fill:#1f77b4;stroke:#ffffff;stroke-width:0.48;\" x=\"81.271307\" xlink:href=\"#m6b1deca8eb\" y=\"208.529765\"/>\n     <use style=\"fill:#1f77b4;stroke:#ffffff;stroke-width:0.48;\" x=\"88.432804\" xlink:href=\"#m6b1deca8eb\" y=\"212.861312\"/>\n     <use style=\"fill:#1f77b4;stroke:#ffffff;stroke-width:0.48;\" x=\"296.116227\" xlink:href=\"#m6b1deca8eb\" y=\"43.524907\"/>\n     <use style=\"fill:#1f77b4;stroke:#ffffff;stroke-width:0.48;\" x=\"99.17505\" xlink:href=\"#m6b1deca8eb\" y=\"199.054507\"/>\n     <use style=\"fill:#1f77b4;stroke:#ffffff;stroke-width:0.48;\" x=\"236.317724\" xlink:href=\"#m6b1deca8eb\" y=\"123.613401\"/>\n     <use style=\"fill:#1f77b4;stroke:#ffffff;stroke-width:0.48;\" x=\"88.432804\" xlink:href=\"#m6b1deca8eb\" y=\"211.778425\"/>\n     <use style=\"fill:#1f77b4;stroke:#ffffff;stroke-width:0.48;\" x=\"108.126922\" xlink:href=\"#m6b1deca8eb\" y=\"189.308527\"/>\n     <use style=\"fill:#1f77b4;stroke:#ffffff;stroke-width:0.48;\" x=\"121.554729\" xlink:href=\"#m6b1deca8eb\" y=\"188.496362\"/>\n     <use style=\"fill:#1f77b4;stroke:#ffffff;stroke-width:0.48;\" x=\"101.860612\" xlink:href=\"#m6b1deca8eb\" y=\"199.054507\"/>\n     <use style=\"fill:#1f77b4;stroke:#ffffff;stroke-width:0.48;\" x=\"85.747243\" xlink:href=\"#m6b1deca8eb\" y=\"213.132034\"/>\n     <use style=\"fill:#1f77b4;stroke:#ffffff;stroke-width:0.48;\" x=\"134.982537\" xlink:href=\"#m6b1deca8eb\" y=\"169.545845\"/>\n     <use style=\"fill:#1f77b4;stroke:#ffffff;stroke-width:0.48;\" x=\"117.078793\" xlink:href=\"#m6b1deca8eb\" y=\"187.684197\"/>\n    </g>\n   </g>\n   <g id=\"PolyCollection_1\">\n    <path clip-path=\"url(#p8ddd7419ae)\" d=\"M 81.271307 210.764673 \nL 81.271307 210.764673 \nL 85.747243 207.916423 \nL 85.747243 207.916423 \nL 85.747243 207.916423 \nL 81.271307 210.764673 \nz\n\" style=\"fill:#1f77b4;fill-opacity:0.2;stroke:#1f77b4;stroke-opacity:0.2;\"/>\n    <path clip-path=\"url(#p8ddd7419ae)\" d=\"M 88.432804 206.207473 \nL 88.432804 206.207473 \nL 90.223178 205.068172 \nL 92.90874 203.359222 \nL 92.90874 203.359222 \nL 92.90874 203.359222 \nL 90.223178 205.068172 \nL 88.432804 206.207473 \nz\n\" style=\"fill:#1f77b4;fill-opacity:0.2;stroke:#1f77b4;stroke-opacity:0.2;\"/>\n    <path clip-path=\"url(#p8ddd7419ae)\" d=\"M 94.699114 202.219922 \nL 94.699114 202.219922 \nL 96.489489 201.080622 \nL 99.17505 199.371671 \nL 99.17505 199.371671 \nL 99.17505 199.371671 \nL 96.489489 201.080622 \nL 94.699114 202.219922 \nz\n\" style=\"fill:#1f77b4;fill-opacity:0.2;stroke:#1f77b4;stroke-opacity:0.2;\"/>\n    <path clip-path=\"url(#p8ddd7419ae)\" d=\"M 101.860612 197.662721 \nL 101.860612 197.662721 \nL 103.650986 196.523421 \nL 103.650986 196.523421 \nL 103.650986 196.523421 \nL 101.860612 197.662721 \nz\n\" style=\"fill:#1f77b4;fill-opacity:0.2;stroke:#1f77b4;stroke-opacity:0.2;\"/>\n    <path clip-path=\"url(#p8ddd7419ae)\" d=\"M 105.44136 195.38412 \nL 105.44136 195.38412 \nL 105.44136 195.38412 \nL 105.44136 195.38412 \nz\n\" style=\"fill:#1f77b4;fill-opacity:0.2;stroke:#1f77b4;stroke-opacity:0.2;\"/>\n    <path clip-path=\"url(#p8ddd7419ae)\" d=\"M 108.126922 193.67517 \nL 108.126922 193.67517 \nL 109.917296 192.53587 \nL 110.812483 191.96622 \nL 111.70767 191.39657 \nL 112.602858 190.82692 \nL 113.498045 190.257269 \nL 113.498045 190.257269 \nL 113.498045 190.257269 \nL 112.602858 190.82692 \nL 111.70767 191.39657 \nL 110.812483 191.96622 \nL 109.917296 192.53587 \nL 108.126922 193.67517 \nz\n\" style=\"fill:#1f77b4;fill-opacity:0.2;stroke:#1f77b4;stroke-opacity:0.2;\"/>\n    <path clip-path=\"url(#p8ddd7419ae)\" d=\"M 117.078793 187.978669 \nL 117.078793 187.978669 \nL 117.078793 187.978669 \nL 117.078793 187.978669 \nz\n\" style=\"fill:#1f77b4;fill-opacity:0.2;stroke:#1f77b4;stroke-opacity:0.2;\"/>\n    <path clip-path=\"url(#p8ddd7419ae)\" d=\"M 121.554729 185.130419 \nL 121.554729 185.130419 \nL 123.345104 183.991118 \nL 126.030665 182.282168 \nL 126.030665 182.282168 \nL 126.030665 182.282168 \nL 123.345104 183.991118 \nL 121.554729 185.130419 \nz\n\" style=\"fill:#1f77b4;fill-opacity:0.2;stroke:#1f77b4;stroke-opacity:0.2;\"/>\n    <path clip-path=\"url(#p8ddd7419ae)\" d=\"M 130.506601 179.433917 \nL 130.506601 179.433917 \nL 130.506601 179.433917 \nL 130.506601 179.433917 \nz\n\" style=\"fill:#1f77b4;fill-opacity:0.2;stroke:#1f77b4;stroke-opacity:0.2;\"/>\n    <path clip-path=\"url(#p8ddd7419ae)\" d=\"M 134.982537 176.585667 \nL 134.982537 176.585667 \nL 139.458473 173.737416 \nL 143.934408 170.889166 \nL 148.410344 168.040915 \nL 148.410344 168.040915 \nL 148.410344 168.040915 \nL 143.934408 170.889166 \nL 139.458473 173.737416 \nL 134.982537 176.585667 \nz\n\" style=\"fill:#1f77b4;fill-opacity:0.2;stroke:#1f77b4;stroke-opacity:0.2;\"/>\n    <path clip-path=\"url(#p8ddd7419ae)\" d=\"M 152.88628 165.192665 \nL 152.88628 165.192665 \nL 154.31858 164.281225 \nL 154.31858 164.281225 \nL 154.31858 164.281225 \nL 152.88628 165.192665 \nz\n\" style=\"fill:#1f77b4;fill-opacity:0.2;stroke:#1f77b4;stroke-opacity:0.2;\"/>\n    <path clip-path=\"url(#p8ddd7419ae)\" d=\"M 157.362216 162.344414 \nL 157.362216 162.344414 \nL 157.362216 162.344414 \nL 157.362216 162.344414 \nz\n\" style=\"fill:#1f77b4;fill-opacity:0.2;stroke:#1f77b4;stroke-opacity:0.2;\"/>\n    <path clip-path=\"url(#p8ddd7419ae)\" d=\"M 179.741895 148.103161 \nL 179.741895 148.103161 \nL 179.741895 148.103161 \nL 179.741895 148.103161 \nz\n\" style=\"fill:#1f77b4;fill-opacity:0.2;stroke:#1f77b4;stroke-opacity:0.2;\"/>\n    <path clip-path=\"url(#p8ddd7419ae)\" d=\"M 191.558366 140.58378 \nL 191.558366 140.58378 \nL 191.737403 140.46985 \nL 199.077938 135.798719 \nL 206.59751 131.013658 \nL 206.59751 131.013658 \nL 206.59751 131.013658 \nL 199.077938 135.798719 \nL 191.737403 140.46985 \nL 191.558366 140.58378 \nz\n\" style=\"fill:#1f77b4;fill-opacity:0.2;stroke:#1f77b4;stroke-opacity:0.2;\"/>\n    <path clip-path=\"url(#p8ddd7419ae)\" d=\"M 221.457617 121.557466 \nL 221.457617 121.557466 \nL 224.501253 119.620656 \nL 224.501253 119.620656 \nL 224.501253 119.620656 \nL 221.457617 121.557466 \nz\n\" style=\"fill:#1f77b4;fill-opacity:0.2;stroke:#1f77b4;stroke-opacity:0.2;\"/>\n    <path clip-path=\"url(#p8ddd7419ae)\" d=\"M 236.317724 112.101275 \nL 236.317724 112.101275 \nL 236.317724 112.101275 \nL 236.317724 112.101275 \nz\n\" style=\"fill:#1f77b4;fill-opacity:0.2;stroke:#1f77b4;stroke-opacity:0.2;\"/>\n   </g>\n   <g id=\"matplotlib.axis_1\">\n    <g id=\"xtick_1\">\n     <g id=\"line2d_1\">\n      <defs>\n       <path d=\"M 0 0 \nL 0 3.5 \n\" id=\"m5873c46da4\" style=\"stroke:#000000;stroke-width:0.8;\"/>\n      </defs>\n      <g>\n       <use style=\"stroke:#000000;stroke-width:0.8;\" x=\"87.239221\" xlink:href=\"#m5873c46da4\" y=\"224.64\"/>\n      </g>\n     </g>\n     <g id=\"text_1\">\n      <!-- 10000 -->\n      <g transform=\"translate(71.332971 239.238437)scale(0.1 -0.1)\">\n       <defs>\n        <path d=\"M 794 531 \nL 1825 531 \nL 1825 4091 \nL 703 3866 \nL 703 4441 \nL 1819 4666 \nL 2450 4666 \nL 2450 531 \nL 3481 531 \nL 3481 0 \nL 794 0 \nL 794 531 \nz\n\" id=\"DejaVuSans-31\" transform=\"scale(0.015625)\"/>\n        <path d=\"M 2034 4250 \nQ 1547 4250 1301 3770 \nQ 1056 3291 1056 2328 \nQ 1056 1369 1301 889 \nQ 1547 409 2034 409 \nQ 2525 409 2770 889 \nQ 3016 1369 3016 2328 \nQ 3016 3291 2770 3770 \nQ 2525 4250 2034 4250 \nz\nM 2034 4750 \nQ 2819 4750 3233 4129 \nQ 3647 3509 3647 2328 \nQ 3647 1150 3233 529 \nQ 2819 -91 2034 -91 \nQ 1250 -91 836 529 \nQ 422 1150 422 2328 \nQ 422 3509 836 4129 \nQ 1250 4750 2034 4750 \nz\n\" id=\"DejaVuSans-30\" transform=\"scale(0.015625)\"/>\n       </defs>\n       <use xlink:href=\"#DejaVuSans-31\"/>\n       <use x=\"63.623047\" xlink:href=\"#DejaVuSans-30\"/>\n       <use x=\"127.246094\" xlink:href=\"#DejaVuSans-30\"/>\n       <use x=\"190.869141\" xlink:href=\"#DejaVuSans-30\"/>\n       <use x=\"254.492188\" xlink:href=\"#DejaVuSans-30\"/>\n      </g>\n     </g>\n    </g>\n    <g id=\"xtick_2\">\n     <g id=\"line2d_2\">\n      <g>\n       <use style=\"stroke:#000000;stroke-width:0.8;\" x=\"146.918366\" xlink:href=\"#m5873c46da4\" y=\"224.64\"/>\n      </g>\n     </g>\n     <g id=\"text_2\">\n      <!-- 20000 -->\n      <g transform=\"translate(131.012116 239.238437)scale(0.1 -0.1)\">\n       <defs>\n        <path d=\"M 1228 531 \nL 3431 531 \nL 3431 0 \nL 469 0 \nL 469 531 \nQ 828 903 1448 1529 \nQ 2069 2156 2228 2338 \nQ 2531 2678 2651 2914 \nQ 2772 3150 2772 3378 \nQ 2772 3750 2511 3984 \nQ 2250 4219 1831 4219 \nQ 1534 4219 1204 4116 \nQ 875 4013 500 3803 \nL 500 4441 \nQ 881 4594 1212 4672 \nQ 1544 4750 1819 4750 \nQ 2544 4750 2975 4387 \nQ 3406 4025 3406 3419 \nQ 3406 3131 3298 2873 \nQ 3191 2616 2906 2266 \nQ 2828 2175 2409 1742 \nQ 1991 1309 1228 531 \nz\n\" id=\"DejaVuSans-32\" transform=\"scale(0.015625)\"/>\n       </defs>\n       <use xlink:href=\"#DejaVuSans-32\"/>\n       <use x=\"63.623047\" xlink:href=\"#DejaVuSans-30\"/>\n       <use x=\"127.246094\" xlink:href=\"#DejaVuSans-30\"/>\n       <use x=\"190.869141\" xlink:href=\"#DejaVuSans-30\"/>\n       <use x=\"254.492188\" xlink:href=\"#DejaVuSans-30\"/>\n      </g>\n     </g>\n    </g>\n    <g id=\"xtick_3\">\n     <g id=\"line2d_3\">\n      <g>\n       <use style=\"stroke:#000000;stroke-width:0.8;\" x=\"206.59751\" xlink:href=\"#m5873c46da4\" y=\"224.64\"/>\n      </g>\n     </g>\n     <g id=\"text_3\">\n      <!-- 30000 -->\n      <g transform=\"translate(190.69126 239.238437)scale(0.1 -0.1)\">\n       <defs>\n        <path d=\"M 2597 2516 \nQ 3050 2419 3304 2112 \nQ 3559 1806 3559 1356 \nQ 3559 666 3084 287 \nQ 2609 -91 1734 -91 \nQ 1441 -91 1130 -33 \nQ 819 25 488 141 \nL 488 750 \nQ 750 597 1062 519 \nQ 1375 441 1716 441 \nQ 2309 441 2620 675 \nQ 2931 909 2931 1356 \nQ 2931 1769 2642 2001 \nQ 2353 2234 1838 2234 \nL 1294 2234 \nL 1294 2753 \nL 1863 2753 \nQ 2328 2753 2575 2939 \nQ 2822 3125 2822 3475 \nQ 2822 3834 2567 4026 \nQ 2313 4219 1838 4219 \nQ 1578 4219 1281 4162 \nQ 984 4106 628 3988 \nL 628 4550 \nQ 988 4650 1302 4700 \nQ 1616 4750 1894 4750 \nQ 2613 4750 3031 4423 \nQ 3450 4097 3450 3541 \nQ 3450 3153 3228 2886 \nQ 3006 2619 2597 2516 \nz\n\" id=\"DejaVuSans-33\" transform=\"scale(0.015625)\"/>\n       </defs>\n       <use xlink:href=\"#DejaVuSans-33\"/>\n       <use x=\"63.623047\" xlink:href=\"#DejaVuSans-30\"/>\n       <use x=\"127.246094\" xlink:href=\"#DejaVuSans-30\"/>\n       <use x=\"190.869141\" xlink:href=\"#DejaVuSans-30\"/>\n       <use x=\"254.492188\" xlink:href=\"#DejaVuSans-30\"/>\n      </g>\n     </g>\n    </g>\n    <g id=\"xtick_4\">\n     <g id=\"line2d_4\">\n      <g>\n       <use style=\"stroke:#000000;stroke-width:0.8;\" x=\"266.276654\" xlink:href=\"#m5873c46da4\" y=\"224.64\"/>\n      </g>\n     </g>\n     <g id=\"text_4\">\n      <!-- 40000 -->\n      <g transform=\"translate(250.370404 239.238437)scale(0.1 -0.1)\">\n       <defs>\n        <path d=\"M 2419 4116 \nL 825 1625 \nL 2419 1625 \nL 2419 4116 \nz\nM 2253 4666 \nL 3047 4666 \nL 3047 1625 \nL 3713 1625 \nL 3713 1100 \nL 3047 1100 \nL 3047 0 \nL 2419 0 \nL 2419 1100 \nL 313 1100 \nL 313 1709 \nL 2253 4666 \nz\n\" id=\"DejaVuSans-34\" transform=\"scale(0.015625)\"/>\n       </defs>\n       <use xlink:href=\"#DejaVuSans-34\"/>\n       <use x=\"63.623047\" xlink:href=\"#DejaVuSans-30\"/>\n       <use x=\"127.246094\" xlink:href=\"#DejaVuSans-30\"/>\n       <use x=\"190.869141\" xlink:href=\"#DejaVuSans-30\"/>\n       <use x=\"254.492188\" xlink:href=\"#DejaVuSans-30\"/>\n      </g>\n     </g>\n    </g>\n    <g id=\"xtick_5\">\n     <g id=\"line2d_5\">\n      <g>\n       <use style=\"stroke:#000000;stroke-width:0.8;\" x=\"325.955799\" xlink:href=\"#m5873c46da4\" y=\"224.64\"/>\n      </g>\n     </g>\n     <g id=\"text_5\">\n      <!-- 50000 -->\n      <g transform=\"translate(310.049549 239.238437)scale(0.1 -0.1)\">\n       <defs>\n        <path d=\"M 691 4666 \nL 3169 4666 \nL 3169 4134 \nL 1269 4134 \nL 1269 2991 \nQ 1406 3038 1543 3061 \nQ 1681 3084 1819 3084 \nQ 2600 3084 3056 2656 \nQ 3513 2228 3513 1497 \nQ 3513 744 3044 326 \nQ 2575 -91 1722 -91 \nQ 1428 -91 1123 -41 \nQ 819 9 494 109 \nL 494 744 \nQ 775 591 1075 516 \nQ 1375 441 1709 441 \nQ 2250 441 2565 725 \nQ 2881 1009 2881 1497 \nQ 2881 1984 2565 2268 \nQ 2250 2553 1709 2553 \nQ 1456 2553 1204 2497 \nQ 953 2441 691 2322 \nL 691 4666 \nz\n\" id=\"DejaVuSans-35\" transform=\"scale(0.015625)\"/>\n       </defs>\n       <use xlink:href=\"#DejaVuSans-35\"/>\n       <use x=\"63.623047\" xlink:href=\"#DejaVuSans-30\"/>\n       <use x=\"127.246094\" xlink:href=\"#DejaVuSans-30\"/>\n       <use x=\"190.869141\" xlink:href=\"#DejaVuSans-30\"/>\n       <use x=\"254.492188\" xlink:href=\"#DejaVuSans-30\"/>\n      </g>\n     </g>\n    </g>\n    <g id=\"xtick_6\">\n     <g id=\"line2d_6\">\n      <g>\n       <use style=\"stroke:#000000;stroke-width:0.8;\" x=\"385.634943\" xlink:href=\"#m5873c46da4\" y=\"224.64\"/>\n      </g>\n     </g>\n     <g id=\"text_6\">\n      <!-- 60000 -->\n      <g transform=\"translate(369.728693 239.238437)scale(0.1 -0.1)\">\n       <defs>\n        <path d=\"M 2113 2584 \nQ 1688 2584 1439 2293 \nQ 1191 2003 1191 1497 \nQ 1191 994 1439 701 \nQ 1688 409 2113 409 \nQ 2538 409 2786 701 \nQ 3034 994 3034 1497 \nQ 3034 2003 2786 2293 \nQ 2538 2584 2113 2584 \nz\nM 3366 4563 \nL 3366 3988 \nQ 3128 4100 2886 4159 \nQ 2644 4219 2406 4219 \nQ 1781 4219 1451 3797 \nQ 1122 3375 1075 2522 \nQ 1259 2794 1537 2939 \nQ 1816 3084 2150 3084 \nQ 2853 3084 3261 2657 \nQ 3669 2231 3669 1497 \nQ 3669 778 3244 343 \nQ 2819 -91 2113 -91 \nQ 1303 -91 875 529 \nQ 447 1150 447 2328 \nQ 447 3434 972 4092 \nQ 1497 4750 2381 4750 \nQ 2619 4750 2861 4703 \nQ 3103 4656 3366 4563 \nz\n\" id=\"DejaVuSans-36\" transform=\"scale(0.015625)\"/>\n       </defs>\n       <use xlink:href=\"#DejaVuSans-36\"/>\n       <use x=\"63.623047\" xlink:href=\"#DejaVuSans-30\"/>\n       <use x=\"127.246094\" xlink:href=\"#DejaVuSans-30\"/>\n       <use x=\"190.869141\" xlink:href=\"#DejaVuSans-30\"/>\n       <use x=\"254.492188\" xlink:href=\"#DejaVuSans-30\"/>\n      </g>\n     </g>\n    </g>\n    <g id=\"text_7\">\n     <!-- SALBEGIN -->\n     <g transform=\"translate(208.299219 252.916562)scale(0.1 -0.1)\">\n      <defs>\n       <path d=\"M 3425 4513 \nL 3425 3897 \nQ 3066 4069 2747 4153 \nQ 2428 4238 2131 4238 \nQ 1616 4238 1336 4038 \nQ 1056 3838 1056 3469 \nQ 1056 3159 1242 3001 \nQ 1428 2844 1947 2747 \nL 2328 2669 \nQ 3034 2534 3370 2195 \nQ 3706 1856 3706 1288 \nQ 3706 609 3251 259 \nQ 2797 -91 1919 -91 \nQ 1588 -91 1214 -16 \nQ 841 59 441 206 \nL 441 856 \nQ 825 641 1194 531 \nQ 1563 422 1919 422 \nQ 2459 422 2753 634 \nQ 3047 847 3047 1241 \nQ 3047 1584 2836 1778 \nQ 2625 1972 2144 2069 \nL 1759 2144 \nQ 1053 2284 737 2584 \nQ 422 2884 422 3419 \nQ 422 4038 858 4394 \nQ 1294 4750 2059 4750 \nQ 2388 4750 2728 4690 \nQ 3069 4631 3425 4513 \nz\n\" id=\"DejaVuSans-53\" transform=\"scale(0.015625)\"/>\n       <path d=\"M 2188 4044 \nL 1331 1722 \nL 3047 1722 \nL 2188 4044 \nz\nM 1831 4666 \nL 2547 4666 \nL 4325 0 \nL 3669 0 \nL 3244 1197 \nL 1141 1197 \nL 716 0 \nL 50 0 \nL 1831 4666 \nz\n\" id=\"DejaVuSans-41\" transform=\"scale(0.015625)\"/>\n       <path d=\"M 628 4666 \nL 1259 4666 \nL 1259 531 \nL 3531 531 \nL 3531 0 \nL 628 0 \nL 628 4666 \nz\n\" id=\"DejaVuSans-4c\" transform=\"scale(0.015625)\"/>\n       <path d=\"M 1259 2228 \nL 1259 519 \nL 2272 519 \nQ 2781 519 3026 730 \nQ 3272 941 3272 1375 \nQ 3272 1813 3026 2020 \nQ 2781 2228 2272 2228 \nL 1259 2228 \nz\nM 1259 4147 \nL 1259 2741 \nL 2194 2741 \nQ 2656 2741 2882 2914 \nQ 3109 3088 3109 3444 \nQ 3109 3797 2882 3972 \nQ 2656 4147 2194 4147 \nL 1259 4147 \nz\nM 628 4666 \nL 2241 4666 \nQ 2963 4666 3353 4366 \nQ 3744 4066 3744 3513 \nQ 3744 3084 3544 2831 \nQ 3344 2578 2956 2516 \nQ 3422 2416 3680 2098 \nQ 3938 1781 3938 1306 \nQ 3938 681 3513 340 \nQ 3088 0 2303 0 \nL 628 0 \nL 628 4666 \nz\n\" id=\"DejaVuSans-42\" transform=\"scale(0.015625)\"/>\n       <path d=\"M 628 4666 \nL 3578 4666 \nL 3578 4134 \nL 1259 4134 \nL 1259 2753 \nL 3481 2753 \nL 3481 2222 \nL 1259 2222 \nL 1259 531 \nL 3634 531 \nL 3634 0 \nL 628 0 \nL 628 4666 \nz\n\" id=\"DejaVuSans-45\" transform=\"scale(0.015625)\"/>\n       <path d=\"M 3809 666 \nL 3809 1919 \nL 2778 1919 \nL 2778 2438 \nL 4434 2438 \nL 4434 434 \nQ 4069 175 3628 42 \nQ 3188 -91 2688 -91 \nQ 1594 -91 976 548 \nQ 359 1188 359 2328 \nQ 359 3472 976 4111 \nQ 1594 4750 2688 4750 \nQ 3144 4750 3555 4637 \nQ 3966 4525 4313 4306 \nL 4313 3634 \nQ 3963 3931 3569 4081 \nQ 3175 4231 2741 4231 \nQ 1884 4231 1454 3753 \nQ 1025 3275 1025 2328 \nQ 1025 1384 1454 906 \nQ 1884 428 2741 428 \nQ 3075 428 3337 486 \nQ 3600 544 3809 666 \nz\n\" id=\"DejaVuSans-47\" transform=\"scale(0.015625)\"/>\n       <path d=\"M 628 4666 \nL 1259 4666 \nL 1259 0 \nL 628 0 \nL 628 4666 \nz\n\" id=\"DejaVuSans-49\" transform=\"scale(0.015625)\"/>\n       <path d=\"M 628 4666 \nL 1478 4666 \nL 3547 763 \nL 3547 4666 \nL 4159 4666 \nL 4159 0 \nL 3309 0 \nL 1241 3903 \nL 1241 0 \nL 628 0 \nL 628 4666 \nz\n\" id=\"DejaVuSans-4e\" transform=\"scale(0.015625)\"/>\n      </defs>\n      <use xlink:href=\"#DejaVuSans-53\"/>\n      <use x=\"65.351562\" xlink:href=\"#DejaVuSans-41\"/>\n      <use x=\"133.759766\" xlink:href=\"#DejaVuSans-4c\"/>\n      <use x=\"189.472656\" xlink:href=\"#DejaVuSans-42\"/>\n      <use x=\"258.076172\" xlink:href=\"#DejaVuSans-45\"/>\n      <use x=\"321.259766\" xlink:href=\"#DejaVuSans-47\"/>\n      <use x=\"398.75\" xlink:href=\"#DejaVuSans-49\"/>\n      <use x=\"428.242188\" xlink:href=\"#DejaVuSans-4e\"/>\n     </g>\n    </g>\n   </g>\n   <g id=\"matplotlib.axis_2\">\n    <g id=\"ytick_1\">\n     <g id=\"line2d_7\">\n      <defs>\n       <path d=\"M 0 0 \nL -3.5 0 \n\" id=\"m1ab5902328\" style=\"stroke:#000000;stroke-width:0.8;\"/>\n      </defs>\n      <g>\n       <use style=\"stroke:#000000;stroke-width:0.8;\" x=\"66.053125\" xlink:href=\"#m1ab5902328\" y=\"207.085916\"/>\n      </g>\n     </g>\n     <g id=\"text_8\">\n      <!-- 20000 -->\n      <g transform=\"translate(27.240625 210.885135)scale(0.1 -0.1)\">\n       <use xlink:href=\"#DejaVuSans-32\"/>\n       <use x=\"63.623047\" xlink:href=\"#DejaVuSans-30\"/>\n       <use x=\"127.246094\" xlink:href=\"#DejaVuSans-30\"/>\n       <use x=\"190.869141\" xlink:href=\"#DejaVuSans-30\"/>\n       <use x=\"254.492188\" xlink:href=\"#DejaVuSans-30\"/>\n      </g>\n     </g>\n    </g>\n    <g id=\"ytick_2\">\n     <g id=\"line2d_8\">\n      <g>\n       <use style=\"stroke:#000000;stroke-width:0.8;\" x=\"66.053125\" xlink:href=\"#m1ab5902328\" y=\"170.989694\"/>\n      </g>\n     </g>\n     <g id=\"text_9\">\n      <!-- 40000 -->\n      <g transform=\"translate(27.240625 174.788912)scale(0.1 -0.1)\">\n       <use xlink:href=\"#DejaVuSans-34\"/>\n       <use x=\"63.623047\" xlink:href=\"#DejaVuSans-30\"/>\n       <use x=\"127.246094\" xlink:href=\"#DejaVuSans-30\"/>\n       <use x=\"190.869141\" xlink:href=\"#DejaVuSans-30\"/>\n       <use x=\"254.492188\" xlink:href=\"#DejaVuSans-30\"/>\n      </g>\n     </g>\n    </g>\n    <g id=\"ytick_3\">\n     <g id=\"line2d_9\">\n      <g>\n       <use style=\"stroke:#000000;stroke-width:0.8;\" x=\"66.053125\" xlink:href=\"#m1ab5902328\" y=\"134.893471\"/>\n      </g>\n     </g>\n     <g id=\"text_10\">\n      <!-- 60000 -->\n      <g transform=\"translate(27.240625 138.69269)scale(0.1 -0.1)\">\n       <use xlink:href=\"#DejaVuSans-36\"/>\n       <use x=\"63.623047\" xlink:href=\"#DejaVuSans-30\"/>\n       <use x=\"127.246094\" xlink:href=\"#DejaVuSans-30\"/>\n       <use x=\"190.869141\" xlink:href=\"#DejaVuSans-30\"/>\n       <use x=\"254.492188\" xlink:href=\"#DejaVuSans-30\"/>\n      </g>\n     </g>\n    </g>\n    <g id=\"ytick_4\">\n     <g id=\"line2d_10\">\n      <g>\n       <use style=\"stroke:#000000;stroke-width:0.8;\" x=\"66.053125\" xlink:href=\"#m1ab5902328\" y=\"98.797248\"/>\n      </g>\n     </g>\n     <g id=\"text_11\">\n      <!-- 80000 -->\n      <g transform=\"translate(27.240625 102.596467)scale(0.1 -0.1)\">\n       <defs>\n        <path d=\"M 2034 2216 \nQ 1584 2216 1326 1975 \nQ 1069 1734 1069 1313 \nQ 1069 891 1326 650 \nQ 1584 409 2034 409 \nQ 2484 409 2743 651 \nQ 3003 894 3003 1313 \nQ 3003 1734 2745 1975 \nQ 2488 2216 2034 2216 \nz\nM 1403 2484 \nQ 997 2584 770 2862 \nQ 544 3141 544 3541 \nQ 544 4100 942 4425 \nQ 1341 4750 2034 4750 \nQ 2731 4750 3128 4425 \nQ 3525 4100 3525 3541 \nQ 3525 3141 3298 2862 \nQ 3072 2584 2669 2484 \nQ 3125 2378 3379 2068 \nQ 3634 1759 3634 1313 \nQ 3634 634 3220 271 \nQ 2806 -91 2034 -91 \nQ 1263 -91 848 271 \nQ 434 634 434 1313 \nQ 434 1759 690 2068 \nQ 947 2378 1403 2484 \nz\nM 1172 3481 \nQ 1172 3119 1398 2916 \nQ 1625 2713 2034 2713 \nQ 2441 2713 2670 2916 \nQ 2900 3119 2900 3481 \nQ 2900 3844 2670 4047 \nQ 2441 4250 2034 4250 \nQ 1625 4250 1398 4047 \nQ 1172 3844 1172 3481 \nz\n\" id=\"DejaVuSans-38\" transform=\"scale(0.015625)\"/>\n       </defs>\n       <use xlink:href=\"#DejaVuSans-38\"/>\n       <use x=\"63.623047\" xlink:href=\"#DejaVuSans-30\"/>\n       <use x=\"127.246094\" xlink:href=\"#DejaVuSans-30\"/>\n       <use x=\"190.869141\" xlink:href=\"#DejaVuSans-30\"/>\n       <use x=\"254.492188\" xlink:href=\"#DejaVuSans-30\"/>\n      </g>\n     </g>\n    </g>\n    <g id=\"ytick_5\">\n     <g id=\"line2d_11\">\n      <g>\n       <use style=\"stroke:#000000;stroke-width:0.8;\" x=\"66.053125\" xlink:href=\"#m1ab5902328\" y=\"62.701025\"/>\n      </g>\n     </g>\n     <g id=\"text_12\">\n      <!-- 100000 -->\n      <g transform=\"translate(20.878125 66.500244)scale(0.1 -0.1)\">\n       <use xlink:href=\"#DejaVuSans-31\"/>\n       <use x=\"63.623047\" xlink:href=\"#DejaVuSans-30\"/>\n       <use x=\"127.246094\" xlink:href=\"#DejaVuSans-30\"/>\n       <use x=\"190.869141\" xlink:href=\"#DejaVuSans-30\"/>\n       <use x=\"254.492188\" xlink:href=\"#DejaVuSans-30\"/>\n       <use x=\"318.115234\" xlink:href=\"#DejaVuSans-30\"/>\n      </g>\n     </g>\n    </g>\n    <g id=\"ytick_6\">\n     <g id=\"line2d_12\">\n      <g>\n       <use style=\"stroke:#000000;stroke-width:0.8;\" x=\"66.053125\" xlink:href=\"#m1ab5902328\" y=\"26.604803\"/>\n      </g>\n     </g>\n     <g id=\"text_13\">\n      <!-- 120000 -->\n      <g transform=\"translate(20.878125 30.404021)scale(0.1 -0.1)\">\n       <use xlink:href=\"#DejaVuSans-31\"/>\n       <use x=\"63.623047\" xlink:href=\"#DejaVuSans-32\"/>\n       <use x=\"127.246094\" xlink:href=\"#DejaVuSans-30\"/>\n       <use x=\"190.869141\" xlink:href=\"#DejaVuSans-30\"/>\n       <use x=\"254.492188\" xlink:href=\"#DejaVuSans-30\"/>\n       <use x=\"318.115234\" xlink:href=\"#DejaVuSans-30\"/>\n      </g>\n     </g>\n    </g>\n    <g id=\"text_14\">\n     <!-- SALARY -->\n     <g transform=\"translate(14.798438 135.136406)rotate(-90)scale(0.1 -0.1)\">\n      <defs>\n       <path d=\"M 2841 2188 \nQ 3044 2119 3236 1894 \nQ 3428 1669 3622 1275 \nL 4263 0 \nL 3584 0 \nL 2988 1197 \nQ 2756 1666 2539 1819 \nQ 2322 1972 1947 1972 \nL 1259 1972 \nL 1259 0 \nL 628 0 \nL 628 4666 \nL 2053 4666 \nQ 2853 4666 3247 4331 \nQ 3641 3997 3641 3322 \nQ 3641 2881 3436 2590 \nQ 3231 2300 2841 2188 \nz\nM 1259 4147 \nL 1259 2491 \nL 2053 2491 \nQ 2509 2491 2742 2702 \nQ 2975 2913 2975 3322 \nQ 2975 3731 2742 3939 \nQ 2509 4147 2053 4147 \nL 1259 4147 \nz\n\" id=\"DejaVuSans-52\" transform=\"scale(0.015625)\"/>\n       <path d=\"M -13 4666 \nL 666 4666 \nL 1959 2747 \nL 3244 4666 \nL 3922 4666 \nL 2272 2222 \nL 2272 0 \nL 1638 0 \nL 1638 2222 \nL -13 4666 \nz\n\" id=\"DejaVuSans-59\" transform=\"scale(0.015625)\"/>\n      </defs>\n      <use xlink:href=\"#DejaVuSans-53\"/>\n      <use x=\"65.351562\" xlink:href=\"#DejaVuSans-41\"/>\n      <use x=\"133.759766\" xlink:href=\"#DejaVuSans-4c\"/>\n      <use x=\"191.722656\" xlink:href=\"#DejaVuSans-41\"/>\n      <use x=\"260.130859\" xlink:href=\"#DejaVuSans-52\"/>\n      <use x=\"323.238281\" xlink:href=\"#DejaVuSans-59\"/>\n     </g>\n    </g>\n   </g>\n   <g id=\"line2d_13\">\n    <path clip-path=\"url(#p8ddd7419ae)\" d=\"M 81.271307 210.764673 \nL 85.747243 207.916423 \nL 87.537617 206.777123 \nL 88.432804 206.207473 \nL 90.223178 205.068172 \nL 92.90874 203.359222 \nL 93.803927 202.789572 \nL 94.549916 202.314863 \nL 94.699114 202.219922 \nL 96.489489 201.080622 \nL 99.17505 199.371671 \nL 100.070237 198.802021 \nL 100.965424 198.232371 \nL 101.860612 197.662721 \nL 103.650986 196.523421 \nL 104.546173 195.953771 \nL 105.44136 195.38412 \nL 107.231735 194.24482 \nL 108.126922 193.67517 \nL 109.917296 192.53587 \nL 110.812483 191.96622 \nL 111.70767 191.39657 \nL 112.602858 190.82692 \nL 113.498045 190.257269 \nL 114.393232 189.687619 \nL 115.288419 189.117969 \nL 117.078793 187.978669 \nL 120.659542 185.700069 \nL 121.554729 185.130419 \nL 123.345104 183.991118 \nL 126.030665 182.282168 \nL 129.611414 180.003568 \nL 130.506601 179.433917 \nL 131.9389 178.522477 \nL 134.982537 176.585667 \nL 139.458473 173.737416 \nL 143.934408 170.889166 \nL 148.410344 168.040915 \nL 149.305531 167.471265 \nL 152.88628 165.192665 \nL 154.31858 164.281225 \nL 155.750879 163.369784 \nL 157.362216 162.344414 \nL 158.794515 161.432974 \nL 161.838152 159.496164 \nL 166.314088 156.647913 \nL 169.178686 154.825033 \nL 179.741895 148.103161 \nL 188.693767 142.40666 \nL 191.558366 140.58378 \nL 191.737403 140.46985 \nL 199.077938 135.798719 \nL 206.59751 131.013658 \nL 214.057403 126.266574 \nL 215.549382 125.317157 \nL 218.413981 123.494277 \nL 218.593018 123.380347 \nL 221.457617 121.557466 \nL 224.501253 119.620656 \nL 228.977189 116.772405 \nL 236.317724 112.101275 \nL 236.496761 111.987345 \nL 243.837296 107.316214 \nL 266.216975 93.074961 \nL 281.077082 83.618769 \nL 281.25612 83.504839 \nL 287.164355 79.745148 \nL 290.745104 77.466548 \nL 296.116227 74.048647 \nL 385.634943 17.083636 \n\" style=\"fill:none;stroke:#1f77b4;stroke-linecap:square;stroke-width:1.5;\"/>\n   </g>\n   <g id=\"patch_3\">\n    <path d=\"M 66.053125 224.64 \nL 66.053125 7.2 \n\" style=\"fill:none;stroke:#000000;stroke-linecap:square;stroke-linejoin:miter;stroke-width:0.8;\"/>\n   </g>\n   <g id=\"patch_4\">\n    <path d=\"M 400.853125 224.64 \nL 400.853125 7.2 \n\" style=\"fill:none;stroke:#000000;stroke-linecap:square;stroke-linejoin:miter;stroke-width:0.8;\"/>\n   </g>\n   <g id=\"patch_5\">\n    <path d=\"M 66.053125 224.64 \nL 400.853125 224.64 \n\" style=\"fill:none;stroke:#000000;stroke-linecap:square;stroke-linejoin:miter;stroke-width:0.8;\"/>\n   </g>\n   <g id=\"patch_6\">\n    <path d=\"M 66.053125 7.2 \nL 400.853125 7.2 \n\" style=\"fill:none;stroke:#000000;stroke-linecap:square;stroke-linejoin:miter;stroke-width:0.8;\"/>\n   </g>\n  </g>\n </g>\n <defs>\n  <clipPath id=\"p8ddd7419ae\">\n   <rect height=\"217.44\" width=\"334.8\" x=\"66.053125\" y=\"7.2\"/>\n  </clipPath>\n </defs>\n</svg>\n",
      "image/png": "[encoded data removed]"
     },
     "metadata": {
      "needs_background": "light"
     }
    }
   ],
   "source": [
    " mod = model.fit(X_train,y_train)\n",
    " \n",
    " sns.scatterplot(x = X_train[\"SALBEGIN\"], y = y_train)\n",
    " sns.lineplot(x = X_train[\"SALBEGIN\"], y = mod.intercept_ + X_train[\"SALBEGIN\"]*mod.coef_)"
   ]
  },
  {
   "cell_type": "code",
   "execution_count": 40,
   "metadata": {},
   "outputs": [
    {
     "output_type": "execute_result",
     "data": {
      "text/plain": [
       "<AxesSubplot:xlabel='SALBEGIN', ylabel='SALARY'>"
      ]
     },
     "metadata": {},
     "execution_count": 40
    },
    {
     "output_type": "display_data",
     "data": {
      "text/plain": "<Figure size 432x288 with 1 Axes>",
      "image/svg+xml": "<?xml version=\"1.0\" encoding=\"utf-8\" standalone=\"no\"?>\n<!DOCTYPE svg PUBLIC \"-//W3C//DTD SVG 1.1//EN\"\n  \"http://www.w3.org/Graphics/SVG/1.1/DTD/svg11.dtd\">\n<svg height=\"262.19625pt\" version=\"1.1\" viewBox=\"0 0 423.959375 262.19625\" width=\"423.959375pt\" xmlns=\"http://www.w3.org/2000/svg\" xmlns:xlink=\"http://www.w3.org/1999/xlink\">\n <metadata>\n  <rdf:RDF xmlns:cc=\"http://creativecommons.org/ns#\" xmlns:dc=\"http://purl.org/dc/elements/1.1/\" xmlns:rdf=\"http://www.w3.org/1999/02/22-rdf-syntax-ns#\">\n   <cc:Work>\n    <dc:type rdf:resource=\"http://purl.org/dc/dcmitype/StillImage\"/>\n    <dc:date>2021-06-03T21:09:16.796026</dc:date>\n    <dc:format>image/svg+xml</dc:format>\n    <dc:creator>\n     <cc:Agent>\n      <dc:title>Matplotlib v3.4.2, https://matplotlib.org/</dc:title>\n     </cc:Agent>\n    </dc:creator>\n   </cc:Work>\n  </rdf:RDF>\n </metadata>\n <defs>\n  <style type=\"text/css\">*{stroke-linecap:butt;stroke-linejoin:round;}</style>\n </defs>\n <g id=\"figure_1\">\n  <g id=\"patch_1\">\n   <path d=\"M 0 262.19625 \nL 423.959375 262.19625 \nL 423.959375 0 \nL 0 0 \nz\n\" style=\"fill:none;\"/>\n  </g>\n  <g id=\"axes_1\">\n   <g id=\"patch_2\">\n    <path d=\"M 66.053125 224.64 \nL 400.853125 224.64 \nL 400.853125 7.2 \nL 66.053125 7.2 \nz\n\" style=\"fill:#ffffff;\"/>\n   </g>\n   <g id=\"PathCollection_1\">\n    <defs>\n     <path d=\"M 0 3 \nC 0.795609 3 1.55874 2.683901 2.12132 2.12132 \nC 2.683901 1.55874 3 0.795609 3 0 \nC 3 -0.795609 2.683901 -1.55874 2.12132 -2.12132 \nC 1.55874 -2.683901 0.795609 -3 0 -3 \nC -0.795609 -3 -1.55874 -2.683901 -2.12132 -2.12132 \nC -2.683901 -1.55874 -3 -0.795609 -3 0 \nC -3 0.795609 -2.683901 1.55874 -2.12132 2.12132 \nC -1.55874 2.683901 -0.795609 3 0 3 \nz\n\" id=\"mff68cc250d\" style=\"stroke:#1f77b4;stroke-opacity:0.8;\"/>\n    </defs>\n    <g clip-path=\"url(#pc63164fa39)\">\n     <use style=\"fill:#1f77b4;fill-opacity:0.8;stroke:#1f77b4;stroke-opacity:0.8;\" x=\"110.36489\" xlink:href=\"#mff68cc250d\" y=\"197.44367\"/>\n     <use style=\"fill:#1f77b4;fill-opacity:0.8;stroke:#1f77b4;stroke-opacity:0.8;\" x=\"85.747243\" xlink:href=\"#mff68cc250d\" y=\"200.125918\"/>\n     <use style=\"fill:#1f77b4;fill-opacity:0.8;stroke:#1f77b4;stroke-opacity:0.8;\" x=\"95.594301\" xlink:href=\"#mff68cc250d\" y=\"195.005262\"/>\n     <use style=\"fill:#1f77b4;fill-opacity:0.8;stroke:#1f77b4;stroke-opacity:0.8;\" x=\"285.839478\" xlink:href=\"#mff68cc250d\" y=\"127.786494\"/>\n     <use style=\"fill:#1f77b4;fill-opacity:0.8;stroke:#1f77b4;stroke-opacity:0.8;\" x=\"203.911949\" xlink:href=\"#mff68cc250d\" y=\"113.359249\"/>\n     <use style=\"fill:#1f77b4;fill-opacity:0.8;stroke:#1f77b4;stroke-opacity:0.8;\" x=\"125.135478\" xlink:href=\"#mff68cc250d\" y=\"196.468307\"/>\n     <use style=\"fill:#1f77b4;fill-opacity:0.8;stroke:#1f77b4;stroke-opacity:0.8;\" x=\"73.930772\" xlink:href=\"#mff68cc250d\" y=\"214.024841\"/>\n     <use style=\"fill:#1f77b4;fill-opacity:0.8;stroke:#1f77b4;stroke-opacity:0.8;\" x=\"115.288419\" xlink:href=\"#mff68cc250d\" y=\"186.470836\"/>\n     <use style=\"fill:#1f77b4;fill-opacity:0.8;stroke:#1f77b4;stroke-opacity:0.8;\" x=\"78.854301\" xlink:href=\"#mff68cc250d\" y=\"207.1973\"/>\n     <use style=\"fill:#1f77b4;fill-opacity:0.8;stroke:#1f77b4;stroke-opacity:0.8;\" x=\"105.44136\" xlink:href=\"#mff68cc250d\" y=\"189.396925\"/>\n     <use style=\"fill:#1f77b4;fill-opacity:0.8;stroke:#1f77b4;stroke-opacity:0.8;\" x=\"125.135478\" xlink:href=\"#mff68cc250d\" y=\"193.786059\"/>\n     <use style=\"fill:#1f77b4;fill-opacity:0.8;stroke:#1f77b4;stroke-opacity:0.8;\" x=\"105.44136\" xlink:href=\"#mff68cc250d\" y=\"198.419033\"/>\n     <use style=\"fill:#1f77b4;fill-opacity:0.8;stroke:#1f77b4;stroke-opacity:0.8;\" x=\"105.44136\" xlink:href=\"#mff68cc250d\" y=\"174.034957\"/>\n     <use style=\"fill:#1f77b4;fill-opacity:0.8;stroke:#1f77b4;stroke-opacity:0.8;\" x=\"134.982537\" xlink:href=\"#mff68cc250d\" y=\"185.251632\"/>\n     <use style=\"fill:#1f77b4;fill-opacity:0.8;stroke:#1f77b4;stroke-opacity:0.8;\" x=\"269.49336\" xlink:href=\"#mff68cc250d\" y=\"90.803979\"/>\n     <use style=\"fill:#1f77b4;fill-opacity:0.8;stroke:#1f77b4;stroke-opacity:0.8;\" x=\"99.533125\" xlink:href=\"#mff68cc250d\" y=\"199.394396\"/>\n     <use style=\"fill:#1f77b4;fill-opacity:0.8;stroke:#1f77b4;stroke-opacity:0.8;\" x=\"85.747243\" xlink:href=\"#mff68cc250d\" y=\"206.465778\"/>\n     <use style=\"fill:#1f77b4;fill-opacity:0.8;stroke:#1f77b4;stroke-opacity:0.8;\" x=\"174.370772\" xlink:href=\"#mff68cc250d\" y=\"175.254161\"/>\n     <use style=\"fill:#1f77b4;fill-opacity:0.8;stroke:#1f77b4;stroke-opacity:0.8;\" x=\"154.676654\" xlink:href=\"#mff68cc250d\" y=\"141.807337\"/>\n     <use style=\"fill:#1f77b4;fill-opacity:0.8;stroke:#1f77b4;stroke-opacity:0.8;\" x=\"92.640184\" xlink:href=\"#mff68cc250d\" y=\"197.199829\"/>\n     <use style=\"fill:#1f77b4;fill-opacity:0.8;stroke:#1f77b4;stroke-opacity:0.8;\" x=\"203.911949\" xlink:href=\"#mff68cc250d\" y=\"148.106557\"/>\n     <use style=\"fill:#1f77b4;fill-opacity:0.8;stroke:#1f77b4;stroke-opacity:0.8;\" x=\"95.594301\" xlink:href=\"#mff68cc250d\" y=\"183.057065\"/>\n     <use style=\"fill:#1f77b4;fill-opacity:0.8;stroke:#1f77b4;stroke-opacity:0.8;\" x=\"110.36489\" xlink:href=\"#mff68cc250d\" y=\"202.564326\"/>\n     <use style=\"fill:#1f77b4;fill-opacity:0.8;stroke:#1f77b4;stroke-opacity:0.8;\" x=\"292.535478\" xlink:href=\"#mff68cc250d\" y=\"125.144886\"/>\n     <use style=\"fill:#1f77b4;fill-opacity:0.8;stroke:#1f77b4;stroke-opacity:0.8;\" x=\"110.36489\" xlink:href=\"#mff68cc250d\" y=\"191.591492\"/>\n     <use style=\"fill:#1f77b4;fill-opacity:0.8;stroke:#1f77b4;stroke-opacity:0.8;\" x=\"105.44136\" xlink:href=\"#mff68cc250d\" y=\"181.837862\"/>\n     <use style=\"fill:#1f77b4;fill-opacity:0.8;stroke:#1f77b4;stroke-opacity:0.8;\" x=\"236.604184\" xlink:href=\"#mff68cc250d\" y=\"130.631303\"/>\n     <use style=\"fill:#1f77b4;fill-opacity:0.8;stroke:#1f77b4;stroke-opacity:0.8;\" x=\"78.854301\" xlink:href=\"#mff68cc250d\" y=\"200.6136\"/>\n     <use style=\"fill:#1f77b4;fill-opacity:0.8;stroke:#1f77b4;stroke-opacity:0.8;\" x=\"70.976654\" xlink:href=\"#mff68cc250d\" y=\"204.758893\"/>\n     <use style=\"fill:#1f77b4;fill-opacity:0.8;stroke:#1f77b4;stroke-opacity:0.8;\" x=\"236.801125\" xlink:href=\"#mff68cc250d\" y=\"82.675954\"/>\n     <use style=\"fill:#1f77b4;fill-opacity:0.8;stroke:#1f77b4;stroke-opacity:0.8;\" x=\"90.670772\" xlink:href=\"#mff68cc250d\" y=\"193.054536\"/>\n     <use style=\"fill:#1f77b4;fill-opacity:0.8;stroke:#1f77b4;stroke-opacity:0.8;\" x=\"119.227243\" xlink:href=\"#mff68cc250d\" y=\"198.175192\"/>\n     <use style=\"fill:#1f77b4;fill-opacity:0.8;stroke:#1f77b4;stroke-opacity:0.8;\" x=\"86.731949\" xlink:href=\"#mff68cc250d\" y=\"184.276269\"/>\n     <use style=\"fill:#1f77b4;fill-opacity:0.8;stroke:#1f77b4;stroke-opacity:0.8;\" x=\"130.059007\" xlink:href=\"#mff68cc250d\" y=\"189.153084\"/>\n     <use style=\"fill:#1f77b4;fill-opacity:0.8;stroke:#1f77b4;stroke-opacity:0.8;\" x=\"102.487243\" xlink:href=\"#mff68cc250d\" y=\"183.788588\"/>\n     <use style=\"fill:#1f77b4;fill-opacity:0.8;stroke:#1f77b4;stroke-opacity:0.8;\" x=\"105.44136\" xlink:href=\"#mff68cc250d\" y=\"196.955988\"/>\n     <use style=\"fill:#1f77b4;fill-opacity:0.8;stroke:#1f77b4;stroke-opacity:0.8;\" x=\"90.670772\" xlink:href=\"#mff68cc250d\" y=\"199.638237\"/>\n     <use style=\"fill:#1f77b4;fill-opacity:0.8;stroke:#1f77b4;stroke-opacity:0.8;\" x=\"88.70136\" xlink:href=\"#mff68cc250d\" y=\"193.054536\"/>\n     <use style=\"fill:#1f77b4;fill-opacity:0.8;stroke:#1f77b4;stroke-opacity:0.8;\" x=\"105.44136\" xlink:href=\"#mff68cc250d\" y=\"190.128447\"/>\n     <use style=\"fill:#1f77b4;fill-opacity:0.8;stroke:#1f77b4;stroke-opacity:0.8;\" x=\"115.288419\" xlink:href=\"#mff68cc250d\" y=\"191.591492\"/>\n     <use style=\"fill:#1f77b4;fill-opacity:0.8;stroke:#1f77b4;stroke-opacity:0.8;\" x=\"125.135478\" xlink:href=\"#mff68cc250d\" y=\"187.446199\"/>\n     <use style=\"fill:#1f77b4;fill-opacity:0.8;stroke:#1f77b4;stroke-opacity:0.8;\" x=\"110.36489\" xlink:href=\"#mff68cc250d\" y=\"192.323014\"/>\n     <use style=\"fill:#1f77b4;fill-opacity:0.8;stroke:#1f77b4;stroke-opacity:0.8;\" x=\"296.474301\" xlink:href=\"#mff68cc250d\" y=\"77.799139\"/>\n     <use style=\"fill:#1f77b4;fill-opacity:0.8;stroke:#1f77b4;stroke-opacity:0.8;\" x=\"110.36489\" xlink:href=\"#mff68cc250d\" y=\"176.473365\"/>\n     <use style=\"fill:#1f77b4;fill-opacity:0.8;stroke:#1f77b4;stroke-opacity:0.8;\" x=\"80.823713\" xlink:href=\"#mff68cc250d\" y=\"205.734256\"/>\n     <use style=\"fill:#1f77b4;fill-opacity:0.8;stroke:#1f77b4;stroke-opacity:0.8;\" x=\"66.053125\" xlink:href=\"#mff68cc250d\" y=\"212.805638\"/>\n     <use style=\"fill:#1f77b4;fill-opacity:0.8;stroke:#1f77b4;stroke-opacity:0.8;\" x=\"120.211949\" xlink:href=\"#mff68cc250d\" y=\"175.01032\"/>\n     <use style=\"fill:#1f77b4;fill-opacity:0.8;stroke:#1f77b4;stroke-opacity:0.8;\" x=\"99.533125\" xlink:href=\"#mff68cc250d\" y=\"190.372288\"/>\n     <use style=\"fill:#1f77b4;fill-opacity:0.8;stroke:#1f77b4;stroke-opacity:0.8;\" x=\"90.670772\" xlink:href=\"#mff68cc250d\" y=\"203.78353\"/>\n     <use style=\"fill:#1f77b4;fill-opacity:0.8;stroke:#1f77b4;stroke-opacity:0.8;\" x=\"115.288419\" xlink:href=\"#mff68cc250d\" y=\"183.788588\"/>\n     <use style=\"fill:#1f77b4;fill-opacity:0.8;stroke:#1f77b4;stroke-opacity:0.8;\" x=\"134.982537\" xlink:href=\"#mff68cc250d\" y=\"186.958517\"/>\n     <use style=\"fill:#1f77b4;fill-opacity:0.8;stroke:#1f77b4;stroke-opacity:0.8;\" x=\"110.36489\" xlink:href=\"#mff68cc250d\" y=\"183.057065\"/>\n     <use style=\"fill:#1f77b4;fill-opacity:0.8;stroke:#1f77b4;stroke-opacity:0.8;\" x=\"187.36889\" xlink:href=\"#mff68cc250d\" y=\"128.599296\"/>\n     <use style=\"fill:#1f77b4;fill-opacity:0.8;stroke:#1f77b4;stroke-opacity:0.8;\" x=\"73.930772\" xlink:href=\"#mff68cc250d\" y=\"208.172663\"/>\n     <use style=\"fill:#1f77b4;fill-opacity:0.8;stroke:#1f77b4;stroke-opacity:0.8;\" x=\"80.823713\" xlink:href=\"#mff68cc250d\" y=\"202.808167\"/>\n     <use style=\"fill:#1f77b4;fill-opacity:0.8;stroke:#1f77b4;stroke-opacity:0.8;\" x=\"223.606066\" xlink:href=\"#mff68cc250d\" y=\"163.062123\"/>\n     <use style=\"fill:#1f77b4;fill-opacity:0.8;stroke:#1f77b4;stroke-opacity:0.8;\" x=\"174.370772\" xlink:href=\"#mff68cc250d\" y=\"151.113926\"/>\n     <use style=\"fill:#1f77b4;fill-opacity:0.8;stroke:#1f77b4;stroke-opacity:0.8;\" x=\"100.517831\" xlink:href=\"#mff68cc250d\" y=\"197.199829\"/>\n     <use style=\"fill:#1f77b4;fill-opacity:0.8;stroke:#1f77b4;stroke-opacity:0.8;\" x=\"110.36489\" xlink:href=\"#mff68cc250d\" y=\"197.687511\"/>\n     <use style=\"fill:#1f77b4;fill-opacity:0.8;stroke:#1f77b4;stroke-opacity:0.8;\" x=\"184.217831\" xlink:href=\"#mff68cc250d\" y=\"147.700156\"/>\n     <use style=\"fill:#1f77b4;fill-opacity:0.8;stroke:#1f77b4;stroke-opacity:0.8;\" x=\"187.565831\" xlink:href=\"#mff68cc250d\" y=\"128.599296\"/>\n     <use style=\"fill:#1f77b4;fill-opacity:0.8;stroke:#1f77b4;stroke-opacity:0.8;\" x=\"100.517831\" xlink:href=\"#mff68cc250d\" y=\"200.125918\"/>\n     <use style=\"fill:#1f77b4;fill-opacity:0.8;stroke:#1f77b4;stroke-opacity:0.8;\" x=\"100.517831\" xlink:href=\"#mff68cc250d\" y=\"198.662874\"/>\n     <use style=\"fill:#1f77b4;fill-opacity:0.8;stroke:#1f77b4;stroke-opacity:0.8;\" x=\"110.36489\" xlink:href=\"#mff68cc250d\" y=\"191.835333\"/>\n     <use style=\"fill:#1f77b4;fill-opacity:0.8;stroke:#1f77b4;stroke-opacity:0.8;\" x=\"90.670772\" xlink:href=\"#mff68cc250d\" y=\"201.101281\"/>\n     <use style=\"fill:#1f77b4;fill-opacity:0.8;stroke:#1f77b4;stroke-opacity:0.8;\" x=\"95.594301\" xlink:href=\"#mff68cc250d\" y=\"202.076644\"/>\n     <use style=\"fill:#1f77b4;fill-opacity:0.8;stroke:#1f77b4;stroke-opacity:0.8;\" x=\"80.823713\" xlink:href=\"#mff68cc250d\" y=\"206.465778\"/>\n     <use style=\"fill:#1f77b4;fill-opacity:0.8;stroke:#1f77b4;stroke-opacity:0.8;\" x=\"105.44136\" xlink:href=\"#mff68cc250d\" y=\"195.492944\"/>\n     <use style=\"fill:#1f77b4;fill-opacity:0.8;stroke:#1f77b4;stroke-opacity:0.8;\" x=\"110.36489\" xlink:href=\"#mff68cc250d\" y=\"201.345122\"/>\n     <use style=\"fill:#1f77b4;fill-opacity:0.8;stroke:#1f77b4;stroke-opacity:0.8;\" x=\"112.334301\" xlink:href=\"#mff68cc250d\" y=\"197.687511\"/>\n     <use style=\"fill:#1f77b4;fill-opacity:0.8;stroke:#1f77b4;stroke-opacity:0.8;\" x=\"223.606066\" xlink:href=\"#mff68cc250d\" y=\"140.791334\"/>\n     <use style=\"fill:#1f77b4;fill-opacity:0.8;stroke:#1f77b4;stroke-opacity:0.8;\" x=\"73.930772\" xlink:href=\"#mff68cc250d\" y=\"207.928822\"/>\n     <use style=\"fill:#1f77b4;fill-opacity:0.8;stroke:#1f77b4;stroke-opacity:0.8;\" x=\"94.609596\" xlink:href=\"#mff68cc250d\" y=\"182.569384\"/>\n     <use style=\"fill:#1f77b4;fill-opacity:0.8;stroke:#1f77b4;stroke-opacity:0.8;\" x=\"110.36489\" xlink:href=\"#mff68cc250d\" y=\"178.911772\"/>\n     <use style=\"fill:#1f77b4;fill-opacity:0.8;stroke:#1f77b4;stroke-opacity:0.8;\" x=\"73.930772\" xlink:href=\"#mff68cc250d\" y=\"212.561797\"/>\n     <use style=\"fill:#1f77b4;fill-opacity:0.8;stroke:#1f77b4;stroke-opacity:0.8;\" x=\"98.548419\" xlink:href=\"#mff68cc250d\" y=\"208.416504\"/>\n     <use style=\"fill:#1f77b4;fill-opacity:0.8;stroke:#1f77b4;stroke-opacity:0.8;\" x=\"120.211949\" xlink:href=\"#mff68cc250d\" y=\"195.980625\"/>\n     <use style=\"fill:#1f77b4;fill-opacity:0.8;stroke:#1f77b4;stroke-opacity:0.8;\" x=\"120.211949\" xlink:href=\"#mff68cc250d\" y=\"184.276269\"/>\n     <use style=\"fill:#1f77b4;fill-opacity:0.8;stroke:#1f77b4;stroke-opacity:0.8;\" x=\"187.36889\" xlink:href=\"#mff68cc250d\" y=\"157.047385\"/>\n     <use style=\"fill:#1f77b4;fill-opacity:0.8;stroke:#1f77b4;stroke-opacity:0.8;\" x=\"139.906066\" xlink:href=\"#mff68cc250d\" y=\"173.547276\"/>\n     <use style=\"fill:#1f77b4;fill-opacity:0.8;stroke:#1f77b4;stroke-opacity:0.8;\" x=\"101.502537\" xlink:href=\"#mff68cc250d\" y=\"198.906714\"/>\n     <use style=\"fill:#1f77b4;fill-opacity:0.8;stroke:#1f77b4;stroke-opacity:0.8;\" x=\"109.380184\" xlink:href=\"#mff68cc250d\" y=\"197.687511\"/>\n     <use style=\"fill:#1f77b4;fill-opacity:0.8;stroke:#1f77b4;stroke-opacity:0.8;\" x=\"72.946066\" xlink:href=\"#mff68cc250d\" y=\"200.369759\"/>\n     <use style=\"fill:#1f77b4;fill-opacity:0.8;stroke:#1f77b4;stroke-opacity:0.8;\" x=\"95.594301\" xlink:href=\"#mff68cc250d\" y=\"186.226995\"/>\n     <use style=\"fill:#1f77b4;fill-opacity:0.8;stroke:#1f77b4;stroke-opacity:0.8;\" x=\"80.823713\" xlink:href=\"#mff68cc250d\" y=\"199.882077\"/>\n     <use style=\"fill:#1f77b4;fill-opacity:0.8;stroke:#1f77b4;stroke-opacity:0.8;\" x=\"144.829596\" xlink:href=\"#mff68cc250d\" y=\"148.512958\"/>\n     <use style=\"fill:#1f77b4;fill-opacity:0.8;stroke:#1f77b4;stroke-opacity:0.8;\" x=\"78.854301\" xlink:href=\"#mff68cc250d\" y=\"204.515052\"/>\n     <use style=\"fill:#1f77b4;fill-opacity:0.8;stroke:#1f77b4;stroke-opacity:0.8;\" x=\"97.563713\" xlink:href=\"#mff68cc250d\" y=\"204.271211\"/>\n     <use style=\"fill:#1f77b4;fill-opacity:0.8;stroke:#1f77b4;stroke-opacity:0.8;\" x=\"115.288419\" xlink:href=\"#mff68cc250d\" y=\"185.251632\"/>\n     <use style=\"fill:#1f77b4;fill-opacity:0.8;stroke:#1f77b4;stroke-opacity:0.8;\" x=\"75.900184\" xlink:href=\"#mff68cc250d\" y=\"203.052007\"/>\n     <use style=\"fill:#1f77b4;fill-opacity:0.8;stroke:#1f77b4;stroke-opacity:0.8;\" x=\"110.36489\" xlink:href=\"#mff68cc250d\" y=\"188.421562\"/>\n     <use style=\"fill:#1f77b4;fill-opacity:0.8;stroke:#1f77b4;stroke-opacity:0.8;\" x=\"195.640419\" xlink:href=\"#mff68cc250d\" y=\"112.749647\"/>\n     <use style=\"fill:#1f77b4;fill-opacity:0.8;stroke:#1f77b4;stroke-opacity:0.8;\" x=\"203.911949\" xlink:href=\"#mff68cc250d\" y=\"108.279233\"/>\n     <use style=\"fill:#1f77b4;fill-opacity:0.8;stroke:#1f77b4;stroke-opacity:0.8;\" x=\"120.211949\" xlink:href=\"#mff68cc250d\" y=\"182.325543\"/>\n     <use style=\"fill:#1f77b4;fill-opacity:0.8;stroke:#1f77b4;stroke-opacity:0.8;\" x=\"80.823713\" xlink:href=\"#mff68cc250d\" y=\"202.320485\"/>\n     <use style=\"fill:#1f77b4;fill-opacity:0.8;stroke:#1f77b4;stroke-opacity:0.8;\" x=\"110.36489\" xlink:href=\"#mff68cc250d\" y=\"110.31124\"/>\n     <use style=\"fill:#1f77b4;fill-opacity:0.8;stroke:#1f77b4;stroke-opacity:0.8;\" x=\"115.288419\" xlink:href=\"#mff68cc250d\" y=\"177.692569\"/>\n     <use style=\"fill:#1f77b4;fill-opacity:0.8;stroke:#1f77b4;stroke-opacity:0.8;\" x=\"100.517831\" xlink:href=\"#mff68cc250d\" y=\"188.909243\"/>\n     <use style=\"fill:#1f77b4;fill-opacity:0.8;stroke:#1f77b4;stroke-opacity:0.8;\" x=\"91.655478\" xlink:href=\"#mff68cc250d\" y=\"196.955988\"/>\n     <use style=\"fill:#1f77b4;fill-opacity:0.8;stroke:#1f77b4;stroke-opacity:0.8;\" x=\"82.793125\" xlink:href=\"#mff68cc250d\" y=\"192.810696\"/>\n     <use style=\"fill:#1f77b4;fill-opacity:0.8;stroke:#1f77b4;stroke-opacity:0.8;\" x=\"80.823713\" xlink:href=\"#mff68cc250d\" y=\"203.539689\"/>\n     <use style=\"fill:#1f77b4;fill-opacity:0.8;stroke:#1f77b4;stroke-opacity:0.8;\" x=\"105.44136\" xlink:href=\"#mff68cc250d\" y=\"185.495473\"/>\n     <use style=\"fill:#1f77b4;fill-opacity:0.8;stroke:#1f77b4;stroke-opacity:0.8;\" x=\"79.839007\" xlink:href=\"#mff68cc250d\" y=\"201.345122\"/>\n     <use style=\"fill:#1f77b4;fill-opacity:0.8;stroke:#1f77b4;stroke-opacity:0.8;\" x=\"115.288419\" xlink:href=\"#mff68cc250d\" y=\"204.271211\"/>\n     <use style=\"fill:#1f77b4;fill-opacity:0.8;stroke:#1f77b4;stroke-opacity:0.8;\" x=\"134.982537\" xlink:href=\"#mff68cc250d\" y=\"169.645824\"/>\n     <use style=\"fill:#1f77b4;fill-opacity:0.8;stroke:#1f77b4;stroke-opacity:0.8;\" x=\"80.823713\" xlink:href=\"#mff68cc250d\" y=\"202.320485\"/>\n     <use style=\"fill:#1f77b4;fill-opacity:0.8;stroke:#1f77b4;stroke-opacity:0.8;\" x=\"130.059007\" xlink:href=\"#mff68cc250d\" y=\"151.967369\"/>\n     <use style=\"fill:#1f77b4;fill-opacity:0.8;stroke:#1f77b4;stroke-opacity:0.8;\" x=\"110.36489\" xlink:href=\"#mff68cc250d\" y=\"196.955988\"/>\n     <use style=\"fill:#1f77b4;fill-opacity:0.8;stroke:#1f77b4;stroke-opacity:0.8;\" x=\"105.44136\" xlink:href=\"#mff68cc250d\" y=\"200.857441\"/>\n     <use style=\"fill:#1f77b4;fill-opacity:0.8;stroke:#1f77b4;stroke-opacity:0.8;\" x=\"110.36489\" xlink:href=\"#mff68cc250d\" y=\"188.909243\"/>\n     <use style=\"fill:#1f77b4;fill-opacity:0.8;stroke:#1f77b4;stroke-opacity:0.8;\" x=\"195.640419\" xlink:href=\"#mff68cc250d\" y=\"122.503277\"/>\n     <use style=\"fill:#1f77b4;fill-opacity:0.8;stroke:#1f77b4;stroke-opacity:0.8;\" x=\"115.288419\" xlink:href=\"#mff68cc250d\" y=\"192.566855\"/>\n     <use style=\"fill:#1f77b4;fill-opacity:0.8;stroke:#1f77b4;stroke-opacity:0.8;\" x=\"105.44136\" xlink:href=\"#mff68cc250d\" y=\"199.150555\"/>\n     <use style=\"fill:#1f77b4;fill-opacity:0.8;stroke:#1f77b4;stroke-opacity:0.8;\" x=\"105.44136\" xlink:href=\"#mff68cc250d\" y=\"190.372288\"/>\n     <use style=\"fill:#1f77b4;fill-opacity:0.8;stroke:#1f77b4;stroke-opacity:0.8;\" x=\"85.747243\" xlink:href=\"#mff68cc250d\" y=\"202.808167\"/>\n     <use style=\"fill:#1f77b4;fill-opacity:0.8;stroke:#1f77b4;stroke-opacity:0.8;\" x=\"78.854301\" xlink:href=\"#mff68cc250d\" y=\"199.638237\"/>\n     <use style=\"fill:#1f77b4;fill-opacity:0.8;stroke:#1f77b4;stroke-opacity:0.8;\" x=\"228.529596\" xlink:href=\"#mff68cc250d\" y=\"150.138563\"/>\n     <use style=\"fill:#1f77b4;fill-opacity:0.8;stroke:#1f77b4;stroke-opacity:0.8;\" x=\"70.976654\" xlink:href=\"#mff68cc250d\" y=\"208.416504\"/>\n     <use style=\"fill:#1f77b4;fill-opacity:0.8;stroke:#1f77b4;stroke-opacity:0.8;\" x=\"110.36489\" xlink:href=\"#mff68cc250d\" y=\"195.736785\"/>\n     <use style=\"fill:#1f77b4;fill-opacity:0.8;stroke:#1f77b4;stroke-opacity:0.8;\" x=\"95.594301\" xlink:href=\"#mff68cc250d\" y=\"197.44367\"/>\n     <use style=\"fill:#1f77b4;fill-opacity:0.8;stroke:#1f77b4;stroke-opacity:0.8;\" x=\"147.980654\" xlink:href=\"#mff68cc250d\" y=\"166.801015\"/>\n     <use style=\"fill:#1f77b4;fill-opacity:0.8;stroke:#1f77b4;stroke-opacity:0.8;\" x=\"92.640184\" xlink:href=\"#mff68cc250d\" y=\"208.416504\"/>\n     <use style=\"fill:#1f77b4;fill-opacity:0.8;stroke:#1f77b4;stroke-opacity:0.8;\" x=\"130.059007\" xlink:href=\"#mff68cc250d\" y=\"175.01032\"/>\n     <use style=\"fill:#1f77b4;fill-opacity:0.8;stroke:#1f77b4;stroke-opacity:0.8;\" x=\"110.36489\" xlink:href=\"#mff68cc250d\" y=\"188.421562\"/>\n     <use style=\"fill:#1f77b4;fill-opacity:0.8;stroke:#1f77b4;stroke-opacity:0.8;\" x=\"100.517831\" xlink:href=\"#mff68cc250d\" y=\"206.709619\"/>\n     <use style=\"fill:#1f77b4;fill-opacity:0.8;stroke:#1f77b4;stroke-opacity:0.8;\" x=\"110.36489\" xlink:href=\"#mff68cc250d\" y=\"179.155613\"/>\n     <use style=\"fill:#1f77b4;fill-opacity:0.8;stroke:#1f77b4;stroke-opacity:0.8;\" x=\"95.594301\" xlink:href=\"#mff68cc250d\" y=\"205.246574\"/>\n     <use style=\"fill:#1f77b4;fill-opacity:0.8;stroke:#1f77b4;stroke-opacity:0.8;\" x=\"217.107007\" xlink:href=\"#mff68cc250d\" y=\"129.615299\"/>\n     <use style=\"fill:#1f77b4;fill-opacity:0.8;stroke:#1f77b4;stroke-opacity:0.8;\" x=\"95.594301\" xlink:href=\"#mff68cc250d\" y=\"201.832804\"/>\n     <use style=\"fill:#1f77b4;fill-opacity:0.8;stroke:#1f77b4;stroke-opacity:0.8;\" x=\"400.853125\" xlink:href=\"#mff68cc250d\" y=\"72.109521\"/>\n     <use style=\"fill:#1f77b4;fill-opacity:0.8;stroke:#1f77b4;stroke-opacity:0.8;\" x=\"73.930772\" xlink:href=\"#mff68cc250d\" y=\"205.490415\"/>\n     <use style=\"fill:#1f77b4;fill-opacity:0.8;stroke:#1f77b4;stroke-opacity:0.8;\" x=\"73.930772\" xlink:href=\"#mff68cc250d\" y=\"214.512523\"/>\n     <use style=\"fill:#1f77b4;fill-opacity:0.8;stroke:#1f77b4;stroke-opacity:0.8;\" x=\"134.982537\" xlink:href=\"#mff68cc250d\" y=\"175.01032\"/>\n     <use style=\"fill:#1f77b4;fill-opacity:0.8;stroke:#1f77b4;stroke-opacity:0.8;\" x=\"105.44136\" xlink:href=\"#mff68cc250d\" y=\"197.199829\"/>\n     <use style=\"fill:#1f77b4;fill-opacity:0.8;stroke:#1f77b4;stroke-opacity:0.8;\" x=\"144.829596\" xlink:href=\"#mff68cc250d\" y=\"175.01032\"/>\n     <use style=\"fill:#1f77b4;fill-opacity:0.8;stroke:#1f77b4;stroke-opacity:0.8;\" x=\"95.594301\" xlink:href=\"#mff68cc250d\" y=\"196.955988\"/>\n     <use style=\"fill:#1f77b4;fill-opacity:0.8;stroke:#1f77b4;stroke-opacity:0.8;\" x=\"100.517831\" xlink:href=\"#mff68cc250d\" y=\"171.59655\"/>\n     <use style=\"fill:#1f77b4;fill-opacity:0.8;stroke:#1f77b4;stroke-opacity:0.8;\" x=\"80.823713\" xlink:href=\"#mff68cc250d\" y=\"207.684982\"/>\n     <use style=\"fill:#1f77b4;fill-opacity:0.8;stroke:#1f77b4;stroke-opacity:0.8;\" x=\"105.44136\" xlink:href=\"#mff68cc250d\" y=\"190.128447\"/>\n     <use style=\"fill:#1f77b4;fill-opacity:0.8;stroke:#1f77b4;stroke-opacity:0.8;\" x=\"95.594301\" xlink:href=\"#mff68cc250d\" y=\"196.712148\"/>\n     <use style=\"fill:#1f77b4;fill-opacity:0.8;stroke:#1f77b4;stroke-opacity:0.8;\" x=\"146.405125\" xlink:href=\"#mff68cc250d\" y=\"167.410617\"/>\n     <use style=\"fill:#1f77b4;fill-opacity:0.8;stroke:#1f77b4;stroke-opacity:0.8;\" x=\"80.823713\" xlink:href=\"#mff68cc250d\" y=\"205.734256\"/>\n     <use style=\"fill:#1f77b4;fill-opacity:0.8;stroke:#1f77b4;stroke-opacity:0.8;\" x=\"82.793125\" xlink:href=\"#mff68cc250d\" y=\"205.734256\"/>\n     <use style=\"fill:#1f77b4;fill-opacity:0.8;stroke:#1f77b4;stroke-opacity:0.8;\" x=\"75.900184\" xlink:href=\"#mff68cc250d\" y=\"209.879549\"/>\n     <use style=\"fill:#1f77b4;fill-opacity:0.8;stroke:#1f77b4;stroke-opacity:0.8;\" x=\"110.36489\" xlink:href=\"#mff68cc250d\" y=\"196.224466\"/>\n     <use style=\"fill:#1f77b4;fill-opacity:0.8;stroke:#1f77b4;stroke-opacity:0.8;\" x=\"97.563713\" xlink:href=\"#mff68cc250d\" y=\"201.345122\"/>\n     <use style=\"fill:#1f77b4;fill-opacity:0.8;stroke:#1f77b4;stroke-opacity:0.8;\" x=\"134.982537\" xlink:href=\"#mff68cc250d\" y=\"169.401983\"/>\n     <use style=\"fill:#1f77b4;fill-opacity:0.8;stroke:#1f77b4;stroke-opacity:0.8;\" x=\"90.670772\" xlink:href=\"#mff68cc250d\" y=\"194.517581\"/>\n     <use style=\"fill:#1f77b4;fill-opacity:0.8;stroke:#1f77b4;stroke-opacity:0.8;\" x=\"134.982537\" xlink:href=\"#mff68cc250d\" y=\"154.771538\"/>\n     <use style=\"fill:#1f77b4;fill-opacity:0.8;stroke:#1f77b4;stroke-opacity:0.8;\" x=\"85.747243\" xlink:href=\"#mff68cc250d\" y=\"195.249103\"/>\n     <use style=\"fill:#1f77b4;fill-opacity:0.8;stroke:#1f77b4;stroke-opacity:0.8;\" x=\"125.135478\" xlink:href=\"#mff68cc250d\" y=\"180.862498\"/>\n     <use style=\"fill:#1f77b4;fill-opacity:0.8;stroke:#1f77b4;stroke-opacity:0.8;\" x=\"95.594301\" xlink:href=\"#mff68cc250d\" y=\"188.177721\"/>\n     <use style=\"fill:#1f77b4;fill-opacity:0.8;stroke:#1f77b4;stroke-opacity:0.8;\" x=\"134.982537\" xlink:href=\"#mff68cc250d\" y=\"158.185308\"/>\n     <use style=\"fill:#1f77b4;fill-opacity:0.8;stroke:#1f77b4;stroke-opacity:0.8;\" x=\"110.36489\" xlink:href=\"#mff68cc250d\" y=\"191.591492\"/>\n     <use style=\"fill:#1f77b4;fill-opacity:0.8;stroke:#1f77b4;stroke-opacity:0.8;\" x=\"90.670772\" xlink:href=\"#mff68cc250d\" y=\"201.588963\"/>\n     <use style=\"fill:#1f77b4;fill-opacity:0.8;stroke:#1f77b4;stroke-opacity:0.8;\" x=\"146.405125\" xlink:href=\"#mff68cc250d\" y=\"163.549805\"/>\n     <use style=\"fill:#1f77b4;fill-opacity:0.8;stroke:#1f77b4;stroke-opacity:0.8;\" x=\"73.930772\" xlink:href=\"#mff68cc250d\" y=\"212.805638\"/>\n     <use style=\"fill:#1f77b4;fill-opacity:0.8;stroke:#1f77b4;stroke-opacity:0.8;\" x=\"105.44136\" xlink:href=\"#mff68cc250d\" y=\"190.128447\"/>\n     <use style=\"fill:#1f77b4;fill-opacity:0.8;stroke:#1f77b4;stroke-opacity:0.8;\" x=\"85.747243\" xlink:href=\"#mff68cc250d\" y=\"198.906714\"/>\n     <use style=\"fill:#1f77b4;fill-opacity:0.8;stroke:#1f77b4;stroke-opacity:0.8;\" x=\"149.753125\" xlink:href=\"#mff68cc250d\" y=\"144.855347\"/>\n     <use style=\"fill:#1f77b4;fill-opacity:0.8;stroke:#1f77b4;stroke-opacity:0.8;\" x=\"82.793125\" xlink:href=\"#mff68cc250d\" y=\"196.955988\"/>\n     <use style=\"fill:#1f77b4;fill-opacity:0.8;stroke:#1f77b4;stroke-opacity:0.8;\" x=\"103.471949\" xlink:href=\"#mff68cc250d\" y=\"195.736785\"/>\n     <use style=\"fill:#1f77b4;fill-opacity:0.8;stroke:#1f77b4;stroke-opacity:0.8;\" x=\"100.517831\" xlink:href=\"#mff68cc250d\" y=\"198.662874\"/>\n     <use style=\"fill:#1f77b4;fill-opacity:0.8;stroke:#1f77b4;stroke-opacity:0.8;\" x=\"87.716654\" xlink:href=\"#mff68cc250d\" y=\"203.052007\"/>\n     <use style=\"fill:#1f77b4;fill-opacity:0.8;stroke:#1f77b4;stroke-opacity:0.8;\" x=\"115.288419\" xlink:href=\"#mff68cc250d\" y=\"191.10381\"/>\n     <use style=\"fill:#1f77b4;fill-opacity:0.8;stroke:#1f77b4;stroke-opacity:0.8;\" x=\"115.288419\" xlink:href=\"#mff68cc250d\" y=\"192.566855\"/>\n     <use style=\"fill:#1f77b4;fill-opacity:0.8;stroke:#1f77b4;stroke-opacity:0.8;\" x=\"88.70136\" xlink:href=\"#mff68cc250d\" y=\"195.005262\"/>\n     <use style=\"fill:#1f77b4;fill-opacity:0.8;stroke:#1f77b4;stroke-opacity:0.8;\" x=\"85.747243\" xlink:href=\"#mff68cc250d\" y=\"206.465778\"/>\n     <use style=\"fill:#1f77b4;fill-opacity:0.8;stroke:#1f77b4;stroke-opacity:0.8;\" x=\"78.854301\" xlink:href=\"#mff68cc250d\" y=\"200.125918\"/>\n     <use style=\"fill:#1f77b4;fill-opacity:0.8;stroke:#1f77b4;stroke-opacity:0.8;\" x=\"120.211949\" xlink:href=\"#mff68cc250d\" y=\"195.980625\"/>\n     <use style=\"fill:#1f77b4;fill-opacity:0.8;stroke:#1f77b4;stroke-opacity:0.8;\" x=\"85.747243\" xlink:href=\"#mff68cc250d\" y=\"198.906714\"/>\n     <use style=\"fill:#1f77b4;fill-opacity:0.8;stroke:#1f77b4;stroke-opacity:0.8;\" x=\"146.405125\" xlink:href=\"#mff68cc250d\" y=\"165.581811\"/>\n     <use style=\"fill:#1f77b4;fill-opacity:0.8;stroke:#1f77b4;stroke-opacity:0.8;\" x=\"78.854301\" xlink:href=\"#mff68cc250d\" y=\"208.416504\"/>\n     <use style=\"fill:#1f77b4;fill-opacity:0.8;stroke:#1f77b4;stroke-opacity:0.8;\" x=\"110.36489\" xlink:href=\"#mff68cc250d\" y=\"199.150555\"/>\n     <use style=\"fill:#1f77b4;fill-opacity:0.8;stroke:#1f77b4;stroke-opacity:0.8;\" x=\"220.258066\" xlink:href=\"#mff68cc250d\" y=\"131.647306\"/>\n     <use style=\"fill:#1f77b4;fill-opacity:0.8;stroke:#1f77b4;stroke-opacity:0.8;\" x=\"73.930772\" xlink:href=\"#mff68cc250d\" y=\"214.024841\"/>\n     <use style=\"fill:#1f77b4;fill-opacity:0.8;stroke:#1f77b4;stroke-opacity:0.8;\" x=\"101.502537\" xlink:href=\"#mff68cc250d\" y=\"199.394396\"/>\n     <use style=\"fill:#1f77b4;fill-opacity:0.8;stroke:#1f77b4;stroke-opacity:0.8;\" x=\"110.36489\" xlink:href=\"#mff68cc250d\" y=\"197.687511\"/>\n     <use style=\"fill:#1f77b4;fill-opacity:0.8;stroke:#1f77b4;stroke-opacity:0.8;\" x=\"90.670772\" xlink:href=\"#mff68cc250d\" y=\"205.490415\"/>\n     <use style=\"fill:#1f77b4;fill-opacity:0.8;stroke:#1f77b4;stroke-opacity:0.8;\" x=\"90.670772\" xlink:href=\"#mff68cc250d\" y=\"197.44367\"/>\n     <use style=\"fill:#1f77b4;fill-opacity:0.8;stroke:#1f77b4;stroke-opacity:0.8;\" x=\"82.793125\" xlink:href=\"#mff68cc250d\" y=\"202.076644\"/>\n     <use style=\"fill:#1f77b4;fill-opacity:0.8;stroke:#1f77b4;stroke-opacity:0.8;\" x=\"90.670772\" xlink:href=\"#mff68cc250d\" y=\"204.758893\"/>\n     <use style=\"fill:#1f77b4;fill-opacity:0.8;stroke:#1f77b4;stroke-opacity:0.8;\" x=\"203.911949\" xlink:href=\"#mff68cc250d\" y=\"143.839344\"/>\n     <use style=\"fill:#1f77b4;fill-opacity:0.8;stroke:#1f77b4;stroke-opacity:0.8;\" x=\"92.640184\" xlink:href=\"#mff68cc250d\" y=\"199.394396\"/>\n     <use style=\"fill:#1f77b4;fill-opacity:0.8;stroke:#1f77b4;stroke-opacity:0.8;\" x=\"286.036419\" xlink:href=\"#mff68cc250d\" y=\"118.439265\"/>\n     <use style=\"fill:#1f77b4;fill-opacity:0.8;stroke:#1f77b4;stroke-opacity:0.8;\" x=\"115.288419\" xlink:href=\"#mff68cc250d\" y=\"191.10381\"/>\n     <use style=\"fill:#1f77b4;fill-opacity:0.8;stroke:#1f77b4;stroke-opacity:0.8;\" x=\"85.747243\" xlink:href=\"#mff68cc250d\" y=\"202.808167\"/>\n     <use style=\"fill:#1f77b4;fill-opacity:0.8;stroke:#1f77b4;stroke-opacity:0.8;\" x=\"66.053125\" xlink:href=\"#mff68cc250d\" y=\"205.978096\"/>\n     <use style=\"fill:#1f77b4;fill-opacity:0.8;stroke:#1f77b4;stroke-opacity:0.8;\" x=\"115.288419\" xlink:href=\"#mff68cc250d\" y=\"195.249103\"/>\n     <use style=\"fill:#1f77b4;fill-opacity:0.8;stroke:#1f77b4;stroke-opacity:0.8;\" x=\"110.36489\" xlink:href=\"#mff68cc250d\" y=\"169.792128\"/>\n     <use style=\"fill:#1f77b4;fill-opacity:0.8;stroke:#1f77b4;stroke-opacity:0.8;\" x=\"105.44136\" xlink:href=\"#mff68cc250d\" y=\"198.175192\"/>\n     <use style=\"fill:#1f77b4;fill-opacity:0.8;stroke:#1f77b4;stroke-opacity:0.8;\" x=\"100.517831\" xlink:href=\"#mff68cc250d\" y=\"192.810696\"/>\n     <use style=\"fill:#1f77b4;fill-opacity:0.8;stroke:#1f77b4;stroke-opacity:0.8;\" x=\"100.517831\" xlink:href=\"#mff68cc250d\" y=\"203.78353\"/>\n     <use style=\"fill:#1f77b4;fill-opacity:0.8;stroke:#1f77b4;stroke-opacity:0.8;\" x=\"110.36489\" xlink:href=\"#mff68cc250d\" y=\"185.251632\"/>\n     <use style=\"fill:#1f77b4;fill-opacity:0.8;stroke:#1f77b4;stroke-opacity:0.8;\" x=\"220.258066\" xlink:href=\"#mff68cc250d\" y=\"129.615299\"/>\n     <use style=\"fill:#1f77b4;fill-opacity:0.8;stroke:#1f77b4;stroke-opacity:0.8;\" x=\"90.670772\" xlink:href=\"#mff68cc250d\" y=\"204.02737\"/>\n     <use style=\"fill:#1f77b4;fill-opacity:0.8;stroke:#1f77b4;stroke-opacity:0.8;\" x=\"125.135478\" xlink:href=\"#mff68cc250d\" y=\"193.542218\"/>\n     <use style=\"fill:#1f77b4;fill-opacity:0.8;stroke:#1f77b4;stroke-opacity:0.8;\" x=\"220.258066\" xlink:href=\"#mff68cc250d\" y=\"142.82334\"/>\n     <use style=\"fill:#1f77b4;fill-opacity:0.8;stroke:#1f77b4;stroke-opacity:0.8;\" x=\"95.594301\" xlink:href=\"#mff68cc250d\" y=\"198.419033\"/>\n     <use style=\"fill:#1f77b4;fill-opacity:0.8;stroke:#1f77b4;stroke-opacity:0.8;\" x=\"244.875713\" xlink:href=\"#mff68cc250d\" y=\"156.722264\"/>\n     <use style=\"fill:#1f77b4;fill-opacity:0.8;stroke:#1f77b4;stroke-opacity:0.8;\" x=\"105.44136\" xlink:href=\"#mff68cc250d\" y=\"195.249103\"/>\n     <use style=\"fill:#1f77b4;fill-opacity:0.8;stroke:#1f77b4;stroke-opacity:0.8;\" x=\"105.44136\" xlink:href=\"#mff68cc250d\" y=\"194.27374\"/>\n     <use style=\"fill:#1f77b4;fill-opacity:0.8;stroke:#1f77b4;stroke-opacity:0.8;\" x=\"95.594301\" xlink:href=\"#mff68cc250d\" y=\"192.079173\"/>\n     <use style=\"fill:#1f77b4;fill-opacity:0.8;stroke:#1f77b4;stroke-opacity:0.8;\" x=\"82.793125\" xlink:href=\"#mff68cc250d\" y=\"201.101281\"/>\n     <use style=\"fill:#1f77b4;fill-opacity:0.8;stroke:#1f77b4;stroke-opacity:0.8;\" x=\"212.117831\" xlink:href=\"#mff68cc250d\" y=\"93.039186\"/>\n     <use style=\"fill:#1f77b4;fill-opacity:0.8;stroke:#1f77b4;stroke-opacity:0.8;\" x=\"110.36489\" xlink:href=\"#mff68cc250d\" y=\"191.835333\"/>\n     <use style=\"fill:#1f77b4;fill-opacity:0.8;stroke:#1f77b4;stroke-opacity:0.8;\" x=\"70.976654\" xlink:href=\"#mff68cc250d\" y=\"214.024841\"/>\n     <use style=\"fill:#1f77b4;fill-opacity:0.8;stroke:#1f77b4;stroke-opacity:0.8;\" x=\"105.44136\" xlink:href=\"#mff68cc250d\" y=\"190.372288\"/>\n     <use style=\"fill:#1f77b4;fill-opacity:0.8;stroke:#1f77b4;stroke-opacity:0.8;\" x=\"73.930772\" xlink:href=\"#mff68cc250d\" y=\"212.074115\"/>\n     <use style=\"fill:#1f77b4;fill-opacity:0.8;stroke:#1f77b4;stroke-opacity:0.8;\" x=\"105.44136\" xlink:href=\"#mff68cc250d\" y=\"195.005262\"/>\n     <use style=\"fill:#1f77b4;fill-opacity:0.8;stroke:#1f77b4;stroke-opacity:0.8;\" x=\"159.600184\" xlink:href=\"#mff68cc250d\" y=\"168.914301\"/>\n     <use style=\"fill:#1f77b4;fill-opacity:0.8;stroke:#1f77b4;stroke-opacity:0.8;\" x=\"100.517831\" xlink:href=\"#mff68cc250d\" y=\"195.249103\"/>\n     <use style=\"fill:#1f77b4;fill-opacity:0.8;stroke:#1f77b4;stroke-opacity:0.8;\" x=\"90.670772\" xlink:href=\"#mff68cc250d\" y=\"205.002733\"/>\n     <use style=\"fill:#1f77b4;fill-opacity:0.8;stroke:#1f77b4;stroke-opacity:0.8;\" x=\"95.594301\" xlink:href=\"#mff68cc250d\" y=\"188.909243\"/>\n     <use style=\"fill:#1f77b4;fill-opacity:0.8;stroke:#1f77b4;stroke-opacity:0.8;\" x=\"85.747243\" xlink:href=\"#mff68cc250d\" y=\"205.246574\"/>\n     <use style=\"fill:#1f77b4;fill-opacity:0.8;stroke:#1f77b4;stroke-opacity:0.8;\" x=\"110.36489\" xlink:href=\"#mff68cc250d\" y=\"191.152578\"/>\n     <use style=\"fill:#1f77b4;fill-opacity:0.8;stroke:#1f77b4;stroke-opacity:0.8;\" x=\"105.44136\" xlink:href=\"#mff68cc250d\" y=\"190.372288\"/>\n     <use style=\"fill:#1f77b4;fill-opacity:0.8;stroke:#1f77b4;stroke-opacity:0.8;\" x=\"90.670772\" xlink:href=\"#mff68cc250d\" y=\"201.345122\"/>\n     <use style=\"fill:#1f77b4;fill-opacity:0.8;stroke:#1f77b4;stroke-opacity:0.8;\" x=\"100.517831\" xlink:href=\"#mff68cc250d\" y=\"187.446199\"/>\n     <use style=\"fill:#1f77b4;fill-opacity:0.8;stroke:#1f77b4;stroke-opacity:0.8;\" x=\"95.594301\" xlink:href=\"#mff68cc250d\" y=\"193.054536\"/>\n     <use style=\"fill:#1f77b4;fill-opacity:0.8;stroke:#1f77b4;stroke-opacity:0.8;\" x=\"73.930772\" xlink:href=\"#mff68cc250d\" y=\"212.317956\"/>\n     <use style=\"fill:#1f77b4;fill-opacity:0.8;stroke:#1f77b4;stroke-opacity:0.8;\" x=\"216.910066\" xlink:href=\"#mff68cc250d\" y=\"131.647306\"/>\n     <use style=\"fill:#1f77b4;fill-opacity:0.8;stroke:#1f77b4;stroke-opacity:0.8;\" x=\"110.36489\" xlink:href=\"#mff68cc250d\" y=\"192.566855\"/>\n     <use style=\"fill:#1f77b4;fill-opacity:0.8;stroke:#1f77b4;stroke-opacity:0.8;\" x=\"121.787478\" xlink:href=\"#mff68cc250d\" y=\"170.458626\"/>\n     <use style=\"fill:#1f77b4;fill-opacity:0.8;stroke:#1f77b4;stroke-opacity:0.8;\" x=\"85.747243\" xlink:href=\"#mff68cc250d\" y=\"200.125918\"/>\n     <use style=\"fill:#1f77b4;fill-opacity:0.8;stroke:#1f77b4;stroke-opacity:0.8;\" x=\"75.900184\" xlink:href=\"#mff68cc250d\" y=\"197.44367\"/>\n     <use style=\"fill:#1f77b4;fill-opacity:0.8;stroke:#1f77b4;stroke-opacity:0.8;\" x=\"73.930772\" xlink:href=\"#mff68cc250d\" y=\"212.561797\"/>\n     <use style=\"fill:#1f77b4;fill-opacity:0.8;stroke:#1f77b4;stroke-opacity:0.8;\" x=\"115.288419\" xlink:href=\"#mff68cc250d\" y=\"190.372288\"/>\n     <use style=\"fill:#1f77b4;fill-opacity:0.8;stroke:#1f77b4;stroke-opacity:0.8;\" x=\"80.823713\" xlink:href=\"#mff68cc250d\" y=\"207.1973\"/>\n     <use style=\"fill:#1f77b4;fill-opacity:0.8;stroke:#1f77b4;stroke-opacity:0.8;\" x=\"105.44136\" xlink:href=\"#mff68cc250d\" y=\"193.054536\"/>\n     <use style=\"fill:#1f77b4;fill-opacity:0.8;stroke:#1f77b4;stroke-opacity:0.8;\" x=\"66.053125\" xlink:href=\"#mff68cc250d\" y=\"190.372288\"/>\n     <use style=\"fill:#1f77b4;fill-opacity:0.8;stroke:#1f77b4;stroke-opacity:0.8;\" x=\"78.854301\" xlink:href=\"#mff68cc250d\" y=\"201.345122\"/>\n     <use style=\"fill:#1f77b4;fill-opacity:0.8;stroke:#1f77b4;stroke-opacity:0.8;\" x=\"187.36889\" xlink:href=\"#mff68cc250d\" y=\"142.213739\"/>\n     <use style=\"fill:#1f77b4;fill-opacity:0.8;stroke:#1f77b4;stroke-opacity:0.8;\" x=\"144.829596\" xlink:href=\"#mff68cc250d\" y=\"153.999375\"/>\n     <use style=\"fill:#1f77b4;fill-opacity:0.8;stroke:#1f77b4;stroke-opacity:0.8;\" x=\"95.594301\" xlink:href=\"#mff68cc250d\" y=\"206.221937\"/>\n     <use style=\"fill:#1f77b4;fill-opacity:0.8;stroke:#1f77b4;stroke-opacity:0.8;\" x=\"110.36489\" xlink:href=\"#mff68cc250d\" y=\"200.6136\"/>\n     <use style=\"fill:#1f77b4;fill-opacity:0.8;stroke:#1f77b4;stroke-opacity:0.8;\" x=\"90.670772\" xlink:href=\"#mff68cc250d\" y=\"195.005262\"/>\n     <use style=\"fill:#1f77b4;fill-opacity:0.8;stroke:#1f77b4;stroke-opacity:0.8;\" x=\"112.334301\" xlink:href=\"#mff68cc250d\" y=\"197.687511\"/>\n     <use style=\"fill:#1f77b4;fill-opacity:0.8;stroke:#1f77b4;stroke-opacity:0.8;\" x=\"70.976654\" xlink:href=\"#mff68cc250d\" y=\"203.78353\"/>\n     <use style=\"fill:#1f77b4;fill-opacity:0.8;stroke:#1f77b4;stroke-opacity:0.8;\" x=\"162.751243\" xlink:href=\"#mff68cc250d\" y=\"142.82334\"/>\n     <use style=\"fill:#1f77b4;fill-opacity:0.8;stroke:#1f77b4;stroke-opacity:0.8;\" x=\"220.258066\" xlink:href=\"#mff68cc250d\" y=\"159.079391\"/>\n     <use style=\"fill:#1f77b4;fill-opacity:0.8;stroke:#1f77b4;stroke-opacity:0.8;\" x=\"88.70136\" xlink:href=\"#mff68cc250d\" y=\"205.002733\"/>\n     <use style=\"fill:#1f77b4;fill-opacity:0.8;stroke:#1f77b4;stroke-opacity:0.8;\" x=\"213.759007\" xlink:href=\"#mff68cc250d\" y=\"118.439265\"/>\n     <use style=\"fill:#1f77b4;fill-opacity:0.8;stroke:#1f77b4;stroke-opacity:0.8;\" x=\"223.606066\" xlink:href=\"#mff68cc250d\" y=\"120.877672\"/>\n     <use style=\"fill:#1f77b4;fill-opacity:0.8;stroke:#1f77b4;stroke-opacity:0.8;\" x=\"110.36489\" xlink:href=\"#mff68cc250d\" y=\"185.251632\"/>\n     <use style=\"fill:#1f77b4;fill-opacity:0.8;stroke:#1f77b4;stroke-opacity:0.8;\" x=\"98.548419\" xlink:href=\"#mff68cc250d\" y=\"194.029899\"/>\n     <use style=\"fill:#1f77b4;fill-opacity:0.8;stroke:#1f77b4;stroke-opacity:0.8;\" x=\"73.930772\" xlink:href=\"#mff68cc250d\" y=\"214.756364\"/>\n     <use style=\"fill:#1f77b4;fill-opacity:0.8;stroke:#1f77b4;stroke-opacity:0.8;\" x=\"95.594301\" xlink:href=\"#mff68cc250d\" y=\"190.372288\"/>\n     <use style=\"fill:#1f77b4;fill-opacity:0.8;stroke:#1f77b4;stroke-opacity:0.8;\" x=\"85.747243\" xlink:href=\"#mff68cc250d\" y=\"205.490415\"/>\n     <use style=\"fill:#1f77b4;fill-opacity:0.8;stroke:#1f77b4;stroke-opacity:0.8;\" x=\"100.517831\" xlink:href=\"#mff68cc250d\" y=\"194.029899\"/>\n     <use style=\"fill:#1f77b4;fill-opacity:0.8;stroke:#1f77b4;stroke-opacity:0.8;\" x=\"95.594301\" xlink:href=\"#mff68cc250d\" y=\"201.101281\"/>\n     <use style=\"fill:#1f77b4;fill-opacity:0.8;stroke:#1f77b4;stroke-opacity:0.8;\" x=\"151.328654\" xlink:href=\"#mff68cc250d\" y=\"161.111397\"/>\n     <use style=\"fill:#1f77b4;fill-opacity:0.8;stroke:#1f77b4;stroke-opacity:0.8;\" x=\"105.44136\" xlink:href=\"#mff68cc250d\" y=\"172.084231\"/>\n     <use style=\"fill:#1f77b4;fill-opacity:0.8;stroke:#1f77b4;stroke-opacity:0.8;\" x=\"139.906066\" xlink:href=\"#mff68cc250d\" y=\"183.544747\"/>\n     <use style=\"fill:#1f77b4;fill-opacity:0.8;stroke:#1f77b4;stroke-opacity:0.8;\" x=\"105.44136\" xlink:href=\"#mff68cc250d\" y=\"203.78353\"/>\n     <use style=\"fill:#1f77b4;fill-opacity:0.8;stroke:#1f77b4;stroke-opacity:0.8;\" x=\"80.823713\" xlink:href=\"#mff68cc250d\" y=\"195.980625\"/>\n     <use style=\"fill:#1f77b4;fill-opacity:0.8;stroke:#1f77b4;stroke-opacity:0.8;\" x=\"149.753125\" xlink:href=\"#mff68cc250d\" y=\"104.215221\"/>\n     <use style=\"fill:#1f77b4;fill-opacity:0.8;stroke:#1f77b4;stroke-opacity:0.8;\" x=\"100.517831\" xlink:href=\"#mff68cc250d\" y=\"181.594021\"/>\n     <use style=\"fill:#1f77b4;fill-opacity:0.8;stroke:#1f77b4;stroke-opacity:0.8;\" x=\"140.890772\" xlink:href=\"#mff68cc250d\" y=\"179.399454\"/>\n     <use style=\"fill:#1f77b4;fill-opacity:0.8;stroke:#1f77b4;stroke-opacity:0.8;\" x=\"95.594301\" xlink:href=\"#mff68cc250d\" y=\"200.369759\"/>\n     <use style=\"fill:#1f77b4;fill-opacity:0.8;stroke:#1f77b4;stroke-opacity:0.8;\" x=\"70.976654\" xlink:href=\"#mff68cc250d\" y=\"210.854912\"/>\n     <use style=\"fill:#1f77b4;fill-opacity:0.8;stroke:#1f77b4;stroke-opacity:0.8;\" x=\"80.823713\" xlink:href=\"#mff68cc250d\" y=\"194.029899\"/>\n     <use style=\"fill:#1f77b4;fill-opacity:0.8;stroke:#1f77b4;stroke-opacity:0.8;\" x=\"105.44136\" xlink:href=\"#mff68cc250d\" y=\"204.515052\"/>\n     <use style=\"fill:#1f77b4;fill-opacity:0.8;stroke:#1f77b4;stroke-opacity:0.8;\" x=\"120.211949\" xlink:href=\"#mff68cc250d\" y=\"195.980625\"/>\n     <use style=\"fill:#1f77b4;fill-opacity:0.8;stroke:#1f77b4;stroke-opacity:0.8;\" x=\"78.854301\" xlink:href=\"#mff68cc250d\" y=\"210.854912\"/>\n     <use style=\"fill:#1f77b4;fill-opacity:0.8;stroke:#1f77b4;stroke-opacity:0.8;\" x=\"105.44136\" xlink:href=\"#mff68cc250d\" y=\"190.372288\"/>\n     <use style=\"fill:#1f77b4;fill-opacity:0.8;stroke:#1f77b4;stroke-opacity:0.8;\" x=\"115.288419\" xlink:href=\"#mff68cc250d\" y=\"183.300906\"/>\n     <use style=\"fill:#1f77b4;fill-opacity:0.8;stroke:#1f77b4;stroke-opacity:0.8;\" x=\"187.565831\" xlink:href=\"#mff68cc250d\" y=\"71.70312\"/>\n     <use style=\"fill:#1f77b4;fill-opacity:0.8;stroke:#1f77b4;stroke-opacity:0.8;\" x=\"80.659596\" xlink:href=\"#mff68cc250d\" y=\"195.249103\"/>\n     <use style=\"fill:#1f77b4;fill-opacity:0.8;stroke:#1f77b4;stroke-opacity:0.8;\" x=\"110.36489\" xlink:href=\"#mff68cc250d\" y=\"194.029899\"/>\n     <use style=\"fill:#1f77b4;fill-opacity:0.8;stroke:#1f77b4;stroke-opacity:0.8;\" x=\"70.976654\" xlink:href=\"#mff68cc250d\" y=\"204.758893\"/>\n     <use style=\"fill:#1f77b4;fill-opacity:0.8;stroke:#1f77b4;stroke-opacity:0.8;\" x=\"110.36489\" xlink:href=\"#mff68cc250d\" y=\"191.591492\"/>\n     <use style=\"fill:#1f77b4;fill-opacity:0.8;stroke:#1f77b4;stroke-opacity:0.8;\" x=\"66.053125\" xlink:href=\"#mff68cc250d\" y=\"209.148026\"/>\n     <use style=\"fill:#1f77b4;fill-opacity:0.8;stroke:#1f77b4;stroke-opacity:0.8;\" x=\"73.930772\" xlink:href=\"#mff68cc250d\" y=\"213.049478\"/>\n     <use style=\"fill:#1f77b4;fill-opacity:0.8;stroke:#1f77b4;stroke-opacity:0.8;\" x=\"302.382537\" xlink:href=\"#mff68cc250d\" y=\"60.527085\"/>\n     <use style=\"fill:#1f77b4;fill-opacity:0.8;stroke:#1f77b4;stroke-opacity:0.8;\" x=\"85.747243\" xlink:href=\"#mff68cc250d\" y=\"200.6136\"/>\n     <use style=\"fill:#1f77b4;fill-opacity:0.8;stroke:#1f77b4;stroke-opacity:0.8;\" x=\"236.604184\" xlink:href=\"#mff68cc250d\" y=\"132.663309\"/>\n     <use style=\"fill:#1f77b4;fill-opacity:0.8;stroke:#1f77b4;stroke-opacity:0.8;\" x=\"73.930772\" xlink:href=\"#mff68cc250d\" y=\"212.074115\"/>\n     <use style=\"fill:#1f77b4;fill-opacity:0.8;stroke:#1f77b4;stroke-opacity:0.8;\" x=\"95.594301\" xlink:href=\"#mff68cc250d\" y=\"191.835333\"/>\n     <use style=\"fill:#1f77b4;fill-opacity:0.8;stroke:#1f77b4;stroke-opacity:0.8;\" x=\"110.36489\" xlink:href=\"#mff68cc250d\" y=\"191.10381\"/>\n     <use style=\"fill:#1f77b4;fill-opacity:0.8;stroke:#1f77b4;stroke-opacity:0.8;\" x=\"88.70136\" xlink:href=\"#mff68cc250d\" y=\"200.6136\"/>\n     <use style=\"fill:#1f77b4;fill-opacity:0.8;stroke:#1f77b4;stroke-opacity:0.8;\" x=\"70.976654\" xlink:href=\"#mff68cc250d\" y=\"213.293319\"/>\n     <use style=\"fill:#1f77b4;fill-opacity:0.8;stroke:#1f77b4;stroke-opacity:0.8;\" x=\"125.135478\" xlink:href=\"#mff68cc250d\" y=\"174.034957\"/>\n     <use style=\"fill:#1f77b4;fill-opacity:0.8;stroke:#1f77b4;stroke-opacity:0.8;\" x=\"105.44136\" xlink:href=\"#mff68cc250d\" y=\"190.372288\"/>\n    </g>\n   </g>\n   <g id=\"PolyCollection_1\">\n    <path clip-path=\"url(#pc63164fa39)\" d=\"M 66.053125 208.941478 \nL 66.053125 213.552508 \nL 69.434943 211.569319 \nL 72.816761 209.671106 \nL 76.19858 207.7346 \nL 79.580398 205.837334 \nL 82.962216 203.915372 \nL 86.344034 202.015778 \nL 89.725852 200.165399 \nL 93.10767 198.33188 \nL 96.489489 196.465908 \nL 99.871307 194.674138 \nL 103.253125 192.900682 \nL 106.634943 191.220685 \nL 110.016761 189.534604 \nL 113.39858 187.874437 \nL 116.780398 186.220446 \nL 120.162216 184.588123 \nL 123.544034 182.964814 \nL 126.925852 181.313682 \nL 130.30767 179.671487 \nL 133.689489 178.031352 \nL 137.071307 176.493685 \nL 140.453125 174.893323 \nL 143.834943 173.251974 \nL 147.216761 171.634975 \nL 150.59858 170.067896 \nL 153.980398 168.452792 \nL 157.362216 166.83523 \nL 160.744034 165.24663 \nL 164.125852 163.664025 \nL 167.50767 162.081419 \nL 170.889489 160.4803 \nL 174.271307 158.886412 \nL 177.653125 157.308697 \nL 181.034943 155.740971 \nL 184.416761 154.172444 \nL 187.79858 152.59041 \nL 191.180398 150.977105 \nL 194.562216 149.395118 \nL 197.944034 147.845193 \nL 201.325852 146.263677 \nL 204.70767 144.675303 \nL 208.089489 143.0988 \nL 211.471307 141.517966 \nL 214.853125 139.936438 \nL 218.234943 138.35491 \nL 221.616761 136.773184 \nL 224.99858 135.190777 \nL 228.380398 133.598085 \nL 231.762216 131.99264 \nL 235.144034 130.38782 \nL 238.525852 128.783077 \nL 241.90767 127.178335 \nL 245.289489 125.597695 \nL 248.671307 124.018995 \nL 252.053125 122.440295 \nL 255.434943 120.861594 \nL 258.816761 119.282894 \nL 262.19858 117.70384 \nL 265.580398 116.12472 \nL 268.962216 114.545601 \nL 272.344034 112.966481 \nL 275.725852 111.387362 \nL 279.10767 109.808212 \nL 282.489489 108.229122 \nL 285.871307 106.650384 \nL 289.253125 105.076912 \nL 292.634943 103.501538 \nL 296.016761 101.926164 \nL 299.39858 100.350789 \nL 302.780398 98.775387 \nL 306.162216 97.199638 \nL 309.544034 95.623889 \nL 312.925852 94.04814 \nL 316.30767 92.472391 \nL 319.689489 90.899696 \nL 323.071307 89.321337 \nL 326.453125 87.745952 \nL 329.834943 86.170567 \nL 333.216761 84.595182 \nL 336.59858 83.019797 \nL 339.980398 81.444411 \nL 343.362216 79.86866 \nL 346.744034 78.292899 \nL 350.125852 76.717137 \nL 353.50767 75.141375 \nL 356.889489 73.565614 \nL 360.271307 71.989852 \nL 363.653125 70.414091 \nL 367.034943 68.838329 \nL 370.416761 67.258841 \nL 373.79858 65.676689 \nL 377.180398 64.094537 \nL 380.562216 62.512385 \nL 383.944034 60.930233 \nL 387.325852 59.348081 \nL 390.70767 57.76582 \nL 394.089489 56.183474 \nL 397.471307 54.601128 \nL 400.853125 53.018782 \nL 400.853125 17.083636 \nL 400.853125 17.083636 \nL 397.471307 19.073895 \nL 394.089489 21.064154 \nL 390.70767 23.050853 \nL 387.325852 25.035537 \nL 383.944034 27.020221 \nL 380.562216 29.004729 \nL 377.180398 30.985269 \nL 373.79858 32.965809 \nL 370.416761 34.946348 \nL 367.034943 36.926888 \nL 363.653125 38.923561 \nL 360.271307 40.912142 \nL 356.889489 42.896385 \nL 353.50767 44.880629 \nL 350.125852 46.864872 \nL 346.744034 48.849115 \nL 343.362216 50.833359 \nL 339.980398 52.817602 \nL 336.59858 54.801846 \nL 333.216761 56.786089 \nL 329.834943 58.770332 \nL 326.453125 60.754576 \nL 323.071307 62.738819 \nL 319.689489 64.723063 \nL 316.30767 66.707306 \nL 312.925852 68.691549 \nL 309.544034 70.675793 \nL 306.162216 72.660036 \nL 302.780398 74.64428 \nL 299.39858 76.628523 \nL 296.016761 78.612766 \nL 292.634943 80.59701 \nL 289.253125 82.581253 \nL 285.871307 84.565497 \nL 282.489489 86.54974 \nL 279.10767 88.533983 \nL 275.725852 90.518227 \nL 272.344034 92.50247 \nL 268.962216 94.486714 \nL 265.580398 96.470957 \nL 262.19858 98.455201 \nL 258.816761 100.439444 \nL 255.434943 102.423687 \nL 252.053125 104.407931 \nL 248.671307 106.392174 \nL 245.289489 108.376418 \nL 241.90767 110.360661 \nL 238.525852 112.345017 \nL 235.144034 114.329389 \nL 231.762216 116.313761 \nL 228.380398 118.298133 \nL 224.99858 120.282505 \nL 221.616761 122.266878 \nL 218.234943 124.246869 \nL 214.853125 126.215718 \nL 211.471307 128.175736 \nL 208.089489 130.135754 \nL 204.70767 132.095772 \nL 201.325852 134.055789 \nL 197.944034 136.015807 \nL 194.562216 137.983225 \nL 191.180398 139.967827 \nL 187.79858 141.95243 \nL 184.416761 143.937032 \nL 181.034943 145.919765 \nL 177.653125 147.890839 \nL 174.271307 149.863346 \nL 170.889489 151.830885 \nL 167.50767 153.80053 \nL 164.125852 155.770274 \nL 160.744034 157.731966 \nL 157.362216 159.71081 \nL 153.980398 161.672366 \nL 150.59858 163.653217 \nL 147.216761 165.633065 \nL 143.834943 167.61306 \nL 140.453125 169.592759 \nL 137.071307 171.537306 \nL 133.689489 173.495992 \nL 130.30767 175.471166 \nL 126.925852 177.394729 \nL 123.544034 179.373819 \nL 120.162216 181.306384 \nL 116.780398 183.204973 \nL 113.39858 185.065388 \nL 110.016761 186.913407 \nL 106.634943 188.69505 \nL 103.253125 190.468325 \nL 99.871307 192.240399 \nL 96.489489 194.005532 \nL 93.10767 195.67014 \nL 89.725852 197.372133 \nL 86.344034 199.072602 \nL 82.962216 200.741005 \nL 79.580398 202.385943 \nL 76.19858 204.06012 \nL 72.816761 205.672809 \nL 69.434943 207.316023 \nL 66.053125 208.941478 \nz\n\" style=\"fill:#1f77b4;fill-opacity:0.15;\"/>\n   </g>\n   <g id=\"matplotlib.axis_1\">\n    <g id=\"xtick_1\">\n     <g id=\"line2d_1\">\n      <defs>\n       <path d=\"M 0 0 \nL 0 3.5 \n\" id=\"mbfbdb8b7e9\" style=\"stroke:#000000;stroke-width:0.8;\"/>\n      </defs>\n      <g>\n       <use style=\"stroke:#000000;stroke-width:0.8;\" x=\"72.617831\" xlink:href=\"#mbfbdb8b7e9\" y=\"224.64\"/>\n      </g>\n     </g>\n     <g id=\"text_1\">\n      <!-- 10000 -->\n      <g transform=\"translate(56.711581 239.238437)scale(0.1 -0.1)\">\n       <defs>\n        <path d=\"M 794 531 \nL 1825 531 \nL 1825 4091 \nL 703 3866 \nL 703 4441 \nL 1819 4666 \nL 2450 4666 \nL 2450 531 \nL 3481 531 \nL 3481 0 \nL 794 0 \nL 794 531 \nz\n\" id=\"DejaVuSans-31\" transform=\"scale(0.015625)\"/>\n        <path d=\"M 2034 4250 \nQ 1547 4250 1301 3770 \nQ 1056 3291 1056 2328 \nQ 1056 1369 1301 889 \nQ 1547 409 2034 409 \nQ 2525 409 2770 889 \nQ 3016 1369 3016 2328 \nQ 3016 3291 2770 3770 \nQ 2525 4250 2034 4250 \nz\nM 2034 4750 \nQ 2819 4750 3233 4129 \nQ 3647 3509 3647 2328 \nQ 3647 1150 3233 529 \nQ 2819 -91 2034 -91 \nQ 1250 -91 836 529 \nQ 422 1150 422 2328 \nQ 422 3509 836 4129 \nQ 1250 4750 2034 4750 \nz\n\" id=\"DejaVuSans-30\" transform=\"scale(0.015625)\"/>\n       </defs>\n       <use xlink:href=\"#DejaVuSans-31\"/>\n       <use x=\"63.623047\" xlink:href=\"#DejaVuSans-30\"/>\n       <use x=\"127.246094\" xlink:href=\"#DejaVuSans-30\"/>\n       <use x=\"190.869141\" xlink:href=\"#DejaVuSans-30\"/>\n       <use x=\"254.492188\" xlink:href=\"#DejaVuSans-30\"/>\n      </g>\n     </g>\n    </g>\n    <g id=\"xtick_2\">\n     <g id=\"line2d_2\">\n      <g>\n       <use style=\"stroke:#000000;stroke-width:0.8;\" x=\"138.26489\" xlink:href=\"#mbfbdb8b7e9\" y=\"224.64\"/>\n      </g>\n     </g>\n     <g id=\"text_2\">\n      <!-- 20000 -->\n      <g transform=\"translate(122.35864 239.238437)scale(0.1 -0.1)\">\n       <defs>\n        <path d=\"M 1228 531 \nL 3431 531 \nL 3431 0 \nL 469 0 \nL 469 531 \nQ 828 903 1448 1529 \nQ 2069 2156 2228 2338 \nQ 2531 2678 2651 2914 \nQ 2772 3150 2772 3378 \nQ 2772 3750 2511 3984 \nQ 2250 4219 1831 4219 \nQ 1534 4219 1204 4116 \nQ 875 4013 500 3803 \nL 500 4441 \nQ 881 4594 1212 4672 \nQ 1544 4750 1819 4750 \nQ 2544 4750 2975 4387 \nQ 3406 4025 3406 3419 \nQ 3406 3131 3298 2873 \nQ 3191 2616 2906 2266 \nQ 2828 2175 2409 1742 \nQ 1991 1309 1228 531 \nz\n\" id=\"DejaVuSans-32\" transform=\"scale(0.015625)\"/>\n       </defs>\n       <use xlink:href=\"#DejaVuSans-32\"/>\n       <use x=\"63.623047\" xlink:href=\"#DejaVuSans-30\"/>\n       <use x=\"127.246094\" xlink:href=\"#DejaVuSans-30\"/>\n       <use x=\"190.869141\" xlink:href=\"#DejaVuSans-30\"/>\n       <use x=\"254.492188\" xlink:href=\"#DejaVuSans-30\"/>\n      </g>\n     </g>\n    </g>\n    <g id=\"xtick_3\">\n     <g id=\"line2d_3\">\n      <g>\n       <use style=\"stroke:#000000;stroke-width:0.8;\" x=\"203.911949\" xlink:href=\"#mbfbdb8b7e9\" y=\"224.64\"/>\n      </g>\n     </g>\n     <g id=\"text_3\">\n      <!-- 30000 -->\n      <g transform=\"translate(188.005699 239.238437)scale(0.1 -0.1)\">\n       <defs>\n        <path d=\"M 2597 2516 \nQ 3050 2419 3304 2112 \nQ 3559 1806 3559 1356 \nQ 3559 666 3084 287 \nQ 2609 -91 1734 -91 \nQ 1441 -91 1130 -33 \nQ 819 25 488 141 \nL 488 750 \nQ 750 597 1062 519 \nQ 1375 441 1716 441 \nQ 2309 441 2620 675 \nQ 2931 909 2931 1356 \nQ 2931 1769 2642 2001 \nQ 2353 2234 1838 2234 \nL 1294 2234 \nL 1294 2753 \nL 1863 2753 \nQ 2328 2753 2575 2939 \nQ 2822 3125 2822 3475 \nQ 2822 3834 2567 4026 \nQ 2313 4219 1838 4219 \nQ 1578 4219 1281 4162 \nQ 984 4106 628 3988 \nL 628 4550 \nQ 988 4650 1302 4700 \nQ 1616 4750 1894 4750 \nQ 2613 4750 3031 4423 \nQ 3450 4097 3450 3541 \nQ 3450 3153 3228 2886 \nQ 3006 2619 2597 2516 \nz\n\" id=\"DejaVuSans-33\" transform=\"scale(0.015625)\"/>\n       </defs>\n       <use xlink:href=\"#DejaVuSans-33\"/>\n       <use x=\"63.623047\" xlink:href=\"#DejaVuSans-30\"/>\n       <use x=\"127.246094\" xlink:href=\"#DejaVuSans-30\"/>\n       <use x=\"190.869141\" xlink:href=\"#DejaVuSans-30\"/>\n       <use x=\"254.492188\" xlink:href=\"#DejaVuSans-30\"/>\n      </g>\n     </g>\n    </g>\n    <g id=\"xtick_4\">\n     <g id=\"line2d_4\">\n      <g>\n       <use style=\"stroke:#000000;stroke-width:0.8;\" x=\"269.559007\" xlink:href=\"#mbfbdb8b7e9\" y=\"224.64\"/>\n      </g>\n     </g>\n     <g id=\"text_4\">\n      <!-- 40000 -->\n      <g transform=\"translate(253.652757 239.238437)scale(0.1 -0.1)\">\n       <defs>\n        <path d=\"M 2419 4116 \nL 825 1625 \nL 2419 1625 \nL 2419 4116 \nz\nM 2253 4666 \nL 3047 4666 \nL 3047 1625 \nL 3713 1625 \nL 3713 1100 \nL 3047 1100 \nL 3047 0 \nL 2419 0 \nL 2419 1100 \nL 313 1100 \nL 313 1709 \nL 2253 4666 \nz\n\" id=\"DejaVuSans-34\" transform=\"scale(0.015625)\"/>\n       </defs>\n       <use xlink:href=\"#DejaVuSans-34\"/>\n       <use x=\"63.623047\" xlink:href=\"#DejaVuSans-30\"/>\n       <use x=\"127.246094\" xlink:href=\"#DejaVuSans-30\"/>\n       <use x=\"190.869141\" xlink:href=\"#DejaVuSans-30\"/>\n       <use x=\"254.492188\" xlink:href=\"#DejaVuSans-30\"/>\n      </g>\n     </g>\n    </g>\n    <g id=\"xtick_5\">\n     <g id=\"line2d_5\">\n      <g>\n       <use style=\"stroke:#000000;stroke-width:0.8;\" x=\"335.206066\" xlink:href=\"#mbfbdb8b7e9\" y=\"224.64\"/>\n      </g>\n     </g>\n     <g id=\"text_5\">\n      <!-- 50000 -->\n      <g transform=\"translate(319.299816 239.238437)scale(0.1 -0.1)\">\n       <defs>\n        <path d=\"M 691 4666 \nL 3169 4666 \nL 3169 4134 \nL 1269 4134 \nL 1269 2991 \nQ 1406 3038 1543 3061 \nQ 1681 3084 1819 3084 \nQ 2600 3084 3056 2656 \nQ 3513 2228 3513 1497 \nQ 3513 744 3044 326 \nQ 2575 -91 1722 -91 \nQ 1428 -91 1123 -41 \nQ 819 9 494 109 \nL 494 744 \nQ 775 591 1075 516 \nQ 1375 441 1709 441 \nQ 2250 441 2565 725 \nQ 2881 1009 2881 1497 \nQ 2881 1984 2565 2268 \nQ 2250 2553 1709 2553 \nQ 1456 2553 1204 2497 \nQ 953 2441 691 2322 \nL 691 4666 \nz\n\" id=\"DejaVuSans-35\" transform=\"scale(0.015625)\"/>\n       </defs>\n       <use xlink:href=\"#DejaVuSans-35\"/>\n       <use x=\"63.623047\" xlink:href=\"#DejaVuSans-30\"/>\n       <use x=\"127.246094\" xlink:href=\"#DejaVuSans-30\"/>\n       <use x=\"190.869141\" xlink:href=\"#DejaVuSans-30\"/>\n       <use x=\"254.492188\" xlink:href=\"#DejaVuSans-30\"/>\n      </g>\n     </g>\n    </g>\n    <g id=\"xtick_6\">\n     <g id=\"line2d_6\">\n      <g>\n       <use style=\"stroke:#000000;stroke-width:0.8;\" x=\"400.853125\" xlink:href=\"#mbfbdb8b7e9\" y=\"224.64\"/>\n      </g>\n     </g>\n     <g id=\"text_6\">\n      <!-- 60000 -->\n      <g transform=\"translate(384.946875 239.238437)scale(0.1 -0.1)\">\n       <defs>\n        <path d=\"M 2113 2584 \nQ 1688 2584 1439 2293 \nQ 1191 2003 1191 1497 \nQ 1191 994 1439 701 \nQ 1688 409 2113 409 \nQ 2538 409 2786 701 \nQ 3034 994 3034 1497 \nQ 3034 2003 2786 2293 \nQ 2538 2584 2113 2584 \nz\nM 3366 4563 \nL 3366 3988 \nQ 3128 4100 2886 4159 \nQ 2644 4219 2406 4219 \nQ 1781 4219 1451 3797 \nQ 1122 3375 1075 2522 \nQ 1259 2794 1537 2939 \nQ 1816 3084 2150 3084 \nQ 2853 3084 3261 2657 \nQ 3669 2231 3669 1497 \nQ 3669 778 3244 343 \nQ 2819 -91 2113 -91 \nQ 1303 -91 875 529 \nQ 447 1150 447 2328 \nQ 447 3434 972 4092 \nQ 1497 4750 2381 4750 \nQ 2619 4750 2861 4703 \nQ 3103 4656 3366 4563 \nz\n\" id=\"DejaVuSans-36\" transform=\"scale(0.015625)\"/>\n       </defs>\n       <use xlink:href=\"#DejaVuSans-36\"/>\n       <use x=\"63.623047\" xlink:href=\"#DejaVuSans-30\"/>\n       <use x=\"127.246094\" xlink:href=\"#DejaVuSans-30\"/>\n       <use x=\"190.869141\" xlink:href=\"#DejaVuSans-30\"/>\n       <use x=\"254.492188\" xlink:href=\"#DejaVuSans-30\"/>\n      </g>\n     </g>\n    </g>\n    <g id=\"text_7\">\n     <!-- SALBEGIN -->\n     <g transform=\"translate(208.299219 252.916562)scale(0.1 -0.1)\">\n      <defs>\n       <path d=\"M 3425 4513 \nL 3425 3897 \nQ 3066 4069 2747 4153 \nQ 2428 4238 2131 4238 \nQ 1616 4238 1336 4038 \nQ 1056 3838 1056 3469 \nQ 1056 3159 1242 3001 \nQ 1428 2844 1947 2747 \nL 2328 2669 \nQ 3034 2534 3370 2195 \nQ 3706 1856 3706 1288 \nQ 3706 609 3251 259 \nQ 2797 -91 1919 -91 \nQ 1588 -91 1214 -16 \nQ 841 59 441 206 \nL 441 856 \nQ 825 641 1194 531 \nQ 1563 422 1919 422 \nQ 2459 422 2753 634 \nQ 3047 847 3047 1241 \nQ 3047 1584 2836 1778 \nQ 2625 1972 2144 2069 \nL 1759 2144 \nQ 1053 2284 737 2584 \nQ 422 2884 422 3419 \nQ 422 4038 858 4394 \nQ 1294 4750 2059 4750 \nQ 2388 4750 2728 4690 \nQ 3069 4631 3425 4513 \nz\n\" id=\"DejaVuSans-53\" transform=\"scale(0.015625)\"/>\n       <path d=\"M 2188 4044 \nL 1331 1722 \nL 3047 1722 \nL 2188 4044 \nz\nM 1831 4666 \nL 2547 4666 \nL 4325 0 \nL 3669 0 \nL 3244 1197 \nL 1141 1197 \nL 716 0 \nL 50 0 \nL 1831 4666 \nz\n\" id=\"DejaVuSans-41\" transform=\"scale(0.015625)\"/>\n       <path d=\"M 628 4666 \nL 1259 4666 \nL 1259 531 \nL 3531 531 \nL 3531 0 \nL 628 0 \nL 628 4666 \nz\n\" id=\"DejaVuSans-4c\" transform=\"scale(0.015625)\"/>\n       <path d=\"M 1259 2228 \nL 1259 519 \nL 2272 519 \nQ 2781 519 3026 730 \nQ 3272 941 3272 1375 \nQ 3272 1813 3026 2020 \nQ 2781 2228 2272 2228 \nL 1259 2228 \nz\nM 1259 4147 \nL 1259 2741 \nL 2194 2741 \nQ 2656 2741 2882 2914 \nQ 3109 3088 3109 3444 \nQ 3109 3797 2882 3972 \nQ 2656 4147 2194 4147 \nL 1259 4147 \nz\nM 628 4666 \nL 2241 4666 \nQ 2963 4666 3353 4366 \nQ 3744 4066 3744 3513 \nQ 3744 3084 3544 2831 \nQ 3344 2578 2956 2516 \nQ 3422 2416 3680 2098 \nQ 3938 1781 3938 1306 \nQ 3938 681 3513 340 \nQ 3088 0 2303 0 \nL 628 0 \nL 628 4666 \nz\n\" id=\"DejaVuSans-42\" transform=\"scale(0.015625)\"/>\n       <path d=\"M 628 4666 \nL 3578 4666 \nL 3578 4134 \nL 1259 4134 \nL 1259 2753 \nL 3481 2753 \nL 3481 2222 \nL 1259 2222 \nL 1259 531 \nL 3634 531 \nL 3634 0 \nL 628 0 \nL 628 4666 \nz\n\" id=\"DejaVuSans-45\" transform=\"scale(0.015625)\"/>\n       <path d=\"M 3809 666 \nL 3809 1919 \nL 2778 1919 \nL 2778 2438 \nL 4434 2438 \nL 4434 434 \nQ 4069 175 3628 42 \nQ 3188 -91 2688 -91 \nQ 1594 -91 976 548 \nQ 359 1188 359 2328 \nQ 359 3472 976 4111 \nQ 1594 4750 2688 4750 \nQ 3144 4750 3555 4637 \nQ 3966 4525 4313 4306 \nL 4313 3634 \nQ 3963 3931 3569 4081 \nQ 3175 4231 2741 4231 \nQ 1884 4231 1454 3753 \nQ 1025 3275 1025 2328 \nQ 1025 1384 1454 906 \nQ 1884 428 2741 428 \nQ 3075 428 3337 486 \nQ 3600 544 3809 666 \nz\n\" id=\"DejaVuSans-47\" transform=\"scale(0.015625)\"/>\n       <path d=\"M 628 4666 \nL 1259 4666 \nL 1259 0 \nL 628 0 \nL 628 4666 \nz\n\" id=\"DejaVuSans-49\" transform=\"scale(0.015625)\"/>\n       <path d=\"M 628 4666 \nL 1478 4666 \nL 3547 763 \nL 3547 4666 \nL 4159 4666 \nL 4159 0 \nL 3309 0 \nL 1241 3903 \nL 1241 0 \nL 628 0 \nL 628 4666 \nz\n\" id=\"DejaVuSans-4e\" transform=\"scale(0.015625)\"/>\n      </defs>\n      <use xlink:href=\"#DejaVuSans-53\"/>\n      <use x=\"65.351562\" xlink:href=\"#DejaVuSans-41\"/>\n      <use x=\"133.759766\" xlink:href=\"#DejaVuSans-4c\"/>\n      <use x=\"189.472656\" xlink:href=\"#DejaVuSans-42\"/>\n      <use x=\"258.076172\" xlink:href=\"#DejaVuSans-45\"/>\n      <use x=\"321.259766\" xlink:href=\"#DejaVuSans-47\"/>\n      <use x=\"398.75\" xlink:href=\"#DejaVuSans-49\"/>\n      <use x=\"428.242188\" xlink:href=\"#DejaVuSans-4e\"/>\n     </g>\n    </g>\n   </g>\n   <g id=\"matplotlib.axis_2\">\n    <g id=\"ytick_1\">\n     <g id=\"line2d_7\">\n      <defs>\n       <path d=\"M 0 0 \nL -3.5 0 \n\" id=\"m58f1a555cc\" style=\"stroke:#000000;stroke-width:0.8;\"/>\n      </defs>\n      <g>\n       <use style=\"stroke:#000000;stroke-width:0.8;\" x=\"66.053125\" xlink:href=\"#m58f1a555cc\" y=\"207.847542\"/>\n      </g>\n     </g>\n     <g id=\"text_8\">\n      <!-- 20000 -->\n      <g transform=\"translate(27.240625 211.646761)scale(0.1 -0.1)\">\n       <use xlink:href=\"#DejaVuSans-32\"/>\n       <use x=\"63.623047\" xlink:href=\"#DejaVuSans-30\"/>\n       <use x=\"127.246094\" xlink:href=\"#DejaVuSans-30\"/>\n       <use x=\"190.869141\" xlink:href=\"#DejaVuSans-30\"/>\n       <use x=\"254.492188\" xlink:href=\"#DejaVuSans-30\"/>\n      </g>\n     </g>\n    </g>\n    <g id=\"ytick_2\">\n     <g id=\"line2d_8\">\n      <g>\n       <use style=\"stroke:#000000;stroke-width:0.8;\" x=\"66.053125\" xlink:href=\"#m58f1a555cc\" y=\"175.335441\"/>\n      </g>\n     </g>\n     <g id=\"text_9\">\n      <!-- 40000 -->\n      <g transform=\"translate(27.240625 179.13466)scale(0.1 -0.1)\">\n       <use xlink:href=\"#DejaVuSans-34\"/>\n       <use x=\"63.623047\" xlink:href=\"#DejaVuSans-30\"/>\n       <use x=\"127.246094\" xlink:href=\"#DejaVuSans-30\"/>\n       <use x=\"190.869141\" xlink:href=\"#DejaVuSans-30\"/>\n       <use x=\"254.492188\" xlink:href=\"#DejaVuSans-30\"/>\n      </g>\n     </g>\n    </g>\n    <g id=\"ytick_3\">\n     <g id=\"line2d_9\">\n      <g>\n       <use style=\"stroke:#000000;stroke-width:0.8;\" x=\"66.053125\" xlink:href=\"#m58f1a555cc\" y=\"142.82334\"/>\n      </g>\n     </g>\n     <g id=\"text_10\">\n      <!-- 60000 -->\n      <g transform=\"translate(27.240625 146.622559)scale(0.1 -0.1)\">\n       <use xlink:href=\"#DejaVuSans-36\"/>\n       <use x=\"63.623047\" xlink:href=\"#DejaVuSans-30\"/>\n       <use x=\"127.246094\" xlink:href=\"#DejaVuSans-30\"/>\n       <use x=\"190.869141\" xlink:href=\"#DejaVuSans-30\"/>\n       <use x=\"254.492188\" xlink:href=\"#DejaVuSans-30\"/>\n      </g>\n     </g>\n    </g>\n    <g id=\"ytick_4\">\n     <g id=\"line2d_10\">\n      <g>\n       <use style=\"stroke:#000000;stroke-width:0.8;\" x=\"66.053125\" xlink:href=\"#m58f1a555cc\" y=\"110.31124\"/>\n      </g>\n     </g>\n     <g id=\"text_11\">\n      <!-- 80000 -->\n      <g transform=\"translate(27.240625 114.110458)scale(0.1 -0.1)\">\n       <defs>\n        <path d=\"M 2034 2216 \nQ 1584 2216 1326 1975 \nQ 1069 1734 1069 1313 \nQ 1069 891 1326 650 \nQ 1584 409 2034 409 \nQ 2484 409 2743 651 \nQ 3003 894 3003 1313 \nQ 3003 1734 2745 1975 \nQ 2488 2216 2034 2216 \nz\nM 1403 2484 \nQ 997 2584 770 2862 \nQ 544 3141 544 3541 \nQ 544 4100 942 4425 \nQ 1341 4750 2034 4750 \nQ 2731 4750 3128 4425 \nQ 3525 4100 3525 3541 \nQ 3525 3141 3298 2862 \nQ 3072 2584 2669 2484 \nQ 3125 2378 3379 2068 \nQ 3634 1759 3634 1313 \nQ 3634 634 3220 271 \nQ 2806 -91 2034 -91 \nQ 1263 -91 848 271 \nQ 434 634 434 1313 \nQ 434 1759 690 2068 \nQ 947 2378 1403 2484 \nz\nM 1172 3481 \nQ 1172 3119 1398 2916 \nQ 1625 2713 2034 2713 \nQ 2441 2713 2670 2916 \nQ 2900 3119 2900 3481 \nQ 2900 3844 2670 4047 \nQ 2441 4250 2034 4250 \nQ 1625 4250 1398 4047 \nQ 1172 3844 1172 3481 \nz\n\" id=\"DejaVuSans-38\" transform=\"scale(0.015625)\"/>\n       </defs>\n       <use xlink:href=\"#DejaVuSans-38\"/>\n       <use x=\"63.623047\" xlink:href=\"#DejaVuSans-30\"/>\n       <use x=\"127.246094\" xlink:href=\"#DejaVuSans-30\"/>\n       <use x=\"190.869141\" xlink:href=\"#DejaVuSans-30\"/>\n       <use x=\"254.492188\" xlink:href=\"#DejaVuSans-30\"/>\n      </g>\n     </g>\n    </g>\n    <g id=\"ytick_5\">\n     <g id=\"line2d_11\">\n      <g>\n       <use style=\"stroke:#000000;stroke-width:0.8;\" x=\"66.053125\" xlink:href=\"#m58f1a555cc\" y=\"77.799139\"/>\n      </g>\n     </g>\n     <g id=\"text_12\">\n      <!-- 100000 -->\n      <g transform=\"translate(20.878125 81.598357)scale(0.1 -0.1)\">\n       <use xlink:href=\"#DejaVuSans-31\"/>\n       <use x=\"63.623047\" xlink:href=\"#DejaVuSans-30\"/>\n       <use x=\"127.246094\" xlink:href=\"#DejaVuSans-30\"/>\n       <use x=\"190.869141\" xlink:href=\"#DejaVuSans-30\"/>\n       <use x=\"254.492188\" xlink:href=\"#DejaVuSans-30\"/>\n       <use x=\"318.115234\" xlink:href=\"#DejaVuSans-30\"/>\n      </g>\n     </g>\n    </g>\n    <g id=\"ytick_6\">\n     <g id=\"line2d_12\">\n      <g>\n       <use style=\"stroke:#000000;stroke-width:0.8;\" x=\"66.053125\" xlink:href=\"#m58f1a555cc\" y=\"45.287038\"/>\n      </g>\n     </g>\n     <g id=\"text_13\">\n      <!-- 120000 -->\n      <g transform=\"translate(20.878125 49.086257)scale(0.1 -0.1)\">\n       <use xlink:href=\"#DejaVuSans-31\"/>\n       <use x=\"63.623047\" xlink:href=\"#DejaVuSans-32\"/>\n       <use x=\"127.246094\" xlink:href=\"#DejaVuSans-30\"/>\n       <use x=\"190.869141\" xlink:href=\"#DejaVuSans-30\"/>\n       <use x=\"254.492188\" xlink:href=\"#DejaVuSans-30\"/>\n       <use x=\"318.115234\" xlink:href=\"#DejaVuSans-30\"/>\n      </g>\n     </g>\n    </g>\n    <g id=\"ytick_7\">\n     <g id=\"line2d_13\">\n      <g>\n       <use style=\"stroke:#000000;stroke-width:0.8;\" x=\"66.053125\" xlink:href=\"#m58f1a555cc\" y=\"12.774937\"/>\n      </g>\n     </g>\n     <g id=\"text_14\">\n      <!-- 140000 -->\n      <g transform=\"translate(20.878125 16.574156)scale(0.1 -0.1)\">\n       <use xlink:href=\"#DejaVuSans-31\"/>\n       <use x=\"63.623047\" xlink:href=\"#DejaVuSans-34\"/>\n       <use x=\"127.246094\" xlink:href=\"#DejaVuSans-30\"/>\n       <use x=\"190.869141\" xlink:href=\"#DejaVuSans-30\"/>\n       <use x=\"254.492188\" xlink:href=\"#DejaVuSans-30\"/>\n       <use x=\"318.115234\" xlink:href=\"#DejaVuSans-30\"/>\n      </g>\n     </g>\n    </g>\n    <g id=\"text_15\">\n     <!-- SALARY -->\n     <g transform=\"translate(14.798438 135.136406)rotate(-90)scale(0.1 -0.1)\">\n      <defs>\n       <path d=\"M 2841 2188 \nQ 3044 2119 3236 1894 \nQ 3428 1669 3622 1275 \nL 4263 0 \nL 3584 0 \nL 2988 1197 \nQ 2756 1666 2539 1819 \nQ 2322 1972 1947 1972 \nL 1259 1972 \nL 1259 0 \nL 628 0 \nL 628 4666 \nL 2053 4666 \nQ 2853 4666 3247 4331 \nQ 3641 3997 3641 3322 \nQ 3641 2881 3436 2590 \nQ 3231 2300 2841 2188 \nz\nM 1259 4147 \nL 1259 2491 \nL 2053 2491 \nQ 2509 2491 2742 2702 \nQ 2975 2913 2975 3322 \nQ 2975 3731 2742 3939 \nQ 2509 4147 2053 4147 \nL 1259 4147 \nz\n\" id=\"DejaVuSans-52\" transform=\"scale(0.015625)\"/>\n       <path d=\"M -13 4666 \nL 666 4666 \nL 1959 2747 \nL 3244 4666 \nL 3922 4666 \nL 2272 2222 \nL 2272 0 \nL 1638 0 \nL 1638 2222 \nL -13 4666 \nz\n\" id=\"DejaVuSans-59\" transform=\"scale(0.015625)\"/>\n      </defs>\n      <use xlink:href=\"#DejaVuSans-53\"/>\n      <use x=\"65.351562\" xlink:href=\"#DejaVuSans-41\"/>\n      <use x=\"133.759766\" xlink:href=\"#DejaVuSans-4c\"/>\n      <use x=\"191.722656\" xlink:href=\"#DejaVuSans-41\"/>\n      <use x=\"260.130859\" xlink:href=\"#DejaVuSans-52\"/>\n      <use x=\"323.238281\" xlink:href=\"#DejaVuSans-59\"/>\n     </g>\n    </g>\n   </g>\n   <g id=\"line2d_14\">\n    <path clip-path=\"url(#pc63164fa39)\" d=\"M 66.053125 211.161022 \nL 69.434943 209.398904 \nL 72.816761 207.636785 \nL 76.19858 205.874666 \nL 79.580398 204.112547 \nL 82.962216 202.350429 \nL 86.344034 200.58831 \nL 89.725852 198.826191 \nL 93.10767 197.064072 \nL 96.489489 195.301953 \nL 99.871307 193.539835 \nL 103.253125 191.777716 \nL 106.634943 190.015597 \nL 110.016761 188.253478 \nL 113.39858 186.491359 \nL 116.780398 184.729241 \nL 120.162216 182.967122 \nL 123.544034 181.205003 \nL 126.925852 179.442884 \nL 130.30767 177.680765 \nL 133.689489 175.918647 \nL 137.071307 174.156528 \nL 140.453125 172.394409 \nL 143.834943 170.63229 \nL 147.216761 168.870171 \nL 150.59858 167.108053 \nL 153.980398 165.345934 \nL 157.362216 163.583815 \nL 160.744034 161.821696 \nL 164.125852 160.059577 \nL 167.50767 158.297459 \nL 170.889489 156.53534 \nL 174.271307 154.773221 \nL 177.653125 153.011102 \nL 181.034943 151.248983 \nL 184.416761 149.486865 \nL 187.79858 147.724746 \nL 191.180398 145.962627 \nL 194.562216 144.200508 \nL 197.944034 142.43839 \nL 201.325852 140.676271 \nL 204.70767 138.914152 \nL 208.089489 137.152033 \nL 211.471307 135.389914 \nL 214.853125 133.627796 \nL 218.234943 131.865677 \nL 221.616761 130.103558 \nL 224.99858 128.341439 \nL 228.380398 126.57932 \nL 231.762216 124.817202 \nL 235.144034 123.055083 \nL 238.525852 121.292964 \nL 241.90767 119.530845 \nL 245.289489 117.768726 \nL 248.671307 116.006608 \nL 252.053125 114.244489 \nL 255.434943 112.48237 \nL 258.816761 110.720251 \nL 262.19858 108.958132 \nL 265.580398 107.196014 \nL 268.962216 105.433895 \nL 272.344034 103.671776 \nL 275.725852 101.909657 \nL 279.10767 100.147538 \nL 282.489489 98.38542 \nL 285.871307 96.623301 \nL 289.253125 94.861182 \nL 292.634943 93.099063 \nL 296.016761 91.336945 \nL 299.39858 89.574826 \nL 302.780398 87.812707 \nL 306.162216 86.050588 \nL 309.544034 84.288469 \nL 312.925852 82.526351 \nL 316.30767 80.764232 \nL 319.689489 79.002113 \nL 323.071307 77.239994 \nL 326.453125 75.477875 \nL 329.834943 73.715757 \nL 333.216761 71.953638 \nL 336.59858 70.191519 \nL 339.980398 68.4294 \nL 343.362216 66.667281 \nL 346.744034 64.905163 \nL 350.125852 63.143044 \nL 353.50767 61.380925 \nL 356.889489 59.618806 \nL 360.271307 57.856687 \nL 363.653125 56.094569 \nL 367.034943 54.33245 \nL 370.416761 52.570331 \nL 373.79858 50.808212 \nL 377.180398 49.046093 \nL 380.562216 47.283975 \nL 383.944034 45.521856 \nL 387.325852 43.759737 \nL 390.70767 41.997618 \nL 394.089489 40.2355 \nL 397.471307 38.473381 \nL 400.853125 36.711262 \n\" style=\"fill:none;stroke:#1f77b4;stroke-linecap:square;stroke-width:2.25;\"/>\n   </g>\n   <g id=\"patch_3\">\n    <path d=\"M 66.053125 224.64 \nL 66.053125 7.2 \n\" style=\"fill:none;stroke:#000000;stroke-linecap:square;stroke-linejoin:miter;stroke-width:0.8;\"/>\n   </g>\n   <g id=\"patch_4\">\n    <path d=\"M 400.853125 224.64 \nL 400.853125 7.2 \n\" style=\"fill:none;stroke:#000000;stroke-linecap:square;stroke-linejoin:miter;stroke-width:0.8;\"/>\n   </g>\n   <g id=\"patch_5\">\n    <path d=\"M 66.053125 224.64 \nL 400.853125 224.64 \n\" style=\"fill:none;stroke:#000000;stroke-linecap:square;stroke-linejoin:miter;stroke-width:0.8;\"/>\n   </g>\n   <g id=\"patch_6\">\n    <path d=\"M 66.053125 7.2 \nL 400.853125 7.2 \n\" style=\"fill:none;stroke:#000000;stroke-linecap:square;stroke-linejoin:miter;stroke-width:0.8;\"/>\n   </g>\n  </g>\n </g>\n <defs>\n  <clipPath id=\"pc63164fa39\">\n   <rect height=\"217.44\" width=\"334.8\" x=\"66.053125\" y=\"7.2\"/>\n  </clipPath>\n </defs>\n</svg>\n",
      "image/png": "[encoded data removed]"
     },
     "metadata": {
      "needs_background": "light"
     }
    }
   ],
   "source": [
    "sns.regplot(y = y_train,x = X_train[\"SALBEGIN\"])"
   ]
  },
  {
   "cell_type": "code",
   "execution_count": 41,
   "metadata": {},
   "outputs": [
    {
     "output_type": "execute_result",
     "data": {
      "text/plain": [
       "<AxesSubplot:ylabel='SALARY'>"
      ]
     },
     "metadata": {},
     "execution_count": 41
    },
    {
     "output_type": "display_data",
     "data": {
      "text/plain": "<Figure size 432x288 with 1 Axes>",
      "image/svg+xml": "<?xml version=\"1.0\" encoding=\"utf-8\" standalone=\"no\"?>\n<!DOCTYPE svg PUBLIC \"-//W3C//DTD SVG 1.1//EN\"\n  \"http://www.w3.org/Graphics/SVG/1.1/DTD/svg11.dtd\">\n<svg height=\"248.518125pt\" version=\"1.1\" viewBox=\"0 0 410.070312 248.518125\" width=\"410.070312pt\" xmlns=\"http://www.w3.org/2000/svg\" xmlns:xlink=\"http://www.w3.org/1999/xlink\">\n <metadata>\n  <rdf:RDF xmlns:cc=\"http://creativecommons.org/ns#\" xmlns:dc=\"http://purl.org/dc/elements/1.1/\" xmlns:rdf=\"http://www.w3.org/1999/02/22-rdf-syntax-ns#\">\n   <cc:Work>\n    <dc:type rdf:resource=\"http://purl.org/dc/dcmitype/StillImage\"/>\n    <dc:date>2021-06-03T21:09:17.751969</dc:date>\n    <dc:format>image/svg+xml</dc:format>\n    <dc:creator>\n     <cc:Agent>\n      <dc:title>Matplotlib v3.4.2, https://matplotlib.org/</dc:title>\n     </cc:Agent>\n    </dc:creator>\n   </cc:Work>\n  </rdf:RDF>\n </metadata>\n <defs>\n  <style type=\"text/css\">*{stroke-linecap:butt;stroke-linejoin:round;}</style>\n </defs>\n <g id=\"figure_1\">\n  <g id=\"patch_1\">\n   <path d=\"M 0 248.518125 \nL 410.070312 248.518125 \nL 410.070312 0 \nL 0 0 \nz\n\" style=\"fill:none;\"/>\n  </g>\n  <g id=\"axes_1\">\n   <g id=\"patch_2\">\n    <path d=\"M 68.070312 224.64 \nL 402.870313 224.64 \nL 402.870313 7.2 \nL 68.070312 7.2 \nz\n\" style=\"fill:#ffffff;\"/>\n   </g>\n   <g id=\"PathCollection_1\">\n    <defs>\n     <path d=\"M 0 3 \nC 0.795609 3 1.55874 2.683901 2.12132 2.12132 \nC 2.683901 1.55874 3 0.795609 3 0 \nC 3 -0.795609 2.683901 -1.55874 2.12132 -2.12132 \nC 1.55874 -2.683901 0.795609 -3 0 -3 \nC -0.795609 -3 -1.55874 -2.683901 -2.12132 -2.12132 \nC -2.683901 -1.55874 -3 -0.795609 -3 0 \nC -3 0.795609 -2.683901 1.55874 -2.12132 2.12132 \nC -1.55874 2.683901 -0.795609 3 0 3 \nz\n\" id=\"m3c50001d17\" style=\"stroke:#ffffff;stroke-width:0.48;\"/>\n    </defs>\n    <g clip-path=\"url(#pfe58c32c3b)\">\n     <use style=\"fill:#1f77b4;stroke:#ffffff;stroke-width:0.48;\" x=\"123.571917\" xlink:href=\"#m3c50001d17\" y=\"164.928146\"/>\n     <use style=\"fill:#1f77b4;stroke:#ffffff;stroke-width:0.48;\" x=\"101.192238\" xlink:href=\"#m3c50001d17\" y=\"147.714421\"/>\n     <use style=\"fill:#1f77b4;stroke:#ffffff;stroke-width:0.48;\" x=\"110.144109\" xlink:href=\"#m3c50001d17\" y=\"147.731762\"/>\n     <use style=\"fill:#1f77b4;stroke:#ffffff;stroke-width:0.48;\" x=\"283.09427\" xlink:href=\"#m3c50001d17\" y=\"201.875554\"/>\n     <use style=\"fill:#1f77b4;stroke:#ffffff;stroke-width:0.48;\" x=\"208.614698\" xlink:href=\"#m3c50001d17\" y=\"104.962088\"/>\n     <use style=\"fill:#1f77b4;stroke:#ffffff;stroke-width:0.48;\" x=\"136.999724\" xlink:href=\"#m3c50001d17\" y=\"176.332115\"/>\n     <use style=\"fill:#1f77b4;stroke:#ffffff;stroke-width:0.48;\" x=\"90.449992\" xlink:href=\"#m3c50001d17\" y=\"160.850671\"/>\n     <use style=\"fill:#1f77b4;stroke:#ffffff;stroke-width:0.48;\" x=\"128.047853\" xlink:href=\"#m3c50001d17\" y=\"150.66265\"/>\n     <use style=\"fill:#1f77b4;stroke:#ffffff;stroke-width:0.48;\" x=\"94.925927\" xlink:href=\"#m3c50001d17\" y=\"153.618822\"/>\n     <use style=\"fill:#1f77b4;stroke:#ffffff;stroke-width:0.48;\" x=\"119.095981\" xlink:href=\"#m3c50001d17\" y=\"146.921614\"/>\n     <use style=\"fill:#1f77b4;stroke:#ffffff;stroke-width:0.48;\" x=\"136.999724\" xlink:href=\"#m3c50001d17\" y=\"171.780932\"/>\n     <use style=\"fill:#1f77b4;stroke:#ffffff;stroke-width:0.48;\" x=\"119.095981\" xlink:href=\"#m3c50001d17\" y=\"162.23014\"/>\n     <use style=\"fill:#1f77b4;stroke:#ffffff;stroke-width:0.48;\" x=\"119.095981\" xlink:href=\"#m3c50001d17\" y=\"120.855744\"/>\n     <use style=\"fill:#1f77b4;stroke:#ffffff;stroke-width:0.48;\" x=\"145.951596\" xlink:href=\"#m3c50001d17\" y=\"166.005856\"/>\n     <use style=\"fill:#1f77b4;stroke:#ffffff;stroke-width:0.48;\" x=\"268.234163\" xlink:href=\"#m3c50001d17\" y=\"124.672487\"/>\n     <use style=\"fill:#1f77b4;stroke:#ffffff;stroke-width:0.48;\" x=\"113.724858\" xlink:href=\"#m3c50001d17\" y=\"158.661538\"/>\n     <use style=\"fill:#1f77b4;stroke:#ffffff;stroke-width:0.48;\" x=\"101.192238\" xlink:href=\"#m3c50001d17\" y=\"158.471765\"/>\n     <use style=\"fill:#1f77b4;stroke:#ffffff;stroke-width:0.48;\" x=\"181.759083\" xlink:href=\"#m3c50001d17\" y=\"183.866207\"/>\n     <use style=\"fill:#1f77b4;stroke:#ffffff;stroke-width:0.48;\" x=\"163.855339\" xlink:href=\"#m3c50001d17\" y=\"109.7024\"/>\n     <use style=\"fill:#1f77b4;stroke:#ffffff;stroke-width:0.48;\" x=\"107.458548\" xlink:href=\"#m3c50001d17\" y=\"148.843668\"/>\n     <use style=\"fill:#1f77b4;stroke:#ffffff;stroke-width:0.48;\" x=\"208.614698\" xlink:href=\"#m3c50001d17\" y=\"163.920603\"/>\n     <use style=\"fill:#1f77b4;stroke:#ffffff;stroke-width:0.48;\" x=\"110.144109\" xlink:href=\"#m3c50001d17\" y=\"127.458307\"/>\n     <use style=\"fill:#1f77b4;stroke:#ffffff;stroke-width:0.48;\" x=\"123.571917\" xlink:href=\"#m3c50001d17\" y=\"173.616769\"/>\n     <use style=\"fill:#1f77b4;stroke:#ffffff;stroke-width:0.48;\" x=\"289.181542\" xlink:href=\"#m3c50001d17\" y=\"203.313383\"/>\n     <use style=\"fill:#1f77b4;stroke:#ffffff;stroke-width:0.48;\" x=\"123.571917\" xlink:href=\"#m3c50001d17\" y=\"154.998291\"/>\n     <use style=\"fill:#1f77b4;stroke:#ffffff;stroke-width:0.48;\" x=\"119.095981\" xlink:href=\"#m3c50001d17\" y=\"134.095551\"/>\n     <use style=\"fill:#1f77b4;stroke:#ffffff;stroke-width:0.48;\" x=\"238.334911\" xlink:href=\"#m3c50001d17\" y=\"163.17275\"/>\n     <use style=\"fill:#1f77b4;stroke:#ffffff;stroke-width:0.48;\" x=\"94.925927\" xlink:href=\"#m3c50001d17\" y=\"142.447735\"/>\n     <use style=\"fill:#1f77b4;stroke:#ffffff;stroke-width:0.48;\" x=\"87.76443\" xlink:href=\"#m3c50001d17\" y=\"142.516612\"/>\n     <use style=\"fill:#1f77b4;stroke:#ffffff;stroke-width:0.48;\" x=\"238.513949\" xlink:href=\"#m3c50001d17\" y=\"81.977223\"/>\n     <use style=\"fill:#1f77b4;stroke:#ffffff;stroke-width:0.48;\" x=\"105.668173\" xlink:href=\"#m3c50001d17\" y=\"140.068828\"/>\n     <use style=\"fill:#1f77b4;stroke:#ffffff;stroke-width:0.48;\" x=\"131.628601\" xlink:href=\"#m3c50001d17\" y=\"174.004745\"/>\n     <use style=\"fill:#1f77b4;stroke:#ffffff;stroke-width:0.48;\" x=\"102.087425\" xlink:href=\"#m3c50001d17\" y=\"121.69166\"/>\n     <use style=\"fill:#1f77b4;stroke:#ffffff;stroke-width:0.48;\" x=\"141.47566\" xlink:href=\"#m3c50001d17\" y=\"168.272778\"/>\n     <use style=\"fill:#1f77b4;stroke:#ffffff;stroke-width:0.48;\" x=\"116.410419\" xlink:href=\"#m3c50001d17\" y=\"134.793714\"/>\n     <use style=\"fill:#1f77b4;stroke:#ffffff;stroke-width:0.48;\" x=\"119.095981\" xlink:href=\"#m3c50001d17\" y=\"159.747677\"/>\n     <use style=\"fill:#1f77b4;stroke:#ffffff;stroke-width:0.48;\" x=\"105.668173\" xlink:href=\"#m3c50001d17\" y=\"151.239915\"/>\n     <use style=\"fill:#1f77b4;stroke:#ffffff;stroke-width:0.48;\" x=\"103.877799\" xlink:href=\"#m3c50001d17\" y=\"138.327635\"/>\n     <use style=\"fill:#1f77b4;stroke:#ffffff;stroke-width:0.48;\" x=\"119.095981\" xlink:href=\"#m3c50001d17\" y=\"148.162846\"/>\n     <use style=\"fill:#1f77b4;stroke:#ffffff;stroke-width:0.48;\" x=\"128.047853\" xlink:href=\"#m3c50001d17\" y=\"159.351273\"/>\n     <use style=\"fill:#1f77b4;stroke:#ffffff;stroke-width:0.48;\" x=\"136.999724\" xlink:href=\"#m3c50001d17\" y=\"161.023589\"/>\n     <use style=\"fill:#1f77b4;stroke:#ffffff;stroke-width:0.48;\" x=\"123.571917\" xlink:href=\"#m3c50001d17\" y=\"156.239523\"/>\n     <use style=\"fill:#1f77b4;stroke:#ffffff;stroke-width:0.48;\" x=\"292.762291\" xlink:href=\"#m3c50001d17\" y=\"126.460482\"/>\n     <use style=\"fill:#1f77b4;stroke:#ffffff;stroke-width:0.48;\" x=\"123.571917\" xlink:href=\"#m3c50001d17\" y=\"129.346165\"/>\n     <use style=\"fill:#1f77b4;stroke:#ffffff;stroke-width:0.48;\" x=\"96.716302\" xlink:href=\"#m3c50001d17\" y=\"152.877551\"/>\n     <use style=\"fill:#1f77b4;stroke:#ffffff;stroke-width:0.48;\" x=\"83.288494\" xlink:href=\"#m3c50001d17\" y=\"151.817181\"/>\n     <use style=\"fill:#1f77b4;stroke:#ffffff;stroke-width:0.48;\" x=\"132.523788\" xlink:href=\"#m3c50001d17\" y=\"135.569665\"/>\n     <use style=\"fill:#1f77b4;stroke:#ffffff;stroke-width:0.48;\" x=\"113.724858\" xlink:href=\"#m3c50001d17\" y=\"143.353012\"/>\n     <use style=\"fill:#1f77b4;stroke:#ffffff;stroke-width:0.48;\" x=\"105.668173\" xlink:href=\"#m3c50001d17\" y=\"158.273563\"/>\n     <use style=\"fill:#1f77b4;stroke:#ffffff;stroke-width:0.48;\" x=\"128.047853\" xlink:href=\"#m3c50001d17\" y=\"146.111466\"/>\n     <use style=\"fill:#1f77b4;stroke:#ffffff;stroke-width:0.48;\" x=\"145.951596\" xlink:href=\"#m3c50001d17\" y=\"168.902064\"/>\n     <use style=\"fill:#1f77b4;stroke:#ffffff;stroke-width:0.48;\" x=\"123.571917\" xlink:href=\"#m3c50001d17\" y=\"140.517252\"/>\n     <use style=\"fill:#1f77b4;stroke:#ffffff;stroke-width:0.48;\" x=\"193.575553\" xlink:href=\"#m3c50001d17\" y=\"116.195067\"/>\n     <use style=\"fill:#1f77b4;stroke:#ffffff;stroke-width:0.48;\" x=\"90.449992\" xlink:href=\"#m3c50001d17\" y=\"150.920816\"/>\n     <use style=\"fill:#1f77b4;stroke:#ffffff;stroke-width:0.48;\" x=\"96.716302\" xlink:href=\"#m3c50001d17\" y=\"147.912623\"/>\n     <use style=\"fill:#1f77b4;stroke:#ffffff;stroke-width:0.48;\" x=\"226.518441\" xlink:href=\"#m3c50001d17\" y=\"206.708826\"/>\n     <use style=\"fill:#1f77b4;stroke:#ffffff;stroke-width:0.48;\" x=\"181.759083\" xlink:href=\"#m3c50001d17\" y=\"142.905555\"/>\n     <use style=\"fill:#1f77b4;stroke:#ffffff;stroke-width:0.48;\" x=\"114.620045\" xlink:href=\"#m3c50001d17\" y=\"155.808439\"/>\n     <use style=\"fill:#1f77b4;stroke:#ffffff;stroke-width:0.48;\" x=\"123.571917\" xlink:href=\"#m3c50001d17\" y=\"165.34189\"/>\n     <use style=\"fill:#1f77b4;stroke:#ffffff;stroke-width:0.48;\" x=\"190.710954\" xlink:href=\"#m3c50001d17\" y=\"145.819103\"/>\n     <use style=\"fill:#1f77b4;stroke:#ffffff;stroke-width:0.48;\" x=\"193.754591\" xlink:href=\"#m3c50001d17\" y=\"116.369186\"/>\n     <use style=\"fill:#1f77b4;stroke:#ffffff;stroke-width:0.48;\" x=\"114.620045\" xlink:href=\"#m3c50001d17\" y=\"160.773366\"/>\n     <use style=\"fill:#1f77b4;stroke:#ffffff;stroke-width:0.48;\" x=\"114.620045\" xlink:href=\"#m3c50001d17\" y=\"158.290903\"/>\n     <use style=\"fill:#1f77b4;stroke:#ffffff;stroke-width:0.48;\" x=\"123.571917\" xlink:href=\"#m3c50001d17\" y=\"155.412035\"/>\n     <use style=\"fill:#1f77b4;stroke:#ffffff;stroke-width:0.48;\" x=\"105.668173\" xlink:href=\"#m3c50001d17\" y=\"153.722379\"/>\n     <use style=\"fill:#1f77b4;stroke:#ffffff;stroke-width:0.48;\" x=\"110.144109\" xlink:href=\"#m3c50001d17\" y=\"159.730337\"/>\n     <use style=\"fill:#1f77b4;stroke:#ffffff;stroke-width:0.48;\" x=\"96.716302\" xlink:href=\"#m3c50001d17\" y=\"154.118783\"/>\n     <use style=\"fill:#1f77b4;stroke:#ffffff;stroke-width:0.48;\" x=\"119.095981\" xlink:href=\"#m3c50001d17\" y=\"157.265213\"/>\n     <use style=\"fill:#1f77b4;stroke:#ffffff;stroke-width:0.48;\" x=\"123.571917\" xlink:href=\"#m3c50001d17\" y=\"171.54805\"/>\n     <use style=\"fill:#1f77b4;stroke:#ffffff;stroke-width:0.48;\" x=\"125.362291\" xlink:href=\"#m3c50001d17\" y=\"167.083083\"/>\n     <use style=\"fill:#1f77b4;stroke:#ffffff;stroke-width:0.48;\" x=\"226.518441\" xlink:href=\"#m3c50001d17\" y=\"168.92021\"/>\n     <use style=\"fill:#1f77b4;stroke:#ffffff;stroke-width:0.48;\" x=\"90.449992\" xlink:href=\"#m3c50001d17\" y=\"150.507072\"/>\n     <use style=\"fill:#1f77b4;stroke:#ffffff;stroke-width:0.48;\" x=\"109.248922\" xlink:href=\"#m3c50001d17\" y=\"125.760223\"/>\n     <use style=\"fill:#1f77b4;stroke:#ffffff;stroke-width:0.48;\" x=\"123.571917\" xlink:href=\"#m3c50001d17\" y=\"133.483605\"/>\n     <use style=\"fill:#1f77b4;stroke:#ffffff;stroke-width:0.48;\" x=\"90.449992\" xlink:href=\"#m3c50001d17\" y=\"158.368208\"/>\n     <use style=\"fill:#1f77b4;stroke:#ffffff;stroke-width:0.48;\" x=\"112.829671\" xlink:href=\"#m3c50001d17\" y=\"173.099469\"/>\n     <use style=\"fill:#1f77b4;stroke:#ffffff;stroke-width:0.48;\" x=\"132.523788\" xlink:href=\"#m3c50001d17\" y=\"171.151646\"/>\n     <use style=\"fill:#1f77b4;stroke:#ffffff;stroke-width:0.48;\" x=\"132.523788\" xlink:href=\"#m3c50001d17\" y=\"151.291936\"/>\n     <use style=\"fill:#1f77b4;stroke:#ffffff;stroke-width:0.48;\" x=\"193.575553\" xlink:href=\"#m3c50001d17\" y=\"164.465196\"/>\n     <use style=\"fill:#1f77b4;stroke:#ffffff;stroke-width:0.48;\" x=\"150.427532\" xlink:href=\"#m3c50001d17\" y=\"150.499128\"/>\n     <use style=\"fill:#1f77b4;stroke:#ffffff;stroke-width:0.48;\" x=\"115.515232\" xlink:href=\"#m3c50001d17\" y=\"159.575243\"/>\n     <use style=\"fill:#1f77b4;stroke:#ffffff;stroke-width:0.48;\" x=\"122.67673\" xlink:href=\"#m3c50001d17\" y=\"164.471294\"/>\n     <use style=\"fill:#1f77b4;stroke:#ffffff;stroke-width:0.48;\" x=\"89.554804\" xlink:href=\"#m3c50001d17\" y=\"136.810413\"/>\n     <use style=\"fill:#1f77b4;stroke:#ffffff;stroke-width:0.48;\" x=\"110.144109\" xlink:href=\"#m3c50001d17\" y=\"132.836979\"/>\n     <use style=\"fill:#1f77b4;stroke:#ffffff;stroke-width:0.48;\" x=\"96.716302\" xlink:href=\"#m3c50001d17\" y=\"142.947696\"/>\n     <use style=\"fill:#1f77b4;stroke:#ffffff;stroke-width:0.48;\" x=\"154.903468\" xlink:href=\"#m3c50001d17\" y=\"112.374396\"/>\n     <use style=\"fill:#1f77b4;stroke:#ffffff;stroke-width:0.48;\" x=\"94.925927\" xlink:href=\"#m3c50001d17\" y=\"149.067638\"/>\n     <use style=\"fill:#1f77b4;stroke:#ffffff;stroke-width:0.48;\" x=\"111.934484\" xlink:href=\"#m3c50001d17\" y=\"165.195225\"/>\n     <use style=\"fill:#1f77b4;stroke:#ffffff;stroke-width:0.48;\" x=\"128.047853\" xlink:href=\"#m3c50001d17\" y=\"148.59393\"/>\n     <use style=\"fill:#1f77b4;stroke:#ffffff;stroke-width:0.48;\" x=\"92.240366\" xlink:href=\"#m3c50001d17\" y=\"143.973386\"/>\n     <use style=\"fill:#1f77b4;stroke:#ffffff;stroke-width:0.48;\" x=\"123.571917\" xlink:href=\"#m3c50001d17\" y=\"149.61962\"/>\n     <use style=\"fill:#1f77b4;stroke:#ffffff;stroke-width:0.48;\" x=\"201.095125\" xlink:href=\"#m3c50001d17\" y=\"96.614719\"/>\n     <use style=\"fill:#1f77b4;stroke:#ffffff;stroke-width:0.48;\" x=\"208.614698\" xlink:href=\"#m3c50001d17\" y=\"96.342422\"/>\n     <use style=\"fill:#1f77b4;stroke:#ffffff;stroke-width:0.48;\" x=\"132.523788\" xlink:href=\"#m3c50001d17\" y=\"147.981984\"/>\n     <use style=\"fill:#1f77b4;stroke:#ffffff;stroke-width:0.48;\" x=\"96.716302\" xlink:href=\"#m3c50001d17\" y=\"147.085135\"/>\n     <use style=\"fill:#1f77b4;stroke:#ffffff;stroke-width:0.48;\" x=\"123.571917\" xlink:href=\"#m3c50001d17\" y=\"17.083636\"/>\n     <use style=\"fill:#1f77b4;stroke:#ffffff;stroke-width:0.48;\" x=\"128.047853\" xlink:href=\"#m3c50001d17\" y=\"135.767867\"/>\n     <use style=\"fill:#1f77b4;stroke:#ffffff;stroke-width:0.48;\" x=\"114.620045\" xlink:href=\"#m3c50001d17\" y=\"141.741144\"/>\n     <use style=\"fill:#1f77b4;stroke:#ffffff;stroke-width:0.48;\" x=\"106.563361\" xlink:href=\"#m3c50001d17\" y=\"147.559328\"/>\n     <use style=\"fill:#1f77b4;stroke:#ffffff;stroke-width:0.48;\" x=\"98.506676\" xlink:href=\"#m3c50001d17\" y=\"132.690314\"/>\n     <use style=\"fill:#1f77b4;stroke:#ffffff;stroke-width:0.48;\" x=\"96.716302\" xlink:href=\"#m3c50001d17\" y=\"149.153855\"/>\n     <use style=\"fill:#1f77b4;stroke:#ffffff;stroke-width:0.48;\" x=\"119.095981\" xlink:href=\"#m3c50001d17\" y=\"140.30171\"/>\n     <use style=\"fill:#1f77b4;stroke:#ffffff;stroke-width:0.48;\" x=\"95.821115\" xlink:href=\"#m3c50001d17\" y=\"144.559563\"/>\n     <use style=\"fill:#1f77b4;stroke:#ffffff;stroke-width:0.48;\" x=\"128.047853\" xlink:href=\"#m3c50001d17\" y=\"180.865959\"/>\n     <use style=\"fill:#1f77b4;stroke:#ffffff;stroke-width:0.48;\" x=\"145.951596\" xlink:href=\"#m3c50001d17\" y=\"139.526243\"/>\n     <use style=\"fill:#1f77b4;stroke:#ffffff;stroke-width:0.48;\" x=\"96.716302\" xlink:href=\"#m3c50001d17\" y=\"147.085135\"/>\n     <use style=\"fill:#1f77b4;stroke:#ffffff;stroke-width:0.48;\" x=\"141.47566\" xlink:href=\"#m3c50001d17\" y=\"105.176824\"/>\n     <use style=\"fill:#1f77b4;stroke:#ffffff;stroke-width:0.48;\" x=\"123.571917\" xlink:href=\"#m3c50001d17\" y=\"164.100658\"/>\n     <use style=\"fill:#1f77b4;stroke:#ffffff;stroke-width:0.48;\" x=\"119.095981\" xlink:href=\"#m3c50001d17\" y=\"166.36758\"/>\n     <use style=\"fill:#1f77b4;stroke:#ffffff;stroke-width:0.48;\" x=\"123.571917\" xlink:href=\"#m3c50001d17\" y=\"150.447107\"/>\n     <use style=\"fill:#1f77b4;stroke:#ffffff;stroke-width:0.48;\" x=\"201.095125\" xlink:href=\"#m3c50001d17\" y=\"113.164477\"/>\n     <use style=\"fill:#1f77b4;stroke:#ffffff;stroke-width:0.48;\" x=\"128.047853\" xlink:href=\"#m3c50001d17\" y=\"161.006249\"/>\n     <use style=\"fill:#1f77b4;stroke:#ffffff;stroke-width:0.48;\" x=\"119.095981\" xlink:href=\"#m3c50001d17\" y=\"163.471372\"/>\n     <use style=\"fill:#1f77b4;stroke:#ffffff;stroke-width:0.48;\" x=\"119.095981\" xlink:href=\"#m3c50001d17\" y=\"148.57659\"/>\n     <use style=\"fill:#1f77b4;stroke:#ffffff;stroke-width:0.48;\" x=\"101.192238\" xlink:href=\"#m3c50001d17\" y=\"152.265605\"/>\n     <use style=\"fill:#1f77b4;stroke:#ffffff;stroke-width:0.48;\" x=\"94.925927\" xlink:href=\"#m3c50001d17\" y=\"140.792759\"/>\n     <use style=\"fill:#1f77b4;stroke:#ffffff;stroke-width:0.48;\" x=\"230.994377\" xlink:href=\"#m3c50001d17\" y=\"189.133377\"/>\n     <use style=\"fill:#1f77b4;stroke:#ffffff;stroke-width:0.48;\" x=\"87.76443\" xlink:href=\"#m3c50001d17\" y=\"148.722771\"/>\n     <use style=\"fill:#1f77b4;stroke:#ffffff;stroke-width:0.48;\" x=\"123.571917\" xlink:href=\"#m3c50001d17\" y=\"162.031938\"/>\n     <use style=\"fill:#1f77b4;stroke:#ffffff;stroke-width:0.48;\" x=\"110.144109\" xlink:href=\"#m3c50001d17\" y=\"151.869201\"/>\n     <use style=\"fill:#1f77b4;stroke:#ffffff;stroke-width:0.48;\" x=\"157.768067\" xlink:href=\"#m3c50001d17\" y=\"146.191101\"/>\n     <use style=\"fill:#1f77b4;stroke:#ffffff;stroke-width:0.48;\" x=\"107.458548\" xlink:href=\"#m3c50001d17\" y=\"167.875891\"/>\n     <use style=\"fill:#1f77b4;stroke:#ffffff;stroke-width:0.48;\" x=\"141.47566\" xlink:href=\"#m3c50001d17\" y=\"144.275628\"/>\n     <use style=\"fill:#1f77b4;stroke:#ffffff;stroke-width:0.48;\" x=\"123.571917\" xlink:href=\"#m3c50001d17\" y=\"149.61962\"/>\n     <use style=\"fill:#1f77b4;stroke:#ffffff;stroke-width:0.48;\" x=\"114.620045\" xlink:href=\"#m3c50001d17\" y=\"171.944454\"/>\n     <use style=\"fill:#1f77b4;stroke:#ffffff;stroke-width:0.48;\" x=\"123.571917\" xlink:href=\"#m3c50001d17\" y=\"133.897349\"/>\n     <use style=\"fill:#1f77b4;stroke:#ffffff;stroke-width:0.48;\" x=\"110.144109\" xlink:href=\"#m3c50001d17\" y=\"165.109008\"/>\n     <use style=\"fill:#1f77b4;stroke:#ffffff;stroke-width:0.48;\" x=\"220.610206\" xlink:href=\"#m3c50001d17\" y=\"144.21101\"/>\n     <use style=\"fill:#1f77b4;stroke:#ffffff;stroke-width:0.48;\" x=\"110.144109\" xlink:href=\"#m3c50001d17\" y=\"159.316593\"/>\n     <use style=\"fill:#1f77b4;stroke:#ffffff;stroke-width:0.48;\" x=\"387.652131\" xlink:href=\"#m3c50001d17\" y=\"209.089668\"/>\n     <use style=\"fill:#1f77b4;stroke:#ffffff;stroke-width:0.48;\" x=\"90.449992\" xlink:href=\"#m3c50001d17\" y=\"146.369633\"/>\n     <use style=\"fill:#1f77b4;stroke:#ffffff;stroke-width:0.48;\" x=\"90.449992\" xlink:href=\"#m3c50001d17\" y=\"161.678159\"/>\n     <use style=\"fill:#1f77b4;stroke:#ffffff;stroke-width:0.48;\" x=\"145.951596\" xlink:href=\"#m3c50001d17\" y=\"148.62861\"/>\n     <use style=\"fill:#1f77b4;stroke:#ffffff;stroke-width:0.48;\" x=\"119.095981\" xlink:href=\"#m3c50001d17\" y=\"160.161421\"/>\n     <use style=\"fill:#1f77b4;stroke:#ffffff;stroke-width:0.48;\" x=\"154.903468\" xlink:href=\"#m3c50001d17\" y=\"157.334573\"/>\n     <use style=\"fill:#1f77b4;stroke:#ffffff;stroke-width:0.48;\" x=\"110.144109\" xlink:href=\"#m3c50001d17\" y=\"151.041713\"/>\n     <use style=\"fill:#1f77b4;stroke:#ffffff;stroke-width:0.48;\" x=\"114.620045\" xlink:href=\"#m3c50001d17\" y=\"112.365323\"/>\n     <use style=\"fill:#1f77b4;stroke:#ffffff;stroke-width:0.48;\" x=\"96.716302\" xlink:href=\"#m3c50001d17\" y=\"156.187503\"/>\n     <use style=\"fill:#1f77b4;stroke:#ffffff;stroke-width:0.48;\" x=\"119.095981\" xlink:href=\"#m3c50001d17\" y=\"148.162846\"/>\n     <use style=\"fill:#1f77b4;stroke:#ffffff;stroke-width:0.48;\" x=\"110.144109\" xlink:href=\"#m3c50001d17\" y=\"150.627969\"/>\n     <use style=\"fill:#1f77b4;stroke:#ffffff;stroke-width:0.48;\" x=\"156.335767\" xlink:href=\"#m3c50001d17\" y=\"145.832507\"/>\n     <use style=\"fill:#1f77b4;stroke:#ffffff;stroke-width:0.48;\" x=\"96.716302\" xlink:href=\"#m3c50001d17\" y=\"152.877551\"/>\n     <use style=\"fill:#1f77b4;stroke:#ffffff;stroke-width:0.48;\" x=\"98.506676\" xlink:href=\"#m3c50001d17\" y=\"154.618744\"/>\n     <use style=\"fill:#1f77b4;stroke:#ffffff;stroke-width:0.48;\" x=\"92.240366\" xlink:href=\"#m3c50001d17\" y=\"155.558217\"/>\n     <use style=\"fill:#1f77b4;stroke:#ffffff;stroke-width:0.48;\" x=\"123.571917\" xlink:href=\"#m3c50001d17\" y=\"162.859426\"/>\n     <use style=\"fill:#1f77b4;stroke:#ffffff;stroke-width:0.48;\" x=\"111.934484\" xlink:href=\"#m3c50001d17\" y=\"160.230297\"/>\n     <use style=\"fill:#1f77b4;stroke:#ffffff;stroke-width:0.48;\" x=\"145.951596\" xlink:href=\"#m3c50001d17\" y=\"139.112499\"/>\n     <use style=\"fill:#1f77b4;stroke:#ffffff;stroke-width:0.48;\" x=\"105.668173\" xlink:href=\"#m3c50001d17\" y=\"142.551292\"/>\n     <use style=\"fill:#1f77b4;stroke:#ffffff;stroke-width:0.48;\" x=\"145.951596\" xlink:href=\"#m3c50001d17\" y=\"114.287861\"/>\n     <use style=\"fill:#1f77b4;stroke:#ffffff;stroke-width:0.48;\" x=\"101.192238\" xlink:href=\"#m3c50001d17\" y=\"139.439542\"/>\n     <use style=\"fill:#1f77b4;stroke:#ffffff;stroke-width:0.48;\" x=\"136.999724\" xlink:href=\"#m3c50001d17\" y=\"149.852502\"/>\n     <use style=\"fill:#1f77b4;stroke:#ffffff;stroke-width:0.48;\" x=\"110.144109\" xlink:href=\"#m3c50001d17\" y=\"136.146931\"/>\n     <use style=\"fill:#1f77b4;stroke:#ffffff;stroke-width:0.48;\" x=\"145.951596\" xlink:href=\"#m3c50001d17\" y=\"120.080276\"/>\n     <use style=\"fill:#1f77b4;stroke:#ffffff;stroke-width:0.48;\" x=\"123.571917\" xlink:href=\"#m3c50001d17\" y=\"154.998291\"/>\n     <use style=\"fill:#1f77b4;stroke:#ffffff;stroke-width:0.48;\" x=\"105.668173\" xlink:href=\"#m3c50001d17\" y=\"154.549867\"/>\n     <use style=\"fill:#1f77b4;stroke:#ffffff;stroke-width:0.48;\" x=\"156.335767\" xlink:href=\"#m3c50001d17\" y=\"139.281561\"/>\n     <use style=\"fill:#1f77b4;stroke:#ffffff;stroke-width:0.48;\" x=\"90.449992\" xlink:href=\"#m3c50001d17\" y=\"158.781952\"/>\n     <use style=\"fill:#1f77b4;stroke:#ffffff;stroke-width:0.48;\" x=\"119.095981\" xlink:href=\"#m3c50001d17\" y=\"148.162846\"/>\n     <use style=\"fill:#1f77b4;stroke:#ffffff;stroke-width:0.48;\" x=\"101.192238\" xlink:href=\"#m3c50001d17\" y=\"145.645702\"/>\n     <use style=\"fill:#1f77b4;stroke:#ffffff;stroke-width:0.48;\" x=\"159.379403\" xlink:href=\"#m3c50001d17\" y=\"110.521218\"/>\n     <use style=\"fill:#1f77b4;stroke:#ffffff;stroke-width:0.48;\" x=\"98.506676\" xlink:href=\"#m3c50001d17\" y=\"139.723961\"/>\n     <use style=\"fill:#1f77b4;stroke:#ffffff;stroke-width:0.48;\" x=\"117.305607\" xlink:href=\"#m3c50001d17\" y=\"155.937764\"/>\n     <use style=\"fill:#1f77b4;stroke:#ffffff;stroke-width:0.48;\" x=\"114.620045\" xlink:href=\"#m3c50001d17\" y=\"158.290903\"/>\n     <use style=\"fill:#1f77b4;stroke:#ffffff;stroke-width:0.48;\" x=\"102.982612\" xlink:href=\"#m3c50001d17\" y=\"154.420542\"/>\n     <use style=\"fill:#1f77b4;stroke:#ffffff;stroke-width:0.48;\" x=\"128.047853\" xlink:href=\"#m3c50001d17\" y=\"158.523785\"/>\n     <use style=\"fill:#1f77b4;stroke:#ffffff;stroke-width:0.48;\" x=\"128.047853\" xlink:href=\"#m3c50001d17\" y=\"161.006249\"/>\n     <use style=\"fill:#1f77b4;stroke:#ffffff;stroke-width:0.48;\" x=\"103.877799\" xlink:href=\"#m3c50001d17\" y=\"141.637587\"/>\n     <use style=\"fill:#1f77b4;stroke:#ffffff;stroke-width:0.48;\" x=\"101.192238\" xlink:href=\"#m3c50001d17\" y=\"158.471765\"/>\n     <use style=\"fill:#1f77b4;stroke:#ffffff;stroke-width:0.48;\" x=\"94.925927\" xlink:href=\"#m3c50001d17\" y=\"141.620247\"/>\n     <use style=\"fill:#1f77b4;stroke:#ffffff;stroke-width:0.48;\" x=\"132.523788\" xlink:href=\"#m3c50001d17\" y=\"171.151646\"/>\n     <use style=\"fill:#1f77b4;stroke:#ffffff;stroke-width:0.48;\" x=\"101.192238\" xlink:href=\"#m3c50001d17\" y=\"145.645702\"/>\n     <use style=\"fill:#1f77b4;stroke:#ffffff;stroke-width:0.48;\" x=\"156.335767\" xlink:href=\"#m3c50001d17\" y=\"142.729427\"/>\n     <use style=\"fill:#1f77b4;stroke:#ffffff;stroke-width:0.48;\" x=\"94.925927\" xlink:href=\"#m3c50001d17\" y=\"155.687542\"/>\n     <use style=\"fill:#1f77b4;stroke:#ffffff;stroke-width:0.48;\" x=\"123.571917\" xlink:href=\"#m3c50001d17\" y=\"167.824354\"/>\n     <use style=\"fill:#1f77b4;stroke:#ffffff;stroke-width:0.48;\" x=\"223.474804\" xlink:href=\"#m3c50001d17\" y=\"150.444784\"/>\n     <use style=\"fill:#1f77b4;stroke:#ffffff;stroke-width:0.48;\" x=\"90.449992\" xlink:href=\"#m3c50001d17\" y=\"160.850671\"/>\n     <use style=\"fill:#1f77b4;stroke:#ffffff;stroke-width:0.48;\" x=\"115.515232\" xlink:href=\"#m3c50001d17\" y=\"160.402731\"/>\n     <use style=\"fill:#1f77b4;stroke:#ffffff;stroke-width:0.48;\" x=\"123.571917\" xlink:href=\"#m3c50001d17\" y=\"165.34189\"/>\n     <use style=\"fill:#1f77b4;stroke:#ffffff;stroke-width:0.48;\" x=\"105.668173\" xlink:href=\"#m3c50001d17\" y=\"161.16977\"/>\n     <use style=\"fill:#1f77b4;stroke:#ffffff;stroke-width:0.48;\" x=\"105.668173\" xlink:href=\"#m3c50001d17\" y=\"147.51622\"/>\n     <use style=\"fill:#1f77b4;stroke:#ffffff;stroke-width:0.48;\" x=\"98.506676\" xlink:href=\"#m3c50001d17\" y=\"148.412584\"/>\n     <use style=\"fill:#1f77b4;stroke:#ffffff;stroke-width:0.48;\" x=\"105.668173\" xlink:href=\"#m3c50001d17\" y=\"159.928538\"/>\n     <use style=\"fill:#1f77b4;stroke:#ffffff;stroke-width:0.48;\" x=\"208.614698\" xlink:href=\"#m3c50001d17\" y=\"156.680083\"/>\n     <use style=\"fill:#1f77b4;stroke:#ffffff;stroke-width:0.48;\" x=\"107.458548\" xlink:href=\"#m3c50001d17\" y=\"152.567364\"/>\n     <use style=\"fill:#1f77b4;stroke:#ffffff;stroke-width:0.48;\" x=\"283.273307\" xlink:href=\"#m3c50001d17\" y=\"186.189488\"/>\n     <use style=\"fill:#1f77b4;stroke:#ffffff;stroke-width:0.48;\" x=\"128.047853\" xlink:href=\"#m3c50001d17\" y=\"158.523785\"/>\n     <use style=\"fill:#1f77b4;stroke:#ffffff;stroke-width:0.48;\" x=\"101.192238\" xlink:href=\"#m3c50001d17\" y=\"152.265605\"/>\n     <use style=\"fill:#1f77b4;stroke:#ffffff;stroke-width:0.48;\" x=\"83.288494\" xlink:href=\"#m3c50001d17\" y=\"140.23235\"/>\n     <use style=\"fill:#1f77b4;stroke:#ffffff;stroke-width:0.48;\" x=\"128.047853\" xlink:href=\"#m3c50001d17\" y=\"165.557432\"/>\n     <use style=\"fill:#1f77b4;stroke:#ffffff;stroke-width:0.48;\" x=\"123.571917\" xlink:href=\"#m3c50001d17\" y=\"118.009581\"/>\n     <use style=\"fill:#1f77b4;stroke:#ffffff;stroke-width:0.48;\" x=\"119.095981\" xlink:href=\"#m3c50001d17\" y=\"161.816396\"/>\n     <use style=\"fill:#1f77b4;stroke:#ffffff;stroke-width:0.48;\" x=\"114.620045\" xlink:href=\"#m3c50001d17\" y=\"148.361048\"/>\n     <use style=\"fill:#1f77b4;stroke:#ffffff;stroke-width:0.48;\" x=\"114.620045\" xlink:href=\"#m3c50001d17\" y=\"166.979526\"/>\n     <use style=\"fill:#1f77b4;stroke:#ffffff;stroke-width:0.48;\" x=\"123.571917\" xlink:href=\"#m3c50001d17\" y=\"144.240948\"/>\n     <use style=\"fill:#1f77b4;stroke:#ffffff;stroke-width:0.48;\" x=\"223.474804\" xlink:href=\"#m3c50001d17\" y=\"146.996918\"/>\n     <use style=\"fill:#1f77b4;stroke:#ffffff;stroke-width:0.48;\" x=\"105.668173\" xlink:href=\"#m3c50001d17\" y=\"158.687307\"/>\n     <use style=\"fill:#1f77b4;stroke:#ffffff;stroke-width:0.48;\" x=\"136.999724\" xlink:href=\"#m3c50001d17\" y=\"171.367188\"/>\n     <use style=\"fill:#1f77b4;stroke:#ffffff;stroke-width:0.48;\" x=\"223.474804\" xlink:href=\"#m3c50001d17\" y=\"169.408049\"/>\n     <use style=\"fill:#1f77b4;stroke:#ffffff;stroke-width:0.48;\" x=\"110.144109\" xlink:href=\"#m3c50001d17\" y=\"153.524177\"/>\n     <use style=\"fill:#1f77b4;stroke:#ffffff;stroke-width:0.48;\" x=\"245.854484\" xlink:href=\"#m3c50001d17\" y=\"214.756364\"/>\n     <use style=\"fill:#1f77b4;stroke:#ffffff;stroke-width:0.48;\" x=\"119.095981\" xlink:href=\"#m3c50001d17\" y=\"156.851469\"/>\n     <use style=\"fill:#1f77b4;stroke:#ffffff;stroke-width:0.48;\" x=\"119.095981\" xlink:href=\"#m3c50001d17\" y=\"155.196493\"/>\n     <use style=\"fill:#1f77b4;stroke:#ffffff;stroke-width:0.48;\" x=\"110.144109\" xlink:href=\"#m3c50001d17\" y=\"142.766834\"/>\n     <use style=\"fill:#1f77b4;stroke:#ffffff;stroke-width:0.48;\" x=\"98.506676\" xlink:href=\"#m3c50001d17\" y=\"146.757608\"/>\n     <use style=\"fill:#1f77b4;stroke:#ffffff;stroke-width:0.48;\" x=\"216.074591\" xlink:href=\"#m3c50001d17\" y=\"77.738394\"/>\n     <use style=\"fill:#1f77b4;stroke:#ffffff;stroke-width:0.48;\" x=\"123.571917\" xlink:href=\"#m3c50001d17\" y=\"155.412035\"/>\n     <use style=\"fill:#1f77b4;stroke:#ffffff;stroke-width:0.48;\" x=\"87.76443\" xlink:href=\"#m3c50001d17\" y=\"158.238882\"/>\n     <use style=\"fill:#1f77b4;stroke:#ffffff;stroke-width:0.48;\" x=\"119.095981\" xlink:href=\"#m3c50001d17\" y=\"148.57659\"/>\n     <use style=\"fill:#1f77b4;stroke:#ffffff;stroke-width:0.48;\" x=\"90.449992\" xlink:href=\"#m3c50001d17\" y=\"157.54072\"/>\n     <use style=\"fill:#1f77b4;stroke:#ffffff;stroke-width:0.48;\" x=\"119.095981\" xlink:href=\"#m3c50001d17\" y=\"156.437725\"/>\n     <use style=\"fill:#1f77b4;stroke:#ffffff;stroke-width:0.48;\" x=\"168.331275\" xlink:href=\"#m3c50001d17\" y=\"160.049919\"/>\n     <use style=\"fill:#1f77b4;stroke:#ffffff;stroke-width:0.48;\" x=\"114.620045\" xlink:href=\"#m3c50001d17\" y=\"152.498487\"/>\n     <use style=\"fill:#1f77b4;stroke:#ffffff;stroke-width:0.48;\" x=\"105.668173\" xlink:href=\"#m3c50001d17\" y=\"160.342282\"/>\n     <use style=\"fill:#1f77b4;stroke:#ffffff;stroke-width:0.48;\" x=\"110.144109\" xlink:href=\"#m3c50001d17\" y=\"137.388162\"/>\n     <use style=\"fill:#1f77b4;stroke:#ffffff;stroke-width:0.48;\" x=\"101.192238\" xlink:href=\"#m3c50001d17\" y=\"156.403045\"/>\n     <use style=\"fill:#1f77b4;stroke:#ffffff;stroke-width:0.48;\" x=\"123.571917\" xlink:href=\"#m3c50001d17\" y=\"154.253552\"/>\n     <use style=\"fill:#1f77b4;stroke:#ffffff;stroke-width:0.48;\" x=\"119.095981\" xlink:href=\"#m3c50001d17\" y=\"148.57659\"/>\n     <use style=\"fill:#1f77b4;stroke:#ffffff;stroke-width:0.48;\" x=\"105.668173\" xlink:href=\"#m3c50001d17\" y=\"154.136123\"/>\n     <use style=\"fill:#1f77b4;stroke:#ffffff;stroke-width:0.48;\" x=\"114.620045\" xlink:href=\"#m3c50001d17\" y=\"139.25868\"/>\n     <use style=\"fill:#1f77b4;stroke:#ffffff;stroke-width:0.48;\" x=\"110.144109\" xlink:href=\"#m3c50001d17\" y=\"144.42181\"/>\n     <use style=\"fill:#1f77b4;stroke:#ffffff;stroke-width:0.48;\" x=\"90.449992\" xlink:href=\"#m3c50001d17\" y=\"157.954464\"/>\n     <use style=\"fill:#1f77b4;stroke:#ffffff;stroke-width:0.48;\" x=\"220.431168\" xlink:href=\"#m3c50001d17\" y=\"147.484757\"/>\n     <use style=\"fill:#1f77b4;stroke:#ffffff;stroke-width:0.48;\" x=\"123.571917\" xlink:href=\"#m3c50001d17\" y=\"156.653267\"/>\n     <use style=\"fill:#1f77b4;stroke:#ffffff;stroke-width:0.48;\" x=\"133.956088\" xlink:href=\"#m3c50001d17\" y=\"129.239398\"/>\n     <use style=\"fill:#1f77b4;stroke:#ffffff;stroke-width:0.48;\" x=\"101.192238\" xlink:href=\"#m3c50001d17\" y=\"147.714421\"/>\n     <use style=\"fill:#1f77b4;stroke:#ffffff;stroke-width:0.48;\" x=\"92.240366\" xlink:href=\"#m3c50001d17\" y=\"134.457274\"/>\n     <use style=\"fill:#1f77b4;stroke:#ffffff;stroke-width:0.48;\" x=\"90.449992\" xlink:href=\"#m3c50001d17\" y=\"158.368208\"/>\n     <use style=\"fill:#1f77b4;stroke:#ffffff;stroke-width:0.48;\" x=\"128.047853\" xlink:href=\"#m3c50001d17\" y=\"157.282553\"/>\n     <use style=\"fill:#1f77b4;stroke:#ffffff;stroke-width:0.48;\" x=\"96.716302\" xlink:href=\"#m3c50001d17\" y=\"155.360015\"/>\n     <use style=\"fill:#1f77b4;stroke:#ffffff;stroke-width:0.48;\" x=\"119.095981\" xlink:href=\"#m3c50001d17\" y=\"153.127773\"/>\n     <use style=\"fill:#1f77b4;stroke:#ffffff;stroke-width:0.48;\" x=\"83.288494\" xlink:href=\"#m3c50001d17\" y=\"113.752736\"/>\n     <use style=\"fill:#1f77b4;stroke:#ffffff;stroke-width:0.48;\" x=\"94.925927\" xlink:href=\"#m3c50001d17\" y=\"143.688967\"/>\n     <use style=\"fill:#1f77b4;stroke:#ffffff;stroke-width:0.48;\" x=\"193.575553\" xlink:href=\"#m3c50001d17\" y=\"139.295772\"/>\n     <use style=\"fill:#1f77b4;stroke:#ffffff;stroke-width:0.48;\" x=\"154.903468\" xlink:href=\"#m3c50001d17\" y=\"121.683635\"/>\n     <use style=\"fill:#1f77b4;stroke:#ffffff;stroke-width:0.48;\" x=\"110.144109\" xlink:href=\"#m3c50001d17\" y=\"166.763984\"/>\n     <use style=\"fill:#1f77b4;stroke:#ffffff;stroke-width:0.48;\" x=\"123.571917\" xlink:href=\"#m3c50001d17\" y=\"170.306818\"/>\n     <use style=\"fill:#1f77b4;stroke:#ffffff;stroke-width:0.48;\" x=\"105.668173\" xlink:href=\"#m3c50001d17\" y=\"143.37878\"/>\n     <use style=\"fill:#1f77b4;stroke:#ffffff;stroke-width:0.48;\" x=\"125.362291\" xlink:href=\"#m3c50001d17\" y=\"167.083083\"/>\n     <use style=\"fill:#1f77b4;stroke:#ffffff;stroke-width:0.48;\" x=\"87.76443\" xlink:href=\"#m3c50001d17\" y=\"140.861636\"/>\n     <use style=\"fill:#1f77b4;stroke:#ffffff;stroke-width:0.48;\" x=\"171.195874\" xlink:href=\"#m3c50001d17\" y=\"118.565223\"/>\n     <use style=\"fill:#1f77b4;stroke:#ffffff;stroke-width:0.48;\" x=\"223.474804\" xlink:href=\"#m3c50001d17\" y=\"196.99098\"/>\n     <use style=\"fill:#1f77b4;stroke:#ffffff;stroke-width:0.48;\" x=\"103.877799\" xlink:href=\"#m3c50001d17\" y=\"158.60109\"/>\n     <use style=\"fill:#1f77b4;stroke:#ffffff;stroke-width:0.48;\" x=\"217.566569\" xlink:href=\"#m3c50001d17\" y=\"122.287717\"/>\n     <use style=\"fill:#1f77b4;stroke:#ffffff;stroke-width:0.48;\" x=\"226.518441\" xlink:href=\"#m3c50001d17\" y=\"135.13112\"/>\n     <use style=\"fill:#1f77b4;stroke:#ffffff;stroke-width:0.48;\" x=\"123.571917\" xlink:href=\"#m3c50001d17\" y=\"144.240948\"/>\n     <use style=\"fill:#1f77b4;stroke:#ffffff;stroke-width:0.48;\" x=\"112.829671\" xlink:href=\"#m3c50001d17\" y=\"148.688575\"/>\n     <use style=\"fill:#1f77b4;stroke:#ffffff;stroke-width:0.48;\" x=\"90.449992\" xlink:href=\"#m3c50001d17\" y=\"162.091903\"/>\n     <use style=\"fill:#1f77b4;stroke:#ffffff;stroke-width:0.48;\" x=\"110.144109\" xlink:href=\"#m3c50001d17\" y=\"139.870626\"/>\n     <use style=\"fill:#1f77b4;stroke:#ffffff;stroke-width:0.48;\" x=\"101.192238\" xlink:href=\"#m3c50001d17\" y=\"156.816789\"/>\n     <use style=\"fill:#1f77b4;stroke:#ffffff;stroke-width:0.48;\" x=\"114.620045\" xlink:href=\"#m3c50001d17\" y=\"150.429767\"/>\n     <use style=\"fill:#1f77b4;stroke:#ffffff;stroke-width:0.48;\" x=\"110.144109\" xlink:href=\"#m3c50001d17\" y=\"158.075361\"/>\n     <use style=\"fill:#1f77b4;stroke:#ffffff;stroke-width:0.48;\" x=\"160.811703\" xlink:href=\"#m3c50001d17\" y=\"139.497103\"/>\n     <use style=\"fill:#1f77b4;stroke:#ffffff;stroke-width:0.48;\" x=\"119.095981\" xlink:href=\"#m3c50001d17\" y=\"117.545792\"/>\n     <use style=\"fill:#1f77b4;stroke:#ffffff;stroke-width:0.48;\" x=\"150.427532\" xlink:href=\"#m3c50001d17\" y=\"167.46263\"/>\n     <use style=\"fill:#1f77b4;stroke:#ffffff;stroke-width:0.48;\" x=\"119.095981\" xlink:href=\"#m3c50001d17\" y=\"171.332508\"/>\n     <use style=\"fill:#1f77b4;stroke:#ffffff;stroke-width:0.48;\" x=\"96.716302\" xlink:href=\"#m3c50001d17\" y=\"136.327792\"/>\n     <use style=\"fill:#1f77b4;stroke:#ffffff;stroke-width:0.48;\" x=\"159.379403\" xlink:href=\"#m3c50001d17\" y=\"41.563891\"/>\n     <use style=\"fill:#1f77b4;stroke:#ffffff;stroke-width:0.48;\" x=\"114.620045\" xlink:href=\"#m3c50001d17\" y=\"129.328825\"/>\n     <use style=\"fill:#1f77b4;stroke:#ffffff;stroke-width:0.48;\" x=\"151.322719\" xlink:href=\"#m3c50001d17\" y=\"161.299579\"/>\n     <use style=\"fill:#1f77b4;stroke:#ffffff;stroke-width:0.48;\" x=\"110.144109\" xlink:href=\"#m3c50001d17\" y=\"156.834129\"/>\n     <use style=\"fill:#1f77b4;stroke:#ffffff;stroke-width:0.48;\" x=\"87.76443\" xlink:href=\"#m3c50001d17\" y=\"152.860211\"/>\n     <use style=\"fill:#1f77b4;stroke:#ffffff;stroke-width:0.48;\" x=\"96.716302\" xlink:href=\"#m3c50001d17\" y=\"133.017841\"/>\n     <use style=\"fill:#1f77b4;stroke:#ffffff;stroke-width:0.48;\" x=\"119.095981\" xlink:href=\"#m3c50001d17\" y=\"172.57374\"/>\n     <use style=\"fill:#1f77b4;stroke:#ffffff;stroke-width:0.48;\" x=\"132.523788\" xlink:href=\"#m3c50001d17\" y=\"171.151646\"/>\n     <use style=\"fill:#1f77b4;stroke:#ffffff;stroke-width:0.48;\" x=\"94.925927\" xlink:href=\"#m3c50001d17\" y=\"159.824982\"/>\n     <use style=\"fill:#1f77b4;stroke:#ffffff;stroke-width:0.48;\" x=\"119.095981\" xlink:href=\"#m3c50001d17\" y=\"148.57659\"/>\n     <use style=\"fill:#1f77b4;stroke:#ffffff;stroke-width:0.48;\" x=\"128.047853\" xlink:href=\"#m3c50001d17\" y=\"145.283978\"/>\n     <use style=\"fill:#1f77b4;stroke:#ffffff;stroke-width:0.48;\" x=\"193.754591\" xlink:href=\"#m3c50001d17\" y=\"19.828928\"/>\n     <use style=\"fill:#1f77b4;stroke:#ffffff;stroke-width:0.48;\" x=\"96.567104\" xlink:href=\"#m3c50001d17\" y=\"134.941461\"/>\n     <use style=\"fill:#1f77b4;stroke:#ffffff;stroke-width:0.48;\" x=\"123.571917\" xlink:href=\"#m3c50001d17\" y=\"159.135731\"/>\n     <use style=\"fill:#1f77b4;stroke:#ffffff;stroke-width:0.48;\" x=\"87.76443\" xlink:href=\"#m3c50001d17\" y=\"142.516612\"/>\n     <use style=\"fill:#1f77b4;stroke:#ffffff;stroke-width:0.48;\" x=\"123.571917\" xlink:href=\"#m3c50001d17\" y=\"154.998291\"/>\n     <use style=\"fill:#1f77b4;stroke:#ffffff;stroke-width:0.48;\" x=\"83.288494\" xlink:href=\"#m3c50001d17\" y=\"145.611021\"/>\n     <use style=\"fill:#1f77b4;stroke:#ffffff;stroke-width:0.48;\" x=\"90.449992\" xlink:href=\"#m3c50001d17\" y=\"159.195696\"/>\n     <use style=\"fill:#1f77b4;stroke:#ffffff;stroke-width:0.48;\" x=\"298.133414\" xlink:href=\"#m3c50001d17\" y=\"102.377196\"/>\n     <use style=\"fill:#1f77b4;stroke:#ffffff;stroke-width:0.48;\" x=\"101.192238\" xlink:href=\"#m3c50001d17\" y=\"148.541909\"/>\n     <use style=\"fill:#1f77b4;stroke:#ffffff;stroke-width:0.48;\" x=\"238.334911\" xlink:href=\"#m3c50001d17\" y=\"166.620617\"/>\n     <use style=\"fill:#1f77b4;stroke:#ffffff;stroke-width:0.48;\" x=\"90.449992\" xlink:href=\"#m3c50001d17\" y=\"157.54072\"/>\n     <use style=\"fill:#1f77b4;stroke:#ffffff;stroke-width:0.48;\" x=\"110.144109\" xlink:href=\"#m3c50001d17\" y=\"142.35309\"/>\n     <use style=\"fill:#1f77b4;stroke:#ffffff;stroke-width:0.48;\" x=\"123.571917\" xlink:href=\"#m3c50001d17\" y=\"154.170803\"/>\n     <use style=\"fill:#1f77b4;stroke:#ffffff;stroke-width:0.48;\" x=\"103.877799\" xlink:href=\"#m3c50001d17\" y=\"151.153698\"/>\n     <use style=\"fill:#1f77b4;stroke:#ffffff;stroke-width:0.48;\" x=\"87.76443\" xlink:href=\"#m3c50001d17\" y=\"156.99765\"/>\n     <use style=\"fill:#1f77b4;stroke:#ffffff;stroke-width:0.48;\" x=\"136.999724\" xlink:href=\"#m3c50001d17\" y=\"138.267671\"/>\n     <use style=\"fill:#1f77b4;stroke:#ffffff;stroke-width:0.48;\" x=\"119.095981\" xlink:href=\"#m3c50001d17\" y=\"148.57659\"/>\n    </g>\n   </g>\n   <g id=\"matplotlib.axis_1\">\n    <g id=\"xtick_1\">\n     <g id=\"line2d_1\">\n      <defs>\n       <path d=\"M 0 0 \nL 0 3.5 \n\" id=\"md1f77b463d\" style=\"stroke:#000000;stroke-width:0.8;\"/>\n      </defs>\n      <g>\n       <use style=\"stroke:#000000;stroke-width:0.8;\" x=\"89.069545\" xlink:href=\"#md1f77b463d\" y=\"224.64\"/>\n      </g>\n     </g>\n     <g id=\"text_1\">\n      <!-- 20000 -->\n      <g transform=\"translate(73.163295 239.238437)scale(0.1 -0.1)\">\n       <defs>\n        <path d=\"M 1228 531 \nL 3431 531 \nL 3431 0 \nL 469 0 \nL 469 531 \nQ 828 903 1448 1529 \nQ 2069 2156 2228 2338 \nQ 2531 2678 2651 2914 \nQ 2772 3150 2772 3378 \nQ 2772 3750 2511 3984 \nQ 2250 4219 1831 4219 \nQ 1534 4219 1204 4116 \nQ 875 4013 500 3803 \nL 500 4441 \nQ 881 4594 1212 4672 \nQ 1544 4750 1819 4750 \nQ 2544 4750 2975 4387 \nQ 3406 4025 3406 3419 \nQ 3406 3131 3298 2873 \nQ 3191 2616 2906 2266 \nQ 2828 2175 2409 1742 \nQ 1991 1309 1228 531 \nz\n\" id=\"DejaVuSans-32\" transform=\"scale(0.015625)\"/>\n        <path d=\"M 2034 4250 \nQ 1547 4250 1301 3770 \nQ 1056 3291 1056 2328 \nQ 1056 1369 1301 889 \nQ 1547 409 2034 409 \nQ 2525 409 2770 889 \nQ 3016 1369 3016 2328 \nQ 3016 3291 2770 3770 \nQ 2525 4250 2034 4250 \nz\nM 2034 4750 \nQ 2819 4750 3233 4129 \nQ 3647 3509 3647 2328 \nQ 3647 1150 3233 529 \nQ 2819 -91 2034 -91 \nQ 1250 -91 836 529 \nQ 422 1150 422 2328 \nQ 422 3509 836 4129 \nQ 1250 4750 2034 4750 \nz\n\" id=\"DejaVuSans-30\" transform=\"scale(0.015625)\"/>\n       </defs>\n       <use xlink:href=\"#DejaVuSans-32\"/>\n       <use x=\"63.623047\" xlink:href=\"#DejaVuSans-30\"/>\n       <use x=\"127.246094\" xlink:href=\"#DejaVuSans-30\"/>\n       <use x=\"190.869141\" xlink:href=\"#DejaVuSans-30\"/>\n       <use x=\"254.492188\" xlink:href=\"#DejaVuSans-30\"/>\n      </g>\n     </g>\n    </g>\n    <g id=\"xtick_2\">\n     <g id=\"line2d_2\">\n      <g>\n       <use style=\"stroke:#000000;stroke-width:0.8;\" x=\"145.79362\" xlink:href=\"#md1f77b463d\" y=\"224.64\"/>\n      </g>\n     </g>\n     <g id=\"text_2\">\n      <!-- 40000 -->\n      <g transform=\"translate(129.88737 239.238437)scale(0.1 -0.1)\">\n       <defs>\n        <path d=\"M 2419 4116 \nL 825 1625 \nL 2419 1625 \nL 2419 4116 \nz\nM 2253 4666 \nL 3047 4666 \nL 3047 1625 \nL 3713 1625 \nL 3713 1100 \nL 3047 1100 \nL 3047 0 \nL 2419 0 \nL 2419 1100 \nL 313 1100 \nL 313 1709 \nL 2253 4666 \nz\n\" id=\"DejaVuSans-34\" transform=\"scale(0.015625)\"/>\n       </defs>\n       <use xlink:href=\"#DejaVuSans-34\"/>\n       <use x=\"63.623047\" xlink:href=\"#DejaVuSans-30\"/>\n       <use x=\"127.246094\" xlink:href=\"#DejaVuSans-30\"/>\n       <use x=\"190.869141\" xlink:href=\"#DejaVuSans-30\"/>\n       <use x=\"254.492188\" xlink:href=\"#DejaVuSans-30\"/>\n      </g>\n     </g>\n    </g>\n    <g id=\"xtick_3\">\n     <g id=\"line2d_3\">\n      <g>\n       <use style=\"stroke:#000000;stroke-width:0.8;\" x=\"202.517694\" xlink:href=\"#md1f77b463d\" y=\"224.64\"/>\n      </g>\n     </g>\n     <g id=\"text_3\">\n      <!-- 60000 -->\n      <g transform=\"translate(186.611444 239.238437)scale(0.1 -0.1)\">\n       <defs>\n        <path d=\"M 2113 2584 \nQ 1688 2584 1439 2293 \nQ 1191 2003 1191 1497 \nQ 1191 994 1439 701 \nQ 1688 409 2113 409 \nQ 2538 409 2786 701 \nQ 3034 994 3034 1497 \nQ 3034 2003 2786 2293 \nQ 2538 2584 2113 2584 \nz\nM 3366 4563 \nL 3366 3988 \nQ 3128 4100 2886 4159 \nQ 2644 4219 2406 4219 \nQ 1781 4219 1451 3797 \nQ 1122 3375 1075 2522 \nQ 1259 2794 1537 2939 \nQ 1816 3084 2150 3084 \nQ 2853 3084 3261 2657 \nQ 3669 2231 3669 1497 \nQ 3669 778 3244 343 \nQ 2819 -91 2113 -91 \nQ 1303 -91 875 529 \nQ 447 1150 447 2328 \nQ 447 3434 972 4092 \nQ 1497 4750 2381 4750 \nQ 2619 4750 2861 4703 \nQ 3103 4656 3366 4563 \nz\n\" id=\"DejaVuSans-36\" transform=\"scale(0.015625)\"/>\n       </defs>\n       <use xlink:href=\"#DejaVuSans-36\"/>\n       <use x=\"63.623047\" xlink:href=\"#DejaVuSans-30\"/>\n       <use x=\"127.246094\" xlink:href=\"#DejaVuSans-30\"/>\n       <use x=\"190.869141\" xlink:href=\"#DejaVuSans-30\"/>\n       <use x=\"254.492188\" xlink:href=\"#DejaVuSans-30\"/>\n      </g>\n     </g>\n    </g>\n    <g id=\"xtick_4\">\n     <g id=\"line2d_4\">\n      <g>\n       <use style=\"stroke:#000000;stroke-width:0.8;\" x=\"259.241769\" xlink:href=\"#md1f77b463d\" y=\"224.64\"/>\n      </g>\n     </g>\n     <g id=\"text_4\">\n      <!-- 80000 -->\n      <g transform=\"translate(243.335519 239.238437)scale(0.1 -0.1)\">\n       <defs>\n        <path d=\"M 2034 2216 \nQ 1584 2216 1326 1975 \nQ 1069 1734 1069 1313 \nQ 1069 891 1326 650 \nQ 1584 409 2034 409 \nQ 2484 409 2743 651 \nQ 3003 894 3003 1313 \nQ 3003 1734 2745 1975 \nQ 2488 2216 2034 2216 \nz\nM 1403 2484 \nQ 997 2584 770 2862 \nQ 544 3141 544 3541 \nQ 544 4100 942 4425 \nQ 1341 4750 2034 4750 \nQ 2731 4750 3128 4425 \nQ 3525 4100 3525 3541 \nQ 3525 3141 3298 2862 \nQ 3072 2584 2669 2484 \nQ 3125 2378 3379 2068 \nQ 3634 1759 3634 1313 \nQ 3634 634 3220 271 \nQ 2806 -91 2034 -91 \nQ 1263 -91 848 271 \nQ 434 634 434 1313 \nQ 434 1759 690 2068 \nQ 947 2378 1403 2484 \nz\nM 1172 3481 \nQ 1172 3119 1398 2916 \nQ 1625 2713 2034 2713 \nQ 2441 2713 2670 2916 \nQ 2900 3119 2900 3481 \nQ 2900 3844 2670 4047 \nQ 2441 4250 2034 4250 \nQ 1625 4250 1398 4047 \nQ 1172 3844 1172 3481 \nz\n\" id=\"DejaVuSans-38\" transform=\"scale(0.015625)\"/>\n       </defs>\n       <use xlink:href=\"#DejaVuSans-38\"/>\n       <use x=\"63.623047\" xlink:href=\"#DejaVuSans-30\"/>\n       <use x=\"127.246094\" xlink:href=\"#DejaVuSans-30\"/>\n       <use x=\"190.869141\" xlink:href=\"#DejaVuSans-30\"/>\n       <use x=\"254.492188\" xlink:href=\"#DejaVuSans-30\"/>\n      </g>\n     </g>\n    </g>\n    <g id=\"xtick_5\">\n     <g id=\"line2d_5\">\n      <g>\n       <use style=\"stroke:#000000;stroke-width:0.8;\" x=\"315.965844\" xlink:href=\"#md1f77b463d\" y=\"224.64\"/>\n      </g>\n     </g>\n     <g id=\"text_5\">\n      <!-- 100000 -->\n      <g transform=\"translate(296.878344 239.238437)scale(0.1 -0.1)\">\n       <defs>\n        <path d=\"M 794 531 \nL 1825 531 \nL 1825 4091 \nL 703 3866 \nL 703 4441 \nL 1819 4666 \nL 2450 4666 \nL 2450 531 \nL 3481 531 \nL 3481 0 \nL 794 0 \nL 794 531 \nz\n\" id=\"DejaVuSans-31\" transform=\"scale(0.015625)\"/>\n       </defs>\n       <use xlink:href=\"#DejaVuSans-31\"/>\n       <use x=\"63.623047\" xlink:href=\"#DejaVuSans-30\"/>\n       <use x=\"127.246094\" xlink:href=\"#DejaVuSans-30\"/>\n       <use x=\"190.869141\" xlink:href=\"#DejaVuSans-30\"/>\n       <use x=\"254.492188\" xlink:href=\"#DejaVuSans-30\"/>\n       <use x=\"318.115234\" xlink:href=\"#DejaVuSans-30\"/>\n      </g>\n     </g>\n    </g>\n    <g id=\"xtick_6\">\n     <g id=\"line2d_6\">\n      <g>\n       <use style=\"stroke:#000000;stroke-width:0.8;\" x=\"372.689918\" xlink:href=\"#md1f77b463d\" y=\"224.64\"/>\n      </g>\n     </g>\n     <g id=\"text_6\">\n      <!-- 120000 -->\n      <g transform=\"translate(353.602418 239.238437)scale(0.1 -0.1)\">\n       <use xlink:href=\"#DejaVuSans-31\"/>\n       <use x=\"63.623047\" xlink:href=\"#DejaVuSans-32\"/>\n       <use x=\"127.246094\" xlink:href=\"#DejaVuSans-30\"/>\n       <use x=\"190.869141\" xlink:href=\"#DejaVuSans-30\"/>\n       <use x=\"254.492188\" xlink:href=\"#DejaVuSans-30\"/>\n       <use x=\"318.115234\" xlink:href=\"#DejaVuSans-30\"/>\n      </g>\n     </g>\n    </g>\n   </g>\n   <g id=\"matplotlib.axis_2\">\n    <g id=\"ytick_1\">\n     <g id=\"line2d_7\">\n      <defs>\n       <path d=\"M 0 0 \nL -3.5 0 \n\" id=\"md811d93c6e\" style=\"stroke:#000000;stroke-width:0.8;\"/>\n      </defs>\n      <g>\n       <use style=\"stroke:#000000;stroke-width:0.8;\" x=\"68.070312\" xlink:href=\"#md811d93c6e\" y=\"204.192494\"/>\n      </g>\n     </g>\n     <g id=\"text_7\">\n      <!-- −20000 -->\n      <g transform=\"translate(20.878125 207.991713)scale(0.1 -0.1)\">\n       <defs>\n        <path d=\"M 678 2272 \nL 4684 2272 \nL 4684 1741 \nL 678 1741 \nL 678 2272 \nz\n\" id=\"DejaVuSans-2212\" transform=\"scale(0.015625)\"/>\n       </defs>\n       <use xlink:href=\"#DejaVuSans-2212\"/>\n       <use x=\"83.789062\" xlink:href=\"#DejaVuSans-32\"/>\n       <use x=\"147.412109\" xlink:href=\"#DejaVuSans-30\"/>\n       <use x=\"211.035156\" xlink:href=\"#DejaVuSans-30\"/>\n       <use x=\"274.658203\" xlink:href=\"#DejaVuSans-30\"/>\n       <use x=\"338.28125\" xlink:href=\"#DejaVuSans-30\"/>\n      </g>\n     </g>\n    </g>\n    <g id=\"ytick_2\">\n     <g id=\"line2d_8\">\n      <g>\n       <use style=\"stroke:#000000;stroke-width:0.8;\" x=\"68.070312\" xlink:href=\"#md811d93c6e\" y=\"176.609563\"/>\n      </g>\n     </g>\n     <g id=\"text_8\">\n      <!-- −10000 -->\n      <g transform=\"translate(20.878125 180.408782)scale(0.1 -0.1)\">\n       <use xlink:href=\"#DejaVuSans-2212\"/>\n       <use x=\"83.789062\" xlink:href=\"#DejaVuSans-31\"/>\n       <use x=\"147.412109\" xlink:href=\"#DejaVuSans-30\"/>\n       <use x=\"211.035156\" xlink:href=\"#DejaVuSans-30\"/>\n       <use x=\"274.658203\" xlink:href=\"#DejaVuSans-30\"/>\n       <use x=\"338.28125\" xlink:href=\"#DejaVuSans-30\"/>\n      </g>\n     </g>\n    </g>\n    <g id=\"ytick_3\">\n     <g id=\"line2d_9\">\n      <g>\n       <use style=\"stroke:#000000;stroke-width:0.8;\" x=\"68.070312\" xlink:href=\"#md811d93c6e\" y=\"149.026632\"/>\n      </g>\n     </g>\n     <g id=\"text_9\">\n      <!-- 0 -->\n      <g transform=\"translate(54.707813 152.825851)scale(0.1 -0.1)\">\n       <use xlink:href=\"#DejaVuSans-30\"/>\n      </g>\n     </g>\n    </g>\n    <g id=\"ytick_4\">\n     <g id=\"line2d_10\">\n      <g>\n       <use style=\"stroke:#000000;stroke-width:0.8;\" x=\"68.070312\" xlink:href=\"#md811d93c6e\" y=\"121.443701\"/>\n      </g>\n     </g>\n     <g id=\"text_10\">\n      <!-- 10000 -->\n      <g transform=\"translate(29.257812 125.24292)scale(0.1 -0.1)\">\n       <use xlink:href=\"#DejaVuSans-31\"/>\n       <use x=\"63.623047\" xlink:href=\"#DejaVuSans-30\"/>\n       <use x=\"127.246094\" xlink:href=\"#DejaVuSans-30\"/>\n       <use x=\"190.869141\" xlink:href=\"#DejaVuSans-30\"/>\n       <use x=\"254.492188\" xlink:href=\"#DejaVuSans-30\"/>\n      </g>\n     </g>\n    </g>\n    <g id=\"ytick_5\">\n     <g id=\"line2d_11\">\n      <g>\n       <use style=\"stroke:#000000;stroke-width:0.8;\" x=\"68.070312\" xlink:href=\"#md811d93c6e\" y=\"93.86077\"/>\n      </g>\n     </g>\n     <g id=\"text_11\">\n      <!-- 20000 -->\n      <g transform=\"translate(29.257812 97.659989)scale(0.1 -0.1)\">\n       <use xlink:href=\"#DejaVuSans-32\"/>\n       <use x=\"63.623047\" xlink:href=\"#DejaVuSans-30\"/>\n       <use x=\"127.246094\" xlink:href=\"#DejaVuSans-30\"/>\n       <use x=\"190.869141\" xlink:href=\"#DejaVuSans-30\"/>\n       <use x=\"254.492188\" xlink:href=\"#DejaVuSans-30\"/>\n      </g>\n     </g>\n    </g>\n    <g id=\"ytick_6\">\n     <g id=\"line2d_12\">\n      <g>\n       <use style=\"stroke:#000000;stroke-width:0.8;\" x=\"68.070312\" xlink:href=\"#md811d93c6e\" y=\"66.277839\"/>\n      </g>\n     </g>\n     <g id=\"text_12\">\n      <!-- 30000 -->\n      <g transform=\"translate(29.257812 70.077058)scale(0.1 -0.1)\">\n       <defs>\n        <path d=\"M 2597 2516 \nQ 3050 2419 3304 2112 \nQ 3559 1806 3559 1356 \nQ 3559 666 3084 287 \nQ 2609 -91 1734 -91 \nQ 1441 -91 1130 -33 \nQ 819 25 488 141 \nL 488 750 \nQ 750 597 1062 519 \nQ 1375 441 1716 441 \nQ 2309 441 2620 675 \nQ 2931 909 2931 1356 \nQ 2931 1769 2642 2001 \nQ 2353 2234 1838 2234 \nL 1294 2234 \nL 1294 2753 \nL 1863 2753 \nQ 2328 2753 2575 2939 \nQ 2822 3125 2822 3475 \nQ 2822 3834 2567 4026 \nQ 2313 4219 1838 4219 \nQ 1578 4219 1281 4162 \nQ 984 4106 628 3988 \nL 628 4550 \nQ 988 4650 1302 4700 \nQ 1616 4750 1894 4750 \nQ 2613 4750 3031 4423 \nQ 3450 4097 3450 3541 \nQ 3450 3153 3228 2886 \nQ 3006 2619 2597 2516 \nz\n\" id=\"DejaVuSans-33\" transform=\"scale(0.015625)\"/>\n       </defs>\n       <use xlink:href=\"#DejaVuSans-33\"/>\n       <use x=\"63.623047\" xlink:href=\"#DejaVuSans-30\"/>\n       <use x=\"127.246094\" xlink:href=\"#DejaVuSans-30\"/>\n       <use x=\"190.869141\" xlink:href=\"#DejaVuSans-30\"/>\n       <use x=\"254.492188\" xlink:href=\"#DejaVuSans-30\"/>\n      </g>\n     </g>\n    </g>\n    <g id=\"ytick_7\">\n     <g id=\"line2d_13\">\n      <g>\n       <use style=\"stroke:#000000;stroke-width:0.8;\" x=\"68.070312\" xlink:href=\"#md811d93c6e\" y=\"38.694908\"/>\n      </g>\n     </g>\n     <g id=\"text_13\">\n      <!-- 40000 -->\n      <g transform=\"translate(29.257812 42.494127)scale(0.1 -0.1)\">\n       <use xlink:href=\"#DejaVuSans-34\"/>\n       <use x=\"63.623047\" xlink:href=\"#DejaVuSans-30\"/>\n       <use x=\"127.246094\" xlink:href=\"#DejaVuSans-30\"/>\n       <use x=\"190.869141\" xlink:href=\"#DejaVuSans-30\"/>\n       <use x=\"254.492188\" xlink:href=\"#DejaVuSans-30\"/>\n      </g>\n     </g>\n    </g>\n    <g id=\"ytick_8\">\n     <g id=\"line2d_14\">\n      <g>\n       <use style=\"stroke:#000000;stroke-width:0.8;\" x=\"68.070312\" xlink:href=\"#md811d93c6e\" y=\"11.111977\"/>\n      </g>\n     </g>\n     <g id=\"text_14\">\n      <!-- 50000 -->\n      <g transform=\"translate(29.257812 14.911196)scale(0.1 -0.1)\">\n       <defs>\n        <path d=\"M 691 4666 \nL 3169 4666 \nL 3169 4134 \nL 1269 4134 \nL 1269 2991 \nQ 1406 3038 1543 3061 \nQ 1681 3084 1819 3084 \nQ 2600 3084 3056 2656 \nQ 3513 2228 3513 1497 \nQ 3513 744 3044 326 \nQ 2575 -91 1722 -91 \nQ 1428 -91 1123 -41 \nQ 819 9 494 109 \nL 494 744 \nQ 775 591 1075 516 \nQ 1375 441 1709 441 \nQ 2250 441 2565 725 \nQ 2881 1009 2881 1497 \nQ 2881 1984 2565 2268 \nQ 2250 2553 1709 2553 \nQ 1456 2553 1204 2497 \nQ 953 2441 691 2322 \nL 691 4666 \nz\n\" id=\"DejaVuSans-35\" transform=\"scale(0.015625)\"/>\n       </defs>\n       <use xlink:href=\"#DejaVuSans-35\"/>\n       <use x=\"63.623047\" xlink:href=\"#DejaVuSans-30\"/>\n       <use x=\"127.246094\" xlink:href=\"#DejaVuSans-30\"/>\n       <use x=\"190.869141\" xlink:href=\"#DejaVuSans-30\"/>\n       <use x=\"254.492188\" xlink:href=\"#DejaVuSans-30\"/>\n      </g>\n     </g>\n    </g>\n    <g id=\"text_15\">\n     <!-- SALARY -->\n     <g transform=\"translate(14.798437 135.136406)rotate(-90)scale(0.1 -0.1)\">\n      <defs>\n       <path d=\"M 3425 4513 \nL 3425 3897 \nQ 3066 4069 2747 4153 \nQ 2428 4238 2131 4238 \nQ 1616 4238 1336 4038 \nQ 1056 3838 1056 3469 \nQ 1056 3159 1242 3001 \nQ 1428 2844 1947 2747 \nL 2328 2669 \nQ 3034 2534 3370 2195 \nQ 3706 1856 3706 1288 \nQ 3706 609 3251 259 \nQ 2797 -91 1919 -91 \nQ 1588 -91 1214 -16 \nQ 841 59 441 206 \nL 441 856 \nQ 825 641 1194 531 \nQ 1563 422 1919 422 \nQ 2459 422 2753 634 \nQ 3047 847 3047 1241 \nQ 3047 1584 2836 1778 \nQ 2625 1972 2144 2069 \nL 1759 2144 \nQ 1053 2284 737 2584 \nQ 422 2884 422 3419 \nQ 422 4038 858 4394 \nQ 1294 4750 2059 4750 \nQ 2388 4750 2728 4690 \nQ 3069 4631 3425 4513 \nz\n\" id=\"DejaVuSans-53\" transform=\"scale(0.015625)\"/>\n       <path d=\"M 2188 4044 \nL 1331 1722 \nL 3047 1722 \nL 2188 4044 \nz\nM 1831 4666 \nL 2547 4666 \nL 4325 0 \nL 3669 0 \nL 3244 1197 \nL 1141 1197 \nL 716 0 \nL 50 0 \nL 1831 4666 \nz\n\" id=\"DejaVuSans-41\" transform=\"scale(0.015625)\"/>\n       <path d=\"M 628 4666 \nL 1259 4666 \nL 1259 531 \nL 3531 531 \nL 3531 0 \nL 628 0 \nL 628 4666 \nz\n\" id=\"DejaVuSans-4c\" transform=\"scale(0.015625)\"/>\n       <path d=\"M 2841 2188 \nQ 3044 2119 3236 1894 \nQ 3428 1669 3622 1275 \nL 4263 0 \nL 3584 0 \nL 2988 1197 \nQ 2756 1666 2539 1819 \nQ 2322 1972 1947 1972 \nL 1259 1972 \nL 1259 0 \nL 628 0 \nL 628 4666 \nL 2053 4666 \nQ 2853 4666 3247 4331 \nQ 3641 3997 3641 3322 \nQ 3641 2881 3436 2590 \nQ 3231 2300 2841 2188 \nz\nM 1259 4147 \nL 1259 2491 \nL 2053 2491 \nQ 2509 2491 2742 2702 \nQ 2975 2913 2975 3322 \nQ 2975 3731 2742 3939 \nQ 2509 4147 2053 4147 \nL 1259 4147 \nz\n\" id=\"DejaVuSans-52\" transform=\"scale(0.015625)\"/>\n       <path d=\"M -13 4666 \nL 666 4666 \nL 1959 2747 \nL 3244 4666 \nL 3922 4666 \nL 2272 2222 \nL 2272 0 \nL 1638 0 \nL 1638 2222 \nL -13 4666 \nz\n\" id=\"DejaVuSans-59\" transform=\"scale(0.015625)\"/>\n      </defs>\n      <use xlink:href=\"#DejaVuSans-53\"/>\n      <use x=\"65.351562\" xlink:href=\"#DejaVuSans-41\"/>\n      <use x=\"133.759766\" xlink:href=\"#DejaVuSans-4c\"/>\n      <use x=\"191.722656\" xlink:href=\"#DejaVuSans-41\"/>\n      <use x=\"260.130859\" xlink:href=\"#DejaVuSans-52\"/>\n      <use x=\"323.238281\" xlink:href=\"#DejaVuSans-59\"/>\n     </g>\n    </g>\n   </g>\n   <g id=\"patch_3\">\n    <path d=\"M 68.070312 224.64 \nL 68.070312 7.2 \n\" style=\"fill:none;stroke:#000000;stroke-linecap:square;stroke-linejoin:miter;stroke-width:0.8;\"/>\n   </g>\n   <g id=\"patch_4\">\n    <path d=\"M 402.870313 224.64 \nL 402.870313 7.2 \n\" style=\"fill:none;stroke:#000000;stroke-linecap:square;stroke-linejoin:miter;stroke-width:0.8;\"/>\n   </g>\n   <g id=\"patch_5\">\n    <path d=\"M 68.070312 224.64 \nL 402.870313 224.64 \n\" style=\"fill:none;stroke:#000000;stroke-linecap:square;stroke-linejoin:miter;stroke-width:0.8;\"/>\n   </g>\n   <g id=\"patch_6\">\n    <path d=\"M 68.070312 7.2 \nL 402.870313 7.2 \n\" style=\"fill:none;stroke:#000000;stroke-linecap:square;stroke-linejoin:miter;stroke-width:0.8;\"/>\n   </g>\n  </g>\n </g>\n <defs>\n  <clipPath id=\"pfe58c32c3b\">\n   <rect height=\"217.44\" width=\"334.8\" x=\"68.070312\" y=\"7.2\"/>\n  </clipPath>\n </defs>\n</svg>\n",
      "image/png": "[encoded data removed]"
     },
     "metadata": {
      "needs_background": "light"
     }
    }
   ],
   "source": [
    "predictions = model.predict(X_train)\n",
    "sns.scatterplot(x = predictions, y = y_train - predictions)"
   ]
  },
  {
   "cell_type": "code",
   "execution_count": 42,
   "metadata": {},
   "outputs": [
    {
     "output_type": "execute_result",
     "data": {
      "text/plain": [
       "<AxesSubplot:xlabel='SALBEGIN', ylabel='SALARY'>"
      ]
     },
     "metadata": {},
     "execution_count": 42
    },
    {
     "output_type": "display_data",
     "data": {
      "text/plain": "<Figure size 432x288 with 1 Axes>",
      "image/svg+xml": "<?xml version=\"1.0\" encoding=\"utf-8\" standalone=\"no\"?>\n<!DOCTYPE svg PUBLIC \"-//W3C//DTD SVG 1.1//EN\"\n  \"http://www.w3.org/Graphics/SVG/1.1/DTD/svg11.dtd\">\n<svg height=\"262.19625pt\" version=\"1.1\" viewBox=\"0 0 410.758381 262.19625\" width=\"410.758381pt\" xmlns=\"http://www.w3.org/2000/svg\" xmlns:xlink=\"http://www.w3.org/1999/xlink\">\n <metadata>\n  <rdf:RDF xmlns:cc=\"http://creativecommons.org/ns#\" xmlns:dc=\"http://purl.org/dc/elements/1.1/\" xmlns:rdf=\"http://www.w3.org/1999/02/22-rdf-syntax-ns#\">\n   <cc:Work>\n    <dc:type rdf:resource=\"http://purl.org/dc/dcmitype/StillImage\"/>\n    <dc:date>2021-06-03T21:09:21.662008</dc:date>\n    <dc:format>image/svg+xml</dc:format>\n    <dc:creator>\n     <cc:Agent>\n      <dc:title>Matplotlib v3.4.2, https://matplotlib.org/</dc:title>\n     </cc:Agent>\n    </dc:creator>\n   </cc:Work>\n  </rdf:RDF>\n </metadata>\n <defs>\n  <style type=\"text/css\">*{stroke-linecap:butt;stroke-linejoin:round;}</style>\n </defs>\n <g id=\"figure_1\">\n  <g id=\"patch_1\">\n   <path d=\"M 0 262.19625 \nL 410.758381 262.19625 \nL 410.758381 0 \nL 0 0 \nz\n\" style=\"fill:none;\"/>\n  </g>\n  <g id=\"axes_1\">\n   <g id=\"patch_2\">\n    <path d=\"M 68.070312 224.64 \nL 402.870313 224.64 \nL 402.870313 7.2 \nL 68.070312 7.2 \nz\n\" style=\"fill:#ffffff;\"/>\n   </g>\n   <g id=\"PathCollection_1\">\n    <defs>\n     <path d=\"M 0 3 \nC 0.795609 3 1.55874 2.683901 2.12132 2.12132 \nC 2.683901 1.55874 3 0.795609 3 0 \nC 3 -0.795609 2.683901 -1.55874 2.12132 -2.12132 \nC 1.55874 -2.683901 0.795609 -3 0 -3 \nC -0.795609 -3 -1.55874 -2.683901 -2.12132 -2.12132 \nC -2.683901 -1.55874 -3 -0.795609 -3 0 \nC -3 0.795609 -2.683901 1.55874 -2.12132 2.12132 \nC -1.55874 2.683901 -0.795609 3 0 3 \nz\n\" id=\"m9736d4d6ab\" style=\"stroke:#1f77b4;stroke-opacity:0.8;\"/>\n    </defs>\n    <g clip-path=\"url(#pb15727404f)\">\n     <use style=\"fill:#1f77b4;fill-opacity:0.8;stroke:#1f77b4;stroke-opacity:0.8;\" x=\"123.571917\" xlink:href=\"#m9736d4d6ab\" y=\"164.928146\"/>\n     <use style=\"fill:#1f77b4;fill-opacity:0.8;stroke:#1f77b4;stroke-opacity:0.8;\" x=\"101.192238\" xlink:href=\"#m9736d4d6ab\" y=\"147.714421\"/>\n     <use style=\"fill:#1f77b4;fill-opacity:0.8;stroke:#1f77b4;stroke-opacity:0.8;\" x=\"110.144109\" xlink:href=\"#m9736d4d6ab\" y=\"147.731762\"/>\n     <use style=\"fill:#1f77b4;fill-opacity:0.8;stroke:#1f77b4;stroke-opacity:0.8;\" x=\"283.09427\" xlink:href=\"#m9736d4d6ab\" y=\"201.875554\"/>\n     <use style=\"fill:#1f77b4;fill-opacity:0.8;stroke:#1f77b4;stroke-opacity:0.8;\" x=\"208.614698\" xlink:href=\"#m9736d4d6ab\" y=\"104.962088\"/>\n     <use style=\"fill:#1f77b4;fill-opacity:0.8;stroke:#1f77b4;stroke-opacity:0.8;\" x=\"136.999724\" xlink:href=\"#m9736d4d6ab\" y=\"176.332115\"/>\n     <use style=\"fill:#1f77b4;fill-opacity:0.8;stroke:#1f77b4;stroke-opacity:0.8;\" x=\"90.449992\" xlink:href=\"#m9736d4d6ab\" y=\"160.850671\"/>\n     <use style=\"fill:#1f77b4;fill-opacity:0.8;stroke:#1f77b4;stroke-opacity:0.8;\" x=\"128.047853\" xlink:href=\"#m9736d4d6ab\" y=\"150.66265\"/>\n     <use style=\"fill:#1f77b4;fill-opacity:0.8;stroke:#1f77b4;stroke-opacity:0.8;\" x=\"94.925927\" xlink:href=\"#m9736d4d6ab\" y=\"153.618822\"/>\n     <use style=\"fill:#1f77b4;fill-opacity:0.8;stroke:#1f77b4;stroke-opacity:0.8;\" x=\"119.095981\" xlink:href=\"#m9736d4d6ab\" y=\"146.921614\"/>\n     <use style=\"fill:#1f77b4;fill-opacity:0.8;stroke:#1f77b4;stroke-opacity:0.8;\" x=\"136.999724\" xlink:href=\"#m9736d4d6ab\" y=\"171.780932\"/>\n     <use style=\"fill:#1f77b4;fill-opacity:0.8;stroke:#1f77b4;stroke-opacity:0.8;\" x=\"119.095981\" xlink:href=\"#m9736d4d6ab\" y=\"162.23014\"/>\n     <use style=\"fill:#1f77b4;fill-opacity:0.8;stroke:#1f77b4;stroke-opacity:0.8;\" x=\"119.095981\" xlink:href=\"#m9736d4d6ab\" y=\"120.855744\"/>\n     <use style=\"fill:#1f77b4;fill-opacity:0.8;stroke:#1f77b4;stroke-opacity:0.8;\" x=\"145.951596\" xlink:href=\"#m9736d4d6ab\" y=\"166.005856\"/>\n     <use style=\"fill:#1f77b4;fill-opacity:0.8;stroke:#1f77b4;stroke-opacity:0.8;\" x=\"268.234163\" xlink:href=\"#m9736d4d6ab\" y=\"124.672487\"/>\n     <use style=\"fill:#1f77b4;fill-opacity:0.8;stroke:#1f77b4;stroke-opacity:0.8;\" x=\"113.724858\" xlink:href=\"#m9736d4d6ab\" y=\"158.661538\"/>\n     <use style=\"fill:#1f77b4;fill-opacity:0.8;stroke:#1f77b4;stroke-opacity:0.8;\" x=\"101.192238\" xlink:href=\"#m9736d4d6ab\" y=\"158.471765\"/>\n     <use style=\"fill:#1f77b4;fill-opacity:0.8;stroke:#1f77b4;stroke-opacity:0.8;\" x=\"181.759083\" xlink:href=\"#m9736d4d6ab\" y=\"183.866207\"/>\n     <use style=\"fill:#1f77b4;fill-opacity:0.8;stroke:#1f77b4;stroke-opacity:0.8;\" x=\"163.855339\" xlink:href=\"#m9736d4d6ab\" y=\"109.7024\"/>\n     <use style=\"fill:#1f77b4;fill-opacity:0.8;stroke:#1f77b4;stroke-opacity:0.8;\" x=\"107.458548\" xlink:href=\"#m9736d4d6ab\" y=\"148.843668\"/>\n     <use style=\"fill:#1f77b4;fill-opacity:0.8;stroke:#1f77b4;stroke-opacity:0.8;\" x=\"208.614698\" xlink:href=\"#m9736d4d6ab\" y=\"163.920603\"/>\n     <use style=\"fill:#1f77b4;fill-opacity:0.8;stroke:#1f77b4;stroke-opacity:0.8;\" x=\"110.144109\" xlink:href=\"#m9736d4d6ab\" y=\"127.458307\"/>\n     <use style=\"fill:#1f77b4;fill-opacity:0.8;stroke:#1f77b4;stroke-opacity:0.8;\" x=\"123.571917\" xlink:href=\"#m9736d4d6ab\" y=\"173.616769\"/>\n     <use style=\"fill:#1f77b4;fill-opacity:0.8;stroke:#1f77b4;stroke-opacity:0.8;\" x=\"289.181542\" xlink:href=\"#m9736d4d6ab\" y=\"203.313383\"/>\n     <use style=\"fill:#1f77b4;fill-opacity:0.8;stroke:#1f77b4;stroke-opacity:0.8;\" x=\"123.571917\" xlink:href=\"#m9736d4d6ab\" y=\"154.998291\"/>\n     <use style=\"fill:#1f77b4;fill-opacity:0.8;stroke:#1f77b4;stroke-opacity:0.8;\" x=\"119.095981\" xlink:href=\"#m9736d4d6ab\" y=\"134.095551\"/>\n     <use style=\"fill:#1f77b4;fill-opacity:0.8;stroke:#1f77b4;stroke-opacity:0.8;\" x=\"238.334911\" xlink:href=\"#m9736d4d6ab\" y=\"163.17275\"/>\n     <use style=\"fill:#1f77b4;fill-opacity:0.8;stroke:#1f77b4;stroke-opacity:0.8;\" x=\"94.925927\" xlink:href=\"#m9736d4d6ab\" y=\"142.447735\"/>\n     <use style=\"fill:#1f77b4;fill-opacity:0.8;stroke:#1f77b4;stroke-opacity:0.8;\" x=\"87.76443\" xlink:href=\"#m9736d4d6ab\" y=\"142.516612\"/>\n     <use style=\"fill:#1f77b4;fill-opacity:0.8;stroke:#1f77b4;stroke-opacity:0.8;\" x=\"238.513949\" xlink:href=\"#m9736d4d6ab\" y=\"81.977223\"/>\n     <use style=\"fill:#1f77b4;fill-opacity:0.8;stroke:#1f77b4;stroke-opacity:0.8;\" x=\"105.668173\" xlink:href=\"#m9736d4d6ab\" y=\"140.068828\"/>\n     <use style=\"fill:#1f77b4;fill-opacity:0.8;stroke:#1f77b4;stroke-opacity:0.8;\" x=\"131.628601\" xlink:href=\"#m9736d4d6ab\" y=\"174.004745\"/>\n     <use style=\"fill:#1f77b4;fill-opacity:0.8;stroke:#1f77b4;stroke-opacity:0.8;\" x=\"102.087425\" xlink:href=\"#m9736d4d6ab\" y=\"121.69166\"/>\n     <use style=\"fill:#1f77b4;fill-opacity:0.8;stroke:#1f77b4;stroke-opacity:0.8;\" x=\"141.47566\" xlink:href=\"#m9736d4d6ab\" y=\"168.272778\"/>\n     <use style=\"fill:#1f77b4;fill-opacity:0.8;stroke:#1f77b4;stroke-opacity:0.8;\" x=\"116.410419\" xlink:href=\"#m9736d4d6ab\" y=\"134.793714\"/>\n     <use style=\"fill:#1f77b4;fill-opacity:0.8;stroke:#1f77b4;stroke-opacity:0.8;\" x=\"119.095981\" xlink:href=\"#m9736d4d6ab\" y=\"159.747677\"/>\n     <use style=\"fill:#1f77b4;fill-opacity:0.8;stroke:#1f77b4;stroke-opacity:0.8;\" x=\"105.668173\" xlink:href=\"#m9736d4d6ab\" y=\"151.239915\"/>\n     <use style=\"fill:#1f77b4;fill-opacity:0.8;stroke:#1f77b4;stroke-opacity:0.8;\" x=\"103.877799\" xlink:href=\"#m9736d4d6ab\" y=\"138.327635\"/>\n     <use style=\"fill:#1f77b4;fill-opacity:0.8;stroke:#1f77b4;stroke-opacity:0.8;\" x=\"119.095981\" xlink:href=\"#m9736d4d6ab\" y=\"148.162846\"/>\n     <use style=\"fill:#1f77b4;fill-opacity:0.8;stroke:#1f77b4;stroke-opacity:0.8;\" x=\"128.047853\" xlink:href=\"#m9736d4d6ab\" y=\"159.351273\"/>\n     <use style=\"fill:#1f77b4;fill-opacity:0.8;stroke:#1f77b4;stroke-opacity:0.8;\" x=\"136.999724\" xlink:href=\"#m9736d4d6ab\" y=\"161.023589\"/>\n     <use style=\"fill:#1f77b4;fill-opacity:0.8;stroke:#1f77b4;stroke-opacity:0.8;\" x=\"123.571917\" xlink:href=\"#m9736d4d6ab\" y=\"156.239523\"/>\n     <use style=\"fill:#1f77b4;fill-opacity:0.8;stroke:#1f77b4;stroke-opacity:0.8;\" x=\"292.762291\" xlink:href=\"#m9736d4d6ab\" y=\"126.460482\"/>\n     <use style=\"fill:#1f77b4;fill-opacity:0.8;stroke:#1f77b4;stroke-opacity:0.8;\" x=\"123.571917\" xlink:href=\"#m9736d4d6ab\" y=\"129.346165\"/>\n     <use style=\"fill:#1f77b4;fill-opacity:0.8;stroke:#1f77b4;stroke-opacity:0.8;\" x=\"96.716302\" xlink:href=\"#m9736d4d6ab\" y=\"152.877551\"/>\n     <use style=\"fill:#1f77b4;fill-opacity:0.8;stroke:#1f77b4;stroke-opacity:0.8;\" x=\"83.288494\" xlink:href=\"#m9736d4d6ab\" y=\"151.817181\"/>\n     <use style=\"fill:#1f77b4;fill-opacity:0.8;stroke:#1f77b4;stroke-opacity:0.8;\" x=\"132.523788\" xlink:href=\"#m9736d4d6ab\" y=\"135.569665\"/>\n     <use style=\"fill:#1f77b4;fill-opacity:0.8;stroke:#1f77b4;stroke-opacity:0.8;\" x=\"113.724858\" xlink:href=\"#m9736d4d6ab\" y=\"143.353012\"/>\n     <use style=\"fill:#1f77b4;fill-opacity:0.8;stroke:#1f77b4;stroke-opacity:0.8;\" x=\"105.668173\" xlink:href=\"#m9736d4d6ab\" y=\"158.273563\"/>\n     <use style=\"fill:#1f77b4;fill-opacity:0.8;stroke:#1f77b4;stroke-opacity:0.8;\" x=\"128.047853\" xlink:href=\"#m9736d4d6ab\" y=\"146.111466\"/>\n     <use style=\"fill:#1f77b4;fill-opacity:0.8;stroke:#1f77b4;stroke-opacity:0.8;\" x=\"145.951596\" xlink:href=\"#m9736d4d6ab\" y=\"168.902064\"/>\n     <use style=\"fill:#1f77b4;fill-opacity:0.8;stroke:#1f77b4;stroke-opacity:0.8;\" x=\"123.571917\" xlink:href=\"#m9736d4d6ab\" y=\"140.517252\"/>\n     <use style=\"fill:#1f77b4;fill-opacity:0.8;stroke:#1f77b4;stroke-opacity:0.8;\" x=\"193.575553\" xlink:href=\"#m9736d4d6ab\" y=\"116.195067\"/>\n     <use style=\"fill:#1f77b4;fill-opacity:0.8;stroke:#1f77b4;stroke-opacity:0.8;\" x=\"90.449992\" xlink:href=\"#m9736d4d6ab\" y=\"150.920816\"/>\n     <use style=\"fill:#1f77b4;fill-opacity:0.8;stroke:#1f77b4;stroke-opacity:0.8;\" x=\"96.716302\" xlink:href=\"#m9736d4d6ab\" y=\"147.912623\"/>\n     <use style=\"fill:#1f77b4;fill-opacity:0.8;stroke:#1f77b4;stroke-opacity:0.8;\" x=\"226.518441\" xlink:href=\"#m9736d4d6ab\" y=\"206.708826\"/>\n     <use style=\"fill:#1f77b4;fill-opacity:0.8;stroke:#1f77b4;stroke-opacity:0.8;\" x=\"181.759083\" xlink:href=\"#m9736d4d6ab\" y=\"142.905555\"/>\n     <use style=\"fill:#1f77b4;fill-opacity:0.8;stroke:#1f77b4;stroke-opacity:0.8;\" x=\"114.620045\" xlink:href=\"#m9736d4d6ab\" y=\"155.808439\"/>\n     <use style=\"fill:#1f77b4;fill-opacity:0.8;stroke:#1f77b4;stroke-opacity:0.8;\" x=\"123.571917\" xlink:href=\"#m9736d4d6ab\" y=\"165.34189\"/>\n     <use style=\"fill:#1f77b4;fill-opacity:0.8;stroke:#1f77b4;stroke-opacity:0.8;\" x=\"190.710954\" xlink:href=\"#m9736d4d6ab\" y=\"145.819103\"/>\n     <use style=\"fill:#1f77b4;fill-opacity:0.8;stroke:#1f77b4;stroke-opacity:0.8;\" x=\"193.754591\" xlink:href=\"#m9736d4d6ab\" y=\"116.369186\"/>\n     <use style=\"fill:#1f77b4;fill-opacity:0.8;stroke:#1f77b4;stroke-opacity:0.8;\" x=\"114.620045\" xlink:href=\"#m9736d4d6ab\" y=\"160.773366\"/>\n     <use style=\"fill:#1f77b4;fill-opacity:0.8;stroke:#1f77b4;stroke-opacity:0.8;\" x=\"114.620045\" xlink:href=\"#m9736d4d6ab\" y=\"158.290903\"/>\n     <use style=\"fill:#1f77b4;fill-opacity:0.8;stroke:#1f77b4;stroke-opacity:0.8;\" x=\"123.571917\" xlink:href=\"#m9736d4d6ab\" y=\"155.412035\"/>\n     <use style=\"fill:#1f77b4;fill-opacity:0.8;stroke:#1f77b4;stroke-opacity:0.8;\" x=\"105.668173\" xlink:href=\"#m9736d4d6ab\" y=\"153.722379\"/>\n     <use style=\"fill:#1f77b4;fill-opacity:0.8;stroke:#1f77b4;stroke-opacity:0.8;\" x=\"110.144109\" xlink:href=\"#m9736d4d6ab\" y=\"159.730337\"/>\n     <use style=\"fill:#1f77b4;fill-opacity:0.8;stroke:#1f77b4;stroke-opacity:0.8;\" x=\"96.716302\" xlink:href=\"#m9736d4d6ab\" y=\"154.118783\"/>\n     <use style=\"fill:#1f77b4;fill-opacity:0.8;stroke:#1f77b4;stroke-opacity:0.8;\" x=\"119.095981\" xlink:href=\"#m9736d4d6ab\" y=\"157.265213\"/>\n     <use style=\"fill:#1f77b4;fill-opacity:0.8;stroke:#1f77b4;stroke-opacity:0.8;\" x=\"123.571917\" xlink:href=\"#m9736d4d6ab\" y=\"171.54805\"/>\n     <use style=\"fill:#1f77b4;fill-opacity:0.8;stroke:#1f77b4;stroke-opacity:0.8;\" x=\"125.362291\" xlink:href=\"#m9736d4d6ab\" y=\"167.083083\"/>\n     <use style=\"fill:#1f77b4;fill-opacity:0.8;stroke:#1f77b4;stroke-opacity:0.8;\" x=\"226.518441\" xlink:href=\"#m9736d4d6ab\" y=\"168.92021\"/>\n     <use style=\"fill:#1f77b4;fill-opacity:0.8;stroke:#1f77b4;stroke-opacity:0.8;\" x=\"90.449992\" xlink:href=\"#m9736d4d6ab\" y=\"150.507072\"/>\n     <use style=\"fill:#1f77b4;fill-opacity:0.8;stroke:#1f77b4;stroke-opacity:0.8;\" x=\"109.248922\" xlink:href=\"#m9736d4d6ab\" y=\"125.760223\"/>\n     <use style=\"fill:#1f77b4;fill-opacity:0.8;stroke:#1f77b4;stroke-opacity:0.8;\" x=\"123.571917\" xlink:href=\"#m9736d4d6ab\" y=\"133.483605\"/>\n     <use style=\"fill:#1f77b4;fill-opacity:0.8;stroke:#1f77b4;stroke-opacity:0.8;\" x=\"90.449992\" xlink:href=\"#m9736d4d6ab\" y=\"158.368208\"/>\n     <use style=\"fill:#1f77b4;fill-opacity:0.8;stroke:#1f77b4;stroke-opacity:0.8;\" x=\"112.829671\" xlink:href=\"#m9736d4d6ab\" y=\"173.099469\"/>\n     <use style=\"fill:#1f77b4;fill-opacity:0.8;stroke:#1f77b4;stroke-opacity:0.8;\" x=\"132.523788\" xlink:href=\"#m9736d4d6ab\" y=\"171.151646\"/>\n     <use style=\"fill:#1f77b4;fill-opacity:0.8;stroke:#1f77b4;stroke-opacity:0.8;\" x=\"132.523788\" xlink:href=\"#m9736d4d6ab\" y=\"151.291936\"/>\n     <use style=\"fill:#1f77b4;fill-opacity:0.8;stroke:#1f77b4;stroke-opacity:0.8;\" x=\"193.575553\" xlink:href=\"#m9736d4d6ab\" y=\"164.465196\"/>\n     <use style=\"fill:#1f77b4;fill-opacity:0.8;stroke:#1f77b4;stroke-opacity:0.8;\" x=\"150.427532\" xlink:href=\"#m9736d4d6ab\" y=\"150.499128\"/>\n     <use style=\"fill:#1f77b4;fill-opacity:0.8;stroke:#1f77b4;stroke-opacity:0.8;\" x=\"115.515232\" xlink:href=\"#m9736d4d6ab\" y=\"159.575243\"/>\n     <use style=\"fill:#1f77b4;fill-opacity:0.8;stroke:#1f77b4;stroke-opacity:0.8;\" x=\"122.67673\" xlink:href=\"#m9736d4d6ab\" y=\"164.471294\"/>\n     <use style=\"fill:#1f77b4;fill-opacity:0.8;stroke:#1f77b4;stroke-opacity:0.8;\" x=\"89.554804\" xlink:href=\"#m9736d4d6ab\" y=\"136.810413\"/>\n     <use style=\"fill:#1f77b4;fill-opacity:0.8;stroke:#1f77b4;stroke-opacity:0.8;\" x=\"110.144109\" xlink:href=\"#m9736d4d6ab\" y=\"132.836979\"/>\n     <use style=\"fill:#1f77b4;fill-opacity:0.8;stroke:#1f77b4;stroke-opacity:0.8;\" x=\"96.716302\" xlink:href=\"#m9736d4d6ab\" y=\"142.947696\"/>\n     <use style=\"fill:#1f77b4;fill-opacity:0.8;stroke:#1f77b4;stroke-opacity:0.8;\" x=\"154.903468\" xlink:href=\"#m9736d4d6ab\" y=\"112.374396\"/>\n     <use style=\"fill:#1f77b4;fill-opacity:0.8;stroke:#1f77b4;stroke-opacity:0.8;\" x=\"94.925927\" xlink:href=\"#m9736d4d6ab\" y=\"149.067638\"/>\n     <use style=\"fill:#1f77b4;fill-opacity:0.8;stroke:#1f77b4;stroke-opacity:0.8;\" x=\"111.934484\" xlink:href=\"#m9736d4d6ab\" y=\"165.195225\"/>\n     <use style=\"fill:#1f77b4;fill-opacity:0.8;stroke:#1f77b4;stroke-opacity:0.8;\" x=\"128.047853\" xlink:href=\"#m9736d4d6ab\" y=\"148.59393\"/>\n     <use style=\"fill:#1f77b4;fill-opacity:0.8;stroke:#1f77b4;stroke-opacity:0.8;\" x=\"92.240366\" xlink:href=\"#m9736d4d6ab\" y=\"143.973386\"/>\n     <use style=\"fill:#1f77b4;fill-opacity:0.8;stroke:#1f77b4;stroke-opacity:0.8;\" x=\"123.571917\" xlink:href=\"#m9736d4d6ab\" y=\"149.61962\"/>\n     <use style=\"fill:#1f77b4;fill-opacity:0.8;stroke:#1f77b4;stroke-opacity:0.8;\" x=\"201.095125\" xlink:href=\"#m9736d4d6ab\" y=\"96.614719\"/>\n     <use style=\"fill:#1f77b4;fill-opacity:0.8;stroke:#1f77b4;stroke-opacity:0.8;\" x=\"208.614698\" xlink:href=\"#m9736d4d6ab\" y=\"96.342422\"/>\n     <use style=\"fill:#1f77b4;fill-opacity:0.8;stroke:#1f77b4;stroke-opacity:0.8;\" x=\"132.523788\" xlink:href=\"#m9736d4d6ab\" y=\"147.981984\"/>\n     <use style=\"fill:#1f77b4;fill-opacity:0.8;stroke:#1f77b4;stroke-opacity:0.8;\" x=\"96.716302\" xlink:href=\"#m9736d4d6ab\" y=\"147.085135\"/>\n     <use style=\"fill:#1f77b4;fill-opacity:0.8;stroke:#1f77b4;stroke-opacity:0.8;\" x=\"123.571917\" xlink:href=\"#m9736d4d6ab\" y=\"17.083636\"/>\n     <use style=\"fill:#1f77b4;fill-opacity:0.8;stroke:#1f77b4;stroke-opacity:0.8;\" x=\"128.047853\" xlink:href=\"#m9736d4d6ab\" y=\"135.767867\"/>\n     <use style=\"fill:#1f77b4;fill-opacity:0.8;stroke:#1f77b4;stroke-opacity:0.8;\" x=\"114.620045\" xlink:href=\"#m9736d4d6ab\" y=\"141.741144\"/>\n     <use style=\"fill:#1f77b4;fill-opacity:0.8;stroke:#1f77b4;stroke-opacity:0.8;\" x=\"106.563361\" xlink:href=\"#m9736d4d6ab\" y=\"147.559328\"/>\n     <use style=\"fill:#1f77b4;fill-opacity:0.8;stroke:#1f77b4;stroke-opacity:0.8;\" x=\"98.506676\" xlink:href=\"#m9736d4d6ab\" y=\"132.690314\"/>\n     <use style=\"fill:#1f77b4;fill-opacity:0.8;stroke:#1f77b4;stroke-opacity:0.8;\" x=\"96.716302\" xlink:href=\"#m9736d4d6ab\" y=\"149.153855\"/>\n     <use style=\"fill:#1f77b4;fill-opacity:0.8;stroke:#1f77b4;stroke-opacity:0.8;\" x=\"119.095981\" xlink:href=\"#m9736d4d6ab\" y=\"140.30171\"/>\n     <use style=\"fill:#1f77b4;fill-opacity:0.8;stroke:#1f77b4;stroke-opacity:0.8;\" x=\"95.821115\" xlink:href=\"#m9736d4d6ab\" y=\"144.559563\"/>\n     <use style=\"fill:#1f77b4;fill-opacity:0.8;stroke:#1f77b4;stroke-opacity:0.8;\" x=\"128.047853\" xlink:href=\"#m9736d4d6ab\" y=\"180.865959\"/>\n     <use style=\"fill:#1f77b4;fill-opacity:0.8;stroke:#1f77b4;stroke-opacity:0.8;\" x=\"145.951596\" xlink:href=\"#m9736d4d6ab\" y=\"139.526243\"/>\n     <use style=\"fill:#1f77b4;fill-opacity:0.8;stroke:#1f77b4;stroke-opacity:0.8;\" x=\"96.716302\" xlink:href=\"#m9736d4d6ab\" y=\"147.085135\"/>\n     <use style=\"fill:#1f77b4;fill-opacity:0.8;stroke:#1f77b4;stroke-opacity:0.8;\" x=\"141.47566\" xlink:href=\"#m9736d4d6ab\" y=\"105.176824\"/>\n     <use style=\"fill:#1f77b4;fill-opacity:0.8;stroke:#1f77b4;stroke-opacity:0.8;\" x=\"123.571917\" xlink:href=\"#m9736d4d6ab\" y=\"164.100658\"/>\n     <use style=\"fill:#1f77b4;fill-opacity:0.8;stroke:#1f77b4;stroke-opacity:0.8;\" x=\"119.095981\" xlink:href=\"#m9736d4d6ab\" y=\"166.36758\"/>\n     <use style=\"fill:#1f77b4;fill-opacity:0.8;stroke:#1f77b4;stroke-opacity:0.8;\" x=\"123.571917\" xlink:href=\"#m9736d4d6ab\" y=\"150.447107\"/>\n     <use style=\"fill:#1f77b4;fill-opacity:0.8;stroke:#1f77b4;stroke-opacity:0.8;\" x=\"201.095125\" xlink:href=\"#m9736d4d6ab\" y=\"113.164477\"/>\n     <use style=\"fill:#1f77b4;fill-opacity:0.8;stroke:#1f77b4;stroke-opacity:0.8;\" x=\"128.047853\" xlink:href=\"#m9736d4d6ab\" y=\"161.006249\"/>\n     <use style=\"fill:#1f77b4;fill-opacity:0.8;stroke:#1f77b4;stroke-opacity:0.8;\" x=\"119.095981\" xlink:href=\"#m9736d4d6ab\" y=\"163.471372\"/>\n     <use style=\"fill:#1f77b4;fill-opacity:0.8;stroke:#1f77b4;stroke-opacity:0.8;\" x=\"119.095981\" xlink:href=\"#m9736d4d6ab\" y=\"148.57659\"/>\n     <use style=\"fill:#1f77b4;fill-opacity:0.8;stroke:#1f77b4;stroke-opacity:0.8;\" x=\"101.192238\" xlink:href=\"#m9736d4d6ab\" y=\"152.265605\"/>\n     <use style=\"fill:#1f77b4;fill-opacity:0.8;stroke:#1f77b4;stroke-opacity:0.8;\" x=\"94.925927\" xlink:href=\"#m9736d4d6ab\" y=\"140.792759\"/>\n     <use style=\"fill:#1f77b4;fill-opacity:0.8;stroke:#1f77b4;stroke-opacity:0.8;\" x=\"230.994377\" xlink:href=\"#m9736d4d6ab\" y=\"189.133377\"/>\n     <use style=\"fill:#1f77b4;fill-opacity:0.8;stroke:#1f77b4;stroke-opacity:0.8;\" x=\"87.76443\" xlink:href=\"#m9736d4d6ab\" y=\"148.722771\"/>\n     <use style=\"fill:#1f77b4;fill-opacity:0.8;stroke:#1f77b4;stroke-opacity:0.8;\" x=\"123.571917\" xlink:href=\"#m9736d4d6ab\" y=\"162.031938\"/>\n     <use style=\"fill:#1f77b4;fill-opacity:0.8;stroke:#1f77b4;stroke-opacity:0.8;\" x=\"110.144109\" xlink:href=\"#m9736d4d6ab\" y=\"151.869201\"/>\n     <use style=\"fill:#1f77b4;fill-opacity:0.8;stroke:#1f77b4;stroke-opacity:0.8;\" x=\"157.768067\" xlink:href=\"#m9736d4d6ab\" y=\"146.191101\"/>\n     <use style=\"fill:#1f77b4;fill-opacity:0.8;stroke:#1f77b4;stroke-opacity:0.8;\" x=\"107.458548\" xlink:href=\"#m9736d4d6ab\" y=\"167.875891\"/>\n     <use style=\"fill:#1f77b4;fill-opacity:0.8;stroke:#1f77b4;stroke-opacity:0.8;\" x=\"141.47566\" xlink:href=\"#m9736d4d6ab\" y=\"144.275628\"/>\n     <use style=\"fill:#1f77b4;fill-opacity:0.8;stroke:#1f77b4;stroke-opacity:0.8;\" x=\"123.571917\" xlink:href=\"#m9736d4d6ab\" y=\"149.61962\"/>\n     <use style=\"fill:#1f77b4;fill-opacity:0.8;stroke:#1f77b4;stroke-opacity:0.8;\" x=\"114.620045\" xlink:href=\"#m9736d4d6ab\" y=\"171.944454\"/>\n     <use style=\"fill:#1f77b4;fill-opacity:0.8;stroke:#1f77b4;stroke-opacity:0.8;\" x=\"123.571917\" xlink:href=\"#m9736d4d6ab\" y=\"133.897349\"/>\n     <use style=\"fill:#1f77b4;fill-opacity:0.8;stroke:#1f77b4;stroke-opacity:0.8;\" x=\"110.144109\" xlink:href=\"#m9736d4d6ab\" y=\"165.109008\"/>\n     <use style=\"fill:#1f77b4;fill-opacity:0.8;stroke:#1f77b4;stroke-opacity:0.8;\" x=\"220.610206\" xlink:href=\"#m9736d4d6ab\" y=\"144.21101\"/>\n     <use style=\"fill:#1f77b4;fill-opacity:0.8;stroke:#1f77b4;stroke-opacity:0.8;\" x=\"110.144109\" xlink:href=\"#m9736d4d6ab\" y=\"159.316593\"/>\n     <use style=\"fill:#1f77b4;fill-opacity:0.8;stroke:#1f77b4;stroke-opacity:0.8;\" x=\"387.652131\" xlink:href=\"#m9736d4d6ab\" y=\"209.089668\"/>\n     <use style=\"fill:#1f77b4;fill-opacity:0.8;stroke:#1f77b4;stroke-opacity:0.8;\" x=\"90.449992\" xlink:href=\"#m9736d4d6ab\" y=\"146.369633\"/>\n     <use style=\"fill:#1f77b4;fill-opacity:0.8;stroke:#1f77b4;stroke-opacity:0.8;\" x=\"90.449992\" xlink:href=\"#m9736d4d6ab\" y=\"161.678159\"/>\n     <use style=\"fill:#1f77b4;fill-opacity:0.8;stroke:#1f77b4;stroke-opacity:0.8;\" x=\"145.951596\" xlink:href=\"#m9736d4d6ab\" y=\"148.62861\"/>\n     <use style=\"fill:#1f77b4;fill-opacity:0.8;stroke:#1f77b4;stroke-opacity:0.8;\" x=\"119.095981\" xlink:href=\"#m9736d4d6ab\" y=\"160.161421\"/>\n     <use style=\"fill:#1f77b4;fill-opacity:0.8;stroke:#1f77b4;stroke-opacity:0.8;\" x=\"154.903468\" xlink:href=\"#m9736d4d6ab\" y=\"157.334573\"/>\n     <use style=\"fill:#1f77b4;fill-opacity:0.8;stroke:#1f77b4;stroke-opacity:0.8;\" x=\"110.144109\" xlink:href=\"#m9736d4d6ab\" y=\"151.041713\"/>\n     <use style=\"fill:#1f77b4;fill-opacity:0.8;stroke:#1f77b4;stroke-opacity:0.8;\" x=\"114.620045\" xlink:href=\"#m9736d4d6ab\" y=\"112.365323\"/>\n     <use style=\"fill:#1f77b4;fill-opacity:0.8;stroke:#1f77b4;stroke-opacity:0.8;\" x=\"96.716302\" xlink:href=\"#m9736d4d6ab\" y=\"156.187503\"/>\n     <use style=\"fill:#1f77b4;fill-opacity:0.8;stroke:#1f77b4;stroke-opacity:0.8;\" x=\"119.095981\" xlink:href=\"#m9736d4d6ab\" y=\"148.162846\"/>\n     <use style=\"fill:#1f77b4;fill-opacity:0.8;stroke:#1f77b4;stroke-opacity:0.8;\" x=\"110.144109\" xlink:href=\"#m9736d4d6ab\" y=\"150.627969\"/>\n     <use style=\"fill:#1f77b4;fill-opacity:0.8;stroke:#1f77b4;stroke-opacity:0.8;\" x=\"156.335767\" xlink:href=\"#m9736d4d6ab\" y=\"145.832507\"/>\n     <use style=\"fill:#1f77b4;fill-opacity:0.8;stroke:#1f77b4;stroke-opacity:0.8;\" x=\"96.716302\" xlink:href=\"#m9736d4d6ab\" y=\"152.877551\"/>\n     <use style=\"fill:#1f77b4;fill-opacity:0.8;stroke:#1f77b4;stroke-opacity:0.8;\" x=\"98.506676\" xlink:href=\"#m9736d4d6ab\" y=\"154.618744\"/>\n     <use style=\"fill:#1f77b4;fill-opacity:0.8;stroke:#1f77b4;stroke-opacity:0.8;\" x=\"92.240366\" xlink:href=\"#m9736d4d6ab\" y=\"155.558217\"/>\n     <use style=\"fill:#1f77b4;fill-opacity:0.8;stroke:#1f77b4;stroke-opacity:0.8;\" x=\"123.571917\" xlink:href=\"#m9736d4d6ab\" y=\"162.859426\"/>\n     <use style=\"fill:#1f77b4;fill-opacity:0.8;stroke:#1f77b4;stroke-opacity:0.8;\" x=\"111.934484\" xlink:href=\"#m9736d4d6ab\" y=\"160.230297\"/>\n     <use style=\"fill:#1f77b4;fill-opacity:0.8;stroke:#1f77b4;stroke-opacity:0.8;\" x=\"145.951596\" xlink:href=\"#m9736d4d6ab\" y=\"139.112499\"/>\n     <use style=\"fill:#1f77b4;fill-opacity:0.8;stroke:#1f77b4;stroke-opacity:0.8;\" x=\"105.668173\" xlink:href=\"#m9736d4d6ab\" y=\"142.551292\"/>\n     <use style=\"fill:#1f77b4;fill-opacity:0.8;stroke:#1f77b4;stroke-opacity:0.8;\" x=\"145.951596\" xlink:href=\"#m9736d4d6ab\" y=\"114.287861\"/>\n     <use style=\"fill:#1f77b4;fill-opacity:0.8;stroke:#1f77b4;stroke-opacity:0.8;\" x=\"101.192238\" xlink:href=\"#m9736d4d6ab\" y=\"139.439542\"/>\n     <use style=\"fill:#1f77b4;fill-opacity:0.8;stroke:#1f77b4;stroke-opacity:0.8;\" x=\"136.999724\" xlink:href=\"#m9736d4d6ab\" y=\"149.852502\"/>\n     <use style=\"fill:#1f77b4;fill-opacity:0.8;stroke:#1f77b4;stroke-opacity:0.8;\" x=\"110.144109\" xlink:href=\"#m9736d4d6ab\" y=\"136.146931\"/>\n     <use style=\"fill:#1f77b4;fill-opacity:0.8;stroke:#1f77b4;stroke-opacity:0.8;\" x=\"145.951596\" xlink:href=\"#m9736d4d6ab\" y=\"120.080276\"/>\n     <use style=\"fill:#1f77b4;fill-opacity:0.8;stroke:#1f77b4;stroke-opacity:0.8;\" x=\"123.571917\" xlink:href=\"#m9736d4d6ab\" y=\"154.998291\"/>\n     <use style=\"fill:#1f77b4;fill-opacity:0.8;stroke:#1f77b4;stroke-opacity:0.8;\" x=\"105.668173\" xlink:href=\"#m9736d4d6ab\" y=\"154.549867\"/>\n     <use style=\"fill:#1f77b4;fill-opacity:0.8;stroke:#1f77b4;stroke-opacity:0.8;\" x=\"156.335767\" xlink:href=\"#m9736d4d6ab\" y=\"139.281561\"/>\n     <use style=\"fill:#1f77b4;fill-opacity:0.8;stroke:#1f77b4;stroke-opacity:0.8;\" x=\"90.449992\" xlink:href=\"#m9736d4d6ab\" y=\"158.781952\"/>\n     <use style=\"fill:#1f77b4;fill-opacity:0.8;stroke:#1f77b4;stroke-opacity:0.8;\" x=\"119.095981\" xlink:href=\"#m9736d4d6ab\" y=\"148.162846\"/>\n     <use style=\"fill:#1f77b4;fill-opacity:0.8;stroke:#1f77b4;stroke-opacity:0.8;\" x=\"101.192238\" xlink:href=\"#m9736d4d6ab\" y=\"145.645702\"/>\n     <use style=\"fill:#1f77b4;fill-opacity:0.8;stroke:#1f77b4;stroke-opacity:0.8;\" x=\"159.379403\" xlink:href=\"#m9736d4d6ab\" y=\"110.521218\"/>\n     <use style=\"fill:#1f77b4;fill-opacity:0.8;stroke:#1f77b4;stroke-opacity:0.8;\" x=\"98.506676\" xlink:href=\"#m9736d4d6ab\" y=\"139.723961\"/>\n     <use style=\"fill:#1f77b4;fill-opacity:0.8;stroke:#1f77b4;stroke-opacity:0.8;\" x=\"117.305607\" xlink:href=\"#m9736d4d6ab\" y=\"155.937764\"/>\n     <use style=\"fill:#1f77b4;fill-opacity:0.8;stroke:#1f77b4;stroke-opacity:0.8;\" x=\"114.620045\" xlink:href=\"#m9736d4d6ab\" y=\"158.290903\"/>\n     <use style=\"fill:#1f77b4;fill-opacity:0.8;stroke:#1f77b4;stroke-opacity:0.8;\" x=\"102.982612\" xlink:href=\"#m9736d4d6ab\" y=\"154.420542\"/>\n     <use style=\"fill:#1f77b4;fill-opacity:0.8;stroke:#1f77b4;stroke-opacity:0.8;\" x=\"128.047853\" xlink:href=\"#m9736d4d6ab\" y=\"158.523785\"/>\n     <use style=\"fill:#1f77b4;fill-opacity:0.8;stroke:#1f77b4;stroke-opacity:0.8;\" x=\"128.047853\" xlink:href=\"#m9736d4d6ab\" y=\"161.006249\"/>\n     <use style=\"fill:#1f77b4;fill-opacity:0.8;stroke:#1f77b4;stroke-opacity:0.8;\" x=\"103.877799\" xlink:href=\"#m9736d4d6ab\" y=\"141.637587\"/>\n     <use style=\"fill:#1f77b4;fill-opacity:0.8;stroke:#1f77b4;stroke-opacity:0.8;\" x=\"101.192238\" xlink:href=\"#m9736d4d6ab\" y=\"158.471765\"/>\n     <use style=\"fill:#1f77b4;fill-opacity:0.8;stroke:#1f77b4;stroke-opacity:0.8;\" x=\"94.925927\" xlink:href=\"#m9736d4d6ab\" y=\"141.620247\"/>\n     <use style=\"fill:#1f77b4;fill-opacity:0.8;stroke:#1f77b4;stroke-opacity:0.8;\" x=\"132.523788\" xlink:href=\"#m9736d4d6ab\" y=\"171.151646\"/>\n     <use style=\"fill:#1f77b4;fill-opacity:0.8;stroke:#1f77b4;stroke-opacity:0.8;\" x=\"101.192238\" xlink:href=\"#m9736d4d6ab\" y=\"145.645702\"/>\n     <use style=\"fill:#1f77b4;fill-opacity:0.8;stroke:#1f77b4;stroke-opacity:0.8;\" x=\"156.335767\" xlink:href=\"#m9736d4d6ab\" y=\"142.729427\"/>\n     <use style=\"fill:#1f77b4;fill-opacity:0.8;stroke:#1f77b4;stroke-opacity:0.8;\" x=\"94.925927\" xlink:href=\"#m9736d4d6ab\" y=\"155.687542\"/>\n     <use style=\"fill:#1f77b4;fill-opacity:0.8;stroke:#1f77b4;stroke-opacity:0.8;\" x=\"123.571917\" xlink:href=\"#m9736d4d6ab\" y=\"167.824354\"/>\n     <use style=\"fill:#1f77b4;fill-opacity:0.8;stroke:#1f77b4;stroke-opacity:0.8;\" x=\"223.474804\" xlink:href=\"#m9736d4d6ab\" y=\"150.444784\"/>\n     <use style=\"fill:#1f77b4;fill-opacity:0.8;stroke:#1f77b4;stroke-opacity:0.8;\" x=\"90.449992\" xlink:href=\"#m9736d4d6ab\" y=\"160.850671\"/>\n     <use style=\"fill:#1f77b4;fill-opacity:0.8;stroke:#1f77b4;stroke-opacity:0.8;\" x=\"115.515232\" xlink:href=\"#m9736d4d6ab\" y=\"160.402731\"/>\n     <use style=\"fill:#1f77b4;fill-opacity:0.8;stroke:#1f77b4;stroke-opacity:0.8;\" x=\"123.571917\" xlink:href=\"#m9736d4d6ab\" y=\"165.34189\"/>\n     <use style=\"fill:#1f77b4;fill-opacity:0.8;stroke:#1f77b4;stroke-opacity:0.8;\" x=\"105.668173\" xlink:href=\"#m9736d4d6ab\" y=\"161.16977\"/>\n     <use style=\"fill:#1f77b4;fill-opacity:0.8;stroke:#1f77b4;stroke-opacity:0.8;\" x=\"105.668173\" xlink:href=\"#m9736d4d6ab\" y=\"147.51622\"/>\n     <use style=\"fill:#1f77b4;fill-opacity:0.8;stroke:#1f77b4;stroke-opacity:0.8;\" x=\"98.506676\" xlink:href=\"#m9736d4d6ab\" y=\"148.412584\"/>\n     <use style=\"fill:#1f77b4;fill-opacity:0.8;stroke:#1f77b4;stroke-opacity:0.8;\" x=\"105.668173\" xlink:href=\"#m9736d4d6ab\" y=\"159.928538\"/>\n     <use style=\"fill:#1f77b4;fill-opacity:0.8;stroke:#1f77b4;stroke-opacity:0.8;\" x=\"208.614698\" xlink:href=\"#m9736d4d6ab\" y=\"156.680083\"/>\n     <use style=\"fill:#1f77b4;fill-opacity:0.8;stroke:#1f77b4;stroke-opacity:0.8;\" x=\"107.458548\" xlink:href=\"#m9736d4d6ab\" y=\"152.567364\"/>\n     <use style=\"fill:#1f77b4;fill-opacity:0.8;stroke:#1f77b4;stroke-opacity:0.8;\" x=\"283.273307\" xlink:href=\"#m9736d4d6ab\" y=\"186.189488\"/>\n     <use style=\"fill:#1f77b4;fill-opacity:0.8;stroke:#1f77b4;stroke-opacity:0.8;\" x=\"128.047853\" xlink:href=\"#m9736d4d6ab\" y=\"158.523785\"/>\n     <use style=\"fill:#1f77b4;fill-opacity:0.8;stroke:#1f77b4;stroke-opacity:0.8;\" x=\"101.192238\" xlink:href=\"#m9736d4d6ab\" y=\"152.265605\"/>\n     <use style=\"fill:#1f77b4;fill-opacity:0.8;stroke:#1f77b4;stroke-opacity:0.8;\" x=\"83.288494\" xlink:href=\"#m9736d4d6ab\" y=\"140.23235\"/>\n     <use style=\"fill:#1f77b4;fill-opacity:0.8;stroke:#1f77b4;stroke-opacity:0.8;\" x=\"128.047853\" xlink:href=\"#m9736d4d6ab\" y=\"165.557432\"/>\n     <use style=\"fill:#1f77b4;fill-opacity:0.8;stroke:#1f77b4;stroke-opacity:0.8;\" x=\"123.571917\" xlink:href=\"#m9736d4d6ab\" y=\"118.009581\"/>\n     <use style=\"fill:#1f77b4;fill-opacity:0.8;stroke:#1f77b4;stroke-opacity:0.8;\" x=\"119.095981\" xlink:href=\"#m9736d4d6ab\" y=\"161.816396\"/>\n     <use style=\"fill:#1f77b4;fill-opacity:0.8;stroke:#1f77b4;stroke-opacity:0.8;\" x=\"114.620045\" xlink:href=\"#m9736d4d6ab\" y=\"148.361048\"/>\n     <use style=\"fill:#1f77b4;fill-opacity:0.8;stroke:#1f77b4;stroke-opacity:0.8;\" x=\"114.620045\" xlink:href=\"#m9736d4d6ab\" y=\"166.979526\"/>\n     <use style=\"fill:#1f77b4;fill-opacity:0.8;stroke:#1f77b4;stroke-opacity:0.8;\" x=\"123.571917\" xlink:href=\"#m9736d4d6ab\" y=\"144.240948\"/>\n     <use style=\"fill:#1f77b4;fill-opacity:0.8;stroke:#1f77b4;stroke-opacity:0.8;\" x=\"223.474804\" xlink:href=\"#m9736d4d6ab\" y=\"146.996918\"/>\n     <use style=\"fill:#1f77b4;fill-opacity:0.8;stroke:#1f77b4;stroke-opacity:0.8;\" x=\"105.668173\" xlink:href=\"#m9736d4d6ab\" y=\"158.687307\"/>\n     <use style=\"fill:#1f77b4;fill-opacity:0.8;stroke:#1f77b4;stroke-opacity:0.8;\" x=\"136.999724\" xlink:href=\"#m9736d4d6ab\" y=\"171.367188\"/>\n     <use style=\"fill:#1f77b4;fill-opacity:0.8;stroke:#1f77b4;stroke-opacity:0.8;\" x=\"223.474804\" xlink:href=\"#m9736d4d6ab\" y=\"169.408049\"/>\n     <use style=\"fill:#1f77b4;fill-opacity:0.8;stroke:#1f77b4;stroke-opacity:0.8;\" x=\"110.144109\" xlink:href=\"#m9736d4d6ab\" y=\"153.524177\"/>\n     <use style=\"fill:#1f77b4;fill-opacity:0.8;stroke:#1f77b4;stroke-opacity:0.8;\" x=\"245.854484\" xlink:href=\"#m9736d4d6ab\" y=\"214.756364\"/>\n     <use style=\"fill:#1f77b4;fill-opacity:0.8;stroke:#1f77b4;stroke-opacity:0.8;\" x=\"119.095981\" xlink:href=\"#m9736d4d6ab\" y=\"156.851469\"/>\n     <use style=\"fill:#1f77b4;fill-opacity:0.8;stroke:#1f77b4;stroke-opacity:0.8;\" x=\"119.095981\" xlink:href=\"#m9736d4d6ab\" y=\"155.196493\"/>\n     <use style=\"fill:#1f77b4;fill-opacity:0.8;stroke:#1f77b4;stroke-opacity:0.8;\" x=\"110.144109\" xlink:href=\"#m9736d4d6ab\" y=\"142.766834\"/>\n     <use style=\"fill:#1f77b4;fill-opacity:0.8;stroke:#1f77b4;stroke-opacity:0.8;\" x=\"98.506676\" xlink:href=\"#m9736d4d6ab\" y=\"146.757608\"/>\n     <use style=\"fill:#1f77b4;fill-opacity:0.8;stroke:#1f77b4;stroke-opacity:0.8;\" x=\"216.074591\" xlink:href=\"#m9736d4d6ab\" y=\"77.738394\"/>\n     <use style=\"fill:#1f77b4;fill-opacity:0.8;stroke:#1f77b4;stroke-opacity:0.8;\" x=\"123.571917\" xlink:href=\"#m9736d4d6ab\" y=\"155.412035\"/>\n     <use style=\"fill:#1f77b4;fill-opacity:0.8;stroke:#1f77b4;stroke-opacity:0.8;\" x=\"87.76443\" xlink:href=\"#m9736d4d6ab\" y=\"158.238882\"/>\n     <use style=\"fill:#1f77b4;fill-opacity:0.8;stroke:#1f77b4;stroke-opacity:0.8;\" x=\"119.095981\" xlink:href=\"#m9736d4d6ab\" y=\"148.57659\"/>\n     <use style=\"fill:#1f77b4;fill-opacity:0.8;stroke:#1f77b4;stroke-opacity:0.8;\" x=\"90.449992\" xlink:href=\"#m9736d4d6ab\" y=\"157.54072\"/>\n     <use style=\"fill:#1f77b4;fill-opacity:0.8;stroke:#1f77b4;stroke-opacity:0.8;\" x=\"119.095981\" xlink:href=\"#m9736d4d6ab\" y=\"156.437725\"/>\n     <use style=\"fill:#1f77b4;fill-opacity:0.8;stroke:#1f77b4;stroke-opacity:0.8;\" x=\"168.331275\" xlink:href=\"#m9736d4d6ab\" y=\"160.049919\"/>\n     <use style=\"fill:#1f77b4;fill-opacity:0.8;stroke:#1f77b4;stroke-opacity:0.8;\" x=\"114.620045\" xlink:href=\"#m9736d4d6ab\" y=\"152.498487\"/>\n     <use style=\"fill:#1f77b4;fill-opacity:0.8;stroke:#1f77b4;stroke-opacity:0.8;\" x=\"105.668173\" xlink:href=\"#m9736d4d6ab\" y=\"160.342282\"/>\n     <use style=\"fill:#1f77b4;fill-opacity:0.8;stroke:#1f77b4;stroke-opacity:0.8;\" x=\"110.144109\" xlink:href=\"#m9736d4d6ab\" y=\"137.388162\"/>\n     <use style=\"fill:#1f77b4;fill-opacity:0.8;stroke:#1f77b4;stroke-opacity:0.8;\" x=\"101.192238\" xlink:href=\"#m9736d4d6ab\" y=\"156.403045\"/>\n     <use style=\"fill:#1f77b4;fill-opacity:0.8;stroke:#1f77b4;stroke-opacity:0.8;\" x=\"123.571917\" xlink:href=\"#m9736d4d6ab\" y=\"154.253552\"/>\n     <use style=\"fill:#1f77b4;fill-opacity:0.8;stroke:#1f77b4;stroke-opacity:0.8;\" x=\"119.095981\" xlink:href=\"#m9736d4d6ab\" y=\"148.57659\"/>\n     <use style=\"fill:#1f77b4;fill-opacity:0.8;stroke:#1f77b4;stroke-opacity:0.8;\" x=\"105.668173\" xlink:href=\"#m9736d4d6ab\" y=\"154.136123\"/>\n     <use style=\"fill:#1f77b4;fill-opacity:0.8;stroke:#1f77b4;stroke-opacity:0.8;\" x=\"114.620045\" xlink:href=\"#m9736d4d6ab\" y=\"139.25868\"/>\n     <use style=\"fill:#1f77b4;fill-opacity:0.8;stroke:#1f77b4;stroke-opacity:0.8;\" x=\"110.144109\" xlink:href=\"#m9736d4d6ab\" y=\"144.42181\"/>\n     <use style=\"fill:#1f77b4;fill-opacity:0.8;stroke:#1f77b4;stroke-opacity:0.8;\" x=\"90.449992\" xlink:href=\"#m9736d4d6ab\" y=\"157.954464\"/>\n     <use style=\"fill:#1f77b4;fill-opacity:0.8;stroke:#1f77b4;stroke-opacity:0.8;\" x=\"220.431168\" xlink:href=\"#m9736d4d6ab\" y=\"147.484757\"/>\n     <use style=\"fill:#1f77b4;fill-opacity:0.8;stroke:#1f77b4;stroke-opacity:0.8;\" x=\"123.571917\" xlink:href=\"#m9736d4d6ab\" y=\"156.653267\"/>\n     <use style=\"fill:#1f77b4;fill-opacity:0.8;stroke:#1f77b4;stroke-opacity:0.8;\" x=\"133.956088\" xlink:href=\"#m9736d4d6ab\" y=\"129.239398\"/>\n     <use style=\"fill:#1f77b4;fill-opacity:0.8;stroke:#1f77b4;stroke-opacity:0.8;\" x=\"101.192238\" xlink:href=\"#m9736d4d6ab\" y=\"147.714421\"/>\n     <use style=\"fill:#1f77b4;fill-opacity:0.8;stroke:#1f77b4;stroke-opacity:0.8;\" x=\"92.240366\" xlink:href=\"#m9736d4d6ab\" y=\"134.457274\"/>\n     <use style=\"fill:#1f77b4;fill-opacity:0.8;stroke:#1f77b4;stroke-opacity:0.8;\" x=\"90.449992\" xlink:href=\"#m9736d4d6ab\" y=\"158.368208\"/>\n     <use style=\"fill:#1f77b4;fill-opacity:0.8;stroke:#1f77b4;stroke-opacity:0.8;\" x=\"128.047853\" xlink:href=\"#m9736d4d6ab\" y=\"157.282553\"/>\n     <use style=\"fill:#1f77b4;fill-opacity:0.8;stroke:#1f77b4;stroke-opacity:0.8;\" x=\"96.716302\" xlink:href=\"#m9736d4d6ab\" y=\"155.360015\"/>\n     <use style=\"fill:#1f77b4;fill-opacity:0.8;stroke:#1f77b4;stroke-opacity:0.8;\" x=\"119.095981\" xlink:href=\"#m9736d4d6ab\" y=\"153.127773\"/>\n     <use style=\"fill:#1f77b4;fill-opacity:0.8;stroke:#1f77b4;stroke-opacity:0.8;\" x=\"83.288494\" xlink:href=\"#m9736d4d6ab\" y=\"113.752736\"/>\n     <use style=\"fill:#1f77b4;fill-opacity:0.8;stroke:#1f77b4;stroke-opacity:0.8;\" x=\"94.925927\" xlink:href=\"#m9736d4d6ab\" y=\"143.688967\"/>\n     <use style=\"fill:#1f77b4;fill-opacity:0.8;stroke:#1f77b4;stroke-opacity:0.8;\" x=\"193.575553\" xlink:href=\"#m9736d4d6ab\" y=\"139.295772\"/>\n     <use style=\"fill:#1f77b4;fill-opacity:0.8;stroke:#1f77b4;stroke-opacity:0.8;\" x=\"154.903468\" xlink:href=\"#m9736d4d6ab\" y=\"121.683635\"/>\n     <use style=\"fill:#1f77b4;fill-opacity:0.8;stroke:#1f77b4;stroke-opacity:0.8;\" x=\"110.144109\" xlink:href=\"#m9736d4d6ab\" y=\"166.763984\"/>\n     <use style=\"fill:#1f77b4;fill-opacity:0.8;stroke:#1f77b4;stroke-opacity:0.8;\" x=\"123.571917\" xlink:href=\"#m9736d4d6ab\" y=\"170.306818\"/>\n     <use style=\"fill:#1f77b4;fill-opacity:0.8;stroke:#1f77b4;stroke-opacity:0.8;\" x=\"105.668173\" xlink:href=\"#m9736d4d6ab\" y=\"143.37878\"/>\n     <use style=\"fill:#1f77b4;fill-opacity:0.8;stroke:#1f77b4;stroke-opacity:0.8;\" x=\"125.362291\" xlink:href=\"#m9736d4d6ab\" y=\"167.083083\"/>\n     <use style=\"fill:#1f77b4;fill-opacity:0.8;stroke:#1f77b4;stroke-opacity:0.8;\" x=\"87.76443\" xlink:href=\"#m9736d4d6ab\" y=\"140.861636\"/>\n     <use style=\"fill:#1f77b4;fill-opacity:0.8;stroke:#1f77b4;stroke-opacity:0.8;\" x=\"171.195874\" xlink:href=\"#m9736d4d6ab\" y=\"118.565223\"/>\n     <use style=\"fill:#1f77b4;fill-opacity:0.8;stroke:#1f77b4;stroke-opacity:0.8;\" x=\"223.474804\" xlink:href=\"#m9736d4d6ab\" y=\"196.99098\"/>\n     <use style=\"fill:#1f77b4;fill-opacity:0.8;stroke:#1f77b4;stroke-opacity:0.8;\" x=\"103.877799\" xlink:href=\"#m9736d4d6ab\" y=\"158.60109\"/>\n     <use style=\"fill:#1f77b4;fill-opacity:0.8;stroke:#1f77b4;stroke-opacity:0.8;\" x=\"217.566569\" xlink:href=\"#m9736d4d6ab\" y=\"122.287717\"/>\n     <use style=\"fill:#1f77b4;fill-opacity:0.8;stroke:#1f77b4;stroke-opacity:0.8;\" x=\"226.518441\" xlink:href=\"#m9736d4d6ab\" y=\"135.13112\"/>\n     <use style=\"fill:#1f77b4;fill-opacity:0.8;stroke:#1f77b4;stroke-opacity:0.8;\" x=\"123.571917\" xlink:href=\"#m9736d4d6ab\" y=\"144.240948\"/>\n     <use style=\"fill:#1f77b4;fill-opacity:0.8;stroke:#1f77b4;stroke-opacity:0.8;\" x=\"112.829671\" xlink:href=\"#m9736d4d6ab\" y=\"148.688575\"/>\n     <use style=\"fill:#1f77b4;fill-opacity:0.8;stroke:#1f77b4;stroke-opacity:0.8;\" x=\"90.449992\" xlink:href=\"#m9736d4d6ab\" y=\"162.091903\"/>\n     <use style=\"fill:#1f77b4;fill-opacity:0.8;stroke:#1f77b4;stroke-opacity:0.8;\" x=\"110.144109\" xlink:href=\"#m9736d4d6ab\" y=\"139.870626\"/>\n     <use style=\"fill:#1f77b4;fill-opacity:0.8;stroke:#1f77b4;stroke-opacity:0.8;\" x=\"101.192238\" xlink:href=\"#m9736d4d6ab\" y=\"156.816789\"/>\n     <use style=\"fill:#1f77b4;fill-opacity:0.8;stroke:#1f77b4;stroke-opacity:0.8;\" x=\"114.620045\" xlink:href=\"#m9736d4d6ab\" y=\"150.429767\"/>\n     <use style=\"fill:#1f77b4;fill-opacity:0.8;stroke:#1f77b4;stroke-opacity:0.8;\" x=\"110.144109\" xlink:href=\"#m9736d4d6ab\" y=\"158.075361\"/>\n     <use style=\"fill:#1f77b4;fill-opacity:0.8;stroke:#1f77b4;stroke-opacity:0.8;\" x=\"160.811703\" xlink:href=\"#m9736d4d6ab\" y=\"139.497103\"/>\n     <use style=\"fill:#1f77b4;fill-opacity:0.8;stroke:#1f77b4;stroke-opacity:0.8;\" x=\"119.095981\" xlink:href=\"#m9736d4d6ab\" y=\"117.545792\"/>\n     <use style=\"fill:#1f77b4;fill-opacity:0.8;stroke:#1f77b4;stroke-opacity:0.8;\" x=\"150.427532\" xlink:href=\"#m9736d4d6ab\" y=\"167.46263\"/>\n     <use style=\"fill:#1f77b4;fill-opacity:0.8;stroke:#1f77b4;stroke-opacity:0.8;\" x=\"119.095981\" xlink:href=\"#m9736d4d6ab\" y=\"171.332508\"/>\n     <use style=\"fill:#1f77b4;fill-opacity:0.8;stroke:#1f77b4;stroke-opacity:0.8;\" x=\"96.716302\" xlink:href=\"#m9736d4d6ab\" y=\"136.327792\"/>\n     <use style=\"fill:#1f77b4;fill-opacity:0.8;stroke:#1f77b4;stroke-opacity:0.8;\" x=\"159.379403\" xlink:href=\"#m9736d4d6ab\" y=\"41.563891\"/>\n     <use style=\"fill:#1f77b4;fill-opacity:0.8;stroke:#1f77b4;stroke-opacity:0.8;\" x=\"114.620045\" xlink:href=\"#m9736d4d6ab\" y=\"129.328825\"/>\n     <use style=\"fill:#1f77b4;fill-opacity:0.8;stroke:#1f77b4;stroke-opacity:0.8;\" x=\"151.322719\" xlink:href=\"#m9736d4d6ab\" y=\"161.299579\"/>\n     <use style=\"fill:#1f77b4;fill-opacity:0.8;stroke:#1f77b4;stroke-opacity:0.8;\" x=\"110.144109\" xlink:href=\"#m9736d4d6ab\" y=\"156.834129\"/>\n     <use style=\"fill:#1f77b4;fill-opacity:0.8;stroke:#1f77b4;stroke-opacity:0.8;\" x=\"87.76443\" xlink:href=\"#m9736d4d6ab\" y=\"152.860211\"/>\n     <use style=\"fill:#1f77b4;fill-opacity:0.8;stroke:#1f77b4;stroke-opacity:0.8;\" x=\"96.716302\" xlink:href=\"#m9736d4d6ab\" y=\"133.017841\"/>\n     <use style=\"fill:#1f77b4;fill-opacity:0.8;stroke:#1f77b4;stroke-opacity:0.8;\" x=\"119.095981\" xlink:href=\"#m9736d4d6ab\" y=\"172.57374\"/>\n     <use style=\"fill:#1f77b4;fill-opacity:0.8;stroke:#1f77b4;stroke-opacity:0.8;\" x=\"132.523788\" xlink:href=\"#m9736d4d6ab\" y=\"171.151646\"/>\n     <use style=\"fill:#1f77b4;fill-opacity:0.8;stroke:#1f77b4;stroke-opacity:0.8;\" x=\"94.925927\" xlink:href=\"#m9736d4d6ab\" y=\"159.824982\"/>\n     <use style=\"fill:#1f77b4;fill-opacity:0.8;stroke:#1f77b4;stroke-opacity:0.8;\" x=\"119.095981\" xlink:href=\"#m9736d4d6ab\" y=\"148.57659\"/>\n     <use style=\"fill:#1f77b4;fill-opacity:0.8;stroke:#1f77b4;stroke-opacity:0.8;\" x=\"128.047853\" xlink:href=\"#m9736d4d6ab\" y=\"145.283978\"/>\n     <use style=\"fill:#1f77b4;fill-opacity:0.8;stroke:#1f77b4;stroke-opacity:0.8;\" x=\"193.754591\" xlink:href=\"#m9736d4d6ab\" y=\"19.828928\"/>\n     <use style=\"fill:#1f77b4;fill-opacity:0.8;stroke:#1f77b4;stroke-opacity:0.8;\" x=\"96.567104\" xlink:href=\"#m9736d4d6ab\" y=\"134.941461\"/>\n     <use style=\"fill:#1f77b4;fill-opacity:0.8;stroke:#1f77b4;stroke-opacity:0.8;\" x=\"123.571917\" xlink:href=\"#m9736d4d6ab\" y=\"159.135731\"/>\n     <use style=\"fill:#1f77b4;fill-opacity:0.8;stroke:#1f77b4;stroke-opacity:0.8;\" x=\"87.76443\" xlink:href=\"#m9736d4d6ab\" y=\"142.516612\"/>\n     <use style=\"fill:#1f77b4;fill-opacity:0.8;stroke:#1f77b4;stroke-opacity:0.8;\" x=\"123.571917\" xlink:href=\"#m9736d4d6ab\" y=\"154.998291\"/>\n     <use style=\"fill:#1f77b4;fill-opacity:0.8;stroke:#1f77b4;stroke-opacity:0.8;\" x=\"83.288494\" xlink:href=\"#m9736d4d6ab\" y=\"145.611021\"/>\n     <use style=\"fill:#1f77b4;fill-opacity:0.8;stroke:#1f77b4;stroke-opacity:0.8;\" x=\"90.449992\" xlink:href=\"#m9736d4d6ab\" y=\"159.195696\"/>\n     <use style=\"fill:#1f77b4;fill-opacity:0.8;stroke:#1f77b4;stroke-opacity:0.8;\" x=\"298.133414\" xlink:href=\"#m9736d4d6ab\" y=\"102.377196\"/>\n     <use style=\"fill:#1f77b4;fill-opacity:0.8;stroke:#1f77b4;stroke-opacity:0.8;\" x=\"101.192238\" xlink:href=\"#m9736d4d6ab\" y=\"148.541909\"/>\n     <use style=\"fill:#1f77b4;fill-opacity:0.8;stroke:#1f77b4;stroke-opacity:0.8;\" x=\"238.334911\" xlink:href=\"#m9736d4d6ab\" y=\"166.620617\"/>\n     <use style=\"fill:#1f77b4;fill-opacity:0.8;stroke:#1f77b4;stroke-opacity:0.8;\" x=\"90.449992\" xlink:href=\"#m9736d4d6ab\" y=\"157.54072\"/>\n     <use style=\"fill:#1f77b4;fill-opacity:0.8;stroke:#1f77b4;stroke-opacity:0.8;\" x=\"110.144109\" xlink:href=\"#m9736d4d6ab\" y=\"142.35309\"/>\n     <use style=\"fill:#1f77b4;fill-opacity:0.8;stroke:#1f77b4;stroke-opacity:0.8;\" x=\"123.571917\" xlink:href=\"#m9736d4d6ab\" y=\"154.170803\"/>\n     <use style=\"fill:#1f77b4;fill-opacity:0.8;stroke:#1f77b4;stroke-opacity:0.8;\" x=\"103.877799\" xlink:href=\"#m9736d4d6ab\" y=\"151.153698\"/>\n     <use style=\"fill:#1f77b4;fill-opacity:0.8;stroke:#1f77b4;stroke-opacity:0.8;\" x=\"87.76443\" xlink:href=\"#m9736d4d6ab\" y=\"156.99765\"/>\n     <use style=\"fill:#1f77b4;fill-opacity:0.8;stroke:#1f77b4;stroke-opacity:0.8;\" x=\"136.999724\" xlink:href=\"#m9736d4d6ab\" y=\"138.267671\"/>\n     <use style=\"fill:#1f77b4;fill-opacity:0.8;stroke:#1f77b4;stroke-opacity:0.8;\" x=\"119.095981\" xlink:href=\"#m9736d4d6ab\" y=\"148.57659\"/>\n    </g>\n   </g>\n   <g id=\"matplotlib.axis_1\">\n    <g id=\"xtick_1\">\n     <g id=\"line2d_1\">\n      <defs>\n       <path d=\"M 0 0 \nL 0 3.5 \n\" id=\"m9744e602d0\" style=\"stroke:#000000;stroke-width:0.8;\"/>\n      </defs>\n      <g>\n       <use style=\"stroke:#000000;stroke-width:0.8;\" x=\"89.256409\" xlink:href=\"#m9744e602d0\" y=\"224.64\"/>\n      </g>\n     </g>\n     <g id=\"text_1\">\n      <!-- 10000 -->\n      <g transform=\"translate(73.350159 239.238437)scale(0.1 -0.1)\">\n       <defs>\n        <path d=\"M 794 531 \nL 1825 531 \nL 1825 4091 \nL 703 3866 \nL 703 4441 \nL 1819 4666 \nL 2450 4666 \nL 2450 531 \nL 3481 531 \nL 3481 0 \nL 794 0 \nL 794 531 \nz\n\" id=\"DejaVuSans-31\" transform=\"scale(0.015625)\"/>\n        <path d=\"M 2034 4250 \nQ 1547 4250 1301 3770 \nQ 1056 3291 1056 2328 \nQ 1056 1369 1301 889 \nQ 1547 409 2034 409 \nQ 2525 409 2770 889 \nQ 3016 1369 3016 2328 \nQ 3016 3291 2770 3770 \nQ 2525 4250 2034 4250 \nz\nM 2034 4750 \nQ 2819 4750 3233 4129 \nQ 3647 3509 3647 2328 \nQ 3647 1150 3233 529 \nQ 2819 -91 2034 -91 \nQ 1250 -91 836 529 \nQ 422 1150 422 2328 \nQ 422 3509 836 4129 \nQ 1250 4750 2034 4750 \nz\n\" id=\"DejaVuSans-30\" transform=\"scale(0.015625)\"/>\n       </defs>\n       <use xlink:href=\"#DejaVuSans-31\"/>\n       <use x=\"63.623047\" xlink:href=\"#DejaVuSans-30\"/>\n       <use x=\"127.246094\" xlink:href=\"#DejaVuSans-30\"/>\n       <use x=\"190.869141\" xlink:href=\"#DejaVuSans-30\"/>\n       <use x=\"254.492188\" xlink:href=\"#DejaVuSans-30\"/>\n      </g>\n     </g>\n    </g>\n    <g id=\"xtick_2\">\n     <g id=\"line2d_2\">\n      <g>\n       <use style=\"stroke:#000000;stroke-width:0.8;\" x=\"148.935553\" xlink:href=\"#m9744e602d0\" y=\"224.64\"/>\n      </g>\n     </g>\n     <g id=\"text_2\">\n      <!-- 20000 -->\n      <g transform=\"translate(133.029303 239.238437)scale(0.1 -0.1)\">\n       <defs>\n        <path d=\"M 1228 531 \nL 3431 531 \nL 3431 0 \nL 469 0 \nL 469 531 \nQ 828 903 1448 1529 \nQ 2069 2156 2228 2338 \nQ 2531 2678 2651 2914 \nQ 2772 3150 2772 3378 \nQ 2772 3750 2511 3984 \nQ 2250 4219 1831 4219 \nQ 1534 4219 1204 4116 \nQ 875 4013 500 3803 \nL 500 4441 \nQ 881 4594 1212 4672 \nQ 1544 4750 1819 4750 \nQ 2544 4750 2975 4387 \nQ 3406 4025 3406 3419 \nQ 3406 3131 3298 2873 \nQ 3191 2616 2906 2266 \nQ 2828 2175 2409 1742 \nQ 1991 1309 1228 531 \nz\n\" id=\"DejaVuSans-32\" transform=\"scale(0.015625)\"/>\n       </defs>\n       <use xlink:href=\"#DejaVuSans-32\"/>\n       <use x=\"63.623047\" xlink:href=\"#DejaVuSans-30\"/>\n       <use x=\"127.246094\" xlink:href=\"#DejaVuSans-30\"/>\n       <use x=\"190.869141\" xlink:href=\"#DejaVuSans-30\"/>\n       <use x=\"254.492188\" xlink:href=\"#DejaVuSans-30\"/>\n      </g>\n     </g>\n    </g>\n    <g id=\"xtick_3\">\n     <g id=\"line2d_3\">\n      <g>\n       <use style=\"stroke:#000000;stroke-width:0.8;\" x=\"208.614698\" xlink:href=\"#m9744e602d0\" y=\"224.64\"/>\n      </g>\n     </g>\n     <g id=\"text_3\">\n      <!-- 30000 -->\n      <g transform=\"translate(192.708448 239.238437)scale(0.1 -0.1)\">\n       <defs>\n        <path d=\"M 2597 2516 \nQ 3050 2419 3304 2112 \nQ 3559 1806 3559 1356 \nQ 3559 666 3084 287 \nQ 2609 -91 1734 -91 \nQ 1441 -91 1130 -33 \nQ 819 25 488 141 \nL 488 750 \nQ 750 597 1062 519 \nQ 1375 441 1716 441 \nQ 2309 441 2620 675 \nQ 2931 909 2931 1356 \nQ 2931 1769 2642 2001 \nQ 2353 2234 1838 2234 \nL 1294 2234 \nL 1294 2753 \nL 1863 2753 \nQ 2328 2753 2575 2939 \nQ 2822 3125 2822 3475 \nQ 2822 3834 2567 4026 \nQ 2313 4219 1838 4219 \nQ 1578 4219 1281 4162 \nQ 984 4106 628 3988 \nL 628 4550 \nQ 988 4650 1302 4700 \nQ 1616 4750 1894 4750 \nQ 2613 4750 3031 4423 \nQ 3450 4097 3450 3541 \nQ 3450 3153 3228 2886 \nQ 3006 2619 2597 2516 \nz\n\" id=\"DejaVuSans-33\" transform=\"scale(0.015625)\"/>\n       </defs>\n       <use xlink:href=\"#DejaVuSans-33\"/>\n       <use x=\"63.623047\" xlink:href=\"#DejaVuSans-30\"/>\n       <use x=\"127.246094\" xlink:href=\"#DejaVuSans-30\"/>\n       <use x=\"190.869141\" xlink:href=\"#DejaVuSans-30\"/>\n       <use x=\"254.492188\" xlink:href=\"#DejaVuSans-30\"/>\n      </g>\n     </g>\n    </g>\n    <g id=\"xtick_4\">\n     <g id=\"line2d_4\">\n      <g>\n       <use style=\"stroke:#000000;stroke-width:0.8;\" x=\"268.293842\" xlink:href=\"#m9744e602d0\" y=\"224.64\"/>\n      </g>\n     </g>\n     <g id=\"text_4\">\n      <!-- 40000 -->\n      <g transform=\"translate(252.387592 239.238437)scale(0.1 -0.1)\">\n       <defs>\n        <path d=\"M 2419 4116 \nL 825 1625 \nL 2419 1625 \nL 2419 4116 \nz\nM 2253 4666 \nL 3047 4666 \nL 3047 1625 \nL 3713 1625 \nL 3713 1100 \nL 3047 1100 \nL 3047 0 \nL 2419 0 \nL 2419 1100 \nL 313 1100 \nL 313 1709 \nL 2253 4666 \nz\n\" id=\"DejaVuSans-34\" transform=\"scale(0.015625)\"/>\n       </defs>\n       <use xlink:href=\"#DejaVuSans-34\"/>\n       <use x=\"63.623047\" xlink:href=\"#DejaVuSans-30\"/>\n       <use x=\"127.246094\" xlink:href=\"#DejaVuSans-30\"/>\n       <use x=\"190.869141\" xlink:href=\"#DejaVuSans-30\"/>\n       <use x=\"254.492188\" xlink:href=\"#DejaVuSans-30\"/>\n      </g>\n     </g>\n    </g>\n    <g id=\"xtick_5\">\n     <g id=\"line2d_5\">\n      <g>\n       <use style=\"stroke:#000000;stroke-width:0.8;\" x=\"327.972986\" xlink:href=\"#m9744e602d0\" y=\"224.64\"/>\n      </g>\n     </g>\n     <g id=\"text_5\">\n      <!-- 50000 -->\n      <g transform=\"translate(312.066736 239.238437)scale(0.1 -0.1)\">\n       <defs>\n        <path d=\"M 691 4666 \nL 3169 4666 \nL 3169 4134 \nL 1269 4134 \nL 1269 2991 \nQ 1406 3038 1543 3061 \nQ 1681 3084 1819 3084 \nQ 2600 3084 3056 2656 \nQ 3513 2228 3513 1497 \nQ 3513 744 3044 326 \nQ 2575 -91 1722 -91 \nQ 1428 -91 1123 -41 \nQ 819 9 494 109 \nL 494 744 \nQ 775 591 1075 516 \nQ 1375 441 1709 441 \nQ 2250 441 2565 725 \nQ 2881 1009 2881 1497 \nQ 2881 1984 2565 2268 \nQ 2250 2553 1709 2553 \nQ 1456 2553 1204 2497 \nQ 953 2441 691 2322 \nL 691 4666 \nz\n\" id=\"DejaVuSans-35\" transform=\"scale(0.015625)\"/>\n       </defs>\n       <use xlink:href=\"#DejaVuSans-35\"/>\n       <use x=\"63.623047\" xlink:href=\"#DejaVuSans-30\"/>\n       <use x=\"127.246094\" xlink:href=\"#DejaVuSans-30\"/>\n       <use x=\"190.869141\" xlink:href=\"#DejaVuSans-30\"/>\n       <use x=\"254.492188\" xlink:href=\"#DejaVuSans-30\"/>\n      </g>\n     </g>\n    </g>\n    <g id=\"xtick_6\">\n     <g id=\"line2d_6\">\n      <g>\n       <use style=\"stroke:#000000;stroke-width:0.8;\" x=\"387.652131\" xlink:href=\"#m9744e602d0\" y=\"224.64\"/>\n      </g>\n     </g>\n     <g id=\"text_6\">\n      <!-- 60000 -->\n      <g transform=\"translate(371.745881 239.238437)scale(0.1 -0.1)\">\n       <defs>\n        <path d=\"M 2113 2584 \nQ 1688 2584 1439 2293 \nQ 1191 2003 1191 1497 \nQ 1191 994 1439 701 \nQ 1688 409 2113 409 \nQ 2538 409 2786 701 \nQ 3034 994 3034 1497 \nQ 3034 2003 2786 2293 \nQ 2538 2584 2113 2584 \nz\nM 3366 4563 \nL 3366 3988 \nQ 3128 4100 2886 4159 \nQ 2644 4219 2406 4219 \nQ 1781 4219 1451 3797 \nQ 1122 3375 1075 2522 \nQ 1259 2794 1537 2939 \nQ 1816 3084 2150 3084 \nQ 2853 3084 3261 2657 \nQ 3669 2231 3669 1497 \nQ 3669 778 3244 343 \nQ 2819 -91 2113 -91 \nQ 1303 -91 875 529 \nQ 447 1150 447 2328 \nQ 447 3434 972 4092 \nQ 1497 4750 2381 4750 \nQ 2619 4750 2861 4703 \nQ 3103 4656 3366 4563 \nz\n\" id=\"DejaVuSans-36\" transform=\"scale(0.015625)\"/>\n       </defs>\n       <use xlink:href=\"#DejaVuSans-36\"/>\n       <use x=\"63.623047\" xlink:href=\"#DejaVuSans-30\"/>\n       <use x=\"127.246094\" xlink:href=\"#DejaVuSans-30\"/>\n       <use x=\"190.869141\" xlink:href=\"#DejaVuSans-30\"/>\n       <use x=\"254.492188\" xlink:href=\"#DejaVuSans-30\"/>\n      </g>\n     </g>\n    </g>\n    <g id=\"text_7\">\n     <!-- SALBEGIN -->\n     <g transform=\"translate(210.316406 252.916562)scale(0.1 -0.1)\">\n      <defs>\n       <path d=\"M 3425 4513 \nL 3425 3897 \nQ 3066 4069 2747 4153 \nQ 2428 4238 2131 4238 \nQ 1616 4238 1336 4038 \nQ 1056 3838 1056 3469 \nQ 1056 3159 1242 3001 \nQ 1428 2844 1947 2747 \nL 2328 2669 \nQ 3034 2534 3370 2195 \nQ 3706 1856 3706 1288 \nQ 3706 609 3251 259 \nQ 2797 -91 1919 -91 \nQ 1588 -91 1214 -16 \nQ 841 59 441 206 \nL 441 856 \nQ 825 641 1194 531 \nQ 1563 422 1919 422 \nQ 2459 422 2753 634 \nQ 3047 847 3047 1241 \nQ 3047 1584 2836 1778 \nQ 2625 1972 2144 2069 \nL 1759 2144 \nQ 1053 2284 737 2584 \nQ 422 2884 422 3419 \nQ 422 4038 858 4394 \nQ 1294 4750 2059 4750 \nQ 2388 4750 2728 4690 \nQ 3069 4631 3425 4513 \nz\n\" id=\"DejaVuSans-53\" transform=\"scale(0.015625)\"/>\n       <path d=\"M 2188 4044 \nL 1331 1722 \nL 3047 1722 \nL 2188 4044 \nz\nM 1831 4666 \nL 2547 4666 \nL 4325 0 \nL 3669 0 \nL 3244 1197 \nL 1141 1197 \nL 716 0 \nL 50 0 \nL 1831 4666 \nz\n\" id=\"DejaVuSans-41\" transform=\"scale(0.015625)\"/>\n       <path d=\"M 628 4666 \nL 1259 4666 \nL 1259 531 \nL 3531 531 \nL 3531 0 \nL 628 0 \nL 628 4666 \nz\n\" id=\"DejaVuSans-4c\" transform=\"scale(0.015625)\"/>\n       <path d=\"M 1259 2228 \nL 1259 519 \nL 2272 519 \nQ 2781 519 3026 730 \nQ 3272 941 3272 1375 \nQ 3272 1813 3026 2020 \nQ 2781 2228 2272 2228 \nL 1259 2228 \nz\nM 1259 4147 \nL 1259 2741 \nL 2194 2741 \nQ 2656 2741 2882 2914 \nQ 3109 3088 3109 3444 \nQ 3109 3797 2882 3972 \nQ 2656 4147 2194 4147 \nL 1259 4147 \nz\nM 628 4666 \nL 2241 4666 \nQ 2963 4666 3353 4366 \nQ 3744 4066 3744 3513 \nQ 3744 3084 3544 2831 \nQ 3344 2578 2956 2516 \nQ 3422 2416 3680 2098 \nQ 3938 1781 3938 1306 \nQ 3938 681 3513 340 \nQ 3088 0 2303 0 \nL 628 0 \nL 628 4666 \nz\n\" id=\"DejaVuSans-42\" transform=\"scale(0.015625)\"/>\n       <path d=\"M 628 4666 \nL 3578 4666 \nL 3578 4134 \nL 1259 4134 \nL 1259 2753 \nL 3481 2753 \nL 3481 2222 \nL 1259 2222 \nL 1259 531 \nL 3634 531 \nL 3634 0 \nL 628 0 \nL 628 4666 \nz\n\" id=\"DejaVuSans-45\" transform=\"scale(0.015625)\"/>\n       <path d=\"M 3809 666 \nL 3809 1919 \nL 2778 1919 \nL 2778 2438 \nL 4434 2438 \nL 4434 434 \nQ 4069 175 3628 42 \nQ 3188 -91 2688 -91 \nQ 1594 -91 976 548 \nQ 359 1188 359 2328 \nQ 359 3472 976 4111 \nQ 1594 4750 2688 4750 \nQ 3144 4750 3555 4637 \nQ 3966 4525 4313 4306 \nL 4313 3634 \nQ 3963 3931 3569 4081 \nQ 3175 4231 2741 4231 \nQ 1884 4231 1454 3753 \nQ 1025 3275 1025 2328 \nQ 1025 1384 1454 906 \nQ 1884 428 2741 428 \nQ 3075 428 3337 486 \nQ 3600 544 3809 666 \nz\n\" id=\"DejaVuSans-47\" transform=\"scale(0.015625)\"/>\n       <path d=\"M 628 4666 \nL 1259 4666 \nL 1259 0 \nL 628 0 \nL 628 4666 \nz\n\" id=\"DejaVuSans-49\" transform=\"scale(0.015625)\"/>\n       <path d=\"M 628 4666 \nL 1478 4666 \nL 3547 763 \nL 3547 4666 \nL 4159 4666 \nL 4159 0 \nL 3309 0 \nL 1241 3903 \nL 1241 0 \nL 628 0 \nL 628 4666 \nz\n\" id=\"DejaVuSans-4e\" transform=\"scale(0.015625)\"/>\n      </defs>\n      <use xlink:href=\"#DejaVuSans-53\"/>\n      <use x=\"65.351562\" xlink:href=\"#DejaVuSans-41\"/>\n      <use x=\"133.759766\" xlink:href=\"#DejaVuSans-4c\"/>\n      <use x=\"189.472656\" xlink:href=\"#DejaVuSans-42\"/>\n      <use x=\"258.076172\" xlink:href=\"#DejaVuSans-45\"/>\n      <use x=\"321.259766\" xlink:href=\"#DejaVuSans-47\"/>\n      <use x=\"398.75\" xlink:href=\"#DejaVuSans-49\"/>\n      <use x=\"428.242188\" xlink:href=\"#DejaVuSans-4e\"/>\n     </g>\n    </g>\n   </g>\n   <g id=\"matplotlib.axis_2\">\n    <g id=\"ytick_1\">\n     <g id=\"line2d_7\">\n      <defs>\n       <path d=\"M 0 0 \nL -3.5 0 \n\" id=\"m8827042ec5\" style=\"stroke:#000000;stroke-width:0.8;\"/>\n      </defs>\n      <g>\n       <use style=\"stroke:#000000;stroke-width:0.8;\" x=\"68.070312\" xlink:href=\"#m8827042ec5\" y=\"204.192494\"/>\n      </g>\n     </g>\n     <g id=\"text_8\">\n      <!-- −20000 -->\n      <g transform=\"translate(20.878125 207.991713)scale(0.1 -0.1)\">\n       <defs>\n        <path d=\"M 678 2272 \nL 4684 2272 \nL 4684 1741 \nL 678 1741 \nL 678 2272 \nz\n\" id=\"DejaVuSans-2212\" transform=\"scale(0.015625)\"/>\n       </defs>\n       <use xlink:href=\"#DejaVuSans-2212\"/>\n       <use x=\"83.789062\" xlink:href=\"#DejaVuSans-32\"/>\n       <use x=\"147.412109\" xlink:href=\"#DejaVuSans-30\"/>\n       <use x=\"211.035156\" xlink:href=\"#DejaVuSans-30\"/>\n       <use x=\"274.658203\" xlink:href=\"#DejaVuSans-30\"/>\n       <use x=\"338.28125\" xlink:href=\"#DejaVuSans-30\"/>\n      </g>\n     </g>\n    </g>\n    <g id=\"ytick_2\">\n     <g id=\"line2d_8\">\n      <g>\n       <use style=\"stroke:#000000;stroke-width:0.8;\" x=\"68.070312\" xlink:href=\"#m8827042ec5\" y=\"176.609563\"/>\n      </g>\n     </g>\n     <g id=\"text_9\">\n      <!-- −10000 -->\n      <g transform=\"translate(20.878125 180.408782)scale(0.1 -0.1)\">\n       <use xlink:href=\"#DejaVuSans-2212\"/>\n       <use x=\"83.789062\" xlink:href=\"#DejaVuSans-31\"/>\n       <use x=\"147.412109\" xlink:href=\"#DejaVuSans-30\"/>\n       <use x=\"211.035156\" xlink:href=\"#DejaVuSans-30\"/>\n       <use x=\"274.658203\" xlink:href=\"#DejaVuSans-30\"/>\n       <use x=\"338.28125\" xlink:href=\"#DejaVuSans-30\"/>\n      </g>\n     </g>\n    </g>\n    <g id=\"ytick_3\">\n     <g id=\"line2d_9\">\n      <g>\n       <use style=\"stroke:#000000;stroke-width:0.8;\" x=\"68.070312\" xlink:href=\"#m8827042ec5\" y=\"149.026632\"/>\n      </g>\n     </g>\n     <g id=\"text_10\">\n      <!-- 0 -->\n      <g transform=\"translate(54.707813 152.825851)scale(0.1 -0.1)\">\n       <use xlink:href=\"#DejaVuSans-30\"/>\n      </g>\n     </g>\n    </g>\n    <g id=\"ytick_4\">\n     <g id=\"line2d_10\">\n      <g>\n       <use style=\"stroke:#000000;stroke-width:0.8;\" x=\"68.070312\" xlink:href=\"#m8827042ec5\" y=\"121.443701\"/>\n      </g>\n     </g>\n     <g id=\"text_11\">\n      <!-- 10000 -->\n      <g transform=\"translate(29.257812 125.24292)scale(0.1 -0.1)\">\n       <use xlink:href=\"#DejaVuSans-31\"/>\n       <use x=\"63.623047\" xlink:href=\"#DejaVuSans-30\"/>\n       <use x=\"127.246094\" xlink:href=\"#DejaVuSans-30\"/>\n       <use x=\"190.869141\" xlink:href=\"#DejaVuSans-30\"/>\n       <use x=\"254.492188\" xlink:href=\"#DejaVuSans-30\"/>\n      </g>\n     </g>\n    </g>\n    <g id=\"ytick_5\">\n     <g id=\"line2d_11\">\n      <g>\n       <use style=\"stroke:#000000;stroke-width:0.8;\" x=\"68.070312\" xlink:href=\"#m8827042ec5\" y=\"93.86077\"/>\n      </g>\n     </g>\n     <g id=\"text_12\">\n      <!-- 20000 -->\n      <g transform=\"translate(29.257812 97.659989)scale(0.1 -0.1)\">\n       <use xlink:href=\"#DejaVuSans-32\"/>\n       <use x=\"63.623047\" xlink:href=\"#DejaVuSans-30\"/>\n       <use x=\"127.246094\" xlink:href=\"#DejaVuSans-30\"/>\n       <use x=\"190.869141\" xlink:href=\"#DejaVuSans-30\"/>\n       <use x=\"254.492188\" xlink:href=\"#DejaVuSans-30\"/>\n      </g>\n     </g>\n    </g>\n    <g id=\"ytick_6\">\n     <g id=\"line2d_12\">\n      <g>\n       <use style=\"stroke:#000000;stroke-width:0.8;\" x=\"68.070312\" xlink:href=\"#m8827042ec5\" y=\"66.277839\"/>\n      </g>\n     </g>\n     <g id=\"text_13\">\n      <!-- 30000 -->\n      <g transform=\"translate(29.257812 70.077058)scale(0.1 -0.1)\">\n       <use xlink:href=\"#DejaVuSans-33\"/>\n       <use x=\"63.623047\" xlink:href=\"#DejaVuSans-30\"/>\n       <use x=\"127.246094\" xlink:href=\"#DejaVuSans-30\"/>\n       <use x=\"190.869141\" xlink:href=\"#DejaVuSans-30\"/>\n       <use x=\"254.492188\" xlink:href=\"#DejaVuSans-30\"/>\n      </g>\n     </g>\n    </g>\n    <g id=\"ytick_7\">\n     <g id=\"line2d_13\">\n      <g>\n       <use style=\"stroke:#000000;stroke-width:0.8;\" x=\"68.070312\" xlink:href=\"#m8827042ec5\" y=\"38.694908\"/>\n      </g>\n     </g>\n     <g id=\"text_14\">\n      <!-- 40000 -->\n      <g transform=\"translate(29.257812 42.494127)scale(0.1 -0.1)\">\n       <use xlink:href=\"#DejaVuSans-34\"/>\n       <use x=\"63.623047\" xlink:href=\"#DejaVuSans-30\"/>\n       <use x=\"127.246094\" xlink:href=\"#DejaVuSans-30\"/>\n       <use x=\"190.869141\" xlink:href=\"#DejaVuSans-30\"/>\n       <use x=\"254.492188\" xlink:href=\"#DejaVuSans-30\"/>\n      </g>\n     </g>\n    </g>\n    <g id=\"ytick_8\">\n     <g id=\"line2d_14\">\n      <g>\n       <use style=\"stroke:#000000;stroke-width:0.8;\" x=\"68.070312\" xlink:href=\"#m8827042ec5\" y=\"11.111977\"/>\n      </g>\n     </g>\n     <g id=\"text_15\">\n      <!-- 50000 -->\n      <g transform=\"translate(29.257812 14.911196)scale(0.1 -0.1)\">\n       <use xlink:href=\"#DejaVuSans-35\"/>\n       <use x=\"63.623047\" xlink:href=\"#DejaVuSans-30\"/>\n       <use x=\"127.246094\" xlink:href=\"#DejaVuSans-30\"/>\n       <use x=\"190.869141\" xlink:href=\"#DejaVuSans-30\"/>\n       <use x=\"254.492188\" xlink:href=\"#DejaVuSans-30\"/>\n      </g>\n     </g>\n    </g>\n    <g id=\"text_16\">\n     <!-- SALARY -->\n     <g transform=\"translate(14.798437 135.136406)rotate(-90)scale(0.1 -0.1)\">\n      <defs>\n       <path d=\"M 2841 2188 \nQ 3044 2119 3236 1894 \nQ 3428 1669 3622 1275 \nL 4263 0 \nL 3584 0 \nL 2988 1197 \nQ 2756 1666 2539 1819 \nQ 2322 1972 1947 1972 \nL 1259 1972 \nL 1259 0 \nL 628 0 \nL 628 4666 \nL 2053 4666 \nQ 2853 4666 3247 4331 \nQ 3641 3997 3641 3322 \nQ 3641 2881 3436 2590 \nQ 3231 2300 2841 2188 \nz\nM 1259 4147 \nL 1259 2491 \nL 2053 2491 \nQ 2509 2491 2742 2702 \nQ 2975 2913 2975 3322 \nQ 2975 3731 2742 3939 \nQ 2509 4147 2053 4147 \nL 1259 4147 \nz\n\" id=\"DejaVuSans-52\" transform=\"scale(0.015625)\"/>\n       <path d=\"M -13 4666 \nL 666 4666 \nL 1959 2747 \nL 3244 4666 \nL 3922 4666 \nL 2272 2222 \nL 2272 0 \nL 1638 0 \nL 1638 2222 \nL -13 4666 \nz\n\" id=\"DejaVuSans-59\" transform=\"scale(0.015625)\"/>\n      </defs>\n      <use xlink:href=\"#DejaVuSans-53\"/>\n      <use x=\"65.351562\" xlink:href=\"#DejaVuSans-41\"/>\n      <use x=\"133.759766\" xlink:href=\"#DejaVuSans-4c\"/>\n      <use x=\"191.722656\" xlink:href=\"#DejaVuSans-41\"/>\n      <use x=\"260.130859\" xlink:href=\"#DejaVuSans-52\"/>\n      <use x=\"323.238281\" xlink:href=\"#DejaVuSans-59\"/>\n     </g>\n    </g>\n   </g>\n   <g id=\"line2d_15\">\n    <path clip-path=\"url(#pb15727404f)\" d=\"M 68.070312 149.026632 \nL 402.870313 149.026632 \n\" style=\"fill:none;stroke:#333333;stroke-dasharray:1.5,2.475;stroke-dashoffset:0;stroke-width:1.5;\"/>\n   </g>\n   <g id=\"patch_3\">\n    <path d=\"M 68.070312 224.64 \nL 68.070312 7.2 \n\" style=\"fill:none;stroke:#000000;stroke-linecap:square;stroke-linejoin:miter;stroke-width:0.8;\"/>\n   </g>\n   <g id=\"patch_4\">\n    <path d=\"M 402.870313 224.64 \nL 402.870313 7.2 \n\" style=\"fill:none;stroke:#000000;stroke-linecap:square;stroke-linejoin:miter;stroke-width:0.8;\"/>\n   </g>\n   <g id=\"patch_5\">\n    <path d=\"M 68.070312 224.64 \nL 402.870313 224.64 \n\" style=\"fill:none;stroke:#000000;stroke-linecap:square;stroke-linejoin:miter;stroke-width:0.8;\"/>\n   </g>\n   <g id=\"patch_6\">\n    <path d=\"M 68.070312 7.2 \nL 402.870313 7.2 \n\" style=\"fill:none;stroke:#000000;stroke-linecap:square;stroke-linejoin:miter;stroke-width:0.8;\"/>\n   </g>\n  </g>\n </g>\n <defs>\n  <clipPath id=\"pb15727404f\">\n   <rect height=\"217.44\" width=\"334.8\" x=\"68.070312\" y=\"7.2\"/>\n  </clipPath>\n </defs>\n</svg>\n",
      "image/png": "[encoded data removed]"
     },
     "metadata": {
      "needs_background": "light"
     }
    }
   ],
   "source": [
    "sns.residplot(x = X_train[\"SALBEGIN\"], y = y_train)"
   ]
  },
  {
   "cell_type": "code",
   "execution_count": null,
   "metadata": {},
   "outputs": [],
   "source": []
  }
 ]
}